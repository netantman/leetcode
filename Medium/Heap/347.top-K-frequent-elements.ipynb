{
 "cells": [
  {
   "cell_type": "markdown",
   "metadata": {},
   "source": [
    "## Attempt 1 - Accepted"
   ]
  },
  {
   "cell_type": "code",
   "execution_count": null,
   "metadata": {},
   "outputs": [],
   "source": [
    "import heapq\n",
    "\n",
    "class Solution:\n",
    "    def topKFrequent(self, nums: List[int], k: int) -> List[int]:\n",
    "        cache=dict()\n",
    "        for n in nums:\n",
    "            if n in cache:\n",
    "                cache[n]+=1\n",
    "            else:\n",
    "                cache[n]=1\n",
    "        \n",
    "        # print(cache)\n",
    "        q=[]\n",
    "        for n, cnt in cache.items():\n",
    "            q.append((n, cnt))\n",
    "        res=heapq.nlargest(k, q, key=lambda p: p[1])\n",
    "        res=[r[0] for r in res]\n",
    "        return res"
   ]
  },
  {
   "cell_type": "markdown",
   "metadata": {},
   "source": [
    "## Lessons and Thoughts\n",
    "- `nlargest` and `nsmallest` in `heapq`. Also the way to specify key functions."
   ]
  }
 ],
 "metadata": {
  "kernelspec": {
   "display_name": "Python 3",
   "language": "python",
   "name": "python3"
  },
  "language_info": {
   "codemirror_mode": {
    "name": "ipython",
    "version": 3
   },
   "file_extension": ".py",
   "mimetype": "text/x-python",
   "name": "python",
   "nbconvert_exporter": "python",
   "pygments_lexer": "ipython3",
   "version": "3.7.3"
  }
 },
 "nbformat": 4,
 "nbformat_minor": 2
}
