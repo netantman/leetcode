{
 "cells": [
  {
   "cell_type": "markdown",
   "metadata": {},
   "source": [
    "## Attempt 1 - Did not cache already visited location"
   ]
  },
  {
   "cell_type": "code",
   "execution_count": null,
   "metadata": {},
   "outputs": [],
   "source": [
    "import heapq\n",
    "\n",
    "class Solution:\n",
    "    def kthSmallest(self, matrix: List[List[int]], k: int) -> int:\n",
    "        n=len(matrix)\n",
    "        q=[(matrix[0][0], 0, 0)]\n",
    "        cnt=0\n",
    "        while len(q)>0:\n",
    "            head=heapq.heappop(q)\n",
    "            cnt+=1\n",
    "            if cnt==k:\n",
    "                return head[0]\n",
    "            _,r,c=head\n",
    "            if r+1<n:\n",
    "                heapq.heappush(q, (matrix[r+1][c], r+1, c))\n",
    "            if c+1<n:\n",
    "                heapq.heappush(q, (matrix[r][c+1], r, c+1))"
   ]
  },
  {
   "cell_type": "markdown",
   "metadata": {},
   "source": [
    "## Attempt 2 - Accepted"
   ]
  },
  {
   "cell_type": "code",
   "execution_count": null,
   "metadata": {},
   "outputs": [],
   "source": [
    "import heapq\n",
    "\n",
    "class Solution:\n",
    "    def kthSmallest(self, matrix: List[List[int]], k: int) -> int:\n",
    "        n=len(matrix)\n",
    "        q=[(matrix[0][0], 0, 0)]\n",
    "        cnt=0\n",
    "        while len(q)>0:\n",
    "            head=heapq.heappop(q)\n",
    "            cnt+=1\n",
    "            if cnt==k:\n",
    "                return head[0]\n",
    "            _,r,c=head\n",
    "            if r+1<n and ((matrix[r+1][c], r+1, c) not in q):\n",
    "                heapq.heappush(q, (matrix[r+1][c], r+1, c))\n",
    "            if c+1<n and ((matrix[r][c+1], r, c+1) not in q):\n",
    "                heapq.heappush(q, (matrix[r][c+1], r, c+1))"
   ]
  },
  {
   "cell_type": "markdown",
   "metadata": {},
   "source": [
    "## Lessons and Thoughts\n",
    "- Do remember to check if the element is there before you push, especially for problems with graph like structure!"
   ]
  }
 ],
 "metadata": {
  "kernelspec": {
   "display_name": "Python 3",
   "language": "python",
   "name": "python3"
  },
  "language_info": {
   "codemirror_mode": {
    "name": "ipython",
    "version": 3
   },
   "file_extension": ".py",
   "mimetype": "text/x-python",
   "name": "python",
   "nbconvert_exporter": "python",
   "pygments_lexer": "ipython3",
   "version": "3.7.3"
  }
 },
 "nbformat": 4,
 "nbformat_minor": 2
}
