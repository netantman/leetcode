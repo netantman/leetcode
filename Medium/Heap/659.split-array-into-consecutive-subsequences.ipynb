{
 "cells": [
  {
   "cell_type": "markdown",
   "metadata": {},
   "source": [
    "## Attempt 1 - Accepted"
   ]
  },
  {
   "cell_type": "code",
   "execution_count": null,
   "metadata": {},
   "outputs": [],
   "source": [
    "import heapq\n",
    "from collections import defaultdict\n",
    "\n",
    "class Solution:\n",
    "    def isPossible(self, nums):\n",
    "        \"\"\"\n",
    "        :type nums: List[int]\n",
    "        :rtype: bool\n",
    "        \"\"\"\n",
    "\n",
    "        chains = defaultdict(list)\n",
    "        \n",
    "        for i in nums:\n",
    "            if not chains[i-1]:\n",
    "                heapq.heappush(chains[i],1)\n",
    "            else:\n",
    "                min_len = heapq.heappop(chains[i-1])\n",
    "                heapq.heappush(chains[i],min_len+1)\n",
    "\n",
    "        for _,chain in chains.items():\n",
    "            if chain and chain[0] < 3:\n",
    "                return False\n",
    "        return True"
   ]
  },
  {
   "cell_type": "markdown",
   "metadata": {},
   "source": [
    "## Lessons and Thoughts\n",
    "- The above algo is from the leetcode app. The special treatment is to maintain a `dict` of `heapq`, where the dictionary is keyed by the last element for the subsequence and the heapq contains the lengths."
   ]
  }
 ],
 "metadata": {
  "kernelspec": {
   "display_name": "Python 3",
   "language": "python",
   "name": "python3"
  },
  "language_info": {
   "codemirror_mode": {
    "name": "ipython",
    "version": 3
   },
   "file_extension": ".py",
   "mimetype": "text/x-python",
   "name": "python",
   "nbconvert_exporter": "python",
   "pygments_lexer": "ipython3",
   "version": "3.7.3"
  }
 },
 "nbformat": 4,
 "nbformat_minor": 2
}
