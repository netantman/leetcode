{
 "cells": [
  {
   "cell_type": "markdown",
   "metadata": {},
   "source": [
    "## Attempt 1 - Wrong Answer"
   ]
  },
  {
   "cell_type": "code",
   "execution_count": null,
   "metadata": {},
   "outputs": [],
   "source": [
    "class Solution:\n",
    "    def assignTasks(self, servers: List[int], tasks: List[int]) -> List[int]:\n",
    "        jobs = []\n",
    "        idle = [(s, idx) for idx, s in enumerate(servers)]\n",
    "        heapq.heapify(idle)\n",
    "        heapq.heapify(jobs)\n",
    "        busy = []\n",
    "        n, m = len(servers), len(tasks)\n",
    "        res = [None] * m\n",
    "        for t in range(4 * (10 ** 5)):\n",
    "            if t < m:\n",
    "                jobs.append(t)\n",
    "            if not jobs:\n",
    "                break\n",
    "            while busy and busy[0][0] <= t:\n",
    "                _, idx = heapq.heappop(busy)\n",
    "                heapq.heappush(idle, (servers[idx], idx))\n",
    "            if idle:\n",
    "                job = jobs.pop(0)\n",
    "                _, idx = heapq.heappop(idle)\n",
    "                res[job] = idx\n",
    "                heapq.heappush(busy, (t + tasks[job], idx))\n",
    "        return res"
   ]
  },
  {
   "cell_type": "markdown",
   "metadata": {},
   "source": [
    "## Attempt 2 - Accepted"
   ]
  },
  {
   "cell_type": "code",
   "execution_count": null,
   "metadata": {},
   "outputs": [],
   "source": [
    "class Solution:\n",
    "    def assignTasks(self, servers: List[int], tasks: List[int]) -> List[int]:\n",
    "        # 工作中的服务器，存储二元组 (t, idx)\n",
    "        busy = list()\n",
    "\n",
    "        # 空闲的服务器，存储二元组 (w, idx)\n",
    "        idle = [(w, i) for i, w in enumerate(servers)]\n",
    "        heapq.heapify(idle)\n",
    "        \n",
    "        ts = 0\n",
    "        # 将优先队列 busy 中满足 t<=ts 依次取出并放入优先队列 idle\n",
    "        def release():\n",
    "            while busy and busy[0][0] <= ts:\n",
    "                _, idx = heapq.heappop(busy)\n",
    "                heapq.heappush(idle, (servers[idx], idx))\n",
    "        \n",
    "        ans = list()\n",
    "        for i, task in enumerate(tasks):\n",
    "            ts = max(ts, i)\n",
    "            release()\n",
    "            if not idle:\n",
    "                ts = busy[0][0]\n",
    "                release()\n",
    "                \n",
    "            _, idx = heapq.heappop(idle)\n",
    "            ans.append(idx)\n",
    "            heapq.heappush(busy, (ts + task, idx))\n",
    "        \n",
    "        return ans"
   ]
  },
  {
   "cell_type": "markdown",
   "metadata": {},
   "source": [
    "## Lessons and Thoughts\n",
    "- The accepted solution is from the apps, but not sure why my own version does not work, since it seems all critical details are the same."
   ]
  }
 ],
 "metadata": {
  "kernelspec": {
   "display_name": "Python 3 (ipykernel)",
   "language": "python",
   "name": "python3"
  },
  "language_info": {
   "codemirror_mode": {
    "name": "ipython",
    "version": 3
   },
   "file_extension": ".py",
   "mimetype": "text/x-python",
   "name": "python",
   "nbconvert_exporter": "python",
   "pygments_lexer": "ipython3",
   "version": "3.9.7"
  }
 },
 "nbformat": 4,
 "nbformat_minor": 2
}
