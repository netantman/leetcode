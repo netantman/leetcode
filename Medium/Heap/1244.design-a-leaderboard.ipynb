{
 "cells": [
  {
   "cell_type": "markdown",
   "metadata": {},
   "source": [
    "## Attempt 1 - Accepted"
   ]
  },
  {
   "cell_type": "code",
   "execution_count": null,
   "metadata": {},
   "outputs": [],
   "source": [
    "class Leaderboard:\n",
    "\n",
    "    def __init__(self):\n",
    "        self.board = dict()\n",
    "        \n",
    "\n",
    "    def addScore(self, playerId: int, score: int) -> None:\n",
    "        self.board[playerId] = self.board.get(playerId, 0) + score\n",
    "\n",
    "        \n",
    "    def top(self, K: int) -> int:\n",
    "        return sum(heapq.nlargest(K, self.board.values()))\n",
    "\n",
    "    \n",
    "    def reset(self, playerId: int) -> None:\n",
    "        del self.board[playerId]\n",
    "        \n",
    "\n",
    "\n",
    "# Your Leaderboard object will be instantiated and called as such:\n",
    "# obj = Leaderboard()\n",
    "# obj.addScore(playerId,score)\n",
    "# param_2 = obj.top(K)\n",
    "# obj.reset(playerId)"
   ]
  },
  {
   "cell_type": "markdown",
   "metadata": {},
   "source": [
    "## Lessons and Thoughts\n",
    "- Straightforward with `heapq`."
   ]
  }
 ],
 "metadata": {
  "kernelspec": {
   "display_name": "Python 3",
   "language": "python",
   "name": "python3"
  },
  "language_info": {
   "codemirror_mode": {
    "name": "ipython",
    "version": 3
   },
   "file_extension": ".py",
   "mimetype": "text/x-python",
   "name": "python",
   "nbconvert_exporter": "python",
   "pygments_lexer": "ipython3",
   "version": "3.7.3"
  }
 },
 "nbformat": 4,
 "nbformat_minor": 2
}
