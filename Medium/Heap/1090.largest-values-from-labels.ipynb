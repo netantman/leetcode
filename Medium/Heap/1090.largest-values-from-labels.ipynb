{
 "cells": [
  {
   "cell_type": "markdown",
   "metadata": {},
   "source": [
    "## Attempt 1 - Accepted"
   ]
  },
  {
   "cell_type": "code",
   "execution_count": null,
   "metadata": {},
   "outputs": [],
   "source": [
    "class Solution:\n",
    "    def largestValsFromLabels(self, values: List[int], labels: List[int], num_wanted: int, use_limit: int) -> int:\n",
    "        record={l:[] for l in set(labels)}\n",
    "        for label, value in zip(labels, values):\n",
    "            heapq.heappush(record[label], value)\n",
    "        largest=[]\n",
    "        for k,v in record.items():\n",
    "            largest+=heapq.nlargest(use_limit, v)\n",
    "        largest=heapq.nlargest(num_wanted, largest)\n",
    "        return sum(largest)"
   ]
  },
  {
   "cell_type": "markdown",
   "metadata": {},
   "source": [
    "## Lessons and Thoughts\n",
    "- On first look this looks like a DP, but actually each label can be considered separately."
   ]
  }
 ],
 "metadata": {
  "kernelspec": {
   "display_name": "Python 3",
   "language": "python",
   "name": "python3"
  },
  "language_info": {
   "codemirror_mode": {
    "name": "ipython",
    "version": 3
   },
   "file_extension": ".py",
   "mimetype": "text/x-python",
   "name": "python",
   "nbconvert_exporter": "python",
   "pygments_lexer": "ipython3",
   "version": "3.7.3"
  }
 },
 "nbformat": 4,
 "nbformat_minor": 2
}
