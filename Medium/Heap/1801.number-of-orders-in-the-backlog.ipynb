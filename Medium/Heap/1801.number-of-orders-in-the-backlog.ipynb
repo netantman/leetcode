{
 "cells": [
  {
   "cell_type": "markdown",
   "metadata": {},
   "source": [
    "## Attempt 1 - Accepted"
   ]
  },
  {
   "cell_type": "code",
   "execution_count": null,
   "metadata": {},
   "outputs": [],
   "source": [
    "class Solution:\n",
    "    def getNumberOfBacklogOrders(self, orders: List[List[int]]) -> int:\n",
    "        backlog = [[], []]\n",
    "        for order in orders:\n",
    "            price, amount, orderType = tuple(order)\n",
    "            opposite = 1 - orderType\n",
    "            if orderType > 0:\n",
    "                while amount > 0 and backlog[0] and abs(backlog[0][0][0]) >= price:\n",
    "                    (best_bid, volume) = heapq.heappop(backlog[0])\n",
    "                    if volume >= amount:\n",
    "                        heapq.heappush(backlog[0], (best_bid, volume - amount))\n",
    "                        amount = 0\n",
    "                    else:\n",
    "                        amount -= volume\n",
    "                if amount > 0:\n",
    "                    heapq.heappush(backlog[1], (price, amount))\n",
    "            else:\n",
    "                while amount > 0 and backlog[1] and abs(backlog[1][0][0]) <= price:\n",
    "                    (best_ask, volume) = heapq.heappop(backlog[1])\n",
    "                    if volume >= amount:\n",
    "                        heapq.heappush(backlog[1], (best_ask, volume - amount))\n",
    "                        amount = 0\n",
    "                    else:\n",
    "                        amount -= volume\n",
    "                if amount > 0:\n",
    "                    heapq.heappush(backlog[0], (-price, amount))\n",
    "        \n",
    "        return sum( [b[1] for b in backlog[0] + backlog[1] ] ) % (10 ** 9 + 7)"
   ]
  },
  {
   "cell_type": "markdown",
   "metadata": {},
   "source": [
    "## Lessons and Thoughts\n",
    "- Relatively straightforward - only that `price` sometimes need to be negative before pushing into queue."
   ]
  }
 ],
 "metadata": {
  "kernelspec": {
   "display_name": "Python 3",
   "language": "python",
   "name": "python3"
  },
  "language_info": {
   "codemirror_mode": {
    "name": "ipython",
    "version": 3
   },
   "file_extension": ".py",
   "mimetype": "text/x-python",
   "name": "python",
   "nbconvert_exporter": "python",
   "pygments_lexer": "ipython3",
   "version": "3.7.3"
  }
 },
 "nbformat": 4,
 "nbformat_minor": 2
}
