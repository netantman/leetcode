{
 "cells": [
  {
   "cell_type": "markdown",
   "metadata": {},
   "source": [
    "## Attempt 1 - Wrong Answer"
   ]
  },
  {
   "cell_type": "code",
   "execution_count": null,
   "metadata": {},
   "outputs": [],
   "source": [
    "class Solution:\n",
    "    def getOrder(self, tasks: List[List[int]]) -> List[int]:\n",
    "        L = len(tasks)\n",
    "        for idx in range(L):\n",
    "            tasks[idx].append(idx)\n",
    "        tasks = sorted(tasks, key=lambda x: x[0])\n",
    "        q = []\n",
    "        curr = 0\n",
    "        \n",
    "        res = []\n",
    "        while tasks:\n",
    "            if curr < tasks[0][0]: ## this does not mean that the CPU can be idle at the time!\n",
    "                curr = tasks[0][0]\n",
    "            while tasks and curr >= tasks[0][0]:\n",
    "                _, pt, idx = tuple(tasks.pop(0))\n",
    "                heapq.heappush(q, (pt, idx))\n",
    "            pt, idx = heappop(q)\n",
    "            res.append(idx)\n",
    "            curr += pt\n",
    "            \n",
    "        while q:\n",
    "            pt, idx = heappop(q)\n",
    "            res.append(idx)\n",
    "        \n",
    "        return res"
   ]
  },
  {
   "cell_type": "markdown",
   "metadata": {},
   "source": [
    "## Attempt 2 - Accepted"
   ]
  },
  {
   "cell_type": "code",
   "execution_count": null,
   "metadata": {},
   "outputs": [],
   "source": [
    "class Solution:\n",
    "    def getOrder(self, tasks: List[List[int]]) -> List[int]:\n",
    "        L = len(tasks)\n",
    "        for idx in range(L):\n",
    "            tasks[idx].append(idx)\n",
    "        tasks = sorted(tasks, key=lambda x: x[0])\n",
    "        q = []\n",
    "        curr = 0\n",
    "        \n",
    "        res = []\n",
    "        while tasks:\n",
    "            if not q and curr < tasks[0][0]:\n",
    "                curr = tasks[0][0]\n",
    "            while tasks and curr >= tasks[0][0]:\n",
    "                _, pt, idx = tuple(tasks.pop(0))\n",
    "                heapq.heappush(q, (pt, idx))\n",
    "            pt, idx = heappop(q)\n",
    "            res.append(idx)\n",
    "            curr += pt\n",
    "            \n",
    "        while q:\n",
    "            pt, idx = heappop(q)\n",
    "            res.append(idx)\n",
    "        \n",
    "        return res"
   ]
  },
  {
   "cell_type": "markdown",
   "metadata": {},
   "source": [
    "## Lessons and Thoughts\n",
    "- Be careful when popping from some array in the while loop that features in the stop condition.\n",
    "- One edge case that is missed is when `task` is empty and `q` is not.\n",
    "- Also missed an edge case where CPU cannot be idle; see comments on Attempt 1 above."
   ]
  }
 ],
 "metadata": {
  "kernelspec": {
   "display_name": "Python 3",
   "language": "python",
   "name": "python3"
  },
  "language_info": {
   "codemirror_mode": {
    "name": "ipython",
    "version": 3
   },
   "file_extension": ".py",
   "mimetype": "text/x-python",
   "name": "python",
   "nbconvert_exporter": "python",
   "pygments_lexer": "ipython3",
   "version": "3.7.3"
  }
 },
 "nbformat": 4,
 "nbformat_minor": 2
}
