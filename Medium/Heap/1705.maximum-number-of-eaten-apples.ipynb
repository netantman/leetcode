{
 "cells": [
  {
   "cell_type": "markdown",
   "metadata": {},
   "source": [
    "## Attempt 1 - Accepted"
   ]
  },
  {
   "cell_type": "code",
   "execution_count": null,
   "metadata": {},
   "outputs": [],
   "source": [
    "class Solution:\n",
    "    def eatenApples(self, apples: List[int], days: List[int]) -> int:\n",
    "        inventory = []\n",
    "        heapq.heapify(inventory)\n",
    "        n = len(apples)\n",
    "        res = 0\n",
    "        for idx in range(40000):\n",
    "            if idx < n:\n",
    "                heapq.heappush(inventory, [idx + days[idx], apples[idx]])\n",
    "            else:\n",
    "                if not inventory:\n",
    "                    break\n",
    "            while inventory and inventory[0][0] <= idx:\n",
    "                _ = heapq.heappop(inventory)\n",
    "            if inventory:\n",
    "                expiration, num = tuple(heapq.heappop(inventory))\n",
    "                res += 1\n",
    "                num -= 1\n",
    "                if num > 0:\n",
    "                    heapq.heappush(inventory, [expiration, num])\n",
    "            # print(idx)\n",
    "            # print(res)\n",
    "            # print(inventory)\n",
    "        \n",
    "        return res"
   ]
  },
  {
   "cell_type": "markdown",
   "metadata": {},
   "source": [
    "## Lessons and Thoughts\n",
    "- Try to eat apples that are closer to rotten.\n",
    "- `heap[0]` to access the smallest element - no need to pop."
   ]
  }
 ],
 "metadata": {
  "kernelspec": {
   "display_name": "Python 3",
   "language": "python",
   "name": "python3"
  },
  "language_info": {
   "codemirror_mode": {
    "name": "ipython",
    "version": 3
   },
   "file_extension": ".py",
   "mimetype": "text/x-python",
   "name": "python",
   "nbconvert_exporter": "python",
   "pygments_lexer": "ipython3",
   "version": "3.7.3"
  }
 },
 "nbformat": 4,
 "nbformat_minor": 2
}
