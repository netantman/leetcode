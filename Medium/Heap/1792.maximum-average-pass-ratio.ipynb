{
 "cells": [
  {
   "cell_type": "markdown",
   "metadata": {},
   "source": [
    "## Attempt 1 - Accepted"
   ]
  },
  {
   "cell_type": "code",
   "execution_count": null,
   "metadata": {},
   "outputs": [],
   "source": [
    "class Solution:\n",
    "    def maxAverageRatio(self, classes: List[List[int]], extraStudents: int) -> float:\n",
    "        res = sum([c[0] / c[1] for c in classes])\n",
    "        res = -res\n",
    "        \n",
    "        q = [(-(c[1] - c[0])/(c[1] * (c[1] + 1)), c[0], c[1]) for c in classes]\n",
    "        heapq.heapify(q)\n",
    "        \n",
    "        for _ in range(extraStudents):\n",
    "            inc, a, b = heapq.heappop(q)\n",
    "            res += inc\n",
    "            heapq.heappush(q, (-(b - a)/((b + 1) * (b + 2)),a + 1, b + 1))\n",
    "        \n",
    "        return -res / len(classes)"
   ]
  },
  {
   "cell_type": "markdown",
   "metadata": {},
   "source": [
    "## Lessons and Thoughts\n",
    "- First element in the queue determines the sorting.\n",
    "- `pop` only pops the smallest"
   ]
  }
 ],
 "metadata": {
  "kernelspec": {
   "display_name": "Python 3",
   "language": "python",
   "name": "python3"
  },
  "language_info": {
   "codemirror_mode": {
    "name": "ipython",
    "version": 3
   },
   "file_extension": ".py",
   "mimetype": "text/x-python",
   "name": "python",
   "nbconvert_exporter": "python",
   "pygments_lexer": "ipython3",
   "version": "3.7.3"
  }
 },
 "nbformat": 4,
 "nbformat_minor": 2
}
