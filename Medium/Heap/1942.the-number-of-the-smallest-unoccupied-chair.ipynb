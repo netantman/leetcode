{
 "cells": [
  {
   "cell_type": "markdown",
   "metadata": {},
   "source": [
    "## Attempt 1 - Accepted"
   ]
  },
  {
   "cell_type": "code",
   "execution_count": null,
   "metadata": {},
   "outputs": [],
   "source": [
    "class Solution:\n",
    "    def smallestChair(self, times: List[List[int]], targetFriend: int) -> int:\n",
    "        chairs = [0 for _ in range(10 ** 4 + 1)]\n",
    "        L = len(times)\n",
    "        for idx in range(L):\n",
    "            times[idx].append(idx)\n",
    "        # times = sorted(times, key=lambda x: x[0])\n",
    "        heapq.heapify(times)\n",
    "        for t in range(1, 10 ** 5 + 1):\n",
    "            if t == times[0][0]:\n",
    "                curr = heapq.heappop(times)\n",
    "                _, l, friend = tuple(curr)\n",
    "                assign = None\n",
    "                for idx in range(10 ** 4):\n",
    "                    if chairs[idx] <= t:\n",
    "                        assign = idx\n",
    "                        break\n",
    "                if friend == targetFriend:\n",
    "                    return assign\n",
    "                chairs[assign] = l"
   ]
  },
  {
   "cell_type": "markdown",
   "metadata": {},
   "source": [
    "## Lessons and Thoughts\n",
    "- Just simulate the process"
   ]
  }
 ],
 "metadata": {
  "kernelspec": {
   "display_name": "Python 3",
   "language": "python",
   "name": "python3"
  },
  "language_info": {
   "codemirror_mode": {
    "name": "ipython",
    "version": 3
   },
   "file_extension": ".py",
   "mimetype": "text/x-python",
   "name": "python",
   "nbconvert_exporter": "python",
   "pygments_lexer": "ipython3",
   "version": "3.7.3"
  }
 },
 "nbformat": 4,
 "nbformat_minor": 2
}
