{
 "cells": [
  {
   "cell_type": "markdown",
   "metadata": {},
   "source": [
    "## Attempt 1 - Time Limit Exceeded"
   ]
  },
  {
   "cell_type": "code",
   "execution_count": null,
   "metadata": {},
   "outputs": [],
   "source": [
    "class Solution:\n",
    "    def maxProfit(self, inventory: List[int], orders: int) -> int:\n",
    "        if len(inventory) < 2:\n",
    "            return (orders * (inventory[0] + inventory[0] - orders + 1) // 2) % (10 ** 9 + 7)        \n",
    "        inventory = [-i for i in inventory]\n",
    "        heapq.heapify(inventory)\n",
    "        res = 0\n",
    "        while orders:\n",
    "            curr = heapq.heappop(inventory)\n",
    "            res += (-curr)\n",
    "            heapq.heappush(inventory, curr + 1)\n",
    "            orders -= 1        \n",
    "        return res % (10 ** 9 + 7)"
   ]
  },
  {
   "cell_type": "markdown",
   "metadata": {},
   "source": [
    "## Attempt 2 - Time Limit Exceeded"
   ]
  },
  {
   "cell_type": "code",
   "execution_count": null,
   "metadata": {},
   "outputs": [],
   "source": [
    "class Solution:\n",
    "    def maxProfit(self, inventory: List[int], orders: int) -> int:\n",
    "        if len(inventory) < 2:\n",
    "            return (orders * (inventory[0] + inventory[0] - orders + 1) // 2) % (10 ** 9 + 7)\n",
    "        inventory = [-i for i in inventory]\n",
    "        heapq.heapify(inventory)\n",
    "        res = 0\n",
    "        while orders > 0:\n",
    "            largest, second = tuple(heapq.nsmallest(2, inventory))\n",
    "            largest, second = -largest, -second\n",
    "            if orders >= largest - second + 1:\n",
    "                res += (largest + second) * (largest - second + 1) // 2\n",
    "                orders -= (largest - second + 1)\n",
    "            else:\n",
    "                res += (largest + largest - orders + 1) * orders // 2\n",
    "                orders = 0\n",
    "            heapq.heappop(inventory)\n",
    "            heapq.heappush(inventory, -(second-1))\n",
    "            \n",
    "            # print(res)\n",
    "        return res % (10 ** 9 + 7)"
   ]
  },
  {
   "cell_type": "markdown",
   "metadata": {},
   "source": [
    "## Attempt 3 - Time Limit Exceeded"
   ]
  },
  {
   "cell_type": "code",
   "execution_count": null,
   "metadata": {},
   "outputs": [],
   "source": [
    "class Solution:\n",
    "    def maxProfit(self, inventory: List[int], orders: int) -> int:\n",
    "        if len(inventory) < 2:\n",
    "            return (orders * (inventory[0] + inventory[0] - orders + 1) // 2) % (10 ** 9 + 7)\n",
    "        \n",
    "        cands = []\n",
    "        for inven in inventory:\n",
    "            for i in range(1, inven + 1):\n",
    "                cands.append(i)\n",
    "        heapq.heapify(cands)\n",
    "        res = sum(heapq.nlargest(orders, cands))\n",
    "        \n",
    "        return res % (10 ** 9 + 7)"
   ]
  },
  {
   "cell_type": "markdown",
   "metadata": {},
   "source": [
    "## Attempt 4 - Accepted"
   ]
  },
  {
   "cell_type": "code",
   "execution_count": null,
   "metadata": {},
   "outputs": [],
   "source": [
    "class Solution:\n",
    "    def maxProfit(self, inventory: List[int], orders: int) -> int:\n",
    "        left, right = 0, max(inventory)\n",
    "        while left < right - 1:\n",
    "            mid = (left + right) // 2\n",
    "            cur_order = sum((inv - mid) for inv in inventory if inv > mid)\n",
    "            if cur_order >= orders:\n",
    "                left = mid\n",
    "            else:\n",
    "                right = mid\n",
    "                \n",
    "        res = 0\n",
    "        cnt = 0\n",
    "        for inv in inventory:\n",
    "            if inv > right:\n",
    "                cur = inv - right\n",
    "                res += (inv + right + 1) * cur // 2\n",
    "                res %= 1000000007\n",
    "                cnt += cur\n",
    "        res += (orders - cnt) * right\n",
    "        res %= 1000000007\n",
    "        \n",
    "        return res"
   ]
  },
  {
   "cell_type": "markdown",
   "metadata": {},
   "source": [
    "## Lessons and Thoughts\n",
    "- `heapq.heapify` is in place.\n",
    "- Accepted solution is adapted from app. The optimization is to use binary search to find the place for the peak."
   ]
  }
 ],
 "metadata": {
  "kernelspec": {
   "display_name": "Python 3",
   "language": "python",
   "name": "python3"
  },
  "language_info": {
   "codemirror_mode": {
    "name": "ipython",
    "version": 3
   },
   "file_extension": ".py",
   "mimetype": "text/x-python",
   "name": "python",
   "nbconvert_exporter": "python",
   "pygments_lexer": "ipython3",
   "version": "3.7.3"
  }
 },
 "nbformat": 4,
 "nbformat_minor": 2
}
