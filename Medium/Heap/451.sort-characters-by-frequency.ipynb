{
 "cells": [
  {
   "cell_type": "markdown",
   "metadata": {},
   "source": [
    "## Attempt 1 - Accepted"
   ]
  },
  {
   "cell_type": "code",
   "execution_count": null,
   "metadata": {},
   "outputs": [],
   "source": [
    "import heapq\n",
    "\n",
    "class Solution:\n",
    "    def frequencySort(self, s: str) -> str:\n",
    "        cache=dict()\n",
    "        for c in s:\n",
    "            if c in cache:\n",
    "                cache[c]+=1\n",
    "            else:\n",
    "                cache[c]=1\n",
    "        \n",
    "        h=[(c,cnt) for c,cnt in cache.items()]\n",
    "        L=len(h)\n",
    "        largest=heapq.nlargest(L,h,key=lambda p:p[1])\n",
    "        res=\"\"\n",
    "        for p in largest:\n",
    "            res+=p[0]*p[1]\n",
    "        \n",
    "        return res"
   ]
  },
  {
   "cell_type": "markdown",
   "metadata": {},
   "source": [
    "## Lessons and Thoughts\n",
    "- Straightforward application of `heapq`. But you need to be able to think of those without prompting."
   ]
  }
 ],
 "metadata": {
  "kernelspec": {
   "display_name": "Python 3",
   "language": "python",
   "name": "python3"
  },
  "language_info": {
   "codemirror_mode": {
    "name": "ipython",
    "version": 3
   },
   "file_extension": ".py",
   "mimetype": "text/x-python",
   "name": "python",
   "nbconvert_exporter": "python",
   "pygments_lexer": "ipython3",
   "version": "3.7.3"
  }
 },
 "nbformat": 4,
 "nbformat_minor": 2
}
