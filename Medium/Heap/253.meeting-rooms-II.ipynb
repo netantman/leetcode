{
 "cells": [
  {
   "cell_type": "markdown",
   "metadata": {},
   "source": [
    "## Attempt 1 - Accepted"
   ]
  },
  {
   "cell_type": "code",
   "execution_count": null,
   "metadata": {},
   "outputs": [],
   "source": [
    "class Solution:\n",
    "    def minMeetingRooms(self, intervals: List[List[int]]) -> int:\n",
    "        ends = []\n",
    "        heapq.heapify(ends)\n",
    "        intervals = sorted(intervals, key=lambda x:x[0])\n",
    "        res = 0\n",
    "        for interval in intervals:\n",
    "            start, end = tuple(interval)\n",
    "            while ends:\n",
    "                if ends[0] > start:\n",
    "                    break\n",
    "                heapq.heappop(ends)\n",
    "            heapq.heappush(ends, end)\n",
    "            res = max(res, len(ends))\n",
    "        return res"
   ]
  },
  {
   "cell_type": "markdown",
   "metadata": {},
   "source": [
    "## Lessons and Thoughts\n",
    "- Straightforward with `heap`"
   ]
  }
 ],
 "metadata": {
  "kernelspec": {
   "display_name": "Python 3",
   "language": "python",
   "name": "python3"
  },
  "language_info": {
   "codemirror_mode": {
    "name": "ipython",
    "version": 3
   },
   "file_extension": ".py",
   "mimetype": "text/x-python",
   "name": "python",
   "nbconvert_exporter": "python",
   "pygments_lexer": "ipython3",
   "version": "3.7.3"
  }
 },
 "nbformat": 4,
 "nbformat_minor": 2
}
