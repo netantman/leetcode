{
 "cells": [
  {
   "cell_type": "markdown",
   "metadata": {},
   "source": [
    "## Attempt 1 - Accepted"
   ]
  },
  {
   "cell_type": "code",
   "execution_count": null,
   "metadata": {},
   "outputs": [],
   "source": [
    "class Solution:\n",
    "    def minMeetingRooms(self, intervals: List[List[int]]) -> int:\n",
    "        ends = []\n",
    "        heapq.heapify(ends)\n",
    "        intervals = sorted(intervals, key=lambda x:x[0])\n",
    "        res = 0\n",
    "        for interval in intervals:\n",
    "            start, end = tuple(interval)\n",
    "            while ends:\n",
    "                if ends[0] > start:\n",
    "                    break\n",
    "                heapq.heappop(ends)\n",
    "            heapq.heappush(ends, end)\n",
    "            res = max(res, len(ends))\n",
    "        return res"
   ]
  },
  {
   "cell_type": "markdown",
   "metadata": {},
   "source": [
    "## Attempt 2 - Accepted"
   ]
  },
  {
   "cell_type": "code",
   "execution_count": null,
   "metadata": {},
   "outputs": [],
   "source": [
    "class Solution:\n",
    "    def minMeetingRooms(self, intervals: List[List[int]]) -> int:\n",
    "        intervals.sort(key=lambda x: (x[0], x[1]))\n",
    "        st = [intervals[0]]\n",
    "        res = 1\n",
    "        L = len(intervals)\n",
    "        for idx in range(1, L):\n",
    "            curr = intervals[idx][0]\n",
    "            st = [interval for interval in st if interval[1] > curr]\n",
    "            st.append(intervals[idx])\n",
    "            res = max(res, len(st))\n",
    "        return res"
   ]
  },
  {
   "cell_type": "markdown",
   "metadata": {},
   "source": [
    "## Attempt 3 - Accepted"
   ]
  },
  {
   "cell_type": "code",
   "execution_count": null,
   "metadata": {},
   "outputs": [],
   "source": [
    "bool smaller(vector<int> v1, vector<int> v2) {\n",
    "        return (v1[0] < v2[0]);\n",
    "    }\n",
    "\n",
    "class Solution {\n",
    "public:\n",
    "    \n",
    "    int minMeetingRooms(vector<vector<int>>& intervals) {\n",
    "        vector<vector<int>> st = {};\n",
    "        sort(intervals.begin(), intervals.end(), smaller); ## --> when it is sorted, all ordered neighboring elements will return True\n",
    "        int L = intervals.size();\n",
    "        st.push_back(intervals.front());\n",
    "        int res = 1;\n",
    "        for (int idx=1; idx<L ; idx++) {\n",
    "            int curr = intervals[idx][0];\n",
    "            vector<vector<int>> tmp;\n",
    "            for (vector<int> vec : st) {\n",
    "                if (vec[1] > curr) {\n",
    "                    tmp.push_back(vec);\n",
    "                }\n",
    "            }\n",
    "            st = tmp;\n",
    "            st.push_back(intervals[idx]);\n",
    "            res = max(res, int(st.size()));\n",
    "        }\n",
    "        return res;\n",
    "    }\n",
    "};"
   ]
  },
  {
   "cell_type": "markdown",
   "metadata": {},
   "source": [
    "## Lessons and Thoughts\n",
    "- Straightforward with `heap`"
   ]
  }
 ],
 "metadata": {
  "kernelspec": {
   "display_name": "Python 3 (ipykernel)",
   "language": "python",
   "name": "python3"
  },
  "language_info": {
   "codemirror_mode": {
    "name": "ipython",
    "version": 3
   },
   "file_extension": ".py",
   "mimetype": "text/x-python",
   "name": "python",
   "nbconvert_exporter": "python",
   "pygments_lexer": "ipython3",
   "version": "3.9.7"
  }
 },
 "nbformat": 4,
 "nbformat_minor": 2
}
