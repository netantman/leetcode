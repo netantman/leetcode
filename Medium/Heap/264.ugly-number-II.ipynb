{
 "cells": [
  {
   "cell_type": "markdown",
   "metadata": {},
   "source": [
    "## Attempt 1 - Accepted"
   ]
  },
  {
   "cell_type": "code",
   "execution_count": null,
   "metadata": {},
   "outputs": [],
   "source": [
    "from heapq import *\n",
    "\n",
    "class Solution:\n",
    "    def nthUglyNumber(self, n: int) -> int:\n",
    "        q=[]\n",
    "        heappush(q,1)\n",
    "        for idx in range(n):\n",
    "            res=heappop(q)\n",
    "            if idx==n-1:\n",
    "                return res\n",
    "            else:\n",
    "                if res*2 not in q:    ## --> you need to remember to check if the number is in the queue already!\n",
    "                    heapq.heappush(q, res*2)\n",
    "                if res*3 not in q:\n",
    "                    heapq.heappush(q, res*3)\n",
    "                if res*5 not in q:\n",
    "                    heapq.heappush(q, res*5)"
   ]
  },
  {
   "cell_type": "markdown",
   "metadata": {},
   "source": [
    "## Attempt 2 - Accepted"
   ]
  },
  {
   "cell_type": "code",
   "execution_count": null,
   "metadata": {},
   "outputs": [],
   "source": [
    "class Solution {\n",
    "public:\n",
    "    int nthUglyNumber(int n) {\n",
    "        unordered_set<long long> visited = {1};\n",
    "        auto cmp = [](long long a, long b){return a > b;};\n",
    "        priority_queue<long long, vector<long long>, decltype(cmp)> q(cmp); ## note that we cannot just use lambda function in place of cmp, and q(cmp) is necessary.\n",
    "        q.push(1);\n",
    "        vector<long long> uglies = {2, 3, 5};\n",
    "        int cnt = 1;\n",
    "        long long curr = 1;\n",
    "        while (cnt <= n) {\n",
    "            curr = q.top();\n",
    "            q.pop();\n",
    "            for (auto u : uglies) {\n",
    "                if (visited.find(u * curr) == visited.end()) {\n",
    "                    visited.insert(u * curr); ## adding to set is insert\n",
    "                    q.push(u * curr);\n",
    "                }    \n",
    "            }\n",
    "            cnt++;\n",
    "        }\n",
    "        return curr;\n",
    "    }\n",
    "};"
   ]
  },
  {
   "cell_type": "markdown",
   "metadata": {},
   "source": [
    "## Lessons and Thoughts\n",
    "- `heapq` in `python`"
   ]
  }
 ],
 "metadata": {
  "kernelspec": {
   "display_name": "Python 3",
   "language": "python",
   "name": "python3"
  },
  "language_info": {
   "codemirror_mode": {
    "name": "ipython",
    "version": 3
   },
   "file_extension": ".py",
   "mimetype": "text/x-python",
   "name": "python",
   "nbconvert_exporter": "python",
   "pygments_lexer": "ipython3",
   "version": "3.6.5"
  }
 },
 "nbformat": 4,
 "nbformat_minor": 2
}
