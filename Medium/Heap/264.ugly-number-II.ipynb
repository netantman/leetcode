{
 "cells": [
  {
   "cell_type": "markdown",
   "metadata": {},
   "source": [
    "## Attempt 1 - Accepted"
   ]
  },
  {
   "cell_type": "code",
   "execution_count": null,
   "metadata": {},
   "outputs": [],
   "source": [
    "from heapq import *\n",
    "\n",
    "class Solution:\n",
    "    def nthUglyNumber(self, n: int) -> int:\n",
    "        q=[]\n",
    "        heappush(q,1)\n",
    "        for idx in range(n):\n",
    "            res=heappop(q)\n",
    "            if idx==n-1:\n",
    "                return res\n",
    "            else:\n",
    "                if res*2 not in q:    ## --> you need to remember to check if the number is in the queue already!\n",
    "                    heapq.heappush(q, res*2)\n",
    "                if res*3 not in q:\n",
    "                    heapq.heappush(q, res*3)\n",
    "                if res*5 not in q:\n",
    "                    heapq.heappush(q, res*5)"
   ]
  },
  {
   "cell_type": "markdown",
   "metadata": {},
   "source": [
    "## Lessons and Thoughts\n",
    "- `heapq` in `python`"
   ]
  }
 ],
 "metadata": {
  "kernelspec": {
   "display_name": "Python 3",
   "language": "python",
   "name": "python3"
  },
  "language_info": {
   "codemirror_mode": {
    "name": "ipython",
    "version": 3
   },
   "file_extension": ".py",
   "mimetype": "text/x-python",
   "name": "python",
   "nbconvert_exporter": "python",
   "pygments_lexer": "ipython3",
   "version": "3.7.3"
  }
 },
 "nbformat": 4,
 "nbformat_minor": 2
}
