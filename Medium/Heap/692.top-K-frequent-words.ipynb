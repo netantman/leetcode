{
 "cells": [
  {
   "cell_type": "markdown",
   "metadata": {},
   "source": [
    "## Attempt 1 - Accepted"
   ]
  },
  {
   "cell_type": "code",
   "execution_count": null,
   "metadata": {},
   "outputs": [],
   "source": [
    "class Solution:\n",
    "    def topKFrequent(self, words: List[str], K: int) -> List[str]:\n",
    "        record=dict()\n",
    "        for w in words:\n",
    "            record[w]=record.get(w,0)+1\n",
    "        frequency=dict()\n",
    "        for w,cnt in record.items():\n",
    "            frequency[cnt]=frequency.get(cnt, [])+[w]\n",
    "        frequency=[(cnt,word_list) for cnt,word_list in frequency.items()]\n",
    "        \n",
    "        top=heapq.nlargest(K,frequency)\n",
    "        num=0\n",
    "        res=[]\n",
    "        for t in top:\n",
    "            curr=sorted(t[1])\n",
    "            res+=curr[:K-num]\n",
    "            num+=len(curr)\n",
    "            num=min(num, K)\n",
    "        return res"
   ]
  },
  {
   "cell_type": "markdown",
   "metadata": {},
   "source": [
    "## Lessons and Thoughts\n",
    "- The tricky case is when there are more than `K` words, who are all most frequent, for instance. Thus it is necessary to key by frequency."
   ]
  }
 ],
 "metadata": {
  "kernelspec": {
   "display_name": "Python 3",
   "language": "python",
   "name": "python3"
  },
  "language_info": {
   "codemirror_mode": {
    "name": "ipython",
    "version": 3
   },
   "file_extension": ".py",
   "mimetype": "text/x-python",
   "name": "python",
   "nbconvert_exporter": "python",
   "pygments_lexer": "ipython3",
   "version": "3.7.3"
  }
 },
 "nbformat": 4,
 "nbformat_minor": 2
}
