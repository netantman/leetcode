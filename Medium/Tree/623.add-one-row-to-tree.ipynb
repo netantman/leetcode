{
 "cells": [
  {
   "cell_type": "markdown",
   "metadata": {},
   "source": [
    "## Attempt 1 - Accepted"
   ]
  },
  {
   "cell_type": "code",
   "execution_count": null,
   "metadata": {},
   "outputs": [],
   "source": [
    "# Definition for a binary tree node.\n",
    "# class TreeNode:\n",
    "#     def __init__(self, val=0, left=None, right=None):\n",
    "#         self.val = val\n",
    "#         self.left = left\n",
    "#         self.right = right\n",
    "class Solution:\n",
    "    def addOneRow(self, root: TreeNode, v: int, d: int) -> TreeNode:\n",
    "        if d==1:\n",
    "            new=TreeNode(val=v)\n",
    "            new.left=root\n",
    "            return new\n",
    "        else:\n",
    "            lvl=1\n",
    "            curr=[root]\n",
    "            while lvl<d-1:\n",
    "                nexxt=[]\n",
    "                for node in curr:\n",
    "                    if node.left is not None:\n",
    "                        nexxt.append(node.left)\n",
    "                    if node.right is not None:\n",
    "                        nexxt.append(node.right)\n",
    "                lvl+=1\n",
    "                curr=nexxt\n",
    "            for node in curr:\n",
    "                left=node.left\n",
    "                right=node.right\n",
    "                node.left=TreeNode(val=v, left=left)\n",
    "                node.right=TreeNode(val=v, right=right)\n",
    "            return root"
   ]
  },
  {
   "cell_type": "markdown",
   "metadata": {},
   "source": [
    "## Lessons and Thoughts\n",
    "- Usual level traversal of trees."
   ]
  }
 ],
 "metadata": {
  "kernelspec": {
   "display_name": "Python 3",
   "language": "python",
   "name": "python3"
  },
  "language_info": {
   "codemirror_mode": {
    "name": "ipython",
    "version": 3
   },
   "file_extension": ".py",
   "mimetype": "text/x-python",
   "name": "python",
   "nbconvert_exporter": "python",
   "pygments_lexer": "ipython3",
   "version": "3.7.3"
  }
 },
 "nbformat": 4,
 "nbformat_minor": 2
}
