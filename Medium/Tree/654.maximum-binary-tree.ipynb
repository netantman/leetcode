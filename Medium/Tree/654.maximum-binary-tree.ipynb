{
 "cells": [
  {
   "cell_type": "markdown",
   "metadata": {},
   "source": [
    "## Attempt 1 - Accepted"
   ]
  },
  {
   "cell_type": "code",
   "execution_count": null,
   "metadata": {},
   "outputs": [],
   "source": [
    "class Solution:\n",
    "    def constructMaximumBinaryTree(self, nums: List[int]) -> TreeNode:\n",
    "        if nums == []: return None\n",
    "        max_num = max(nums)\n",
    "        max_index = nums.index(max_num)\n",
    "        root = TreeNode(max_num)\n",
    "        root.left = self.constructMaximumBinaryTree(nums[0 : max_index])\n",
    "        root.right = self.constructMaximumBinaryTree(nums[max_index + 1 :])\n",
    "        return root"
   ]
  },
  {
   "cell_type": "markdown",
   "metadata": {},
   "source": [
    "## Lessons and Thoughts\n",
    "- Although the accepted code is from leetcode app, the idea is straightforward: find the max among the array, let it be root, and then build the rest of the tree from the left subset and the right subset."
   ]
  }
 ],
 "metadata": {
  "kernelspec": {
   "display_name": "Python 3",
   "language": "python",
   "name": "python3"
  },
  "language_info": {
   "codemirror_mode": {
    "name": "ipython",
    "version": 3
   },
   "file_extension": ".py",
   "mimetype": "text/x-python",
   "name": "python",
   "nbconvert_exporter": "python",
   "pygments_lexer": "ipython3",
   "version": "3.7.3"
  }
 },
 "nbformat": 4,
 "nbformat_minor": 2
}
