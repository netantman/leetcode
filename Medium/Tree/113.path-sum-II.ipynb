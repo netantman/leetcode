{
 "cells": [
  {
   "cell_type": "markdown",
   "metadata": {},
   "source": [
    "## Attempt 1 - Runtime Error"
   ]
  },
  {
   "cell_type": "code",
   "execution_count": null,
   "metadata": {},
   "outputs": [],
   "source": [
    "# Definition for a binary tree node.\n",
    "# class TreeNode:\n",
    "#     def __init__(self, val=0, left=None, right=None):\n",
    "#         self.val = val\n",
    "#         self.left = left\n",
    "#         self.right = right\n",
    "class Solution:\n",
    "    def pathSum(self, root: TreeNode, s: int) -> List[List[int]]:\n",
    "        \n",
    "        def helper(root, target):\n",
    "            if root is None:\n",
    "                return False, None\n",
    "            if root.left is None and root.right is None:\n",
    "                if root.val==target:\n",
    "                    return True, [root.val]  ## --> it should return a list of lists!\n",
    "                else:\n",
    "                    return False, None\n",
    "            res=[]\n",
    "            left=helper(root.left, target-root.val)\n",
    "            if left[0]:\n",
    "                for l in left[1]:\n",
    "                    res.append([root.val]+l)\n",
    "            right=helper(root.right, target-root.val)\n",
    "            if right[0]:\n",
    "                for r in right[1]:\n",
    "                    res.append([root.val]+r)\n",
    "            \n",
    "            if len(res)<1:\n",
    "                return False, None\n",
    "            else:\n",
    "                return True, res\n",
    "        \n",
    "        res=helper(root, s)\n",
    "        return res[1]"
   ]
  },
  {
   "cell_type": "markdown",
   "metadata": {},
   "source": [
    "## Attempt 2 - Accepted"
   ]
  },
  {
   "cell_type": "code",
   "execution_count": null,
   "metadata": {},
   "outputs": [],
   "source": [
    "# Definition for a binary tree node.\n",
    "# class TreeNode:\n",
    "#     def __init__(self, val=0, left=None, right=None):\n",
    "#         self.val = val\n",
    "#         self.left = left\n",
    "#         self.right = right\n",
    "class Solution:\n",
    "    def pathSum(self, root: TreeNode, s: int) -> List[List[int]]:\n",
    "        \n",
    "        def helper(root, target):\n",
    "            if root is None:\n",
    "                return False, None\n",
    "            if root.left is None and root.right is None:\n",
    "                if root.val==target:\n",
    "                    return True, [[root.val]]\n",
    "                else:\n",
    "                    return False, None\n",
    "            res=[]\n",
    "            left=helper(root.left, target-root.val)\n",
    "            if left[0]:\n",
    "                for l in left[1]:\n",
    "                    res.append([root.val]+l)\n",
    "            right=helper(root.right, target-root.val)\n",
    "            if right[0]:\n",
    "                for r in right[1]:\n",
    "                    res.append([root.val]+r)\n",
    "            \n",
    "            if len(res)<1:\n",
    "                return False, None\n",
    "            else:\n",
    "                return True, res\n",
    "        \n",
    "        res=helper(root, s)\n",
    "        if res[0]:\n",
    "            return res[1]            \n",
    "        else:\n",
    "            return []"
   ]
  },
  {
   "cell_type": "markdown",
   "metadata": {},
   "source": [
    "## Lessons and Thoughts\n",
    "- It seems that you always get tripped over when returning a list of lists in recursion."
   ]
  }
 ],
 "metadata": {
  "kernelspec": {
   "display_name": "Python 3",
   "language": "python",
   "name": "python3"
  },
  "language_info": {
   "codemirror_mode": {
    "name": "ipython",
    "version": 3
   },
   "file_extension": ".py",
   "mimetype": "text/x-python",
   "name": "python",
   "nbconvert_exporter": "python",
   "pygments_lexer": "ipython3",
   "version": "3.7.3"
  }
 },
 "nbformat": 4,
 "nbformat_minor": 2
}
