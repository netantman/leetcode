{
 "cells": [
  {
   "cell_type": "markdown",
   "metadata": {},
   "source": [
    "## Attempt 1 - Accepted"
   ]
  },
  {
   "cell_type": "code",
   "execution_count": null,
   "metadata": {},
   "outputs": [],
   "source": [
    "\"\"\"\n",
    "# Definition for a Node.\n",
    "class Node:\n",
    "    def __init__(self, val=None, children=None):\n",
    "        self.val = val\n",
    "        self.children = children if children is not None else []\n",
    "\"\"\"\n",
    "\n",
    "class Solution:\n",
    "    def diameter(self, root: 'Node') -> int:\n",
    "        \"\"\"\n",
    "        :type root: 'Node'\n",
    "        :rtype: int\n",
    "        \"\"\"\n",
    "        \n",
    "        self.res = 0\n",
    "        \n",
    "        def inner(root):\n",
    "            if not root.children:\n",
    "                return 0\n",
    "            \n",
    "            paths = [inner(c) for c in root.children]\n",
    "            if len(paths) >= 2:\n",
    "                p1, p2 = heapq.nlargest(2, paths)\n",
    "                self.res = max(self.res, p1 + p2 + 2)\n",
    "                return max(p1 + 1, p2 + 1)\n",
    "            else:\n",
    "                p = paths[0]\n",
    "                self.res = max(self.res, p + 1)\n",
    "                return p + 1\n",
    "\n",
    "        _ = inner(root)\n",
    "        return self.res"
   ]
  },
  {
   "cell_type": "markdown",
   "metadata": {},
   "source": [
    "## Lessons and Thoughts\n",
    "- Straightforward with recursion"
   ]
  }
 ],
 "metadata": {
  "kernelspec": {
   "display_name": "Python 3",
   "language": "python",
   "name": "python3"
  },
  "language_info": {
   "codemirror_mode": {
    "name": "ipython",
    "version": 3
   },
   "file_extension": ".py",
   "mimetype": "text/x-python",
   "name": "python",
   "nbconvert_exporter": "python",
   "pygments_lexer": "ipython3",
   "version": "3.7.3"
  }
 },
 "nbformat": 4,
 "nbformat_minor": 2
}
