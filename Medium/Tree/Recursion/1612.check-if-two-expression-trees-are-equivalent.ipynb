{
 "cells": [
  {
   "cell_type": "markdown",
   "metadata": {},
   "source": [
    "## Attempt 1 - Accepted"
   ]
  },
  {
   "cell_type": "code",
   "execution_count": null,
   "metadata": {},
   "outputs": [],
   "source": [
    "# Definition for a binary tree node.\n",
    "# class Node(object):\n",
    "#     def __init__(self, val=\" \", left=None, right=None):\n",
    "#         self.val = val\n",
    "#         self.left = left\n",
    "#         self.right = right\n",
    "class Solution:\n",
    "    def checkEquivalence(self, root1: 'Node', root2: 'Node') -> bool:\n",
    "        \n",
    "        def inner(root):\n",
    "            \n",
    "            if root.left is None and root.right is None:\n",
    "                return [root.val]\n",
    "            \n",
    "            left = inner(root.left)\n",
    "            right = inner(root.right)\n",
    "            return left + right\n",
    "        \n",
    "        return sorted(inner(root1)) == sorted(inner(root2))"
   ]
  },
  {
   "cell_type": "markdown",
   "metadata": {},
   "source": [
    "## Lessons and Thoughts\n",
    "- The boundary conditions are already taken care of by the problem."
   ]
  }
 ],
 "metadata": {
  "kernelspec": {
   "display_name": "Python 3",
   "language": "python",
   "name": "python3"
  },
  "language_info": {
   "codemirror_mode": {
    "name": "ipython",
    "version": 3
   },
   "file_extension": ".py",
   "mimetype": "text/x-python",
   "name": "python",
   "nbconvert_exporter": "python",
   "pygments_lexer": "ipython3",
   "version": "3.7.3"
  }
 },
 "nbformat": 4,
 "nbformat_minor": 2
}
