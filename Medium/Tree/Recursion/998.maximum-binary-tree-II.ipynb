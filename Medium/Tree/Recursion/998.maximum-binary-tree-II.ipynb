{
 "cells": [
  {
   "cell_type": "markdown",
   "metadata": {},
   "source": [
    "## Attempt 1 - Accepted"
   ]
  },
  {
   "cell_type": "code",
   "execution_count": null,
   "metadata": {},
   "outputs": [],
   "source": [
    "# Definition for a binary tree node.\n",
    "# class TreeNode:\n",
    "#     def __init__(self, val=0, left=None, right=None):\n",
    "#         self.val = val\n",
    "#         self.left = left\n",
    "#         self.right = right\n",
    "class Solution:\n",
    "    def insertIntoMaxTree(self, root: TreeNode, val: int) -> TreeNode:\n",
    "        def inner(root, val):\n",
    "            if root is None:\n",
    "                return TreeNode(val=val)\n",
    "            if val>root.val:\n",
    "                new=TreeNode(val=val)\n",
    "                new.left=root\n",
    "                return new\n",
    "            else:\n",
    "                right=inner(root.right, val)\n",
    "                root.right=right\n",
    "                return root\n",
    "        root=inner(root,val)\n",
    "        return root"
   ]
  },
  {
   "cell_type": "markdown",
   "metadata": {},
   "source": [
    "## Lessons and Thoughts\n",
    "- Recursion as usual. But it is not clear how the added node should be attached."
   ]
  }
 ],
 "metadata": {
  "kernelspec": {
   "display_name": "Python 3",
   "language": "python",
   "name": "python3"
  },
  "language_info": {
   "codemirror_mode": {
    "name": "ipython",
    "version": 3
   },
   "file_extension": ".py",
   "mimetype": "text/x-python",
   "name": "python",
   "nbconvert_exporter": "python",
   "pygments_lexer": "ipython3",
   "version": "3.7.3"
  }
 },
 "nbformat": 4,
 "nbformat_minor": 2
}
