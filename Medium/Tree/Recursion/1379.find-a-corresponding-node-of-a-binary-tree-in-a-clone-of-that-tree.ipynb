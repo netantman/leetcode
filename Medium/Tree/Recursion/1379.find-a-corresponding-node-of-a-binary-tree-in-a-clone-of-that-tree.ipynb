{
 "cells": [
  {
   "cell_type": "markdown",
   "metadata": {},
   "source": [
    "## Attempt 1 - Accepted"
   ]
  },
  {
   "cell_type": "code",
   "execution_count": null,
   "metadata": {},
   "outputs": [],
   "source": [
    "# Definition for a binary tree node.\n",
    "# class TreeNode:\n",
    "#     def __init__(self, x):\n",
    "#         self.val = x\n",
    "#         self.left = None\n",
    "#         self.right = None\n",
    "\n",
    "class Solution:\n",
    "    def getTargetCopy(self, original: TreeNode, cloned: TreeNode, target: TreeNode) -> TreeNode:\n",
    "        def dfs(original_root, cloned_root):\n",
    "            if original_root is None:\n",
    "                return None\n",
    "            # print(original_root.val, cloned_root.val)\n",
    "            # print(original_root==target)\n",
    "            if original_root==target:\n",
    "                return cloned_root\n",
    "            left=dfs(original_root.left, cloned_root.left)\n",
    "            if left:\n",
    "                return left\n",
    "            right=dfs(original_root.right, cloned_root.right)\n",
    "            if right:\n",
    "                return right\n",
    "            return None\n",
    "        \n",
    "        return dfs(original, cloned)"
   ]
  },
  {
   "cell_type": "markdown",
   "metadata": {},
   "source": [
    "## Lessons and Thoughts\n",
    "- Straightforward - but it seems you always get it backward when testing something is `None`: `if x` means `x` is not `None`."
   ]
  }
 ],
 "metadata": {
  "kernelspec": {
   "display_name": "Python 3",
   "language": "python",
   "name": "python3"
  },
  "language_info": {
   "codemirror_mode": {
    "name": "ipython",
    "version": 3
   },
   "file_extension": ".py",
   "mimetype": "text/x-python",
   "name": "python",
   "nbconvert_exporter": "python",
   "pygments_lexer": "ipython3",
   "version": "3.7.3"
  }
 },
 "nbformat": 4,
 "nbformat_minor": 2
}
