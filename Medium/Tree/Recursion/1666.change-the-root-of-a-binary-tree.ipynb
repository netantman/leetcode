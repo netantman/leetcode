{
 "cells": [
  {
   "cell_type": "markdown",
   "metadata": {},
   "source": [
    "## Attempt 1 - Accepted"
   ]
  },
  {
   "cell_type": "code",
   "execution_count": null,
   "metadata": {},
   "outputs": [],
   "source": [
    "\"\"\"\n",
    "# Definition for a Node.\n",
    "class Node:\n",
    "    def __init__(self, val):\n",
    "        self.val = val\n",
    "        self.left = None\n",
    "        self.right = None\n",
    "        self.parent = None\n",
    "\"\"\"\n",
    "\n",
    "class Solution:\n",
    "    def flipBinaryTree(self, root: 'Node', leaf: 'Node') -> 'Node':\n",
    "        \n",
    "        def inner(cur):\n",
    "            if cur == root:\n",
    "                return cur\n",
    "            \n",
    "            if cur.parent.left == cur:\n",
    "                cur.parent.left = None\n",
    "            if cur.parent.right == cur:\n",
    "                cur.parent.right = None\n",
    "\n",
    "            if cur.left:\n",
    "                cur.right = cur.left\n",
    "            cur.left = inner(cur.parent)\n",
    "            cur.parent.parent = cur\n",
    "            if cur == leaf:\n",
    "                cur.parent = None\n",
    "            return cur\n",
    "        \n",
    "        return inner(leaf)"
   ]
  },
  {
   "cell_type": "markdown",
   "metadata": {},
   "source": [
    "## Lessons and Thoughts\n",
    "- The recursion takes a while to get right, and also the extra need to adjust `parent`."
   ]
  }
 ],
 "metadata": {
  "kernelspec": {
   "display_name": "Python 3",
   "language": "python",
   "name": "python3"
  },
  "language_info": {
   "codemirror_mode": {
    "name": "ipython",
    "version": 3
   },
   "file_extension": ".py",
   "mimetype": "text/x-python",
   "name": "python",
   "nbconvert_exporter": "python",
   "pygments_lexer": "ipython3",
   "version": "3.7.3"
  }
 },
 "nbformat": 4,
 "nbformat_minor": 2
}
