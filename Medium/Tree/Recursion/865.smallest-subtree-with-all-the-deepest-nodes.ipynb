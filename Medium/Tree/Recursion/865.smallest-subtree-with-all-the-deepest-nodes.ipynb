{
 "cells": [
  {
   "cell_type": "markdown",
   "metadata": {},
   "source": [
    "## Attempt 1 - Wrong Answer"
   ]
  },
  {
   "cell_type": "code",
   "execution_count": null,
   "metadata": {},
   "outputs": [],
   "source": [
    "# Definition for a binary tree node.\n",
    "# class TreeNode:\n",
    "#     def __init__(self, val=0, left=None, right=None):\n",
    "#         self.val = val\n",
    "#         self.left = left\n",
    "#         self.right = right\n",
    "class Solution:\n",
    "    def __init__(self):\n",
    "        self.deepest_lvl=0\n",
    "    def subtreeWithAllDeepest(self, root: TreeNode) -> TreeNode:\n",
    "        record=dict()\n",
    "        def inner(root, lvl, record):\n",
    "            if root is None:\n",
    "                return []\n",
    "            self.deepest_lvl=max(self.deepest_lvl, lvl)\n",
    "            if root.left is None and root.right is None:\n",
    "                record[lvl]=record.get(lvl,[])+[(root,[root.val])]\n",
    "                return [root.val]\n",
    "            \n",
    "            left=inner(root.left, lvl+1, record)\n",
    "            right=inner(root.right, lvl+1, record)\n",
    "            subnodes=[root.val]+left+right\n",
    "            record[lvl]=record.get(lvl,[])+[(root, subnodes)]\n",
    "            return subnodes\n",
    "        _=inner(root, 0, record)\n",
    "        deepest_nodes=set([r[1][0] for r in record[self.deepest_lvl]])\n",
    "        \n",
    "        for lvl in range(self.deepest_lvl-1,-1,-1): ## --> it is possible that the deepest is a single-node tree\n",
    "            curr=record[lvl]\n",
    "            for r in curr:\n",
    "                if set(r[1])>=deepest_nodes:\n",
    "                    return r[0]\n",
    "        \n",
    "        return root"
   ]
  },
  {
   "cell_type": "markdown",
   "metadata": {},
   "source": [
    "## Attempt 2 - Accepted"
   ]
  },
  {
   "cell_type": "code",
   "execution_count": null,
   "metadata": {},
   "outputs": [],
   "source": [
    "# Definition for a binary tree node.\n",
    "# class TreeNode:\n",
    "#     def __init__(self, val=0, left=None, right=None):\n",
    "#         self.val = val\n",
    "#         self.left = left\n",
    "#         self.right = right\n",
    "class Solution:\n",
    "    def __init__(self):\n",
    "        self.deepest_lvl=0\n",
    "    def subtreeWithAllDeepest(self, root: TreeNode) -> TreeNode:\n",
    "        record=dict()\n",
    "        def inner(root, lvl, record):\n",
    "            if root is None:\n",
    "                return []\n",
    "            self.deepest_lvl=max(self.deepest_lvl, lvl)\n",
    "            if root.left is None and root.right is None:\n",
    "                record[lvl]=record.get(lvl,[])+[(root,[root.val])]\n",
    "                return [root.val]\n",
    "            \n",
    "            left=inner(root.left, lvl+1, record)\n",
    "            right=inner(root.right, lvl+1, record)\n",
    "            subnodes=[root.val]+left+right\n",
    "            record[lvl]=record.get(lvl,[])+[(root, subnodes)]\n",
    "            return subnodes\n",
    "        _=inner(root, 0, record)\n",
    "        deepest_nodes=set([r[1][0] for r in record[self.deepest_lvl]])\n",
    "        \n",
    "        for lvl in range(self.deepest_lvl,-1,-1):\n",
    "            curr=record[lvl]\n",
    "            for r in curr:\n",
    "                if set(r[1])>=deepest_nodes:\n",
    "                    return r[0]\n",
    "        \n",
    "        return root"
   ]
  },
  {
   "cell_type": "markdown",
   "metadata": {},
   "source": [
    "## Lessons and Thoughts\n",
    "- Just when you think that you are pretty good at dealing with edge cases for trees, this and Problem 863 are slaps to the face."
   ]
  }
 ],
 "metadata": {
  "kernelspec": {
   "display_name": "Python 3",
   "language": "python",
   "name": "python3"
  },
  "language_info": {
   "codemirror_mode": {
    "name": "ipython",
    "version": 3
   },
   "file_extension": ".py",
   "mimetype": "text/x-python",
   "name": "python",
   "nbconvert_exporter": "python",
   "pygments_lexer": "ipython3",
   "version": "3.7.3"
  }
 },
 "nbformat": 4,
 "nbformat_minor": 2
}
