{
 "cells": [
  {
   "cell_type": "markdown",
   "metadata": {},
   "source": [
    "## Attempt 1 - Accepted"
   ]
  },
  {
   "cell_type": "code",
   "execution_count": null,
   "metadata": {},
   "outputs": [],
   "source": [
    "# Definition for a binary tree node.\n",
    "# class TreeNode:\n",
    "#     def __init__(self, val=0, left=None, right=None):\n",
    "#         self.val = val\n",
    "#         self.left = left\n",
    "#         self.right = right\n",
    "class Solution:\n",
    "    def printTree(self, root: TreeNode) -> List[List[str]]:\n",
    "        q=[root]\n",
    "        cnt=1\n",
    "        while len(q)>0:\n",
    "            nexxt=[]\n",
    "            for node in q:\n",
    "                if node.left is not None:\n",
    "                    nexxt.append(node.left)\n",
    "                if node.right is not None:\n",
    "                    nexxt.append(node.right)\n",
    "            if len(nexxt)>0:\n",
    "                cnt+=1\n",
    "            q=nexxt\n",
    "        numRows=cnt\n",
    "        numCols=2**numRows-1\n",
    "        \n",
    "        res=[[\"\" for _ in range(numCols)] for _ in range(numRows)]\n",
    "        \n",
    "        def inner(node, res, row, colStart, colEnd):\n",
    "            if node is None:\n",
    "                return\n",
    "            mid=(colStart+colEnd)//2\n",
    "            res[row][mid]=str(node.val)\n",
    "            inner(node.left, res, row+1,colStart,mid-1)\n",
    "            inner(node.right, res, row+1,mid+1,colEnd)\n",
    "            return\n",
    "        \n",
    "        inner(root, res, 0, 0, numCols-1)\n",
    "        return res"
   ]
  },
  {
   "cell_type": "markdown",
   "metadata": {},
   "source": [
    "## Lessons and Thoughts\n",
    "- The first key is to recognize how many rows and columns there are in the result.\n",
    "- A solution on the leetcode app further figure out the exact row and col a node should be. I prefer the above accepted algo using recursion though, cleaner and easier to figure out in the stress of an interview."
   ]
  }
 ],
 "metadata": {
  "kernelspec": {
   "display_name": "Python 3",
   "language": "python",
   "name": "python3"
  },
  "language_info": {
   "codemirror_mode": {
    "name": "ipython",
    "version": 3
   },
   "file_extension": ".py",
   "mimetype": "text/x-python",
   "name": "python",
   "nbconvert_exporter": "python",
   "pygments_lexer": "ipython3",
   "version": "3.7.3"
  }
 },
 "nbformat": 4,
 "nbformat_minor": 2
}
