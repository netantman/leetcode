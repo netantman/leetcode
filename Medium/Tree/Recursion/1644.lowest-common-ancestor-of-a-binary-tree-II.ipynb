{
 "cells": [
  {
   "cell_type": "markdown",
   "metadata": {},
   "source": [
    "## Attempt 1 - Accepted"
   ]
  },
  {
   "cell_type": "code",
   "execution_count": null,
   "metadata": {},
   "outputs": [],
   "source": [
    "# Definition for a binary tree node.\n",
    "# class TreeNode:\n",
    "#     def __init__(self, x):\n",
    "#         self.val = x\n",
    "#         self.left = None\n",
    "#         self.right = None\n",
    "\n",
    "class Solution:\n",
    "    def lowestCommonAncestor(self, root: 'TreeNode', p: 'TreeNode', q: 'TreeNode') -> 'TreeNode':\n",
    "        \n",
    "        self.res = None\n",
    "        nodes = {p, q}\n",
    "        \n",
    "        def inner(root):\n",
    "            if root is None:\n",
    "                return {n.val : False for n in nodes}\n",
    "            \n",
    "            res = {n.val : False for n in nodes}\n",
    "            if root.val in res:\n",
    "                res[root.val] = True\n",
    "            \n",
    "            left = inner(root.left)\n",
    "            right = inner(root.right)\n",
    "            \n",
    "            for n in nodes:\n",
    "                res[n.val] = res[n.val] or left[n.val] or right[n.val]\n",
    "            \n",
    "            if self.res is None and all(res.values()):\n",
    "                self.res = root\n",
    "            \n",
    "            return res\n",
    "        \n",
    "        _ = inner(root)\n",
    "        return self.res     "
   ]
  },
  {
   "cell_type": "markdown",
   "metadata": {},
   "source": [
    "## Lessons and Thoughts\n",
    "- Straightforward"
   ]
  }
 ],
 "metadata": {
  "kernelspec": {
   "display_name": "Python 3",
   "language": "python",
   "name": "python3"
  },
  "language_info": {
   "codemirror_mode": {
    "name": "ipython",
    "version": 3
   },
   "file_extension": ".py",
   "mimetype": "text/x-python",
   "name": "python",
   "nbconvert_exporter": "python",
   "pygments_lexer": "ipython3",
   "version": "3.7.3"
  }
 },
 "nbformat": 4,
 "nbformat_minor": 2
}
