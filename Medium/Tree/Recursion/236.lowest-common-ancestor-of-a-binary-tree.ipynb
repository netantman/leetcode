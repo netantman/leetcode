{
 "cells": [
  {
   "cell_type": "markdown",
   "metadata": {},
   "source": [
    "## Attempt 1 - Accepted"
   ]
  },
  {
   "cell_type": "code",
   "execution_count": null,
   "metadata": {},
   "outputs": [],
   "source": [
    "# Definition for a binary tree node.\n",
    "# class TreeNode:\n",
    "#     def __init__(self, x):\n",
    "#         self.val = x\n",
    "#         self.left = None\n",
    "#         self.right = None\n",
    "\n",
    "class Solution:\n",
    "    def lowestCommonAncestor(self, root: 'TreeNode', p: 'TreeNode', q: 'TreeNode') -> 'TreeNode':\n",
    "        def LCA(root, p, q):\n",
    "            if root is None:\n",
    "                return (None, False, False)\n",
    "            \n",
    "            left=LCA(root.left, p, q)\n",
    "            right=LCA(root.right, p, q)\n",
    "            if left[0] is not None:\n",
    "                return left\n",
    "            if right[0] is not None:\n",
    "                return right\n",
    "            p_exists=(root==p) or left[1] or right[1]\n",
    "            q_exists=(root==q) or left[2] or right[2]\n",
    "            if p_exists and q_exists:\n",
    "                return (root, True, True)\n",
    "            else:\n",
    "                return (None, p_exists, q_exists)\n",
    "            \n",
    "        res=LCA(root, p, q)\n",
    "        return res[0]"
   ]
  },
  {
   "cell_type": "markdown",
   "metadata": {},
   "source": [
    "## Lessons and Thoughts\n",
    "- Same algo as in Problem 235."
   ]
  }
 ],
 "metadata": {
  "kernelspec": {
   "display_name": "Python 3",
   "language": "python",
   "name": "python3"
  },
  "language_info": {
   "codemirror_mode": {
    "name": "ipython",
    "version": 3
   },
   "file_extension": ".py",
   "mimetype": "text/x-python",
   "name": "python",
   "nbconvert_exporter": "python",
   "pygments_lexer": "ipython3",
   "version": "3.7.3"
  }
 },
 "nbformat": 4,
 "nbformat_minor": 2
}
