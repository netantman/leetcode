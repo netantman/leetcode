{
 "cells": [
  {
   "cell_type": "markdown",
   "metadata": {},
   "source": [
    "## Attempt 1 - Accepted"
   ]
  },
  {
   "cell_type": "code",
   "execution_count": null,
   "metadata": {},
   "outputs": [],
   "source": [
    "# Definition for a binary tree node.\n",
    "# class TreeNode:\n",
    "#     def __init__(self, x):\n",
    "#         self.val = x\n",
    "#         self.left = None\n",
    "#         self.right = None\n",
    "\n",
    "class Codec:\n",
    "\n",
    "    def serialize(self, root: TreeNode) -> str:\n",
    "        \"\"\"Encodes a tree to a single string.\n",
    "        \"\"\"\n",
    "        \n",
    "        if root is None:\n",
    "            return str(None)\n",
    "        \n",
    "        left=self.serialize(root.left)\n",
    "        right=self.serialize(root.right)\n",
    "        return str(root.val)+\",\"+left+\",\"+right\n",
    "\n",
    "    def deserialize(self, data: str) -> TreeNode:\n",
    "        \"\"\"Decodes your encoded data to tree.\n",
    "        \"\"\"\n",
    "        \n",
    "        def inner(data):\n",
    "            if len(data)<1 or data[0]==str(None):\n",
    "                return None, data[1:]\n",
    "        \n",
    "            root=TreeNode(data[0])\n",
    "            left, rest=inner(data[1:])\n",
    "            right, rest=inner(rest)\n",
    "            root.left=left\n",
    "            root.right=right\n",
    "            return root, rest\n",
    "        \n",
    "        data=data.split(\",\")\n",
    "        root,_=inner(data)\n",
    "        return root\n",
    "        \n",
    "        \n",
    "\n",
    "# Your Codec object will be instantiated and called as such:\n",
    "# codec = Codec()\n",
    "# codec.deserialize(codec.serialize(root))"
   ]
  },
  {
   "cell_type": "markdown",
   "metadata": {},
   "source": [
    "## Lessons and Thoughts\n",
    "- So it seems preorder serialization will work, as long as we record null tree as such too."
   ]
  }
 ],
 "metadata": {
  "kernelspec": {
   "display_name": "Python 3",
   "language": "python",
   "name": "python3"
  },
  "language_info": {
   "codemirror_mode": {
    "name": "ipython",
    "version": 3
   },
   "file_extension": ".py",
   "mimetype": "text/x-python",
   "name": "python",
   "nbconvert_exporter": "python",
   "pygments_lexer": "ipython3",
   "version": "3.7.3"
  }
 },
 "nbformat": 4,
 "nbformat_minor": 2
}
