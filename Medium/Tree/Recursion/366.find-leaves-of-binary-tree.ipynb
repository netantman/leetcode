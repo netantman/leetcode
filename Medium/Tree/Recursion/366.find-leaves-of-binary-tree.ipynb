{
 "cells": [
  {
   "cell_type": "markdown",
   "metadata": {},
   "source": [
    "## Attempt 1 - Accepted"
   ]
  },
  {
   "cell_type": "code",
   "execution_count": null,
   "metadata": {},
   "outputs": [],
   "source": [
    "# Definition for a binary tree node.\n",
    "# class TreeNode:\n",
    "#     def __init__(self, val=0, left=None, right=None):\n",
    "#         self.val = val\n",
    "#         self.left = left\n",
    "#         self.right = right\n",
    "class Solution:\n",
    "    def findLeaves(self, root: Optional[TreeNode]) -> List[List[int]]:\n",
    "        self.record = defaultdict(list)\n",
    "        def inner(root):            \n",
    "            lvl = 0\n",
    "            if root.left:\n",
    "                l = inner(root.left)\n",
    "                lvl = max(lvl, l)\n",
    "            if root.right:\n",
    "                r = inner(root.right)\n",
    "                lvl = max(lvl, r)\n",
    "            self.record[lvl + 1].append(root.val)\n",
    "            return lvl + 1\n",
    "        \n",
    "        inner(root)\n",
    "        return self.record.values()"
   ]
  },
  {
   "cell_type": "markdown",
   "metadata": {},
   "source": [
    "## Lessons and Thoughts\n",
    "- Straightforward once you realize this is to calculate the distance of each node to leaf."
   ]
  }
 ],
 "metadata": {
  "kernelspec": {
   "display_name": "Python 3",
   "language": "python",
   "name": "python3"
  },
  "language_info": {
   "codemirror_mode": {
    "name": "ipython",
    "version": 3
   },
   "file_extension": ".py",
   "mimetype": "text/x-python",
   "name": "python",
   "nbconvert_exporter": "python",
   "pygments_lexer": "ipython3",
   "version": "3.7.3"
  }
 },
 "nbformat": 4,
 "nbformat_minor": 2
}
