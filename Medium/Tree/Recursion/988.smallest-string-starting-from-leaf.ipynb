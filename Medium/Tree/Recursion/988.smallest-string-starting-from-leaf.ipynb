{
 "cells": [
  {
   "cell_type": "markdown",
   "metadata": {},
   "source": [
    "## Attempt 1 - Accepted"
   ]
  },
  {
   "cell_type": "code",
   "execution_count": null,
   "metadata": {},
   "outputs": [],
   "source": [
    "# Definition for a binary tree node.\n",
    "# class TreeNode:\n",
    "#     def __init__(self, val=0, left=None, right=None):\n",
    "#         self.val = val\n",
    "#         self.left = left\n",
    "#         self.right = right\n",
    "class Solution:\n",
    "    def __init__(self):\n",
    "        self.paths=[]\n",
    "        self.curr=\"\"\n",
    "    def smallestFromLeaf(self, root: TreeNode) -> str:\n",
    "        def dfs(root):\n",
    "            if root is None:\n",
    "                return\n",
    "            if root.left is None and root.right is None:\n",
    "                self.paths.append(chr(root.val+ord(\"a\"))+self.curr)\n",
    "                return\n",
    "            self.curr=chr(root.val+ord(\"a\"))+self.curr\n",
    "            dfs(root.left)\n",
    "            dfs(root.right)\n",
    "            self.curr=self.curr[1:]\n",
    "            return\n",
    "        \n",
    "        dfs(root)\n",
    "        return sorted(self.paths)[0]"
   ]
  },
  {
   "cell_type": "markdown",
   "metadata": {},
   "source": [
    "## Lessons and Thoughts\n",
    "- Recursion implementation of DFS is easiest."
   ]
  }
 ],
 "metadata": {
  "kernelspec": {
   "display_name": "Python 3",
   "language": "python",
   "name": "python3"
  },
  "language_info": {
   "codemirror_mode": {
    "name": "ipython",
    "version": 3
   },
   "file_extension": ".py",
   "mimetype": "text/x-python",
   "name": "python",
   "nbconvert_exporter": "python",
   "pygments_lexer": "ipython3",
   "version": "3.7.3"
  }
 },
 "nbformat": 4,
 "nbformat_minor": 2
}
