{
 "cells": [
  {
   "cell_type": "markdown",
   "metadata": {},
   "source": [
    "## Attempt 1 - Accepted"
   ]
  },
  {
   "cell_type": "code",
   "execution_count": null,
   "metadata": {},
   "outputs": [],
   "source": [
    "# Definition for a binary tree node.\n",
    "# class TreeNode:\n",
    "#     def __init__(self, val=0, left=None, right=None):\n",
    "#         self.val = val\n",
    "#         self.left = left\n",
    "#         self.right = right\n",
    "class Solution:\n",
    "    def pseudoPalindromicPaths (self, root: TreeNode) -> int:\n",
    "        \n",
    "        def dfs(root, past):\n",
    "            if root.val in past:\n",
    "                past.remove(root.val)\n",
    "            else:\n",
    "                past.add(root.val)\n",
    "                \n",
    "            if root.left is not None:\n",
    "                dfs(root.left, past)\n",
    "            if root.right is not None:\n",
    "                dfs(root.right, past)\n",
    "            if root.left is None and root.right is None:\n",
    "                if len(past) <= 1:\n",
    "                    self.res += 1\n",
    "                    \n",
    "            if root.val in past:\n",
    "                past.remove(root.val)\n",
    "            else:\n",
    "                past.add(root.val)            \n",
    "            \n",
    "        \n",
    "        self.res = 0\n",
    "        past = set()\n",
    "        dfs(root, past)\n",
    "        return self.res"
   ]
  },
  {
   "cell_type": "markdown",
   "metadata": {},
   "source": [
    "## Lessons and Thoughts\n",
    "- Straightforward with tree recursion."
   ]
  }
 ],
 "metadata": {
  "kernelspec": {
   "display_name": "Python 3",
   "language": "python",
   "name": "python3"
  },
  "language_info": {
   "codemirror_mode": {
    "name": "ipython",
    "version": 3
   },
   "file_extension": ".py",
   "mimetype": "text/x-python",
   "name": "python",
   "nbconvert_exporter": "python",
   "pygments_lexer": "ipython3",
   "version": "3.7.3"
  }
 },
 "nbformat": 4,
 "nbformat_minor": 2
}
