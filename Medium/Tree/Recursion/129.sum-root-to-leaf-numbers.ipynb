{
 "cells": [
  {
   "cell_type": "markdown",
   "metadata": {},
   "source": [
    "## Attempt 1 - Runtime Error: when you get rid of leading 0's, you need to make sure the number itself is not 0!"
   ]
  },
  {
   "cell_type": "code",
   "execution_count": null,
   "metadata": {},
   "outputs": [],
   "source": [
    "# Definition for a binary tree node.\n",
    "# class TreeNode:\n",
    "#     def __init__(self, val=0, left=None, right=None):\n",
    "#         self.val = val\n",
    "#         self.left = left\n",
    "#         self.right = right\n",
    "class Solution:\n",
    "    def sumNumbers(self, root: TreeNode) -> int:\n",
    "        \n",
    "        def helper(root):\n",
    "            if root is None:\n",
    "                return [\"\"]\n",
    "            if root.left is None and root.right is None:\n",
    "                return [str(root.val)]\n",
    "            res=[]\n",
    "            if root.left is not None:\n",
    "                left=helper(root.left)\n",
    "                res=res+[str(root.val)+l for l in left]\n",
    "            if root.right is not None:\n",
    "                right=helper(root.right)\n",
    "                res=res+[str(root.val)+r for r in right]\n",
    "            return res\n",
    "        \n",
    "        if root is None:\n",
    "            return 0\n",
    "        res=helper(root)\n",
    "        to_sum=0\n",
    "        for r in res:\n",
    "            L=len(r)\n",
    "            idx=0\n",
    "            while idx<L:\n",
    "                if r[idx]!=\"0\":\n",
    "                    break\n",
    "                idx+=1\n",
    "            to_sum+=int(r[idx:])\n",
    "        return to_sum"
   ]
  },
  {
   "cell_type": "markdown",
   "metadata": {},
   "source": [
    "## Attempt 2 - Still Runtime Error: it can be all a bunch of zeros!"
   ]
  },
  {
   "cell_type": "code",
   "execution_count": null,
   "metadata": {},
   "outputs": [],
   "source": [
    "# Definition for a binary tree node.\n",
    "# class TreeNode:\n",
    "#     def __init__(self, val=0, left=None, right=None):\n",
    "#         self.val = val\n",
    "#         self.left = left\n",
    "#         self.right = right\n",
    "class Solution:\n",
    "    def sumNumbers(self, root: TreeNode) -> int:\n",
    "        \n",
    "        def helper(root):\n",
    "            if root is None:\n",
    "                return [\"\"]\n",
    "            if root.left is None and root.right is None:\n",
    "                return [str(root.val)]\n",
    "            res=[]\n",
    "            if root.left is not None:\n",
    "                left=helper(root.left)\n",
    "                res=res+[str(root.val)+l for l in left]\n",
    "            if root.right is not None:\n",
    "                right=helper(root.right)\n",
    "                res=res+[str(root.val)+r for r in right]\n",
    "            return res\n",
    "        \n",
    "        if root is None:\n",
    "            return 0\n",
    "        res=helper(root)\n",
    "        to_sum=0\n",
    "        for r in res:\n",
    "            if r!=\"0\":\n",
    "                L=len(r)\n",
    "                idx=0\n",
    "                while idx<L:\n",
    "                    if r[idx]!=\"0\":\n",
    "                        break\n",
    "                    idx+=1\n",
    "                to_sum+=int(r[idx:])\n",
    "        return to_sum"
   ]
  },
  {
   "cell_type": "markdown",
   "metadata": {},
   "source": [
    "## Attempt 3 - Accepted"
   ]
  },
  {
   "cell_type": "code",
   "execution_count": null,
   "metadata": {},
   "outputs": [],
   "source": [
    "# Definition for a binary tree node.\n",
    "# class TreeNode:\n",
    "#     def __init__(self, val=0, left=None, right=None):\n",
    "#         self.val = val\n",
    "#         self.left = left\n",
    "#         self.right = right\n",
    "class Solution:\n",
    "    def sumNumbers(self, root: TreeNode) -> int:\n",
    "        \n",
    "        def helper(root):\n",
    "            if root is None:\n",
    "                return [\"\"]\n",
    "            if root.left is None and root.right is None:\n",
    "                return [str(root.val)]\n",
    "            res=[]\n",
    "            if root.left is not None:\n",
    "                left=helper(root.left)\n",
    "                res=res+[str(root.val)+l for l in left]\n",
    "            if root.right is not None:\n",
    "                right=helper(root.right)\n",
    "                res=res+[str(root.val)+r for r in right]\n",
    "            return res\n",
    "        \n",
    "        if root is None:\n",
    "            return 0\n",
    "        res=helper(root)\n",
    "        to_sum=0\n",
    "        for r in res:\n",
    "            if r!=\"0\":\n",
    "                L=len(r)\n",
    "                idx=0\n",
    "                while idx<L:\n",
    "                    if r[idx]!=\"0\":\n",
    "                        break\n",
    "                    idx+=1\n",
    "                temp=r[idx:]\n",
    "                if temp!=\"\":\n",
    "                    to_sum+=int(r[idx:])\n",
    "        return to_sum"
   ]
  },
  {
   "cell_type": "markdown",
   "metadata": {},
   "source": [
    "## Lessons and Thoughts\n",
    "- Getting rid of leading zeros before transferring it to `int` needs care.\n",
    "    - You cannot simply not add them at each root in the recursion, since it is possible these added 0 will not be leading after all.\n",
    "    - When you get rid of leading 0's, you need to make sure the number itself is not 0!"
   ]
  }
 ],
 "metadata": {
  "kernelspec": {
   "display_name": "Python 3",
   "language": "python",
   "name": "python3"
  },
  "language_info": {
   "codemirror_mode": {
    "name": "ipython",
    "version": 3
   },
   "file_extension": ".py",
   "mimetype": "text/x-python",
   "name": "python",
   "nbconvert_exporter": "python",
   "pygments_lexer": "ipython3",
   "version": "3.7.3"
  }
 },
 "nbformat": 4,
 "nbformat_minor": 2
}
