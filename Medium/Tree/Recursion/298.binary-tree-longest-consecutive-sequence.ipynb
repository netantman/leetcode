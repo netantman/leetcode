{
 "cells": [
  {
   "cell_type": "markdown",
   "metadata": {},
   "source": [
    "## Attempt 1 - Accepted"
   ]
  },
  {
   "cell_type": "code",
   "execution_count": null,
   "metadata": {},
   "outputs": [],
   "source": [
    "# Definition for a binary tree node.\n",
    "# class TreeNode:\n",
    "#     def __init__(self, val=0, left=None, right=None):\n",
    "#         self.val = val\n",
    "#         self.left = left\n",
    "#         self.right = right\n",
    "class Solution:\n",
    "    def longestConsecutive(self, root: Optional[TreeNode]) -> int:\n",
    "        self.res = 1\n",
    "        def inner(root, val, length):\n",
    "            if root.val == val + 1:\n",
    "                self.res = max(self.res, length + 1)\n",
    "                if root.left is not None:\n",
    "                    inner(root.left, root.val, length + 1)\n",
    "                if root.right is not None:\n",
    "                    inner(root.right, root.val, length + 1)\n",
    "            else:\n",
    "                if root.left is not None:\n",
    "                    inner(root.left, root.val, 1)\n",
    "                if root.right is not None:\n",
    "                    inner(root.right, root.val, 1)\n",
    "            return\n",
    "        inner(root, float('inf'), 0)\n",
    "        return self.res"
   ]
  },
  {
   "cell_type": "markdown",
   "metadata": {},
   "source": [
    "## Lessons and Thoughts\n",
    "- Straightforward with recursion"
   ]
  }
 ],
 "metadata": {
  "kernelspec": {
   "display_name": "Python 3",
   "language": "python",
   "name": "python3"
  },
  "language_info": {
   "codemirror_mode": {
    "name": "ipython",
    "version": 3
   },
   "file_extension": ".py",
   "mimetype": "text/x-python",
   "name": "python",
   "nbconvert_exporter": "python",
   "pygments_lexer": "ipython3",
   "version": "3.7.3"
  }
 },
 "nbformat": 4,
 "nbformat_minor": 2
}
