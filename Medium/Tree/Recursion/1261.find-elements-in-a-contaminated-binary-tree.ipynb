{
 "cells": [
  {
   "cell_type": "markdown",
   "metadata": {},
   "source": [
    "## Attempt 1 - Accepted"
   ]
  },
  {
   "cell_type": "code",
   "execution_count": null,
   "metadata": {},
   "outputs": [],
   "source": [
    "# Definition for a binary tree node.\n",
    "# class TreeNode:\n",
    "#     def __init__(self, val=0, left=None, right=None):\n",
    "#         self.val = val\n",
    "#         self.left = left\n",
    "#         self.right = right\n",
    "class FindElements:\n",
    "\n",
    "    def __init__(self, root: TreeNode):\n",
    "        self.vals=set()\n",
    "        def inner(val, root):\n",
    "            if not root:\n",
    "                return\n",
    "            \n",
    "            root.val=val\n",
    "            self.vals.add(val)\n",
    "            inner(val*2+1, root.left)\n",
    "            inner(val*2+2, root.right)\n",
    "            \n",
    "            return\n",
    "        inner(0, root)\n",
    "        \n",
    "\n",
    "    def find(self, target: int) -> bool:\n",
    "        return target in self.vals\n",
    "\n",
    "\n",
    "# Your FindElements object will be instantiated and called as such:\n",
    "# obj = FindElements(root)\n",
    "# param_1 = obj.find(target)"
   ]
  },
  {
   "cell_type": "markdown",
   "metadata": {},
   "source": [
    "## Lessons and Thoughts\n",
    "- Straightforward tree recursion algo."
   ]
  }
 ],
 "metadata": {
  "kernelspec": {
   "display_name": "Python 3",
   "language": "python",
   "name": "python3"
  },
  "language_info": {
   "codemirror_mode": {
    "name": "ipython",
    "version": 3
   },
   "file_extension": ".py",
   "mimetype": "text/x-python",
   "name": "python",
   "nbconvert_exporter": "python",
   "pygments_lexer": "ipython3",
   "version": "3.7.3"
  }
 },
 "nbformat": 4,
 "nbformat_minor": 2
}
