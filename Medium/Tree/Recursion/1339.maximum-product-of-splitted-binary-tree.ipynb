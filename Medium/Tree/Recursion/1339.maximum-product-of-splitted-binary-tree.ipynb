{
 "cells": [
  {
   "cell_type": "markdown",
   "metadata": {},
   "source": [
    "## Attempt 1 - Accepted"
   ]
  },
  {
   "cell_type": "code",
   "execution_count": null,
   "metadata": {},
   "outputs": [],
   "source": [
    "# Definition for a binary tree node.\n",
    "# class TreeNode:\n",
    "#     def __init__(self, val=0, left=None, right=None):\n",
    "#         self.val = val\n",
    "#         self.left = left\n",
    "#         self.right = right\n",
    "class Solution:\n",
    "    def __init__(self):\n",
    "        self._sums=[]\n",
    "    def maxProduct(self, root: TreeNode) -> int:\n",
    "        def inner(root):\n",
    "            if not root:\n",
    "                return\n",
    "            s=root.val\n",
    "            if root.left:\n",
    "                s+=inner(root.left)\n",
    "            if root.right:\n",
    "                s+=inner(root.right)\n",
    "            self._sums.append(s)\n",
    "            return s\n",
    "        total=inner(root)\n",
    "        return max([(total-s)*s for s in self._sums])%(10**9+7)"
   ]
  },
  {
   "cell_type": "markdown",
   "metadata": {},
   "source": [
    "## Lessons and Thoughts\n",
    "- Not sure why it is labeled dynamic programming and DFS."
   ]
  }
 ],
 "metadata": {
  "kernelspec": {
   "display_name": "Python 3",
   "language": "python",
   "name": "python3"
  },
  "language_info": {
   "codemirror_mode": {
    "name": "ipython",
    "version": 3
   },
   "file_extension": ".py",
   "mimetype": "text/x-python",
   "name": "python",
   "nbconvert_exporter": "python",
   "pygments_lexer": "ipython3",
   "version": "3.7.3"
  }
 },
 "nbformat": 4,
 "nbformat_minor": 2
}
