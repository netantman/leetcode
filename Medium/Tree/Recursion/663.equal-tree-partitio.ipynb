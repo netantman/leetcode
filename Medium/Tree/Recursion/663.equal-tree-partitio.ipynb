{
 "cells": [
  {
   "cell_type": "markdown",
   "metadata": {},
   "source": [
    "## Attempt 1 - Wrong Answer"
   ]
  },
  {
   "cell_type": "code",
   "execution_count": null,
   "metadata": {},
   "outputs": [],
   "source": [
    "# Definition for a binary tree node.\n",
    "# class TreeNode:\n",
    "#     def __init__(self, val=0, left=None, right=None):\n",
    "#         self.val = val\n",
    "#         self.left = left\n",
    "#         self.right = right\n",
    "class Solution:\n",
    "    def checkEqualTree(self, root: Optional[TreeNode]) -> bool:\n",
    "        if root is None:\n",
    "            return False\n",
    "        \n",
    "        self.record = defaultdict(int) \n",
    "        \n",
    "        def calc_sum(root):\n",
    "            if root is None:\n",
    "                return 0\n",
    "            l, r = calc_sum(root.left), calc_sum(root.right)\n",
    "            s = root.val + l + r\n",
    "            self.record[s] += 1\n",
    "            return s\n",
    "        \n",
    "        s = calc_sum(root)\n",
    "        \n",
    "        if s == 0 and self.record[0] > 1: ## --> there could be just one 0\n",
    "            return True  \n",
    "        \n",
    "        if self.record.get(s // 2, 0) > 0: ## --> // is a bad idea\n",
    "            return True\n",
    "        \n",
    "        return False  "
   ]
  },
  {
   "cell_type": "markdown",
   "metadata": {},
   "source": [
    "## Attempt 2 - Accepted"
   ]
  },
  {
   "cell_type": "code",
   "execution_count": null,
   "metadata": {},
   "outputs": [],
   "source": [
    "# Definition for a binary tree node.\n",
    "# class TreeNode:\n",
    "#     def __init__(self, val=0, left=None, right=None):\n",
    "#         self.val = val\n",
    "#         self.left = left\n",
    "#         self.right = right\n",
    "class Solution:\n",
    "    def checkEqualTree(self, root: Optional[TreeNode]) -> bool:\n",
    "        if root is None:\n",
    "            return False\n",
    "        \n",
    "        self.record = defaultdict(int) \n",
    "        \n",
    "        def calc_sum(root):\n",
    "            if root is None:\n",
    "                return 0\n",
    "            l, r = calc_sum(root.left), calc_sum(root.right)\n",
    "            s = root.val + l + r\n",
    "            self.record[s] += 1\n",
    "            return s\n",
    "        \n",
    "        s = calc_sum(root)\n",
    "        \n",
    "#         print(self.record)\n",
    "        \n",
    "        if s == 0 and self.record[0] > 1:\n",
    "            return True\n",
    "    \n",
    "        if s == 0 and self.record[0] <= 1:\n",
    "            return False\n",
    "        \n",
    "        if self.record.get(s / 2, 0) > 0:\n",
    "            return True\n",
    "        \n",
    "        return False  "
   ]
  },
  {
   "cell_type": "markdown",
   "metadata": {},
   "source": [
    "## Lessons and Thoughts\n",
    "- "
   ]
  }
 ],
 "metadata": {
  "kernelspec": {
   "display_name": "Python 3",
   "language": "python",
   "name": "python3"
  },
  "language_info": {
   "codemirror_mode": {
    "name": "ipython",
    "version": 3
   },
   "file_extension": ".py",
   "mimetype": "text/x-python",
   "name": "python",
   "nbconvert_exporter": "python",
   "pygments_lexer": "ipython3",
   "version": "3.7.3"
  }
 },
 "nbformat": 4,
 "nbformat_minor": 2
}
