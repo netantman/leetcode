{
 "cells": [
  {
   "cell_type": "markdown",
   "metadata": {},
   "source": [
    "## Attempt 1 - Wrong Answer"
   ]
  },
  {
   "cell_type": "code",
   "execution_count": null,
   "metadata": {},
   "outputs": [],
   "source": [
    "# Definition for a binary tree node.\n",
    "# class TreeNode:\n",
    "#     def __init__(self, val=0, left=None, right=None):\n",
    "#         self.val = val\n",
    "#         self.left = left\n",
    "#         self.right = right\n",
    "class Solution:\n",
    "    def __init__(self):\n",
    "        self.m=0\n",
    "    def maxAncestorDiff(self, root: TreeNode) -> int:\n",
    "        def inner(root):\n",
    "            if root is None:\n",
    "                return None,None\n",
    "            if root.left is None and root.right is None:\n",
    "                return root.val, root.val\n",
    "            \n",
    "            l,r=float('inf'),-float('inf')\n",
    "            left=inner(root.left)\n",
    "            if left[0]:\n",
    "                l=min(l, left[0]) ## --> forgot to involve root.val\n",
    "                r=max(r, left[1])\n",
    "                self.m=max(self.m, abs(root.val-left[0]), abs(root.val-left[1]))\n",
    "            right=inner(root.right)\n",
    "            if right[0]:\n",
    "                l=min(l, right[0])\n",
    "                r=max(r, right[1])\n",
    "                self.m=max(self.m, abs(root.val-right[0]), abs(root.val-right[1]))\n",
    "            return l,r\n",
    "        \n",
    "        _=inner(root)\n",
    "        return self.m"
   ]
  },
  {
   "cell_type": "markdown",
   "metadata": {},
   "source": [
    "## Attempt 2 - Accepted"
   ]
  },
  {
   "cell_type": "code",
   "execution_count": null,
   "metadata": {},
   "outputs": [],
   "source": [
    "# Definition for a binary tree node.\n",
    "# class TreeNode:\n",
    "#     def __init__(self, val=0, left=None, right=None):\n",
    "#         self.val = val\n",
    "#         self.left = left\n",
    "#         self.right = right\n",
    "class Solution:\n",
    "    def __init__(self):\n",
    "        self.m=0\n",
    "    def maxAncestorDiff(self, root: TreeNode) -> int:\n",
    "        def inner(root):\n",
    "            if root is None:\n",
    "                return None,None\n",
    "            if root.left is None and root.right is None:\n",
    "                return root.val, root.val\n",
    "            \n",
    "            l,r=root.val, root.val\n",
    "            left=inner(root.left)\n",
    "            if left[0] is not None:\n",
    "                l=min(l, left[0])\n",
    "                r=max(r, left[1])\n",
    "                self.m=max(self.m, abs(root.val-left[0]), abs(root.val-left[1]))\n",
    "            right=inner(root.right)\n",
    "            if right[0] is not None:\n",
    "                l=min(l, right[0])\n",
    "                r=max(r, right[1])\n",
    "                self.m=max(self.m, abs(root.val-right[0]), abs(root.val-right[1]))\n",
    "            return l,r\n",
    "        \n",
    "        l,r=inner(root)\n",
    "        return self.m"
   ]
  },
  {
   "cell_type": "markdown",
   "metadata": {},
   "source": [
    "## Lessons and Thoughts\n",
    "- To judge if something is `None` or not, do not use `if not` clause."
   ]
  }
 ],
 "metadata": {
  "kernelspec": {
   "display_name": "Python 3",
   "language": "python",
   "name": "python3"
  },
  "language_info": {
   "codemirror_mode": {
    "name": "ipython",
    "version": 3
   },
   "file_extension": ".py",
   "mimetype": "text/x-python",
   "name": "python",
   "nbconvert_exporter": "python",
   "pygments_lexer": "ipython3",
   "version": "3.7.3"
  }
 },
 "nbformat": 4,
 "nbformat_minor": 2
}
