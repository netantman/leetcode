{
 "cells": [
  {
   "cell_type": "markdown",
   "metadata": {},
   "source": [
    "## Attempt 1 - Wrong Answer"
   ]
  },
  {
   "cell_type": "code",
   "execution_count": null,
   "metadata": {},
   "outputs": [],
   "source": [
    "class Solution:\n",
    "    def pathSum(self, nums: List[int]) -> int:\n",
    "        record = defaultdict(dict)\n",
    "        for num in nums:\n",
    "            num = str(num)\n",
    "            record[int(num[0])][int(num[1])] = [int(num[2]) , 0]\n",
    "            \n",
    "        # print(record)\n",
    "            \n",
    "        res = 0\n",
    "        for lvl in range(4, 0, -1):\n",
    "            if lvl not in record:\n",
    "                continue\n",
    "            curr = record[lvl]\n",
    "            for p, v in curr.items():\n",
    "                res += v[0] * max(v[1], 1)\n",
    "                if lvl - 1 in record:\n",
    "                    record[lvl - 1][(p - 1) // 2 + 1][1] = record[lvl - 1][(p - 1) // 2 + 1][1] + 1 ## --> not just 1\n",
    "            # print(res)\n",
    "        return res"
   ]
  },
  {
   "cell_type": "markdown",
   "metadata": {},
   "source": [
    "## Attempt 2 - Accepted"
   ]
  },
  {
   "cell_type": "code",
   "execution_count": null,
   "metadata": {},
   "outputs": [],
   "source": [
    "class Solution:\n",
    "    def pathSum(self, nums: List[int]) -> int:\n",
    "        record = defaultdict(dict)\n",
    "        for num in nums:\n",
    "            num = str(num)\n",
    "            record[int(num[0])][int(num[1])] = [int(num[2]) , 0]\n",
    "            \n",
    "        # print(record)\n",
    "            \n",
    "        res = 0\n",
    "        for lvl in range(4, 0, -1):\n",
    "            if lvl not in record:\n",
    "                continue\n",
    "            curr = record[lvl]\n",
    "            for p, v in curr.items():\n",
    "                res += v[0] * max(v[1], 1)\n",
    "                if lvl - 1 in record:\n",
    "                    record[lvl - 1][(p - 1) // 2 + 1][1] = record[lvl - 1][(p - 1) // 2 + 1][1] + max(v[1], 1)\n",
    "            # print(res)\n",
    "        return res"
   ]
  },
  {
   "cell_type": "markdown",
   "metadata": {},
   "source": [
    "## Lessons and Thoughts\n",
    "- Each child node may contribute more than 1 path."
   ]
  }
 ],
 "metadata": {
  "kernelspec": {
   "display_name": "Python 3",
   "language": "python",
   "name": "python3"
  },
  "language_info": {
   "codemirror_mode": {
    "name": "ipython",
    "version": 3
   },
   "file_extension": ".py",
   "mimetype": "text/x-python",
   "name": "python",
   "nbconvert_exporter": "python",
   "pygments_lexer": "ipython3",
   "version": "3.7.3"
  }
 },
 "nbformat": 4,
 "nbformat_minor": 2
}
