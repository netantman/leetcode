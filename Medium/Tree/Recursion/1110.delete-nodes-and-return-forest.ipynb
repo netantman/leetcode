{
 "cells": [
  {
   "cell_type": "markdown",
   "metadata": {},
   "source": [
    "## Attempt 1 - Accepted"
   ]
  },
  {
   "cell_type": "code",
   "execution_count": null,
   "metadata": {},
   "outputs": [],
   "source": [
    "# Definition for a binary tree node.\n",
    "# class TreeNode:\n",
    "#     def __init__(self, val=0, left=None, right=None):\n",
    "#         self.val = val\n",
    "#         self.left = left\n",
    "#         self.right = right\n",
    "class Solution:\n",
    "    def delNodes(self, root: TreeNode, to_delete: List[int]) -> List[TreeNode]:\n",
    "        def inner(root):\n",
    "            if not root:\n",
    "                return []\n",
    "            \n",
    "            if root.val in to_delete:\n",
    "                return inner(root.left)+inner(root.right)\n",
    "            else:\n",
    "                left=inner(root.left)\n",
    "                if left and root.left.val==left[0].val:\n",
    "                    left.pop(0)\n",
    "                else:\n",
    "                    root.left=None\n",
    "                right=inner(root.right)\n",
    "                if right and root.right.val==right[0].val:\n",
    "                    right.pop(0)\n",
    "                else:\n",
    "                    root.right=None\n",
    "                return [root]+left+right\n",
    "        return inner(root)"
   ]
  },
  {
   "cell_type": "markdown",
   "metadata": {},
   "source": [
    "## Lessons and Thoughts\n",
    "- Usual recursion to solve tree problems."
   ]
  }
 ],
 "metadata": {
  "kernelspec": {
   "display_name": "Python 3",
   "language": "python",
   "name": "python3"
  },
  "language_info": {
   "codemirror_mode": {
    "name": "ipython",
    "version": 3
   },
   "file_extension": ".py",
   "mimetype": "text/x-python",
   "name": "python",
   "nbconvert_exporter": "python",
   "pygments_lexer": "ipython3",
   "version": "3.7.3"
  }
 },
 "nbformat": 4,
 "nbformat_minor": 2
}
