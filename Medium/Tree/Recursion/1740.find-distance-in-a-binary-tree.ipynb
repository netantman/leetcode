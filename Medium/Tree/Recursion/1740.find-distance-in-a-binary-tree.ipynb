{
 "cells": [
  {
   "cell_type": "markdown",
   "metadata": {},
   "source": [
    "## Attempt 1 - Wrong Answer"
   ]
  },
  {
   "cell_type": "code",
   "execution_count": null,
   "metadata": {},
   "outputs": [],
   "source": [
    "# Definition for a binary tree node.\n",
    "# class TreeNode:\n",
    "#     def __init__(self, val=0, left=None, right=None):\n",
    "#         self.val = val\n",
    "#         self.left = left\n",
    "#         self.right = right\n",
    "class Solution:\n",
    "    def findDistance(self, root: Optional[TreeNode], p: int, q: int) -> int:\n",
    "        \n",
    "        if p == q:\n",
    "            return 0\n",
    "        \n",
    "        self.res = float('inf')\n",
    "        \n",
    "        def inner(root):\n",
    "            if root is None:\n",
    "                return None, None\n",
    "            \n",
    "            lp, lq = inner(root.left)\n",
    "            rp, rq = inner(root.right)\n",
    "            \n",
    "            if root.val == p:\n",
    "                if lq is not None:\n",
    "                    self.res = min(self.res, 1 + lq)\n",
    "                    return 0, 1 + lq\n",
    "                if rq is not None:\n",
    "                    self.res = min(self.res, 1 + rq)\n",
    "                    return 0, 1 + rq\n",
    "                return 0, None\n",
    "            \n",
    "            if root.val == q:\n",
    "                if lp is not None:\n",
    "                    self.res = min(self.res, 1 + lp)\n",
    "                    return 1 + lp, 0 \n",
    "                if rp is not None:\n",
    "                    self.res = min(self.res, 1 + rp)\n",
    "                    return 1 + rp, 0\n",
    "                return None, 0\n",
    "            \n",
    "            res_p = None\n",
    "            if lp is not None:\n",
    "                res_p = lp + 1\n",
    "            if rp is not None:\n",
    "                res_p = rp + 1\n",
    "            \n",
    "            res_q = None\n",
    "            if lq is not None:\n",
    "                res_q = lq + 1\n",
    "            if rq is not None:\n",
    "                res_q = rq + 1\n",
    "            \n",
    "            if res_p is not None and res_q is not None:\n",
    "                self.res = min(self.res, res_p + res_q)\n",
    "            \n",
    "            return res_p, res_q\n",
    "    \n",
    "        \n",
    "        _ = inner(root)\n",
    "        return self.res\n",
    "            \n",
    "            \n",
    "                    "
   ]
  },
  {
   "cell_type": "markdown",
   "metadata": {},
   "source": [
    "## Lessons and Thoughts\n",
    "- The edge cases are when `p` is in the subtree rooted at `q`, or vice versa.\n",
    "- Since there is a constraint that all nodes' values are unique, it is easier to handle."
   ]
  }
 ],
 "metadata": {
  "kernelspec": {
   "display_name": "Python 3",
   "language": "python",
   "name": "python3"
  },
  "language_info": {
   "codemirror_mode": {
    "name": "ipython",
    "version": 3
   },
   "file_extension": ".py",
   "mimetype": "text/x-python",
   "name": "python",
   "nbconvert_exporter": "python",
   "pygments_lexer": "ipython3",
   "version": "3.7.3"
  }
 },
 "nbformat": 4,
 "nbformat_minor": 2
}
