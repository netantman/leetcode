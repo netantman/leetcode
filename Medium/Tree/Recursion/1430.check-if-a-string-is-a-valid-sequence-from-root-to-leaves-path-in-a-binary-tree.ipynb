{
 "cells": [
  {
   "cell_type": "markdown",
   "metadata": {},
   "source": [
    "## Attempt 1 - Wrong Answer"
   ]
  },
  {
   "cell_type": "code",
   "execution_count": null,
   "metadata": {},
   "outputs": [],
   "source": [
    "# Definition for a binary tree node.\n",
    "# class TreeNode:\n",
    "#     def __init__(self, val=0, left=None, right=None):\n",
    "#         self.val = val\n",
    "#         self.left = left\n",
    "#         self.right = right\n",
    "class Solution:\n",
    "    def isValidSequence(self, root: Optional[TreeNode], arr: List[int]) -> bool:\n",
    "        self.arr = arr\n",
    "        self.L = len(arr)\n",
    "        \n",
    "        def inner(root, idx):\n",
    "            if idx == self.L and root is None:\n",
    "                return True\n",
    "            if idx == self.L:\n",
    "                return False\n",
    "            if root is None:\n",
    "                return False\n",
    "            if self.arr[idx] != root.val:\n",
    "                return False\n",
    "            \n",
    "            left = inner(root.left, idx + 1)\n",
    "            right = inner(root.right, idx + 1)\n",
    "            return left or right\n",
    "        \n",
    "        return inner(root, 0)"
   ]
  },
  {
   "cell_type": "markdown",
   "metadata": {},
   "source": [
    "## Attempt 2 - Accepted"
   ]
  },
  {
   "cell_type": "code",
   "execution_count": null,
   "metadata": {},
   "outputs": [],
   "source": [
    "# Definition for a binary tree node.\n",
    "# class TreeNode:\n",
    "#     def __init__(self, val=0, left=None, right=None):\n",
    "#         self.val = val\n",
    "#         self.left = left\n",
    "#         self.right = right\n",
    "class Solution:\n",
    "    def isValidSequence(self, root: Optional[TreeNode], arr: List[int]) -> bool:\n",
    "        self.arr = arr\n",
    "        self.L = len(arr)\n",
    "        \n",
    "        def inner(root, idx):\n",
    "            if root is None:\n",
    "                return False\n",
    "            if self.arr[idx] != root.val:\n",
    "                return False\n",
    "            if idx == self.L - 1:\n",
    "                return (root.left is None) and (root.right is None) \n",
    "            \n",
    "            left = inner(root.left, idx + 1)\n",
    "            right = inner(root.right, idx + 1)\n",
    "            return left or right\n",
    "        \n",
    "        return inner(root, 0)"
   ]
  },
  {
   "cell_type": "markdown",
   "metadata": {},
   "source": [
    "## Lessons and Thoughts\n",
    "- The end condition has not thought through."
   ]
  }
 ],
 "metadata": {
  "kernelspec": {
   "display_name": "Python 3",
   "language": "python",
   "name": "python3"
  },
  "language_info": {
   "codemirror_mode": {
    "name": "ipython",
    "version": 3
   },
   "file_extension": ".py",
   "mimetype": "text/x-python",
   "name": "python",
   "nbconvert_exporter": "python",
   "pygments_lexer": "ipython3",
   "version": "3.7.3"
  }
 },
 "nbformat": 4,
 "nbformat_minor": 2
}
