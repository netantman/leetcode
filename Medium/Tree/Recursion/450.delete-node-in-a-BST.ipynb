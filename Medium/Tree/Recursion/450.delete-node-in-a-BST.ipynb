{
 "cells": [
  {
   "cell_type": "markdown",
   "metadata": {},
   "source": [
    "## Attempt 1 - Wrong Answer"
   ]
  },
  {
   "cell_type": "code",
   "execution_count": null,
   "metadata": {},
   "outputs": [],
   "source": [
    "# Definition for a binary tree node.\n",
    "# class TreeNode:\n",
    "#     def __init__(self, val=0, left=None, right=None):\n",
    "#         self.val = val\n",
    "#         self.left = left\n",
    "#         self.right = right\n",
    "class Solution:\n",
    "    def deleteNode(self, root: TreeNode, key: int) -> TreeNode:\n",
    "        def inner(root, delete, key):\n",
    "            if root is None:\n",
    "                return root\n",
    "            if root.val==key:\n",
    "                delete=True\n",
    "            if not delete:\n",
    "                return root  ## --> even if this node is not to be deleted, you still need to process its children\n",
    "            elif root.left is None and root.right is None:\n",
    "                return None\n",
    "            \n",
    "            new=TreeNode()\n",
    "            if root.left is not None:\n",
    "                new.val=root.left.val\n",
    "                left=inner(root.left, True, key)\n",
    "                new.left=left\n",
    "                new.right=root.right\n",
    "                return new\n",
    "            else:\n",
    "                new.val=root.right.val\n",
    "                right=inner(root.right, True, key)\n",
    "                new.left=None\n",
    "                new.right=right\n",
    "                return new\n",
    "        \n",
    "        return inner(root, False, key)"
   ]
  },
  {
   "cell_type": "markdown",
   "metadata": {},
   "source": [
    "## Attempt 2 - Wrong Answer"
   ]
  },
  {
   "cell_type": "markdown",
   "metadata": {},
   "source": [
    "The test case that fails is \n",
    "\n",
    "$[3,1,4,null,2]$\n",
    "$3$\n",
    "\n",
    "The output by this attempt is $[1,2,4]$, i.e. I deleted the left child and adjust the left tree, which I don't think has a problem. But the expected is $[4,1,null,null,2]$"
   ]
  },
  {
   "cell_type": "code",
   "execution_count": null,
   "metadata": {},
   "outputs": [],
   "source": [
    "# Definition for a binary tree node.\n",
    "# class TreeNode:\n",
    "#     def __init__(self, val=0, left=None, right=None):\n",
    "#         self.val = val\n",
    "#         self.left = left\n",
    "#         self.right = right\n",
    "class Solution:\n",
    "    def deleteNode(self, root: TreeNode, key: int) -> TreeNode:\n",
    "        def inner(root, delete, key):\n",
    "            if root is None:\n",
    "                return root\n",
    "            if root.val==key:\n",
    "                delete=True\n",
    "            if not delete:\n",
    "                left=inner(root.left,False,key)\n",
    "                root.left=left\n",
    "                right=inner(root.right,False,key)\n",
    "                root.right=right\n",
    "                return root\n",
    "            \n",
    "            \n",
    "            if root.left is None and root.right is None:\n",
    "                return None\n",
    "            else:\n",
    "                new=TreeNode()\n",
    "                if root.left is not None:\n",
    "                    new.val=root.left.val\n",
    "                    left=inner(root.left, True, key)\n",
    "                    new.left=left\n",
    "                    new.right=root.right\n",
    "                    return new\n",
    "                else:\n",
    "                    new.val=root.right.val\n",
    "                    right=inner(root.right, True, key)\n",
    "                    new.left=None\n",
    "                    new.right=right\n",
    "                    return new\n",
    "        \n",
    "        return inner(root, False, key)"
   ]
  },
  {
   "cell_type": "markdown",
   "metadata": {},
   "source": [
    "## Lessons and Thoughts\n",
    "- The accepted algo is from [here](https://blog.csdn.net/fuxuemingzhu/article/details/79670068). It is not clear what the requirement of this problem is though."
   ]
  }
 ],
 "metadata": {
  "kernelspec": {
   "display_name": "Python 3",
   "language": "python",
   "name": "python3"
  },
  "language_info": {
   "codemirror_mode": {
    "name": "ipython",
    "version": 3
   },
   "file_extension": ".py",
   "mimetype": "text/x-python",
   "name": "python",
   "nbconvert_exporter": "python",
   "pygments_lexer": "ipython3",
   "version": "3.7.3"
  }
 },
 "nbformat": 4,
 "nbformat_minor": 2
}
