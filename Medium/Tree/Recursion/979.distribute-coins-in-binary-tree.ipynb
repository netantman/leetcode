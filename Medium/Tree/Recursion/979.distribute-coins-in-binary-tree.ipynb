{
 "cells": [
  {
   "cell_type": "markdown",
   "metadata": {},
   "source": [
    "## Attempt 1 - Accepted"
   ]
  },
  {
   "cell_type": "code",
   "execution_count": null,
   "metadata": {},
   "outputs": [],
   "source": [
    "# Definition for a binary tree node.\n",
    "# class TreeNode:\n",
    "#     def __init__(self, val=0, left=None, right=None):\n",
    "#         self.val = val\n",
    "#         self.left = left\n",
    "#         self.right = right\n",
    "class Solution:\n",
    "    def __init__(self):\n",
    "        self.steps=0\n",
    "    def distributeCoins(self, root: TreeNode) -> int:\n",
    "        def inner(root):\n",
    "            if root is None:\n",
    "                return None\n",
    "            if root.left is None and root.right is None:\n",
    "                return root.val-1\n",
    "            elif root.left is None:\n",
    "                right=inner(root.right)\n",
    "                self.steps+=abs(right)\n",
    "                root.val+=right\n",
    "                return root.val-1\n",
    "            elif root.right is None:\n",
    "                left=inner(root.left)\n",
    "                self.steps+=abs(left)\n",
    "                root.val+=left\n",
    "                return root.val-1\n",
    "            else:\n",
    "                left=inner(root.left)\n",
    "                right=inner(root.right)\n",
    "                self.steps+=abs(left)+abs(right)\n",
    "                root.val+=(left+right)\n",
    "                return root.val-1\n",
    "        _=inner(root)\n",
    "        return self.steps"
   ]
  },
  {
   "cell_type": "markdown",
   "metadata": {},
   "source": [
    "## Lessons and Thoughts\n",
    "- Recursion as usual. Took you a bit to figure out the recursion condition."
   ]
  }
 ],
 "metadata": {
  "kernelspec": {
   "display_name": "Python 3",
   "language": "python",
   "name": "python3"
  },
  "language_info": {
   "codemirror_mode": {
    "name": "ipython",
    "version": 3
   },
   "file_extension": ".py",
   "mimetype": "text/x-python",
   "name": "python",
   "nbconvert_exporter": "python",
   "pygments_lexer": "ipython3",
   "version": "3.7.3"
  }
 },
 "nbformat": 4,
 "nbformat_minor": 2
}
