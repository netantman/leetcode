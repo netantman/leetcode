{
 "cells": [
  {
   "cell_type": "markdown",
   "metadata": {},
   "source": [
    "## Attempt 1 - Accepted"
   ]
  },
  {
   "cell_type": "code",
   "execution_count": null,
   "metadata": {},
   "outputs": [],
   "source": [
    "# Definition for a binary tree node.\n",
    "# class TreeNode:\n",
    "#     def __init__(self, val=0, left=None, right=None):\n",
    "#         self.val = val\n",
    "#         self.left = left\n",
    "#         self.right = right\n",
    "class Solution:\n",
    "    def isValidBST(self, root: TreeNode) -> bool:\n",
    "        \n",
    "        def helper(root):\n",
    "            if root is None:\n",
    "                return True, None, None\n",
    "            \n",
    "            left=helper(root.left)\n",
    "            right=helper(root.right)\n",
    "            \n",
    "            if not left[0] or not right[0]:\n",
    "                return False, None, None\n",
    "            \n",
    "            if left[1] is None and right[2] is None:\n",
    "                return True, root.val, root.val\n",
    "            elif left[1] is None:\n",
    "                if root.val<right[1]:\n",
    "                    return True, root.val, right[2]\n",
    "                else:\n",
    "                    return False, None, None\n",
    "            elif right[2] is None:\n",
    "                if root.val>left[2]:\n",
    "                    return True, left[1], root.val\n",
    "                else:\n",
    "                    return False, None, None\n",
    "            else:\n",
    "                if root.val>left[2] and root.val<right[1]:\n",
    "                    return True, left[1], right[2]\n",
    "                else:\n",
    "                    return False, None, None\n",
    "                \n",
    "        res=helper(root)\n",
    "        return res[0]"
   ]
  },
  {
   "cell_type": "markdown",
   "metadata": {},
   "source": [
    "## Attempt 2 - Accepted"
   ]
  },
  {
   "cell_type": "code",
   "execution_count": null,
   "metadata": {},
   "outputs": [],
   "source": [
    "/**\n",
    " * Definition for a binary tree node.\n",
    " * struct TreeNode {\n",
    " *     int val;\n",
    " *     TreeNode *left;\n",
    " *     TreeNode *right;\n",
    " *     TreeNode() : val(0), left(nullptr), right(nullptr) {}\n",
    " *     TreeNode(int x) : val(x), left(nullptr), right(nullptr) {}\n",
    " *     TreeNode(int x, TreeNode *left, TreeNode *right) : val(x), left(left), right(right) {}\n",
    " * };\n",
    " */\n",
    "class Solution {\n",
    "public:\n",
    "    vector<int> seq = {};\n",
    "    void inner(TreeNode* root) {\n",
    "        if (root == nullptr) {\n",
    "            return;\n",
    "        }\n",
    "        inner(root->left);\n",
    "        this->seq.push_back(root->val); ## --> this is a pointer\n",
    "        inner(root->right);\n",
    "    }\n",
    "    bool isValidBST(TreeNode* root) {\n",
    "        inner(root);\n",
    "        int L = this->seq.size();\n",
    "        if (L == 1) {\n",
    "            return true;\n",
    "        }\n",
    "        for (int idx=0; idx < L - 1; idx++) {\n",
    "            if (this->seq[idx] >= this->seq[idx + 1]) {\n",
    "                return false;\n",
    "            }\n",
    "        }\n",
    "        return true;\n",
    "    }\n",
    "};"
   ]
  },
  {
   "cell_type": "markdown",
   "metadata": {},
   "source": [
    "## Lessons and Thoughts\n",
    "- Recursion is powerful for trees, as always\n",
    "- The edge cases are null trees, handling that in the helper helps simplifies the code."
   ]
  }
 ],
 "metadata": {
  "kernelspec": {
   "display_name": "Python 3",
   "language": "python",
   "name": "python3"
  },
  "language_info": {
   "codemirror_mode": {
    "name": "ipython",
    "version": 3
   },
   "file_extension": ".py",
   "mimetype": "text/x-python",
   "name": "python",
   "nbconvert_exporter": "python",
   "pygments_lexer": "ipython3",
   "version": "3.6.5"
  }
 },
 "nbformat": 4,
 "nbformat_minor": 2
}
