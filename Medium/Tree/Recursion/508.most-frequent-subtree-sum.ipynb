{
 "cells": [
  {
   "cell_type": "markdown",
   "metadata": {},
   "source": [
    "## Attempt 1 - Accepted"
   ]
  },
  {
   "cell_type": "markdown",
   "metadata": {},
   "source": [
    "It seems simply define `cache` and `maxx` as variables outside of `inner` will now result in a scope error."
   ]
  },
  {
   "cell_type": "code",
   "execution_count": null,
   "metadata": {},
   "outputs": [],
   "source": [
    "# Definition for a binary tree node.\n",
    "# class TreeNode:\n",
    "#     def __init__(self, val=0, left=None, right=None):\n",
    "#         self.val = val\n",
    "#         self.left = left\n",
    "#         self.right = right\n",
    "class Solution:\n",
    "    def __init__(self):\n",
    "        self.cache=dict()\n",
    "        self.maxx=0\n",
    "    \n",
    "    def findFrequentTreeSum(self, root: TreeNode) -> List[int]:\n",
    "        def inner(root):\n",
    "            if root is None:\n",
    "                return 0\n",
    "            \n",
    "            left=inner(root.left)\n",
    "            right=inner(root.right)\n",
    "            curr=root.val+left+right\n",
    "            if curr in self.cache:\n",
    "                self.cache[curr]+=1\n",
    "            else:\n",
    "                self.cache[curr]=1\n",
    "            self.maxx=max(self.maxx, self.cache[curr])\n",
    "            return curr\n",
    "        \n",
    "        _=inner(root)\n",
    "        res=[k for k in self.cache.keys() if self.cache[k]==self.maxx]\n",
    "        return res"
   ]
  },
  {
   "cell_type": "markdown",
   "metadata": {},
   "source": [
    "## Lessons and Thoughts\n",
    "- The recursion is straightforward. Just be careful not to count the subtree sums multiple times."
   ]
  }
 ],
 "metadata": {
  "kernelspec": {
   "display_name": "Python 3",
   "language": "python",
   "name": "python3"
  },
  "language_info": {
   "codemirror_mode": {
    "name": "ipython",
    "version": 3
   },
   "file_extension": ".py",
   "mimetype": "text/x-python",
   "name": "python",
   "nbconvert_exporter": "python",
   "pygments_lexer": "ipython3",
   "version": "3.7.3"
  }
 },
 "nbformat": 4,
 "nbformat_minor": 2
}
