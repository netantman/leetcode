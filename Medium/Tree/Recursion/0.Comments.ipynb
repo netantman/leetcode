{
 "cells": [
  {
   "cell_type": "markdown",
   "metadata": {},
   "source": [
    "## Idea"
   ]
  },
  {
   "cell_type": "markdown",
   "metadata": {},
   "source": [
    "Most of the tree problems can be solved by recursion, though some recursion algo is not straightforward, e.g. see Problems 655 and 987. Recursions also include those that need DFS, which instead of using stack implementation, uses recursion implementation.\n",
    "\n",
    "**Time complexity**: $O(n)$\n",
    "\n",
    "**Space complexity**: $O(n)$ (including the extra cost of recursion)"
   ]
  },
  {
   "cell_type": "markdown",
   "metadata": {},
   "source": [
    "## Traps\n",
    "- Always checks `None` trees and trees with one single node.\n",
    "- Note that the inner recursion function may return something that is of different format than the required function."
   ]
  },
  {
   "cell_type": "markdown",
   "metadata": {},
   "source": [
    "## Template"
   ]
  },
  {
   "cell_type": "code",
   "execution_count": null,
   "metadata": {},
   "outputs": [],
   "source": [
    "# the inner function sometimes needs to pass outside information in\n",
    "def inner(node): \n",
    "    \n",
    "    if node is None:\n",
    "        return\n",
    "    # do something for this node\n",
    "    \n",
    "    if node.left is not None:\n",
    "        inner(node.left)\n",
    "    if node.right is not None:\n",
    "        inner(node.right)\n",
    "    \n",
    "    return # sometimes the inner function does not return the same format of results as what is required"
   ]
  }
 ],
 "metadata": {
  "kernelspec": {
   "display_name": "Python 3 (ipykernel)",
   "language": "python",
   "name": "python3"
  },
  "language_info": {
   "codemirror_mode": {
    "name": "ipython",
    "version": 3
   },
   "file_extension": ".py",
   "mimetype": "text/x-python",
   "name": "python",
   "nbconvert_exporter": "python",
   "pygments_lexer": "ipython3",
   "version": "3.9.7"
  }
 },
 "nbformat": 4,
 "nbformat_minor": 2
}
