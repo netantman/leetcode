{
 "cells": [
  {
   "cell_type": "markdown",
   "metadata": {},
   "source": [
    "## Attempt 1 - Accepted"
   ]
  },
  {
   "cell_type": "code",
   "execution_count": null,
   "metadata": {},
   "outputs": [],
   "source": [
    "# Definition for a binary tree node.\n",
    "# class TreeNode:\n",
    "#     def __init__(self, val=0, left=None, right=None):\n",
    "#         self.val = val\n",
    "#         self.left = left\n",
    "#         self.right = right\n",
    "class Solution:\n",
    "    def countUnivalSubtrees(self, root: Optional[TreeNode]) -> int:\n",
    "        self.res = 0\n",
    "        def inner(root):\n",
    "            left = set()\n",
    "            if root.left:\n",
    "                left = inner(root.left)\n",
    "            right = set()\n",
    "            if root.right:\n",
    "                right = inner(root.right)\n",
    "            ans = set([root.val]) | left | right\n",
    "            self.res += 1 if len(ans) == 1 else 0\n",
    "            return ans\n",
    "        \n",
    "        if root is None:\n",
    "            return 0\n",
    "        \n",
    "        inner(root)\n",
    "        return self.res"
   ]
  },
  {
   "cell_type": "markdown",
   "metadata": {},
   "source": [
    "## Lessons and Thoughts\n",
    "- Forgot to consider if `root` is None."
   ]
  }
 ],
 "metadata": {
  "kernelspec": {
   "display_name": "Python 3",
   "language": "python",
   "name": "python3"
  },
  "language_info": {
   "codemirror_mode": {
    "name": "ipython",
    "version": 3
   },
   "file_extension": ".py",
   "mimetype": "text/x-python",
   "name": "python",
   "nbconvert_exporter": "python",
   "pygments_lexer": "ipython3",
   "version": "3.7.3"
  }
 },
 "nbformat": 4,
 "nbformat_minor": 2
}
