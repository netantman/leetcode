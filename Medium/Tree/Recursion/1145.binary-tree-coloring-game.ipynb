{
 "cells": [
  {
   "cell_type": "markdown",
   "metadata": {},
   "source": [
    "## Attempt 1 - Accepted"
   ]
  },
  {
   "cell_type": "code",
   "execution_count": null,
   "metadata": {},
   "outputs": [],
   "source": [
    "# Definition for a binary tree node.\n",
    "# class TreeNode:\n",
    "#     def __init__(self, val=0, left=None, right=None):\n",
    "#         self.val = val\n",
    "#         self.left = left\n",
    "#         self.right = right\n",
    "class Solution:\n",
    "    def __init__(self):\n",
    "        self._x_left=0\n",
    "        self._x_right=0\n",
    "    def btreeGameWinningMove(self, root: TreeNode, n: int, x: int) -> bool:\n",
    "        def count_node(root):\n",
    "            if root is None:\n",
    "                return 0\n",
    "            if root.left is None and root.right is None:\n",
    "                return 1\n",
    "            \n",
    "            left=count_node(root.left)\n",
    "            right=count_node(root.right)\n",
    "            if root.val==x:\n",
    "                self._x_left=left\n",
    "                self._x_right=right\n",
    "            \n",
    "            return left+right+1\n",
    "        \n",
    "        _ = count_node(root)\n",
    "        parent=n-1-self._x_left-self._x_right\n",
    "        maxx=max(parent, self._x_left, self._x_right)\n",
    "        return maxx>n-maxx"
   ]
  },
  {
   "cell_type": "markdown",
   "metadata": {},
   "source": [
    "## Lessons and Thoughts\n",
    "- The problem is a bit ambiguous in my opinion - previously I thought it should be a dynamic game where the 2nd player can strategize to win, but what the problem is asking seems to be that whether by placing `y` alone can ensure the 2nd player wins."
   ]
  }
 ],
 "metadata": {
  "kernelspec": {
   "display_name": "Python 3",
   "language": "python",
   "name": "python3"
  },
  "language_info": {
   "codemirror_mode": {
    "name": "ipython",
    "version": 3
   },
   "file_extension": ".py",
   "mimetype": "text/x-python",
   "name": "python",
   "nbconvert_exporter": "python",
   "pygments_lexer": "ipython3",
   "version": "3.7.3"
  }
 },
 "nbformat": 4,
 "nbformat_minor": 2
}
