{
 "cells": [
  {
   "cell_type": "markdown",
   "metadata": {},
   "source": [
    "## Attempt 1 - Time Limit Exceeded"
   ]
  },
  {
   "cell_type": "code",
   "execution_count": null,
   "metadata": {},
   "outputs": [],
   "source": [
    "# Definition for a binary tree node.\n",
    "# class TreeNode:\n",
    "#     def __init__(self, x):\n",
    "#         self.val = x\n",
    "#         self.left = None\n",
    "#         self.right = None\n",
    "\n",
    "class Solution:\n",
    "    def lowestCommonAncestor(self, root: 'TreeNode', nodes: 'List[TreeNode]') -> 'TreeNode':\n",
    "        \n",
    "        self.res = None\n",
    "        \n",
    "        def inner(root):\n",
    "            if root is None:\n",
    "                return {n.val : False for n in nodes}\n",
    "            \n",
    "            res = {n.val : False for n in nodes}\n",
    "            if root.val in res:\n",
    "                res[root.val] = True\n",
    "            \n",
    "            left = inner(root.left)\n",
    "            right = inner(root.right)\n",
    "            \n",
    "            for n in nodes:\n",
    "                res[n.val] = res[n.val] or left[n.val] or right[n.val]\n",
    "            \n",
    "            if self.res is None and all(res.values()): ## --> cannot be all([res.values()])\n",
    "                self.res = root\n",
    "            \n",
    "            return res\n",
    "        \n",
    "        _ = inner(root)\n",
    "        return self.res"
   ]
  },
  {
   "cell_type": "markdown",
   "metadata": {},
   "source": [
    "## Attempt 2 - Accepted"
   ]
  },
  {
   "cell_type": "code",
   "execution_count": null,
   "metadata": {},
   "outputs": [],
   "source": [
    "class Solution:\n",
    "    def lowestCommonAncestor(self, root: 'TreeNode', nodes: 'List[TreeNode]') -> 'TreeNode':\n",
    "        \n",
    "        def dfs(root, nodes):\n",
    "            if not root: return None\n",
    "\n",
    "            if root in nodes:\n",
    "                return root\n",
    "\n",
    "            left = dfs(root.left, nodes)\n",
    "            right = dfs(root.right, nodes)\n",
    "\n",
    "            if left and right:\n",
    "                return root\n",
    "\n",
    "            if left: return left\n",
    "            if right: return right\n",
    "            return None\n",
    "        \n",
    "        return dfs(root, nodes)"
   ]
  },
  {
   "cell_type": "markdown",
   "metadata": {},
   "source": [
    "## Lessons and Thoughts\n",
    "- `[record.values()]` is a list of iterators. I guess if you want to cast something as `list`, just do `list()`.\n",
    "- The accepeted solution is from the discussion on leetcode. The idea is that the `dfs` can be done so that each sub tree always return the lowest subtree that contain all required `nodes`."
   ]
  }
 ],
 "metadata": {
  "kernelspec": {
   "display_name": "Python 3",
   "language": "python",
   "name": "python3"
  },
  "language_info": {
   "codemirror_mode": {
    "name": "ipython",
    "version": 3
   },
   "file_extension": ".py",
   "mimetype": "text/x-python",
   "name": "python",
   "nbconvert_exporter": "python",
   "pygments_lexer": "ipython3",
   "version": "3.7.3"
  }
 },
 "nbformat": 4,
 "nbformat_minor": 2
}
