{
 "cells": [
  {
   "cell_type": "markdown",
   "metadata": {},
   "source": [
    "## Attempt 1 - Wrong Answer"
   ]
  },
  {
   "cell_type": "code",
   "execution_count": null,
   "metadata": {},
   "outputs": [],
   "source": [
    "# Definition for a binary tree node.\n",
    "# class TreeNode:\n",
    "#     def __init__(self, val=0, left=None, right=None):\n",
    "#         self.val = val\n",
    "#         self.left = left\n",
    "#         self.right = right\n",
    "class Solution:\n",
    "    def __init__(self):\n",
    "        self.cache=dict()\n",
    "    def verticalTraversal(self, root: TreeNode) -> List[List[int]]:\n",
    "        def inner(root,x):\n",
    "            if root is None:\n",
    "                return\n",
    "            \n",
    "            self.cache[x]=self.cache.get(x,[])+[root.val]\n",
    "            inner(root.left, x-1)\n",
    "            inner(root.right, x+1)\n",
    "        \n",
    "        inner(root, 0)\n",
    "        keys=sorted(self.cache.keys())\n",
    "        res=[]\n",
    "        for k in keys:\n",
    "            res.append(self.cache[k])\n",
    "        return res"
   ]
  },
  {
   "cell_type": "markdown",
   "metadata": {},
   "source": [
    "## Attempt 2 - Accepted"
   ]
  },
  {
   "cell_type": "code",
   "execution_count": null,
   "metadata": {},
   "outputs": [],
   "source": [
    "# Definition for a binary tree node.\n",
    "# class TreeNode:\n",
    "#     def __init__(self, val=0, left=None, right=None):\n",
    "#         self.val = val\n",
    "#         self.left = left\n",
    "#         self.right = right\n",
    "class Solution:\n",
    "    def __init__(self):\n",
    "        self.cache=dict()\n",
    "    def verticalTraversal(self, root: TreeNode) -> List[List[int]]:\n",
    "        def inner(root,x,y):\n",
    "            if root is None:\n",
    "                return\n",
    "            \n",
    "            self.cache[x]=self.cache.get(x,[])+[(y,root.val)]\n",
    "            inner(root.left, x-1,y+1)\n",
    "            inner(root.right, x+1,y+1)\n",
    "        \n",
    "        inner(root,0,0)\n",
    "        keys=sorted(self.cache.keys())\n",
    "        res=[]\n",
    "        for k in keys:\n",
    "            data=sorted(self.cache[k])\n",
    "            res.append([d[1] for d in data])\n",
    "        return res"
   ]
  },
  {
   "cell_type": "markdown",
   "metadata": {},
   "source": [
    "## Lessons and Thoughts\n",
    "- Usual recursion of trees\n",
    "- The `y` info is actually useful."
   ]
  }
 ],
 "metadata": {
  "kernelspec": {
   "display_name": "Python 3",
   "language": "python",
   "name": "python3"
  },
  "language_info": {
   "codemirror_mode": {
    "name": "ipython",
    "version": 3
   },
   "file_extension": ".py",
   "mimetype": "text/x-python",
   "name": "python",
   "nbconvert_exporter": "python",
   "pygments_lexer": "ipython3",
   "version": "3.7.3"
  }
 },
 "nbformat": 4,
 "nbformat_minor": 2
}
