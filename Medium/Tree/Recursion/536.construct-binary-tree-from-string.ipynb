{
 "cells": [
  {
   "cell_type": "markdown",
   "metadata": {},
   "source": [
    "## Attempt 1 - Accepted"
   ]
  },
  {
   "cell_type": "code",
   "execution_count": null,
   "metadata": {},
   "outputs": [],
   "source": [
    "# Definition for a binary tree node.\n",
    "# class TreeNode:\n",
    "#     def __init__(self, val=0, left=None, right=None):\n",
    "#         self.val = val\n",
    "#         self.left = left\n",
    "#         self.right = right\n",
    "class Solution:\n",
    "    def str2tree(self, s: str) -> Optional[TreeNode]:\n",
    "        def inner(s):\n",
    "            if s == \"\":\n",
    "                return None\n",
    "            if s[0] == \"(\" and s[-1] == \")\":\n",
    "                s = s[1:-1]\n",
    "            L = len(s)\n",
    "            l = 0\n",
    "            while l < L:\n",
    "                if s[l] == \"(\":\n",
    "                    break\n",
    "                l += 1\n",
    "            root = TreeNode(val=int(s[:l]))\n",
    "            r = l + 1\n",
    "            cnt = 1\n",
    "            while r < L:\n",
    "                if s[r] == \"(\":\n",
    "                    cnt += 1\n",
    "                elif s[r] == \")\":\n",
    "                    cnt -= 1\n",
    "                if cnt == 0:\n",
    "                    break\n",
    "                r += 1\n",
    "            left = inner(s[l : r + 1])\n",
    "            right = inner(s[r + 1 :])\n",
    "            root.left = left\n",
    "            root.right = right\n",
    "            return root\n",
    "        return inner(s)"
   ]
  },
  {
   "cell_type": "markdown",
   "metadata": {},
   "source": [
    "## Lessons and Thoughts\n",
    "- Just need to figure out which sections are the sub strings, for recursion"
   ]
  }
 ],
 "metadata": {
  "kernelspec": {
   "display_name": "Python 3",
   "language": "python",
   "name": "python3"
  },
  "language_info": {
   "codemirror_mode": {
    "name": "ipython",
    "version": 3
   },
   "file_extension": ".py",
   "mimetype": "text/x-python",
   "name": "python",
   "nbconvert_exporter": "python",
   "pygments_lexer": "ipython3",
   "version": "3.7.3"
  }
 },
 "nbformat": 4,
 "nbformat_minor": 2
}
