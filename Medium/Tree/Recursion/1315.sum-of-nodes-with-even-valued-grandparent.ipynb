{
 "cells": [
  {
   "cell_type": "markdown",
   "metadata": {},
   "source": [
    "## Attempt 1 - Wrong Answer"
   ]
  },
  {
   "cell_type": "code",
   "execution_count": null,
   "metadata": {},
   "outputs": [],
   "source": [
    "# Definition for a binary tree node.\n",
    "# class TreeNode:\n",
    "#     def __init__(self, val=0, left=None, right=None):\n",
    "#         self.val = val\n",
    "#         self.left = left\n",
    "#         self.right = right\n",
    "class Solution:\n",
    "    def sumEvenGrandparent(self, root: TreeNode) -> int:\n",
    "        self.res=0\n",
    "        def inner(root):\n",
    "            if not root or root.val%2>0:\n",
    "                return ## --> forgot to get subtrees here!\n",
    "            if root.left:\n",
    "                if root.left.left:\n",
    "                    self.res+=root.left.left.val\n",
    "                if root.left.right:\n",
    "                    self.res+=root.left.right.val\n",
    "                inner(root.left)\n",
    "            if root.right:\n",
    "                if root.right.left:\n",
    "                    self.res+=root.right.left.val\n",
    "                if root.right.right:\n",
    "                    self.res+=root.right.right.val\n",
    "                inner(root.right)\n",
    "            return\n",
    "        inner(root)\n",
    "        return self.res"
   ]
  },
  {
   "cell_type": "markdown",
   "metadata": {},
   "source": [
    "## Attempt 2 - Accepted"
   ]
  },
  {
   "cell_type": "code",
   "execution_count": null,
   "metadata": {},
   "outputs": [],
   "source": [
    "# Definition for a binary tree node.\n",
    "# class TreeNode:\n",
    "#     def __init__(self, val=0, left=None, right=None):\n",
    "#         self.val = val\n",
    "#         self.left = left\n",
    "#         self.right = right\n",
    "class Solution:\n",
    "    def sumEvenGrandparent(self, root: TreeNode) -> int:\n",
    "        self.res=0\n",
    "        def inner(root):\n",
    "            if not root:\n",
    "                return\n",
    "            elif root.val%2>0:\n",
    "                inner(root.left)\n",
    "                inner(root.right)\n",
    "                return\n",
    "            if root.left:\n",
    "                if root.left.left:\n",
    "                    self.res+=root.left.left.val\n",
    "                if root.left.right:\n",
    "                    self.res+=root.left.right.val\n",
    "                inner(root.left)\n",
    "            if root.right:\n",
    "                if root.right.left:\n",
    "                    self.res+=root.right.left.val\n",
    "                if root.right.right:\n",
    "                    self.res+=root.right.right.val\n",
    "                inner(root.right)\n",
    "            return\n",
    "        inner(root)\n",
    "        return self.res"
   ]
  },
  {
   "cell_type": "markdown",
   "metadata": {},
   "source": [
    "## Lessons and Thoughts\n",
    "- Moved too fast with the recursion."
   ]
  }
 ],
 "metadata": {
  "kernelspec": {
   "display_name": "Python 3",
   "language": "python",
   "name": "python3"
  },
  "language_info": {
   "codemirror_mode": {
    "name": "ipython",
    "version": 3
   },
   "file_extension": ".py",
   "mimetype": "text/x-python",
   "name": "python",
   "nbconvert_exporter": "python",
   "pygments_lexer": "ipython3",
   "version": "3.7.3"
  }
 },
 "nbformat": 4,
 "nbformat_minor": 2
}
