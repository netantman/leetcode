{
 "cells": [
  {
   "cell_type": "markdown",
   "metadata": {},
   "source": [
    "## Attempt 1 - Accepted"
   ]
  },
  {
   "cell_type": "code",
   "execution_count": null,
   "metadata": {},
   "outputs": [],
   "source": [
    "# Definition for a binary tree node.\n",
    "# class TreeNode:\n",
    "#     def __init__(self, val=0, left=None, right=None):\n",
    "#         self.val = val\n",
    "#         self.left = left\n",
    "#         self.right = right\n",
    "class Solution:\n",
    "    def countPairs(self, root: TreeNode, distance: int) -> int:\n",
    "        def dfs(root):\n",
    "            if root.left is None and root.right is None:\n",
    "                return {0: 1}, 0\n",
    "            \n",
    "            if root.left is not None and root.right is None:\n",
    "                left_paths, left_cnt = dfs(root.left)\n",
    "                paths = dict()\n",
    "                for k, v in left_paths.items():\n",
    "                    paths[k + 1] = v\n",
    "                return paths, left_cnt\n",
    "            \n",
    "            if root.left is None and root.right is not None:\n",
    "                right_paths, right_cnt = dfs(root.right)\n",
    "                paths = dict()\n",
    "                for k, v in right_paths.items():\n",
    "                    paths[k + 1] = v\n",
    "                return paths, right_cnt\n",
    "            \n",
    "            if root.left is not None and root.right is not None:\n",
    "                left_paths, left_cnt = dfs(root.left)\n",
    "                right_paths, right_cnt = dfs(root.right)\n",
    "                paths = dict()\n",
    "                for k, v in left_paths.items():\n",
    "                    paths[k + 1] = v\n",
    "                for k, v in right_paths.items():\n",
    "                    paths[k + 1] = paths.get(k+1, 0) + v\n",
    "                cnt = left_cnt + right_cnt\n",
    "                for kl, vl in left_paths.items():\n",
    "                    for kr, vr in right_paths.items():\n",
    "                        if kl + kr + 2 <= distance:\n",
    "                            cnt += (vl * vr)\n",
    "                return paths, cnt\n",
    "        \n",
    "        _, res = dfs(root)\n",
    "        return res"
   ]
  },
  {
   "cell_type": "markdown",
   "metadata": {},
   "source": [
    "## Lessons and Thoughts\n",
    "- The idea is to record how many paths of certain lengths are found from root, and already how many paths within `distance` is already found.\n",
    "- It is easier to do 4 `if`."
   ]
  }
 ],
 "metadata": {
  "kernelspec": {
   "display_name": "Python 3",
   "language": "python",
   "name": "python3"
  },
  "language_info": {
   "codemirror_mode": {
    "name": "ipython",
    "version": 3
   },
   "file_extension": ".py",
   "mimetype": "text/x-python",
   "name": "python",
   "nbconvert_exporter": "python",
   "pygments_lexer": "ipython3",
   "version": "3.7.3"
  }
 },
 "nbformat": 4,
 "nbformat_minor": 2
}
