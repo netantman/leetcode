{
 "cells": [
  {
   "cell_type": "markdown",
   "metadata": {},
   "source": [
    "## Attempt 1 - Wrong Answer"
   ]
  },
  {
   "cell_type": "code",
   "execution_count": null,
   "metadata": {},
   "outputs": [],
   "source": [
    "# Definition for a binary tree node.\n",
    "# class TreeNode:\n",
    "#     def __init__(self, val=0, left=None, right=None):\n",
    "#         self.val = val\n",
    "#         self.left = left\n",
    "#         self.right = right\n",
    "class Solution:\n",
    "    def sufficientSubset(self, root: TreeNode, limit: int) -> TreeNode:\n",
    "        head=TreeNode()\n",
    "        head.left=root\n",
    "        \n",
    "        def inner(root):\n",
    "            if root is None:\n",
    "                return []\n",
    "            if root.left is None and root.right is None:\n",
    "                return [root.val]\n",
    "            left=inner(root.left)\n",
    "            if not left or max(left)<limit:\n",
    "                root.left=None\n",
    "            right=inner(root.right)\n",
    "            if not right or max(right)<limit:\n",
    "                root.right=None\n",
    "            res=[root.val+v for v in left+right]  ## --> the paths are from root to leaves, not from the node to the leaves\n",
    "            return res\n",
    "        \n",
    "        _=inner(head)\n",
    "        return head.left"
   ]
  },
  {
   "cell_type": "markdown",
   "metadata": {},
   "source": [
    "## Attempt 2 - Accepted"
   ]
  },
  {
   "cell_type": "code",
   "execution_count": null,
   "metadata": {},
   "outputs": [],
   "source": [
    "# Definition for a binary tree node.\n",
    "# class TreeNode:\n",
    "#     def __init__(self, val=0, left=None, right=None):\n",
    "#         self.val = val\n",
    "#         self.left = left\n",
    "#         self.right = right\n",
    "class Solution:\n",
    "    def sufficientSubset(self, root: TreeNode, limit: int) -> TreeNode:\n",
    "        head=TreeNode()\n",
    "        head.left=root\n",
    "        \n",
    "        def inner1(root, prev_sum):\n",
    "            if root is None:\n",
    "                return\n",
    "            else:\n",
    "                root.val=(root.val, prev_sum)\n",
    "                inner1(root.left, root.val[0]+prev_sum)\n",
    "                inner1(root.right, root.val[0]+prev_sum)\n",
    "                return\n",
    "        \n",
    "        def inner2(root):\n",
    "            if root is None:\n",
    "                return []\n",
    "            if root.left is None and root.right is None:\n",
    "                return [sum(root.val)]\n",
    "            left=inner2(root.left)\n",
    "            if not left or max(left)<limit:\n",
    "                root.left=None\n",
    "            right=inner2(root.right)\n",
    "            if not right or max(right)<limit:\n",
    "                root.right=None\n",
    "            res=left+right\n",
    "            return res\n",
    "        \n",
    "        def inner3(root):\n",
    "            if root is None:\n",
    "                return\n",
    "            else: \n",
    "                root.val=root.val[0]\n",
    "                inner3(root.left)\n",
    "                inner3(root.right)\n",
    "                return\n",
    "        \n",
    "        inner1(head,0)\n",
    "        _=inner2(head)\n",
    "        inner3(head)\n",
    "        return head.left"
   ]
  },
  {
   "cell_type": "markdown",
   "metadata": {},
   "source": [
    "## Lessons and Thoughts\n",
    "- As is with linked lists, it is sometimes useful to create a head node. \n",
    "- Don't forget that in recursion of tree algos, consider both when the `root` is `None` or when `root` has no children.\n",
    "- The idea is to get all preciding sums so that in each children you can calculate and collect the path sums."
   ]
  }
 ],
 "metadata": {
  "kernelspec": {
   "display_name": "Python 3",
   "language": "python",
   "name": "python3"
  },
  "language_info": {
   "codemirror_mode": {
    "name": "ipython",
    "version": 3
   },
   "file_extension": ".py",
   "mimetype": "text/x-python",
   "name": "python",
   "nbconvert_exporter": "python",
   "pygments_lexer": "ipython3",
   "version": "3.7.3"
  }
 },
 "nbformat": 4,
 "nbformat_minor": 2
}
