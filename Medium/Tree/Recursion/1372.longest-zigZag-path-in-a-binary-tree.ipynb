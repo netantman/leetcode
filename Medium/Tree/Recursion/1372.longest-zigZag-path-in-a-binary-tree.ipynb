{
 "cells": [
  {
   "cell_type": "markdown",
   "metadata": {},
   "source": [
    "## Attempt 1 - Time Limit Exceeded"
   ]
  },
  {
   "cell_type": "code",
   "execution_count": null,
   "metadata": {},
   "outputs": [],
   "source": [
    "# Definition for a binary tree node.\n",
    "# class TreeNode:\n",
    "#     def __init__(self, val=0, left=None, right=None):\n",
    "#         self.val = val\n",
    "#         self.left = left\n",
    "#         self.right = right\n",
    "class Solution:\n",
    "    def longestZigZag(self, root: TreeNode) -> int:\n",
    "        \n",
    "        if root is None:\n",
    "            return 0\n",
    "        if root.left is None and root.right is None:\n",
    "            return 0\n",
    "        \n",
    "        self.res=0\n",
    "        \n",
    "        def count_alternate(path):\n",
    "            res=1\n",
    "            L=len(path)\n",
    "            cnt=1\n",
    "            for idx in range(1,L):\n",
    "                if path[idx]!=path[idx-1]:\n",
    "                    cnt+=1\n",
    "                    res=max(res, cnt)\n",
    "                else:\n",
    "                    cnt=1\n",
    "            return res\n",
    "        \n",
    "        def dfs(root,prefix):\n",
    "            if root.left is None and root.right is None:\n",
    "                self.res=max(self.res, count_alternate(prefix))\n",
    "            if root.left is not None:\n",
    "                dfs(root.left, prefix+\"0\")\n",
    "            if root.right is not None:\n",
    "                dfs(root.right, prefix+\"1\")\n",
    "            return\n",
    "        \n",
    "        if root.left is not None:\n",
    "            dfs(root.left, \"0\")\n",
    "        if root.right is not None:\n",
    "            dfs(root.right, \"1\")\n",
    "        return self.res"
   ]
  },
  {
   "cell_type": "markdown",
   "metadata": {},
   "source": [
    "## Attempt 2 - Accepted"
   ]
  },
  {
   "cell_type": "code",
   "execution_count": null,
   "metadata": {},
   "outputs": [],
   "source": [
    "# Definition for a binary tree node.\n",
    "# class TreeNode:\n",
    "#     def __init__(self, val=0, left=None, right=None):\n",
    "#         self.val = val\n",
    "#         self.left = left\n",
    "#         self.right = right\n",
    "class Solution:\n",
    "    def longestZigZag(self, root: TreeNode) -> int:\n",
    "        \n",
    "        if root is None:\n",
    "            return 0\n",
    "        if root.left is None and root.right is None:\n",
    "            return 0\n",
    "        \n",
    "        self.res=0\n",
    "        \n",
    "        def dfs(root, prefix):\n",
    "            if root.left is None and root.right is None:\n",
    "                self.res=max(self.res, len(prefix))\n",
    "                return\n",
    "            \n",
    "            if prefix[-1]==\"0\":\n",
    "                if root.right is not None:\n",
    "                    dfs(root.right, prefix+\"1\")\n",
    "                else:\n",
    "                    self.res=max(self.res, len(prefix))\n",
    "                if root.left is not None:\n",
    "                    dfs(root.left,\"0\")\n",
    "            \n",
    "            if prefix[-1]==\"1\":\n",
    "                if root.left is not None:\n",
    "                    dfs(root.left, prefix+\"0\")\n",
    "                else:\n",
    "                    self.res=max(self.res, len(prefix))\n",
    "                if root.right is not None:\n",
    "                    dfs(root.right,\"1\")\n",
    "            return\n",
    "        \n",
    "        if root.left is not None:\n",
    "            dfs(root.left, \"0\")\n",
    "        if root.right is not None:\n",
    "            dfs(root.right, \"1\")\n",
    "        return self.res"
   ]
  },
  {
   "cell_type": "markdown",
   "metadata": {},
   "source": [
    "## Lessons and Thoughts\n",
    "- Took you quite a while.\n",
    "- The optimization here is that we do not need to go down every path of the tree, but just alternatively. As such, there is no need to `count_alternate`\n",
    "- You can probably flatten the indentations in `dfs` a bit, though not sure if that is desirable."
   ]
  }
 ],
 "metadata": {
  "kernelspec": {
   "display_name": "Python 3",
   "language": "python",
   "name": "python3"
  },
  "language_info": {
   "codemirror_mode": {
    "name": "ipython",
    "version": 3
   },
   "file_extension": ".py",
   "mimetype": "text/x-python",
   "name": "python",
   "nbconvert_exporter": "python",
   "pygments_lexer": "ipython3",
   "version": "3.7.3"
  }
 },
 "nbformat": 4,
 "nbformat_minor": 2
}
