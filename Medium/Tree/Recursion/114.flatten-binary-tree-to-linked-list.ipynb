{
 "cells": [
  {
   "cell_type": "markdown",
   "metadata": {},
   "source": [
    "## Attempt 1 - Wrong Answer"
   ]
  },
  {
   "cell_type": "code",
   "execution_count": null,
   "metadata": {},
   "outputs": [],
   "source": [
    "# Definition for a binary tree node.\n",
    "# class TreeNode:\n",
    "#     def __init__(self, val=0, left=None, right=None):\n",
    "#         self.val = val\n",
    "#         self.left = left\n",
    "#         self.right = right\n",
    "class Solution:\n",
    "    def flatten(self, root: TreeNode) -> None:\n",
    "        \"\"\"\n",
    "        Do not return anything, modify root in-place instead.\n",
    "        \"\"\"\n",
    "        \n",
    "        def helper(root):\n",
    "            if root is None:\n",
    "                return None, None\n",
    "            if root.left is None and root.right is None:\n",
    "                return root, root\n",
    "            \n",
    "            left=helper(root.left)\n",
    "            right=helper(root.right)\n",
    "            if left[0] is None:\n",
    "                root.right=right[0]  ## --> same as below\n",
    "                return root, right[1]\n",
    "            if right[0] is None:\n",
    "                root.right=left[0]\n",
    "                return root, left[1]\n",
    "            \n",
    "            root.right=left[0]\n",
    "            left[1].right=right[0]  ## --> missing the line to nullify the left pointer of root\n",
    "            return root, right[1]\n",
    "        \n",
    "        root, _ = helper(root)\n",
    "        return"
   ]
  },
  {
   "cell_type": "markdown",
   "metadata": {},
   "source": [
    "## Attempt 2 - Accepted"
   ]
  },
  {
   "cell_type": "code",
   "execution_count": null,
   "metadata": {},
   "outputs": [],
   "source": [
    "# Definition for a binary tree node.\n",
    "# class TreeNode:\n",
    "#     def __init__(self, val=0, left=None, right=None):\n",
    "#         self.val = val\n",
    "#         self.left = left\n",
    "#         self.right = right\n",
    "class Solution:\n",
    "    def flatten(self, root: TreeNode) -> None:\n",
    "        \"\"\"\n",
    "        Do not return anything, modify root in-place instead.\n",
    "        \"\"\"\n",
    "        \n",
    "        def helper(root):\n",
    "            if root is None:\n",
    "                return root, None\n",
    "            if root.left is None and root.right is None:\n",
    "                return root, root\n",
    "            \n",
    "            left=helper(root.left)\n",
    "            right=helper(root.right)\n",
    "            if left[0] is None:\n",
    "                root.right=right[0]\n",
    "                return root, right[1]\n",
    "            if right[0] is None:\n",
    "                root.right=left[0]\n",
    "                root.left=None\n",
    "                return root, left[1]\n",
    "            \n",
    "            root.right=left[0]\n",
    "            left[1].right=right[0]\n",
    "            root.left=None\n",
    "            return root, right[1]\n",
    "        \n",
    "        root, _ = helper(root)\n",
    "        return"
   ]
  },
  {
   "cell_type": "markdown",
   "metadata": {},
   "source": [
    "## Lessons and Thoughts\n",
    "- Should you consider getting into the habit of deleting or setting null the pointer it is pointing to?"
   ]
  }
 ],
 "metadata": {
  "kernelspec": {
   "display_name": "Python 3",
   "language": "python",
   "name": "python3"
  },
  "language_info": {
   "codemirror_mode": {
    "name": "ipython",
    "version": 3
   },
   "file_extension": ".py",
   "mimetype": "text/x-python",
   "name": "python",
   "nbconvert_exporter": "python",
   "pygments_lexer": "ipython3",
   "version": "3.7.3"
  }
 },
 "nbformat": 4,
 "nbformat_minor": 2
}
