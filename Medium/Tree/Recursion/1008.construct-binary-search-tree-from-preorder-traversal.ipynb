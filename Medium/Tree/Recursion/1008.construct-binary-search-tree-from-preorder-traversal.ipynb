{
 "cells": [
  {
   "cell_type": "markdown",
   "metadata": {},
   "source": [
    "## Attempt 1 - Accepted"
   ]
  },
  {
   "cell_type": "code",
   "execution_count": null,
   "metadata": {},
   "outputs": [],
   "source": [
    "# Definition for a binary tree node.\n",
    "# class TreeNode:\n",
    "#     def __init__(self, val=0, left=None, right=None):\n",
    "#         self.val = val\n",
    "#         self.left = left\n",
    "#         self.right = right\n",
    "class Solution:\n",
    "    def bstFromPreorder(self, preorder: List[int]) -> TreeNode:\n",
    "        L=len(preorder)\n",
    "        if L<1:\n",
    "            return None\n",
    "        elif L==1:\n",
    "            return TreeNode(val=preorder[0])\n",
    "        else:\n",
    "            root=TreeNode(val=preorder[0])\n",
    "            pivot=1\n",
    "            while pivot<L and preorder[pivot]<preorder[0]:\n",
    "                pivot+=1\n",
    "            left=self.bstFromPreorder(preorder[1:pivot])\n",
    "            right=self.bstFromPreorder(preorder[pivot:])\n",
    "            root.left=left\n",
    "            root.right=right\n",
    "            return root"
   ]
  },
  {
   "cell_type": "markdown",
   "metadata": {},
   "source": [
    "## Lessons and Thoughts\n",
    "- Without the condition of binary search trees, with just preorder it will be impossible."
   ]
  }
 ],
 "metadata": {
  "kernelspec": {
   "display_name": "Python 3",
   "language": "python",
   "name": "python3"
  },
  "language_info": {
   "codemirror_mode": {
    "name": "ipython",
    "version": 3
   },
   "file_extension": ".py",
   "mimetype": "text/x-python",
   "name": "python",
   "nbconvert_exporter": "python",
   "pygments_lexer": "ipython3",
   "version": "3.7.3"
  }
 },
 "nbformat": 4,
 "nbformat_minor": 2
}
