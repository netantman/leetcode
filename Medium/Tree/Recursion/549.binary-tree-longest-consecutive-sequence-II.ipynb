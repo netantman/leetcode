{
 "cells": [
  {
   "cell_type": "markdown",
   "metadata": {},
   "source": [
    "## Attempt 1 - Wrong Answer"
   ]
  },
  {
   "cell_type": "code",
   "execution_count": null,
   "metadata": {},
   "outputs": [],
   "source": [
    "# Definition for a binary tree node.\n",
    "# class TreeNode:\n",
    "#     def __init__(self, val=0, left=None, right=None):\n",
    "#         self.val = val\n",
    "#         self.left = left\n",
    "#         self.right = right\n",
    "class Solution:\n",
    "    def longestConsecutive(self, root: Optional[TreeNode]) -> int:\n",
    "        self.res = 0\n",
    "        def inner(root):\n",
    "            if root is None:\n",
    "                return 0\n",
    "            if root.left is None and root.right is None: ## --> this will prevent the recursion from getting longest paths in subtrees\n",
    "                self.res = max(self.res, 1)\n",
    "                return 1\n",
    "            if root.left is None or abs(root.val - root.left.val) != 1: ## --> apparently the sequence cannot be both increasing and decreasing\n",
    "                right = inner(root.right)\n",
    "                self.res = max(self.res, right + 1)\n",
    "                return right + 1  ## --> this may not be right\n",
    "            if root.right is None or abs(root.val - root.right.val) != 1:\n",
    "                left = inner(root.left)\n",
    "                self.res = max(self.res, left + 1)\n",
    "                return left + 1 ## --> this may not be right\n",
    "            left = inner(root.left)\n",
    "            right = inner(root.right)\n",
    "            self.res = max(self.res, left + right + 1)\n",
    "            return max(left + 1, right + 1)\n",
    "        \n",
    "        inner(root)\n",
    "        return self.res"
   ]
  },
  {
   "cell_type": "markdown",
   "metadata": {},
   "source": [
    "## Attempt 2 - Accepted"
   ]
  },
  {
   "cell_type": "code",
   "execution_count": null,
   "metadata": {},
   "outputs": [],
   "source": [
    "# Definition for a binary tree node.\n",
    "# class TreeNode:\n",
    "#     def __init__(self, val=0, left=None, right=None):\n",
    "#         self.val = val\n",
    "#         self.left = left\n",
    "#         self.right = right\n",
    "class Solution:\n",
    "    def longestConsecutive(self, root: Optional[TreeNode]) -> int:\n",
    "        self.res = 0\n",
    "        def inner(root):\n",
    "            if root is None:\n",
    "                return 0, 0\n",
    "            left_inc, left_dec = inner(root.left)\n",
    "            right_inc, right_dec = inner(root.right)\n",
    "            if (root.left is None or abs(root.val - root.left.val) != 1) and (root.right is None or abs(root.val - root.right.val) != 1):\n",
    "                self.res = max(self.res, 1)\n",
    "                return 1, 1\n",
    "            if root.left is None or abs(root.val - root.left.val) != 1:\n",
    "                if root.val - root.right.val == 1:\n",
    "                    self.res = max(self.res, right_inc + 1)\n",
    "                    return right_inc + 1, 1\n",
    "                else:\n",
    "                    self.res = max(self.res, right_dec + 1)\n",
    "                    return 1, right_dec + 1\n",
    "            if root.right is None or abs(root.val - root.right.val) != 1:\n",
    "                if root.val - root.left.val == 1:\n",
    "                    self.res = max(self.res, left_inc + 1)\n",
    "                    return left_inc + 1, 1\n",
    "                else:\n",
    "                    self.res = max(self.res, left_dec + 1)\n",
    "                    return 1, left_dec + 1\n",
    "            \n",
    "            if root.val - root.left.val == 1 and root.val - root.right.val == -1:\n",
    "                self.res = max(self.res, left_inc + right_dec + 1)\n",
    "                return left_inc + 1, right_dec + 1\n",
    "            if root.val - root.left.val == -1 and root.val - root.right.val == 1:\n",
    "                self.res = max(self.res, left_dec + right_inc + 1)\n",
    "                return right_inc + 1, left_dec + 1\n",
    "            if root.val - root.left.val == 1 and root.val - root.right.val == 1:\n",
    "                tmp = max(left_inc + 1, right_inc + 1)\n",
    "                self.res = max(self.res, tmp)\n",
    "                return tmp, 1\n",
    "            if root.val - root.left.val == -1 and root.val - root.right.val == -1:\n",
    "                tmp = max(left_dec + 1, right_dec + 1)\n",
    "                self.res = max(self.res, tmp)\n",
    "                return 1, tmp\n",
    "            \n",
    "            \n",
    "        \n",
    "        inner(root)\n",
    "        return self.res"
   ]
  },
  {
   "cell_type": "markdown",
   "metadata": {},
   "source": [
    "## Lessons and Thoughts\n",
    "- Probably a tree problems that with the most attempts - not being careful in handling edge cases."
   ]
  }
 ],
 "metadata": {
  "kernelspec": {
   "display_name": "Python 3",
   "language": "python",
   "name": "python3"
  },
  "language_info": {
   "codemirror_mode": {
    "name": "ipython",
    "version": 3
   },
   "file_extension": ".py",
   "mimetype": "text/x-python",
   "name": "python",
   "nbconvert_exporter": "python",
   "pygments_lexer": "ipython3",
   "version": "3.7.3"
  }
 },
 "nbformat": 4,
 "nbformat_minor": 2
}
