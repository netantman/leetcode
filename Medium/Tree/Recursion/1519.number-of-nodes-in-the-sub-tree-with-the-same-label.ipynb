{
 "cells": [
  {
   "cell_type": "markdown",
   "metadata": {},
   "source": [
    "## Attempt 1 - Time Limit Exceeded"
   ]
  },
  {
   "cell_type": "code",
   "execution_count": null,
   "metadata": {},
   "outputs": [],
   "source": [
    "class Solution:\n",
    "    def countSubTrees(self, n: int, edges: List[List[int]], labels: str) -> List[int]:\n",
    "        children = defaultdict(list)\n",
    "        visited = set()\n",
    "        neighbors = defaultdict(list)\n",
    "        for edge in edges:\n",
    "            neighbors[edge[0]].append(edge[1])\n",
    "            neighbors[edge[1]].append(edge[0])\n",
    "        q = [0]\n",
    "        while q:\n",
    "            curr = q.pop(0)\n",
    "            visited.add(curr)\n",
    "            for neighbor in neighbors[curr]:\n",
    "                if neighbor not in visited:\n",
    "                    children[curr].append(neighbor)\n",
    "                    q.append(neighbor)\n",
    "        \n",
    "        record = [None for _ in range(n)]\n",
    "        def get_offsprings(node):\n",
    "            if record[node]:\n",
    "                return res[node]\n",
    "            offsprings = set([node])\n",
    "            for child in children[node]:\n",
    "                child_offsprings = get_offsprings(child)\n",
    "                offsprings |= set(child_offsprings)\n",
    "            record[node] = tuple(offsprings)\n",
    "            return record[node]\n",
    "        get_offsprings(0)\n",
    "        \n",
    "        def get_cnt_same_label(node):\n",
    "            offsprings = record[node]\n",
    "            return sum([1 if labels[offspring] == labels[node] else 0 for offspring in offsprings])\n",
    "        res = [get_cnt_same_label(node) for node in range(n)]\n",
    "        return res"
   ]
  },
  {
   "cell_type": "markdown",
   "metadata": {},
   "source": [
    "## Attempt 2 - Accepted"
   ]
  },
  {
   "cell_type": "code",
   "execution_count": null,
   "metadata": {},
   "outputs": [],
   "source": [
    "class Solution:\n",
    "    def countSubTrees(self, n: int, edges: List[List[int]], labels: str) -> List[int]:\n",
    "        g = defaultdict(list)\n",
    "        for x, y in edges:\n",
    "            g[x].append(y)\n",
    "            g[y].append(x)\n",
    "        \n",
    "        def dfs(o, pre):\n",
    "            f[o][ord(labels[o])-ord(\"a\")] = 1\n",
    "            for nex in g[o]:\n",
    "                if nex != pre:\n",
    "                    dfs(nex, o)\n",
    "                    for i in range(26):\n",
    "                        f[o][i] += f[nex][i]\n",
    "        \n",
    "        f = [[0] * 26 for _ in range(n)]\n",
    "        dfs(0, -1)\n",
    "        \n",
    "        ans = [f[i][ord(labels[i]) - ord(\"a\")] for i in range(n)]\n",
    "        return ans"
   ]
  },
  {
   "cell_type": "markdown",
   "metadata": {},
   "source": [
    "## Lessons and Thoughts\n",
    "- The reason Attempt 1 is time consuming is due to the process of constructing the trees, and another process to traverse the tree, while actually both can be done in one recursion, as in Attempt 2.\n",
    "- Attempt 2 is from the app."
   ]
  }
 ],
 "metadata": {
  "kernelspec": {
   "display_name": "Python 3",
   "language": "python",
   "name": "python3"
  },
  "language_info": {
   "codemirror_mode": {
    "name": "ipython",
    "version": 3
   },
   "file_extension": ".py",
   "mimetype": "text/x-python",
   "name": "python",
   "nbconvert_exporter": "python",
   "pygments_lexer": "ipython3",
   "version": "3.7.3"
  }
 },
 "nbformat": 4,
 "nbformat_minor": 2
}
