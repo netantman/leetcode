{
 "cells": [
  {
   "cell_type": "markdown",
   "metadata": {},
   "source": [
    "## Attempt 1 - Wrong Answer"
   ]
  },
  {
   "cell_type": "code",
   "execution_count": null,
   "metadata": {},
   "outputs": [],
   "source": [
    "# Definition for a binary tree node.\n",
    "# class TreeNode:\n",
    "#     def __init__(self, val=0, left=None, right=None):\n",
    "#         self.val = val\n",
    "#         self.left = left\n",
    "#         self.right = right\n",
    "class Solution:\n",
    "    def buildTree(self, preorder: List[int], inorder: List[int]) -> TreeNode:\n",
    "        assert len(preorder)==len(inorder)\n",
    "        if len(preorder)<1 and len(inorder)<1:\n",
    "            return None\n",
    "        if len(preorder)==1 and len(inorder)==1:\n",
    "            return TreeNode(val=preorder[0])\n",
    "        \n",
    "        root=preorder[0]\n",
    "        for idx in range(1, len(inorder)):   ## --> by looking from 1, it implicitly assumed the left tree cannot be null\n",
    "            if inorder[idx]==root:\n",
    "                break\n",
    "        inorder_left=inorder[:idx]\n",
    "        inorder_right=inorder[idx+1:]\n",
    "        preorder_left=preorder[1:idx+1]\n",
    "        preorder_right=preorder[idx+1:]\n",
    "        \n",
    "        root=TreeNode(val=root)\n",
    "        root.left=self.buildTree(preorder_left, inorder_left)\n",
    "        root.right=self.buildTree(preorder_right, inorder_right)\n",
    "        return root"
   ]
  },
  {
   "cell_type": "markdown",
   "metadata": {},
   "source": [
    "## Attempt 2 - Accepted"
   ]
  },
  {
   "cell_type": "code",
   "execution_count": null,
   "metadata": {},
   "outputs": [],
   "source": [
    "# Definition for a binary tree node.\n",
    "# class TreeNode:\n",
    "#     def __init__(self, val=0, left=None, right=None):\n",
    "#         self.val = val\n",
    "#         self.left = left\n",
    "#         self.right = right\n",
    "class Solution:\n",
    "    def buildTree(self, preorder: List[int], inorder: List[int]) -> TreeNode:\n",
    "        assert len(preorder)==len(inorder)\n",
    "        if len(preorder)<1 and len(inorder)<1:\n",
    "            return None\n",
    "        if len(preorder)==1 and len(inorder)==1:\n",
    "            return TreeNode(val=preorder[0])\n",
    "        \n",
    "        root=preorder[0]\n",
    "        for idx in range(len(inorder)):\n",
    "            if inorder[idx]==root:\n",
    "                break\n",
    "        inorder_left=inorder[:idx]\n",
    "        inorder_right=inorder[idx+1:]\n",
    "        preorder_left=preorder[1:idx+1]\n",
    "        preorder_right=preorder[idx+1:]\n",
    "        \n",
    "        root=TreeNode(val=root)\n",
    "        root.left=self.buildTree(preorder_left, inorder_left)\n",
    "        root.right=self.buildTree(preorder_right, inorder_right)\n",
    "        return root"
   ]
  },
  {
   "cell_type": "markdown",
   "metadata": {},
   "source": [
    "## Attempt 3 - Accepted"
   ]
  },
  {
   "cell_type": "code",
   "execution_count": null,
   "metadata": {},
   "outputs": [],
   "source": [
    "/**\n",
    " * Definition for a binary tree node.\n",
    " * struct TreeNode {\n",
    " *     int val;\n",
    " *     TreeNode *left;\n",
    " *     TreeNode *right;\n",
    " *     TreeNode() : val(0), left(nullptr), right(nullptr) {}\n",
    " *     TreeNode(int x) : val(x), left(nullptr), right(nullptr) {}\n",
    " *     TreeNode(int x, TreeNode *left, TreeNode *right) : val(x), left(left), right(right) {}\n",
    " * };\n",
    " */\n",
    "class Solution {\n",
    "public:\n",
    "    TreeNode* buildTree(vector<int>& preorder, vector<int>& inorder) {\n",
    "        if (preorder.size() < 1) {\n",
    "            return nullptr;\n",
    "        }\n",
    "        \n",
    "        int val = preorder[0];\n",
    "        int L = inorder.size();\n",
    "        \n",
    "        int l_size, r_size;\n",
    "        vector<int> l_preorder = {}, r_preorder = {};\n",
    "        vector<int> l_inorder = {}, r_inorder = {};\n",
    "        \n",
    "        for (int idx=0; idx<L; idx++) {\n",
    "            if (inorder[idx] == val) {\n",
    "                l_size = idx;\n",
    "                break;\n",
    "            }\n",
    "        }\n",
    "        r_size = L - 1 - l_size;\n",
    "        \n",
    "        for (int j=1; j<1+l_size; j++) {\n",
    "            l_preorder.push_back(preorder[j]);\n",
    "        }\n",
    "        for (int j=0; j<l_size; j++) {\n",
    "            l_inorder.push_back(inorder[j]);\n",
    "        }\n",
    "        for (int j=1+l_size; j<L; j++) {\n",
    "            r_preorder.push_back(preorder[j]);\n",
    "        }\n",
    "        for (int j=l_size+1; j<L; j++) {\n",
    "            r_inorder.push_back(inorder[j]);\n",
    "        }\n",
    "            \n",
    "        TreeNode* root = new TreeNode(val, buildTree(l_preorder, l_inorder), buildTree(r_preorder, r_inorder));\n",
    "        return root;\n",
    "    }\n",
    "};"
   ]
  },
  {
   "cell_type": "markdown",
   "metadata": {},
   "source": [
    "## Lessons and Thoughts\n",
    "- Even for inorder traversal, the root can be at the head. Similarly, it can be at the end."
   ]
  }
 ],
 "metadata": {
  "kernelspec": {
   "display_name": "Python 3 (ipykernel)",
   "language": "python",
   "name": "python3"
  },
  "language_info": {
   "codemirror_mode": {
    "name": "ipython",
    "version": 3
   },
   "file_extension": ".py",
   "mimetype": "text/x-python",
   "name": "python",
   "nbconvert_exporter": "python",
   "pygments_lexer": "ipython3",
   "version": "3.9.7"
  }
 },
 "nbformat": 4,
 "nbformat_minor": 2
}
