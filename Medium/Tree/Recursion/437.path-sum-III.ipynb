{
 "cells": [
  {
   "cell_type": "markdown",
   "metadata": {},
   "source": [
    "## Attempt 1 - Time Limit Exceeded"
   ]
  },
  {
   "cell_type": "code",
   "execution_count": null,
   "metadata": {},
   "outputs": [],
   "source": [
    "# Definition for a binary tree node.\n",
    "# class TreeNode:\n",
    "#     def __init__(self, val=0, left=None, right=None):\n",
    "#         self.val = val\n",
    "#         self.left = left\n",
    "#         self.right = right\n",
    "class Solution:\n",
    "    def pathSum(self, root: TreeNode, s: int) -> int:\n",
    "        def inner(root, target):\n",
    "            if root is None:\n",
    "                return 0, 0\n",
    "            if root.left is None and root.right is None:\n",
    "                if root.val==target:\n",
    "                    return 1, 0\n",
    "                else:\n",
    "                    return 0, 0\n",
    "            \n",
    "            with_root, without_root=0,0\n",
    "            \n",
    "            left1=inner(root.left, target-root.val)\n",
    "            with_root+=left1[0]\n",
    "            left2=inner(root.left, target)\n",
    "            without_root+=left2[0]+left2[1]\n",
    "            \n",
    "            right1=inner(root.right, target-root.val)\n",
    "            with_root+=right1[0]\n",
    "            right2=inner(root.right, target)\n",
    "            without_root+=right2[0]+right2[1]\n",
    "            if root.val==target:\n",
    "                with_root+=1\n",
    "            return with_root, without_root\n",
    "        \n",
    "        res=sum(inner(root, s))\n",
    "        return res"
   ]
  },
  {
   "cell_type": "markdown",
   "metadata": {},
   "source": [
    "## Attempt 2 - Accepted"
   ]
  },
  {
   "cell_type": "code",
   "execution_count": null,
   "metadata": {},
   "outputs": [],
   "source": [
    "# Definition for a binary tree node.\n",
    "# class TreeNode:\n",
    "#     def __init__(self, val=0, left=None, right=None):\n",
    "#         self.val = val\n",
    "#         self.left = left\n",
    "#         self.right = right\n",
    "class Solution:\n",
    "    def pathSum(self, root: TreeNode, target: int) -> int:\n",
    "        def inner(root, cumsum):\n",
    "            if root is None:\n",
    "                return 0\n",
    "            cumsum=[c+root.val for c in cumsum]\n",
    "            cumsum.append(root.val)\n",
    "            res=0\n",
    "            for c in cumsum:\n",
    "                if c==target:\n",
    "                    res+=1\n",
    "            res+=inner(root.left, cumsum)\n",
    "            res+=inner(root.right, cumsum)\n",
    "            \n",
    "            return res\n",
    "    \n",
    "        res=inner(root, [])\n",
    "        return res"
   ]
  },
  {
   "cell_type": "markdown",
   "metadata": {},
   "source": [
    "## Lesssons and Thoughts\n",
    "- The accepted algo is from [here](https://www.cnblogs.com/grandyang/p/6007336.html).\n",
    "- Even if it is recursion, the way to recurse matters.\n",
    "- The idea of cumsum is similar to that when dealing with a subarray adding up to a target."
   ]
  }
 ],
 "metadata": {
  "kernelspec": {
   "display_name": "Python 3 (ipykernel)",
   "language": "python",
   "name": "python3"
  },
  "language_info": {
   "codemirror_mode": {
    "name": "ipython",
    "version": 3
   },
   "file_extension": ".py",
   "mimetype": "text/x-python",
   "name": "python",
   "nbconvert_exporter": "python",
   "pygments_lexer": "ipython3",
   "version": "3.9.7"
  }
 },
 "nbformat": 4,
 "nbformat_minor": 2
}
