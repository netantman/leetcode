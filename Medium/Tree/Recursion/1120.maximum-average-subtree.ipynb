{
 "cells": [
  {
   "cell_type": "markdown",
   "metadata": {},
   "source": [
    "## Attempt 1 - Accepted"
   ]
  },
  {
   "cell_type": "code",
   "execution_count": null,
   "metadata": {},
   "outputs": [],
   "source": [
    "# Definition for a binary tree node.\n",
    "# class TreeNode:\n",
    "#     def __init__(self, val=0, left=None, right=None):\n",
    "#         self.val = val\n",
    "#         self.left = left\n",
    "#         self.right = right\n",
    "class Solution:\n",
    "    def maximumAverageSubtree(self, root: Optional[TreeNode]) -> float:\n",
    "        def inner(root):\n",
    "            if root is None:\n",
    "                return 0, 0\n",
    "\n",
    "            left_sum, left_num = inner(root.left)\n",
    "            right_sum, right_num = inner(root.right)\n",
    "            \n",
    "            s, n = left_sum + right_sum + root.val, left_num + right_num + 1\n",
    "            self.res = max(self.res, s / n)\n",
    "            return s, n\n",
    "        \n",
    "        self.res = 0\n",
    "        inner(root)\n",
    "        \n",
    "        return self.res"
   ]
  },
  {
   "cell_type": "markdown",
   "metadata": {},
   "source": [
    "## Lessons and Thoughts\n",
    "- Simple recursion"
   ]
  }
 ],
 "metadata": {
  "kernelspec": {
   "display_name": "Python 3",
   "language": "python",
   "name": "python3"
  },
  "language_info": {
   "codemirror_mode": {
    "name": "ipython",
    "version": 3
   },
   "file_extension": ".py",
   "mimetype": "text/x-python",
   "name": "python",
   "nbconvert_exporter": "python",
   "pygments_lexer": "ipython3",
   "version": "3.7.3"
  }
 },
 "nbformat": 4,
 "nbformat_minor": 2
}
