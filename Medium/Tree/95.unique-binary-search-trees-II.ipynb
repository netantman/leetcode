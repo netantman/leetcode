{
 "cells": [
  {
   "cell_type": "markdown",
   "metadata": {},
   "source": [
    "## Attempt 1 - Accepted"
   ]
  },
  {
   "cell_type": "code",
   "execution_count": null,
   "metadata": {},
   "outputs": [],
   "source": [
    "# Definition for a binary tree node.\n",
    "# class TreeNode:\n",
    "#     def __init__(self, val=0, left=None, right=None):\n",
    "#         self.val = val\n",
    "#         self.left = left\n",
    "#         self.right = right\n",
    "class Solution:\n",
    "    def generateTrees(self, n: int) -> List[TreeNode]:\n",
    "        \n",
    "        if n<=0:\n",
    "            return []\n",
    "        \n",
    "        def helper(vec):\n",
    "            if len(vec)<1 or vec==[None]:\n",
    "                return [None]\n",
    "            if len(vec)==1:\n",
    "                return [vec[0]]\n",
    "            res=[]\n",
    "            L=len(vec)\n",
    "            for idx in range(L):\n",
    "                v=vec[idx]\n",
    "                if idx==0:\n",
    "                    right=helper(vec[1:])\n",
    "                    for r in right:\n",
    "                        root=TreeNode(val=v.val, right=r)\n",
    "                        res.append(root)\n",
    "                elif idx==L-1:\n",
    "                    left=helper(vec[:-1])\n",
    "                    for l in left:\n",
    "                        root=TreeNode(val=v.val, left=l)\n",
    "                        res.append(root)\n",
    "                else:\n",
    "                    left=helper(vec[:idx])\n",
    "                    right=helper(vec[idx+1:])\n",
    "                    for l in left:\n",
    "                        for r in right:\n",
    "                            root=TreeNode(val=v.val, left=l, right=r)\n",
    "                            res.append(root)\n",
    "            return res\n",
    "        \n",
    "        vec=[TreeNode(val=idx) for idx in range(1,n+1)]\n",
    "        res=helper(vec)\n",
    "        return res"
   ]
  },
  {
   "cell_type": "markdown",
   "metadata": {},
   "source": [
    "## Lessons and Thoughts\n",
    "- If possible, use recursion for tree-type problems."
   ]
  }
 ],
 "metadata": {
  "kernelspec": {
   "display_name": "Python 3",
   "language": "python",
   "name": "python3"
  },
  "language_info": {
   "codemirror_mode": {
    "name": "ipython",
    "version": 3
   },
   "file_extension": ".py",
   "mimetype": "text/x-python",
   "name": "python",
   "nbconvert_exporter": "python",
   "pygments_lexer": "ipython3",
   "version": "3.7.3"
  }
 },
 "nbformat": 4,
 "nbformat_minor": 2
}
