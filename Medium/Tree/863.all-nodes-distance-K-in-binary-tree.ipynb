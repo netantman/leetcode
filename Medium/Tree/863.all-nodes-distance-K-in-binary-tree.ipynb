{
 "cells": [
  {
   "cell_type": "markdown",
   "metadata": {},
   "source": [
    "## Attempt 1 - Runtime Error"
   ]
  },
  {
   "cell_type": "code",
   "execution_count": null,
   "metadata": {},
   "outputs": [],
   "source": [
    "# Definition for a binary tree node.\n",
    "# class TreeNode:\n",
    "#     def __init__(self, x):\n",
    "#         self.val = x\n",
    "#         self.left = None\n",
    "#         self.right = None\n",
    "\n",
    "class Solution:\n",
    "    def distanceK(self, root: TreeNode, target: TreeNode, K: int) -> List[int]:\n",
    "        graph=dict()\n",
    "        def inner(root,graph):\n",
    "            if root is None:\n",
    "                return    ## --> did not handle the case where the tree is only one single node\n",
    "            if root.left is not None:\n",
    "                graph[root.val]=graph.get(root.val,[])+[root.left.val]\n",
    "                graph[root.left.val]=graph.get(root.left.val,[])+[root.val]\n",
    "                inner(root.left,graph)\n",
    "            if root.right is not None:\n",
    "                graph[root.val]=graph.get(root.val,[])+[root.right.val]\n",
    "                graph[root.right.val]=graph.get(root.right.val,[])+[root.val]\n",
    "                inner(root.right,graph)\n",
    "            return\n",
    "        inner(root,graph)\n",
    "        q=[target.val]\n",
    "        lvl=0\n",
    "        visited=set()\n",
    "        while len(q)>0:\n",
    "            visited=visited.union(set(q))\n",
    "            nexxt=[]\n",
    "            for node in q:\n",
    "                nexxt+=[n for n in graph[node] if n not in visited]\n",
    "            lvl+=1  ## --> did not handle K==0\n",
    "            if lvl==K:\n",
    "                return nexxt\n",
    "            else:\n",
    "                q=nexxt\n",
    "        return []"
   ]
  },
  {
   "cell_type": "markdown",
   "metadata": {},
   "source": [
    "## Attempt 2 - Accepted"
   ]
  },
  {
   "cell_type": "code",
   "execution_count": null,
   "metadata": {},
   "outputs": [],
   "source": [
    "# Definition for a binary tree node.\n",
    "# class TreeNode:\n",
    "#     def __init__(self, x):\n",
    "#         self.val = x\n",
    "#         self.left = None\n",
    "#         self.right = None\n",
    "\n",
    "class Solution:\n",
    "    def distanceK(self, root: TreeNode, target: TreeNode, K: int) -> List[int]:\n",
    "        graph=dict()\n",
    "        def inner(root,graph):\n",
    "            if root is None:\n",
    "                return\n",
    "            graph[root.val]=graph.get(root.val,[])\n",
    "            if root.left is not None:\n",
    "                graph[root.val]=graph.get(root.val,[])+[root.left.val]\n",
    "                graph[root.left.val]=graph.get(root.left.val,[])+[root.val]\n",
    "                inner(root.left,graph)\n",
    "            if root.right is not None:\n",
    "                graph[root.val]=graph.get(root.val,[])+[root.right.val]\n",
    "                graph[root.right.val]=graph.get(root.right.val,[])+[root.val]\n",
    "                inner(root.right,graph)\n",
    "            return\n",
    "        inner(root,graph)\n",
    "        q=[target.val]\n",
    "        lvl=0\n",
    "        visited=set()\n",
    "        while len(q)>0:\n",
    "            if lvl==K:\n",
    "                return q\n",
    "            visited=visited.union(set(q))\n",
    "            nexxt=[]\n",
    "            for node in q:\n",
    "                nexxt+=[n for n in graph[node] if n not in visited]\n",
    "            q=nexxt\n",
    "            lvl+=1\n",
    "        return []"
   ]
  },
  {
   "cell_type": "markdown",
   "metadata": {},
   "source": [
    "## Lessons and Thoughts\n",
    "- Besides empty trees, single-node tree is also an edge case you should think of.\n",
    "- For integer inputs, also consider whether they can be negative or zero."
   ]
  }
 ],
 "metadata": {
  "kernelspec": {
   "display_name": "Python 3",
   "language": "python",
   "name": "python3"
  },
  "language_info": {
   "codemirror_mode": {
    "name": "ipython",
    "version": 3
   },
   "file_extension": ".py",
   "mimetype": "text/x-python",
   "name": "python",
   "nbconvert_exporter": "python",
   "pygments_lexer": "ipython3",
   "version": "3.7.3"
  }
 },
 "nbformat": 4,
 "nbformat_minor": 2
}
