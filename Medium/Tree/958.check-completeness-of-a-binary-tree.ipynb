{
 "cells": [
  {
   "cell_type": "markdown",
   "metadata": {},
   "source": [
    "## Attempt 1 - Time Limit Exceeded"
   ]
  },
  {
   "cell_type": "code",
   "execution_count": null,
   "metadata": {},
   "outputs": [],
   "source": [
    "# Definition for a binary tree node.\n",
    "# class TreeNode:\n",
    "#     def __init__(self, val=0, left=None, right=None):\n",
    "#         self.val = val\n",
    "#         self.left = left\n",
    "#         self.right = right\n",
    "class Solution:\n",
    "    def isCompleteTree(self, root: TreeNode) -> bool:\n",
    "        q=[root]\n",
    "        nexxt=[]\n",
    "        series=[]\n",
    "        while set(q)!=set([None]):\n",
    "            for n in q:\n",
    "                if n is not None:\n",
    "                    nexxt.append(n.left)\n",
    "                    nexxt.append(n.right)\n",
    "                else:\n",
    "                    nexxt.append(None)\n",
    "                    nexxt.append(None)\n",
    "            series+=q\n",
    "            q=nexxt\n",
    "            nexxt=[]\n",
    "        valid=[idx for idx, n in enumerate(series) if n is not None] ## --> you can check every step and can possibly stop early.\n",
    "        return sum(valid)==(len(valid)-1)*len(valid)//2"
   ]
  },
  {
   "cell_type": "markdown",
   "metadata": {},
   "source": [
    "## Attempt 2 - Accepted"
   ]
  },
  {
   "cell_type": "code",
   "execution_count": null,
   "metadata": {},
   "outputs": [],
   "source": [
    "# Definition for a binary tree node.\n",
    "# class TreeNode:\n",
    "#     def __init__(self, val=0, left=None, right=None):\n",
    "#         self.val = val\n",
    "#         self.left = left\n",
    "#         self.right = right\n",
    "class Solution:\n",
    "    def isCompleteTree(self, root: TreeNode) -> bool:\n",
    "        q=[root]\n",
    "        nexxt=[]\n",
    "        series=[]\n",
    "        while set(q)!=set([None]):\n",
    "            for n in q:\n",
    "                if n is not None:\n",
    "                    nexxt.append(n.left)\n",
    "                    nexxt.append(n.right)\n",
    "                else:\n",
    "                    nexxt.append(None)\n",
    "                    nexxt.append(None)\n",
    "            series+=q\n",
    "            q=nexxt\n",
    "            nexxt=[]\n",
    "            valid=[idx for idx, n in enumerate(series) if n is not None]\n",
    "            if sum(valid)!=(len(valid)-1)*len(valid)//2:\n",
    "                return False\n",
    "        valid=[idx for idx, n in enumerate(series) if n is not None]\n",
    "        return sum(valid)==(len(valid)-1)*len(valid)//2"
   ]
  },
  {
   "cell_type": "markdown",
   "metadata": {},
   "source": [
    "## Lessons and Thoughts\n",
    "- For complete trees, the serialization will have valid nodes at the front."
   ]
  }
 ],
 "metadata": {
  "kernelspec": {
   "display_name": "Python 3",
   "language": "python",
   "name": "python3"
  },
  "language_info": {
   "codemirror_mode": {
    "name": "ipython",
    "version": 3
   },
   "file_extension": ".py",
   "mimetype": "text/x-python",
   "name": "python",
   "nbconvert_exporter": "python",
   "pygments_lexer": "ipython3",
   "version": "3.7.3"
  }
 },
 "nbformat": 4,
 "nbformat_minor": 2
}
