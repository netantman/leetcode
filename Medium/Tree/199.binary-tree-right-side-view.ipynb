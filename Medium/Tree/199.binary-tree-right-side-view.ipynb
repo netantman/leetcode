{
 "cells": [
  {
   "cell_type": "markdown",
   "metadata": {},
   "source": [
    "## Attempt 1 - Accepted"
   ]
  },
  {
   "cell_type": "code",
   "execution_count": null,
   "metadata": {},
   "outputs": [],
   "source": [
    "# Definition for a binary tree node.\n",
    "# class TreeNode:\n",
    "#     def __init__(self, val=0, left=None, right=None):\n",
    "#         self.val = val\n",
    "#         self.left = left\n",
    "#         self.right = right\n",
    "class Solution:\n",
    "    def rightSideView(self, root: TreeNode) -> List[int]:\n",
    "        if root is None:\n",
    "            return []\n",
    "        if root.left is None and root.right is None:\n",
    "            return [root.val]\n",
    "        \n",
    "        queue=[(0,root)]\n",
    "        res=[]\n",
    "        while len(queue)>0:\n",
    "            head=queue[0]\n",
    "            queue=queue[1:]\n",
    "            level, node=head\n",
    "            if len(queue)==0 or queue[0][0]==level+1:\n",
    "                res.append(node.val)\n",
    "            if node.left is not None:\n",
    "                queue.append((level+1, node.left))\n",
    "            if node.right is not None:\n",
    "                queue.append((level+1, node.right))\n",
    "        return res"
   ]
  },
  {
   "cell_type": "markdown",
   "metadata": {},
   "source": [
    "## Lessons and Thoughts\n",
    "- Just a simple application of BFS"
   ]
  }
 ],
 "metadata": {
  "kernelspec": {
   "display_name": "Python 3",
   "language": "python",
   "name": "python3"
  },
  "language_info": {
   "codemirror_mode": {
    "name": "ipython",
    "version": 3
   },
   "file_extension": ".py",
   "mimetype": "text/x-python",
   "name": "python",
   "nbconvert_exporter": "python",
   "pygments_lexer": "ipython3",
   "version": "3.7.3"
  }
 },
 "nbformat": 4,
 "nbformat_minor": 2
}
