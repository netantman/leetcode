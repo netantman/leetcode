{
 "cells": [
  {
   "cell_type": "markdown",
   "metadata": {},
   "source": [
    "## Attempt 1 - Wrong Answer"
   ]
  },
  {
   "cell_type": "code",
   "execution_count": null,
   "metadata": {},
   "outputs": [],
   "source": [
    "# Definition for a binary tree node.\n",
    "# class TreeNode:\n",
    "#     def __init__(self, val=0, left=None, right=None):\n",
    "#         self.val = val\n",
    "#         self.left = left\n",
    "#         self.right = right\n",
    "class Solution:\n",
    "    def boundaryOfBinaryTree(self, root: Optional[TreeNode]) -> List[int]:\n",
    "        lvl = [root]\n",
    "        while True:\n",
    "            new = []\n",
    "            for n in lvl:\n",
    "                if n.left is not None:\n",
    "                    new.append(n.left)\n",
    "                if n.right is not None:\n",
    "                    new.append(n.right)\n",
    "            if new:\n",
    "                lvl = new\n",
    "            else:\n",
    "                break\n",
    "        leaves = [n.val for n in lvl] ## --> did not handle the edge case where there is only one node in the tree\n",
    "        \n",
    "        left = []\n",
    "        l = root.left\n",
    "        while l:\n",
    "            if l.left is None and l.right is None:\n",
    "                if l not in lvl:\n",
    "                    left.append(l.val)\n",
    "                break\n",
    "            left.append(l.val)\n",
    "            if l.left is not None:\n",
    "                l = l.left\n",
    "                continue\n",
    "            if l.right is not None:\n",
    "                l = l.right\n",
    "                continue\n",
    "        \n",
    "        right = []\n",
    "        r = root.right\n",
    "        while r:\n",
    "            if r.left is None and r.right is None:\n",
    "                if r not in lvl:\n",
    "                    right.append(r.val)\n",
    "                break\n",
    "            right.append(r.val)\n",
    "            if r.right is not None:\n",
    "                r = r.right\n",
    "                continue\n",
    "            if r.left is not None:\n",
    "                r = r.left\n",
    "                continue\n",
    "        \n",
    "        return [root.val] + left + leaves + right[::-1]"
   ]
  },
  {
   "cell_type": "markdown",
   "metadata": {},
   "source": [
    "## Attempt 2 - Accepted"
   ]
  },
  {
   "cell_type": "code",
   "execution_count": null,
   "metadata": {},
   "outputs": [],
   "source": [
    "# Definition for a binary tree node.\n",
    "# class TreeNode:\n",
    "#     def __init__(self, val=0, left=None, right=None):\n",
    "#         self.val = val\n",
    "#         self.left = left\n",
    "#         self.right = right\n",
    "class Solution:\n",
    "    def boundaryOfBinaryTree(self, root: Optional[TreeNode]) -> List[int]:\n",
    "        if root is None:\n",
    "            return []\n",
    "        if root.left is None and root.right is None:\n",
    "            return [root.val]\n",
    "        \n",
    "        self.leaves = []\n",
    "        def get_leaves(root):\n",
    "            if root is None:\n",
    "                return\n",
    "            if root.left is None and root.right is None:\n",
    "                self.leaves.append(root.val)\n",
    "                return\n",
    "            get_leaves(root.left)\n",
    "            get_leaves(root.right)\n",
    "            return\n",
    "        get_leaves(root)\n",
    "\n",
    "        left = []\n",
    "        l = root.left\n",
    "        while l:\n",
    "            if l.left is None and l.right is None:\n",
    "                break\n",
    "            left.append(l.val)\n",
    "            if l.left is not None:\n",
    "                l = l.left\n",
    "                continue\n",
    "            if l.right is not None:\n",
    "                l = l.right\n",
    "                continue\n",
    "        \n",
    "        right = []\n",
    "        r = root.right\n",
    "        while r:\n",
    "            if r.left is None and r.right is None:\n",
    "                break\n",
    "            right.append(r.val)\n",
    "            if r.right is not None:\n",
    "                r = r.right\n",
    "                continue\n",
    "            if r.left is not None:\n",
    "                r = r.left\n",
    "                continue\n",
    "        \n",
    "        return [root.val] + left + self.leaves + right[::-1]"
   ]
  },
  {
   "cell_type": "markdown",
   "metadata": {},
   "source": [
    "## Lessons and Thoughts\n",
    "- Go slower and get into the habit of considering edge cases."
   ]
  }
 ],
 "metadata": {
  "kernelspec": {
   "display_name": "Python 3",
   "language": "python",
   "name": "python3"
  },
  "language_info": {
   "codemirror_mode": {
    "name": "ipython",
    "version": 3
   },
   "file_extension": ".py",
   "mimetype": "text/x-python",
   "name": "python",
   "nbconvert_exporter": "python",
   "pygments_lexer": "ipython3",
   "version": "3.7.3"
  }
 },
 "nbformat": 4,
 "nbformat_minor": 2
}
