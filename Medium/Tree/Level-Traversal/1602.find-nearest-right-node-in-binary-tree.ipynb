{
 "cells": [
  {
   "cell_type": "markdown",
   "metadata": {},
   "source": [
    "## Attempt 1 - Accepted"
   ]
  },
  {
   "cell_type": "code",
   "execution_count": null,
   "metadata": {},
   "outputs": [],
   "source": [
    "# Definition for a binary tree node.\n",
    "# class TreeNode:\n",
    "#     def __init__(self, val=0, left=None, right=None):\n",
    "#         self.val = val\n",
    "#         self.left = left\n",
    "#         self.right = right\n",
    "class Solution:\n",
    "    def findNearestRightNode(self, root: TreeNode, u: TreeNode) -> Optional[TreeNode]:\n",
    "        curr = [root]\n",
    "        while curr:\n",
    "            nexxt = []\n",
    "            L = len(curr)\n",
    "            for idx in range(L):\n",
    "                node = curr[idx]\n",
    "                if node == u:\n",
    "                    if idx < L - 1:\n",
    "                        return curr[idx + 1]\n",
    "                    else:\n",
    "                        return None\n",
    "                if node.left:\n",
    "                    nexxt.append(node.left)\n",
    "                if node.right:\n",
    "                    nexxt.append(node.right)\n",
    "            curr = nexxt"
   ]
  },
  {
   "cell_type": "markdown",
   "metadata": {},
   "source": [
    "## Lessons and Thoughts\n",
    "- Straightforward level traversal"
   ]
  }
 ],
 "metadata": {
  "kernelspec": {
   "display_name": "Python 3",
   "language": "python",
   "name": "python3"
  },
  "language_info": {
   "codemirror_mode": {
    "name": "ipython",
    "version": 3
   },
   "file_extension": ".py",
   "mimetype": "text/x-python",
   "name": "python",
   "nbconvert_exporter": "python",
   "pygments_lexer": "ipython3",
   "version": "3.7.3"
  }
 },
 "nbformat": 4,
 "nbformat_minor": 2
}
