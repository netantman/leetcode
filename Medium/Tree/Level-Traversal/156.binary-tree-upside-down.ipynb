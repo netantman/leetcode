{
 "cells": [
  {
   "cell_type": "markdown",
   "metadata": {},
   "source": [
    "## Attempt 1 - Accepted"
   ]
  },
  {
   "cell_type": "code",
   "execution_count": null,
   "metadata": {},
   "outputs": [],
   "source": [
    "# Definition for a binary tree node.\n",
    "# class TreeNode:\n",
    "#     def __init__(self, val=0, left=None, right=None):\n",
    "#         self.val = val\n",
    "#         self.left = left\n",
    "#         self.right = right\n",
    "class Solution:\n",
    "    def upsideDownBinaryTree(self, root: Optional[TreeNode]) -> Optional[TreeNode]:\n",
    "        if root is None:\n",
    "            return root\n",
    "        if root.left is None and root.right is None:\n",
    "            return root\n",
    "        \n",
    "        levels = []\n",
    "        curr = [root]\n",
    "        while curr:\n",
    "            new = []\n",
    "            for node in curr:\n",
    "                if node.left:\n",
    "                    new.append(node.left)\n",
    "                if node.right:\n",
    "                    new.append(node.right)\n",
    "            levels.append([n for n in curr])\n",
    "            curr = new\n",
    "        \n",
    "        levels = levels[::-1]\n",
    "        res = levels[0][0]\n",
    "        R = len(levels)\n",
    "        for r in range(R - 1):\n",
    "            curr = levels[r][0]\n",
    "            curr.left, curr.right = None, None\n",
    "            if len(levels[r]) > 1:\n",
    "                left = levels[r][1]\n",
    "                left.left, left.right = None, None\n",
    "                curr.left = left\n",
    "            curr.right = levels[r + 1][0]\n",
    "        levels[-1][0].left, levels[-1][0].right = None, None\n",
    "        \n",
    "        return res"
   ]
  },
  {
   "cell_type": "markdown",
   "metadata": {},
   "source": [
    "## Lessons and Thoughts\n",
    "- A bit involved to reconstruct the tree."
   ]
  }
 ],
 "metadata": {
  "kernelspec": {
   "display_name": "Python 3",
   "language": "python",
   "name": "python3"
  },
  "language_info": {
   "codemirror_mode": {
    "name": "ipython",
    "version": 3
   },
   "file_extension": ".py",
   "mimetype": "text/x-python",
   "name": "python",
   "nbconvert_exporter": "python",
   "pygments_lexer": "ipython3",
   "version": "3.7.3"
  }
 },
 "nbformat": 4,
 "nbformat_minor": 2
}
