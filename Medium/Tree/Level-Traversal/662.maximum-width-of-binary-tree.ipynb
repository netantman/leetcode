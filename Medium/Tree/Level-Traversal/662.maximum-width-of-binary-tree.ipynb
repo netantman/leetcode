{
 "cells": [
  {
   "cell_type": "markdown",
   "metadata": {},
   "source": [
    "## Attempt 1 - Accepted"
   ]
  },
  {
   "cell_type": "code",
   "execution_count": null,
   "metadata": {},
   "outputs": [],
   "source": [
    "class Solution:\n",
    "    def widthOfBinaryTree(self, root: TreeNode) -> int:\n",
    "        if not root:\n",
    "            return 0\n",
    "        ans, que = 1, [(0, root)]   #起始坐标为0，节点为根节点\n",
    "        while que:\n",
    "            ans = max(ans, que[-1][0] - que[0][0] + 1)\n",
    "            tmp = []                #下一轮队列\n",
    "            for i, q in que:        #坐标节点生成\n",
    "                q.left and tmp.append((i * 2, q.left))\n",
    "                q.right and tmp.append((i * 2 + 1, q.right))\n",
    "            que = tmp\n",
    "        return an"
   ]
  },
  {
   "cell_type": "markdown",
   "metadata": {},
   "source": [
    "## Lessons and Thoughts\n",
    "- Usual level traversal of the tree. The accepted algo is from the leetcode app, and the way it uses `and` to fulfill an `if` is interesting."
   ]
  }
 ],
 "metadata": {
  "kernelspec": {
   "display_name": "Python 3",
   "language": "python",
   "name": "python3"
  },
  "language_info": {
   "codemirror_mode": {
    "name": "ipython",
    "version": 3
   },
   "file_extension": ".py",
   "mimetype": "text/x-python",
   "name": "python",
   "nbconvert_exporter": "python",
   "pygments_lexer": "ipython3",
   "version": "3.7.3"
  }
 },
 "nbformat": 4,
 "nbformat_minor": 2
}
