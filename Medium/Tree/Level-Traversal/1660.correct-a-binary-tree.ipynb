{
 "cells": [
  {
   "cell_type": "markdown",
   "metadata": {},
   "source": [
    "## Attempt 1 - Accepted"
   ]
  },
  {
   "cell_type": "code",
   "execution_count": null,
   "metadata": {},
   "outputs": [],
   "source": [
    "# Definition for a binary tree node.\n",
    "# class TreeNode:\n",
    "#     def __init__(self, val=0, left=None, right=None):\n",
    "#         self.val = val\n",
    "#         self.left = left\n",
    "#         self.right = right\n",
    "class Solution:\n",
    "    def correctBinaryTree(self, root: TreeNode) -> TreeNode:\n",
    "        curr = {root : (None, 'left')}\n",
    "        while curr:\n",
    "            nexxt = dict()\n",
    "            for k, v in curr.items():\n",
    "                if k.right in curr:\n",
    "                    if v[1] == 'left':\n",
    "                        v[0].left = None\n",
    "                    else:\n",
    "                        v[0].right = None\n",
    "                    return root\n",
    "                \n",
    "                if k.left is not None:\n",
    "                    nexxt[k.left] = (k, 'left')\n",
    "                if k.right is not None:\n",
    "                    nexxt[k.right] = (k, 'right')\n",
    "            curr = nexxt"
   ]
  },
  {
   "cell_type": "markdown",
   "metadata": {},
   "source": [
    "## Lessons and Thoughts\n",
    "- Sometimes cachine a class will not work."
   ]
  }
 ],
 "metadata": {
  "kernelspec": {
   "display_name": "Python 3",
   "language": "python",
   "name": "python3"
  },
  "language_info": {
   "codemirror_mode": {
    "name": "ipython",
    "version": 3
   },
   "file_extension": ".py",
   "mimetype": "text/x-python",
   "name": "python",
   "nbconvert_exporter": "python",
   "pygments_lexer": "ipython3",
   "version": "3.7.3"
  }
 },
 "nbformat": 4,
 "nbformat_minor": 2
}
