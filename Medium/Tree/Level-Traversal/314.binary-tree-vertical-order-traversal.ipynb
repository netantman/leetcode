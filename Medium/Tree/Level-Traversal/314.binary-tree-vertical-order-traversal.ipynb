{
 "cells": [
  {
   "cell_type": "markdown",
   "metadata": {},
   "source": [
    "## Attempt 1 - Runtime Error"
   ]
  },
  {
   "cell_type": "code",
   "execution_count": null,
   "metadata": {},
   "outputs": [],
   "source": [
    "# Definition for a binary tree node.\n",
    "# class TreeNode:\n",
    "#     def __init__(self, val=0, left=None, right=None):\n",
    "#         self.val = val\n",
    "#         self.left = left\n",
    "#         self.right = right\n",
    "class Solution:\n",
    "    def verticalOrder(self, root: Optional[TreeNode]) -> List[List[int]]:\n",
    "        self.record = defaultdict(list)\n",
    "        q = [(root, 0)]\n",
    "        while q:\n",
    "            node, label = q.pop(0)\n",
    "            self.record[label].append(node.val) ## --> did not handle the case of empty tree\n",
    "            if node.left:\n",
    "                q.append((node.left, label - 1))\n",
    "            if node.right:\n",
    "                q.append((node.right, label + 1))\n",
    "        keys = sorted(self.record.keys())\n",
    "        return [self.record[k] for k in keys]"
   ]
  },
  {
   "cell_type": "markdown",
   "metadata": {},
   "source": [
    "## Attempt 2 - Accepted"
   ]
  },
  {
   "cell_type": "code",
   "execution_count": null,
   "metadata": {},
   "outputs": [],
   "source": [
    "# Definition for a binary tree node.\n",
    "# class TreeNode:\n",
    "#     def __init__(self, val=0, left=None, right=None):\n",
    "#         self.val = val\n",
    "#         self.left = left\n",
    "#         self.right = right\n",
    "class Solution:\n",
    "    def verticalOrder(self, root: Optional[TreeNode]) -> List[List[int]]:\n",
    "        if root is None:\n",
    "            return []\n",
    "        \n",
    "        self.record = defaultdict(list)\n",
    "        q = [(root, 0)]\n",
    "        while q:\n",
    "            node, label = q.pop(0)\n",
    "            self.record[label].append(node.val)\n",
    "            if node.left:\n",
    "                q.append((node.left, label - 1))\n",
    "            if node.right:\n",
    "                q.append((node.right, label + 1))\n",
    "        keys = sorted(self.record.keys())\n",
    "        return [self.record[k] for k in keys]"
   ]
  },
  {
   "cell_type": "markdown",
   "metadata": {},
   "source": [
    "## Lessons and Thoughts\n",
    "- Be more diligent in handling edge cases please..."
   ]
  }
 ],
 "metadata": {
  "kernelspec": {
   "display_name": "Python 3",
   "language": "python",
   "name": "python3"
  },
  "language_info": {
   "codemirror_mode": {
    "name": "ipython",
    "version": 3
   },
   "file_extension": ".py",
   "mimetype": "text/x-python",
   "name": "python",
   "nbconvert_exporter": "python",
   "pygments_lexer": "ipython3",
   "version": "3.7.3"
  }
 },
 "nbformat": 4,
 "nbformat_minor": 2
}
