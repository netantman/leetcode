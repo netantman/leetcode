{
 "cells": [
  {
   "cell_type": "markdown",
   "metadata": {},
   "source": [
    "## Attempt 1 - Wrong Answer"
   ]
  },
  {
   "cell_type": "code",
   "execution_count": null,
   "metadata": {},
   "outputs": [],
   "source": [
    "# Definition for a binary tree node.\n",
    "# class TreeNode:\n",
    "#     def __init__(self, val=0, left=None, right=None):\n",
    "#         self.val = val\n",
    "#         self.left = left\n",
    "#         self.right = right\n",
    "class Solution:\n",
    "    def isEvenOddTree(self, root: TreeNode) -> bool:\n",
    "        def check(seq, even=True):\n",
    "            L = len(seq)\n",
    "            if L < 2:\n",
    "                return True ## --> did not check odd or even\n",
    "            left, right = 0, 1\n",
    "            while right < L:\n",
    "                if even:\n",
    "                    if seq[left] >= seq[right] or (seq[left] % 2 < 1) or (seq[right] % 2 < 1):\n",
    "                        return False\n",
    "                else:\n",
    "                    if seq[left] <= seq[right] or (seq[left] % 2 > 0) or (seq[right] % 2 > 0):\n",
    "                        return False\n",
    "                left += 1\n",
    "                right += 1\n",
    "            return True\n",
    "        \n",
    "        lvl = [root]\n",
    "        even = True\n",
    "        while lvl:\n",
    "            seq = [n.val for n in lvl]\n",
    "            if not check(seq, even=even):\n",
    "                return False\n",
    "            nexxt = []\n",
    "            for n in lvl:\n",
    "                if n.left:\n",
    "                    nexxt.append(n.left)\n",
    "                if n.right:\n",
    "                    nexxt.append(n.right)\n",
    "            lvl = nexxt\n",
    "            even = not even\n",
    "        return True"
   ]
  },
  {
   "cell_type": "markdown",
   "metadata": {},
   "source": [
    "## Attempt 2 - Accepted"
   ]
  },
  {
   "cell_type": "code",
   "execution_count": null,
   "metadata": {},
   "outputs": [],
   "source": [
    "# Definition for a binary tree node.\n",
    "# class TreeNode:\n",
    "#     def __init__(self, val=0, left=None, right=None):\n",
    "#         self.val = val\n",
    "#         self.left = left\n",
    "#         self.right = right\n",
    "class Solution:\n",
    "    def isEvenOddTree(self, root: TreeNode) -> bool:\n",
    "        def check(seq, even=True):\n",
    "            L = len(seq)\n",
    "            if L < 2:\n",
    "                if even and seq[0] % 2 > 0:\n",
    "                    return True\n",
    "                if not even and seq[0] % 2 < 1:\n",
    "                    return True\n",
    "                return False\n",
    "            left, right = 0, 1\n",
    "            while right < L:\n",
    "                if even:\n",
    "                    if seq[left] >= seq[right] or (seq[left] % 2 < 1) or (seq[right] % 2 < 1):\n",
    "                        return False\n",
    "                else:\n",
    "                    if seq[left] <= seq[right] or (seq[left] % 2 > 0) or (seq[right] % 2 > 0):\n",
    "                        return False\n",
    "                left += 1\n",
    "                right += 1\n",
    "            return True\n",
    "        \n",
    "        lvl = [root]\n",
    "        even = True\n",
    "        while lvl:\n",
    "            seq = [n.val for n in lvl]\n",
    "            # print(seq)\n",
    "            # print(check(seq, even=even))\n",
    "            if not check(seq, even=even):\n",
    "                return False\n",
    "            nexxt = []\n",
    "            for n in lvl:\n",
    "                if n.left:\n",
    "                    nexxt.append(n.left)\n",
    "                if n.right:\n",
    "                    nexxt.append(n.right)\n",
    "            lvl = nexxt\n",
    "            even = not even\n",
    "        return True"
   ]
  },
  {
   "cell_type": "markdown",
   "metadata": {},
   "source": [
    "## Lessons and Thoughts\n",
    "- Missed the edge case where root can be odd number or even number."
   ]
  }
 ],
 "metadata": {
  "kernelspec": {
   "display_name": "Python 3",
   "language": "python",
   "name": "python3"
  },
  "language_info": {
   "codemirror_mode": {
    "name": "ipython",
    "version": 3
   },
   "file_extension": ".py",
   "mimetype": "text/x-python",
   "name": "python",
   "nbconvert_exporter": "python",
   "pygments_lexer": "ipython3",
   "version": "3.7.3"
  }
 },
 "nbformat": 4,
 "nbformat_minor": 2
}
