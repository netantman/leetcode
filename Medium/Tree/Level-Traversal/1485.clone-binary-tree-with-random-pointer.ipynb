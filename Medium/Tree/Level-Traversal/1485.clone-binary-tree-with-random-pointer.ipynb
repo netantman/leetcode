{
 "cells": [
  {
   "cell_type": "markdown",
   "metadata": {},
   "source": [
    "## Attempt 1 - Accepted"
   ]
  },
  {
   "cell_type": "code",
   "execution_count": null,
   "metadata": {},
   "outputs": [],
   "source": [
    "# Definition for Node.\n",
    "# class Node:\n",
    "#     def __init__(self, val=0, left=None, right=None, random=None):\n",
    "#         self.val = val\n",
    "#         self.left = left\n",
    "#         self.right = right\n",
    "#         self.random = random\n",
    "\n",
    "class Solution:\n",
    "    def copyRandomBinaryTree(self, root: 'Optional[Node]') -> 'Optional[NodeCopy]':\n",
    "        self.flatten = []\n",
    "        q = [root]\n",
    "        while q:\n",
    "            curr = q.pop(0)\n",
    "            self.flatten.append(curr)\n",
    "            if curr is None:\n",
    "                continue\n",
    "            q.append(curr.left)\n",
    "            q.append(curr.right)\n",
    "        \n",
    "        def find_node(node):\n",
    "            L = len(self.flatten)\n",
    "            for idx, n in enumerate(self.flatten):\n",
    "                if n == node:\n",
    "                    return idx\n",
    "        \n",
    "        copies = []\n",
    "        for n in self.flatten:\n",
    "            if n is None:\n",
    "                copies.append(n)\n",
    "                continue\n",
    "            new = NodeCopy(val=n.val)\n",
    "            copies.append(new)\n",
    "        \n",
    "        for idx, n in enumerate(self.flatten):\n",
    "            if n is None:\n",
    "                continue\n",
    "            if n.left is not None:\n",
    "                l = find_node(n.left)\n",
    "                copies[idx].left = copies[l]\n",
    "            if n.right is not None:\n",
    "                r = find_node(n.right)\n",
    "                copies[idx].right = copies[r]\n",
    "            if n.random is not None:\n",
    "                ran = find_node(n.random)\n",
    "                copies[idx].random = copies[ran]\n",
    "        \n",
    "        return copies[0]"
   ]
  },
  {
   "cell_type": "markdown",
   "metadata": {},
   "source": [
    "## Lessons and Thoughts\n",
    "- Just do a deep copy of all the nodes first, then left, right and random."
   ]
  }
 ],
 "metadata": {
  "kernelspec": {
   "display_name": "Python 3",
   "language": "python",
   "name": "python3"
  },
  "language_info": {
   "codemirror_mode": {
    "name": "ipython",
    "version": 3
   },
   "file_extension": ".py",
   "mimetype": "text/x-python",
   "name": "python",
   "nbconvert_exporter": "python",
   "pygments_lexer": "ipython3",
   "version": "3.7.3"
  }
 },
 "nbformat": 4,
 "nbformat_minor": 2
}
