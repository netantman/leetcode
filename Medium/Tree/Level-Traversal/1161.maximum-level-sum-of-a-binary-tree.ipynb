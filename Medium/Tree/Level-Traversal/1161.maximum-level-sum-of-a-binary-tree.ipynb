{
 "cells": [
  {
   "cell_type": "markdown",
   "metadata": {},
   "source": [
    "## Attempt 1 - Accepted"
   ]
  },
  {
   "cell_type": "code",
   "execution_count": null,
   "metadata": {},
   "outputs": [],
   "source": [
    "# Definition for a binary tree node.\n",
    "# class TreeNode:\n",
    "#     def __init__(self, val=0, left=None, right=None):\n",
    "#         self.val = val\n",
    "#         self.left = left\n",
    "#         self.right = right\n",
    "class Solution:\n",
    "    def maxLevelSum(self, root: TreeNode) -> int:\n",
    "        maxx=-float('inf')\n",
    "        q=[root]\n",
    "        res, lvl=0,1\n",
    "        while q:\n",
    "            new=[]\n",
    "            s=0\n",
    "            for node in q:\n",
    "                s+=node.val\n",
    "                if node.left:\n",
    "                    new.append(node.left)\n",
    "                if node.right:\n",
    "                    new.append(node.right)\n",
    "            if s>maxx:\n",
    "                maxx=s\n",
    "                res=lvl\n",
    "            q=[n for n in new]\n",
    "            lvl+=1\n",
    "        return res"
   ]
  },
  {
   "cell_type": "markdown",
   "metadata": {},
   "source": [
    "## Lessons and Thoughts\n",
    "- Usual queue implementation of level traversal.\n",
    "- Be careful using non-comparison approach to check if list is empty or if something is `None`."
   ]
  }
 ],
 "metadata": {
  "kernelspec": {
   "display_name": "Python 3",
   "language": "python",
   "name": "python3"
  },
  "language_info": {
   "codemirror_mode": {
    "name": "ipython",
    "version": 3
   },
   "file_extension": ".py",
   "mimetype": "text/x-python",
   "name": "python",
   "nbconvert_exporter": "python",
   "pygments_lexer": "ipython3",
   "version": "3.7.3"
  }
 },
 "nbformat": 4,
 "nbformat_minor": 2
}
