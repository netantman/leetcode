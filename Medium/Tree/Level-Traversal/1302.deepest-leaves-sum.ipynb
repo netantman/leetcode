{
 "cells": [
  {
   "cell_type": "markdown",
   "metadata": {},
   "source": [
    "## Attempt 1 - Accepted"
   ]
  },
  {
   "cell_type": "code",
   "execution_count": null,
   "metadata": {},
   "outputs": [],
   "source": [
    "# Definition for a binary tree node.\n",
    "# class TreeNode:\n",
    "#     def __init__(self, val=0, left=None, right=None):\n",
    "#         self.val = val\n",
    "#         self.left = left\n",
    "#         self.right = right\n",
    "class Solution:\n",
    "    def deepestLeavesSum(self, root: TreeNode) -> int:\n",
    "        curr=[root]\n",
    "        nexxt=[]\n",
    "        while curr:\n",
    "            for n in curr:\n",
    "                if n.left:\n",
    "                    nexxt.append(n.left)\n",
    "                if n.right:\n",
    "                    nexxt.append(n.right)\n",
    "            if not nexxt:\n",
    "                break\n",
    "            else:\n",
    "                curr,nexxt=nexxt,[]\n",
    "        res=0\n",
    "        for n in curr:\n",
    "            if not n.left and not n.right:\n",
    "                res+=n.val\n",
    "        return res"
   ]
  },
  {
   "cell_type": "markdown",
   "metadata": {},
   "source": [
    "## Lessons and Thoughts\n",
    "- Typical level traversal"
   ]
  }
 ],
 "metadata": {
  "kernelspec": {
   "display_name": "Python 3",
   "language": "python",
   "name": "python3"
  },
  "language_info": {
   "codemirror_mode": {
    "name": "ipython",
    "version": 3
   },
   "file_extension": ".py",
   "mimetype": "text/x-python",
   "name": "python",
   "nbconvert_exporter": "python",
   "pygments_lexer": "ipython3",
   "version": "3.7.3"
  }
 },
 "nbformat": 4,
 "nbformat_minor": 2
}
