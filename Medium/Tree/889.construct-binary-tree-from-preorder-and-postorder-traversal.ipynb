{
 "cells": [
  {
   "cell_type": "markdown",
   "metadata": {},
   "source": [
    "## Attempt 1 - Accepted"
   ]
  },
  {
   "cell_type": "code",
   "execution_count": null,
   "metadata": {},
   "outputs": [],
   "source": [
    "# Definition for a binary tree node.\n",
    "# class TreeNode:\n",
    "#     def __init__(self, val=0, left=None, right=None):\n",
    "#         self.val = val\n",
    "#         self.left = left\n",
    "#         self.right = right\n",
    "class Solution:\n",
    "    def constructFromPrePost(self, pre: List[int], post: List[int]) -> TreeNode:\n",
    "        L=len(post)\n",
    "        if L<1:\n",
    "            return None\n",
    "        root=TreeNode(val=pre[0])\n",
    "        if len(pre)==1:\n",
    "            return root\n",
    "        pin=0\n",
    "        for idx in range(L-1):\n",
    "            if post[idx]==pre[1]:\n",
    "                pin=idx\n",
    "                break\n",
    "        left_pre=pre[1:1+pin+1]\n",
    "        left_post=post[:pin+1]\n",
    "        right_pre=pre[1+pin+1:]\n",
    "        right_post=post[pin+1:-1]\n",
    "        left=self.constructFromPrePost(left_pre, left_post)\n",
    "        right=self.constructFromPrePost(right_pre, right_post)\n",
    "        root.left=left\n",
    "        root.right=right\n",
    "        return root"
   ]
  },
  {
   "cell_type": "markdown",
   "metadata": {},
   "source": [
    "## Lessons and Thoughts\n",
    "- Probably not possible without the condition that all elements are unique.\n",
    "- As always, don't forget to check for empty trees or trees with one node!"
   ]
  }
 ],
 "metadata": {
  "kernelspec": {
   "display_name": "Python 3",
   "language": "python",
   "name": "python3"
  },
  "language_info": {
   "codemirror_mode": {
    "name": "ipython",
    "version": 3
   },
   "file_extension": ".py",
   "mimetype": "text/x-python",
   "name": "python",
   "nbconvert_exporter": "python",
   "pygments_lexer": "ipython3",
   "version": "3.7.3"
  }
 },
 "nbformat": 4,
 "nbformat_minor": 2
}
