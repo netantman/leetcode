{
 "cells": [
  {
   "cell_type": "markdown",
   "metadata": {},
   "source": [
    "## Attempt 1 - Accepted"
   ]
  },
  {
   "cell_type": "code",
   "execution_count": null,
   "metadata": {},
   "outputs": [],
   "source": [
    "# Definition for a binary tree node.\n",
    "# class TreeNode:\n",
    "#     def __init__(self, val=0, left=None, right=None):\n",
    "#         self.val = val\n",
    "#         self.left = left\n",
    "#         self.right = right\n",
    "class Solution:\n",
    "    def countNodes(self, root: TreeNode) -> int:\n",
    "        if root is None:\n",
    "            return 0\n",
    "        if root.left is None and root.right is None:\n",
    "            return 1\n",
    "        \n",
    "        level=0\n",
    "        curr=root\n",
    "        while curr is not None:\n",
    "            level+=1\n",
    "            curr=curr.right\n",
    "        \n",
    "        queue=[(0,root)]\n",
    "        res=0\n",
    "        while len(queue)>0:\n",
    "            head=queue[0]\n",
    "            queue=queue[1:]\n",
    "            l, node=head\n",
    "            if l==level:\n",
    "                res+=1\n",
    "            if node.left is not None:\n",
    "                queue.append((l+1, node.left))\n",
    "            if node.right is not None:\n",
    "                queue.append((l+1, node.right))\n",
    "        res+=2**level-1\n",
    "        return res"
   ]
  },
  {
   "cell_type": "markdown",
   "metadata": {},
   "source": [
    "## Lessons and Thoughts\n",
    "- Straightforward application of BFS\n",
    "- It is also labeled binary search on leetcode, which I wonder why..."
   ]
  }
 ],
 "metadata": {
  "kernelspec": {
   "display_name": "Python 3",
   "language": "python",
   "name": "python3"
  },
  "language_info": {
   "codemirror_mode": {
    "name": "ipython",
    "version": 3
   },
   "file_extension": ".py",
   "mimetype": "text/x-python",
   "name": "python",
   "nbconvert_exporter": "python",
   "pygments_lexer": "ipython3",
   "version": "3.7.3"
  }
 },
 "nbformat": 4,
 "nbformat_minor": 2
}
