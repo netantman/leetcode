{
 "cells": [
  {
   "cell_type": "markdown",
   "metadata": {},
   "source": [
    "## Attempt 1 - Accepted"
   ]
  },
  {
   "cell_type": "code",
   "execution_count": null,
   "metadata": {},
   "outputs": [],
   "source": [
    "# Definition for a binary tree node.\n",
    "# class TreeNode:\n",
    "#     def __init__(self, val=0, left=None, right=None):\n",
    "#         self.val = val\n",
    "#         self.left = left\n",
    "#         self.right = right\n",
    "class Solution:\n",
    "    def __init__(self):\n",
    "        self.serial=[]\n",
    "        self.cache=dict()\n",
    "    def bstToGst(self, root: TreeNode) -> TreeNode:\n",
    "        def inner(root):\n",
    "            if root is None:\n",
    "                return\n",
    "            if root.left is None and root.right is None:\n",
    "                self.serial.append(root.val)\n",
    "                return\n",
    "            inner(root.left)\n",
    "            self.serial.append(root.val)\n",
    "            inner(root.right)\n",
    "            return\n",
    "        inner(root)\n",
    "        \n",
    "        for n in self.serial:\n",
    "            self.cache[n]=sum([s for s in self.serial if s>=n])\n",
    "        def inner2(root):\n",
    "            if root is None:\n",
    "                return\n",
    "            root.val=self.cache[root.val]\n",
    "            inner2(root.left)\n",
    "            inner2(root.right)\n",
    "            return\n",
    "        inner2(root)\n",
    "        return root"
   ]
  },
  {
   "cell_type": "markdown",
   "metadata": {},
   "source": [
    "## Lessons and Thoughts\n",
    "- Same as Problem 538. There the solution is to do in-order traversal reversely, so that the cumsum of elements bigger than `root.val` can be collected using recursion."
   ]
  }
 ],
 "metadata": {
  "kernelspec": {
   "display_name": "Python 3",
   "language": "python",
   "name": "python3"
  },
  "language_info": {
   "codemirror_mode": {
    "name": "ipython",
    "version": 3
   },
   "file_extension": ".py",
   "mimetype": "text/x-python",
   "name": "python",
   "nbconvert_exporter": "python",
   "pygments_lexer": "ipython3",
   "version": "3.7.3"
  }
 },
 "nbformat": 4,
 "nbformat_minor": 2
}
