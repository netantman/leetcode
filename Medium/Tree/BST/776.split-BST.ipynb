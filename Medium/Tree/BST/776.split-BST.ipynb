{
 "cells": [
  {
   "cell_type": "markdown",
   "metadata": {},
   "source": [
    "## Attempt 1 - Accepted"
   ]
  },
  {
   "cell_type": "code",
   "execution_count": null,
   "metadata": {},
   "outputs": [],
   "source": [
    "# Definition for a binary tree node.\n",
    "# class TreeNode:\n",
    "#     def __init__(self, val=0, left=None, right=None):\n",
    "#         self.val = val\n",
    "#         self.left = left\n",
    "#         self.right = right\n",
    "class Solution:\n",
    "    def splitBST(self, root: Optional[TreeNode], target: int) -> List[Optional[TreeNode]]:\n",
    "        \n",
    "        def inner(root):\n",
    "            if root is None:\n",
    "                return None, None\n",
    "            \n",
    "            if root.val <= target:\n",
    "                left, right = inner(root.right)\n",
    "                root.right = left\n",
    "                return root, right\n",
    "            else:\n",
    "                left, right = inner(root.left)\n",
    "                root.left = right\n",
    "                return left, root\n",
    "        \n",
    "        return list(inner(root))"
   ]
  },
  {
   "cell_type": "markdown",
   "metadata": {},
   "source": [
    "## Lessons and Thoughts\n",
    "- Tried a non-recursion solution: even flatten the BST. But it turns out recursion does the trick."
   ]
  }
 ],
 "metadata": {
  "kernelspec": {
   "display_name": "Python 3",
   "language": "python",
   "name": "python3"
  },
  "language_info": {
   "codemirror_mode": {
    "name": "ipython",
    "version": 3
   },
   "file_extension": ".py",
   "mimetype": "text/x-python",
   "name": "python",
   "nbconvert_exporter": "python",
   "pygments_lexer": "ipython3",
   "version": "3.7.3"
  }
 },
 "nbformat": 4,
 "nbformat_minor": 2
}
