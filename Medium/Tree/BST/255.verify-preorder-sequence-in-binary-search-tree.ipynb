{
 "cells": [
  {
   "cell_type": "markdown",
   "metadata": {},
   "source": [
    "## Attempt 1 - Runtime Error"
   ]
  },
  {
   "cell_type": "code",
   "execution_count": null,
   "metadata": {},
   "outputs": [],
   "source": [
    "class Solution:\n",
    "    def verifyPreorder(self, preorder: List[int]) -> bool:\n",
    "        def inner(vec):\n",
    "            if len(vec) <= 1:\n",
    "                return True\n",
    "            \n",
    "            root = vec[0]\n",
    "            L = len(vec)\n",
    "            split = None\n",
    "            for idx in range(1, L):\n",
    "                if vec[idx] > root:\n",
    "                    split = idx\n",
    "                    break\n",
    "            else:\n",
    "                split = L\n",
    "            \n",
    "            if min(vec[split:]) < root: ## --> this could be empty\n",
    "                return False\n",
    "            \n",
    "            return inner(vec[1:split]) and inner(vec[split:])\n",
    "        \n",
    "        return inner(preorder)"
   ]
  },
  {
   "cell_type": "markdown",
   "metadata": {},
   "source": [
    "## Attempt 2 - Time Limit Exceeded"
   ]
  },
  {
   "cell_type": "code",
   "execution_count": null,
   "metadata": {},
   "outputs": [],
   "source": [
    "class Solution:\n",
    "    def verifyPreorder(self, preorder: List[int]) -> bool:\n",
    "        def inner(vec):\n",
    "            if len(vec) <= 1:\n",
    "                return True\n",
    "            \n",
    "            root = vec[0]\n",
    "            L = len(vec)\n",
    "            split = None\n",
    "            for idx in range(1, L):\n",
    "                if vec[idx] > root:\n",
    "                    split = idx\n",
    "                    break\n",
    "            else:\n",
    "                split = L\n",
    "            \n",
    "            if split < L and min(vec[split:]) < root:\n",
    "                return False\n",
    "            \n",
    "            return inner(vec[1:split]) and inner(vec[split:])\n",
    "        \n",
    "        return inner(preorder)"
   ]
  },
  {
   "cell_type": "markdown",
   "metadata": {},
   "source": [
    "## Attempt 3 - Time Limit Exceeded"
   ]
  },
  {
   "cell_type": "code",
   "execution_count": null,
   "metadata": {},
   "outputs": [],
   "source": [
    "class Solution:\n",
    "    def verifyPreorder(self, preorder: List[int]) -> bool:\n",
    "        if preorder == sorted(preorder):\n",
    "            return True\n",
    "        if preorder == sorted(preorder, reverse=True):\n",
    "            return True\n",
    "        \n",
    "        L = len(preorder)\n",
    "        q = [(0, L)]\n",
    "        while q:\n",
    "            start, end = q.pop(0)\n",
    "            if end - start <= 1:\n",
    "                continue\n",
    "            root = preorder[start]\n",
    "            split = None\n",
    "            for idx in range(start, end):\n",
    "                if preorder[idx] > root:\n",
    "                    split = idx\n",
    "                    break\n",
    "            else:\n",
    "                split = end\n",
    "                \n",
    "            if split < end and min(preorder[split:end]) < root:\n",
    "                return False\n",
    "            \n",
    "            if split > start:\n",
    "                q.append((start + 1, split))\n",
    "            if end > split:\n",
    "                q.append((split, end))\n",
    "            \n",
    "#             print(q)\n",
    "        \n",
    "        return True"
   ]
  },
  {
   "cell_type": "markdown",
   "metadata": {},
   "source": [
    "## Attempt 4 - Accepted"
   ]
  },
  {
   "cell_type": "code",
   "execution_count": null,
   "metadata": {},
   "outputs": [],
   "source": [
    "class Solution:\n",
    "    def verifyPreorder(self, preorder: List[int]) -> bool:\n",
    "        m = float('-inf')\n",
    "        q = []\n",
    "        for p in preorder:\n",
    "            if p < m:\n",
    "                return False\n",
    "            \n",
    "            if not q or q[-1] > p:\n",
    "                q.append(p)\n",
    "                continue\n",
    "            \n",
    "            while q:\n",
    "                if q[-1] < p:\n",
    "                    m = q.pop()\n",
    "                else:\n",
    "                    break\n",
    "            q.append(p)\n",
    "        return True"
   ]
  },
  {
   "cell_type": "markdown",
   "metadata": {},
   "source": [
    "## Lessons and Thoughts\n",
    "- Monotonic stack can output the sorted nodes preordered in BST."
   ]
  }
 ],
 "metadata": {
  "kernelspec": {
   "display_name": "Python 3",
   "language": "python",
   "name": "python3"
  },
  "language_info": {
   "codemirror_mode": {
    "name": "ipython",
    "version": 3
   },
   "file_extension": ".py",
   "mimetype": "text/x-python",
   "name": "python",
   "nbconvert_exporter": "python",
   "pygments_lexer": "ipython3",
   "version": "3.7.3"
  }
 },
 "nbformat": 4,
 "nbformat_minor": 2
}
