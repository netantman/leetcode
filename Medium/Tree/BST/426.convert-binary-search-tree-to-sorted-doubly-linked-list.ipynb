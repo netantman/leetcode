{
 "cells": [
  {
   "cell_type": "markdown",
   "metadata": {},
   "source": [
    "## Attempt 1 - Accepted"
   ]
  },
  {
   "cell_type": "code",
   "execution_count": null,
   "metadata": {},
   "outputs": [],
   "source": [
    "\"\"\"\n",
    "# Definition for a Node.\n",
    "class Node:\n",
    "    def __init__(self, val, left=None, right=None):\n",
    "        self.val = val\n",
    "        self.left = left\n",
    "        self.right = right\n",
    "\"\"\"\n",
    "\n",
    "class Solution:\n",
    "    def treeToDoublyList(self, root: 'Node') -> 'Node':\n",
    "        if root is None:\n",
    "            return root\n",
    "        \n",
    "        self.seq = []\n",
    "        \n",
    "        def inner(root):\n",
    "            if root.left:\n",
    "                inner(root.left)\n",
    "            self.seq.append(root)\n",
    "            if root.right:\n",
    "                inner(root.right)\n",
    "                \n",
    "        inner(root)\n",
    "        \n",
    "        res = self.seq[0]\n",
    "        L = len(self.seq)\n",
    "        for idx in range(L - 1):\n",
    "            self.seq[idx].right = self.seq[idx + 1]\n",
    "            self.seq[idx + 1].left = self.seq[idx]\n",
    "        self.seq[0].left = self.seq[-1]\n",
    "        self.seq[-1].right = self.seq[0]\n",
    "        \n",
    "        return res"
   ]
  },
  {
   "cell_type": "markdown",
   "metadata": {},
   "source": [
    "## Lessons and Thoughts\n",
    "- Using a list to deal with linked list problem is still very convenient.\n",
    "- When you see a BST, consider flattening it"
   ]
  }
 ],
 "metadata": {
  "kernelspec": {
   "display_name": "Python 3",
   "language": "python",
   "name": "python3"
  },
  "language_info": {
   "codemirror_mode": {
    "name": "ipython",
    "version": 3
   },
   "file_extension": ".py",
   "mimetype": "text/x-python",
   "name": "python",
   "nbconvert_exporter": "python",
   "pygments_lexer": "ipython3",
   "version": "3.7.3"
  }
 },
 "nbformat": 4,
 "nbformat_minor": 2
}
