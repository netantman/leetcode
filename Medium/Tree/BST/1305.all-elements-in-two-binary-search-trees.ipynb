{
 "cells": [
  {
   "cell_type": "markdown",
   "metadata": {},
   "source": [
    "## Attempt 1 - Accepted"
   ]
  },
  {
   "cell_type": "code",
   "execution_count": null,
   "metadata": {},
   "outputs": [],
   "source": [
    "# Definition for a binary tree node.\n",
    "# class TreeNode:\n",
    "#     def __init__(self, val=0, left=None, right=None):\n",
    "#         self.val = val\n",
    "#         self.left = left\n",
    "#         self.right = right\n",
    "class Solution:\n",
    "    def getAllElements(self, root1: TreeNode, root2: TreeNode) -> List[int]:\n",
    "        def inner(root,l):\n",
    "            if not root:\n",
    "                return\n",
    "            if root.left:\n",
    "                inner(root.left,l)\n",
    "            l.append(root.val)\n",
    "            if root.right:\n",
    "                inner(root.right,l)\n",
    "            return\n",
    "        l1,l2=[],[]\n",
    "        inner(root1,l1)\n",
    "        inner(root2,l2)\n",
    "        \n",
    "        res=[]\n",
    "        while l1 and l2:\n",
    "            if l1[0]<l2[0]:\n",
    "                res.append(l1.pop(0))\n",
    "            else:\n",
    "                res.append(l2.pop(0))\n",
    "        if l1:\n",
    "            res+=l1\n",
    "        else:\n",
    "            res+=l2\n",
    "        return res"
   ]
  },
  {
   "cell_type": "markdown",
   "metadata": {},
   "source": [
    "## Lessons and Thoughts\n",
    "- Idea is to get the two sorted lists from the two trees, and combine them."
   ]
  }
 ],
 "metadata": {
  "kernelspec": {
   "display_name": "Python 3",
   "language": "python",
   "name": "python3"
  },
  "language_info": {
   "codemirror_mode": {
    "name": "ipython",
    "version": 3
   },
   "file_extension": ".py",
   "mimetype": "text/x-python",
   "name": "python",
   "nbconvert_exporter": "python",
   "pygments_lexer": "ipython3",
   "version": "3.7.3"
  }
 },
 "nbformat": 4,
 "nbformat_minor": 2
}
