{
 "cells": [
  {
   "cell_type": "markdown",
   "metadata": {},
   "source": [
    "## Attempt 1 - Accepted"
   ]
  },
  {
   "cell_type": "code",
   "execution_count": null,
   "metadata": {},
   "outputs": [],
   "source": [
    "# Definition for a binary tree node.\n",
    "# class TreeNode:\n",
    "#     def __init__(self, val=0, left=None, right=None):\n",
    "#         self.val = val\n",
    "#         self.left = left\n",
    "#         self.right = right\n",
    "class Solution:\n",
    "    def balanceBST(self, root: TreeNode) -> TreeNode:\n",
    "        self.node_vals=[]\n",
    "        def dfs(root):\n",
    "            if root is None:\n",
    "                return\n",
    "            dfs(root.left)\n",
    "            self.node_vals.append(root.val)\n",
    "            dfs(root.right)\n",
    "            return\n",
    "        dfs(root)\n",
    "        # print(self.node_vals)\n",
    "        \n",
    "        def build_bst(vals):\n",
    "            L=len(vals)\n",
    "            if L<1:\n",
    "                return None\n",
    "            if L==1:\n",
    "                return TreeNode(val=vals[0])\n",
    "            root=TreeNode(val=vals[(L//2)])\n",
    "            root.left=build_bst(vals[:L//2])\n",
    "            root.right=build_bst(vals[L//2+1:])\n",
    "            return root\n",
    "        \n",
    "        return build_bst(self.node_vals)"
   ]
  },
  {
   "cell_type": "markdown",
   "metadata": {},
   "source": [
    "## Lessons and Thoughts\n",
    "- It is essentially serializing and de-serializing the BST."
   ]
  }
 ],
 "metadata": {
  "kernelspec": {
   "display_name": "Python 3",
   "language": "python",
   "name": "python3"
  },
  "language_info": {
   "codemirror_mode": {
    "name": "ipython",
    "version": 3
   },
   "file_extension": ".py",
   "mimetype": "text/x-python",
   "name": "python",
   "nbconvert_exporter": "python",
   "pygments_lexer": "ipython3",
   "version": "3.7.3"
  }
 },
 "nbformat": 4,
 "nbformat_minor": 2
}
