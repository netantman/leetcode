{
 "cells": [
  {
   "cell_type": "markdown",
   "metadata": {},
   "source": [
    "## Attempt 1 - Accepted"
   ]
  },
  {
   "cell_type": "code",
   "execution_count": null,
   "metadata": {},
   "outputs": [],
   "source": [
    "# Definition for singly-linked list.\n",
    "# class ListNode:\n",
    "#     def __init__(self, val=0, next=None):\n",
    "#         self.val = val\n",
    "#         self.next = next\n",
    "# Definition for a binary tree node.\n",
    "# class TreeNode:\n",
    "#     def __init__(self, val=0, left=None, right=None):\n",
    "#         self.val = val\n",
    "#         self.left = left\n",
    "#         self.right = right\n",
    "class Solution:\n",
    "    def sortedListToBST(self, head: ListNode) -> TreeNode:\n",
    "        nums=[]\n",
    "        temp=head\n",
    "        while temp is not None:\n",
    "            nums.append(temp.val)\n",
    "            temp=temp.next\n",
    "        return self.helper(nums)\n",
    "    \n",
    "    def helper(self, nums):\n",
    "        if len(nums)<1:\n",
    "            return None\n",
    "        if len(nums)==1:\n",
    "            return TreeNode(val=nums[0])\n",
    "        \n",
    "        mid=(0+len(nums)-1)//2\n",
    "        root=TreeNode(val=nums[mid])\n",
    "        root.left=self.helper(nums[:mid])\n",
    "        root.right=self.helper(nums[mid+1:])\n",
    "        return root"
   ]
  },
  {
   "cell_type": "markdown",
   "metadata": {},
   "source": [
    "## Lessons and Thoughts\n",
    "- It is just Problem 108 in Linked List. But without doing that problem first, it is hard to think of turning the data into list first."
   ]
  }
 ],
 "metadata": {
  "kernelspec": {
   "display_name": "Python 3",
   "language": "python",
   "name": "python3"
  },
  "language_info": {
   "codemirror_mode": {
    "name": "ipython",
    "version": 3
   },
   "file_extension": ".py",
   "mimetype": "text/x-python",
   "name": "python",
   "nbconvert_exporter": "python",
   "pygments_lexer": "ipython3",
   "version": "3.7.3"
  }
 },
 "nbformat": 4,
 "nbformat_minor": 2
}
