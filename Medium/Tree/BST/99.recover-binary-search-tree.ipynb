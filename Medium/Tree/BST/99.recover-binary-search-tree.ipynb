{
 "cells": [
  {
   "cell_type": "markdown",
   "metadata": {},
   "source": [
    "## Attempt 1 - Accepted"
   ]
  },
  {
   "cell_type": "code",
   "execution_count": null,
   "metadata": {},
   "outputs": [],
   "source": [
    "# Definition for a binary tree node.\n",
    "# class TreeNode:\n",
    "#     def __init__(self, val=0, left=None, right=None):\n",
    "#         self.val = val\n",
    "#         self.left = left\n",
    "#         self.right = right\n",
    "class Solution:\n",
    "    def recoverTree(self, root: Optional[TreeNode]) -> None:\n",
    "        \"\"\"\n",
    "        Do not return anything, modify root in-place instead.\n",
    "        \"\"\"\n",
    "        self.seq = []\n",
    "        \n",
    "        def inner(root):\n",
    "            if root.left:\n",
    "                inner(root.left)\n",
    "            self.seq.append((root.val, root))\n",
    "            if root.right:\n",
    "                inner(root.right)\n",
    "        \n",
    "        inner(root)\n",
    "        # print([s[0] for s in self.seq])\n",
    "        sorted_keys = sorted([s[0] for s in self.seq])\n",
    "        # print(sorted_keys)\n",
    "        to_swap = []\n",
    "        for k, s in zip(sorted_keys, self.seq):\n",
    "            # print(k, s[0])\n",
    "            if k != s[0]:\n",
    "                to_swap.append(s[1])\n",
    "        # print(to_swap)\n",
    "        \n",
    "        to_swap[0].val, to_swap[1].val = to_swap[1].val, to_swap[0].val\n",
    "        return"
   ]
  },
  {
   "cell_type": "markdown",
   "metadata": {},
   "source": [
    "## Lessons and Thoughts\n",
    "- Always an option to 'flatten' BST into a sorted sequence."
   ]
  }
 ],
 "metadata": {
  "kernelspec": {
   "display_name": "Python 3",
   "language": "python",
   "name": "python3"
  },
  "language_info": {
   "codemirror_mode": {
    "name": "ipython",
    "version": 3
   },
   "file_extension": ".py",
   "mimetype": "text/x-python",
   "name": "python",
   "nbconvert_exporter": "python",
   "pygments_lexer": "ipython3",
   "version": "3.7.3"
  }
 },
 "nbformat": 4,
 "nbformat_minor": 2
}
