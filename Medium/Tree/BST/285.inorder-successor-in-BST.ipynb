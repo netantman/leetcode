{
 "cells": [
  {
   "cell_type": "markdown",
   "metadata": {},
   "source": [
    "## Attempt 1 - Accepted"
   ]
  },
  {
   "cell_type": "code",
   "execution_count": null,
   "metadata": {},
   "outputs": [],
   "source": [
    "# Definition for a binary tree node.\n",
    "# class TreeNode:\n",
    "#     def __init__(self, x):\n",
    "#         self.val = x\n",
    "#         self.left = None\n",
    "#         self.right = None\n",
    "\n",
    "class Solution:\n",
    "    def inorderSuccessor(self, root: 'TreeNode', p: 'TreeNode') -> 'TreeNode':\n",
    "        self.seq = []\n",
    "        self.res = None\n",
    "        def inner(root):\n",
    "            if root.left is not None:\n",
    "                inner(root.left)\n",
    "            self.seq.append(root)\n",
    "            # print(self.seq)\n",
    "            if len(self.seq) > 2:\n",
    "                self.seq.pop(0)\n",
    "            if len(self.seq) == 2 and self.seq[-2].val == p.val:\n",
    "                self.res = self.seq[-1]\n",
    "                return\n",
    "            if root.right is not None:\n",
    "                inner(root.right)\n",
    "            \n",
    "        \n",
    "        inner(root)\n",
    "        # print(self.seq)\n",
    "        return self.res"
   ]
  },
  {
   "cell_type": "markdown",
   "metadata": {},
   "source": [
    "## Lessons and Thoughts\n",
    "- Always consider flattening BST into a sorted sequence first."
   ]
  }
 ],
 "metadata": {
  "kernelspec": {
   "display_name": "Python 3",
   "language": "python",
   "name": "python3"
  },
  "language_info": {
   "codemirror_mode": {
    "name": "ipython",
    "version": 3
   },
   "file_extension": ".py",
   "mimetype": "text/x-python",
   "name": "python",
   "nbconvert_exporter": "python",
   "pygments_lexer": "ipython3",
   "version": "3.7.3"
  }
 },
 "nbformat": 4,
 "nbformat_minor": 2
}
