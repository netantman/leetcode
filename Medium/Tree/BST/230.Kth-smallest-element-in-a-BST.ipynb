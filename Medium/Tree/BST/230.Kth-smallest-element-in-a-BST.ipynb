{
 "cells": [
  {
   "cell_type": "markdown",
   "metadata": {},
   "source": [
    "## Attempt 1 - Accepted"
   ]
  },
  {
   "cell_type": "code",
   "execution_count": null,
   "metadata": {},
   "outputs": [],
   "source": [
    "# Definition for a binary tree node.\n",
    "# class TreeNode:\n",
    "#     def __init__(self, val=0, left=None, right=None):\n",
    "#         self.val = val\n",
    "#         self.left = left\n",
    "#         self.right = right\n",
    "class Solution:\n",
    "    def kthSmallest(self, root: TreeNode, k: int) -> int:\n",
    "        \n",
    "        def inner(root):\n",
    "            if root is None:\n",
    "                return []\n",
    "            if root.left is None and root.right is None:\n",
    "                return [root.val]\n",
    "            \n",
    "            left=inner(root.left)\n",
    "            right=inner(root.right)\n",
    "            return left+[root.val]+right\n",
    "        \n",
    "        seq=inner(root)\n",
    "        return seq[k-1]"
   ]
  },
  {
   "cell_type": "markdown",
   "metadata": {},
   "source": [
    "## Lessons and Thoughts\n",
    "- The most straightforward algo works on this problem.\n",
    "- It is also labeled binary search on leetcode, which I wonder why."
   ]
  }
 ],
 "metadata": {
  "kernelspec": {
   "display_name": "Python 3",
   "language": "python",
   "name": "python3"
  },
  "language_info": {
   "codemirror_mode": {
    "name": "ipython",
    "version": 3
   },
   "file_extension": ".py",
   "mimetype": "text/x-python",
   "name": "python",
   "nbconvert_exporter": "python",
   "pygments_lexer": "ipython3",
   "version": "3.7.3"
  }
 },
 "nbformat": 4,
 "nbformat_minor": 2
}
