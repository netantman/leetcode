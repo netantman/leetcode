{
 "cells": [
  {
   "cell_type": "markdown",
   "metadata": {},
   "source": [
    "## Attempt 1 - Accepted"
   ]
  },
  {
   "cell_type": "code",
   "execution_count": null,
   "metadata": {},
   "outputs": [],
   "source": [
    "# Definition for a binary tree node.\n",
    "# class TreeNode:\n",
    "#     def __init__(self, val=0, left=None, right=None):\n",
    "#         self.val = val\n",
    "#         self.left = left\n",
    "#         self.right = right\n",
    "class Solution:\n",
    "    def __init__(self):\n",
    "        self.res=[]\n",
    "    \n",
    "    def find(self, voyage, target):\n",
    "        for idx, v in enumerate(voyage):\n",
    "            if target==v:\n",
    "                return idx\n",
    "    \n",
    "    def flipMatchVoyage(self, root: TreeNode, voyage: List[int]) -> List[int]:\n",
    "\n",
    "        def inner(root, voyage):\n",
    "            if (self.res==[-1]) or (len(voyage)<1) or (root.val != voyage[0]) or (root.left is not None and root.left.val not in voyage[1:]) or (root.right is not None and root.right.val not in voyage[1:]):\n",
    "                self.res=[-1]\n",
    "                return\n",
    "\n",
    "            if root.left is None and root.right is None:\n",
    "                if voyage==[root.val]:\n",
    "                    return\n",
    "                else:\n",
    "                    self.res=[-1]\n",
    "                    return\n",
    "            elif root.left is None:\n",
    "                inner(root.right, voyage[1:])\n",
    "                return\n",
    "            elif root.right is None:\n",
    "                inner(root.left, voyage[1:])\n",
    "                return\n",
    "            else:\n",
    "                if len(voyage[1:])<1:\n",
    "                    self.res=[-1]\n",
    "                    return\n",
    "                if voyage[1]==root.left.val:\n",
    "                    idx=self.find(voyage, root.right.val)\n",
    "                    inner(root.left, voyage[1:idx])\n",
    "                    inner(root.right, voyage[idx:])\n",
    "                    return\n",
    "                elif voyage[1]==root.right.val:\n",
    "                    self.res.append(root.val)\n",
    "                    idx=self.find(voyage, root.left.val)\n",
    "                    inner(root.right, voyage[1:idx])\n",
    "                    inner(root.left, voyage[idx:])\n",
    "                    return\n",
    "                else:\n",
    "                    self.res=[-1]\n",
    "                    return\n",
    "        \n",
    "        inner(root, voyage)\n",
    "        return self.res"
   ]
  },
  {
   "cell_type": "markdown",
   "metadata": {},
   "source": [
    "## Lessons and Thoughts\n",
    "- Though it is just doing recursion, there are many edge cases to consider."
   ]
  }
 ],
 "metadata": {
  "kernelspec": {
   "display_name": "Python 3",
   "language": "python",
   "name": "python3"
  },
  "language_info": {
   "codemirror_mode": {
    "name": "ipython",
    "version": 3
   },
   "file_extension": ".py",
   "mimetype": "text/x-python",
   "name": "python",
   "nbconvert_exporter": "python",
   "pygments_lexer": "ipython3",
   "version": "3.7.3"
  }
 },
 "nbformat": 4,
 "nbformat_minor": 2
}
