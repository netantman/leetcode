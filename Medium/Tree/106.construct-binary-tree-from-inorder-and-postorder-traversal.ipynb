{
 "cells": [
  {
   "cell_type": "markdown",
   "metadata": {},
   "source": [
    "## Attempt 1 - Accepted"
   ]
  },
  {
   "cell_type": "code",
   "execution_count": null,
   "metadata": {},
   "outputs": [],
   "source": [
    "# Definition for a binary tree node.\n",
    "# class TreeNode:\n",
    "#     def __init__(self, val=0, left=None, right=None):\n",
    "#         self.val = val\n",
    "#         self.left = left\n",
    "#         self.right = right\n",
    "class Solution:\n",
    "    def buildTree(self, inorder: List[int], postorder: List[int]) -> TreeNode:\n",
    "        assert len(postorder)==len(inorder)\n",
    "        if len(postorder)<1 and len(inorder)<1:\n",
    "            return None\n",
    "        if len(postorder)==1 and len(inorder)==1:\n",
    "            return TreeNode(val=postorder[0])\n",
    "        \n",
    "        root=postorder[-1]\n",
    "        for idx in range(len(inorder)):\n",
    "            if inorder[idx]==root:\n",
    "                break\n",
    "        inorder_left=inorder[:idx]\n",
    "        inorder_right=inorder[idx+1:]\n",
    "        postorder_left=postorder[:idx]\n",
    "        postorder_right=postorder[idx:-1]\n",
    "        \n",
    "        root=TreeNode(val=root)\n",
    "        root.left=self.buildTree(inorder_left, postorder_left,)\n",
    "        root.right=self.buildTree(inorder_right, postorder_right)\n",
    "        return root"
   ]
  },
  {
   "cell_type": "markdown",
   "metadata": {},
   "source": [
    "## Lessons and Thoughts\n",
    "- Similar as Problem 105."
   ]
  }
 ],
 "metadata": {
  "kernelspec": {
   "display_name": "Python 3",
   "language": "python",
   "name": "python3"
  },
  "language_info": {
   "codemirror_mode": {
    "name": "ipython",
    "version": 3
   },
   "file_extension": ".py",
   "mimetype": "text/x-python",
   "name": "python",
   "nbconvert_exporter": "python",
   "pygments_lexer": "ipython3",
   "version": "3.7.3"
  }
 },
 "nbformat": 4,
 "nbformat_minor": 2
}
