{
 "cells": [
  {
   "cell_type": "markdown",
   "metadata": {},
   "source": [
    "## Attempt 1 - Accepted"
   ]
  },
  {
   "cell_type": "code",
   "execution_count": null,
   "metadata": {},
   "outputs": [],
   "source": [
    "# Definition for a binary tree node.\n",
    "# class TreeNode:\n",
    "#     def __init__(self, val=0, left=None, right=None):\n",
    "#         self.val = val\n",
    "#         self.left = left\n",
    "#         self.right = right\n",
    "class CBTInserter:\n",
    "\n",
    "    def __init__(self, root: TreeNode):\n",
    "        self.root=root\n",
    "        last=[root]\n",
    "        idx=0\n",
    "        while True:\n",
    "            nexxt=[]\n",
    "            flag=True\n",
    "            for ix, node in enumerate(last):\n",
    "                if node.left is None or node.right is None:\n",
    "                    idx=ix\n",
    "                    flag=False\n",
    "                    break\n",
    "                nexxt.append(node.left)\n",
    "                nexxt.append(node.right)\n",
    "            if flag:\n",
    "                last=nexxt\n",
    "            else:\n",
    "                break\n",
    "                \n",
    "        self.last=last\n",
    "        self.idx=idx\n",
    "        \n",
    "\n",
    "    def insert(self, v: int) -> int:\n",
    "        parent=self.last[self.idx]\n",
    "        if parent.left is None:\n",
    "            parent.left=TreeNode(val=v)\n",
    "            return parent.val\n",
    "        elif parent.right is None:\n",
    "            parent.right=TreeNode(val=v)\n",
    "            res=parent.val\n",
    "            if self.idx<len(self.last)-1:\n",
    "                self.idx+=1\n",
    "            else:\n",
    "                self.idx=0\n",
    "                nexxt=[]\n",
    "                for node in self.last:\n",
    "                    nexxt.append(node.left)\n",
    "                    nexxt.append(node.right)\n",
    "                self.last=nexxt\n",
    "            return res\n",
    "        \n",
    "\n",
    "    def get_root(self) -> TreeNode:\n",
    "        return self.root\n",
    "        \n",
    "\n",
    "\n",
    "# Your CBTInserter object will be instantiated and called as such:\n",
    "# obj = CBTInserter(root)\n",
    "# param_1 = obj.insert(v)\n",
    "# param_2 = obj.get_root()"
   ]
  },
  {
   "cell_type": "markdown",
   "metadata": {},
   "source": [
    "## Lessons and Thoughts\n",
    "- Just need to be careful in recording the last level and the parent `idx`."
   ]
  }
 ],
 "metadata": {
  "kernelspec": {
   "display_name": "Python 3",
   "language": "python",
   "name": "python3"
  },
  "language_info": {
   "codemirror_mode": {
    "name": "ipython",
    "version": 3
   },
   "file_extension": ".py",
   "mimetype": "text/x-python",
   "name": "python",
   "nbconvert_exporter": "python",
   "pygments_lexer": "ipython3",
   "version": "3.7.3"
  }
 },
 "nbformat": 4,
 "nbformat_minor": 2
}
