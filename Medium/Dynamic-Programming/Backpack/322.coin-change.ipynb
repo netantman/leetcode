{
 "cells": [
  {
   "cell_type": "markdown",
   "metadata": {},
   "source": [
    "## Attempt 1 - Accepted"
   ]
  },
  {
   "cell_type": "code",
   "execution_count": null,
   "metadata": {},
   "outputs": [],
   "source": [
    "class Solution:\n",
    "    def coinChange(self, coins: List[int], amount: int) -> int:\n",
    "        res=[amount+1 for _ in range(amount+1)]\n",
    "        res[0]=0\n",
    "        for idx in range(1, amount+1):\n",
    "            for c in coins:\n",
    "                if idx>=c:\n",
    "                    res[idx]=min(res[idx], res[idx-c]+1)\n",
    "        if res[-1]<amount+1:\n",
    "            return res[-1]\n",
    "        else:\n",
    "            return -1"
   ]
  },
  {
   "cell_type": "markdown",
   "metadata": {},
   "source": [
    "## Attempt 2 - Accepted"
   ]
  },
  {
   "cell_type": "code",
   "execution_count": null,
   "metadata": {},
   "outputs": [],
   "source": [
    "class Solution {\n",
    "public:\n",
    "    int coinChange(vector<int>& coins, int amount) {\n",
    "        vector<int> sp(amount + 1, amount + 1);\n",
    "        deque<int> q = {0};\n",
    "        sp[0] = 0;\n",
    "        while (q.size() > 0) {\n",
    "            long curr = q.front(); ## in c++ you need to care about int overflow as well!\n",
    "            q.pop_front();\n",
    "            for (int c : coins) {\n",
    "                if ((curr + c <= amount) && (sp[curr] + 1 < sp[curr + c])) { ## be ware of index overflow! ## what is the difference of & and &&?\n",
    "                    sp[curr + c] = sp[curr] + 1;\n",
    "                    q.push_back(curr + c);\n",
    "                }\n",
    "            } \n",
    "        }\n",
    "        if (sp.back() == amount + 1) {\n",
    "            return -1;\n",
    "        }\n",
    "        else {\n",
    "            return sp.back();\n",
    "        }\n",
    "    }\n",
    "};"
   ]
  },
  {
   "cell_type": "markdown",
   "metadata": {},
   "source": [
    "## Lessons and Thoughts\n",
    "- Straightforward DP problem"
   ]
  }
 ],
 "metadata": {
  "kernelspec": {
   "display_name": "Python 3",
   "language": "python",
   "name": "python3"
  },
  "language_info": {
   "codemirror_mode": {
    "name": "ipython",
    "version": 3
   },
   "file_extension": ".py",
   "mimetype": "text/x-python",
   "name": "python",
   "nbconvert_exporter": "python",
   "pygments_lexer": "ipython3",
   "version": "3.6.5"
  }
 },
 "nbformat": 4,
 "nbformat_minor": 2
}
