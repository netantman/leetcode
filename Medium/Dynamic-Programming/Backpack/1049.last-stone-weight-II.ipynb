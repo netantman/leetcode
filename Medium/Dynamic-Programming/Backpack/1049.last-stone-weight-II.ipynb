{
 "cells": [
  {
   "cell_type": "markdown",
   "metadata": {},
   "source": [
    "## Attempt 1 - Wrong Answer"
   ]
  },
  {
   "cell_type": "code",
   "execution_count": null,
   "metadata": {},
   "outputs": [],
   "source": [
    "class Solution:\n",
    "    def lastStoneWeightII(self, stones: List[int]) -> int:\n",
    "        h=[-s for s in stones]\n",
    "        heapq.heapify(h)\n",
    "        while len(h)>1:\n",
    "            s1=heapq.heappop(h)\n",
    "            s2=heapq.heappop(h) ## --> always snap the heaviest two stones does not work\n",
    "            heapq.heappush(h, s1-s2)\n",
    "        return -h[0]"
   ]
  },
  {
   "cell_type": "markdown",
   "metadata": {},
   "source": [
    "## Attempt 2 - Wrong Answer"
   ]
  },
  {
   "cell_type": "code",
   "execution_count": null,
   "metadata": {},
   "outputs": [],
   "source": [
    "class Solution:\n",
    "    def lastStoneWeightII(self, stones: List[int]) -> int:\n",
    "        target=sum(stones)//2\n",
    "        dp=[[0 for c in range(target+1)] for s in stones]\n",
    "        for idx, s in enumerate(stones):\n",
    "            if idx==0:\n",
    "                dp[0][s]=1\n",
    "            else:\n",
    "                dp[idx][s]=1 ## --> index out of range: s could be larger than target\n",
    "                for j in range(target+1):\n",
    "                    if dp[idx-1][j]==1:\n",
    "                        dp[idx][j]=1\n",
    "                        if j+s<=target:\n",
    "                            dp[idx][j+s]=1\n",
    "        res=max([j for j in range(target+1) if dp[-1][j]>0])\n",
    "        return sum(stones)-2*res"
   ]
  },
  {
   "cell_type": "markdown",
   "metadata": {},
   "source": [
    "## Attempt 3 - Accepted"
   ]
  },
  {
   "cell_type": "code",
   "execution_count": null,
   "metadata": {},
   "outputs": [],
   "source": [
    "class Solution:\n",
    "    def lastStoneWeightII(self, stones: List[int]) -> int:\n",
    "        target=sum(stones)//2\n",
    "        dp=[[0 for c in range(target+1)] for s in stones]\n",
    "        for idx, s in enumerate(stones):\n",
    "            if idx==0:\n",
    "                dp[0][s]=1\n",
    "            else:\n",
    "                if s<=target:\n",
    "                    dp[idx][s]=1\n",
    "                for j in range(target+1):\n",
    "                    if dp[idx-1][j]==1:\n",
    "                        dp[idx][j]=1\n",
    "                        if j+s<=target:\n",
    "                            dp[idx][j+s]=1\n",
    "        res=max([j for j in range(target+1) if dp[-1][j]>0])\n",
    "        return sum(stones)-2*res"
   ]
  },
  {
   "cell_type": "markdown",
   "metadata": {},
   "source": [
    "## Lessons and Thoughts\n",
    "- To use `heapq.heappop` and `heapq.heappush`, you still need to `heapify` the list first.\n",
    "- The first approach that each time greedily slap the heaviest stones does not work. On second thought this is actually a knapsack DP problem."
   ]
  }
 ],
 "metadata": {
  "kernelspec": {
   "display_name": "Python 3",
   "language": "python",
   "name": "python3"
  },
  "language_info": {
   "codemirror_mode": {
    "name": "ipython",
    "version": 3
   },
   "file_extension": ".py",
   "mimetype": "text/x-python",
   "name": "python",
   "nbconvert_exporter": "python",
   "pygments_lexer": "ipython3",
   "version": "3.7.3"
  }
 },
 "nbformat": 4,
 "nbformat_minor": 2
}
