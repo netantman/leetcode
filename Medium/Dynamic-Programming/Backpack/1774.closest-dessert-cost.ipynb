{
 "cells": [
  {
   "cell_type": "markdown",
   "metadata": {},
   "source": [
    "## Attempt 1 - Wrong Answer"
   ]
  },
  {
   "cell_type": "code",
   "execution_count": null,
   "metadata": {},
   "outputs": [],
   "source": [
    "class Solution:\n",
    "    def closestCost(self, baseCosts: List[int], toppingCosts: List[int], target: int) -> int:\n",
    "        res = float('-inf')\n",
    "        toppingCosts = sorted(toppingCosts)\n",
    "        for b in baseCosts:\n",
    "            q = set([b])\n",
    "            for t in toppingCosts:\n",
    "                for elem in q:\n",
    "                    to_add = set()\n",
    "                    for mul in {0, 1, 2}:\n",
    "                        curr = elem + mul * t \n",
    "                        if abs(curr - target) < abs(res - target) or (abs(curr - target) == abs(res - target) and curr < res):\n",
    "                            res = curr\n",
    "                            if res == target:\n",
    "                                return res\n",
    "                        if curr not in q and curr < target:\n",
    "                            to_add.add(curr)\n",
    "                q = q.union(to_add)\n",
    "        return res"
   ]
  },
  {
   "cell_type": "markdown",
   "metadata": {},
   "source": [
    "## Attempt 2 - Accepted"
   ]
  },
  {
   "cell_type": "code",
   "execution_count": null,
   "metadata": {},
   "outputs": [],
   "source": [
    "class Solution:\n",
    "    def closestCost(self, baseCosts: List[int], toppingCosts: List[int], target: int) -> int:\n",
    "        res = float('-inf')\n",
    "        toppingCosts = sorted(toppingCosts)\n",
    "        for b in baseCosts:\n",
    "            q = set([b])\n",
    "            for t in toppingCosts:\n",
    "                to_add = set()\n",
    "                for elem in q:\n",
    "                    for mul in {0, 1, 2}:\n",
    "                        curr = elem + mul * t \n",
    "                        if abs(curr - target) < abs(res - target) or (abs(curr - target) == abs(res - target) and curr < res):\n",
    "                            res = curr\n",
    "                            if res == target:\n",
    "                                return res\n",
    "                        if curr not in q and curr < target:\n",
    "                            to_add.add(curr)\n",
    "                q = q.union(to_add)\n",
    "        return res"
   ]
  },
  {
   "cell_type": "markdown",
   "metadata": {},
   "source": [
    "## Lessons and Thoughts\n",
    "- Since `baseCosts` and `toppingCosts` are small lists, resort to brute force; otherwise, probably a variant of backpack is needed, but since it is of low frequency, forget it for now.\n",
    "- Be careful not to loop over something that is changin in the loop."
   ]
  }
 ],
 "metadata": {
  "kernelspec": {
   "display_name": "Python 3",
   "language": "python",
   "name": "python3"
  },
  "language_info": {
   "codemirror_mode": {
    "name": "ipython",
    "version": 3
   },
   "file_extension": ".py",
   "mimetype": "text/x-python",
   "name": "python",
   "nbconvert_exporter": "python",
   "pygments_lexer": "ipython3",
   "version": "3.7.3"
  }
 },
 "nbformat": 4,
 "nbformat_minor": 2
}
