{
 "cells": [
  {
   "cell_type": "markdown",
   "metadata": {},
   "source": [
    "## Attempt 1 - Accepted"
   ]
  },
  {
   "cell_type": "code",
   "execution_count": null,
   "metadata": {},
   "outputs": [],
   "source": [
    "class Solution:\n",
    "    def minimumDeleteSum(self, s1: str, s2: str) -> int:\n",
    "        L1,L2=len(s1), len(s2)\n",
    "        dp=dict()\n",
    "        if s1[0]==s2[0]:\n",
    "            dp[(1,1)]=0\n",
    "        else:\n",
    "            dp[(1,1)]=ord(s1[0])+ord(s2[0])\n",
    "        \n",
    "        for j in range(2,L2+1):\n",
    "            if s1[0] in s2[:j]:\n",
    "                dp[(1,j)]=sum([ord(c) for c in s2[:j]])-ord(s1[0])\n",
    "            else:\n",
    "                dp[(1,j)]=sum([ord(c) for c in s2[:j]])+ord(s1[0])\n",
    "        \n",
    "        for i in range(2,L1+1):\n",
    "            if s2[0] in s1[:i]:\n",
    "                dp[(i,1)]=sum([ord(c) for c in s1[:i]])-ord(s2[0])\n",
    "            else:\n",
    "                dp[(i,1)]=sum([ord(c) for c in s1[:i]])+ord(s2[0])\n",
    "        \n",
    "        for i in range(2,L1+1):\n",
    "            for j in range(2,L2+1):\n",
    "                if s1[i-1]==s2[j-1]:\n",
    "                    dp[(i,j)]=dp[(i-1,j-1)]\n",
    "                else:\n",
    "                    dp[(i,j)]=min(dp[(i-1,j)]+ord(s1[i-1]), dp[(i,j-1)]+ord(s2[j-1]), dp[(i-1,j-1)]+ord(s1[i-1])+ord(s2[j-1]))\n",
    "        \n",
    "        return dp[(L1, L2)]"
   ]
  },
  {
   "cell_type": "markdown",
   "metadata": {},
   "source": [
    "## Lessons and Thoughts\n",
    "- The hardest part is to think of DP for these kinds of problems. When you see keywords like \"subarray\" or \"substring\" and try to find the optimum, probably you should think of DP."
   ]
  }
 ],
 "metadata": {
  "kernelspec": {
   "display_name": "Python 3",
   "language": "python",
   "name": "python3"
  },
  "language_info": {
   "codemirror_mode": {
    "name": "ipython",
    "version": 3
   },
   "file_extension": ".py",
   "mimetype": "text/x-python",
   "name": "python",
   "nbconvert_exporter": "python",
   "pygments_lexer": "ipython3",
   "version": "3.7.3"
  }
 },
 "nbformat": 4,
 "nbformat_minor": 2
}
