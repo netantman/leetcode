{
 "cells": [
  {
   "cell_type": "markdown",
   "metadata": {},
   "source": [
    "## Attempt 1 - Wrong Answer and Time Limit Exceeded"
   ]
  },
  {
   "cell_type": "code",
   "execution_count": null,
   "metadata": {},
   "outputs": [],
   "source": [
    "class Solution:\n",
    "    def findTargetSumWays(self, nums: List[int], S: int) -> int:\n",
    "        L=len(nums)\n",
    "        if L==1:\n",
    "            if abs(S)!=abs(nums[0]):\n",
    "                return 0\n",
    "            else:\n",
    "                return 1\n",
    "        target=(sum(nums)-S)//2 ## --> did not handle the case where sum(nums)-S is odd, and did not consider the case where S is larger than sum(nums)\n",
    "        sums=[0]\n",
    "        for idx in range(L):\n",
    "            n=nums[idx]\n",
    "            sums=sums+[s+n for s in sums]\n",
    "        \n",
    "        return len([s for s in sums if s==target])"
   ]
  },
  {
   "cell_type": "markdown",
   "metadata": {},
   "source": [
    "## Attempt 2 - Wrong Answer"
   ]
  },
  {
   "cell_type": "code",
   "execution_count": null,
   "metadata": {},
   "outputs": [],
   "source": [
    "class Solution:\n",
    "    def findTargetSumWays(self, nums: List[int], S: int) -> int:\n",
    "        L=len(nums)\n",
    "        if L==1:\n",
    "            if abs(S)!=abs(nums[0]):\n",
    "                return 0\n",
    "            else:\n",
    "                return 1\n",
    "        if S>sum(nums):\n",
    "            return 0\n",
    "        elif S==sum(nums):  ## --> this is wrong in presence of 0 in nums\n",
    "            return 1\n",
    "        \n",
    "        if (sum(nums)-S)%2>0:\n",
    "            return 0\n",
    "        target=(sum(nums)-S)//2\n",
    "        dp=[[0 for _ in range(1001)] for _ in range(L+1)]\n",
    "        for r in range(L+1):\n",
    "            dp[r][0]=1   ## --> this does not handle target==0 well\n",
    "        for idx in range(L):\n",
    "            n=nums[idx]\n",
    "            for c in range(1001):\n",
    "                dp[idx+1][c]=dp[idx][c]\n",
    "            for m in range(n,1001):\n",
    "                dp[idx+1][m]+=dp[idx][m-n]\n",
    "        return dp[L][target]"
   ]
  },
  {
   "cell_type": "markdown",
   "metadata": {},
   "source": [
    "## Attempt 3 - Accepted"
   ]
  },
  {
   "cell_type": "code",
   "execution_count": null,
   "metadata": {},
   "outputs": [],
   "source": [
    "class Solution:\n",
    "    def findTargetSumWays(self, nums: List[int], S: int) -> int:\n",
    "        L=len(nums)\n",
    "        if L==1:\n",
    "            if abs(S)!=abs(nums[0]):\n",
    "                return 0\n",
    "            else:\n",
    "                return 1\n",
    "        if S>sum(nums):\n",
    "            return 0\n",
    "        \n",
    "        if (sum(nums)-S)%2>0:\n",
    "            return 0\n",
    "        target=(sum(nums)-S)//2\n",
    "        if target==0:\n",
    "            return 2**(len([n for n in nums if n==0]))\n",
    "        \n",
    "        dp=[[0 for _ in range(1001)] for _ in range(L+1)]\n",
    "        for r in range(L+1):\n",
    "            dp[r][0]=1\n",
    "        for idx in range(L):\n",
    "            n=nums[idx]\n",
    "            for c in range(1001):\n",
    "                dp[idx+1][c]=dp[idx][c]\n",
    "            for m in range(n,1001):\n",
    "                dp[idx+1][m]+=dp[idx][m-n]\n",
    "        return dp[L][target]"
   ]
  },
  {
   "cell_type": "markdown",
   "metadata": {},
   "source": [
    "## Lessons and Thoughts\n",
    "- Be careful about the initial conditions in DP.\n",
    "- Took you a long time to get all edge cases"
   ]
  }
 ],
 "metadata": {
  "kernelspec": {
   "display_name": "Python 3",
   "language": "python",
   "name": "python3"
  },
  "language_info": {
   "codemirror_mode": {
    "name": "ipython",
    "version": 3
   },
   "file_extension": ".py",
   "mimetype": "text/x-python",
   "name": "python",
   "nbconvert_exporter": "python",
   "pygments_lexer": "ipython3",
   "version": "3.7.3"
  }
 },
 "nbformat": 4,
 "nbformat_minor": 2
}
