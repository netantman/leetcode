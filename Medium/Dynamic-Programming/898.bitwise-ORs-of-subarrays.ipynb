{
 "cells": [
  {
   "cell_type": "markdown",
   "metadata": {},
   "source": [
    "## Attempt 1 - Memory Limit Exceeded"
   ]
  },
  {
   "cell_type": "code",
   "execution_count": null,
   "metadata": {},
   "outputs": [],
   "source": [
    "class Solution:\n",
    "    def subarrayBitwiseORs(self, A: List[int]) -> int:\n",
    "        dp=dict()\n",
    "        gap=1\n",
    "        L=len(A)\n",
    "        for idx in range(L):\n",
    "            dp[idx,idx+gap]=A[idx]\n",
    "        for gap in range(2,L+1):\n",
    "            for idx in range(L-gap+1):\n",
    "                dp[idx,idx+gap]=dp[idx,idx+gap-1]|A[idx+gap-1]\n",
    "        \n",
    "        return len(set(dp.values()))"
   ]
  },
  {
   "cell_type": "markdown",
   "metadata": {},
   "source": [
    "## Attempt 2 - Time Limit Exceeded"
   ]
  },
  {
   "cell_type": "code",
   "execution_count": null,
   "metadata": {},
   "outputs": [],
   "source": [
    "class Solution:\n",
    "    def subarrayBitwiseORs(self, A: List[int]) -> int:\n",
    "        dp=dict()\n",
    "        gap=1\n",
    "        L=len(A)\n",
    "        res=set()\n",
    "        for idx in range(L):\n",
    "            dp[idx]=A[idx]\n",
    "            res.add(dp[idx])\n",
    "        for gap in range(2,L+1):\n",
    "            for idx in range(L-gap+1):\n",
    "                dp[idx]=dp[idx]|A[idx+gap-1]\n",
    "                res.add(dp[idx])\n",
    "        \n",
    "        return len(set(res))"
   ]
  },
  {
   "cell_type": "markdown",
   "metadata": {},
   "source": [
    "## Attempt 3 - Accepted"
   ]
  },
  {
   "cell_type": "code",
   "execution_count": null,
   "metadata": {},
   "outputs": [],
   "source": [
    "class Solution(object):\n",
    "    def subarrayBitwiseORs(self, A):\n",
    "        ans = set()\n",
    "        cur = {0}\n",
    "        for x in A:\n",
    "            cur = {x | y for y in cur} | {x}\n",
    "            ans |= cur\n",
    "        return len(ans)"
   ]
  },
  {
   "cell_type": "markdown",
   "metadata": {},
   "source": [
    "## Lessons and Thoughts\n",
    "- A different kind of DP (Attempt 3, which is taken from the leetcode app) is more efficient, since it does not involve adding elements one-by-one."
   ]
  }
 ],
 "metadata": {
  "kernelspec": {
   "display_name": "Python 3",
   "language": "python",
   "name": "python3"
  },
  "language_info": {
   "codemirror_mode": {
    "name": "ipython",
    "version": 3
   },
   "file_extension": ".py",
   "mimetype": "text/x-python",
   "name": "python",
   "nbconvert_exporter": "python",
   "pygments_lexer": "ipython3",
   "version": "3.7.3"
  }
 },
 "nbformat": 4,
 "nbformat_minor": 2
}
