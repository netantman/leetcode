{
 "cells": [
  {
   "cell_type": "markdown",
   "metadata": {},
   "source": [
    "## Attempt 1 - Time Limit Exceeded, but only in submission"
   ]
  },
  {
   "cell_type": "code",
   "execution_count": null,
   "metadata": {},
   "outputs": [],
   "source": [
    "class Solution:\n",
    "    def change(self, amount: int, coins: List[int]) -> int:\n",
    "        L=len(coins)\n",
    "        if L<1:\n",
    "            if amount==0:\n",
    "                return 1\n",
    "            else:\n",
    "                return 0\n",
    "        \n",
    "        dp=[[0 for _ in range(amount+1)] for _ in range(L+1)]\n",
    "        dp[0][0]=1\n",
    "        for m in range(1,L+1):\n",
    "            c=coins[m-1]\n",
    "            for n in range(amount+1):\n",
    "                multiples=0\n",
    "                while multiples*c<=n:\n",
    "                    dp[m][n]+=dp[m-1][n-multiples*c]\n",
    "                    multiples+=1\n",
    "        return dp[L][amount]"
   ]
  },
  {
   "cell_type": "markdown",
   "metadata": {},
   "source": [
    "## Attempt 2 - Accepted"
   ]
  },
  {
   "cell_type": "code",
   "execution_count": null,
   "metadata": {},
   "outputs": [],
   "source": [
    "class Solution:\n",
    "    def change(self, amount: int, coins: List[int]) -> int:\n",
    "        L=len(coins)\n",
    "        if L<1:\n",
    "            if amount==0:\n",
    "                return 1\n",
    "            else:\n",
    "                return 0\n",
    "        \n",
    "        dp=[[0 for _ in range(amount+1)] for _ in range(L+1)]\n",
    "        dp[0][0]=1\n",
    "        for m in range(1,L+1):\n",
    "            c=coins[m-1]\n",
    "            for n in range(amount+1):\n",
    "                dp[m][n]=dp[m-1][n]\n",
    "                if n>=c:\n",
    "                    dp[m][n]+=dp[m][n-c]\n",
    "        return dp[L][amount]"
   ]
  },
  {
   "cell_type": "markdown",
   "metadata": {},
   "source": [
    "## Lessons and Thoughts\n",
    "- Essentially the same question as Problem 39, but asks to output different things: if it only need the total number of combinations, DP is usually the choice of algo.\n",
    "- Be careful with these combination problems, where there may be different definitions of duplicates.\n",
    "- The accepted algo is from [here](https://www.cnblogs.com/grandyang/p/7669088.html). The improvement is to recognize that making use of the same row result can avoid having to loop and calculate how many coins it currently needs."
   ]
  }
 ],
 "metadata": {
  "kernelspec": {
   "display_name": "Python 3",
   "language": "python",
   "name": "python3"
  },
  "language_info": {
   "codemirror_mode": {
    "name": "ipython",
    "version": 3
   },
   "file_extension": ".py",
   "mimetype": "text/x-python",
   "name": "python",
   "nbconvert_exporter": "python",
   "pygments_lexer": "ipython3",
   "version": "3.7.3"
  }
 },
 "nbformat": 4,
 "nbformat_minor": 2
}
