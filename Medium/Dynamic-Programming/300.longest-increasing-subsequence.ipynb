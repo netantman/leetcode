{
 "cells": [
  {
   "cell_type": "markdown",
   "metadata": {},
   "source": [
    "## Attempt 1 - Wrong Answer"
   ]
  },
  {
   "cell_type": "code",
   "execution_count": null,
   "metadata": {},
   "outputs": [],
   "source": [
    "class Solution:\n",
    "    def lengthOfLIS(self, nums: List[int]) -> int:\n",
    "        if len(nums)<=1:\n",
    "            return len(nums)\n",
    "        \n",
    "        res=[]\n",
    "        L=len(nums)\n",
    "        for idx in range(L):\n",
    "            this=nums[idx]\n",
    "            for r in res:\n",
    "                if r[-1]<this:\n",
    "                    r.append(this) ## --> when growing the new LIS, you should save the old one\n",
    "            res.append([this])\n",
    "        lengths= [len(r) for r in res]\n",
    "        return max(lengths)"
   ]
  },
  {
   "cell_type": "markdown",
   "metadata": {},
   "source": [
    "## Attempt 2 - Time Limit Exceeded"
   ]
  },
  {
   "cell_type": "code",
   "execution_count": null,
   "metadata": {},
   "outputs": [],
   "source": [
    "class Solution:\n",
    "    def lengthOfLIS(self, nums: List[int]) -> int:\n",
    "        if len(nums)<=1:\n",
    "            return len(nums)\n",
    "        \n",
    "        res=[]\n",
    "        L=len(nums)\n",
    "        for idx in range(L):\n",
    "            this=nums[idx]\n",
    "            to_add_back=[]\n",
    "            for r in res:\n",
    "                if r[-1]<this:\n",
    "                    copy=[elem for elem in r]\n",
    "                    to_add_back.append(copy)  ## --> don't try to add to res where you are currently iterating!\n",
    "                    r.append(this)\n",
    "            res=res+to_add_back\n",
    "            res.append([this])\n",
    "        lengths= [len(r) for r in res]\n",
    "        return max(lengths)"
   ]
  },
  {
   "cell_type": "markdown",
   "metadata": {},
   "source": [
    "## Attempt 3 - Accepted"
   ]
  },
  {
   "cell_type": "code",
   "execution_count": null,
   "metadata": {},
   "outputs": [],
   "source": [
    "class Solution:\n",
    "    def lengthOfLIS(self, nums: List[int]) -> int:\n",
    "        if len(nums)<=1:\n",
    "            return len(nums)\n",
    "        \n",
    "        res=[]\n",
    "        L=len(nums)\n",
    "        res= [1 for idx in range(L)]\n",
    "        for idx in range(1, L):\n",
    "            for j in range(idx):\n",
    "                if nums[idx]>nums[j]:\n",
    "                    res[idx]=max(res[idx], res[j]+1)\n",
    "        return max(res)"
   ]
  },
  {
   "cell_type": "markdown",
   "metadata": {},
   "source": [
    "## Lessons and Thoughts\n",
    "- Another instance where you get hooked up just thinking about the algo, without trying to consider edge cases.\n",
    "- Attempt 2 is actually quite close to the final optimized solution: for each LIS ending in an element, we actually do not need to save all growing LIS."
   ]
  }
 ],
 "metadata": {
  "kernelspec": {
   "display_name": "Python 3",
   "language": "python",
   "name": "python3"
  },
  "language_info": {
   "codemirror_mode": {
    "name": "ipython",
    "version": 3
   },
   "file_extension": ".py",
   "mimetype": "text/x-python",
   "name": "python",
   "nbconvert_exporter": "python",
   "pygments_lexer": "ipython3",
   "version": "3.7.3"
  }
 },
 "nbformat": 4,
 "nbformat_minor": 2
}
