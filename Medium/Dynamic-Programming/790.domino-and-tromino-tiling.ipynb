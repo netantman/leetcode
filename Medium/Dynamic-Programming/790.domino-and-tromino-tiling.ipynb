{
 "cells": [
  {
   "cell_type": "markdown",
   "metadata": {},
   "source": [
    "## Attempt 1 - Accepted"
   ]
  },
  {
   "cell_type": "code",
   "execution_count": null,
   "metadata": {},
   "outputs": [],
   "source": [
    "class Solution:\n",
    "    def numTilings(self, N: int) -> int:\n",
    "        res=dict()\n",
    "        res[(0,0)]=1\n",
    "        q=[(0,0)]\n",
    "        for m in range(1,N+1):\n",
    "            n=m-1\n",
    "            if n-1>=0:\n",
    "                res[(m,n)]=res.get((m,n),0)+res.get((m-2,n-1),0)\n",
    "            if m-2>=0:\n",
    "                res[(m,n)]=res.get((m,n),0)+res.get((m-2,n),0)\n",
    "            n=m\n",
    "            if n-2>=0:\n",
    "                res[(m,n)]=res.get((m,n),0)+res.get((m-2,n-2),0)\n",
    "            if n-1>=0:\n",
    "                res[(m,n)]=res.get((m,n),0)+res.get((m-1,n-1),0)\n",
    "            if m-2>=0:\n",
    "                res[(m,n)]=res.get((m,n),0)+res.get((m-2,n-1),0)\n",
    "            if n-2>=0:\n",
    "                res[(m,n)]=res.get((m,n),0)+res.get((m-1,n-2),0)\n",
    "            n=m+1\n",
    "            if m-1>=0:\n",
    "                res[(m,n)]=res.get((m,n),0)+res.get((m-1,n-2),0)\n",
    "            if n-2>=0:\n",
    "                res[(m,n)]=res.get((m,n),0)+res.get((m,n-2),0)\n",
    "        return res.get((N,N),0)%(10**9+7)"
   ]
  },
  {
   "cell_type": "markdown",
   "metadata": {},
   "source": [
    "## Lessons and Thoughts\n",
    "- Took you quite a while - not easy to get all those cases."
   ]
  }
 ],
 "metadata": {
  "kernelspec": {
   "display_name": "Python 3",
   "language": "python",
   "name": "python3"
  },
  "language_info": {
   "codemirror_mode": {
    "name": "ipython",
    "version": 3
   },
   "file_extension": ".py",
   "mimetype": "text/x-python",
   "name": "python",
   "nbconvert_exporter": "python",
   "pygments_lexer": "ipython3",
   "version": "3.7.3"
  }
 },
 "nbformat": 4,
 "nbformat_minor": 2
}
