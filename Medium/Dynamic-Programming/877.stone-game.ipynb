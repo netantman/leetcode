{
 "cells": [
  {
   "cell_type": "markdown",
   "metadata": {},
   "source": [
    "## Attempt 1 - Accepted"
   ]
  },
  {
   "cell_type": "code",
   "execution_count": null,
   "metadata": {},
   "outputs": [],
   "source": [
    "class Solution:\n",
    "    def stoneGame(self, piles: List[int]) -> bool:\n",
    "        dp=dict()\n",
    "        L=len(piles)\n",
    "        for idx in range(L):\n",
    "            dp[idx,idx+1]=piles[idx]\n",
    "        for idx in range(L-1):\n",
    "            dp[idx,idx+2]=max(piles[idx],piles[idx+1])\n",
    "        gap=3\n",
    "        while gap<=L:\n",
    "            for idx in range(L-gap+1):\n",
    "                dp[idx,idx+gap]=max(piles[idx]+sum(piles[idx+1:idx+gap])-dp[idx+1,idx+gap], piles[idx+gap-1]+sum(piles[idx:idx+gap-1])-dp[idx,idx+gap-1])\n",
    "            gap+=1\n",
    "        return dp[0,L]>sum(piles)-dp[0,L]"
   ]
  },
  {
   "cell_type": "markdown",
   "metadata": {},
   "source": [
    "## Lessons and Thoughts\n",
    "- Have we not seen this before? "
   ]
  }
 ],
 "metadata": {
  "kernelspec": {
   "display_name": "Python 3",
   "language": "python",
   "name": "python3"
  },
  "language_info": {
   "codemirror_mode": {
    "name": "ipython",
    "version": 3
   },
   "file_extension": ".py",
   "mimetype": "text/x-python",
   "name": "python",
   "nbconvert_exporter": "python",
   "pygments_lexer": "ipython3",
   "version": "3.7.3"
  }
 },
 "nbformat": 4,
 "nbformat_minor": 2
}
