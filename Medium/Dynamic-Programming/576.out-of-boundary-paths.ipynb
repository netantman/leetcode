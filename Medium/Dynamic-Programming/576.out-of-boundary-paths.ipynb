{
 "cells": [
  {
   "cell_type": "markdown",
   "metadata": {},
   "source": [
    "## Attempt 1 - Wrong Answer"
   ]
  },
  {
   "cell_type": "code",
   "execution_count": null,
   "metadata": {},
   "outputs": [],
   "source": [
    "class Solution:\n",
    "    def findPaths(self, m: int, n: int, N: int, i: int, j: int) -> int:\n",
    "        record=[[0 for _ in range(n)] for _ in range(m)] ## --> did not handle the edge case where N==0\n",
    "        for r in [0, m-1]:\n",
    "            for c in range(n):\n",
    "                record[r][c]+=1\n",
    "        for r in range(m):\n",
    "            for c in [0, n-1]:\n",
    "                record[r][c]+=1\n",
    "        \n",
    "        cnt=1\n",
    "        res=record[i][j]\n",
    "        while cnt<N:\n",
    "            nnext=[[0 for _ in range(n)] for _ in range(m)]\n",
    "            for r in range(m):\n",
    "                for c in range(n):\n",
    "                    if r-1>=0:\n",
    "                        nnext[r][c]+=record[r-1][c]\n",
    "                    if r+1<m:\n",
    "                        nnext[r][c]+=record[r+1][c]\n",
    "                    if c-1>=0:\n",
    "                        nnext[r][c]+=record[r][c-1]\n",
    "                    if c+1<n:\n",
    "                        nnext[r][c]+=record[r][c+1]\n",
    "            res+=nnext[i][j]\n",
    "            record=nnext\n",
    "            cnt+=1\n",
    "        \n",
    "        return res%(10**9+7)"
   ]
  },
  {
   "cell_type": "markdown",
   "metadata": {},
   "source": [
    "## Attempt 2 - Accepted"
   ]
  },
  {
   "cell_type": "code",
   "execution_count": null,
   "metadata": {},
   "outputs": [],
   "source": [
    "class Solution:\n",
    "    def findPaths(self, m: int, n: int, N: int, i: int, j: int) -> int:\n",
    "        if N<=0:\n",
    "            return 0\n",
    "        \n",
    "        record=[[0 for _ in range(n)] for _ in range(m)]\n",
    "        for r in [0, m-1]:\n",
    "            for c in range(n):\n",
    "                record[r][c]+=1\n",
    "        for r in range(m):\n",
    "            for c in [0, n-1]:\n",
    "                record[r][c]+=1\n",
    "        \n",
    "        cnt=1\n",
    "        res=record[i][j]\n",
    "        while cnt<N:\n",
    "            nnext=[[0 for _ in range(n)] for _ in range(m)]\n",
    "            for r in range(m):\n",
    "                for c in range(n):\n",
    "                    if r-1>=0:\n",
    "                        nnext[r][c]+=record[r-1][c]\n",
    "                    if r+1<m:\n",
    "                        nnext[r][c]+=record[r+1][c]\n",
    "                    if c-1>=0:\n",
    "                        nnext[r][c]+=record[r][c-1]\n",
    "                    if c+1<n:\n",
    "                        nnext[r][c]+=record[r][c+1]\n",
    "            res+=nnext[i][j]\n",
    "            record=nnext\n",
    "            cnt+=1\n",
    "        \n",
    "        print(record)\n",
    "        \n",
    "        return res%(10**9+7)"
   ]
  },
  {
   "cell_type": "markdown",
   "metadata": {},
   "source": [
    "## Lessons and Thoughts\n",
    "- Be very clear about what each sub result means is the key to successful DP. In this problem, letting record to be the ways to be out in exactly $N$ steps is better than less than or equal to $N$ steps."
   ]
  }
 ],
 "metadata": {
  "kernelspec": {
   "display_name": "Python 3",
   "language": "python",
   "name": "python3"
  },
  "language_info": {
   "codemirror_mode": {
    "name": "ipython",
    "version": 3
   },
   "file_extension": ".py",
   "mimetype": "text/x-python",
   "name": "python",
   "nbconvert_exporter": "python",
   "pygments_lexer": "ipython3",
   "version": "3.7.3"
  }
 },
 "nbformat": 4,
 "nbformat_minor": 2
}
