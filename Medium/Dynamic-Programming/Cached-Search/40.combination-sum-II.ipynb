{
 "cells": [
  {
   "cell_type": "markdown",
   "metadata": {},
   "source": [
    "## Attempt 1 - Accepted"
   ]
  },
  {
   "cell_type": "code",
   "execution_count": null,
   "metadata": {},
   "outputs": [],
   "source": [
    "class Solution:\n",
    "    def combinationSum2(self, candidates: List[int], target: int) -> List[List[int]]:\n",
    "        if target==0:\n",
    "            return [[]]\n",
    "        candidates = [c for c in candidates if c<=target]\n",
    "        if len(candidates)<1:\n",
    "            return []\n",
    "        \n",
    "        cache=set()\n",
    "        len_candidates=len(candidates)\n",
    "        for idx in range(len_candidates):\n",
    "            c=candidates[idx]\n",
    "            reduced = candidates[:idx]+candidates[idx+1:]\n",
    "            prev=self.combinationSum2(reduced, target-c)\n",
    "            for p in prev:\n",
    "                potential=p+[c]\n",
    "                potential=tuple(sorted(potential))\n",
    "                if potential not in cache:\n",
    "                    cache.add(potential)\n",
    "        \n",
    "        res=[list(sol) for sol in cache]\n",
    "        return res\n",
    "      "
   ]
  },
  {
   "cell_type": "markdown",
   "metadata": {},
   "source": [
    "## Lessons and Thoughts\n",
    "- Read the problem carefully - it does not say that `candidates` does not contain duplicates, different from Problem 39!\n",
    "- Creating a list using `+` is creating another (shallow) copy."
   ]
  }
 ],
 "metadata": {
  "kernelspec": {
   "display_name": "Python 3",
   "language": "python",
   "name": "python3"
  },
  "language_info": {
   "codemirror_mode": {
    "name": "ipython",
    "version": 3
   },
   "file_extension": ".py",
   "mimetype": "text/x-python",
   "name": "python",
   "nbconvert_exporter": "python",
   "pygments_lexer": "ipython3",
   "version": "3.7.3"
  }
 },
 "nbformat": 4,
 "nbformat_minor": 2
}
