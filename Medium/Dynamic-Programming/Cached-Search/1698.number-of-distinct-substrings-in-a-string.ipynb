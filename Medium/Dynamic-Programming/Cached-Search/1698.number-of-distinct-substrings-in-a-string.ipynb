{
 "cells": [
  {
   "cell_type": "markdown",
   "metadata": {},
   "source": [
    "## Attempt 1 - Accepted"
   ]
  },
  {
   "cell_type": "code",
   "execution_count": null,
   "metadata": {},
   "outputs": [],
   "source": [
    "class Solution:\n",
    "    def countDistinct(self, s: str) -> int:\n",
    "        dp = [set([\"\"])]\n",
    "        for c in s:\n",
    "            prev = dp[-1]\n",
    "            to_add = set([c])\n",
    "            for p in prev:\n",
    "                to_add.add(p + c)\n",
    "            dp.append(to_add)\n",
    "        \n",
    "        dp.pop(0)\n",
    "        res = set()\n",
    "        for d in dp:\n",
    "            res |= d\n",
    "        return len(res)"
   ]
  },
  {
   "cell_type": "markdown",
   "metadata": {},
   "source": [
    "## Lessons and Thoughts\n",
    "- Straightforward cached search.\n",
    "- Did not do the follow-up, probably involving tries."
   ]
  }
 ],
 "metadata": {
  "kernelspec": {
   "display_name": "Python 3",
   "language": "python",
   "name": "python3"
  },
  "language_info": {
   "codemirror_mode": {
    "name": "ipython",
    "version": 3
   },
   "file_extension": ".py",
   "mimetype": "text/x-python",
   "name": "python",
   "nbconvert_exporter": "python",
   "pygments_lexer": "ipython3",
   "version": "3.7.3"
  }
 },
 "nbformat": 4,
 "nbformat_minor": 2
}
