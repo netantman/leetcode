{
 "cells": [
  {
   "cell_type": "markdown",
   "metadata": {},
   "source": [
    "## Attempt 1 - Accepted"
   ]
  },
  {
   "cell_type": "code",
   "execution_count": null,
   "metadata": {},
   "outputs": [],
   "source": [
    "class Solution:\n",
    "    def maxTurbulenceSize(self, A: List[int]) -> int:\n",
    "        L=len(A)\n",
    "        if L==1:\n",
    "            return 1\n",
    "        dp=[None for _ in A]\n",
    "        dp[0]=1\n",
    "        dp[1]=2 if A[1]!=A[0] else 1\n",
    "        if L==2:\n",
    "            return dp[1]\n",
    "        for idx in range(2, L):\n",
    "            if A[idx-1]==A[idx]:\n",
    "                dp[idx]=1\n",
    "            elif dp[idx-1]==1:\n",
    "                dp[idx]=2\n",
    "            else:\n",
    "                if (A[idx]<A[idx-1] and A[idx-1]>A[idx-2]) or (A[idx]>A[idx-1] and A[idx-1]<A[idx-2]):\n",
    "                    dp[idx]=dp[idx-1]+1\n",
    "                else:\n",
    "                    dp[idx]=2\n",
    "        return max(dp)"
   ]
  },
  {
   "cell_type": "markdown",
   "metadata": {},
   "source": [
    "## Lessons and Thoughts\n",
    "- Just remember to set initial conditions."
   ]
  }
 ],
 "metadata": {
  "kernelspec": {
   "display_name": "Python 3",
   "language": "python",
   "name": "python3"
  },
  "language_info": {
   "codemirror_mode": {
    "name": "ipython",
    "version": 3
   },
   "file_extension": ".py",
   "mimetype": "text/x-python",
   "name": "python",
   "nbconvert_exporter": "python",
   "pygments_lexer": "ipython3",
   "version": "3.7.3"
  }
 },
 "nbformat": 4,
 "nbformat_minor": 2
}
