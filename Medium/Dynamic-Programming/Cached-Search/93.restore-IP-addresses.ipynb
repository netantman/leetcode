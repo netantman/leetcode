{
 "cells": [
  {
   "cell_type": "markdown",
   "metadata": {},
   "source": [
    "## Attempt 1 - Wrong Answer"
   ]
  },
  {
   "cell_type": "code",
   "execution_count": null,
   "metadata": {},
   "outputs": [],
   "source": [
    "class Solution:\n",
    "    def restoreIpAddresses(self, s: str) -> List[str]:\n",
    "    \n",
    "        def helper(s,n):\n",
    "            if n==1:\n",
    "                if len(s)<1:\n",
    "                    return []  ## --> this should be an edge case even when n is bigger than 1\n",
    "                elif len(s)==1:\n",
    "                    return [s]\n",
    "                elif len(s)==2:\n",
    "                    if int(s)>=10 and int(s)<=99:\n",
    "                        return [s]\n",
    "                    else:\n",
    "                        return None  ## -> typo!!\n",
    "                elif len(s)==3:\n",
    "                    if int(s)>=100 and int(s)<=255:\n",
    "                        return [s]\n",
    "                    else:\n",
    "                        return []  ## --> missed a case where len(s)>3\n",
    "            else:\n",
    "                prev=helper(s[:-1], n-1)\n",
    "                res=[p+\".\"+s[-1] for p in prev]\n",
    "                if int(s[-2:])>=10 and int(s[-2:])<=99:\n",
    "                    prev=helper(s[:-2], n-1)\n",
    "                    res=res+[p+\".\"+s[-2:] for p in prev]\n",
    "                if int(s[-3:])>=100 and int(s[-3:])<=255:\n",
    "                    prev=helper(s[:-3], n-1)\n",
    "                    res=res+[p+\".\"+s[-3:] for p in prev]\n",
    "                return res\n",
    "        \n",
    "        return helper(s,4)"
   ]
  },
  {
   "cell_type": "markdown",
   "metadata": {},
   "source": [
    "## Attempt 2 - Accepted"
   ]
  },
  {
   "cell_type": "code",
   "execution_count": null,
   "metadata": {},
   "outputs": [],
   "source": [
    "class Solution:\n",
    "    def restoreIpAddresses(self, s: str) -> List[str]:\n",
    "    \n",
    "        def helper(s,n):\n",
    "            if len(s)<1:\n",
    "                    return []\n",
    "            if n==1:\n",
    "                if len(s)==1:\n",
    "                    return [s]\n",
    "                elif len(s)==2:\n",
    "                    if int(s)>=10 and int(s)<=99:\n",
    "                        return [s]\n",
    "                    else:\n",
    "                        return []\n",
    "                elif len(s)==3:\n",
    "                    if int(s)>=100 and int(s)<=255:\n",
    "                        return [s]\n",
    "                    else:\n",
    "                        return []\n",
    "                else:\n",
    "                    return []\n",
    "            else:\n",
    "                prev=helper(s[:-1], n-1)\n",
    "                res=[p+\".\"+s[-1] for p in prev]\n",
    "                if int(s[-2:])>=10 and int(s[-2:])<=99:\n",
    "                    prev=helper(s[:-2], n-1)\n",
    "                    res=res+[p+\".\"+s[-2:] for p in prev]\n",
    "                if int(s[-3:])>=100 and int(s[-3:])<=255:\n",
    "                    prev=helper(s[:-3], n-1)\n",
    "                    res=res+[p+\".\"+s[-3:] for p in prev]\n",
    "                return res\n",
    "        \n",
    "        return helper(s,4)"
   ]
  },
  {
   "cell_type": "markdown",
   "metadata": {},
   "source": [
    "## Attempt 3 - Accepted"
   ]
  },
  {
   "cell_type": "code",
   "execution_count": null,
   "metadata": {},
   "outputs": [],
   "source": [
    "class Solution {\n",
    "public:\n",
    "    vector<string> restoreIpAddresses(string s, int k) {\n",
    "        int L = s.size();\n",
    "        vector<string> res = {};\n",
    "        \n",
    "        if (L < k) {\n",
    "            return res;\n",
    "        }\n",
    "        \n",
    "        if (k == 1) {\n",
    "            if ((s == \"0\") || (s[0] != '0') && (L <= 3) && (stoi(s) <= 255)) {\n",
    "                res.push_back(s);\n",
    "            }\n",
    "            return res;\n",
    "        }\n",
    "        \n",
    "        for (int idx=1; idx<min(3, L); idx++){\n",
    "            string sub = s.substr(0, idx);\n",
    "            if ((idx == 2) && (sub[0] == '0')) {\n",
    "                continue;\n",
    "            }\n",
    "            vector<string> post = restoreIpAddresses(s.substr(idx, L - idx), k - 1);\n",
    "            for (string p : post) {\n",
    "                res.push_back(sub + \".\" + p);\n",
    "            }\n",
    "        }\n",
    "        if (L > 3) {\n",
    "            string sub = s.substr(0, 3);\n",
    "            if ((sub[0] != '0') && (stoi(sub) <= 255)) {\n",
    "                vector<string> post = restoreIpAddresses(s.substr(3, L - 3), k - 1);\n",
    "                for (string p : post) {\n",
    "                    res.push_back(sub + \".\" + p);\n",
    "                }\n",
    "            }\n",
    "        }\n",
    "        return res;\n",
    "    }\n",
    "    vector<string> restoreIpAddresses(string s) {\n",
    "        return this->restoreIpAddresses(s, 4);\n",
    "    }\n",
    "};"
   ]
  },
  {
   "cell_type": "markdown",
   "metadata": {},
   "source": [
    "## Lessons and Thoughts\n",
    "- All of the edge cases should be thoroughly considered!\n",
    "- Leading 0 are important edge cases, besides 0 itself."
   ]
  }
 ],
 "metadata": {
  "kernelspec": {
   "display_name": "Python 3",
   "language": "python",
   "name": "python3"
  },
  "language_info": {
   "codemirror_mode": {
    "name": "ipython",
    "version": 3
   },
   "file_extension": ".py",
   "mimetype": "text/x-python",
   "name": "python",
   "nbconvert_exporter": "python",
   "pygments_lexer": "ipython3",
   "version": "3.6.5"
  }
 },
 "nbformat": 4,
 "nbformat_minor": 2
}
