{
 "cells": [
  {
   "cell_type": "markdown",
   "metadata": {},
   "source": [
    "## Attempt 1 - Accepted"
   ]
  },
  {
   "cell_type": "code",
   "execution_count": null,
   "metadata": {},
   "outputs": [],
   "source": [
    "# Definition for a binary tree node.\n",
    "# class TreeNode:\n",
    "#     def __init__(self, val=0, left=None, right=None):\n",
    "#         self.val = val\n",
    "#         self.left = left\n",
    "#         self.right = right\n",
    "class Solution:\n",
    "    def allPossibleFBT(self, N: int) -> List[TreeNode]:\n",
    "        res=[[] for _ in range(N+1)]\n",
    "        res[0]=[]\n",
    "        res[1]=[TreeNode()]\n",
    "        for idx in range(2,N+1):\n",
    "            for i in range(idx):\n",
    "                j=idx-1-i\n",
    "                for l in res[i]:\n",
    "                    for r in res[j]:\n",
    "                        root=TreeNode()\n",
    "                        root.left=l\n",
    "                        root.right=r\n",
    "                        res[idx].append(root)\n",
    "        return res[N]"
   ]
  },
  {
   "cell_type": "markdown",
   "metadata": {},
   "source": [
    "## Attempt 2 - Accepted"
   ]
  },
  {
   "cell_type": "code",
   "execution_count": null,
   "metadata": {},
   "outputs": [],
   "source": [
    "/**\n",
    " * Definition for a binary tree node.\n",
    " * struct TreeNode {\n",
    " *     int val;\n",
    " *     TreeNode *left;\n",
    " *     TreeNode *right;\n",
    " *     TreeNode() : val(0), left(nullptr), right(nullptr) {}\n",
    " *     TreeNode(int x) : val(x), left(nullptr), right(nullptr) {}\n",
    " *     TreeNode(int x, TreeNode *left, TreeNode *right) : val(x), left(left), right(right) {}\n",
    " * };\n",
    " */\n",
    "class Solution {\n",
    "public:\n",
    "    vector<TreeNode*> allPossibleFBT(int n) {\n",
    "        vector<vector<TreeNode*>> dp = {{}};\n",
    "        for (int idx=1; idx<=n; idx++) {\n",
    "            if (idx == 1) {\n",
    "                TreeNode *root = new TreeNode(0); ## init pointer using one constructor\n",
    "                vector<TreeNode*> curr = {root};\n",
    "                dp.push_back(curr);\n",
    "                continue;\n",
    "            }\n",
    "            \n",
    "            vector<TreeNode*> curr = {};\n",
    "            for (int j=1; j<idx-1; j++) {\n",
    "                vector<TreeNode*> left = dp[j];\n",
    "                vector<TreeNode*> right = dp[idx - 1 - j];\n",
    "                for (TreeNode* l : left) {\n",
    "                    for (TreeNode* r : right) {\n",
    "                        TreeNode *root = new TreeNode(0, l, r); ## init pointer using another constructor\n",
    "                        curr.push_back(root);\n",
    "                    }\n",
    "                }\n",
    "            }\n",
    "            dp.push_back(curr);\n",
    "        }\n",
    "        return dp[n];\n",
    "    };\n",
    "};"
   ]
  },
  {
   "cell_type": "markdown",
   "metadata": {},
   "source": [
    "## Lessons and Thoughts\n",
    "- Straightforward sequence DP.\n",
    "- Attempt 2 took you 30 min since you are not familiar with pointer intialized by calling `new` and the constructor."
   ]
  }
 ],
 "metadata": {
  "kernelspec": {
   "display_name": "Python 3",
   "language": "python",
   "name": "python3"
  },
  "language_info": {
   "codemirror_mode": {
    "name": "ipython",
    "version": 3
   },
   "file_extension": ".py",
   "mimetype": "text/x-python",
   "name": "python",
   "nbconvert_exporter": "python",
   "pygments_lexer": "ipython3",
   "version": "3.6.5"
  }
 },
 "nbformat": 4,
 "nbformat_minor": 2
}
