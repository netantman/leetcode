{
 "cells": [
  {
   "cell_type": "markdown",
   "metadata": {},
   "source": [
    "## Idea"
   ]
  },
  {
   "cell_type": "markdown",
   "metadata": {},
   "source": [
    "Since it is cached 'search', the record not only needs to keep to optimal solution for any sub structure, but also potentially multiple search results. This is what distinguishes between cached search and other kinds of DP.\n",
    "\n",
    "It seems to be quite useful when trying to find the number or combinations of the subsequences that satisfy certain criteria.\n",
    "\n",
    "Although in this [note](https://www.cnblogs.com/jiangchen/p/5820378.html), problems that require to return all combination rather than just number of combinations do not belong to DP, this kind of problems share the key to discover sub-optimal structure and cache previous results, similar as other DP problems."
   ]
  },
  {
   "cell_type": "markdown",
   "metadata": {},
   "source": [
    "## Traps"
   ]
  },
  {
   "cell_type": "markdown",
   "metadata": {},
   "source": [
    "- If the problem only asks you to keep track of the count, don't keep record of the combinations.\n",
    "\n",
    "- These kinds of problems sometimes are hard to distinguish from those requiring recursion - but before you do recursion you need to be careful about MLE.\n",
    "\n",
    "- If you use an associative type to store intermediate results, make sure you use deep copy; see Problem 1286.\n",
    "\n",
    "- For previous results, you cannot just save the optimal one. This is the difference between cached search and sequence type of problems; see Problem 1593."
   ]
  }
 ],
 "metadata": {
  "kernelspec": {
   "display_name": "Python 3",
   "language": "python",
   "name": "python3"
  },
  "language_info": {
   "codemirror_mode": {
    "name": "ipython",
    "version": 3
   },
   "file_extension": ".py",
   "mimetype": "text/x-python",
   "name": "python",
   "nbconvert_exporter": "python",
   "pygments_lexer": "ipython3",
   "version": "3.7.3"
  }
 },
 "nbformat": 4,
 "nbformat_minor": 2
}
