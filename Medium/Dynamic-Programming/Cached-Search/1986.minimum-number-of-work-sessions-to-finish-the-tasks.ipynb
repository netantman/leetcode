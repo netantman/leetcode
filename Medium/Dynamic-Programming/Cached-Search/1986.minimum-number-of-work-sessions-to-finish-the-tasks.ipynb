{
 "cells": [
  {
   "cell_type": "markdown",
   "metadata": {},
   "source": [
    "## Attempt 1 - Time Limit Exceeded"
   ]
  },
  {
   "cell_type": "code",
   "execution_count": null,
   "metadata": {},
   "outputs": [],
   "source": [
    "class Solution:\n",
    "    def minSessions(self, tasks: List[int], sessionTime: int) -> int:\n",
    "        def place(stacks, t):\n",
    "            res = []\n",
    "            L = len(stacks)\n",
    "            for idx in range(L):\n",
    "                new = [st for st in stacks]\n",
    "                if new[idx] + t <= sessionTime:\n",
    "                    new[idx] += t\n",
    "                    res.append(new)\n",
    "            new = [st for st in stacks]\n",
    "            new.append(t)\n",
    "            res.append(new)\n",
    "            return res\n",
    "        \n",
    "        res = [[tasks[0]]]\n",
    "        n = len(tasks)\n",
    "        for idx in range(1, n):\n",
    "            to_add = []\n",
    "            for stacks in res:\n",
    "                to_add += place(stacks, tasks[idx])\n",
    "            res = to_add\n",
    "        return min(len(r) for r in res)"
   ]
  },
  {
   "cell_type": "markdown",
   "metadata": {},
   "source": [
    "## Attempt 2 - Accepted"
   ]
  },
  {
   "cell_type": "code",
   "execution_count": null,
   "metadata": {},
   "outputs": [],
   "source": [
    "class Solution:\n",
    "    def minSessions(self, tasks: List[int], sessionTime: int) -> int:\n",
    "        n = len(tasks)\n",
    "        valid = [False] * (1 << n)\n",
    "        for mask in range(1, 1 << n):\n",
    "            needTime = 0\n",
    "            for i in range(n):\n",
    "                if mask & (1 << i):\n",
    "                    needTime += tasks[i]\n",
    "            if needTime <= sessionTime:\n",
    "                valid[mask] = True\n",
    "        \n",
    "        f = [float('inf')] * (1 << n)\n",
    "        f[0] = 0\n",
    "        for mask in range(1, 1 << n):\n",
    "            subset = mask\n",
    "            while subset:\n",
    "                if valid[subset]:\n",
    "                    f[mask] = min(f[mask], f[mask ^ subset] + 1)\n",
    "                subset = (subset - 1) & mask\n",
    "        \n",
    "        return f[(1 << n) - 1]"
   ]
  },
  {
   "cell_type": "markdown",
   "metadata": {},
   "source": [
    "## Lessons and Thoughts\n",
    "- The accepted solution is from the app. There are several tricks\n",
    "    - Use binary number to record all tasks that can fit in one day\n",
    "    - The way to find all subsets of a given set described by a binary number."
   ]
  }
 ],
 "metadata": {
  "kernelspec": {
   "display_name": "Python 3",
   "language": "python",
   "name": "python3"
  },
  "language_info": {
   "codemirror_mode": {
    "name": "ipython",
    "version": 3
   },
   "file_extension": ".py",
   "mimetype": "text/x-python",
   "name": "python",
   "nbconvert_exporter": "python",
   "pygments_lexer": "ipython3",
   "version": "3.7.3"
  }
 },
 "nbformat": 4,
 "nbformat_minor": 2
}
