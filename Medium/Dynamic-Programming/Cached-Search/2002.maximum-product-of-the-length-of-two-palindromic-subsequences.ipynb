{
 "cells": [
  {
   "cell_type": "markdown",
   "metadata": {},
   "source": [
    "## Attempt 1 - Accepted"
   ]
  },
  {
   "cell_type": "code",
   "execution_count": null,
   "metadata": {},
   "outputs": [],
   "source": [
    "class Solution:\n",
    "    def maxProduct(self, s: str) -> int:\n",
    "        record = [([\"\"], [\"\"])]\n",
    "        for c in s:\n",
    "            new = []\n",
    "            for rec in record:\n",
    "                a, b = rec\n",
    "                extend_a = [sub for sub in a] + [sub + c for sub in a]\n",
    "                extend_b = [sub for sub in b] + [sub + c for sub in b]\n",
    "                new.append((extend_a, [sub for sub in b]))\n",
    "                new.append(([sub for sub in a], extend_b))\n",
    "            record = new\n",
    "        ans = 0\n",
    "        for rec in record:\n",
    "            a, b = rec\n",
    "            longest_a = max(len(sub) for sub in a if sub == sub[::-1])\n",
    "            longest_b = max(len(sub) for sub in b if sub == sub[::-1])\n",
    "            ans = max(ans, longest_a * longest_b)\n",
    "        return ans"
   ]
  },
  {
   "cell_type": "markdown",
   "metadata": {},
   "source": [
    "## Lessons and Thoughts\n",
    "- The constraint that the length of `s` is at most 12 should hint you to record all substrings."
   ]
  }
 ],
 "metadata": {
  "kernelspec": {
   "display_name": "Python 3",
   "language": "python",
   "name": "python3"
  },
  "language_info": {
   "codemirror_mode": {
    "name": "ipython",
    "version": 3
   },
   "file_extension": ".py",
   "mimetype": "text/x-python",
   "name": "python",
   "nbconvert_exporter": "python",
   "pygments_lexer": "ipython3",
   "version": "3.7.3"
  }
 },
 "nbformat": 4,
 "nbformat_minor": 2
}
