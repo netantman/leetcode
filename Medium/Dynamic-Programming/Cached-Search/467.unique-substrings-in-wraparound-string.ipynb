{
 "cells": [
  {
   "cell_type": "markdown",
   "metadata": {},
   "source": [
    "## Attempt 1 - Wrong Answer"
   ]
  },
  {
   "cell_type": "code",
   "execution_count": null,
   "metadata": {},
   "outputs": [],
   "source": [
    "class Solution:\n",
    "    def findSubstringInWraproundString(self, p: str) -> int:\n",
    "        nexxt={\"a\":\"b\", \"b\":\"c\", \"c\":\"d\", \"d\":\"e\", \"e\":\"f\", \"f\":\"g\", \"g\":\"h\", \"h\":\"i\", \"i\":\"j\", \"j\":\"k\",\"k\":\"l\",\"l\":\"m\",\"m\":\"n\",\"n\":\"o\",\"o\":\"p\",\"p\":\"q\",\"q\":\"r\",\"r\":\"s\",\"s\":\"t\", \"t\":\"u\", \"u\":\"v\", \"v\":\"w\", \"w\":\"x\", \"x\":\"y\", \"y\":\"z\", \"z\":\"a\"}\n",
    "        res=set()\n",
    "        last=[p[0]]  ## --> forgot the case of empty string\n",
    "        res.add(p[0])\n",
    "        L=len(p)\n",
    "        for idx in range(1,L):\n",
    "            if p[idx]==nexxt[p[idx-1]]:\n",
    "                new_last=[p[idx]]\n",
    "                res.add(p[idx])\n",
    "                for l in last:\n",
    "                    res.add(l+p)\n",
    "                    new_last.append(l+p)\n",
    "                last=new_last\n",
    "            else:\n",
    "                new_last=[p[idx]]\n",
    "                res.add(p[idx])\n",
    "                last=new_last\n",
    "        return len(res)"
   ]
  },
  {
   "cell_type": "markdown",
   "metadata": {},
   "source": [
    "## Attempt 2 - Time Limit Exceeded"
   ]
  },
  {
   "cell_type": "code",
   "execution_count": null,
   "metadata": {},
   "outputs": [],
   "source": [
    "class Solution:\n",
    "    def findSubstringInWraproundString(self, p: str) -> int:\n",
    "        L=len(p)\n",
    "        if L<=1:\n",
    "            return L\n",
    "        \n",
    "        nexxt={\"a\":\"b\", \"b\":\"c\", \"c\":\"d\", \"d\":\"e\", \"e\":\"f\", \"f\":\"g\", \"g\":\"h\", \"h\":\"i\", \"i\":\"j\", \"j\":\"k\",\"k\":\"l\",\"l\":\"m\",\"m\":\"n\",\"n\":\"o\",\"o\":\"p\",\"p\":\"q\",\"q\":\"r\",\"r\":\"s\",\"s\":\"t\", \"t\":\"u\", \"u\":\"v\", \"v\":\"w\", \"w\":\"x\", \"x\":\"y\", \"y\":\"z\", \"z\":\"a\"}\n",
    "        res=set()\n",
    "        last=[p[0]]\n",
    "        res.add(p[0])\n",
    "        for idx in range(1,L):\n",
    "            if p[idx]==nexxt[p[idx-1]]:\n",
    "                new_last=[p[idx]]\n",
    "                res.add(p[idx])\n",
    "                for l in last:\n",
    "                    res.add(l+p)\n",
    "                    new_last.append(l+p)\n",
    "                last=new_last\n",
    "            else:\n",
    "                new_last=[p[idx]]\n",
    "                res.add(p[idx])\n",
    "                last=new_last\n",
    "        return len(res)"
   ]
  },
  {
   "cell_type": "markdown",
   "metadata": {},
   "source": [
    "## Attempt 3 - Accepted"
   ]
  },
  {
   "cell_type": "code",
   "execution_count": null,
   "metadata": {},
   "outputs": [],
   "source": [
    "class Solution:\n",
    "    def findSubstringInWraproundString(self, p: str) -> int:\n",
    "        L=len(p)\n",
    "        if L<=1:\n",
    "            return L\n",
    "        \n",
    "        nexxt={\"a\":\"b\", \"b\":\"c\", \"c\":\"d\", \"d\":\"e\", \"e\":\"f\", \"f\":\"g\", \"g\":\"h\", \"h\":\"i\", \"i\":\"j\", \"j\":\"k\",\"k\":\"l\",\"l\":\"m\",\"m\":\"n\",\"n\":\"o\",\"o\":\"p\",\"p\":\"q\",\"q\":\"r\",\"r\":\"s\",\"s\":\"t\", \"t\":\"u\", \"u\":\"v\", \"v\":\"w\", \"w\":\"x\", \"x\":\"y\", \"y\":\"z\", \"z\":\"a\"}\n",
    "        res=[0 for _ in range(26)]\n",
    "        \n",
    "        \n",
    "        l=1\n",
    "        for idx in range(L):\n",
    "            if idx>0 and p[idx]==nexxt[p[idx-1]]:\n",
    "                l+=1\n",
    "            else:\n",
    "                l=1\n",
    "            res[ord(p[idx])-ord(\"a\")]=max(res[ord(p[idx])-ord(\"a\")], l)\n",
    "        return sum(res)"
   ]
  },
  {
   "cell_type": "markdown",
   "metadata": {},
   "source": [
    "## Lessons and Thoughts\n",
    "- The accepted algo is from [here](https://www.cnblogs.com/grandyang/p/6143071.html). The key is to realize we can just record the longest substring that ends with each letter."
   ]
  }
 ],
 "metadata": {
  "kernelspec": {
   "display_name": "Python 3",
   "language": "python",
   "name": "python3"
  },
  "language_info": {
   "codemirror_mode": {
    "name": "ipython",
    "version": 3
   },
   "file_extension": ".py",
   "mimetype": "text/x-python",
   "name": "python",
   "nbconvert_exporter": "python",
   "pygments_lexer": "ipython3",
   "version": "3.7.3"
  }
 },
 "nbformat": 4,
 "nbformat_minor": 2
}
