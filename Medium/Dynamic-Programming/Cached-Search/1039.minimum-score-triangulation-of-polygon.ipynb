{
 "cells": [
  {
   "cell_type": "markdown",
   "metadata": {},
   "source": [
    "## Attempt 1 - Time Limit Exceeded"
   ]
  },
  {
   "cell_type": "code",
   "execution_count": null,
   "metadata": {},
   "outputs": [],
   "source": [
    "class Solution:\n",
    "    def __init__(self):\n",
    "        self.cache=dict()\n",
    "    def minScoreTriangulation(self, A: List[int]) -> int:\n",
    "        if tuple(A) in self.cache:\n",
    "            return self.cache[tuple(A)]\n",
    "        res=float('inf')\n",
    "        L=len(A)\n",
    "        if L==3:\n",
    "            res=A[0]*A[1]*A[2]\n",
    "            self.cache[tuple(A)]=res\n",
    "            return res\n",
    "        else:\n",
    "            for idx in range(L):\n",
    "                res=min(res, A[idx]*A[(idx-1)%L]*A[(idx+1)%L]+self.minScoreTriangulation(A[idx+1:]+A[:idx]))\n",
    "            self.cache[tuple(A)]=res\n",
    "            return res"
   ]
  },
  {
   "cell_type": "markdown",
   "metadata": {},
   "source": [
    "## Attempt 2 - Accepted"
   ]
  },
  {
   "cell_type": "code",
   "execution_count": null,
   "metadata": {},
   "outputs": [],
   "source": [
    "class Solution:\n",
    "    def minScoreTriangulation(self, A: List[int]) -> int:\n",
    "        L=len(A)\n",
    "        dp=[[0 for col in range(L)] for row in range(L)]\n",
    "        for gap in range(2,L):\n",
    "            for i in range(0,L-gap):\n",
    "                j=i+gap\n",
    "                dp[i][j]=min([dp[i][k]+dp[k][j]+A[i]*A[k]*A[j] for k in range(i+1,j)])\n",
    "        return dp[0][L-1]"
   ]
  },
  {
   "cell_type": "markdown",
   "metadata": {},
   "source": [
    "## Lessons and Thoughts\n",
    "- The algo is from the leetcode app.\n",
    "- Although it is cached search, how you break down the problem matters."
   ]
  }
 ],
 "metadata": {
  "kernelspec": {
   "display_name": "Python 3",
   "language": "python",
   "name": "python3"
  },
  "language_info": {
   "codemirror_mode": {
    "name": "ipython",
    "version": 3
   },
   "file_extension": ".py",
   "mimetype": "text/x-python",
   "name": "python",
   "nbconvert_exporter": "python",
   "pygments_lexer": "ipython3",
   "version": "3.7.3"
  }
 },
 "nbformat": 4,
 "nbformat_minor": 2
}
