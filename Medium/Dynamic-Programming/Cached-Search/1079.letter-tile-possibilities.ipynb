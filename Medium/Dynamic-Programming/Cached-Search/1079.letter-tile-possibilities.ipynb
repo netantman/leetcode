{
 "cells": [
  {
   "cell_type": "markdown",
   "metadata": {},
   "source": [
    "## Attempt 1 - Accepted"
   ]
  },
  {
   "cell_type": "code",
   "execution_count": null,
   "metadata": {},
   "outputs": [],
   "source": [
    "class Solution:\n",
    "    def numTilePossibilities(self, tiles: str) -> int:\n",
    "        def factorial(n):\n",
    "            res={0:1, 1:1, 2:2, 3:6, 4:24, 5:120, 6:720, 7:5040}\n",
    "            return res[n]\n",
    "            \n",
    "        def num(count):\n",
    "            res=factorial(sum(count))\n",
    "            for c in count:\n",
    "                res/=factorial(c)\n",
    "            return res\n",
    "        \n",
    "        def recursion(count, cache):\n",
    "            if tuple(count) in cache:\n",
    "                return\n",
    "            elif sum(count)<1:\n",
    "                return\n",
    "            else:\n",
    "                cache[tuple(count)]=num(count)\n",
    "                for idx in range(26):\n",
    "                    new=[c for c in count]\n",
    "                    if new[idx]>0:\n",
    "                        new[idx]-=1\n",
    "                        recursion(new, cache)\n",
    "        record=[0 for _ in range(26)]\n",
    "        for t in tiles:\n",
    "            record[ord(t)-ord(\"A\")]+=1\n",
    "        cache=dict()\n",
    "        recursion(record, cache)\n",
    "        return int(sum(cache.values()))"
   ]
  },
  {
   "cell_type": "markdown",
   "metadata": {},
   "source": [
    "## Lessons and Thoughts\n",
    "- Need to deal with the case where same constiteunts letters are already encountered."
   ]
  }
 ],
 "metadata": {
  "kernelspec": {
   "display_name": "Python 3",
   "language": "python",
   "name": "python3"
  },
  "language_info": {
   "codemirror_mode": {
    "name": "ipython",
    "version": 3
   },
   "file_extension": ".py",
   "mimetype": "text/x-python",
   "name": "python",
   "nbconvert_exporter": "python",
   "pygments_lexer": "ipython3",
   "version": "3.7.3"
  }
 },
 "nbformat": 4,
 "nbformat_minor": 2
}
