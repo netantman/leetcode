{
 "cells": [
  {
   "cell_type": "markdown",
   "metadata": {},
   "source": [
    "## Attempt 1 - Accepted"
   ]
  },
  {
   "cell_type": "code",
   "execution_count": null,
   "metadata": {},
   "outputs": [],
   "source": [
    "class Solution:\n",
    "    def numberOfPatterns(self, m: int, n: int) -> int:\n",
    "        passes = dict()\n",
    "        passes[\"13\"] = \"2\"\n",
    "        passes[\"19\"] = \"5\"\n",
    "        passes[\"17\"] = \"4\"\n",
    "        passes[\"28\"] = \"5\"\n",
    "        passes[\"37\"] = \"5\"\n",
    "        passes[\"39\"] = \"6\"\n",
    "        passes[\"31\"] = \"2\"\n",
    "        passes[\"64\"] = \"5\"\n",
    "        passes[\"93\"] = \"6\"\n",
    "        passes[\"97\"] = \"8\"\n",
    "        passes[\"91\"] = \"5\"\n",
    "        passes[\"82\"] = \"5\"\n",
    "        passes[\"79\"] = \"8\"\n",
    "        passes[\"73\"] = \"5\"\n",
    "        passes[\"71\"] = \"4\"\n",
    "        passes[\"46\"] = \"5\"\n",
    "        res = defaultdict(set)\n",
    "        res[1] = set([\"1\", \"2\", \"3\", \"4\", \"5\", \"6\", \"7\", \"8\", \"9\"])\n",
    "        for cnt in range(2, 10):\n",
    "            prev = res[cnt - 1]\n",
    "            for p in prev:\n",
    "                for c in \"123456789\":\n",
    "                    if c not in p and (p[-1] + c not in passes or passes[p[-1] + c] in p):\n",
    "                        res[cnt].add(p + c)\n",
    "        \n",
    "        return sum([len(res[k]) for k in range(m, n + 1)])"
   ]
  },
  {
   "cell_type": "markdown",
   "metadata": {},
   "source": [
    "## Attempt 2 - Time Limit Exceeded"
   ]
  },
  {
   "cell_type": "code",
   "execution_count": null,
   "metadata": {},
   "outputs": [],
   "source": [
    "class Solution {\n",
    "public:\n",
    "    int numberOfPatterns(int m, int n) {\n",
    "        map<vector<int>, int> pass = {{{1, 3}, 2}, {{3, 1}, 2}, {{4, 6}, 5}, {{6, 4}, 5}, {{7, 9}, 8}, {{9, 7}, 8}, \n",
    "                                      {{1, 7}, 4}, {{7, 1}, 4}, {{2, 8}, 5}, {{8, 2}, 5}, {{3, 9}, 6}, {{9, 3}, 6}, \n",
    "                                      {{1, 9}, 5}, {{9, 1}, 5}, {{3, 7}, 5}, {{7, 3}, 5}};\n",
    "        \n",
    "        map<int, vector<vector<int>>> res;\n",
    "        res[0] = {{}};\n",
    "        int ans = 0;\n",
    "        \n",
    "        for (int k=1; k<=n; k++) {\n",
    "            vector<vector<int>> curr = {};\n",
    "            for (int num=1; num<=9; num++) {\n",
    "                // cout << num;\n",
    "                if (k == 1) {\n",
    "                    vector<int> to_add = {num};\n",
    "                    curr.push_back(to_add);\n",
    "                    continue;\n",
    "                }\n",
    "                for (auto r : res[k - 1]) {\n",
    "                    if (find(r.begin(), r.end(), num) != r.end()) { ## --> how to find anything in an associative data structure\n",
    "                        continue;\n",
    "                    }\n",
    "                    vector<int> key = {r.back(), num};\n",
    "                    if ((pass.find(key) != pass.end()) && (find(r.begin(), r.end(), pass[key]) == r.end())) {\n",
    "                        continue;\n",
    "                    }\n",
    "                    \n",
    "                    vector<int> to_add = r;\n",
    "                    to_add.push_back(num);\n",
    "                    curr.push_back(to_add);\n",
    "                }\n",
    "            }\n",
    "            res[k] = curr;\n",
    "            \n",
    "            if ((k >= m) && (k <= n)) {\n",
    "                ans += curr.size();\n",
    "            }\n",
    "        }\n",
    "        \n",
    "        return ans;\n",
    "    }\n",
    "};"
   ]
  },
  {
   "cell_type": "markdown",
   "metadata": {},
   "source": [
    "## Lessons and Thoughts\n",
    "- Straightforward cached search\n",
    "- Attempt 2 is the same algo, but implemented in C++ TLE."
   ]
  }
 ],
 "metadata": {
  "kernelspec": {
   "display_name": "Python 3 (ipykernel)",
   "language": "python",
   "name": "python3"
  },
  "language_info": {
   "codemirror_mode": {
    "name": "ipython",
    "version": 3
   },
   "file_extension": ".py",
   "mimetype": "text/x-python",
   "name": "python",
   "nbconvert_exporter": "python",
   "pygments_lexer": "ipython3",
   "version": "3.9.7"
  }
 },
 "nbformat": 4,
 "nbformat_minor": 2
}
