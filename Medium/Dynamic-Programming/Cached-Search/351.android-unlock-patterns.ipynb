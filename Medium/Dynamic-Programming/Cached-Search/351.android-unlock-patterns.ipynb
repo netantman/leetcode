{
 "cells": [
  {
   "cell_type": "markdown",
   "metadata": {},
   "source": [
    "## Attempt 1 - Accepted"
   ]
  },
  {
   "cell_type": "code",
   "execution_count": null,
   "metadata": {},
   "outputs": [],
   "source": [
    "class Solution:\n",
    "    def numberOfPatterns(self, m: int, n: int) -> int:\n",
    "        passes = dict()\n",
    "        passes[\"13\"] = \"2\"\n",
    "        passes[\"19\"] = \"5\"\n",
    "        passes[\"17\"] = \"4\"\n",
    "        passes[\"28\"] = \"5\"\n",
    "        passes[\"37\"] = \"5\"\n",
    "        passes[\"39\"] = \"6\"\n",
    "        passes[\"31\"] = \"2\"\n",
    "        passes[\"64\"] = \"5\"\n",
    "        passes[\"93\"] = \"6\"\n",
    "        passes[\"97\"] = \"8\"\n",
    "        passes[\"91\"] = \"5\"\n",
    "        passes[\"82\"] = \"5\"\n",
    "        passes[\"79\"] = \"8\"\n",
    "        passes[\"73\"] = \"5\"\n",
    "        passes[\"71\"] = \"4\"\n",
    "        passes[\"46\"] = \"5\"\n",
    "        res = defaultdict(set)\n",
    "        res[1] = set([\"1\", \"2\", \"3\", \"4\", \"5\", \"6\", \"7\", \"8\", \"9\"])\n",
    "        for cnt in range(2, 10):\n",
    "            prev = res[cnt - 1]\n",
    "            for p in prev:\n",
    "                for c in \"123456789\":\n",
    "                    if c not in p and (p[-1] + c not in passes or passes[p[-1] + c] in p):\n",
    "                        res[cnt].add(p + c)\n",
    "        \n",
    "        return sum([len(res[k]) for k in range(m, n + 1)])"
   ]
  },
  {
   "cell_type": "markdown",
   "metadata": {},
   "source": [
    "## Lessons and Thoughts\n",
    "- Straightforward cached search"
   ]
  }
 ],
 "metadata": {
  "kernelspec": {
   "display_name": "Python 3",
   "language": "python",
   "name": "python3"
  },
  "language_info": {
   "codemirror_mode": {
    "name": "ipython",
    "version": 3
   },
   "file_extension": ".py",
   "mimetype": "text/x-python",
   "name": "python",
   "nbconvert_exporter": "python",
   "pygments_lexer": "ipython3",
   "version": "3.7.3"
  }
 },
 "nbformat": 4,
 "nbformat_minor": 2
}
