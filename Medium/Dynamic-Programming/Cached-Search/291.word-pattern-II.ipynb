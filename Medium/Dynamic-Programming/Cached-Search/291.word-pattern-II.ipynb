{
 "cells": [
  {
   "cell_type": "markdown",
   "metadata": {},
   "source": [
    "## Attempt 1 - Wrong Answer"
   ]
  },
  {
   "cell_type": "code",
   "execution_count": null,
   "metadata": {},
   "outputs": [],
   "source": [
    "class Solution:\n",
    "    def wordPatternMatch(self, pattern: str, s: str) -> bool:\n",
    "        self.record = dict()\n",
    "        def inner(pattern, s):\n",
    "            # print(pattern)\n",
    "            # print(s)\n",
    "            # print(self.record)\n",
    "            if pattern == \"\" and s == \"\":\n",
    "                return True\n",
    "            elif s == \"\" or pattern == \"\":\n",
    "                return False\n",
    "            \n",
    "            head = pattern[0]\n",
    "            if head in self.record:\n",
    "                l = len(self.record[head])\n",
    "                if s[:l] == self.record[head]:\n",
    "                    return inner(pattern[1:], s[l:])\n",
    "                else:\n",
    "                    return False\n",
    "            \n",
    "            L = len(s)\n",
    "            for l in range(L): ## --> should allow p to be the wrong string; also p is not allowed to be empty, but this is not clear from the question\n",
    "                p = s[:l]\n",
    "                if p in self.record.values():\n",
    "                    continue\n",
    "                self.record[head] = p\n",
    "                if inner(pattern[1:], s[l:]):\n",
    "                    return True\n",
    "                else:\n",
    "                    del self.record[head]\n",
    "            \n",
    "            return False\n",
    "        \n",
    "        return inner(pattern, s)"
   ]
  },
  {
   "cell_type": "markdown",
   "metadata": {},
   "source": [
    "## Attempt 2 - Accepted"
   ]
  },
  {
   "cell_type": "code",
   "execution_count": null,
   "metadata": {},
   "outputs": [],
   "source": [
    "class Solution:\n",
    "    def wordPatternMatch(self, pattern: str, s: str) -> bool:\n",
    "        self.record = dict()\n",
    "        def inner(pattern, s):\n",
    "            # print(pattern)\n",
    "            # print(s)\n",
    "            # print(self.record)\n",
    "            if pattern == \"\" and s == \"\":\n",
    "                return True\n",
    "            elif s == \"\" or pattern == \"\":\n",
    "                return False\n",
    "            elif len(pattern) > len(s):\n",
    "                return False\n",
    "            \n",
    "            head = pattern[0]\n",
    "            if head in self.record:\n",
    "                l = len(self.record[head])\n",
    "                if s[:l] == self.record[head]:\n",
    "                    return inner(pattern[1:], s[l:])\n",
    "                else:\n",
    "                    return False\n",
    "            \n",
    "            L = len(s)\n",
    "            for l in range(1, L + 1):\n",
    "                p = s[:l]\n",
    "                if p in self.record.values():\n",
    "                    continue\n",
    "                self.record[head] = p\n",
    "                if inner(pattern[1:], s[l:]):\n",
    "                    return True\n",
    "                else:\n",
    "                    del self.record[head]\n",
    "            \n",
    "            return False\n",
    "        \n",
    "        return inner(pattern, s)"
   ]
  },
  {
   "cell_type": "markdown",
   "metadata": {},
   "source": [
    "## Lessons and Thoughts\n",
    "- Cached search: just remember to remove the record of `head` on the way out."
   ]
  }
 ],
 "metadata": {
  "kernelspec": {
   "display_name": "Python 3",
   "language": "python",
   "name": "python3"
  },
  "language_info": {
   "codemirror_mode": {
    "name": "ipython",
    "version": 3
   },
   "file_extension": ".py",
   "mimetype": "text/x-python",
   "name": "python",
   "nbconvert_exporter": "python",
   "pygments_lexer": "ipython3",
   "version": "3.7.3"
  }
 },
 "nbformat": 4,
 "nbformat_minor": 2
}
