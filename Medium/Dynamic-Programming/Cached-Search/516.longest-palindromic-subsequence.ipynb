{
 "cells": [
  {
   "cell_type": "markdown",
   "metadata": {},
   "source": [
    "## Attempt 1 - Accepted"
   ]
  },
  {
   "cell_type": "code",
   "execution_count": null,
   "metadata": {},
   "outputs": [],
   "source": [
    "class Solution:\n",
    "    def longestPalindromeSubseq(self, s: str) -> int:\n",
    "        L=len(s)\n",
    "        if L==1:\n",
    "            return 1\n",
    "        \n",
    "        dp=[[None for _ in range(L)] for _ in range(L)]\n",
    "        for i in range(L):\n",
    "            dp[i][i]=1\n",
    "            if i+1<L:\n",
    "                dp[i][i+1]=2 if s[i]==s[i+1] else 1\n",
    "        \n",
    "        for gap in range(2,L):\n",
    "            for i in range(L):\n",
    "                if i+gap<L:\n",
    "                    if s[i]==s[i+gap]:\n",
    "                        dp[i][i+gap]=dp[i+1][i+gap-1]+2\n",
    "                    else:\n",
    "                        dp[i][i+gap]=max(dp[i][i+gap-1], dp[i+1][i+gap])\n",
    "        return dp[0][L-1]"
   ]
  },
  {
   "cell_type": "markdown",
   "metadata": {},
   "source": [
    "## Lessons and Thoughts\n",
    "- The accepted algo is from [here](https://www.cnblogs.com/grandyang/p/6493182.html)\n",
    "- When trying to think of DP algo for strings/arrayes, besides one-dimension DP, you can also try to think multi-dimensional."
   ]
  }
 ],
 "metadata": {
  "kernelspec": {
   "display_name": "Python 3",
   "language": "python",
   "name": "python3"
  },
  "language_info": {
   "codemirror_mode": {
    "name": "ipython",
    "version": 3
   },
   "file_extension": ".py",
   "mimetype": "text/x-python",
   "name": "python",
   "nbconvert_exporter": "python",
   "pygments_lexer": "ipython3",
   "version": "3.7.3"
  }
 },
 "nbformat": 4,
 "nbformat_minor": 2
}
