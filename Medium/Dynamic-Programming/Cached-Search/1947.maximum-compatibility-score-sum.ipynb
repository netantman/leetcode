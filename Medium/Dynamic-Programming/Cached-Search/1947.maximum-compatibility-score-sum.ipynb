{
 "cells": [
  {
   "cell_type": "markdown",
   "metadata": {},
   "source": [
    "## Attempt 1 - Accepted"
   ]
  },
  {
   "cell_type": "code",
   "execution_count": null,
   "metadata": {},
   "outputs": [],
   "source": [
    "class Solution:\n",
    "    def maxCompatibilitySum(self, students: List[List[int]], mentors: List[List[int]]) -> int:\n",
    "        self.record = dict()\n",
    "        \n",
    "        def score(student, mentor):\n",
    "            return sum([1 for s, m in zip(student, mentor) if s == m ])\n",
    "        \n",
    "        def inner(students, mentors):\n",
    "            key = tuple([tuple(elem) for elem in students + mentors])\n",
    "            if key in self.record:\n",
    "                return self.record[key]\n",
    "            \n",
    "            L = len(mentors)\n",
    "            \n",
    "            if L == 1:\n",
    "                res = score(students[0], mentors[0])\n",
    "                self.record[key] = res\n",
    "                return res\n",
    "            \n",
    "            s = students[0]\n",
    "            M = -1\n",
    "            for idx in range(L):\n",
    "                m = mentors[idx]\n",
    "                M = max(M, inner([s], [m]) + inner(students[1:], mentors[:idx] + mentors[idx + 1:]))\n",
    "            \n",
    "            self.record[key] = M\n",
    "            return M\n",
    "        \n",
    "        ans = inner(students, mentors)\n",
    "        return ans"
   ]
  },
  {
   "cell_type": "markdown",
   "metadata": {},
   "source": [
    "## Lessons and Thoughts\n",
    "- `python` does not allow hashing `tuple` of unhashable types!"
   ]
  }
 ],
 "metadata": {
  "kernelspec": {
   "display_name": "Python 3",
   "language": "python",
   "name": "python3"
  },
  "language_info": {
   "codemirror_mode": {
    "name": "ipython",
    "version": 3
   },
   "file_extension": ".py",
   "mimetype": "text/x-python",
   "name": "python",
   "nbconvert_exporter": "python",
   "pygments_lexer": "ipython3",
   "version": "3.7.3"
  }
 },
 "nbformat": 4,
 "nbformat_minor": 2
}
