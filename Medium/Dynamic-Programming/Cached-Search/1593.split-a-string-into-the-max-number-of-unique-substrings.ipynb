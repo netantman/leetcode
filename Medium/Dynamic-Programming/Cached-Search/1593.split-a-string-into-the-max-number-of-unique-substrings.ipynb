{
 "cells": [
  {
   "cell_type": "markdown",
   "metadata": {},
   "source": [
    "## Attempt 1 - Wrong Answer"
   ]
  },
  {
   "cell_type": "code",
   "execution_count": null,
   "metadata": {},
   "outputs": [],
   "source": [
    "class Solution:\n",
    "    def maxUniqueSplit(self, s: str) -> int:\n",
    "        res = [{s[0]}]\n",
    "        L = len(s)\n",
    "        for idx in range(1, L):\n",
    "            curr = {s[:idx + 1]}\n",
    "            for j in range(idx):\n",
    "                sub = s[j + 1 : idx + 1]\n",
    "                if (sub not in res[j]) and (len(res[j]) + 1 > len(curr)):\n",
    "                    curr = {elem for elem in res[j]}\n",
    "                    curr.add(sub)\n",
    "            res.append(curr)\n",
    "        return len(res[-1])"
   ]
  },
  {
   "cell_type": "markdown",
   "metadata": {},
   "source": [
    "## Attempt 2 - Accepted"
   ]
  },
  {
   "cell_type": "code",
   "execution_count": null,
   "metadata": {},
   "outputs": [],
   "source": [
    "class Solution:\n",
    "    def maxUniqueSplit(self, s: str) -> int:\n",
    "        res = [ [{s[0]}] ]\n",
    "        L = len(s)\n",
    "        for idx in range(1, L):\n",
    "            curr = [{s[:idx + 1]}]\n",
    "            for j in range(idx):\n",
    "                sub = s[j + 1 : idx + 1]\n",
    "                for prev in res[j]:\n",
    "                    if (sub not in prev):\n",
    "                        copy = {elem for elem in prev}\n",
    "                        copy.add(sub)\n",
    "                        curr.append(copy)\n",
    "            res.append(curr)\n",
    "        return max([len(r) for r in res[-1]])"
   ]
  },
  {
   "cell_type": "markdown",
   "metadata": {},
   "source": [
    "## Lessons and Thoughts\n",
    "- This is a cached search type of question: for previous results we do not just save the longest one."
   ]
  }
 ],
 "metadata": {
  "kernelspec": {
   "display_name": "Python 3",
   "language": "python",
   "name": "python3"
  },
  "language_info": {
   "codemirror_mode": {
    "name": "ipython",
    "version": 3
   },
   "file_extension": ".py",
   "mimetype": "text/x-python",
   "name": "python",
   "nbconvert_exporter": "python",
   "pygments_lexer": "ipython3",
   "version": "3.7.3"
  }
 },
 "nbformat": 4,
 "nbformat_minor": 2
}
