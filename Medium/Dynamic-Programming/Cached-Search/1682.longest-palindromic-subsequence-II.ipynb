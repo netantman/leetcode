{
 "cells": [
  {
   "cell_type": "markdown",
   "metadata": {},
   "source": [
    "## Attempt 1 - Accepted"
   ]
  },
  {
   "cell_type": "code",
   "execution_count": null,
   "metadata": {},
   "outputs": [],
   "source": [
    "class Solution:\n",
    "    def longestPalindromeSubseq(self, s: str) -> int:\n",
    "        n = len(s)\n",
    "        prev = [(0, None)] * n\n",
    "        for i in range(n - 1, -1, -1):\n",
    "            curr = [(0, None)] * n\n",
    "            for j in range(i + 1, n):\n",
    "                if s[i] == s[j] != prev[j - 1][1]:\n",
    "                    curr[j] = (2 + prev[j - 1][0], s[i])\n",
    "                else:\n",
    "                    curr[j] = max(prev[j], curr[j - 1])\n",
    "            prev = curr\n",
    "        \n",
    "        return curr[-1][0]"
   ]
  },
  {
   "cell_type": "markdown",
   "metadata": {},
   "source": [
    "## Lessons and Thoughts\n",
    "- The accepted solution is from leetcode discussion. It records the edge character but does not take into account there could be multiple longest palindromes, with the potential that it may miss later longest palindromes on the outside. So I don't think this is right."
   ]
  }
 ],
 "metadata": {
  "kernelspec": {
   "display_name": "Python 3 (ipykernel)",
   "language": "python",
   "name": "python3"
  },
  "language_info": {
   "codemirror_mode": {
    "name": "ipython",
    "version": 3
   },
   "file_extension": ".py",
   "mimetype": "text/x-python",
   "name": "python",
   "nbconvert_exporter": "python",
   "pygments_lexer": "ipython3",
   "version": "3.9.7"
  }
 },
 "nbformat": 4,
 "nbformat_minor": 2
}
