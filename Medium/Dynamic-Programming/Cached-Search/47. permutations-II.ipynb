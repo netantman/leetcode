{
 "cells": [
  {
   "cell_type": "markdown",
   "metadata": {},
   "source": [
    "## Attempt 1 - Accepted"
   ]
  },
  {
   "cell_type": "code",
   "execution_count": null,
   "metadata": {},
   "outputs": [],
   "source": [
    "class Solution:\n",
    "    def permuteUnique(self, nums: List[int]) -> List[List[int]]:\n",
    "        if len(nums)<1:\n",
    "            return [[]]\n",
    "        if len(nums)==1:\n",
    "            return [nums]\n",
    "        \n",
    "        cache=set()\n",
    "        len_nums=len(nums)\n",
    "        res=[]\n",
    "        for idx in range(len_nums):\n",
    "            elem=nums[idx]\n",
    "            if elem in cache:\n",
    "                continue\n",
    "            else:\n",
    "                cache.add(elem)\n",
    "            reduced=nums[:idx]+nums[idx+1:]\n",
    "            prev=self.permuteUnique(reduced)\n",
    "            res = res+[p+[elem] for p in prev]\n",
    "        return res"
   ]
  },
  {
   "cell_type": "markdown",
   "metadata": {},
   "source": [
    "## Lessons and Thoughts\n",
    "- Use list comprehensions will speed up the implementation"
   ]
  }
 ],
 "metadata": {
  "kernelspec": {
   "display_name": "Python 3",
   "language": "python",
   "name": "python3"
  },
  "language_info": {
   "codemirror_mode": {
    "name": "ipython",
    "version": 3
   },
   "file_extension": ".py",
   "mimetype": "text/x-python",
   "name": "python",
   "nbconvert_exporter": "python",
   "pygments_lexer": "ipython3",
   "version": "3.7.3"
  }
 },
 "nbformat": 4,
 "nbformat_minor": 2
}
