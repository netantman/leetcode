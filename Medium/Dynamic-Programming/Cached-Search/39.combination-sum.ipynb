{
 "cells": [
  {
   "cell_type": "markdown",
   "metadata": {},
   "source": [
    "## Attempt 1 - Try to Iterate NoneType"
   ]
  },
  {
   "cell_type": "code",
   "execution_count": null,
   "metadata": {},
   "outputs": [],
   "source": [
    "class Solution:\n",
    "    def combinationSum(self, candidates: List[int], target: int) -> List[List[int]]:\n",
    "        if target==0:\n",
    "            return [[]]\n",
    "        candidates = [c for c in candidates if c<= target]\n",
    "        if len(candidates)<1:\n",
    "            return None  ## --> this is the reason why it is trying to iterate NoneType\n",
    "        \n",
    "        cache=set()\n",
    "        for c in candidates:\n",
    "            prev=self.combinationSum(candidates, target-c)\n",
    "            for p in prev:\n",
    "                potential=p.append(c)  ## --> this changes the origin list p!\n",
    "                potential=tuple(sorted(potential))\n",
    "                if potential not in cache:\n",
    "                    cache.add(potential)\n",
    "        \n",
    "        res=[list(sol) for sol in cache]\n",
    "        return res"
   ]
  },
  {
   "cell_type": "markdown",
   "metadata": {},
   "source": [
    "## Attempt 2 - Accepted"
   ]
  },
  {
   "cell_type": "code",
   "execution_count": null,
   "metadata": {},
   "outputs": [],
   "source": [
    "class Solution:\n",
    "    def combinationSum(self, candidates: List[int], target: int) -> List[List[int]]:\n",
    "        if target==0:\n",
    "            return [[]]\n",
    "        candidates = [c for c in candidates if c<= target]\n",
    "        if len(candidates)<1:\n",
    "            return []\n",
    "        \n",
    "        cache=set()\n",
    "        for c in candidates:\n",
    "            prev=self.combinationSum(candidates, target-c)\n",
    "            for p in prev:\n",
    "                potential=p+[c]\n",
    "                potential=tuple(sorted(potential))\n",
    "                if potential not in cache:\n",
    "                    cache.add(potential)\n",
    "        \n",
    "        res=[list(sol) for sol in cache]\n",
    "        return res\n",
    "       "
   ]
  },
  {
   "cell_type": "markdown",
   "metadata": {},
   "source": [
    "## Lessons and Thoughts\n",
    "- Be careful when using `append` on `list`s, since it changes the original object.\n",
    "- For `None`type, it will not simply do not iterate; it will try to iterate then throws."
   ]
  }
 ],
 "metadata": {
  "kernelspec": {
   "display_name": "Python 3",
   "language": "python",
   "name": "python3"
  },
  "language_info": {
   "codemirror_mode": {
    "name": "ipython",
    "version": 3
   },
   "file_extension": ".py",
   "mimetype": "text/x-python",
   "name": "python",
   "nbconvert_exporter": "python",
   "pygments_lexer": "ipython3",
   "version": "3.7.3"
  }
 },
 "nbformat": 4,
 "nbformat_minor": 2
}
