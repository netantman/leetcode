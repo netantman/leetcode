{
 "cells": [
  {
   "cell_type": "markdown",
   "metadata": {},
   "source": [
    "## Attempt 1 - Memory Limit Exceeded"
   ]
  },
  {
   "cell_type": "code",
   "execution_count": null,
   "metadata": {},
   "outputs": [],
   "source": [
    "class Solution:\n",
    "    def maxSumAfterOperation(self, nums: List[int]) -> int:\n",
    "        dp = [set([tuple([nums[0], nums[0]])])]\n",
    "        for n in nums[1:]:\n",
    "            to_add = set([tuple([n, n])])\n",
    "            for d in dp[-1]:\n",
    "                s, root = d\n",
    "                if root * root > n * n:\n",
    "                    to_add.add(tuple([s + n, root]))\n",
    "                elif root * root == n * n and root < 0:\n",
    "                    to_add.add(tuple([s + n, root]))\n",
    "                else:\n",
    "                    to_add.add(tuple([s + n, n]))\n",
    "            dp.append(to_add)\n",
    "        \n",
    "        res = float('-inf')\n",
    "        for d in dp:\n",
    "            for t in d:\n",
    "                res = max(res, t[0] - t[1] + t[1] * t[1])\n",
    "        return res"
   ]
  },
  {
   "cell_type": "markdown",
   "metadata": {},
   "source": [
    "## Attempt 2 - Time Limit Exceeded"
   ]
  },
  {
   "cell_type": "code",
   "execution_count": null,
   "metadata": {},
   "outputs": [],
   "source": [
    "class Solution:\n",
    "    def maxSumAfterOperation(self, nums: List[int]) -> int:\n",
    "        res = nums[0] * nums[0]\n",
    "        curr = set([tuple([nums[0], nums[0]])])\n",
    "        for n in nums[1:]:\n",
    "            nexxt = set([tuple([n, n])])\n",
    "            for d in curr:\n",
    "                s, root = d\n",
    "                if root * root > n * n:\n",
    "                    nexxt.add(tuple([s + n, root]))\n",
    "                elif root * root == n * n and root < 0:\n",
    "                    nexxt.add(tuple([s + n, root]))\n",
    "                else:\n",
    "                    nexxt.add(tuple([s + n, n]))\n",
    "            for t in nexxt:\n",
    "                res = max(res, t[0] - t[1] + t[1] * t[1])\n",
    "            curr = nexxt \n",
    "                \n",
    "        return res"
   ]
  },
  {
   "cell_type": "markdown",
   "metadata": {},
   "source": [
    "## Attempt 3 - Accepted"
   ]
  },
  {
   "cell_type": "code",
   "execution_count": null,
   "metadata": {},
   "outputs": [],
   "source": [
    "class Solution:\n",
    "    def maxSumAfterOperation(self, nums: List[int]) -> int:\n",
    "        simple = [nums[0]]\n",
    "        square = [nums[0] * nums[0]]\n",
    "        \n",
    "        for n in nums[1:]:\n",
    "            square.append(max(n * n, simple[-1] + n * n, square[-1] + n))\n",
    "            simple.append(max(n, n + simple[-1]))\n",
    "        \n",
    "        # print(square)\n",
    "        # print(simple)\n",
    "        \n",
    "        return max(square)"
   ]
  },
  {
   "cell_type": "markdown",
   "metadata": {},
   "source": [
    "## Lessons and Thoughts\n",
    "- The edge case is when the new element has the square the same as the old max, then you need to pick the one that is negative.\n",
    "- The accepted solution is inspired from leetcode discussion; it is better dp. If you are operating on a list of multiple elements in dp, consider making it separate lists."
   ]
  }
 ],
 "metadata": {
  "kernelspec": {
   "display_name": "Python 3",
   "language": "python",
   "name": "python3"
  },
  "language_info": {
   "codemirror_mode": {
    "name": "ipython",
    "version": 3
   },
   "file_extension": ".py",
   "mimetype": "text/x-python",
   "name": "python",
   "nbconvert_exporter": "python",
   "pygments_lexer": "ipython3",
   "version": "3.7.3"
  }
 },
 "nbformat": 4,
 "nbformat_minor": 2
}
