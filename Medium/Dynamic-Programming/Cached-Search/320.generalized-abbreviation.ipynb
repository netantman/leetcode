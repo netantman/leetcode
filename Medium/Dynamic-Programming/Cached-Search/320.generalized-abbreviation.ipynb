{
 "cells": [
  {
   "cell_type": "markdown",
   "metadata": {},
   "source": [
    "## Attempt 1 - Accepted"
   ]
  },
  {
   "cell_type": "code",
   "execution_count": null,
   "metadata": {},
   "outputs": [],
   "source": [
    "class Solution:\n",
    "    def generateAbbreviations(self, word: str) -> List[str]:\n",
    "        alphas = [word[0]]\n",
    "        nums = [(\"1\", 1)]\n",
    "        \n",
    "        L = len(word)\n",
    "        for idx in range(1, L):\n",
    "            c = word[idx]\n",
    "            alphas, nums = [a + c for a in alphas] + [n[0] + c for n in nums], [(a + \"1\", 1) for a in alphas] + [(n[0][:-len(str(n[1]))] + str(n[1] + 1), n[1] + 1) for n in nums]\n",
    "        \n",
    "        return alphas + [n[0] for n in nums]"
   ]
  },
  {
   "cell_type": "markdown",
   "metadata": {},
   "source": [
    "## Attempt 2 - Accepted"
   ]
  },
  {
   "cell_type": "code",
   "execution_count": null,
   "metadata": {},
   "outputs": [],
   "source": [
    "class Solution {\n",
    "public:\n",
    "    unordered_set<char> numbers = {'1', '2', '3', '4', '5', '6', '7', '8', '9'};\n",
    "    vector<string> generateAbbreviations(string word) {\n",
    "        \n",
    "        \n",
    "        int L = word.size();\n",
    "        if (L == 0) {\n",
    "            vector<string> res = {\"\"};\n",
    "            return res;\n",
    "        }\n",
    "        set<string> res = {word};\n",
    "        for (int idx=1; idx<L + 1; idx++) {\n",
    "            vector<string> post = generateAbbreviations(word.substr(idx, L - idx));\n",
    "            for (string p : post) {\n",
    "                if ((p.size() == 0) || (this->numbers.find(p[0]) == this->numbers.end())) {\n",
    "                    res.insert(to_string(idx) + p);    \n",
    "                }\n",
    "                res.insert(word.substr(0, idx) + p);\n",
    "            }\n",
    "        }\n",
    "        vector<string> ans = {};\n",
    "        for(string s : res) {\n",
    "            ans.push_back(s);\n",
    "        }\n",
    "        return ans;\n",
    "    }\n",
    "};"
   ]
  },
  {
   "cell_type": "markdown",
   "metadata": {},
   "source": [
    "## Lessons and Thoughts\n",
    "- So a single letter cannot be abbreviated as \"1\" if there is a neighboring abbreviation."
   ]
  }
 ],
 "metadata": {
  "kernelspec": {
   "display_name": "Python 3",
   "language": "python",
   "name": "python3"
  },
  "language_info": {
   "codemirror_mode": {
    "name": "ipython",
    "version": 3
   },
   "file_extension": ".py",
   "mimetype": "text/x-python",
   "name": "python",
   "nbconvert_exporter": "python",
   "pygments_lexer": "ipython3",
   "version": "3.6.5"
  }
 },
 "nbformat": 4,
 "nbformat_minor": 2
}
