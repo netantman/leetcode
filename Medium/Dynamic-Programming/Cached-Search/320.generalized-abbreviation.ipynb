{
 "cells": [
  {
   "cell_type": "markdown",
   "metadata": {},
   "source": [
    "## Attempt 1 - Accepted"
   ]
  },
  {
   "cell_type": "code",
   "execution_count": null,
   "metadata": {},
   "outputs": [],
   "source": [
    "class Solution:\n",
    "    def generateAbbreviations(self, word: str) -> List[str]:\n",
    "        alphas = [word[0]]\n",
    "        nums = [(\"1\", 1)]\n",
    "        \n",
    "        L = len(word)\n",
    "        for idx in range(1, L):\n",
    "            c = word[idx]\n",
    "            alphas, nums = [a + c for a in alphas] + [n[0] + c for n in nums], [(a + \"1\", 1) for a in alphas] + [(n[0][:-len(str(n[1]))] + str(n[1] + 1), n[1] + 1) for n in nums]\n",
    "        \n",
    "        return alphas + [n[0] for n in nums]"
   ]
  },
  {
   "cell_type": "markdown",
   "metadata": {},
   "source": [
    "## Lessons and Thoughts\n",
    "- So a single letter cannot be abbreviated as \"1\" if there is a neighboring abbreviation."
   ]
  }
 ],
 "metadata": {
  "kernelspec": {
   "display_name": "Python 3",
   "language": "python",
   "name": "python3"
  },
  "language_info": {
   "codemirror_mode": {
    "name": "ipython",
    "version": 3
   },
   "file_extension": ".py",
   "mimetype": "text/x-python",
   "name": "python",
   "nbconvert_exporter": "python",
   "pygments_lexer": "ipython3",
   "version": "3.7.3"
  }
 },
 "nbformat": 4,
 "nbformat_minor": 2
}
