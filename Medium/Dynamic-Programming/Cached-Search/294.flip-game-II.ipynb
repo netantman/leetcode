{
 "cells": [
  {
   "cell_type": "markdown",
   "metadata": {},
   "source": [
    "## Attempt 1 - Accepted"
   ]
  },
  {
   "cell_type": "code",
   "execution_count": null,
   "metadata": {},
   "outputs": [],
   "source": [
    "class Solution:\n",
    "    def canWin(self, currentState: str) -> bool:\n",
    "        self.record = dict()\n",
    "        L = len(currentState)\n",
    "        def inner(curr):\n",
    "            if curr in self.record:\n",
    "                return self.record[curr]\n",
    "            \n",
    "            for idx in range(L - 1):\n",
    "                if curr[idx] == \"+\" and curr[idx + 1] == \"+\":\n",
    "                    nexxt = [c for c in curr]\n",
    "                    nexxt[idx], nexxt[idx + 1] = \"-\", \"-\"\n",
    "                    if not inner(\"\".join(nexxt)):\n",
    "                        self.record[curr] = True\n",
    "                        return True\n",
    "            self.record[curr] = False\n",
    "            return False\n",
    "        \n",
    "        return inner(currentState)"
   ]
  },
  {
   "cell_type": "markdown",
   "metadata": {},
   "source": [
    "## Attempt 2 - Accepted"
   ]
  },
  {
   "cell_type": "code",
   "execution_count": null,
   "metadata": {},
   "outputs": [],
   "source": [
    "class Solution:\n",
    "    def canWin(self, currentState: str) -> bool:\n",
    "        L = len(currentState)\n",
    "        \n",
    "        for idx in range(L - 1):\n",
    "            if currentState[idx : idx + 2] == \"++\":\n",
    "                newState = [c for c in currentState]\n",
    "                newState[idx] = \"-\"\n",
    "                newState[idx + 1] = \"-\"\n",
    "                newState = \"\".join(newState)\n",
    "                if not self.canWin(newState):\n",
    "                    return True\n",
    "            \n",
    "        return False"
   ]
  },
  {
   "cell_type": "markdown",
   "metadata": {},
   "source": [
    "## Attempt 3 - Accepted"
   ]
  },
  {
   "cell_type": "code",
   "execution_count": null,
   "metadata": {},
   "outputs": [],
   "source": [
    "class Solution {\n",
    "public:\n",
    "    bool canWin(string currentState) {\n",
    "        int L = currentState.size();\n",
    "        \n",
    "        for (int idx=0; idx<L-1; idx++) {\n",
    "            if ((currentState[idx] == '+') && (currentState[idx + 1] == '+')) {\n",
    "                string newState = currentState;\n",
    "                newState[idx] = '-';\n",
    "                newState[idx + 1] = '-';\n",
    "                if (!canWin(newState)) {\n",
    "                    return true;\n",
    "                }\n",
    "            }\n",
    "        }\n",
    "        return false;\n",
    "    }\n",
    "};"
   ]
  },
  {
   "cell_type": "markdown",
   "metadata": {},
   "source": [
    "## Lessons and Thoughts\n",
    "- Straightforward cached search\n",
    "- As long as you opponent has one `False`, you are `True`."
   ]
  }
 ],
 "metadata": {
  "kernelspec": {
   "display_name": "Python 3",
   "language": "python",
   "name": "python3"
  },
  "language_info": {
   "codemirror_mode": {
    "name": "ipython",
    "version": 3
   },
   "file_extension": ".py",
   "mimetype": "text/x-python",
   "name": "python",
   "nbconvert_exporter": "python",
   "pygments_lexer": "ipython3",
   "version": "3.6.5"
  }
 },
 "nbformat": 4,
 "nbformat_minor": 2
}
