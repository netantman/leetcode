{
 "cells": [
  {
   "cell_type": "markdown",
   "metadata": {},
   "source": [
    "## Attempt 1 - Accepted"
   ]
  },
  {
   "cell_type": "code",
   "execution_count": null,
   "metadata": {},
   "outputs": [],
   "source": [
    "class Solution:\n",
    "    def canWin(self, currentState: str) -> bool:\n",
    "        self.record = dict()\n",
    "        L = len(currentState)\n",
    "        def inner(curr):\n",
    "            if curr in self.record:\n",
    "                return self.record[curr]\n",
    "            \n",
    "            for idx in range(L - 1):\n",
    "                if curr[idx] == \"+\" and curr[idx + 1] == \"+\":\n",
    "                    nexxt = [c for c in curr]\n",
    "                    nexxt[idx], nexxt[idx + 1] = \"-\", \"-\"\n",
    "                    if not inner(\"\".join(nexxt)):\n",
    "                        self.record[curr] = True\n",
    "                        return True\n",
    "            self.record[curr] = False\n",
    "            return False\n",
    "        \n",
    "        return inner(currentState)"
   ]
  },
  {
   "cell_type": "markdown",
   "metadata": {},
   "source": [
    "## Lessons and Thoughts\n",
    "- Straightforward cached search\n",
    "- As long as you opponent has one `False`, you are `True`."
   ]
  }
 ],
 "metadata": {
  "kernelspec": {
   "display_name": "Python 3",
   "language": "python",
   "name": "python3"
  },
  "language_info": {
   "codemirror_mode": {
    "name": "ipython",
    "version": 3
   },
   "file_extension": ".py",
   "mimetype": "text/x-python",
   "name": "python",
   "nbconvert_exporter": "python",
   "pygments_lexer": "ipython3",
   "version": "3.7.3"
  }
 },
 "nbformat": 4,
 "nbformat_minor": 2
}
