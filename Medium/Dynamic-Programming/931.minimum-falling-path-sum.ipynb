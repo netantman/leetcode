{
 "cells": [
  {
   "cell_type": "markdown",
   "metadata": {},
   "source": [
    "## Attempt 1 - Accepted"
   ]
  },
  {
   "cell_type": "code",
   "execution_count": null,
   "metadata": {},
   "outputs": [],
   "source": [
    "class Solution:\n",
    "    def minFallingPathSum(self, A: List[List[int]]) -> int:\n",
    "        L=len(A)\n",
    "        if L==1:\n",
    "            return A[0][0]\n",
    "        dp=A[-1]\n",
    "        last=[None for _ in range(L)]\n",
    "        for r in range(L-2,-1,-1):\n",
    "            for c in range(L):\n",
    "                last[c]=A[r][c]\n",
    "                s=dp[c]\n",
    "                if c-1>=0:\n",
    "                    s=min(s,dp[c-1])\n",
    "                if c+1<L:\n",
    "                    s=min(s,dp[c+1])\n",
    "                last[c]+=s\n",
    "            dp=last[:] ## --> should be careful copying lists!\n",
    "        return min(dp)"
   ]
  },
  {
   "cell_type": "markdown",
   "metadata": {},
   "source": [
    "## Lessons and Thoughts\n",
    "- Straightforward DP. Just tripped over list copy."
   ]
  }
 ],
 "metadata": {
  "kernelspec": {
   "display_name": "Python 3",
   "language": "python",
   "name": "python3"
  },
  "language_info": {
   "codemirror_mode": {
    "name": "ipython",
    "version": 3
   },
   "file_extension": ".py",
   "mimetype": "text/x-python",
   "name": "python",
   "nbconvert_exporter": "python",
   "pygments_lexer": "ipython3",
   "version": "3.7.3"
  }
 },
 "nbformat": 4,
 "nbformat_minor": 2
}
