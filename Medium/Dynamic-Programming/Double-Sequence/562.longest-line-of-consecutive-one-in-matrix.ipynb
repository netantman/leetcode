{
 "cells": [
  {
   "cell_type": "markdown",
   "metadata": {},
   "source": [
    "## Attempt 1 - Accepted"
   ]
  },
  {
   "cell_type": "code",
   "execution_count": null,
   "metadata": {},
   "outputs": [],
   "source": [
    "class Solution:\n",
    "    def longestLine(self, mat: List[List[int]]) -> int:\n",
    "        R, C = len(mat), len(mat[0])\n",
    "        horizontal = [[0 for c in range(C)] for r in range(R)]\n",
    "        vertical = [[0 for c in range(C)] for r in range(R)]\n",
    "        diagonal = [[0 for c in range(C)] for r in range(R)]\n",
    "        anti_diagonal = [[0 for c in range(C)] for r in range(R)]\n",
    "        \n",
    "        for r in range(R):\n",
    "            for c in range(C):\n",
    "                if mat[r][c] == 0:\n",
    "                    continue\n",
    "                if c - 1 < 0:\n",
    "                    horizontal[r][c] = 1\n",
    "                    continue\n",
    "                horizontal[r][c] = horizontal[r][c - 1] + 1\n",
    "        \n",
    "        for r in range(R):\n",
    "            for c in range(C):\n",
    "                if mat[r][c] == 0:\n",
    "                    continue\n",
    "                if r - 1 < 0:\n",
    "                    vertical[r][c] = 1\n",
    "                    continue\n",
    "                vertical[r][c] = vertical[r - 1][c] + 1\n",
    "\n",
    "        for r in range(R):\n",
    "            for c in range(C):\n",
    "                if mat[r][c] == 0:\n",
    "                    continue\n",
    "                if c - 1 < 0 or r - 1 < 0:\n",
    "                    diagonal[r][c] = 1\n",
    "                    continue\n",
    "                diagonal[r][c] = diagonal[r - 1][c - 1] + 1\n",
    "\n",
    "        for r in range(R):\n",
    "            for c in range(C):\n",
    "                if mat[r][c] == 0:\n",
    "                    continue\n",
    "                if c + 1 >= C or r - 1 < 0:\n",
    "                    anti_diagonal[r][c] = 1\n",
    "                    continue\n",
    "                anti_diagonal[r][c] = anti_diagonal[r - 1][c + 1] + 1\n",
    "        \n",
    "        res = 0\n",
    "        for r in range(R):\n",
    "            for c in range(C):\n",
    "                res = max(res, horizontal[r][c], vertical[r][c], diagonal[r][c], anti_diagonal[r][c])\n",
    "        \n",
    "        return res"
   ]
  },
  {
   "cell_type": "markdown",
   "metadata": {},
   "source": [
    "## Lessons and Thoughts\n",
    "- Not sure about the difference between 'Double-Sequence' and 'Coordinate' any more."
   ]
  }
 ],
 "metadata": {
  "kernelspec": {
   "display_name": "Python 3",
   "language": "python",
   "name": "python3"
  },
  "language_info": {
   "codemirror_mode": {
    "name": "ipython",
    "version": 3
   },
   "file_extension": ".py",
   "mimetype": "text/x-python",
   "name": "python",
   "nbconvert_exporter": "python",
   "pygments_lexer": "ipython3",
   "version": "3.7.3"
  }
 },
 "nbformat": 4,
 "nbformat_minor": 2
}
