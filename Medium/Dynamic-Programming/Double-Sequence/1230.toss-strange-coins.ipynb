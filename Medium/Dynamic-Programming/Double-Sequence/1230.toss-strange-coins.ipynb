{
 "cells": [
  {
   "cell_type": "markdown",
   "metadata": {},
   "source": [
    "## Attempt 1 - Time Limit Exceeded"
   ]
  },
  {
   "cell_type": "code",
   "execution_count": null,
   "metadata": {},
   "outputs": [],
   "source": [
    "class Solution:\n",
    "    def probabilityOfHeads(self, prob: List[float], target: int) -> float:\n",
    "        if target < 1:\n",
    "            return math.prod([1 - p for p in prob])\n",
    "        \n",
    "        n, k = len(prob), target\n",
    "        curr = [([], 0)]\n",
    "        \n",
    "        for _ in range(n):\n",
    "            nexxt = []\n",
    "            for c in curr:\n",
    "                mask, cnt = c\n",
    "                new_mask = [m for m in mask] + [False]\n",
    "                nexxt.append((new_mask, cnt))\n",
    "                if cnt + 1 <= k:\n",
    "                    new_mask = [m for m in mask] + [True]\n",
    "                    nexxt.append((new_mask, cnt + 1))\n",
    "            curr = nexxt\n",
    "        \n",
    "        masks = [c[0] for c in curr if c[1] == k]\n",
    "        res = 0\n",
    "        for mask in masks:\n",
    "            p = 1\n",
    "            for idx, m in enumerate(mask):\n",
    "                p *= prob[idx] if m else (1 - prob[idx])\n",
    "            res += p\n",
    "        \n",
    "        return res"
   ]
  },
  {
   "cell_type": "markdown",
   "metadata": {},
   "source": [
    "## Attempt 2 - Accepted"
   ]
  },
  {
   "cell_type": "code",
   "execution_count": null,
   "metadata": {},
   "outputs": [],
   "source": [
    "class Solution:\n",
    "    def probabilityOfHeads(self, prob: List[float], target: int) -> float:\n",
    "        n, k = len(prob), target\n",
    "        dp = [[None for c in range(n + 1)] for r in range(k + 1)]\n",
    "        \n",
    "        dp[0][0] = 1.0\n",
    "        for c in range(1, n + 1):\n",
    "            dp[0][c] = dp[0][c - 1] * (1 - prob[c - 1])\n",
    "            \n",
    "        for r in range(1, k + 1):\n",
    "            dp[r][r] = dp[r - 1][r - 1] * prob[r - 1]\n",
    "            \n",
    "        for c in range(1, n + 1):\n",
    "            for r in range(1, k + 1):\n",
    "                if r >= c:\n",
    "                    continue\n",
    "                dp[r][c] = dp[r][c - 1] * (1 - prob[c - 1]) + dp[r - 1][c - 1] * prob[c - 1]\n",
    "        \n",
    "        return dp[k][n]"
   ]
  },
  {
   "cell_type": "markdown",
   "metadata": {},
   "source": [
    "## Lessons and Thoughts\n",
    "- Your gut feeling about using the recursion of n-choose-k is on the right track. But you should not use it to come up with the mask."
   ]
  }
 ],
 "metadata": {
  "kernelspec": {
   "display_name": "Python 3",
   "language": "python",
   "name": "python3"
  },
  "language_info": {
   "codemirror_mode": {
    "name": "ipython",
    "version": 3
   },
   "file_extension": ".py",
   "mimetype": "text/x-python",
   "name": "python",
   "nbconvert_exporter": "python",
   "pygments_lexer": "ipython3",
   "version": "3.7.3"
  }
 },
 "nbformat": 4,
 "nbformat_minor": 2
}
