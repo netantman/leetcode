{
 "cells": [
  {
   "cell_type": "markdown",
   "metadata": {},
   "source": [
    "## Idea\n",
    "\n",
    "- **state**: `f[i][j]` the first `i` characters/numbers of the first sequence and the first `j` characters/numbers in the second sequence (the two sequences can be the same)\n",
    "- **function**: `f[i][j] = function of f[<i][<j]` together with relation between the `i`-th element of the first sequence and the `j`-th element of the second sequence.\n",
    "- **initialize**: `f[i][0]` and `f[0][i]`\n",
    "- **answer**: `f[n][m]`"
   ]
  },
  {
   "cell_type": "markdown",
   "metadata": {},
   "source": [
    "## Traps\n",
    "- It may be hard to come up with a good iteration when it is two-dimension - try to see in the problem whether there is some common resolution.\n",
    "- Sometimes the problem itself does not lend itself to obvious two-dimension formulation. For instance, the two dimension could come from the two pointers/positions from the two input array.\n",
    "- It is hard to not get index-out-of-range of key error: need to be careful."
   ]
  }
 ],
 "metadata": {
  "kernelspec": {
   "display_name": "Python 3 (ipykernel)",
   "language": "python",
   "name": "python3"
  },
  "language_info": {
   "codemirror_mode": {
    "name": "ipython",
    "version": 3
   },
   "file_extension": ".py",
   "mimetype": "text/x-python",
   "name": "python",
   "nbconvert_exporter": "python",
   "pygments_lexer": "ipython3",
   "version": "3.9.7"
  }
 },
 "nbformat": 4,
 "nbformat_minor": 2
}
