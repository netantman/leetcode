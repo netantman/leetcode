{
 "cells": [
  {
   "cell_type": "markdown",
   "metadata": {},
   "source": [
    "## Attempt 1 - Accepted"
   ]
  },
  {
   "cell_type": "code",
   "execution_count": null,
   "metadata": {},
   "outputs": [],
   "source": [
    "class Solution:\n",
    "    def stoneGameII(self, piles: List[int]) -> int:\n",
    "        L=len(piles)\n",
    "        dp=dict()\n",
    "        for M in range(1,L+1):\n",
    "            dp[L,M]=0\n",
    "        for idx in range(L-1,-1,-1):\n",
    "            for M in range(1,L+1):\n",
    "                dp[idx, M]=-float('inf')\n",
    "                for x in range(1,min(2*M+1, L+1-idx)):\n",
    "                    dp[idx,M]=max(dp[idx,M], sum(piles[idx:])-dp[idx+x, min(max(M,x),L)])\n",
    "        return dp[0,1]"
   ]
  },
  {
   "cell_type": "markdown",
   "metadata": {},
   "source": [
    "## Lessons and Thoughts\n",
    "- Double sequence DP.\n",
    "- I find that using `dict` to cache DP is somehow easier to think about."
   ]
  }
 ],
 "metadata": {
  "kernelspec": {
   "display_name": "Python 3",
   "language": "python",
   "name": "python3"
  },
  "language_info": {
   "codemirror_mode": {
    "name": "ipython",
    "version": 3
   },
   "file_extension": ".py",
   "mimetype": "text/x-python",
   "name": "python",
   "nbconvert_exporter": "python",
   "pygments_lexer": "ipython3",
   "version": "3.7.3"
  }
 },
 "nbformat": 4,
 "nbformat_minor": 2
}
