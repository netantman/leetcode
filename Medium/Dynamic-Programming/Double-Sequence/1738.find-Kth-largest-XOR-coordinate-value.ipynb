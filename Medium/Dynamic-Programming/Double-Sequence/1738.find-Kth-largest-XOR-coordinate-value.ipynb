{
 "cells": [
  {
   "cell_type": "markdown",
   "metadata": {},
   "source": [
    "## Attempt 1 - Accepted"
   ]
  },
  {
   "cell_type": "code",
   "execution_count": null,
   "metadata": {},
   "outputs": [],
   "source": [
    "class Solution:\n",
    "    def kthLargestValue(self, matrix: List[List[int]], k: int) -> int:\n",
    "        M, N = len(matrix), len(matrix[0])\n",
    "        res = [[None for _ in range(N)] for _ in range(M)]\n",
    "        res[0][0] = matrix[0][0]\n",
    "        tmp = [matrix[0][0]]\n",
    "        for n in range(1, N):\n",
    "            res[0][n] = matrix[0][n] ^ res[0][n - 1]\n",
    "            tmp.append(res[0][n])\n",
    "        for m in range(1, M):\n",
    "            res[m][0] = matrix[m][0] ^ res[m - 1][0]\n",
    "            tmp.append(res[m][0])\n",
    "        for m in range(1, M):\n",
    "            for n in range(1, N):\n",
    "                res[m][n] = res[m - 1][n] ^ res[m][n - 1] ^ res[m - 1][n - 1] ^ matrix[m][n]\n",
    "                tmp.append(res[m][n])\n",
    "        \n",
    "        return heapq.nlargest(k, tmp)[-1]"
   ]
  },
  {
   "cell_type": "markdown",
   "metadata": {},
   "source": [
    "## Lessons and Thoughts\n",
    "- Straightforward double-sequence DP."
   ]
  }
 ],
 "metadata": {
  "kernelspec": {
   "display_name": "Python 3",
   "language": "python",
   "name": "python3"
  },
  "language_info": {
   "codemirror_mode": {
    "name": "ipython",
    "version": 3
   },
   "file_extension": ".py",
   "mimetype": "text/x-python",
   "name": "python",
   "nbconvert_exporter": "python",
   "pygments_lexer": "ipython3",
   "version": "3.7.3"
  }
 },
 "nbformat": 4,
 "nbformat_minor": 2
}
