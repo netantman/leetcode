{
 "cells": [
  {
   "cell_type": "markdown",
   "metadata": {},
   "source": [
    "## Attempt 1 - Wrong Answer"
   ]
  },
  {
   "cell_type": "code",
   "execution_count": null,
   "metadata": {},
   "outputs": [],
   "source": [
    "class Solution:\n",
    "    def new21Game(self, N: int, K: int, W: int) -> float:\n",
    "        dp=[[0.0 for _ in range(N+1)] for _ in range(K+1)] ## --> did not handle the case where K and N are 0.0\n",
    "        def access(r,c):\n",
    "            if r>0:\n",
    "                return dp[r][c]\n",
    "            elif c>=0:\n",
    "                return 1.0\n",
    "            else:\n",
    "                return 0.0\n",
    "            \n",
    "        for k in range(K+1):\n",
    "            for n in range(N+1):\n",
    "                if n<k:\n",
    "                    continue\n",
    "                dp[k][n]=(1.0/W)*sum([access(k-w,n-w) for w in range(1,W+1)])\n",
    "        return dp[K][N]"
   ]
  },
  {
   "cell_type": "markdown",
   "metadata": {},
   "source": [
    "## Attempt 2 - Time Limit Exceeded"
   ]
  },
  {
   "cell_type": "code",
   "execution_count": null,
   "metadata": {},
   "outputs": [],
   "source": [
    "class Solution:\n",
    "    def new21Game(self, N: int, K: int, W: int) -> float:\n",
    "        if N<1:\n",
    "            return 1.0\n",
    "        elif K<1:\n",
    "            return 1.0\n",
    "        dp=[[0.0 for _ in range(N+1)] for _ in range(K+1)]\n",
    "        def access(r,c):\n",
    "            if r>0:\n",
    "                return dp[r][c]\n",
    "            elif c>=0:\n",
    "                return 1.0\n",
    "            else:\n",
    "                return 0.0\n",
    "            \n",
    "        for k in range(K+1):\n",
    "            for n in range(N+1):\n",
    "                if n<k:\n",
    "                    continue\n",
    "                dp[k][n]=(1.0/W)*sum([access(k-w,n-w) for w in range(1,W+1)])\n",
    "        return dp[K][N]"
   ]
  },
  {
   "cell_type": "markdown",
   "metadata": {},
   "source": [
    "## Attempt 3 - Accepted"
   ]
  },
  {
   "cell_type": "code",
   "execution_count": null,
   "metadata": {},
   "outputs": [],
   "source": [
    "class Solution:\n",
    "    def new21Game(self, N: int, K: int, W: int) -> float:\n",
    "        if K == 0:\n",
    "            return 1.0\n",
    "        dp = [0.0] * (K + W)\n",
    "        for i in range(K, min(N, K + W - 1) + 1):\n",
    "            dp[i] = 1.0\n",
    "        dp[K - 1] = float(min(N - K + 1, W)) / W\n",
    "        for i in range(K - 2, -1, -1):\n",
    "            dp[i] = dp[i + 1] - (dp[i + W + 1] - dp[i + 1]) / W\n",
    "        return dp[0]"
   ]
  },
  {
   "cell_type": "markdown",
   "metadata": {},
   "source": [
    "## Lessons and Thoughts\n",
    "- It is actually a one-dimensional DP: your solution has two loops and thus TLE. The accepted solution has a further optimization on top."
   ]
  }
 ],
 "metadata": {
  "kernelspec": {
   "display_name": "Python 3",
   "language": "python",
   "name": "python3"
  },
  "language_info": {
   "codemirror_mode": {
    "name": "ipython",
    "version": 3
   },
   "file_extension": ".py",
   "mimetype": "text/x-python",
   "name": "python",
   "nbconvert_exporter": "python",
   "pygments_lexer": "ipython3",
   "version": "3.7.3"
  }
 },
 "nbformat": 4,
 "nbformat_minor": 2
}
