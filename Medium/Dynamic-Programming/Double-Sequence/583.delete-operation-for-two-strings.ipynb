{
 "cells": [
  {
   "cell_type": "markdown",
   "metadata": {},
   "source": [
    "## Attempt 1 - Wrong Answer"
   ]
  },
  {
   "cell_type": "code",
   "execution_count": null,
   "metadata": {},
   "outputs": [],
   "source": [
    "class Solution:\n",
    "    def minDistance(self, word1: str, word2: str) -> int:\n",
    "        if word1==\"\" or word2==\"\":\n",
    "            return max(len(word1), len(word2))\n",
    "        \n",
    "        d1=[0 for _ in range(26)]\n",
    "        d2=[0 for _ in range(26)]\n",
    "        \n",
    "        for c in word1:\n",
    "            d1[ord(c)-ord(\"a\")]+=1\n",
    "        for c in word2:\n",
    "            d2[ord(c)-ord(\"a\")]+=1\n",
    "        \n",
    "        d=[min(d1[idx], d2[idx]) for idx in range(26)]\n",
    "        \n",
    "        res=0\n",
    "        for idx in range(26):\n",
    "            res+=d1[idx]-d[idx]\n",
    "            res+=d2[idx]-d[idx]\n",
    "        \n",
    "        ## --> it is not enough to leave a permutation of strings.\n",
    "        \n",
    "        return res"
   ]
  },
  {
   "cell_type": "markdown",
   "metadata": {},
   "source": [
    "## Attempt 2 - Time Limit Exceeded"
   ]
  },
  {
   "cell_type": "markdown",
   "metadata": {},
   "source": [
    "It is a waste to calculate a 4-dimensional DP"
   ]
  },
  {
   "cell_type": "code",
   "execution_count": null,
   "metadata": {},
   "outputs": [],
   "source": [
    "class Solution:\n",
    "    def minDistance(self, word1: str, word2: str) -> int:\n",
    "        if word1==\"\" or word2==\"\":\n",
    "            return max(len(word1), len(word2))\n",
    "        \n",
    "        L1,L2=len(word1),len(word2)\n",
    "        dp=dict()\n",
    "        for idx1 in range(L1):\n",
    "            for idx2 in range(L2):\n",
    "                for gap1 in range(1, L1-idx1+1):\n",
    "                    for gap2 in range(1, L2-idx2+1):\n",
    "                        if gap1==1 and gap2==1:\n",
    "                            dp[idx1, idx2, gap1, gap2]=1 if word1[idx1]==word2[idx2] else 0\n",
    "                        elif gap1==1:\n",
    "                            dp[idx1, idx2, gap1, gap2]=1 if word1[idx1]==word2[idx2+gap2-1] else dp[idx1, idx2, gap1, gap2-1]\n",
    "                        elif gap2==1:\n",
    "                            dp[idx1, idx2, gap1, gap2]=1 if word1[idx1+gap1-1]==word2[idx2] else dp[idx1, idx2, gap1-1, gap2]\n",
    "                        else:\n",
    "                            if word1[idx1+gap1-1]==word2[idx2+gap2-1]:\n",
    "                                dp[idx1, idx2, gap1, gap2]=dp[idx1, idx2, gap1-1, gap2-1]+1\n",
    "                            else:\n",
    "                                dp[idx1, idx2, gap1, gap2]=max(dp[idx1, idx2, gap1-1, gap2], dp[idx1, idx2, gap1, gap2-1])\n",
    "        \n",
    "        return L1+L2-2*dp[0,0,L1,L2]"
   ]
  },
  {
   "cell_type": "markdown",
   "metadata": {},
   "source": [
    "## Attempt 3 - Accepted"
   ]
  },
  {
   "cell_type": "code",
   "execution_count": null,
   "metadata": {},
   "outputs": [],
   "source": [
    "class Solution:\n",
    "    def minDistance(self, word1: str, word2: str) -> int:\n",
    "        if word1==\"\" or word2==\"\":\n",
    "            return max(len(word1), len(word2))\n",
    "        \n",
    "        L1,L2=len(word1),len(word2)\n",
    "        dp=dict()\n",
    "        for gap1 in range(1,L1+1):\n",
    "            for gap2 in range(1,L2+1):\n",
    "                if gap1==1 and gap2==1:\n",
    "                    dp[1, 1]=1 if word1[0]==word2[0] else 0\n",
    "                elif gap1==1:\n",
    "                    dp[1, gap2]=1 if word1[0]==word2[gap2-1] else dp[1, gap2-1]\n",
    "                elif gap2==1:\n",
    "                    dp[gap1, 1]=1 if word1[gap1-1]==word2[0] else dp[gap1-1, 1]\n",
    "                else:\n",
    "                    if word1[gap1-1]==word2[gap2-1]:\n",
    "                        dp[gap1, gap2]=dp[gap1-1, gap2-1]+1\n",
    "                    else:\n",
    "                        dp[gap1, gap2]=max(dp[gap1-1, gap2], dp[gap1, gap2-1])\n",
    "        \n",
    "        return L1+L2-2*dp[L1,L2]"
   ]
  },
  {
   "cell_type": "markdown",
   "metadata": {},
   "source": [
    "## Lessons and Thoughts\n",
    "- The accepted algo is inspired from [here](https://www.cnblogs.com/grandyang/p/7144045.html). Basically it is solving for longest common substring, which can be formulated as a DP problem.\n",
    "- To achieve for the most efficient DP, try to see if you can reduce the dimensions."
   ]
  }
 ],
 "metadata": {
  "kernelspec": {
   "display_name": "Python 3",
   "language": "python",
   "name": "python3"
  },
  "language_info": {
   "codemirror_mode": {
    "name": "ipython",
    "version": 3
   },
   "file_extension": ".py",
   "mimetype": "text/x-python",
   "name": "python",
   "nbconvert_exporter": "python",
   "pygments_lexer": "ipython3",
   "version": "3.7.3"
  }
 },
 "nbformat": 4,
 "nbformat_minor": 2
}
