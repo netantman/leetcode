{
 "cells": [
  {
   "cell_type": "markdown",
   "metadata": {},
   "source": [
    "## Attempt 1 - Accepted"
   ]
  },
  {
   "cell_type": "code",
   "execution_count": null,
   "metadata": {},
   "outputs": [],
   "source": [
    "class Solution:\n",
    "    def mctFromLeafValues(self, arr: List[int]) -> int:\n",
    "        dp=dict()\n",
    "        L=len(arr)\n",
    "        gap=1\n",
    "        while gap<=L:\n",
    "            start=0\n",
    "            while start+gap<=L:\n",
    "                if gap==1:\n",
    "                    dp[start,start+gap]=arr[start]\n",
    "                else:\n",
    "                    dp[start,start+gap]=float('inf')\n",
    "                    for idx in range(1,gap):\n",
    "                        this=max(arr[start:start+idx])*max(arr[start+idx:start+gap])+dp[start,start+idx]+dp[start+idx,start+gap]\n",
    "                        dp[start,start+gap]=min(this,dp[start,start+gap])\n",
    "                start+=1\n",
    "            gap+=1\n",
    "        return dp[0,L]-sum(arr)"
   ]
  },
  {
   "cell_type": "markdown",
   "metadata": {},
   "source": [
    "## Attempt 2 - Time Limit Exceeded"
   ]
  },
  {
   "cell_type": "code",
   "execution_count": null,
   "metadata": {},
   "outputs": [],
   "source": [
    "class Solution {\n",
    "    map<vector<int>, int> cache = {};\n",
    "public:\n",
    "    int mctFromLeafValues(vector<int>& arr) {\n",
    "        if (this->cache.find(arr) != this->cache.end()) {\n",
    "            return this->cache[arr];\n",
    "        }\n",
    "        int L = arr.size();\n",
    "        if (L == 1) {\n",
    "            return 0;\n",
    "        }\n",
    "        int res = pow(2, 31) - 1;\n",
    "        for(int idx=0; idx<L-1; idx++) {\n",
    "            int curr = arr[idx] * arr[idx + 1];\n",
    "            vector<int> p = arr;\n",
    "            p.erase(p.begin() + idx);\n",
    "            p.erase(p.begin() + idx);\n",
    "            p.insert(p.begin() + idx, max(arr[idx], arr[idx + 1]));\n",
    "            curr += mctFromLeafValues(p);\n",
    "            res = min(res, curr);\n",
    "        }\n",
    "        \n",
    "        this->cache[arr] = res;\n",
    "        return res;\n",
    "    }\n",
    "};"
   ]
  },
  {
   "cell_type": "markdown",
   "metadata": {},
   "source": [
    "## Lessons and Thoughts\n",
    "- Attempt 2 is cached search, but it TLE. Attempt 1 is more like double-sequence DP.\n",
    "- In order not to create infinite loop when using while, consider changing the state variable before you write the meat in the loop."
   ]
  }
 ],
 "metadata": {
  "kernelspec": {
   "display_name": "Python 3 (ipykernel)",
   "language": "python",
   "name": "python3"
  },
  "language_info": {
   "codemirror_mode": {
    "name": "ipython",
    "version": 3
   },
   "file_extension": ".py",
   "mimetype": "text/x-python",
   "name": "python",
   "nbconvert_exporter": "python",
   "pygments_lexer": "ipython3",
   "version": "3.9.7"
  }
 },
 "nbformat": 4,
 "nbformat_minor": 2
}
