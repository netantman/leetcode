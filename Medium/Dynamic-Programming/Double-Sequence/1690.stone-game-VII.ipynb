{
 "cells": [
  {
   "cell_type": "markdown",
   "metadata": {},
   "source": [
    "## Attempt 1 - Accepted"
   ]
  },
  {
   "cell_type": "code",
   "execution_count": null,
   "metadata": {},
   "outputs": [],
   "source": [
    "class Solution:\n",
    "    def stoneGameVII(self, stones: List[int]) -> int:\n",
    "        L = len(stones)\n",
    "        dp = [[0 for _ in range(L + 1)] for _ in range(L + 1)]\n",
    "        cumsum = [0]\n",
    "        for s in stones:\n",
    "            cumsum.append(cumsum[-1] + s)\n",
    "        for gap in range(1, L + 1):\n",
    "            for i in range(0, L + 1 - gap):\n",
    "                dp[i][i + gap] = max(cumsum[i + gap] - cumsum[i + 1] - dp[i + 1][i + gap], cumsum[i + gap - 1] - cumsum[i] - dp[i][i + gap - 1])\n",
    "        return dp[0][L]"
   ]
  },
  {
   "cell_type": "markdown",
   "metadata": {},
   "source": [
    "## Lessons and Thoughts\n",
    "Usual pain points for a double-sequence DP problem.\n",
    "- The hardest part is to come up with the iteration condition in DP.\n",
    "- The index also takes a while to get right."
   ]
  }
 ],
 "metadata": {
  "kernelspec": {
   "display_name": "Python 3",
   "language": "python",
   "name": "python3"
  },
  "language_info": {
   "codemirror_mode": {
    "name": "ipython",
    "version": 3
   },
   "file_extension": ".py",
   "mimetype": "text/x-python",
   "name": "python",
   "nbconvert_exporter": "python",
   "pygments_lexer": "ipython3",
   "version": "3.7.3"
  }
 },
 "nbformat": 4,
 "nbformat_minor": 2
}
