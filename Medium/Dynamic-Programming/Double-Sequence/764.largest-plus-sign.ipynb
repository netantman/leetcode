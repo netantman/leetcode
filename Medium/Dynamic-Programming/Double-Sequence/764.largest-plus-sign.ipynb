{
 "cells": [
  {
   "cell_type": "markdown",
   "metadata": {},
   "source": [
    "## Attempt 1 - Accepted"
   ]
  },
  {
   "cell_type": "code",
   "execution_count": null,
   "metadata": {},
   "outputs": [],
   "source": [
    "class Solution:\n",
    "    def orderOfLargestPlusSign(self, N: int, mines: List[List[int]]) -> int:\n",
    "        dp=[[None for _ in range(N)] for _ in range(N)]\n",
    "        mines={tuple(mine) for mine in mines}\n",
    "        \n",
    "        for r in range(N):\n",
    "            count=0\n",
    "            for c in range(N):\n",
    "                count=count+1 if (r,c) not in mines else 0\n",
    "                dp[r][c]=count\n",
    "        \n",
    "        for r in range(N):\n",
    "            count=0\n",
    "            for c in range(N-1,-1,-1):\n",
    "                count=count+1 if (r,c) not in mines else 0\n",
    "                dp[r][c]=min(dp[r][c], count)\n",
    "        \n",
    "        for c in range(N):\n",
    "            count=0\n",
    "            for r in range(N):\n",
    "                count=count+1 if (r,c) not in mines else 0\n",
    "                dp[r][c]=min(dp[r][c], count)\n",
    "        \n",
    "        for c in range(N):\n",
    "            count=0\n",
    "            for r in range(N-1,-1,-1):\n",
    "                count=count+1 if (r,c) not in mines else 0\n",
    "                dp[r][c]=min(dp[r][c], count)\n",
    "        \n",
    "        res=max(max(dp[idx]) for idx in range(N))\n",
    "        return res"
   ]
  },
  {
   "cell_type": "markdown",
   "metadata": {},
   "source": [
    "## Lessons and Thoughts\n",
    "- Brute force will TLE.\n",
    "- The accepted solution is from the leetcode app. You are actually close in figuring out this solution on your own, but did not recognize that you can deal with each of the 4 directions one at a time.\n",
    "- This can be viewed as a special type of double sequence."
   ]
  }
 ],
 "metadata": {
  "kernelspec": {
   "display_name": "Python 3",
   "language": "python",
   "name": "python3"
  },
  "language_info": {
   "codemirror_mode": {
    "name": "ipython",
    "version": 3
   },
   "file_extension": ".py",
   "mimetype": "text/x-python",
   "name": "python",
   "nbconvert_exporter": "python",
   "pygments_lexer": "ipython3",
   "version": "3.7.3"
  }
 },
 "nbformat": 4,
 "nbformat_minor": 2
}
