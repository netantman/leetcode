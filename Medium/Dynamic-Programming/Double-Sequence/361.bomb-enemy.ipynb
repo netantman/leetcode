{
 "cells": [
  {
   "cell_type": "markdown",
   "metadata": {},
   "source": [
    "## Attempt 1 - Accepted"
   ]
  },
  {
   "cell_type": "code",
   "execution_count": null,
   "metadata": {},
   "outputs": [],
   "source": [
    "class Solution:\n",
    "    def maxKilledEnemies(self, grid: List[List[str]]) -> int:\n",
    "        R, C = len(grid), len(grid[0])\n",
    "        left = [[0 for c in range(C)] for r in range(R)] \n",
    "        right = [[0 for c in range(C)] for r in range(R)]\n",
    "        top = [[0 for c in range(C)] for r in range(R)]\n",
    "        bottom = [[0 for c in range(C)] for r in range(R)]\n",
    "        \n",
    "        for r in range(R):\n",
    "            for c in range(C):\n",
    "                if c == 0:\n",
    "                    left[r][c] = 1 if grid[r][c] == \"E\" else 0\n",
    "                    continue\n",
    "                if grid[r][c] == \"E\":\n",
    "                    left[r][c] = left[r][c - 1] + 1\n",
    "                elif grid[r][c] == \"W\":\n",
    "                    left[r][c] = 0\n",
    "                else:\n",
    "                    left[r][c] = left[r][c - 1]\n",
    "        \n",
    "        for r in range(R):\n",
    "            for c in range(C - 1, -1, -1):\n",
    "                if c == C - 1:\n",
    "                    right[r][c] = 1 if grid[r][c] == \"E\" else 0\n",
    "                    continue\n",
    "                if grid[r][c] == \"E\":\n",
    "                    right[r][c] = right[r][c + 1] + 1\n",
    "                elif grid[r][c] == \"W\":\n",
    "                    right[r][c] = 0\n",
    "                else:\n",
    "                    right[r][c] = right[r][c + 1]\n",
    "        \n",
    "        for c in range(C):\n",
    "            for r in range(R):\n",
    "                if r == 0:\n",
    "                    top[r][c] = 1 if grid[r][c] == \"E\" else 0\n",
    "                    continue\n",
    "                if grid[r][c] == \"E\":\n",
    "                    top[r][c] = top[r - 1][c] + 1\n",
    "                elif grid[r][c] == \"W\":\n",
    "                    top[r][c] = 0\n",
    "                else:\n",
    "                    top[r][c] = top[r - 1][c]\n",
    "        \n",
    "        for c in range(C):\n",
    "            for r in range(R - 1, -1, -1):\n",
    "                if r == R - 1:\n",
    "                    bottom[r][c] = 1 if grid[r][c] == \"E\" else 0\n",
    "                    continue\n",
    "                if grid[r][c] == \"E\":\n",
    "                    bottom[r][c] = bottom[r + 1][c] + 1\n",
    "                elif grid[r][c] == \"W\":\n",
    "                    bottom[r][c] = 0\n",
    "                else:\n",
    "                    bottom[r][c] = bottom[r + 1][c]\n",
    "\n",
    "        res = [[0 for c in range(C)] for r in range(R)]\n",
    "        cnt = 0\n",
    "        for r in range(R):\n",
    "            for c in range(C):\n",
    "                res[r][c] += (top[r][c] + bottom[r][c] + left[r][c] + right[r][c])\n",
    "                if grid[r][c] == \"0\":\n",
    "                    cnt = max(cnt, res[r][c])\n",
    "        return cnt\n",
    "        "
   ]
  },
  {
   "cell_type": "markdown",
   "metadata": {},
   "source": [
    "## Lessons and Thoughts\n",
    "- Similar to problem 764"
   ]
  }
 ],
 "metadata": {
  "kernelspec": {
   "display_name": "Python 3",
   "language": "python",
   "name": "python3"
  },
  "language_info": {
   "codemirror_mode": {
    "name": "ipython",
    "version": 3
   },
   "file_extension": ".py",
   "mimetype": "text/x-python",
   "name": "python",
   "nbconvert_exporter": "python",
   "pygments_lexer": "ipython3",
   "version": "3.7.3"
  }
 },
 "nbformat": 4,
 "nbformat_minor": 2
}
