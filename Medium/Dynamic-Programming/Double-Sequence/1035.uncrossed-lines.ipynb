{
 "cells": [
  {
   "cell_type": "markdown",
   "metadata": {},
   "source": [
    "## Attempt 1 - Accepted"
   ]
  },
  {
   "cell_type": "code",
   "execution_count": null,
   "metadata": {},
   "outputs": [],
   "source": [
    "class Solution:\n",
    "    def maxUncrossedLines(self, A: List[int], B: List[int]) -> int:\n",
    "        LA,LB=len(A),len(B)\n",
    "        dp=[[0 for j in range(LB)] for i in range(LA)]\n",
    "        for i in range(LA):\n",
    "            for j in range(LB):\n",
    "                if A[i]==B[j]:\n",
    "                    if i==0 or j==0:\n",
    "                        dp[i][j]=1\n",
    "                    else:\n",
    "                        dp[i][j]=dp[i-1][j-1]+1\n",
    "                else:\n",
    "                    if i==0 and j==0:\n",
    "                        dp[0][0]=0\n",
    "                    elif i==0:\n",
    "                        dp[i][j]=dp[i][j-1]\n",
    "                    elif j==0:\n",
    "                        dp[i][j]=dp[i-1][j]\n",
    "                    else:\n",
    "                        dp[i][j]=max(dp[i-1][j], dp[i][j-1])\n",
    "        return dp[-1][-1]"
   ]
  },
  {
   "cell_type": "markdown",
   "metadata": {},
   "source": [
    "## Lessons and Thoughts\n",
    "- For double sequence type of DP, sometimes it is hard to think of how to iterate: simply loop over `j` in a loop over `i`, though it works in this case, may not work in every case."
   ]
  }
 ],
 "metadata": {
  "kernelspec": {
   "display_name": "Python 3",
   "language": "python",
   "name": "python3"
  },
  "language_info": {
   "codemirror_mode": {
    "name": "ipython",
    "version": 3
   },
   "file_extension": ".py",
   "mimetype": "text/x-python",
   "name": "python",
   "nbconvert_exporter": "python",
   "pygments_lexer": "ipython3",
   "version": "3.7.3"
  }
 },
 "nbformat": 4,
 "nbformat_minor": 2
}
