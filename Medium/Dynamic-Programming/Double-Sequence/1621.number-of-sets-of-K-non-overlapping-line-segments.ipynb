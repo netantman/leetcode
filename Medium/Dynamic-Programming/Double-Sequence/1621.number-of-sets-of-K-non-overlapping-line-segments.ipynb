{
 "cells": [
  {
   "cell_type": "markdown",
   "metadata": {},
   "source": [
    "## Attempt 1 - Time Limit Exceeded"
   ]
  },
  {
   "cell_type": "code",
   "execution_count": null,
   "metadata": {},
   "outputs": [],
   "source": [
    "class Solution:\n",
    "    def numberOfSets(self, n: int, k: int) -> int:\n",
    "        N, K = n, k\n",
    "        MODULO = 10 ** 9 + 7\n",
    "        res = [[None for k in range(K + 1)] for n in range(N + 1)]\n",
    "        for n in range(1, N + 1):\n",
    "            res[n][1] = n * (n - 1) // 2\n",
    "        for k in range(1, K + 1):\n",
    "            res[1][k] = 0\n",
    "        for k in range(2, K + 1):\n",
    "            for n in range(2, N + 1):\n",
    "                res[n][k] = 0\n",
    "                idx = 1\n",
    "                while n - idx > k - 1:\n",
    "                    res[n][k] += res[n - idx][k - 1] * idx\n",
    "                    idx += 1\n",
    "                res[n][k] = res[n][k] % MODULO\n",
    "        # print(res)\n",
    "        return res[N][K] % MODULO"
   ]
  },
  {
   "cell_type": "markdown",
   "metadata": {},
   "source": [
    "## Attempt 2 - Accepted"
   ]
  },
  {
   "cell_type": "code",
   "execution_count": null,
   "metadata": {},
   "outputs": [],
   "source": [
    "import math\n",
    "ha = 10 ** 9 + 7\n",
    "\n",
    "def C(n, m):\n",
    "    if m == 0:\n",
    "        return 1\n",
    "    else:\n",
    "        return math.factorial(n) // (math.factorial(m) * math.factorial(n - m))\n",
    "\n",
    "class Solution:\n",
    "    def numberOfSets(self, n: int, k: int) -> int:\n",
    "        ans = 0\n",
    "        \n",
    "        for i in range(k + 1, 2 * k + 1):\n",
    "            if i <= n:\n",
    "                if i - 3 > 0:\n",
    "                    ans += C(n, i) * C(k - 1, i - k - 1)\n",
    "                else:\n",
    "                    ans += C(n, i)\n",
    "        \n",
    "        return ans % ha"
   ]
  },
  {
   "cell_type": "markdown",
   "metadata": {},
   "source": [
    "## Lessons and Thoughts\n",
    "- Usual double-sequence DP. Rolling sequence optimization on memory possible. But it is TLE.\n",
    "- Accepted is from apps. The idea is to recognize this is equivalent to first choosing `i` points, where `i` can range from `k + 1` to `2 * k + 1`. And for any given `i`, it boils down to determine how many points are not shared, which in turn is equivalent to choosing `i - k - 1` voids among the `k - 1` possible options."
   ]
  }
 ],
 "metadata": {
  "kernelspec": {
   "display_name": "Python 3",
   "language": "python",
   "name": "python3"
  },
  "language_info": {
   "codemirror_mode": {
    "name": "ipython",
    "version": 3
   },
   "file_extension": ".py",
   "mimetype": "text/x-python",
   "name": "python",
   "nbconvert_exporter": "python",
   "pygments_lexer": "ipython3",
   "version": "3.7.3"
  }
 },
 "nbformat": 4,
 "nbformat_minor": 2
}
