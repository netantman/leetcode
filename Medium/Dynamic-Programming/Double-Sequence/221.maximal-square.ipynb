{
 "cells": [
  {
   "cell_type": "markdown",
   "metadata": {},
   "source": [
    "## Attempt 1 - Wrong Answer"
   ]
  },
  {
   "cell_type": "code",
   "execution_count": null,
   "metadata": {},
   "outputs": [],
   "source": [
    "class Solution:\n",
    "    def maximalSquare(self, matrix: List[List[str]]) -> int:\n",
    "        if len(matrix)<1:\n",
    "            return 0\n",
    "        \n",
    "        numRows=len(matrix)\n",
    "        numCols=len(matrix[0])\n",
    "        \n",
    "        max_side=1 ## --> did not handle the edge case where there is no \"1\"\n",
    "        res=[[1 for n in range(numCols)] for m in range(numRows)]\n",
    "        for r in range(numRows):\n",
    "            for c in range(numCols):\n",
    "                if r==0 or c==0:\n",
    "                    res[r][c]=int(matrix[r][c])\n",
    "                else:\n",
    "                    if matrix[r][c]==\"0\":\n",
    "                        res[r][c]=0\n",
    "                    else:\n",
    "                        res[r][c]=min(res[r-1][c], res[r][c-1], res[r-1][c-1])+1\n",
    "                        max_side=max(max_side, res[r][c])  ## --> this should be done outside of the if-else\n",
    "        return max_side*max_side"
   ]
  },
  {
   "cell_type": "markdown",
   "metadata": {},
   "source": [
    "## Attempt 2 - Accepted"
   ]
  },
  {
   "cell_type": "code",
   "execution_count": null,
   "metadata": {},
   "outputs": [],
   "source": [
    "class Solution:\n",
    "    def maximalSquare(self, matrix: List[List[str]]) -> int:\n",
    "        if len(matrix)<1:\n",
    "            return 0\n",
    "        \n",
    "        numRows=len(matrix)\n",
    "        numCols=len(matrix[0])\n",
    "        \n",
    "        max_side=0\n",
    "        res=[[1 for n in range(numCols)] for m in range(numRows)]\n",
    "        for r in range(numRows):\n",
    "            for c in range(numCols):\n",
    "                if r==0 or c==0:\n",
    "                    res[r][c]=int(matrix[r][c])\n",
    "                else:\n",
    "                    if matrix[r][c]==\"0\":\n",
    "                        res[r][c]=0\n",
    "                    else:\n",
    "                        res[r][c]=min(res[r-1][c], res[r][c-1], res[r-1][c-1])+1\n",
    "                max_side=max(max_side, res[r][c])\n",
    "        return max_side*max_side"
   ]
  },
  {
   "cell_type": "markdown",
   "metadata": {},
   "source": [
    "## Lessons and Thoughts\n",
    "- You were so close in getting this algo in this try - in future see if you can solve it (or remember it)"
   ]
  }
 ],
 "metadata": {
  "kernelspec": {
   "display_name": "Python 3 (ipykernel)",
   "language": "python",
   "name": "python3"
  },
  "language_info": {
   "codemirror_mode": {
    "name": "ipython",
    "version": 3
   },
   "file_extension": ".py",
   "mimetype": "text/x-python",
   "name": "python",
   "nbconvert_exporter": "python",
   "pygments_lexer": "ipython3",
   "version": "3.9.7"
  }
 },
 "nbformat": 4,
 "nbformat_minor": 2
}
