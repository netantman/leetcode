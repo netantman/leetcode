{
 "cells": [
  {
   "cell_type": "markdown",
   "metadata": {},
   "source": [
    "## Attempt 1 - Wrong Answer"
   ]
  },
  {
   "cell_type": "code",
   "execution_count": null,
   "metadata": {},
   "outputs": [],
   "source": [
    "class Solution:\n",
    "    def canPartition(self, nums: List[int]) -> bool:\n",
    "        if len(nums)<=1:\n",
    "            return False\n",
    "        \n",
    "        target=sum(nums)\n",
    "        if target%2==1:\n",
    "            return False\n",
    "        \n",
    "        target=target//2\n",
    "        res=[False for _ in range(target+1)]\n",
    "        res[0]=True\n",
    "        for n in nums:\n",
    "            for idx in range(target+1):\n",
    "                if idx+n<target+1 and res[idx]:\n",
    "                    res[idx+n]=True  ## --> this, in effect, uses the element multiple times to make target\n",
    "        return res[-1]"
   ]
  },
  {
   "cell_type": "markdown",
   "metadata": {},
   "source": [
    "## Attempt 2 - Accepted"
   ]
  },
  {
   "cell_type": "code",
   "execution_count": null,
   "metadata": {},
   "outputs": [],
   "source": [
    "class Solution:\n",
    "    def canPartition(self, nums: List[int]) -> bool:\n",
    "        if len(nums)<=1:\n",
    "            return False\n",
    "        \n",
    "        target=sum(nums)\n",
    "        if target%2==1:\n",
    "            return False\n",
    "        \n",
    "        target=target//2\n",
    "        can_make=set([0])\n",
    "        for n in nums:\n",
    "            to_add=set()\n",
    "            for idx in can_make:\n",
    "                if (idx+n<=target) and (idx+n not in can_make):\n",
    "                    to_add.add(idx+n)\n",
    "            can_make.update(to_add)\n",
    "        return target in can_make"
   ]
  },
  {
   "cell_type": "markdown",
   "metadata": {},
   "source": [
    "## Lessons and Thoughts\n",
    "- In the first attempt, the mistake is similar to changing the iterable in the process of iteration.\n",
    "- `set.update()` is in-place."
   ]
  }
 ],
 "metadata": {
  "kernelspec": {
   "display_name": "Python 3",
   "language": "python",
   "name": "python3"
  },
  "language_info": {
   "codemirror_mode": {
    "name": "ipython",
    "version": 3
   },
   "file_extension": ".py",
   "mimetype": "text/x-python",
   "name": "python",
   "nbconvert_exporter": "python",
   "pygments_lexer": "ipython3",
   "version": "3.7.3"
  }
 },
 "nbformat": 4,
 "nbformat_minor": 2
}
