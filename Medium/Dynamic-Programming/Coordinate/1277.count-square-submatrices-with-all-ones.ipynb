{
 "cells": [
  {
   "cell_type": "markdown",
   "metadata": {},
   "source": [
    "## Attempt 1 - Accepted"
   ]
  },
  {
   "cell_type": "code",
   "execution_count": null,
   "metadata": {},
   "outputs": [],
   "source": [
    "class Solution:\n",
    "    def countSquares(self, matrix: List[List[int]]) -> int:\n",
    "        R,C=len(matrix), len(matrix[0])\n",
    "        res=[[0 for _ in range(C)] for _ in range(R)]\n",
    "        \n",
    "        for c in range(C):\n",
    "            res[0][c]=matrix[0][c]\n",
    "        for r in range(R):\n",
    "            res[r][0]=matrix[r][0]\n",
    "        \n",
    "        for r in range(1,R):\n",
    "            for c in range(1,C):\n",
    "                res[r][c]=(min(res[r-1][c], res[r][c-1], res[r-1][c-1])+1)*matrix[r][c] ## --> to deal with the case of matrix[r][c]==0\n",
    "        \n",
    "        return sum([sum(r) for r in res])"
   ]
  },
  {
   "cell_type": "markdown",
   "metadata": {},
   "source": [
    "## Attempt 2 - Accepted"
   ]
  },
  {
   "cell_type": "code",
   "execution_count": null,
   "metadata": {},
   "outputs": [],
   "source": [
    "class Solution {\n",
    "public:\n",
    "    int countSquares(vector<vector<int>>& matrix) {\n",
    "        int R = matrix.size(), C = matrix.front().size();\n",
    "        \n",
    "        vector<vector<int>> up = {};\n",
    "        for (int r=0; r<R; r++) {\n",
    "            vector<int> row(C, 0);\n",
    "            up.push_back(row);\n",
    "        }\n",
    "        \n",
    "        vector<vector<int>> left = {};\n",
    "        for (int r=0; r<R; r++) {\n",
    "            vector<int> row(C, 0);\n",
    "            left.push_back(row);\n",
    "        }\n",
    "        \n",
    "        for (int c=0; c<C; c++) {\n",
    "            for (int r=0; r<R; r++) {\n",
    "                if (matrix[r][c] < 1) {\n",
    "                    continue;\n",
    "                }\n",
    "                if (r == 0) {\n",
    "                    up[r][c] = matrix[r][c];\n",
    "                    continue;\n",
    "                }\n",
    "                up[r][c] = up[r-1][c] + 1;\n",
    "            }\n",
    "        }\n",
    "        \n",
    "        for (int r=0; r<R; r++) {\n",
    "            for (int c=0; c<C; c++) {\n",
    "                if (matrix[r][c] < 1) {\n",
    "                    continue;\n",
    "                }\n",
    "                if (c == 0) {\n",
    "                    left[r][c] = matrix[r][c];\n",
    "                    continue;\n",
    "                }\n",
    "                left[r][c] = left[r][c-1] + 1;\n",
    "            }\n",
    "        }\n",
    "        \n",
    "        \n",
    "        vector<vector<int>> dp = {};\n",
    "        for (int r=0; r<R; r++) {\n",
    "            vector<int> row(C, 0);\n",
    "            dp.push_back(row);\n",
    "        }\n",
    "        for (int c=0; c<C; c++) {\n",
    "            dp[0][c] = matrix[0][c];\n",
    "        }\n",
    "        for (int r=0; r<R; r++) {\n",
    "            dp[r][0] = matrix[r][0];\n",
    "        }\n",
    "        for (int r=1; r<R; r++) {\n",
    "            for (int c=1; c<C; c++) {\n",
    "                if (matrix[r][c] == 0) {\n",
    "                    continue;\n",
    "                }\n",
    "                int side = dp[r - 1][c - 1] + 1;\n",
    "                side = min(side, up[r][c]);\n",
    "                side = min(side, left[r][c]);\n",
    "                dp[r][c] = side;\n",
    "            }\n",
    "        }\n",
    "        \n",
    "        int res = 0;\n",
    "        for(int r=0; r<R; r++) {\n",
    "            for(int c=0; c<C; c++) {\n",
    "                res += dp[r][c];\n",
    "            }\n",
    "        }\n",
    "        return res;\n",
    "        \n",
    "        \n",
    "    }\n",
    "};"
   ]
  },
  {
   "cell_type": "markdown",
   "metadata": {},
   "source": [
    "## Lessons and Thoughts\n",
    "- Very similar to Problem 221."
   ]
  }
 ],
 "metadata": {
  "kernelspec": {
   "display_name": "Python 3",
   "language": "python",
   "name": "python3"
  },
  "language_info": {
   "codemirror_mode": {
    "name": "ipython",
    "version": 3
   },
   "file_extension": ".py",
   "mimetype": "text/x-python",
   "name": "python",
   "nbconvert_exporter": "python",
   "pygments_lexer": "ipython3",
   "version": "3.6.5"
  }
 },
 "nbformat": 4,
 "nbformat_minor": 2
}
