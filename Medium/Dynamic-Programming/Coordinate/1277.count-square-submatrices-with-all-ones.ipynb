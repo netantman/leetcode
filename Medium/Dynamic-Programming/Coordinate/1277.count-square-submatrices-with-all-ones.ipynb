{
 "cells": [
  {
   "cell_type": "markdown",
   "metadata": {},
   "source": [
    "## Attempt 1 - Accepted"
   ]
  },
  {
   "cell_type": "code",
   "execution_count": null,
   "metadata": {},
   "outputs": [],
   "source": [
    "class Solution:\n",
    "    def countSquares(self, matrix: List[List[int]]) -> int:\n",
    "        R,C=len(matrix), len(matrix[0])\n",
    "        res=[[0 for _ in range(C)] for _ in range(R)]\n",
    "        \n",
    "        for c in range(C):\n",
    "            res[0][c]=matrix[0][c]\n",
    "        for r in range(R):\n",
    "            res[r][0]=matrix[r][0]\n",
    "        \n",
    "        for r in range(1,R):\n",
    "            for c in range(1,C):\n",
    "                res[r][c]=(min(res[r-1][c], res[r][c-1], res[r-1][c-1])+1)*matrix[r][c] ## --> to deal with the case of matrix[r][c]==0\n",
    "        \n",
    "        return sum([sum(r) for r in res])"
   ]
  },
  {
   "cell_type": "markdown",
   "metadata": {},
   "source": [
    "## Lessons and Thoughts\n",
    "- Very similar to Problem 221."
   ]
  }
 ],
 "metadata": {
  "kernelspec": {
   "display_name": "Python 3",
   "language": "python",
   "name": "python3"
  },
  "language_info": {
   "codemirror_mode": {
    "name": "ipython",
    "version": 3
   },
   "file_extension": ".py",
   "mimetype": "text/x-python",
   "name": "python",
   "nbconvert_exporter": "python",
   "pygments_lexer": "ipython3",
   "version": "3.7.3"
  }
 },
 "nbformat": 4,
 "nbformat_minor": 2
}
