{
 "cells": [
  {
   "cell_type": "markdown",
   "metadata": {},
   "source": [
    "## Attempt 1 - Accepted"
   ]
  },
  {
   "cell_type": "code",
   "execution_count": null,
   "metadata": {},
   "outputs": [],
   "source": [
    "class Solution:\n",
    "    def maxProductPath(self, grid: List[List[int]]) -> int:\n",
    "        R, C = len(grid), len(grid[0])\n",
    "        minn = [[1 for _ in range(C)] for _ in range(R)]\n",
    "        minn[0][0] = grid[0][0]\n",
    "        for c in range(1, C):\n",
    "            minn[0][c] = minn[0][c - 1] * grid[0][c]\n",
    "        for r in range(1, R):\n",
    "            minn[r][0] = minn[r - 1][0] * grid[r][0]\n",
    "            \n",
    "        maxx = [[1 for _ in range(C)] for _ in range(R)]\n",
    "        maxx[0][0] = grid[0][0]\n",
    "        for c in range(1, C):\n",
    "            maxx[0][c] = maxx[0][c - 1] * grid[0][c]\n",
    "        for r in range(1, R):\n",
    "            maxx[r][0] = maxx[r - 1][0] * grid[r][0]\n",
    "        \n",
    "        for r in range(1, R):\n",
    "            for c in range(1, C):\n",
    "                maxx[r][c] = max(maxx[r-1][c] * grid[r][c], maxx[r][c-1] * grid[r][c], minn[r-1][c] * grid[r][c], minn[r][c-1] * grid[r][c])\n",
    "                minn[r][c] = min(maxx[r-1][c] * grid[r][c], maxx[r][c-1] * grid[r][c], minn[r-1][c] * grid[r][c], minn[r][c-1] * grid[r][c])\n",
    "        \n",
    "        if maxx[-1][-1] < 0:\n",
    "            return -1\n",
    "        \n",
    "        MODULO = 10 ** 9 + 7\n",
    "        return maxx[-1][-1] % MODULO"
   ]
  },
  {
   "cell_type": "markdown",
   "metadata": {},
   "source": [
    "## Lessons and Thoughts\n",
    "- Relatively straightforward"
   ]
  }
 ],
 "metadata": {
  "kernelspec": {
   "display_name": "Python 3",
   "language": "python",
   "name": "python3"
  },
  "language_info": {
   "codemirror_mode": {
    "name": "ipython",
    "version": 3
   },
   "file_extension": ".py",
   "mimetype": "text/x-python",
   "name": "python",
   "nbconvert_exporter": "python",
   "pygments_lexer": "ipython3",
   "version": "3.7.3"
  }
 },
 "nbformat": 4,
 "nbformat_minor": 2
}
