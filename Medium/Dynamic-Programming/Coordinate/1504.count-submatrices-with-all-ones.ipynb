{
 "cells": [
  {
   "cell_type": "markdown",
   "metadata": {},
   "source": [
    "## Attempt 1 - Wrong Answer"
   ]
  },
  {
   "cell_type": "code",
   "execution_count": null,
   "metadata": {},
   "outputs": [],
   "source": [
    "class Solution:\n",
    "    def numSubmat(self, mat: List[List[int]]) -> int:\n",
    "        R, C = len(mat), len(mat[0])\n",
    "        \n",
    "        record = [[None for _ in range(C)] for _ in range(R)]\n",
    "        \n",
    "        res = 0\n",
    "        record[0][0] = (mat[0][0], mat[0][0])\n",
    "        res += mat[0][0]\n",
    "        for r in range(1, R):\n",
    "            if mat[r][0] < 1:\n",
    "                record[r][0] = (0, 0) \n",
    "                continue\n",
    "            record[r][0] = (1, record[r-1][0][1] + 1)\n",
    "            res += record[r][0][1]\n",
    "        for c in range(1, C):\n",
    "            if mat[0][c] < 1:\n",
    "                record[0][c] = (0, 0)\n",
    "                continue\n",
    "            record[0][c] = (record[0][c-1][0] + 1, 1)\n",
    "            res += record[0][c][0]\n",
    "        \n",
    "        for r in range(1, R):\n",
    "            for c in range(1, C):\n",
    "                if mat[r][c] < 1:\n",
    "                    record[r][c] = (0, 0)\n",
    "                    continue                \n",
    "                x1, y1 = record[r][c-1]\n",
    "                x2, y2 = record[r-1][c]\n",
    "                x = min(x1 + 1, x2)\n",
    "                y = min(y1, y2 + 1)\n",
    "                record[r][c] = (x, y)\n",
    "                res += x * y\n",
    "        \n",
    "        return res"
   ]
  },
  {
   "cell_type": "markdown",
   "metadata": {},
   "source": [
    "## Attempt 2 - Accepted"
   ]
  },
  {
   "cell_type": "code",
   "execution_count": null,
   "metadata": {},
   "outputs": [],
   "source": [
    "class Solution:\n",
    "    def numSubmat(self, mat: List[List[int]]) -> int:\n",
    "        R, C = len(mat), len(mat[0])\n",
    "        \n",
    "        rows = [[0 for _ in range(C)] for _ in range(R)]\n",
    "        for r in range(R):\n",
    "            for c in range(C):\n",
    "                if c < 1:\n",
    "                    rows[r][c] = mat[r][c]\n",
    "                else:\n",
    "                    rows[r][c] = rows[r][c - 1] + 1 if mat[r][c] > 0 else 0\n",
    "        \n",
    "        res = 0\n",
    "        for c in range(C):\n",
    "            for r in range(R):\n",
    "                width = rows[r][c]\n",
    "                for k in range(r + 1):\n",
    "                    width = min(width, rows[r-k][c])\n",
    "                    if width < 1:\n",
    "                        break\n",
    "                    res += width\n",
    "        \n",
    "        return res"
   ]
  },
  {
   "cell_type": "markdown",
   "metadata": {},
   "source": [
    "## Lessons and Thoughts\n",
    "- Accepted attempt from the app.\n",
    "- Attempt 1 tries to reprise the solution of Problem 1277, but that is overly complex to change..."
   ]
  }
 ],
 "metadata": {
  "kernelspec": {
   "display_name": "Python 3",
   "language": "python",
   "name": "python3"
  },
  "language_info": {
   "codemirror_mode": {
    "name": "ipython",
    "version": 3
   },
   "file_extension": ".py",
   "mimetype": "text/x-python",
   "name": "python",
   "nbconvert_exporter": "python",
   "pygments_lexer": "ipython3",
   "version": "3.7.3"
  }
 },
 "nbformat": 4,
 "nbformat_minor": 2
}
