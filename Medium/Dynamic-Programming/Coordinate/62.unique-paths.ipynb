{
 "cells": [
  {
   "cell_type": "markdown",
   "metadata": {},
   "source": [
    "## Attempt 1 - Accepted"
   ]
  },
  {
   "cell_type": "code",
   "execution_count": null,
   "metadata": {},
   "outputs": [],
   "source": [
    "class Solution:\n",
    "    def uniquePaths(self, m: int, n: int) -> int:\n",
    "        if (m<=1) or (n<=1):\n",
    "            return 1\n",
    "        \n",
    "        matrix=[[None for c in range(n)] for r in range(m)]\n",
    "        for r in range(m):\n",
    "            matrix[r][0]=1\n",
    "        for c in range(n):\n",
    "            matrix[0][c]=1  ## --> if this is 1.0, it will throw, since the final answer is not int\n",
    "        \n",
    "        for r in range(1, m):\n",
    "            for c in range(1, n):\n",
    "                matrix[r][c]=matrix[r-1][c]+matrix[r][c-1]\n",
    "        \n",
    "        return matrix[-1][-1]"
   ]
  },
  {
   "cell_type": "markdown",
   "metadata": {},
   "source": [
    "## Lessons and Thoughts\n",
    "- This is actually just (m+n-2) choose (m-1)."
   ]
  }
 ],
 "metadata": {
  "kernelspec": {
   "display_name": "Python 3",
   "language": "python",
   "name": "python3"
  },
  "language_info": {
   "codemirror_mode": {
    "name": "ipython",
    "version": 3
   },
   "file_extension": ".py",
   "mimetype": "text/x-python",
   "name": "python",
   "nbconvert_exporter": "python",
   "pygments_lexer": "ipython3",
   "version": "3.7.3"
  }
 },
 "nbformat": 4,
 "nbformat_minor": 2
}
