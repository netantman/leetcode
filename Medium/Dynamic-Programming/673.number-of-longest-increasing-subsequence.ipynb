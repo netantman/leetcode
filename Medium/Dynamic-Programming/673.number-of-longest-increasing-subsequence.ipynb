{
 "cells": [
  {
   "cell_type": "markdown",
   "metadata": {},
   "source": [
    "## Attempt 1 - Accepted"
   ]
  },
  {
   "cell_type": "code",
   "execution_count": null,
   "metadata": {},
   "outputs": [],
   "source": [
    "class Solution(object):\n",
    "    def findNumberOfLIS(self, nums):\n",
    "        N = len(nums)\n",
    "        if N <= 1: return N\n",
    "        lengths = [0] * N #lengths[i] = longest ending in nums[i]\n",
    "        counts = [1] * N #count[i] = number of longest ending in nums[i]\n",
    "\n",
    "        for j, num in enumerate(nums):\n",
    "            for i in range(j):\n",
    "                if nums[i] < nums[j]:\n",
    "                    if lengths[i] >= lengths[j]:\n",
    "                        lengths[j] = 1 + lengths[i]\n",
    "                        counts[j] = counts[i]\n",
    "                    elif lengths[i] + 1 == lengths[j]:\n",
    "                        counts[j] += counts[i]\n",
    "\n",
    "        longest = max(lengths)\n",
    "        return sum(c for i, c in enumerate(counts) if lengths[i] == longest)"
   ]
  },
  {
   "cell_type": "markdown",
   "metadata": {},
   "source": [
    "## Lessons and Thoughts\n",
    "- Typical DP problem, similar to Problem 300."
   ]
  }
 ],
 "metadata": {
  "kernelspec": {
   "display_name": "Python 3",
   "language": "python",
   "name": "python3"
  },
  "language_info": {
   "codemirror_mode": {
    "name": "ipython",
    "version": 3
   },
   "file_extension": ".py",
   "mimetype": "text/x-python",
   "name": "python",
   "nbconvert_exporter": "python",
   "pygments_lexer": "ipython3",
   "version": "3.7.3"
  }
 },
 "nbformat": 4,
 "nbformat_minor": 2
}
