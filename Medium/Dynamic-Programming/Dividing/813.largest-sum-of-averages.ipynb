{
 "cells": [
  {
   "cell_type": "markdown",
   "metadata": {},
   "source": [
    "## Attempt 1 - Accepted"
   ]
  },
  {
   "cell_type": "code",
   "execution_count": null,
   "metadata": {},
   "outputs": [],
   "source": [
    "class Solution:\n",
    "    def largestSumOfAverages(self, A: List[int], K: int) -> float:\n",
    "        cumsum=[0 for _ in A]+[0]\n",
    "        for idx, a in enumerate(A):\n",
    "            cumsum[idx+1]=cumsum[idx]+A[idx]\n",
    "        def average(i,j):\n",
    "            return (cumsum[j]-cumsum[i])/(j-i)\n",
    "        res=[[None for _ in cumsum] for _ in range(K+1)]\n",
    "        L=len(A)\n",
    "        for idx, a in enumerate(A):\n",
    "            res[1][idx+1]=average(0,idx+1)\n",
    "            for k in range(2,K+1):\n",
    "                if k>idx+1:\n",
    "                    continue\n",
    "                elif k==idx+1:\n",
    "                    res[k][idx+1]=cumsum[k]\n",
    "                else:\n",
    "                    res[k][idx+1]=max([res[k-1][j]+average(j, idx+1) for j in range(k-1, idx+1)])\n",
    "        return res[K][-1]"
   ]
  },
  {
   "cell_type": "markdown",
   "metadata": {},
   "source": [
    "## Lessons and Thoughts\n",
    "- Took you a while - it helps to draw the example table out."
   ]
  }
 ],
 "metadata": {
  "kernelspec": {
   "display_name": "Python 3",
   "language": "python",
   "name": "python3"
  },
  "language_info": {
   "codemirror_mode": {
    "name": "ipython",
    "version": 3
   },
   "file_extension": ".py",
   "mimetype": "text/x-python",
   "name": "python",
   "nbconvert_exporter": "python",
   "pygments_lexer": "ipython3",
   "version": "3.7.3"
  }
 },
 "nbformat": 4,
 "nbformat_minor": 2
}
