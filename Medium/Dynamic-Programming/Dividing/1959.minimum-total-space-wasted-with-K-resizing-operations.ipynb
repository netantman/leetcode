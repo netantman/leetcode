{
 "cells": [
  {
   "cell_type": "markdown",
   "metadata": {},
   "source": [
    "## Attempt 1 - Time Limit Exceeded"
   ]
  },
  {
   "cell_type": "code",
   "execution_count": null,
   "metadata": {},
   "outputs": [],
   "source": [
    "class Solution:\n",
    "    def minSpaceWastedKResizing(self, nums: List[int], k: int) -> int:\n",
    "        L = len(nums)\n",
    "        if k == L - 1:\n",
    "            return 0\n",
    "        dp = [float('inf') for _ in nums]\n",
    "        dp.insert(0, 0)\n",
    "        M = float('-inf')\n",
    "        s = 0\n",
    "        for idx in range(1, L + 1):\n",
    "            s += nums[idx - 1]\n",
    "            M = max(M, nums[idx - 1])\n",
    "            dp[idx] = idx * M - s\n",
    "        # print(dp)\n",
    "        for _ in range(k):\n",
    "            new = [d for d in dp]\n",
    "            for idx in range(1, L + 1):\n",
    "                for j in range(idx):\n",
    "                    new[idx] = min(new[idx], dp[j] + (idx - j) * max(nums[j : idx]) - sum(nums[j : idx]))\n",
    "            dp = new\n",
    "        # print(dp)\n",
    "        return dp[-1]"
   ]
  },
  {
   "cell_type": "markdown",
   "metadata": {},
   "source": [
    "## Attempt 2 - Accepted"
   ]
  },
  {
   "cell_type": "code",
   "execution_count": null,
   "metadata": {},
   "outputs": [],
   "source": [
    "class Solution:\n",
    "    def minSpaceWastedKResizing(self, nums: List[int], k: int) -> int:\n",
    "        L = len(nums)\n",
    "        if k == L - 1:\n",
    "            return 0\n",
    "        dp = [float('inf') for _ in nums]\n",
    "        dp.insert(0, 0)\n",
    "        M, s = float('-inf'), 0\n",
    "        for idx in range(1, L + 1):\n",
    "            s += nums[idx - 1]\n",
    "            M = max(M, nums[idx - 1])\n",
    "            dp[idx] = idx * M - s\n",
    "        # print(dp)\n",
    "        for _ in range(k):\n",
    "            new = [d for d in dp]\n",
    "            for idx in range(1, L + 1):\n",
    "                M, s = float('-inf'), 0\n",
    "                for j in range(idx - 1, -1, -1):\n",
    "                    M = max(M, nums[j])\n",
    "                    s += nums[j]\n",
    "                    new[idx] = min(new[idx], dp[j] + (idx - j) * M - s)\n",
    "            dp = new\n",
    "        # print(dp)\n",
    "        return dp[-1]"
   ]
  },
  {
   "cell_type": "markdown",
   "metadata": {},
   "source": [
    "## Attempt 5 - Accepted"
   ]
  },
  {
   "cell_type": "code",
   "execution_count": null,
   "metadata": {},
   "outputs": [],
   "source": [
    "class Solution {\n",
    "public:\n",
    "    int minSpaceWastedKResizing(vector<int>& nums, int k) {\n",
    "        vector<int> running_max = {0};\n",
    "        vector<int> cumsum = {0};\n",
    "        for (int n : nums) {\n",
    "            running_max.push_back(max(running_max.back(), n));\n",
    "            cumsum.push_back(cumsum.back() + n);\n",
    "        }\n",
    "        \n",
    "        int L = nums.size();\n",
    "        vector<int> dp = {0};\n",
    "        for (int idx=1; idx<=L; idx++) {\n",
    "            dp.push_back(running_max[idx] * idx - cumsum[idx]);\n",
    "        }\n",
    "        \n",
    "        for (int j=0; j<k; j++) {\n",
    "            vector<int> new_dp = {0};\n",
    "            for (int idx=1; idx<=L; idx++) {\n",
    "                int curr = dp[idx];\n",
    "                int m = nums[idx - 1];\n",
    "                for(int jdx=idx-1; jdx>=0; jdx--) {\n",
    "                    m = max(m, nums[jdx]); ## --> here if we do not recalc the lookback max, but use *max_element, it would TLE.\n",
    "                    curr = min(curr, dp[jdx] + (m * (idx - jdx) - (cumsum[idx] - cumsum[jdx])));\n",
    "                }\n",
    "                new_dp.push_back(curr);\n",
    "            }\n",
    "            dp = new_dp;\n",
    "        }\n",
    "        return dp.back();\n",
    "    }\n",
    "};"
   ]
  },
  {
   "cell_type": "markdown",
   "metadata": {},
   "source": [
    "## Lessons and Thoughts\n",
    "- Took a while to figure out the transition function, but it is the indexing that is most time-consuming."
   ]
  }
 ],
 "metadata": {
  "kernelspec": {
   "display_name": "Python 3 (ipykernel)",
   "language": "python",
   "name": "python3"
  },
  "language_info": {
   "codemirror_mode": {
    "name": "ipython",
    "version": 3
   },
   "file_extension": ".py",
   "mimetype": "text/x-python",
   "name": "python",
   "nbconvert_exporter": "python",
   "pygments_lexer": "ipython3",
   "version": "3.9.7"
  }
 },
 "nbformat": 4,
 "nbformat_minor": 2
}
