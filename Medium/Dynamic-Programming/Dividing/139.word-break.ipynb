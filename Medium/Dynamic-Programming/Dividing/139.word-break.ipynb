{
 "cells": [
  {
   "cell_type": "markdown",
   "metadata": {},
   "source": [
    "## Attempt 1 - Time Limit Exceeded"
   ]
  },
  {
   "cell_type": "code",
   "execution_count": null,
   "metadata": {},
   "outputs": [],
   "source": [
    "class Solution:\n",
    "    def wordBreak(self, s: str, wordDict: List[str]) -> bool:\n",
    "        if s==\"\":\n",
    "            return True\n",
    "        if s in wordDict:\n",
    "            return True\n",
    "        \n",
    "        wordDict=set(wordDict)\n",
    "        for w in wordDict:\n",
    "            L=len(w)\n",
    "            if w==s[-L:] and self.wordBreak(s[:-L], wordDict):\n",
    "                return True\n",
    "        \n",
    "        return False"
   ]
  },
  {
   "cell_type": "markdown",
   "metadata": {},
   "source": [
    "## Attempt 2 - Wrong Answer"
   ]
  },
  {
   "cell_type": "code",
   "execution_count": null,
   "metadata": {},
   "outputs": [],
   "source": [
    "class Solution:\n",
    "    def wordBreak(self, s: str, wordDict: List[str]) -> bool:\n",
    "        if s==\"\":\n",
    "            return True\n",
    "        if s in wordDict:\n",
    "            return True\n",
    "        \n",
    "        L=len(s)\n",
    "        res = [False for l in range(L+2) ]\n",
    "        res[0]=True\n",
    "        \n",
    "        for i in range(L):\n",
    "            for j in range(i+1, L+1):\n",
    "                if s[i:j] in wordDict:\n",
    "                    res[j]=res[i]   ## --> it should be |=\n",
    "        \n",
    "        return res[-1]"
   ]
  },
  {
   "cell_type": "markdown",
   "metadata": {},
   "source": [
    "## Attempt 3 - Accepted"
   ]
  },
  {
   "cell_type": "code",
   "execution_count": null,
   "metadata": {},
   "outputs": [],
   "source": [
    "class Solution:\n",
    "    def wordBreak(self, s: str, wordDict: List[str]) -> bool:\n",
    "        if s==\"\":\n",
    "            return True\n",
    "        if s in wordDict:\n",
    "            return True\n",
    "        \n",
    "        L=len(s)\n",
    "        res = [False for l in range(L+1) ]\n",
    "        res[0]=True\n",
    "        \n",
    "        for i in range(L):\n",
    "            for j in range(i+1, L+1):\n",
    "                if s[i:j] in wordDict:\n",
    "                    res[j]=res[i]\n",
    "        \n",
    "        return res[-1]"
   ]
  },
  {
   "cell_type": "markdown",
   "metadata": {},
   "source": [
    "## Attempt 4 - Accepted"
   ]
  },
  {
   "cell_type": "code",
   "execution_count": null,
   "metadata": {},
   "outputs": [],
   "source": [
    "class Solution:\n",
    "    def wordBreak(self, s: str, wordDict: List[str]) -> bool:\n",
    "        L = len(s)\n",
    "        if L < 1:\n",
    "            return True\n",
    "        dp = [False for _ in range(L + 1)]\n",
    "        dp[-1] = True\n",
    "        wordDict = set(wordDict)\n",
    "        \n",
    "        for idx in range(L - 1, -1, -1):\n",
    "            for j in range(idx + 1, L + 1):\n",
    "                if s[idx : j] in wordDict and dp[j]:\n",
    "                    dp[idx] = True\n",
    "                    break\n",
    "        \n",
    "        return dp[0]"
   ]
  },
  {
   "cell_type": "markdown",
   "metadata": {},
   "source": [
    "## Lessons and Thoughts\n",
    "- The algo that does not exceed time limit is inspired [here](https://www.programcreek.com/2012/12/leetcode-solution-word-break/).\n",
    "- Attempt 4 is essentially the same algo as Attempt 3, though in reverse."
   ]
  }
 ],
 "metadata": {
  "kernelspec": {
   "display_name": "Python 3",
   "language": "python",
   "name": "python3"
  },
  "language_info": {
   "codemirror_mode": {
    "name": "ipython",
    "version": 3
   },
   "file_extension": ".py",
   "mimetype": "text/x-python",
   "name": "python",
   "nbconvert_exporter": "python",
   "pygments_lexer": "ipython3",
   "version": "3.6.5"
  }
 },
 "nbformat": 4,
 "nbformat_minor": 2
}
