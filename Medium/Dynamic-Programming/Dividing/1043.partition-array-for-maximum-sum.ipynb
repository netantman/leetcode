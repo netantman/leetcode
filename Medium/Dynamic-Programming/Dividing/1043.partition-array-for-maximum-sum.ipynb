{
 "cells": [
  {
   "cell_type": "markdown",
   "metadata": {},
   "source": [
    "## Attempt 1 - Accepted"
   ]
  },
  {
   "cell_type": "code",
   "execution_count": null,
   "metadata": {},
   "outputs": [],
   "source": [
    "class Solution:\n",
    "    def maxSumAfterPartitioning(self, arr: List[int], k: int) -> int:\n",
    "        L=len(arr)\n",
    "        record=dict()\n",
    "        record[0]=0\n",
    "        for idx in range(1,L+1):\n",
    "            r=-float('inf')\n",
    "            for gap in range(1,k+1):\n",
    "                if idx-gap<0:\n",
    "                    continue\n",
    "                else:\n",
    "                    r=max(r,max(arr[idx-gap:idx])*gap+record[idx-gap])\n",
    "            record[idx]=r\n",
    "        return record[L]"
   ]
  },
  {
   "cell_type": "markdown",
   "metadata": {},
   "source": [
    "## Lessons and Thoughts\n",
    "- Sequence type DP."
   ]
  }
 ],
 "metadata": {
  "kernelspec": {
   "display_name": "Python 3",
   "language": "python",
   "name": "python3"
  },
  "language_info": {
   "codemirror_mode": {
    "name": "ipython",
    "version": 3
   },
   "file_extension": ".py",
   "mimetype": "text/x-python",
   "name": "python",
   "nbconvert_exporter": "python",
   "pygments_lexer": "ipython3",
   "version": "3.7.3"
  }
 },
 "nbformat": 4,
 "nbformat_minor": 2
}
