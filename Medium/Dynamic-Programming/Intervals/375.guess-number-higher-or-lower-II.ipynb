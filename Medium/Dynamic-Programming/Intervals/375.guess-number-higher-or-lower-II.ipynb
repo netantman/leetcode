{
 "cells": [
  {
   "cell_type": "markdown",
   "metadata": {},
   "source": [
    "## Attempt 1 - Wrong Answer"
   ]
  },
  {
   "cell_type": "code",
   "execution_count": null,
   "metadata": {},
   "outputs": [],
   "source": [
    "class Solution:\n",
    "    def getMoneyAmount(self, n: int) -> int:\n",
    "        if n==1:\n",
    "            return 0\n",
    "        if n==2:\n",
    "            return 1\n",
    "        \n",
    "        cache=dict()\n",
    "        for idx in range(1,n+1):\n",
    "            cache[(idx, idx)]=0\n",
    "        \n",
    "        maximum=sum(list(range(1, n+1)))\n",
    "        for gap in range(1,n): ## --> with how pivot is chosen, gap should probably start at 2.\n",
    "            for start in range(1,n+1):\n",
    "                if start+gap<=n:\n",
    "                    cache[(start, start+gap)]=maximum\n",
    "                    for pivot in range(start+1, start+gap):\n",
    "                        cache[(start, start+gap)]=min(cache[(start, start+gap)], pivot+cache[(start, pivot-1)]+cache[(pivot+1, start+gap)]) ## --> you don't need to pay both (start, pivot-1) and (pivot+1, start+gap): the worst case is just the max of the two.\n",
    "        print(cache)\n",
    "        return cache[(1,n)]"
   ]
  },
  {
   "cell_type": "markdown",
   "metadata": {},
   "source": [
    "## Attempt 2 - Accepted"
   ]
  },
  {
   "cell_type": "code",
   "execution_count": null,
   "metadata": {},
   "outputs": [],
   "source": [
    "class Solution:\n",
    "    def getMoneyAmount(self, n: int) -> int:\n",
    "        if n==1:\n",
    "            return 0\n",
    "        if n==2:\n",
    "            return 1\n",
    "        \n",
    "        cache=dict()\n",
    "        for idx in range(1,n+1):\n",
    "            cache[(idx, idx)]=0\n",
    "        for idx in range(1,n):\n",
    "            cache[(idx, idx+1)]=idx\n",
    "        \n",
    "        maximum=sum(list(range(1, n+1)))\n",
    "        for gap in range(2,n):\n",
    "            for start in range(1,n+1):\n",
    "                if start+gap<=n:\n",
    "                    cache[(start, start+gap)]=maximum\n",
    "                    for pivot in range(start+1, start+gap):\n",
    "                        cache[(start, start+gap)]=min(cache[(start, start+gap)], pivot+max(cache[(start, pivot-1)],cache[(pivot+1, start+gap)]))\n",
    "        return cache[(1,n)]"
   ]
  },
  {
   "cell_type": "markdown",
   "metadata": {},
   "source": [
    "## Lessons and Thoughts\n",
    "- If it were for Problem 374, which uses binary search, you probably would try to think of a DP for this one.\n",
    "- For DP, you need to carefully access the initial conditions."
   ]
  }
 ],
 "metadata": {
  "kernelspec": {
   "display_name": "Python 3",
   "language": "python",
   "name": "python3"
  },
  "language_info": {
   "codemirror_mode": {
    "name": "ipython",
    "version": 3
   },
   "file_extension": ".py",
   "mimetype": "text/x-python",
   "name": "python",
   "nbconvert_exporter": "python",
   "pygments_lexer": "ipython3",
   "version": "3.7.3"
  }
 },
 "nbformat": 4,
 "nbformat_minor": 2
}
