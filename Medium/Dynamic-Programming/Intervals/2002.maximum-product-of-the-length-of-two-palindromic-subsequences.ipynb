{
 "cells": [
  {
   "cell_type": "markdown",
   "metadata": {},
   "source": [
    "## Attempt 1 - Accepted"
   ]
  },
  {
   "cell_type": "code",
   "execution_count": null,
   "metadata": {},
   "outputs": [],
   "source": [
    "class Solution:\n",
    "    def maxProduct(self, s: str) -> int:\n",
    "        record = [([\"\"], [\"\"])]\n",
    "        for c in s:\n",
    "            new = []\n",
    "            for rec in record:\n",
    "                a, b = rec\n",
    "                extend_a = [sub for sub in a] + [sub + c for sub in a]\n",
    "                extend_b = [sub for sub in b] + [sub + c for sub in b]\n",
    "                new.append((extend_a, [sub for sub in b]))\n",
    "                new.append(([sub for sub in a], extend_b))\n",
    "            record = new\n",
    "        ans = 0\n",
    "        for rec in record:\n",
    "            a, b = rec\n",
    "            longest_a = max(len(sub) for sub in a if sub == sub[::-1])\n",
    "            longest_b = max(len(sub) for sub in b if sub == sub[::-1])\n",
    "            ans = max(ans, longest_a * longest_b)\n",
    "        return ans"
   ]
  },
  {
   "cell_type": "markdown",
   "metadata": {},
   "source": [
    "## Attempt 2 - Accepted"
   ]
  },
  {
   "cell_type": "code",
   "execution_count": null,
   "metadata": {},
   "outputs": [],
   "source": [
    "class Solution {\n",
    "public:\n",
    "    bool check_pal(int n, string s, int &len) { ## --> passing more than one output in C++\n",
    "        vector<int> nums = {};\n",
    "        int mask = 1;\n",
    "        for(int idx=0; idx<12; idx++){\n",
    "            if ((n & mask) > 0) {\n",
    "                nums.push_back(idx);\n",
    "            } \n",
    "            mask *= 2;\n",
    "        }\n",
    "        len = nums.size();\n",
    "        int i=0, j=len-1;\n",
    "        while (i < j) {\n",
    "            if (s[nums[i]] != s[nums[j]]) {\n",
    "                return false;\n",
    "            }\n",
    "            i++;\n",
    "            j--;\n",
    "        }\n",
    "        return true;\n",
    "    }\n",
    "    int maxProduct(string s) {\n",
    "        map<int, int> palins = {};\n",
    "        int L = s.size();\n",
    "        for (int n=0; n<pow(2, L); n++) {\n",
    "            int len = 0;\n",
    "            if (check_pal(n, s, len)) {\n",
    "                palins[n] = len;\n",
    "            }\n",
    "        }\n",
    "        int res = 0;\n",
    "        \n",
    "        // for (auto p : palins) {\n",
    "        //     cout << p.first << \" \" << p.second << \"\\n\";\n",
    "        // }\n",
    "        \n",
    "        for (auto p1 : palins) {\n",
    "            for (auto p2 : palins) {\n",
    "                if ((p1.first & p2.first) == 0) {\n",
    "                    res = max(res, p1.second * p2.second);\n",
    "                }\n",
    "            }\n",
    "        }\n",
    "        return res;\n",
    "    }\n",
    "};"
   ]
  },
  {
   "cell_type": "markdown",
   "metadata": {},
   "source": [
    "## Lessons and Thoughts\n",
    "- The constraint that the length of `s` is at most 12 should hint you to record all substrings.\n",
    "- Attempt 2 also records all substrings, and use bitwise operations to check if the two substrings are disjoint."
   ]
  }
 ],
 "metadata": {
  "kernelspec": {
   "display_name": "Python 3 (ipykernel)",
   "language": "python",
   "name": "python3"
  },
  "language_info": {
   "codemirror_mode": {
    "name": "ipython",
    "version": 3
   },
   "file_extension": ".py",
   "mimetype": "text/x-python",
   "name": "python",
   "nbconvert_exporter": "python",
   "pygments_lexer": "ipython3",
   "version": "3.9.7"
  }
 },
 "nbformat": 4,
 "nbformat_minor": 2
}
