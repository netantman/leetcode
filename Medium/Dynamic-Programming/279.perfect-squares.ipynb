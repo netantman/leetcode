{
 "cells": [
  {
   "cell_type": "markdown",
   "metadata": {},
   "source": [
    "## Attempt 1 - Time Limit Exceeded on a very large number self-tested"
   ]
  },
  {
   "cell_type": "code",
   "execution_count": null,
   "metadata": {},
   "outputs": [],
   "source": [
    "class Solution:\n",
    "    def numSquares(self, n: int) -> int:\n",
    "        squares=set([k*k for k in range(1,n+1)])\n",
    "        res=[n for idx in range(n+1)]\n",
    "        for i in range(1,n+1):\n",
    "            if i in squares:\n",
    "                res[i]=1\n",
    "            for j in range(1,i):\n",
    "                res[i]=min(res[i], res[j]+res[i-j])\n",
    "        return res[-1]"
   ]
  },
  {
   "cell_type": "markdown",
   "metadata": {},
   "source": [
    "## Attempt 2 - officially Time Limit Exceeded"
   ]
  },
  {
   "cell_type": "code",
   "execution_count": null,
   "metadata": {},
   "outputs": [],
   "source": [
    "class Solution:\n",
    "    def numSquares(self, n: int) -> int:\n",
    "        squares=[k*k for k in range(1,n+1) if k*k<=n]\n",
    "        if n in squares:\n",
    "            return 1   ##  --> you did not handle this edge case\n",
    "        cache=set(squares)\n",
    "        q=[(1, s) for s in squares]\n",
    "        while len(q)>0 and len(cache)<n:\n",
    "            head=q[0]\n",
    "            q=q[1:]\n",
    "            level, num=head\n",
    "            for s in squares:\n",
    "                if num+s==n:\n",
    "                    return level+1\n",
    "                elif (num+s<n) and (num+s not in cache):\n",
    "                    q.append((level+1, num+s))\n",
    "                    ## --> forgot to add to cache, which is what caused the TLE!"
   ]
  },
  {
   "cell_type": "markdown",
   "metadata": {},
   "source": [
    "## Attempt 3 - Accepted"
   ]
  },
  {
   "cell_type": "code",
   "execution_count": null,
   "metadata": {},
   "outputs": [],
   "source": [
    "class Solution:\n",
    "    def numSquares(self, n: int) -> int:\n",
    "        squares=[k*k for k in range(1,n+1) if k*k<=n]\n",
    "        if n in squares:\n",
    "            return 1\n",
    "        cache=set(squares)\n",
    "        q=[(1, s) for s in squares]\n",
    "        while len(q)>0 and len(cache)<n:\n",
    "            head=q[0]\n",
    "            q=q[1:]\n",
    "            level, num=head\n",
    "            for s in squares:\n",
    "                if num+s==n:\n",
    "                    return level+1\n",
    "                elif (num+s<n) and (num+s not in cache):\n",
    "                    q.append((level+1, num+s))\n",
    "                    cache.add(num+s)"
   ]
  },
  {
   "cell_type": "markdown",
   "metadata": {},
   "source": [
    "## Lessons and Thoughts\n",
    "- BFS is more efficient than simply DP in this case."
   ]
  }
 ],
 "metadata": {
  "kernelspec": {
   "display_name": "Python 3",
   "language": "python",
   "name": "python3"
  },
  "language_info": {
   "codemirror_mode": {
    "name": "ipython",
    "version": 3
   },
   "file_extension": ".py",
   "mimetype": "text/x-python",
   "name": "python",
   "nbconvert_exporter": "python",
   "pygments_lexer": "ipython3",
   "version": "3.7.3"
  }
 },
 "nbformat": 4,
 "nbformat_minor": 2
}
