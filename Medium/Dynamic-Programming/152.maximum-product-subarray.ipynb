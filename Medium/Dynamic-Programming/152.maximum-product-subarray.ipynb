{
 "cells": [
  {
   "cell_type": "markdown",
   "metadata": {},
   "source": [
    "## Attempt 1 - Wrong Answer"
   ]
  },
  {
   "cell_type": "code",
   "execution_count": null,
   "metadata": {},
   "outputs": [],
   "source": [
    "class Solution:\n",
    "    def maxProduct(self, nums: List[int]) -> int:\n",
    "        if len(nums)<1:\n",
    "            return 0\n",
    "        if len(nums)==1:\n",
    "            return nums[0]\n",
    "        \n",
    "        abs_min, abs_max, touching_min, touching_max=nums[0], nums[0], nums[0], nums[0]\n",
    "        L=len(nums)\n",
    "        for idx in range(1,L):\n",
    "            touching_min=min(touching_max*nums[idx], touching_min*nums[idx], nums[idx])\n",
    "            touching_max=max(touching_max*nums[idx], touching_min*nums[idx], nums[idx]) ## --> once you have updated your touching_min, it is not the value it used to be\n",
    "            abs_max=max(abs_max, touching_max)\n",
    "        return abs_max"
   ]
  },
  {
   "cell_type": "markdown",
   "metadata": {},
   "source": [
    "## Attempt 2 - Accepted"
   ]
  },
  {
   "cell_type": "code",
   "execution_count": null,
   "metadata": {},
   "outputs": [],
   "source": [
    "class Solution:\n",
    "    def maxProduct(self, nums: List[int]) -> int:\n",
    "        if len(nums)<1:\n",
    "            return 0\n",
    "        if len(nums)==1:\n",
    "            return nums[0]\n",
    "        \n",
    "        abs_min, abs_max, touching_min, touching_max=nums[0], nums[0], nums[0], nums[0]\n",
    "        L=len(nums)\n",
    "        for idx in range(1,L):\n",
    "            touching_min, touching_max=min(touching_max*nums[idx], touching_min*nums[idx], nums[idx]), max(touching_max*nums[idx], touching_min*nums[idx], nums[idx])\n",
    "            abs_max=max(abs_max, touching_max)\n",
    "        return abs_max"
   ]
  },
  {
   "cell_type": "markdown",
   "metadata": {},
   "source": [
    "## Lessons and Thoughts\n",
    "- For products, negative values can change a candidate max to min. So you need to track both running max and min."
   ]
  }
 ],
 "metadata": {
  "kernelspec": {
   "display_name": "Python 3",
   "language": "python",
   "name": "python3"
  },
  "language_info": {
   "codemirror_mode": {
    "name": "ipython",
    "version": 3
   },
   "file_extension": ".py",
   "mimetype": "text/x-python",
   "name": "python",
   "nbconvert_exporter": "python",
   "pygments_lexer": "ipython3",
   "version": "3.7.3"
  }
 },
 "nbformat": 4,
 "nbformat_minor": 2
}
