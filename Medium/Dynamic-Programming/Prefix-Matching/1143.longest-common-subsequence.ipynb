{
 "cells": [
  {
   "cell_type": "markdown",
   "metadata": {},
   "source": [
    "## Attempt 1 - Accepted"
   ]
  },
  {
   "cell_type": "code",
   "execution_count": null,
   "metadata": {},
   "outputs": [],
   "source": [
    "class Solution:\n",
    "    def longestCommonSubsequence(self, text1: str, text2: str) -> int:\n",
    "        L1, L2=len(text1), len(text2)\n",
    "        dp=[[0 for l2 in range(L2+1)] for l1 in range(L1+1)]\n",
    "        for r in range(1,L1+1):\n",
    "            dp[r][1]=1 if text2[0] in text1[:r] else 0\n",
    "        for c in range(1,L2+1):\n",
    "            dp[1][c]=1 if text1[0] in text2[:c] else 0\n",
    "        for s in range(4,L1+L2+1):\n",
    "            for r in range(2,s-1):\n",
    "                c=s-r\n",
    "                if r-1<=0 or c-1<=0 or r>L1 or c>L2:\n",
    "                    continue\n",
    "                dp[r][c]=max(dp[r][c-1], dp[r-1][c])\n",
    "                if text1[r-1]==text2[c-1]:\n",
    "                    dp[r][c]=max(dp[r][c], dp[r-1][c-1]+1)\n",
    "                else:\n",
    "                    dp[r][c]=max(dp[r][c], dp[r-1][c-1])\n",
    "        return dp[L1][L2]"
   ]
  },
  {
   "cell_type": "markdown",
   "metadata": {},
   "source": [
    "## Lessons and Thoughts\n",
    "- Double sequence can be used to solve sub sequence problems effectively.\n",
    "- But index out of range is hard as usual."
   ]
  }
 ],
 "metadata": {
  "kernelspec": {
   "display_name": "Python 3",
   "language": "python",
   "name": "python3"
  },
  "language_info": {
   "codemirror_mode": {
    "name": "ipython",
    "version": 3
   },
   "file_extension": ".py",
   "mimetype": "text/x-python",
   "name": "python",
   "nbconvert_exporter": "python",
   "pygments_lexer": "ipython3",
   "version": "3.7.3"
  }
 },
 "nbformat": 4,
 "nbformat_minor": 2
}
