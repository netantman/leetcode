{
 "cells": [
  {
   "cell_type": "markdown",
   "metadata": {},
   "source": [
    "## Attempt 1 - Accepted"
   ]
  },
  {
   "cell_type": "code",
   "execution_count": null,
   "metadata": {},
   "outputs": [],
   "source": [
    "class Solution:\n",
    "    def findLength(self, A: List[int], B: List[int]) -> int:\n",
    "        La,Lb=len(A),len(B)\n",
    "        dp=[[None for _ in range(Lb)] for _ in range(La)]\n",
    "        for j in range(Lb):\n",
    "            dp[0][j]=1 if A[0]==B[j] else 0\n",
    "        for i in range(La):\n",
    "            dp[i][0]=1 if B[0]==A[i] else 0\n",
    "        for i in range(1,La):\n",
    "            for j in range(1,Lb):\n",
    "                dp[i][j]=dp[i-1][j-1]+1 if A[i]==B[j] else 0\n",
    "        \n",
    "        res=max([max(dp[i]) for i in range(La)])\n",
    "        return res"
   ]
  },
  {
   "cell_type": "markdown",
   "metadata": {},
   "source": [
    "## Attempt 2 - Accepted"
   ]
  },
  {
   "cell_type": "code",
   "execution_count": null,
   "metadata": {},
   "outputs": [],
   "source": [
    "class Solution:\n",
    "    def findLength(self, nums1: List[int], nums2: List[int]) -> int:\n",
    "        R, C = len(nums1), len(nums2)\n",
    "        res = 0\n",
    "        dp = [[0 for _ in range(C)] for _ in range(R)]\n",
    "        for r in range(R):\n",
    "            if nums1[r] == nums2[0]:\n",
    "                dp[r][0] = 1\n",
    "                res = 1\n",
    "        for c in range(C):\n",
    "            if nums2[c] == nums1[0]:\n",
    "                dp[0][c] = 1\n",
    "                res = 1\n",
    "        for r in range(1, R):\n",
    "            for c in range(1, C):\n",
    "                dp[r][c] = dp[r-1][c-1] + 1 if nums1[r] == nums2[c] else 0\n",
    "                res = max(res, dp[r][c])\n",
    "        return res"
   ]
  },
  {
   "cell_type": "markdown",
   "metadata": {},
   "source": [
    "## Attempt 3 - Accepted"
   ]
  },
  {
   "cell_type": "code",
   "execution_count": null,
   "metadata": {},
   "outputs": [],
   "source": [
    "class Solution {\n",
    "public:\n",
    "    int findLength(vector<int>& nums1, vector<int>& nums2) {\n",
    "        int R = nums1.size();\n",
    "        int C = nums2.size();\n",
    "        vector<vector<int>> dp(R, vector<int>(C)); ## --> initialize a vector of vector\n",
    "        int res = 0;\n",
    "        for(int r=0; r<R; r++) {\n",
    "            if (nums1[r] == nums2[0]) {\n",
    "                dp[r][0] = 1;\n",
    "                res = 1;    \n",
    "            }\n",
    "        }\n",
    "        \n",
    "        for(int c=0; c<C; c++) {\n",
    "            if (nums2[c] == nums1[0]) {\n",
    "                dp[0][c] = 1;    \n",
    "                res = 1;\n",
    "            }\n",
    "        }\n",
    "        \n",
    "        for(int r=1; r<R; r++) {\n",
    "            for(int c=1; c<C; c++) {\n",
    "                dp[r][c] = (nums1[r] == nums2[c]) ? dp[r-1][c-1] + 1 : 0;\n",
    "                res = max(res, dp[r][c]);\n",
    "            }\n",
    "        }\n",
    "    return res;\n",
    "    }\n",
    "    \n",
    "};"
   ]
  },
  {
   "cell_type": "markdown",
   "metadata": {},
   "source": [
    "## Lessons and Thoughts\n",
    "- Again, for these kind of \"finding subarray\" problems, DP can be quite useful."
   ]
  }
 ],
 "metadata": {
  "kernelspec": {
   "display_name": "Python 3",
   "language": "python",
   "name": "python3"
  },
  "language_info": {
   "codemirror_mode": {
    "name": "ipython",
    "version": 3
   },
   "file_extension": ".py",
   "mimetype": "text/x-python",
   "name": "python",
   "nbconvert_exporter": "python",
   "pygments_lexer": "ipython3",
   "version": "3.6.5"
  }
 },
 "nbformat": 4,
 "nbformat_minor": 2
}
