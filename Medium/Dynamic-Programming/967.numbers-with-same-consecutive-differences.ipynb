{
 "cells": [
  {
   "cell_type": "markdown",
   "metadata": {},
   "source": [
    "## Attempt 1 - Wrong Answer"
   ]
  },
  {
   "cell_type": "code",
   "execution_count": null,
   "metadata": {},
   "outputs": [],
   "source": [
    "class Solution:\n",
    "    def numsSameConsecDiff(self, N: int, K: int) -> List[int]:\n",
    "        res=[str(i) for i in range(1,10)] ## --> when N=1, 0 is allowed\n",
    "        for n in range(2,N+1):\n",
    "            nexxt=[]\n",
    "            for r in res:\n",
    "                last=int(r[-1])\n",
    "                if K>0:\n",
    "                    if last+K<=9:\n",
    "                        nexxt.append(r+str(last+K))\n",
    "                    if last-K>=0:\n",
    "                        nexxt.append(r+str(last-K))\n",
    "                else:\n",
    "                    nexxt.append(r+str(last))\n",
    "            res=nexxt\n",
    "        return [int(r) for r in res]"
   ]
  },
  {
   "cell_type": "markdown",
   "metadata": {},
   "source": [
    "## Attempt 2 - Accepted"
   ]
  },
  {
   "cell_type": "code",
   "execution_count": null,
   "metadata": {},
   "outputs": [],
   "source": [
    "class Solution:\n",
    "    def numsSameConsecDiff(self, N: int, K: int) -> List[int]:\n",
    "        res=[str(i) for i in range(1,10)]\n",
    "        for n in range(2,N+1):\n",
    "            nexxt=[]\n",
    "            for r in res:\n",
    "                last=int(r[-1])\n",
    "                if K>0:\n",
    "                    if last+K<=9:\n",
    "                        nexxt.append(r+str(last+K))\n",
    "                    if last-K>=0:\n",
    "                        nexxt.append(r+str(last-K))\n",
    "                else:\n",
    "                    nexxt.append(r+str(last))\n",
    "            res=nexxt\n",
    "        res=[int(r) for r in res]\n",
    "        if N==1:\n",
    "            res+=[0]\n",
    "        return res"
   ]
  },
  {
   "cell_type": "markdown",
   "metadata": {},
   "source": [
    "## Lessons and Thoughts\n",
    "- Proceed by each digit."
   ]
  }
 ],
 "metadata": {
  "kernelspec": {
   "display_name": "Python 3",
   "language": "python",
   "name": "python3"
  },
  "language_info": {
   "codemirror_mode": {
    "name": "ipython",
    "version": 3
   },
   "file_extension": ".py",
   "mimetype": "text/x-python",
   "name": "python",
   "nbconvert_exporter": "python",
   "pygments_lexer": "ipython3",
   "version": "3.7.3"
  }
 },
 "nbformat": 4,
 "nbformat_minor": 2
}
