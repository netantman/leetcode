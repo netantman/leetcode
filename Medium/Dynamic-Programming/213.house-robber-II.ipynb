{
 "cells": [
  {
   "cell_type": "markdown",
   "metadata": {},
   "source": [
    "## Attempt 1 - Accepted"
   ]
  },
  {
   "cell_type": "code",
   "execution_count": null,
   "metadata": {},
   "outputs": [],
   "source": [
    "class Solution:\n",
    "    def rob(self, nums: List[int]) -> int:\n",
    "        def rob_inner(nums: List[int]) -> int:\n",
    "            if len(nums)<1:\n",
    "                return 0\n",
    "            if len(nums)==1:\n",
    "                return nums[0]\n",
    "            if len(nums)==2:\n",
    "                return max(nums)\n",
    "\n",
    "            L=len(nums)\n",
    "            res=[None for l in range(L)]\n",
    "            res[0]=nums[0]\n",
    "            res[1]=max(nums[0], nums[1])\n",
    "            for idx in range(2, L):\n",
    "                res[idx]=max(res[idx-1], res[idx-2]+nums[idx])\n",
    "            return res[-1]\n",
    "        \n",
    "        if len(nums)<1:\n",
    "            return 0\n",
    "        if len(nums)<=3:\n",
    "            return max(nums)\n",
    "        res=max(nums[0]+rob_inner(nums[2:-1]), rob_inner(nums[1:]))\n",
    "        res=max(res, nums[-1]+rob_inner(nums[1:-2]), rob_inner(nums[:-1]))\n",
    "        L=len(nums)\n",
    "        for idx in range(1,L-1):\n",
    "            res=max(res, nums[idx]+rob_inner(nums[idx+2:]+nums[:idx-1]), rob_inner(nums[idx+1:]+nums[:idx]))\n",
    "        return res"
   ]
  },
  {
   "cell_type": "markdown",
   "metadata": {},
   "source": [
    "## Lessons and Thoughts\n",
    "- Very similar to Problem 182: just need to break the circle and careful what to do with the nums left."
   ]
  }
 ],
 "metadata": {
  "kernelspec": {
   "display_name": "Python 3",
   "language": "python",
   "name": "python3"
  },
  "language_info": {
   "codemirror_mode": {
    "name": "ipython",
    "version": 3
   },
   "file_extension": ".py",
   "mimetype": "text/x-python",
   "name": "python",
   "nbconvert_exporter": "python",
   "pygments_lexer": "ipython3",
   "version": "3.7.3"
  }
 },
 "nbformat": 4,
 "nbformat_minor": 2
}
