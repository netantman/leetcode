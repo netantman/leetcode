{
 "cells": [
  {
   "cell_type": "markdown",
   "metadata": {},
   "source": [
    "## Attempt 1 - Accepted"
   ]
  },
  {
   "cell_type": "code",
   "execution_count": null,
   "metadata": {},
   "outputs": [],
   "source": [
    "class Solution:\n",
    "    def findLength(self, A: List[int], B: List[int]) -> int:\n",
    "        La,Lb=len(A),len(B)\n",
    "        dp=[[None for _ in range(Lb)] for _ in range(La)]\n",
    "        for j in range(Lb):\n",
    "            dp[0][j]=1 if A[0]==B[j] else 0\n",
    "        for i in range(La):\n",
    "            dp[i][0]=1 if B[0]==A[i] else 0\n",
    "        for i in range(1,La):\n",
    "            for j in range(1,Lb):\n",
    "                dp[i][j]=dp[i-1][j-1]+1 if A[i]==B[j] else 0\n",
    "        \n",
    "        res=max([max(dp[i]) for i in range(La)])\n",
    "        return res"
   ]
  },
  {
   "cell_type": "markdown",
   "metadata": {},
   "source": [
    "## Lessons and Thoughts\n",
    "- Again, for these kind of \"finding subarray\" problems, DP can be quite useful."
   ]
  }
 ],
 "metadata": {
  "kernelspec": {
   "display_name": "Python 3",
   "language": "python",
   "name": "python3"
  },
  "language_info": {
   "codemirror_mode": {
    "name": "ipython",
    "version": 3
   },
   "file_extension": ".py",
   "mimetype": "text/x-python",
   "name": "python",
   "nbconvert_exporter": "python",
   "pygments_lexer": "ipython3",
   "version": "3.7.3"
  }
 },
 "nbformat": 4,
 "nbformat_minor": 2
}
