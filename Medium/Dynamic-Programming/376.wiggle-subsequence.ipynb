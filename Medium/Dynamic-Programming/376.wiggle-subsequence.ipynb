{
 "cells": [
  {
   "cell_type": "markdown",
   "metadata": {},
   "source": [
    "## Attempt 1 - Wrong Answer"
   ]
  },
  {
   "cell_type": "code",
   "execution_count": null,
   "metadata": {},
   "outputs": [],
   "source": [
    "class Solution:\n",
    "    def wiggleMaxLength(self, nums: List[int]) -> int:\n",
    "        L=len(nums)\n",
    "        if L<=2:\n",
    "            return L \n",
    "        \n",
    "        res={idx:[nums[idx-1], nums[idx]] for idx in range(1, L)} ## --> each idx does not get a sequence of length 2 for free, since the two numbers can be the same.\n",
    "        res[0]=[nums[0]]\n",
    "        for idx in range(2,L):\n",
    "            for j in range(1,idx):\n",
    "                back_two, back_one=res[j][-2], res[j][-1]\n",
    "                if (back_two<back_one and back_one>nums[idx]) or (back_two>back_one and back_one<nums[idx]):\n",
    "                    if len(res[idx])<len(res[j])+1:\n",
    "                        res[idx]=res[j]+[nums[idx]]\n",
    "        return max([len(v) for v in res.values()])"
   ]
  },
  {
   "cell_type": "markdown",
   "metadata": {},
   "source": [
    "## Attempt 2 - Accepted"
   ]
  },
  {
   "cell_type": "code",
   "execution_count": null,
   "metadata": {},
   "outputs": [],
   "source": [
    "class Solution:\n",
    "    def wiggleMaxLength(self, nums: List[int]) -> int:\n",
    "        L=len(nums)\n",
    "        if L<=1:\n",
    "            return L \n",
    "        \n",
    "        res={idx:[nums[idx]] for idx in range(L)}\n",
    "        for idx in range(1,L):\n",
    "            for j in range(idx):\n",
    "                if len(res[j])>1:\n",
    "                    back_two, back_one=res[j][-2], res[j][-1]\n",
    "                    if (back_two<back_one and back_one>nums[idx]) or (back_two>back_one and back_one<nums[idx]):\n",
    "                        if len(res[idx])<len(res[j])+1:\n",
    "                            res[idx]=res[j]+[nums[idx]]\n",
    "                else:\n",
    "                    back=res[j][-1]\n",
    "                    if nums[idx]!=back:\n",
    "                        if len(res[idx])<len(res[j])+1:\n",
    "                            res[idx]=res[j]+[nums[idx]]\n",
    "        # print(res)\n",
    "        return max([len(v) for v in res.values()])"
   ]
  },
  {
   "cell_type": "markdown",
   "metadata": {},
   "source": [
    "## Lessons and Thoughts\n",
    "- Similar to Problem 296.\n",
    "- It is also labeled greedy on leetcode."
   ]
  }
 ],
 "metadata": {
  "kernelspec": {
   "display_name": "Python 3",
   "language": "python",
   "name": "python3"
  },
  "language_info": {
   "codemirror_mode": {
    "name": "ipython",
    "version": 3
   },
   "file_extension": ".py",
   "mimetype": "text/x-python",
   "name": "python",
   "nbconvert_exporter": "python",
   "pygments_lexer": "ipython3",
   "version": "3.7.3"
  }
 },
 "nbformat": 4,
 "nbformat_minor": 2
}
