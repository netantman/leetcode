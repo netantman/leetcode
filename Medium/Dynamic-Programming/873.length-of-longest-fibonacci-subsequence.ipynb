{
 "cells": [
  {
   "cell_type": "markdown",
   "metadata": {},
   "source": [
    "## Attempt 1 - Time Limit Exceeded"
   ]
  },
  {
   "cell_type": "code",
   "execution_count": null,
   "metadata": {},
   "outputs": [],
   "source": [
    "class Solution:\n",
    "    def lenLongestFibSubseq(self, A: List[int]) -> int:\n",
    "        maxx=0\n",
    "        L=len(A)\n",
    "        if L<=2:\n",
    "            return maxx\n",
    "        res=[[] for _ in A]\n",
    "        res[1]=[[A[0], A[1]]]\n",
    "        for idx in range(1,L):\n",
    "            res[idx].append([A[0],A[idx]])\n",
    "            for j in range(1,idx):\n",
    "                res[idx].append([A[j],A[idx]])\n",
    "                prev=res[j]\n",
    "                for p in prev:\n",
    "                    if A[idx]==p[-1]+p[-2]:\n",
    "                        res[idx].append(p+[A[idx]])\n",
    "                        maxx=max(maxx, len(p)+1)\n",
    "        if maxx>=3:\n",
    "            return maxx\n",
    "        else:\n",
    "            return 0"
   ]
  },
  {
   "cell_type": "markdown",
   "metadata": {},
   "source": [
    "## Attempt 2 - Accepted"
   ]
  },
  {
   "cell_type": "code",
   "execution_count": null,
   "metadata": {},
   "outputs": [],
   "source": [
    "class Solution:\n",
    "    def lenLongestFibSubseq(self, A: List[int]) -> int:\n",
    "        L=len(A)\n",
    "        if L<=2:\n",
    "            return 0\n",
    "        \n",
    "        res=dict()\n",
    "        for j in range(1,L):\n",
    "            res[A[0],A[j]]=2\n",
    "            for i in range(1,j):\n",
    "                if (A[j]-A[i], A[i]) in res:\n",
    "                    res[A[i],A[j]]=max(res.get((A[i],A[j]), 2), res[A[j]-A[i],A[i]]+1)\n",
    "                else:\n",
    "                    res[A[i],A[j]]=2\n",
    "        maxx=max(list(res.values()))\n",
    "        if maxx>=3:\n",
    "            return maxx\n",
    "        else:\n",
    "            return 0"
   ]
  },
  {
   "cell_type": "markdown",
   "metadata": {},
   "source": [
    "## Lessons and Thoughts\n",
    "- You don't need to record every Fibonacci sequence ending with `A[i]`."
   ]
  }
 ],
 "metadata": {
  "kernelspec": {
   "display_name": "Python 3",
   "language": "python",
   "name": "python3"
  },
  "language_info": {
   "codemirror_mode": {
    "name": "ipython",
    "version": 3
   },
   "file_extension": ".py",
   "mimetype": "text/x-python",
   "name": "python",
   "nbconvert_exporter": "python",
   "pygments_lexer": "ipython3",
   "version": "3.7.3"
  }
 },
 "nbformat": 4,
 "nbformat_minor": 2
}
