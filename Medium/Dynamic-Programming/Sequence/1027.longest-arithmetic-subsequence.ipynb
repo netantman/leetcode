{
 "cells": [
  {
   "cell_type": "markdown",
   "metadata": {},
   "source": [
    "## Attempt 1 - Wrong Answer"
   ]
  },
  {
   "cell_type": "code",
   "execution_count": null,
   "metadata": {},
   "outputs": [],
   "source": [
    "class Solution:\n",
    "    def longestArithSeqLength(self, A: List[int]) -> int:\n",
    "        dp=[[] for a in A]\n",
    "        for idx, a in enumerate(A):\n",
    "            for j in range(idx):\n",
    "                a_j=A[j]\n",
    "                diff=a-a_j\n",
    "                for prev in dp[j]:\n",
    "                    if prev[-1]-prev[-2]==diff:\n",
    "                        dp[idx].append([p for p in prev]+[a]) ## --> not enough to just append this\n",
    "                        break\n",
    "                else:\n",
    "                    dp[idx].append([a_j,a])\n",
    "        def get_len(seqs):\n",
    "            if not seqs:\n",
    "                return 0\n",
    "            return max(map(len,seqs))\n",
    "        \n",
    "        return max(map(get_len,dp))"
   ]
  },
  {
   "cell_type": "markdown",
   "metadata": {},
   "source": [
    "## Attempt 2 - Time Limit Exceeded"
   ]
  },
  {
   "cell_type": "code",
   "execution_count": null,
   "metadata": {},
   "outputs": [],
   "source": [
    "class Solution:\n",
    "    def longestArithSeqLength(self, A: List[int]) -> int:\n",
    "        dp=[[] for a in A]\n",
    "        for idx, a in enumerate(A):\n",
    "            for j in range(idx):\n",
    "                a_j=A[j]\n",
    "                diff=a-a_j\n",
    "                for prev in dp[j]:\n",
    "                    if a_j-prev[-2]==diff:\n",
    "                        dp[idx].append([p for p in prev]+[a])\n",
    "                        break\n",
    "                dp[idx].append([a_j,a])\n",
    "                dp[idx]=sorted(dp[idx],key=lambda x:len(x),reverse=True)\n",
    "        def get_len(seqs):\n",
    "            if not seqs:\n",
    "                return 0\n",
    "            return max(map(len,seqs))\n",
    "        \n",
    "        return max(map(get_len,dp))"
   ]
  },
  {
   "cell_type": "markdown",
   "metadata": {},
   "source": [
    "## Attempt 3 - Accepted"
   ]
  },
  {
   "cell_type": "code",
   "execution_count": null,
   "metadata": {},
   "outputs": [],
   "source": [
    "class Solution:\n",
    "    def longestArithSeqLength(self, A: List[int]) -> int:\n",
    "        dp=[dict() for a in A]\n",
    "        for idx, a in enumerate(A):\n",
    "            for j in range(idx):\n",
    "                diff=a-A[j]\n",
    "                dp[idx][diff]=dp[j].get(diff,1)+1\n",
    "        \n",
    "        def get_len(d):\n",
    "            if not d:\n",
    "                return 0\n",
    "            return max(d.values())\n",
    "        \n",
    "        return max(map(get_len,dp))"
   ]
  },
  {
   "cell_type": "markdown",
   "metadata": {},
   "source": [
    "## Lessons and Thoughts\n",
    "- When there is no need for you keep track of all combinations but to just keep count, don't keep the record."
   ]
  }
 ],
 "metadata": {
  "kernelspec": {
   "display_name": "Python 3",
   "language": "python",
   "name": "python3"
  },
  "language_info": {
   "codemirror_mode": {
    "name": "ipython",
    "version": 3
   },
   "file_extension": ".py",
   "mimetype": "text/x-python",
   "name": "python",
   "nbconvert_exporter": "python",
   "pygments_lexer": "ipython3",
   "version": "3.7.3"
  }
 },
 "nbformat": 4,
 "nbformat_minor": 2
}
