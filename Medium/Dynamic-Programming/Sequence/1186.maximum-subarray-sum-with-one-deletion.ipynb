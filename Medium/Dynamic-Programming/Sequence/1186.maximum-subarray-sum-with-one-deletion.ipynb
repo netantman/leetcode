{
 "cells": [
  {
   "cell_type": "markdown",
   "metadata": {},
   "source": [
    "## Attempt 1 - Wrong Answer"
   ]
  },
  {
   "cell_type": "code",
   "execution_count": null,
   "metadata": {},
   "outputs": [],
   "source": [
    "class Solution:\n",
    "    def maximumSum(self, arr: List[int]) -> int:\n",
    "        running, minn=[], []\n",
    "        L=len(arr)\n",
    "        for idx in range(L):\n",
    "            if idx==0:\n",
    "                running.append(arr[0])\n",
    "                minn.append(None)\n",
    "            else:\n",
    "                curr=arr[idx]\n",
    "                cmp=max(curr+running[-1]-minn[-1], curr+running[-1]) if minn[-1] else curr+running[-1]  ## --> the iteration function does not work.\n",
    "                if cmp>curr:\n",
    "                    if not minn[-1]:\n",
    "                        minn.append(min(curr, running[-1]))\n",
    "                    else:\n",
    "                        minn.append(min(curr, minn[-1]))\n",
    "                    running.append(curr+running[-1])\n",
    "                else:\n",
    "                    minn.append(None)\n",
    "                    running.append(curr)\n",
    "        minn=[m if m else 0 for m in minn]\n",
    "        res=[max(r-m,r) for r,m in zip(running, minn)]\n",
    "        return max(res)"
   ]
  },
  {
   "cell_type": "markdown",
   "metadata": {},
   "source": [
    "## Attempt 2 - Accepted"
   ]
  },
  {
   "cell_type": "code",
   "execution_count": null,
   "metadata": {},
   "outputs": [],
   "source": [
    "class Solution:\n",
    "    def maximumSum(self, arr: List[int]) -> int:\n",
    "        A,B,res=0, arr[0], arr[0]\n",
    "        L=len(arr)\n",
    "        for idx in range(1,L):\n",
    "            curr=arr[idx]\n",
    "            A=max(A+curr, B)\n",
    "            B=max(B+curr, curr)\n",
    "            res=max(res,A,B)\n",
    "        return res"
   ]
  },
  {
   "cell_type": "markdown",
   "metadata": {},
   "source": [
    "## Lessons and Thoughts\n",
    "- This is a sequence DP, but the iteration function in the first attempt does not work.\n",
    "- The accepted algo is from the app, where `A` is the one with one delection, and `B` is the one without delection. The iteration functions on these two are easier. The algo already makes use of rolling optimization."
   ]
  }
 ],
 "metadata": {
  "kernelspec": {
   "display_name": "Python 3",
   "language": "python",
   "name": "python3"
  },
  "language_info": {
   "codemirror_mode": {
    "name": "ipython",
    "version": 3
   },
   "file_extension": ".py",
   "mimetype": "text/x-python",
   "name": "python",
   "nbconvert_exporter": "python",
   "pygments_lexer": "ipython3",
   "version": "3.7.3"
  }
 },
 "nbformat": 4,
 "nbformat_minor": 2
}
