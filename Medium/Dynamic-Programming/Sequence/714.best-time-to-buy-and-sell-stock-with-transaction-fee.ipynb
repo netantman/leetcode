{
 "cells": [
  {
   "cell_type": "markdown",
   "metadata": {},
   "source": [
    "## Attempt 1 - Accepted"
   ]
  },
  {
   "cell_type": "code",
   "execution_count": null,
   "metadata": {},
   "outputs": [],
   "source": [
    "class Solution:\n",
    "    def maxProfit(self, prices: List[int], fee: int) -> int:\n",
    "        L=len(prices)\n",
    "        if L<2:\n",
    "            return 0\n",
    "        longs=[0 for _ in range(L)]\n",
    "        zeros=[0 for _ in range(L)]\n",
    "        for idx in range(L):\n",
    "            if idx==0:\n",
    "                longs[0]=-prices[0]-fee\n",
    "            else:\n",
    "                longs[idx]=max(longs[idx-1], zeros[idx-1]-prices[idx]-fee)\n",
    "                zeros[idx]=max(zeros[idx-1], longs[idx-1]+prices[idx])\n",
    "        return zeros[-1]"
   ]
  },
  {
   "cell_type": "markdown",
   "metadata": {},
   "source": [
    "## Attempt 2 - Accepted"
   ]
  },
  {
   "cell_type": "code",
   "execution_count": null,
   "metadata": {},
   "outputs": [],
   "source": [
    "class Solution {\n",
    "public:\n",
    "    int maxProfit(vector<int>& prices, int fee) {\n",
    "        if (prices.size() == 1) {\n",
    "            return 0;\n",
    "        }\n",
    "        \n",
    "        int own = -prices.front() - fee;\n",
    "        int flat = 0;\n",
    "        int last_own, last_flat;\n",
    "        \n",
    "        for (int idx=1; idx<prices.size(); idx++) {\n",
    "            last_own = own;\n",
    "            last_flat = flat;\n",
    "            own = max(last_flat - prices[idx] - fee, last_own);\n",
    "            flat = max(last_own + prices[idx], last_flat);\n",
    "        }\n",
    "        return flat;\n",
    "    };\n",
    "\n",
    "};"
   ]
  },
  {
   "cell_type": "markdown",
   "metadata": {},
   "source": [
    "## Lessons and Thoughts\n",
    "- Same DP solution as in Problem 309.\n",
    "- Problems of this sort, probably OK to think in the line of setting up `own` and `flat`."
   ]
  }
 ],
 "metadata": {
  "kernelspec": {
   "display_name": "Python 3",
   "language": "python",
   "name": "python3"
  },
  "language_info": {
   "codemirror_mode": {
    "name": "ipython",
    "version": 3
   },
   "file_extension": ".py",
   "mimetype": "text/x-python",
   "name": "python",
   "nbconvert_exporter": "python",
   "pygments_lexer": "ipython3",
   "version": "3.6.5"
  }
 },
 "nbformat": 4,
 "nbformat_minor": 2
}
