{
 "cells": [
  {
   "cell_type": "markdown",
   "metadata": {},
   "source": [
    "## Attempt 1 - Time Limit Exceeded"
   ]
  },
  {
   "cell_type": "code",
   "execution_count": null,
   "metadata": {},
   "outputs": [],
   "source": [
    "class Solution:\n",
    "    def maxNonOverlapping(self, nums: List[int], target: int) -> int:\n",
    "        dp = [0]\n",
    "        L = len(nums)\n",
    "        for idx in range(L):\n",
    "            head = 0\n",
    "            last_sum = 0\n",
    "            curr = float('-inf')\n",
    "            while head + 1 <= len(dp):\n",
    "                last_sum += nums[idx - head]\n",
    "                if last_sum == target:\n",
    "                    curr = max(curr, dp[-(1 + head)]+1)\n",
    "                else:\n",
    "                    curr = max(curr, dp[-(1 + head)])\n",
    "                head += 1\n",
    "            dp.append(curr)\n",
    "        return dp[-1]"
   ]
  },
  {
   "cell_type": "markdown",
   "metadata": {},
   "source": [
    "## Attempt 2 - Accepted"
   ]
  },
  {
   "cell_type": "code",
   "execution_count": null,
   "metadata": {},
   "outputs": [],
   "source": [
    "class Solution:\n",
    "    def maxNonOverlapping(self, nums: List[int], target: int) -> int:\n",
    "        s, cumsum, ans = {0}, 0, 0\n",
    "        for num in nums:\n",
    "            cumsum += num\n",
    "            if cumsum - target in s:\n",
    "                ans += 1\n",
    "                s, cumsum = {0}, 0\n",
    "            else:\n",
    "                s.add(cumsum)\n",
    "        return ans"
   ]
  },
  {
   "cell_type": "markdown",
   "metadata": {},
   "source": [
    "## Lessons and Thoughts\n",
    "- The accepted attempt is from the apps. The idea is greedily collect the subarrays as long as it make targets, and do not regard any longer subarrays that may come about later.\n",
    "- As with all greedy algo, it is hard to prove its correctness. Instead, the DP algo (Attempt 1) is definitely correct, but exceeded time limit on this problem,"
   ]
  }
 ],
 "metadata": {
  "kernelspec": {
   "display_name": "Python 3",
   "language": "python",
   "name": "python3"
  },
  "language_info": {
   "codemirror_mode": {
    "name": "ipython",
    "version": 3
   },
   "file_extension": ".py",
   "mimetype": "text/x-python",
   "name": "python",
   "nbconvert_exporter": "python",
   "pygments_lexer": "ipython3",
   "version": "3.7.3"
  }
 },
 "nbformat": 4,
 "nbformat_minor": 2
}
