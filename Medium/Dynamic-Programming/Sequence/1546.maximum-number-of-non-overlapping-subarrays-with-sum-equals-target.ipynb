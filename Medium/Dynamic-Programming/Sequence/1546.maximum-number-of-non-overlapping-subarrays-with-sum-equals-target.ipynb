{
 "cells": [
  {
   "cell_type": "markdown",
   "metadata": {},
   "source": [
    "## Attempt 1 - Time Limit Exceeded"
   ]
  },
  {
   "cell_type": "code",
   "execution_count": null,
   "metadata": {},
   "outputs": [],
   "source": [
    "class Solution:\n",
    "    def maxNonOverlapping(self, nums: List[int], target: int) -> int:\n",
    "        dp = [0]\n",
    "        L = len(nums)\n",
    "        for idx in range(L):\n",
    "            head = 0\n",
    "            last_sum = 0\n",
    "            curr = float('-inf')\n",
    "            while head + 1 <= len(dp):\n",
    "                last_sum += nums[idx - head]\n",
    "                if last_sum == target:\n",
    "                    curr = max(curr, dp[-(1 + head)]+1)\n",
    "                else:\n",
    "                    curr = max(curr, dp[-(1 + head)])\n",
    "                head += 1\n",
    "            dp.append(curr)\n",
    "        return dp[-1]"
   ]
  },
  {
   "cell_type": "markdown",
   "metadata": {},
   "source": [
    "## Attempt 2 - Accepted"
   ]
  },
  {
   "cell_type": "code",
   "execution_count": null,
   "metadata": {},
   "outputs": [],
   "source": [
    "class Solution:\n",
    "    def maxNonOverlapping(self, nums: List[int], target: int) -> int:\n",
    "        s, cumsum, ans = {0}, 0, 0\n",
    "        for num in nums:\n",
    "            cumsum += num\n",
    "            if cumsum - target in s:\n",
    "                ans += 1\n",
    "                s, cumsum = {0}, 0\n",
    "            else:\n",
    "                s.add(cumsum)\n",
    "        return ans"
   ]
  },
  {
   "cell_type": "markdown",
   "metadata": {},
   "source": [
    "## Attempt 3 - Time Limit Exceeded"
   ]
  },
  {
   "cell_type": "code",
   "execution_count": null,
   "metadata": {},
   "outputs": [],
   "source": [
    "class Solution {\n",
    "public:\n",
    "    int maxNonOverlapping(vector<int>& nums, int target) {\n",
    "        vector<int> cumsum = {0};\n",
    "        int L = nums.size();\n",
    "        map<int, vector<int>> positions = {{0, {0}}};\n",
    "        vector<vector<int>> intervals = {};\n",
    "        for (int idx=0; idx<L; idx++) {\n",
    "            int n = nums[idx];\n",
    "            int curr = cumsum.back() + n;\n",
    "            cumsum.push_back(curr);\n",
    "            if (positions.find(curr - target) != positions.end()) {\n",
    "                for (auto prev : positions[curr - target]) {\n",
    "                    vector<int> interval = {prev, idx + 1};\n",
    "                    intervals.push_back(interval);\n",
    "                }\n",
    "            }\n",
    "            if (positions.find(curr) != positions.end()) {\n",
    "                positions[curr].push_back(idx + 1);\n",
    "            }\n",
    "            else {\n",
    "                vector<int> tmp = {idx + 1};\n",
    "                positions[curr] = tmp;\n",
    "            }\n",
    "        }\n",
    "        \n",
    "        sort(intervals.begin(), intervals.end(), [](vector<int> x, vector<int> y) {return (x[0] < y[0]) || ((x[0] == y[0]) && (x[1] < y[1]));});\n",
    "        \n",
    "        int Li = intervals.size();\n",
    "        if (Li <= 1) {\n",
    "            return Li;\n",
    "        }\n",
    "        vector<int> dp(Li, 0);\n",
    "        dp[0] = 1;\n",
    "        for (int idx=1; idx<Li; idx++) {\n",
    "            vector<int> back = intervals[idx];\n",
    "            int this_dp = 1;\n",
    "            for (int j=0; j<idx; j++) {\n",
    "                vector<int> front = intervals[j];\n",
    "                if (back[0] < front[1]) {\n",
    "                    continue;\n",
    "                }\n",
    "                this_dp = max(this_dp, dp[j] + 1);\n",
    "            }\n",
    "            dp[idx] = this_dp;\n",
    "        }  \n",
    "        \n",
    "        int res = *max_element(dp.begin(), dp.end());\n",
    "        return res;\n",
    "    }\n",
    "};"
   ]
  },
  {
   "cell_type": "markdown",
   "metadata": {},
   "source": [
    "## Lessons and Thoughts\n",
    "- The accepted attempt is from the apps. The idea is greedily collect the subarrays as long as it make targets, and do not regard any longer subarrays that may come about later.\n",
    "- As with all greedy algo, it is hard to prove its correctness. Instead, the DP algo (Attempt 1) is definitely correct, but exceeded time limit on this problem,\n",
    "- The algo in Attempt 3 is to collect all intervals and proceed in the same way as LIS, thus also `O(n^2)`."
   ]
  }
 ],
 "metadata": {
  "kernelspec": {
   "display_name": "Python 3",
   "language": "python",
   "name": "python3"
  },
  "language_info": {
   "codemirror_mode": {
    "name": "ipython",
    "version": 3
   },
   "file_extension": ".py",
   "mimetype": "text/x-python",
   "name": "python",
   "nbconvert_exporter": "python",
   "pygments_lexer": "ipython3",
   "version": "3.6.5"
  }
 },
 "nbformat": 4,
 "nbformat_minor": 2
}
