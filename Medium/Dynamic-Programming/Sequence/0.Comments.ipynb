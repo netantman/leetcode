{
 "cells": [
  {
   "cell_type": "markdown",
   "metadata": {},
   "source": [
    "## Idea"
   ]
  },
  {
   "cell_type": "markdown",
   "metadata": {},
   "source": [
    "- The **state**: `dp[i]` denotes the `i`-th or the cumulative `i`-th position/number/character.\n",
    "- The **function**: `dp[i]` is a function of `dp[j]` where `j` is smaller than `i`.\n",
    "- **Initialization**: `dp[0]`\n",
    "- **Result**: `dp[L]`"
   ]
  },
  {
   "cell_type": "markdown",
   "metadata": {},
   "source": [
    "## Traps\n",
    "- Usually the answer is `dp[L]` rather than `dp[L-1]`. That is, the space of `dp` is one more than input.\n",
    "- When `dp[i]` just depends on limited history, one can consider using 'rolling space optimization' to optimize for memory."
   ]
  }
 ],
 "metadata": {
  "kernelspec": {
   "display_name": "Python 3",
   "language": "python",
   "name": "python3"
  },
  "language_info": {
   "codemirror_mode": {
    "name": "ipython",
    "version": 3
   },
   "file_extension": ".py",
   "mimetype": "text/x-python",
   "name": "python",
   "nbconvert_exporter": "python",
   "pygments_lexer": "ipython3",
   "version": "3.7.3"
  }
 },
 "nbformat": 4,
 "nbformat_minor": 2
}
