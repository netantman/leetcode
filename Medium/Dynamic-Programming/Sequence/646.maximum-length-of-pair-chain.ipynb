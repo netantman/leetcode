{
 "cells": [
  {
   "cell_type": "markdown",
   "metadata": {},
   "source": [
    "## Attempt 1 - Wrong Answer"
   ]
  },
  {
   "cell_type": "code",
   "execution_count": null,
   "metadata": {},
   "outputs": [],
   "source": [
    "class Solution:\n",
    "    def findLongestChain(self, pairs: List[List[int]]) -> int:\n",
    "        N=len(pairs)\n",
    "        res=[]\n",
    "        for idx in range(N): ## --> the sequence does not have to be in original order\n",
    "            if idx==0:\n",
    "                res.append(1)\n",
    "            curr=pairs[idx]\n",
    "            maxx=1\n",
    "            for existing in range(idx):\n",
    "                prev=pairs[existing]\n",
    "                if curr[0]>prev[1]:\n",
    "                    maxx=max(maxx, res[existing]+1)\n",
    "            res.append(maxx)\n",
    "        return max(res"
   ]
  },
  {
   "cell_type": "markdown",
   "metadata": {},
   "source": [
    "## Attempt 2 - Accepted"
   ]
  },
  {
   "cell_type": "code",
   "execution_count": null,
   "metadata": {},
   "outputs": [],
   "source": [
    "class Solution:\n",
    "    def findLongestChain(self, pairs: List[List[int]]) -> int:\n",
    "        N=len(pairs)\n",
    "        pairs=sorted(pairs, key=lambda p:p)\n",
    "        res=[None for _ in range(N)]\n",
    "        for idx in range(N):\n",
    "            if idx==0:\n",
    "                res[0]=1\n",
    "            else:\n",
    "                curr=pairs[idx]\n",
    "                maxx=1\n",
    "                for existing in range(idx):\n",
    "                    prev=pairs[existing]\n",
    "                    if curr[0]>prev[1]:\n",
    "                        maxx=max(maxx, res[existing]+1)\n",
    "                res[idx]=maxx\n",
    "        return max(res)"
   ]
  },
  {
   "cell_type": "markdown",
   "metadata": {},
   "source": [
    "## Lessons and Thoughts\n",
    "- Similar to Problem 296. Just need a sort."
   ]
  }
 ],
 "metadata": {
  "kernelspec": {
   "display_name": "Python 3 (ipykernel)",
   "language": "python",
   "name": "python3"
  },
  "language_info": {
   "codemirror_mode": {
    "name": "ipython",
    "version": 3
   },
   "file_extension": ".py",
   "mimetype": "text/x-python",
   "name": "python",
   "nbconvert_exporter": "python",
   "pygments_lexer": "ipython3",
   "version": "3.9.7"
  }
 },
 "nbformat": 4,
 "nbformat_minor": 2
}
