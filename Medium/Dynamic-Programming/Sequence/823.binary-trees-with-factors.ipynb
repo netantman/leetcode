{
 "cells": [
  {
   "cell_type": "markdown",
   "metadata": {},
   "source": [
    "## Attempt 1 - Accepted"
   ]
  },
  {
   "cell_type": "code",
   "execution_count": null,
   "metadata": {},
   "outputs": [],
   "source": [
    "class Solution:\n",
    "    def numFactoredBinaryTrees(self, A: List[int]) -> int:\n",
    "        A=sorted(A)\n",
    "        res=dict()\n",
    "        for idx, a in enumerate(A):\n",
    "            if idx==0:\n",
    "                res[a]=1\n",
    "            else:\n",
    "                res[a]=1\n",
    "                for j in range(idx):\n",
    "                    if (a%A[j]==0) and (a//A[j] in A):\n",
    "                        res[a]+=res[A[j]]*res[a//A[j]]\n",
    "        return sum(res.values())%(10**9+7)"
   ]
  },
  {
   "cell_type": "markdown",
   "metadata": {},
   "source": [
    "## Attempt 2 - Accepted"
   ]
  },
  {
   "cell_type": "code",
   "execution_count": null,
   "metadata": {},
   "outputs": [],
   "source": [
    "class Solution {\n",
    "public:\n",
    "    int numFactoredBinaryTrees(vector<int>& arr) {\n",
    "        int MODULO = pow(10, 9) + 7;\n",
    "        sort(arr.begin(), arr.end());\n",
    "        unordered_map<long long, long long> dp = {{arr.front(), 1}};\n",
    "        \n",
    "        long long res = 1;\n",
    "        for(int idx=1; idx<arr.size(); idx++) {\n",
    "            long long curr = 1;\n",
    "            for (int j=0; j<idx; j++) {\n",
    "                if ((arr[idx] % arr[j] < 1) && (dp.find(arr[idx] / arr[j]) != dp.end())) {\n",
    "                    curr += (dp[arr[j]] * dp[arr[idx] / arr[j]]) % MODULO;\n",
    "                    // if (arr[j] != arr[idx] / arr[j]) {\n",
    "                    //     curr += tmp; \n",
    "                    // }\n",
    "                }\n",
    "            }\n",
    "            dp[arr[idx]] = curr;\n",
    "            res += curr % MODULO;\n",
    "        }\n",
    "        return res % MODULO;\n",
    "    }\n",
    "};"
   ]
  },
  {
   "cell_type": "markdown",
   "metadata": {},
   "source": [
    "## Lessons and Thoughts\n",
    "- The idea is to count how many trees can be formed for any given element in `A` as root."
   ]
  }
 ],
 "metadata": {
  "kernelspec": {
   "display_name": "Python 3 (ipykernel)",
   "language": "python",
   "name": "python3"
  },
  "language_info": {
   "codemirror_mode": {
    "name": "ipython",
    "version": 3
   },
   "file_extension": ".py",
   "mimetype": "text/x-python",
   "name": "python",
   "nbconvert_exporter": "python",
   "pygments_lexer": "ipython3",
   "version": "3.9.7"
  }
 },
 "nbformat": 4,
 "nbformat_minor": 2
}
