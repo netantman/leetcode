{
 "cells": [
  {
   "cell_type": "markdown",
   "metadata": {},
   "source": [
    "## Attempt 1 - Key Error"
   ]
  },
  {
   "cell_type": "code",
   "execution_count": null,
   "metadata": {},
   "outputs": [],
   "source": [
    "class Solution:\n",
    "    def partition(self, s: str) -> List[List[str]]:\n",
    "        if len(s)<1:\n",
    "            return [[]]\n",
    "        if len(s)==1:\n",
    "            return [[s]]\n",
    "        cache={s[0]: [[s[0]]]}\n",
    "        L=len(s)\n",
    "        for idx in range(2,L): ## --> should be to L+1, so that idx can be L, and key below can be all of s.\n",
    "            res=[]\n",
    "            key=s[:idx]\n",
    "            for ridx in range(1,idx):\n",
    "                temp=key[-ridx:]\n",
    "                if temp==temp[::-1]:\n",
    "                    prev=cache[key[:-ridx]]\n",
    "                    res=res+[p+[temp] for p in prev]\n",
    "            if key==key[::-1]:\n",
    "                res.append([key])\n",
    "            cache[key]=res\n",
    "        \n",
    "        return cache[s]"
   ]
  },
  {
   "cell_type": "markdown",
   "metadata": {},
   "source": [
    "## Attempt 2 - Accepted"
   ]
  },
  {
   "cell_type": "code",
   "execution_count": null,
   "metadata": {},
   "outputs": [],
   "source": [
    "class Solution:\n",
    "    def partition(self, s: str) -> List[List[str]]:\n",
    "        if len(s)<1:\n",
    "            return [[]]\n",
    "        if len(s)==1:\n",
    "            return [[s]]\n",
    "        cache={s[0]: [[s[0]]]}\n",
    "        L=len(s)\n",
    "        for idx in range(2,L+1):\n",
    "            res=[]\n",
    "            key=s[:idx]\n",
    "            for ridx in range(1,idx):\n",
    "                temp=key[-ridx:]\n",
    "                if temp==temp[::-1]:\n",
    "                    prev=cache[key[:-ridx]]\n",
    "                    res=res+[p+[temp] for p in prev]\n",
    "            if key==key[::-1]:\n",
    "                res.append([key])\n",
    "            cache[key]=res\n",
    "        \n",
    "        return cache[s]\n",
    "                "
   ]
  },
  {
   "cell_type": "markdown",
   "metadata": {},
   "source": [
    "## Lessons and Thoughts\n",
    "- This is a problem where index slicing and counting needs to be very careful."
   ]
  }
 ],
 "metadata": {
  "kernelspec": {
   "display_name": "Python 3",
   "language": "python",
   "name": "python3"
  },
  "language_info": {
   "codemirror_mode": {
    "name": "ipython",
    "version": 3
   },
   "file_extension": ".py",
   "mimetype": "text/x-python",
   "name": "python",
   "nbconvert_exporter": "python",
   "pygments_lexer": "ipython3",
   "version": "3.7.3"
  }
 },
 "nbformat": 4,
 "nbformat_minor": 2
}
