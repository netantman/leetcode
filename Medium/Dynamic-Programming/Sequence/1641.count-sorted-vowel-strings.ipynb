{
 "cells": [
  {
   "cell_type": "markdown",
   "metadata": {},
   "source": [
    "## Attempt 1 - Accepted"
   ]
  },
  {
   "cell_type": "code",
   "execution_count": null,
   "metadata": {},
   "outputs": [],
   "source": [
    "class Solution:\n",
    "    def countVowelStrings(self, n: int) -> int:\n",
    "        if n == 1:\n",
    "            return 5\n",
    "        res = [1, 1, 1, 1, 1]\n",
    "        while n > 1:\n",
    "            res[4] = (res[0] + res[1] + res[2] + res[3] + res[4])\n",
    "            res[3] = (res[0] + res[1] + res[2] + res[3])\n",
    "            res[2] = (res[0] + res[1] + res[2])\n",
    "            res[1] = (res[0] + res[1])\n",
    "            n -= 1\n",
    "            # print(res)\n",
    "        return sum(res)"
   ]
  },
  {
   "cell_type": "markdown",
   "metadata": {},
   "source": [
    "## Attempt 2 - Accepted"
   ]
  },
  {
   "cell_type": "code",
   "execution_count": null,
   "metadata": {},
   "outputs": [],
   "source": [
    "class Solution:\n",
    "    def countVowelStrings(self, n: int) -> int:\n",
    "        k = 1\n",
    "        record = [1 for _ in range(5)]\n",
    "        \n",
    "        while k < n:\n",
    "            new_record = [0]\n",
    "            for r in record:\n",
    "                new_record.append(new_record[-1] + r)\n",
    "            new_record.pop(0)\n",
    "            record = new_record\n",
    "            k += 1\n",
    "        \n",
    "        return sum(record)"
   ]
  },
  {
   "cell_type": "markdown",
   "metadata": {},
   "source": [
    "## Lessons and Thoughts\n",
    "- It is straightforward once you realize you can always add 'e' to strings stopping at 'a'."
   ]
  }
 ],
 "metadata": {
  "kernelspec": {
   "display_name": "Python 3",
   "language": "python",
   "name": "python3"
  },
  "language_info": {
   "codemirror_mode": {
    "name": "ipython",
    "version": 3
   },
   "file_extension": ".py",
   "mimetype": "text/x-python",
   "name": "python",
   "nbconvert_exporter": "python",
   "pygments_lexer": "ipython3",
   "version": "3.6.5"
  }
 },
 "nbformat": 4,
 "nbformat_minor": 2
}
