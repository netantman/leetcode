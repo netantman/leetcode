{
 "cells": [
  {
   "cell_type": "markdown",
   "metadata": {},
   "source": [
    "## Attempt 1 - Time Limit Exceeded"
   ]
  },
  {
   "cell_type": "code",
   "execution_count": null,
   "metadata": {},
   "outputs": [],
   "source": [
    "class Solution:\n",
    "    def maxResult(self, nums: List[int], k: int) -> int:\n",
    "        L = len(nums)\n",
    "        dp = [nums[-1]]\n",
    "        for idx in range(L-2, -1, -1):\n",
    "            tmp = max([dp[j] for j in range(0, min(k, len(dp)))])\n",
    "            dp.insert(0, tmp + nums[idx])\n",
    "        return dp[0]"
   ]
  },
  {
   "cell_type": "markdown",
   "metadata": {},
   "source": [
    "## Attempt 2 - Accepted"
   ]
  },
  {
   "cell_type": "code",
   "execution_count": null,
   "metadata": {},
   "outputs": [],
   "source": [
    "class Solution:\n",
    "    def maxResult(self, nums: List[int], k: int) -> int:\n",
    "        L = len(nums)\n",
    "        dp = [(-nums[-1], L - 1)]\n",
    "        res = nums[-1]\n",
    "        heapq.heapify(dp)\n",
    "        for idx in range(L - 2, -1, -1):\n",
    "            while abs(dp[0][1] - idx) > k:\n",
    "                heapq.heappop(dp)\n",
    "            res = nums[idx] + (-dp[0][0])\n",
    "            heapq.heappush(dp, (-res, idx))\n",
    "        return res"
   ]
  },
  {
   "cell_type": "markdown",
   "metadata": {},
   "source": [
    "## Lessons and Thoughts\n",
    "- Usual sequence DP. The `heap` solution is inspired by the app. \n",
    "- Although `heap` cannot pop specific element, the trick here is to pop those smallest which is out of bound. \n",
    "- Using just a `res` to save the DP result amounts to rolling optimization."
   ]
  }
 ],
 "metadata": {
  "kernelspec": {
   "display_name": "Python 3",
   "language": "python",
   "name": "python3"
  },
  "language_info": {
   "codemirror_mode": {
    "name": "ipython",
    "version": 3
   },
   "file_extension": ".py",
   "mimetype": "text/x-python",
   "name": "python",
   "nbconvert_exporter": "python",
   "pygments_lexer": "ipython3",
   "version": "3.7.3"
  }
 },
 "nbformat": 4,
 "nbformat_minor": 2
}
