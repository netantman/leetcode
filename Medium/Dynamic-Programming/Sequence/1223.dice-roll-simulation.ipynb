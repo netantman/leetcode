{
 "cells": [
  {
   "cell_type": "markdown",
   "metadata": {},
   "source": [
    "## Attempt 1 - Accepted"
   ]
  },
  {
   "cell_type": "code",
   "execution_count": null,
   "metadata": {},
   "outputs": [],
   "source": [
    "class Solution:\n",
    "    def dieSimulator(self, n: int, rollMax: List[int]) -> int:\n",
    "        LARGE_NUM=10**9+7\n",
    "        curr,nexxt=dict(),dict()\n",
    "        for roll in range(1,7):\n",
    "            nexxt[(roll,1)]=1\n",
    "        for m in range(1,n+1):\n",
    "            curr=nexxt\n",
    "            nexxt=dict()\n",
    "            for k,v in curr.items():\n",
    "                for roll in range(1,7):\n",
    "                    if roll==k[0]:\n",
    "                        if k[1]+1<=rollMax[roll-1]:\n",
    "                            nexxt[(roll,k[1]+1)]=v%LARGE_NUM\n",
    "                    else:\n",
    "                        nexxt[(roll,1)]=(nexxt.get((roll,1),0)+v)%LARGE_NUM\n",
    "        return sum(curr.values())%LARGE_NUM"
   ]
  },
  {
   "cell_type": "markdown",
   "metadata": {},
   "source": [
    "## Lessons and Thoughts\n",
    "- Sequence DP with rolling optimization - it may help to be very clear about what `curr` and `nexxt` mean for the index of iteration."
   ]
  }
 ],
 "metadata": {
  "kernelspec": {
   "display_name": "Python 3",
   "language": "python",
   "name": "python3"
  },
  "language_info": {
   "codemirror_mode": {
    "name": "ipython",
    "version": 3
   },
   "file_extension": ".py",
   "mimetype": "text/x-python",
   "name": "python",
   "nbconvert_exporter": "python",
   "pygments_lexer": "ipython3",
   "version": "3.7.3"
  }
 },
 "nbformat": 4,
 "nbformat_minor": 2
}
