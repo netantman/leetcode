{
 "cells": [
  {
   "cell_type": "markdown",
   "metadata": {},
   "source": [
    "## Attempt 1 - Accepted"
   ]
  },
  {
   "cell_type": "code",
   "execution_count": null,
   "metadata": {},
   "outputs": [],
   "source": [
    "class Solution:\n",
    "    def dieSimulator(self, n: int, rollMax: List[int]) -> int:\n",
    "        LARGE_NUM=10**9+7\n",
    "        curr,nexxt=dict(),dict()\n",
    "        for roll in range(1,7):\n",
    "            nexxt[(roll,1)]=1\n",
    "        for m in range(1,n+1):\n",
    "            curr=nexxt\n",
    "            nexxt=dict()\n",
    "            for k,v in curr.items():\n",
    "                for roll in range(1,7):\n",
    "                    if roll==k[0]:\n",
    "                        if k[1]+1<=rollMax[roll-1]:\n",
    "                            nexxt[(roll,k[1]+1)]=v%LARGE_NUM\n",
    "                    else:\n",
    "                        nexxt[(roll,1)]=(nexxt.get((roll,1),0)+v)%LARGE_NUM\n",
    "        return sum(curr.values())%LARGE_NUM"
   ]
  },
  {
   "cell_type": "markdown",
   "metadata": {},
   "source": [
    "## Attempt 2 - Overflow"
   ]
  },
  {
   "cell_type": "code",
   "execution_count": null,
   "metadata": {},
   "outputs": [],
   "source": [
    "class Solution {\n",
    "public:\n",
    "    int dieSimulator(int n, vector<int>& rollMax) {\n",
    "        long long MODULO = pow(10, 9) + 7;\n",
    "        map<int, vector<long long>> record;\n",
    "        for (int idx=1; idx<=6; idx++) {\n",
    "            vector<long long> curr(rollMax[idx - 1] + 1, 0);\n",
    "            curr[1] = 1;\n",
    "            record[idx] = curr;\n",
    "        }\n",
    "        \n",
    "        for(int j=2; j<=n; j++) {\n",
    "            map<int, vector<long long>> new_record;\n",
    "            vector<long long> sums = {};\n",
    "            for (int idx=1; idx<=6; idx++) {\n",
    "                sums.push_back(accumulate(record[idx].begin(), record[idx].end(), 0) % MODULO);\n",
    "            }\n",
    "            long long total_sum = accumulate(sums.begin(), sums.end(), 0) % MODULO;\n",
    "            \n",
    "            for (int idx=1; idx<=6; idx++) {\n",
    "                vector<long long> curr(rollMax[idx - 1] + 1, 0);\n",
    "                curr[1] = (total_sum - sums[idx - 1]) % MODULO;\n",
    "                for (int k=2; k<=rollMax[idx - 1]; k++) {\n",
    "                    curr[k] = record[idx][k - 1];\n",
    "                }\n",
    "                new_record[idx] = curr;\n",
    "            }\n",
    "            record = new_record;\n",
    "        } \n",
    "        \n",
    "        vector<long long> sums = {};\n",
    "        for (int idx=1; idx<=6; idx++) {\n",
    "            sums.push_back(accumulate(record[idx].begin(), record[idx].end(), 0) % MODULO); ## sum of vector in C++\n",
    "        }\n",
    "        long long res = accumulate(sums.begin(), sums.end(), 0) % MODULO;\n",
    "        return res;\n",
    "    }\n",
    "};"
   ]
  },
  {
   "cell_type": "markdown",
   "metadata": {},
   "source": [
    "## Lessons and Thoughts\n",
    "- Sequence DP with rolling optimization - it may help to be very clear about what `curr` and `nexxt` mean for the index of iteration.\n",
    "- Attempt 2 is essentially the same algo as Attempt 1, though in C++ it suffers from overflow."
   ]
  }
 ],
 "metadata": {
  "kernelspec": {
   "display_name": "Python 3",
   "language": "python",
   "name": "python3"
  },
  "language_info": {
   "codemirror_mode": {
    "name": "ipython",
    "version": 3
   },
   "file_extension": ".py",
   "mimetype": "text/x-python",
   "name": "python",
   "nbconvert_exporter": "python",
   "pygments_lexer": "ipython3",
   "version": "3.6.5"
  }
 },
 "nbformat": 4,
 "nbformat_minor": 2
}
