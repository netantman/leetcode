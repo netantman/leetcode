{
 "cells": [
  {
   "cell_type": "markdown",
   "metadata": {},
   "source": [
    "## Attempt 1 - Wrong Answer"
   ]
  },
  {
   "cell_type": "code",
   "execution_count": null,
   "metadata": {},
   "outputs": [],
   "source": [
    "class Solution:\n",
    "    def numDecodings(self, s: str) -> int:\n",
    "        if len(s)<1:\n",
    "            return 0 ## --> wrong edge case handling: even if the string is empty, it is 1 way to decode\n",
    "        if len(s)==1:\n",
    "            return 1 ## --> here it assumes without verifying that the string characters will not be \"0\"\n",
    "        \n",
    "        res=self.numDecodings(s[:-1])\n",
    "        last=s[-2:]\n",
    "        if int(last)<=26:\n",
    "            res+=self.numDecodings(s[:-2])\n",
    "        return res"
   ]
  },
  {
   "cell_type": "markdown",
   "metadata": {},
   "source": [
    "## Attempt 2 - Time Limit Exceeded: the way of handling 0 is not very efficient, and probably you should think about not to use recursion if not necessary"
   ]
  },
  {
   "cell_type": "code",
   "execution_count": null,
   "metadata": {},
   "outputs": [],
   "source": [
    "class Solution:\n",
    "    def numDecodings(self, s: str) -> int:\n",
    "        if len(s)<=1:\n",
    "            if s==\"0\":\n",
    "                return 0\n",
    "            return 1\n",
    "        \n",
    "        if s[-1]==\"0\":\n",
    "            if s[-2] in {\"1\", \"2\"}:\n",
    "                return self.numDecodings(s[:-2])\n",
    "            else:\n",
    "                return 0\n",
    "        else:\n",
    "            res=self.numDecodings(s[:-1])\n",
    "            last=s[-2:]\n",
    "            if int(last)<=26 and int(last)>=10:\n",
    "                res+=self.numDecodings(s[:-2])\n",
    "            return res"
   ]
  },
  {
   "cell_type": "markdown",
   "metadata": {},
   "source": [
    "## Attempt 3 - Accepted"
   ]
  },
  {
   "cell_type": "code",
   "execution_count": null,
   "metadata": {},
   "outputs": [],
   "source": [
    "class Solution:\n",
    "    def numDecodings(self, s: str) -> int:\n",
    "        if len(s)<=1:\n",
    "            if s==\"0\":\n",
    "                return 0\n",
    "            return 1\n",
    "        \n",
    "        res=[0 for idx in range(len(s))]\n",
    "        res[0] = 1 if int(s[0])>=1 else 0\n",
    "        if (int(s[:2])>=10 and int(s[:2])<=26):\n",
    "            res[1]+=1\n",
    "        if int(s[1])>=1 and int(s[0])>=1:\n",
    "            res[1]+=1\n",
    "        for idx in range(2,len(s)):\n",
    "            if int(s[idx])>=1:\n",
    "                res[idx]+=res[idx-1]\n",
    "            if int(s[idx-1:idx+1])>=10 and int(s[idx-1:idx+1])<=26:\n",
    "                res[idx]+=res[idx-2]\n",
    "        return res[-1]"
   ]
  },
  {
   "cell_type": "markdown",
   "metadata": {},
   "source": [
    "## Attempt 4 - Accepted"
   ]
  },
  {
   "cell_type": "code",
   "execution_count": null,
   "metadata": {},
   "outputs": [],
   "source": [
    "class Solution {\n",
    "public:\n",
    "    int decodeOne(string s) {\n",
    "        return (s != \"0\") ? 1 : 0;\n",
    "    }\n",
    "    \n",
    "    int decodeTwo(string s) {\n",
    "        if (s[0] == '0') {\n",
    "            return 0;\n",
    "        }\n",
    "        if (s[1] == '0') {\n",
    "            return ((s[0] == '1') || (s[0] == '2')) ? 1 : 0;\n",
    "        }\n",
    "        int tmp = stoi(s);\n",
    "        if ((tmp >= 11) && (tmp <= 26)) {\n",
    "            return 2;\n",
    "        }\n",
    "        return 1;\n",
    "    }\n",
    "    \n",
    "    int numDecodings(string s) {\n",
    "        if (s.size() == 1) {\n",
    "            return this->decodeOne(s);\n",
    "        }\n",
    "        \n",
    "        if (s.size() == 2) {\n",
    "            return this->decodeTwo(s);\n",
    "        }\n",
    "        \n",
    "        int L = s.size();\n",
    "        int minus_two = this->decodeOne(s.substr(L - 1, 1)); ## slicing strings in C++\n",
    "        int minus_one = this->decodeTwo(s.substr(L - 2, 2));\n",
    "        int res = 0;\n",
    "        \n",
    "        \n",
    "        for (int idx=L-3; idx>=0; idx--) {\n",
    "            if (s[idx] == '0') {\n",
    "                res = 0;\n",
    "                minus_two = minus_one;\n",
    "                minus_one = 0;\n",
    "                continue;\n",
    "            }\n",
    "            int tmp = stoi(s.substr(idx, 2));\n",
    "            if ((tmp >= 10) && (tmp <= 26)) {\n",
    "                res = minus_one + minus_two;\n",
    "                minus_two = minus_one;\n",
    "                minus_one = res;\n",
    "                continue;\n",
    "            }\n",
    "            \n",
    "            res = minus_one;\n",
    "            minus_two = minus_one;\n",
    "            minus_one = res;\n",
    "        }\n",
    "        return res;\n",
    "    }\n",
    "};"
   ]
  },
  {
   "cell_type": "markdown",
   "metadata": {},
   "source": [
    "## Lessons and Thoughts\n",
    "- For DP, probably recursion is not necessary: recursion causes overhang in runtime.\n",
    "- In the solution [here](https://evelynn.gitbooks.io/facebook-interview/decode_ways.html), the DP result vector has size 1 more than the string, which could be cleaner to deal with empty string."
   ]
  }
 ],
 "metadata": {
  "kernelspec": {
   "display_name": "Python 3",
   "language": "python",
   "name": "python3"
  },
  "language_info": {
   "codemirror_mode": {
    "name": "ipython",
    "version": 3
   },
   "file_extension": ".py",
   "mimetype": "text/x-python",
   "name": "python",
   "nbconvert_exporter": "python",
   "pygments_lexer": "ipython3",
   "version": "3.6.5"
  }
 },
 "nbformat": 4,
 "nbformat_minor": 2
}
