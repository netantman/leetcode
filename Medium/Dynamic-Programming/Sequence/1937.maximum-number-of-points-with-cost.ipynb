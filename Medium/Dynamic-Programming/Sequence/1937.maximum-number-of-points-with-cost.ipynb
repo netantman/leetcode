{
 "cells": [
  {
   "cell_type": "markdown",
   "metadata": {},
   "source": [
    "## Attempt 1 - Time Limit Exceeded"
   ]
  },
  {
   "cell_type": "code",
   "execution_count": null,
   "metadata": {},
   "outputs": [],
   "source": [
    "class Solution:\n",
    "    def maxPoints(self, points: List[List[int]]) -> int:\n",
    "        R, C = len(points), len(points[0])\n",
    "        dp = points[0]\n",
    "        \n",
    "        for r in range(1, R):\n",
    "            new = [points[r][c] for c in range(C)]\n",
    "            for c in range(C):\n",
    "                new[c] += max([dp[c1] - abs(c1 - c) for c1 in range(C)])\n",
    "            dp = new\n",
    "        \n",
    "        return max(dp)"
   ]
  },
  {
   "cell_type": "markdown",
   "metadata": {},
   "source": [
    "## Attempt 2 - Accepted"
   ]
  },
  {
   "cell_type": "code",
   "execution_count": null,
   "metadata": {},
   "outputs": [],
   "source": [
    "class Solution:\n",
    "    def maxPoints(self, points: List[List[int]]) -> int:\n",
    "        R, C = len(points), len(points[0])\n",
    "        dp = points[0]\n",
    "        \n",
    "        # print(dp)\n",
    "        for r in range(1, R):\n",
    "            new = [points[r][c] for c in range(C)]\n",
    "            go = [float('-inf')]\n",
    "            for c in range(C):\n",
    "                go.append(max(go[-1], dp[c] + c))\n",
    "            go.pop(0)\n",
    "            # print(go)\n",
    "            back = [float('-inf')]\n",
    "            for c in range(C - 1, -1, -1):\n",
    "                back.insert(0, max(back[0], dp[c] - c))\n",
    "            back.pop()\n",
    "            # print(back)\n",
    "            # print(\"\")\n",
    "            \n",
    "            for c in range(C):\n",
    "                new[c] += max(go[c] - c, back[c] + c)\n",
    "            dp = new\n",
    "            # print(dp)\n",
    "        \n",
    "        return max(dp)"
   ]
  },
  {
   "cell_type": "markdown",
   "metadata": {},
   "source": [
    "## Lessons and Thoughts\n",
    "- The optmization that gets past to accepted is from the app."
   ]
  }
 ],
 "metadata": {
  "kernelspec": {
   "display_name": "Python 3",
   "language": "python",
   "name": "python3"
  },
  "language_info": {
   "codemirror_mode": {
    "name": "ipython",
    "version": 3
   },
   "file_extension": ".py",
   "mimetype": "text/x-python",
   "name": "python",
   "nbconvert_exporter": "python",
   "pygments_lexer": "ipython3",
   "version": "3.7.3"
  }
 },
 "nbformat": 4,
 "nbformat_minor": 2
}
