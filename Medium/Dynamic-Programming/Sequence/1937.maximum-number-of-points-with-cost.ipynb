{
 "cells": [
  {
   "cell_type": "markdown",
   "metadata": {},
   "source": [
    "## Attempt 1 - Time Limit Exceeded"
   ]
  },
  {
   "cell_type": "code",
   "execution_count": null,
   "metadata": {},
   "outputs": [],
   "source": [
    "class Solution:\n",
    "    def maxPoints(self, points: List[List[int]]) -> int:\n",
    "        R, C = len(points), len(points[0])\n",
    "        dp = points[0]\n",
    "        \n",
    "        for r in range(1, R):\n",
    "            new = [points[r][c] for c in range(C)]\n",
    "            for c in range(C):\n",
    "                new[c] += max([dp[c1] - abs(c1 - c) for c1 in range(C)])\n",
    "            dp = new\n",
    "        \n",
    "        return max(dp)"
   ]
  },
  {
   "cell_type": "markdown",
   "metadata": {},
   "source": [
    "## Attempt 2 - Accepted"
   ]
  },
  {
   "cell_type": "code",
   "execution_count": null,
   "metadata": {},
   "outputs": [],
   "source": [
    "class Solution:\n",
    "    def maxPoints(self, points: List[List[int]]) -> int:\n",
    "        R, C = len(points), len(points[0])\n",
    "        dp = points[0]\n",
    "        \n",
    "        # print(dp)\n",
    "        for r in range(1, R):\n",
    "            new = [points[r][c] for c in range(C)]\n",
    "            go = [float('-inf')]\n",
    "            for c in range(C):\n",
    "                go.append(max(go[-1], dp[c] + c))\n",
    "            go.pop(0)\n",
    "            # print(go)\n",
    "            back = [float('-inf')]\n",
    "            for c in range(C - 1, -1, -1):\n",
    "                back.insert(0, max(back[0], dp[c] - c))\n",
    "            back.pop()\n",
    "            # print(back)\n",
    "            # print(\"\")\n",
    "            \n",
    "            for c in range(C):\n",
    "                new[c] += max(go[c] - c, back[c] + c)\n",
    "            dp = new\n",
    "            # print(dp)\n",
    "        \n",
    "        return max(dp)"
   ]
  },
  {
   "cell_type": "markdown",
   "metadata": {},
   "source": [
    "## Attempt 3 - Time Limit Exceeded"
   ]
  },
  {
   "cell_type": "code",
   "execution_count": null,
   "metadata": {},
   "outputs": [],
   "source": [
    "class Solution {\n",
    "public:\n",
    "    long long maxPoints(vector<vector<int>>& points) {\n",
    "        vector<int> dp = points.front();\n",
    "        \n",
    "        int R = points.size();\n",
    "        int C = points.front().size();\n",
    "        // cout << C << \"\\n\";\n",
    "        for (int r=1; r<R; r++) {\n",
    "            vector<int> nexxt = points[r];\n",
    "            for (int c1=0; c1<C; c1++) {\n",
    "                vector<int> gains = dp;\n",
    "                for (int c2=0; c2<C; c2++) {\n",
    "                    gains[c2] -= abs(c2 - c1);\n",
    "                    // cout << gains[c2] << \" \";\n",
    "                }\n",
    "                nexxt[c1] += *max_element(gains.begin(), gains.end());\n",
    "            }\n",
    "            dp = nexxt;\n",
    "        }\n",
    "        return *max_element(dp.begin(), dp.end());\n",
    "    }\n",
    "};"
   ]
  },
  {
   "cell_type": "markdown",
   "metadata": {},
   "source": [
    "## Lessons and Thoughts\n",
    "- The optmization that gets past to accepted is from the app. It is easy to think of the un-optimized version but not this optimization. The trick is to realize that to get the next gain, from `c` to `c+1` we can reuse the running pre- and post-running maximums."
   ]
  }
 ],
 "metadata": {
  "kernelspec": {
   "display_name": "Python 3 (ipykernel)",
   "language": "python",
   "name": "python3"
  },
  "language_info": {
   "codemirror_mode": {
    "name": "ipython",
    "version": 3
   },
   "file_extension": ".py",
   "mimetype": "text/x-python",
   "name": "python",
   "nbconvert_exporter": "python",
   "pygments_lexer": "ipython3",
   "version": "3.9.7"
  }
 },
 "nbformat": 4,
 "nbformat_minor": 2
}
