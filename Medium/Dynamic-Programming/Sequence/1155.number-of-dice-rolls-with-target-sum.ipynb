{
 "cells": [
  {
   "cell_type": "markdown",
   "metadata": {},
   "source": [
    "## Attempt 1 - Accepted"
   ]
  },
  {
   "cell_type": "code",
   "execution_count": null,
   "metadata": {},
   "outputs": [],
   "source": [
    "class Solution:\n",
    "    def numRollsToTarget(self, d: int, f: int, target: int) -> int:\n",
    "        dp=[0 for _ in range(target+1)]\n",
    "        dp[0]=1\n",
    "        for _ in range(d):\n",
    "            new=[0 for _ in range(target+1)]\n",
    "            for idx in range(target+1): \n",
    "                for leap in range(1,f+1):\n",
    "                    if idx+leap<=target:\n",
    "                        new[idx+leap]+=dp[idx]\n",
    "            dp=[n for n in new]\n",
    "        return dp[-1]%(10**9+7)"
   ]
  },
  {
   "cell_type": "markdown",
   "metadata": {},
   "source": [
    "## Lessons and Thoughts\n",
    "- Sequence DP with rolling optimization.\n",
    "- `new[idx] = sum(dp[idx - f: idx])` probably faster, but **be careful when the lower bound `idx - f` is negative**."
   ]
  }
 ],
 "metadata": {
  "kernelspec": {
   "display_name": "Python 3 (ipykernel)",
   "language": "python",
   "name": "python3"
  },
  "language_info": {
   "codemirror_mode": {
    "name": "ipython",
    "version": 3
   },
   "file_extension": ".py",
   "mimetype": "text/x-python",
   "name": "python",
   "nbconvert_exporter": "python",
   "pygments_lexer": "ipython3",
   "version": "3.9.7"
  }
 },
 "nbformat": 4,
 "nbformat_minor": 2
}
