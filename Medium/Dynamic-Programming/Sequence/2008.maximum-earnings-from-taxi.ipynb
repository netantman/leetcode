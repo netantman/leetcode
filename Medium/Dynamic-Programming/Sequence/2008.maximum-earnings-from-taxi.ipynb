{
 "cells": [
  {
   "cell_type": "markdown",
   "metadata": {},
   "source": [
    "## Attempt 1 - Accepted"
   ]
  },
  {
   "cell_type": "code",
   "execution_count": null,
   "metadata": {},
   "outputs": [],
   "source": [
    "class Solution:\n",
    "    def maxTaxiEarnings(self, n: int, rides: List[List[int]]) -> int:\n",
    "        record = defaultdict(list)\n",
    "        for ride in rides:\n",
    "            record[ride[1]].append(ride)\n",
    "        \n",
    "        dp = [0]\n",
    "        for end in range(1, n + 1):\n",
    "            curr = dp[end - 1]\n",
    "            for ride in record[end]:\n",
    "                start, _, tip = tuple(ride)\n",
    "                curr = max(curr, dp[start] + end - start + tip)\n",
    "            dp.append(curr)\n",
    "        return dp[-1]"
   ]
  },
  {
   "cell_type": "markdown",
   "metadata": {},
   "source": [
    "## Lessons and Thoughts\n",
    "- Typical sequence DP."
   ]
  }
 ],
 "metadata": {
  "kernelspec": {
   "display_name": "Python 3",
   "language": "python",
   "name": "python3"
  },
  "language_info": {
   "codemirror_mode": {
    "name": "ipython",
    "version": 3
   },
   "file_extension": ".py",
   "mimetype": "text/x-python",
   "name": "python",
   "nbconvert_exporter": "python",
   "pygments_lexer": "ipython3",
   "version": "3.7.3"
  }
 },
 "nbformat": 4,
 "nbformat_minor": 2
}
