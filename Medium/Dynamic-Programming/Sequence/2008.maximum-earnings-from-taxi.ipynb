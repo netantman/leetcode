{
 "cells": [
  {
   "cell_type": "markdown",
   "metadata": {},
   "source": [
    "## Attempt 1 - Accepted"
   ]
  },
  {
   "cell_type": "code",
   "execution_count": null,
   "metadata": {},
   "outputs": [],
   "source": [
    "class Solution:\n",
    "    def maxTaxiEarnings(self, n: int, rides: List[List[int]]) -> int:\n",
    "        record = defaultdict(list)\n",
    "        for ride in rides:\n",
    "            record[ride[1]].append(ride)\n",
    "        \n",
    "        dp = [0]\n",
    "        for end in range(1, n + 1):\n",
    "            curr = dp[end - 1]\n",
    "            for ride in record[end]:\n",
    "                start, _, tip = tuple(ride)\n",
    "                curr = max(curr, dp[start] + end - start + tip)\n",
    "            dp.append(curr)\n",
    "        return dp[-1]"
   ]
  },
  {
   "cell_type": "markdown",
   "metadata": {},
   "source": [
    "## Attempt 2 - Accepted"
   ]
  },
  {
   "cell_type": "code",
   "execution_count": null,
   "metadata": {},
   "outputs": [],
   "source": [
    "class Solution {\n",
    "public:\n",
    "    long long maxTaxiEarnings(int n, vector<vector<int>>& rides) {\n",
    "        vector<long long> dp(n + 1, 0);\n",
    "        \n",
    "        // sort(rides.begin(), rides.end(), [](vector<int> r1, vector<int> r2){ return (r1[0] < r2[0]) || ((r1[0] == r2[0]) && (r1[1] < r2[1]))});\n",
    "        \n",
    "        map<int, vector<vector<int>>> fares = {};\n",
    "        for (auto ride : rides) {\n",
    "            int start=ride[0], e=ride[1], tip=ride[2];\n",
    "            if (fares.find(e) == fares.end()) {\n",
    "                fares[e] = {};\n",
    "            }\n",
    "            vector<int> tmp = {start, e, tip};\n",
    "            fares[e].push_back(tmp);\n",
    "        }\n",
    "        \n",
    "        for(int idx=2; idx<=n; idx++) {\n",
    "            dp[idx] = dp[idx - 1];\n",
    "            if (fares.find(idx) == fares.end()) {\n",
    "                continue;\n",
    "            }\n",
    "            vector<vector<int>> trips = fares[idx];\n",
    "            for(auto trip : trips) {\n",
    "                int start=trip[0], tip=trip[2];\n",
    "                dp[idx] = max(dp[idx], dp[start] + tip + idx - start);\n",
    "            }\n",
    "        }\n",
    "        return dp.back();\n",
    "    }\n",
    "};"
   ]
  },
  {
   "cell_type": "markdown",
   "metadata": {},
   "source": [
    "## Lessons and Thoughts\n",
    "- Typical sequence DP.\n",
    "- Easier to just look back using the `record`: complexity will be `O(N*M)` rather than `O(N^2)`."
   ]
  }
 ],
 "metadata": {
  "kernelspec": {
   "display_name": "Python 3 (ipykernel)",
   "language": "python",
   "name": "python3"
  },
  "language_info": {
   "codemirror_mode": {
    "name": "ipython",
    "version": 3
   },
   "file_extension": ".py",
   "mimetype": "text/x-python",
   "name": "python",
   "nbconvert_exporter": "python",
   "pygments_lexer": "ipython3",
   "version": "3.9.7"
  }
 },
 "nbformat": 4,
 "nbformat_minor": 2
}
