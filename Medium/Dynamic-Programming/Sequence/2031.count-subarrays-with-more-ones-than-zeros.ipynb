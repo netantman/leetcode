{
 "cells": [
  {
   "cell_type": "markdown",
   "metadata": {},
   "source": [
    "## Attempt 1 - Time Limit Exceeded"
   ]
  },
  {
   "cell_type": "code",
   "execution_count": null,
   "metadata": {},
   "outputs": [],
   "source": [
    "class Solution:\n",
    "    def subarraysWithMoreZerosThanOnes(self, nums: List[int]) -> int: \n",
    "        MODULE = 10 ** 9 + 7\n",
    "        L = len(nums)\n",
    "        if set(nums) == set([1]):\n",
    "            return ((L % MODULE) * ((L + 1) % MODULE) // 2) % MODULE\n",
    "        if set(nums) == set([0]):\n",
    "            return 0\n",
    "        curr = dict()\n",
    "        if nums[0] > 0:\n",
    "            curr[1], res = 1, 1\n",
    "        else:\n",
    "            curr[-1], res = 1, 0\n",
    "        for n in nums[1:]:\n",
    "            if n > 0:\n",
    "                new = {k + 1: v for k, v in curr.items()}\n",
    "                new[1] = (new.get(1, 0) + 1) % MODULE\n",
    "            else:\n",
    "                new = {k - 1: v for k, v in curr.items()}\n",
    "                new[-1] = (new.get(-1, 0) + 1) % MODULE\n",
    "            res += sum([new[k] for k in new.keys() if k > 0]) % MODULE\n",
    "            curr = new\n",
    "        return res % MODULE"
   ]
  },
  {
   "cell_type": "markdown",
   "metadata": {},
   "source": [
    "## Attempt 2 - Accepted"
   ]
  },
  {
   "cell_type": "code",
   "execution_count": null,
   "metadata": {},
   "outputs": [],
   "source": [
    "class FenwichTree:\n",
    "    def __init__(self, n: int):\n",
    "        self.n = n\n",
    "        self.sums = [0] * (2 * n + 1)\n",
    "\n",
    "    def update(self, i: int, delta: int) -> None:\n",
    "        i += self.n + 1  # re-mapping\n",
    "        while i < len(self.sums):\n",
    "            self.sums[i] += delta\n",
    "            i += i & -i\n",
    "\n",
    "    def get(self, i: int) -> int:\n",
    "        i += self.n + 1  # re-mapping\n",
    "        sum = 0\n",
    "        while i > 0:\n",
    "            sum += self.sums[i]\n",
    "            i -= i & -i\n",
    "        return sum\n",
    "\n",
    "\n",
    "class Solution:\n",
    "    def subarraysWithMoreZerosThanOnes(self, nums: List[int]) -> int:\n",
    "        kMod = int(1e9 + 7)\n",
    "\n",
    "        ans = 0\n",
    "        prefix = 0\n",
    "        tree = FenwichTree(len(nums))\n",
    "        tree.update(0, 1)\n",
    "\n",
    "        for num in nums:\n",
    "            prefix += -1 if num == 0 else 1\n",
    "            ans += tree.get(prefix - 1)\n",
    "            ans %= kMod\n",
    "            tree.update(prefix, 1)\n",
    "\n",
    "        return ans"
   ]
  },
  {
   "cell_type": "markdown",
   "metadata": {},
   "source": [
    "## Lessons and Thoughts\n",
    "- Accepted solution is for fancy algorithm - not studying it.\n",
    "- Note that we also need to record previous subarray that has more zeros than ones, in case later we have much more ones to come."
   ]
  }
 ],
 "metadata": {
  "kernelspec": {
   "display_name": "Python 3 (ipykernel)",
   "language": "python",
   "name": "python3"
  },
  "language_info": {
   "codemirror_mode": {
    "name": "ipython",
    "version": 3
   },
   "file_extension": ".py",
   "mimetype": "text/x-python",
   "name": "python",
   "nbconvert_exporter": "python",
   "pygments_lexer": "ipython3",
   "version": "3.9.7"
  }
 },
 "nbformat": 4,
 "nbformat_minor": 2
}
