{
 "cells": [
  {
   "cell_type": "markdown",
   "metadata": {},
   "source": [
    "## Attempt 1 - Accepted"
   ]
  },
  {
   "cell_type": "code",
   "execution_count": null,
   "metadata": {},
   "outputs": [],
   "source": [
    "class Solution:\n",
    "    def maxAlternatingSum(self, nums: List[int]) -> int:\n",
    "        L = len(nums)\n",
    "        if L == 1:\n",
    "            return nums[0]\n",
    "        if L == 2:\n",
    "            return max(nums)\n",
    "        \n",
    "        odd = (max(nums[:2]), 0)\n",
    "        even = tuple(nums[:2])\n",
    "        \n",
    "        for idx in range(2, L):\n",
    "            curr = nums[idx]\n",
    "            tmp1 = even[0] + curr - even[1]\n",
    "            tmp2 = curr\n",
    "            tmp3 = odd[0] - odd[1]\n",
    "            m = max(tmp1, tmp2, tmp3)\n",
    "            if m == tmp1:\n",
    "                new_odd = (even[0] + curr, even[1])\n",
    "            elif m == tmp2:\n",
    "                new_odd = (curr, 0) # does not make a difference if tmp1 == tmp2\n",
    "            else:\n",
    "                new_odd = odd\n",
    "            new_even = (odd[0], odd[1] + curr) if odd[0] - (odd[1] + curr) > even[0] - even[1] else even\n",
    "            odd, even = new_odd, new_even\n",
    "        return max(odd[0] - odd[1], even[0] - even[1])"
   ]
  },
  {
   "cell_type": "markdown",
   "metadata": {},
   "source": [
    "## Attempt 2 - Accepted"
   ]
  },
  {
   "cell_type": "code",
   "execution_count": null,
   "metadata": {},
   "outputs": [],
   "source": [
    "class Solution {\n",
    "public:\n",
    "    long long maxAlternatingSum(vector<int>& nums) {\n",
    "        int L = nums.size();\n",
    "        if (L == 1) {\n",
    "            return nums[0];\n",
    "        }\n",
    "        \n",
    "        long long odd = max(nums[0], nums[1]);\n",
    "        long long even = nums[0] - nums[1];\n",
    "        \n",
    "        for (int idx=2; idx<L; idx++) {\n",
    "            long long new_odd = (even > 0) ? max(odd, even + nums[idx]) : max(odd, (long long) nums[idx]); ## c like explicit cast\n",
    "            long long new_even = max(even, odd - nums[idx]);\n",
    "            odd = new_odd;\n",
    "            even = new_even;\n",
    "            // cout << odd << \" \" << even << \"\\n\";\n",
    "        }\n",
    "        return max(odd, even);\n",
    "    }\n",
    "};"
   ]
  },
  {
   "cell_type": "markdown",
   "metadata": {},
   "source": [
    "## Attempt 3 - Accepted"
   ]
  },
  {
   "cell_type": "code",
   "execution_count": null,
   "metadata": {},
   "outputs": [],
   "source": [
    "class Solution:\n",
    "    def maxAlternatingSum(self, nums: List[int]) -> int:\n",
    "        L = len(nums)\n",
    "\n",
    "        if L == 1:\n",
    "            return nums[0]\n",
    "        if L == 2:\n",
    "            return max([nums[0], nums[1]])\n",
    "        \n",
    "        odd = max([nums[0], nums[1]])\n",
    "        even = nums[0] - nums[1]\n",
    "\n",
    "        for idx in range(2, L):\n",
    "            n = nums[idx]\n",
    "            even, odd = max([odd - n, even]), max([even + n, n, odd])\n",
    "        \n",
    "        return max([even, odd])"
   ]
  },
  {
   "cell_type": "markdown",
   "metadata": {},
   "source": [
    "## Lessons and Thoughts\n",
    "- Take you a while to come up with this, and a trip on the `new_odd` case\n",
    "- Probably the same algo for Attempt 2 and Attempt 3, but they are cleaner."
   ]
  }
 ],
 "metadata": {
  "kernelspec": {
   "display_name": "Python 3 (ipykernel)",
   "language": "python",
   "name": "python3"
  },
  "language_info": {
   "codemirror_mode": {
    "name": "ipython",
    "version": 3
   },
   "file_extension": ".py",
   "mimetype": "text/x-python",
   "name": "python",
   "nbconvert_exporter": "python",
   "pygments_lexer": "ipython3",
   "version": "3.9.7"
  }
 },
 "nbformat": 4,
 "nbformat_minor": 2
}
