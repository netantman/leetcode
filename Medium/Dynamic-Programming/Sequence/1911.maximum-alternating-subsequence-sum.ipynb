{
 "cells": [
  {
   "cell_type": "markdown",
   "metadata": {},
   "source": [
    "## Attempt 1 - Accepted"
   ]
  },
  {
   "cell_type": "code",
   "execution_count": null,
   "metadata": {},
   "outputs": [],
   "source": [
    "class Solution:\n",
    "    def maxAlternatingSum(self, nums: List[int]) -> int:\n",
    "        L = len(nums)\n",
    "        if L == 1:\n",
    "            return nums[0]\n",
    "        if L == 2:\n",
    "            return max(nums)\n",
    "        \n",
    "        odd = (max(nums[:2]), 0)\n",
    "        even = tuple(nums[:2])\n",
    "        \n",
    "        for idx in range(2, L):\n",
    "            curr = nums[idx]\n",
    "            tmp1 = even[0] + curr - even[1]\n",
    "            tmp2 = curr\n",
    "            tmp3 = odd[0] - odd[1]\n",
    "            m = max(tmp1, tmp2, tmp3)\n",
    "            if m == tmp1:\n",
    "                new_odd = (even[0] + curr, even[1])\n",
    "            elif m == tmp2:\n",
    "                new_odd = (curr, 0) # does not make a difference if tmp1 == tmp2\n",
    "            else:\n",
    "                new_odd = odd\n",
    "            new_even = (odd[0], odd[1] + curr) if odd[0] - (odd[1] + curr) > even[0] - even[1] else even\n",
    "            odd, even = new_odd, new_even\n",
    "        return max(odd[0] - odd[1], even[0] - even[1])"
   ]
  },
  {
   "cell_type": "markdown",
   "metadata": {},
   "source": [
    "## Lessons and Thoughts\n",
    "- Take you a while to come up with this, and a trip on the `new_odd` case"
   ]
  }
 ],
 "metadata": {
  "kernelspec": {
   "display_name": "Python 3",
   "language": "python",
   "name": "python3"
  },
  "language_info": {
   "codemirror_mode": {
    "name": "ipython",
    "version": 3
   },
   "file_extension": ".py",
   "mimetype": "text/x-python",
   "name": "python",
   "nbconvert_exporter": "python",
   "pygments_lexer": "ipython3",
   "version": "3.7.3"
  }
 },
 "nbformat": 4,
 "nbformat_minor": 2
}
