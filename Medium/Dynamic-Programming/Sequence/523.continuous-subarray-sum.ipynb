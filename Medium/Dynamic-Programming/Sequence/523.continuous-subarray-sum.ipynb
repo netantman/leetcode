{
 "cells": [
  {
   "cell_type": "markdown",
   "metadata": {},
   "source": [
    "## Attempt 1 - Wrong Answer"
   ]
  },
  {
   "cell_type": "code",
   "execution_count": null,
   "metadata": {},
   "outputs": [],
   "source": [
    "class Solution:\n",
    "    def checkSubarraySum(self, nums: List[int], k: int) -> bool:\n",
    "        res=[n for n in nums] ## --> constructed in this way, res will miss the continuous subarray starting from idx 0.\n",
    "        \n",
    "        ## --> did not handle the case of 0.\n",
    "        cache=dict()\n",
    "        for idx, n in enumerate(res):\n",
    "            if idx==0:\n",
    "                res[0]=res[0]%k\n",
    "                cache[res[0]]=0\n",
    "            else:\n",
    "                res[idx]=(res[idx-1]+res[idx])%k\n",
    "                if res[idx] in cache:\n",
    "                    if idx-cache[res[idx]]>=2:\n",
    "                        return True\n",
    "                else:\n",
    "                    cache[res[idx]]=idx\n",
    "        return False"
   ]
  },
  {
   "cell_type": "markdown",
   "metadata": {},
   "source": [
    "## Attempt 2 - Still Wrong Answer"
   ]
  },
  {
   "cell_type": "code",
   "execution_count": null,
   "metadata": {},
   "outputs": [],
   "source": [
    "class Solution:\n",
    "    def checkSubarraySum(self, nums: List[int], k: int) -> bool:\n",
    "        L=len(nums)\n",
    "        if k>0:\n",
    "            cumsum=[None for _ in range(L+1)]\n",
    "            cache=dict()\n",
    "            for idx, n in enumerate(cumsum):\n",
    "                if idx==0:\n",
    "                    cumsum[0]=0\n",
    "                    cache[0]=0\n",
    "                else:\n",
    "                    cumsum[idx]=(cumsum[idx-1]+nums[idx-1])%k\n",
    "                    if cumsum[idx] in cache:\n",
    "                        if idx-cache[cumsum[idx]]>=2:\n",
    "                            return True\n",
    "                    else:\n",
    "                        cache[cumsum[idx]]=idx\n",
    "            return False\n",
    "        else: ## --> did not handle the case where k is negative.\n",
    "            for idx in range(1,L):\n",
    "                if nums[idx]==0 and nums[idx]==nums[idx-1]:\n",
    "                    return True\n",
    "            return False"
   ]
  },
  {
   "cell_type": "markdown",
   "metadata": {},
   "source": [
    "## Attempt 3 - Accepted"
   ]
  },
  {
   "cell_type": "code",
   "execution_count": null,
   "metadata": {},
   "outputs": [],
   "source": [
    "class Solution:\n",
    "    def checkSubarraySum(self, nums: List[int], k: int) -> bool:\n",
    "        L=len(nums)\n",
    "        if k!=0:\n",
    "            k=abs(k)\n",
    "            cumsum=[None for _ in range(L+1)]\n",
    "            cache=dict()\n",
    "            for idx, n in enumerate(cumsum):\n",
    "                if idx==0:\n",
    "                    cumsum[0]=0\n",
    "                    cache[0]=0\n",
    "                else:\n",
    "                    cumsum[idx]=(cumsum[idx-1]+nums[idx-1])%k\n",
    "                    if cumsum[idx] in cache:\n",
    "                        if idx-cache[cumsum[idx]]>=2:\n",
    "                            return True\n",
    "                    else:\n",
    "                        cache[cumsum[idx]]=idx\n",
    "            return False\n",
    "        else:\n",
    "            for idx in range(1,L):\n",
    "                if nums[idx]==0 and nums[idx]==nums[idx-1]:\n",
    "                    return True\n",
    "            return False\n",
    "            "
   ]
  },
  {
   "cell_type": "markdown",
   "metadata": {},
   "source": [
    "## Attempt 4 - Accepted"
   ]
  },
  {
   "cell_type": "code",
   "execution_count": null,
   "metadata": {},
   "outputs": [],
   "source": [
    "class Solution {\n",
    "public:\n",
    "    bool checkSubarraySum(vector<int>& nums, int k) {\n",
    "        vector<int> cumsum = {0};\n",
    "        map<int, int> record = {{0, 0}};\n",
    "        for (int idx=0; idx<nums.size(); idx++) {\n",
    "            int curr = cumsum.back() + nums[idx];\n",
    "            int r = curr % k;\n",
    "            if (record.find(r) == record.end()) {\n",
    "                record[r] = idx + 1;\n",
    "            }\n",
    "            else {\n",
    "                if ((idx + 1 - record[r]) >= 2) {\n",
    "                    return true;\n",
    "                }\n",
    "            }\n",
    "            cumsum.push_back(curr);\n",
    "        }\n",
    "        return false;\n",
    "    }\n",
    "};"
   ]
  },
  {
   "cell_type": "markdown",
   "metadata": {},
   "source": [
    "## Lessons and Thoughts\n",
    "- So another usual case for edge cases: the sign of input integers."
   ]
  }
 ],
 "metadata": {
  "kernelspec": {
   "display_name": "Python 3",
   "language": "python",
   "name": "python3"
  },
  "language_info": {
   "codemirror_mode": {
    "name": "ipython",
    "version": 3
   },
   "file_extension": ".py",
   "mimetype": "text/x-python",
   "name": "python",
   "nbconvert_exporter": "python",
   "pygments_lexer": "ipython3",
   "version": "3.6.5"
  }
 },
 "nbformat": 4,
 "nbformat_minor": 2
}
