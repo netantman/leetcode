{
 "cells": [
  {
   "cell_type": "markdown",
   "metadata": {},
   "source": [
    "## Attempt 1 - Accepted"
   ]
  },
  {
   "cell_type": "code",
   "execution_count": null,
   "metadata": {},
   "outputs": [],
   "source": [
    "class Solution:\n",
    "    def minCost(self, costs: List[List[int]]) -> int:\n",
    "        curr = costs[0]\n",
    "        L = len(costs)\n",
    "        for idx in range(1, L):\n",
    "            cost = costs[idx]\n",
    "            new = [None, None, None]\n",
    "            new[0] = min(curr[1] + cost[0], curr[2] + cost[0])\n",
    "            new[1] = min(curr[0] + cost[1], curr[2] + cost[1])\n",
    "            new[2] = min(curr[0] + cost[2], curr[1] + cost[2])\n",
    "            curr = new\n",
    "        return min(curr)"
   ]
  },
  {
   "cell_type": "markdown",
   "metadata": {},
   "source": [
    "## Lessons and Thoughts\n",
    "- Straightforward sequence DP."
   ]
  }
 ],
 "metadata": {
  "kernelspec": {
   "display_name": "Python 3",
   "language": "python",
   "name": "python3"
  },
  "language_info": {
   "codemirror_mode": {
    "name": "ipython",
    "version": 3
   },
   "file_extension": ".py",
   "mimetype": "text/x-python",
   "name": "python",
   "nbconvert_exporter": "python",
   "pygments_lexer": "ipython3",
   "version": "3.7.3"
  }
 },
 "nbformat": 4,
 "nbformat_minor": 2
}
