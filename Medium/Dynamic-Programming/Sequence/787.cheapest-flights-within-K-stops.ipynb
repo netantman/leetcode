{
 "cells": [
  {
   "cell_type": "markdown",
   "metadata": {},
   "source": [
    "## Attempt 1 - Key Error"
   ]
  },
  {
   "cell_type": "code",
   "execution_count": null,
   "metadata": {},
   "outputs": [],
   "source": [
    "class Solution:\n",
    "    def findCheapestPrice(self, n: int, flights: List[List[int]], src: int, dst: int, K: int) -> int:\n",
    "        if src==dst:\n",
    "            return 0\n",
    "        mapping=dict()\n",
    "        for f in flights:\n",
    "            mapping[f[0]]=mapping.get(f[0],[])+[f] \n",
    "        q=[(0,src,src,0)] # cost,start, end, stops\n",
    "        heapq.heapify(q)\n",
    "        visited=set()\n",
    "        while len(q)>0:\n",
    "            head=heappop(q)\n",
    "            cost,start,end,stops=head[0],head[1],head[2],head[3]\n",
    "            if stops>K+1:\n",
    "                continue\n",
    "            if end==dst:\n",
    "                return cost\n",
    "            visited.add(end)\n",
    "            neighbors=mapping[end] ## --> it does not say that every city has a flight\n",
    "            for n in neighbors:\n",
    "                if n[1] not in visited:\n",
    "                    heapq.heappush(q, (cost+n[2],n[0],n[1],stops+1))\n",
    "        return -1"
   ]
  },
  {
   "cell_type": "markdown",
   "metadata": {},
   "source": [
    "## Attempt 2 - Wrong Answer"
   ]
  },
  {
   "cell_type": "code",
   "execution_count": null,
   "metadata": {},
   "outputs": [],
   "source": [
    "class Solution:\n",
    "    def findCheapestPrice(self, n: int, flights: List[List[int]], src: int, dst: int, K: int) -> int:\n",
    "        if src==dst:\n",
    "            return 0\n",
    "        mapping=dict()\n",
    "        for f in flights:\n",
    "            mapping[f[0]]=mapping.get(f[0],[])+[f]\n",
    "        q=[(0,src,src,0)] # cost,start, end, stops\n",
    "        heapq.heapify(q)\n",
    "        visited=set()\n",
    "        while len(q)>0:\n",
    "            head=heappop(q)\n",
    "            cost,start,end,stops=head[0],head[1],head[2],head[3]\n",
    "            if stops>K+1:\n",
    "                continue\n",
    "            if end==dst:\n",
    "                return cost\n",
    "            visited.add(end)  ## --> when it is popped from the heap, it is not necessarily the shortest\n",
    "            neighbors=mapping.get(end, [])\n",
    "            for n in neighbors:\n",
    "                if n[1] not in visited:\n",
    "                    heapq.heappush(q, (cost+n[2],n[0],n[1],stops+1))\n",
    "        return -1\n",
    "            "
   ]
  },
  {
   "cell_type": "markdown",
   "metadata": {},
   "source": [
    "## Attempt 3 - Accepted"
   ]
  },
  {
   "cell_type": "code",
   "execution_count": null,
   "metadata": {},
   "outputs": [],
   "source": [
    "class Solution:\n",
    "    def findCheapestPrice(self, n: int, flights: List[List[int]], src: int, dst: int, K: int) -> int:\n",
    "        if src==dst:\n",
    "            return 0\n",
    "        res={idx:float('inf') for idx in range(n)}\n",
    "        res[src]=0\n",
    "        flights=sorted(flights, key=lambda x:x[-1])\n",
    "        for _ in range(K+1):\n",
    "            nexxt={k:v for k,v in res.items()}\n",
    "            for f in flights:\n",
    "                start, end, cost=tuple(f)\n",
    "                nexxt[end]=min(nexxt[end], res[start]+cost)\n",
    "            res=nexxt\n",
    "        if res[dst]==float('inf'):\n",
    "            return -1\n",
    "        else:\n",
    "            return res[dst]"
   ]
  },
  {
   "cell_type": "markdown",
   "metadata": {},
   "source": [
    "## Lessons and Thoughts\n",
    "- Took you a while, though the algo seems straightforward, but did not work. You ended up looking at a solution on the leetcode app, which is a shortest path algo plus something similar to the rolling optimization in DP: at `k`-th iteration only save a record that is reachable with `k` steps.\n",
    "- `heapq` sort the lists by looking at the first element in the list.\n",
    "- When doing BFS, you need to have a clear meaning of what the `queue` and `visited` mean. Especially when you are just using a list of store all different kinds of information.\n",
    "- Probably always better to access `dict` using `get`\n",
    "- This is actually a dp problem: the usual shortest paths does not work, as the the shortest path with `k` stops may be totally different from the shortest path with at most `k-1` stops."
   ]
  }
 ],
 "metadata": {
  "kernelspec": {
   "display_name": "Python 3 (ipykernel)",
   "language": "python",
   "name": "python3"
  },
  "language_info": {
   "codemirror_mode": {
    "name": "ipython",
    "version": 3
   },
   "file_extension": ".py",
   "mimetype": "text/x-python",
   "name": "python",
   "nbconvert_exporter": "python",
   "pygments_lexer": "ipython3",
   "version": "3.9.7"
  }
 },
 "nbformat": 4,
 "nbformat_minor": 2
}
