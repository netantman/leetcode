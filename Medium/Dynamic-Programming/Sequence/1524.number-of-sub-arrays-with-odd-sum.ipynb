{
 "cells": [
  {
   "cell_type": "markdown",
   "metadata": {},
   "source": [
    "## Attempt 1 - Accepted"
   ]
  },
  {
   "cell_type": "code",
   "execution_count": null,
   "metadata": {},
   "outputs": [],
   "source": [
    "class Solution:\n",
    "    def numOfSubarrays(self, arr: List[int]) -> int:\n",
    "        odd, even = [0], [0]\n",
    "        for a in arr:\n",
    "            if a % 2 > 0:\n",
    "                new_odd = even[-1] + 1\n",
    "                new_even = odd[-1]\n",
    "            else:\n",
    "                new_odd = odd[-1]\n",
    "                new_even = even[-1] + 1\n",
    "            odd.append(new_odd % (10 ** 9 + 7) )\n",
    "            even.append(new_even % (10 ** 9 + 7) )\n",
    "        return sum(odd) % (10 ** 9 + 7)"
   ]
  },
  {
   "cell_type": "markdown",
   "metadata": {},
   "source": [
    "## Lessons and Thoughts\n",
    "- `odd` is the list of number of all odd subarray that ends at that position, `even` the list of evens."
   ]
  }
 ],
 "metadata": {
  "kernelspec": {
   "display_name": "Python 3",
   "language": "python",
   "name": "python3"
  },
  "language_info": {
   "codemirror_mode": {
    "name": "ipython",
    "version": 3
   },
   "file_extension": ".py",
   "mimetype": "text/x-python",
   "name": "python",
   "nbconvert_exporter": "python",
   "pygments_lexer": "ipython3",
   "version": "3.7.3"
  }
 },
 "nbformat": 4,
 "nbformat_minor": 2
}
