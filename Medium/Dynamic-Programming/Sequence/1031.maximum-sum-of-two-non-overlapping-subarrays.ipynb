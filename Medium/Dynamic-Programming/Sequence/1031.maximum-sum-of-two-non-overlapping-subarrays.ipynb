{
 "cells": [
  {
   "cell_type": "markdown",
   "metadata": {},
   "source": [
    "## Attempt 1 - Accepted"
   ]
  },
  {
   "cell_type": "code",
   "execution_count": null,
   "metadata": {},
   "outputs": [],
   "source": [
    "class Solution:\n",
    "    def maxSumTwoNoOverlap(self, A: List[int], L: int, M: int) -> int:\n",
    "        cumsum=[0]+[a for a in A]\n",
    "        for idx in range(1,len(cumsum)):\n",
    "            cumsum[idx]+=cumsum[idx-1]\n",
    "        forward_l,forward_m,backward_l,backward_m=dict(),dict(),dict(),dict()\n",
    "        maxx=-float('inf')\n",
    "        for idx in range(len(A)):\n",
    "            if idx-L>=0:\n",
    "                maxx=max(maxx, cumsum[idx]-cumsum[idx-L])\n",
    "                forward_l[idx]=maxx\n",
    "        maxx=-float('inf')\n",
    "        for idx in range(len(A)):\n",
    "            if idx-M>=0:\n",
    "                maxx=max(maxx, cumsum[idx]-cumsum[idx-M])\n",
    "                forward_m[idx]=maxx\n",
    "        maxx=-float('inf')\n",
    "        for idx in reversed(range(len(A))):\n",
    "            if idx+L<=len(A):\n",
    "                maxx=max(maxx, cumsum[idx+L]-cumsum[idx])\n",
    "                backward_l[idx]=maxx\n",
    "        maxx=-float('inf')\n",
    "        for idx in reversed(range(len(A))):\n",
    "            if idx+M<=len(A):\n",
    "                maxx=max(maxx, cumsum[idx+M]-cumsum[idx])\n",
    "                backward_m[idx]=maxx\n",
    "        \n",
    "        res=-float('inf')\n",
    "        for idx in range(len(A)):\n",
    "            if idx in forward_l and idx in backward_m:\n",
    "                res=max(res, forward_l[idx]+backward_m[idx])\n",
    "            if idx in backward_l and idx in forward_m:\n",
    "                res=max(res, forward_m[idx]+backward_l[idx])\n",
    "        \n",
    "        return res\n",
    "        "
   ]
  },
  {
   "cell_type": "markdown",
   "metadata": {},
   "source": [
    "## Attempt 2 - Accepted"
   ]
  },
  {
   "cell_type": "code",
   "execution_count": null,
   "metadata": {},
   "outputs": [],
   "source": [
    "class Solution {\n",
    "public:\n",
    "    int maxSumTwoNoOverlap(vector<int>& nums, int firstLen, int secondLen) {\n",
    "        // vector<int> reversed = {};\n",
    "        int L = nums.size();\n",
    "        // for (int idx=L-1; idx>=0; idx--) {\n",
    "        //     reversed.push_back();    \n",
    "        // }\n",
    "        vector<int> cumsum = {0};\n",
    "        for (int n : nums) {\n",
    "            cumsum.push_back(cumsum.back() + n);\n",
    "        }\n",
    "        // vector<int> r_cumsum = {0};\n",
    "        // for (int r : reversed) {\n",
    "        //     r_cumsum.push_back(r_cumsum.back())\n",
    "        // }\n",
    "        \n",
    "        map<int, int> pre_first = {};\n",
    "        map<int, int> pre_second = {};\n",
    "        int max_first = 0, max_second = 0;\n",
    "        for( int idx=0; idx<L; idx++) {\n",
    "            if (idx + firstLen <= L) {\n",
    "                max_first = max(max_first, cumsum[idx + firstLen] - cumsum[idx]);\n",
    "                pre_first[idx + firstLen] = max_first;\n",
    "            }\n",
    "            if (idx + secondLen <= L) {\n",
    "                max_second = max(max_second, cumsum[idx + secondLen] - cumsum[idx]);\n",
    "                pre_second[idx + secondLen] = max_second;\n",
    "            }\n",
    "        }\n",
    "        \n",
    "        map<int, int> post_first = {};\n",
    "        map<int, int> post_second = {};\n",
    "        max_first = 0, max_second = 0;\n",
    "        for (int idx=L; idx>=0; idx--) {\n",
    "            if (idx - firstLen >= 0) {\n",
    "                max_first = max(max_first, cumsum[idx] - cumsum[idx - firstLen]);\n",
    "                post_first[idx - firstLen] = max_first;\n",
    "            }\n",
    "            if (idx - secondLen >= 0) {\n",
    "                max_second = max(max_second, cumsum[idx] - cumsum[idx - secondLen]);\n",
    "                post_second[idx - secondLen] = max_second;\n",
    "            }\n",
    "        }\n",
    "        \n",
    "        int res = 0;\n",
    "        for(int idx=0; idx<L; idx++) {\n",
    "            if ((pre_first.find(idx) != pre_first.end()) && (post_second.find(idx) != post_second.end())) {\n",
    "                res = max(res, pre_first[idx] + post_second[idx]);\n",
    "            }\n",
    "            if ((pre_second.find(idx) != pre_second.end()) && (post_first.find(idx) != post_first.end())) {\n",
    "                res = max(res, pre_second[idx] + post_first[idx]);\n",
    "            }\n",
    "        }\n",
    "        return res;\n",
    "        \n",
    "    }\n",
    "};"
   ]
  },
  {
   "cell_type": "markdown",
   "metadata": {},
   "source": [
    "## Lessons and Thoughts\n",
    "- Sequence type DP.\n",
    "- `cumsum` to calculate constiguous array sum.\n",
    "- Attempt 2 is essentially the same idea as Attempt 1, but probably using for loop to just do one thing is preferable."
   ]
  }
 ],
 "metadata": {
  "kernelspec": {
   "display_name": "Python 3",
   "language": "python",
   "name": "python3"
  },
  "language_info": {
   "codemirror_mode": {
    "name": "ipython",
    "version": 3
   },
   "file_extension": ".py",
   "mimetype": "text/x-python",
   "name": "python",
   "nbconvert_exporter": "python",
   "pygments_lexer": "ipython3",
   "version": "3.6.5"
  }
 },
 "nbformat": 4,
 "nbformat_minor": 2
}
