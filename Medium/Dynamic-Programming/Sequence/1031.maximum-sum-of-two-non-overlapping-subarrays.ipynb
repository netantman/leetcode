{
 "cells": [
  {
   "cell_type": "markdown",
   "metadata": {},
   "source": [
    "## Attempt 1 - Accepted"
   ]
  },
  {
   "cell_type": "code",
   "execution_count": null,
   "metadata": {},
   "outputs": [],
   "source": [
    "class Solution:\n",
    "    def maxSumTwoNoOverlap(self, A: List[int], L: int, M: int) -> int:\n",
    "        cumsum=[0]+[a for a in A]\n",
    "        for idx in range(1,len(cumsum)):\n",
    "            cumsum[idx]+=cumsum[idx-1]\n",
    "        forward_l,forward_m,backward_l,backward_m=dict(),dict(),dict(),dict()\n",
    "        maxx=-float('inf')\n",
    "        for idx in range(len(A)):\n",
    "            if idx-L>=0:\n",
    "                maxx=max(maxx, cumsum[idx]-cumsum[idx-L])\n",
    "                forward_l[idx]=maxx\n",
    "        maxx=-float('inf')\n",
    "        for idx in range(len(A)):\n",
    "            if idx-M>=0:\n",
    "                maxx=max(maxx, cumsum[idx]-cumsum[idx-M])\n",
    "                forward_m[idx]=maxx\n",
    "        maxx=-float('inf')\n",
    "        for idx in reversed(range(len(A))):\n",
    "            if idx+L<=len(A):\n",
    "                maxx=max(maxx, cumsum[idx+L]-cumsum[idx])\n",
    "                backward_l[idx]=maxx\n",
    "        maxx=-float('inf')\n",
    "        for idx in reversed(range(len(A))):\n",
    "            if idx+M<=len(A):\n",
    "                maxx=max(maxx, cumsum[idx+M]-cumsum[idx])\n",
    "                backward_m[idx]=maxx\n",
    "        \n",
    "        res=-float('inf')\n",
    "        for idx in range(len(A)):\n",
    "            if idx in forward_l and idx in backward_m:\n",
    "                res=max(res, forward_l[idx]+backward_m[idx])\n",
    "            if idx in backward_l and idx in forward_m:\n",
    "                res=max(res, forward_m[idx]+backward_l[idx])\n",
    "        \n",
    "        return res\n",
    "        "
   ]
  },
  {
   "cell_type": "markdown",
   "metadata": {},
   "source": [
    "## Lessons and Thoughts\n",
    "- Sequence type DP.\n",
    "- `cumsum` to calculate constiguous array sum."
   ]
  }
 ],
 "metadata": {
  "kernelspec": {
   "display_name": "Python 3",
   "language": "python",
   "name": "python3"
  },
  "language_info": {
   "codemirror_mode": {
    "name": "ipython",
    "version": 3
   },
   "file_extension": ".py",
   "mimetype": "text/x-python",
   "name": "python",
   "nbconvert_exporter": "python",
   "pygments_lexer": "ipython3",
   "version": "3.7.3"
  }
 },
 "nbformat": 4,
 "nbformat_minor": 2
}
