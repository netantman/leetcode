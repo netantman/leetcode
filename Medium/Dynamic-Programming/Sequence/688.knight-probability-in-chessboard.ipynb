{
 "cells": [
  {
   "cell_type": "markdown",
   "metadata": {},
   "source": [
    "## Attempt 1 - Accepted"
   ]
  },
  {
   "cell_type": "code",
   "execution_count": null,
   "metadata": {},
   "outputs": [],
   "source": [
    "class Solution:\n",
    "    def knightProbability(self, N: int, K: int, r: int, c: int) -> float:\n",
    "        if K==0:\n",
    "            return 1.0\n",
    "        \n",
    "        def get_neighbors(r,c,N):\n",
    "            res=[]\n",
    "            if r-1>=0 and c+2<N:\n",
    "                res.append((r-1, c+2))\n",
    "            if r-2>=0 and c+1<N:\n",
    "                res.append((r-2, c+1))\n",
    "            if r-1>=0 and c-2>=0:\n",
    "                res.append((r-1, c-2))\n",
    "            if r-2>=0 and c-1>=0:\n",
    "                res.append((r-2, c-1))\n",
    "            if r+1<N and c+2<N:\n",
    "                res.append((r+1, c+2))\n",
    "            if r+2<N and c+1<N:\n",
    "                res.append((r+2, c+1))\n",
    "            if r+1<N and c-2>=0:\n",
    "                res.append((r+1, c-2))\n",
    "            if r+2<N and c-1>=0:\n",
    "                res.append((r+2, c-1))\n",
    "            return res\n",
    "        \n",
    "        board=[[0 for _ in range(N)] for _ in range(N)]\n",
    "        board[r][c]=1\n",
    "        for _ in range(K):\n",
    "            nexxt=[[0 for _ in range(N)] for _ in range(N)]\n",
    "            for r in range(N):\n",
    "                for c in range(N):\n",
    "                    if board[r][c]>0:\n",
    "                        neighbors=get_neighbors(r,c,N)\n",
    "                        for n in neighbors:\n",
    "                            nexxt[n[0]][n[1]]+=board[r][c]*0.125\n",
    "            board=nexxt\n",
    "        ss=0\n",
    "        for r in range(N):\n",
    "            for c in range(N):\n",
    "                ss+=board[r][c]\n",
    "        return ss"
   ]
  },
  {
   "cell_type": "markdown",
   "metadata": {},
   "source": [
    "## Lessons and Thoughts\n",
    "- It is a Markov chain."
   ]
  }
 ],
 "metadata": {
  "kernelspec": {
   "display_name": "Python 3",
   "language": "python",
   "name": "python3"
  },
  "language_info": {
   "codemirror_mode": {
    "name": "ipython",
    "version": 3
   },
   "file_extension": ".py",
   "mimetype": "text/x-python",
   "name": "python",
   "nbconvert_exporter": "python",
   "pygments_lexer": "ipython3",
   "version": "3.7.3"
  }
 },
 "nbformat": 4,
 "nbformat_minor": 2
}
