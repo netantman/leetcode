{
 "cells": [
  {
   "cell_type": "markdown",
   "metadata": {},
   "source": [
    "## Attempt 1 - Time Limit Exceeded"
   ]
  },
  {
   "cell_type": "code",
   "execution_count": null,
   "metadata": {},
   "outputs": [],
   "source": [
    "class Solution:\n",
    "    def canReach(self, s: str, minJump: int, maxJump: int) -> bool:\n",
    "        L = len(s)\n",
    "        q = [0]\n",
    "        while q:\n",
    "            head = q.pop(0)\n",
    "            if head == L - 1:\n",
    "                return True\n",
    "            for j in range(head + minJump, head + maxJump + 1):\n",
    "                if j >= L:\n",
    "                    break\n",
    "                if s[j] == '0' and s[j] not in q:\n",
    "                    q.append(j)\n",
    "        return False"
   ]
  },
  {
   "cell_type": "markdown",
   "metadata": {},
   "source": [
    "## Attempt 2 - Accepted "
   ]
  },
  {
   "cell_type": "code",
   "execution_count": null,
   "metadata": {},
   "outputs": [],
   "source": [
    "class Solution:\n",
    "    def canReach(self, s: str, minJump: int, maxJump: int) -> bool:\n",
    "        L = len(s)\n",
    "        f = [0] * L\n",
    "        f[0] = 1\n",
    "        cumsum = [0, 1]\n",
    "        \n",
    "        for j in range(1, L):\n",
    "            if j - minJump < 0 or int(s[j]) > 0:\n",
    "                cumsum.append(cumsum[-1])\n",
    "                continue\n",
    "            left = max(0, j - maxJump)\n",
    "            right = j - minJump + 1\n",
    "            f[j] = 1 if cumsum[right] - cumsum[left] > 0 else 0\n",
    "            cumsum.append(cumsum[-1] + f[j])\n",
    "        \n",
    "        return bool(f[-1])"
   ]
  },
  {
   "cell_type": "markdown",
   "metadata": {},
   "source": [
    "## Lessons and Thoughts\n",
    "- The BFS approach TLE.\n",
    "- The accepted algo is inspired by the app. The key is to use `cumsum` to check if a prev state is reachable."
   ]
  }
 ],
 "metadata": {
  "kernelspec": {
   "display_name": "Python 3",
   "language": "python",
   "name": "python3"
  },
  "language_info": {
   "codemirror_mode": {
    "name": "ipython",
    "version": 3
   },
   "file_extension": ".py",
   "mimetype": "text/x-python",
   "name": "python",
   "nbconvert_exporter": "python",
   "pygments_lexer": "ipython3",
   "version": "3.7.3"
  }
 },
 "nbformat": 4,
 "nbformat_minor": 2
}
