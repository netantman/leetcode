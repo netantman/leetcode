{
 "cells": [
  {
   "cell_type": "markdown",
   "metadata": {},
   "source": [
    "## Attempt 1 - Accepted"
   ]
  },
  {
   "cell_type": "code",
   "execution_count": null,
   "metadata": {},
   "outputs": [],
   "source": [
    "class Solution:\n",
    "    def mincostTickets(self, days: List[int], costs: List[int]) -> int:\n",
    "        dp=[0]+[None for _ in days]\n",
    "        L=len(days)\n",
    "        dp[1]=min(costs)\n",
    "        for idx in range(2,L+1):\n",
    "            sub=days[-idx:]\n",
    "            dp[idx]=min(costs[0]+dp[len([x for x in sub if x>=sub[0]+1])], costs[1]+dp[len([x for x in sub if x>=sub[0]+7])], costs[2]+dp[len([x for x in sub if x>=sub[0]+30])])\n",
    "        return dp[-1]"
   ]
  },
  {
   "cell_type": "markdown",
   "metadata": {},
   "source": [
    "## Attempt 2 - Accepted"
   ]
  },
  {
   "cell_type": "code",
   "execution_count": null,
   "metadata": {},
   "outputs": [],
   "source": [
    "class Solution {\n",
    "public:\n",
    "    int mincostTickets(vector<int>& days, vector<int>& costs) {\n",
    "        vector<int> dp = {0};\n",
    "        dp.push_back(min(min(costs[0], costs[1]), costs[2]));\n",
    "        \n",
    "        int L = days.size();\n",
    "        for (int idx=1; idx<L; idx++) {\n",
    "            int d = days[idx];\n",
    "            int curr = dp[idx] + costs[0];\n",
    "            \n",
    "            int j = 1;\n",
    "            while ((idx - j >= 0) && (d - days[idx - j] <= 6)) {\n",
    "                j++;\n",
    "            }\n",
    "            curr = min(curr, dp[idx - j + 1] + costs[1]);\n",
    "            \n",
    "            int k = 1;\n",
    "            while ((idx - k >= 0) && (d - days[idx - k] <= 29)) {\n",
    "                k++;\n",
    "            }\n",
    "            curr = min(curr, dp[idx - k + 1] + costs[2]);\n",
    "            \n",
    "            dp.push_back(curr);\n",
    "        }\n",
    "        return dp.back();\n",
    "    }\n",
    "};"
   ]
  },
  {
   "cell_type": "markdown",
   "metadata": {},
   "source": [
    "## Lessons and Thoughts\n",
    "- Usual DP on one-dimensional array.\n",
    "- Figuring out the right index can be stressful, and you also need to ensure no index-out-of-range error."
   ]
  }
 ],
 "metadata": {
  "kernelspec": {
   "display_name": "Python 3 (ipykernel)",
   "language": "python",
   "name": "python3"
  },
  "language_info": {
   "codemirror_mode": {
    "name": "ipython",
    "version": 3
   },
   "file_extension": ".py",
   "mimetype": "text/x-python",
   "name": "python",
   "nbconvert_exporter": "python",
   "pygments_lexer": "ipython3",
   "version": "3.9.7"
  }
 },
 "nbformat": 4,
 "nbformat_minor": 2
}
