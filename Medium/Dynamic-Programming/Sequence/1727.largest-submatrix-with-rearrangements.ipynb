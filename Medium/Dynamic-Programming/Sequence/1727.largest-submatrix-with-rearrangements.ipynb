{
 "cells": [
  {
   "cell_type": "markdown",
   "metadata": {},
   "source": [
    "## Attempt 1 - Accepted"
   ]
  },
  {
   "cell_type": "code",
   "execution_count": null,
   "metadata": {},
   "outputs": [],
   "source": [
    "class Solution:\n",
    "    def largestSubmatrix(self, matrix: List[List[int]]) -> int:\n",
    "        R, C = len(matrix), len(matrix[0])\n",
    "        dp = [[0 for _ in range(C)] for _ in range(R)]\n",
    "        dp[0] = [m for m in matrix[0]]\n",
    "        for r in range(1, R):\n",
    "            for c in range(C):\n",
    "                if matrix[r][c] == 0:\n",
    "                    dp[r][c] = 0\n",
    "                else:\n",
    "                    dp[r][c] = dp[r - 1][c] + 1\n",
    "        \n",
    "        def get_largest(row):\n",
    "            cnt = dict()\n",
    "            for c in range(C):\n",
    "                cnt[row[c]] = cnt.get(row[c], 0) + 1\n",
    "            width = 0\n",
    "            ans = 0\n",
    "            for k in sorted(cnt.keys(), reverse=True):\n",
    "                width += cnt[k]\n",
    "                ans = max(ans, width * k)\n",
    "            return ans\n",
    "        \n",
    "        return max([get_largest(row) for row in dp])"
   ]
  },
  {
   "cell_type": "markdown",
   "metadata": {},
   "source": [
    "## Lessons and Thoughts\n",
    "- Looks like a double sequence, but it is enough to do dp along the columns.\n",
    "- The idea is actually similar to Problem 85. But with `cnt` caching the highest heights, you do not need to actually sort the columns."
   ]
  }
 ],
 "metadata": {
  "kernelspec": {
   "display_name": "Python 3",
   "language": "python",
   "name": "python3"
  },
  "language_info": {
   "codemirror_mode": {
    "name": "ipython",
    "version": 3
   },
   "file_extension": ".py",
   "mimetype": "text/x-python",
   "name": "python",
   "nbconvert_exporter": "python",
   "pygments_lexer": "ipython3",
   "version": "3.6.5"
  }
 },
 "nbformat": 4,
 "nbformat_minor": 2
}
