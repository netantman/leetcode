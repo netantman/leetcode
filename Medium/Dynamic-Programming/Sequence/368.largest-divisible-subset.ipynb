{
 "cells": [
  {
   "cell_type": "markdown",
   "metadata": {},
   "source": [
    "## Attempt 1 - Accepted"
   ]
  },
  {
   "cell_type": "code",
   "execution_count": null,
   "metadata": {},
   "outputs": [],
   "source": [
    "class Solution:\n",
    "    def largestDivisibleSubset(self, nums: List[int]) -> List[int]:\n",
    "        if len(nums)<1:\n",
    "            return []\n",
    "        \n",
    "        nums=sorted(nums)\n",
    "        dp=[[n] for n in nums]\n",
    "        L=len(nums)\n",
    "        m=1\n",
    "        res=[nums[0]]\n",
    "        for idx in range(1,L):\n",
    "            for j in range(idx):\n",
    "                if (nums[idx]%nums[j]==0) and (len(dp[j])+1>len(dp[idx])):\n",
    "                    dp[idx]=dp[j]+[nums[idx]]\n",
    "                    if len(dp[idx])>m:\n",
    "                        m=len(dp[idx])\n",
    "                        res=dp[idx]\n",
    "        return res"
   ]
  },
  {
   "cell_type": "markdown",
   "metadata": {},
   "source": [
    "## Lessons and Thoughts\n",
    "- Very similar to Problem 296."
   ]
  }
 ],
 "metadata": {
  "kernelspec": {
   "display_name": "Python 3",
   "language": "python",
   "name": "python3"
  },
  "language_info": {
   "codemirror_mode": {
    "name": "ipython",
    "version": 3
   },
   "file_extension": ".py",
   "mimetype": "text/x-python",
   "name": "python",
   "nbconvert_exporter": "python",
   "pygments_lexer": "ipython3",
   "version": "3.7.3"
  }
 },
 "nbformat": 4,
 "nbformat_minor": 2
}
