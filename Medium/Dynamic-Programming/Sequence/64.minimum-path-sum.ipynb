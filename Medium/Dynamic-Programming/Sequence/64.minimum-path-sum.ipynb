{
 "cells": [
  {
   "cell_type": "markdown",
   "metadata": {},
   "source": [
    "## Attempt 1 - Accepted"
   ]
  },
  {
   "cell_type": "code",
   "execution_count": null,
   "metadata": {},
   "outputs": [],
   "source": [
    "class Solution:\n",
    "    def minPathSum(self, grid: List[List[int]]) -> int:\n",
    "        if len(grid)<1:\n",
    "            return 0\n",
    "        if len(grid)==1:\n",
    "            return sum(grid[0])\n",
    "        \n",
    "        rows=len(grid)\n",
    "        cols=len(grid[0])\n",
    "        matrix=[[None for c in range(cols)] for r in range(rows)]\n",
    "        \n",
    "        for c in range(cols):\n",
    "            matrix[0][c]=sum(grid[0][:c+1])\n",
    "        for r in range(1, rows):\n",
    "            matrix[r][0]=grid[r][0]+matrix[r-1][0]\n",
    "        \n",
    "        for r in range(1, rows):\n",
    "            for c in range(1, cols):\n",
    "                matrix[r][c] = grid[r][c]+min(matrix[r-1][c], matrix[r][c-1])\n",
    "        \n",
    "        return matrix[-1][-1]"
   ]
  },
  {
   "cell_type": "markdown",
   "metadata": {},
   "source": [
    "## Lessons and Thoughts\n",
    "- The way of initializing and populating matrices is useful in many occasions. "
   ]
  }
 ],
 "metadata": {
  "kernelspec": {
   "display_name": "Python 3",
   "language": "python",
   "name": "python3"
  },
  "language_info": {
   "codemirror_mode": {
    "name": "ipython",
    "version": 3
   },
   "file_extension": ".py",
   "mimetype": "text/x-python",
   "name": "python",
   "nbconvert_exporter": "python",
   "pygments_lexer": "ipython3",
   "version": "3.7.3"
  }
 },
 "nbformat": 4,
 "nbformat_minor": 2
}
