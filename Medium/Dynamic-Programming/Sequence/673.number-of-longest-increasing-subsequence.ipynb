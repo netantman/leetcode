{
 "cells": [
  {
   "cell_type": "markdown",
   "metadata": {},
   "source": [
    "## Attempt 1 - Accepted"
   ]
  },
  {
   "cell_type": "code",
   "execution_count": null,
   "metadata": {},
   "outputs": [],
   "source": [
    "class Solution(object):\n",
    "    def findNumberOfLIS(self, nums):\n",
    "        N = len(nums)\n",
    "        if N <= 1: return N\n",
    "        lengths = [0] * N #lengths[i] = longest ending in nums[i]\n",
    "        counts = [1] * N #count[i] = number of longest ending in nums[i]\n",
    "\n",
    "        for j, num in enumerate(nums):\n",
    "            for i in range(j):\n",
    "                if nums[i] < nums[j]:\n",
    "                    if lengths[i] >= lengths[j]:\n",
    "                        lengths[j] = 1 + lengths[i]\n",
    "                        counts[j] = counts[i]\n",
    "                    elif lengths[i] + 1 == lengths[j]:\n",
    "                        counts[j] += counts[i]\n",
    "\n",
    "        longest = max(lengths)\n",
    "        return sum(c for i, c in enumerate(counts) if lengths[i] == longest)"
   ]
  },
  {
   "cell_type": "markdown",
   "metadata": {},
   "source": [
    "## Attempt 2 - Time Limit Exceeded"
   ]
  },
  {
   "cell_type": "code",
   "execution_count": null,
   "metadata": {},
   "outputs": [],
   "source": [
    "class Solution:\n",
    "    def findNumberOfLIS(self, nums: List[int]) -> int:\n",
    "        if len(nums) == 1:\n",
    "            return 1\n",
    "        \n",
    "        record = defaultdict(dict)\n",
    "        record[nums[0]] = {1 : 1} # end : {length : num_paths}\n",
    "        \n",
    "        max_length = 1\n",
    "        for n in nums[1:]:\n",
    "            new_rec = record\n",
    "            if 1 in new_rec[n]:\n",
    "                new_rec[n][1] += 1\n",
    "            else:\n",
    "                new_rec[n] = {1 : 1}\n",
    "            for prev_end, prev_paths in record.items():\n",
    "                if n <= prev_end:\n",
    "                    continue\n",
    "                \n",
    "                for length, num_paths in prev_paths.items():\n",
    "                    new_rec[n][length + 1] = new_rec[n].get(length + 1, 0) + num_paths\n",
    "                    max_length = max(max_length, length + 1)\n",
    "        \n",
    "            record = new_rec\n",
    "        \n",
    "        res = 0\n",
    "        for _, paths in record.items():\n",
    "            for length, num_paths in paths.items():\n",
    "                if length == max_length:\n",
    "                    res += num_paths\n",
    "        \n",
    "        return res"
   ]
  },
  {
   "cell_type": "markdown",
   "metadata": {},
   "source": [
    "## Attempt 3 - Accepted"
   ]
  },
  {
   "cell_type": "code",
   "execution_count": null,
   "metadata": {},
   "outputs": [],
   "source": [
    "    def findNumberOfLIS(self, nums: List[int]) -> int:\n",
    "        lis = [(1, 1)] # len, no\n",
    "        L = len(nums)\n",
    "\n",
    "        for idx in range(1, L):\n",
    "            n = nums[idx]\n",
    "            curr = (1, 1)\n",
    "            for j in range(idx):\n",
    "                m = nums[j]\n",
    "                if n <= m:\n",
    "                    continue\n",
    "                prev_len, prev_no = lis[j]\n",
    "                if prev_len + 1 < curr[0]:\n",
    "                    continue\n",
    "                if prev_len + 1 == curr[0]:\n",
    "                    curr = (curr[0], curr[1] + prev_no)\n",
    "                    continue\n",
    "                if prev_len + 1 > curr[0]:\n",
    "                    curr = (prev_len + 1, prev_no)\n",
    "            lis.append(curr)\n",
    "        \n",
    "        # print(lis)\n",
    "\n",
    "        lis_len = max([l[0] for l in lis])\n",
    "        res = sum([l[1] for l in lis if l[0] == lis_len])\n",
    "        return res"
   ]
  },
  {
   "cell_type": "markdown",
   "metadata": {},
   "source": [
    "## Lessons and Thoughts\n",
    "- An extension of Problem 300: LIS. As per usual, no need to track non-optimal IS, otherwise the algo will run very slow or hard to implement; see Attempt 2.\n",
    "- Just need to track additionally how many LIS there are so far; see Attempt 3."
   ]
  }
 ],
 "metadata": {
  "kernelspec": {
   "display_name": "Python 3 (ipykernel)",
   "language": "python",
   "name": "python3"
  },
  "language_info": {
   "codemirror_mode": {
    "name": "ipython",
    "version": 3
   },
   "file_extension": ".py",
   "mimetype": "text/x-python",
   "name": "python",
   "nbconvert_exporter": "python",
   "pygments_lexer": "ipython3",
   "version": "3.9.7"
  }
 },
 "nbformat": 4,
 "nbformat_minor": 2
}
