{
 "cells": [
  {
   "cell_type": "markdown",
   "metadata": {},
   "source": [
    "## Attempt 1 - Wrong Answer"
   ]
  },
  {
   "cell_type": "code",
   "execution_count": null,
   "metadata": {},
   "outputs": [],
   "source": [
    "class Solution:\n",
    "    def kConcatenationMaxSum(self, arr: List[int], k: int) -> int:\n",
    "        s=sum(arr)\n",
    "        minn,maxx=0,0\n",
    "        cumsum, d=[0], []\n",
    "        for a in arr:\n",
    "            curr=cumsum[-1]+a\n",
    "            cumsum.append(curr)\n",
    "            minn=min(minn, curr)\n",
    "            maxx=max(maxx, curr)\n",
    "            d.append(max(curr,a))  ## --> wrong DP iteration\n",
    "        if k==1:\n",
    "            return max(max(d),0)\n",
    "        else:\n",
    "            return max(max(d),0,s-minn+maxx,s-minn+maxx+(k-2)*s) ## --> as per requirement, mod 10**9+7"
   ]
  },
  {
   "cell_type": "markdown",
   "metadata": {},
   "source": [
    "## Attempt 2 - Accepted"
   ]
  },
  {
   "cell_type": "code",
   "execution_count": null,
   "metadata": {},
   "outputs": [],
   "source": [
    "class Solution:\n",
    "    def kConcatenationMaxSum(self, arr: List[int], k: int) -> int:\n",
    "        s=sum(arr)\n",
    "        minn,maxx=0,0\n",
    "        cumsum, d=[0], [0]\n",
    "        for a in arr:\n",
    "            curr=cumsum[-1]+a\n",
    "            cumsum.append(curr)\n",
    "            minn=min(minn, curr)\n",
    "            maxx=max(maxx, curr)\n",
    "            d.append(max(d[-1]+a,a))\n",
    "        # print(s)\n",
    "        # print(minn)\n",
    "        # print(maxx)\n",
    "        # print(d)\n",
    "        if k==1:\n",
    "            return max(d)%(10**9+7)\n",
    "        else:\n",
    "            return max(max(d),s-minn+maxx,s-minn+maxx+(k-2)*s)%(10**9+7)"
   ]
  },
  {
   "cell_type": "markdown",
   "metadata": {},
   "source": [
    "## Attempt 3 - Accepted"
   ]
  },
  {
   "cell_type": "code",
   "execution_count": null,
   "metadata": {},
   "outputs": [],
   "source": [
    "class Solution:\n",
    "    def kConcatenationMaxSum(self, arr: List[int], k: int) -> int:\n",
    "        MODULO = 10 ** 9 + 7\n",
    "        \n",
    "        def min_max(arr):\n",
    "            cumsum = [0]\n",
    "            minn = 0\n",
    "            res = 0\n",
    "            for a in arr:\n",
    "                curr = cumsum[-1] + a\n",
    "                res = max(res, curr - minn)\n",
    "                minn = min(minn, curr)\n",
    "                cumsum.append(curr)\n",
    "            return res\n",
    "        \n",
    "        if k == 1:\n",
    "            return min_max(arr) % MODULO\n",
    "        \n",
    "        if k == 2:\n",
    "            return min_max(arr + arr) % MODULO\n",
    "        \n",
    "        s = sum(arr)\n",
    "        if s > 0:\n",
    "            return max(min_max(arr) + (k - 1) * s, min_max(arr + arr) + (k - 2) * s ) % MODULO\n",
    "        else:\n",
    "            return max(min_max(arr), min_max(arr + arr)) % MODULO"
   ]
  },
  {
   "cell_type": "markdown",
   "metadata": {},
   "source": [
    "## Lessons and Thoughts\n",
    "- A classical problem for sequence DP is to find the maximum subarray sum, regardless of whether the elements are positive or not.\n",
    "- Be more careful in the iteration condition.\n",
    "- How Attempt 3 handles the optimal condition is simpler, regardless of whether it is within `arr` or two `arr`."
   ]
  }
 ],
 "metadata": {
  "kernelspec": {
   "display_name": "Python 3",
   "language": "python",
   "name": "python3"
  },
  "language_info": {
   "codemirror_mode": {
    "name": "ipython",
    "version": 3
   },
   "file_extension": ".py",
   "mimetype": "text/x-python",
   "name": "python",
   "nbconvert_exporter": "python",
   "pygments_lexer": "ipython3",
   "version": "3.6.5"
  }
 },
 "nbformat": 4,
 "nbformat_minor": 2
}
