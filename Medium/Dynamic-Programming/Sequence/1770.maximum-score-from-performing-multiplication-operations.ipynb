{
 "cells": [
  {
   "cell_type": "markdown",
   "metadata": {},
   "source": [
    "## Attempt 1 - Accepted"
   ]
  },
  {
   "cell_type": "code",
   "execution_count": null,
   "metadata": {},
   "outputs": [],
   "source": [
    "class Solution:\n",
    "    def maximumScore(self, nums: List[int], multipliers: List[int]) -> int:\n",
    "        dp = dict()\n",
    "        n, m = len(nums), len(multipliers)\n",
    "        mul = m - 1\n",
    "        l = n - mul\n",
    "        for start in range(n):\n",
    "            end = start + l - 1\n",
    "            if end >= n:\n",
    "                break\n",
    "            dp[(start, end, mul)] = max(multipliers[mul] * nums[start], multipliers[mul] * nums[end])\n",
    "        \n",
    "        if m == 1:\n",
    "            return max(dp.values())\n",
    "        \n",
    "        for mul in range(m - 2, -1, -1):\n",
    "            l = n - mul\n",
    "            for start in range(n):\n",
    "                end = start + l - 1\n",
    "                if end >= n:\n",
    "                    break\n",
    "                dp[(start, end, mul)] = max(multipliers[mul] * nums[start] + dp[(start + 1, end, mul + 1)], multipliers[mul] * nums[end] + dp[(start, end - 1, mul + 1)])\n",
    "        \n",
    "        return dp[(0, n - 1, 0)]"
   ]
  },
  {
   "cell_type": "markdown",
   "metadata": {},
   "source": [
    "## Lessons and Thoughts\n",
    "- It is a bit tricky to figure out the index relation. But that might be the case for all sequence DP."
   ]
  }
 ],
 "metadata": {
  "kernelspec": {
   "display_name": "Python 3",
   "language": "python",
   "name": "python3"
  },
  "language_info": {
   "codemirror_mode": {
    "name": "ipython",
    "version": 3
   },
   "file_extension": ".py",
   "mimetype": "text/x-python",
   "name": "python",
   "nbconvert_exporter": "python",
   "pygments_lexer": "ipython3",
   "version": "3.7.3"
  }
 },
 "nbformat": 4,
 "nbformat_minor": 2
}
