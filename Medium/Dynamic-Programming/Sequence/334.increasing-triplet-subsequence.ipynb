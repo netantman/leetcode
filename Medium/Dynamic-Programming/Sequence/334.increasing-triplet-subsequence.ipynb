{
 "cells": [
  {
   "cell_type": "markdown",
   "metadata": {},
   "source": [
    "## Attempt 1 - Accepted"
   ]
  },
  {
   "cell_type": "code",
   "execution_count": null,
   "metadata": {},
   "outputs": [],
   "source": [
    "class Solution:\n",
    "    def increasingTriplet(self, nums: List[int]) -> bool:\n",
    "        L=len(nums)\n",
    "        if L<=2:\n",
    "            return False\n",
    "        res=[1 for _ in nums]\n",
    "        for idx in range(1, L):\n",
    "            for j in range(0, idx):\n",
    "                if nums[idx]>nums[j]:\n",
    "                    res[idx]=max(res[idx], res[j]+1)\n",
    "                if res[idx]>=3:\n",
    "                    return True\n",
    "        return False"
   ]
  },
  {
   "cell_type": "markdown",
   "metadata": {},
   "source": [
    "## Lessons and Thoughts\n",
    "- Simplified version of Problem 296."
   ]
  }
 ],
 "metadata": {
  "kernelspec": {
   "display_name": "Python 3",
   "language": "python",
   "name": "python3"
  },
  "language_info": {
   "codemirror_mode": {
    "name": "ipython",
    "version": 3
   },
   "file_extension": ".py",
   "mimetype": "text/x-python",
   "name": "python",
   "nbconvert_exporter": "python",
   "pygments_lexer": "ipython3",
   "version": "3.6.5"
  }
 },
 "nbformat": 4,
 "nbformat_minor": 2
}
