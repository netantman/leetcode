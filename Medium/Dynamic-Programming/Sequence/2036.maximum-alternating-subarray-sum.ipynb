{
 "cells": [
  {
   "cell_type": "markdown",
   "metadata": {},
   "source": [
    "## Attempt 1 - Accepted"
   ]
  },
  {
   "cell_type": "code",
   "execution_count": null,
   "metadata": {},
   "outputs": [],
   "source": [
    "class Solution:\n",
    "    def maximumAlternatingSubarraySum(self, nums: List[int]) -> int:\n",
    "        pos = float('-inf')\n",
    "        neg = float('-inf')\n",
    "        res = float('-inf')\n",
    "        for n in nums:\n",
    "            pos, neg = max(neg + n, n), pos - n\n",
    "            res = max(res, pos, neg)\n",
    "        return res"
   ]
  },
  {
   "cell_type": "markdown",
   "metadata": {},
   "source": [
    "## Lessons and Thoughts\n",
    "- Simple DP, but note that `pos` and `neg` need to be updated at the same time.\n",
    "- Somewhat easier than Problem 1911."
   ]
  }
 ],
 "metadata": {
  "kernelspec": {
   "display_name": "Python 3 (ipykernel)",
   "language": "python",
   "name": "python3"
  },
  "language_info": {
   "codemirror_mode": {
    "name": "ipython",
    "version": 3
   },
   "file_extension": ".py",
   "mimetype": "text/x-python",
   "name": "python",
   "nbconvert_exporter": "python",
   "pygments_lexer": "ipython3",
   "version": "3.9.7"
  }
 },
 "nbformat": 4,
 "nbformat_minor": 2
}
