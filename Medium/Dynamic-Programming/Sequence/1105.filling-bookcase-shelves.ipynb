{
 "cells": [
  {
   "cell_type": "markdown",
   "metadata": {},
   "source": [
    "## Attempt 1 - Accepted"
   ]
  },
  {
   "cell_type": "code",
   "execution_count": null,
   "metadata": {},
   "outputs": [],
   "source": [
    "class Solution:\n",
    "    def minHeightShelves(self, books: List[List[int]], shelf_width: int) -> int:\n",
    "        def calc_width(subset):\n",
    "            return sum([s[0] for s in subset])\n",
    "        def calc_height(subset):\n",
    "            return max([s[1] for s in subset])\n",
    "        \n",
    "        L=len(books)\n",
    "        dp=[None for _ in range(L+1)]\n",
    "        dp[0]=0\n",
    "        for idx in range(1,L+1):\n",
    "            if calc_width(books[:idx])<=shelf_width:\n",
    "                dp[idx]=calc_height(books[:idx])\n",
    "            else:\n",
    "                prev=books[:idx-1]\n",
    "                this=books[idx-1]\n",
    "                dp[idx]=dp[idx-1]+this[1]\n",
    "                r=1\n",
    "                while r<=idx-1 and calc_width(prev[-r:])+this[0]<=shelf_width:\n",
    "                    dp[idx]=min(dp[idx], calc_height(prev[-r:]+[this])+dp[idx-r-1])\n",
    "                    r+=1\n",
    "        return dp[-1]"
   ]
  },
  {
   "cell_type": "markdown",
   "metadata": {},
   "source": [
    "## Lessons and Thoughts\n",
    "- Typical sequence type DP. The hardest part is still finding the sub-optimal structure, i.e. what is the relation between the optimal results of the first `n+1` books with first `n` and lower books?"
   ]
  }
 ],
 "metadata": {
  "kernelspec": {
   "display_name": "Python 3 (ipykernel)",
   "language": "python",
   "name": "python3"
  },
  "language_info": {
   "codemirror_mode": {
    "name": "ipython",
    "version": 3
   },
   "file_extension": ".py",
   "mimetype": "text/x-python",
   "name": "python",
   "nbconvert_exporter": "python",
   "pygments_lexer": "ipython3",
   "version": "3.9.7"
  }
 },
 "nbformat": 4,
 "nbformat_minor": 2
}
