{
 "cells": [
  {
   "cell_type": "markdown",
   "metadata": {},
   "source": [
    "## Attempt 1 - Wrong Answer"
   ]
  },
  {
   "cell_type": "code",
   "execution_count": null,
   "metadata": {},
   "outputs": [],
   "source": [
    "class Solution:\n",
    "    def numWays(self, n: int, k: int) -> int:\n",
    "        diff, same = k * (k - 1), k\n",
    "        for _ in range(n - 2): ## --> did not worry about n == 1 or 2!\n",
    "            diff, same = same * (k - 1) + diff * (k - 1), diff\n",
    "        return diff + same"
   ]
  },
  {
   "cell_type": "markdown",
   "metadata": {},
   "source": [
    "## Attempt 2 - Accepted"
   ]
  },
  {
   "cell_type": "code",
   "execution_count": null,
   "metadata": {},
   "outputs": [],
   "source": [
    "class Solution:\n",
    "    def numWays(self, n: int, k: int) -> int:\n",
    "        if n == 1:\n",
    "            return k\n",
    "        if n == 2:\n",
    "            return k * k\n",
    "        \n",
    "        diff, same = k * (k - 1), k\n",
    "        for _ in range(n - 2):\n",
    "            diff, same = same * (k - 1) + diff * (k - 1), diff\n",
    "        return diff + same"
   ]
  },
  {
   "cell_type": "markdown",
   "metadata": {},
   "source": [
    "## Attempt 3 - Accepted"
   ]
  },
  {
   "cell_type": "code",
   "execution_count": null,
   "metadata": {},
   "outputs": [],
   "source": [
    "class Solution {\n",
    "public:\n",
    "    int numWays(int n, int k) {\n",
    "        if (n == 1) {\n",
    "            return k;\n",
    "        }\n",
    "        if (n == 2) {\n",
    "            return k * k;\n",
    "        }\n",
    "        \n",
    "        int two = k;\n",
    "        int one = k * (k - 1);\n",
    "        \n",
    "        while (n - 2 > 0) { ## --> beware of edge cases n = 1 and n = 2!\n",
    "            int new_one = one * (k - 1) + two * (k - 1);\n",
    "            int new_two = one;\n",
    "            two = new_two;\n",
    "            one = new_one;\n",
    "            n--;\n",
    "        }\n",
    "        return one + two;\n",
    "    }\n",
    "};"
   ]
  },
  {
   "cell_type": "markdown",
   "metadata": {},
   "source": [
    "## Lessons and Thoughts\n",
    "- "
   ]
  }
 ],
 "metadata": {
  "kernelspec": {
   "display_name": "Python 3",
   "language": "python",
   "name": "python3"
  },
  "language_info": {
   "codemirror_mode": {
    "name": "ipython",
    "version": 3
   },
   "file_extension": ".py",
   "mimetype": "text/x-python",
   "name": "python",
   "nbconvert_exporter": "python",
   "pygments_lexer": "ipython3",
   "version": "3.6.5"
  }
 },
 "nbformat": 4,
 "nbformat_minor": 2
}
