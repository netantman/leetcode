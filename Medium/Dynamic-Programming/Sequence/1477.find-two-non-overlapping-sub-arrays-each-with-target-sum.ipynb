{
 "cells": [
  {
   "cell_type": "markdown",
   "metadata": {},
   "source": [
    "## Attempt 1 - Wrong Answer"
   ]
  },
  {
   "cell_type": "code",
   "execution_count": null,
   "metadata": {},
   "outputs": [],
   "source": [
    "class Solution:\n",
    "    def minSumOfLengths(self, arr: List[int], target: int) -> int:\n",
    "        \n",
    "        def update(curr, idx, pos, res, target):\n",
    "            pos[curr] = max(pos.get(curr, -1), idx)  ## --> did not consider the edge case where two sub sequences overlap\n",
    "            if curr - target in pos:\n",
    "                diff = idx - pos[curr - target]\n",
    "                if len(res) < 2:\n",
    "                    res.append(diff)\n",
    "                    res = sorted(res)\n",
    "                else:\n",
    "                    if diff <= res[1]:\n",
    "                        res[1] = diff\n",
    "                        res = sorted(res)\n",
    "        \n",
    "        res = []\n",
    "        cumsum = 0\n",
    "        pos = dict()\n",
    "        pos[0] = 0\n",
    "        for idx, a in enumerate(arr):\n",
    "            cumsum += a\n",
    "            update(cumsum, idx+1, pos, res, target)\n",
    "        \n",
    "        if len(res) == 2:\n",
    "            return sum(res)\n",
    "        else:\n",
    "            return -1"
   ]
  },
  {
   "cell_type": "markdown",
   "metadata": {},
   "source": [
    "## Attempt 2 - Time Limit Exceeded"
   ]
  },
  {
   "cell_type": "code",
   "execution_count": null,
   "metadata": {},
   "outputs": [],
   "source": [
    "class Solution:\n",
    "    def minSumOfLengths(self, arr: List[int], target: int) -> int:\n",
    "        \n",
    "        intervals = []\n",
    "        cumsum = 0\n",
    "        pos = dict()\n",
    "        pos[0] = 0\n",
    "        for idx, a in enumerate(arr):\n",
    "            cumsum += a\n",
    "            pos[cumsum] = max(pos.get(cumsum, -1), idx + 1)\n",
    "            if cumsum - target in pos:\n",
    "                intervals.append((pos[cumsum - target], idx + 1))\n",
    "\n",
    "        L = len(arr)\n",
    "        before, after = [], []\n",
    "        for idx in range(L+1):\n",
    "            all_before = [b-a for a, b in intervals if b<=idx]  ## --> there should be simpler DP\n",
    "            if all_before:\n",
    "                before.append(min(all_before))\n",
    "            else:\n",
    "                before.append(float('inf'))\n",
    "            all_after = [b-a for a, b in intervals if a>=idx]\n",
    "            if all_after:\n",
    "                after.append(min(all_after))\n",
    "            else:\n",
    "                after.append(float('inf'))\n",
    "        res = [b+a for b,a in zip(before, after)]\n",
    "        res = min(res)\n",
    "        if res > L+1:\n",
    "            return -1\n",
    "        else:\n",
    "            return res"
   ]
  },
  {
   "cell_type": "markdown",
   "metadata": {},
   "source": [
    "## Attempt 3 - Accepted"
   ]
  },
  {
   "cell_type": "code",
   "execution_count": null,
   "metadata": {},
   "outputs": [],
   "source": [
    "class Solution:\n",
    "    def minSumOfLengths(self, arr: List[int], target: int) -> int:\n",
    "        \n",
    "        dp = [float('inf')]\n",
    "        cumsum = 0\n",
    "        pos = dict()\n",
    "        pos[0] = 0\n",
    "        res = float('inf')\n",
    "        L = len(arr)\n",
    "        for idx, a in enumerate(arr):\n",
    "            cumsum += a\n",
    "            if cumsum - target in pos:\n",
    "                dp.append( min((idx + 1) - pos[cumsum - target], dp[-1]))\n",
    "                res = min(res, dp[pos[cumsum-target]] + (idx + 1) - pos[cumsum - target])\n",
    "            else:\n",
    "                dp.append( min(float('inf'), dp[-1]))\n",
    "            pos[cumsum] = idx + 1\n",
    "        if res > L+1:\n",
    "            return -1\n",
    "        else:\n",
    "            return res"
   ]
  },
  {
   "cell_type": "markdown",
   "metadata": {},
   "source": [
    "## Lessons and Thoughts\n",
    "- The accepted solution is inspired by the app. Though not one-to-one, it is very similar to the exact copy."
   ]
  }
 ],
 "metadata": {
  "kernelspec": {
   "display_name": "Python 3",
   "language": "python",
   "name": "python3"
  },
  "language_info": {
   "codemirror_mode": {
    "name": "ipython",
    "version": 3
   },
   "file_extension": ".py",
   "mimetype": "text/x-python",
   "name": "python",
   "nbconvert_exporter": "python",
   "pygments_lexer": "ipython3",
   "version": "3.7.3"
  }
 },
 "nbformat": 4,
 "nbformat_minor": 2
}
