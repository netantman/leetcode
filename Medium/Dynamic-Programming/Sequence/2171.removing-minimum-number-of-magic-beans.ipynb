{
 "cells": [
  {
   "cell_type": "markdown",
   "metadata": {},
   "source": [
    "## Attempt 1 - Wrong Answer"
   ]
  },
  {
   "cell_type": "code",
   "execution_count": null,
   "metadata": {},
   "outputs": [],
   "source": [
    "class Solution:\n",
    "    def minimumRemoval(self, beans: List[int]) -> int: ## --> greedy algo is actually wrong\n",
    "        res = 0\n",
    "        while len(beans) > 1:\n",
    "            m, idx = beans[0], 0\n",
    "            for j, b in enumerate(beans[1:], start=1):\n",
    "                if b < m:\n",
    "                    m, idx = b, j\n",
    "            reduced = sum(beans) - len(beans) * m \n",
    "            if reduced < m:\n",
    "                res += reduced\n",
    "                return res\n",
    "            res += beans.pop(idx)\n",
    "        return res"
   ]
  },
  {
   "cell_type": "markdown",
   "metadata": {},
   "source": [
    "## Attempt 2 - Accepted"
   ]
  },
  {
   "cell_type": "code",
   "execution_count": null,
   "metadata": {},
   "outputs": [],
   "source": [
    "class Solution:\n",
    "    def minimumRemoval(self, beans: List[int]) -> int:\n",
    "        beans.sort(reverse=True)\n",
    "        dp = 0\n",
    "        L = len(beans)\n",
    "        cumsum = beans[0]\n",
    "        for idx in range(1, L):\n",
    "            dp = min(cumsum - beans[idx] * idx, beans[idx] + dp)\n",
    "            cumsum += beans[idx]\n",
    "            # print(dp)\n",
    "        return dp"
   ]
  },
  {
   "cell_type": "markdown",
   "metadata": {},
   "source": [
    "## Lessons and Thoughts\n",
    "- It is actually a bona fide DP problem."
   ]
  }
 ],
 "metadata": {
  "kernelspec": {
   "display_name": "Python 3",
   "language": "python",
   "name": "python3"
  },
  "language_info": {
   "codemirror_mode": {
    "name": "ipython",
    "version": 3
   },
   "file_extension": ".py",
   "mimetype": "text/x-python",
   "name": "python",
   "nbconvert_exporter": "python",
   "pygments_lexer": "ipython3",
   "version": "3.7.3"
  }
 },
 "nbformat": 4,
 "nbformat_minor": 2
}
