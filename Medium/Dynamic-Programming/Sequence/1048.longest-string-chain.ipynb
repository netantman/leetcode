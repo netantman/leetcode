{
 "cells": [
  {
   "cell_type": "markdown",
   "metadata": {},
   "source": [
    "## Attempt 1 - Wrong Answer"
   ]
  },
  {
   "cell_type": "code",
   "execution_count": null,
   "metadata": {},
   "outputs": [],
   "source": [
    "class Solution:\n",
    "    def longestStrChain(self, words: List[str]) -> int:\n",
    "        def is_seq(word1, word2):\n",
    "            if len(word2)!=len(word1)+1:\n",
    "                return False\n",
    "            L=len(word2)\n",
    "            for idx in range(L):\n",
    "                if word1==word2[:idx]+word2[idx+1:]:\n",
    "                    return True\n",
    "            return False\n",
    "        \n",
    "        L=len(words)\n",
    "        dp=[1 for w in words]\n",
    "        for idx in range(L):\n",
    "            word2=words[idx]\n",
    "            for j in range(idx):\n",
    "                word1=words[j]\n",
    "                if is_seq(word1, word2):\n",
    "                    dp[idx]=max(dp[idx], dp[j]+1) ## --> the word chain elements do not necessarily follow the same order as in the origin sequence.\n",
    "        return max(dp)"
   ]
  },
  {
   "cell_type": "markdown",
   "metadata": {},
   "source": [
    "## Attempt 2 - Accepted"
   ]
  },
  {
   "cell_type": "code",
   "execution_count": null,
   "metadata": {},
   "outputs": [],
   "source": [
    "class Solution:\n",
    "    def longestStrChain(self, words: List[str]) -> int:\n",
    "        def is_seq(word1, word2):\n",
    "            if len(word2)!=len(word1)+1:\n",
    "                return False\n",
    "            L=len(word2)\n",
    "            for idx in range(L):\n",
    "                if word1==word2[:idx]+word2[idx+1:]:\n",
    "                    return True\n",
    "            return False\n",
    "        \n",
    "        L=len(words)\n",
    "        dp=[1 for w in words]\n",
    "        words=sorted(words, key=lambda x:len(x))\n",
    "        for idx in range(L):\n",
    "            word2=words[idx]\n",
    "            for j in range(idx):\n",
    "                word1=words[j]\n",
    "                if is_seq(word1, word2):\n",
    "                    dp[idx]=max(dp[idx], dp[j]+1)\n",
    "        return max(dp)"
   ]
  },
  {
   "cell_type": "markdown",
   "metadata": {},
   "source": [
    "## Attempt 3 - Accepted"
   ]
  },
  {
   "cell_type": "code",
   "execution_count": null,
   "metadata": {},
   "outputs": [],
   "source": [
    "class Solution:\n",
    "    def longestStrChain(self, words: List[str]) -> int:\n",
    "        def is_pre(a, b):\n",
    "            Lb, La = len(b), len(a)\n",
    "            if Lb - La != 1:\n",
    "                return False\n",
    "            ia, ib = 0, 0\n",
    "            skipped = False\n",
    "            while ia < La:\n",
    "                if a[ia] == b[ib]:\n",
    "                    ia += 1\n",
    "                    ib += 1\n",
    "                    continue\n",
    "                \n",
    "                if skipped:\n",
    "                    return False\n",
    "                \n",
    "                skipped = True\n",
    "                ib += 1\n",
    "            \n",
    "            return True\n",
    "        \n",
    "        words.sort(key=lambda x: len(x))\n",
    "        lwc = [1]\n",
    "        L = len(words)\n",
    "        res = 1\n",
    "        for j in range(1, L):\n",
    "            curr = 1\n",
    "            for i in range(j):\n",
    "                a, b = words[i], words[j]\n",
    "                if is_pre(a, b):\n",
    "                    curr = max(curr, lwc[i] + 1)\n",
    "            lwc.append(curr)\n",
    "            res = max(res, curr)\n",
    "        # print(words)\n",
    "        # print(lwc)\n",
    "        return res"
   ]
  },
  {
   "cell_type": "markdown",
   "metadata": {},
   "source": [
    "## Lessons and Thoughts\n",
    "- On first glance this is very similar to LIS problems, but before sorting the order of the word chain does not necessarily follow the origin order of the input. So then just sort the `words`!"
   ]
  }
 ],
 "metadata": {
  "kernelspec": {
   "display_name": "Python 3 (ipykernel)",
   "language": "python",
   "name": "python3"
  },
  "language_info": {
   "codemirror_mode": {
    "name": "ipython",
    "version": 3
   },
   "file_extension": ".py",
   "mimetype": "text/x-python",
   "name": "python",
   "nbconvert_exporter": "python",
   "pygments_lexer": "ipython3",
   "version": "3.9.7"
  }
 },
 "nbformat": 4,
 "nbformat_minor": 2
}
