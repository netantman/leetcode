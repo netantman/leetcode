{
 "cells": [
  {
   "cell_type": "markdown",
   "metadata": {},
   "source": [
    "## Attempt 1 - Accepted"
   ]
  },
  {
   "cell_type": "code",
   "execution_count": null,
   "metadata": {},
   "outputs": [],
   "source": [
    "class Solution:\n",
    "    def countMaxOrSubsets(self, nums: List[int]) -> int:\n",
    "        dp = dict()\n",
    "        dp[nums[0]] = 1\n",
    "        L = len(nums)\n",
    "        for n in nums[1:]:\n",
    "            new_dp = {k : v for k, v in dp.items()}\n",
    "            for k, v in dp.items():\n",
    "                new_dp[k | n] = new_dp.get(k | n, 0) + v;\n",
    "            new_dp[n] = new_dp.get(n, 0) + 1\n",
    "            dp = new_dp\n",
    "            # print(dp)\n",
    "        max_or = max(dp.keys())\n",
    "        return dp[max_or]"
   ]
  },
  {
   "cell_type": "markdown",
   "metadata": {},
   "source": [
    "## Attempt 1 - Accepted"
   ]
  },
  {
   "cell_type": "code",
   "execution_count": null,
   "metadata": {},
   "outputs": [],
   "source": [
    "class Solution {\n",
    "public:\n",
    "    int countMaxOrSubsets(vector<int>& nums) {\n",
    "        std::map<int, int> dp {};\n",
    "        dp[nums.front()] = 1;\n",
    "        int L = nums.size();\n",
    "        for (int idx=1; idx < L; idx++) {\n",
    "            int n = nums[idx];\n",
    "            std::map new_dp = dp;\n",
    "            for (const auto& pair : dp) { ## iterate over a map\n",
    "                int k = pair.first;\n",
    "                int v = pair.second;\n",
    "                int new_key = k | n; ## bitwise OR in c++\n",
    "                if (new_dp.find(new_key) != new_dp.end()) {\n",
    "                    new_dp[new_key] += v;\n",
    "                }\n",
    "                else {\n",
    "                    new_dp[new_key] = v;\n",
    "                }\n",
    "            }\n",
    "            if (new_dp.find(n) != new_dp.end()) {\n",
    "                new_dp[n]++;\n",
    "            }\n",
    "            else {\n",
    "                new_dp[n] = 1;\n",
    "            }\n",
    "            dp = new_dp;\n",
    "        }\n",
    "        \n",
    "        std::vector<int> keys {};\n",
    "        for (const auto& pair : dp) {\n",
    "            int k = pair.first;\n",
    "            keys.push_back(k);\n",
    "        }\n",
    "        int max_key = *max_element(keys.begin(), keys.end()); // get the maximum of a vector\n",
    "        return dp[max_key];\n",
    "        \n",
    "    }\n",
    "    \n",
    "};"
   ]
  },
  {
   "cell_type": "markdown",
   "metadata": {},
   "source": [
    "## Attempt 3 - Accepted"
   ]
  },
  {
   "cell_type": "code",
   "execution_count": null,
   "metadata": {},
   "outputs": [],
   "source": [
    "class Solution:\n",
    "    def countMaxOrSubsets(self, nums: List[int]) -> int:\n",
    "        def inner(nums, target):\n",
    "            # print(nums)\n",
    "            # print(target)\n",
    "            # print(\" \")\n",
    "            L = len(nums)\n",
    "            \n",
    "            if target == 0:\n",
    "                return 2 ** L\n",
    "            \n",
    "            if L == 1:\n",
    "                mask = 1\n",
    "                while mask <= target:\n",
    "                    if (target & mask) == 0:\n",
    "                        mask = mask << 1\n",
    "                        continue\n",
    "                    \n",
    "                    if (nums[0] & mask) == 0:\n",
    "                        return 0\n",
    "                    \n",
    "                    mask = mask << 1\n",
    "                # print(1)\n",
    "                # print(\"\")\n",
    "                return 1\n",
    "            \n",
    "            new_target = target\n",
    "            mask = 1\n",
    "            while mask <= nums[0]:\n",
    "                if (nums[0] & mask > 0) and (new_target & mask > 0):\n",
    "                    new_target = new_target ^ mask\n",
    "                mask = mask << 1\n",
    "            return inner(nums[1:], new_target) + inner(nums[1:], target)\n",
    "        \n",
    "        max_or = functools.reduce(lambda x, y: x | y, nums)\n",
    "        return inner(nums, max_or)"
   ]
  },
  {
   "cell_type": "markdown",
   "metadata": {},
   "source": [
    "## Lessons and Thoughts\n",
    "- Straightforward once you realize you can use DP.\n",
    "- Attempt 3 is also DP, but more like a cached search. It is amazing that just after two months, your approach (Attempt 1 vs Attempt 3) will change so much."
   ]
  }
 ],
 "metadata": {
  "kernelspec": {
   "display_name": "Python 3",
   "language": "python",
   "name": "python3"
  },
  "language_info": {
   "codemirror_mode": {
    "name": "ipython",
    "version": 3
   },
   "file_extension": ".py",
   "mimetype": "text/x-python",
   "name": "python",
   "nbconvert_exporter": "python",
   "pygments_lexer": "ipython3",
   "version": "3.6.5"
  }
 },
 "nbformat": 4,
 "nbformat_minor": 2
}
