{
 "cells": [
  {
   "cell_type": "markdown",
   "metadata": {},
   "source": [
    "## Attempt 1 - Accepted"
   ]
  },
  {
   "cell_type": "code",
   "execution_count": null,
   "metadata": {},
   "outputs": [],
   "source": [
    "class Solution:\n",
    "    def letterCombinations(self, digits: str) -> List[str]:\n",
    "        if len(digits)<1:\n",
    "            return []\n",
    "        \n",
    "        mapping = {\n",
    "            '2': ['a', 'b', 'c'], \n",
    "            '3': ['d', 'e', 'f'],\n",
    "            '4': ['g', 'h', 'i'],\n",
    "            '5': ['j', 'k', 'l'],\n",
    "            '6': ['m', 'n', 'o'],\n",
    "            '7': ['p', 'q', 'r', 's'],\n",
    "            '8': ['t', 'u', 'v'],\n",
    "            '9': ['w', 'x', 'y', 'z']\n",
    "                  }\n",
    "        if len(digits)==1:\n",
    "            return mapping[digits]\n",
    "        \n",
    "        so_far=mapping[digits[0]]\n",
    "        len_digits=len(digits)\n",
    "        for idx in range(1, len_digits):\n",
    "            to_add=mapping[digits[idx]]\n",
    "            growing=[ s+a for s in so_far for a in to_add ]\n",
    "            so_far=growing\n",
    "        \n",
    "        return so_far"
   ]
  },
  {
   "cell_type": "markdown",
   "metadata": {},
   "source": [
    "## Attempt 2 - Accepted"
   ]
  },
  {
   "cell_type": "code",
   "execution_count": null,
   "metadata": {},
   "outputs": [],
   "source": [
    "class Solution:\n",
    "    def letterCombinations(self, digits: str) -> List[str]:\n",
    "        if digits == \"\":\n",
    "            return []\n",
    "        \n",
    "        mapping = {\n",
    "            \"2\": [\"a\", \"b\", \"c\"], \"3\": [\"d\", \"e\", \"f\"], \"4\": [\"g\", \"h\", \"i\"],\n",
    "            \"5\": [\"j\", \"k\", \"l\"], \"6\": [\"m\", \"n\", \"o\"], \"7\": [\"p\", \"q\", \"r\", \"s\"],\n",
    "            \"8\": [\"t\", \"u\", \"v\"], \"9\": [\"w\", \"x\", \"y\", \"z\"]\n",
    "        }\n",
    "        \n",
    "        combs = [ mapping[d] for d in digits ]\n",
    "        combs = tuple(combs)\n",
    "        res = [ \"\".join(c) for c in itertools.product(*combs)]\n",
    "        return res"
   ]
  },
  {
   "cell_type": "markdown",
   "metadata": {},
   "source": [
    "## Lessons and Thoughts\n",
    "- The 'double-dimension' list comprehension works.\n",
    "- This can be viewed as a degenerate form of DP sequence.\n",
    "- `itertools.product`"
   ]
  }
 ],
 "metadata": {
  "kernelspec": {
   "display_name": "Python 3",
   "language": "python",
   "name": "python3"
  },
  "language_info": {
   "codemirror_mode": {
    "name": "ipython",
    "version": 3
   },
   "file_extension": ".py",
   "mimetype": "text/x-python",
   "name": "python",
   "nbconvert_exporter": "python",
   "pygments_lexer": "ipython3",
   "version": "3.6.5"
  }
 },
 "nbformat": 4,
 "nbformat_minor": 2
}
