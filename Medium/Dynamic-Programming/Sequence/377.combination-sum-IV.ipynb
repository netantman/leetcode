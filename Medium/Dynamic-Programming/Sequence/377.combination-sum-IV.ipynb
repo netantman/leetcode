{
 "cells": [
  {
   "cell_type": "markdown",
   "metadata": {},
   "source": [
    "## Attempt 1 - Wrong Answer"
   ]
  },
  {
   "cell_type": "code",
   "execution_count": null,
   "metadata": {},
   "outputs": [],
   "source": [
    "class Solution:\n",
    "    def combinationSum4(self, nums: List[int], target: int) -> int:\n",
    "        \n",
    "        def inner(nums, target):\n",
    "            if target==0 or len(nums)<1:\n",
    "                return [[]]  ## --> wrong handling of edge case\n",
    "            if target<nums[0]:\n",
    "                return []\n",
    "            if target==nums[0]:\n",
    "                return [[nums[0]]]\n",
    "            res=[]\n",
    "            for n in nums:\n",
    "                prev=inner(nums, target-n)\n",
    "                res=res+[[n]+p for p in prev]\n",
    "            return res\n",
    "        \n",
    "        nums=sorted(nums)\n",
    "        res=inner(nums, target)\n",
    "        # res=set([tuple(r) for r in res]) ## --> we do not need to unique element afterwards.\n",
    "        return len(res)"
   ]
  },
  {
   "cell_type": "markdown",
   "metadata": {},
   "source": [
    "## Attempt 2 - Time Limit Exceeded"
   ]
  },
  {
   "cell_type": "code",
   "execution_count": null,
   "metadata": {},
   "outputs": [],
   "source": [
    "class Solution:\n",
    "    def combinationSum4(self, nums: List[int], target: int) -> int:\n",
    "        \n",
    "        def inner(nums, target):\n",
    "            if target==0 or len(nums)<1:\n",
    "                return [[]]\n",
    "            if target<nums[0]:\n",
    "                return []\n",
    "            if target==nums[0]:\n",
    "                return [[nums[0]]]\n",
    "            res=[]\n",
    "            for n in nums:\n",
    "                prev=inner(nums, target-n)\n",
    "                res=res+[[n]+p for p in prev]\n",
    "            return res\n",
    "        \n",
    "        nums=sorted(nums)\n",
    "        res=inner(nums, target)\n",
    "        # res=set([tuple(r) for r in res])\n",
    "        if [] in res:\n",
    "            return len(res)-1\n",
    "        return len(res)"
   ]
  },
  {
   "cell_type": "markdown",
   "metadata": {},
   "source": [
    "## Attempt 3 - Accepted"
   ]
  },
  {
   "cell_type": "code",
   "execution_count": null,
   "metadata": {},
   "outputs": [],
   "source": [
    "class Solution:\n",
    "    def combinationSum4(self, nums: List[int], target: int) -> int:\n",
    "        \n",
    "        if len(nums)<1 and target!=0:\n",
    "            return 0\n",
    "        \n",
    "        res=[0 for _ in range(target+1)]\n",
    "        res[0]=1\n",
    "        for idx in range(target+1):\n",
    "            for n in nums:\n",
    "                if idx-n>=0:\n",
    "                    res[idx]+=res[idx-n]\n",
    "        return res[-1]"
   ]
  },
  {
   "cell_type": "markdown",
   "metadata": {},
   "source": [
    "## Lessons and Thought\n",
    "- We do not need to know the actual tuples.\n",
    "- For this kind of questions, you need to carefully review and understand what counts as combinations.\n",
    "- The follow-ups are interesting:\n",
    "    - What if negative numbers are allowed in the given array?\n",
    "    - How does it change the problem?\n",
    "    - What limitation we need to add to the question to allow negative numbers?"
   ]
  }
 ],
 "metadata": {
  "kernelspec": {
   "display_name": "Python 3",
   "language": "python",
   "name": "python3"
  },
  "language_info": {
   "codemirror_mode": {
    "name": "ipython",
    "version": 3
   },
   "file_extension": ".py",
   "mimetype": "text/x-python",
   "name": "python",
   "nbconvert_exporter": "python",
   "pygments_lexer": "ipython3",
   "version": "3.6.5"
  }
 },
 "nbformat": 4,
 "nbformat_minor": 2
}
