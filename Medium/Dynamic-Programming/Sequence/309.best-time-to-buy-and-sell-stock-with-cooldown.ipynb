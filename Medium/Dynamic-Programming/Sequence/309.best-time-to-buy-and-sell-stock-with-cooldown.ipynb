{
 "cells": [
  {
   "cell_type": "markdown",
   "metadata": {},
   "source": [
    "## Attempt 1 - Accepted"
   ]
  },
  {
   "cell_type": "code",
   "execution_count": null,
   "metadata": {},
   "outputs": [],
   "source": [
    "class Solution:\n",
    "    def maxProfit(self, prices: List[int]) -> int:\n",
    "        L=len(prices)\n",
    "        if L<2:\n",
    "            return 0\n",
    "        long=[0 for _ in range(L)]\n",
    "        zero=[0 for _ in range(L)]\n",
    "        for idx in range(L):\n",
    "            if idx==0:\n",
    "                long[idx]=-prices[0]\n",
    "            elif idx==1:\n",
    "                long[idx]=max(-prices[0], -prices[1])\n",
    "                zero[idx]=max(prices[1]-prices[0],0)\n",
    "            else:\n",
    "                long[idx]=max(long[idx-1], zero[idx-2]-prices[idx])\n",
    "                zero[idx]=max(zero[idx-1], long[idx-1]+prices[idx])\n",
    "        return zero[-1]"
   ]
  },
  {
   "cell_type": "markdown",
   "metadata": {},
   "source": [
    "## Lessons and Thoughts\n",
    "- This above algo is inspired by this [post](https://www.cnblogs.com/grandyang/p/4997417.html). Basically distinguish of two cases:\n",
    "    - `long[idx]` is the max profit to own the stock on `idx`.\n",
    "    - `zero[idx]` is the max profit to not own the stock on `idx`.\n",
    "- It took you a long time to figure it out even after you have seen the answer."
   ]
  }
 ],
 "metadata": {
  "kernelspec": {
   "display_name": "Python 3",
   "language": "python",
   "name": "python3"
  },
  "language_info": {
   "codemirror_mode": {
    "name": "ipython",
    "version": 3
   },
   "file_extension": ".py",
   "mimetype": "text/x-python",
   "name": "python",
   "nbconvert_exporter": "python",
   "pygments_lexer": "ipython3",
   "version": "3.7.3"
  }
 },
 "nbformat": 4,
 "nbformat_minor": 2
}
