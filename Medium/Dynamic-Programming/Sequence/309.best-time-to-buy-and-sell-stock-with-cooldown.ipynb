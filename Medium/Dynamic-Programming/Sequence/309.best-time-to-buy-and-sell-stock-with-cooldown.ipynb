{
 "cells": [
  {
   "cell_type": "markdown",
   "metadata": {},
   "source": [
    "## Attempt 1 - Accepted"
   ]
  },
  {
   "cell_type": "code",
   "execution_count": null,
   "metadata": {},
   "outputs": [],
   "source": [
    "class Solution:\n",
    "    def maxProfit(self, prices: List[int]) -> int:\n",
    "        L=len(prices)\n",
    "        if L<2:\n",
    "            return 0\n",
    "        long=[0 for _ in range(L)]\n",
    "        zero=[0 for _ in range(L)]\n",
    "        for idx in range(L):\n",
    "            if idx==0:\n",
    "                long[idx]=-prices[0]\n",
    "            elif idx==1:\n",
    "                long[idx]=max(-prices[0], -prices[1])\n",
    "                zero[idx]=max(prices[1]-prices[0],0)\n",
    "            else:\n",
    "                long[idx]=max(long[idx-1], zero[idx-2]-prices[idx])\n",
    "                zero[idx]=max(zero[idx-1], long[idx-1]+prices[idx])\n",
    "        return zero[-1]"
   ]
  },
  {
   "cell_type": "markdown",
   "metadata": {},
   "source": [
    "## Attempt 2 - Accepted"
   ]
  },
  {
   "cell_type": "code",
   "execution_count": null,
   "metadata": {},
   "outputs": [],
   "source": [
    "class Solution {\n",
    "public:\n",
    "    int maxProfit(vector<int>& prices) {\n",
    "        int buy = -prices.front();\n",
    "        int own = -prices.front();\n",
    "        int flat = 0;\n",
    "        int sell = 0;\n",
    "        int old_buy, old_own, old_flat, old_sell;\n",
    "        \n",
    "        int L = prices.size();\n",
    "        for (int idx=1; idx<L; idx++) {\n",
    "            int old_buy = buy;\n",
    "            int old_own = own;\n",
    "            int old_flat = flat;\n",
    "            int old_sell = sell;\n",
    "            buy = old_flat - prices[idx];\n",
    "            own = max(old_buy, old_own);\n",
    "            flat = max(old_flat, old_sell);\n",
    "            sell = max(old_own + prices[idx], old_buy + prices[idx]);\n",
    "        }\n",
    "        \n",
    "        vector<int> candidates = {own, buy, flat, sell};\n",
    "        return *max_element(candidates.begin(), candidates.end()); ## vector max in C++ - don't forget the * in front!\n",
    "    }\n",
    "};"
   ]
  },
  {
   "cell_type": "markdown",
   "metadata": {},
   "source": [
    "## Lessons and Thoughts\n",
    "- This above algo is inspired by this [post](https://www.cnblogs.com/grandyang/p/4997417.html). Basically distinguish of two cases:\n",
    "    - `long[idx]` is the max profit to own the stock on `idx`.\n",
    "    - `zero[idx]` is the max profit to not own the stock on `idx`.\n",
    "- It took you a long time to figure it out even after you have seen the answer.\n",
    "- It turns out you do not need to distinguish between newly long vs long, and newly short vs short."
   ]
  }
 ],
 "metadata": {
  "kernelspec": {
   "display_name": "Python 3",
   "language": "python",
   "name": "python3"
  },
  "language_info": {
   "codemirror_mode": {
    "name": "ipython",
    "version": 3
   },
   "file_extension": ".py",
   "mimetype": "text/x-python",
   "name": "python",
   "nbconvert_exporter": "python",
   "pygments_lexer": "ipython3",
   "version": "3.6.5"
  }
 },
 "nbformat": 4,
 "nbformat_minor": 2
}
