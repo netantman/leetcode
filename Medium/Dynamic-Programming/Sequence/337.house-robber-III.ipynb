{
 "cells": [
  {
   "cell_type": "markdown",
   "metadata": {},
   "source": [
    "## Attempt 1 - Runtime Error"
   ]
  },
  {
   "cell_type": "code",
   "execution_count": null,
   "metadata": {},
   "outputs": [],
   "source": [
    "# Definition for a binary tree node.\n",
    "# class TreeNode:\n",
    "#     def __init__(self, val=0, left=None, right=None):\n",
    "#         self.val = val\n",
    "#         self.left = left\n",
    "#         self.right = right\n",
    "class Solution:\n",
    "    def rob(self, root: TreeNode) -> int:\n",
    "        \n",
    "        def inner(root):\n",
    "            if root.left is None and root.right is None:\n",
    "                return (0, root.val)\n",
    "            res=[0, root.val] # (not include root, overall)\n",
    "            if root.left is not None:\n",
    "                left=inner(root.left)\n",
    "                res[0]+=left[1]\n",
    "                res[1]=max(res[0], root.val+left[0])\n",
    "            if root.right is not None:\n",
    "                right=inner(root.right)\n",
    "                res[0]+=right[1]\n",
    "                res[1]=max(res[0], res[1]+right[0])\n",
    "            return res\n",
    "        \n",
    "        res=inner(root)\n",
    "        return res[1]"
   ]
  },
  {
   "cell_type": "markdown",
   "metadata": {},
   "source": [
    "## Attempt 2 - Accepted"
   ]
  },
  {
   "cell_type": "code",
   "execution_count": null,
   "metadata": {},
   "outputs": [],
   "source": [
    "# Definition for a binary tree node.\n",
    "# class TreeNode:\n",
    "#     def __init__(self, val=0, left=None, right=None):\n",
    "#         self.val = val\n",
    "#         self.left = left\n",
    "#         self.right = right\n",
    "class Solution:\n",
    "    def rob(self, root: TreeNode) -> int:\n",
    "        \n",
    "        def inner(root):\n",
    "            if root.left is None and root.right is None:\n",
    "                return [0, root.val]\n",
    "            res=[0, root.val] # (not include root, overall)\n",
    "            if root.left is not None:\n",
    "                left=inner(root.left)\n",
    "                res[0]+=left[1]\n",
    "                res[1]=max(res[0], root.val+left[0])\n",
    "            if root.right is not None:\n",
    "                right=inner(root.right)\n",
    "                res[0]+=right[1]\n",
    "                res[1]=max(res[0], res[1]+right[0])\n",
    "            return res\n",
    "        \n",
    "        if root is None:\n",
    "            return 0\n",
    "        \n",
    "        res=inner(root)\n",
    "        return res[1]"
   ]
  },
  {
   "cell_type": "markdown",
   "metadata": {},
   "source": [
    "## Attempt 3 - Accepted"
   ]
  },
  {
   "cell_type": "code",
   "execution_count": null,
   "metadata": {},
   "outputs": [],
   "source": [
    "/**\n",
    " * Definition for a binary tree node.\n",
    " * struct TreeNode {\n",
    " *     int val;\n",
    " *     TreeNode *left;\n",
    " *     TreeNode *right;\n",
    " *     TreeNode() : val(0), left(nullptr), right(nullptr) {}\n",
    " *     TreeNode(int x) : val(x), left(nullptr), right(nullptr) {}\n",
    " *     TreeNode(int x, TreeNode *left, TreeNode *right) : val(x), left(left), right(right) {}\n",
    " * };\n",
    " */\n",
    "class Solution {\n",
    "public:\n",
    "    vector<int> inner(TreeNode* root) {\n",
    "        if (root == nullptr) {\n",
    "            vector<int> res = {0, 0};\n",
    "            return res;\n",
    "        }\n",
    "        vector<int> left = inner(root->left);\n",
    "        vector<int> right = inner(root->right);\n",
    "        vector<int> res = {root->val + left[1] + right[1], max(left[0], left[1]) + max(right[0], right[1])};\n",
    "        return res;\n",
    "    }\n",
    "    \n",
    "    int rob(TreeNode* root) {\n",
    "        vector<int> res = this->inner(root);\n",
    "        return max(res[0], res[1]);\n",
    "    }\n",
    "};"
   ]
  },
  {
   "cell_type": "markdown",
   "metadata": {},
   "source": [
    "## Lessons and Thoughts\n",
    "- When implementing recursion for trees, if within recursion there is not handling of `None`, you need to remember to do so outside the recursion!\n",
    "- The way Attempt 3 handles edge case is cleaner."
   ]
  }
 ],
 "metadata": {
  "kernelspec": {
   "display_name": "Python 3",
   "language": "python",
   "name": "python3"
  },
  "language_info": {
   "codemirror_mode": {
    "name": "ipython",
    "version": 3
   },
   "file_extension": ".py",
   "mimetype": "text/x-python",
   "name": "python",
   "nbconvert_exporter": "python",
   "pygments_lexer": "ipython3",
   "version": "3.6.5"
  }
 },
 "nbformat": 4,
 "nbformat_minor": 2
}
