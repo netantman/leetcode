{
 "cells": [
  {
   "cell_type": "markdown",
   "metadata": {},
   "source": [
    "## Attempt 1 - Accepted"
   ]
  },
  {
   "cell_type": "code",
   "execution_count": null,
   "metadata": {},
   "outputs": [],
   "source": [
    "class Solution:\n",
    "    def knightDialer(self, n: int) -> int:\n",
    "        mod=10**9+7\n",
    "        def inner(n,mod=mod):\n",
    "            res={k:1 for k in range(10)} \n",
    "            moves={\n",
    "                1:[6,8], 2:[7,9], 3:[4,8], 4:[3,9,0], 5:[], 6: [1,7,0], 7:[2,6], 8:[1,3], 9:[2,4], 0:[4,6]\n",
    "            }\n",
    "            for _ in range(1,n):\n",
    "                nexxt={k:0 for k in range(10)}\n",
    "                for k in range(10):\n",
    "                    move=moves[k]\n",
    "                    for m in move:\n",
    "                        nexxt[m]+=res[k]\n",
    "                        nexxt[m]=nexxt[m]%mod\n",
    "                res=nexxt\n",
    "            return res\n",
    "        res=inner(n)\n",
    "        return sum(res.values())%mod"
   ]
  },
  {
   "cell_type": "markdown",
   "metadata": {},
   "source": [
    "## Attempt 2 - Wrong Answer"
   ]
  },
  {
   "cell_type": "code",
   "execution_count": null,
   "metadata": {},
   "outputs": [],
   "source": [
    "class Solution {\n",
    "public:\n",
    "    int knightDialer(int n) {\n",
    "        long MOD = pow(10, 9) + 7;\n",
    "        map<int, vector<int>> nexxt = {\n",
    "            {1, {6, 8}}, {2, {7, 9}}, {3, {4, 8}}, \n",
    "            {4, {3, 9, 0}}, {5, {}}, {6, {1, 7, 0}}, \n",
    "            {7, {2, 6}}, {8, {1, 3}}, {9, {2, 4}},\n",
    "            {0, {4, 6}}\n",
    "        };\n",
    "        \n",
    "        vector<long> dp(10, 1);\n",
    "        int k = 1;\n",
    "        \n",
    "        while (k < n) {\n",
    "            vector<long> new_dp(10, 0);\n",
    "            for(int idx=0; idx<=9; idx++) {\n",
    "                vector<int> curr = nexxt[idx];\n",
    "                for(int c : curr) {\n",
    "                    new_dp[c] += dp[idx];\n",
    "                    new_dp[c] = new_dp[c] % MOD;\n",
    "                    while (new_dp[c] < 0) {\n",
    "                        new_dp[c] += MOD;\n",
    "                    }\n",
    "                }\n",
    "            }\n",
    "            dp = new_dp;\n",
    "            k++;\n",
    "        }\n",
    "        // for( auto p : dp) {\n",
    "        //     cout << p << \" \";\n",
    "        // }\n",
    "        return accumulate(dp.begin(), dp.end(), 0) % MOD;\n",
    "    }\n",
    "};"
   ]
  },
  {
   "cell_type": "markdown",
   "metadata": {},
   "source": [
    "## Lessons and Thoughts\n",
    "- When the problem is just asking for the number of all results, try not to record/list.\n",
    "- Attempt 2 is the same algo, but cannot figure out how to take care of `int` overflow and the `MOD`..."
   ]
  }
 ],
 "metadata": {
  "kernelspec": {
   "display_name": "Python 3 (ipykernel)",
   "language": "python",
   "name": "python3"
  },
  "language_info": {
   "codemirror_mode": {
    "name": "ipython",
    "version": 3
   },
   "file_extension": ".py",
   "mimetype": "text/x-python",
   "name": "python",
   "nbconvert_exporter": "python",
   "pygments_lexer": "ipython3",
   "version": "3.9.7"
  }
 },
 "nbformat": 4,
 "nbformat_minor": 2
}
