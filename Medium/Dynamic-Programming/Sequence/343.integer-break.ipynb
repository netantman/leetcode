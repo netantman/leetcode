{
 "cells": [
  {
   "cell_type": "markdown",
   "metadata": {},
   "source": [
    "## Attempt 1 - Accepted"
   ]
  },
  {
   "cell_type": "code",
   "execution_count": null,
   "metadata": {},
   "outputs": [],
   "source": [
    "class Solution:\n",
    "    def integerBreak(self, n: int) -> int:\n",
    "        if n<=2:\n",
    "            return 1\n",
    "        if n==3:\n",
    "            return 2 ## --> remember to handle this edge case for the sake of algo below\n",
    "        \n",
    "        res=[i for i in range(n+1)]\n",
    "        for idx in range(1, n+1):\n",
    "            for j in range(1, idx):\n",
    "                res[idx]=max(res[idx], res[j]*res[idx-j])\n",
    "        return res[-1]"
   ]
  },
  {
   "cell_type": "markdown",
   "metadata": {},
   "source": [
    "## Attempt 2 - Accepted"
   ]
  },
  {
   "cell_type": "code",
   "execution_count": null,
   "metadata": {},
   "outputs": [],
   "source": [
    "class Solution:\n",
    "    def integerBreak(self, n: int) -> int:\n",
    "        if n == 2:\n",
    "            return 1\n",
    "        if n == 3:\n",
    "            return 2\n",
    "        if n == 4:\n",
    "            return 4\n",
    "        if n == 5:\n",
    "            return 6\n",
    "        if n == 6:\n",
    "            return 9\n",
    "        \n",
    "        dp = [None for _ in range(n + 1)]\n",
    "        dp[2] = 1\n",
    "        dp[3] = 2\n",
    "        dp[4] = 4\n",
    "        dp[5] = 6\n",
    "        dp[6] = 9\n",
    "        for idx in range(7, n + 1):\n",
    "            dp[idx] = max(dp[idx - 2] * 2, dp[idx - 3] * 3)\n",
    "        \n",
    "        return dp[-1]"
   ]
  },
  {
   "cell_type": "markdown",
   "metadata": {},
   "source": [
    "## Lessons and Thoughts\n",
    "- Straight forward DP: just be careful handling the small integer cases.\n",
    "- Attempt 2 is a more efficient DP: $O(n)$ rather than $O(n^2)$. The key is to realize for bigger $n$, it is either break it to $2$ and $n-2$ or $3$ and $n-3$."
   ]
  }
 ],
 "metadata": {
  "kernelspec": {
   "display_name": "Python 3",
   "language": "python",
   "name": "python3"
  },
  "language_info": {
   "codemirror_mode": {
    "name": "ipython",
    "version": 3
   },
   "file_extension": ".py",
   "mimetype": "text/x-python",
   "name": "python",
   "nbconvert_exporter": "python",
   "pygments_lexer": "ipython3",
   "version": "3.7.3"
  }
 },
 "nbformat": 4,
 "nbformat_minor": 2
}
