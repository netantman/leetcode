{
 "cells": [
  {
   "cell_type": "markdown",
   "metadata": {},
   "source": [
    "## Attempt 1 - Accepted"
   ]
  },
  {
   "cell_type": "code",
   "execution_count": null,
   "metadata": {},
   "outputs": [],
   "source": [
    "class Solution:\n",
    "    def integerBreak(self, n: int) -> int:\n",
    "        if n<=2:\n",
    "            return 1\n",
    "        if n==3:\n",
    "            return 2 ## --> remember to handle this edge case for the sake of algo below\n",
    "        \n",
    "        res=[i for i in range(n+1)]\n",
    "        for idx in range(1, n+1):\n",
    "            for j in range(1, idx):\n",
    "                res[idx]=max(res[idx], res[j]*res[idx-j])\n",
    "        return res[-1]"
   ]
  },
  {
   "cell_type": "markdown",
   "metadata": {},
   "source": [
    "## Attempt 2 - Accepted"
   ]
  },
  {
   "cell_type": "code",
   "execution_count": null,
   "metadata": {},
   "outputs": [],
   "source": [
    "class Solution:\n",
    "    def integerBreak(self, n: int) -> int:\n",
    "        if n == 2:\n",
    "            return 1\n",
    "        if n == 3:\n",
    "            return 2\n",
    "        if n == 4:\n",
    "            return 4\n",
    "        if n == 5:\n",
    "            return 6\n",
    "        if n == 6:\n",
    "            return 9\n",
    "        \n",
    "        dp = [None for _ in range(n + 1)]\n",
    "        dp[2] = 1\n",
    "        dp[3] = 2\n",
    "        dp[4] = 4\n",
    "        dp[5] = 6\n",
    "        dp[6] = 9\n",
    "        for idx in range(7, n + 1):\n",
    "            dp[idx] = max(dp[idx - 2] * 2, dp[idx - 3] * 3)\n",
    "        \n",
    "        return dp[-1]"
   ]
  },
  {
   "cell_type": "markdown",
   "metadata": {},
   "source": [
    "## Attempt 3 - Accepted"
   ]
  },
  {
   "cell_type": "code",
   "execution_count": null,
   "metadata": {},
   "outputs": [],
   "source": [
    "class Solution {\n",
    "public:\n",
    "    int integerBreak(int n) {\n",
    "        if (n == 1) {return 1;}\n",
    "        if (n == 2) {return 1;}\n",
    "        if (n == 3) {return 2;}\n",
    "        if (n == 4) {return 4;}\n",
    "        if (n == 5) {return 6;}\n",
    "        if (n == 6) {return 9;}\n",
    "        \n",
    "        int minus_one = 9;\n",
    "        int minus_two = 6; \n",
    "        int minus_three = 4;\n",
    "        int k = 7;\n",
    "        int res;\n",
    "        while (k <= n) {\n",
    "            res = max(2 * minus_two, 3 * minus_three);\n",
    "            minus_three = minus_two;\n",
    "            minus_two = minus_one;\n",
    "            minus_one = res;\n",
    "            k++;\n",
    "        }\n",
    "        return res;\n",
    "        \n",
    "    }\n",
    "};"
   ]
  },
  {
   "cell_type": "markdown",
   "metadata": {},
   "source": [
    "## Lessons and Thoughts\n",
    "- Straight forward DP: just be careful handling the small integer cases.\n",
    "- Attempt 2 is a more efficient DP: $O(n)$ rather than $O(n^2)$. The key is to realize for bigger $n$, it is either break it to $2$ and $n-2$ or $3$ and $n-3$.\n",
    "- Attempt 3 is the C++ version of Attempt 2, with rolling optimization."
   ]
  }
 ],
 "metadata": {
  "kernelspec": {
   "display_name": "Python 3",
   "language": "python",
   "name": "python3"
  },
  "language_info": {
   "codemirror_mode": {
    "name": "ipython",
    "version": 3
   },
   "file_extension": ".py",
   "mimetype": "text/x-python",
   "name": "python",
   "nbconvert_exporter": "python",
   "pygments_lexer": "ipython3",
   "version": "3.6.5"
  }
 },
 "nbformat": 4,
 "nbformat_minor": 2
}
