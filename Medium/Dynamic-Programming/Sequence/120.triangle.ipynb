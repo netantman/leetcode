{
 "cells": [
  {
   "cell_type": "markdown",
   "metadata": {},
   "source": [
    "## Attempt 1 - Accepted"
   ]
  },
  {
   "cell_type": "code",
   "execution_count": null,
   "metadata": {},
   "outputs": [],
   "source": [
    "class Solution:\n",
    "    def minimumTotal(self, triangle: List[List[int]]) -> int:\n",
    "        numRows=len(triangle)\n",
    "        if numRows==1:\n",
    "            return triangle[0][0]\n",
    "        \n",
    "        for idx in range(1,numRows):\n",
    "            prev_row=triangle[idx-1]\n",
    "            row=triangle[idx]\n",
    "            L=len(row)\n",
    "            for c in range(L):\n",
    "                if c==0:\n",
    "                    row[c]=row[c]+prev_row[0]\n",
    "                elif c==L-1:\n",
    "                    row[c]=row[c]+prev_row[-1]\n",
    "                else:\n",
    "                    row[c]=row[c]+min(prev_row[c-1], prev_row[c])\n",
    "        \n",
    "        return min(triangle[-1])"
   ]
  },
  {
   "cell_type": "markdown",
   "metadata": {},
   "source": [
    "## Lessons and Thoughts\n",
    "- This is a solution in-place, i.e. no extra space needed."
   ]
  }
 ],
 "metadata": {
  "kernelspec": {
   "display_name": "Python 3",
   "language": "python",
   "name": "python3"
  },
  "language_info": {
   "codemirror_mode": {
    "name": "ipython",
    "version": 3
   },
   "file_extension": ".py",
   "mimetype": "text/x-python",
   "name": "python",
   "nbconvert_exporter": "python",
   "pygments_lexer": "ipython3",
   "version": "3.7.3"
  }
 },
 "nbformat": 4,
 "nbformat_minor": 2
}
