{
 "cells": [
  {
   "cell_type": "markdown",
   "metadata": {},
   "source": [
    "## Attempt 1 - Runtime Error"
   ]
  },
  {
   "cell_type": "code",
   "execution_count": null,
   "metadata": {},
   "outputs": [],
   "source": [
    "class Solution:\n",
    "    def deleteAndEarn(self, nums: List[int]) -> int:\n",
    "        record=dict()\n",
    "        for n in nums: ## --> did not handle empty nums\n",
    "            record[n]=record.get(n,0)+1\n",
    "        reward=[]\n",
    "        for n, cnt in record.items():\n",
    "            reward.append((n,cnt))\n",
    "        reward=sorted(reward, key=lambda x:x[0])\n",
    "        res=[0 for _ in reward]\n",
    "        L=len(res)\n",
    "        res[0]+=reward[0][0]*reward[0][1]\n",
    "        if reward[1][0]==reward[0][0]+1:\n",
    "            res[1]=max(reward[1][0]*reward[1][1], res[0])\n",
    "        else:\n",
    "            res[1]=res[0]+reward[1][0]*reward[1][1]\n",
    "        for idx in range(2,L):\n",
    "            if reward[idx][0]==reward[idx-1][0]+1:\n",
    "                res[idx]=max(reward[idx][0]*reward[idx][1]+res[idx-2], res[idx-1])\n",
    "            else:\n",
    "                res[idx]=reward[idx][0]*reward[idx][1]+res[idx-1]\n",
    "        return res[-1]"
   ]
  },
  {
   "cell_type": "markdown",
   "metadata": {},
   "source": [
    "## Attempt 2 - Accepted"
   ]
  },
  {
   "cell_type": "code",
   "execution_count": null,
   "metadata": {},
   "outputs": [],
   "source": [
    "class Solution:\n",
    "    def deleteAndEarn(self, nums: List[int]) -> int:\n",
    "        record=dict()\n",
    "        if len(nums)<1:\n",
    "            return 0\n",
    "        for n in nums:\n",
    "            record[n]=record.get(n,0)+1\n",
    "        reward=[]\n",
    "        for n, cnt in record.items():\n",
    "            reward.append((n,cnt))\n",
    "        if len(reward)==1:\n",
    "            return reward[0][0]*reward[0][1]\n",
    "        reward=sorted(reward, key=lambda x:x[0])\n",
    "        res=[0 for _ in reward]\n",
    "        L=len(res)\n",
    "        res[0]+=reward[0][0]*reward[0][1]\n",
    "        if reward[1][0]==reward[0][0]+1:\n",
    "            res[1]=max(reward[1][0]*reward[1][1], res[0])\n",
    "        else:\n",
    "            res[1]=res[0]+reward[1][0]*reward[1][1]\n",
    "        for idx in range(2,L):\n",
    "            if reward[idx][0]==reward[idx-1][0]+1:\n",
    "                res[idx]=max(reward[idx][0]*reward[idx][1]+res[idx-2], res[idx-1])\n",
    "            else:\n",
    "                res[idx]=reward[idx][0]*reward[idx][1]+res[idx-1]\n",
    "        return res[-1]"
   ]
  },
  {
   "cell_type": "markdown",
   "metadata": {},
   "source": [
    "## Lessons and Thoughts\n",
    "- It is amazing that you would still miss empty list edge cases!"
   ]
  }
 ],
 "metadata": {
  "kernelspec": {
   "display_name": "Python 3",
   "language": "python",
   "name": "python3"
  },
  "language_info": {
   "codemirror_mode": {
    "name": "ipython",
    "version": 3
   },
   "file_extension": ".py",
   "mimetype": "text/x-python",
   "name": "python",
   "nbconvert_exporter": "python",
   "pygments_lexer": "ipython3",
   "version": "3.7.3"
  }
 },
 "nbformat": 4,
 "nbformat_minor": 2
}
