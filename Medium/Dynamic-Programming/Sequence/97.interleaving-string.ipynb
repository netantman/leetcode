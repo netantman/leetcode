{
 "cells": [
  {
   "cell_type": "markdown",
   "metadata": {},
   "source": [
    "## Attempt 1 - Time Limit Exceeded"
   ]
  },
  {
   "cell_type": "code",
   "execution_count": null,
   "metadata": {},
   "outputs": [],
   "source": [
    "class Solution:\n",
    "    def isInterleave(self, s1: str, s2: str, s3: str) -> bool:\n",
    "        \n",
    "        L = len(s3)\n",
    "        L1, L2 = len(s1), len(s2)\n",
    "        if L != L1 + L2:\n",
    "            return False\n",
    "        \n",
    "        if L1 < 1:\n",
    "            return s2 == s3\n",
    "        if L2 < 1:\n",
    "            return s1 == s3\n",
    "        \n",
    "        dp = [[] for _ in s3]\n",
    "        if s1[0] == s3[0]:\n",
    "            dp[0].append((0, -1))\n",
    "        if s2[0] == s3[0]:\n",
    "            dp[0].append((-1, 0))\n",
    "        \n",
    "        \n",
    "        for idx in range(1, L):\n",
    "            prev = dp[idx - 1]\n",
    "            for idx1, idx2 in prev:\n",
    "                if idx1 + 1 < L1 and s1[idx1 + 1] == s3[idx]:\n",
    "                    dp[idx].append((idx1 + 1, idx2))\n",
    "                if idx2 + 1 < L2 and s2[idx2 + 1] == s3[idx]:\n",
    "                    dp[idx].append((idx1, idx2 + 1))\n",
    "        return len(dp[-1]) > 0"
   ]
  },
  {
   "cell_type": "markdown",
   "metadata": {},
   "source": [
    "## Attempt 2 - Accepted"
   ]
  },
  {
   "cell_type": "code",
   "execution_count": null,
   "metadata": {},
   "outputs": [],
   "source": [
    "class Solution:\n",
    "    def isInterleave(self, s1: str, s2: str, s3: str) -> bool:\n",
    "        \n",
    "        L = len(s3)\n",
    "        L1, L2 = len(s1), len(s2)\n",
    "        if L != L1 + L2:\n",
    "            return False\n",
    "        \n",
    "        if L1 < 1:\n",
    "            return s2 == s3\n",
    "        if L2 < 1:\n",
    "            return s1 == s3\n",
    "        \n",
    "        dp = [set([]) for _ in s3]\n",
    "        if s1[0] == s3[0]:\n",
    "            dp[0].add((0, -1))\n",
    "        if s2[0] == s3[0]:\n",
    "            dp[0].add((-1, 0))\n",
    "        \n",
    "        \n",
    "        for idx in range(1, L):\n",
    "            prev = dp[idx - 1]\n",
    "            for idx1, idx2 in prev:\n",
    "                if idx1 + 1 < L1 and s1[idx1 + 1] == s3[idx]:\n",
    "                    dp[idx].add((idx1 + 1, idx2))\n",
    "                if idx2 + 1 < L2 and s2[idx2 + 1] == s3[idx]:\n",
    "                    dp[idx].add((idx1, idx2 + 1))\n",
    "        return len(dp[-1]) > 0"
   ]
  },
  {
   "cell_type": "markdown",
   "metadata": {},
   "source": [
    "## Attempt 3 - Time Limit Exceeded"
   ]
  },
  {
   "cell_type": "code",
   "execution_count": null,
   "metadata": {},
   "outputs": [],
   "source": [
    "class Solution {\n",
    "public:\n",
    "    int L1;\n",
    "    int L2;\n",
    "    int L3;\n",
    "    string s1;\n",
    "    string s2;\n",
    "    string s3;\n",
    "    bool inner(int p1, int p2, int p3) {\n",
    "        if (p1 == this->L1) {\n",
    "            return (this->s2.substr(p2, this->L2 - p2) == this->s3.substr(p3, this->L3 - p3));\n",
    "        }\n",
    "        if (p2 == this->L2) {\n",
    "            return (this->s1.substr(p1, this->L1 - p1) == this->s3.substr(p3, this->L3 - p3));\n",
    "        }\n",
    "        if (p3 == this->L3) {\n",
    "            return false;\n",
    "        }\n",
    "        \n",
    "        if (this->s1[p1] == this->s3[p3]) {\n",
    "            if (inner(p1 + 1, p2, p3 + 1)) {\n",
    "                return true;\n",
    "            }\n",
    "        }\n",
    "        \n",
    "        if (this->s2[p2] == this->s3[p3]) {\n",
    "            if (inner(p1, p2 + 1, p3 + 1)) {\n",
    "                return true;\n",
    "            }            \n",
    "        }\n",
    "        \n",
    "        return false;\n",
    "        \n",
    "    }\n",
    "    bool isInterleave(string s1, string s2, string s3) {\n",
    "        this->L1 = s1.size();\n",
    "        this->L2 = s2.size();\n",
    "        this->L3 = s3.size();\n",
    "        this->s1 = s1;\n",
    "        this->s2 = s2;\n",
    "        this->s3 = s3;\n",
    "        \n",
    "        if (this->L3 != this->L1 + this->L2) {\n",
    "            return false;\n",
    "        }\n",
    "        \n",
    "        return this->inner(0, 0, 0);\n",
    "    }\n",
    "};"
   ]
  },
  {
   "cell_type": "markdown",
   "metadata": {},
   "source": [
    "## Lessons and Thoughts\n",
    "- There are many duplicates in `dp`.\n",
    "- Attempt 2 is a sequence dp, and it is probably too tricky to think of during interviews. Another probably more straightforward dp idea is probably do two-dimensional dp, where `dp[i][j]` means whether `s3[:i+j]` can be interleaved by `s1[:i]` and `s2[:j]`. "
   ]
  }
 ],
 "metadata": {
  "kernelspec": {
   "display_name": "Python 3",
   "language": "python",
   "name": "python3"
  },
  "language_info": {
   "codemirror_mode": {
    "name": "ipython",
    "version": 3
   },
   "file_extension": ".py",
   "mimetype": "text/x-python",
   "name": "python",
   "nbconvert_exporter": "python",
   "pygments_lexer": "ipython3",
   "version": "3.6.5"
  }
 },
 "nbformat": 4,
 "nbformat_minor": 2
}
