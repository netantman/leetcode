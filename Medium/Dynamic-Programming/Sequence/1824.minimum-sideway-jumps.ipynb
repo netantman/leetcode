{
 "cells": [
  {
   "cell_type": "markdown",
   "metadata": {},
   "source": [
    "## Attempt 1 - Accepted"
   ]
  },
  {
   "cell_type": "code",
   "execution_count": null,
   "metadata": {},
   "outputs": [],
   "source": [
    "class Solution:\n",
    "    def minSideJumps(self, obstacles: List[int]) -> int:\n",
    "        record = dict()\n",
    "        for idx, ob in enumerate(obstacles):\n",
    "            if ob > 0:\n",
    "                record[idx] = ob - 1\n",
    "        \n",
    "        dp = [0, 0, 0]\n",
    "        n = len(obstacles) - 1 \n",
    "        curr = n\n",
    "        \n",
    "        while curr > 0:\n",
    "            nexxt = []\n",
    "            obs = [0, 0, 0]\n",
    "            if curr - 1 in record:\n",
    "                obs[record[curr - 1]] = float('inf')\n",
    "            for idx in range(3):\n",
    "                nexxt.append(min(dp[idx] + obs[idx], 1 + dp[(idx + 1) % 3] + obs[(idx + 1) % 3], 1 + dp[(idx + 2) % 3] + obs[(idx + 2) % 3]))\n",
    "            if curr - 1 in record:\n",
    "                nexxt[record[curr - 1]] = float('inf')\n",
    "            curr -= 1\n",
    "            dp = nexxt\n",
    "            # print(dp)\n",
    "        \n",
    "        return dp[1]"
   ]
  },
  {
   "cell_type": "markdown",
   "metadata": {},
   "source": [
    "## Attempt 2 - Accepted"
   ]
  },
  {
   "cell_type": "code",
   "execution_count": null,
   "metadata": {},
   "outputs": [],
   "source": [
    "class Solution {\n",
    "public:\n",
    "    int minSideJumps(vector<int>& obstacles) {\n",
    "        int N = obstacles.size() - 1;\n",
    "        int INF = 3 * (N + 1) + 1;\n",
    "        \n",
    "        vector<int> dp = {1, 0, 1};\n",
    "        \n",
    "        for (int idx=1; idx<=N; idx++) {\n",
    "            if (obstacles[idx] > 0) {\n",
    "                dp[obstacles[idx] - 1] = INF;\n",
    "            }\n",
    "            vector<int> nexxt(3, INF);\n",
    "            for (int l=0; l<3; l++) {\n",
    "                int m = min(dp[l], dp[(l + 1) % 3] + 1);\n",
    "                m = min(m, dp[(l + 2) % 3] + 1);\n",
    "                nexxt[l] = m;    \n",
    "            }\n",
    "            dp = nexxt;\n",
    "            \n",
    "            if (obstacles[idx] > 0) {\n",
    "                dp[obstacles[idx] - 1] = INF;\n",
    "            }\n",
    "            \n",
    "            // for (int l=0; l<3; l++) { \n",
    "            //     cout << dp[l] << \" \";\n",
    "            // }\n",
    "            // cout << \"\\n\";\n",
    "        \n",
    "        }\n",
    "        \n",
    "        int res = INF;\n",
    "        res = min(res, dp[0]);\n",
    "        res = min(res, dp[1]);\n",
    "        res = min(res, dp[2]);\n",
    "        \n",
    "        return res;\n",
    "    }\n",
    "};"
   ]
  },
  {
   "cell_type": "markdown",
   "metadata": {},
   "source": [
    "## Lessons and Thoughts\n",
    "- The transition condition is a bit tricky, since you need to consider both the obstacles at this phase and last.\n",
    "- Attempt 2 is somewhat cleaner, though the same algo.\n",
    "- If use `*min_element` above instead of `min`, it will TLE?"
   ]
  }
 ],
 "metadata": {
  "kernelspec": {
   "display_name": "Python 3",
   "language": "python",
   "name": "python3"
  },
  "language_info": {
   "codemirror_mode": {
    "name": "ipython",
    "version": 3
   },
   "file_extension": ".py",
   "mimetype": "text/x-python",
   "name": "python",
   "nbconvert_exporter": "python",
   "pygments_lexer": "ipython3",
   "version": "3.6.5"
  }
 },
 "nbformat": 4,
 "nbformat_minor": 2
}
