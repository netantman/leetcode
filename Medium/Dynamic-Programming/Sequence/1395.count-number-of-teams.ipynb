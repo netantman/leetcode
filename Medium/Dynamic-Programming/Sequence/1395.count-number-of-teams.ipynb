{
 "cells": [
  {
   "cell_type": "markdown",
   "metadata": {},
   "source": [
    "## Attempt 1 - Accepted"
   ]
  },
  {
   "cell_type": "code",
   "execution_count": null,
   "metadata": {},
   "outputs": [],
   "source": [
    "class Solution:\n",
    "    def numTeams(self, rating: List[int]) -> int:\n",
    "        res=0\n",
    "        L=len(rating)\n",
    "        for idx, curr in enumerate(rating):\n",
    "            left_less, left_more, right_less, right_more=0,0,0,0\n",
    "            for l in range(idx):\n",
    "                if rating[l]<curr:\n",
    "                    left_less+=1\n",
    "                else:\n",
    "                    left_more+=1\n",
    "            for r in range(idx+1,L):\n",
    "                if rating[r]<curr:\n",
    "                    right_less+=1\n",
    "                else:\n",
    "                    right_more+=1\n",
    "            res+=(left_less*right_more+left_more*right_less)\n",
    "        return res"
   ]
  },
  {
   "cell_type": "markdown",
   "metadata": {},
   "source": [
    "## Attempt 2 - Accepted"
   ]
  },
  {
   "cell_type": "code",
   "execution_count": null,
   "metadata": {},
   "outputs": [],
   "source": [
    "class Solution:\n",
    "    def numTeams(self, rating: List[int]) -> int:\n",
    "        inc_two = {rating[0] : 0}\n",
    "        dec_two = {rating[0] : 0}\n",
    "        L = len(rating)\n",
    "        \n",
    "        if rating[0] < rating[1]:\n",
    "            inc_two[rating[1]] = 1\n",
    "            dec_two[rating[1]] = 0\n",
    "        if rating[0] > rating[1]:\n",
    "            inc_two[rating[1]] = 0\n",
    "            dec_two[rating[1]] = 1\n",
    "        \n",
    "        res = 0\n",
    "        for j in range(2, L):\n",
    "            for i in range(0, j):\n",
    "                ri, rj = rating[i], rating[j]\n",
    "                if ri < rj:\n",
    "                    res += inc_two.get(ri, 0)\n",
    "                    inc_two[rj] = inc_two.get(rj, 0) + 1\n",
    "                else:\n",
    "                    res += dec_two.get(ri, 0)\n",
    "                    dec_two[rj] = dec_two.get(rj, 0) + 1\n",
    "        \n",
    "        return res"
   ]
  },
  {
   "cell_type": "markdown",
   "metadata": {},
   "source": [
    "## Lessons and Thoughts\n",
    "- Attempt 1 is from the apps. From enumerating the start of the team to the middle of the team is a more effcient variant.\n",
    "- While Attempt 1 is a tricky solution, this problem can be solved by a sequence DP; see Attempt 2.\n",
    "- We do not need `inc_three` or `dec_three`: just add them up and move on."
   ]
  }
 ],
 "metadata": {
  "kernelspec": {
   "display_name": "Python 3 (ipykernel)",
   "language": "python",
   "name": "python3"
  },
  "language_info": {
   "codemirror_mode": {
    "name": "ipython",
    "version": 3
   },
   "file_extension": ".py",
   "mimetype": "text/x-python",
   "name": "python",
   "nbconvert_exporter": "python",
   "pygments_lexer": "ipython3",
   "version": "3.9.7"
  }
 },
 "nbformat": 4,
 "nbformat_minor": 2
}
