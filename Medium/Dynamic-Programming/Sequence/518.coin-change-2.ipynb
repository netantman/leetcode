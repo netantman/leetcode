{
 "cells": [
  {
   "cell_type": "markdown",
   "metadata": {},
   "source": [
    "## Attempt 1 - Time Limit Exceeded, but only in submission"
   ]
  },
  {
   "cell_type": "code",
   "execution_count": null,
   "metadata": {},
   "outputs": [],
   "source": [
    "class Solution:\n",
    "    def change(self, amount: int, coins: List[int]) -> int:\n",
    "        L=len(coins)\n",
    "        if L<1:\n",
    "            if amount==0:\n",
    "                return 1\n",
    "            else:\n",
    "                return 0\n",
    "        \n",
    "        dp=[[0 for _ in range(amount+1)] for _ in range(L+1)]\n",
    "        dp[0][0]=1\n",
    "        for m in range(1,L+1):\n",
    "            c=coins[m-1]\n",
    "            for n in range(amount+1):\n",
    "                multiples=0\n",
    "                while multiples*c<=n:\n",
    "                    dp[m][n]+=dp[m-1][n-multiples*c]\n",
    "                    multiples+=1\n",
    "        return dp[L][amount]"
   ]
  },
  {
   "cell_type": "markdown",
   "metadata": {},
   "source": [
    "## Attempt 2 - Accepted"
   ]
  },
  {
   "cell_type": "code",
   "execution_count": null,
   "metadata": {},
   "outputs": [],
   "source": [
    "class Solution:\n",
    "    def change(self, amount: int, coins: List[int]) -> int:\n",
    "        L=len(coins)\n",
    "        if L<1:\n",
    "            if amount==0:\n",
    "                return 1\n",
    "            else:\n",
    "                return 0\n",
    "        \n",
    "        dp=[[0 for _ in range(amount+1)] for _ in range(L+1)]\n",
    "        dp[0][0]=1\n",
    "        for m in range(1,L+1):\n",
    "            c=coins[m-1]\n",
    "            for n in range(amount+1):\n",
    "                dp[m][n]=dp[m-1][n]\n",
    "                if n>=c:\n",
    "                    dp[m][n]+=dp[m][n-c]\n",
    "        return dp[L][amount]"
   ]
  },
  {
   "cell_type": "markdown",
   "metadata": {},
   "source": [
    "## Attempt 3 - Accepted"
   ]
  },
  {
   "cell_type": "code",
   "execution_count": null,
   "metadata": {},
   "outputs": [],
   "source": [
    "class Solution {\n",
    "public:\n",
    "    int change(int amount, vector<int>& coins) {\n",
    "        vector<int> dp(amount + 1, 0);\n",
    "        std::sort(coins.begin(), coins.end());\n",
    "        dp[0] = 1;\n",
    "        for (int c : coins) {\n",
    "            vector<int> new_dp(amount + 1, 0);\n",
    "            new_dp = dp;\n",
    "            for (int idx = 1; idx < amount + 1; idx++) {\n",
    "                int k = 1;\n",
    "                while (idx - k * c >= 0) {\n",
    "                    new_dp[idx] += dp[idx - k * c];\n",
    "                    k++;\n",
    "                }\n",
    "            }\n",
    "            dp = new_dp;\n",
    "        }\n",
    "        return dp[amount];\n",
    "    }\n",
    "};"
   ]
  },
  {
   "cell_type": "markdown",
   "metadata": {},
   "source": [
    "## Attempt 4 - Accepted"
   ]
  },
  {
   "cell_type": "code",
   "execution_count": null,
   "metadata": {},
   "outputs": [],
   "source": [
    "class Solution {\n",
    "public:\n",
    "    int change(int amount, vector<int>& coins) {\n",
    "        vector<int> dp(amount + 1, 0);\n",
    "        dp[0] = 1;\n",
    "        \n",
    "        for (int c : coins) {\n",
    "            if (c > amount) {\n",
    "                continue;\n",
    "            }\n",
    "            \n",
    "            vector<int> new_dp(amount + 1, 0);\n",
    "            for (int idx=0; idx<=amount; idx++) {\n",
    "                int k = 0;\n",
    "                while (idx + k * c <= amount) {\n",
    "                    new_dp[idx + k * c] += dp[idx];\n",
    "                    k++;\n",
    "                }\n",
    "            }\n",
    "            dp = new_dp;\n",
    "        }\n",
    "        return dp[amount];\n",
    "    }\n",
    "};"
   ]
  },
  {
   "cell_type": "markdown",
   "metadata": {},
   "source": [
    "## Attempt 5 - Accepted"
   ]
  },
  {
   "cell_type": "code",
   "execution_count": null,
   "metadata": {},
   "outputs": [],
   "source": [
    "class Solution:\n",
    "    def change(self, amount: int, coins: List[int]) -> int:\n",
    "        coins = [c for c in coins if c <= amount]\n",
    "\n",
    "        dp = [0 for _ in range(amount + 1)]\n",
    "        dp[0] = 1\n",
    "\n",
    "        for c in coins:\n",
    "            new_dp = list(dp)\n",
    "            for idx in range(amount + 1):\n",
    "                for mul in range(1, amount + 1):\n",
    "                    if idx + mul * c > amount:\n",
    "                        break\n",
    "                    new_dp[idx + mul * c] += dp[idx]\n",
    "            dp = new_dp\n",
    "        return dp[amount]"
   ]
  },
  {
   "cell_type": "markdown",
   "metadata": {},
   "source": [
    "## Attempt 6 - a different iteration from Attempt 5: note how new_dp is updated"
   ]
  },
  {
   "cell_type": "code",
   "execution_count": null,
   "metadata": {},
   "outputs": [],
   "source": [
    "class Solution:\n",
    "    def change(self, amount: int, coins: List[int]) -> int:\n",
    "        dp = [0 for _ in range(amount + 1)]\n",
    "        dp[0] = 1\n",
    "        coins = sorted(coins)\n",
    "\n",
    "        for coin in coins:\n",
    "            new_dp = [elem for elem in dp]\n",
    "            for idx in range(1, amount + 1):\n",
    "                if idx - coin >= 0:\n",
    "                    new_dp[idx] += new_dp[idx - coin]\n",
    "            dp = new_dp\n",
    "            print(dp)\n",
    "        return dp[-1]"
   ]
  },
  {
   "cell_type": "markdown",
   "metadata": {},
   "source": [
    "## Lessons and Thoughts\n",
    "- Essentially the same question as Problem 39, but asks to output different things: if it only need the total number of combinations, DP is usually the choice of algo.\n",
    "- Be careful with these combination problems, where there may be different definitions of duplicates.\n",
    "- The accepted algo is from [here](https://www.cnblogs.com/grandyang/p/7669088.html). The improvement is to recognize that making use of the same row result can avoid having to loop and calculate how many coins it currently needs.\n",
    "\n",
    "- The C++ implementation uses a ~double-sequence DP. Seems pretty efficient~. No longer classified as double-sequence DP, and time complexity is $O(n^2)$.\n",
    "- It would seem that even though this problem was visited in Jan 2022, it still imposed a large obstacle in Mar, when you were interviewing with DE Shaw."
   ]
  }
 ],
 "metadata": {
  "kernelspec": {
   "display_name": "Python 3 (ipykernel)",
   "language": "python",
   "name": "python3"
  },
  "language_info": {
   "codemirror_mode": {
    "name": "ipython",
    "version": 3
   },
   "file_extension": ".py",
   "mimetype": "text/x-python",
   "name": "python",
   "nbconvert_exporter": "python",
   "pygments_lexer": "ipython3",
   "version": "3.9.7"
  }
 },
 "nbformat": 4,
 "nbformat_minor": 2
}
