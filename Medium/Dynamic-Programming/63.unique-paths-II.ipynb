{
 "cells": [
  {
   "cell_type": "markdown",
   "metadata": {},
   "source": [
    "## Attempt 1 - Runtime Error"
   ]
  },
  {
   "cell_type": "code",
   "execution_count": null,
   "metadata": {},
   "outputs": [],
   "source": [
    "class Solution:\n",
    "    def uniquePathsWithObstacles(self, obstacleGrid: List[List[int]]) -> int:\n",
    "        if len(obstacleGrid)<1:\n",
    "            return 0\n",
    "        if len(obstacleGrid)==1:\n",
    "            if sum(obstacleGrid[0])>0:\n",
    "                return 0\n",
    "            else:\n",
    "                return 1\n",
    "        if len(obstacleGrid[0])==1:\n",
    "            s=0\n",
    "            for r in range(len(obstacleGrid)):\n",
    "                s+=obstacleGrid[r][0]\n",
    "            if s>0:\n",
    "                return 0\n",
    "            else:\n",
    "                return 1\n",
    "        \n",
    "        rows=len(obstacleGrid)\n",
    "        cols=len(obstacleGrid[0])\n",
    "        matrix=[[None for r in rows] for c in cols] ## --> typo, should be range(rows); also rows and cols are reversed\n",
    "        cumsum=0\n",
    "        for r in range(rows):\n",
    "            cumsum+=obstacleGrid[r][0]\n",
    "            if cumsum>0:\n",
    "                matrix[r][0]=0\n",
    "            else:\n",
    "                matrix[r][0]=1\n",
    "        cumsum=0\n",
    "        for c in range(cols):\n",
    "            cumsum+=obstacleGrid[0][c]\n",
    "            if cumsum>0:\n",
    "                matrix[0][c]=0\n",
    "            else:\n",
    "                matrix[0][c]=1\n",
    "        \n",
    "        for r in range(1, rows):\n",
    "            for c in range(1, cols):\n",
    "                if obstacleGrid[r][c]>0:\n",
    "                    matrix[r][c]=0\n",
    "                else:\n",
    "                    matrix[r][c]=matrix[r-1][c]+matrix[r][c-1]\n",
    "        \n",
    "        return matrix[-1][-1]"
   ]
  },
  {
   "cell_type": "markdown",
   "metadata": {},
   "source": [
    "## Attempt 2 - Accepted"
   ]
  },
  {
   "cell_type": "code",
   "execution_count": null,
   "metadata": {},
   "outputs": [],
   "source": [
    "class Solution:\n",
    "    def uniquePathsWithObstacles(self, obstacleGrid: List[List[int]]) -> int:\n",
    "        if len(obstacleGrid)<1:\n",
    "            return 0\n",
    "        if len(obstacleGrid)==1:\n",
    "            if sum(obstacleGrid[0])>0:\n",
    "                return 0\n",
    "            else:\n",
    "                return 1\n",
    "        if len(obstacleGrid[0])==1:\n",
    "            s=0\n",
    "            for r in range(len(obstacleGrid)):\n",
    "                s+=obstacleGrid[r][0]\n",
    "            if s>0:\n",
    "                return 0\n",
    "            else:\n",
    "                return 1\n",
    "        \n",
    "        rows=len(obstacleGrid)\n",
    "        cols=len(obstacleGrid[0])\n",
    "        matrix=[[None for c in range(cols)] for c in range(rows)]\n",
    "        cumsum=0\n",
    "        for r in range(rows):\n",
    "            cumsum+=obstacleGrid[r][0]\n",
    "            if cumsum>0:\n",
    "                matrix[r][0]=0\n",
    "            else:\n",
    "                matrix[r][0]=1\n",
    "        cumsum=0\n",
    "        for c in range(cols):\n",
    "            cumsum+=obstacleGrid[0][c]\n",
    "            if cumsum>0:\n",
    "                matrix[0][c]=0\n",
    "            else:\n",
    "                matrix[0][c]=1\n",
    "        \n",
    "        for r in range(1, rows):\n",
    "            for c in range(1, cols):\n",
    "                if obstacleGrid[r][c]>0:\n",
    "                    matrix[r][c]=0\n",
    "                else:\n",
    "                    matrix[r][c]=matrix[r-1][c]+matrix[r][c-1]\n",
    "        \n",
    "        return matrix[-1][-1]"
   ]
  },
  {
   "cell_type": "markdown",
   "metadata": {},
   "source": [
    "## Lessons and Thoughts\n",
    "- You were in a rush, thus went without runnin the algo in your head"
   ]
  }
 ],
 "metadata": {
  "kernelspec": {
   "display_name": "Python 3",
   "language": "python",
   "name": "python3"
  },
  "language_info": {
   "codemirror_mode": {
    "name": "ipython",
    "version": 3
   },
   "file_extension": ".py",
   "mimetype": "text/x-python",
   "name": "python",
   "nbconvert_exporter": "python",
   "pygments_lexer": "ipython3",
   "version": "3.7.3"
  }
 },
 "nbformat": 4,
 "nbformat_minor": 2
}
