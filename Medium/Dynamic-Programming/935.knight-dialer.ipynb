{
 "cells": [
  {
   "cell_type": "markdown",
   "metadata": {},
   "source": [
    "## Attempt 1 - Accepted"
   ]
  },
  {
   "cell_type": "code",
   "execution_count": null,
   "metadata": {},
   "outputs": [],
   "source": [
    "class Solution:\n",
    "    def knightDialer(self, n: int) -> int:\n",
    "        mod=10**9+7\n",
    "        def inner(n,mod=mod):\n",
    "            res={k:1 for k in range(10)} \n",
    "            moves={\n",
    "                1:[6,8], 2:[7,9], 3:[4,8], 4:[3,9,0], 5:[], 6: [1,7,0], 7:[2,6], 8:[1,3], 9:[2,4], 0:[4,6]\n",
    "            }\n",
    "            for _ in range(1,n):\n",
    "                nexxt={k:0 for k in range(10)}\n",
    "                for k in range(10):\n",
    "                    move=moves[k]\n",
    "                    for m in move:\n",
    "                        nexxt[m]+=res[k]\n",
    "                        nexxt[m]=nexxt[m]%mod\n",
    "                res=nexxt\n",
    "            return res\n",
    "        res=inner(n)\n",
    "        return sum(res.values())%mod"
   ]
  },
  {
   "cell_type": "markdown",
   "metadata": {},
   "source": [
    "## Lessons and Thoughts\n",
    "- When the problem is just asking for the number of all results, try not to record/list."
   ]
  }
 ],
 "metadata": {
  "kernelspec": {
   "display_name": "Python 3",
   "language": "python",
   "name": "python3"
  },
  "language_info": {
   "codemirror_mode": {
    "name": "ipython",
    "version": 3
   },
   "file_extension": ".py",
   "mimetype": "text/x-python",
   "name": "python",
   "nbconvert_exporter": "python",
   "pygments_lexer": "ipython3",
   "version": "3.7.3"
  }
 },
 "nbformat": 4,
 "nbformat_minor": 2
}
