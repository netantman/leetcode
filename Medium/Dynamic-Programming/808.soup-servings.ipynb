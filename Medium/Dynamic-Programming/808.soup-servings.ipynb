{
 "cells": [
  {
   "cell_type": "markdown",
   "metadata": {},
   "source": [
    "## Attempt 1 - Time Limit Exceeded"
   ]
  },
  {
   "cell_type": "code",
   "execution_count": null,
   "metadata": {},
   "outputs": [],
   "source": [
    "class Solution:\n",
    "    def soupServings(self, N: int) -> float:\n",
    "        L=N//25+1 if N%25>0 else N//25\n",
    "        res=dict()\n",
    "        res[0,0]=0.5\n",
    "        for l in range(1,L+1):\n",
    "            res[l,0]=0.0\n",
    "            res[0,l]=1.0\n",
    "        for m in range(1,L+1):\n",
    "            for n in range(1,L+1):\n",
    "                res[m,n]=0.25*(res[max([m-4,0]),n]+res[max([m-3,0]),max([n-1,0])]+res[max([m-2,0]),max(n-2,0)]+res[max(m-1,0),max(n-3,0)])\n",
    "        return res[L,L]"
   ]
  },
  {
   "cell_type": "markdown",
   "metadata": {},
   "source": [
    "## Attempt 2 - Accepted"
   ]
  },
  {
   "cell_type": "code",
   "execution_count": null,
   "metadata": {},
   "outputs": [],
   "source": [
    "class Solution:\n",
    "    def soupServings(self, N: int) -> float:\n",
    "        if N>=10000:\n",
    "            return 1.0\n",
    "        L=N//25+1 if N%25>0 else N//25\n",
    "        res=dict()\n",
    "        res[0,0]=0.5\n",
    "        for l in range(1,L+1):\n",
    "            res[l,0]=0.0\n",
    "            res[0,l]=1.0\n",
    "        for m in range(1,L+1):\n",
    "            for n in range(1,L+1):\n",
    "                res[m,n]=0.25*(res[max([m-4,0]),n]+res[max([m-3,0]),max([n-1,0])]+res[max([m-2,0]),max(n-2,0)]+res[max(m-1,0),max(n-3,0)])\n",
    "        return res[L,L]"
   ]
  },
  {
   "cell_type": "markdown",
   "metadata": {},
   "source": [
    "## Lessons and Thoughts\n",
    "- The optimization is from the leetcode app. It is not a different algo per se, but to recognize the fact that as `N` becomes large, the probability is virtually $1.0$."
   ]
  }
 ],
 "metadata": {
  "kernelspec": {
   "display_name": "Python 3",
   "language": "python",
   "name": "python3"
  },
  "language_info": {
   "codemirror_mode": {
    "name": "ipython",
    "version": 3
   },
   "file_extension": ".py",
   "mimetype": "text/x-python",
   "name": "python",
   "nbconvert_exporter": "python",
   "pygments_lexer": "ipython3",
   "version": "3.7.3"
  }
 },
 "nbformat": 4,
 "nbformat_minor": 2
}
