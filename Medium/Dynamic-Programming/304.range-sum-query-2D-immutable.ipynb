{
 "cells": [
  {
   "cell_type": "markdown",
   "metadata": {},
   "source": [
    "## Attempt 1 - Time Limit Exceeded"
   ]
  },
  {
   "cell_type": "code",
   "execution_count": null,
   "metadata": {},
   "outputs": [],
   "source": [
    "class NumMatrix:\n",
    "\n",
    "    def __init__(self, matrix: List[List[int]]):\n",
    "        if len(matrix)<1 or len(matrix[0])<1:\n",
    "            self.sums=None\n",
    "        else:\n",
    "            numRows=len(matrix)\n",
    "            numCols=len(matrix[0])\n",
    "            self.sums=[[None for c in range(numCols)] for r in range(numRows)]\n",
    "            for r in range(numRows):\n",
    "                for c in range(numCols):\n",
    "                    self.sums[r][c]=sum([sum([ matrix[rr][cc] for cc in range(c+1)]) for rr in range(r+1)])\n",
    "\n",
    "    def sumRegion(self, row1: int, col1: int, row2: int, col2: int) -> int:\n",
    "        if self.sums is None:\n",
    "            return 0\n",
    "        else:\n",
    "            if row1==0 and col1==0:\n",
    "                return self.sums[row2][col2]\n",
    "            elif row1==0:\n",
    "                return self.sums[row2][col2]-self.sums[row2][col1-1]\n",
    "            elif col1==0:\n",
    "                return self.sums[row2][col2]-self.sums[row1-1][col2]\n",
    "            else:\n",
    "                return self.sums[row2][col2]-self.sums[row2][col1-1]-self.sums[row1-1][col2]+self.sums[row1-1][col1-1]\n",
    "\n",
    "\n",
    "# Your NumMatrix object will be instantiated and called as such:\n",
    "# obj = NumMatrix(matrix)\n",
    "# param_1 = obj.sumRegion(row1,col1,row2,col2)"
   ]
  },
  {
   "cell_type": "markdown",
   "metadata": {},
   "source": [
    "## Attempt 2 - Accepted"
   ]
  },
  {
   "cell_type": "code",
   "execution_count": null,
   "metadata": {},
   "outputs": [],
   "source": [
    "class NumMatrix:\n",
    "\n",
    "    def __init__(self, matrix: List[List[int]]):\n",
    "        if len(matrix)<1 or len(matrix[0])<1:\n",
    "            self.sums=None\n",
    "        else:\n",
    "            numRows=len(matrix)\n",
    "            numCols=len(matrix[0])\n",
    "            self.sums=[[None for c in range(numCols)] for r in range(numRows)]\n",
    "            for r in range(numRows):\n",
    "                for c in range(numCols):\n",
    "                     self.sums[r][c]=sum([ matrix[r][cc] for cc in range(c+1)])\n",
    "        # self.cache=dict()\n",
    "\n",
    "    def sumRegion(self, row1: int, col1: int, row2: int, col2: int) -> int:\n",
    "        if self.sums is None:\n",
    "            return 0\n",
    "        else:\n",
    "            # if (row1, col1, row2, col2) in cache:\n",
    "            #     return cache[(row1, col1, row2, col2)]\n",
    "            res=0\n",
    "            if col1==0:\n",
    "                for r in range(row1, row2+1):\n",
    "                    res+=self.sums[r][col2]\n",
    "            else:\n",
    "                for r in range(row1, row2+1):\n",
    "                    res+=(self.sums[r][col2]-self.sums[r][col1-1])\n",
    "            # cache[(row1, col1, row2, col2)]=res\n",
    "            return res\n",
    "\n",
    "\n",
    "# Your NumMatrix object will be instantiated and called as such:\n",
    "# obj = NumMatrix(matrix)\n",
    "# param_1 = obj.sumRegion(row1,col1,row2,col2)"
   ]
  },
  {
   "cell_type": "markdown",
   "metadata": {},
   "source": [
    "## Lessons and Thoughts\n",
    "- The accepted solution is from [leetcode solution](https://leetcode.com/problems/range-sum-query-2d-immutable/solution/). It is just caching each row, rather than a matrix. So each result is just one operation rather than three."
   ]
  }
 ],
 "metadata": {
  "kernelspec": {
   "display_name": "Python 3",
   "language": "python",
   "name": "python3"
  },
  "language_info": {
   "codemirror_mode": {
    "name": "ipython",
    "version": 3
   },
   "file_extension": ".py",
   "mimetype": "text/x-python",
   "name": "python",
   "nbconvert_exporter": "python",
   "pygments_lexer": "ipython3",
   "version": "3.7.3"
  }
 },
 "nbformat": 4,
 "nbformat_minor": 2
}
