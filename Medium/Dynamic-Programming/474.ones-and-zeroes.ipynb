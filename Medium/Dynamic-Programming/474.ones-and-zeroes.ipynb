{
 "cells": [
  {
   "cell_type": "markdown",
   "metadata": {},
   "source": [
    "## Attempt 1 - Time Limit Exceeded"
   ]
  },
  {
   "cell_type": "code",
   "execution_count": null,
   "metadata": {},
   "outputs": [],
   "source": [
    "class Solution:\n",
    "    def findMaxForm(self, strs: List[str], m: int, n: int) -> int:\n",
    "        def count(s):\n",
    "            ones, zeros=0,0\n",
    "            for c in s:\n",
    "                if c==\"0\":\n",
    "                    zeros+=1\n",
    "                else:\n",
    "                    ones+=1\n",
    "            return zeros, ones\n",
    "\n",
    "        cache=dict()\n",
    "        def inner(strs,m,n,cache):\n",
    "            if tuple(strs+[m]+[n]) in cache:\n",
    "                return cache[tuple(strs+[m]+[n])]\n",
    "            if len(strs)==1:\n",
    "                z,o=count(strs[0])\n",
    "                if z<=m and o<=n:\n",
    "                    cache[tuple(strs+[m]+[n])]=1\n",
    "                    return 1\n",
    "                else:\n",
    "                    cache[tuple(strs+[m]+[n])]=0\n",
    "                    return 0\n",
    "            else:\n",
    "                last=strs[-1]\n",
    "                new_strs=strs[:-1]\n",
    "                z,o=count(last)\n",
    "                if z>m or o>n:\n",
    "                    prev=inner(new_strs,m,n,cache)\n",
    "                    cache[tuple(strs+[m]+[n])]=prev\n",
    "                    return prev\n",
    "                else:\n",
    "                    prev1=inner(new_strs,m-z,n-o,cache)+1\n",
    "                    prev2=inner(new_strs,m,n,cache)\n",
    "                    res=max(prev1, prev2)\n",
    "                    cache[tuple(strs+[m]+[n])]=res\n",
    "                    return res\n",
    "        \n",
    "        res=inner(strs,m,n,cache)\n",
    "        return res"
   ]
  },
  {
   "cell_type": "markdown",
   "metadata": {},
   "source": [
    "## Attempt 2 - Accepted"
   ]
  },
  {
   "cell_type": "code",
   "execution_count": null,
   "metadata": {},
   "outputs": [],
   "source": [
    "class Solution:\n",
    "    def findMaxForm(self, strs: List[str], m: int, n: int) -> int:\n",
    "        def count(s):\n",
    "            ones, zeros=0,0\n",
    "            for c in s:\n",
    "                if c==\"0\":\n",
    "                    zeros+=1\n",
    "                else:\n",
    "                    ones+=1\n",
    "            return zeros, ones\n",
    "        \n",
    "        L=len(strs)\n",
    "        if L==0:\n",
    "            return 0\n",
    "        z,o=count(strs[0])\n",
    "        if L==1:\n",
    "            if z<=m and o<=n:\n",
    "                return 1\n",
    "            else:\n",
    "                return 0\n",
    "        \n",
    "        dp=dict()\n",
    "        for i in range(m+1):\n",
    "            for j in range(n+1):\n",
    "                if i>=z and j>=o:\n",
    "                    dp[(i,j)]=1\n",
    "                else:\n",
    "                    dp[(i,j)]=0\n",
    "        \n",
    "        for idx in range(1,L):\n",
    "            s=strs[idx]\n",
    "            z,o=count(s)\n",
    "            for i in range(m,z-1,-1):\n",
    "                for j in range(n,o-1,-1):\n",
    "                    dp[(i,j)]=max(dp[(i,j)], dp[(i-z, j-o)]+1)\n",
    "        \n",
    "        return dp[(m,n)]"
   ]
  },
  {
   "cell_type": "markdown",
   "metadata": {},
   "source": [
    "## Lessons and Thoughts\n",
    "- The accepted algo is from [here](https://www.cnblogs.com/grandyang/p/6188893.html). \n",
    "- The constraint that the length of `strs` is less than 600 makes it worthwhile to at least try recursion. The DP that is accepted is actually quite similar to Attempt 1, but one needs to iterate over `m` and `n` as well.\n",
    "- Can we not just loop over the words and simply check if it has less than `m` zeros and `n` ones?"
   ]
  }
 ],
 "metadata": {
  "kernelspec": {
   "display_name": "Python 3",
   "language": "python",
   "name": "python3"
  },
  "language_info": {
   "codemirror_mode": {
    "name": "ipython",
    "version": 3
   },
   "file_extension": ".py",
   "mimetype": "text/x-python",
   "name": "python",
   "nbconvert_exporter": "python",
   "pygments_lexer": "ipython3",
   "version": "3.7.3"
  }
 },
 "nbformat": 4,
 "nbformat_minor": 2
}
