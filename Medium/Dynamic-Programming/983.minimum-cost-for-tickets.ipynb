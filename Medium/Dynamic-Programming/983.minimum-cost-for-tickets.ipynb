{
 "cells": [
  {
   "cell_type": "markdown",
   "metadata": {},
   "source": [
    "## Attempt 1 - Accepted"
   ]
  },
  {
   "cell_type": "code",
   "execution_count": null,
   "metadata": {},
   "outputs": [],
   "source": [
    "class Solution:\n",
    "    def mincostTickets(self, days: List[int], costs: List[int]) -> int:\n",
    "        dp=[0]+[None for _ in days]\n",
    "        L=len(days)\n",
    "        dp[1]=min(costs)\n",
    "        for idx in range(2,L+1):\n",
    "            sub=days[-idx:]\n",
    "            dp[idx]=min(costs[0]+dp[len([x for x in sub if x>=sub[0]+1])], costs[1]+dp[len([x for x in sub if x>=sub[0]+7])], costs[2]+dp[len([x for x in sub if x>=sub[0]+30])])\n",
    "        return dp[-1]"
   ]
  },
  {
   "cell_type": "markdown",
   "metadata": {},
   "source": [
    "## Lessons and Thoughts\n",
    "- Usual DP on one-dimensional array."
   ]
  }
 ],
 "metadata": {
  "kernelspec": {
   "display_name": "Python 3",
   "language": "python",
   "name": "python3"
  },
  "language_info": {
   "codemirror_mode": {
    "name": "ipython",
    "version": 3
   },
   "file_extension": ".py",
   "mimetype": "text/x-python",
   "name": "python",
   "nbconvert_exporter": "python",
   "pygments_lexer": "ipython3",
   "version": "3.7.3"
  }
 },
 "nbformat": 4,
 "nbformat_minor": 2
}
