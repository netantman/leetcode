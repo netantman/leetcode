{
 "cells": [
  {
   "cell_type": "markdown",
   "metadata": {},
   "source": [
    "## Attempt 1 - Accepted"
   ]
  },
  {
   "cell_type": "code",
   "execution_count": null,
   "metadata": {},
   "outputs": [],
   "source": [
    "class Solution:\n",
    "    def PredictTheWinner(self, nums: List[int]) -> bool:\n",
    "        \n",
    "        def inner(s1, s2, start, end, cache):\n",
    "            if (s1, s2, start, end) in cache:\n",
    "                return cache[(s1, s2, start, end)]\n",
    "            if start==end-1:\n",
    "                if s1+nums[start]>=s2:\n",
    "                    res=True\n",
    "                else:\n",
    "                    res=False\n",
    "            elif start==end-2:\n",
    "                if s1+max(nums[start], nums[end-1])>=s2+min(nums[start], nums[end-1]):\n",
    "                    res=True\n",
    "                else:\n",
    "                    res=False\n",
    "            else:\n",
    "                prev1=inner(s2, s1+nums[start], start+1, end, cache)\n",
    "                prev2=inner(s2, s1+nums[end-1], start, end-1, cache)\n",
    "                if prev1 and prev2:\n",
    "                    res=False\n",
    "                else:\n",
    "                    res=True\n",
    "            cache[(s1, s2, start, end)]=res\n",
    "            return res\n",
    "        \n",
    "        cache=dict()\n",
    "        res=inner(0,0,0,len(nums),cache)\n",
    "        return res"
   ]
  },
  {
   "cell_type": "markdown",
   "metadata": {},
   "source": [
    "## Lessons and Thoughts\n",
    "- This is more like Backtracking to me."
   ]
  }
 ],
 "metadata": {
  "kernelspec": {
   "display_name": "Python 3",
   "language": "python",
   "name": "python3"
  },
  "language_info": {
   "codemirror_mode": {
    "name": "ipython",
    "version": 3
   },
   "file_extension": ".py",
   "mimetype": "text/x-python",
   "name": "python",
   "nbconvert_exporter": "python",
   "pygments_lexer": "ipython3",
   "version": "3.7.3"
  }
 },
 "nbformat": 4,
 "nbformat_minor": 2
}
