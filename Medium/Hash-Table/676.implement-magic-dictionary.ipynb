{
 "cells": [
  {
   "cell_type": "markdown",
   "metadata": {},
   "source": [
    "## Attempt 1 - Accepted"
   ]
  },
  {
   "cell_type": "code",
   "execution_count": null,
   "metadata": {},
   "outputs": [],
   "source": [
    "class MagicDictionary(object):\n",
    "    def __init__(self):\n",
    "        self.buckets = collections.defaultdict(list)\n",
    "\n",
    "    def buildDict(self, words):\n",
    "        for word in words:\n",
    "            self.buckets[len(word)].append(word)\n",
    "\n",
    "    def search(self, word):\n",
    "        return any(sum(a!=b for a,b in zip(word, candidate)) == 1\n",
    "                   for candidate in self.buckets[len(word)])"
   ]
  },
  {
   "cell_type": "markdown",
   "metadata": {},
   "source": [
    "## Lessons and Thoughts\n",
    "- The above is from the leetcode app. Brute force with a bit of optimization: track and only search in words with the same length"
   ]
  }
 ],
 "metadata": {
  "kernelspec": {
   "display_name": "Python 3",
   "language": "python",
   "name": "python3"
  },
  "language_info": {
   "codemirror_mode": {
    "name": "ipython",
    "version": 3
   },
   "file_extension": ".py",
   "mimetype": "text/x-python",
   "name": "python",
   "nbconvert_exporter": "python",
   "pygments_lexer": "ipython3",
   "version": "3.7.3"
  }
 },
 "nbformat": 4,
 "nbformat_minor": 2
}
