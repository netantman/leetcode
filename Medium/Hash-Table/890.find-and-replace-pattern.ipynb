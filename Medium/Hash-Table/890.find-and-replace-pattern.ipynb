{
 "cells": [
  {
   "cell_type": "markdown",
   "metadata": {},
   "source": [
    "## Attempt 1 - Accepted"
   ]
  },
  {
   "cell_type": "code",
   "execution_count": null,
   "metadata": {},
   "outputs": [],
   "source": [
    "class Solution:\n",
    "    def findAndReplacePattern(self, words: List[str], pattern: str) -> List[str]:\n",
    "        def match(word, pattern):\n",
    "            if len(word)!=len(pattern):\n",
    "                return False\n",
    "            c1=[None for _ in range(26)]\n",
    "            c2=[None for _ in range(26)]\n",
    "            for w,p in zip(word, pattern):\n",
    "                if c1[ord(w)-ord(\"a\")] is None:\n",
    "                    c1[ord(w)-ord(\"a\")]=p\n",
    "                elif c1[ord(w)-ord(\"a\")]!=p:\n",
    "                    return False\n",
    "                if c2[ord(p)-ord(\"a\")] is None:\n",
    "                    c2[ord(p)-ord(\"a\")]=w\n",
    "                elif c2[ord(p)-ord(\"a\")]!=w:\n",
    "                    return False\n",
    "            return True\n",
    "        \n",
    "        res=[w for w in words if match(w, pattern)]\n",
    "        return res"
   ]
  },
  {
   "cell_type": "markdown",
   "metadata": {},
   "source": [
    "## Lessons and Thoughts\n",
    "- Brute force. Straightforward."
   ]
  }
 ],
 "metadata": {
  "kernelspec": {
   "display_name": "Python 3",
   "language": "python",
   "name": "python3"
  },
  "language_info": {
   "codemirror_mode": {
    "name": "ipython",
    "version": 3
   },
   "file_extension": ".py",
   "mimetype": "text/x-python",
   "name": "python",
   "nbconvert_exporter": "python",
   "pygments_lexer": "ipython3",
   "version": "3.7.3"
  }
 },
 "nbformat": 4,
 "nbformat_minor": 2
}
