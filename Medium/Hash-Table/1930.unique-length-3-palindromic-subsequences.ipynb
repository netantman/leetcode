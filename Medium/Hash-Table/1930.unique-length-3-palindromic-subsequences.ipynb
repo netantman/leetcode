{
 "cells": [
  {
   "cell_type": "markdown",
   "metadata": {},
   "source": [
    "## Attempt 1 - Time Limit Exceeded"
   ]
  },
  {
   "cell_type": "code",
   "execution_count": null,
   "metadata": {},
   "outputs": [],
   "source": [
    "class Solution:\n",
    "    def countPalindromicSubsequence(self, s: str) -> int:\n",
    "        one, two, three = set(), set(), set()\n",
    "        for c in s:\n",
    "            for t in two:\n",
    "                if c == t[0]:\n",
    "                    three.add(t + c) ## --> you can incorporate early stopping\n",
    "            for o in one:\n",
    "                two.add(o + c)\n",
    "            one.add(c)\n",
    "        return len(three)"
   ]
  },
  {
   "cell_type": "markdown",
   "metadata": {},
   "source": [
    "## Attempt 2 - Accepted"
   ]
  },
  {
   "cell_type": "code",
   "execution_count": null,
   "metadata": {},
   "outputs": [],
   "source": [
    "class Solution:\n",
    "    def countPalindromicSubsequence(self, s: str) -> int:\n",
    "        one, two, three = set(), set(), set()\n",
    "        for c in s:\n",
    "            for t in two:\n",
    "                if c == t[0]:\n",
    "                    three.add(t + c)\n",
    "                    if len(three) == 26 * 26:\n",
    "                        return 26 * 26\n",
    "            for o in one:\n",
    "                two.add(o + c)\n",
    "            one.add(c)\n",
    "        return len(three)"
   ]
  },
  {
   "cell_type": "markdown",
   "metadata": {},
   "source": [
    "## Lessons and Thoughts\n",
    "- Early stopping helps the TLE situation."
   ]
  }
 ],
 "metadata": {
  "kernelspec": {
   "display_name": "Python 3",
   "language": "python",
   "name": "python3"
  },
  "language_info": {
   "codemirror_mode": {
    "name": "ipython",
    "version": 3
   },
   "file_extension": ".py",
   "mimetype": "text/x-python",
   "name": "python",
   "nbconvert_exporter": "python",
   "pygments_lexer": "ipython3",
   "version": "3.7.3"
  }
 },
 "nbformat": 4,
 "nbformat_minor": 2
}
