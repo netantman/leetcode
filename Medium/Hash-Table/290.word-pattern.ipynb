{
 "cells": [
  {
   "cell_type": "markdown",
   "metadata": {},
   "source": [
    "## Attempt 1 - Accepted"
   ]
  },
  {
   "cell_type": "code",
   "execution_count": null,
   "metadata": {},
   "outputs": [],
   "source": [
    "class Solution:\n",
    "    def wordPattern(self, pattern: str, s: str) -> bool:\n",
    "        words=s.split(\" \")\n",
    "        L=len(pattern)\n",
    "        if L!=len(words):\n",
    "            return False\n",
    "        cache=dict()\n",
    "        for idx in range(L):\n",
    "            if pattern[idx] in cache:\n",
    "                if cache[pattern[idx]]!=words[idx]:\n",
    "                    return False\n",
    "            else:\n",
    "                if words[idx] in cache.values():\n",
    "                    return False\n",
    "                cache[pattern[idx]]=words[idx]\n",
    "        return True"
   ]
  },
  {
   "cell_type": "markdown",
   "metadata": {},
   "source": [
    "## Lessons and Thoughts\n",
    "- Just make sure it is bijections: the letter and word is one-to-one."
   ]
  }
 ],
 "metadata": {
  "kernelspec": {
   "display_name": "Python 3",
   "language": "python",
   "name": "python3"
  },
  "language_info": {
   "codemirror_mode": {
    "name": "ipython",
    "version": 3
   },
   "file_extension": ".py",
   "mimetype": "text/x-python",
   "name": "python",
   "nbconvert_exporter": "python",
   "pygments_lexer": "ipython3",
   "version": "3.7.3"
  }
 },
 "nbformat": 4,
 "nbformat_minor": 2
}
