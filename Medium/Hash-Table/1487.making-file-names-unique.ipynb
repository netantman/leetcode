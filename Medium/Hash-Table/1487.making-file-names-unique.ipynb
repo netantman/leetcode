{
 "cells": [
  {
   "cell_type": "markdown",
   "metadata": {},
   "source": [
    "## Attempt 1 - Accepted"
   ]
  },
  {
   "cell_type": "code",
   "execution_count": null,
   "metadata": {},
   "outputs": [],
   "source": [
    "class Solution:\n",
    "    def getFolderNames(self, names: List[str]) -> List[str]:\n",
    "        record = set()\n",
    "        res = []\n",
    "        for n in names:\n",
    "            if n not in record:\n",
    "                record.add(n)\n",
    "                res.append(n)\n",
    "                continue\n",
    "            idx = 1\n",
    "            while f\"{n}({idx})\" in record:\n",
    "                idx += 1\n",
    "            record.add(f\"{n}({idx})\")\n",
    "            res.append(f\"{n}({idx})\")\n",
    "        return res"
   ]
  },
  {
   "cell_type": "markdown",
   "metadata": {},
   "source": [
    "## Lessons and Thoughts\n",
    "- Brute force"
   ]
  }
 ],
 "metadata": {
  "kernelspec": {
   "display_name": "Python 3",
   "language": "python",
   "name": "python3"
  },
  "language_info": {
   "codemirror_mode": {
    "name": "ipython",
    "version": 3
   },
   "file_extension": ".py",
   "mimetype": "text/x-python",
   "name": "python",
   "nbconvert_exporter": "python",
   "pygments_lexer": "ipython3",
   "version": "3.7.3"
  }
 },
 "nbformat": 4,
 "nbformat_minor": 2
}
