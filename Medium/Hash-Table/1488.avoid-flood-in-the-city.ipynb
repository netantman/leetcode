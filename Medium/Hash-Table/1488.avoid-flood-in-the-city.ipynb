{
 "cells": [
  {
   "cell_type": "markdown",
   "metadata": {},
   "source": [
    "## Attempt 1 - Wrong Answer"
   ]
  },
  {
   "cell_type": "code",
   "execution_count": null,
   "metadata": {},
   "outputs": [],
   "source": [
    "class Solution:\n",
    "    def avoidFlood(self, rains: List[int]) -> List[int]:\n",
    "        def keep_no_flood(r, fulls, res, dry_days):\n",
    "            res.append(-1)\n",
    "            if r not in fulls:\n",
    "                fulls.add(r)\n",
    "            else:\n",
    "                if not dry_days:\n",
    "                    return False\n",
    "                else:\n",
    "                    head = dry_days.pop(0) ## --> you cannot dry what is not full before\n",
    "                    res[head] = r\n",
    "            return True\n",
    "                    \n",
    "        res = []\n",
    "        fulls, dry_days = set(), []\n",
    "        for idx, r in enumerate(rains):\n",
    "            if (r > 0):\n",
    "                if not keep_no_flood(r, fulls, res, dry_days):\n",
    "                    return []\n",
    "            else:\n",
    "                dry_days.append(idx)\n",
    "                res.append(1)\n",
    "        return res"
   ]
  },
  {
   "cell_type": "markdown",
   "metadata": {},
   "source": [
    "## Attempt 2 - Accepted"
   ]
  },
  {
   "cell_type": "code",
   "execution_count": null,
   "metadata": {},
   "outputs": [],
   "source": [
    "class Solution:\n",
    "    def avoidFlood(self, rains: List[int]) -> List[int]:\n",
    "        def keep_no_flood(r, fulls, res, dry_days, idx):\n",
    "            if r not in fulls:\n",
    "                fulls[r] = idx\n",
    "            else:\n",
    "                prev = fulls[r]\n",
    "                L = len(dry_days)\n",
    "                for d in range(L):\n",
    "                    if dry_days[d] > prev:\n",
    "                        break\n",
    "                else:\n",
    "                    return False\n",
    "                res[dry_days[d]] = r\n",
    "                dry_days.pop(d) ## this will be wrong: dry_days = dry_days[:d] + dry_days[d+1:]\n",
    "                fulls[r] = idx\n",
    "            return True\n",
    "                    \n",
    "        res = [-1 if r > 0 else 1 for r in rains ]\n",
    "        fulls, dry_days = dict(), []\n",
    "        for idx, r in enumerate(rains):\n",
    "            if (r > 0):\n",
    "                if not keep_no_flood(r, fulls, res, dry_days, idx):\n",
    "                    return []\n",
    "            else:\n",
    "                dry_days.append(idx)\n",
    "        return res"
   ]
  },
  {
   "cell_type": "markdown",
   "metadata": {},
   "source": [
    "## Lessons and Thoughts\n",
    "- The edge case missed in Attempt 1 is when dry day happens before two rain days on the same lake.\n",
    "- When you change associative data types in a function, make sure to use inplace method!"
   ]
  }
 ],
 "metadata": {
  "kernelspec": {
   "display_name": "Python 3",
   "language": "python",
   "name": "python3"
  },
  "language_info": {
   "codemirror_mode": {
    "name": "ipython",
    "version": 3
   },
   "file_extension": ".py",
   "mimetype": "text/x-python",
   "name": "python",
   "nbconvert_exporter": "python",
   "pygments_lexer": "ipython3",
   "version": "3.7.3"
  }
 },
 "nbformat": 4,
 "nbformat_minor": 2
}
