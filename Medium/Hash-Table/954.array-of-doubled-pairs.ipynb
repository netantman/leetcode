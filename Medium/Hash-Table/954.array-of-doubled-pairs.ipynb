{
 "cells": [
  {
   "cell_type": "markdown",
   "metadata": {},
   "source": [
    "## Attempt 1 - Wrong Answer"
   ]
  },
  {
   "cell_type": "code",
   "execution_count": null,
   "metadata": {},
   "outputs": [],
   "source": [
    "class Solution:\n",
    "    def canReorderDoubled(self, A: List[int]) -> bool:\n",
    "        cache=dict()\n",
    "        for a in A:\n",
    "            cache[abs(a)]=cache.get(abs(a),[])+[a]\n",
    "        for k in cache.keys():\n",
    "            cache[k]=sorted(cache[k])\n",
    "        while len(cache)>0:\n",
    "            curr=min(cache.keys())\n",
    "            if len(cache[curr])<1:\n",
    "                cache.pop(curr)\n",
    "            elif (2*curr not in cache) or len(cache[2*curr])<len(cache[curr]):\n",
    "                return False\n",
    "            else:\n",
    "                elem=cache[curr].pop(0)\n",
    "                if 2*elem==cache[2*curr][0]: ## --> this is not necessarily true even if the requirement is met\n",
    "                    cache[2*curr].pop(0)\n",
    "                else:\n",
    "                    return False\n",
    "        return True"
   ]
  },
  {
   "cell_type": "markdown",
   "metadata": {},
   "source": [
    "## Attempt 2 - Accepted"
   ]
  },
  {
   "cell_type": "markdown",
   "metadata": {},
   "source": [
    "Just tracking the number of elements is more efficient and easier to debug."
   ]
  },
  {
   "cell_type": "code",
   "execution_count": null,
   "metadata": {},
   "outputs": [],
   "source": [
    "class Solution:\n",
    "    def canReorderDoubled(self, A: List[int]) -> bool:\n",
    "        cache=dict()\n",
    "        for a in A:\n",
    "            cache[a]=cache.get(a,0)+1\n",
    "        while len(cache)>0:\n",
    "            temp=[abs(k) for k in cache.keys()]\n",
    "            curr=min(temp)\n",
    "            if curr==0:\n",
    "                if cache[0]%2>0:\n",
    "                    return False\n",
    "                else:\n",
    "                    cache.pop(0)\n",
    "            else:\n",
    "                if curr in cache:\n",
    "                    if cache[curr]==0:\n",
    "                        cache.pop(curr)\n",
    "                    elif (2*curr not in cache) or cache[2*curr]<cache[curr]:\n",
    "                        return False\n",
    "                    else:\n",
    "                        cache[2*curr]-=cache[curr]\n",
    "                        cache.pop(curr)\n",
    "                if -curr in cache:\n",
    "                    if cache[-curr]==0:\n",
    "                        cache.pop(-curr)\n",
    "                    elif (-2*curr not in cache) or cache[-2*curr]<cache[-curr]:\n",
    "                        return False\n",
    "                    else:\n",
    "                        cache[-2*curr]-=cache[-curr]\n",
    "                        cache.pop(-curr)\n",
    "        return True"
   ]
  },
  {
   "cell_type": "markdown",
   "metadata": {},
   "source": [
    "## Lessons and Thoughts\n",
    "- The idea is to glean from the data the ones with least absolute value - consider absolute value is to deal with the case where there is negative integers in the data.\n",
    "- Zeros is another edge case, and it should be also taken care of."
   ]
  }
 ],
 "metadata": {
  "kernelspec": {
   "display_name": "Python 3",
   "language": "python",
   "name": "python3"
  },
  "language_info": {
   "codemirror_mode": {
    "name": "ipython",
    "version": 3
   },
   "file_extension": ".py",
   "mimetype": "text/x-python",
   "name": "python",
   "nbconvert_exporter": "python",
   "pygments_lexer": "ipython3",
   "version": "3.7.3"
  }
 },
 "nbformat": 4,
 "nbformat_minor": 2
}
