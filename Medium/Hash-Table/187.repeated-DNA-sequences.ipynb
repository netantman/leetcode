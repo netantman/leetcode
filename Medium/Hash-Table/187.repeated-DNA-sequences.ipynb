{
 "cells": [
  {
   "cell_type": "markdown",
   "metadata": {},
   "source": [
    "## Attempt 1 - Memory Limit Exceeded and Wrong Answer"
   ]
  },
  {
   "cell_type": "code",
   "execution_count": null,
   "metadata": {},
   "outputs": [],
   "source": [
    "class Solution:\n",
    "    def findRepeatedDnaSequences(self, s: str) -> List[str]:\n",
    "        cache=set()\n",
    "        res=[]  ## --> you should not double count\n",
    "        idx=0\n",
    "        L=len(s)\n",
    "        while idx+10<=L:\n",
    "            this=s[idx:idx+10]\n",
    "            if this in cache:\n",
    "                res.append(this)\n",
    "            else:\n",
    "                cache.add(this)\n",
    "        ## --> forgot to increment the idx...\n",
    "        return res"
   ]
  },
  {
   "cell_type": "markdown",
   "metadata": {},
   "source": [
    "## Attempt 2 - Accepted"
   ]
  },
  {
   "cell_type": "code",
   "execution_count": null,
   "metadata": {},
   "outputs": [],
   "source": [
    "class Solution:\n",
    "    def findRepeatedDnaSequences(self, s: str) -> List[str]:\n",
    "        cache=set()\n",
    "        res=set()\n",
    "        idx=0\n",
    "        L=len(s)\n",
    "        while idx+10<=L:\n",
    "            this=s[idx:idx+10]\n",
    "            if this in cache:\n",
    "                res.add(this)\n",
    "            else:\n",
    "                cache.add(this)\n",
    "            idx+=1\n",
    "        return list(res)"
   ]
  },
  {
   "cell_type": "markdown",
   "metadata": {},
   "source": [
    "## Lessons and Thoughts\n",
    "- Enough already - stop making infinite loops!\n",
    "- Went too fast and missed an edge case\n",
    "- It is also labeled bit-manipulation on leetcode, which I wonder why."
   ]
  }
 ],
 "metadata": {
  "kernelspec": {
   "display_name": "Python 3",
   "language": "python",
   "name": "python3"
  },
  "language_info": {
   "codemirror_mode": {
    "name": "ipython",
    "version": 3
   },
   "file_extension": ".py",
   "mimetype": "text/x-python",
   "name": "python",
   "nbconvert_exporter": "python",
   "pygments_lexer": "ipython3",
   "version": "3.7.3"
  }
 },
 "nbformat": 4,
 "nbformat_minor": 2
}
