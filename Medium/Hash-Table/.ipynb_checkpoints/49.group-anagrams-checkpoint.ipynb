{
 "cells": [
  {
   "cell_type": "markdown",
   "metadata": {},
   "source": [
    "## Attempt 1 - Accepted"
   ]
  },
  {
   "cell_type": "code",
   "execution_count": null,
   "metadata": {},
   "outputs": [],
   "source": [
    "class Solution:\n",
    "    def groupAnagrams(self, strs: List[str]) -> List[List[str]]:\n",
    "        if len(strs)<1:\n",
    "            return []\n",
    "        if len(strs)==1:\n",
    "            return [strs]\n",
    "        \n",
    "        res=dict()\n",
    "        for s in strs:\n",
    "            sort=tuple(sorted([c for c in s]))\n",
    "            if sort in res:\n",
    "                res[sort].append(s)\n",
    "            else:\n",
    "                res[sort]=[s]\n",
    "        \n",
    "        res=res.values()\n",
    "        return res"
   ]
  },
  {
   "cell_type": "markdown",
   "metadata": {},
   "source": [
    "## Lessons and Thoughts\n",
    "- Questions to ask interviewers:\n",
    "    - Are all strings lower cases? Do I need to be sensitive to that?\n",
    "    - Do I need to care about the order of my output?\n",
    "- `values()` is a method of `dict`, not a data attribute"
   ]
  }
 ],
 "metadata": {
  "kernelspec": {
   "display_name": "Python 3",
   "language": "python",
   "name": "python3"
  },
  "language_info": {
   "codemirror_mode": {
    "name": "ipython",
    "version": 3
   },
   "file_extension": ".py",
   "mimetype": "text/x-python",
   "name": "python",
   "nbconvert_exporter": "python",
   "pygments_lexer": "ipython3",
   "version": "3.7.3"
  }
 },
 "nbformat": 4,
 "nbformat_minor": 2
}
