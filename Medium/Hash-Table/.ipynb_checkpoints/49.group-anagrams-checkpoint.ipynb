{
 "cells": [
  {
   "cell_type": "markdown",
   "metadata": {},
   "source": [
    "## Attempt 1 - Accepted"
   ]
  },
  {
   "cell_type": "code",
   "execution_count": null,
   "metadata": {},
   "outputs": [],
   "source": [
    "class Solution:\n",
    "    def groupAnagrams(self, strs: List[str]) -> List[List[str]]:\n",
    "        if len(strs)<1:\n",
    "            return []\n",
    "        if len(strs)==1:\n",
    "            return [strs]\n",
    "        \n",
    "        res=dict()\n",
    "        for s in strs:\n",
    "            sort=tuple(sorted([c for c in s]))\n",
    "            if sort in res:\n",
    "                res[sort].append(s)\n",
    "            else:\n",
    "                res[sort]=[s]\n",
    "        \n",
    "        res=res.values()\n",
    "        return res"
   ]
  },
  {
   "cell_type": "markdown",
   "metadata": {},
   "source": [
    "## Attempt 2 - Accepted"
   ]
  },
  {
   "cell_type": "code",
   "execution_count": null,
   "metadata": {},
   "outputs": [],
   "source": [
    "map<char, int> mapping = {\n",
    "    {'a', 1}, {'b', 2}, {'c', 3}, {'d', 4}, {'e', 5},\n",
    "    {'f', 6}, {'g', 7}, {'h', 8}, {'i', 9}, {'j', 10},\n",
    "    {'k', 11}, {'l', 12}, {'m', 13}, {'n', 14}, {'o', 15},\n",
    "    {'p', 16}, {'q', 17}, {'r', 18}, {'s', 19}, {'t', 20},\n",
    "    {'u', 21}, {'v', 22}, {'w', 23}, {'x', 24}, {'y', 25},\n",
    "    {'z', 26}, \n",
    "    \n",
    "};\n",
    "\n",
    "class Solution {\n",
    "public:\n",
    "    vector<vector<string>> groupAnagrams(vector<string>& strs) {\n",
    "        map<string, vector<string>> record;\n",
    "        vector<vector<string>> res = {};\n",
    "        \n",
    "        for (string s : strs) {\n",
    "            string key = s;\n",
    "            sort(key.begin(), key.end(), [](char a, char b){return mapping[a] < mapping[b];});\n",
    "            if (record.find(key) != record.end()) {\n",
    "                record[key].push_back(s);\n",
    "            }\n",
    "            else {\n",
    "                vector<string> tmp = {s};\n",
    "                record[key] = tmp;\n",
    "            }\n",
    "        }\n",
    "        \n",
    "        for (auto r : record) {\n",
    "            vector<string> curr = r.second; ## accessing value in a map\n",
    "            res.push_back(curr);\n",
    "        }\n",
    "        \n",
    "        return res;\n",
    "    }\n",
    "};"
   ]
  },
  {
   "cell_type": "markdown",
   "metadata": {},
   "source": [
    "## Lessons and Thoughts\n",
    "- Questions to ask interviewers:\n",
    "    - Are all strings lower cases? Do I need to be sensitive to that?\n",
    "    - Do I need to care about the order of my output?\n",
    "- `values()` is a method of `dict`, not a data attribute"
   ]
  }
 ],
 "metadata": {
  "kernelspec": {
   "display_name": "Python 3",
   "language": "python",
   "name": "python3"
  },
  "language_info": {
   "codemirror_mode": {
    "name": "ipython",
    "version": 3
   },
   "file_extension": ".py",
   "mimetype": "text/x-python",
   "name": "python",
   "nbconvert_exporter": "python",
   "pygments_lexer": "ipython3",
   "version": "3.6.5"
  }
 },
 "nbformat": 4,
 "nbformat_minor": 2
}
