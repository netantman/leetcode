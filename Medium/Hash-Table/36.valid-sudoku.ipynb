{
 "cells": [
  {
   "cell_type": "markdown",
   "metadata": {},
   "source": [
    "## Attempt 1 - Wrong Attributes"
   ]
  },
  {
   "cell_type": "code",
   "execution_count": null,
   "metadata": {},
   "outputs": [],
   "source": [
    "class Solution:\n",
    "    def isValidSudoku(self, board: List[List[str]]) -> bool:\n",
    "        allowed={'1', '2', '3', '4', '5', '6', '7', '8', '9', '.'}\n",
    "        \n",
    "        for row in range(9):\n",
    "            existed={}  ## -> this is an empty dictionary, not set.\n",
    "            to_check=board[row]\n",
    "            for elem in to_check:\n",
    "                if (elem in existed) or (elem not in allowed):\n",
    "                    return False\n",
    "                else:\n",
    "                    if elem != '.':\n",
    "                        existed.add(elem)\n",
    "        \n",
    "        for col in range(9):\n",
    "            existed={}\n",
    "            to_check=[board[row][col] for row in range(9)]\n",
    "            for elem in to_check:\n",
    "                if (elem in existed) or (elem not in allowed):\n",
    "                    return False\n",
    "                else:\n",
    "                    if elem != '.':\n",
    "                        existed.add(elem)\n",
    "                        \n",
    "        selected_rows=[range(3), range(3,6), range(6,9)]\n",
    "        selected_cols=[range(3), range(3,6), range(6,9)]\n",
    "        for rrange in selected_rows:\n",
    "            for crange in selected_cols:\n",
    "                existed={}\n",
    "                to_check=[board[row][col] for row in rrange for col in crange]\n",
    "                for elem in to_check:\n",
    "                    if (elem in existed) or (elem not in allowed):\n",
    "                        return False\n",
    "                    else:\n",
    "                        if elem != '.':\n",
    "                            existed.add(elem)\n",
    "        \n",
    "        return True"
   ]
  },
  {
   "cell_type": "markdown",
   "metadata": {},
   "source": [
    "## Attempt 2 - Accepted"
   ]
  },
  {
   "cell_type": "code",
   "execution_count": null,
   "metadata": {},
   "outputs": [],
   "source": [
    "class Solution:\n",
    "    def isValidSudoku(self, board: List[List[str]]) -> bool:\n",
    "        allowed={'1', '2', '3', '4', '5', '6', '7', '8', '9', '.'}\n",
    "        \n",
    "        for row in range(9):\n",
    "            existed=set()\n",
    "            to_check=board[row]\n",
    "            for elem in to_check:\n",
    "                if (elem in existed) or (elem not in allowed):\n",
    "                    return False\n",
    "                else:\n",
    "                    if elem != '.':\n",
    "                        existed.add(elem)\n",
    "        \n",
    "        for col in range(9):\n",
    "            existed=set()\n",
    "            to_check=[board[row][col] for row in range(9)]\n",
    "            for elem in to_check:\n",
    "                if (elem in existed) or (elem not in allowed):\n",
    "                    return False\n",
    "                else:\n",
    "                    if elem != '.':\n",
    "                        existed.add(elem)\n",
    "                        \n",
    "        selected_rows=[range(3), range(3,6), range(6,9)]\n",
    "        selected_cols=[range(3), range(3,6), range(6,9)]\n",
    "        for rrange in selected_rows:\n",
    "            for crange in selected_cols:\n",
    "                existed=set()\n",
    "                to_check=[board[row][col] for row in rrange for col in crange]\n",
    "                for elem in to_check:\n",
    "                    if (elem in existed) or (elem not in allowed):\n",
    "                        return False\n",
    "                    else:\n",
    "                        if elem != '.':\n",
    "                            existed.add(elem)\n",
    "        \n",
    "        return True"
   ]
  },
  {
   "cell_type": "markdown",
   "metadata": {},
   "source": [
    "## Lessons and Thoughts\n",
    "- Note that `{}` initializes a `dict`, not `set`."
   ]
  }
 ],
 "metadata": {
  "kernelspec": {
   "display_name": "Python 3",
   "language": "python",
   "name": "python3"
  },
  "language_info": {
   "codemirror_mode": {
    "name": "ipython",
    "version": 3
   },
   "file_extension": ".py",
   "mimetype": "text/x-python",
   "name": "python",
   "nbconvert_exporter": "python",
   "pygments_lexer": "ipython3",
   "version": "3.7.3"
  }
 },
 "nbformat": 4,
 "nbformat_minor": 2
}
