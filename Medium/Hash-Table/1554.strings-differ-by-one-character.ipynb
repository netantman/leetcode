{
 "cells": [
  {
   "cell_type": "markdown",
   "metadata": {},
   "source": [
    "## Attempt 1 - Accepted"
   ]
  },
  {
   "cell_type": "code",
   "execution_count": null,
   "metadata": {},
   "outputs": [],
   "source": [
    "class Solution:\n",
    "    def differByOne(self, d: List[str]) -> bool:\n",
    "        record = defaultdict(int)\n",
    "        L = len(d[0])\n",
    "        \n",
    "        for s in d:\n",
    "            s = [c for c in s]\n",
    "            for idx in range(L):\n",
    "                key = [c for c in s]\n",
    "                key[idx] = \"*\"\n",
    "                key = \"\".join(key)\n",
    "                record[key] += 1\n",
    "                if record[key] > 1:\n",
    "                    return True\n",
    "        \n",
    "        return False"
   ]
  },
  {
   "cell_type": "markdown",
   "metadata": {},
   "source": [
    "## Lessons and Thoughts\n",
    "- The idea is just to key the wildcard."
   ]
  }
 ],
 "metadata": {
  "kernelspec": {
   "display_name": "Python 3",
   "language": "python",
   "name": "python3"
  },
  "language_info": {
   "codemirror_mode": {
    "name": "ipython",
    "version": 3
   },
   "file_extension": ".py",
   "mimetype": "text/x-python",
   "name": "python",
   "nbconvert_exporter": "python",
   "pygments_lexer": "ipython3",
   "version": "3.7.3"
  }
 },
 "nbformat": 4,
 "nbformat_minor": 2
}
