{
 "cells": [
  {
   "cell_type": "markdown",
   "metadata": {},
   "source": [
    "## Attempt 1 - Accepted"
   ]
  },
  {
   "cell_type": "code",
   "execution_count": null,
   "metadata": {},
   "outputs": [],
   "source": [
    "class Solution:\n",
    "    def partitionLabels(self, S: str) -> List[int]:\n",
    "        n = len(S)\n",
    "        last_dict = {c: i for i, c in enumerate(S)}\n",
    "        i, ans = 0, []\n",
    "        while i < n:\n",
    "            if last_dict[S[i]] == i:       # 后面再没出现过\n",
    "                ans.append(1)\n",
    "                i += 1\n",
    "            elif last_dict[S[i]] > i:      # 后面出现过\n",
    "                j = last_dict[S[i]]        # 假设段的右端点\n",
    "                m = i + 1\n",
    "                while  m < j:                  # 对假设段遍历\n",
    "                    if last_dict[S[m]] > j:\n",
    "                        j = last_dict[S[m]]    # 有更右的就扩展边界\n",
    "                    m += 1\n",
    "                ans.append(j - i + 1)\n",
    "                i = j + 1                      # 结束了这一段 开始下一段\n",
    "        return ans   "
   ]
  },
  {
   "cell_type": "markdown",
   "metadata": {},
   "source": [
    "## Lessons and Thought\n",
    "- The solution is from leetcode app. The idea is almost greedy brute force."
   ]
  }
 ],
 "metadata": {
  "kernelspec": {
   "display_name": "Python 3",
   "language": "python",
   "name": "python3"
  },
  "language_info": {
   "codemirror_mode": {
    "name": "ipython",
    "version": 3
   },
   "file_extension": ".py",
   "mimetype": "text/x-python",
   "name": "python",
   "nbconvert_exporter": "python",
   "pygments_lexer": "ipython3",
   "version": "3.7.3"
  }
 },
 "nbformat": 4,
 "nbformat_minor": 2
}
