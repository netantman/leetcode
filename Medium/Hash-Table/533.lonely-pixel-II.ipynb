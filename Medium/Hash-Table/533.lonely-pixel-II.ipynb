{
 "cells": [
  {
   "cell_type": "markdown",
   "metadata": {},
   "source": [
    "## Attempt 1 - Accepted"
   ]
  },
  {
   "cell_type": "code",
   "execution_count": null,
   "metadata": {},
   "outputs": [],
   "source": [
    "class Solution:\n",
    "    def findBlackPixel(self, picture: List[List[str]], target: int) -> int:\n",
    "        R, C = len(picture), len(picture[0])\n",
    "        rows = [sum([1 for c in range(C) if picture[r][c] == 'B']) for r in range(R)]\n",
    "        cols = [sum([1 for r in range(R) if picture[r][c] == 'B']) for c in range(C)]\n",
    "        record = defaultdict(set)\n",
    "        for r in range(R):\n",
    "            record[\"\".join(picture[r])].add(r)\n",
    "        \n",
    "        cnt = 0\n",
    "        for r in range(R):\n",
    "            for c in range(C):\n",
    "                if picture[r][c] != \"B\" or rows[r] != target or cols[c] != target:\n",
    "                    continue\n",
    "                \n",
    "                for rr in range(R):\n",
    "                    if picture[rr][c] != \"B\":\n",
    "                        continue\n",
    "                    if r not in record[\"\".join(picture[rr])]:\n",
    "                        break\n",
    "                else:\n",
    "                    cnt += 1\n",
    "        \n",
    "        return cnt"
   ]
  },
  {
   "cell_type": "markdown",
   "metadata": {},
   "source": [
    "## Lessons and Thoughts\n",
    "- Brute force"
   ]
  }
 ],
 "metadata": {
  "kernelspec": {
   "display_name": "Python 3",
   "language": "python",
   "name": "python3"
  },
  "language_info": {
   "codemirror_mode": {
    "name": "ipython",
    "version": 3
   },
   "file_extension": ".py",
   "mimetype": "text/x-python",
   "name": "python",
   "nbconvert_exporter": "python",
   "pygments_lexer": "ipython3",
   "version": "3.7.3"
  }
 },
 "nbformat": 4,
 "nbformat_minor": 2
}
