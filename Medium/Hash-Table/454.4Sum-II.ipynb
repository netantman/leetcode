{
 "cells": [
  {
   "cell_type": "markdown",
   "metadata": {},
   "source": [
    "## Attempt 1 - Accepted"
   ]
  },
  {
   "cell_type": "code",
   "execution_count": null,
   "metadata": {},
   "outputs": [],
   "source": [
    "class Solution:\n",
    "    def fourSumCount(self, A: List[int], B: List[int], C: List[int], D: List[int]) -> int:\n",
    "        L=len(A)\n",
    "        cache1, cache2=dict(),dict()\n",
    "        \n",
    "        for i in range(L):\n",
    "            for j in range(L):\n",
    "                s=A[i]+B[j]\n",
    "                if s in cache1:\n",
    "                    cache1[s]+=1\n",
    "                else:\n",
    "                    cache1[s]=1\n",
    "        for k in range(L):\n",
    "            for l in range(L):\n",
    "                s=C[k]+D[l]\n",
    "                if s in cache2:\n",
    "                    cache2[s]+=1\n",
    "                else:\n",
    "                    cache2[s]=1\n",
    "        \n",
    "        res=0\n",
    "        for idx in cache1.keys():\n",
    "            if -idx in cache2:\n",
    "                res+=cache1[idx]*cache2[-idx]\n",
    "        \n",
    "        return res"
   ]
  },
  {
   "cell_type": "markdown",
   "metadata": {},
   "source": [
    "## Lessons and Thoughts\n",
    "- On leetcode it is also labeled binary-search. Probably if you use an array to cache, to access it is more efficient to use binary-search."
   ]
  }
 ],
 "metadata": {
  "kernelspec": {
   "display_name": "Python 3",
   "language": "python",
   "name": "python3"
  },
  "language_info": {
   "codemirror_mode": {
    "name": "ipython",
    "version": 3
   },
   "file_extension": ".py",
   "mimetype": "text/x-python",
   "name": "python",
   "nbconvert_exporter": "python",
   "pygments_lexer": "ipython3",
   "version": "3.7.3"
  }
 },
 "nbformat": 4,
 "nbformat_minor": 2
}
