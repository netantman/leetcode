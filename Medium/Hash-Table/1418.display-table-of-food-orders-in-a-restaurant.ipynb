{
 "cells": [
  {
   "cell_type": "markdown",
   "metadata": {},
   "source": [
    "## Attempt 1 - Accepted"
   ]
  },
  {
   "cell_type": "code",
   "execution_count": null,
   "metadata": {},
   "outputs": [],
   "source": [
    "class Solution:\n",
    "    def displayTable(self, orders: List[List[str]]) -> List[List[str]]:\n",
    "        record = dict()\n",
    "        all_food = set()\n",
    "        for order in orders:\n",
    "            _, table, food = tuple(order)\n",
    "            table = int(table)\n",
    "            if table not in record:\n",
    "                record[table] = dict()\n",
    "            record[table][food] = record[table].get(food, 0) + 1\n",
    "            all_food.add(food)\n",
    "        all_food = sorted(list(all_food))\n",
    "        \n",
    "        res = []\n",
    "        \n",
    "        for table, foods in record.items():\n",
    "            line = [table]\n",
    "            tmp = [str(foods.get(f, 0)) for f in all_food]\n",
    "            line = line + tmp\n",
    "            res.append(line)\n",
    "        \n",
    "        res = sorted(res, key=lambda x: x[0])\n",
    "        for r in res:\n",
    "            r[0]=str(r[0])\n",
    "        res = [[\"Table\"] + [f for f in all_food]] + res\n",
    "        \n",
    "        return res"
   ]
  },
  {
   "cell_type": "markdown",
   "metadata": {},
   "source": [
    "## Lessons and Thoughts\n",
    "- Brute force using `dict`"
   ]
  }
 ],
 "metadata": {
  "kernelspec": {
   "display_name": "Python 3",
   "language": "python",
   "name": "python3"
  },
  "language_info": {
   "codemirror_mode": {
    "name": "ipython",
    "version": 3
   },
   "file_extension": ".py",
   "mimetype": "text/x-python",
   "name": "python",
   "nbconvert_exporter": "python",
   "pygments_lexer": "ipython3",
   "version": "3.7.3"
  }
 },
 "nbformat": 4,
 "nbformat_minor": 2
}
