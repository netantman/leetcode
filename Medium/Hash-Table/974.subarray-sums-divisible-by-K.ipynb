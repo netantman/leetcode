{
 "cells": [
  {
   "cell_type": "markdown",
   "metadata": {},
   "source": [
    "## Attempt 1 - Accepted"
   ]
  },
  {
   "cell_type": "code",
   "execution_count": null,
   "metadata": {},
   "outputs": [],
   "source": [
    "class Solution:\n",
    "    def subarraysDivByK(self, A: List[int], K: int) -> int:\n",
    "        record={k:[] for k in range(K)}\n",
    "        record[0].append(0)\n",
    "        s=0\n",
    "        for idx, a in enumerate(A):\n",
    "            record[(a+s)%K].append(idx+1)\n",
    "            s+=a\n",
    "        ans=0\n",
    "        for k,rec in record.items():\n",
    "            if len(rec)>=2:\n",
    "                ans+=(len(rec)-1)*len(rec)//2\n",
    "        return ans"
   ]
  },
  {
   "cell_type": "markdown",
   "metadata": {},
   "source": [
    "## Lessons and Thoughts\n",
    "- Cumsum idea for contiguous subarray."
   ]
  }
 ],
 "metadata": {
  "kernelspec": {
   "display_name": "Python 3",
   "language": "python",
   "name": "python3"
  },
  "language_info": {
   "codemirror_mode": {
    "name": "ipython",
    "version": 3
   },
   "file_extension": ".py",
   "mimetype": "text/x-python",
   "name": "python",
   "nbconvert_exporter": "python",
   "pygments_lexer": "ipython3",
   "version": "3.7.3"
  }
 },
 "nbformat": 4,
 "nbformat_minor": 2
}
