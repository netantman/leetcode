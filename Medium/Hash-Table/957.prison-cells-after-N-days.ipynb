{
 "cells": [
  {
   "cell_type": "markdown",
   "metadata": {},
   "source": [
    "## Attempt 1 - Time Limit Exceeded"
   ]
  },
  {
   "cell_type": "code",
   "execution_count": null,
   "metadata": {},
   "outputs": [],
   "source": [
    "class Solution:\n",
    "    def __init__(self):\n",
    "        self.cache=dict()\n",
    "    def prisonAfterNDays(self, cells: List[int], N: int) -> List[int]:\n",
    "        def nexxt(cells):\n",
    "            res=[None for _ in range(8)]\n",
    "            for idx in range(8):\n",
    "                if idx-1<0 or idx+1>=8:\n",
    "                    res[idx]=0\n",
    "                else:\n",
    "                    res[idx]=1 if cells[idx-1]^cells[idx+1]==0 else 0\n",
    "            return res\n",
    "        \n",
    "        for _ in range(N):\n",
    "            if tuple(cells) in self.cache:\n",
    "                cells=self.cache[tuple(cells)]\n",
    "            else:\n",
    "                res=nexxt(cells)\n",
    "                self.cache[tuple(cells)]=res\n",
    "                cells=res\n",
    "        return cells"
   ]
  },
  {
   "cell_type": "markdown",
   "metadata": {},
   "source": [
    "## Attempt 2 - Accepted"
   ]
  },
  {
   "cell_type": "code",
   "execution_count": null,
   "metadata": {},
   "outputs": [],
   "source": [
    "class Solution:\n",
    "    def __init__(self):\n",
    "        self.cache=[]\n",
    "    def prisonAfterNDays(self, cells: List[int], N: int) -> List[int]:\n",
    "        def nexxt(cells):\n",
    "            res=[None for _ in range(8)]\n",
    "            for idx in range(8):\n",
    "                if idx-1<0 or idx+1>=8:\n",
    "                    res[idx]=0\n",
    "                else:\n",
    "                    res[idx]=1 if cells[idx-1]^cells[idx+1]==0 else 0\n",
    "            return res\n",
    "        \n",
    "        idx=None\n",
    "        start=None\n",
    "        for n in range(N):\n",
    "            res=nexxt(cells)\n",
    "            if res in self.cache:\n",
    "                for ix, c in enumerate(self.cache):\n",
    "                    if c==res:\n",
    "                        idx=ix\n",
    "                        break\n",
    "                start=n\n",
    "                break\n",
    "            else:\n",
    "                self.cache.append(res)\n",
    "                cells=res\n",
    "        else:\n",
    "            return cells\n",
    "        \n",
    "        self.cache=self.cache[idx:]\n",
    "        L=len(self.cache)\n",
    "        return self.cache[(N-1-n)%L]"
   ]
  },
  {
   "cell_type": "markdown",
   "metadata": {},
   "source": [
    "## Lessons and Thoughts\n",
    "- It is not enough just to cache the next cells, but also need to make use of the cyclity of the problem."
   ]
  }
 ],
 "metadata": {
  "kernelspec": {
   "display_name": "Python 3",
   "language": "python",
   "name": "python3"
  },
  "language_info": {
   "codemirror_mode": {
    "name": "ipython",
    "version": 3
   },
   "file_extension": ".py",
   "mimetype": "text/x-python",
   "name": "python",
   "nbconvert_exporter": "python",
   "pygments_lexer": "ipython3",
   "version": "3.7.3"
  }
 },
 "nbformat": 4,
 "nbformat_minor": 2
}
