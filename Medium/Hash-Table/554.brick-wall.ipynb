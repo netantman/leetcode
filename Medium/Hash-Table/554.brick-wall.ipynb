{
 "cells": [
  {
   "cell_type": "markdown",
   "metadata": {},
   "source": [
    "## Attempt 1 - Wrong Answer"
   ]
  },
  {
   "cell_type": "code",
   "execution_count": null,
   "metadata": {},
   "outputs": [],
   "source": [
    "class Solution:\n",
    "    def leastBricks(self, wall: List[List[int]]) -> int:\n",
    "        breaks=dict()\n",
    "        if len(wall)<=1:\n",
    "            return 0\n",
    "        rows=len(wall)\n",
    "        for line in wall:\n",
    "            L=len(line) ## --> did not consider the case where there is only one brick in the line\n",
    "            cut=0\n",
    "            for idx in range(L-1):\n",
    "                cut+=line[idx]\n",
    "                if cut in breaks:\n",
    "                    breaks[cut]+=1\n",
    "                else:\n",
    "                    breaks[cut]=1\n",
    "        \n",
    "        maxx=0\n",
    "        for v in breaks.values():\n",
    "            maxx=max(maxx, v)\n",
    "        return rows-maxx"
   ]
  },
  {
   "cell_type": "markdown",
   "metadata": {},
   "source": [
    "## Attempt 2 - Accepted"
   ]
  },
  {
   "cell_type": "code",
   "execution_count": null,
   "metadata": {},
   "outputs": [],
   "source": [
    "class Solution:\n",
    "    def leastBricks(self, wall: List[List[int]]) -> int:\n",
    "        breaks=dict()\n",
    "        if len(wall)<1:\n",
    "            return 0\n",
    "        rows=len(wall)\n",
    "        for line in wall:\n",
    "            L=len(line)\n",
    "            if L==1:\n",
    "                continue\n",
    "            cut=0\n",
    "            for idx in range(L-1):\n",
    "                cut+=line[idx]\n",
    "                if cut in breaks:\n",
    "                    breaks[cut]+=1\n",
    "                else:\n",
    "                    breaks[cut]=1\n",
    "        \n",
    "        maxx=0\n",
    "        for v in breaks.values():\n",
    "            maxx=max(maxx, v)\n",
    "        return rows-maxx"
   ]
  },
  {
   "cell_type": "markdown",
   "metadata": {},
   "source": [
    "## Lessons and Thoughts\n",
    "- Sometimes, do not overthink about the algorithm. Just try the most straightforward one that comes to your mind, and care about about edge cases."
   ]
  }
 ],
 "metadata": {
  "kernelspec": {
   "display_name": "Python 3",
   "language": "python",
   "name": "python3"
  },
  "language_info": {
   "codemirror_mode": {
    "name": "ipython",
    "version": 3
   },
   "file_extension": ".py",
   "mimetype": "text/x-python",
   "name": "python",
   "nbconvert_exporter": "python",
   "pygments_lexer": "ipython3",
   "version": "3.7.3"
  }
 },
 "nbformat": 4,
 "nbformat_minor": 2
}
