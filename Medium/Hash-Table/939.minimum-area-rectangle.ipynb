{
 "cells": [
  {
   "cell_type": "markdown",
   "metadata": {},
   "source": [
    "## Attempt 1 - Accepted"
   ]
  },
  {
   "cell_type": "code",
   "execution_count": null,
   "metadata": {},
   "outputs": [],
   "source": [
    "class Solution:\n",
    "    def minAreaRect(self, points: List[List[int]]) -> int:\n",
    "        columns=dict()\n",
    "        L=len(points)\n",
    "        for i in range(L):\n",
    "            p1=points[i]\n",
    "            for j in range(i+1,L):\n",
    "                p2=points[j]\n",
    "                if p1[0]==p2[0]:\n",
    "                    mmin=min(p1[1], p2[1])\n",
    "                    mmax=max(p1[1], p2[1])\n",
    "                    columns[mmin,mmax]=columns.get((mmin,mmax), [])+[p1[0]]\n",
    "        \n",
    "        if len(columns)<1:\n",
    "            return 0\n",
    "        else:\n",
    "            res=float(\"inf\")\n",
    "            for k,v in columns.items():\n",
    "                one_side=k[1]-k[0]\n",
    "                if len(v)>1:\n",
    "                    v=sorted(v)\n",
    "                    N=len(v)\n",
    "                    other_side=float(\"inf\")\n",
    "                    for idx in range(N-1):\n",
    "                        other_side=min(other_side, v[idx+1]-v[idx])\n",
    "                    res=min(res, one_side*other_side)\n",
    "            return res if res<float(\"inf\") else 0"
   ]
  },
  {
   "cell_type": "markdown",
   "metadata": {},
   "source": [
    "## Lessons and Thoughts\n",
    "- One edge case that you should have thought of (actually given by the problem) is when the points have duplicates."
   ]
  }
 ],
 "metadata": {
  "kernelspec": {
   "display_name": "Python 3",
   "language": "python",
   "name": "python3"
  },
  "language_info": {
   "codemirror_mode": {
    "name": "ipython",
    "version": 3
   },
   "file_extension": ".py",
   "mimetype": "text/x-python",
   "name": "python",
   "nbconvert_exporter": "python",
   "pygments_lexer": "ipython3",
   "version": "3.7.3"
  }
 },
 "nbformat": 4,
 "nbformat_minor": 2
}
