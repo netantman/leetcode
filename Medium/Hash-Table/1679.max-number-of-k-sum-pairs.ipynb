{
 "cells": [
  {
   "cell_type": "markdown",
   "metadata": {},
   "source": [
    "## Attempt 1 - Accepted"
   ]
  },
  {
   "cell_type": "code",
   "execution_count": null,
   "metadata": {},
   "outputs": [],
   "source": [
    "class Solution:\n",
    "    def maxOperations(self, nums: List[int], k: int) -> int:\n",
    "        record = dict()\n",
    "        for n in nums:\n",
    "            record[n] = record.get(n, 0) + 1\n",
    "        cnt = 0\n",
    "        for l in record.keys():\n",
    "            if k != 2 * l:\n",
    "                cnt += min(record[l], record.get(k - l, 0))\n",
    "            else:\n",
    "                cnt += (record[l] // 2) * 2\n",
    "        return cnt // 2"
   ]
  },
  {
   "cell_type": "markdown",
   "metadata": {},
   "source": [
    "## Lessons and Thoughts\n",
    "- Brute force. The edge case is when `k == 2*l`."
   ]
  }
 ],
 "metadata": {
  "kernelspec": {
   "display_name": "Python 3",
   "language": "python",
   "name": "python3"
  },
  "language_info": {
   "codemirror_mode": {
    "name": "ipython",
    "version": 3
   },
   "file_extension": ".py",
   "mimetype": "text/x-python",
   "name": "python",
   "nbconvert_exporter": "python",
   "pygments_lexer": "ipython3",
   "version": "3.7.3"
  }
 },
 "nbformat": 4,
 "nbformat_minor": 2
}
