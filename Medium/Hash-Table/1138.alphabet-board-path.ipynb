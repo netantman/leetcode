{
 "cells": [
  {
   "cell_type": "markdown",
   "metadata": {},
   "source": [
    "## Attempt 1 - Wrong Answer"
   ]
  },
  {
   "cell_type": "code",
   "execution_count": null,
   "metadata": {},
   "outputs": [],
   "source": [
    "class Solution:\n",
    "    def alphabetBoardPath(self, target: str) -> str:\n",
    "        alphabet={\"a\": (0,0), \"b\": (0,1), \"c\": (0,2), \"d\": (0,3), \"e\": (0,4),\n",
    "                  \"f\": (1,0), \"g\": (1,1), \"h\": (1,2), \"i\": (1,3), \"j\": (1,4),\n",
    "                  \"k\": (2,0), \"l\": (2,1), \"m\": (2,2), \"n\": (2,3), \"o\": (2,4),\n",
    "                  \"p\": (3,0), \"q\": (3,1), \"r\": (3,2), \"s\": (3,3), \"t\": (3,4),\n",
    "                  \"u\": (4,0), \"v\": (4,1), \"w\": (4,2), \"x\": (4,3), \"y\": (4,4),\n",
    "                  \"z\": (5,0)\n",
    "                 }\n",
    "        curr=(0,0)\n",
    "        res=\"\"\n",
    "        for ch in target:\n",
    "            r,c=alphabet.get(ch) ## --> z needs to be special cased when moving\n",
    "            if r>curr[0]:\n",
    "                res+=\"D\"*(r-curr[0])\n",
    "            elif r<curr[0]:\n",
    "                res+=\"U\"*(curr[0]-r)\n",
    "            if c>curr[1]:\n",
    "                res+=\"R\"*(c-curr[1])\n",
    "            elif c<curr[1]:\n",
    "                res+=\"L\"*(curr[1]-c) \n",
    "            curr=r,c\n",
    "            res+=\"!\"\n",
    "        return res"
   ]
  },
  {
   "cell_type": "markdown",
   "metadata": {},
   "source": [
    "## Attempt 2 - Accepted"
   ]
  },
  {
   "cell_type": "code",
   "execution_count": null,
   "metadata": {},
   "outputs": [],
   "source": [
    "class Solution:\n",
    "    def alphabetBoardPath(self, target: str) -> str:\n",
    "        alphabet={\"a\": (0,0), \"b\": (0,1), \"c\": (0,2), \"d\": (0,3), \"e\": (0,4),\n",
    "                  \"f\": (1,0), \"g\": (1,1), \"h\": (1,2), \"i\": (1,3), \"j\": (1,4),\n",
    "                  \"k\": (2,0), \"l\": (2,1), \"m\": (2,2), \"n\": (2,3), \"o\": (2,4),\n",
    "                  \"p\": (3,0), \"q\": (3,1), \"r\": (3,2), \"s\": (3,3), \"t\": (3,4),\n",
    "                  \"u\": (4,0), \"v\": (4,1), \"w\": (4,2), \"x\": (4,3), \"y\": (4,4),\n",
    "                  \"z\": (5,0)\n",
    "                 }\n",
    "        curr=(0,0)\n",
    "        res=\"\"\n",
    "        for ch in target:\n",
    "            r,c=alphabet.get(ch)\n",
    "            if curr==(r,c):\n",
    "                res+=\"!\"\n",
    "                continue\n",
    "                \n",
    "            if curr==(5,0):\n",
    "                res+=\"U\"\n",
    "                curr=(4,0)\n",
    "            if ch==\"z\":\n",
    "                r,c=4,0\n",
    "            if r>curr[0]:\n",
    "                res+=\"D\"*(r-curr[0])\n",
    "            elif r<curr[0]:\n",
    "                res+=\"U\"*(curr[0]-r)\n",
    "            if c>curr[1]:\n",
    "                res+=\"R\"*(c-curr[1])\n",
    "            elif c<curr[1]:\n",
    "                res+=\"L\"*(curr[1]-c)\n",
    "            if ch==\"z\":\n",
    "                res+=\"D\"\n",
    "                r,c=5,0\n",
    "            curr=r,c\n",
    "            res+=\"!\"\n",
    "        return res"
   ]
  },
  {
   "cell_type": "markdown",
   "metadata": {},
   "source": [
    "## Lessons and Thoughts\n",
    "- The edge case that is missed is when the path involves \"z\"."
   ]
  }
 ],
 "metadata": {
  "kernelspec": {
   "display_name": "Python 3",
   "language": "python",
   "name": "python3"
  },
  "language_info": {
   "codemirror_mode": {
    "name": "ipython",
    "version": 3
   },
   "file_extension": ".py",
   "mimetype": "text/x-python",
   "name": "python",
   "nbconvert_exporter": "python",
   "pygments_lexer": "ipython3",
   "version": "3.7.3"
  }
 },
 "nbformat": 4,
 "nbformat_minor": 2
}
