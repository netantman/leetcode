{
 "cells": [
  {
   "cell_type": "markdown",
   "metadata": {},
   "source": [
    "## Attempt 1 - Accepted"
   ]
  },
  {
   "cell_type": "code",
   "execution_count": null,
   "metadata": {},
   "outputs": [],
   "source": [
    "class Solution:\n",
    "    def wordSubsets(self, A: List[str], B: List[str]) -> List[str]:\n",
    "        def get_record(word):\n",
    "            res=[0 for _ in range(26)]\n",
    "            for c in word:\n",
    "                res[ord(c)-ord(\"a\")]+=1\n",
    "            return res\n",
    "        \n",
    "        b_records=list(map(get_record, B))\n",
    "        maxx=[max([b[idx] for b in b_records]) for idx in range(26)]\n",
    "        \n",
    "        res=[]\n",
    "        for a in A:\n",
    "            rec=get_record(a)\n",
    "            if all([r>=m for r,m in zip(rec,maxx)]):\n",
    "                res.append(a)\n",
    "        return res"
   ]
  },
  {
   "cell_type": "markdown",
   "metadata": {},
   "source": [
    "## Lessons and Thoughts\n",
    "- Straightforward using lowercase letter cache.\n",
    "- `all` in python."
   ]
  }
 ],
 "metadata": {
  "kernelspec": {
   "display_name": "Python 3",
   "language": "python",
   "name": "python3"
  },
  "language_info": {
   "codemirror_mode": {
    "name": "ipython",
    "version": 3
   },
   "file_extension": ".py",
   "mimetype": "text/x-python",
   "name": "python",
   "nbconvert_exporter": "python",
   "pygments_lexer": "ipython3",
   "version": "3.7.3"
  }
 },
 "nbformat": 4,
 "nbformat_minor": 2
}
