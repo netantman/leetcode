{
 "cells": [
  {
   "cell_type": "markdown",
   "metadata": {},
   "source": [
    "## Attempt 1 - Accepted"
   ]
  },
  {
   "cell_type": "code",
   "execution_count": null,
   "metadata": {},
   "outputs": [],
   "source": [
    "class DetectSquares:\n",
    "\n",
    "    def __init__(self):\n",
    "        self.points = dict()\n",
    "        \n",
    "    def add(self, point: List[int]) -> None:\n",
    "        self.points[tuple(point)] = self.points.get(tuple(point), 0) + 1\n",
    "\n",
    "    def count(self, point: List[int]) -> int:\n",
    "        res = 0\n",
    "        for p, cnt in self.points.items():\n",
    "            r, c = p\n",
    "            if r == point[0] or c == point[1]:\n",
    "                continue\n",
    "            if abs(r - point[0]) != abs(c - point[1]):\n",
    "                continue\n",
    "            s = abs(r - point[0])\n",
    "            res += (cnt * self.points.get((point[0], c), 0) * self.points.get((r, point[1]), 0))\n",
    "        return res            \n",
    "\n",
    "\n",
    "# Your DetectSquares object will be instantiated and called as such:\n",
    "# obj = DetectSquares()\n",
    "# obj.add(point)\n",
    "# param_2 = obj.count(point)"
   ]
  },
  {
   "cell_type": "markdown",
   "metadata": {},
   "source": [
    "## Lessons and Thoughts\n",
    "- It is easier to find the diagonal point."
   ]
  }
 ],
 "metadata": {
  "kernelspec": {
   "display_name": "Python 3",
   "language": "python",
   "name": "python3"
  },
  "language_info": {
   "codemirror_mode": {
    "name": "ipython",
    "version": 3
   },
   "file_extension": ".py",
   "mimetype": "text/x-python",
   "name": "python",
   "nbconvert_exporter": "python",
   "pygments_lexer": "ipython3",
   "version": "3.7.3"
  }
 },
 "nbformat": 4,
 "nbformat_minor": 2
}
