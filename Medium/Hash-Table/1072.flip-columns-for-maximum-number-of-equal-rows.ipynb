{
 "cells": [
  {
   "cell_type": "markdown",
   "metadata": {},
   "source": [
    "## Attempt 1 - Accepted"
   ]
  },
  {
   "cell_type": "code",
   "execution_count": null,
   "metadata": {},
   "outputs": [],
   "source": [
    "class Solution:\n",
    "    def maxEqualRowsAfterFlips(self, matrix: List[List[int]]) -> int:\n",
    "        def flip(row):\n",
    "            return [1-r for r in row]\n",
    "        \n",
    "        record=dict()\n",
    "        for row in matrix:\n",
    "            record[tuple(row)]=record.get(tuple(row),0)+1\n",
    "            record[tuple(flip(row))]=record.get(tuple(flip(row)),0)+1\n",
    "        return max(record.values())"
   ]
  },
  {
   "cell_type": "markdown",
   "metadata": {},
   "source": [
    "## Lessons and Thoughts\n",
    "- The key is to recognize two rows will both be same elements after some flips if they are equal or compliment."
   ]
  }
 ],
 "metadata": {
  "kernelspec": {
   "display_name": "Python 3",
   "language": "python",
   "name": "python3"
  },
  "language_info": {
   "codemirror_mode": {
    "name": "ipython",
    "version": 3
   },
   "file_extension": ".py",
   "mimetype": "text/x-python",
   "name": "python",
   "nbconvert_exporter": "python",
   "pygments_lexer": "ipython3",
   "version": "3.7.3"
  }
 },
 "nbformat": 4,
 "nbformat_minor": 2
}
