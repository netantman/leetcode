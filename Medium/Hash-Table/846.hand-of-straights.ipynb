{
 "cells": [
  {
   "cell_type": "markdown",
   "metadata": {},
   "source": [
    "## Attempt 1 - Accepted"
   ]
  },
  {
   "cell_type": "code",
   "execution_count": null,
   "metadata": {},
   "outputs": [],
   "source": [
    "class Solution:\n",
    "    def isNStraightHand(self, hand: List[int], W: int) -> bool:\n",
    "        if len(hand)%W>0:\n",
    "            return False\n",
    "        \n",
    "        record=dict()\n",
    "        for h in hand:\n",
    "            record[h]=record.get(h,0)+1\n",
    "        \n",
    "        keys=sorted([k for k in record.keys() if record[k]>0])\n",
    "        while len(keys)>0:\n",
    "            head=keys.pop(0)\n",
    "            cnt=record[head]\n",
    "            for w in range(W):\n",
    "                if record.get(head+w, 0)>=cnt:\n",
    "                    record[head+w]-=cnt\n",
    "                else:\n",
    "                    return False\n",
    "            \n",
    "            keys=sorted([k for k in record.keys() if record[k]>0])\n",
    "        return True"
   ]
  },
  {
   "cell_type": "markdown",
   "metadata": {},
   "source": [
    "## Lessons and Thoughts\n",
    "- Very similar to Problem 659.\n",
    "- It is labeled \"ordered map\" on leetcode. An ordered map (also called a linked hash map in Java) is a data structure that allows amortized `O(1)` for access and mutation just like a map, but the elements maintain their order."
   ]
  }
 ],
 "metadata": {
  "kernelspec": {
   "display_name": "Python 3",
   "language": "python",
   "name": "python3"
  },
  "language_info": {
   "codemirror_mode": {
    "name": "ipython",
    "version": 3
   },
   "file_extension": ".py",
   "mimetype": "text/x-python",
   "name": "python",
   "nbconvert_exporter": "python",
   "pygments_lexer": "ipython3",
   "version": "3.7.3"
  }
 },
 "nbformat": 4,
 "nbformat_minor": 2
}
