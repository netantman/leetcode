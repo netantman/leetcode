{
 "cells": [
  {
   "cell_type": "markdown",
   "metadata": {},
   "source": [
    "## Attempt 1 - Accepted"
   ]
  },
  {
   "cell_type": "code",
   "execution_count": null,
   "metadata": {},
   "outputs": [],
   "source": [
    "class Solution:\n",
    "    def spellchecker(self, wordlist: List[str], queries: List[str]) -> List[str]:\n",
    "        exact=dict()\n",
    "        lower=dict()\n",
    "        devowel=dict()\n",
    "        vowels={'a','e','i','o','u'}\n",
    "        for idx in range(len(wordlist)):\n",
    "            w=wordlist[idx]\n",
    "            exact[w]=min(exact.get(w,len(wordlist)), idx)\n",
    "            lower[w.lower()]=min(lower.get(w.lower(),len(wordlist)), idx)\n",
    "            wordlower=\"\".join([c if c not in vowels else \"*\" for c in w.lower()])\n",
    "            devowel[wordlower]=min(devowel.get(wordlower, len(wordlist)), idx)\n",
    "        res=[]\n",
    "        for idx in range(len(queries)):\n",
    "            w=queries[idx]\n",
    "            if w in exact:\n",
    "                res.append(wordlist[exact[w]])\n",
    "            elif w.lower() in lower:\n",
    "                res.append(wordlist[lower[w.lower()]])\n",
    "            else:\n",
    "                wordlower=\"\".join([c if c not in vowels else \"*\" for c in w.lower()])\n",
    "                if wordlower in devowel:\n",
    "                      res.append(wordlist[devowel[wordlower]])\n",
    "                else:\n",
    "                      res.append(\"\")\n",
    "        return res"
   ]
  },
  {
   "cell_type": "markdown",
   "metadata": {},
   "source": [
    "## Lessons and Thoughts\n",
    "- Brute force"
   ]
  }
 ],
 "metadata": {
  "kernelspec": {
   "display_name": "Python 3",
   "language": "python",
   "name": "python3"
  },
  "language_info": {
   "codemirror_mode": {
    "name": "ipython",
    "version": 3
   },
   "file_extension": ".py",
   "mimetype": "text/x-python",
   "name": "python",
   "nbconvert_exporter": "python",
   "pygments_lexer": "ipython3",
   "version": "3.7.3"
  }
 },
 "nbformat": 4,
 "nbformat_minor": 2
}
