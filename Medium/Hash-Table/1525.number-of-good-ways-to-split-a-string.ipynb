{
 "cells": [
  {
   "cell_type": "markdown",
   "metadata": {},
   "source": [
    "## Attempt 1 - Accepted"
   ]
  },
  {
   "cell_type": "code",
   "execution_count": null,
   "metadata": {},
   "outputs": [],
   "source": [
    "class Solution:\n",
    "    def numSplits(self, s: str) -> int:\n",
    "        cnt = 0\n",
    "        front = set()\n",
    "        back = dict()\n",
    "        for c in s:\n",
    "            back[c] = back.get(c, 0) + 1\n",
    "        \n",
    "        for c in s:\n",
    "            back[c] -= 1\n",
    "            if back[c] < 1:\n",
    "                del back[c]\n",
    "            front.add(c)\n",
    "            if len(front) == len(back.keys()):\n",
    "                cnt += 1\n",
    "        \n",
    "        return cnt"
   ]
  },
  {
   "cell_type": "markdown",
   "metadata": {},
   "source": [
    "## Lessons and Thoughts\n",
    "- It was labeled 'Bit Manipulation' on leetcode, but the hash-table approach is straightforward."
   ]
  }
 ],
 "metadata": {
  "kernelspec": {
   "display_name": "Python 3",
   "language": "python",
   "name": "python3"
  },
  "language_info": {
   "codemirror_mode": {
    "name": "ipython",
    "version": 3
   },
   "file_extension": ".py",
   "mimetype": "text/x-python",
   "name": "python",
   "nbconvert_exporter": "python",
   "pygments_lexer": "ipython3",
   "version": "3.7.3"
  }
 },
 "nbformat": 4,
 "nbformat_minor": 2
}
