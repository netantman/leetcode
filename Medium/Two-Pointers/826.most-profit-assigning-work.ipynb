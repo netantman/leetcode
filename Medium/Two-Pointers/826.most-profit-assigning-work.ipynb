{
 "cells": [
  {
   "cell_type": "markdown",
   "metadata": {},
   "source": [
    "## Attempt 1 - Accepted"
   ]
  },
  {
   "cell_type": "code",
   "execution_count": null,
   "metadata": {},
   "outputs": [],
   "source": [
    "class Solution:\n",
    "    def maxProfitAssignment(self, difficulty: List[int], profit: List[int], worker: List[int]) -> int:\n",
    "        worker=sorted(worker)\n",
    "        assignment=sorted(list(zip(difficulty, profit)),key=lambda x:x[0])\n",
    "        a,max_profit=0,0\n",
    "        res=0\n",
    "        for w in worker:\n",
    "            while a<len(assignment) and w>=assignment[a][0]:\n",
    "                max_profit=max(max_profit,assignment[a][1])\n",
    "                a+=1\n",
    "            res+=max_profit\n",
    "        return res"
   ]
  },
  {
   "cell_type": "markdown",
   "metadata": {},
   "source": [
    "## Lessons and Thoughts\n",
    "- For each worker, sorting the assignment and finding the max profit among jobs one can do should be done as a first attempt. The tricky part is to think of two pointers as optimization."
   ]
  }
 ],
 "metadata": {
  "kernelspec": {
   "display_name": "Python 3",
   "language": "python",
   "name": "python3"
  },
  "language_info": {
   "codemirror_mode": {
    "name": "ipython",
    "version": 3
   },
   "file_extension": ".py",
   "mimetype": "text/x-python",
   "name": "python",
   "nbconvert_exporter": "python",
   "pygments_lexer": "ipython3",
   "version": "3.7.3"
  }
 },
 "nbformat": 4,
 "nbformat_minor": 2
}
