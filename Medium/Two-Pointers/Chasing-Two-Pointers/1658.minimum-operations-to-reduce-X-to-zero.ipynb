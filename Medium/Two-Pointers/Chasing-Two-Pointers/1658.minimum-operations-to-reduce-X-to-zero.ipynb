{
 "cells": [
  {
   "cell_type": "markdown",
   "metadata": {},
   "source": [
    "## Attempt 1 - Time Limit Exceeded"
   ]
  },
  {
   "cell_type": "code",
   "execution_count": null,
   "metadata": {},
   "outputs": [],
   "source": [
    "class Solution:\n",
    "    def minOperations(self, nums: List[int], x: int) -> int:        \n",
    "        if sum(nums) < x or min(nums) > x:\n",
    "            return -1\n",
    "        if sum(nums) == x:\n",
    "            return len(nums)\n",
    "        \n",
    "        L = len(nums)\n",
    "        res = L\n",
    "        l, r = 0, L\n",
    "        left = 0\n",
    "        while l < r - 1:\n",
    "            m = (l + r) // 2\n",
    "            if sum(nums[m:]) == x:\n",
    "                right = m\n",
    "                break\n",
    "            if sum(nums[m:]) < x:\n",
    "                r = m\n",
    "            if sum(nums[m:]) > x:\n",
    "                l = m\n",
    "        else:\n",
    "            right = l\n",
    "        \n",
    "        while left < L:\n",
    "            while sum(nums[:left]) + sum(nums[right:]) >= x:\n",
    "                if sum(nums[:left]) + sum(nums[right:]) == x:\n",
    "                    res = min(res, left + L - right)\n",
    "                if right < L:\n",
    "                    right += 1\n",
    "                else:\n",
    "                    break\n",
    "            left += 1\n",
    "        \n",
    "        if res == L:\n",
    "            return -1\n",
    "        return res"
   ]
  },
  {
   "cell_type": "markdown",
   "metadata": {},
   "source": [
    "## Attempt 2 - Accepted"
   ]
  },
  {
   "cell_type": "code",
   "execution_count": null,
   "metadata": {},
   "outputs": [],
   "source": [
    "class Solution:\n",
    "    def minOperations(self, nums: List[int], x: int) -> int:        \n",
    "        if sum(nums) < x or min(nums) > x:\n",
    "            return -1\n",
    "        if sum(nums) == x:\n",
    "            return len(nums)\n",
    "        \n",
    "        L, s = len(nums), sum(nums)\n",
    "        res = L\n",
    "        cumsum = [0]\n",
    "        for n in nums:\n",
    "            cumsum.append(cumsum[-1] + n)\n",
    "        \n",
    "        \n",
    "        l, r = 0, L\n",
    "        left = 0\n",
    "        while l < r - 1:\n",
    "            m = (l + r) // 2\n",
    "            if s - cumsum[m] == x:\n",
    "                right = m\n",
    "                break\n",
    "            if s - cumsum[m] < x:\n",
    "                r = m\n",
    "            if s - cumsum[m] > x:\n",
    "                l = m\n",
    "        else:\n",
    "            right = l\n",
    "        \n",
    "        while left < L:\n",
    "            while cumsum[left] + s - cumsum[right] >= x:\n",
    "                if cumsum[left] + s - cumsum[right] == x:\n",
    "                    res = min(res, left + L - right)\n",
    "                if right < L:\n",
    "                    right += 1\n",
    "                else:\n",
    "                    break\n",
    "            left += 1\n",
    "        \n",
    "        if res == L:\n",
    "            return -1\n",
    "        return res"
   ]
  },
  {
   "cell_type": "markdown",
   "metadata": {},
   "source": [
    "## Attempt 3 - Accepted"
   ]
  },
  {
   "cell_type": "code",
   "execution_count": null,
   "metadata": {},
   "outputs": [],
   "source": [
    "class Solution:\n",
    "    def minOperations(self, nums: List[int], x: int) -> int:\n",
    "        cumsum = [0]\n",
    "        for n in nums:\n",
    "            cumsum.append(cumsum[-1] + n)\n",
    "        if x > cumsum[-1]:\n",
    "            return -1\n",
    "        L = len(nums)\n",
    "        if x == cumsum[-1]:\n",
    "            return L\n",
    "\n",
    "        \n",
    "        s = cumsum[-1]\n",
    "        res = -1\n",
    "        r = 0\n",
    "        for l in range(L):\n",
    "            if r == l:\n",
    "                r += 1\n",
    "            \n",
    "            while (r < L + 1) and (cumsum[r] - cumsum[l] <= s - x):\n",
    "                r += 1\n",
    "            \n",
    "            if cumsum[r - 1] - cumsum[l] == s - x:\n",
    "                res = max(res, r - 1 - l)\n",
    "            # print(l, r)\n",
    "            # print(res)\n",
    "\n",
    "        if res < 0:\n",
    "            return -1\n",
    "        return L - res"
   ]
  },
  {
   "cell_type": "markdown",
   "metadata": {},
   "source": [
    "## Lessons and Thoughts\n",
    "- Probably OK to not think of binary search as optimization in first attempt. But it seems even using that is not enough - you need `cumsum`.\n",
    "- It may not be obvious to think of chasing two pointers approach at the first try; see Attempt 3."
   ]
  }
 ],
 "metadata": {
  "kernelspec": {
   "display_name": "Python 3 (ipykernel)",
   "language": "python",
   "name": "python3"
  },
  "language_info": {
   "codemirror_mode": {
    "name": "ipython",
    "version": 3
   },
   "file_extension": ".py",
   "mimetype": "text/x-python",
   "name": "python",
   "nbconvert_exporter": "python",
   "pygments_lexer": "ipython3",
   "version": "3.9.7"
  }
 },
 "nbformat": 4,
 "nbformat_minor": 2
}
