{
 "cells": [
  {
   "cell_type": "markdown",
   "metadata": {},
   "source": [
    "## Attempt 1 - Time Limit Exceeded"
   ]
  },
  {
   "cell_type": "code",
   "execution_count": null,
   "metadata": {},
   "outputs": [],
   "source": [
    "class Solution:\n",
    "    def minOperations(self, nums: List[int], x: int) -> int:        \n",
    "        if sum(nums) < x or min(nums) > x:\n",
    "            return -1\n",
    "        if sum(nums) == x:\n",
    "            return len(nums)\n",
    "        \n",
    "        L = len(nums)\n",
    "        res = L\n",
    "        l, r = 0, L\n",
    "        left = 0\n",
    "        while l < r - 1:\n",
    "            m = (l + r) // 2\n",
    "            if sum(nums[m:]) == x:\n",
    "                right = m\n",
    "                break\n",
    "            if sum(nums[m:]) < x:\n",
    "                r = m\n",
    "            if sum(nums[m:]) > x:\n",
    "                l = m\n",
    "        else:\n",
    "            right = l\n",
    "        \n",
    "        while left < L:\n",
    "            while sum(nums[:left]) + sum(nums[right:]) >= x:\n",
    "                if sum(nums[:left]) + sum(nums[right:]) == x:\n",
    "                    res = min(res, left + L - right)\n",
    "                if right < L:\n",
    "                    right += 1\n",
    "                else:\n",
    "                    break\n",
    "            left += 1\n",
    "        \n",
    "        if res == L:\n",
    "            return -1\n",
    "        return res"
   ]
  },
  {
   "cell_type": "markdown",
   "metadata": {},
   "source": [
    "## Attempt 2 - Accepted"
   ]
  },
  {
   "cell_type": "code",
   "execution_count": null,
   "metadata": {},
   "outputs": [],
   "source": [
    "class Solution:\n",
    "    def minOperations(self, nums: List[int], x: int) -> int:        \n",
    "        if sum(nums) < x or min(nums) > x:\n",
    "            return -1\n",
    "        if sum(nums) == x:\n",
    "            return len(nums)\n",
    "        \n",
    "        L, s = len(nums), sum(nums)\n",
    "        res = L\n",
    "        cumsum = [0]\n",
    "        for n in nums:\n",
    "            cumsum.append(cumsum[-1] + n)\n",
    "        \n",
    "        \n",
    "        l, r = 0, L\n",
    "        left = 0\n",
    "        while l < r - 1:\n",
    "            m = (l + r) // 2\n",
    "            if s - cumsum[m] == x:\n",
    "                right = m\n",
    "                break\n",
    "            if s - cumsum[m] < x:\n",
    "                r = m\n",
    "            if s - cumsum[m] > x:\n",
    "                l = m\n",
    "        else:\n",
    "            right = l\n",
    "        \n",
    "        while left < L:\n",
    "            while cumsum[left] + s - cumsum[right] >= x:\n",
    "                if cumsum[left] + s - cumsum[right] == x:\n",
    "                    res = min(res, left + L - right)\n",
    "                if right < L:\n",
    "                    right += 1\n",
    "                else:\n",
    "                    break\n",
    "            left += 1\n",
    "        \n",
    "        if res == L:\n",
    "            return -1\n",
    "        return res"
   ]
  },
  {
   "cell_type": "markdown",
   "metadata": {},
   "source": [
    "## Lessons and Thoughts\n",
    "- Probably OK to not think of binary search as optimization in first attempt. But it seems even using that is not enough - you need `cumsum`."
   ]
  }
 ],
 "metadata": {
  "kernelspec": {
   "display_name": "Python 3",
   "language": "python",
   "name": "python3"
  },
  "language_info": {
   "codemirror_mode": {
    "name": "ipython",
    "version": 3
   },
   "file_extension": ".py",
   "mimetype": "text/x-python",
   "name": "python",
   "nbconvert_exporter": "python",
   "pygments_lexer": "ipython3",
   "version": "3.7.3"
  }
 },
 "nbformat": 4,
 "nbformat_minor": 2
}
