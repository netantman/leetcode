{
 "cells": [
  {
   "cell_type": "markdown",
   "metadata": {},
   "source": [
    "## Attempt 1 - Accepted"
   ]
  },
  {
   "cell_type": "code",
   "execution_count": null,
   "metadata": {},
   "outputs": [],
   "source": [
    "class Solution:\n",
    "    def numSubarrayProductLessThanK(self, nums: List[int], K: int) -> int:\n",
    "        L=len(nums)\n",
    "        if L==1:\n",
    "            if nums[0]<K:\n",
    "                return 1\n",
    "            else:\n",
    "                0\n",
    "        \n",
    "        left,right=0,1\n",
    "        prod=nums[0]\n",
    "        res=0\n",
    "        while right<L:\n",
    "            if prod<K:\n",
    "                res+=(right-left) ## --> used to be 1, and that would be wrong\n",
    "                prod*=nums[right]\n",
    "                right+=1\n",
    "            else:\n",
    "                prod/=nums[left]\n",
    "                left+=1\n",
    "                if right==left:\n",
    "                    right+=1\n",
    "        while left<L:\n",
    "            if prod<K:\n",
    "                res+=1\n",
    "            prod/=nums[left]\n",
    "            left+=1\n",
    "        \n",
    "        return res"
   ]
  },
  {
   "cell_type": "markdown",
   "metadata": {},
   "source": [
    "## Lessons and Thoughts\n",
    "- In using two pointers to find all cases, you will need to think about whether you have missed any cases."
   ]
  }
 ],
 "metadata": {
  "kernelspec": {
   "display_name": "Python 3",
   "language": "python",
   "name": "python3"
  },
  "language_info": {
   "codemirror_mode": {
    "name": "ipython",
    "version": 3
   },
   "file_extension": ".py",
   "mimetype": "text/x-python",
   "name": "python",
   "nbconvert_exporter": "python",
   "pygments_lexer": "ipython3",
   "version": "3.7.3"
  }
 },
 "nbformat": 4,
 "nbformat_minor": 2
}
