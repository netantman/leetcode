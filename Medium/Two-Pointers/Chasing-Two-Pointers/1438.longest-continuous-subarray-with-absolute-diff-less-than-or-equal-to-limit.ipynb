{
 "cells": [
  {
   "cell_type": "markdown",
   "metadata": {},
   "source": [
    "## Attempt 1 - Accepted"
   ]
  },
  {
   "cell_type": "code",
   "execution_count": null,
   "metadata": {},
   "outputs": [],
   "source": [
    "class Solution:\n",
    "    def longestSubarray(self, nums: List[int], limit: int) -> int:\n",
    "        r, l, res = 0, 0, 0\n",
    "        min_q, max_q = [], []\n",
    "        for num in nums:\n",
    "            while min_q and num < min_q[-1]:\n",
    "                min_q.pop()\n",
    "            while max_q and num > max_q[-1]:\n",
    "                max_q.pop()\n",
    "            min_q.append(num)\n",
    "            max_q.append(num)\n",
    "            r += 1\n",
    "            while max_q[0] - min_q[0] > limit:\n",
    "                if min_q[0] == nums[l]:\n",
    "                    min_q.pop(0)\n",
    "                if max_q[0] == nums[l]:\n",
    "                    max_q.pop(0)\n",
    "                l += 1\n",
    "            res = max(res, r - l)\n",
    "        return res"
   ]
  },
  {
   "cell_type": "markdown",
   "metadata": {},
   "source": [
    "## Lessons and Thoughts\n",
    "- Algo from the app. You have the right intuition that you need probably monotonic stack/queues, but did not work it through. The idea here is to find the leftest point for every given right."
   ]
  }
 ],
 "metadata": {
  "kernelspec": {
   "display_name": "Python 3",
   "language": "python",
   "name": "python3"
  },
  "language_info": {
   "codemirror_mode": {
    "name": "ipython",
    "version": 3
   },
   "file_extension": ".py",
   "mimetype": "text/x-python",
   "name": "python",
   "nbconvert_exporter": "python",
   "pygments_lexer": "ipython3",
   "version": "3.7.3"
  }
 },
 "nbformat": 4,
 "nbformat_minor": 2
}
