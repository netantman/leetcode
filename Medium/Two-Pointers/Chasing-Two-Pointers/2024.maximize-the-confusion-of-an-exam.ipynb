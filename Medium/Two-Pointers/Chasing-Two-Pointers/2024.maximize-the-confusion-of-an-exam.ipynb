{
 "cells": [
  {
   "cell_type": "markdown",
   "metadata": {},
   "source": [
    "## Attempt 1 - Accepted"
   ]
  },
  {
   "cell_type": "code",
   "execution_count": null,
   "metadata": {},
   "outputs": [],
   "source": [
    "class Solution:\n",
    "    def maxConsecutiveAnswers(self, answerKey: str, k: int) -> int:\n",
    "        def maximum_ones(arr, k):\n",
    "            L = len(arr)\n",
    "            l, r = 0, 1\n",
    "            record, c = dict(), k\n",
    "            if arr[l] < 1:\n",
    "                c -= 1\n",
    "            res = 0\n",
    "            while r < L:\n",
    "                res = max(res, r - l)\n",
    "                if arr[r] > 0:\n",
    "                    r += 1\n",
    "                    continue\n",
    "                if c > 0:\n",
    "                    c -= 1\n",
    "                    r += 1\n",
    "                    continue\n",
    "                if arr[l] > 0:\n",
    "                    l += 1\n",
    "                    continue\n",
    "                c += 1\n",
    "                l += 1\n",
    "                if r == l:\n",
    "                    r += 1\n",
    "                    c -= 1\n",
    "            res = max(res, r - l)\n",
    "            return res\n",
    "        \n",
    "        arr = [1 if a == 'T' else 0 for a in answerKey]\n",
    "        m0 = maximum_ones(arr, k)\n",
    "        arr = [1 if a == 'F' else 0 for a in answerKey]\n",
    "        m1 = maximum_ones(arr, k)\n",
    "        return max(m0, m1)"
   ]
  },
  {
   "cell_type": "markdown",
   "metadata": {},
   "source": [
    "## Lessons and Thoughts\n",
    "- Essentially just a variant of Problem 1004."
   ]
  }
 ],
 "metadata": {
  "kernelspec": {
   "display_name": "Python 3",
   "language": "python",
   "name": "python3"
  },
  "language_info": {
   "codemirror_mode": {
    "name": "ipython",
    "version": 3
   },
   "file_extension": ".py",
   "mimetype": "text/x-python",
   "name": "python",
   "nbconvert_exporter": "python",
   "pygments_lexer": "ipython3",
   "version": "3.7.3"
  }
 },
 "nbformat": 4,
 "nbformat_minor": 2
}
