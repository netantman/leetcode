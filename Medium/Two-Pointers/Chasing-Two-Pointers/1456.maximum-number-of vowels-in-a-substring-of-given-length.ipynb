{
 "cells": [
  {
   "cell_type": "markdown",
   "metadata": {},
   "source": [
    "## Attempt 1 - Accepted"
   ]
  },
  {
   "cell_type": "code",
   "execution_count": null,
   "metadata": {},
   "outputs": [],
   "source": [
    "class Solution:\n",
    "    def maxVowels(self, s: str, k: int) -> int:\n",
    "        vowels = {'a', 'e', 'i', 'o', 'u'}\n",
    "        curr = 0\n",
    "        left, right = 0, k\n",
    "        for idx in range(k):\n",
    "            if s[idx] in vowels:\n",
    "                curr += 1\n",
    "        res = curr\n",
    "        L = len(s)\n",
    "        while right < L:\n",
    "            if s[left] in vowels:\n",
    "                curr -= 1\n",
    "            if s[right] in vowels:\n",
    "                curr += 1\n",
    "                res = max(res, curr)\n",
    "            left += 1\n",
    "            right += 1\n",
    "        return res"
   ]
  },
  {
   "cell_type": "markdown",
   "metadata": {},
   "source": [
    "## Lessons and Thoughts\n",
    "- Straightforward with the two-pointers approach"
   ]
  }
 ],
 "metadata": {
  "kernelspec": {
   "display_name": "Python 3",
   "language": "python",
   "name": "python3"
  },
  "language_info": {
   "codemirror_mode": {
    "name": "ipython",
    "version": 3
   },
   "file_extension": ".py",
   "mimetype": "text/x-python",
   "name": "python",
   "nbconvert_exporter": "python",
   "pygments_lexer": "ipython3",
   "version": "3.7.3"
  }
 },
 "nbformat": 4,
 "nbformat_minor": 2
}
