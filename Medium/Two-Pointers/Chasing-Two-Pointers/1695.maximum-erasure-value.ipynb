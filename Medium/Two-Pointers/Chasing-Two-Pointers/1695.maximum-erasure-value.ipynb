{
 "cells": [
  {
   "cell_type": "markdown",
   "metadata": {},
   "source": [
    "## Attempt 1 - Time Limit Exceeded"
   ]
  },
  {
   "cell_type": "code",
   "execution_count": null,
   "metadata": {},
   "outputs": [],
   "source": [
    "class Solution:\n",
    "    def maximumUniqueSubarray(self, nums: List[int]) -> int:\n",
    "        res = nums[0]\n",
    "        L = len(nums)\n",
    "        l, r = 0, 1\n",
    "        d = set()\n",
    "        d.add(nums[0])\n",
    "        while r < L:\n",
    "            if nums[r] not in d:\n",
    "                d.add(nums[r])\n",
    "                res = max(res, sum(d))\n",
    "                r += 1\n",
    "            else:\n",
    "                d.remove(nums[l])\n",
    "                l += 1\n",
    "                if l == r:\n",
    "                    d.add(nums[r])\n",
    "                    res = max(res, sum(d))\n",
    "                    r += 1\n",
    "        return res"
   ]
  },
  {
   "cell_type": "markdown",
   "metadata": {},
   "source": [
    "## Attempt 2 - Accepted"
   ]
  },
  {
   "cell_type": "code",
   "execution_count": null,
   "metadata": {},
   "outputs": [],
   "source": [
    "class Solution:\n",
    "    def maximumUniqueSubarray(self, nums: List[int]) -> int:\n",
    "        cumsum = [0]\n",
    "        for n in nums:\n",
    "            cumsum.append(cumsum[-1]+n)\n",
    "        res = nums[0]\n",
    "        L = len(nums)\n",
    "        l, r = 0, 1\n",
    "        d = set()\n",
    "        d.add(nums[0])\n",
    "        while r < L:\n",
    "            if nums[r] not in d:\n",
    "                d.add(nums[r])\n",
    "                r += 1\n",
    "                res = max(res, cumsum[r] - cumsum[l])\n",
    "            else:\n",
    "                d.remove(nums[l])\n",
    "                l += 1\n",
    "                if l == r:\n",
    "                    d.add(nums[r])\n",
    "                    r += 1\n",
    "                    res = max(res, cumsum[r] - cumsum[l])\n",
    "        return res"
   ]
  },
  {
   "cell_type": "markdown",
   "metadata": {},
   "source": [
    "## Lessons and Thoughts\n",
    "- Accepted solution inspired by app: `cumsum` as optimization. \n",
    "- Seldom does chasing two pointers problem does not require handling when `r` reaches the end."
   ]
  }
 ],
 "metadata": {
  "kernelspec": {
   "display_name": "Python 3",
   "language": "python",
   "name": "python3"
  },
  "language_info": {
   "codemirror_mode": {
    "name": "ipython",
    "version": 3
   },
   "file_extension": ".py",
   "mimetype": "text/x-python",
   "name": "python",
   "nbconvert_exporter": "python",
   "pygments_lexer": "ipython3",
   "version": "3.7.3"
  }
 },
 "nbformat": 4,
 "nbformat_minor": 2
}
