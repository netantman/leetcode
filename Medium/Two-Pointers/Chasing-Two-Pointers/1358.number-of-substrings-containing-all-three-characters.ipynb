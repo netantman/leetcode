{
 "cells": [
  {
   "cell_type": "markdown",
   "metadata": {},
   "source": [
    "## Attempt 1 - Accepted"
   ]
  },
  {
   "cell_type": "code",
   "execution_count": null,
   "metadata": {},
   "outputs": [],
   "source": [
    "class Solution:\n",
    "    def numberOfSubstrings(self, s: str) -> int:\n",
    "        L=len(s)\n",
    "        left,right=0,1\n",
    "        rec=[0,0,0]\n",
    "        rec[ord(s[left])-ord(\"a\")]+=1\n",
    "        cnt=0\n",
    "        while right<L:\n",
    "            if rec[0]*rec[1]*rec[2]<1:\n",
    "                rec[ord(s[right])-ord(\"a\")]+=1\n",
    "                right+=1\n",
    "            else:\n",
    "                cnt+=(L-right+1)\n",
    "                rec[ord(s[left])-ord(\"a\")]-=1\n",
    "                left+=1\n",
    "                if right==left:\n",
    "                    rec[ord(s[right])-ord(\"a\")]+=1\n",
    "                    right+=1\n",
    "        \n",
    "        while left<L:\n",
    "            if rec[0]*rec[1]*rec[2]>0:\n",
    "                cnt+=1\n",
    "                rec[ord(s[left])-ord(\"a\")]-=1\n",
    "                left+=1\n",
    "            else:\n",
    "                break\n",
    "        return cnt"
   ]
  },
  {
   "cell_type": "markdown",
   "metadata": {},
   "source": [
    "## Lessons and Thoughts\n",
    "- Sometimes the `left` pointer needs to move to the end too."
   ]
  }
 ],
 "metadata": {
  "kernelspec": {
   "display_name": "Python 3",
   "language": "python",
   "name": "python3"
  },
  "language_info": {
   "codemirror_mode": {
    "name": "ipython",
    "version": 3
   },
   "file_extension": ".py",
   "mimetype": "text/x-python",
   "name": "python",
   "nbconvert_exporter": "python",
   "pygments_lexer": "ipython3",
   "version": "3.7.3"
  }
 },
 "nbformat": 4,
 "nbformat_minor": 2
}
