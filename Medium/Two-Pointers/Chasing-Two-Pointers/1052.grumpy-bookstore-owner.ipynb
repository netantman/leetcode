{
 "cells": [
  {
   "cell_type": "markdown",
   "metadata": {},
   "source": [
    "## Attempt 1 - Accepted"
   ]
  },
  {
   "cell_type": "code",
   "execution_count": null,
   "metadata": {},
   "outputs": [],
   "source": [
    "class Solution:\n",
    "    def maxSatisfied(self, customers: List[int], grumpy: List[int], X: int) -> int:\n",
    "        left,right=0,0\n",
    "        L=len(customers)\n",
    "        s=0\n",
    "        while right<L and right<X:\n",
    "            s+=customers[right]\n",
    "            right+=1\n",
    "        if right==L:\n",
    "            return s\n",
    "        \n",
    "        for idx in range(right,L):\n",
    "            if grumpy[idx]<1:\n",
    "                s+=customers[idx]\n",
    "        maxx=s\n",
    "        while right<L:\n",
    "            if grumpy[left]>0:\n",
    "                s-=customers[left]\n",
    "            if grumpy[right]>0:\n",
    "                s+=customers[right]\n",
    "            maxx=max(s, maxx)\n",
    "            left+=1\n",
    "            right+=1\n",
    "        return maxx"
   ]
  },
  {
   "cell_type": "markdown",
   "metadata": {},
   "source": [
    "## Lessons and Thoughts\n",
    "- Typical chasing two pointers problem - just need to be careful how the running sum and max are calculated."
   ]
  }
 ],
 "metadata": {
  "kernelspec": {
   "display_name": "Python 3",
   "language": "python",
   "name": "python3"
  },
  "language_info": {
   "codemirror_mode": {
    "name": "ipython",
    "version": 3
   },
   "file_extension": ".py",
   "mimetype": "text/x-python",
   "name": "python",
   "nbconvert_exporter": "python",
   "pygments_lexer": "ipython3",
   "version": "3.7.3"
  }
 },
 "nbformat": 4,
 "nbformat_minor": 2
}
