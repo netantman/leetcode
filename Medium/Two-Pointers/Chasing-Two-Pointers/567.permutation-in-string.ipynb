{
 "cells": [
  {
   "cell_type": "markdown",
   "metadata": {},
   "source": [
    "## Attempt 1 - Wrong Answer"
   ]
  },
  {
   "cell_type": "code",
   "execution_count": null,
   "metadata": {},
   "outputs": [],
   "source": [
    "class Solution:\n",
    "    def checkInclusion(self, s1: str, s2: str) -> bool:\n",
    "        d1,d2=[0 for _ in range(26)],[0 for _ in range(26)]\n",
    "        for c in s1:\n",
    "            d1[ord(c)-ord(\"a\")]+=1\n",
    "        \n",
    "        def is_sub(d2, d1):\n",
    "            for idx in range(26):\n",
    "                if d2[idx]>d1[idx]:\n",
    "                    return False\n",
    "            return True\n",
    "        \n",
    "        left,right=0,1\n",
    "        L=len(s2)\n",
    "        d2[ord(s2[0])-ord(\"a\")]+=1\n",
    "        while right<L:\n",
    "            if d2==d1:\n",
    "                return True\n",
    "            \n",
    "            if is_sub(d2, d1):\n",
    "                d2[ord(s2[right])-ord(\"a\")]+=1\n",
    "                right+=1\n",
    "            else:\n",
    "                d2[ord(s2[left])-ord(\"a\")]-=1\n",
    "                left+=1\n",
    "                if left==right:\n",
    "                    d2[ord(s2[right])-ord(\"a\")]+=1\n",
    "                    right+=1\n",
    "        \n",
    "        if is_sub(d2,d1): ##--> did not handle this well, the last chance should be just equal\n",
    "            return True\n",
    "        else:\n",
    "            return False"
   ]
  },
  {
   "cell_type": "markdown",
   "metadata": {},
   "source": [
    "## Lessons and Thoughts\n",
    "- Slicing two-pointers problem. The edge case is the last substring."
   ]
  }
 ],
 "metadata": {
  "kernelspec": {
   "display_name": "Python 3",
   "language": "python",
   "name": "python3"
  },
  "language_info": {
   "codemirror_mode": {
    "name": "ipython",
    "version": 3
   },
   "file_extension": ".py",
   "mimetype": "text/x-python",
   "name": "python",
   "nbconvert_exporter": "python",
   "pygments_lexer": "ipython3",
   "version": "3.7.3"
  }
 },
 "nbformat": 4,
 "nbformat_minor": 2
}
