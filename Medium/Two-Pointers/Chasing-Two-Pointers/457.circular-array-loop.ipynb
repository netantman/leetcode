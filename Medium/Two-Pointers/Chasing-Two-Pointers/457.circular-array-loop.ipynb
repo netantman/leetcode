{
 "cells": [
  {
   "cell_type": "markdown",
   "metadata": {},
   "source": [
    "## Attempt 1 - Wrong Answer"
   ]
  },
  {
   "cell_type": "code",
   "execution_count": null,
   "metadata": {},
   "outputs": [],
   "source": [
    "class Solution:\n",
    "    def circularArrayLoop(self, nums: List[int]) -> bool:\n",
    "        L=len(nums)\n",
    "        for idx in range(L):\n",
    "            slow,fast=idx,idx\n",
    "            if nums[idx]==0:\n",
    "                continue\n",
    "            flag=nums[idx]  ## --> should not check diretion here, but to check when cycle starts\n",
    "            \n",
    "            slow=(slow+nums[slow])%L\n",
    "            fast=(fast+nums[fast])%L\n",
    "            fast=(fast+nums[fast])%L\n",
    "            if slow==fast:\n",
    "                traverse=idx\n",
    "                while nums[traverse]!=0:\n",
    "                    behind=traverse\n",
    "                    traverse=(traverse+nums[traverse])%L  ## --> checking tiny cycle just at the beginning is not enough, and cycle can be of length 2.\n",
    "                    nums[behind]=0\n",
    "                continue\n",
    "                \n",
    "            cycle=True\n",
    "            while fast!=slow:\n",
    "                if nums[slow]*flag<0:\n",
    "                    cycle=False\n",
    "                    break\n",
    "                slow=(slow+nums[slow])%L\n",
    "                fast=(fast+nums[fast])%L\n",
    "                fast=(fast+nums[fast])%L\n",
    "            \n",
    "            ## --> even if slow==fast, we still need to check the direction one more time! Similarly need to check tiny cycle outside of while loop as well.\n",
    "            \n",
    "            if cycle:\n",
    "                return True\n",
    "            else:\n",
    "                traverse=idx\n",
    "                while nums[traverse]!=0:\n",
    "                    behind=traverse\n",
    "                    traverse=(traverse+nums[traverse])%L\n",
    "                    nums[behind]=0\n",
    "        \n",
    "        return False\n",
    "            "
   ]
  },
  {
   "cell_type": "markdown",
   "metadata": {},
   "source": [
    "## Attempt 2 - Accepted"
   ]
  },
  {
   "cell_type": "code",
   "execution_count": null,
   "metadata": {},
   "outputs": [],
   "source": [
    "class Solution:\n",
    "    def circularArrayLoop(self, nums: List[int]) -> bool:\n",
    "        L=len(nums)\n",
    "        for idx in range(L):\n",
    "            slow,fast=idx,idx\n",
    "            if nums[idx]==0:\n",
    "                continue\n",
    "            \n",
    "            slow=(slow+nums[slow])%L\n",
    "            fast=(fast+nums[fast])%L\n",
    "            fast=(fast+nums[fast])%L\n",
    "            if slow==fast:\n",
    "                traverse=slow\n",
    "                while nums[traverse]!=0:\n",
    "                    behind=traverse\n",
    "                    traverse=(traverse+nums[traverse])%L\n",
    "                    nums[behind]=0\n",
    "                continue\n",
    "                \n",
    "            cycle=True\n",
    "            while fast!=slow:\n",
    "                temp=(slow+nums[slow])%L\n",
    "                if temp==slow:\n",
    "                    cycle=False\n",
    "                    break\n",
    "                slow=(slow+nums[slow])%L\n",
    "                fast=(fast+nums[fast])%L\n",
    "                fast=(fast+nums[fast])%L\n",
    "            \n",
    "            temp=(slow+nums[slow])%L\n",
    "            if temp==slow:\n",
    "                cycle=False\n",
    "            flag=nums[slow]\n",
    "            slow=(slow+nums[slow])%L\n",
    "            while slow!=fast:\n",
    "                if flag*nums[slow]<0:\n",
    "                    cycle=False\n",
    "                    break\n",
    "                slow=(slow+nums[slow])%L\n",
    "            \n",
    "            if cycle:\n",
    "                return True\n",
    "            else:\n",
    "                traverse=idx\n",
    "                while nums[traverse]!=0:\n",
    "                    behind=traverse\n",
    "                    traverse=(traverse+nums[traverse])%L\n",
    "                    nums[behind]=0\n",
    "        return False"
   ]
  },
  {
   "cell_type": "markdown",
   "metadata": {},
   "source": [
    "## Lessons and Thoughts\n",
    "See if you get all of these edge cases\n",
    "- Mini cycle (length=1)\n",
    "- Wrong direction - but it does not count if the wrong direction node is outside of cycle.\n",
    "- Index may be out of range if you do not mode $L$."
   ]
  }
 ],
 "metadata": {
  "kernelspec": {
   "display_name": "Python 3",
   "language": "python",
   "name": "python3"
  },
  "language_info": {
   "codemirror_mode": {
    "name": "ipython",
    "version": 3
   },
   "file_extension": ".py",
   "mimetype": "text/x-python",
   "name": "python",
   "nbconvert_exporter": "python",
   "pygments_lexer": "ipython3",
   "version": "3.7.3"
  }
 },
 "nbformat": 4,
 "nbformat_minor": 2
}
