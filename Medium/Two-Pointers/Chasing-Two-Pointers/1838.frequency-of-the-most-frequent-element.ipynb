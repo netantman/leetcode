{
 "cells": [
  {
   "cell_type": "markdown",
   "metadata": {},
   "source": [
    "## Attempt 1 - Time Limit Exceeded"
   ]
  },
  {
   "cell_type": "code",
   "execution_count": null,
   "metadata": {},
   "outputs": [],
   "source": [
    "class Solution:\n",
    "    def maxFrequency(self, nums: List[int], k: int) -> int:\n",
    "        K = k\n",
    "        def num_increased(target, freq):\n",
    "            freq = {k: v for k, v in freq.items() if k < target}\n",
    "            freq = sorted([(k, v) for k, v in freq.items()], reverse=True, key=lambda x: x[0])\n",
    "            to_cum = [(target - k) * v for k, v in freq]\n",
    "            cumsum = [0]\n",
    "            for t in to_cum:\n",
    "                cumsum.append(cumsum[-1] + t)\n",
    "            if cumsum[-1] < K:\n",
    "                return sum([f[1] for f in freq])\n",
    "            l, r = 0, len(to_cum)\n",
    "            while l < r - 1:\n",
    "                m = (l + r) // 2\n",
    "                if cumsum[m] <= K:\n",
    "                    l = m\n",
    "                else:\n",
    "                    r = m\n",
    "            return sum([f[1] for f in freq[:l]]) + (K - cumsum[l]) // (target - freq[l][0])\n",
    "        \n",
    "        freq = dict()\n",
    "        for n in nums:\n",
    "            freq[n] = freq.get(n, 0) + 1\n",
    "        return max([v + num_increased(k, freq) for k, v in freq.items()])"
   ]
  },
  {
   "cell_type": "markdown",
   "metadata": {},
   "source": [
    "## Attempt 2 - Wrong Answer"
   ]
  },
  {
   "cell_type": "code",
   "execution_count": null,
   "metadata": {},
   "outputs": [],
   "source": [
    "class Solution:\n",
    "    def maxFrequency(self, nums: List[int], k: int) -> int:\n",
    "        nums = sorted(nums)\n",
    "        cumsum = [0]\n",
    "        for n in nums:\n",
    "            cumsum.append(cumsum[-1] + n)\n",
    "        L = len(nums)\n",
    "        \n",
    "        res = 1\n",
    "        l, r = 0, 1\n",
    "        while r < L:\n",
    "            if cumsum[r] - cumsum[l] + k >= nums[r - 1] * (r - l): ## --> indices are wrong\n",
    "                res = max(res, r - l)\n",
    "                r += 1\n",
    "            else:\n",
    "                l, r = r, r + 1 ## --> not really a chasing two-pointer algo\n",
    "        res = max(res, r - l)\n",
    "        return res"
   ]
  },
  {
   "cell_type": "markdown",
   "metadata": {},
   "source": [
    "## Attempt 3 - Accepted"
   ]
  },
  {
   "cell_type": "code",
   "execution_count": null,
   "metadata": {},
   "outputs": [],
   "source": [
    "class Solution:\n",
    "    def maxFrequency(self, nums: List[int], k: int) -> int:\n",
    "        nums = sorted(nums)\n",
    "        cumsum = [0]\n",
    "        for n in nums:\n",
    "            cumsum.append(cumsum[-1] + n)\n",
    "        L = len(nums)\n",
    "        \n",
    "        res = 1\n",
    "        l, r = 0, 1\n",
    "        while r < L:\n",
    "            if cumsum[r] - cumsum[l] + k >= nums[r] * (r - l):\n",
    "                res = max(res, r - l + 1)\n",
    "                r += 1\n",
    "            else:\n",
    "                l += 1\n",
    "        return res"
   ]
  },
  {
   "cell_type": "markdown",
   "metadata": {},
   "source": [
    "## Lessons and Thoughts\n",
    "- For consequetive sums, `sum(a[l:r])=cumsum[r]-cumsum[l]`\n",
    "- It helps to definitively define the meaning of `l` and `r`."
   ]
  }
 ],
 "metadata": {
  "kernelspec": {
   "display_name": "Python 3",
   "language": "python",
   "name": "python3"
  },
  "language_info": {
   "codemirror_mode": {
    "name": "ipython",
    "version": 3
   },
   "file_extension": ".py",
   "mimetype": "text/x-python",
   "name": "python",
   "nbconvert_exporter": "python",
   "pygments_lexer": "ipython3",
   "version": "3.7.3"
  }
 },
 "nbformat": 4,
 "nbformat_minor": 2
}
