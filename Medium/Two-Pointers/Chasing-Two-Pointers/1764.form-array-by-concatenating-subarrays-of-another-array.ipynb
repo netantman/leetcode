{
 "cells": [
  {
   "cell_type": "markdown",
   "metadata": {},
   "source": [
    "## Attempt 1 - Accepted"
   ]
  },
  {
   "cell_type": "code",
   "execution_count": null,
   "metadata": {},
   "outputs": [],
   "source": [
    "class Solution:\n",
    "    def canChoose(self, groups: List[List[int]], nums: List[int]) -> bool:\n",
    "        idx = 0\n",
    "        l, r = 0, len(groups[idx])\n",
    "        L, G = len(nums), len(groups)\n",
    "        while r <= L:\n",
    "            if nums[l: r] == groups[idx]:\n",
    "                idx += 1\n",
    "                if idx >= G:\n",
    "                    return True\n",
    "                l, r = r, r + len(groups[idx])\n",
    "            else:\n",
    "                l += 1\n",
    "                r += 1\n",
    "        \n",
    "        return idx >= G"
   ]
  },
  {
   "cell_type": "markdown",
   "metadata": {},
   "source": [
    "## Lessons and Thoughts\n",
    "- Typical chasing two pointers. As usual, some effort needs to spend on the last iteration."
   ]
  }
 ],
 "metadata": {
  "kernelspec": {
   "display_name": "Python 3",
   "language": "python",
   "name": "python3"
  },
  "language_info": {
   "codemirror_mode": {
    "name": "ipython",
    "version": 3
   },
   "file_extension": ".py",
   "mimetype": "text/x-python",
   "name": "python",
   "nbconvert_exporter": "python",
   "pygments_lexer": "ipython3",
   "version": "3.7.3"
  }
 },
 "nbformat": 4,
 "nbformat_minor": 2
}
