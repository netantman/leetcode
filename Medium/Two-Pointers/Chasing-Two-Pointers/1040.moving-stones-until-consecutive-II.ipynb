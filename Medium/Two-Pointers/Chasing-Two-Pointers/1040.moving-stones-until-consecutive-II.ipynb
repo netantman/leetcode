{
 "cells": [
  {
   "cell_type": "markdown",
   "metadata": {},
   "source": [
    "## Attempt 1 - Wrong Answer"
   ]
  },
  {
   "cell_type": "code",
   "execution_count": null,
   "metadata": {},
   "outputs": [],
   "source": [
    "class Solution:\n",
    "    def numMovesStonesII(self, stones: List[int]) -> List[int]:\n",
    "        stones=sorted(stones)\n",
    "        L=len(stones)\n",
    "        s1=stones[-1]-stones[0]-(L-1)\n",
    "        s2=min(stones[1]-stones[0]-1, stones[-1]-stones[-2]-1)\n",
    "        maxx=s1-s2\n",
    "        minn=float('inf')\n",
    "        for idx, s in enumerate(stones):\n",
    "            k=len([st for st in stones if s<=st<s+L])\n",
    "            if k==L:\n",
    "                minn=0\n",
    "                break\n",
    "            elif k==L-1:\n",
    "                if idx==0: ## --> not sufficient in dealing with the edge case\n",
    "                    minn=2\n",
    "                else:\n",
    "                    minn=1\n",
    "                break\n",
    "            else:\n",
    "                minn=min(L-k,minn)\n",
    "        return [minn, maxx]"
   ]
  },
  {
   "cell_type": "markdown",
   "metadata": {},
   "source": [
    "## Attempt 2 - Wrong Answer"
   ]
  },
  {
   "cell_type": "code",
   "execution_count": null,
   "metadata": {},
   "outputs": [],
   "source": [
    "class Solution:\n",
    "    def numMovesStonesII(self, stones: List[int]) -> List[int]:\n",
    "        stones=sorted(stones)\n",
    "        L=len(stones)\n",
    "        s1=stones[-1]-stones[0]-(L-1)\n",
    "        s2=min(stones[1]-stones[0]-1, stones[-1]-stones[-2]-1)\n",
    "        maxx=s1-s2\n",
    "        minn=float('inf')\n",
    "        for idx, s in enumerate(stones):\n",
    "            k=len([st for st in stones if s<=st<s+L])\n",
    "            if k==L:\n",
    "                minn=0\n",
    "                break\n",
    "            elif k==L-1:\n",
    "                if stones[-1]-stones[-2]<=2: ## --> still not sufficient in dealing with the edge case\n",
    "                    minn=1\n",
    "                else:\n",
    "                    minn=2\n",
    "                break\n",
    "            else:\n",
    "                minn=min(L-k,minn)\n",
    "        return [minn, maxx]"
   ]
  },
  {
   "cell_type": "markdown",
   "metadata": {},
   "source": [
    "## Attempt 3 - Wrong Answer"
   ]
  },
  {
   "cell_type": "code",
   "execution_count": null,
   "metadata": {},
   "outputs": [],
   "source": [
    "class Solution:\n",
    "    def numMovesStonesII(self, stones: List[int]) -> List[int]:\n",
    "        stones=sorted(stones)\n",
    "        L=len(stones)\n",
    "        s1=stones[-1]-stones[0]-(L-1)\n",
    "        s2=min(stones[1]-stones[0]-1, stones[-1]-stones[-2]-1)\n",
    "        maxx=s1-s2\n",
    "        minn=float('inf')\n",
    "        for idx, s in enumerate(stones):\n",
    "            k=len([st for st in stones if s<=st<s+L])\n",
    "            if k==L:\n",
    "                minn=0\n",
    "                break\n",
    "            elif k==L-1:\n",
    "                if idx==0:\n",
    "                    if stones[-1]-stones[-2]<=2:  ## --> same thing\n",
    "                        minn=1\n",
    "                    else:\n",
    "                        minn=2\n",
    "                elif idx==1:\n",
    "                    if stones[1]-stones[0]<=2:\n",
    "                        minn=1\n",
    "                    else:\n",
    "                        minn=2\n",
    "                break\n",
    "            else:\n",
    "                minn=min(L-k,minn)\n",
    "        return [minn, maxx]"
   ]
  },
  {
   "cell_type": "markdown",
   "metadata": {},
   "source": [
    "## Attempt 4 - Time Limit Exceeded"
   ]
  },
  {
   "cell_type": "code",
   "execution_count": null,
   "metadata": {},
   "outputs": [],
   "source": [
    "class Solution:\n",
    "    def numMovesStonesII(self, stones: List[int]) -> List[int]:\n",
    "        stones=sorted(stones)\n",
    "        L=len(stones)\n",
    "        s1=stones[-1]-stones[0]-(L-1)\n",
    "        s2=min(stones[1]-stones[0]-1, stones[-1]-stones[-2]-1)\n",
    "        maxx=s1-s2\n",
    "        minn=float('inf')\n",
    "        for idx, s in enumerate(stones):\n",
    "            window=[st for st in stones if s<=st<s+L]\n",
    "            k=len(window)\n",
    "            if k==L:\n",
    "                minn=0\n",
    "                break\n",
    "            elif k==L-1:\n",
    "                comp=(s+s+L-1)*L//2-sum(window)\n",
    "                if comp==s+L-1:\n",
    "                    if stones[-1]-stones[-2]==2:\n",
    "                        minn=1\n",
    "                    else:\n",
    "                        minn=2\n",
    "                else:\n",
    "                    minn=1\n",
    "                break\n",
    "            else:\n",
    "                minn=min(L-k,minn)\n",
    "        return [minn, maxx]"
   ]
  },
  {
   "cell_type": "markdown",
   "metadata": {},
   "source": [
    "## Attempt 5 - Accepted"
   ]
  },
  {
   "cell_type": "code",
   "execution_count": null,
   "metadata": {},
   "outputs": [],
   "source": [
    "class Solution:\n",
    "    def numMovesStonesII(self, stones: List[int]) -> List[int]:\n",
    "        stones=sorted(stones)\n",
    "        L=len(stones)\n",
    "        s1=stones[-1]-stones[0]-(L-1)\n",
    "        s2=min(stones[1]-stones[0]-1, stones[-1]-stones[-2]-1)\n",
    "        maxx=s1-s2\n",
    "        minn=float('inf')\n",
    "        left=0\n",
    "        for right in range(L):\n",
    "            while stones[right]-stones[left]+1>L:\n",
    "                left+=1\n",
    "            cost=L-(right-left+1)\n",
    "            if cost==1 and stones[right]-stones[left]+1==L-1:\n",
    "                minn=min(minn,2)\n",
    "            else:\n",
    "                minn=min(minn,cost)\n",
    "        return [minn, maxx]"
   ]
  },
  {
   "cell_type": "markdown",
   "metadata": {},
   "source": [
    "## Lessons and Thoughts\n",
    "- The case for `minn` is probably the most complicated chasing two pointers yet. The answer is from the leetcode app. It uses a `for` loop to implement, rather than a `while` loop. You have not thought through the handling of the edge case yet."
   ]
  }
 ],
 "metadata": {
  "kernelspec": {
   "display_name": "Python 3 (ipykernel)",
   "language": "python",
   "name": "python3"
  },
  "language_info": {
   "codemirror_mode": {
    "name": "ipython",
    "version": 3
   },
   "file_extension": ".py",
   "mimetype": "text/x-python",
   "name": "python",
   "nbconvert_exporter": "python",
   "pygments_lexer": "ipython3",
   "version": "3.9.7"
  }
 },
 "nbformat": 4,
 "nbformat_minor": 2
}
