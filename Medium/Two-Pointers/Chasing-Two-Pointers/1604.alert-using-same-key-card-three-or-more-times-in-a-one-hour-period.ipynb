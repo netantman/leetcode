{
 "cells": [
  {
   "cell_type": "markdown",
   "metadata": {},
   "source": [
    "## Attempt 1 - Accepted"
   ]
  },
  {
   "cell_type": "code",
   "execution_count": null,
   "metadata": {},
   "outputs": [],
   "source": [
    "class Solution:\n",
    "    def alertNames(self, keyName: List[str], keyTime: List[str]) -> List[str]:\n",
    "        def compare(time1, time2):\n",
    "            h1, m1 = time1\n",
    "            h2, m2 = time2\n",
    "            if h1 == h2:\n",
    "                return True\n",
    "            if h1 == h2 - 1 and m1 >= m2:\n",
    "                return True\n",
    "            if h2 == h1 - 1 and m2 >= m1:\n",
    "                return True\n",
    "            return False\n",
    "                \n",
    "        \n",
    "        res = []\n",
    "        record = dict()\n",
    "        for name, time in zip(keyName, keyTime):\n",
    "            if name not in record:\n",
    "                record[name] = [time]\n",
    "            else:\n",
    "                record[name].append(time)\n",
    "\n",
    "        for name, times in record.items():\n",
    "            times = [tuple(time.split(\":\")) for time in times]\n",
    "            times = sorted([(int(hh), int(mm)) for hh, mm in times])\n",
    "            left, right = 0, 1\n",
    "            while right < len(times):\n",
    "                if compare(times[left], times[right]):\n",
    "                    right += 1\n",
    "                    if right - left >= 3:\n",
    "                        res.append(name)\n",
    "                        break\n",
    "                else:\n",
    "                    left += 1\n",
    "                    if right == left:\n",
    "                        right += 1\n",
    "        \n",
    "        return sorted(res)"
   ]
  },
  {
   "cell_type": "markdown",
   "metadata": {},
   "source": [
    "## Lessons and Thoughts\n",
    "- Straightforward. Just a bit clumsy in sorting"
   ]
  }
 ],
 "metadata": {
  "kernelspec": {
   "display_name": "Python 3",
   "language": "python",
   "name": "python3"
  },
  "language_info": {
   "codemirror_mode": {
    "name": "ipython",
    "version": 3
   },
   "file_extension": ".py",
   "mimetype": "text/x-python",
   "name": "python",
   "nbconvert_exporter": "python",
   "pygments_lexer": "ipython3",
   "version": "3.7.3"
  }
 },
 "nbformat": 4,
 "nbformat_minor": 2
}
