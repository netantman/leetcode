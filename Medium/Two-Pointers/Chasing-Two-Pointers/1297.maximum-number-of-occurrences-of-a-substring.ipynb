{
 "cells": [
  {
   "cell_type": "markdown",
   "metadata": {},
   "source": [
    "## Attempt 1 - Accepted"
   ]
  },
  {
   "cell_type": "code",
   "execution_count": null,
   "metadata": {},
   "outputs": [],
   "source": [
    "class Solution:\n",
    "    def maxFreq(self, s: str, maxLetters: int, minSize: int, maxSize: int) -> int:\n",
    "        res=dict()\n",
    "        left,right=0,1\n",
    "        curr=s[0]\n",
    "        L=len(s)\n",
    "        while right<L:\n",
    "            if right-left<minSize:\n",
    "                curr+=s[right]\n",
    "                right+=1\n",
    "            elif right-left>maxSize:\n",
    "                curr=curr[1:]\n",
    "                left+=1\n",
    "            else:\n",
    "                if len(set([c for c in curr]))<=maxLetters:\n",
    "                    res[curr]=res.get(curr,0)+1\n",
    "                curr=curr[1:]\n",
    "                left+=1\n",
    "        \n",
    "        while right-left>=minSize and left<L:\n",
    "            if right-left>maxSize:\n",
    "                curr=curr[1:]\n",
    "                left+=1\n",
    "            else:\n",
    "                if len(set([c for c in curr]))<=maxLetters:\n",
    "                    res[curr]=res.get(curr,0)+1\n",
    "                curr=curr[1:]\n",
    "                left+=1\n",
    "        \n",
    "        if len(res)<1:\n",
    "            return 0\n",
    "        else:\n",
    "            return max(res.values())"
   ]
  },
  {
   "cell_type": "markdown",
   "metadata": {},
   "source": [
    "## Lessons and Thoughts\n",
    "- It seems you can still tripped by infinite loop in two-pointer problems like these."
   ]
  }
 ],
 "metadata": {
  "kernelspec": {
   "display_name": "Python 3",
   "language": "python",
   "name": "python3"
  },
  "language_info": {
   "codemirror_mode": {
    "name": "ipython",
    "version": 3
   },
   "file_extension": ".py",
   "mimetype": "text/x-python",
   "name": "python",
   "nbconvert_exporter": "python",
   "pygments_lexer": "ipython3",
   "version": "3.7.3"
  }
 },
 "nbformat": 4,
 "nbformat_minor": 2
}
