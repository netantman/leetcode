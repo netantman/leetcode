{
 "cells": [
  {
   "cell_type": "markdown",
   "metadata": {},
   "source": [
    "## Attempt 1 - Accepted"
   ]
  },
  {
   "cell_type": "code",
   "execution_count": null,
   "metadata": {},
   "outputs": [],
   "source": [
    "class Solution:\n",
    "    def longestSubarray(self, nums: List[int]) -> int:\n",
    "        L = len(nums)\n",
    "        left, right = 0, 1\n",
    "        cnt = 0 if nums[0] is 1 else 1\n",
    "        res = 0\n",
    "        while right < L:\n",
    "            if nums[right] > 0:\n",
    "                right += 1\n",
    "            else:\n",
    "                if cnt == 0:\n",
    "                    cnt += 1\n",
    "                    right += 1\n",
    "                else:\n",
    "                    res = max(res, right - left - 1)\n",
    "                    cnt += 1\n",
    "                    right += 1\n",
    "                    while cnt > 1:\n",
    "                        if nums[left] == 0:\n",
    "                            cnt -= 1\n",
    "                            left += 1\n",
    "                            break\n",
    "                        left += 1\n",
    "        if cnt < 2:\n",
    "            res = max(res, right - left - 1)\n",
    "        \n",
    "        return res"
   ]
  },
  {
   "cell_type": "markdown",
   "metadata": {},
   "source": [
    "## Lessons and Thoughts\n",
    "- Again, for chasing two pointers, remember to check at the end."
   ]
  }
 ],
 "metadata": {
  "kernelspec": {
   "display_name": "Python 3",
   "language": "python",
   "name": "python3"
  },
  "language_info": {
   "codemirror_mode": {
    "name": "ipython",
    "version": 3
   },
   "file_extension": ".py",
   "mimetype": "text/x-python",
   "name": "python",
   "nbconvert_exporter": "python",
   "pygments_lexer": "ipython3",
   "version": "3.7.3"
  }
 },
 "nbformat": 4,
 "nbformat_minor": 2
}
