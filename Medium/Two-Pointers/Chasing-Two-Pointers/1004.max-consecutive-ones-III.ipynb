{
 "cells": [
  {
   "cell_type": "markdown",
   "metadata": {},
   "source": [
    "## Attempt 1 - Time Limit Exceeded"
   ]
  },
  {
   "cell_type": "code",
   "execution_count": null,
   "metadata": {},
   "outputs": [],
   "source": [
    "class Solution:\n",
    "    def longestOnes(self, A: List[int], K: int) -> int:\n",
    "        L=len(A)\n",
    "        dp=[[0 for _ in range(L+1)] for _ in range(K+1)]\n",
    "        for idx in range(1,L+1):\n",
    "            dp[0][idx]=0 if A[idx-1]==0 else dp[0][idx-1]+1\n",
    "        for k in range(1,K+1):\n",
    "            for idx in range(1,L+1):\n",
    "                if A[idx-1]==1:\n",
    "                    dp[k][idx]=max(dp[k-1][idx], dp[k][idx-1]+1)\n",
    "                else:\n",
    "                    dp[k][idx]=dp[k-1][idx-1]+1\n",
    "        return max(dp[-1])"
   ]
  },
  {
   "cell_type": "markdown",
   "metadata": {},
   "source": [
    "## Attempt 2 - Wrong Answer"
   ]
  },
  {
   "cell_type": "code",
   "execution_count": null,
   "metadata": {},
   "outputs": [],
   "source": [
    "class Solution:\n",
    "    def longestOnes(self, A: List[int], K: int) -> int:\n",
    "        L=len(A)\n",
    "        left,right=0,1\n",
    "        cnt=0 if A[0]==1 else 1\n",
    "        res=0\n",
    "        while right<L:  ## --> did not properly handle the case of K=0\n",
    "            if A[right]==1:\n",
    "                right+=1\n",
    "                res=max(res, right-left)\n",
    "            else:\n",
    "                if cnt<K:\n",
    "                    cnt+=1\n",
    "                    right+=1\n",
    "                    res=max(res, right-left)\n",
    "                else:\n",
    "                    if A[left]==0:\n",
    "                        cnt-=1\n",
    "                        left+=1\n",
    "                    else:\n",
    "                        left+=1\n",
    "                    if right==left:\n",
    "                        if A[left]==0:\n",
    "                            cnt=1\n",
    "                        else:\n",
    "                            cnt=0\n",
    "                        right+=1\n",
    "        while cnt>K:\n",
    "            if left<L and A[left]==0:\n",
    "                cnt-=1\n",
    "                left+=1  ## --> will cause infinite loop\n",
    "        res=max(res, right-left)\n",
    "        return res"
   ]
  },
  {
   "cell_type": "markdown",
   "metadata": {},
   "source": [
    "## Attempt 3 - Accepted"
   ]
  },
  {
   "cell_type": "code",
   "execution_count": null,
   "metadata": {},
   "outputs": [],
   "source": [
    "class Solution:\n",
    "    def longestOnes(self, A: List[int], K: int) -> int:\n",
    "        L=len(A)\n",
    "        left,right=0,1\n",
    "        cnt=0 if A[0]==1 else 1\n",
    "        res=0\n",
    "        while right<L:\n",
    "            # print(left,right,cnt,res)\n",
    "            if cnt>K:\n",
    "                if A[left]==0:\n",
    "                    cnt-=1\n",
    "                    left+=1\n",
    "                else:\n",
    "                    left+=1\n",
    "                if right==left:\n",
    "                    if A[left]==0:\n",
    "                        cnt=1\n",
    "                    else:\n",
    "                        cnt=0\n",
    "                    right+=1\n",
    "                    if cnt<=K:\n",
    "                        res=max(res, right-left)\n",
    "                # if left>400:\n",
    "                #     print(left,right,cnt,res)\n",
    "            else:\n",
    "                if A[right]==1:\n",
    "                    right+=1\n",
    "                    if cnt<=K:\n",
    "                        res=max(res, right-left)\n",
    "                else:\n",
    "                    cnt+=1\n",
    "                    right+=1\n",
    "                    if cnt<=K:\n",
    "                        res=max(res, right-left)\n",
    "        #print(left,right,cnt,res)\n",
    "        while cnt>K:\n",
    "            if left<L and A[left]==0:\n",
    "                cnt-=1\n",
    "                left+=1\n",
    "            else:\n",
    "                break\n",
    "        res=max(res, right-left)\n",
    "        return res"
   ]
  },
  {
   "cell_type": "markdown",
   "metadata": {},
   "source": [
    "## Lessons and Thoughts\n",
    "- Be careful about the transit conditions in DP, though it seems TLE (Attempt 1).\n",
    "- Don't just think that you have handled a case, try to run through the algo in your head.\n",
    "- When you are writing while loops, make sure it can end."
   ]
  }
 ],
 "metadata": {
  "kernelspec": {
   "display_name": "Python 3",
   "language": "python",
   "name": "python3"
  },
  "language_info": {
   "codemirror_mode": {
    "name": "ipython",
    "version": 3
   },
   "file_extension": ".py",
   "mimetype": "text/x-python",
   "name": "python",
   "nbconvert_exporter": "python",
   "pygments_lexer": "ipython3",
   "version": "3.7.3"
  }
 },
 "nbformat": 4,
 "nbformat_minor": 2
}
