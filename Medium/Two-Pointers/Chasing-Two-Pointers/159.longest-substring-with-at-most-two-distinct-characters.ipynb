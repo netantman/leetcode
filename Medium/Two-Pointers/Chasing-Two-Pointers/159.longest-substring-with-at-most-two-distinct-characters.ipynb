{
 "cells": [
  {
   "cell_type": "markdown",
   "metadata": {},
   "source": [
    "## Attempt 1 - Accepted"
   ]
  },
  {
   "cell_type": "code",
   "execution_count": null,
   "metadata": {},
   "outputs": [],
   "source": [
    "class Solution:\n",
    "    def lengthOfLongestSubstringTwoDistinct(self, s: str) -> int:\n",
    "        L = len(s)\n",
    "        l, r = 0, 1\n",
    "        record = s[l : r]\n",
    "        res = 0\n",
    "        while r < L:\n",
    "            if len(set(record)) <= 2:\n",
    "                res = max(res, len(record))\n",
    "                r += 1\n",
    "            else:\n",
    "                l += 1\n",
    "            record = s[l : r]\n",
    "        \n",
    "        record = s[l :]\n",
    "        if len(set(record)) <= 2:\n",
    "            res = max(res, len(record))\n",
    "        \n",
    "        return res"
   ]
  },
  {
   "cell_type": "markdown",
   "metadata": {},
   "source": [
    "## Lessons and Thoughts\n",
    "- Simple chasing two points problem."
   ]
  }
 ],
 "metadata": {
  "kernelspec": {
   "display_name": "Python 3",
   "language": "python",
   "name": "python3"
  },
  "language_info": {
   "codemirror_mode": {
    "name": "ipython",
    "version": 3
   },
   "file_extension": ".py",
   "mimetype": "text/x-python",
   "name": "python",
   "nbconvert_exporter": "python",
   "pygments_lexer": "ipython3",
   "version": "3.7.3"
  }
 },
 "nbformat": 4,
 "nbformat_minor": 2
}
