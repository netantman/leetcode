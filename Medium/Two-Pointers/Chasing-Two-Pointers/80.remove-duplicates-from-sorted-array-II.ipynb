{
 "cells": [
  {
   "cell_type": "markdown",
   "metadata": {},
   "source": [
    "## Attempt 1 - Wrong Answer: failed the case of [1,1,1,2,2,3,3,3]"
   ]
  },
  {
   "cell_type": "code",
   "execution_count": null,
   "metadata": {},
   "outputs": [],
   "source": [
    "class Solution:\n",
    "    def removeDuplicates(self, nums: List[int]) -> int:\n",
    "        if len(nums)<=2:\n",
    "            return len(nums)\n",
    "        \n",
    "        pos, idx=0,1\n",
    "        cnt=1\n",
    "        L=len(nums)\n",
    "        while idx<L:\n",
    "            to_compare=nums[pos]\n",
    "            if nums[idx]==to_compare:\n",
    "                if cnt==1:\n",
    "                    idx+=1\n",
    "                    cnt+=1\n",
    "                else: # cnt==21\n",
    "                    idx+=1\n",
    "            elif nums[idx]<to_compare:\n",
    "                idx+=1\n",
    "            else:\n",
    "                pos+=cnt   ## --> after the switch, the order may be in a mess and simply forwarding pos may not be enough.\n",
    "                nums[pos], nums[idx]=nums[idx], nums[pos] ## --> here also forget to consider the case where pos==idx\n",
    "                cnt=1\n",
    "        \n",
    "        for i in range(cnt):\n",
    "            nums[pos+i]=to_compare ## --> this may have index out of range error; also, the to_compare may be an old one.\n",
    "        \n",
    "        return pos+cnt"
   ]
  },
  {
   "cell_type": "markdown",
   "metadata": {},
   "source": [
    "## Attempt 2 - Accepted"
   ]
  },
  {
   "cell_type": "code",
   "execution_count": null,
   "metadata": {},
   "outputs": [],
   "source": [
    "class Solution:\n",
    "    def removeDuplicates(self, nums: List[int]) -> int:\n",
    "        if len(nums)<=2:\n",
    "            return len(nums)\n",
    "        \n",
    "        pos, idx=0,1\n",
    "        cnt=1\n",
    "        L=len(nums)\n",
    "        to_compare=nums[pos]\n",
    "        while idx<L and pos<L:\n",
    "            if nums[idx]==to_compare:\n",
    "                if cnt==1:\n",
    "                    idx+=1\n",
    "                    cnt+=1\n",
    "                else: # cnt==2\n",
    "                    idx+=1\n",
    "            elif nums[idx]<to_compare:\n",
    "                idx+=1\n",
    "            else:\n",
    "                for i in range(cnt):\n",
    "                    if pos+i<L:\n",
    "                        nums[pos+i]=to_compare\n",
    "                pos+=cnt\n",
    "                if pos<L:\n",
    "                    nums[pos], nums[idx]=nums[idx], nums[pos]\n",
    "                if idx==pos:\n",
    "                    idx+=1\n",
    "                cnt=1\n",
    "                to_compare=nums[pos]\n",
    "        \n",
    "        for i in range(cnt):\n",
    "            if pos+i<L:\n",
    "                nums[pos+i]=to_compare\n",
    "        \n",
    "        return pos+cnt"
   ]
  },
  {
   "cell_type": "markdown",
   "metadata": {},
   "source": [
    "## Attempt 3 - Accepted"
   ]
  },
  {
   "cell_type": "code",
   "execution_count": null,
   "metadata": {},
   "outputs": [],
   "source": [
    "class Solution:\n",
    "    def removeDuplicates(self, nums: List[int]) -> int:\n",
    "        MAX_WINDOW = 2\n",
    "\n",
    "        def switch(start, end, nums):\n",
    "            # print(start, end)\n",
    "            length = end - start\n",
    "            if length <= 0:\n",
    "                return 0\n",
    "            \n",
    "            l, r = start, end\n",
    "            while r < len(nums):\n",
    "                nums[l] = nums[r]\n",
    "                l += 1\n",
    "                r += 1\n",
    "            for idx in range(1, length + 1):\n",
    "                nums[-idx] = None\n",
    "\n",
    "            return length\n",
    "        \n",
    "        right, new_left = 0, 0\n",
    "        L = len(nums)\n",
    "        cnt = 0\n",
    "        for left in range(L):\n",
    "            if left < new_left:\n",
    "                continue\n",
    "            # print(right)\n",
    "            while right < L and nums[right] is not None and nums[right] == nums[left]:\n",
    "                right += 1\n",
    "            # print(left, right)\n",
    "            cnt += switch(left + MAX_WINDOW, right, nums)\n",
    "            # print(nums)\n",
    "            new_left = min(left + MAX_WINDOW, right)\n",
    "            right = new_left\n",
    "        \n",
    "        for _ in range(cnt):\n",
    "            nums.pop()\n",
    "        return"
   ]
  },
  {
   "cell_type": "markdown",
   "metadata": {},
   "source": [
    "## Lessons and Thoughts\n",
    "- Due to the edge case, the final accepted algo is very fragmented - check online if there is a better one.\n",
    "- So many edge cases, but things to watch out in future is still to check if index will run out of range.\n",
    "- Even with templete, it is hard to get right: took you 30+min, for Attempt 3."
   ]
  }
 ],
 "metadata": {
  "kernelspec": {
   "display_name": "Python 3 (ipykernel)",
   "language": "python",
   "name": "python3"
  },
  "language_info": {
   "codemirror_mode": {
    "name": "ipython",
    "version": 3
   },
   "file_extension": ".py",
   "mimetype": "text/x-python",
   "name": "python",
   "nbconvert_exporter": "python",
   "pygments_lexer": "ipython3",
   "version": "3.9.7"
  }
 },
 "nbformat": 4,
 "nbformat_minor": 2
}
