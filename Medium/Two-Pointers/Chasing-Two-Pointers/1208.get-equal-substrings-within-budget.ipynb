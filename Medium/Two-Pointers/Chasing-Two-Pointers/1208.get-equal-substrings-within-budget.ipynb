{
 "cells": [
  {
   "cell_type": "markdown",
   "metadata": {},
   "source": [
    "## Attempt 1 - Accepted"
   ]
  },
  {
   "cell_type": "code",
   "execution_count": null,
   "metadata": {},
   "outputs": [],
   "source": [
    "class Solution:\n",
    "    def equalSubstring(self, s: str, t: str, maxCost: int) -> int:\n",
    "        left,right=0,1\n",
    "        res=0\n",
    "        cost=abs(ord(s[0])-ord(t[0]))\n",
    "        L=len(s)\n",
    "        while right<L:\n",
    "            if cost>maxCost:\n",
    "                cost-=abs(ord(s[left])-ord(t[left]))\n",
    "                left+=1\n",
    "                if left==right:\n",
    "                    cost+=abs(ord(s[right])-ord(t[right]))\n",
    "                    right+=1\n",
    "            else:\n",
    "                res=max(res,right-left)\n",
    "                cost+=abs(ord(s[right])-ord(t[right]))\n",
    "                right+=1\n",
    "        \n",
    "        while left<L and cost>maxCost:\n",
    "            cost-=abs(ord(s[left])-ord(t[left]))\n",
    "            left+=1\n",
    "        res=max(res,right-left)\n",
    "        return res"
   ]
  },
  {
   "cell_type": "markdown",
   "metadata": {},
   "source": [
    "## Lessons and Thoughts\n",
    "- Typical chasing two pointers."
   ]
  }
 ],
 "metadata": {
  "kernelspec": {
   "display_name": "Python 3",
   "language": "python",
   "name": "python3"
  },
  "language_info": {
   "codemirror_mode": {
    "name": "ipython",
    "version": 3
   },
   "file_extension": ".py",
   "mimetype": "text/x-python",
   "name": "python",
   "nbconvert_exporter": "python",
   "pygments_lexer": "ipython3",
   "version": "3.7.3"
  }
 },
 "nbformat": 4,
 "nbformat_minor": 2
}
