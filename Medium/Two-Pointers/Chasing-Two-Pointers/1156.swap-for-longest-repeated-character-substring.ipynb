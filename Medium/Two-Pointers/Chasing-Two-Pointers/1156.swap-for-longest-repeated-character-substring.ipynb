{
 "cells": [
  {
   "cell_type": "markdown",
   "metadata": {},
   "source": [
    "## Attempt 1 - Accepted"
   ]
  },
  {
   "cell_type": "code",
   "execution_count": null,
   "metadata": {},
   "outputs": [],
   "source": [
    "class Solution:\n",
    "    def maxRepOpt1(self, text: str) -> int:\n",
    "        chars=[0 for _ in range(26)]\n",
    "        for c in text:\n",
    "            chars[ord(c)-ord(\"a\")]+=1\n",
    "        L=len(text)\n",
    "        res=0\n",
    "        left,right=0,1\n",
    "        this=dict()\n",
    "        this[text[0]]=1\n",
    "        while right<L:\n",
    "            this[text[right]]=this.get(text[right],0)+1\n",
    "            if len(this)==3 or (len(this)==2 and min(this.values())>=2):\n",
    "                if this[text[right]]==1:\n",
    "                    del this[text[right]]\n",
    "                else:\n",
    "                    this[text[right]]-=1\n",
    "                if this[text[left]]==1:\n",
    "                    del this[text[left]]\n",
    "                else:\n",
    "                    this[text[left]]-=1\n",
    "                left+=1\n",
    "            elif len(this)==2:\n",
    "                mmax=max(this.values())\n",
    "                for k in this.keys():\n",
    "                    if this[k]==mmax:\n",
    "                        res=max(res,min(chars[ord(k)-ord(\"a\")], mmax+1))\n",
    "                right+=1\n",
    "            else:\n",
    "                res=max(res, max(this.values()))\n",
    "                right+=1\n",
    "        \n",
    "        if len(this)==2 and min(this.values())==1:\n",
    "            mmax=max(this.values())\n",
    "            for k in this.keys():\n",
    "                if this[k]==mmax:\n",
    "                    res=max(res,min(chars[ord(k)-ord(\"a\")], mmax+1))\n",
    "        elif len(this)==1:\n",
    "            res=max(res, max(this.values()))\n",
    "        \n",
    "        return res"
   ]
  },
  {
   "cell_type": "markdown",
   "metadata": {},
   "source": [
    "## Lessons and Thoughts\n",
    "- Typical chasing two pointer implementation. As usual, just be careful about also checking the remaining window after the `while` loop is exited due to `right` reaching the end of the array."
   ]
  }
 ],
 "metadata": {
  "kernelspec": {
   "display_name": "Python 3",
   "language": "python",
   "name": "python3"
  },
  "language_info": {
   "codemirror_mode": {
    "name": "ipython",
    "version": 3
   },
   "file_extension": ".py",
   "mimetype": "text/x-python",
   "name": "python",
   "nbconvert_exporter": "python",
   "pygments_lexer": "ipython3",
   "version": "3.7.3"
  }
 },
 "nbformat": 4,
 "nbformat_minor": 2
}
