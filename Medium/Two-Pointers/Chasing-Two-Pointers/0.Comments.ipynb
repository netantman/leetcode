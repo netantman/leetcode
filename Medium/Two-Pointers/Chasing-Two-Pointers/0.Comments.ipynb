{
 "cells": [
  {
   "cell_type": "markdown",
   "metadata": {},
   "source": [
    "## Idea\n",
    "\n",
    "The idea of chasing two pointers is to maintain a sliding window as described between the two pointers, enlarging (moving `right` pointer further to the right) or shrinking (moving `left` pointer further to the right) as needed. Since at most the two pointers traverse the whole array in iterations, it is `O(n)` and pretty efficient.\n",
    "\n",
    "A typical problems where chasing two pointers is an application of is finding suitable substrings, or when the problem nature is sliding window."
   ]
  },
  {
   "cell_type": "markdown",
   "metadata": {},
   "source": [
    "## Traps\n",
    "\n",
    "- To figure out when a window should enlarge or shrink can be non-trivial. The key, as in other two-pointers problems, is to be very clear about what the window describes.\n",
    "- ~One edge case that may need to handle separately is when the right pointer has reached the end of the array: usually the time when the `while` loop is exited. In this case, the remaining window still need to be dealt with.~ This is not longer an issue with the template below.\n",
    "- ~Somehow relating to the point above, another thing to watch out for is index out of range.~ This is not longer an issue with the template below.\n",
    "- When shrinking the window, i.e. when left pointer moves right, be sure to check if window size has shrinked to 0, i.e. when `left==right`.\n",
    "- ~You are used to use `while` loop to implement this. Make sure at least one of the `left` or `right` pointers moves - otherwise you will have infinite `while` loop.~ This is no longer an issue with the template below.\n",
    "- ~Sometimes the `left` pointer needs to move to the end too; see Problem 1358.~ In the template, `left` moves to the end regardless.\n",
    "- Note that the **time complexity** of two-pointers are of $O(n)$: it only depends on the number of executions in the inner most loop, but not on how many loops there are.\n",
    "- The **space complexity** is $O(1)$: only those needed to allocate for the two pointer variables."
   ]
  },
  {
   "cell_type": "markdown",
   "metadata": {},
   "source": [
    "## Template"
   ]
  },
  {
   "cell_type": "code",
   "execution_count": null,
   "metadata": {},
   "outputs": [],
   "source": [
    "right = 0\n",
    "# the left moves forward by this for loop\n",
    "# if it is with a case where left needs to move faster than 1 each time, set another pointer new_left; see Problem 80.\n",
    "for left in range(L): \n",
    "    # deal with empty range\n",
    "    if right == left:\n",
    "        right += 1\n",
    "        # For some problems, you may need to do something here as well\n",
    "    \n",
    "    # if the condition is not satisfied, increment right until it does\n",
    "    # note that condition does not need to be directly what the question is asking, \n",
    "    # but anything that would justify incrementing right.\n",
    "    while right < L and not condition:\n",
    "        right += 1\n",
    "        \n",
    "    # do need to check if condition satisfies here, \n",
    "    # but **no need** to check if right == L here, since index out of bound is handled in the while loop above\n",
    "    if condition: \n",
    "        # deal with whatever that is needed when condition is satisfied\n",
    "    # then maybe you need to do something to prepare for left += 1 in the next loop"
   ]
  }
 ],
 "metadata": {
  "kernelspec": {
   "display_name": "Python 3 (ipykernel)",
   "language": "python",
   "name": "python3"
  },
  "language_info": {
   "codemirror_mode": {
    "name": "ipython",
    "version": 3
   },
   "file_extension": ".py",
   "mimetype": "text/x-python",
   "name": "python",
   "nbconvert_exporter": "python",
   "pygments_lexer": "ipython3",
   "version": "3.9.7"
  }
 },
 "nbformat": 4,
 "nbformat_minor": 2
}
