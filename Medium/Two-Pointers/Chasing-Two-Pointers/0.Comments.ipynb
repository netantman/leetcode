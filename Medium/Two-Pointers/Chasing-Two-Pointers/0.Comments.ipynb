{
 "cells": [
  {
   "cell_type": "markdown",
   "metadata": {},
   "source": [
    "## Idea\n",
    "\n",
    "The idea of chasing two pointers is to maintain a sliding window as described between the two pointers, enlarging (moving `right` pointer further to the right) or shrinking (moving `left` pointer further to the right) as needed. Since at most the two pointers traverse the whole array in iterations, it is `O(n)` and pretty efficient.\n",
    "\n",
    "A typical problems where chasing two pointers is an application of is finding suitable substrings."
   ]
  },
  {
   "cell_type": "markdown",
   "metadata": {},
   "source": [
    "## Traps\n",
    "\n",
    "- To figure out when a window should enlarge or shrink can be non-trivial. The key, as in other two-pointers problems, is to be very clear about what the window describes.\n",
    "- One edge case that may need to handle separately is when the right pointer has reached the end of the array.\n",
    "- Somehow relating to the point above, another thing to watch out for is index out of range.\n",
    "- When shrinking the window, i.e. when left pointer moves right, be sure to check if window size has shrinked to 0, i.e. when `left==right`.\n",
    "- You are used to use `while` loop to implement this. Make sure at least one of the `left` or `right` pointers moves - otherwise you will have infinite `while` loop."
   ]
  }
 ],
 "metadata": {
  "kernelspec": {
   "display_name": "Python 3",
   "language": "python",
   "name": "python3"
  },
  "language_info": {
   "codemirror_mode": {
    "name": "ipython",
    "version": 3
   },
   "file_extension": ".py",
   "mimetype": "text/x-python",
   "name": "python",
   "nbconvert_exporter": "python",
   "pygments_lexer": "ipython3",
   "version": "3.7.3"
  }
 },
 "nbformat": 4,
 "nbformat_minor": 2
}
