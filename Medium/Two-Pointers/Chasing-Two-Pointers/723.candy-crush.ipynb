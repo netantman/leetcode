{
 "cells": [
  {
   "cell_type": "markdown",
   "metadata": {},
   "source": [
    "## Attempt 1 - Accepted"
   ]
  },
  {
   "cell_type": "code",
   "execution_count": null,
   "metadata": {},
   "outputs": [],
   "source": [
    "class Solution:\n",
    "    def candyCrush(self, board: List[List[int]]) -> List[List[int]]:\n",
    "        R, C = len(board), len(board[0])\n",
    "        crash = True\n",
    "        \n",
    "        while crash:\n",
    "            crash = False\n",
    "            \n",
    "            for r in range(R):\n",
    "                for c in range(C - 2):\n",
    "                    if abs(board[r][c]) == abs(board[r][c + 1]) == abs(board[r][c + 2]) != 0:\n",
    "                        board[r][c] = board[r][c + 1] = board[r][c + 2] = -abs(board[r][c])\n",
    "                        crash = True\n",
    "            \n",
    "            for c in range(C):\n",
    "                for r in range(R - 2):\n",
    "                    if abs(board[r][c]) == abs(board[r + 1][c]) == abs(board[r + 2][c]) != 0:\n",
    "                        board[r][c] = board[r + 1][c] = board[r + 2][c] = -abs(board[r][c])\n",
    "                        crash = True\n",
    "            \n",
    "            if crash:\n",
    "                for c in range(C):\n",
    "                    b = R - 1\n",
    "                    while b >= 0:\n",
    "                        if board[b][c] > 0:\n",
    "                            b -= 1\n",
    "                            continue\n",
    "                        break\n",
    "                    if b < 0:\n",
    "                        continue\n",
    "                    if b == 0:\n",
    "                        board[0][c] = 0\n",
    "                        continue\n",
    "                    \n",
    "                    t = b - 1\n",
    "                    while t >= 0:\n",
    "                        if board[t][c] < 0:\n",
    "                            t -= 1\n",
    "                        elif board[t][c] == 0:\n",
    "                            break\n",
    "                        else: #board[t][c] > 0:\n",
    "                            board[b][c], board[t][c] = board[t][c], board[b][c]\n",
    "                            b -= 1\n",
    "                            t -= 1\n",
    "                    for r in range(b, t, -1):\n",
    "                        board[r][c] = 0\n",
    "        \n",
    "        return board"
   ]
  },
  {
   "cell_type": "markdown",
   "metadata": {},
   "source": [
    "## Lessons and Thoughts\n",
    "- The solution is inspired by the official solution.\n",
    "- The neat idea is to use negative number to record candies to be crushed. Also, use two pointers to drop uncrushed candies."
   ]
  }
 ],
 "metadata": {
  "kernelspec": {
   "display_name": "Python 3",
   "language": "python",
   "name": "python3"
  },
  "language_info": {
   "codemirror_mode": {
    "name": "ipython",
    "version": 3
   },
   "file_extension": ".py",
   "mimetype": "text/x-python",
   "name": "python",
   "nbconvert_exporter": "python",
   "pygments_lexer": "ipython3",
   "version": "3.7.3"
  }
 },
 "nbformat": 4,
 "nbformat_minor": 2
}
