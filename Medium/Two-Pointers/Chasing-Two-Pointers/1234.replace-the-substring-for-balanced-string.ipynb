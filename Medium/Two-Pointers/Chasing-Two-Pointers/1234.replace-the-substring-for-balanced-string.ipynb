{
 "cells": [
  {
   "cell_type": "markdown",
   "metadata": {},
   "source": [
    "## Attempt 1 - Accepted"
   ]
  },
  {
   "cell_type": "code",
   "execution_count": null,
   "metadata": {},
   "outputs": [],
   "source": [
    "class Solution:\n",
    "    def balancedString(self, s: str) -> int:\n",
    "        n=len(s)\n",
    "        left,right=0,n\n",
    "        cnt=dict()\n",
    "        while right>left:\n",
    "            if cnt.get(s[right-1],0)+1<=n//4:\n",
    "                cnt[s[right-1]]=cnt.get(s[right-1],0)+1\n",
    "                right-=1\n",
    "            else:\n",
    "                break\n",
    "        if right==0:\n",
    "            return 0\n",
    "        \n",
    "        res=right-left\n",
    "        while right<n:\n",
    "            cnt[s[left]]=cnt.get(s[left],0)+1\n",
    "            left+=1\n",
    "            while max(cnt.values())>n//4 and right<n:\n",
    "                cnt[s[right]]-=1\n",
    "                right+=1\n",
    "            if max(cnt.values())<=n//4:\n",
    "                res=min(res, right-left)\n",
    "        while max(cnt.values())<=n//4:\n",
    "            res=min(res, right-left)\n",
    "            if left<n:\n",
    "                cnt[s[left]]=cnt.get(s[left],0)+1\n",
    "                left+=1\n",
    "            else:\n",
    "                break\n",
    "        return res"
   ]
  },
  {
   "cell_type": "markdown",
   "metadata": {},
   "source": [
    "## Lessons and Thoughts\n",
    "- Usual chasing two pointers - the consideration of the terminal state will need to be careful every time."
   ]
  }
 ],
 "metadata": {
  "kernelspec": {
   "display_name": "Python 3",
   "language": "python",
   "name": "python3"
  },
  "language_info": {
   "codemirror_mode": {
    "name": "ipython",
    "version": 3
   },
   "file_extension": ".py",
   "mimetype": "text/x-python",
   "name": "python",
   "nbconvert_exporter": "python",
   "pygments_lexer": "ipython3",
   "version": "3.7.3"
  }
 },
 "nbformat": 4,
 "nbformat_minor": 2
}
