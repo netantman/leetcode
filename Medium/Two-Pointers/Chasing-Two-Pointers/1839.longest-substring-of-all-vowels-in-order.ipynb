{
 "cells": [
  {
   "cell_type": "markdown",
   "metadata": {},
   "source": [
    "## Attempt 1 - Wrong Answer"
   ]
  },
  {
   "cell_type": "code",
   "execution_count": null,
   "metadata": {},
   "outputs": [],
   "source": [
    "class Solution:\n",
    "    def longestBeautifulSubstring(self, word: str) -> int:\n",
    "        res = 0\n",
    "        record = set() ## --> not initialized properly\n",
    "        L = len(word)\n",
    "        l, r = 0, 1\n",
    "        while r < L:\n",
    "            if word[l] != \"a\" or word[r] < word[r - 1]:\n",
    "                l, r = r, r + 1\n",
    "                record = set([word[l]])\n",
    "            else:\n",
    "                record.add(word[r])\n",
    "                r += 1\n",
    "                if len(record) == 5:\n",
    "                    res = max(res, r - l)\n",
    "        return res "
   ]
  },
  {
   "cell_type": "markdown",
   "metadata": {},
   "source": [
    "## Attempt 2 - Accepted"
   ]
  },
  {
   "cell_type": "code",
   "execution_count": null,
   "metadata": {},
   "outputs": [],
   "source": [
    "class Solution:\n",
    "    def longestBeautifulSubstring(self, word: str) -> int:\n",
    "        res = 0\n",
    "        record = set([word[0]])\n",
    "        L = len(word)\n",
    "        l, r = 0, 1\n",
    "        while r < L:\n",
    "            if word[l] != \"a\" or word[r] < word[r - 1]:\n",
    "                l, r = r, r + 1\n",
    "                record = set([word[l]])\n",
    "            else:\n",
    "                record.add(word[r])\n",
    "                r += 1\n",
    "                if len(record) == 5:\n",
    "                    res = max(res, r - l)\n",
    "        return res"
   ]
  },
  {
   "cell_type": "markdown",
   "metadata": {},
   "source": [
    "## Lessons and Thoughts\n",
    "- Initialize properly!"
   ]
  }
 ],
 "metadata": {
  "kernelspec": {
   "display_name": "Python 3",
   "language": "python",
   "name": "python3"
  },
  "language_info": {
   "codemirror_mode": {
    "name": "ipython",
    "version": 3
   },
   "file_extension": ".py",
   "mimetype": "text/x-python",
   "name": "python",
   "nbconvert_exporter": "python",
   "pygments_lexer": "ipython3",
   "version": "3.7.3"
  }
 },
 "nbformat": 4,
 "nbformat_minor": 2
}
