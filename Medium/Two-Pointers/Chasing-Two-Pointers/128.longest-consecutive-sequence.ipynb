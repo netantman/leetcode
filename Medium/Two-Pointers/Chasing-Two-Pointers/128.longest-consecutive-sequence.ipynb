{
 "cells": [
  {
   "cell_type": "markdown",
   "metadata": {},
   "source": [
    "## Attempt 1 - Runtime Error"
   ]
  },
  {
   "cell_type": "code",
   "execution_count": null,
   "metadata": {},
   "outputs": [],
   "source": [
    "class Solution:\n",
    "    def longestConsecutive(self, nums: List[int]) -> int:\n",
    "        record = set()\n",
    "        for n in nums:\n",
    "            record.add(n)\n",
    "        lower, upper = min(record), max(record)\n",
    "        l, r = lower, lower + 1\n",
    "        res = 1\n",
    "        while r <= upper:\n",
    "            if r in record:\n",
    "                res = max(res, r - l + 1)\n",
    "                r += 1\n",
    "                continue\n",
    "            l = r\n",
    "            while l <= upper and l not in record:\n",
    "                l += 1\n",
    "            r = l + 1\n",
    "        return res"
   ]
  },
  {
   "cell_type": "markdown",
   "metadata": {},
   "source": [
    "## Attempt 2 - Time Limit Exceeded"
   ]
  },
  {
   "cell_type": "code",
   "execution_count": null,
   "metadata": {},
   "outputs": [],
   "source": [
    "class Solution:\n",
    "    def longestConsecutive(self, nums: List[int]) -> int:\n",
    "        if len(nums) < 1:\n",
    "            return 0\n",
    "        \n",
    "        record = set()\n",
    "        for n in nums:\n",
    "            record.add(n)\n",
    "        lower, upper = min(record), max(record)\n",
    "        l, r = lower, lower + 1\n",
    "        res = 1\n",
    "        while r <= upper:\n",
    "            if r in record:\n",
    "                res = max(res, r - l + 1)\n",
    "                r += 1\n",
    "                continue\n",
    "            l = r\n",
    "            while l <= upper and l not in record:\n",
    "                l += 1\n",
    "            r = l + 1\n",
    "        return res"
   ]
  },
  {
   "cell_type": "markdown",
   "metadata": {},
   "source": [
    "## Attempt 3 - Accepted"
   ]
  },
  {
   "cell_type": "code",
   "execution_count": null,
   "metadata": {},
   "outputs": [],
   "source": [
    "class Solution:\n",
    "    def longestConsecutive(self, nums: List[int]) -> int:\n",
    "        if len(nums) < 1:\n",
    "            return 0\n",
    "        \n",
    "        record = set(nums)\n",
    "        res = 1\n",
    "        for n in record:\n",
    "            if n - 1 not in record:\n",
    "                curr, longest = n, 1\n",
    "                \n",
    "                while curr + 1 in record:\n",
    "                    curr, longest = curr + 1, longest + 1\n",
    "                    res = max(res, longest)\n",
    "        return res"
   ]
  },
  {
   "cell_type": "markdown",
   "metadata": {},
   "source": [
    "## Lessons and Thoughts\n",
    "- If not to accomodate for `O(n)`, I would sort it first.\n",
    "- The accepted solution from official website, the trick to check `n - 1` first is neat."
   ]
  }
 ],
 "metadata": {
  "kernelspec": {
   "display_name": "Python 3",
   "language": "python",
   "name": "python3"
  },
  "language_info": {
   "codemirror_mode": {
    "name": "ipython",
    "version": 3
   },
   "file_extension": ".py",
   "mimetype": "text/x-python",
   "name": "python",
   "nbconvert_exporter": "python",
   "pygments_lexer": "ipython3",
   "version": "3.7.3"
  }
 },
 "nbformat": 4,
 "nbformat_minor": 2
}
