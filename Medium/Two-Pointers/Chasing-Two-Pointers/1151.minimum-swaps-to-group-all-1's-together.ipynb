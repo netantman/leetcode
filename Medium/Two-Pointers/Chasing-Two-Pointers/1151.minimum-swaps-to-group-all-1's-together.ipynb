{
 "cells": [
  {
   "cell_type": "markdown",
   "metadata": {},
   "source": [
    "## Attempt 1 - Accepted"
   ]
  },
  {
   "cell_type": "code",
   "execution_count": null,
   "metadata": {},
   "outputs": [],
   "source": [
    "class Solution:\n",
    "    def minSwaps(self, data: List[int]) -> int:\n",
    "        if len(set(data)) < 2:\n",
    "            return 0\n",
    "        \n",
    "        L = len(data)\n",
    "        ones = sum([1 for d in data if d == 1])\n",
    "        res = L\n",
    "        l, r = 0, ones\n",
    "        sub = data[l : r]\n",
    "        sub_zeros = sum([1 for d in sub if d == 0])\n",
    "        while r <= L:\n",
    "            res = min(res, sub_zeros)\n",
    "            if r < L:\n",
    "                if data[r] == 0:\n",
    "                    sub_zeros += 1\n",
    "                r += 1\n",
    "                if data[l] == 0:\n",
    "                    sub_zeros -= 1\n",
    "                l += 1\n",
    "            else:\n",
    "                r += 1\n",
    "        return res"
   ]
  },
  {
   "cell_type": "markdown",
   "metadata": {},
   "source": [
    "## Lessons and Thoughts\n",
    "- Straightforward - the edge case to consider is when there are all 0's or 1's."
   ]
  }
 ],
 "metadata": {
  "kernelspec": {
   "display_name": "Python 3",
   "language": "python",
   "name": "python3"
  },
  "language_info": {
   "codemirror_mode": {
    "name": "ipython",
    "version": 3
   },
   "file_extension": ".py",
   "mimetype": "text/x-python",
   "name": "python",
   "nbconvert_exporter": "python",
   "pygments_lexer": "ipython3",
   "version": "3.7.3"
  }
 },
 "nbformat": 4,
 "nbformat_minor": 2
}
