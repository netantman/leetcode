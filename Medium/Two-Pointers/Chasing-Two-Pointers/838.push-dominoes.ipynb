{
 "cells": [
  {
   "cell_type": "markdown",
   "metadata": {},
   "source": [
    "## Attempt 1 - Wrong Answer"
   ]
  },
  {
   "cell_type": "markdown",
   "metadata": {},
   "source": [
    "Solution below is based on stacks - does not work."
   ]
  },
  {
   "cell_type": "code",
   "execution_count": null,
   "metadata": {},
   "outputs": [],
   "source": [
    "class Solution:\n",
    "    def pushDominoes(self, dominoes: str) -> str:\n",
    "        res=[\".\" for _ in dominoes]\n",
    "        stack=[]\n",
    "        for idx, c in enumerate(dominoes):\n",
    "            if len(stack)<1:\n",
    "                if c==\"L\":\n",
    "                    res[idx]=c\n",
    "                else:\n",
    "                    stack.append((idx,c))\n",
    "            else:\n",
    "                if c==\".\":\n",
    "                    if stack[-1][1]==\"R\":\n",
    "                        top=stack.pop()\n",
    "                        res[top[0]]=\"R\"\n",
    "                        stack.append((idx, \"R\"))\n",
    "                    elif stack[-1][1]==\".\":\n",
    "                        stack.append((idx, \".\"))\n",
    "                elif c==\"L\":\n",
    "                    if stack[-1][1]==\"R\":\n",
    "                        top=stack.pop()\n",
    "                        if dominoes[top[0]]==\".\":\n",
    "                            res[top[0]]=\".\"\n",
    "                        else:\n",
    "                            res[top[0]]=\"R\"\n",
    "                        for elem in stack:\n",
    "                            res[elem[0]]=elem[1]\n",
    "                        stack=[]\n",
    "                        res[idx]=\"L\"\n",
    "                    else:\n",
    "                        for elem in stack:\n",
    "                            res[elem[0]]=\"L\"\n",
    "                        stack=[]\n",
    "                        res[idx]=\"L\"\n",
    "                else:\n",
    "                    if stack[-1][1]==\"R\":\n",
    "                        top=stack.pop()\n",
    "                        res[top[0]]=\"R\"\n",
    "                        stack.append((idx, \"R\"))\n",
    "                    else:\n",
    "                        for elem in stack:\n",
    "                            res[elem[0]]=elem[1]\n",
    "                        stack.append((idx, \"R\"))\n",
    "        return \"\".join(res)"
   ]
  },
  {
   "cell_type": "markdown",
   "metadata": {},
   "source": [
    "## Attempt 2 - Accepted"
   ]
  },
  {
   "cell_type": "code",
   "execution_count": null,
   "metadata": {},
   "outputs": [],
   "source": [
    "class Solution:\n",
    "    def pushDominoes(self, dominoes: str) -> str:\n",
    "        res=[c for c in dominoes]\n",
    "        L=len(dominoes)\n",
    "        left,right=0,1\n",
    "        if L<=1:\n",
    "            return dominoes\n",
    "        while right<L:\n",
    "            if dominoes[left]==\".\":\n",
    "                if dominoes[right]==\".\":\n",
    "                    right+=1\n",
    "                elif dominoes[right]==\"L\":\n",
    "                    temp=left\n",
    "                    while temp<=right:\n",
    "                        res[temp]=\"L\"\n",
    "                        temp+=1\n",
    "                    left=right+1\n",
    "                    right=left+1\n",
    "                else:\n",
    "                    temp=left\n",
    "                    while temp<right:\n",
    "                        res[temp]=dominoes[temp]\n",
    "                        temp+=1\n",
    "                    left=right\n",
    "                    right=left+1\n",
    "            elif dominoes[left]==\"L\":\n",
    "                res[left]=\"L\"\n",
    "                left+=1\n",
    "                right=left+1\n",
    "            else:\n",
    "                res[left]=\"R\"\n",
    "                right=left+1\n",
    "                start=left\n",
    "                while right<L and dominoes[right]!=\"L\":\n",
    "                    if dominoes[right]==\"R\":\n",
    "                        start=right\n",
    "                    right+=1\n",
    "                if right==L:\n",
    "                    while left<L:\n",
    "                        res[left]=\"R\"\n",
    "                        left+=1\n",
    "                else:\n",
    "                    while left<=start:\n",
    "                        res[left]=\"R\"\n",
    "                        left+=1\n",
    "                    left_temp=start\n",
    "                    right_temp=right\n",
    "                    while left_temp<right_temp:\n",
    "                        res[left_temp]=\"R\"\n",
    "                        res[right_temp]=\"L\"\n",
    "                        left_temp+=1\n",
    "                        right_temp-=1\n",
    "                    left=right\n",
    "                    right=left+1\n",
    "        return \"\".join(res)"
   ]
  },
  {
   "cell_type": "markdown",
   "metadata": {},
   "source": [
    "## Lessons and Thoughts\n",
    "- Although the two pointers solution work, it has to work through a lot of cases. Maybe check with other solutions when you have time."
   ]
  }
 ],
 "metadata": {
  "kernelspec": {
   "display_name": "Python 3 (ipykernel)",
   "language": "python",
   "name": "python3"
  },
  "language_info": {
   "codemirror_mode": {
    "name": "ipython",
    "version": 3
   },
   "file_extension": ".py",
   "mimetype": "text/x-python",
   "name": "python",
   "nbconvert_exporter": "python",
   "pygments_lexer": "ipython3",
   "version": "3.9.7"
  }
 },
 "nbformat": 4,
 "nbformat_minor": 2
}
