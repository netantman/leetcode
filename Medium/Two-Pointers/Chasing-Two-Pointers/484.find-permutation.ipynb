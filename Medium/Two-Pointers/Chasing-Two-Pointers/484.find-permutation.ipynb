{
 "cells": [
  {
   "cell_type": "markdown",
   "metadata": {},
   "source": [
    "## Attempt 1 - Accepted"
   ]
  },
  {
   "cell_type": "code",
   "execution_count": null,
   "metadata": {},
   "outputs": [],
   "source": [
    "class Solution:\n",
    "    def findPermutation(self, s: str) -> List[int]:\n",
    "        n = len(s) + 1\n",
    "        res = [idx for idx in range(1, n + 1)]\n",
    "        l, r = 0, 1\n",
    "        while l < n - 1:\n",
    "            if s[l] == \"D\":\n",
    "                break\n",
    "            l += 1\n",
    "            r += 1\n",
    "        while r < n - 1:\n",
    "            if s[r] == \"D\":\n",
    "                r += 1\n",
    "                continue\n",
    "            res[l : r + 1] = res[l : r + 1][::-1]\n",
    "            l = r\n",
    "            while l < n - 1:\n",
    "                if s[l] == \"D\":\n",
    "                    break\n",
    "                l += 1\n",
    "                r += 1\n",
    "        res[l : r + 1] = res[l : r + 1][::-1]\n",
    "        return res"
   ]
  },
  {
   "cell_type": "markdown",
   "metadata": {},
   "source": [
    "## Lessons and Thoughts\n",
    "- The idea is to recognize that you need to reverse the section of string that is consecutive \"D\". So it suffices to just get all consecutive \"D\"'s."
   ]
  }
 ],
 "metadata": {
  "kernelspec": {
   "display_name": "Python 3",
   "language": "python",
   "name": "python3"
  },
  "language_info": {
   "codemirror_mode": {
    "name": "ipython",
    "version": 3
   },
   "file_extension": ".py",
   "mimetype": "text/x-python",
   "name": "python",
   "nbconvert_exporter": "python",
   "pygments_lexer": "ipython3",
   "version": "3.7.3"
  }
 },
 "nbformat": 4,
 "nbformat_minor": 2
}
