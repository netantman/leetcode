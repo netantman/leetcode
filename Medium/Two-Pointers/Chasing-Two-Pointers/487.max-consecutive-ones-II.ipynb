{
 "cells": [
  {
   "cell_type": "markdown",
   "metadata": {},
   "source": [
    "## Attempt 1 - Wrong Answer"
   ]
  },
  {
   "cell_type": "code",
   "execution_count": null,
   "metadata": {},
   "outputs": [],
   "source": [
    "class Solution:\n",
    "    def findMaxConsecutiveOnes(self, nums: List[int]) -> int:\n",
    "        L = len(nums)\n",
    "        l, r = 0, 1\n",
    "        res = 1\n",
    "        cnt = 1 if nums[0] == 0 else 0\n",
    "        while r < L:\n",
    "            if nums[r] == 1:\n",
    "                r += 1\n",
    "                res = max(res, r - l)\n",
    "                continue\n",
    "            if cnt < 1:\n",
    "                cnt += 1\n",
    "                r += 1\n",
    "                res = max(res, r - l)\n",
    "                continue\n",
    "            if nums[l] == 0:\n",
    "                cnt -= 1\n",
    "            l += 1\n",
    "            if r == l:\n",
    "                cnt = 1 if nums[r] == 1 else 0 ## --> typo\n",
    "                r += 1\n",
    "        \n",
    "        res = max(res, r - l)\n",
    "        return res"
   ]
  },
  {
   "cell_type": "markdown",
   "metadata": {},
   "source": [
    "## Attempt 2 - Accepted"
   ]
  },
  {
   "cell_type": "code",
   "execution_count": null,
   "metadata": {},
   "outputs": [],
   "source": [
    "class Solution:\n",
    "    def findMaxConsecutiveOnes(self, nums: List[int]) -> int:\n",
    "        L = len(nums)\n",
    "        l, r = 0, 1\n",
    "        res = 1\n",
    "        cnt = 1 if nums[0] == 0 else 0\n",
    "        while r < L:\n",
    "            if nums[r] == 1:\n",
    "                r += 1\n",
    "                res = max(res, r - l)\n",
    "                continue\n",
    "            if cnt < 1:\n",
    "                cnt += 1\n",
    "                r += 1\n",
    "                res = max(res, r - l)\n",
    "                continue\n",
    "                \n",
    "            if nums[l] == 0:\n",
    "                cnt -= 1\n",
    "            l += 1\n",
    "            if r == l:\n",
    "                cnt = 1 if nums[r] == 0 else 0\n",
    "                r += 1\n",
    "        \n",
    "        res = max(res, r - l)\n",
    "        return res"
   ]
  },
  {
   "cell_type": "markdown",
   "metadata": {},
   "source": [
    "## Lessons and Thoughts\n",
    "- Creating infinite loop with the `if`-`continue` paradigm is still a usual trap."
   ]
  }
 ],
 "metadata": {
  "kernelspec": {
   "display_name": "Python 3",
   "language": "python",
   "name": "python3"
  },
  "language_info": {
   "codemirror_mode": {
    "name": "ipython",
    "version": 3
   },
   "file_extension": ".py",
   "mimetype": "text/x-python",
   "name": "python",
   "nbconvert_exporter": "python",
   "pygments_lexer": "ipython3",
   "version": "3.7.3"
  }
 },
 "nbformat": 4,
 "nbformat_minor": 2
}
