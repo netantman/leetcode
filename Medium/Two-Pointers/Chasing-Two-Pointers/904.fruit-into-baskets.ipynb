{
 "cells": [
  {
   "cell_type": "markdown",
   "metadata": {},
   "source": [
    "## Attempt 1 - Wrong Answer"
   ]
  },
  {
   "cell_type": "code",
   "execution_count": null,
   "metadata": {},
   "outputs": [],
   "source": [
    "class Solution:\n",
    "    def totalFruit(self, tree: List[int]) -> int:\n",
    "        L=len(tree)\n",
    "        if L<=2:\n",
    "            return L\n",
    "        maxx=2\n",
    "        left=0\n",
    "        right=1\n",
    "        while right<=L: ## --> this is not a good idea...\n",
    "            cache=set(tree[left:right])\n",
    "            # print(left, right)\n",
    "            # print(cache)\n",
    "            if right<L and (tree[right] in cache) or len(cache)<2:\n",
    "                right+=1\n",
    "            else:\n",
    "                left+=1\n",
    "                if right==left:\n",
    "                    right=left+1\n",
    "            if len(cache)<=2:\n",
    "                maxx=max(maxx,right-left)\n",
    "        return maxx"
   ]
  },
  {
   "cell_type": "markdown",
   "metadata": {},
   "source": [
    "## Attempt 2 - Accepted"
   ]
  },
  {
   "cell_type": "code",
   "execution_count": null,
   "metadata": {},
   "outputs": [],
   "source": [
    "class Solution:\n",
    "    def totalFruit(self, tree: List[int]) -> int:\n",
    "        L=len(tree)\n",
    "        if L<=2:\n",
    "            return L\n",
    "        if len(set(tree))<=2:  ## --> some ad hoc optimization\n",
    "            return L\n",
    "        maxx=2\n",
    "        left=0\n",
    "        right=2\n",
    "        while right<L:\n",
    "            cache=set(tree[left:right])\n",
    "            # print(left, right)\n",
    "            # print(cache)\n",
    "            if (tree[right] in cache) or len(cache)<2:\n",
    "                right+=1\n",
    "            else:\n",
    "                left+=1\n",
    "                if right==left:\n",
    "                    right=left+2\n",
    "            if len(cache)<=2:\n",
    "                maxx=max(maxx,right-left)\n",
    "        cache=set(tree[left:right])\n",
    "        while len(cache)>2:\n",
    "            left+=1\n",
    "        maxx=max(maxx,right-left)\n",
    "        return maxx"
   ]
  },
  {
   "cell_type": "markdown",
   "metadata": {},
   "source": [
    "## Attempt 3 - Accepted"
   ]
  },
  {
   "cell_type": "code",
   "execution_count": null,
   "metadata": {},
   "outputs": [],
   "source": [
    "class Solution:\n",
    "    def totalFruit(self, fruits: List[int]) -> int:\n",
    "        L = len(fruits)\n",
    "        if L <= 2:\n",
    "            return L\n",
    "        basket = dict()\n",
    "        basket[fruits[0]] = 1\n",
    "        basket[fruits[1]] = basket.get(fruits[1], 0) + 1\n",
    "\n",
    "        res = 2\n",
    "        r = 2\n",
    "        for l in range(L):\n",
    "            if r == l:\n",
    "                basket[fruits[r]] = basket.get(fruits[r], 0) + 1\n",
    "                r += 1\n",
    "            \n",
    "            while r < L and ((fruits[r] in basket) or len(basket.items()) == 1):\n",
    "                basket[fruits[r]] = basket.get(fruits[r], 0) + 1\n",
    "                r += 1\n",
    "            \n",
    "            # print(l, r)\n",
    "            # print(basket)\n",
    "            res = max(res, r - l)\n",
    "            if basket[fruits[l]] > 1:\n",
    "                basket[fruits[l]] -= 1\n",
    "            else:\n",
    "                del basket[fruits[l]]\n",
    "        \n",
    "        return res"
   ]
  },
  {
   "cell_type": "markdown",
   "metadata": {},
   "source": [
    "## Lessons and Thoughts\n",
    "- When use chasing two pointers to indicate a range of an array, it is better not to let the right pointer to run out of range. But then you need to remember to deal with the edge case after the loop.\n",
    "- Easier to implement using template; see Attempt 3."
   ]
  }
 ],
 "metadata": {
  "kernelspec": {
   "display_name": "Python 3 (ipykernel)",
   "language": "python",
   "name": "python3"
  },
  "language_info": {
   "codemirror_mode": {
    "name": "ipython",
    "version": 3
   },
   "file_extension": ".py",
   "mimetype": "text/x-python",
   "name": "python",
   "nbconvert_exporter": "python",
   "pygments_lexer": "ipython3",
   "version": "3.9.7"
  }
 },
 "nbformat": 4,
 "nbformat_minor": 2
}
