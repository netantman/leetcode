{
 "cells": [
  {
   "cell_type": "markdown",
   "metadata": {},
   "source": [
    "## Attempt 1 - Runtime Error"
   ]
  },
  {
   "cell_type": "code",
   "execution_count": null,
   "metadata": {},
   "outputs": [],
   "source": [
    "class Solution:\n",
    "    def characterReplacement(self, s: str, k: int) -> int:\n",
    "        ## --> did not handle the edge case of s is empty...\n",
    "        maxx=0\n",
    "        left, right=0,1\n",
    "        L=len(s)\n",
    "        counter=[0 for _ in range(26)]\n",
    "        counter[ord(s[0])-ord(\"A\")]+=1\n",
    "        while left<L-1:\n",
    "            if (right-left)-max(counter)<=k:\n",
    "                maxx=max(maxx, right-left)\n",
    "                if right<L:\n",
    "                    counter[ord(s[right])-ord(\"A\")]+=1\n",
    "                    right+=1\n",
    "                else:\n",
    "                    break\n",
    "            else:\n",
    "                counter[ord(s[left])-ord(\"A\")]-=1\n",
    "                left+=1\n",
    "        \n",
    "        return maxx"
   ]
  },
  {
   "cell_type": "markdown",
   "metadata": {},
   "source": [
    "## Attempt 2 - Accepted"
   ]
  },
  {
   "cell_type": "code",
   "execution_count": null,
   "metadata": {},
   "outputs": [],
   "source": [
    "class Solution:\n",
    "    def characterReplacement(self, s: str, k: int) -> int:\n",
    "        if len(s)<1:\n",
    "            return 0\n",
    "        if len(s)==1:\n",
    "            return 1\n",
    "        \n",
    "        maxx=0\n",
    "        left, right=0,1\n",
    "        L=len(s)\n",
    "        counter=[0 for _ in range(26)]\n",
    "        counter[ord(s[0])-ord(\"A\")]+=1\n",
    "        while left<L-1:\n",
    "            if (right-left)-max(counter)<=k:\n",
    "                maxx=max(maxx, right-left)\n",
    "                if right<L:\n",
    "                    counter[ord(s[right])-ord(\"A\")]+=1\n",
    "                    right+=1\n",
    "                else:\n",
    "                    break\n",
    "            else:\n",
    "                counter[ord(s[left])-ord(\"A\")]-=1\n",
    "                left+=1\n",
    "        \n",
    "        return maxx"
   ]
  },
  {
   "cell_type": "markdown",
   "metadata": {},
   "source": [
    "## Lessons and Thoughts\n",
    "- The accepted algo is inspired from [here](https://www.cnblogs.com/grandyang/p/5999050.html). The key is to efficiently cache the most frequent element in the sliding windows: maybe trickier if you use dictionary.\n",
    "- For two pointers problem, the key is to give each pointer clear meaning."
   ]
  }
 ],
 "metadata": {
  "kernelspec": {
   "display_name": "Python 3",
   "language": "python",
   "name": "python3"
  },
  "language_info": {
   "codemirror_mode": {
    "name": "ipython",
    "version": 3
   },
   "file_extension": ".py",
   "mimetype": "text/x-python",
   "name": "python",
   "nbconvert_exporter": "python",
   "pygments_lexer": "ipython3",
   "version": "3.7.3"
  }
 },
 "nbformat": 4,
 "nbformat_minor": 2
}
