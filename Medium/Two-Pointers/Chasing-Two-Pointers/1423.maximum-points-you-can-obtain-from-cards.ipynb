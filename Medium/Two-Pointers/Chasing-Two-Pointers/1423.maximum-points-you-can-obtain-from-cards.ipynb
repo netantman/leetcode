{
 "cells": [
  {
   "cell_type": "markdown",
   "metadata": {},
   "source": [
    "## Attempt 1 - Wrong Answer"
   ]
  },
  {
   "cell_type": "code",
   "execution_count": null,
   "metadata": {},
   "outputs": [],
   "source": [
    "class Solution:\n",
    "    def maxScore(self, cardPoints: List[int], k: int) -> int:\n",
    "        L = len(cardPoints)\n",
    "        if L == k:\n",
    "            return sum(cardPoints)\n",
    "        \n",
    "        record = cardPoints + cardPoints\n",
    "        left, right = L-k, L\n",
    "        s = 0\n",
    "        while left<L: ## --> left should be able to achieve L too!\n",
    "            s = max(s, sum(record[left:right]))\n",
    "            left+=1\n",
    "            right+=1\n",
    "        return s"
   ]
  },
  {
   "cell_type": "markdown",
   "metadata": {},
   "source": [
    "## Attempt 2 - Time Limit Exceeded"
   ]
  },
  {
   "cell_type": "code",
   "execution_count": null,
   "metadata": {},
   "outputs": [],
   "source": [
    "class Solution:\n",
    "    def maxScore(self, cardPoints: List[int], k: int) -> int:\n",
    "        L = len(cardPoints)\n",
    "        if L == k:\n",
    "            return sum(cardPoints)\n",
    "        \n",
    "        record = cardPoints + cardPoints\n",
    "        left, right = L-k, L\n",
    "        s = 0\n",
    "        while left<=L:\n",
    "            s = max(s, sum(record[left:right])) ## --> if you are recalculating the sum at every step, why use two pointers?\n",
    "            left+=1\n",
    "            right+=1\n",
    "        return s"
   ]
  },
  {
   "cell_type": "markdown",
   "metadata": {},
   "source": [
    "## Attempt 3 - Accepted"
   ]
  },
  {
   "cell_type": "code",
   "execution_count": null,
   "metadata": {},
   "outputs": [],
   "source": [
    "class Solution:\n",
    "    def maxScore(self, cardPoints: List[int], k: int) -> int:\n",
    "        L = len(cardPoints)\n",
    "        if L == k:\n",
    "            return sum(cardPoints)\n",
    "        \n",
    "        record = cardPoints + cardPoints\n",
    "        left, right = L-k, L\n",
    "        s = sum(record[left:right])\n",
    "        res = s\n",
    "        while left<L:\n",
    "            s -= record[left]\n",
    "            s += record[right]\n",
    "            res = max(res, s)\n",
    "            left+=1\n",
    "            right+=1\n",
    "        return res"
   ]
  },
  {
   "cell_type": "markdown",
   "metadata": {},
   "source": [
    "## Lessons and Thoughts\n",
    "- You need to have a clear definition of `left` and `right`, and be careful about the start and the end."
   ]
  }
 ],
 "metadata": {
  "kernelspec": {
   "display_name": "Python 3",
   "language": "python",
   "name": "python3"
  },
  "language_info": {
   "codemirror_mode": {
    "name": "ipython",
    "version": 3
   },
   "file_extension": ".py",
   "mimetype": "text/x-python",
   "name": "python",
   "nbconvert_exporter": "python",
   "pygments_lexer": "ipython3",
   "version": "3.7.3"
  }
 },
 "nbformat": 4,
 "nbformat_minor": 2
}
