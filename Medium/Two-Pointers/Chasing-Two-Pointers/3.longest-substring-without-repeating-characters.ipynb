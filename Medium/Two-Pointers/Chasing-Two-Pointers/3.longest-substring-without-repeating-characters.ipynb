{
 "cells": [
  {
   "cell_type": "markdown",
   "metadata": {},
   "source": [
    "## Attempt 1 - Accepted"
   ]
  },
  {
   "cell_type": "code",
   "execution_count": null,
   "metadata": {},
   "outputs": [],
   "source": [
    "class Solution:\n",
    "    def lengthOfLongestSubstring(self, s: str) -> int:\n",
    "        if len(s)<1:\n",
    "            return 0\n",
    "        res = 1\n",
    "        left = 0\n",
    "        right = 1\n",
    "        chars = set(s[0])\n",
    "        while right < len(s):\n",
    "            if s[right] in chars:\n",
    "                chars.discard(s[left])\n",
    "                left += 1\n",
    "                if left == right:\n",
    "                    chars.add(s[left])\n",
    "                    right += 1\n",
    "            else:\n",
    "                chars.add(s[right])\n",
    "                right += 1\n",
    "            res = max(res, right-left)\n",
    "        return res"
   ]
  },
  {
   "cell_type": "markdown",
   "metadata": {},
   "source": [
    "## Lessons and Thoughts\n",
    "\n",
    "- Classic two pointer problem\n",
    "- `discard` and `add` functions for `sets` in `python`."
   ]
  }
 ],
 "metadata": {
  "kernelspec": {
   "display_name": "Python 3",
   "language": "python",
   "name": "python3"
  },
  "language_info": {
   "codemirror_mode": {
    "name": "ipython",
    "version": 3
   },
   "file_extension": ".py",
   "mimetype": "text/x-python",
   "name": "python",
   "nbconvert_exporter": "python",
   "pygments_lexer": "ipython3",
   "version": "3.7.3"
  }
 },
 "nbformat": 4,
 "nbformat_minor": 2
}
