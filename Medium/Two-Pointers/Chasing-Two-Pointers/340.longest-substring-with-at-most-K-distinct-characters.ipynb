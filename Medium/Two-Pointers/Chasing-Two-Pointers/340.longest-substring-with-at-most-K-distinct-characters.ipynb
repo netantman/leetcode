{
 "cells": [
  {
   "cell_type": "markdown",
   "metadata": {},
   "source": [
    "## Attempt 1 - Accepted"
   ]
  },
  {
   "cell_type": "code",
   "execution_count": null,
   "metadata": {},
   "outputs": [],
   "source": [
    "class Solution:\n",
    "    def lengthOfLongestSubstringKDistinct(self, s: str, k: int) -> int:\n",
    "        if k < 1:\n",
    "            return 0\n",
    "        \n",
    "        L = len(s)\n",
    "        l, r = 0, 1\n",
    "        record = defaultdict(int)\n",
    "        record[s[0]] += 1\n",
    "        res = 0\n",
    "        \n",
    "        while r < L:\n",
    "            if len([1 for v in record.values() if v > 0]) <= k:\n",
    "                res = max(res, r - l)\n",
    "                record[s[r]] += 1\n",
    "                r += 1\n",
    "            else:\n",
    "                record[s[l]] -= 1\n",
    "                l += 1\n",
    "        \n",
    "        while l < r:\n",
    "            if len([1 for v in record.values() if v > 0]) <= k:\n",
    "                res = max(res, r - l)\n",
    "                break\n",
    "            record[s[l]] -= 1\n",
    "            l += 1\n",
    "        \n",
    "        return res"
   ]
  },
  {
   "cell_type": "markdown",
   "metadata": {},
   "source": [
    "## Lessons and Thoughts\n",
    "- Gotta be more careful even if it is a simple problem..."
   ]
  }
 ],
 "metadata": {
  "kernelspec": {
   "display_name": "Python 3",
   "language": "python",
   "name": "python3"
  },
  "language_info": {
   "codemirror_mode": {
    "name": "ipython",
    "version": 3
   },
   "file_extension": ".py",
   "mimetype": "text/x-python",
   "name": "python",
   "nbconvert_exporter": "python",
   "pygments_lexer": "ipython3",
   "version": "3.7.3"
  }
 },
 "nbformat": 4,
 "nbformat_minor": 2
}
