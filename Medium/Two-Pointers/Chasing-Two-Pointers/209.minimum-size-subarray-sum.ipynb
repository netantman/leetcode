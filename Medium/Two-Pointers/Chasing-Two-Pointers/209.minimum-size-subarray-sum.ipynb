{
 "cells": [
  {
   "cell_type": "markdown",
   "metadata": {},
   "source": [
    "## Attempt 1 - Accepted"
   ]
  },
  {
   "cell_type": "code",
   "execution_count": null,
   "metadata": {},
   "outputs": [],
   "source": [
    "class Solution:\n",
    "    def minSubArrayLen(self, s: int, nums: List[int]) -> int:\n",
    "        if len(nums)<1:\n",
    "            return 0\n",
    "        if len(nums)==1:\n",
    "            if nums[0]>=s:\n",
    "                return 1\n",
    "            else:\n",
    "                return 0\n",
    "        if sum(nums)<s:\n",
    "            return 0\n",
    "    \n",
    "        back, front=0, 1\n",
    "        L=len(nums)\n",
    "        res=L\n",
    "        while front<L:\n",
    "            this=nums[back:front]\n",
    "            if sum(this)>=s:\n",
    "                res=min(res, front-back)\n",
    "                if res==1:\n",
    "                    return res\n",
    "                back+=1\n",
    "            else:\n",
    "                front+=1\n",
    "        while back<L:\n",
    "            this=nums[back:]\n",
    "            if sum(this)>=s:\n",
    "                res=min(res, front-back)\n",
    "                if res==1:\n",
    "                    return res\n",
    "                back+=1\n",
    "            else:\n",
    "                break\n",
    "        return res"
   ]
  },
  {
   "cell_type": "markdown",
   "metadata": {},
   "source": [
    "## Lessons and Thoughts\n",
    "- Classic chasing pointers problem"
   ]
  }
 ],
 "metadata": {
  "kernelspec": {
   "display_name": "Python 3",
   "language": "python",
   "name": "python3"
  },
  "language_info": {
   "codemirror_mode": {
    "name": "ipython",
    "version": 3
   },
   "file_extension": ".py",
   "mimetype": "text/x-python",
   "name": "python",
   "nbconvert_exporter": "python",
   "pygments_lexer": "ipython3",
   "version": "3.7.3"
  }
 },
 "nbformat": 4,
 "nbformat_minor": 2
}
