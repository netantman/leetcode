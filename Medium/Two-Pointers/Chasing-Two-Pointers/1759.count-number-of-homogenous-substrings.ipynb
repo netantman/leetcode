{
 "cells": [
  {
   "cell_type": "markdown",
   "metadata": {},
   "source": [
    "## Attempt 1 - Accepted"
   ]
  },
  {
   "cell_type": "code",
   "execution_count": null,
   "metadata": {},
   "outputs": [],
   "source": [
    "class Solution:\n",
    "    def countHomogenous(self, s: str) -> int:\n",
    "        L = len(s)\n",
    "        l, r = 0, 0\n",
    "        res = 0\n",
    "        while r < L:\n",
    "            if s[r] == s[l]:\n",
    "                r += 1\n",
    "            else:\n",
    "                res += (r - l + 1) * (r - l) // 2\n",
    "                l = r\n",
    "        res += (r - l + 1) * (r - l) // 2\n",
    "        return res % (10 ** 9 + 7)"
   ]
  },
  {
   "cell_type": "markdown",
   "metadata": {},
   "source": [
    "## Lessons and Thoughts\n",
    "- The idea is to recognize that you need to count the instances of constiguous subarrays."
   ]
  }
 ],
 "metadata": {
  "kernelspec": {
   "display_name": "Python 3",
   "language": "python",
   "name": "python3"
  },
  "language_info": {
   "codemirror_mode": {
    "name": "ipython",
    "version": 3
   },
   "file_extension": ".py",
   "mimetype": "text/x-python",
   "name": "python",
   "nbconvert_exporter": "python",
   "pygments_lexer": "ipython3",
   "version": "3.7.3"
  }
 },
 "nbformat": 4,
 "nbformat_minor": 2
}
