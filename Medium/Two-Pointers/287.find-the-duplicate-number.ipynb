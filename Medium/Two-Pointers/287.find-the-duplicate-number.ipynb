{
 "cells": [
  {
   "cell_type": "markdown",
   "metadata": {},
   "source": [
    "## Attempt 1 - Accepted: the official solution"
   ]
  },
  {
   "cell_type": "code",
   "execution_count": null,
   "metadata": {},
   "outputs": [],
   "source": [
    "class Solution:\n",
    "    def findDuplicate(self, nums: List[int]) -> int:\n",
    "        fast, slow=nums[nums[nums[0]]], nums[nums[0]]\n",
    "        while fast!=slow:\n",
    "            fast=nums[nums[fast]]\n",
    "            slow=nums[slow]\n",
    "        ptr=nums[0]\n",
    "        while ptr!=slow:\n",
    "            ptr=nums[ptr]\n",
    "            slow=nums[slow]\n",
    "        return ptr"
   ]
  },
  {
   "cell_type": "markdown",
   "metadata": {},
   "source": [
    "## Lessons and Thoughts\n",
    "- The idea is what is in Problems 141 and 142. One can define a linked list where `x.next()` is `nums[x]`. The duplicate element is then the entrance of the cycle. See more detail [here](https://leetcode.com/articles/find-the-duplicate-number/)"
   ]
  }
 ],
 "metadata": {
  "kernelspec": {
   "display_name": "Python 3",
   "language": "python",
   "name": "python3"
  },
  "language_info": {
   "codemirror_mode": {
    "name": "ipython",
    "version": 3
   },
   "file_extension": ".py",
   "mimetype": "text/x-python",
   "name": "python",
   "nbconvert_exporter": "python",
   "pygments_lexer": "ipython3",
   "version": "3.7.3"
  }
 },
 "nbformat": 4,
 "nbformat_minor": 2
}
