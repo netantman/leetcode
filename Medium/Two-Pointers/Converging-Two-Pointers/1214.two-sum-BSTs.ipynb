{
 "cells": [
  {
   "cell_type": "markdown",
   "metadata": {},
   "source": [
    "## Attempt 1 - Accepted"
   ]
  },
  {
   "cell_type": "code",
   "execution_count": null,
   "metadata": {},
   "outputs": [],
   "source": [
    "# Definition for a binary tree node.\n",
    "# class TreeNode:\n",
    "#     def __init__(self, val=0, left=None, right=None):\n",
    "#         self.val = val\n",
    "#         self.left = left\n",
    "#         self.right = right\n",
    "class Solution:\n",
    "    def twoSumBSTs(self, root1: Optional[TreeNode], root2: Optional[TreeNode], target: int) -> bool:\n",
    "        def flatten(root):\n",
    "            if root is None:\n",
    "                return []\n",
    "            left = [l for l in flatten(root.left)]\n",
    "            right = [r for r in flatten(root.right)]\n",
    "            return left + [root.val] + right\n",
    "        \n",
    "        seq1, seq2 = flatten(root1), flatten(root2)\n",
    "        L1, L2 = len(seq1), len(seq2)\n",
    "        l, r = 0, L2 - 1\n",
    "        while l < L1 and r >= 0:\n",
    "            if seq1[l] + seq2[r] == target:\n",
    "                return True\n",
    "            elif seq1[l] + seq2[r] < target:\n",
    "                l += 1\n",
    "            else:\n",
    "                r -= 1\n",
    "        return False"
   ]
  },
  {
   "cell_type": "markdown",
   "metadata": {},
   "source": [
    "## Lessons and Thoughts\n",
    "- Once you flatten the BST, it becomes Problem 15. Guess it is hard to come up with converging two pointer problems."
   ]
  }
 ],
 "metadata": {
  "kernelspec": {
   "display_name": "Python 3",
   "language": "python",
   "name": "python3"
  },
  "language_info": {
   "codemirror_mode": {
    "name": "ipython",
    "version": 3
   },
   "file_extension": ".py",
   "mimetype": "text/x-python",
   "name": "python",
   "nbconvert_exporter": "python",
   "pygments_lexer": "ipython3",
   "version": "3.7.3"
  }
 },
 "nbformat": 4,
 "nbformat_minor": 2
}
