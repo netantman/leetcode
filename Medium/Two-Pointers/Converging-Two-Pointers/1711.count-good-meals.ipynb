{
 "cells": [
  {
   "cell_type": "markdown",
   "metadata": {},
   "source": [
    "## Attempt 1 - Time Limit Exceeded"
   ]
  },
  {
   "cell_type": "code",
   "execution_count": null,
   "metadata": {},
   "outputs": [],
   "source": [
    "class Solution:\n",
    "    def countPairs(self, deliciousness: List[int]) -> int:\n",
    "        L = len(deliciousness) \n",
    "        if L < 2:\n",
    "            return 0\n",
    "        deliciousness = sorted(deliciousness)\n",
    "        \n",
    "        upper = deliciousness[-2] + deliciousness[-1] + 1\n",
    "        p = 0\n",
    "        powers = set()\n",
    "        while 2 ** p <= upper:\n",
    "            powers.add(2 ** p)\n",
    "            p += 1\n",
    "        \n",
    "        res = 0\n",
    "        for i in range(L):\n",
    "            for j in range(i + 1, L):\n",
    "                if deliciousness[i] + deliciousness[j] in powers:\n",
    "                    res += 1\n",
    "        return res"
   ]
  },
  {
   "cell_type": "markdown",
   "metadata": {},
   "source": [
    "## Attempt 2 - Accepted"
   ]
  },
  {
   "cell_type": "code",
   "execution_count": null,
   "metadata": {},
   "outputs": [],
   "source": [
    "class Solution:\n",
    "    def countPairs(self, deliciousness: List[int]) -> int:\n",
    "        L = len(deliciousness) \n",
    "        if L < 2:\n",
    "            return 0\n",
    "        deliciousness = sorted(deliciousness)\n",
    "        counter = dict()\n",
    "        for d in deliciousness:\n",
    "            counter[d] = counter.get(d, 0) + 1\n",
    "        \n",
    "        p = 0\n",
    "        res = 0\n",
    "        L = len(deliciousness)\n",
    "        while p <= 21:\n",
    "            l, r = 0, L - 1\n",
    "            while deliciousness[l] < 2 ** p and r > l:\n",
    "                if deliciousness[l] + deliciousness[r] == 2 ** p:\n",
    "                    if deliciousness[l] != deliciousness[r]:\n",
    "                        res += counter[deliciousness[l]] * counter[deliciousness[r]] \n",
    "                        tmp = l\n",
    "                        while tmp < L and deliciousness[tmp] == deliciousness[l]:\n",
    "                            tmp += 1\n",
    "                        l = tmp\n",
    "                        tmp = r\n",
    "                        while tmp >= 0 and deliciousness[tmp] == deliciousness[r]:\n",
    "                            tmp -= 1\n",
    "                        r = tmp\n",
    "                    else:\n",
    "                        res += (counter[deliciousness[l]]) * (counter[deliciousness[l]] - 1) // 2\n",
    "                        l = r\n",
    "                    continue\n",
    "                if deliciousness[l] + deliciousness[r] < 2 ** p:\n",
    "                    l += 1\n",
    "                    continue\n",
    "                if deliciousness[l] + deliciousness[r] > 2 ** p:\n",
    "                    r -= 1\n",
    "                    continue\n",
    "            p += 1\n",
    "\n",
    "        return res % (10 ** 9 + 7)"
   ]
  },
  {
   "cell_type": "markdown",
   "metadata": {},
   "source": [
    "## Lessons and Thoughts\n",
    "- The edge cases are duplicates and on top of that, some element happens to be power of 2."
   ]
  }
 ],
 "metadata": {
  "kernelspec": {
   "display_name": "Python 3",
   "language": "python",
   "name": "python3"
  },
  "language_info": {
   "codemirror_mode": {
    "name": "ipython",
    "version": 3
   },
   "file_extension": ".py",
   "mimetype": "text/x-python",
   "name": "python",
   "nbconvert_exporter": "python",
   "pygments_lexer": "ipython3",
   "version": "3.7.3"
  }
 },
 "nbformat": 4,
 "nbformat_minor": 2
}
