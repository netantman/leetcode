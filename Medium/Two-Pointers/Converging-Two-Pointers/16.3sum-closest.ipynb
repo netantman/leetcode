{
 "cells": [
  {
   "cell_type": "markdown",
   "metadata": {},
   "source": [
    "## Attempt 1"
   ]
  },
  {
   "cell_type": "code",
   "execution_count": null,
   "metadata": {},
   "outputs": [],
   "source": [
    "class Solution:\n",
    "    def threeSumClosest(self, nums: List[int], target: int) -> int:\n",
    "        if len(nums)==3:\n",
    "            return sum(nums)\n",
    "        \n",
    "        nums=sorted(nums)\n",
    "        len_nums=len(nums)\n",
    "        res, diff=None, None\n",
    "        for idx in range(len_nums-2):\n",
    "            left, right = idx+1, len_nums-1\n",
    "            while right>left:\n",
    "                to_see=nums[idx]+nums[left]+nums[right]\n",
    "                if diff is None:\n",
    "                    diff=abs(to_see-target)\n",
    "                if (res is None) or (abs(to_see-target)<diff):\n",
    "                    res=to_see\n",
    "                    diff=abs(to_see-target)\n",
    "                    if diff==0:\n",
    "                        return target\n",
    "                if to_see<target:\n",
    "                    left+=1\n",
    "                else:\n",
    "                    right-=1\n",
    "                    \n",
    "        return res"
   ]
  },
  {
   "cell_type": "markdown",
   "metadata": {},
   "source": [
    "## Lessons and Thoughts\n",
    "- `diff` can be None at start: remember to initialize it."
   ]
  }
 ],
 "metadata": {
  "kernelspec": {
   "display_name": "Python 3",
   "language": "python",
   "name": "python3"
  },
  "language_info": {
   "codemirror_mode": {
    "name": "ipython",
    "version": 3
   },
   "file_extension": ".py",
   "mimetype": "text/x-python",
   "name": "python",
   "nbconvert_exporter": "python",
   "pygments_lexer": "ipython3",
   "version": "3.7.3"
  }
 },
 "nbformat": 4,
 "nbformat_minor": 2
}
