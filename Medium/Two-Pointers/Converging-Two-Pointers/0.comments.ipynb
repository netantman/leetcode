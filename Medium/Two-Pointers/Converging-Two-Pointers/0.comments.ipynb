{
 "cells": [
  {
   "cell_type": "markdown",
   "metadata": {},
   "source": [
    "## Idea\n",
    "\n",
    "The two pointers work on the same array, one from left to right, and the other from right to left. Typically implemented via a `while` loop, each iteration either `left` proceeds or `right` decreases, or both. The algo stops when `left` meets `right`, hence an `O(n)` algo. To think about iteration conditions, it is usually when value at `left` and value at `right` can form a pair that satisfies something."
   ]
  },
  {
   "cell_type": "markdown",
   "metadata": {},
   "source": [
    "## Traps\n",
    "\n",
    "- When there are duplicate elements, so that we may speed up.\n",
    "- When value at `left` and value at `right` are equal, or even when `left` and `right` are equal. More complicated when there are duplicates; see Problem 1711."
   ]
  }
 ],
 "metadata": {
  "kernelspec": {
   "display_name": "Python 3",
   "language": "python",
   "name": "python3"
  },
  "language_info": {
   "codemirror_mode": {
    "name": "ipython",
    "version": 3
   },
   "file_extension": ".py",
   "mimetype": "text/x-python",
   "name": "python",
   "nbconvert_exporter": "python",
   "pygments_lexer": "ipython3",
   "version": "3.7.3"
  }
 },
 "nbformat": 4,
 "nbformat_minor": 2
}
