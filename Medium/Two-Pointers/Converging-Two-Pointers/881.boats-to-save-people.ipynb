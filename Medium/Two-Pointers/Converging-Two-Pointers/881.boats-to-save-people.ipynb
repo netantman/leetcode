{
 "cells": [
  {
   "cell_type": "markdown",
   "metadata": {},
   "source": [
    "## Attempt 1 - Accepted"
   ]
  },
  {
   "cell_type": "code",
   "execution_count": null,
   "metadata": {},
   "outputs": [],
   "source": [
    "class Solution:\n",
    "    def numRescueBoats(self, people: List[int], limit: int) -> int:\n",
    "        people=sorted(people)\n",
    "        L=len(people)\n",
    "        left, right=0,L-1\n",
    "        cnt=0\n",
    "        while left<right:\n",
    "            if people[left]+people[right]<=limit:\n",
    "                cnt+=1\n",
    "                left+=1\n",
    "                right-=1\n",
    "            else:\n",
    "                cnt+=1\n",
    "                right-=1\n",
    "        if left==right:\n",
    "            cnt+=1\n",
    "        return cnt"
   ]
  },
  {
   "cell_type": "markdown",
   "metadata": {},
   "source": [
    "## Lessons and Thoughts\n",
    "- Again it helps to be very clear about the meaning of the pointers for two-pointers problems."
   ]
  }
 ],
 "metadata": {
  "kernelspec": {
   "display_name": "Python 3",
   "language": "python",
   "name": "python3"
  },
  "language_info": {
   "codemirror_mode": {
    "name": "ipython",
    "version": 3
   },
   "file_extension": ".py",
   "mimetype": "text/x-python",
   "name": "python",
   "nbconvert_exporter": "python",
   "pygments_lexer": "ipython3",
   "version": "3.7.3"
  }
 },
 "nbformat": 4,
 "nbformat_minor": 2
}
