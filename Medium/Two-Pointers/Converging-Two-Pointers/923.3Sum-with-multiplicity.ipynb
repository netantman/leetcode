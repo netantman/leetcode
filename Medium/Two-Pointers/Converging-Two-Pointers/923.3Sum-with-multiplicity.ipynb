{
 "cells": [
  {
   "cell_type": "markdown",
   "metadata": {},
   "source": [
    "## Attempt 1 - Time Limit Exceeded"
   ]
  },
  {
   "cell_type": "code",
   "execution_count": null,
   "metadata": {},
   "outputs": [],
   "source": [
    "class Solution:\n",
    "    def threeSumMulti(self, A: List[int], target: int) -> int:\n",
    "        A=sorted(A)\n",
    "        L=len(A)\n",
    "        res=0\n",
    "        for i in range(L-2):\n",
    "            rest=target-A[i]\n",
    "            left,right=i+1,L-1\n",
    "            while left<right:\n",
    "                if A[left]+A[right]==rest:\n",
    "                    res+=1\n",
    "                    idx=1\n",
    "                    while left+idx<right and A[left+idx]==A[left]:\n",
    "                        res+=1\n",
    "                        idx+=1\n",
    "                    right-=1 ## --> this is too slow\n",
    "                elif A[left]+A[right]<rest:\n",
    "                    left+=1\n",
    "                else:\n",
    "                    right-=1\n",
    "        return res"
   ]
  },
  {
   "cell_type": "markdown",
   "metadata": {},
   "source": [
    "## Attempt 2 - Wrong Answer"
   ]
  },
  {
   "cell_type": "code",
   "execution_count": null,
   "metadata": {},
   "outputs": [],
   "source": [
    "class Solution:\n",
    "    def threeSumMulti(self, A: List[int], target: int) -> int:\n",
    "        A=sorted(A)\n",
    "        L=len(A)\n",
    "        res=0\n",
    "        mod=10**9+7\n",
    "        for i in range(L-2):\n",
    "            rest=target-A[i]\n",
    "            left,right=i+1,L-1\n",
    "            while left<right:\n",
    "                if A[left]+A[right]==rest:\n",
    "                    if A[left]<A[right]:\n",
    "                        l=1\n",
    "                        while left+l<right and A[left+l]==A[left]:\n",
    "                            l+=1\n",
    "                        r=1\n",
    "                        while right-r>left+l and A[right-r]==A[right]:  ## --> should be >=. you can see that in running an actual example\n",
    "                            r+=1\n",
    "                        res+=(l*r)%mod\n",
    "                        left+=l\n",
    "                        right-=r\n",
    "                    else:\n",
    "                        res+=((right-left+1)*(right-left)//2)%mod\n",
    "                        break\n",
    "                elif A[left]+A[right]<rest:\n",
    "                    left+=1\n",
    "                else:\n",
    "                    right-=1\n",
    "        return res%mod"
   ]
  },
  {
   "cell_type": "markdown",
   "metadata": {},
   "source": [
    "## Attempt 3 - Time Limit Exceeded"
   ]
  },
  {
   "cell_type": "markdown",
   "metadata": {},
   "source": [
    "In the leetcode solution there is this three-pointer approach, but it is still TLE."
   ]
  },
  {
   "cell_type": "code",
   "execution_count": null,
   "metadata": {},
   "outputs": [],
   "source": [
    "class Solution:\n",
    "    def threeSumMulti(self, A: List[int], target: int) -> int:\n",
    "        A=sorted(A)\n",
    "        L=len(A)\n",
    "        res=0\n",
    "        mod=10**9+7\n",
    "        for i in range(L-2):\n",
    "            rest=target-A[i]\n",
    "            left,right=i+1,L-1\n",
    "            while left<right:\n",
    "                if A[left]+A[right]==rest:\n",
    "                    if A[left]<A[right]:\n",
    "                        l=1\n",
    "                        while left+l<right and A[left+l]==A[left]:\n",
    "                            l+=1\n",
    "                        r=1\n",
    "                        while right-r>left+l and A[right-r]==A[right]:\n",
    "                            r+=1\n",
    "                        res+=(l*r)%mod\n",
    "                        left+=l\n",
    "                        right-=r\n",
    "                    else:\n",
    "                        res+=((right-left+1)*(right-left)//2)%mod\n",
    "                        break\n",
    "                elif A[left]+A[right]<rest:\n",
    "                    left+=1\n",
    "                else:\n",
    "                    right-=1\n",
    "        return res%mod"
   ]
  },
  {
   "cell_type": "markdown",
   "metadata": {},
   "source": [
    "## Attempt 4 - Accepted"
   ]
  },
  {
   "cell_type": "code",
   "execution_count": null,
   "metadata": {},
   "outputs": [],
   "source": [
    "class Solution:\n",
    "    def threeSumMulti(self, A: List[int], target: int) -> int:\n",
    "        \n",
    "        \n",
    "        res=0\n",
    "        mod=10**9+7\n",
    "        record=dict()\n",
    "        for a in A:\n",
    "            record[a]=record.get(a,0)+1\n",
    "        keys=sorted(record.keys())\n",
    "        # print(record)\n",
    "        \n",
    "        L=len(keys)\n",
    "        for i in range(L):\n",
    "            rest=target-keys[i]\n",
    "            left,right=i,L-1\n",
    "            while left<=right:\n",
    "                # print(i,left, right)\n",
    "                if keys[left]+keys[right]==rest:\n",
    "                    if keys[i]==keys[left] and keys[left]==keys[right]:\n",
    "                        n=record[keys[i]]\n",
    "                        if n>=3:\n",
    "                            res+=n*(n-1)*(n-2)//6\n",
    "                            res=res%mod\n",
    "                    elif keys[i]==keys[left] and keys[left]<keys[right]:\n",
    "                        m,n=record[keys[i]], record[keys[right]]\n",
    "                        if m>=2:\n",
    "                            res+=(m*(m-1)//2)*n\n",
    "                            res=res%mod\n",
    "                    elif keys[i]<keys[left] and keys[left]==keys[right]:\n",
    "                        m,n=record[keys[i]], record[keys[right]]\n",
    "                        if n>=2:\n",
    "                            res+=m*(n*(n-1)//2)\n",
    "                            res=res%mod\n",
    "                    else:\n",
    "                        res+=record[keys[i]]*record[keys[left]]*record[keys[right]]\n",
    "                        res=res%mod\n",
    "                    left+=1\n",
    "                    right-=1\n",
    "                    # print(res)\n",
    "                elif keys[left]+keys[right]<rest:\n",
    "                    left+=1\n",
    "                else:\n",
    "                    right-=1\n",
    "        return res%mod"
   ]
  },
  {
   "cell_type": "markdown",
   "metadata": {},
   "source": [
    "## Attempt 5 - Accepted"
   ]
  },
  {
   "cell_type": "code",
   "execution_count": null,
   "metadata": {},
   "outputs": [],
   "source": [
    "class Solution:\n",
    "    def threeSumMulti(self, arr: List[int], target: int) -> int:\n",
    "        MODOLO = (10 ** 9 + 7)\n",
    "        arr = sorted(arr)\n",
    "        L = len(arr)\n",
    "        res = 0\n",
    "        for idx, a in enumerate(arr):\n",
    "            s = target - a\n",
    "            l, r = idx + 1, L - 1\n",
    "            while r > l:\n",
    "                if arr[l] + arr[r] < s:\n",
    "                    l += 1\n",
    "                    continue\n",
    "                if arr[l] + arr[r] > s:\n",
    "                    r -= 1\n",
    "                    continue\n",
    "                \n",
    "                el, er = arr[l], arr[r]\n",
    "                if el == er:\n",
    "                    res += (((r - l + 1) * (r - l) // 2) % MODOLO)\n",
    "                    break\n",
    "                \n",
    "                left, right = 0, 0\n",
    "                while arr[l] == el:\n",
    "                    left += 1\n",
    "                    l += 1\n",
    "                while arr[r] == er:\n",
    "                    right += 1\n",
    "                    r -= 1\n",
    "                res += ((left * right) % MODOLO)\n",
    "        \n",
    "        return (res % MODOLO)\n"
   ]
  },
  {
   "cell_type": "markdown",
   "metadata": {},
   "source": [
    "## Lessons and Thoughts\n",
    "- To enhance the three pointer algo for 3sum in the presence of duplicate values, the most efficient way is to keep a `dict` of counts and apply the three pointers on the keys.\n",
    "- Attempt 5 is a cleaner implementation of two pointers."
   ]
  }
 ],
 "metadata": {
  "kernelspec": {
   "display_name": "Python 3 (ipykernel)",
   "language": "python",
   "name": "python3"
  },
  "language_info": {
   "codemirror_mode": {
    "name": "ipython",
    "version": 3
   },
   "file_extension": ".py",
   "mimetype": "text/x-python",
   "name": "python",
   "nbconvert_exporter": "python",
   "pygments_lexer": "ipython3",
   "version": "3.9.7"
  }
 },
 "nbformat": 4,
 "nbformat_minor": 2
}
