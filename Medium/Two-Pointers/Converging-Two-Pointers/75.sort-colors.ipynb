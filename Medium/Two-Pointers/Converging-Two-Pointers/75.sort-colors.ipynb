{
 "cells": [
  {
   "cell_type": "markdown",
   "metadata": {},
   "source": [
    "## Attempt 1 - Wrong Answer"
   ]
  },
  {
   "cell_type": "code",
   "execution_count": null,
   "metadata": {},
   "outputs": [],
   "source": [
    "class Solution:\n",
    "    def sortColors(self, nums: List[int]) -> None:\n",
    "        \"\"\"\n",
    "        Do not return anything, modify nums in-place instead.\n",
    "        \"\"\"\n",
    "        if len(nums)<=1:\n",
    "            return\n",
    "        \n",
    "        left,mid,right=0,1,len(nums)-1\n",
    "        while (mid<right):\n",
    "            if nums[left]==2:\n",
    "                nums[right], nums[left]=nums[left], nums[right]\n",
    "                right-=1\n",
    "            elif nums[left]==0:\n",
    "                left+=1\n",
    "                mid+=1\n",
    "            if nums[right]==0:\n",
    "                nums[right], nums[left]=nums[left], nums[right]\n",
    "                left+=1\n",
    "                mid+=1\n",
    "            elif nums[right]==2:\n",
    "                right-=1\n",
    "            if nums[mid]==2:\n",
    "                nums[mid], nums[right]=nums[right], nums[mid]\n",
    "                right-=1\n",
    "            elif nums[mid]==0:\n",
    "                nums[mid], nums[left]=nums[left], nums[mid]\n",
    "                left+=1\n",
    "                mid+=1\n",
    "            else:\n",
    "                mid+=1\n",
    "        return"
   ]
  },
  {
   "cell_type": "markdown",
   "metadata": {},
   "source": [
    "## Attempt 2 - Wrong Answer: does not pass the edge case of [2,0,1]"
   ]
  },
  {
   "cell_type": "code",
   "execution_count": null,
   "metadata": {},
   "outputs": [],
   "source": [
    "class Solution:\n",
    "    def sortColors(self, nums: List[int]) -> None:\n",
    "        \"\"\"\n",
    "        Do not return anything, modify nums in-place instead.\n",
    "        \"\"\"\n",
    "        if len(nums)<=1:\n",
    "            return\n",
    "        \n",
    "        left,mid,right=0,1,len(nums)-1\n",
    "        while (mid<right):\n",
    "            if nums[left]==2:\n",
    "                nums[right], nums[left]=nums[left], nums[right]\n",
    "                right-=1\n",
    "            elif nums[left]==0:\n",
    "                left+=1\n",
    "                mid+=1\n",
    "            elif nums[right]==0:\n",
    "                nums[right], nums[left]=nums[left], nums[right]\n",
    "                left+=1\n",
    "                mid+=1\n",
    "            elif nums[right]==2:\n",
    "                right-=1\n",
    "            else: \n",
    "                if nums[mid]==2:\n",
    "                    nums[mid], nums[right]=nums[right], nums[mid]\n",
    "                    right-=1\n",
    "                elif nums[mid]==0:\n",
    "                    nums[mid], nums[left]=nums[left], nums[mid]\n",
    "                    left+=1\n",
    "                    mid+=1\n",
    "                else:\n",
    "                    mid+=1\n",
    "        return"
   ]
  },
  {
   "cell_type": "markdown",
   "metadata": {},
   "source": [
    "## Attempt 3 - Accepted"
   ]
  },
  {
   "cell_type": "code",
   "execution_count": null,
   "metadata": {},
   "outputs": [],
   "source": [
    "class Solution:\n",
    "    def sortColors(self, nums: List[int]) -> None:\n",
    "        \"\"\"\n",
    "        Do not return anything, modify nums in-place instead.\n",
    "        \"\"\"\n",
    "        if len(nums)<=1:\n",
    "            return\n",
    "        \n",
    "        left,mid,right=0,0,len(nums)-1\n",
    "        while (mid<=right):\n",
    "            if nums[left]==2:\n",
    "                nums[right], nums[left]=nums[left], nums[right]\n",
    "                right-=1\n",
    "            elif nums[left]==0:\n",
    "                left+=1\n",
    "                mid+=1\n",
    "            elif nums[right]==0:\n",
    "                nums[right], nums[left]=nums[left], nums[right]\n",
    "                left+=1\n",
    "                mid+=1\n",
    "            elif nums[right]==2:\n",
    "                right-=1\n",
    "            else: \n",
    "                if nums[mid]==2:\n",
    "                    nums[mid], nums[right]=nums[right], nums[mid]\n",
    "                    right-=1\n",
    "                elif nums[mid]==0:\n",
    "                    nums[mid], nums[left]=nums[left], nums[mid]\n",
    "                    left+=1\n",
    "                    mid+=1\n",
    "                else:\n",
    "                    mid+=1\n",
    "        \n",
    "        return"
   ]
  },
  {
   "cell_type": "markdown",
   "metadata": {},
   "source": [
    "## Lessons and Thoughts\n",
    "- When you are struggling with edge cases, probably it is good to look at how you initialize."
   ]
  }
 ],
 "metadata": {
  "kernelspec": {
   "display_name": "Python 3",
   "language": "python",
   "name": "python3"
  },
  "language_info": {
   "codemirror_mode": {
    "name": "ipython",
    "version": 3
   },
   "file_extension": ".py",
   "mimetype": "text/x-python",
   "name": "python",
   "nbconvert_exporter": "python",
   "pygments_lexer": "ipython3",
   "version": "3.7.3"
  }
 },
 "nbformat": 4,
 "nbformat_minor": 2
}
