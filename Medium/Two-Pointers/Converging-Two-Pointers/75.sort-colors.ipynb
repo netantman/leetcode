{
 "cells": [
  {
   "cell_type": "markdown",
   "metadata": {},
   "source": [
    "## Attempt 1 - Wrong Answer"
   ]
  },
  {
   "cell_type": "code",
   "execution_count": null,
   "metadata": {},
   "outputs": [],
   "source": [
    "class Solution:\n",
    "    def sortColors(self, nums: List[int]) -> None:\n",
    "        \"\"\"\n",
    "        Do not return anything, modify nums in-place instead.\n",
    "        \"\"\"\n",
    "        if len(nums)<=1:\n",
    "            return\n",
    "        \n",
    "        left,mid,right=0,1,len(nums)-1\n",
    "        while (mid<right):\n",
    "            if nums[left]==2:\n",
    "                nums[right], nums[left]=nums[left], nums[right]\n",
    "                right-=1\n",
    "            elif nums[left]==0:\n",
    "                left+=1\n",
    "                mid+=1\n",
    "            if nums[right]==0:\n",
    "                nums[right], nums[left]=nums[left], nums[right]\n",
    "                left+=1\n",
    "                mid+=1\n",
    "            elif nums[right]==2:\n",
    "                right-=1\n",
    "            if nums[mid]==2:\n",
    "                nums[mid], nums[right]=nums[right], nums[mid]\n",
    "                right-=1\n",
    "            elif nums[mid]==0:\n",
    "                nums[mid], nums[left]=nums[left], nums[mid]\n",
    "                left+=1\n",
    "                mid+=1\n",
    "            else:\n",
    "                mid+=1\n",
    "        return"
   ]
  },
  {
   "cell_type": "markdown",
   "metadata": {},
   "source": [
    "## Attempt 2 - Wrong Answer: does not pass the edge case of [2,0,1]"
   ]
  },
  {
   "cell_type": "code",
   "execution_count": null,
   "metadata": {},
   "outputs": [],
   "source": [
    "class Solution:\n",
    "    def sortColors(self, nums: List[int]) -> None:\n",
    "        \"\"\"\n",
    "        Do not return anything, modify nums in-place instead.\n",
    "        \"\"\"\n",
    "        if len(nums)<=1:\n",
    "            return\n",
    "        \n",
    "        left,mid,right=0,1,len(nums)-1\n",
    "        while (mid<right):\n",
    "            if nums[left]==2:\n",
    "                nums[right], nums[left]=nums[left], nums[right]\n",
    "                right-=1\n",
    "            elif nums[left]==0:\n",
    "                left+=1\n",
    "                mid+=1\n",
    "            elif nums[right]==0:\n",
    "                nums[right], nums[left]=nums[left], nums[right]\n",
    "                left+=1\n",
    "                mid+=1\n",
    "            elif nums[right]==2:\n",
    "                right-=1\n",
    "            else: \n",
    "                if nums[mid]==2:\n",
    "                    nums[mid], nums[right]=nums[right], nums[mid]\n",
    "                    right-=1\n",
    "                elif nums[mid]==0:\n",
    "                    nums[mid], nums[left]=nums[left], nums[mid]\n",
    "                    left+=1\n",
    "                    mid+=1\n",
    "                else:\n",
    "                    mid+=1\n",
    "        return"
   ]
  },
  {
   "cell_type": "markdown",
   "metadata": {},
   "source": [
    "## Attempt 3 - Accepted"
   ]
  },
  {
   "cell_type": "code",
   "execution_count": null,
   "metadata": {},
   "outputs": [],
   "source": [
    "class Solution:\n",
    "    def sortColors(self, nums: List[int]) -> None:\n",
    "        \"\"\"\n",
    "        Do not return anything, modify nums in-place instead.\n",
    "        \"\"\"\n",
    "        if len(nums)<=1:\n",
    "            return\n",
    "        \n",
    "        left,mid,right=0,0,len(nums)-1\n",
    "        while (mid<=right):\n",
    "            if nums[left]==2:\n",
    "                nums[right], nums[left]=nums[left], nums[right]\n",
    "                right-=1\n",
    "            elif nums[left]==0:\n",
    "                left+=1\n",
    "                mid+=1\n",
    "            elif nums[right]==0:\n",
    "                nums[right], nums[left]=nums[left], nums[right]\n",
    "                left+=1\n",
    "                mid+=1\n",
    "            elif nums[right]==2:\n",
    "                right-=1\n",
    "            else: \n",
    "                if nums[mid]==2:\n",
    "                    nums[mid], nums[right]=nums[right], nums[mid]\n",
    "                    right-=1\n",
    "                elif nums[mid]==0:\n",
    "                    nums[mid], nums[left]=nums[left], nums[mid]\n",
    "                    left+=1\n",
    "                    mid+=1\n",
    "                else:\n",
    "                    mid+=1\n",
    "        \n",
    "        return"
   ]
  },
  {
   "cell_type": "markdown",
   "metadata": {},
   "source": [
    "## Attempt 3 - Accepted"
   ]
  },
  {
   "cell_type": "code",
   "execution_count": null,
   "metadata": {},
   "outputs": [],
   "source": [
    "class Solution:\n",
    "    def sortColors(self, nums: List[int]) -> None:\n",
    "        \"\"\"\n",
    "        Do not return anything, modify nums in-place instead.\n",
    "        \"\"\"\n",
    "        L = len(nums)\n",
    "        if L == 1:\n",
    "            return\n",
    "        \n",
    "        l, r = 0, L - 1\n",
    "        m = 0\n",
    "        while l < r:\n",
    "            # print(l, r)\n",
    "            curr = (nums[l], nums[r])\n",
    "            if curr == (0, 0):\n",
    "                l += 1\n",
    "            elif curr == (0, 1):\n",
    "                l += 1\n",
    "            elif curr == (0, 2):\n",
    "                l += 1\n",
    "                r -= 1\n",
    "            elif curr == (1, 0):\n",
    "                nums[l], nums[r] = nums[r], nums[l]\n",
    "            elif curr == (1, 1):\n",
    "                while m <= r and nums[m] == 1:\n",
    "                    m += 1\n",
    "                if m > r:\n",
    "                    break\n",
    "                if nums[m] == 2:\n",
    "                    nums[r], nums[m] = nums[m], nums[r]\n",
    "                    continue\n",
    "                if nums[m] == 0:\n",
    "                    nums[l], nums[m] = nums[m], nums[l]\n",
    "                    continue\n",
    "            elif curr == (1, 2):\n",
    "                r -= 1\n",
    "            elif curr == (2, 0):\n",
    "                nums[l], nums[r] = nums[r], nums[l]\n",
    "            elif curr == (2, 1):\n",
    "                nums[l], nums[r] = nums[r], nums[l]\n",
    "            elif curr == (2, 2):\n",
    "                r -= 1\n",
    "\n",
    "            while m < l:\n",
    "                m += 1\n",
    "            if m == r:\n",
    "                break\n",
    "            \n",
    "            # print(nums)\n",
    "        \n",
    "        return"
   ]
  },
  {
   "cell_type": "markdown",
   "metadata": {},
   "source": [
    "## Lessons and Thoughts\n",
    "- When you are struggling with edge cases, probably it is good to look at how you initialize.\n",
    "- It is probably better that you list out all cases, like Attempt 3, which took ~16min."
   ]
  }
 ],
 "metadata": {
  "kernelspec": {
   "display_name": "Python 3 (ipykernel)",
   "language": "python",
   "name": "python3"
  },
  "language_info": {
   "codemirror_mode": {
    "name": "ipython",
    "version": 3
   },
   "file_extension": ".py",
   "mimetype": "text/x-python",
   "name": "python",
   "nbconvert_exporter": "python",
   "pygments_lexer": "ipython3",
   "version": "3.9.7"
  }
 },
 "nbformat": 4,
 "nbformat_minor": 2
}
