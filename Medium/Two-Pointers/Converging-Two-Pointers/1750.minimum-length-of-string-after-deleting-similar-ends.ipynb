{
 "cells": [
  {
   "cell_type": "markdown",
   "metadata": {},
   "source": [
    "## Attempt 1 - Time Limit Exceeded"
   ]
  },
  {
   "cell_type": "code",
   "execution_count": null,
   "metadata": {},
   "outputs": [],
   "source": [
    "class Solution:\n",
    "    def minimumLength(self, s: str) -> int:\n",
    "        L = len(s)\n",
    "        l, r = 0, L - 1\n",
    "        while l < r:\n",
    "            target = s[l]\n",
    "            if len(set([c for c in s[l: r + 1]])) == 1:\n",
    "                return 0\n",
    "            if s[r] != target:\n",
    "                break\n",
    "            while s[r] == target:\n",
    "                r -= 1\n",
    "            while s[l] == target:\n",
    "                l += 1\n",
    "        return r - l + 1"
   ]
  },
  {
   "cell_type": "markdown",
   "metadata": {},
   "source": [
    "## Attempt 2 - Accepted"
   ]
  },
  {
   "cell_type": "code",
   "execution_count": null,
   "metadata": {},
   "outputs": [],
   "source": [
    "class Solution:\n",
    "    def minimumLength(self, s: str) -> int:\n",
    "        L = len(s)\n",
    "        if L > 1 and L % 2 < 1 and s == s[::-1]:\n",
    "            return 0\n",
    "        l, r = 0, L - 1\n",
    "        while l < r:\n",
    "            target = s[l]\n",
    "            if len(set([c for c in s[l: r + 1]])) == 1:\n",
    "                return 0\n",
    "            if s[r] != target:\n",
    "                break\n",
    "            while s[r] == target:\n",
    "                r -= 1\n",
    "            while s[l] == target:\n",
    "                l += 1\n",
    "        return r - l + 1"
   ]
  },
  {
   "cell_type": "markdown",
   "metadata": {},
   "source": [
    "## Lessons and Thoughts\n",
    "- Easy to think of two-pointer approach.\n",
    "- Check if `s` is an anagram at the beginning, to save time."
   ]
  }
 ],
 "metadata": {
  "kernelspec": {
   "display_name": "Python 3",
   "language": "python",
   "name": "python3"
  },
  "language_info": {
   "codemirror_mode": {
    "name": "ipython",
    "version": 3
   },
   "file_extension": ".py",
   "mimetype": "text/x-python",
   "name": "python",
   "nbconvert_exporter": "python",
   "pygments_lexer": "ipython3",
   "version": "3.7.3"
  }
 },
 "nbformat": 4,
 "nbformat_minor": 2
}
