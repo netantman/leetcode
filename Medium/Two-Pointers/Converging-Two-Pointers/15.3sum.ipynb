{
 "cells": [
  {
   "cell_type": "markdown",
   "metadata": {},
   "source": [
    "## Attempt 1 - Runtime Error"
   ]
  },
  {
   "cell_type": "code",
   "execution_count": null,
   "metadata": {},
   "outputs": [],
   "source": [
    "class Solution:\n",
    "    def threeSum(self, nums: List[int]) -> List[List[int]]:\n",
    "        if len(nums)<3:\n",
    "            return []\n",
    "        if len(nums)==3:\n",
    "            if sum(nums)==0:\n",
    "                return [nums]\n",
    "            else:\n",
    "                return []\n",
    "        \n",
    "        nums=sorted(nums)\n",
    "        l=len(nums)\n",
    "        for idx in range(l-2):\n",
    "            left=idx+1\n",
    "            right=l-1\n",
    "            while right>left:\n",
    "                if nums[idx]+nums[left]+nums[right]==0:\n",
    "                    res.append([nums[idx], nums[left], nums[right]])\n",
    "                    left+=1\n",
    "                elif nums[idx]+nums[left]+nums[right]<0:\n",
    "                    left+=1\n",
    "                else:\n",
    "                    right-=1\n",
    "        \n",
    "        res=set(res) ## --> this will not work, since lists are not hashable.\n",
    "        res=list(res)\n",
    "        return res\n",
    "        "
   ]
  },
  {
   "cell_type": "markdown",
   "metadata": {},
   "source": [
    "## Attempt 2 - Runtime Error"
   ]
  },
  {
   "cell_type": "code",
   "execution_count": null,
   "metadata": {},
   "outputs": [],
   "source": [
    "class Solution:\n",
    "    def threeSum(self, nums: List[int]) -> List[List[int]]:\n",
    "        if len(nums)<3:\n",
    "            return []\n",
    "        if len(nums)==3:\n",
    "            if sum(nums)==0:\n",
    "                return [nums]\n",
    "            else:\n",
    "                return []\n",
    "        \n",
    "        nums=sorted(nums)\n",
    "        l=len(nums)\n",
    "        res=[]\n",
    "        cache=set()\n",
    "        for idx in range(l-2):\n",
    "            left=idx+1\n",
    "            right=l-1\n",
    "            while right>left:\n",
    "                if nums[idx]+nums[left]+nums[right]==0:\n",
    "                    if (nums[idx], nums[left], nums[right]) not in cache:\n",
    "                        res.append([nums[idx], nums[left], nums[right]])\n",
    "                        cache.add(nums[idx], nums[left], nums[right]) ## --> this will complain that add takes one argument: you need to explicitly specify a tuple.\n",
    "                    left+=1\n",
    "                elif nums[idx]+nums[left]+nums[right]<0:\n",
    "                    left+=1\n",
    "                else:\n",
    "                    right-=1\n",
    "        \n",
    "        return res\n",
    "        "
   ]
  },
  {
   "cell_type": "markdown",
   "metadata": {},
   "source": [
    "## Attempt 3 - Accepted"
   ]
  },
  {
   "cell_type": "code",
   "execution_count": null,
   "metadata": {},
   "outputs": [],
   "source": [
    "class Solution:\n",
    "    def threeSum(self, nums: List[int]) -> List[List[int]]:\n",
    "        if len(nums)<3:\n",
    "            return []\n",
    "        if len(nums)==3:\n",
    "            if sum(nums)==0:\n",
    "                return [nums]\n",
    "            else:\n",
    "                return []\n",
    "        \n",
    "        nums=sorted(nums)\n",
    "        l=len(nums)\n",
    "        res=[]\n",
    "        cache=set()\n",
    "        for idx in range(l-2):\n",
    "            left=idx+1\n",
    "            right=l-1\n",
    "            while right>left:\n",
    "                if nums[idx]+nums[left]+nums[right]==0:\n",
    "                    if (nums[idx], nums[left], nums[right]) not in cache:\n",
    "                        res.append([nums[idx], nums[left], nums[right]])\n",
    "                        cache.add((nums[idx], nums[left], nums[right]))\n",
    "                    left+=1\n",
    "                elif nums[idx]+nums[left]+nums[right]<0:\n",
    "                    left+=1\n",
    "                else:\n",
    "                    right-=1\n",
    "        \n",
    "        return res"
   ]
  },
  {
   "cell_type": "markdown",
   "metadata": {},
   "source": [
    "## Attempt 4 - Time Limit Exceeded"
   ]
  },
  {
   "cell_type": "code",
   "execution_count": null,
   "metadata": {},
   "outputs": [],
   "source": [
    "class Solution { ## C++ probably has stricter time limit, since using set to rid duplicates does not pass.\n",
    "public:\n",
    "    vector<vector<int>> threeSum(vector<int>& nums) {\n",
    "        sort(nums.begin(), nums.end(), [](int a, int b){return a < b;});\n",
    "        int L = nums.size();\n",
    "        set<vector<int>> res = {};\n",
    "        for (int i=0; i<L; i++) {\n",
    "            int target = - nums[i];\n",
    "            int l = i + 1;\n",
    "            int r = L - 1;\n",
    "            while (l < r) {\n",
    "                if (nums[l] + nums[r] == target) {\n",
    "                    vector<int> tmp = {nums[i], nums[l], nums[r]};\n",
    "                    res.insert(tmp);\n",
    "                    l++;\n",
    "                    continue;\n",
    "                }\n",
    "                if (nums[l] + nums[r] < target) {\n",
    "                    l++;\n",
    "                    continue;\n",
    "                }\n",
    "                if (nums[l] + nums[r] > target) {\n",
    "                    r--;\n",
    "                    continue;\n",
    "                }\n",
    "            }\n",
    "        }\n",
    "        vector<vector<int>> ans;\n",
    "        for (auto r : res) {\n",
    "            ans.push_back(r);\n",
    "        }\n",
    "        return ans;\n",
    "    }\n",
    "};"
   ]
  },
  {
   "cell_type": "markdown",
   "metadata": {},
   "source": [
    "## Attempt 5 - Accepted"
   ]
  },
  {
   "cell_type": "code",
   "execution_count": null,
   "metadata": {},
   "outputs": [],
   "source": [
    "class Solution {\n",
    "public:\n",
    "    vector<vector<int>> threeSum(vector<int>& nums) {\n",
    "        sort(nums.begin(), nums.end(), [](int a, int b){return a < b;});\n",
    "        int L = nums.size();\n",
    "        set<vector<int>> res = {};\n",
    "        for (int i=0; i<L; i++) {\n",
    "            int target = - nums[i];\n",
    "            int l = i + 1;\n",
    "            int r = L - 1;\n",
    "            while (l < r) {\n",
    "                if (nums[l] + nums[r] == target) {\n",
    "                    vector<int> tmp = {nums[i], nums[l], nums[r]};\n",
    "                    res.insert(tmp);\n",
    "                    l++;\n",
    "                    while ((l < r) && (nums[l - 1] == nums[l])) {\n",
    "                        l++;    \n",
    "                    }\n",
    "                    continue;\n",
    "                }\n",
    "                if (nums[l] + nums[r] < target) {\n",
    "                    l++;\n",
    "                    while ((l < r) && (nums[l - 1] == nums[l])) {\n",
    "                        l++;    \n",
    "                    }\n",
    "                    continue;\n",
    "                }\n",
    "                if (nums[l] + nums[r] > target) {\n",
    "                    r--;\n",
    "                    while ((r > l) && (nums[r + 1] == nums[r])) {\n",
    "                        r--;    \n",
    "                    }\n",
    "                    continue;\n",
    "                }\n",
    "            }\n",
    "        }\n",
    "        vector<vector<int>> ans;\n",
    "        for (auto r : res) {\n",
    "            ans.push_back(r);\n",
    "        }\n",
    "        return ans;\n",
    "    }\n",
    "};"
   ]
  },
  {
   "cell_type": "markdown",
   "metadata": {},
   "source": [
    "## Lessons and Thoughts\n",
    "- The `sorted` built-in function\n",
    "- Not all `list`s can be `set` to find the unique elements: not if you have a `list` of `list`s, since list is not hashable"
   ]
  }
 ],
 "metadata": {
  "kernelspec": {
   "display_name": "Python 3",
   "language": "python",
   "name": "python3"
  },
  "language_info": {
   "codemirror_mode": {
    "name": "ipython",
    "version": 3
   },
   "file_extension": ".py",
   "mimetype": "text/x-python",
   "name": "python",
   "nbconvert_exporter": "python",
   "pygments_lexer": "ipython3",
   "version": "3.6.5"
  }
 },
 "nbformat": 4,
 "nbformat_minor": 2
}
