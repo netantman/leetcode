{
 "cells": [
  {
   "cell_type": "markdown",
   "metadata": {},
   "source": [
    "## Attempt 1 - Wrong Answer"
   ]
  },
  {
   "cell_type": "code",
   "execution_count": null,
   "metadata": {},
   "outputs": [],
   "source": [
    "class Solution:\n",
    "    def longestMountain(self, A: List[int]) -> int:\n",
    "        L=len(A)\n",
    "        left_foot, peak, right_foot=0,None,None\n",
    "        M=0\n",
    "        while left_foot+1<L:\n",
    "            if A[left_foot]>=A[left_foot+1]:\n",
    "                left_foot+=1\n",
    "            else:\n",
    "                peak=left_foot+1\n",
    "                while peak+1<L and A[peak]<A[peak+1]:  ## --> did not deal with the case with same consecutive elements.\n",
    "                    peak+=1\n",
    "                right_foot=peak+1\n",
    "                while right_foot+1<L and A[right_foot]>A[right_foot+1]:\n",
    "                    right_foot+=1\n",
    "                if right_foot is not None and right_foot<L:\n",
    "                    M=max(M, right_foot-left_foot+1)\n",
    "                    left_foot=right_foot\n",
    "                else:\n",
    "                    break\n",
    "        return M"
   ]
  },
  {
   "cell_type": "markdown",
   "metadata": {},
   "source": [
    "## Attempt 2 - Accepted"
   ]
  },
  {
   "cell_type": "code",
   "execution_count": null,
   "metadata": {},
   "outputs": [],
   "source": [
    "class Solution:\n",
    "    def longestMountain(self, A: List[int]) -> int:\n",
    "        L=len(A)\n",
    "        left_foot, peak, right_foot=0,None,None\n",
    "        M=0\n",
    "        while left_foot+1<L:\n",
    "            if A[left_foot]>=A[left_foot+1]:\n",
    "                left_foot+=1\n",
    "            else:\n",
    "                peak=left_foot+1\n",
    "                while peak+1<L and A[peak]<A[peak+1]:\n",
    "                    peak+=1\n",
    "                if peak+1<L:\n",
    "                    if A[peak]==A[peak+1]:\n",
    "                        left_foot=peak+1\n",
    "                    else:\n",
    "                        right_foot=peak+1\n",
    "                        while right_foot+1<L and A[right_foot]>A[right_foot+1]:\n",
    "                            right_foot+=1\n",
    "                        if right_foot is not None and right_foot<L:\n",
    "                            M=max(M, right_foot-left_foot+1)\n",
    "                            left_foot=right_foot\n",
    "                        else:\n",
    "                            break\n",
    "                else:\n",
    "                    break\n",
    "                    \n",
    "        return M"
   ]
  },
  {
   "cell_type": "markdown",
   "metadata": {},
   "source": [
    "## Lessons and Thoughts\n",
    "- The one-pass, constant space algo uses two pointers (or more accurately three pointers). It is trickier since there are many cases to consider.\n",
    "- A more straightforward algo is to traverse from left, record increasing points so far and then traverse reversely, also record increasing points from reverse. The maximum of the sum of the above two array will be the answer."
   ]
  }
 ],
 "metadata": {
  "kernelspec": {
   "display_name": "Python 3",
   "language": "python",
   "name": "python3"
  },
  "language_info": {
   "codemirror_mode": {
    "name": "ipython",
    "version": 3
   },
   "file_extension": ".py",
   "mimetype": "text/x-python",
   "name": "python",
   "nbconvert_exporter": "python",
   "pygments_lexer": "ipython3",
   "version": "3.7.3"
  }
 },
 "nbformat": 4,
 "nbformat_minor": 2
}
