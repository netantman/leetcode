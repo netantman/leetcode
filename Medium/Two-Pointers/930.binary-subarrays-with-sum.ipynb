{
 "cells": [
  {
   "cell_type": "markdown",
   "metadata": {},
   "source": [
    "## Attempt 1 - Wrong Answer"
   ]
  },
  {
   "cell_type": "code",
   "execution_count": null,
   "metadata": {},
   "outputs": [],
   "source": [
    "class Solution:\n",
    "    def numSubarraysWithSum(self, A: List[int], S: int) -> int:\n",
    "        L=len(A)\n",
    "        cumsum=[0 for _ in range(L+1)]\n",
    "        for idx in range(L):\n",
    "            cumsum[idx+1]=cumsum[idx]+A[idx]\n",
    "        left,right=0,1\n",
    "        res=0\n",
    "        if S>0:\n",
    "            while right<=L:\n",
    "                curr=cumsum[right]-cumsum[left]\n",
    "                if curr<S:\n",
    "                    right+=1\n",
    "                elif curr>S:\n",
    "                    left+=1\n",
    "                    if right==left:\n",
    "                        right=left+1\n",
    "                else:\n",
    "                    l=1\n",
    "                    while left+l<right and cumsum[left+l]==cumsum[left]:\n",
    "                        l+=1\n",
    "                    r=1\n",
    "                    while right+r<=L and cumsum[right+r]==cumsum[right]:\n",
    "                        r+=1\n",
    "                    res+=l*r\n",
    "                    left+=l\n",
    "                    right+=r\n",
    "                # print(left, right)\n",
    "                # print(res)\n",
    "            return res\n",
    "        else:\n",
    "            cnt=1\n",
    "            zeros=[]\n",
    "            for idx in range(L):\n",
    "                if cumsum[idx]==cumsum[idx+1]:\n",
    "                    cnt+=1\n",
    "                else:\n",
    "                    if cnt>=2:\n",
    "                        zeros.append(cnt)  ## --> did not handle all zeros\n",
    "                    cnt=1\n",
    "            return sum([z*(z-1)//2 for z in zeros])"
   ]
  },
  {
   "cell_type": "markdown",
   "metadata": {},
   "source": [
    "## Attempt 2 - Accepted"
   ]
  },
  {
   "cell_type": "code",
   "execution_count": null,
   "metadata": {},
   "outputs": [],
   "source": [
    "class Solution:\n",
    "    def numSubarraysWithSum(self, A: List[int], S: int) -> int:\n",
    "        L=len(A)\n",
    "        cumsum=[0 for _ in range(L+1)]\n",
    "        for idx in range(L):\n",
    "            cumsum[idx+1]=cumsum[idx]+A[idx]\n",
    "        left,right=0,1\n",
    "        res=0\n",
    "        if S>0:\n",
    "            while right<=L:\n",
    "                curr=cumsum[right]-cumsum[left]\n",
    "                if curr<S:\n",
    "                    right+=1\n",
    "                elif curr>S:\n",
    "                    left+=1\n",
    "                    if right==left:\n",
    "                        right=left+1\n",
    "                else:\n",
    "                    l=1\n",
    "                    while left+l<right and cumsum[left+l]==cumsum[left]:\n",
    "                        l+=1\n",
    "                    r=1\n",
    "                    while right+r<=L and cumsum[right+r]==cumsum[right]:\n",
    "                        r+=1\n",
    "                    res+=l*r\n",
    "                    left+=l\n",
    "                    right+=r\n",
    "                # print(left, right)\n",
    "                # print(res)\n",
    "            return res\n",
    "        else:\n",
    "            cnt=1\n",
    "            zeros=[]\n",
    "            for idx in range(L):\n",
    "                if cumsum[idx]==cumsum[idx+1]:\n",
    "                    cnt+=1\n",
    "                else:\n",
    "                    if cnt>=2:\n",
    "                        zeros.append(cnt)\n",
    "                    cnt=1\n",
    "            if cnt>=2:\n",
    "                zeros.append(cnt)\n",
    "            return sum([z*(z-1)//2 for z in zeros])\n",
    "            "
   ]
  },
  {
   "cell_type": "markdown",
   "metadata": {},
   "source": [
    "## Lessons and Thoughts\n",
    "- Missed one edge case."
   ]
  }
 ],
 "metadata": {
  "kernelspec": {
   "display_name": "Python 3",
   "language": "python",
   "name": "python3"
  },
  "language_info": {
   "codemirror_mode": {
    "name": "ipython",
    "version": 3
   },
   "file_extension": ".py",
   "mimetype": "text/x-python",
   "name": "python",
   "nbconvert_exporter": "python",
   "pygments_lexer": "ipython3",
   "version": "3.7.3"
  }
 },
 "nbformat": 4,
 "nbformat_minor": 2
}
