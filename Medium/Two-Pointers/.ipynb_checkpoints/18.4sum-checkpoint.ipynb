{
 "cells": [
  {
   "cell_type": "markdown",
   "metadata": {},
   "source": [
    "## Attempt 1"
   ]
  },
  {
   "cell_type": "code",
   "execution_count": null,
   "metadata": {},
   "outputs": [],
   "source": [
    "class Solution:\n",
    "    def fourSum(self, nums: List[int], target: int) -> List[List[int]]:\n",
    "        len_nums=len(nums)\n",
    "        if len_nums<4:\n",
    "            return []\n",
    "        \n",
    "        nums=sorted(nums)\n",
    "        res=[]\n",
    "        cache=set()\n",
    "        for idx1 in range(len_nums-3):\n",
    "            for idx2 in range(idx1+1, len_nums-2):\n",
    "                left=idx2+1\n",
    "                right=len_nums-1\n",
    "                while right>left:\n",
    "                    if (nums[idx1], nums[idx2], nums[left], nums[right]) in cache:\n",
    "                        left+=1\n",
    "                    else:\n",
    "                        to_see=nums[idx1]+nums[idx2]+nums[left]+nums[right]\n",
    "                        if to_see==target:\n",
    "                            res.append([nums[idx1], nums[idx2], nums[left], nums[right]])\n",
    "                            cache.add((nums[idx1], nums[idx2], nums[left], nums[right]))\n",
    "                            left+=1\n",
    "                        elif to_see>target:\n",
    "                            right-=1\n",
    "                        else:\n",
    "                            left+=1\n",
    "        \n",
    "        return res"
   ]
  },
  {
   "cell_type": "markdown",
   "metadata": {},
   "source": [
    "## Lessons and Thoughts\n",
    "- See the same in [15.3sum](15.3sum.ipynb)."
   ]
  }
 ],
 "metadata": {
  "kernelspec": {
   "display_name": "Python 3",
   "language": "python",
   "name": "python3"
  },
  "language_info": {
   "codemirror_mode": {
    "name": "ipython",
    "version": 3
   },
   "file_extension": ".py",
   "mimetype": "text/x-python",
   "name": "python",
   "nbconvert_exporter": "python",
   "pygments_lexer": "ipython3",
   "version": "3.7.3"
  }
 },
 "nbformat": 4,
 "nbformat_minor": 2
}
