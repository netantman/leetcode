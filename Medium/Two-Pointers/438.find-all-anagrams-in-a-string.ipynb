{
 "cells": [
  {
   "cell_type": "markdown",
   "metadata": {},
   "source": [
    "## Attempt 1 - Accepted"
   ]
  },
  {
   "cell_type": "code",
   "execution_count": null,
   "metadata": {},
   "outputs": [],
   "source": [
    "class Solution:\n",
    "    def findAnagrams(self, s: str, p: str) -> List[int]:\n",
    "        if len(p)<1:\n",
    "            return [idx for idx in range(len(s))]\n",
    "        if len(s)<len(p):\n",
    "            return []\n",
    "        elif s==p:\n",
    "            return [0]\n",
    "        \n",
    "        p_len,s_len=len(p),len(s)\n",
    "        left, right=0,0\n",
    "        \n",
    "        benchmark=[0 for _ in range(26)]\n",
    "        for c in p:\n",
    "            benchmark[ord(c)-ord(\"a\")]+=1\n",
    "        \n",
    "        record=[0 for _ in range(26)]\n",
    "        while right<p_len:\n",
    "            record[ord(s[right])-ord(\"a\")]+=1\n",
    "            right+=1\n",
    "        \n",
    "        res=[]\n",
    "        while end<s_len:\n",
    "            if record==benchmark:\n",
    "                res.append(left)\n",
    "            record[ord(s[left])-ord(\"a\")]-=1\n",
    "            record[ord(s[right])-ord(\"a\")]+=1\n",
    "            left+=1\n",
    "            right+=1\n",
    "        if record==benchmark:\n",
    "            res.append(left)\n",
    "        \n",
    "        return res"
   ]
  },
  {
   "cell_type": "markdown",
   "metadata": {},
   "source": [
    "## Lessons and Thoughts\n",
    "- As always, getting clear definition of what the two pointers are help."
   ]
  }
 ],
 "metadata": {
  "kernelspec": {
   "display_name": "Python 3",
   "language": "python",
   "name": "python3"
  },
  "language_info": {
   "codemirror_mode": {
    "name": "ipython",
    "version": 3
   },
   "file_extension": ".py",
   "mimetype": "text/x-python",
   "name": "python",
   "nbconvert_exporter": "python",
   "pygments_lexer": "ipython3",
   "version": "3.7.3"
  }
 },
 "nbformat": 4,
 "nbformat_minor": 2
}
