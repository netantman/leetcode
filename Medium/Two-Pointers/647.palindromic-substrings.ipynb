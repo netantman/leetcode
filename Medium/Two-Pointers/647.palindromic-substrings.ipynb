{
 "cells": [
  {
   "cell_type": "markdown",
   "metadata": {},
   "source": [
    "## Attempt 1 - Accepted"
   ]
  },
  {
   "cell_type": "code",
   "execution_count": null,
   "metadata": {},
   "outputs": [],
   "source": [
    "class Solution:\n",
    "    def countSubstrings(self, s: str) -> int:\n",
    "        if not s:\n",
    "            return 0\n",
    "        if len(s) == 1 :\n",
    "            return 1\n",
    "        dp = [[False for _ in range(len(s))] for _ in range(len(s))]\n",
    "        for i in range(len(s)):\n",
    "            dp[i][i] = True\n",
    "\n",
    "        for r in range(len(s)):\n",
    "            for l in range(r+1):\n",
    "                if s[r] == s[l] and (r-l<3 or dp[l+1][r-1]):\n",
    "                    dp[l][r] = True\n",
    "        \n",
    "        ans = [0 for _ in range(len(s))]\n",
    "\n",
    "        for r in range(len(s)):\n",
    "            for l in range(r+1):\n",
    "                if dp[l][r]:\n",
    "                    ans[r] += 1\n",
    "        \n",
    "        return sum(ans)"
   ]
  },
  {
   "cell_type": "markdown",
   "metadata": {},
   "source": [
    "## Attempt 2 - Accepted"
   ]
  },
  {
   "cell_type": "code",
   "execution_count": null,
   "metadata": {},
   "outputs": [],
   "source": [
    "class Solution:\n",
    "    def countSubstrings(self, s: str) -> int:\n",
    "        L = len(s)\n",
    "        res = L\n",
    "        q = [(idx, idx) for idx in range(L)]\n",
    "        for idx in range(L - 1):\n",
    "            if s[idx] == s[idx + 1]:\n",
    "                q.append((idx, idx + 1))\n",
    "                res += 1\n",
    "        \n",
    "        while q:\n",
    "            head, tail = q.pop()\n",
    "            if head == 0 or tail == L - 1:\n",
    "                continue\n",
    "            \n",
    "            if s[head - 1] == s[tail + 1]:\n",
    "                q.append((head - 1, tail + 1))\n",
    "                res += 1\n",
    "        \n",
    "        return res"
   ]
  },
  {
   "cell_type": "markdown",
   "metadata": {},
   "source": [
    "## Lessons and Thoughts\n",
    "- Attempt 1 is from leetcode app. \n",
    "- Also it uses DP and it is labeled as such on leetcode, this is not much difference in just growing the palindroms at different locations. Nevertheless, Attempt 2 is such an implementation."
   ]
  }
 ],
 "metadata": {
  "kernelspec": {
   "display_name": "Python 3 (ipykernel)",
   "language": "python",
   "name": "python3"
  },
  "language_info": {
   "codemirror_mode": {
    "name": "ipython",
    "version": 3
   },
   "file_extension": ".py",
   "mimetype": "text/x-python",
   "name": "python",
   "nbconvert_exporter": "python",
   "pygments_lexer": "ipython3",
   "version": "3.9.7"
  }
 },
 "nbformat": 4,
 "nbformat_minor": 2
}
