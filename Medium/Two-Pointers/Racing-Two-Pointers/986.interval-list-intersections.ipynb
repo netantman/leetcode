{
 "cells": [
  {
   "cell_type": "markdown",
   "metadata": {},
   "source": [
    "## Attempt 1 - Accepted"
   ]
  },
  {
   "cell_type": "code",
   "execution_count": null,
   "metadata": {},
   "outputs": [],
   "source": [
    "class Solution:\n",
    "    def intervalIntersection(self, A: List[List[int]], B: List[List[int]]) -> List[List[int]]:\n",
    "        idx_a,idx_b=0,0\n",
    "        La,Lb=len(A),len(B)\n",
    "        res=[]\n",
    "        while idx_a<La and idx_b<Lb:\n",
    "            a,b=A[idx_a],B[idx_b]\n",
    "            if a[0]<=b[0]:\n",
    "                if a[1]<b[0]:\n",
    "                    idx_a+=1\n",
    "                else:\n",
    "                    if a[1]<=b[1]:\n",
    "                        res.append([b[0], a[1]])\n",
    "                        idx_a+=1\n",
    "                    else:\n",
    "                        res.append([b[0], b[1]])\n",
    "                        idx_b+=1\n",
    "            else:\n",
    "                if b[1]<a[0]:\n",
    "                    idx_b+=1\n",
    "                else:\n",
    "                    if b[1]<=a[1]:\n",
    "                        res.append([a[0], b[1]])\n",
    "                        idx_b+=1\n",
    "                    else:\n",
    "                        res.append([a[0], a[1]])\n",
    "                        idx_a+=1\n",
    "        return res"
   ]
  },
  {
   "cell_type": "markdown",
   "metadata": {},
   "source": [
    "## Lessons and Thoughts\n",
    "- The edge case discussion is similar to Problem 836."
   ]
  }
 ],
 "metadata": {
  "kernelspec": {
   "display_name": "Python 3",
   "language": "python",
   "name": "python3"
  },
  "language_info": {
   "codemirror_mode": {
    "name": "ipython",
    "version": 3
   },
   "file_extension": ".py",
   "mimetype": "text/x-python",
   "name": "python",
   "nbconvert_exporter": "python",
   "pygments_lexer": "ipython3",
   "version": "3.7.3"
  }
 },
 "nbformat": 4,
 "nbformat_minor": 2
}
