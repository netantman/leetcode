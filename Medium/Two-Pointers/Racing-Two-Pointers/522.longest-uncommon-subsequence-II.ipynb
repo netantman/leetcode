{
 "cells": [
  {
   "cell_type": "markdown",
   "metadata": {},
   "source": [
    "## Attempt 1 - Accepted"
   ]
  },
  {
   "cell_type": "code",
   "execution_count": null,
   "metadata": {},
   "outputs": [],
   "source": [
    "class Solution:\n",
    "    def findLUSlength(self, strs: List[str]) -> int:\n",
    "        def is_sub(s,t):\n",
    "            if len(s)>len(t):\n",
    "                return False\n",
    "            else:\n",
    "                p1,p2=0,0\n",
    "                l_s,l_t=len(s),len(t)\n",
    "                while p1<l_s and p2<l_t:\n",
    "                    if s[p1]==t[p2]:\n",
    "                        p1+=1\n",
    "                        p2+=1\n",
    "                    else:\n",
    "                        p2+=1\n",
    "                if p1==l_s:\n",
    "                    return True\n",
    "                else:\n",
    "                    return False\n",
    "        \n",
    "        strs=sorted(strs, key=lambda x: len(x), reverse=True)\n",
    "        L=len(strs)\n",
    "        for i in range(L):\n",
    "            flag=False\n",
    "            for j in range(L):\n",
    "                if j==i:\n",
    "                    continue\n",
    "                if is_sub(strs[i], strs[j]):\n",
    "                    flag=True\n",
    "                    break\n",
    "            if not flag:\n",
    "                return len(strs[i])\n",
    "        return -1"
   ]
  },
  {
   "cell_type": "markdown",
   "metadata": {},
   "source": [
    "## Lessons and Thoughts\n",
    "- The racing two-pointer way to judge is subsequence."
   ]
  }
 ],
 "metadata": {
  "kernelspec": {
   "display_name": "Python 3 (ipykernel)",
   "language": "python",
   "name": "python3"
  },
  "language_info": {
   "codemirror_mode": {
    "name": "ipython",
    "version": 3
   },
   "file_extension": ".py",
   "mimetype": "text/x-python",
   "name": "python",
   "nbconvert_exporter": "python",
   "pygments_lexer": "ipython3",
   "version": "3.9.7"
  }
 },
 "nbformat": 4,
 "nbformat_minor": 2
}
