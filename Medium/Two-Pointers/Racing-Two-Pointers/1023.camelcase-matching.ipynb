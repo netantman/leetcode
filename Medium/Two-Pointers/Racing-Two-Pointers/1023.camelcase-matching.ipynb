{
 "cells": [
  {
   "cell_type": "markdown",
   "metadata": {},
   "source": [
    "## Attempt 1 - Accepted"
   ]
  },
  {
   "cell_type": "code",
   "execution_count": null,
   "metadata": {},
   "outputs": [],
   "source": [
    "class Solution:\n",
    "    def __init__(self):\n",
    "        self.pattern=None\n",
    "        self.L=None\n",
    "    def camelMatch(self, queries: List[str], pattern: str) -> List[bool]:\n",
    "        self.pattern=pattern\n",
    "        self.L=len(pattern)\n",
    "        def fit_pattern(word):\n",
    "            idx1,idx2=0,0\n",
    "            L1,L2=len(word),self.L\n",
    "            while idx1<L1 and idx2<L2:\n",
    "                if word[idx1]==self.pattern[idx2]:\n",
    "                    idx1+=1\n",
    "                    idx2+=1\n",
    "                else:\n",
    "                    if word[idx1].islower():\n",
    "                        idx1+=1\n",
    "                    else:\n",
    "                        return False\n",
    "            if idx2<L2:\n",
    "                return False\n",
    "            else:\n",
    "                return all([c.islower() for c in word[idx1:]])\n",
    "        return list(map(fit_pattern,queries))"
   ]
  },
  {
   "cell_type": "markdown",
   "metadata": {},
   "source": [
    "## Lessons and Thoughts\n",
    "- An application of racing two pointers."
   ]
  }
 ],
 "metadata": {
  "kernelspec": {
   "display_name": "Python 3",
   "language": "python",
   "name": "python3"
  },
  "language_info": {
   "codemirror_mode": {
    "name": "ipython",
    "version": 3
   },
   "file_extension": ".py",
   "mimetype": "text/x-python",
   "name": "python",
   "nbconvert_exporter": "python",
   "pygments_lexer": "ipython3",
   "version": "3.7.3"
  }
 },
 "nbformat": 4,
 "nbformat_minor": 2
}
