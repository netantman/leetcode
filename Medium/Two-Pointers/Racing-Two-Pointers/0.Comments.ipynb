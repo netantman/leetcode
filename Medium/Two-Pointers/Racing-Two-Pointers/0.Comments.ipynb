{
 "cells": [
  {
   "cell_type": "markdown",
   "metadata": {},
   "source": [
    "## Idea"
   ]
  },
  {
   "cell_type": "markdown",
   "metadata": {},
   "source": [
    "The racing two pointers are two pointers traverse two different arrays, proceeding differently when different criteria is met. It is most commonly found in situations where you need to make sure one array/string is sub to another array/string."
   ]
  },
  {
   "cell_type": "markdown",
   "metadata": {},
   "source": [
    "## Traps"
   ]
  },
  {
   "cell_type": "markdown",
   "metadata": {},
   "source": [
    "- That one or both of the pointers will run out of range, and you need to take care of these different end cases; see template below."
   ]
  },
  {
   "cell_type": "markdown",
   "metadata": {},
   "source": [
    "## Template"
   ]
  },
  {
   "cell_type": "code",
   "execution_count": null,
   "metadata": {},
   "outputs": [],
   "source": [
    "def racing_two_pointers(list1, list2):\n",
    "    L1, L2 = len(list1), len(list2)\n",
    "    i, j = 0, 0\n",
    "    \n",
    "    # do not do list1.pop(), since that is an O(n) operation\n",
    "    while i < L1 and j < L2:\n",
    "        if condition_that_moves_i:\n",
    "            # do something\n",
    "            i += 1\n",
    "        else: # condition_that_moves_j\n",
    "            # do something else\n",
    "            j += 1\n",
    "    while i < L1:\n",
    "        # deal with the rest of i not already moved till the end\n",
    "    while j < L2:\n",
    "        # deal with the rest of j not already moved till the end"
   ]
  }
 ],
 "metadata": {
  "kernelspec": {
   "display_name": "Python 3 (ipykernel)",
   "language": "python",
   "name": "python3"
  },
  "language_info": {
   "codemirror_mode": {
    "name": "ipython",
    "version": 3
   },
   "file_extension": ".py",
   "mimetype": "text/x-python",
   "name": "python",
   "nbconvert_exporter": "python",
   "pygments_lexer": "ipython3",
   "version": "3.9.7"
  }
 },
 "nbformat": 4,
 "nbformat_minor": 2
}
