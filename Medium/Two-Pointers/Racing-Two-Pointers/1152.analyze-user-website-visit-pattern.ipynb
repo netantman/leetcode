{
 "cells": [
  {
   "cell_type": "markdown",
   "metadata": {},
   "source": [
    "## Attempt 1 - Accepted"
   ]
  },
  {
   "cell_type": "code",
   "execution_count": null,
   "metadata": {},
   "outputs": [],
   "source": [
    "class Solution:\n",
    "    def mostVisitedPattern(self, username: List[str], timestamp: List[int], website: List[str]) -> List[str]:\n",
    "        def is_sub(pattern, source):\n",
    "            if len(source) < len(pattern):\n",
    "                return False\n",
    "            L1, L2 = len(pattern), len(source)\n",
    "            idx1, idx2 = 0, 0\n",
    "            while idx1 < L1 and idx2 < L2:\n",
    "                if pattern[idx1] == source[idx2]:\n",
    "                    idx1 += 1\n",
    "                    idx2 += 1\n",
    "                else:\n",
    "                    idx2 += 1\n",
    "            return idx1 == L1\n",
    "        \n",
    "        L = len(username)\n",
    "        records = sorted([(username[idx], timestamp[idx], website[idx]) for idx in range(L)], key=lambda x: x[1])\n",
    "        visited = defaultdict(list)\n",
    "        for r in records:\n",
    "            u, t, w = r\n",
    "            visited[u].append(w)\n",
    "        \n",
    "        webs = set(website)\n",
    "        patterns = [(w1, w2, w3) for w1, w2, w3 in itertools.product(webs, webs, webs)]\n",
    "        res = dict()\n",
    "        for pattern in patterns:\n",
    "            res[pattern] = sum([1 for u in visited if is_sub(pattern, visited[u])])\n",
    "        \n",
    "        maxx = max(res.values())\n",
    "        candidates = sorted([p for p in patterns if res[p] == maxx], key=lambda x: x)\n",
    "        return candidates[0]"
   ]
  },
  {
   "cell_type": "markdown",
   "metadata": {},
   "source": [
    "## Lessons and Thoughts\n",
    "- Essentially boils down to a substring problem."
   ]
  }
 ],
 "metadata": {
  "kernelspec": {
   "display_name": "Python 3",
   "language": "python",
   "name": "python3"
  },
  "language_info": {
   "codemirror_mode": {
    "name": "ipython",
    "version": 3
   },
   "file_extension": ".py",
   "mimetype": "text/x-python",
   "name": "python",
   "nbconvert_exporter": "python",
   "pygments_lexer": "ipython3",
   "version": "3.7.3"
  }
 },
 "nbformat": 4,
 "nbformat_minor": 2
}
