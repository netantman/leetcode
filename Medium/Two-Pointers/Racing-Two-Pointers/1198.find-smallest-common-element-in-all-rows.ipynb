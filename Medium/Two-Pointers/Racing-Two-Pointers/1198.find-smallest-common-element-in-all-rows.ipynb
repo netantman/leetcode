{
 "cells": [
  {
   "cell_type": "markdown",
   "metadata": {},
   "source": [
    "## Attempt 1 - Accepted"
   ]
  },
  {
   "cell_type": "code",
   "execution_count": null,
   "metadata": {},
   "outputs": [],
   "source": [
    "class Solution:\n",
    "    def smallestCommonElement(self, mat: List[List[int]]) -> int:\n",
    "        R, C = len(mat), len(mat[0])\n",
    "        idxs = [0 for r in range(R)]\n",
    "        \n",
    "        while idxs[0] < C:\n",
    "            idx0 = idxs[0]\n",
    "            curr = mat[0][idx0]\n",
    "            flag = True\n",
    "            for r in range(1, R):\n",
    "                while idxs[r] < C and mat[r][idxs[r]] < curr:\n",
    "                    idxs[r] += 1\n",
    "                if idxs[r] == C:\n",
    "                    return -1\n",
    "                flag = flag and mat[r][idxs[r]] == curr\n",
    "            if flag:\n",
    "                return curr\n",
    "            idxs[0] += 1\n",
    "        \n",
    "        return -1"
   ]
  },
  {
   "cell_type": "markdown",
   "metadata": {},
   "source": [
    "## Lessons and Thoughts\n",
    "- This is a racing multiple pointers problem."
   ]
  }
 ],
 "metadata": {
  "kernelspec": {
   "display_name": "Python 3",
   "language": "python",
   "name": "python3"
  },
  "language_info": {
   "codemirror_mode": {
    "name": "ipython",
    "version": 3
   },
   "file_extension": ".py",
   "mimetype": "text/x-python",
   "name": "python",
   "nbconvert_exporter": "python",
   "pygments_lexer": "ipython3",
   "version": "3.7.3"
  }
 },
 "nbformat": 4,
 "nbformat_minor": 2
}
