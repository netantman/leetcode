{
 "cells": [
  {
   "cell_type": "markdown",
   "metadata": {},
   "source": [
    "## Attempt 1 - Accepted"
   ]
  },
  {
   "cell_type": "code",
   "execution_count": null,
   "metadata": {},
   "outputs": [],
   "source": [
    "class Solution:\n",
    "    def sortTransformedArray(self, nums: List[int], a: int, b: int, c: int) -> List[int]:\n",
    "        if a == 0 and b >= 0:\n",
    "            return [b * n + c for n in nums]\n",
    "        if a == 0 and b < 0:\n",
    "            return [b * n + c for n in nums[::-1]]\n",
    "        \n",
    "        def f(x):\n",
    "            return a * x * x + b * x + c\n",
    "        \n",
    "        L = len(nums)\n",
    "        center = - b / (2 * a)\n",
    "        \n",
    "        cut = None\n",
    "        for idx in range(L - 1):\n",
    "            if nums[idx] <= center and nums[idx + 1] > center:\n",
    "                cut = idx + 1\n",
    "                break\n",
    "        else:\n",
    "            cut = L\n",
    "        \n",
    "        left, right = nums[:cut], nums[cut:]\n",
    "        if a > 0:\n",
    "            left = left[::-1]\n",
    "        else:\n",
    "            right = right[::-1]\n",
    "        \n",
    "        res = []\n",
    "        while left and right:\n",
    "            l, r = f(left[0]), f(right[0])\n",
    "            if l <= r:\n",
    "                left.pop(0)\n",
    "                res.append(l)\n",
    "            else:\n",
    "                right.pop(0)\n",
    "                res.append(r)\n",
    "            \n",
    "        if left:\n",
    "            res += [f(l) for l in left]\n",
    "        if right:\n",
    "            res += [f(r) for r in right]\n",
    "        return res"
   ]
  },
  {
   "cell_type": "markdown",
   "metadata": {},
   "source": [
    "## Lessons and Thoughts\n",
    "- Straightforward two pointers - just remember to discuss the cases where `a` bigger, smaller or equal to 0. "
   ]
  }
 ],
 "metadata": {
  "kernelspec": {
   "display_name": "Python 3",
   "language": "python",
   "name": "python3"
  },
  "language_info": {
   "codemirror_mode": {
    "name": "ipython",
    "version": 3
   },
   "file_extension": ".py",
   "mimetype": "text/x-python",
   "name": "python",
   "nbconvert_exporter": "python",
   "pygments_lexer": "ipython3",
   "version": "3.7.3"
  }
 },
 "nbformat": 4,
 "nbformat_minor": 2
}
