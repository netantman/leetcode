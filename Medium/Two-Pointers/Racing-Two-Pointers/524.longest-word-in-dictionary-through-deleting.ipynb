{
 "cells": [
  {
   "cell_type": "markdown",
   "metadata": {},
   "source": [
    "## Attempt 1 - Accepted"
   ]
  },
  {
   "cell_type": "code",
   "execution_count": null,
   "metadata": {},
   "outputs": [],
   "source": [
    "class Solution:\n",
    "    def findLongestWord(self, s: str, d: List[str]) -> str:\n",
    "        def is_sub(word, s):\n",
    "            l1, l2=len(word),len(s)\n",
    "            i1, i2=0,0\n",
    "            while i1<l1 and i2<l2:\n",
    "                if word[i1]==s[i2]:\n",
    "                    i1+=1\n",
    "                    i2+=1\n",
    "                else:\n",
    "                    i2+=1\n",
    "            if i1<l1:\n",
    "                return False\n",
    "            else:\n",
    "                return True\n",
    "        \n",
    "        d=sorted(d, key=lambda x: (-len(x), x))\n",
    "        for word in d:\n",
    "            if is_sub(word, s):\n",
    "                return word\n",
    "        \n",
    "        return \"\""
   ]
  },
  {
   "cell_type": "markdown",
   "metadata": {},
   "source": [
    "## Attempt 2 - Accepted"
   ]
  },
  {
   "cell_type": "code",
   "execution_count": null,
   "metadata": {},
   "outputs": [],
   "source": [
    "class Solution:\n",
    "    def findLongestWord(self, s: str, dictionary: List[str]) -> str:\n",
    "        res = \"\"\n",
    "\n",
    "        def is_sub(d, s):\n",
    "            L1, L2 = len(d), len(s)\n",
    "            idx1, idx2 = 0, 0\n",
    "            while idx1 < L1 and idx2 < L2:\n",
    "                if d[idx1] != s[idx2]:\n",
    "                    idx2 += 1\n",
    "                    continue\n",
    "                idx1 += 1\n",
    "                idx2 += 1\n",
    "            \n",
    "            return idx1 == L1\n",
    "        \n",
    "        for d in dictionary:\n",
    "            if not is_sub(d, s):\n",
    "                continue\n",
    "            \n",
    "            if (len(d) > len(res)) or (len(d) == len(res) and (d < res)): ## --> note that if d is of shorter length, it could still be lexigorically smaller\n",
    "                res = d\n",
    "        \n",
    "        return res"
   ]
  },
  {
   "cell_type": "markdown",
   "metadata": {},
   "source": [
    "## Lessons and Thoughts\n",
    "- The two-pointers way to see sub string.\n",
    "- `sorted` in strings can sort lexigraphically.\n",
    "- Note that if d is of shorter length, it could still be lexigorically smaller; see Attempt 2."
   ]
  }
 ],
 "metadata": {
  "kernelspec": {
   "display_name": "Python 3 (ipykernel)",
   "language": "python",
   "name": "python3"
  },
  "language_info": {
   "codemirror_mode": {
    "name": "ipython",
    "version": 3
   },
   "file_extension": ".py",
   "mimetype": "text/x-python",
   "name": "python",
   "nbconvert_exporter": "python",
   "pygments_lexer": "ipython3",
   "version": "3.9.7"
  }
 },
 "nbformat": 4,
 "nbformat_minor": 2
}
