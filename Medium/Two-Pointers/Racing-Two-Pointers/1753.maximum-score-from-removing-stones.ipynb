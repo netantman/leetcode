{
 "cells": [
  {
   "cell_type": "markdown",
   "metadata": {},
   "source": [
    "## Attempt 1 - Accepted"
   ]
  },
  {
   "cell_type": "code",
   "execution_count": null,
   "metadata": {},
   "outputs": [],
   "source": [
    "class Solution:\n",
    "    def largestMerge(self, word1: str, word2: str) -> str:\n",
    "        L1, L2 = len(word1), len(word2)\n",
    "        idx1, idx2 = 0, 0\n",
    "        res = \"\"\n",
    "        while idx1 < L1 and idx2 < L2:\n",
    "            if word1[idx1:] > word2[idx2:]:\n",
    "                res += word1[idx1]\n",
    "                idx1 += 1\n",
    "            else:\n",
    "                res += word2[idx2]\n",
    "                idx2 += 1\n",
    "        \n",
    "        while idx1 < L1:\n",
    "            res += word1[idx1]\n",
    "            idx1 += 1\n",
    "        while idx2 < L2:\n",
    "            res += word2[idx2]\n",
    "            idx2 += 1\n",
    "        \n",
    "        return res"
   ]
  },
  {
   "cell_type": "markdown",
   "metadata": {},
   "source": [
    "## Lessons and Thoughts\n",
    "- The trick is at every iteration, compare the rest of the whole strings, rather than just the element at `idx`."
   ]
  }
 ],
 "metadata": {
  "kernelspec": {
   "display_name": "Python 3",
   "language": "python",
   "name": "python3"
  },
  "language_info": {
   "codemirror_mode": {
    "name": "ipython",
    "version": 3
   },
   "file_extension": ".py",
   "mimetype": "text/x-python",
   "name": "python",
   "nbconvert_exporter": "python",
   "pygments_lexer": "ipython3",
   "version": "3.7.3"
  }
 },
 "nbformat": 4,
 "nbformat_minor": 2
}
