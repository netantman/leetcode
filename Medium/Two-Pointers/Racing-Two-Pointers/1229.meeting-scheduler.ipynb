{
 "cells": [
  {
   "cell_type": "markdown",
   "metadata": {},
   "source": [
    "## Attempt 1 - Wrong Answer"
   ]
  },
  {
   "cell_type": "code",
   "execution_count": null,
   "metadata": {},
   "outputs": [],
   "source": [
    "class Solution:\n",
    "    def minAvailableDuration(self, slots1: List[List[int]], slots2: List[List[int]], duration: int) -> List[int]:\n",
    "        while slots1 and slots2:  ## --> forgot to sort!\n",
    "            curr1, curr2 = slots1[0], slots2[0]\n",
    "            s1, e1 = tuple(curr1)\n",
    "            s2, e2 = tuple(curr2)\n",
    "            if e1 <= s2:\n",
    "                slots1.pop(0)\n",
    "                continue\n",
    "            if e2 <= s1:\n",
    "                slots2.pop(0)\n",
    "                continue\n",
    "            \n",
    "            s = max(s1, s2)\n",
    "            e = min(e1, e2)\n",
    "            if e - s >= duration:\n",
    "                return [s, s + duration]\n",
    "            \n",
    "            if e1 <= e2:\n",
    "                slots1.pop(0)\n",
    "            else:\n",
    "                slots2.pop(0)\n",
    "        return []"
   ]
  },
  {
   "cell_type": "markdown",
   "metadata": {},
   "source": [
    "## Attempt 2 - Accepted"
   ]
  },
  {
   "cell_type": "code",
   "execution_count": null,
   "metadata": {},
   "outputs": [],
   "source": [
    "class Solution:\n",
    "    def minAvailableDuration(self, slots1: List[List[int]], slots2: List[List[int]], duration: int) -> List[int]:\n",
    "        slots1 = sorted(slots1, key=lambda x: x[0])\n",
    "        slots2 = sorted(slots2, key=lambda x: x[0])\n",
    "        while slots1 and slots2:\n",
    "            curr1, curr2 = slots1[0], slots2[0]\n",
    "            s1, e1 = tuple(curr1)\n",
    "            s2, e2 = tuple(curr2)\n",
    "            if e1 <= s2:\n",
    "                slots1.pop(0)\n",
    "                continue\n",
    "            if e2 <= s1:\n",
    "                slots2.pop(0)\n",
    "                continue\n",
    "            \n",
    "            s = max(s1, s2)\n",
    "            e = min(e1, e2)\n",
    "            if e - s >= duration:\n",
    "                return [s, s + duration]\n",
    "            \n",
    "            if e1 <= e2:\n",
    "                slots1.pop(0)\n",
    "            else:\n",
    "                slots2.pop(0)\n",
    "        return []"
   ]
  },
  {
   "cell_type": "markdown",
   "metadata": {},
   "source": [
    "## Lessons and Thoughts\n",
    "- Cannot assume an array is sorted."
   ]
  }
 ],
 "metadata": {
  "kernelspec": {
   "display_name": "Python 3 (ipykernel)",
   "language": "python",
   "name": "python3"
  },
  "language_info": {
   "codemirror_mode": {
    "name": "ipython",
    "version": 3
   },
   "file_extension": ".py",
   "mimetype": "text/x-python",
   "name": "python",
   "nbconvert_exporter": "python",
   "pygments_lexer": "ipython3",
   "version": "3.9.7"
  }
 },
 "nbformat": 4,
 "nbformat_minor": 2
}
