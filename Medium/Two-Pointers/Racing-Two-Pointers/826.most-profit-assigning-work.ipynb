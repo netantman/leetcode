{
 "cells": [
  {
   "cell_type": "markdown",
   "metadata": {},
   "source": [
    "## Attempt 1 - Accepted"
   ]
  },
  {
   "cell_type": "code",
   "execution_count": null,
   "metadata": {},
   "outputs": [],
   "source": [
    "class Solution:\n",
    "    def maxProfitAssignment(self, difficulty: List[int], profit: List[int], worker: List[int]) -> int:\n",
    "        worker=sorted(worker)\n",
    "        assignment=sorted(list(zip(difficulty, profit)),key=lambda x:x[0])\n",
    "        a,max_profit=0,0\n",
    "        res=0\n",
    "        for w in worker:\n",
    "            while a<len(assignment) and w>=assignment[a][0]:\n",
    "                max_profit=max(max_profit,assignment[a][1])\n",
    "                a+=1\n",
    "            res+=max_profit\n",
    "        return res"
   ]
  },
  {
   "cell_type": "markdown",
   "metadata": {},
   "source": [
    "## Attempt 2 - Accepted"
   ]
  },
  {
   "cell_type": "code",
   "execution_count": null,
   "metadata": {},
   "outputs": [],
   "source": [
    "class Solution:\n",
    "    def maxProfitAssignment(self, difficulty: List[int], profit: List[int], worker: List[int]) -> int:\n",
    "        record = sorted(zip(difficulty, profit), key=lambda x: x[0])\n",
    "        cummax = []\n",
    "        running = float('-inf')\n",
    "        for d, p in record:\n",
    "            running = max(running, p)\n",
    "            cummax.append((d, running))\n",
    "        \n",
    "        worker = sorted(worker)\n",
    "        L1, L2 = len(cummax), len(worker)\n",
    "        res = 0\n",
    "        idx1, idx2 = 0, 0\n",
    "        for idx2 in range(L2):\n",
    "            while idx1 < L1 and cummax[idx1][0] <= worker[idx2]:\n",
    "                idx1 += 1\n",
    "            \n",
    "            if (idx1 - 1 >= 0) and (cummax[idx1 - 1][0] <= worker[idx2]):\n",
    "                res += cummax[idx1 - 1][1]\n",
    "        \n",
    "        return res\n"
   ]
  },
  {
   "cell_type": "markdown",
   "metadata": {},
   "source": [
    "## Lessons and Thoughts\n",
    "- For each worker, sorting the assignment and finding the max profit among jobs one can do should be done as a first attempt. The tricky part is to think of two pointers as optimization.\n",
    "- Attempt 2 is closer to the template."
   ]
  }
 ],
 "metadata": {
  "kernelspec": {
   "display_name": "Python 3 (ipykernel)",
   "language": "python",
   "name": "python3"
  },
  "language_info": {
   "codemirror_mode": {
    "name": "ipython",
    "version": 3
   },
   "file_extension": ".py",
   "mimetype": "text/x-python",
   "name": "python",
   "nbconvert_exporter": "python",
   "pygments_lexer": "ipython3",
   "version": "3.9.7"
  }
 },
 "nbformat": 4,
 "nbformat_minor": 2
}
