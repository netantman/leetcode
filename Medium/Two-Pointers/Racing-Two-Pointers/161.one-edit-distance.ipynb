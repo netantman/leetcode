{
 "cells": [
  {
   "cell_type": "markdown",
   "metadata": {},
   "source": [
    "## Attempt 1 - Wrong Answer"
   ]
  },
  {
   "cell_type": "code",
   "execution_count": null,
   "metadata": {},
   "outputs": [],
   "source": [
    "class Solution:\n",
    "    def isOneEditDistance(self, s: str, t: str) -> bool:\n",
    "        if abs(len(s) - len(t)) >= 2:\n",
    "            return False\n",
    "        \n",
    "        if s == t:\n",
    "            return False\n",
    "        \n",
    "        if len(s) == len(t):\n",
    "            L = len(s)\n",
    "            cnt = 0\n",
    "            for idx in range(L):\n",
    "                if s[idx] != t[idx]:\n",
    "                    cnt += 1\n",
    "                    if cnt >= 2:\n",
    "                        return False\n",
    "            return cnt == 1\n",
    "        \n",
    "        if len(s) > len(t):\n",
    "            s, t = t, s\n",
    "        \n",
    "        if len(s) == 0:\n",
    "            return True ## --> this edge case you also missed on first try\n",
    "        \n",
    "        L = len(s)\n",
    "        ps, pt = 0, 0\n",
    "        cnt = 0\n",
    "        while ps < L:\n",
    "            if s[ps] == t[pt]:\n",
    "                ps += 1\n",
    "                pt += 1\n",
    "                continue\n",
    "            pt += 1\n",
    "            cnt += 1\n",
    "            if cnt >= 2:\n",
    "                return False\n",
    "        return cnt == 1 ## --> given previous arrangements, cnt == 0 is OK"
   ]
  },
  {
   "cell_type": "markdown",
   "metadata": {},
   "source": [
    "## Attempt 2 - Accepted"
   ]
  },
  {
   "cell_type": "code",
   "execution_count": null,
   "metadata": {},
   "outputs": [],
   "source": [
    "class Solution:\n",
    "    def isOneEditDistance(self, s: str, t: str) -> bool:\n",
    "        if abs(len(s) - len(t)) >= 2:\n",
    "            return False\n",
    "        \n",
    "        if s == t:\n",
    "            return False\n",
    "        \n",
    "        if len(s) == len(t):\n",
    "            L = len(s)\n",
    "            cnt = 0\n",
    "            for idx in range(L):\n",
    "                if s[idx] != t[idx]:\n",
    "                    cnt += 1\n",
    "                    if cnt >= 2:\n",
    "                        return False\n",
    "            return cnt == 1\n",
    "        \n",
    "        if len(s) > len(t):\n",
    "            s, t = t, s\n",
    "        \n",
    "        if len(s) == 0:\n",
    "            return True\n",
    "        \n",
    "        L = len(s)\n",
    "        ps, pt = 0, 0\n",
    "        cnt = 0\n",
    "        while ps < L:\n",
    "            if s[ps] == t[pt]:\n",
    "                ps += 1\n",
    "                pt += 1\n",
    "                continue\n",
    "            pt += 1\n",
    "            cnt += 1\n",
    "            if cnt >= 2:\n",
    "                return False\n",
    "        return cnt <= 1"
   ]
  },
  {
   "cell_type": "markdown",
   "metadata": {},
   "source": [
    "## Lessons and Thoughts\n",
    "- Missed two edge cases."
   ]
  }
 ],
 "metadata": {
  "kernelspec": {
   "display_name": "Python 3",
   "language": "python",
   "name": "python3"
  },
  "language_info": {
   "codemirror_mode": {
    "name": "ipython",
    "version": 3
   },
   "file_extension": ".py",
   "mimetype": "text/x-python",
   "name": "python",
   "nbconvert_exporter": "python",
   "pygments_lexer": "ipython3",
   "version": "3.7.3"
  }
 },
 "nbformat": 4,
 "nbformat_minor": 2
}
