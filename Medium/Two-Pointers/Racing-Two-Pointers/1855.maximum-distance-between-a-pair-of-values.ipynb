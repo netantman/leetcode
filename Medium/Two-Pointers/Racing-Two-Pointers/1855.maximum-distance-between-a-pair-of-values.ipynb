{
 "cells": [
  {
   "cell_type": "markdown",
   "metadata": {},
   "source": [
    "## Attempt 1 - Accepted"
   ]
  },
  {
   "cell_type": "code",
   "execution_count": null,
   "metadata": {},
   "outputs": [],
   "source": [
    "class Solution:\n",
    "    def maxDistance(self, nums1: List[int], nums2: List[int]) -> int:\n",
    "        L1, L2 = len(nums1), len(nums2)\n",
    "        j = 0\n",
    "        res = 0\n",
    "        for i in range(L1):\n",
    "            curr = nums1[i]\n",
    "            while j < L2:\n",
    "                if nums2[j] >= curr:\n",
    "                    res = max(res, j - i)\n",
    "                    j += 1\n",
    "                else:\n",
    "                    break\n",
    "        return res"
   ]
  },
  {
   "cell_type": "markdown",
   "metadata": {},
   "source": [
    "## Lessons and Thoughts\n",
    "- Straightforward once it is figured out how the two pointers move."
   ]
  }
 ],
 "metadata": {
  "kernelspec": {
   "display_name": "Python 3",
   "language": "python",
   "name": "python3"
  },
  "language_info": {
   "codemirror_mode": {
    "name": "ipython",
    "version": 3
   },
   "file_extension": ".py",
   "mimetype": "text/x-python",
   "name": "python",
   "nbconvert_exporter": "python",
   "pygments_lexer": "ipython3",
   "version": "3.7.3"
  }
 },
 "nbformat": 4,
 "nbformat_minor": 2
}
