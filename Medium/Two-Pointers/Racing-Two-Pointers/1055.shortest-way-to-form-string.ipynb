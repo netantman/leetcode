{
 "cells": [
  {
   "cell_type": "markdown",
   "metadata": {},
   "source": [
    "## Attempt 1 - Time Limit Exceeded"
   ]
  },
  {
   "cell_type": "code",
   "execution_count": null,
   "metadata": {},
   "outputs": [],
   "source": [
    "class Solution:\n",
    "    def shortestWay(self, source: str, target: str) -> int:\n",
    "        \n",
    "        def is_sub(sub, source):\n",
    "            L1, L2 = len(sub), len(source)\n",
    "            idx1, idx2 = 0, 0\n",
    "            while idx1 < L1 and idx2 < L2:\n",
    "                if sub[idx1] == source[idx2]:\n",
    "                    idx1 += 1\n",
    "                    idx2 += 1\n",
    "                    continue\n",
    "                idx2 += 1\n",
    "            return idx1 == L1\n",
    "        \n",
    "        L = len(target)\n",
    "        dp = [float('inf') for _ in range(L + 1)]\n",
    "        dp[0] = 0\n",
    "        \n",
    "        for idx in range(1, L + 1):\n",
    "            for j in range(idx):\n",
    "                if is_sub(target[j : idx], source):\n",
    "                    dp[idx] = min(dp[idx], dp[j] + 1)\n",
    "        \n",
    "        return dp[-1] if dp[-1] < float('inf') else -1"
   ]
  },
  {
   "cell_type": "markdown",
   "metadata": {},
   "source": [
    "## Attempt 2 - Time Limit Exceeded"
   ]
  },
  {
   "cell_type": "code",
   "execution_count": null,
   "metadata": {},
   "outputs": [],
   "source": [
    "class Solution:\n",
    "    def shortestWay(self, source: str, target: str) -> int:\n",
    "        \n",
    "        self.cache = dict()\n",
    "        \n",
    "        def is_sub(sub, source):\n",
    "            if sub in self.cache:\n",
    "                return self.cache[sub]\n",
    "            L1, L2 = len(sub), len(source)\n",
    "            idx1, idx2 = 0, 0\n",
    "            while idx1 < L1 and idx2 < L2:\n",
    "                if sub[idx1] == source[idx2]:\n",
    "                    idx1 += 1\n",
    "                    idx2 += 1\n",
    "                    continue\n",
    "                idx2 += 1\n",
    "            res = (idx1 == L1)\n",
    "            self.cache[sub] = res\n",
    "            return res\n",
    "        \n",
    "        L = len(target)\n",
    "        dp = [float('inf') for _ in range(L + 1)]\n",
    "        dp[0] = 0\n",
    "        \n",
    "        for idx in range(1, L + 1):\n",
    "            for j in range(idx):\n",
    "                if is_sub(target[j : idx], source):\n",
    "                    dp[idx] = min(dp[idx], dp[j] + 1)\n",
    "        \n",
    "        return dp[-1] if dp[-1] < float('inf') else -1"
   ]
  },
  {
   "cell_type": "markdown",
   "metadata": {},
   "source": [
    "## Attempt 3 - Accepted"
   ]
  },
  {
   "cell_type": "code",
   "execution_count": null,
   "metadata": {},
   "outputs": [],
   "source": [
    "class Solution:\n",
    "    def shortestWay(self, source: str, target: str) -> int:\n",
    "        \n",
    "        alpha1, alpha2 = set(source), set(target)\n",
    "        for c in alpha2:\n",
    "            if c not in alpha1:\n",
    "                return -1\n",
    "        \n",
    "        L1, L2 = len(source), len(target)\n",
    "        idx1, idx2 = 0, 0\n",
    "        while idx2 < L2:\n",
    "            if source[idx1%L1] == target[idx2]:\n",
    "                idx1 += 1\n",
    "                idx2 += 1\n",
    "                continue\n",
    "            idx1 += 1\n",
    "        return idx1 // L1 + 1 if idx1 % L1 > 0 else idx1 // L1"
   ]
  },
  {
   "cell_type": "markdown",
   "metadata": {},
   "source": [
    "## Lessons and Thoughts\n",
    "- Thought it was a DP problem, but actually two-pointer is more efficient: looked at the hint."
   ]
  }
 ],
 "metadata": {
  "kernelspec": {
   "display_name": "Python 3",
   "language": "python",
   "name": "python3"
  },
  "language_info": {
   "codemirror_mode": {
    "name": "ipython",
    "version": 3
   },
   "file_extension": ".py",
   "mimetype": "text/x-python",
   "name": "python",
   "nbconvert_exporter": "python",
   "pygments_lexer": "ipython3",
   "version": "3.7.3"
  }
 },
 "nbformat": 4,
 "nbformat_minor": 2
}
