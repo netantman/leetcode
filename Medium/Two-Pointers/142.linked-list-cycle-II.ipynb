{
 "cells": [
  {
   "cell_type": "markdown",
   "metadata": {},
   "source": [
    "## Attempt 1 - Accepted, Used a trick"
   ]
  },
  {
   "cell_type": "code",
   "execution_count": null,
   "metadata": {},
   "outputs": [],
   "source": [
    "# Definition for singly-linked list.\n",
    "# class ListNode:\n",
    "#     def __init__(self, x):\n",
    "#         self.val = x\n",
    "#         self.next = None\n",
    "\n",
    "class Solution:\n",
    "    def detectCycle(self, head: ListNode) -> ListNode:\n",
    "        if head is None:\n",
    "            return None\n",
    "        if head.next is None:\n",
    "            return None\n",
    "        \n",
    "        bak, back, front=head, head, head\n",
    "        while front.next is not None and front.next.next is not None:\n",
    "            front=front.next.next\n",
    "            back=back.next\n",
    "            if back==front:\n",
    "                while bak!=back:\n",
    "                    bak=bak.next\n",
    "                    back=back.next\n",
    "                return bak\n",
    "            \n",
    "        return None"
   ]
  },
  {
   "cell_type": "markdown",
   "metadata": {},
   "source": [
    "## Lessons and Thoughts\n",
    "- This is a [trick](https://medium.com/@lenchen/leetcode-142-linked-list-cycle-ii-7dd1dc691797)"
   ]
  }
 ],
 "metadata": {
  "kernelspec": {
   "display_name": "Python 3",
   "language": "python",
   "name": "python3"
  },
  "language_info": {
   "codemirror_mode": {
    "name": "ipython",
    "version": 3
   },
   "file_extension": ".py",
   "mimetype": "text/x-python",
   "name": "python",
   "nbconvert_exporter": "python",
   "pygments_lexer": "ipython3",
   "version": "3.7.3"
  }
 },
 "nbformat": 4,
 "nbformat_minor": 2
}
