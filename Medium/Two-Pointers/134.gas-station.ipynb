{
 "cells": [
  {
   "cell_type": "markdown",
   "metadata": {},
   "source": [
    "## Attempt 1 - Wrong Answer"
   ]
  },
  {
   "cell_type": "code",
   "execution_count": null,
   "metadata": {},
   "outputs": [],
   "source": [
    "class Solution:\n",
    "    def canCompleteCircuit(self, gas: List[int], cost: List[int]) -> int:\n",
    "        start, end=0,1\n",
    "        L=len(gas)\n",
    "        curr=gas[start]-cost[start]\n",
    "        while end!=start:\n",
    "            if curr>0:\n",
    "                curr+=(gas[end]-cost[end])\n",
    "                end=(end+1)%L\n",
    "            else:\n",
    "                curr-=(gas[start]-cost[start])\n",
    "                start=(start+1)%L\n",
    "                if start==0:\n",
    "                    return -1\n",
    "                curr+=(gas[end]-cost[end])\n",
    "                end=(end+1)%L\n",
    "        ## --> miss the case when end==start, it is not feasible\n",
    "        return start"
   ]
  },
  {
   "cell_type": "markdown",
   "metadata": {},
   "source": [
    "## Attempt 2 - Wrong Answer"
   ]
  },
  {
   "cell_type": "code",
   "execution_count": null,
   "metadata": {},
   "outputs": [],
   "source": [
    "class Solution:\n",
    "    def canCompleteCircuit(self, gas: List[int], cost: List[int]) -> int:\n",
    "        start, end=0,1\n",
    "        L=len(gas)\n",
    "        curr=gas[start]-cost[start]\n",
    "        while end!=start:\n",
    "            if curr>=0:\n",
    "                curr+=(gas[end]-cost[end])\n",
    "                end=(end+1)%L\n",
    "            else:\n",
    "                curr-=(gas[start]-cost[start])\n",
    "                start=(start+1)%L\n",
    "                if start==0:\n",
    "                    return -1\n",
    "                curr+=(gas[end]-cost[end])  ## --> end should not always move with start, since after start moves, some ends may not be feasible any more.\n",
    "                end=(end+1)%L\n",
    "        if curr<0:\n",
    "            return -1\n",
    "        else:\n",
    "            return start"
   ]
  },
  {
   "cell_type": "markdown",
   "metadata": {},
   "source": [
    "## Attempt 3 - Index out of range (got some hook up on learning the algo, forgot to deal with edge case)"
   ]
  },
  {
   "cell_type": "code",
   "execution_count": null,
   "metadata": {},
   "outputs": [],
   "source": [
    "class Solution:\n",
    "    def canCompleteCircuit(self, gas: List[int], cost: List[int]) -> int:\n",
    "        start, end=0,1\n",
    "        L=len(gas)\n",
    "        curr=gas[start]-cost[start]\n",
    "        while end!=start:\n",
    "            if curr>=0:\n",
    "                curr+=(gas[end]-cost[end])\n",
    "                end=(end+1)%L\n",
    "            else:\n",
    "                curr-=(gas[start]-cost[start])\n",
    "                start=(start+1)%L\n",
    "                if start==0:\n",
    "                    return -1\n",
    "                if start==end:\n",
    "                    curr+=(gas[end]-cost[end])\n",
    "                    end=(end+1)%L\n",
    "        if curr<0:\n",
    "            return -1\n",
    "        else:\n",
    "            return start"
   ]
  },
  {
   "cell_type": "markdown",
   "metadata": {},
   "source": [
    "## Attempt 4 - Accepted"
   ]
  },
  {
   "cell_type": "code",
   "execution_count": null,
   "metadata": {},
   "outputs": [],
   "source": [
    "class Solution:\n",
    "    def canCompleteCircuit(self, gas: List[int], cost: List[int]) -> int:\n",
    "        L=len(gas)\n",
    "        if L==1:\n",
    "            if gas[0]>=cost[0]:\n",
    "                return 0\n",
    "            else:\n",
    "                -1\n",
    "\n",
    "        start, end=0,1        \n",
    "        curr=gas[start]-cost[start]\n",
    "        while end!=start:\n",
    "            if curr>=0:\n",
    "                curr+=(gas[end]-cost[end])\n",
    "                end=(end+1)%L\n",
    "            else:\n",
    "                curr-=(gas[start]-cost[start])\n",
    "                start=(start+1)%L\n",
    "                if start==0:\n",
    "                    return -1\n",
    "                if start==end:\n",
    "                    curr+=(gas[end]-cost[end])\n",
    "                    end=(end+1)%L\n",
    "        if curr<0:\n",
    "            return -1\n",
    "        else:\n",
    "            return start"
   ]
  },
  {
   "cell_type": "markdown",
   "metadata": {},
   "source": [
    "## Lessons and Thoughts\n",
    "- Algo inspired [here](https://medium.com/@rohitsharmacr/gas-station-leetcode-134-d9693244d18c). You may need to look into chasing two pointers algo more.\n",
    "- It may help to define what the pointers mean specifically, e.g. `start` means my journey starts here, while `end` means it ends at `end-1`, in this example."
   ]
  }
 ],
 "metadata": {
  "kernelspec": {
   "display_name": "Python 3",
   "language": "python",
   "name": "python3"
  },
  "language_info": {
   "codemirror_mode": {
    "name": "ipython",
    "version": 3
   },
   "file_extension": ".py",
   "mimetype": "text/x-python",
   "name": "python",
   "nbconvert_exporter": "python",
   "pygments_lexer": "ipython3",
   "version": "3.7.3"
  }
 },
 "nbformat": 4,
 "nbformat_minor": 2
}
