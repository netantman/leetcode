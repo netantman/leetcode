{
 "cells": [
  {
   "cell_type": "markdown",
   "metadata": {},
   "source": [
    "## Attempt 1 - Accepted"
   ]
  },
  {
   "cell_type": "code",
   "execution_count": null,
   "metadata": {},
   "outputs": [],
   "source": [
    "class Solution:\n",
    "    def maxSumMinProduct(self, nums: List[int]) -> int:\n",
    "        mod = 10 ** 9 + 7\n",
    "        L = len(nums)\n",
    "        cumsum = [0]\n",
    "        for n in nums:\n",
    "            cumsum.append(n + cumsum[-1])\n",
    "        \n",
    "        left, right = [0] * L, [L] * L\n",
    "        s = []\n",
    "        for idx, n in enumerate(nums):\n",
    "            while s and nums[s[-1]] >= n:\n",
    "                right[s[-1]] = idx\n",
    "                s.pop()\n",
    "            if s:\n",
    "                left[idx] = s[-1] + 1\n",
    "            s.append(idx)\n",
    "        \n",
    "        best = max((cumsum[right[idx]] - cumsum[left[idx]]) * n for idx, n in enumerate(nums))\n",
    "        return best % mod"
   ]
  },
  {
   "cell_type": "markdown",
   "metadata": {},
   "source": [
    "## Lessons and Thoughts\n",
    "- Besides maintaining a monotonic stack, also record `left` and `right` to record the min 'wall' each element will hit.\n",
    "- The above is slightly different from the solution from the app, since I follow the convention that left include and right exclude."
   ]
  }
 ],
 "metadata": {
  "kernelspec": {
   "display_name": "Python 3",
   "language": "python",
   "name": "python3"
  },
  "language_info": {
   "codemirror_mode": {
    "name": "ipython",
    "version": 3
   },
   "file_extension": ".py",
   "mimetype": "text/x-python",
   "name": "python",
   "nbconvert_exporter": "python",
   "pygments_lexer": "ipython3",
   "version": "3.7.3"
  }
 },
 "nbformat": 4,
 "nbformat_minor": 2
}
