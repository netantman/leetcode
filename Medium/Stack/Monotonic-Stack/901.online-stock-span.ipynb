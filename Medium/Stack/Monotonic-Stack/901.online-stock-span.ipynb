{
 "cells": [
  {
   "cell_type": "markdown",
   "metadata": {},
   "source": [
    "## Attempt 1 - Accepted"
   ]
  },
  {
   "cell_type": "code",
   "execution_count": null,
   "metadata": {},
   "outputs": [],
   "source": [
    "class StockSpanner:\n",
    "\n",
    "    def __init__(self):\n",
    "        self.stack=[]\n",
    "        self.cnt=0\n",
    "\n",
    "    def next(self, price: int) -> int:\n",
    "        while len(self.stack)>0 and self.stack[-1][0]<=price:\n",
    "            self.stack.pop()\n",
    "        if len(self.stack)<1:\n",
    "            res=self.cnt+1\n",
    "        else:\n",
    "            res=self.cnt-self.stack[-1][1]\n",
    "        self.stack.append((price,self.cnt))\n",
    "        self.cnt+=1\n",
    "        return res\n",
    "        \n",
    "\n",
    "\n",
    "# Your StockSpanner object will be instantiated and called as such:\n",
    "# obj = StockSpanner()\n",
    "# param_1 = obj.next(price)"
   ]
  },
  {
   "cell_type": "markdown",
   "metadata": {},
   "source": [
    "## Lessons and Thoughts\n",
    "- The monotonic stack idea"
   ]
  }
 ],
 "metadata": {
  "kernelspec": {
   "display_name": "Python 3",
   "language": "python",
   "name": "python3"
  },
  "language_info": {
   "codemirror_mode": {
    "name": "ipython",
    "version": 3
   },
   "file_extension": ".py",
   "mimetype": "text/x-python",
   "name": "python",
   "nbconvert_exporter": "python",
   "pygments_lexer": "ipython3",
   "version": "3.7.3"
  }
 },
 "nbformat": 4,
 "nbformat_minor": 2
}
