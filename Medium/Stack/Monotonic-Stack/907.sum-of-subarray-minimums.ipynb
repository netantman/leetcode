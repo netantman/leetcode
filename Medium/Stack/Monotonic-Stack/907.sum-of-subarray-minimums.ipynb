{
 "cells": [
  {
   "cell_type": "markdown",
   "metadata": {},
   "source": [
    "## Attempt 1 - Time Limit Exceeded"
   ]
  },
  {
   "cell_type": "code",
   "execution_count": null,
   "metadata": {},
   "outputs": [],
   "source": [
    "class Solution:\n",
    "    def sumSubarrayMins(self, A: List[int]) -> int:\n",
    "        mod=10**9+7\n",
    "        record=[A[0]]\n",
    "        res=A[0]%mod\n",
    "        L=len(A)\n",
    "        for idx in range(1,L):\n",
    "            curr=A[idx]\n",
    "            record=[min(curr,r) for r in record]\n",
    "            record.append(curr)\n",
    "            res+=(sum(record)%mod)\n",
    "        return res%mod"
   ]
  },
  {
   "cell_type": "markdown",
   "metadata": {},
   "source": [
    "## Attempt 2 - Accepted"
   ]
  },
  {
   "cell_type": "code",
   "execution_count": null,
   "metadata": {},
   "outputs": [],
   "source": [
    "class Solution(object):\n",
    "    def sumSubarrayMins(self, A):\n",
    "        MOD = 10**9 + 7\n",
    "        N = len(A)\n",
    "\n",
    "        # prev has i* - 1 in increasing order of A[i* - 1]\n",
    "        # where i* is the answer to query j\n",
    "        stack = []\n",
    "        prev = [None] * N\n",
    "        for i in range(N):\n",
    "            while stack and A[i] <= A[stack[-1]]:\n",
    "                stack.pop()\n",
    "            prev[i] = stack[-1] if stack else -1\n",
    "            stack.append(i)\n",
    "\n",
    "        # next has k* + 1 in increasing order of A[k* + 1]\n",
    "        # where k* is the answer to query j\n",
    "        stack = []\n",
    "        next_ = [None] * N\n",
    "        for k in range(N-1, -1, -1):\n",
    "            while stack and A[k] < A[stack[-1]]:\n",
    "                stack.pop()\n",
    "            next_[k] = stack[-1] if stack else N\n",
    "            stack.append(k)\n",
    "\n",
    "        # Use prev/next array to count answer\n",
    "        return sum((i - prev[i]) * (next_[i] - i) * A[i]\n",
    "                   for i in range(N)) % MOD"
   ]
  },
  {
   "cell_type": "markdown",
   "metadata": {},
   "source": [
    "## Lessons and Thoughts\n",
    "- The solution is from leetcode app. The idea is set a monotonic stack. For each element `A[j]`, find the leftmost point `i` such that `A[i]>=A[j]`, and similarly find the rightmost point `k` such that `A[k]>A[j]`. Note the asymmetry among larger than and smaller or equal here - this is so to make sure we do not double count. That we can track leftmost and rightmost separately as similar problems is also key to this question.\n"
   ]
  }
 ],
 "metadata": {
  "kernelspec": {
   "display_name": "Python 3",
   "language": "python",
   "name": "python3"
  },
  "language_info": {
   "codemirror_mode": {
    "name": "ipython",
    "version": 3
   },
   "file_extension": ".py",
   "mimetype": "text/x-python",
   "name": "python",
   "nbconvert_exporter": "python",
   "pygments_lexer": "ipython3",
   "version": "3.7.3"
  }
 },
 "nbformat": 4,
 "nbformat_minor": 2
}
