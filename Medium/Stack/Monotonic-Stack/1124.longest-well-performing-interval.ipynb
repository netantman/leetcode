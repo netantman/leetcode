{
 "cells": [
  {
   "cell_type": "markdown",
   "metadata": {},
   "source": [
    "## Attempt 1 - Wrong Answer"
   ]
  },
  {
   "cell_type": "code",
   "execution_count": null,
   "metadata": {},
   "outputs": [],
   "source": [
    "class Solution:\n",
    "    def longestWPI(self, hours: List[int]) -> int:\n",
    "        hours=[1 if h>8 else -1 for h in hours]\n",
    "        L=len(hours)\n",
    "        cumsum=[sum(hours[:idx]) for idx in range(1,L+1)]\n",
    "        res=0\n",
    "        st=[(0,0)]\n",
    "        for idx, cs in enumerate(cumsum):\n",
    "            if cs<st[-1][1]:\n",
    "                st.append((idx, cs)) ## -> index is mess up\n",
    "            elif cs>st[-1][1]:\n",
    "                smaller=[s for s in st if s[1]<cs]\n",
    "                res=max(res, idx+1-smaller[0][0])\n",
    "        return res"
   ]
  },
  {
   "cell_type": "markdown",
   "metadata": {},
   "source": [
    "## Attempt 2 - Accepted"
   ]
  },
  {
   "cell_type": "code",
   "execution_count": null,
   "metadata": {},
   "outputs": [],
   "source": [
    "class Solution:\n",
    "    def longestWPI(self, hours: List[int]) -> int:\n",
    "        hours=[1 if h>8 else -1 for h in hours]\n",
    "        L=len(hours)\n",
    "        cumsum=[sum(hours[:idx]) for idx in range(1,L+1)]\n",
    "        res=0\n",
    "        st=[(0,0)]\n",
    "        for idx, cs in enumerate(cumsum):\n",
    "            if cs<st[-1][1]:\n",
    "                st.append((idx+1, cs))\n",
    "            elif cs>st[-1][1]:\n",
    "                smaller=[s for s in st if s[1]<cs]\n",
    "                res=max(res, idx+1-smaller[0][0])\n",
    "        return res"
   ]
  },
  {
   "cell_type": "markdown",
   "metadata": {},
   "source": [
    "## Lessons and Thoughts\n",
    "- Different from other monotonic stack problem, this stack never needs to pop and itself serves the record-keeping purpose. Thus we do not need a separate `dict` and do not need to check if the stack is empty or not.\n",
    "- Cumsum index can be tricky - better set `cumsum[idx]` to be the cumsum up to but not including `idx`."
   ]
  }
 ],
 "metadata": {
  "kernelspec": {
   "display_name": "Python 3",
   "language": "python",
   "name": "python3"
  },
  "language_info": {
   "codemirror_mode": {
    "name": "ipython",
    "version": 3
   },
   "file_extension": ".py",
   "mimetype": "text/x-python",
   "name": "python",
   "nbconvert_exporter": "python",
   "pygments_lexer": "ipython3",
   "version": "3.7.3"
  }
 },
 "nbformat": 4,
 "nbformat_minor": 2
}
