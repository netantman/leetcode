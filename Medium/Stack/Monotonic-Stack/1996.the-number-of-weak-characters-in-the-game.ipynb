{
 "cells": [
  {
   "cell_type": "markdown",
   "metadata": {},
   "source": [
    "## Attempt 1 - Wrong Answer"
   ]
  },
  {
   "cell_type": "code",
   "execution_count": null,
   "metadata": {},
   "outputs": [],
   "source": [
    "class Solution:\n",
    "    def numberOfWeakCharacters(self, properties: List[List[int]]) -> int:\n",
    "        properties = sorted(properties, key=lambda x: (x[0], x[1]))\n",
    "        st = []\n",
    "        cnt = 0\n",
    "        for prop in properties:\n",
    "            while st and st[-1][0] < prop[0] and st[-1][1] < prop[1]:\n",
    "                cnt += 1\n",
    "                st.pop()\n",
    "            st.append(prop)\n",
    "        return cnt"
   ]
  },
  {
   "cell_type": "markdown",
   "metadata": {},
   "source": [
    "## Attempt 2 - Accepted"
   ]
  },
  {
   "cell_type": "code",
   "execution_count": null,
   "metadata": {},
   "outputs": [],
   "source": [
    "class Solution:\n",
    "    def numberOfWeakCharacters(self, properties: List[List[int]]) -> int:\n",
    "        properties = sorted(properties, key=lambda x: (x[0], -x[1]))\n",
    "        st = []\n",
    "        cnt = 0\n",
    "        for prop in properties:\n",
    "            while st and st[-1][0] < prop[0] and st[-1][1] < prop[1]:\n",
    "                cnt += 1\n",
    "                st.pop()\n",
    "            st.append(prop)\n",
    "        return cnt"
   ]
  },
  {
   "cell_type": "markdown",
   "metadata": {},
   "source": [
    "## Lessons and Thoughts\n",
    "- The first approach will miss the edge case where weak player is hidden from later players which share attack or defense."
   ]
  }
 ],
 "metadata": {
  "kernelspec": {
   "display_name": "Python 3",
   "language": "python",
   "name": "python3"
  },
  "language_info": {
   "codemirror_mode": {
    "name": "ipython",
    "version": 3
   },
   "file_extension": ".py",
   "mimetype": "text/x-python",
   "name": "python",
   "nbconvert_exporter": "python",
   "pygments_lexer": "ipython3",
   "version": "3.7.3"
  }
 },
 "nbformat": 4,
 "nbformat_minor": 2
}
