{
 "cells": [
  {
   "cell_type": "markdown",
   "metadata": {},
   "source": [
    "## Attempt 1 - Accepted"
   ]
  },
  {
   "cell_type": "code",
   "execution_count": null,
   "metadata": {},
   "outputs": [],
   "source": [
    "# Definition for singly-linked list.\n",
    "# class ListNode:\n",
    "#     def __init__(self, val=0, next=None):\n",
    "#         self.val = val\n",
    "#         self.next = next\n",
    "class Solution:\n",
    "    def nextLargerNodes(self, head: ListNode) -> List[int]:\n",
    "        curr=head\n",
    "        idx=0\n",
    "        res=[]\n",
    "        stack=[]\n",
    "        while curr is not None:\n",
    "            res.append(None)\n",
    "            while len(stack)>0 and curr.val>stack[-1][1]:\n",
    "                top=stack.pop()\n",
    "                res[top[0]]=curr.val\n",
    "            stack.append((idx, curr.val))\n",
    "            curr=curr.next\n",
    "            idx+=1\n",
    "        L=len(res)\n",
    "        for idx in range(L):\n",
    "            res[idx]=0 if res[idx] is None else res[idx]\n",
    "        return res"
   ]
  },
  {
   "cell_type": "markdown",
   "metadata": {},
   "source": [
    "## Lessons and Thoughts\n",
    "- The benefit of using monotonic stack is we can just traverse the list/linked list once."
   ]
  }
 ],
 "metadata": {
  "kernelspec": {
   "display_name": "Python 3",
   "language": "python",
   "name": "python3"
  },
  "language_info": {
   "codemirror_mode": {
    "name": "ipython",
    "version": 3
   },
   "file_extension": ".py",
   "mimetype": "text/x-python",
   "name": "python",
   "nbconvert_exporter": "python",
   "pygments_lexer": "ipython3",
   "version": "3.7.3"
  }
 },
 "nbformat": 4,
 "nbformat_minor": 2
}
