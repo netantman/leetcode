{
 "cells": [
  {
   "cell_type": "markdown",
   "metadata": {},
   "source": [
    "## Attempt 1 - Accepted"
   ]
  },
  {
   "cell_type": "code",
   "execution_count": null,
   "metadata": {},
   "outputs": [],
   "source": [
    "class Solution:\n",
    "    def dailyTemperatures(self, T: List[int]) -> List[int]:\n",
    "        L=len(T)\n",
    "        if L<=1:\n",
    "            return [0]\n",
    "        \n",
    "        record=dict()\n",
    "        stack=[]\n",
    "        for idx, temp in enumerate(T):\n",
    "            if len(stack)<1 or temp<=stack[-1][0]:\n",
    "                stack.append((temp, idx))\n",
    "            else:\n",
    "                while len(stack)>0 and temp>stack[-1][0]:\n",
    "                    top=stack.pop()\n",
    "                    record[top[1]]=idx-top[1]\n",
    "                stack.append((temp, idx))\n",
    "        \n",
    "        res=[]\n",
    "        for idx in range(L):\n",
    "            res.append(record.get(idx,0))\n",
    "        return res"
   ]
  },
  {
   "cell_type": "markdown",
   "metadata": {},
   "source": [
    "## Lessons and Thoughts\n",
    "- The edge case is when there are duplicate temperatures, so temperature cannot be key to `record`."
   ]
  }
 ],
 "metadata": {
  "kernelspec": {
   "display_name": "Python 3",
   "language": "python",
   "name": "python3"
  },
  "language_info": {
   "codemirror_mode": {
    "name": "ipython",
    "version": 3
   },
   "file_extension": ".py",
   "mimetype": "text/x-python",
   "name": "python",
   "nbconvert_exporter": "python",
   "pygments_lexer": "ipython3",
   "version": "3.7.3"
  }
 },
 "nbformat": 4,
 "nbformat_minor": 2
}
