{
 "cells": [
  {
   "cell_type": "markdown",
   "metadata": {},
   "source": [
    "## Attempt 1 - Accepted"
   ]
  },
  {
   "cell_type": "code",
   "execution_count": null,
   "metadata": {},
   "outputs": [],
   "source": [
    "class Solution:\n",
    "    def mostCompetitive(self, nums: List[int], k: int) -> List[int]:\n",
    "        res = [-float('inf')]\n",
    "        while len(res) + len(nums) > k + 1:\n",
    "            if len(nums) > 0:\n",
    "                if nums[0] < res[-1]:\n",
    "                    res.pop()\n",
    "                else:\n",
    "                    res.append(nums.pop(0))\n",
    "            else:\n",
    "                break\n",
    "        res = res + nums\n",
    "        return res[1:k + 1]"
   ]
  },
  {
   "cell_type": "markdown",
   "metadata": {},
   "source": [
    "## Lessons and Thoughts\n",
    "- Be very careful for index out of range."
   ]
  }
 ],
 "metadata": {
  "kernelspec": {
   "display_name": "Python 3",
   "language": "python",
   "name": "python3"
  },
  "language_info": {
   "codemirror_mode": {
    "name": "ipython",
    "version": 3
   },
   "file_extension": ".py",
   "mimetype": "text/x-python",
   "name": "python",
   "nbconvert_exporter": "python",
   "pygments_lexer": "ipython3",
   "version": "3.7.3"
  }
 },
 "nbformat": 4,
 "nbformat_minor": 2
}
