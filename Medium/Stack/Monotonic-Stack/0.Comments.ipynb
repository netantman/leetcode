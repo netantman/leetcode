{
 "cells": [
  {
   "cell_type": "markdown",
   "metadata": {},
   "source": [
    "The monotonic stack idea is to maintain a stack where its elements are monotonically increasing or decreasing. When a new element arising from the sequence is destroying this relation, the stack pops and record are kept. To keep record, there seem two ways, one is by dictionary (see Problem 496 and 503; seems this approach is easier for 496) or create a default list full of `None` (see Problem 1019)."
   ]
  }
 ],
 "metadata": {
  "kernelspec": {
   "display_name": "Python 3",
   "language": "python",
   "name": "python3"
  },
  "language_info": {
   "codemirror_mode": {
    "name": "ipython",
    "version": 3
   },
   "file_extension": ".py",
   "mimetype": "text/x-python",
   "name": "python",
   "nbconvert_exporter": "python",
   "pygments_lexer": "ipython3",
   "version": "3.7.3"
  }
 },
 "nbformat": 4,
 "nbformat_minor": 2
}
