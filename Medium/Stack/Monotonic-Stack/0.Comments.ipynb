{
 "cells": [
  {
   "cell_type": "markdown",
   "metadata": {},
   "source": [
    "## Idea"
   ]
  },
  {
   "cell_type": "markdown",
   "metadata": {},
   "source": [
    "The monotonic stack idea is to maintain a stack where its elements are monotonically increasing or decreasing. When a new element arising from the sequence is destroying this relation, the stack pops (or not) and record are kept. To keep record, there seem two ways, one is by dictionary (see Problem 496 and 503; seems this approach is easier for 496) or create a default list full of `None` (see Problem 1019).\n",
    "\n",
    "Monotonic stack can output the sorted nodes preordered in BST as well; see Problem 255."
   ]
  },
  {
   "cell_type": "markdown",
   "metadata": {},
   "source": [
    "## Traps"
   ]
  },
  {
   "cell_type": "markdown",
   "metadata": {},
   "source": [
    "- Remember to check whether the stack is empty, unless your stack never pops.\n",
    "- When there are duplicate elements, the element itself cannot be key to the dictionary mentioned above."
   ]
  }
 ],
 "metadata": {
  "kernelspec": {
   "display_name": "Python 3",
   "language": "python",
   "name": "python3"
  },
  "language_info": {
   "codemirror_mode": {
    "name": "ipython",
    "version": 3
   },
   "file_extension": ".py",
   "mimetype": "text/x-python",
   "name": "python",
   "nbconvert_exporter": "python",
   "pygments_lexer": "ipython3",
   "version": "3.7.3"
  }
 },
 "nbformat": 4,
 "nbformat_minor": 2
}
