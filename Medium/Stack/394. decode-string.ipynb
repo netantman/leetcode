{
 "cells": [
  {
   "cell_type": "markdown",
   "metadata": {},
   "source": [
    "## Attempt 1 - Runtime Error"
   ]
  },
  {
   "cell_type": "code",
   "execution_count": null,
   "metadata": {},
   "outputs": [],
   "source": [
    "class Solution:\n",
    "    def decodeString(self, s: str) -> str:\n",
    "        digits={'1', '2', '3', '4', '5', '6', '7', '8', '9', '0'} ## --> missing the number '0'\n",
    "        letters={'a', 'b', 'c', 'd', 'e', 'f', 'g', 'h', 'i', 'j', 'k', 'l', 'm', 'n', 'o', 'p', 'q', 'r', 's', 't', 'u', 'v', 'w', 'x', 'y', 'z'}\n",
    "        ## --> did not include capital letters.\n",
    "        times=None\n",
    "        stack=[]\n",
    "        lefts=[]\n",
    "        for idx in range(len(s)):\n",
    "            c=s[idx]\n",
    "            if c==\"[\":\n",
    "                stack.append(\"\")\n",
    "                lefts.append(idx)\n",
    "            elif c in letters:\n",
    "                if len(stack)>0:\n",
    "                    stack[-1]+=c\n",
    "                else:\n",
    "                    stack.append(c)\n",
    "            elif c==\"]\":\n",
    "                so_far=stack.pop(-1)\n",
    "                last_left=lefts.pop(-1)\n",
    "                rewind=1\n",
    "                while (last_left-rewind>=0) and (s[last_left-rewind] in digits):\n",
    "                    rewind+=1\n",
    "                times=int(s[last_left-rewind+1:last_left])\n",
    "                if len(stack)>0:\n",
    "                    stack[-1]+=times*so_far\n",
    "                else:\n",
    "                    stack.append(times*so_far)\n",
    "        return stack[-1]"
   ]
  },
  {
   "cell_type": "markdown",
   "metadata": {},
   "source": [
    "## Attempt 2 - Accepted"
   ]
  },
  {
   "cell_type": "code",
   "execution_count": null,
   "metadata": {},
   "outputs": [],
   "source": [
    "class Solution:\n",
    "    def decodeString(self, s: str) -> str:\n",
    "        if len(s)<1:\n",
    "            return \"\"\n",
    "        \n",
    "        digits={'1', '2', '3', '4', '5', '6', '7', '8', '9', '0'}\n",
    "        letters={'a', 'b', 'c', 'd', 'e', 'f', 'g', 'h', 'i', 'j', 'k', 'l', 'm', 'n', 'o', 'p', 'q', 'r', 's', 't', 'u', 'v', 'w', 'x', 'y', 'z',\n",
    "                 'A', 'B', 'C', 'D', 'E', 'F', 'G', 'H', 'I', 'J', 'K', 'L', 'M', 'N', 'O', 'P', 'Q', 'R', 'S', 'T', 'U', 'V', 'W', 'X', 'Y', 'Z'}\n",
    "        times=None\n",
    "        stack=[]\n",
    "        lefts=[]\n",
    "        for idx in range(len(s)):\n",
    "            c=s[idx]\n",
    "            if c==\"[\":\n",
    "                stack.append(\"\")\n",
    "                lefts.append(idx)\n",
    "            elif c in letters:\n",
    "                if len(stack)>0:\n",
    "                    stack[-1]+=c\n",
    "                else:\n",
    "                    stack.append(c)\n",
    "            elif c==\"]\":\n",
    "                so_far=stack.pop(-1)\n",
    "                last_left=lefts.pop(-1)\n",
    "                rewind=1\n",
    "                while (last_left-rewind>=0) and (s[last_left-rewind] in digits):\n",
    "                    rewind+=1\n",
    "                times=int(s[last_left-rewind+1:last_left])\n",
    "                if len(stack)>0:\n",
    "                    stack[-1]+=times*so_far\n",
    "                else:\n",
    "                    stack.append(times*so_far)\n",
    "        return stack[-1]"
   ]
  },
  {
   "cell_type": "markdown",
   "metadata": {},
   "source": [
    "## Lessons and Thoughts\n",
    "- The usual edge cases to bear in mind: upper/lower case letters, digits representing numbers with leading zeros."
   ]
  }
 ],
 "metadata": {
  "kernelspec": {
   "display_name": "Python 3",
   "language": "python",
   "name": "python3"
  },
  "language_info": {
   "codemirror_mode": {
    "name": "ipython",
    "version": 3
   },
   "file_extension": ".py",
   "mimetype": "text/x-python",
   "name": "python",
   "nbconvert_exporter": "python",
   "pygments_lexer": "ipython3",
   "version": "3.7.3"
  }
 },
 "nbformat": 4,
 "nbformat_minor": 2
}
