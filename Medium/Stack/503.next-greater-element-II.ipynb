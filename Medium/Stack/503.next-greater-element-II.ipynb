{
 "cells": [
  {
   "cell_type": "markdown",
   "metadata": {},
   "source": [
    "## Attempt 1 - Accepted"
   ]
  },
  {
   "cell_type": "code",
   "execution_count": null,
   "metadata": {},
   "outputs": [],
   "source": [
    "class Solution:\n",
    "    def nextGreaterElements(self, nums: List[int]) -> List[int]:\n",
    "        if len(nums)<1:\n",
    "            return []\n",
    "        if len(nums)==1:\n",
    "            return [-1]\n",
    "        \n",
    "        cache=dict()\n",
    "        stack=[]\n",
    "        extended=nums+nums\n",
    "        L=len(nums)\n",
    "        for idx, n in enumerate(extended):\n",
    "            while len(stack)>0 and n>stack[-1][1]:\n",
    "                top=stack.pop(-1)\n",
    "                cache[top[0]]=n\n",
    "            if idx<L:\n",
    "                stack.append((idx,n))\n",
    "        \n",
    "        res=[]\n",
    "        for idx in range(L):\n",
    "            if idx in cache:\n",
    "                res.append(cache[idx])\n",
    "            else:\n",
    "                res.append(-1)\n",
    "        \n",
    "        return res"
   ]
  },
  {
   "cell_type": "markdown",
   "metadata": {},
   "source": [
    "## Lessons and Thoughts\n",
    "- Similar to Problem 496. Just that now the elements can have duplicates."
   ]
  }
 ],
 "metadata": {
  "kernelspec": {
   "display_name": "Python 3",
   "language": "python",
   "name": "python3"
  },
  "language_info": {
   "codemirror_mode": {
    "name": "ipython",
    "version": 3
   },
   "file_extension": ".py",
   "mimetype": "text/x-python",
   "name": "python",
   "nbconvert_exporter": "python",
   "pygments_lexer": "ipython3",
   "version": "3.7.3"
  }
 },
 "nbformat": 4,
 "nbformat_minor": 2
}
