{
 "cells": [
  {
   "cell_type": "markdown",
   "metadata": {},
   "source": [
    "## Attempt 1 - Time Limit Exceeded"
   ]
  },
  {
   "cell_type": "code",
   "execution_count": null,
   "metadata": {},
   "outputs": [],
   "source": [
    "class Solution:\n",
    "    def removeKdigits(self, num: str, k: int) -> str:\n",
    "        \n",
    "        cache=dict()\n",
    "        \n",
    "        def inner(num, k):\n",
    "            L=len(num)\n",
    "            if L<=k:\n",
    "                return 0\n",
    "            \n",
    "            if (num, k) in cache:\n",
    "                return cache[(num, k)]\n",
    "            \n",
    "            if k==1:\n",
    "                m=int(num[1:])\n",
    "                for idx in range(1,L):\n",
    "                    m=min(m, int(num[:idx]+num[idx+1:]))\n",
    "            else:\n",
    "                m=inner(num[1:], k-1)\n",
    "                for idx in range(1,L):\n",
    "                    m=min(m, inner(num[:idx]+num[idx+1:],k-1))\n",
    "            \n",
    "            if (num, k) not in cache:\n",
    "                cache[(num, k)]=m\n",
    "            return m\n",
    "        \n",
    "        m=inner(num, k)\n",
    "        return str(m)"
   ]
  },
  {
   "cell_type": "markdown",
   "metadata": {},
   "source": [
    "## Attempt 2 - Runtime Error"
   ]
  },
  {
   "cell_type": "code",
   "execution_count": null,
   "metadata": {},
   "outputs": [],
   "source": [
    "class Solution:\n",
    "    def removeKdigits(self, num: str, k: int) -> str:\n",
    "        stack=[]\n",
    "        cnt=0\n",
    "        L=len(num)\n",
    "        for idx in range(L):\n",
    "            curr=num[idx]\n",
    "            while len(stack)>0 and int(curr)<int(stack[-1]) and cnt<k:\n",
    "                stack.pop(-1)\n",
    "                cnt+=1\n",
    "                if cnt>=k:\n",
    "                    break\n",
    "            stack.append(curr)\n",
    "        if cnt<k:\n",
    "            stack=stack[:-(k-cnt)]\n",
    "        return str(int(\"\".join(stack))) ## --> did not handle the case where stack is empty by now"
   ]
  },
  {
   "cell_type": "markdown",
   "metadata": {},
   "source": [
    "## Attempt 3 - Accepted"
   ]
  },
  {
   "cell_type": "code",
   "execution_count": null,
   "metadata": {},
   "outputs": [],
   "source": [
    "class Solution:\n",
    "    def removeKdigits(self, num: str, k: int) -> str:\n",
    "        stack=[]\n",
    "        cnt=0\n",
    "        L=len(num)\n",
    "        for idx in range(L):\n",
    "            curr=num[idx]\n",
    "            while len(stack)>0 and int(curr)<int(stack[-1]) and cnt<k:\n",
    "                stack.pop(-1)\n",
    "                cnt+=1\n",
    "                if cnt>=k:\n",
    "                    break\n",
    "            stack.append(curr)\n",
    "        if cnt<k:\n",
    "            stack=stack[:-(k-cnt)]\n",
    "        if len(stack)<1:\n",
    "            return \"0\"\n",
    "        return str(int(\"\".join(stack)))"
   ]
  },
  {
   "cell_type": "markdown",
   "metadata": {},
   "source": [
    "## Lessons and Thoughts\n",
    "- The accepted algo is from [here](https://blog.csdn.net/fuxuemingzhu/article/details/81034522). Have I not seen something like this before?"
   ]
  }
 ],
 "metadata": {
  "kernelspec": {
   "display_name": "Python 3",
   "language": "python",
   "name": "python3"
  },
  "language_info": {
   "codemirror_mode": {
    "name": "ipython",
    "version": 3
   },
   "file_extension": ".py",
   "mimetype": "text/x-python",
   "name": "python",
   "nbconvert_exporter": "python",
   "pygments_lexer": "ipython3",
   "version": "3.7.3"
  }
 },
 "nbformat": 4,
 "nbformat_minor": 2
}
