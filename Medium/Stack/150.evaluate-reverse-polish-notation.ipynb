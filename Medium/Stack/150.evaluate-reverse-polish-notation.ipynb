{
 "cells": [
  {
   "cell_type": "markdown",
   "metadata": {},
   "source": [
    "## Attempt 1 - Accepted"
   ]
  },
  {
   "cell_type": "code",
   "execution_count": null,
   "metadata": {},
   "outputs": [],
   "source": [
    "class Solution:\n",
    "    def evalRPN(self, tokens: List[str]) -> int:\n",
    "        stack=[]\n",
    "        ops={\"+\", \"-\", \"*\", \"/\"}\n",
    "        for t in tokens:\n",
    "            if t in ops:\n",
    "                a, b=stack[-2], stack[-1]\n",
    "                stack=stack[:-2]\n",
    "                if t==\"+\":\n",
    "                    stack.append(int(a+b))\n",
    "                elif t==\"-\":\n",
    "                    stack.append(int(a-b))\n",
    "                elif t==\"*\":\n",
    "                    stack.append(int(a*b))\n",
    "                else:\n",
    "                    if a>=0 and b<0:\n",
    "                        sign=-1\n",
    "                    if a<=0 and b<0:\n",
    "                        sign=1\n",
    "                    if a>=0 and b>0:\n",
    "                        sign=1\n",
    "                    if a<=0 and b>0:\n",
    "                        sign=-1\n",
    "                    stack.append(int(sign)*(abs(a)//abs(b)))\n",
    "            else:\n",
    "                stack.append(int(t))\n",
    "        \n",
    "        return stack[-1]"
   ]
  },
  {
   "cell_type": "markdown",
   "metadata": {},
   "source": [
    "## Attempt 2 - Accepted"
   ]
  },
  {
   "cell_type": "code",
   "execution_count": null,
   "metadata": {},
   "outputs": [],
   "source": [
    "class Solution {\n",
    "public:\n",
    "    int evalRPN(vector<string>& tokens) {\n",
    "        vector<int> st = {};\n",
    "        for (string token : tokens) {\n",
    "            if ((token != \"+\") && (token != \"-\") && (token != \"*\") && (token != \"/\")) {\n",
    "                st.push_back(stoi(token)); ## this function handles signed integar as well\n",
    "                continue;\n",
    "            }\n",
    "            \n",
    "            int b = st.back();\n",
    "            st.pop_back();\n",
    "            int a = st.back();\n",
    "            st.pop_back();\n",
    "            \n",
    "            if (token == \"+\") {\n",
    "                st.push_back(a + b);\n",
    "                continue;\n",
    "            }\n",
    "            if (token == \"-\") {\n",
    "                st.push_back(a - b);\n",
    "                continue;\n",
    "            }\n",
    "            if (token == \"*\") {\n",
    "                st.push_back(a * b);\n",
    "                continue;\n",
    "            }\n",
    "            if (token == \"/\") {\n",
    "                st.push_back(a / b); ## truncated towards 0, even for negative values, which happens to be what the problem is asking for\n",
    "                continue;\n",
    "            }\n",
    "            \n",
    "        }\n",
    "        return st.front();\n",
    "    }\n",
    "};"
   ]
  },
  {
   "cell_type": "markdown",
   "metadata": {},
   "source": [
    "## Attempt 3 - Accepted"
   ]
  },
  {
   "cell_type": "code",
   "execution_count": null,
   "metadata": {},
   "outputs": [],
   "source": [
    "class Solution:\n",
    "    def evalRPN(self, tokens: List[str]) -> int:\n",
    "        st = []\n",
    "        for token in tokens:\n",
    "            if token not in {\"+\", \"-\", \"*\", \"/\"}:\n",
    "                st.append(int(token))\n",
    "                continue\n",
    "            \n",
    "            b = st.pop(-1)\n",
    "            a = st.pop(-1)\n",
    "            \n",
    "            if token == \"+\":\n",
    "                st.append(a + b)\n",
    "                continue\n",
    "            if token == \"-\":\n",
    "                st.append(a - b)\n",
    "                continue\n",
    "            if token == \"*\":\n",
    "                st.append(a * b)\n",
    "                continue\n",
    "            if token == \"/\":\n",
    "                if a * b < 0:\n",
    "                    st.append( abs(a) // abs(b) * (-1)) ## the // behavior is a floor, which is different from / in C++ above, and not what the question is asking\n",
    "                else:\n",
    "                    st.append( abs(a) // abs(b))\n",
    "                continue\n",
    "            \n",
    "        return st[0]"
   ]
  },
  {
   "cell_type": "markdown",
   "metadata": {},
   "source": [
    "## Lessons and Thoughts\n",
    "- The `//` operation in python between integers is flooring integer."
   ]
  }
 ],
 "metadata": {
  "kernelspec": {
   "display_name": "Python 3 (ipykernel)",
   "language": "python",
   "name": "python3"
  },
  "language_info": {
   "codemirror_mode": {
    "name": "ipython",
    "version": 3
   },
   "file_extension": ".py",
   "mimetype": "text/x-python",
   "name": "python",
   "nbconvert_exporter": "python",
   "pygments_lexer": "ipython3",
   "version": "3.9.7"
  }
 },
 "nbformat": 4,
 "nbformat_minor": 2
}
