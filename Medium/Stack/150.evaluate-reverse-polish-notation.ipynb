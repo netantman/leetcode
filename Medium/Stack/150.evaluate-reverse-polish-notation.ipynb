{
 "cells": [
  {
   "cell_type": "markdown",
   "metadata": {},
   "source": [
    "## Attempt 1 - Accepted"
   ]
  },
  {
   "cell_type": "code",
   "execution_count": null,
   "metadata": {},
   "outputs": [],
   "source": [
    "class Solution:\n",
    "    def evalRPN(self, tokens: List[str]) -> int:\n",
    "        stack=[]\n",
    "        ops={\"+\", \"-\", \"*\", \"/\"}\n",
    "        for t in tokens:\n",
    "            if t in ops:\n",
    "                a, b=stack[-2], stack[-1]\n",
    "                stack=stack[:-2]\n",
    "                if t==\"+\":\n",
    "                    stack.append(int(a+b))\n",
    "                elif t==\"-\":\n",
    "                    stack.append(int(a-b))\n",
    "                elif t==\"*\":\n",
    "                    stack.append(int(a*b))\n",
    "                else:\n",
    "                    if a>=0 and b<0:\n",
    "                        sign=-1\n",
    "                    if a<=0 and b<0:\n",
    "                        sign=1\n",
    "                    if a>=0 and b>0:\n",
    "                        sign=1\n",
    "                    if a<=0 and b>0:\n",
    "                        sign=-1\n",
    "                    stack.append(int(sign)*(abs(a)//abs(b)))\n",
    "            else:\n",
    "                stack.append(int(t))\n",
    "        \n",
    "        return stack[-1]"
   ]
  },
  {
   "cell_type": "markdown",
   "metadata": {},
   "source": [
    "## Lessons and Thoughts\n",
    "- The `//` operation in python between integers is flooring integer."
   ]
  }
 ],
 "metadata": {
  "kernelspec": {
   "display_name": "Python 3",
   "language": "python",
   "name": "python3"
  },
  "language_info": {
   "codemirror_mode": {
    "name": "ipython",
    "version": 3
   },
   "file_extension": ".py",
   "mimetype": "text/x-python",
   "name": "python",
   "nbconvert_exporter": "python",
   "pygments_lexer": "ipython3",
   "version": "3.7.3"
  }
 },
 "nbformat": 4,
 "nbformat_minor": 2
}
