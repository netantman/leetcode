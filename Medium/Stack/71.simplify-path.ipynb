{
 "cells": [
  {
   "cell_type": "markdown",
   "metadata": {},
   "source": [
    "## Attempt 1 - Accepted"
   ]
  },
  {
   "cell_type": "code",
   "execution_count": null,
   "metadata": {},
   "outputs": [],
   "source": [
    "class Solution:\n",
    "    def simplifyPath(self, path: str) -> str:\n",
    "        if len(path)<1:\n",
    "            return \"\"\n",
    "        \n",
    "        data=path.split(\"/\")\n",
    "        data=[d for d in data if d not in {\"\", \".\"}]\n",
    "        if len(data)<1:\n",
    "            return \"/\"\n",
    "        \n",
    "        stack=[]\n",
    "        for d in data:\n",
    "            if d==\"..\":\n",
    "                if len(stack)>=1:\n",
    "                    stack=stack[:-1]\n",
    "            else:\n",
    "                stack.append(d)\n",
    "        \n",
    "        if len(stack)<1:\n",
    "            return \"/\"\n",
    "        \n",
    "        res=\"\"\n",
    "        for s in stack:\n",
    "            res+=(\"/\"+s)\n",
    "        return res"
   ]
  },
  {
   "cell_type": "markdown",
   "metadata": {},
   "source": [
    "## Lessons and Thoughts\n",
    "- Edge case include to go up `..` when it is already `root`.\n",
    "- I imagine if there is no `split` function it will be much harder."
   ]
  }
 ],
 "metadata": {
  "kernelspec": {
   "display_name": "Python 3",
   "language": "python",
   "name": "python3"
  },
  "language_info": {
   "codemirror_mode": {
    "name": "ipython",
    "version": 3
   },
   "file_extension": ".py",
   "mimetype": "text/x-python",
   "name": "python",
   "nbconvert_exporter": "python",
   "pygments_lexer": "ipython3",
   "version": "3.7.3"
  }
 },
 "nbformat": 4,
 "nbformat_minor": 2
}
