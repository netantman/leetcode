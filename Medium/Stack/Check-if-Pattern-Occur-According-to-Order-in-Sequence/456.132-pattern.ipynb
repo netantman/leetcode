{
 "cells": [
  {
   "cell_type": "markdown",
   "metadata": {},
   "source": [
    "## Attempt 1 - Time Limit Exceeded"
   ]
  },
  {
   "cell_type": "markdown",
   "metadata": {},
   "source": [
    "Tried to solve this by two-pointer, resulting in TLE and framented algo."
   ]
  },
  {
   "cell_type": "code",
   "execution_count": null,
   "metadata": {},
   "outputs": [],
   "source": [
    "class Solution:\n",
    "    def find132pattern(self, nums: List[int]) -> bool:\n",
    "        L=len(nums)\n",
    "        if L<=2:\n",
    "            return False\n",
    "        \n",
    "        i,j=0,1\n",
    "        while i<L-2:\n",
    "            if nums[j]<=nums[i]:\n",
    "                i,j=j,j+1\n",
    "            else:\n",
    "                while j+1<L-1:\n",
    "                    if nums[j+1]>=nums[j]:\n",
    "                        j+=1\n",
    "                    else:\n",
    "                        break\n",
    "                for k in range(j+1,L):\n",
    "                    if nums[k]>nums[i] and nums[k]<nums[j]:\n",
    "                        return True\n",
    "                j+=1\n",
    "                while j<L-1:\n",
    "                    if nums[j]>nums[i]:\n",
    "                        break\n",
    "                    else:\n",
    "                        j+=1\n",
    "                if j==L-1:\n",
    "                    i+=1\n",
    "                    j=i+1\n",
    "        return False"
   ]
  },
  {
   "cell_type": "markdown",
   "metadata": {},
   "source": [
    "## Attempt 2 - Accepted"
   ]
  },
  {
   "cell_type": "code",
   "execution_count": null,
   "metadata": {},
   "outputs": [],
   "source": [
    "class Solution:\n",
    "    def find132pattern(self, nums: List[int]) -> bool:\n",
    "        L=len(nums)\n",
    "        if L<=2:\n",
    "            return False\n",
    "        \n",
    "        third=None\n",
    "        stack=[nums[-1]]\n",
    "        for idx in range(L-2,-1,-1):\n",
    "            n=nums[idx]\n",
    "            if third is not None and n<third:\n",
    "                return True\n",
    "    \n",
    "            while len(stack)>0 and n>stack[-1]:\n",
    "                third=stack.pop(-1)\n",
    "            stack.append(n)\n",
    "        \n",
    "        return False"
   ]
  },
  {
   "cell_type": "markdown",
   "metadata": {},
   "source": [
    "## Lessons and Thoughts\n",
    "- The accepted algo is from [here](https://www.cnblogs.com/grandyang/p/6081984.html). It is a trick where the author calls 'monotonic stack'."
   ]
  }
 ],
 "metadata": {
  "kernelspec": {
   "display_name": "Python 3",
   "language": "python",
   "name": "python3"
  },
  "language_info": {
   "codemirror_mode": {
    "name": "ipython",
    "version": 3
   },
   "file_extension": ".py",
   "mimetype": "text/x-python",
   "name": "python",
   "nbconvert_exporter": "python",
   "pygments_lexer": "ipython3",
   "version": "3.7.3"
  }
 },
 "nbformat": 4,
 "nbformat_minor": 2
}
