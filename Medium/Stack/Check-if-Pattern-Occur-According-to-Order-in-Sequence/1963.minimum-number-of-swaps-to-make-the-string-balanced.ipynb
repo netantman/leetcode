{
 "cells": [
  {
   "cell_type": "markdown",
   "metadata": {},
   "source": [
    "## Attempt 1 - Accepted"
   ]
  },
  {
   "cell_type": "code",
   "execution_count": null,
   "metadata": {},
   "outputs": [],
   "source": [
    "class Solution:\n",
    "    def minSwaps(self, s: str) -> int:\n",
    "        st = []\n",
    "        cnt = 0\n",
    "        for c in s:\n",
    "            if c == \"[\": \n",
    "                st.append(c)\n",
    "            else:\n",
    "                if not st or st[-1] == \"]\":\n",
    "                    st.append(c)\n",
    "                else:\n",
    "                    st.pop()\n",
    "        return (len(st) // 2 + 1) // 2"
   ]
  },
  {
   "cell_type": "markdown",
   "metadata": {},
   "source": [
    "## Lessons and Thoughts\n",
    "- The crux is to realize that once we eliminate all balanced parentheses, what is left is \"]\" in front and \"[\" in the back."
   ]
  }
 ],
 "metadata": {
  "kernelspec": {
   "display_name": "Python 3",
   "language": "python",
   "name": "python3"
  },
  "language_info": {
   "codemirror_mode": {
    "name": "ipython",
    "version": 3
   },
   "file_extension": ".py",
   "mimetype": "text/x-python",
   "name": "python",
   "nbconvert_exporter": "python",
   "pygments_lexer": "ipython3",
   "version": "3.7.3"
  }
 },
 "nbformat": 4,
 "nbformat_minor": 2
}
