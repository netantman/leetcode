{
 "cells": [
  {
   "cell_type": "markdown",
   "metadata": {},
   "source": [
    "## Attempt 1 - Accepted"
   ]
  },
  {
   "cell_type": "code",
   "execution_count": null,
   "metadata": {},
   "outputs": [],
   "source": [
    "class Solution:\n",
    "    def removeDuplicates(self, s: str, k: int) -> str:\n",
    "        st=[]\n",
    "        for c in s:\n",
    "            if not st:\n",
    "                st.append((c,1))\n",
    "            else:\n",
    "                if c==st[-1][0]:\n",
    "                    head=st.pop()\n",
    "                    new=(head[0], head[1]+1)\n",
    "                    if new[1]<k:\n",
    "                        st.append(new)\n",
    "                else:\n",
    "                    st.append((c,1))\n",
    "        res=\"\"\n",
    "        for ss in st:\n",
    "            res+=ss[0]*ss[1]\n",
    "        return res"
   ]
  },
  {
   "cell_type": "markdown",
   "metadata": {},
   "source": [
    "## Lessons and Thoughts\n",
    "- If checking certain pattern occurs in order after delection, we can use stacks."
   ]
  }
 ],
 "metadata": {
  "kernelspec": {
   "display_name": "Python 3",
   "language": "python",
   "name": "python3"
  },
  "language_info": {
   "codemirror_mode": {
    "name": "ipython",
    "version": 3
   },
   "file_extension": ".py",
   "mimetype": "text/x-python",
   "name": "python",
   "nbconvert_exporter": "python",
   "pygments_lexer": "ipython3",
   "version": "3.7.3"
  }
 },
 "nbformat": 4,
 "nbformat_minor": 2
}
