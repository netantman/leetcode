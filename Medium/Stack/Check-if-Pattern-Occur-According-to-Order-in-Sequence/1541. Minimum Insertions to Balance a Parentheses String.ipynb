{
 "cells": [
  {
   "cell_type": "markdown",
   "metadata": {},
   "source": [
    "## Attempt 1 - Accepted"
   ]
  },
  {
   "cell_type": "code",
   "execution_count": null,
   "metadata": {},
   "outputs": [],
   "source": [
    "class Solution:\n",
    "    def minInsertions(self, s: str) -> int:\n",
    "        left, right = 0, 0\n",
    "        cnt = 0\n",
    "        for c in s:\n",
    "            if c == \"(\":\n",
    "                if right == 0:\n",
    "                    left += 1\n",
    "                elif right == 1 and left >= 1:\n",
    "                    right = 0\n",
    "                    cnt += 1\n",
    "                elif right == 1 and left == 0:\n",
    "                    right = 0\n",
    "                    cnt += 2\n",
    "                    left = 1\n",
    "            else:\n",
    "                if right == 0:\n",
    "                    right += 1\n",
    "                elif right == 1 and left >= 1:\n",
    "                    left -= 1\n",
    "                    right = 0\n",
    "                elif right == 1 and left == 0:\n",
    "                    right = 0\n",
    "                    cnt += 1\n",
    "        if left > 0:\n",
    "            cnt += left * 2 - right\n",
    "        else:\n",
    "            if right % 2 > 0:\n",
    "                cnt += 1\n",
    "                cnt += ((right + 1) // 2)\n",
    "            else:\n",
    "                cnt += (right // 2)\n",
    "        return cnt"
   ]
  },
  {
   "cell_type": "markdown",
   "metadata": {},
   "source": [
    "## Lessons and Thoughts\n",
    "- The idea is to recognize that whenever there is a \"(\" it should clear all previous \")\". In other words, whenever \")\" happens before \"(\", it is cleared."
   ]
  }
 ],
 "metadata": {
  "kernelspec": {
   "display_name": "Python 3",
   "language": "python",
   "name": "python3"
  },
  "language_info": {
   "codemirror_mode": {
    "name": "ipython",
    "version": 3
   },
   "file_extension": ".py",
   "mimetype": "text/x-python",
   "name": "python",
   "nbconvert_exporter": "python",
   "pygments_lexer": "ipython3",
   "version": "3.7.3"
  }
 },
 "nbformat": 4,
 "nbformat_minor": 2
}
