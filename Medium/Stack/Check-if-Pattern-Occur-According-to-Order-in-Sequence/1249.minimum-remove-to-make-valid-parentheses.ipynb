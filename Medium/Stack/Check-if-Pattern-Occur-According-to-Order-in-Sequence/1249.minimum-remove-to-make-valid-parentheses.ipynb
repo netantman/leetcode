{
 "cells": [
  {
   "cell_type": "markdown",
   "metadata": {},
   "source": [
    "## Attempt 1 - Accepted"
   ]
  },
  {
   "cell_type": "code",
   "execution_count": null,
   "metadata": {},
   "outputs": [],
   "source": [
    "class Solution:\n",
    "    def minRemoveToMakeValid(self, s: str) -> str:\n",
    "        left,right=[],[]\n",
    "        cnt=0\n",
    "        for idx, c in enumerate(s):\n",
    "            if c==\"(\":\n",
    "                left.append(idx)\n",
    "                cnt+=1\n",
    "            elif c==\")\":\n",
    "                if cnt>0:\n",
    "                    left.pop()\n",
    "                    cnt-=1\n",
    "                else:\n",
    "                    right.append(idx)\n",
    "        res=\"\"\n",
    "        for idx, c in enumerate(s):\n",
    "            if idx not in left and idx not in right:\n",
    "                res+=c\n",
    "        return res"
   ]
  },
  {
   "cell_type": "markdown",
   "metadata": {},
   "source": [
    "## Lessons and Thoughts\n",
    "- Typical stack for parentheses problem."
   ]
  }
 ],
 "metadata": {
  "kernelspec": {
   "display_name": "Python 3",
   "language": "python",
   "name": "python3"
  },
  "language_info": {
   "codemirror_mode": {
    "name": "ipython",
    "version": 3
   },
   "file_extension": ".py",
   "mimetype": "text/x-python",
   "name": "python",
   "nbconvert_exporter": "python",
   "pygments_lexer": "ipython3",
   "version": "3.7.3"
  }
 },
 "nbformat": 4,
 "nbformat_minor": 2
}
