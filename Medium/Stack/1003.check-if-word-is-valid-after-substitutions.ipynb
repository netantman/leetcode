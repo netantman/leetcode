{
 "cells": [
  {
   "cell_type": "markdown",
   "metadata": {},
   "source": [
    "## Attempt 1 - Accepted"
   ]
  },
  {
   "cell_type": "code",
   "execution_count": null,
   "metadata": {},
   "outputs": [],
   "source": [
    "class Solution:\n",
    "    def isValid(self, s: str) -> bool:\n",
    "        stack=[]\n",
    "        for c in s:\n",
    "            if c==\"a\":\n",
    "                stack.append(c)\n",
    "            elif c==\"b\":\n",
    "                if len(stack)>0 and stack[-1]==\"a\":\n",
    "                    stack[-1]=\"ab\"\n",
    "                else:\n",
    "                    return False\n",
    "            elif c==\"c\":\n",
    "                if len(stack)>0 and stack[-1]==\"ab\":\n",
    "                    stack.pop()\n",
    "                else:\n",
    "                    return False\n",
    "        return len(stack)==0"
   ]
  },
  {
   "cell_type": "markdown",
   "metadata": {},
   "source": [
    "## Lessons and Thoughts\n",
    "- The tricky part is to realize this is a stack problem."
   ]
  }
 ],
 "metadata": {
  "kernelspec": {
   "display_name": "Python 3",
   "language": "python",
   "name": "python3"
  },
  "language_info": {
   "codemirror_mode": {
    "name": "ipython",
    "version": 3
   },
   "file_extension": ".py",
   "mimetype": "text/x-python",
   "name": "python",
   "nbconvert_exporter": "python",
   "pygments_lexer": "ipython3",
   "version": "3.7.3"
  }
 },
 "nbformat": 4,
 "nbformat_minor": 2
}
