{
 "cells": [
  {
   "cell_type": "markdown",
   "metadata": {},
   "source": [
    "## Attempt 1 - Accepted"
   ]
  },
  {
   "cell_type": "code",
   "execution_count": null,
   "metadata": {},
   "outputs": [],
   "source": [
    "class Solution:\n",
    "    def validateStackSequences(self, pushed: List[int], popped: List[int]) -> bool:\n",
    "        stack=[]\n",
    "        while len(popped)>0:\n",
    "            if len(stack)<1 or popped[0]!=stack[-1]:\n",
    "                if len(pushed)<1:\n",
    "                    return False\n",
    "                else:\n",
    "                    stack.append(pushed.pop(0))\n",
    "            else:\n",
    "                stack.pop()\n",
    "                popped.pop(0)\n",
    "        return len(pushed)==0 and len(popped)==0"
   ]
  },
  {
   "cell_type": "markdown",
   "metadata": {},
   "source": [
    "## Lessons and Thoughts\n",
    "- By the nature of this problem, pops should only happen after pushes. And if one find that the top of the `stack` is the same as the head of `popped`, one should go ahead to pop."
   ]
  }
 ],
 "metadata": {
  "kernelspec": {
   "display_name": "Python 3",
   "language": "python",
   "name": "python3"
  },
  "language_info": {
   "codemirror_mode": {
    "name": "ipython",
    "version": 3
   },
   "file_extension": ".py",
   "mimetype": "text/x-python",
   "name": "python",
   "nbconvert_exporter": "python",
   "pygments_lexer": "ipython3",
   "version": "3.7.3"
  }
 },
 "nbformat": 4,
 "nbformat_minor": 2
}
