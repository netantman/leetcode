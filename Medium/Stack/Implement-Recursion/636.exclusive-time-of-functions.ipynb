{
 "cells": [
  {
   "cell_type": "markdown",
   "metadata": {},
   "source": [
    "## Attempt 1- Accepted"
   ]
  },
  {
   "cell_type": "code",
   "execution_count": null,
   "metadata": {},
   "outputs": [],
   "source": [
    "class Solution:\n",
    "    def exclusiveTime(self, n: int, logs: List[str]) -> List[int]:\n",
    "        res=[0 for _ in range(n)]\n",
    "        stack=[]\n",
    "        for log in logs:\n",
    "            info=log.split(\":\")\n",
    "            task, action, time=int(info[0]), info[1], int(info[2])\n",
    "            if action==\"start\":\n",
    "                if len(stack)<1:\n",
    "                    stack.append([task, time])\n",
    "                else:\n",
    "                    top=stack[-1]\n",
    "                    res[top[0]]+=(time-top[1])\n",
    "                    stack.append([task,time])\n",
    "            else:\n",
    "                top=stack.pop(-1)\n",
    "                res[task]+=(time-top[1]+1)\n",
    "                if len(stack)>0:\n",
    "                    stack[-1][1]=time+1\n",
    "        \n",
    "        return res"
   ]
  },
  {
   "cell_type": "markdown",
   "metadata": {},
   "source": [
    "## Lessons and Thoughts\n",
    "- It is easy to think of the stack idea - after all it is how the functions are called on CPU. But in this problem, the ending time calculation setting is a bit weird."
   ]
  }
 ],
 "metadata": {
  "kernelspec": {
   "display_name": "Python 3",
   "language": "python",
   "name": "python3"
  },
  "language_info": {
   "codemirror_mode": {
    "name": "ipython",
    "version": 3
   },
   "file_extension": ".py",
   "mimetype": "text/x-python",
   "name": "python",
   "nbconvert_exporter": "python",
   "pygments_lexer": "ipython3",
   "version": "3.7.3"
  }
 },
 "nbformat": 4,
 "nbformat_minor": 2
}
