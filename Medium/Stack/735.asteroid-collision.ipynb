{
 "cells": [
  {
   "cell_type": "markdown",
   "metadata": {},
   "source": [
    "## Attempt 1 - Accepted"
   ]
  },
  {
   "cell_type": "code",
   "execution_count": null,
   "metadata": {},
   "outputs": [],
   "source": [
    "class Solution:\n",
    "    def asteroidCollision(self, asteroids: List[int]) -> List[int]:\n",
    "        res=[]\n",
    "        for ast in asteroids:\n",
    "            if len(res)<1 or res[-1]*ast>0 or (res[-1]<0 and ast>0):\n",
    "                res.append(ast)\n",
    "            else:\n",
    "                curr=ast\n",
    "                while len(res)>0 and curr is not None and (res[-1]>0 and curr<0):\n",
    "                    if abs(res[-1])>abs(curr):\n",
    "                        curr=None\n",
    "                    elif abs(res[-1])==abs(curr):\n",
    "                        curr=None\n",
    "                        res.pop(-1)\n",
    "                    else:\n",
    "                        res.pop(-1)\n",
    "                if curr is not None:\n",
    "                    res.append(curr)\n",
    "        return res"
   ]
  },
  {
   "cell_type": "markdown",
   "metadata": {},
   "source": [
    "## Lessons and Thoughts\n",
    "- Application of stacks. It is similar to the monotonic stack idea."
   ]
  }
 ],
 "metadata": {
  "kernelspec": {
   "display_name": "Python 3",
   "language": "python",
   "name": "python3"
  },
  "language_info": {
   "codemirror_mode": {
    "name": "ipython",
    "version": 3
   },
   "file_extension": ".py",
   "mimetype": "text/x-python",
   "name": "python",
   "nbconvert_exporter": "python",
   "pygments_lexer": "ipython3",
   "version": "3.7.3"
  }
 },
 "nbformat": 4,
 "nbformat_minor": 2
}
