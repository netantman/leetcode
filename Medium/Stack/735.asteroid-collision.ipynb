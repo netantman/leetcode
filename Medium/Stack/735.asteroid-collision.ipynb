{
 "cells": [
  {
   "cell_type": "markdown",
   "metadata": {},
   "source": [
    "## Attempt 1 - Accepted"
   ]
  },
  {
   "cell_type": "code",
   "execution_count": null,
   "metadata": {},
   "outputs": [],
   "source": [
    "class Solution:\n",
    "    def asteroidCollision(self, asteroids: List[int]) -> List[int]:\n",
    "        res=[]\n",
    "        for ast in asteroids:\n",
    "            if len(res)<1 or res[-1]*ast>0 or (res[-1]<0 and ast>0):\n",
    "                res.append(ast)\n",
    "            else:\n",
    "                curr=ast\n",
    "                while len(res)>0 and curr is not None and (res[-1]>0 and curr<0):\n",
    "                    if abs(res[-1])>abs(curr):\n",
    "                        curr=None\n",
    "                    elif abs(res[-1])==abs(curr):\n",
    "                        curr=None\n",
    "                        res.pop(-1)\n",
    "                    else:\n",
    "                        res.pop(-1)\n",
    "                if curr is not None:\n",
    "                    res.append(curr)\n",
    "        return res"
   ]
  },
  {
   "cell_type": "markdown",
   "metadata": {},
   "source": [
    "## Attempt 2 - Accepted"
   ]
  },
  {
   "cell_type": "code",
   "execution_count": null,
   "metadata": {},
   "outputs": [],
   "source": [
    "class Solution {\n",
    "public:\n",
    "    vector<int> asteroidCollision(vector<int>& asteroids) {\n",
    "        vector<int> res = {};\n",
    "        for (int a : asteroids) {\n",
    "            if (a < 0) {\n",
    "                bool equal = false;\n",
    "                while ((res.size() > 0) && (res.back() > 0)) {\n",
    "                    if (res.back() < abs(a)) {\n",
    "                        res.pop_back();    \n",
    "                        continue;\n",
    "                    }\n",
    "                    if (res.back() == abs(a)) { ## --> it is actually hard to get all edge cases!\n",
    "                        res.pop_back();\n",
    "                        equal = true;\n",
    "                        break;\n",
    "                    }\n",
    "                    break;\n",
    "                }\n",
    "                if (!equal && ((res.size() < 1) || (res.back() < 0))) {\n",
    "                    res.push_back(a);\n",
    "                }\n",
    "            }\n",
    "            else {\n",
    "                res.push_back(a);\n",
    "            }\n",
    "        }\n",
    "        return res;\n",
    "    }\n",
    "};"
   ]
  },
  {
   "cell_type": "markdown",
   "metadata": {},
   "source": [
    "## Attempt 3 - Accepted"
   ]
  },
  {
   "cell_type": "code",
   "execution_count": null,
   "metadata": {},
   "outputs": [],
   "source": [
    "class Solution:\n",
    "    def asteroidCollision(self, asteroids: List[int]) -> List[int]:\n",
    "        res = []\n",
    "        stk = []\n",
    "        for a in asteroids:\n",
    "            if a > 0:\n",
    "                stk.append(a)\n",
    "                continue\n",
    "            \n",
    "            while stk and stk[-1] < abs(a):\n",
    "                stk.pop()\n",
    "            \n",
    "            if not stk:\n",
    "                res.append(a)\n",
    "                continue\n",
    "            \n",
    "            if stk[-1] > abs(a):\n",
    "                continue\n",
    "            \n",
    "            stk.pop()\n",
    "        \n",
    "        res += stk\n",
    "        \n",
    "        return res"
   ]
  },
  {
   "cell_type": "markdown",
   "metadata": {},
   "source": [
    "## Lessons and Thoughts\n",
    "- Application of stacks of all positives, and whenever a negative comes about, adjust the stack."
   ]
  }
 ],
 "metadata": {
  "kernelspec": {
   "display_name": "Python 3 (ipykernel)",
   "language": "python",
   "name": "python3"
  },
  "language_info": {
   "codemirror_mode": {
    "name": "ipython",
    "version": 3
   },
   "file_extension": ".py",
   "mimetype": "text/x-python",
   "name": "python",
   "nbconvert_exporter": "python",
   "pygments_lexer": "ipython3",
   "version": "3.9.7"
  }
 },
 "nbformat": 4,
 "nbformat_minor": 2
}
