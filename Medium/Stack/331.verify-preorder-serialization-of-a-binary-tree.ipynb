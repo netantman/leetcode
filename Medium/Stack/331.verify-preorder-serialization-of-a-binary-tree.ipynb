{
 "cells": [
  {
   "cell_type": "markdown",
   "metadata": {},
   "source": [
    "## Attempt 1 - Accepted"
   ]
  },
  {
   "cell_type": "code",
   "execution_count": null,
   "metadata": {},
   "outputs": [],
   "source": [
    "class Solution:\n",
    "    def isValidSerialization(self, preorder: str) -> bool:\n",
    "        cnt=0\n",
    "        preorder=preorder.split(\",\")\n",
    "        while len(preorder)>0:\n",
    "            last=preorder.pop()\n",
    "            if last==\"#\":\n",
    "                cnt+=1\n",
    "            else:\n",
    "                if cnt<2:\n",
    "                    return False\n",
    "                else:\n",
    "                    cnt-=2\n",
    "                    preorder.append(\"#\")\n",
    "        if cnt==1:\n",
    "            return True\n",
    "        else:\n",
    "            return False"
   ]
  },
  {
   "cell_type": "markdown",
   "metadata": {},
   "source": [
    "## Lessons and Thoughts\n",
    "- The idea is to keep deleting leaves."
   ]
  }
 ],
 "metadata": {
  "kernelspec": {
   "display_name": "Python 3",
   "language": "python",
   "name": "python3"
  },
  "language_info": {
   "codemirror_mode": {
    "name": "ipython",
    "version": 3
   },
   "file_extension": ".py",
   "mimetype": "text/x-python",
   "name": "python",
   "nbconvert_exporter": "python",
   "pygments_lexer": "ipython3",
   "version": "3.7.3"
  }
 },
 "nbformat": 4,
 "nbformat_minor": 2
}
