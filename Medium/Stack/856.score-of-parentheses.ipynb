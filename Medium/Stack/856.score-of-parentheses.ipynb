{
 "cells": [
  {
   "cell_type": "markdown",
   "metadata": {},
   "source": [
    "## Attempt 1 - Accepted"
   ]
  },
  {
   "cell_type": "code",
   "execution_count": null,
   "metadata": {},
   "outputs": [],
   "source": [
    "class Solution:\n",
    "    def scoreOfParentheses(self, S: str) -> int:\n",
    "        stack=[]\n",
    "        for c in S:\n",
    "            if c==\"(\":\n",
    "                stack.append(c)\n",
    "            else:\n",
    "                ss=0\n",
    "                while len(stack)>0:\n",
    "                    top=stack.pop()\n",
    "                    if top==\"(\":\n",
    "                        if ss>0:\n",
    "                            stack.append(ss*2)\n",
    "                        else:\n",
    "                            stack.append(1)\n",
    "                        break\n",
    "                    else:\n",
    "                        ss+=top\n",
    "        return sum(stack)"
   ]
  },
  {
   "cell_type": "markdown",
   "metadata": {},
   "source": [
    "## Lessons and Thoughts\n",
    "- Straightforward application of stacks."
   ]
  }
 ],
 "metadata": {
  "kernelspec": {
   "display_name": "Python 3",
   "language": "python",
   "name": "python3"
  },
  "language_info": {
   "codemirror_mode": {
    "name": "ipython",
    "version": 3
   },
   "file_extension": ".py",
   "mimetype": "text/x-python",
   "name": "python",
   "nbconvert_exporter": "python",
   "pygments_lexer": "ipython3",
   "version": "3.7.3"
  }
 },
 "nbformat": 4,
 "nbformat_minor": 2
}
