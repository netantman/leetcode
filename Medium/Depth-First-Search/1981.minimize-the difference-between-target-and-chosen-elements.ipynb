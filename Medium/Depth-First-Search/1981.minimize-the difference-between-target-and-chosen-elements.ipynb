{
 "cells": [
  {
   "cell_type": "markdown",
   "metadata": {},
   "source": [
    "## Attempt 1 - Time Limit Exceeded"
   ]
  },
  {
   "cell_type": "code",
   "execution_count": null,
   "metadata": {},
   "outputs": [],
   "source": [
    "class Solution:\n",
    "    def minimizeTheDifference(self, mat: List[List[int]], target: int) -> int:\n",
    "        sums = set([0])\n",
    "        for row in mat:\n",
    "            new = set()\n",
    "            for elem in row:\n",
    "                this = {elem + s for s in sums}\n",
    "                new = new.union(this)\n",
    "            sums = new\n",
    "        return min(abs(s - target) for s in sums) "
   ]
  },
  {
   "cell_type": "markdown",
   "metadata": {},
   "source": [
    "## Attempt 2 - Accepted"
   ]
  },
  {
   "cell_type": "code",
   "execution_count": null,
   "metadata": {},
   "outputs": [],
   "source": [
    "class Solution:\n",
    "    def minimizeTheDifference(self, mat: List[List[int]], target: int) -> int:\n",
    "        R, C = len(mat), len(mat[0])\n",
    "        sums = [0]\n",
    "        for idx, row in enumerate(mat):\n",
    "            new = set()\n",
    "            for elem in row:\n",
    "                for s in sums:\n",
    "                    if s + elem <= target:\n",
    "                        new.add(s + elem)\n",
    "                    else:\n",
    "                        new.add(s + elem)\n",
    "                        break\n",
    "            sums = sorted(new)\n",
    "        return min(abs(target - s) for s in sums)"
   ]
  },
  {
   "cell_type": "markdown",
   "metadata": {},
   "source": [
    "## Lessons and Thoughts\n",
    "- The idea of optimization is to record the sums in each row up to the one element that is just surpassing `target`."
   ]
  }
 ],
 "metadata": {
  "kernelspec": {
   "display_name": "Python 3",
   "language": "python",
   "name": "python3"
  },
  "language_info": {
   "codemirror_mode": {
    "name": "ipython",
    "version": 3
   },
   "file_extension": ".py",
   "mimetype": "text/x-python",
   "name": "python",
   "nbconvert_exporter": "python",
   "pygments_lexer": "ipython3",
   "version": "3.7.3"
  }
 },
 "nbformat": 4,
 "nbformat_minor": 2
}
