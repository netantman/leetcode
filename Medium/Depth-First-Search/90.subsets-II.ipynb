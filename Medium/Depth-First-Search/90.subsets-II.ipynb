{
 "cells": [
  {
   "cell_type": "markdown",
   "metadata": {},
   "source": [
    "## Attempt 1 - Accepted"
   ]
  },
  {
   "cell_type": "code",
   "execution_count": null,
   "metadata": {},
   "outputs": [],
   "source": [
    "class Solution:\n",
    "    def subsetsWithDup(self, nums: List[int]) -> List[List[int]]:\n",
    "        if len(nums)<1:\n",
    "            return [[]]\n",
    "        if len(nums)==1:\n",
    "            return [[], nums]\n",
    "        \n",
    "        cache=dict()\n",
    "        for num in nums:\n",
    "            if num in cache:\n",
    "                cache[num]+=1\n",
    "            else:\n",
    "                cache[num]=1\n",
    "        \n",
    "        res=[[]]\n",
    "        for num, cnt in cache.items():\n",
    "            to_add=[[num]*idx for idx in range(1,cnt+1)]\n",
    "            res=res+[r+t for r in res for t in to_add]\n",
    "        \n",
    "        return res"
   ]
  },
  {
   "cell_type": "markdown",
   "metadata": {},
   "source": [
    "## Attempt 2 - Accepted"
   ]
  },
  {
   "cell_type": "code",
   "execution_count": null,
   "metadata": {},
   "outputs": [],
   "source": [
    "class Solution {\n",
    "public:\n",
    "    vector<vector<int>> subsetsWithDup(vector<int>& nums) {\n",
    "        map<int, int> record = {};\n",
    "        for(int n : nums) {\n",
    "            if (record.find(n) == record.end()) {\n",
    "                record[n] = 1;\n",
    "            }\n",
    "            else {\n",
    "                record[n] += 1;\n",
    "            }\n",
    "        }\n",
    "        \n",
    "        vector<vector<int>> res = {{}};\n",
    "        for(auto pair : record) {\n",
    "            vector<vector<int>> new_res = {};\n",
    "            int key = pair.first;\n",
    "            int counts = pair.second;\n",
    "            for (auto r : res) {\n",
    "                for(int j=0; j<=counts; j++) {\n",
    "                    vector<int> p = r;\n",
    "                    for (int k=0; k<j; k++) {\n",
    "                        p.insert(p.end(), key);\n",
    "                    }\n",
    "                    new_res.push_back(p);\n",
    "                }\n",
    "            }\n",
    "            res = new_res;\n",
    "        }\n",
    "        return res;\n",
    "    }\n",
    "};"
   ]
  },
  {
   "cell_type": "markdown",
   "metadata": {},
   "source": [
    "## Lessons and Thoughts\n",
    "- As with other backtracking problems, just need to find the right reduce condition.\n",
    "- Attempt 2 is the same algo, but `python` is just cleaner..."
   ]
  }
 ],
 "metadata": {
  "kernelspec": {
   "display_name": "Python 3 (ipykernel)",
   "language": "python",
   "name": "python3"
  },
  "language_info": {
   "codemirror_mode": {
    "name": "ipython",
    "version": 3
   },
   "file_extension": ".py",
   "mimetype": "text/x-python",
   "name": "python",
   "nbconvert_exporter": "python",
   "pygments_lexer": "ipython3",
   "version": "3.9.7"
  }
 },
 "nbformat": 4,
 "nbformat_minor": 2
}
