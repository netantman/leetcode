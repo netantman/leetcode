{
 "cells": [
  {
   "cell_type": "markdown",
   "metadata": {},
   "source": [
    "## Attempt 1 - Time Limit Exceeded"
   ]
  },
  {
   "cell_type": "code",
   "execution_count": null,
   "metadata": {},
   "outputs": [],
   "source": [
    "class ThroneInheritance:\n",
    "\n",
    "    def __init__(self, kingName: str):\n",
    "        self.kingName = kingName\n",
    "        self.deceased = set()\n",
    "        self.children = dict()\n",
    "\n",
    "    def birth(self, parentName: str, childName: str) -> None:\n",
    "        if parentName in self.children:\n",
    "            self.children[parentName].append(childName)\n",
    "        else:\n",
    "            self.children[parentName] = [childName]\n",
    "        \n",
    "\n",
    "    def death(self, name: str) -> None:\n",
    "        self.deceased.add(name)\n",
    "        \n",
    "\n",
    "    def getInheritanceOrder(self) -> List[str]:\n",
    "        res = []\n",
    "        self.traverse(self.kingName, res)\n",
    "        return res\n",
    "    \n",
    "    def traverse(self, root: str, grow_list: List[str]):\n",
    "        if root not in self.deceased and root not in grow_list:\n",
    "            grow_list.append(root)\n",
    "        if root in self.children:\n",
    "            for c in self.children[root]:\n",
    "                self.traverse(c, grow_list)\n",
    "        return\n",
    "        \n",
    "\n",
    "\n",
    "# Your ThroneInheritance object will be instantiated and called as such:\n",
    "# obj = ThroneInheritance(kingName)\n",
    "# obj.birth(parentName,childName)\n",
    "# obj.death(name)\n",
    "# param_3 = obj.getInheritanceOrder()"
   ]
  },
  {
   "cell_type": "markdown",
   "metadata": {},
   "source": [
    "## Attempt 2 - Accepted"
   ]
  },
  {
   "cell_type": "code",
   "execution_count": null,
   "metadata": {},
   "outputs": [],
   "source": [
    "class ThroneInheritance:\n",
    "\n",
    "    def __init__(self, kingName: str):\n",
    "        self.kingName = kingName\n",
    "        self.deceased = set()\n",
    "        self.children = defaultdict(list)\n",
    "\n",
    "    def birth(self, parentName: str, childName: str) -> None:\n",
    "        self.children[parentName].append(childName)\n",
    "\n",
    "    def death(self, name: str) -> None:\n",
    "        self.deceased.add(name)\n",
    "        \n",
    "\n",
    "    def getInheritanceOrder(self) -> List[str]:\n",
    "        res = []\n",
    "        self.traverse(self.kingName, res)\n",
    "        return res\n",
    "    \n",
    "    def traverse(self, root: str, grow_list: List[str]):\n",
    "        if root not in self.deceased:\n",
    "            grow_list.append(root)\n",
    "        for c in self.children[root]:\n",
    "            self.traverse(c, grow_list)\n",
    "        return"
   ]
  },
  {
   "cell_type": "markdown",
   "metadata": {},
   "source": [
    "## Lessons and Thoughts\n",
    "- The algo has not changed, but using `defaultdict` saves time."
   ]
  }
 ],
 "metadata": {
  "kernelspec": {
   "display_name": "Python 3",
   "language": "python",
   "name": "python3"
  },
  "language_info": {
   "codemirror_mode": {
    "name": "ipython",
    "version": 3
   },
   "file_extension": ".py",
   "mimetype": "text/x-python",
   "name": "python",
   "nbconvert_exporter": "python",
   "pygments_lexer": "ipython3",
   "version": "3.7.3"
  }
 },
 "nbformat": 4,
 "nbformat_minor": 2
}
