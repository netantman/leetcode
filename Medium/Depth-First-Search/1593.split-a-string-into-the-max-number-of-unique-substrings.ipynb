{
 "cells": [
  {
   "cell_type": "markdown",
   "metadata": {},
   "source": [
    "## Attempt 1 - Wrong Answer"
   ]
  },
  {
   "cell_type": "code",
   "execution_count": null,
   "metadata": {},
   "outputs": [],
   "source": [
    "class Solution:\n",
    "    def maxUniqueSplit(self, s: str) -> int:\n",
    "        res = [{s[0]}]\n",
    "        L = len(s)\n",
    "        for idx in range(1, L):\n",
    "            curr = {s[:idx + 1]}\n",
    "            for j in range(idx):\n",
    "                sub = s[j + 1 : idx + 1]\n",
    "                if (sub not in res[j]) and (len(res[j]) + 1 > len(curr)):\n",
    "                    curr = {elem for elem in res[j]}\n",
    "                    curr.add(sub)\n",
    "            res.append(curr)\n",
    "        return len(res[-1])"
   ]
  },
  {
   "cell_type": "markdown",
   "metadata": {},
   "source": [
    "## Attempt 2 - Accepted"
   ]
  },
  {
   "cell_type": "code",
   "execution_count": null,
   "metadata": {},
   "outputs": [],
   "source": [
    "class Solution:\n",
    "    def maxUniqueSplit(self, s: str) -> int:\n",
    "        res = [ [{s[0]}] ]\n",
    "        L = len(s)\n",
    "        for idx in range(1, L):\n",
    "            curr = [{s[:idx + 1]}]\n",
    "            for j in range(idx):\n",
    "                sub = s[j + 1 : idx + 1]\n",
    "                for prev in res[j]:\n",
    "                    if (sub not in prev):\n",
    "                        copy = {elem for elem in prev}\n",
    "                        copy.add(sub)\n",
    "                        curr.append(copy)\n",
    "            res.append(curr)\n",
    "        return max([len(r) for r in res[-1]])"
   ]
  },
  {
   "cell_type": "markdown",
   "metadata": {},
   "source": [
    "## Attempt 3 - Accepted"
   ]
  },
  {
   "cell_type": "code",
   "execution_count": null,
   "metadata": {},
   "outputs": [],
   "source": [
    "class Solution:\n",
    "    def maxUniqueSplit(self, s: str) -> int:\n",
    "        def inner(s, record):\n",
    "            # print(s)\n",
    "            # print(record)\n",
    "            L = len(s)\n",
    "            if L == 0:\n",
    "                return [[]]\n",
    "            if L == 1:\n",
    "                if s not in record:\n",
    "                    return [[s]]\n",
    "                else:\n",
    "                    return []\n",
    "            \n",
    "            res = []\n",
    "            for idx in range(1, L + 1):\n",
    "                prefix = s[:idx]\n",
    "                if prefix in record:\n",
    "                    continue\n",
    "                \n",
    "                new_rec = [r for r in record]\n",
    "                new_rec.append(prefix)\n",
    "                \n",
    "                \n",
    "                post = inner(s[idx:], new_rec)\n",
    "                # print(s[idx:])\n",
    "                # print(new_rec)\n",
    "                # print(post)\n",
    "                res.extend([ [prefix] + p for p in post]) ## --> used to be record + [prefix] + p, and you get confused for a long time\n",
    "            # print(s)\n",
    "            # print(record)\n",
    "            # print(res)\n",
    "            return res\n",
    "        \n",
    "        res = inner(s, [])\n",
    "        # print(res)\n",
    "        return max([len(r) for r in res])"
   ]
  },
  {
   "cell_type": "markdown",
   "metadata": {},
   "source": [
    "## Lessons and Thoughts\n",
    "- This is a cached search type of question: for previous results we do not just save the longest one.\n",
    "- Spent more than 30min on this, which is not acceptable. The lesson is, in cached search, you need to be very clear what your intermediate results are"
   ]
  }
 ],
 "metadata": {
  "kernelspec": {
   "display_name": "Python 3",
   "language": "python",
   "name": "python3"
  },
  "language_info": {
   "codemirror_mode": {
    "name": "ipython",
    "version": 3
   },
   "file_extension": ".py",
   "mimetype": "text/x-python",
   "name": "python",
   "nbconvert_exporter": "python",
   "pygments_lexer": "ipython3",
   "version": "3.6.5"
  }
 },
 "nbformat": 4,
 "nbformat_minor": 2
}
