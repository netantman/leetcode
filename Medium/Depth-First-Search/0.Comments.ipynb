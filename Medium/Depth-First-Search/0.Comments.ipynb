{
 "cells": [
  {
   "cell_type": "markdown",
   "metadata": {},
   "source": [
    "## Idea"
   ]
  },
  {
   "cell_type": "markdown",
   "metadata": {},
   "source": [
    "No need to discribe DFS here. Usually implementation by recursion if the call stack does not overflow.\n",
    "\n",
    "Since it is a 'search', it is often used to tackle problems which are not readily solved by DP, such as 'list all results' rather than just 'return the number of results'.\n",
    "\n",
    "### Hints of using DFS\n",
    "- Find all solutions: $99\\%$ it is DFS\n",
    "- Binary tree problems\n",
    "- Combinations\n",
    "- Permutations\n",
    "\n",
    "**Whenever you can use BFS, do not use DFS!!**"
   ]
  },
  {
   "cell_type": "markdown",
   "metadata": {},
   "source": [
    "**Time complexity**: number of solutions $\\times$ time to construct each solution\n",
    "- iteration of tree: $O(n)$\n",
    "- permutation: $O(n!\\cdot n)$\n",
    "- combinatorial: $O(2^n \\cdot n)$"
   ]
  },
  {
   "cell_type": "markdown",
   "metadata": {},
   "source": [
    "## Traps"
   ]
  },
  {
   "cell_type": "markdown",
   "metadata": {},
   "source": [
    "- Should always try implementation using recursion first, then iteration.\n",
    "- Use a class data member to cache/backtrack seems to be a good idea, e.g. see Problem 1219. When a node is being processed (including processing its children nodes), the record of this cell should flip, only to be flipped back when exiting the `dfs` function; see template below.\n",
    "- Use a stack if you need to implement DFS using iteration, but in general it will be hard to do: one such implementation is Problem 1059. In any case, see if you can solve the same search problem using BFS."
   ]
  },
  {
   "cell_type": "markdown",
   "metadata": {},
   "source": [
    "## Template"
   ]
  },
  {
   "cell_type": "code",
   "execution_count": null,
   "metadata": {},
   "outputs": [],
   "source": [
    "def dfs(arguments):\n",
    "    if recursion_exit:\n",
    "        # record the answer\n",
    "        return\n",
    "    \n",
    "    for _ in all_breakdowns:\n",
    "        # change the arguments\n",
    "        dfs(changed_arguments)\n",
    "        # change arguments back\n",
    "    return something_as_needed # most of the time there is nothing to return, unless it is a divide-and-conquer problem."
   ]
  }
 ],
 "metadata": {
  "kernelspec": {
   "display_name": "Python 3 (ipykernel)",
   "language": "python",
   "name": "python3"
  },
  "language_info": {
   "codemirror_mode": {
    "name": "ipython",
    "version": 3
   },
   "file_extension": ".py",
   "mimetype": "text/x-python",
   "name": "python",
   "nbconvert_exporter": "python",
   "pygments_lexer": "ipython3",
   "version": "3.9.7"
  }
 },
 "nbformat": 4,
 "nbformat_minor": 2
}
