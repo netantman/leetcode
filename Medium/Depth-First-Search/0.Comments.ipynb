{
 "cells": [
  {
   "cell_type": "markdown",
   "metadata": {},
   "source": [
    "## Idea"
   ]
  },
  {
   "cell_type": "markdown",
   "metadata": {},
   "source": [
    "No need to discribe DFS here. Usually implementation by recursion is the easiest and possible. \n",
    "\n",
    "Since it is a 'search', it is often used to tackle problems which are not readily solved by DP, such as 'list all results' rather than just 'return the number of results'."
   ]
  },
  {
   "cell_type": "markdown",
   "metadata": {},
   "source": [
    "## Traps"
   ]
  },
  {
   "cell_type": "markdown",
   "metadata": {},
   "source": [
    "- Should always try implementation using recursion first, then iteration.\n",
    "- Use a class data member to cache/backtrack seems to be a good idea, e.g. see Problem 1219.\n",
    "- Use a stack if you need to implement DFS using recursion, but in general it will be hard to do: see if you can solve the same search problem using BFS."
   ]
  }
 ],
 "metadata": {
  "kernelspec": {
   "display_name": "Python 3",
   "language": "python",
   "name": "python3"
  },
  "language_info": {
   "codemirror_mode": {
    "name": "ipython",
    "version": 3
   },
   "file_extension": ".py",
   "mimetype": "text/x-python",
   "name": "python",
   "nbconvert_exporter": "python",
   "pygments_lexer": "ipython3",
   "version": "3.7.3"
  }
 },
 "nbformat": 4,
 "nbformat_minor": 2
}
