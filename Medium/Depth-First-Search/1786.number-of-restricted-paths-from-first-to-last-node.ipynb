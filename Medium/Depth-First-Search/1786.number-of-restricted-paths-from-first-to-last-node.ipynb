{
 "cells": [
  {
   "cell_type": "markdown",
   "metadata": {},
   "source": [
    "## Attempt 1 - Time Limit Exceeded"
   ]
  },
  {
   "cell_type": "code",
   "execution_count": null,
   "metadata": {},
   "outputs": [],
   "source": [
    "class Solution:\n",
    "    def countRestrictedPaths(self, n: int, edges: List[List[int]]) -> int:\n",
    "        distant = [float('inf') for _ in range(n + 1)]\n",
    "        distant[n] = 0\n",
    "        \n",
    "        record = defaultdict(list)\n",
    "        for e in edges:\n",
    "            u, v, w = tuple(e)\n",
    "            record[u].append((v, w))\n",
    "            record[v].append((u, w))\n",
    "        \n",
    "        q = [n]\n",
    "        while q:\n",
    "            curr = q.pop(0)\n",
    "            for r in record[curr]:\n",
    "                v, w = r\n",
    "                if distant[v] > w + distant[curr]:\n",
    "                    distant[v] = w + distant[curr]\n",
    "                    q.append(v)\n",
    "        \n",
    "        # print(distant)\n",
    "        \n",
    "        record1 = defaultdict(list)\n",
    "        for u, val in record.items():\n",
    "            record1[u] = [r[0] for r in val if distant[r[0]] < distant[u]]\n",
    "            \n",
    "        # print(record1)\n",
    "        \n",
    "        self.res = dict()\n",
    "        self.res[n] = 1\n",
    "        def dfs(node):\n",
    "            # print(node)\n",
    "            if node in self.res:\n",
    "                return self.res[node]\n",
    "            \n",
    "            ans = sum([dfs(n) for n in record1[node]])\n",
    "            self.res[node] = ans\n",
    "            return ans\n",
    "        \n",
    "        # print(self.res)\n",
    "        \n",
    "        return dfs(1) % (10 ** 9 + 7)"
   ]
  },
  {
   "cell_type": "markdown",
   "metadata": {},
   "source": [
    "## Attempt 2 - Accepted"
   ]
  },
  {
   "cell_type": "code",
   "execution_count": null,
   "metadata": {},
   "outputs": [],
   "source": [
    "class Solution:\n",
    "    def countRestrictedPaths(self, n: int, edges: List[List[int]]) -> int:\n",
    "        dic=[[] for _ in range(n+1)]\n",
    "        for i,j,w in edges:\n",
    "            dic[i].append([j,w])\n",
    "            dic[j].append([i,w])\n",
    "        \n",
    "        def dijkstra(n,edges):\n",
    "            import heapq\n",
    "            dis=[float('inf') for _ in range(n+1)]\n",
    "            dis[n]=0\n",
    "            h=[]\n",
    "            heapq.heappush(h,[0,n])\n",
    "            \n",
    "            while h:\n",
    "                d,i=heapq.heappop(h)\n",
    "                for j,w in dic[i]:\n",
    "                    if d+w<dis[j]:\n",
    "                        dis[j]=d+w \n",
    "                        heapq.heappush(h,[dis[j],j])\n",
    "            return dis\n",
    "        \n",
    "        dis=dijkstra(n,edges)\n",
    "        mod=10**9+7\n",
    "        \n",
    "        import functools\n",
    "        @functools.lru_cache(None)\n",
    "        def dp(i):\n",
    "            if i==n:return 1\n",
    "            res=0\n",
    "            for j,_ in dic[i]:\n",
    "                if dis[j]<dis[i]:\n",
    "                    res+=dp(j)\n",
    "            return res%mod \n",
    "        \n",
    "        return dp(1)"
   ]
  },
  {
   "cell_type": "markdown",
   "metadata": {},
   "source": [
    "## Lessons and Thoughts\n",
    "- Caching DFS approach may be able to make recursion implementation able to pass.\n",
    "- The accepted algo is basically the same algo, except that it used LRU cache in `functool`: maybe that is more efficient."
   ]
  }
 ],
 "metadata": {
  "kernelspec": {
   "display_name": "Python 3",
   "language": "python",
   "name": "python3"
  },
  "language_info": {
   "codemirror_mode": {
    "name": "ipython",
    "version": 3
   },
   "file_extension": ".py",
   "mimetype": "text/x-python",
   "name": "python",
   "nbconvert_exporter": "python",
   "pygments_lexer": "ipython3",
   "version": "3.7.3"
  }
 },
 "nbformat": 4,
 "nbformat_minor": 2
}
