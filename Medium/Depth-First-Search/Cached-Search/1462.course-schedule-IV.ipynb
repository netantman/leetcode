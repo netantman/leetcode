{
 "cells": [
  {
   "cell_type": "markdown",
   "metadata": {},
   "source": [
    "## Attempt 1 - Accepted"
   ]
  },
  {
   "cell_type": "code",
   "execution_count": null,
   "metadata": {},
   "outputs": [],
   "source": [
    "class Solution:\n",
    "    def checkIfPrerequisite(self, n: int, prerequisites: List[List[int]], queries: List[List[int]]) -> List[bool]:\n",
    "        self.record = defaultdict(set)\n",
    "        for pre in prerequisites:\n",
    "            self.record[pre[1]].add(pre[0])\n",
    "        \n",
    "#         print(self.record)\n",
    "        \n",
    "        self.all_record = dict()\n",
    "        def dfs(course):\n",
    "            if course in self.all_record:\n",
    "                return self.all_record[course]\n",
    "            curr = set()\n",
    "            for pre in self.record[course]:\n",
    "                curr |= dfs(pre)\n",
    "            curr |= self.record[course]\n",
    "            self.all_record[course] = curr\n",
    "            return curr\n",
    "        for course in range(n):\n",
    "            dfs(course)\n",
    "        \n",
    "        # print(self.all_record)\n",
    "        \n",
    "        res = [query[0] in self.all_record[query[1]] for query in queries]\n",
    "        return res "
   ]
  },
  {
   "cell_type": "markdown",
   "metadata": {},
   "source": [
    "## Lessons and Thoughts\n",
    "- The idea is probably better characterized as DFS + cached search.\n",
    "- `defaultdict` of associative types can be handy\n",
    "- `|` operations on `set` to do union."
   ]
  }
 ],
 "metadata": {
  "kernelspec": {
   "display_name": "Python 3",
   "language": "python",
   "name": "python3"
  },
  "language_info": {
   "codemirror_mode": {
    "name": "ipython",
    "version": 3
   },
   "file_extension": ".py",
   "mimetype": "text/x-python",
   "name": "python",
   "nbconvert_exporter": "python",
   "pygments_lexer": "ipython3",
   "version": "3.7.3"
  }
 },
 "nbformat": 4,
 "nbformat_minor": 2
}
