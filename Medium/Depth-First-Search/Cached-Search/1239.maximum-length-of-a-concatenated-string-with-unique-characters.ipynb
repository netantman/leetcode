{
 "cells": [
  {
   "cell_type": "markdown",
   "metadata": {},
   "source": [
    "## Attempt 1 - Wrong Answer"
   ]
  },
  {
   "cell_type": "code",
   "execution_count": null,
   "metadata": {},
   "outputs": [],
   "source": [
    "class Solution:\n",
    "    def maxLength(self, arr: List[str]) -> int:\n",
    "        def check(record, a):\n",
    "            for c in a:\n",
    "                if record[ord(c)-ord(\"a\")]>0:\n",
    "                    return False\n",
    "            return True\n",
    "        \n",
    "        res=[]  ## --> did not handle the edge case where the string itself may have duplicate letters.\n",
    "        curr=[0 for _ in range(26)]\n",
    "        for c in arr[0]:\n",
    "            curr[ord(c)-ord(\"a\")]+=1\n",
    "        res.append(curr)\n",
    "        \n",
    "        L=len(arr)\n",
    "        for idx in range(1,L):\n",
    "            a=arr[idx]\n",
    "            curr=[0 for _ in range(26)] ## --> should have initialized with the string itself\n",
    "            for re in res:\n",
    "                if check(re,a) and sum(re)+len(a)>sum(curr):\n",
    "                    curr=[r for r in re]\n",
    "                    for c in a:\n",
    "                        curr[ord(c)-ord(\"a\")]+=1\n",
    "            res.append(curr)\n",
    "        return max([sum(r) for r in res])"
   ]
  },
  {
   "cell_type": "markdown",
   "metadata": {},
   "source": [
    "## Attempt 2 - Wrong Answer"
   ]
  },
  {
   "cell_type": "code",
   "execution_count": null,
   "metadata": {},
   "outputs": [],
   "source": [
    "class Solution:\n",
    "    def maxLength(self, arr: List[str]) -> int:\n",
    "        arr = [a for a in arr if len(a) == len(set(a))]\n",
    "        if len(arr) < 1:\n",
    "            return 0\n",
    "\n",
    "        dp = [] # dp[idx] is the longest unique concatenation containing arr[idx]\n",
    "        for s in arr:\n",
    "            curr = [s]\n",
    "            for d in dp:\n",
    "                for s1 in d:\n",
    "                    if len(set(s1) & set(s)) > 0:\n",
    "                        continue\n",
    "                    \n",
    "                    if len(s1) + len(s) < len(curr[0]):\n",
    "                        continue\n",
    "                    if len(s1) + len(s) == len(curr[0]):\n",
    "                        curr.append(s1 + s)\n",
    "                        continue\n",
    "                    if len(s1) + len(s) > len(curr[0]):\n",
    "                        curr = [s1 + s]\n",
    "                        continue\n",
    "            dp.append(curr)\n",
    "        \n",
    "        res = [len(d[0]) for d in dp]\n",
    "        return max(res)"
   ]
  },
  {
   "cell_type": "markdown",
   "metadata": {},
   "source": [
    "## Attempt 3 - Accepted"
   ]
  },
  {
   "cell_type": "code",
   "execution_count": null,
   "metadata": {},
   "outputs": [],
   "source": [
    "class Solution:\n",
    "    def maxLength(self, arr: List[str]) -> int:\n",
    "        def check(rec1, rec2):\n",
    "            for idx in range(26):\n",
    "                if rec1[idx]*rec2[idx]>0:\n",
    "                    return False\n",
    "            return True\n",
    "        \n",
    "        arr=[a for a in arr if len(a)==len(set(a))]\n",
    "        if len(arr)<1:\n",
    "            return 0\n",
    "        \n",
    "        record=set()\n",
    "        for a in arr:\n",
    "            curr=[0 for _ in range(26)]\n",
    "            for c in a:\n",
    "                curr[ord(c)-ord(\"a\")]+=1\n",
    "            new=set()\n",
    "            for re in record:\n",
    "                # print(re)\n",
    "                if check(list(re), curr):\n",
    "                    n=[max(r,c) for r,c in zip(re,curr)]\n",
    "                    new.add(tuple(n))\n",
    "            record=record|new\n",
    "            record.add(tuple(curr))\n",
    "        return max(sum(rec) for rec in record)"
   ]
  },
  {
   "cell_type": "markdown",
   "metadata": {},
   "source": [
    "## Lessons and Thoughts\n",
    "- At first this seems a sequence DP problem, but actually it is cached search."
   ]
  }
 ],
 "metadata": {
  "kernelspec": {
   "display_name": "Python 3 (ipykernel)",
   "language": "python",
   "name": "python3"
  },
  "language_info": {
   "codemirror_mode": {
    "name": "ipython",
    "version": 3
   },
   "file_extension": ".py",
   "mimetype": "text/x-python",
   "name": "python",
   "nbconvert_exporter": "python",
   "pygments_lexer": "ipython3",
   "version": "3.9.7"
  }
 },
 "nbformat": 4,
 "nbformat_minor": 2
}
