{
 "cells": [
  {
   "cell_type": "markdown",
   "metadata": {},
   "source": [
    "## Attempt 1 - Wrong Answer"
   ]
  },
  {
   "cell_type": "code",
   "execution_count": null,
   "metadata": {},
   "outputs": [],
   "source": [
    "class CombinationIterator:\n",
    "\n",
    "    def __init__(self, characters: str, combinationLength: int):\n",
    "        self.record=dict()\n",
    "        for idx in range(1,combinationLength+1):\n",
    "            self.record[idx]=[]\n",
    "        \n",
    "        for c in characters:\n",
    "            new={k:[s for s in v] for k,v in self.record.items()} ## --> if the list is not copied, operations on new will contaminate the original one\n",
    "            for idx in range(1,combinationLength+1):\n",
    "                if idx==1:\n",
    "                    new[idx].append(c)\n",
    "                else:\n",
    "                    new[idx]=[s for s in self.record[idx]]+[s+c for s in self.record[idx-1]] ## --> still need to sort new[idx]\n",
    "            self.record=new\n",
    "        \n",
    "        self.curr=0\n",
    "        self.record=self.record[combinationLength]\n",
    "\n",
    "    def next(self) -> str:\n",
    "        self.curr+=1\n",
    "        return self.record[self.curr-1]\n",
    "        \n",
    "    def hasNext(self) -> bool:\n",
    "        return self.curr<len(self.record)\n",
    "        \n",
    "\n",
    "\n",
    "# Your CombinationIterator object will be instantiated and called as such:\n",
    "# obj = CombinationIterator(characters, combinationLength)\n",
    "# param_1 = obj.next()\n",
    "# param_2 = obj.hasNext()"
   ]
  },
  {
   "cell_type": "markdown",
   "metadata": {},
   "source": [
    "## Attempt 2 - Accepted"
   ]
  },
  {
   "cell_type": "code",
   "execution_count": null,
   "metadata": {},
   "outputs": [],
   "source": [
    "class CombinationIterator:\n",
    "\n",
    "    def __init__(self, characters: str, combinationLength: int):\n",
    "        self.record=dict()\n",
    "        for idx in range(1,combinationLength+1):\n",
    "            self.record[idx]=[]\n",
    "        \n",
    "        for c in characters:\n",
    "            new={k:[s for s in v] for k,v in self.record.items()}\n",
    "            for idx in range(1,combinationLength+1):\n",
    "                if idx==1:\n",
    "                    new[idx].append(c)\n",
    "                else:\n",
    "                    new[idx]=[s for s in self.record[idx]]+[s+c for s in self.record[idx-1]]\n",
    "                new[idx]=sorted(new[idx])\n",
    "            self.record=new\n",
    "            # print(self.record)\n",
    "        \n",
    "        self.curr=0\n",
    "        self.record=self.record[combinationLength]\n",
    "        # print(self.record)\n",
    "\n",
    "    def next(self) -> str:\n",
    "        self.curr+=1\n",
    "        return self.record[self.curr-1]\n",
    "        \n",
    "    def hasNext(self) -> bool:\n",
    "        return self.curr<len(self.record)\n",
    "        \n",
    "\n",
    "\n",
    "# Your CombinationIterator object will be instantiated and called as such:\n",
    "# obj = CombinationIterator(characters, combinationLength)\n",
    "# param_1 = obj.next()\n",
    "# param_2 = obj.hasNext()"
   ]
  },
  {
   "cell_type": "markdown",
   "metadata": {},
   "source": [
    "## Lessons and Thoughts\n",
    "- If you use an associative type to store intermediate results, make sure you use deep copy.\n",
    "- But this can easily solved by a two pointer? You don't need to enumerate all combinations to start."
   ]
  }
 ],
 "metadata": {
  "kernelspec": {
   "display_name": "Python 3",
   "language": "python",
   "name": "python3"
  },
  "language_info": {
   "codemirror_mode": {
    "name": "ipython",
    "version": 3
   },
   "file_extension": ".py",
   "mimetype": "text/x-python",
   "name": "python",
   "nbconvert_exporter": "python",
   "pygments_lexer": "ipython3",
   "version": "3.6.5"
  }
 },
 "nbformat": 4,
 "nbformat_minor": 2
}
