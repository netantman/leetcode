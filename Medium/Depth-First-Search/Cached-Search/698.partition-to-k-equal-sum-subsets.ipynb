{
 "cells": [
  {
   "cell_type": "markdown",
   "metadata": {},
   "source": [
    "## Attempt 1 - Accepted"
   ]
  },
  {
   "cell_type": "code",
   "execution_count": null,
   "metadata": {},
   "outputs": [],
   "source": [
    "class Solution:\n",
    "    def canPartitionKSubsets(self, nums: List[int], K: int) -> bool:\n",
    "        if len(nums)<K:\n",
    "            return False\n",
    "        if K==1:\n",
    "            return True\n",
    "        \n",
    "        s=sum(nums)\n",
    "        if s%K>0:\n",
    "            return False\n",
    "        else:\n",
    "            L=s//K\n",
    "            if max(nums)>L:\n",
    "                return False\n",
    "        \n",
    "        cache=dict()\n",
    "        def inner(nums, target, completed, cache):\n",
    "            if tuple(nums+[\"|\"]+[target]+[completed]) in cache:\n",
    "                return cache[tuple(nums+[\"|\"]+[target]+[completed])]\n",
    "            \n",
    "            if completed==K-1:\n",
    "                res=(sum(nums)==target)\n",
    "                cache[tuple(nums+[\"|\"]+[target]+[completed])]=res\n",
    "                return res\n",
    "            if target<min(nums):\n",
    "                cache[tuple(nums+[\"|\"]+[target]+[completed])]=False\n",
    "                return False\n",
    "            \n",
    "            for idx in range(len(nums)):\n",
    "                n=nums[idx]\n",
    "                if n==target:\n",
    "                    if inner(nums[:idx]+nums[idx+1:], L, completed+1, cache):\n",
    "                        cache[tuple(nums+[\"|\"]+[target]+[completed])]=True\n",
    "                        return True\n",
    "                elif n<target:\n",
    "                    if inner(nums[:idx]+nums[idx+1:], target-n, completed, cache):\n",
    "                        cache[tuple(nums+[\"|\"]+[target]+[completed])]=True\n",
    "                        return True\n",
    "            cache[tuple(nums+[\"|\"]+[target]+[completed])]=False\n",
    "            return False\n",
    "        \n",
    "        res=inner(nums, L, 0, cache)\n",
    "        return res"
   ]
  },
  {
   "cell_type": "markdown",
   "metadata": {},
   "source": [
    "## Lessons and Thoughts\n",
    "- Essentially the same problem as Problem 473."
   ]
  }
 ],
 "metadata": {
  "kernelspec": {
   "display_name": "Python 3",
   "language": "python",
   "name": "python3"
  },
  "language_info": {
   "codemirror_mode": {
    "name": "ipython",
    "version": 3
   },
   "file_extension": ".py",
   "mimetype": "text/x-python",
   "name": "python",
   "nbconvert_exporter": "python",
   "pygments_lexer": "ipython3",
   "version": "3.7.3"
  }
 },
 "nbformat": 4,
 "nbformat_minor": 2
}
