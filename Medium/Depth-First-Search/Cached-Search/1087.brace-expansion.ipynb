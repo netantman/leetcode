{
 "cells": [
  {
   "cell_type": "markdown",
   "metadata": {},
   "source": [
    "## Attempt 1 - Accepted"
   ]
  },
  {
   "cell_type": "code",
   "execution_count": null,
   "metadata": {},
   "outputs": [],
   "source": [
    "class Solution:\n",
    "    def expand(self, s: str) -> List[str]:\n",
    "        def parse(s):\n",
    "            L = len(s)\n",
    "            res = []\n",
    "            l, r = 0, 1\n",
    "            while r <= L:\n",
    "                if s[l] != \"{\":\n",
    "                    res.append([s[l]])\n",
    "                    l += 1\n",
    "                    r += 1\n",
    "                    continue\n",
    "                while r < L and s[r] != \"}\":\n",
    "                    r += 1\n",
    "                res.append(sorted(s[l + 1 : r].split(\",\")))\n",
    "                l = r + 1\n",
    "                r = l + 1\n",
    "            return res\n",
    "        \n",
    "        letters = parse(s)\n",
    "        res = [\"\"]\n",
    "        L = len(letters)\n",
    "        for idx in range(L):\n",
    "            res = [r + l for r in res for l in letters[idx]]\n",
    "        return res"
   ]
  },
  {
   "cell_type": "markdown",
   "metadata": {},
   "source": [
    "## Lessons and Thoughts\n",
    "- Straightforward - as long as there is a way to obtain braced info. Done it by two pointers.\n",
    "- Can probably use `split` which can do without two pointers."
   ]
  }
 ],
 "metadata": {
  "kernelspec": {
   "display_name": "Python 3 (ipykernel)",
   "language": "python",
   "name": "python3"
  },
  "language_info": {
   "codemirror_mode": {
    "name": "ipython",
    "version": 3
   },
   "file_extension": ".py",
   "mimetype": "text/x-python",
   "name": "python",
   "nbconvert_exporter": "python",
   "pygments_lexer": "ipython3",
   "version": "3.9.7"
  }
 },
 "nbformat": 4,
 "nbformat_minor": 2
}
