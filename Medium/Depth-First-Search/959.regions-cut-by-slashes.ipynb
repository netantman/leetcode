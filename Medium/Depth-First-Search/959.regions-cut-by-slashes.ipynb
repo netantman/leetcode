{
 "cells": [
  {
   "cell_type": "markdown",
   "metadata": {},
   "source": [
    "## Attempt 1 - Wrong Answer"
   ]
  },
  {
   "cell_type": "code",
   "execution_count": null,
   "metadata": {},
   "outputs": [],
   "source": [
    "class Solution:\n",
    "    def __init__(self):\n",
    "        self.grid=None\n",
    "        self.R=None\n",
    "        self.C=None\n",
    "    def regionsBySlashes(self, grid: List[str]) -> int:\n",
    "        self.grid=[list(r) for r in grid]\n",
    "        self.R=len(grid)\n",
    "        self.C=len(grid[0])\n",
    "        \n",
    "        def dfs(r,c,cnt):\n",
    "            if self.grid[r][c] not in {\"/\", \"\\\\\"}: ## --> does not handle the case where slashes are neighbors\n",
    "                self.grid[r][c]=cnt\n",
    "                if r-1>=0 and self.grid[r-1][c]==\" \":\n",
    "                    dfs(r-1,c,cnt)\n",
    "                if r+1<self.R and self.grid[r+1][c]==\" \":\n",
    "                    dfs(r+1,c,cnt)\n",
    "                if c-1>=0 and self.grid[r][c-1]==\" \":\n",
    "                    dfs(r,c-1,cnt)\n",
    "                if c+1<self.C and self.grid[r][c+1]==\" \":\n",
    "                    dfs(r,c+1,cnt)\n",
    "            return\n",
    "        \n",
    "        cnt=0\n",
    "        for r in range(self.R):\n",
    "            for c in range(self.C):\n",
    "                if self.grid[r][c]==\" \":\n",
    "                    cnt+=1\n",
    "                    dfs(r,c,cnt)\n",
    "        return cnt"
   ]
  },
  {
   "cell_type": "markdown",
   "metadata": {},
   "source": [
    "## Attempt 2 - Accepted"
   ]
  },
  {
   "cell_type": "code",
   "execution_count": null,
   "metadata": {},
   "outputs": [],
   "source": [
    "class DSU:\n",
    "    def __init__(self, N):\n",
    "        self.p = list(range(N))\n",
    "\n",
    "    def find(self, x):\n",
    "        if self.p[x] != x:\n",
    "            self.p[x] = self.find(self.p[x])\n",
    "        return self.p[x]\n",
    "\n",
    "    def union(self, x, y):\n",
    "        xr = self.find(x)\n",
    "        yr = self.find(y)\n",
    "        self.p[xr] = yr\n",
    "\n",
    "class Solution(object):\n",
    "    def regionsBySlashes(self, grid):\n",
    "        N = len(grid)\n",
    "        dsu = DSU(4 * N * N)\n",
    "        for r, row in enumerate(grid):\n",
    "            for c, val in enumerate(row):\n",
    "                root = 4 * (r*N + c)\n",
    "                if val in '/ ':\n",
    "                    dsu.union(root + 0, root + 1)\n",
    "                    dsu.union(root + 2, root + 3)\n",
    "                if val in '\\ ':\n",
    "                    dsu.union(root + 0, root + 2)\n",
    "                    dsu.union(root + 1, root + 3)\n",
    "\n",
    "                # north/south\n",
    "                if r+1 < N: dsu.union(root + 3, (root+4*N) + 0)\n",
    "                if r-1 >= 0: dsu.union(root + 0, (root-4*N) + 3)\n",
    "                # east/west\n",
    "                if c+1 < N: dsu.union(root + 2, (root+4) + 1)\n",
    "                if c-1 >= 0: dsu.union(root + 1, (root-4) + 2)\n",
    "\n",
    "        return sum(dsu.find(x) == x for x in range(4*N*N))"
   ]
  },
  {
   "cell_type": "markdown",
   "metadata": {},
   "source": [
    "## Lessons and Thoughts\n",
    "- Solution from leetcode app. The way to handle the case that you failed is to distinguish north, south, east and west side of the cells, though it seems a bit clumsy to 'serialize' the sides.\n",
    "- Check out union find algo when you have time, and make it a sub category."
   ]
  }
 ],
 "metadata": {
  "kernelspec": {
   "display_name": "Python 3",
   "language": "python",
   "name": "python3"
  },
  "language_info": {
   "codemirror_mode": {
    "name": "ipython",
    "version": 3
   },
   "file_extension": ".py",
   "mimetype": "text/x-python",
   "name": "python",
   "nbconvert_exporter": "python",
   "pygments_lexer": "ipython3",
   "version": "3.7.3"
  }
 },
 "nbformat": 4,
 "nbformat_minor": 2
}
