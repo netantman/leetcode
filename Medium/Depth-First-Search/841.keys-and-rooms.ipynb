{
 "cells": [
  {
   "cell_type": "markdown",
   "metadata": {},
   "source": [
    "## Attempt 1 - Accepted"
   ]
  },
  {
   "cell_type": "code",
   "execution_count": null,
   "metadata": {},
   "outputs": [],
   "source": [
    "class Solution:\n",
    "    def canVisitAllRooms(self, rooms: List[List[int]]) -> bool:\n",
    "        visited=[0 for _ in rooms]\n",
    "        def dfs(idx, rooms):\n",
    "            if visited[idx]>0:\n",
    "                return\n",
    "            else:\n",
    "                visited[idx]=1\n",
    "                access=rooms[idx]\n",
    "                for r in access:\n",
    "                    dfs(r, rooms)\n",
    "                return\n",
    "        dfs(0, rooms)\n",
    "        return sum(visited)==len(visited)"
   ]
  },
  {
   "cell_type": "markdown",
   "metadata": {},
   "source": [
    "## Lessons and Thoughts\n",
    "- Straightforward DFS using recursion."
   ]
  }
 ],
 "metadata": {
  "kernelspec": {
   "display_name": "Python 3",
   "language": "python",
   "name": "python3"
  },
  "language_info": {
   "codemirror_mode": {
    "name": "ipython",
    "version": 3
   },
   "file_extension": ".py",
   "mimetype": "text/x-python",
   "name": "python",
   "nbconvert_exporter": "python",
   "pygments_lexer": "ipython3",
   "version": "3.7.3"
  }
 },
 "nbformat": 4,
 "nbformat_minor": 2
}
