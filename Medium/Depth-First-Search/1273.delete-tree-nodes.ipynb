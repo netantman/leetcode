{
 "cells": [
  {
   "cell_type": "markdown",
   "metadata": {},
   "source": [
    "## Attempt 1 - Accepted"
   ]
  },
  {
   "cell_type": "code",
   "execution_count": null,
   "metadata": {},
   "outputs": [],
   "source": [
    "class Solution:\n",
    "    def deleteTreeNodes(self, nodes: int, parent: List[int], value: List[int]) -> int:\n",
    "        children = dict()\n",
    "        for n in range(nodes):\n",
    "            children[n] = set()\n",
    "        for idx, p in enumerate(parent):\n",
    "            if p != -1:\n",
    "                children[p].add(idx)\n",
    "                \n",
    "        def get_sum(root):\n",
    "            kids = [k for k in children[root]]\n",
    "            s = value[root]\n",
    "            for k in kids:\n",
    "                sub = get_sum(k)\n",
    "                if sub == 0:\n",
    "                    children[root].remove(k)\n",
    "                else:\n",
    "                    s += sub\n",
    "            return s\n",
    "        \n",
    "        s = get_sum(0)\n",
    "        if s == 0:\n",
    "            return 0\n",
    "        \n",
    "        def get_node(root):\n",
    "            kids = [k for k in children[root]]\n",
    "            res = 1\n",
    "            for k in kids:\n",
    "                res += get_node(k)\n",
    "            return res\n",
    "        \n",
    "        return get_node(0)"
   ]
  },
  {
   "cell_type": "markdown",
   "metadata": {},
   "source": [
    "## Lessons and Thoughts\n",
    "- Just make it into a tree."
   ]
  }
 ],
 "metadata": {
  "kernelspec": {
   "display_name": "Python 3",
   "language": "python",
   "name": "python3"
  },
  "language_info": {
   "codemirror_mode": {
    "name": "ipython",
    "version": 3
   },
   "file_extension": ".py",
   "mimetype": "text/x-python",
   "name": "python",
   "nbconvert_exporter": "python",
   "pygments_lexer": "ipython3",
   "version": "3.7.3"
  }
 },
 "nbformat": 4,
 "nbformat_minor": 2
}
