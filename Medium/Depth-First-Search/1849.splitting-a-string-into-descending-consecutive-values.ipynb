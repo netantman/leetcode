{
 "cells": [
  {
   "cell_type": "markdown",
   "metadata": {},
   "source": [
    "## Attempt 1 - Accepted"
   ]
  },
  {
   "cell_type": "code",
   "execution_count": null,
   "metadata": {},
   "outputs": [],
   "source": [
    "class Solution:\n",
    "    def splitString(self, s: str) -> bool:\n",
    "        def inner(s, last):\n",
    "            if int(s) == last - 1:\n",
    "                return True\n",
    "            L = len(s)\n",
    "            for idx in range(1, L):\n",
    "                if int(s[:idx]) == last - 1 and inner(s[idx:], last - 1):\n",
    "                    return True\n",
    "            return False\n",
    "        \n",
    "        L = len(s)\n",
    "        for idx in range(1, L):\n",
    "            last = int(s[:idx])\n",
    "            if inner(s[idx:], last):\n",
    "                return True\n",
    "        return False"
   ]
  },
  {
   "cell_type": "markdown",
   "metadata": {},
   "source": [
    "## Lessons and Thoughts\n",
    "- Straightforward with recursion"
   ]
  }
 ],
 "metadata": {
  "kernelspec": {
   "display_name": "Python 3",
   "language": "python",
   "name": "python3"
  },
  "language_info": {
   "codemirror_mode": {
    "name": "ipython",
    "version": 3
   },
   "file_extension": ".py",
   "mimetype": "text/x-python",
   "name": "python",
   "nbconvert_exporter": "python",
   "pygments_lexer": "ipython3",
   "version": "3.7.3"
  }
 },
 "nbformat": 4,
 "nbformat_minor": 2
}
