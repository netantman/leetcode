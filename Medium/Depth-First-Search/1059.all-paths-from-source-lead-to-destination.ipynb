{
 "cells": [
  {
   "cell_type": "markdown",
   "metadata": {},
   "source": [
    "## Attempt 1 - Accepted"
   ]
  },
  {
   "cell_type": "code",
   "execution_count": null,
   "metadata": {},
   "outputs": [],
   "source": [
    "class Solution:\n",
    "    def leadsToDestination(self, n: int, edges: List[List[int]], source: int, destination: int) -> bool:\n",
    "        record = defaultdict(list)\n",
    "        for edge in edges:\n",
    "            a, b = tuple(edge)\n",
    "            record[a].append(b)\n",
    "            \n",
    "        if destination in record:\n",
    "            return False\n",
    "        \n",
    "        dfs = [False for idx in range(n)]\n",
    "        dfs[destination] = True\n",
    "        \n",
    "        paths = [tuple([source])]\n",
    "        \n",
    "        while paths:\n",
    "            top = paths[-1]\n",
    "            last = top[-1]\n",
    "            if last not in record:\n",
    "                if last != destination:\n",
    "                    return False\n",
    "                paths.pop()\n",
    "                continue\n",
    "            \n",
    "            for n in record[last]:\n",
    "                if n in top:\n",
    "                    return False\n",
    "                if not dfs[n]:\n",
    "                    paths.append(tuple(list(top) + [n]))\n",
    "                    break\n",
    "            else:\n",
    "                dfs[last] = True\n",
    "                paths.pop()\n",
    "        \n",
    "        return True\n",
    "                    \n",
    "                "
   ]
  },
  {
   "cell_type": "markdown",
   "metadata": {},
   "source": [
    "## Lessons and Thoughts\n",
    "- DFS implemented using a stack, rather than a recursion.\n",
    "- The missed edge case is when `destination` has out-degree.\n",
    "- Interestingly, it is considered DFS is better than BFS in finding cycles in a graph; see this [stackoverflow](https://stackoverflow.com/questions/2869647/why-dfs-and-not-bfs-for-finding-cycle-in-graphs)."
   ]
  }
 ],
 "metadata": {
  "kernelspec": {
   "display_name": "Python 3",
   "language": "python",
   "name": "python3"
  },
  "language_info": {
   "codemirror_mode": {
    "name": "ipython",
    "version": 3
   },
   "file_extension": ".py",
   "mimetype": "text/x-python",
   "name": "python",
   "nbconvert_exporter": "python",
   "pygments_lexer": "ipython3",
   "version": "3.7.3"
  }
 },
 "nbformat": 4,
 "nbformat_minor": 2
}
