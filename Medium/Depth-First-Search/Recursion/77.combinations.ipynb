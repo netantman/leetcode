{
 "cells": [
  {
   "cell_type": "markdown",
   "metadata": {},
   "source": [
    "## Attempt 1 - Wrong Answer"
   ]
  },
  {
   "cell_type": "code",
   "execution_count": null,
   "metadata": {},
   "outputs": [],
   "source": [
    "class Solution:\n",
    "    def combine(self, n: int, k: int) -> List[List[int]]:\n",
    "        \n",
    "        if k==0:\n",
    "            return [[]]\n",
    "        if k>n:\n",
    "            return []\n",
    "        vec = list(range(1,n+1))\n",
    "        if k==n:\n",
    "            return [vec]\n",
    "        return self.helper(vec, k)\n",
    "        \n",
    "    def helper(self, vec: List[int], k: int) -> List[List[int]]:\n",
    "        \n",
    "        if k==1:\n",
    "            return [ [v] for v in vec ]\n",
    "        L=len(vec)\n",
    "        elem=vec[-1]\n",
    "        res=[]\n",
    "        reduced=vec[:L-1]\n",
    "        prev=self.helper(reduced, k-1)\n",
    "        for p in prev:\n",
    "            res.append(p+[elem])\n",
    "        return re"
   ]
  },
  {
   "cell_type": "markdown",
   "metadata": {},
   "source": [
    "## Attempt 2 - Accepted"
   ]
  },
  {
   "cell_type": "code",
   "execution_count": null,
   "metadata": {},
   "outputs": [],
   "source": [
    "class Solution:\n",
    "    def combine(self, n: int, k: int) -> List[List[int]]:\n",
    "        \n",
    "        \n",
    "        vec = list(range(1,n+1))     \n",
    "        return self.helper(vec, k)\n",
    "        \n",
    "    def helper(self, vec: List[int], k: int) -> List[List[int]]:\n",
    "        \n",
    "        L=len(vec)\n",
    "        if k==0:\n",
    "            return [[]]\n",
    "        if k>L:\n",
    "            return []\n",
    "        if k==1:\n",
    "            return [ [v] for v in vec ]\n",
    "        if k==L:\n",
    "            return [vec]\n",
    "        elem=vec[-1]\n",
    "        res=[]\n",
    "        reduced=vec[:L-1]\n",
    "        prev=self.helper(reduced, k-1)\n",
    "        for p in prev:\n",
    "            res.append(p+[elem])\n",
    "        res=res+self.helper(reduced, k)\n",
    "        return res"
   ]
  },
  {
   "cell_type": "markdown",
   "metadata": {},
   "source": [
    "## Lessons and Thoughts\n",
    "- Although it is just simple recursion, you need to sort out the criteria to reduce.\n",
    "- If possible, for these kind of listing all combination problems, use some effort to ensure no duplicates, rather than relying on `set`."
   ]
  }
 ],
 "metadata": {
  "kernelspec": {
   "display_name": "Python 3 (ipykernel)",
   "language": "python",
   "name": "python3"
  },
  "language_info": {
   "codemirror_mode": {
    "name": "ipython",
    "version": 3
   },
   "file_extension": ".py",
   "mimetype": "text/x-python",
   "name": "python",
   "nbconvert_exporter": "python",
   "pygments_lexer": "ipython3",
   "version": "3.9.7"
  }
 },
 "nbformat": 4,
 "nbformat_minor": 2
}
