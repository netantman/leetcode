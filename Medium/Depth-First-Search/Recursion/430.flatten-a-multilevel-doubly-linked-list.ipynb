{
 "cells": [
  {
   "cell_type": "markdown",
   "metadata": {},
   "source": [
    "## Attempt 1 - Accepted"
   ]
  },
  {
   "cell_type": "code",
   "execution_count": null,
   "metadata": {},
   "outputs": [],
   "source": [
    "\"\"\"\n",
    "# Definition for a Node.\n",
    "class Node:\n",
    "    def __init__(self, val, prev, next, child):\n",
    "        self.val = val\n",
    "        self.prev = prev\n",
    "        self.next = next\n",
    "        self.child = child\n",
    "\"\"\"\n",
    "\n",
    "class Solution:\n",
    "    def flatten(self, head: 'Node') -> 'Node':\n",
    "        def inner(head):\n",
    "            zero=Node()\n",
    "            zero.next=head\n",
    "            last, curr=zero, head\n",
    "            while curr is not None:\n",
    "                if curr.child is not None:\n",
    "                    h, t=inner(curr.child)\n",
    "                    temp=curr.next\n",
    "                    if temp is not None:\n",
    "                        curr.next=h\n",
    "                        h.prev=curr\n",
    "                        t.next=temp\n",
    "                        temp.prev=t\n",
    "                    else:\n",
    "                        curr.next=h\n",
    "                        h.prev=curr\n",
    "                    curr.child=None\n",
    "                last=last.next\n",
    "                curr=curr.next\n",
    "            if last.child is not None:\n",
    "                h,t=inner(last.child)\n",
    "                last.next=h\n",
    "                h.prev=last\n",
    "                last.child=None\n",
    "                last=t\n",
    "            return zero.next, last\n",
    "            \n",
    "        if head is None:\n",
    "            return head\n",
    "        \n",
    "\n",
    "        head, _=inner(head)\n",
    "        return head"
   ]
  },
  {
   "cell_type": "markdown",
   "metadata": {},
   "source": [
    "## Lessons and Thoughts\n",
    "- The edge cases to take care of "
   ]
  }
 ],
 "metadata": {
  "kernelspec": {
   "display_name": "Python 3",
   "language": "python",
   "name": "python3"
  },
  "language_info": {
   "codemirror_mode": {
    "name": "ipython",
    "version": 3
   },
   "file_extension": ".py",
   "mimetype": "text/x-python",
   "name": "python",
   "nbconvert_exporter": "python",
   "pygments_lexer": "ipython3",
   "version": "3.7.3"
  }
 },
 "nbformat": 4,
 "nbformat_minor": 2
}
