{
 "cells": [
  {
   "cell_type": "markdown",
   "metadata": {},
   "source": [
    "## Attempt 1 - Try to Iterate NoneType"
   ]
  },
  {
   "cell_type": "code",
   "execution_count": null,
   "metadata": {},
   "outputs": [],
   "source": [
    "class Solution:\n",
    "    def combinationSum(self, candidates: List[int], target: int) -> List[List[int]]:\n",
    "        if target==0:\n",
    "            return [[]]\n",
    "        candidates = [c for c in candidates if c<= target]\n",
    "        if len(candidates)<1:\n",
    "            return None  ## --> this is the reason why it is trying to iterate NoneType\n",
    "        \n",
    "        cache=set()\n",
    "        for c in candidates:\n",
    "            prev=self.combinationSum(candidates, target-c)\n",
    "            for p in prev:\n",
    "                potential=p.append(c)  ## --> this changes the origin list p!\n",
    "                potential=tuple(sorted(potential))\n",
    "                if potential not in cache:\n",
    "                    cache.add(potential)\n",
    "        \n",
    "        res=[list(sol) for sol in cache]\n",
    "        return res"
   ]
  },
  {
   "cell_type": "markdown",
   "metadata": {},
   "source": [
    "## Attempt 2 - Accepted"
   ]
  },
  {
   "cell_type": "code",
   "execution_count": null,
   "metadata": {},
   "outputs": [],
   "source": [
    "class Solution:\n",
    "    def combinationSum(self, candidates: List[int], target: int) -> List[List[int]]:\n",
    "        if target==0:\n",
    "            return [[]]\n",
    "        candidates = [c for c in candidates if c<= target]\n",
    "        if len(candidates)<1:\n",
    "            return []\n",
    "        \n",
    "        cache=set()\n",
    "        for c in candidates:\n",
    "            prev=self.combinationSum(candidates, target-c)\n",
    "            for p in prev:\n",
    "                potential=p+[c]\n",
    "                potential=tuple(sorted(potential))\n",
    "                if potential not in cache:\n",
    "                    cache.add(potential)\n",
    "        \n",
    "        res=[list(sol) for sol in cache]\n",
    "        return res\n",
    "       "
   ]
  },
  {
   "cell_type": "markdown",
   "metadata": {},
   "source": [
    "## Attempt 3 - Accepted"
   ]
  },
  {
   "cell_type": "code",
   "execution_count": null,
   "metadata": {},
   "outputs": [],
   "source": [
    "bool smaller(int i, int j) {return (i < j);}\n",
    "\n",
    "class Solution {\n",
    "public:\n",
    "    vector<vector<int>> combinationSum(vector<int>& candidates, int target) {\n",
    "        vector<int> refined = {};\n",
    "        for (int c: candidates) {\n",
    "            if (c <= target) {\n",
    "                refined.push_back(c);    \n",
    "            }\n",
    "        }\n",
    "        \n",
    "        if (refined.size() < 1) {\n",
    "            vector<vector<int>> res = {};\n",
    "            return res;\n",
    "        }\n",
    "        \n",
    "        sort(refined.begin(), refined.end(), smaller);\n",
    "        \n",
    "        map<int, vector<vector<int>>> record = {};\n",
    "        for (int n=1; n<=target; n++) {\n",
    "            vector<vector<int>> tmp = {};\n",
    "            record[n] = tmp;\n",
    "        }\n",
    "        vector<vector<int>> tmp = {};\n",
    "        vector<int> empty = {};\n",
    "        tmp.push_back(empty);\n",
    "        record[0] = tmp;\n",
    "        \n",
    "    \n",
    "        for (int r : refined) {\n",
    "            map<int, vector<vector<int>>> new_record = record;\n",
    "            for (int n=0; n<=target; n++) {\n",
    "                int k = 1;\n",
    "                while (n - k * r >=0) {\n",
    "                    vector<vector<int>> tmp = record[n - k * r];\n",
    "                    for (vector<int> t: tmp) {\n",
    "                        vector<int> copy = t;\n",
    "                        for (int j=0; j<k; j++) {\n",
    "                            copy.push_back(r);\n",
    "                        }\n",
    "                        new_record[n].push_back(copy);\n",
    "                    }\n",
    "                    k += 1;\n",
    "                }\n",
    "            }\n",
    "            record = new_record;\n",
    "        }\n",
    "        return record[target];\n",
    "    }\n",
    "};"
   ]
  },
  {
   "cell_type": "markdown",
   "metadata": {},
   "source": [
    "## Attempt 4 - Accepted"
   ]
  },
  {
   "cell_type": "code",
   "execution_count": null,
   "metadata": {},
   "outputs": [],
   "source": [
    "class Solution:\n",
    "    def combinationSum(self, candidates: List[int], target: int) -> List[List[int]]:\n",
    "        candidates = [c for c in candidates if c <= target]\n",
    "        candidates = sorted(candidates)\n",
    "        record = {k: [] for k in range(target + 1)}\n",
    "        record[0].append([0])\n",
    "\n",
    "        for c in candidates:\n",
    "            new_record = {k: [] for k in range(target + 1)}\n",
    "            for k, values in record.items():\n",
    "                mul = 1\n",
    "                while k + c * mul <= target:\n",
    "                    for v in values:\n",
    "                        new_record[k + c * mul].append(v + [c] * mul)\n",
    "                    mul += 1\n",
    "            for k in record.keys():\n",
    "                record[k] += new_record[k]\n",
    "        \n",
    "        res = [v[1:] for v in record[target]]\n",
    "        return res"
   ]
  },
  {
   "cell_type": "markdown",
   "metadata": {},
   "source": [
    "## Lessons and Thoughts\n",
    "- Be careful when using `append` on `list`s, since it changes the original object.\n",
    "- For `None`type, it will not simply do not iterate; it will try to iterate then throws.\n",
    "- Attempt 2 is essentially what you wrote as the first approach to DE Shaw. Indeed that is easier to write and think about, but then you failed when trying to come up with something like Attempt 3, which took you about 25min to implement. But to be fair, the time complexity of both Attempt 2 and 3 are the same, while it is hard to say Attempt 3 is better in space complexity.\n",
    "- Attempt 4 is a cached search type of algorithm - took about 10min to write. It is harder to come by, but it does not rely on `set()` to ensure uniqueness."
   ]
  }
 ],
 "metadata": {
  "kernelspec": {
   "display_name": "Python 3 (ipykernel)",
   "language": "python",
   "name": "python3"
  },
  "language_info": {
   "codemirror_mode": {
    "name": "ipython",
    "version": 3
   },
   "file_extension": ".py",
   "mimetype": "text/x-python",
   "name": "python",
   "nbconvert_exporter": "python",
   "pygments_lexer": "ipython3",
   "version": "3.9.7"
  }
 },
 "nbformat": 4,
 "nbformat_minor": 2
}
