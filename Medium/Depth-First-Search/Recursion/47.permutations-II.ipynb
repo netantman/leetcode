{
 "cells": [
  {
   "cell_type": "markdown",
   "metadata": {},
   "source": [
    "## Attempt 1 - Accepted"
   ]
  },
  {
   "cell_type": "code",
   "execution_count": null,
   "metadata": {},
   "outputs": [],
   "source": [
    "class Solution:\n",
    "    def permuteUnique(self, nums: List[int]) -> List[List[int]]:\n",
    "        if len(nums)<1:\n",
    "            return [[]]\n",
    "        if len(nums)==1:\n",
    "            return [nums]\n",
    "        \n",
    "        cache=set()\n",
    "        len_nums=len(nums)\n",
    "        res=[]\n",
    "        for idx in range(len_nums):\n",
    "            elem=nums[idx]\n",
    "            if elem in cache:\n",
    "                continue\n",
    "            else:\n",
    "                cache.add(elem)\n",
    "            reduced=nums[:idx]+nums[idx+1:]\n",
    "            prev=self.permuteUnique(reduced)\n",
    "            res = res+[p+[elem] for p in prev]\n",
    "        return res"
   ]
  },
  {
   "cell_type": "markdown",
   "metadata": {},
   "source": [
    "## Attempt 2 - Accepted"
   ]
  },
  {
   "cell_type": "code",
   "execution_count": null,
   "metadata": {},
   "outputs": [],
   "source": [
    "class Solution {\n",
    "public:\n",
    "    vector<vector<int>> permuteUnique(vector<int>& nums) {\n",
    "        // sort(nums.begin(), nums.end());\n",
    "        set<vector<int>> cache = {{}};\n",
    "        int L = nums.size();\n",
    "        for (int idx=0; idx<L; idx++) {\n",
    "            set<vector<int>> new_cache = {};\n",
    "            int n = nums[idx];\n",
    "            for (auto c : cache) {\n",
    "                for (int j=0; j<=c.size(); j++) {\n",
    "                    vector<int> p = c;\n",
    "                    p.insert(p.begin() + j, n);\n",
    "                    new_cache.insert(p);\n",
    "                }\n",
    "            }\n",
    "            cache = new_cache;\n",
    "        }\n",
    "        vector<vector<int>> res = {};\n",
    "        for(auto c : cache) {\n",
    "            res.push_back(c);\n",
    "        }\n",
    "        return res;\n",
    "    }\n",
    "};"
   ]
  },
  {
   "cell_type": "markdown",
   "metadata": {},
   "source": [
    "## Attempt 3 - Accepted"
   ]
  },
  {
   "cell_type": "code",
   "execution_count": null,
   "metadata": {},
   "outputs": [],
   "source": [
    "class Solution:\n",
    "    def permuteUnique(self, nums: List[int]) -> List[List[int]]:\n",
    "        # record = dict()\n",
    "        # for n in nums:\n",
    "        #     record[n] = record.get(n, 0) + 1\n",
    "        \n",
    "        res = [[]]\n",
    "        for l, n in enumerate(nums):\n",
    "            new_res = []\n",
    "            for r in res:\n",
    "                for idx in range(l):\n",
    "                    tmp = [num for num in r]\n",
    "                    tmp.insert(idx, n)\n",
    "                    new_res.append(tuple(tmp))\n",
    "                new_res.append(tuple(r + [n]))\n",
    "                # print(new_res)\n",
    "            new_res = set(new_res)\n",
    "            new_res = [list(n) for n in new_res]\n",
    "            res = new_res\n",
    "        return res"
   ]
  },
  {
   "cell_type": "markdown",
   "metadata": {},
   "source": [
    "## Lessons and Thoughts\n",
    "- Use list comprehensions will speed up the implementation\n",
    "- Attempt 2 is a C++ implementation.\n",
    "- Attempt 3 is a cached-search solution, which took ~10min to implement and debug.\n",
    "- Remember that `list` `insert` is an in-place function that returns `None`."
   ]
  }
 ],
 "metadata": {
  "kernelspec": {
   "display_name": "Python 3 (ipykernel)",
   "language": "python",
   "name": "python3"
  },
  "language_info": {
   "codemirror_mode": {
    "name": "ipython",
    "version": 3
   },
   "file_extension": ".py",
   "mimetype": "text/x-python",
   "name": "python",
   "nbconvert_exporter": "python",
   "pygments_lexer": "ipython3",
   "version": "3.9.7"
  }
 },
 "nbformat": 4,
 "nbformat_minor": 2
}
