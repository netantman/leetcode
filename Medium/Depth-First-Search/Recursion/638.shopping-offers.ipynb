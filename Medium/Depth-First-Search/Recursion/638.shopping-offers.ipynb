{
 "cells": [
  {
   "cell_type": "markdown",
   "metadata": {},
   "source": [
    "## Attempt 1 - Time Limit Exceeded"
   ]
  },
  {
   "cell_type": "code",
   "execution_count": null,
   "metadata": {},
   "outputs": [],
   "source": [
    "class Solution:\n",
    "    def shoppingOffers(self, price: List[int], special: List[List[int]], needs: List[int]) -> int:\n",
    "        def out(comb, needs,N):\n",
    "            for n in range(N):\n",
    "                if comb[n]>needs[n]:\n",
    "                    return True\n",
    "            return False\n",
    "        \n",
    "        record=dict()\n",
    "        N=len(price)\n",
    "        record[tuple([0]*N)]=0\n",
    "        q=[tuple([0]*N)]\n",
    "        while q:\n",
    "            head=q.pop(0)\n",
    "            head_px=record[tuple(head)]\n",
    "            \n",
    "            if out(head,needs,N):\n",
    "                continue\n",
    "                \n",
    "            for n in range(N):\n",
    "                tmp=[h for h in head]\n",
    "                tmp[n]=tmp[n]+1\n",
    "                if not out(tmp,needs,N):\n",
    "                    tmp_px=head_px+price[n]\n",
    "                    if tmp_px<record.get(tuple(tmp), float('inf')):\n",
    "                        q.append(tuple(tmp))\n",
    "                        record[tuple(tmp)]=tmp_px\n",
    "            \n",
    "            for s in special:\n",
    "                tmp=[h for h in head]\n",
    "                for n in range(N):\n",
    "                    tmp[n]=tmp[n]+s[n]\n",
    "                if not out(tmp,needs,N):\n",
    "                    tmp_px=head_px+s[-1]\n",
    "                    if tmp_px<record.get(tuple(tmp), float('inf')):\n",
    "                        q.append(tuple(tmp))\n",
    "                        record[tuple(tmp)]=tmp_px\n",
    "        \n",
    "        return record[tuple(needs)]"
   ]
  },
  {
   "cell_type": "markdown",
   "metadata": {},
   "source": [
    "## Attempt 2 - Accepted"
   ]
  },
  {
   "cell_type": "code",
   "execution_count": null,
   "metadata": {},
   "outputs": [],
   "source": [
    "class Solution:\n",
    "    def shoppingOffers(self, price: List[int], special: List[List[int]], needs: List[int]) -> int:\n",
    "        #将一种待购买的清单看成一种状态，用dict记录之前的状态，避免重复计算\n",
    "\n",
    "        n=len(needs)\n",
    "        memo=dict()  \n",
    "        #记录某个待购买清单的最小花费，key是needs，val是花费多少钱，注意这里key要转换为不可变的tuple类型\n",
    "\n",
    "        def isspecial(needs):  #判断是否可以购买大礼包\n",
    "            count=0\n",
    "            for i in special:\n",
    "                if all([i[j]<=needs[j] for j in range(len(i)-1)]):\n",
    "                    count+=1\n",
    "            return count\n",
    "\n",
    "        def dfs(needs):   #返回某个状态下的最小花费\n",
    "            if needs in memo:\n",
    "                return memo[needs]\n",
    "            \n",
    "            #当不能选择大礼包时，其价格就是硬买\n",
    "            if not isspecial(needs):\n",
    "                res=0\n",
    "                for i in range(len(needs)):\n",
    "                    res+=needs[i]*price[i]\n",
    "                memo[needs]=res\n",
    "                return res\n",
    "            \n",
    "            #初始化res，很坑，单买可能比大礼包便宜，我也是服了\n",
    "            res=0\n",
    "            for i in range(len(needs)):\n",
    "                res+=needs[i]*price[i]\n",
    "            \n",
    "            #遍历每个大礼包，选择花费最小的那个大礼包\n",
    "            for i in special:\n",
    "                if all([i[j]<=needs[j] for j in range(len(i)-1)]):  #说明这个礼包可选\n",
    "                    res=min(res,dfs(tuple([needs[j]-i[j] for j in range(len(i)-1)]))+i[-1])\n",
    "            memo[needs]=res\n",
    "            return res\n",
    "\n",
    "        return dfs(tuple(needs))\n",
    "        # return memo[tuple(needs)]"
   ]
  },
  {
   "cell_type": "markdown",
   "metadata": {},
   "source": [
    "## Lessons and Thoughts\n",
    "- A shortest-path type of algo (Attempt 1) is TLE.\n",
    "- The solution is from leetcode app. Essentially the idea is start from topdown and cache all intermediate results.\n",
    "- If there are only two mertrandices, one can use DP; otherwise, the iteration condition is too complicated."
   ]
  }
 ],
 "metadata": {
  "kernelspec": {
   "display_name": "Python 3",
   "language": "python",
   "name": "python3"
  },
  "language_info": {
   "codemirror_mode": {
    "name": "ipython",
    "version": 3
   },
   "file_extension": ".py",
   "mimetype": "text/x-python",
   "name": "python",
   "nbconvert_exporter": "python",
   "pygments_lexer": "ipython3",
   "version": "3.7.3"
  }
 },
 "nbformat": 4,
 "nbformat_minor": 2
}
