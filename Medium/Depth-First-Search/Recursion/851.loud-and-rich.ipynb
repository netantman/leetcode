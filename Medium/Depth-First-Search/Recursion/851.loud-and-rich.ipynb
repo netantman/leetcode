{
 "cells": [
  {
   "cell_type": "markdown",
   "metadata": {},
   "source": [
    "## Attempt 1 - Accepted"
   ]
  },
  {
   "cell_type": "code",
   "execution_count": null,
   "metadata": {},
   "outputs": [],
   "source": [
    "class Solution:\n",
    "    def loudAndRich(self, richer: List[List[int]], quiet: List[int]) -> List[int]:\n",
    "        N=len(quiet)\n",
    "        record={person:[] for person in range(N)}\n",
    "        res=[None for _ in range(N)]\n",
    "        for rich in richer:\n",
    "            record[rich[1]]+=[rich[0]]\n",
    "        \n",
    "        def dfs(person,record,res,quiet):\n",
    "            if res[person] is not None:\n",
    "                return res[person]\n",
    "            else:\n",
    "                this=person, quiet[person]\n",
    "                neighbors=record[person]\n",
    "                res[person]=min([dfs(n,record,res,quiet) for n in neighbors]+[this], key=lambda x:x[1])\n",
    "                return res[person]        \n",
    "                \n",
    "        for person in range(N):\n",
    "            if res[person] is None:\n",
    "                _ = dfs(person,record,res,quiet)\n",
    "        \n",
    "        return [r[0] for r in res]"
   ]
  },
  {
   "cell_type": "markdown",
   "metadata": {},
   "source": [
    "## Lessons and Thoughts\n",
    "- Straightforward application of DFS"
   ]
  }
 ],
 "metadata": {
  "kernelspec": {
   "display_name": "Python 3",
   "language": "python",
   "name": "python3"
  },
  "language_info": {
   "codemirror_mode": {
    "name": "ipython",
    "version": 3
   },
   "file_extension": ".py",
   "mimetype": "text/x-python",
   "name": "python",
   "nbconvert_exporter": "python",
   "pygments_lexer": "ipython3",
   "version": "3.7.3"
  }
 },
 "nbformat": 4,
 "nbformat_minor": 2
}
