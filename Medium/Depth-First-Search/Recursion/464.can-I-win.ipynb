{
 "cells": [
  {
   "cell_type": "markdown",
   "metadata": {},
   "source": [
    "## Attempt 1 - Accepted"
   ]
  },
  {
   "cell_type": "code",
   "execution_count": null,
   "metadata": {},
   "outputs": [],
   "source": [
    "class Solution:\n",
    "    def canIWin(self, maxChoosableInteger: int, desiredTotal: int) -> bool:\n",
    "        \n",
    "        def inner(pool, gap, cache):\n",
    "            if tuple(pool+[\"|\"]+[gap]) in cache:\n",
    "                return cache[tuple(pool+[\"|\"]+[gap])]\n",
    "            if sum(pool)<gap:\n",
    "                cache[tuple(pool+[\"|\"]+[gap])]=False\n",
    "                return False\n",
    "            if gap<=max(pool):\n",
    "                cache[tuple(pool+[\"|\"]+[gap])]=True\n",
    "                return True\n",
    "            \n",
    "            L=len(pool)\n",
    "            for idx in range(L):\n",
    "                p=pool[idx]\n",
    "                new_pool=pool[:idx]+pool[idx+1:]\n",
    "                new_gap=gap-p\n",
    "                if not inner(new_pool, new_gap, cache):\n",
    "                    cache[tuple(pool+[\"|\"]+[gap])]=True\n",
    "                    return True\n",
    "            \n",
    "            cache[tuple(pool+[\"|\"]+[gap])]=False\n",
    "            return False\n",
    "        \n",
    "        pool=list(range(1, maxChoosableInteger+1))\n",
    "        gap=desiredTotal\n",
    "        cache=dict()\n",
    "        res=inner(pool, gap, cache)\n",
    "        # print({k:v for k,v in cache.items() if k[-1]>=24})\n",
    "        return res"
   ]
  },
  {
   "cell_type": "markdown",
   "metadata": {},
   "source": [
    "## Attempt 3 - Accepted"
   ]
  },
  {
   "cell_type": "code",
   "execution_count": null,
   "metadata": {},
   "outputs": [],
   "source": [
    "class Solution:\n",
    "    def canIWin(self, maxChoosableInteger: int, desiredTotal: int) -> bool:\n",
    "        self.cache = dict()\n",
    "\n",
    "        def dfs(pool, distance):\n",
    "            L = len(pool)\n",
    "\n",
    "            if tuple(pool + [\"|\", distance]) in self.cache:\n",
    "                return self.cache[tuple(pool + [\"|\", distance])]\n",
    "\n",
    "            if sum(pool) < distance:\n",
    "                self.cache[tuple(pool + [\"|\"] + [distance])] = False\n",
    "                return False\n",
    "\n",
    "            if max(pool) >= distance:\n",
    "                self.cache[tuple(pool + [\"|\"] + [distance])] = True\n",
    "                return True\n",
    "            \n",
    "            for idx in range(L):\n",
    "                if not dfs(pool[:idx] + pool[idx + 1:], distance - pool[idx]):\n",
    "                    self.cache[tuple(pool + [\"|\"] + [distance])] = True\n",
    "                    return True\n",
    "            self.cache[tuple(pool + [\"|\"] + [distance])] = False\n",
    "            return False\n",
    "        \n",
    "        pool = list(range(1, maxChoosableInteger + 1))\n",
    "        return dfs(pool, desiredTotal)"
   ]
  },
  {
   "cell_type": "markdown",
   "metadata": {},
   "source": [
    "## Lessons and Thoughts\n",
    "- Cached search in DFS\n",
    "- Handle the initial/boundary condition more carefully"
   ]
  }
 ],
 "metadata": {
  "kernelspec": {
   "display_name": "Python 3 (ipykernel)",
   "language": "python",
   "name": "python3"
  },
  "language_info": {
   "codemirror_mode": {
    "name": "ipython",
    "version": 3
   },
   "file_extension": ".py",
   "mimetype": "text/x-python",
   "name": "python",
   "nbconvert_exporter": "python",
   "pygments_lexer": "ipython3",
   "version": "3.9.7"
  }
 },
 "nbformat": 4,
 "nbformat_minor": 2
}
