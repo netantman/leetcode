{
 "cells": [
  {
   "cell_type": "markdown",
   "metadata": {},
   "source": [
    "## Attempt 1 - Accepted"
   ]
  },
  {
   "cell_type": "code",
   "execution_count": null,
   "metadata": {},
   "outputs": [],
   "source": [
    "class Solution:\n",
    "    def mapper(self, sub, allowed):\n",
    "        mapped=map(lambda x:x.startswith(sub), allowed)\n",
    "        res=[a[-1] for a,m in zip(allowed, mapped) if m]\n",
    "        return res\n",
    "    def pyramidTransition(self, bottom: str, allowed: List[str]) -> bool:\n",
    "\n",
    "        if len(bottom)==2:\n",
    "            return any(map(lambda x:x.startswith(bottom), allowed))\n",
    "        else:\n",
    "            nexxt=[\"\"]\n",
    "            L=len(bottom)\n",
    "            for idx in range(L-1):\n",
    "                sub=bottom[idx:idx+2]\n",
    "                sub_next=self.mapper(sub, allowed)\n",
    "                if len(sub_next)<1:\n",
    "                    return False\n",
    "                else:\n",
    "                    new=[n+sn for n in nexxt for sn in sub_next]\n",
    "                    nexxt=new\n",
    "            for nx in nexxt:\n",
    "                if self.pyramidTransition(nx, allowed):\n",
    "                    return True\n",
    "            return False"
   ]
  },
  {
   "cell_type": "markdown",
   "metadata": {},
   "source": [
    "## Lessons and Thoughts\n",
    "- The usage of `map` instead of a `for` loop."
   ]
  }
 ],
 "metadata": {
  "kernelspec": {
   "display_name": "Python 3",
   "language": "python",
   "name": "python3"
  },
  "language_info": {
   "codemirror_mode": {
    "name": "ipython",
    "version": 3
   },
   "file_extension": ".py",
   "mimetype": "text/x-python",
   "name": "python",
   "nbconvert_exporter": "python",
   "pygments_lexer": "ipython3",
   "version": "3.7.3"
  }
 },
 "nbformat": 4,
 "nbformat_minor": 2
}
