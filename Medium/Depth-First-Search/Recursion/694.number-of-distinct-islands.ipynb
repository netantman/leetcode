{
 "cells": [
  {
   "cell_type": "markdown",
   "metadata": {},
   "source": [
    "## Attempt 1 - Accepted"
   ]
  },
  {
   "cell_type": "code",
   "execution_count": null,
   "metadata": {},
   "outputs": [],
   "source": [
    "class Solution:\n",
    "    def numDistinctIslands(self, grid: List[List[int]]) -> int:\n",
    "        R, C = len(grid), len(grid[0])\n",
    "        self.island = set()\n",
    "        self.record = set()\n",
    "        \n",
    "        def find_island(r, c):\n",
    "            if grid[r][c] < 1:\n",
    "                return\n",
    "            grid[r][c] = 0\n",
    "            self.island.add((r, c))\n",
    "            if r - 1 >= 0 and (r - 1, c) not in self.island:\n",
    "                find_island(r - 1, c)\n",
    "            if r + 1 < R and (r + 1, c) not in self.island:\n",
    "                find_island(r + 1, c)\n",
    "            if c - 1 >= 0 and (r, c - 1) not in self.island:\n",
    "                find_island(r, c - 1)\n",
    "            if c + 1 < C and (r, c + 1) not in self.island:\n",
    "                find_island(r, c + 1)\n",
    "            return\n",
    "        \n",
    "        for r in range(R):\n",
    "            for c in range(C):\n",
    "                if grid[r][c] < 1:\n",
    "                    continue\n",
    "                \n",
    "                self.island = set()\n",
    "                find_island(r, c)\n",
    "                mx, my = min(i[0] for i in self.island), min(i[1] for i in self.island)\n",
    "                curr = tuple(sorted([(i[0] - mx, i[1] - my) for i in self.island]))\n",
    "                self.record.add(curr)\n",
    "        \n",
    "        return len(self.record)"
   ]
  },
  {
   "cell_type": "markdown",
   "metadata": {},
   "source": [
    "## Lessons and Thoughts\n",
    "- A bit involved to label each type of island."
   ]
  }
 ],
 "metadata": {
  "kernelspec": {
   "display_name": "Python 3 (ipykernel)",
   "language": "python",
   "name": "python3"
  },
  "language_info": {
   "codemirror_mode": {
    "name": "ipython",
    "version": 3
   },
   "file_extension": ".py",
   "mimetype": "text/x-python",
   "name": "python",
   "nbconvert_exporter": "python",
   "pygments_lexer": "ipython3",
   "version": "3.9.7"
  }
 },
 "nbformat": 4,
 "nbformat_minor": 2
}
