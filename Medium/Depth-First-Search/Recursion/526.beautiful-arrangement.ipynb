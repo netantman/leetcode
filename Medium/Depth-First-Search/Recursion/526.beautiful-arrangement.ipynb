{
 "cells": [
  {
   "cell_type": "markdown",
   "metadata": {},
   "source": [
    "## Attempt 1 - Accepted"
   ]
  },
  {
   "cell_type": "code",
   "execution_count": null,
   "metadata": {},
   "outputs": [],
   "source": [
    "class Solution:\n",
    "    def __init__(self):\n",
    "        self.res=0\n",
    "    \n",
    "    def countArrangement(self, N: int) -> int:\n",
    "        visited=[0 for _ in range(N+1)]\n",
    "        pos=1\n",
    "        def inner(N, pos, visited):\n",
    "            if pos>N:\n",
    "                self.res+=1\n",
    "                return\n",
    "            else:\n",
    "                for n in range(1,N+1):\n",
    "                    if visited[n]<1 and (pos%n==0 or n%pos==0):\n",
    "                        visited[n]=1\n",
    "                        inner(N,pos+1,visited)\n",
    "                        visited[n]=0\n",
    "                return\n",
    "        \n",
    "        inner(N, pos, visited)\n",
    "        return self.res"
   ]
  },
  {
   "cell_type": "markdown",
   "metadata": {},
   "source": [
    "## Lessons and Thoughts\n",
    "- The recursion method is from [here](https://www.cnblogs.com/grandyang/p/6533276.html). Very neat implementation. One important trick is to use a `visited` vector to record and dis-record visited elements - using `set` may be clumsy."
   ]
  }
 ],
 "metadata": {
  "kernelspec": {
   "display_name": "Python 3",
   "language": "python",
   "name": "python3"
  },
  "language_info": {
   "codemirror_mode": {
    "name": "ipython",
    "version": 3
   },
   "file_extension": ".py",
   "mimetype": "text/x-python",
   "name": "python",
   "nbconvert_exporter": "python",
   "pygments_lexer": "ipython3",
   "version": "3.7.3"
  }
 },
 "nbformat": 4,
 "nbformat_minor": 2
}
