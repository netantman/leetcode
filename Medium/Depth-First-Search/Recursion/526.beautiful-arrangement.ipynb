{
 "cells": [
  {
   "cell_type": "markdown",
   "metadata": {},
   "source": [
    "## Attempt 1 - Accepted"
   ]
  },
  {
   "cell_type": "code",
   "execution_count": null,
   "metadata": {},
   "outputs": [],
   "source": [
    "class Solution:\n",
    "    def __init__(self):\n",
    "        self.res=0\n",
    "    \n",
    "    def countArrangement(self, N: int) -> int:\n",
    "        visited=[0 for _ in range(N+1)]\n",
    "        pos=1\n",
    "        def inner(N, pos, visited):\n",
    "            if pos>N:\n",
    "                self.res+=1\n",
    "                return\n",
    "            else:\n",
    "                for n in range(1,N+1):\n",
    "                    if visited[n]<1 and (pos%n==0 or n%pos==0):\n",
    "                        visited[n]=1\n",
    "                        inner(N,pos+1,visited)\n",
    "                        visited[n]=0\n",
    "                return\n",
    "        \n",
    "        inner(N, pos, visited)\n",
    "        return self.res"
   ]
  },
  {
   "cell_type": "markdown",
   "metadata": {},
   "source": [
    "## Attempt 2 - Accepted"
   ]
  },
  {
   "cell_type": "code",
   "execution_count": null,
   "metadata": {},
   "outputs": [],
   "source": [
    "class Solution:\n",
    "    def countArrangement(self, n: int) -> int:\n",
    "\n",
    "        def dfs(curr, k):\n",
    "            if k == n + 1:\n",
    "                return 1\n",
    "            cnt = 0\n",
    "            tmp = curr.split(\",\")\n",
    "            for idx in range(1, n + 1):\n",
    "                if tmp[idx - 1] != '.':\n",
    "                    continue\n",
    "                if (idx < k) and (k % idx > 0):\n",
    "                    continue\n",
    "                if (idx > k) and (idx % k > 0):\n",
    "                    continue\n",
    "                \n",
    "                tmp2 = [c for c in tmp]\n",
    "                tmp2[idx - 1] = str(k)\n",
    "                cnt += dfs(\",\".join(tmp2), k + 1)\n",
    "            return cnt\n",
    "        \n",
    "        curr = [\".\" for _ in range(n)]\n",
    "        curr = \",\".join(curr)\n",
    "        return dfs(curr, 1)"
   ]
  },
  {
   "cell_type": "markdown",
   "metadata": {},
   "source": [
    "## Lessons and Thoughts\n",
    "- The recursion method is from [here](https://www.cnblogs.com/grandyang/p/6533276.html). Very neat implementation. One important trick is to use a `visited` vector to record and dis-record visited elements - using `set` may be clumsy.\n",
    "- Attempt 2 is also a recursion method, "
   ]
  }
 ],
 "metadata": {
  "kernelspec": {
   "display_name": "Python 3 (ipykernel)",
   "language": "python",
   "name": "python3"
  },
  "language_info": {
   "codemirror_mode": {
    "name": "ipython",
    "version": 3
   },
   "file_extension": ".py",
   "mimetype": "text/x-python",
   "name": "python",
   "nbconvert_exporter": "python",
   "pygments_lexer": "ipython3",
   "version": "3.9.7"
  }
 },
 "nbformat": 4,
 "nbformat_minor": 2
}
