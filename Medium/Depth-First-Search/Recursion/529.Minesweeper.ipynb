{
 "cells": [
  {
   "cell_type": "markdown",
   "metadata": {},
   "source": [
    "## Attempt 1 - Time Limit Exceeded"
   ]
  },
  {
   "cell_type": "code",
   "execution_count": null,
   "metadata": {},
   "outputs": [],
   "source": [
    "class Solution:\n",
    "    def updateBoard(self, board: List[List[str]], click: List[int]) -> List[List[str]]:\n",
    "        if len(board)<1 or len(board[0])<1:\n",
    "            return board\n",
    "        \n",
    "        numRows=len(board)\n",
    "        numCols=len(board[0])\n",
    "        def get_neighbors(r,c,numRows,numCols):\n",
    "            neighbors=[]\n",
    "            if r-1>=0:\n",
    "                neighbors.append([r-1,c])\n",
    "            if c-1>=0:\n",
    "                neighbors.append([r,c-1])\n",
    "            if r+1<numRows:\n",
    "                neighbors.append([r+1,c])\n",
    "            if c+1<numCols:\n",
    "                neighbors.append([r,c+1])\n",
    "            if r-1>=0 and c-1>=0:\n",
    "                neighbors.append([r-1,c-1])\n",
    "            if r-1>=0 and c+1<numCols:\n",
    "                neighbors.append([r-1,c+1])\n",
    "            if r+1<numRows and c-1>=0:\n",
    "                neighbors.append([r+1,c-1])\n",
    "            if r+1<numRows and c+1<numCols:\n",
    "                neighbors.append([r+1,c+1])\n",
    "            return neighbors\n",
    "            \n",
    "        res=[[board[r][c] for c in range(numCols)] for r in range(numRows)]\n",
    "        if board[click[0]][click[1]]=='M':\n",
    "            res[click[0]][click[1]]='X'\n",
    "            return res\n",
    "        \n",
    "        q=[click]\n",
    "        while len(q)>0:\n",
    "            head=q.pop(0)\n",
    "            neighbors=get_neighbors(head[0], head[1], numRows, numCols)\n",
    "            mines=0\n",
    "            for n in neighbors:\n",
    "                if board[n[0]][n[1]]==\"M\":\n",
    "                    mines+=1\n",
    "            if mines>0:\n",
    "                res[head[0]][head[1]]=str(mines)\n",
    "            else:\n",
    "                res[head[0]][head[1]]='B'\n",
    "                q=q+[n for n in neighbors if res[n[0]][n[1]] in {'E', 'M'}]\n",
    "        \n",
    "        return res"
   ]
  },
  {
   "cell_type": "markdown",
   "metadata": {},
   "source": [
    "## Attempt 2 - Accepted"
   ]
  },
  {
   "cell_type": "code",
   "execution_count": null,
   "metadata": {},
   "outputs": [],
   "source": [
    "class Solution:\n",
    "    def updateBoard(self, board: List[List[str]], click: List[int]) -> List[List[str]]:\n",
    "        if len(board)<1 or len(board[0])<1:\n",
    "            return board\n",
    "        \n",
    "        numRows=len(board)\n",
    "        numCols=len(board[0])\n",
    "        def get_neighbors(r,c,numRows,numCols,board):\n",
    "            neighbors=[]\n",
    "            if r-1>=0 and board[r-1][c] in {'M', 'E'}:\n",
    "                neighbors.append([r-1,c])\n",
    "            if c-1>=0 and board[r][c-1] in {'M', 'E'}:\n",
    "                neighbors.append([r,c-1])\n",
    "            if r+1<numRows and board[r+1][c] in {'M', 'E'}:\n",
    "                neighbors.append([r+1,c])\n",
    "            if c+1<numCols and board[r][c+1] in {'M', 'E'}:\n",
    "                neighbors.append([r,c+1])\n",
    "            if r-1>=0 and c-1>=0 and board[r-1][c-1] in {'M', 'E'}:\n",
    "                neighbors.append([r-1,c-1])\n",
    "            if r-1>=0 and c+1<numCols and board[r-1][c+1] in {'M', 'E'}:\n",
    "                neighbors.append([r-1,c+1])\n",
    "            if r+1<numRows and c-1>=0 and board[r+1][c-1] in {'M', 'E'}:\n",
    "                neighbors.append([r+1,c-1])\n",
    "            if r+1<numRows and c+1<numCols and board[r+1][c+1] in {'M', 'E'}:\n",
    "                neighbors.append([r+1,c+1])\n",
    "            return neighbors\n",
    "            \n",
    "        if board[click[0]][click[1]]=='M':\n",
    "            board[click[0]][click[1]]='X'\n",
    "            return board\n",
    "        \n",
    "       \n",
    "        neighbors=get_neighbors(click[0], click[1], numRows, numCols, board)\n",
    "        \n",
    "        \n",
    "        mines=0\n",
    "        for n in neighbors:\n",
    "            if board[n[0]][n[1]]==\"M\":\n",
    "                mines+=1\n",
    "        \n",
    "        if mines>0:\n",
    "            board[click[0]][click[1]]=str(mines)\n",
    "        else:\n",
    "            board[click[0]][click[1]]='B'\n",
    "            for n in neighbors:\n",
    "                _ = self.updateBoard(board, n)\n",
    "        \n",
    "        return board"
   ]
  },
  {
   "cell_type": "markdown",
   "metadata": {},
   "source": [
    "## Lessons and Thoughts\n",
    "- Another example where BFS TLE, while DFS accepted\n",
    "- Use recursion to write DFS is indeed easier."
   ]
  }
 ],
 "metadata": {
  "kernelspec": {
   "display_name": "Python 3",
   "language": "python",
   "name": "python3"
  },
  "language_info": {
   "codemirror_mode": {
    "name": "ipython",
    "version": 3
   },
   "file_extension": ".py",
   "mimetype": "text/x-python",
   "name": "python",
   "nbconvert_exporter": "python",
   "pygments_lexer": "ipython3",
   "version": "3.7.3"
  }
 },
 "nbformat": 4,
 "nbformat_minor": 2
}
