{
 "cells": [
  {
   "cell_type": "markdown",
   "metadata": {},
   "source": [
    "## Attempt 1 - Wrong Answer"
   ]
  },
  {
   "cell_type": "code",
   "execution_count": null,
   "metadata": {},
   "outputs": [],
   "source": [
    "class Solution:\n",
    "    def exist(self, board: List[List[str]], word: str) -> bool:\n",
    "        if len(board)<1:\n",
    "            return False\n",
    "        rows=len(board)\n",
    "        cols=len(board[0])\n",
    "        queue=[]\n",
    "        for r in range(rows):\n",
    "            for c in range(cols):\n",
    "                if board[r][c]==word[0]:\n",
    "                    queue.append([(r,c)])\n",
    "        \n",
    "        L=len(word)\n",
    "        while len(queue)>0:\n",
    "            sub=queue[0]\n",
    "            queue=queue[1:]\n",
    "            l=len(sub)\n",
    "            if l==L:\n",
    "                return True\n",
    "            else:\n",
    "                prefix=sub[:-1]\n",
    "                r,c=sub[-1]\n",
    "                target=word[l]\n",
    "                if (r-1>=0) and (board[r-1][c]==target) and ((r-1,c) not in prefix):\n",
    "                    queue.append(sub+[(r-1,c)])\n",
    "                if (c-1>=0) and (board[r][c-1]==target) and ((r,c-1) not in prefix):\n",
    "                    queue.append(sub+[(r,c-1)])\n",
    "                if (r+1<=rows-1) and (board[r+1][c]==target) and ((r+1,c) not in prefix):\n",
    "                    queue.append(sub+[(r-1,c)])   ## --> typo: be careful when you copy!!\n",
    "                if (c+1<=cols-1) and (board[r][c+1]==target) and ((r,c+1) not in prefix):\n",
    "                    queue.append(sub+[(r,c+1)])\n",
    "        \n",
    "        return False"
   ]
  },
  {
   "cell_type": "markdown",
   "metadata": {},
   "source": [
    "## Attempt 2 - Time Limit Exceeded, BFS seems very slow in some cases"
   ]
  },
  {
   "cell_type": "code",
   "execution_count": null,
   "metadata": {},
   "outputs": [],
   "source": [
    "class Solution:\n",
    "    def exist(self, board: List[List[str]], word: str) -> bool:\n",
    "        if len(board)<1:\n",
    "            return False\n",
    "        rows=len(board)\n",
    "        cols=len(board[0])\n",
    "        queue=[]\n",
    "        for r in range(rows):\n",
    "            for c in range(cols):\n",
    "                if board[r][c]==word[0]:\n",
    "                    queue.append([(r,c)])\n",
    "        \n",
    "        L=len(word)\n",
    "        while len(queue)>0:\n",
    "            sub=queue[0]\n",
    "            queue=queue[1:]\n",
    "            l=len(sub)\n",
    "            if l==L:\n",
    "                return True\n",
    "            else:\n",
    "                prefix=sub[:-1]\n",
    "                r,c=sub[-1]\n",
    "                target=word[l]\n",
    "                if (r-1>=0) and (board[r-1][c]==target) and ((r-1,c) not in prefix):\n",
    "                    queue.append(sub+[(r-1,c)])\n",
    "                if (c-1>=0) and (board[r][c-1]==target) and ((r,c-1) not in prefix):\n",
    "                    queue.append(sub+[(r,c-1)])\n",
    "                if (r+1<=rows-1) and (board[r+1][c]==target) and ((r+1,c) not in prefix):\n",
    "                    queue.append(sub+[(r+1,c)])\n",
    "                if (c+1<=cols-1) and (board[r][c+1]==target) and ((r,c+1) not in prefix):\n",
    "                    queue.append(sub+[(r,c+1)])\n",
    "        \n",
    "        return False"
   ]
  },
  {
   "cell_type": "markdown",
   "metadata": {},
   "source": [
    "## Attempt 3 - First attempt in DFS. Not implemented using recursion but a stack, which makes tracking the visited very challenging..."
   ]
  },
  {
   "cell_type": "code",
   "execution_count": null,
   "metadata": {},
   "outputs": [],
   "source": [
    "class Solution:\n",
    "    def exist(self, board: List[List[str]], word: str) -> bool:\n",
    "        if len(board)<1:\n",
    "            return False\n",
    "        rows=len(board)\n",
    "        cols=len(board[0])\n",
    "        L=len(word)\n",
    "        for r in range(rows):\n",
    "            for c in range(cols):\n",
    "                stack=[]\n",
    "                if board[r][c]==word[0]:\n",
    "                    stack.append((r,c))\n",
    "                    while len(stack)>0:\n",
    "                        l=len(stack)\n",
    "                        if l==L:\n",
    "                            return True\n",
    "                        else:\n",
    "                            last=stack[-1]\n",
    "                            r,c=last\n",
    "                            target=word[l]\n",
    "                            if (r-1>=0) and (board[r-1][c]==target) and ((r-1,c) not in stack):\n",
    "                                stack.append((r-1,c))\n",
    "                            elif (c-1>=0) and (board[r][c-1]==target) and ((r,c-1) not in stack):\n",
    "                                stack.append((r,c-1))\n",
    "                            elif (r+1<=rows-1) and (board[r+1][c]==target) and ((r+1,c) not in stack):\n",
    "                                stack.append((r+1,c))\n",
    "                            elif (c+1<=cols-1) and (board[r][c+1]==target) and ((r,c+1) not in stack):\n",
    "                                stack.append((r,c+1))\n",
    "                            else:\n",
    "                                stack=stack[:-1]\n",
    "        \n",
    "        return False"
   ]
  },
  {
   "cell_type": "markdown",
   "metadata": {},
   "source": [
    "## Attempt 4 - first implementation of DFS using stack, but still wrong answer..."
   ]
  },
  {
   "cell_type": "code",
   "execution_count": 22,
   "metadata": {},
   "outputs": [],
   "source": [
    "class Solution:\n",
    "    def exist(self, board: List[List[str]], word: str) -> bool:\n",
    "        if len(board)<1:\n",
    "            return False\n",
    "        rows=len(board)\n",
    "        cols=len(board[0])\n",
    "        L=len(word)\n",
    "        \n",
    "        def dfs(r, c, l, stack):\n",
    "            if l==L-1:\n",
    "                if board[r][c]==word[-1]:\n",
    "                    return True\n",
    "                else:\n",
    "                    return False\n",
    "            else:\n",
    "                if board[r][c]!=word[l]:\n",
    "                    return False\n",
    "                else:\n",
    "                    if (r-1>=0) and ((r-1, c) not in stack) and dfs(r-1, c, l+1, stack+[(r,c)]):\n",
    "                        return True\n",
    "                    if (c-1>=0) and ((r, c-1) not in stack) and dfs(r, c-1, l+1, stack+[(r,c)]):\n",
    "                        return True\n",
    "                    if (c+1<=cols-1) and ((r, c+1) not in stack) and dfs(r, c+1, l+1, stack+[(r,c)]):\n",
    "                        return True\n",
    "                    if (r+1<rows-1) and ((r+1, c) not in stack) and dfs(r+1, c, l+1, stack+[(r,c)]):  ## --> because there is a typo here...\n",
    "                        return True\n",
    "                    return False\n",
    "                        \n",
    "                    \n",
    "        \n",
    "        for row in range(rows):\n",
    "            for col in range(cols):\n",
    "                stack=[]\n",
    "                if dfs(row, col, 0, stack):\n",
    "                    return True\n",
    "        \n",
    "        return False"
   ]
  },
  {
   "cell_type": "markdown",
   "metadata": {},
   "source": [
    "## Attempt 5 - Accepted"
   ]
  },
  {
   "cell_type": "code",
   "execution_count": null,
   "metadata": {},
   "outputs": [],
   "source": [
    "class Solution:\n",
    "    def exist(self, board: List[List[str]], word: str) -> bool:\n",
    "        if len(board)<1:\n",
    "            return False\n",
    "        rows=len(board)\n",
    "        cols=len(board[0])\n",
    "        L=len(word)\n",
    "        \n",
    "        def dfs(r, c, l, stack):\n",
    "            if l==L-1:\n",
    "                if board[r][c]==word[-1]:\n",
    "                    return True\n",
    "                else:\n",
    "                    return False\n",
    "            else:\n",
    "                if board[r][c]!=word[l]:\n",
    "                    return False\n",
    "                else:\n",
    "                    if (r-1>=0) and ((r-1, c) not in stack) and dfs(r-1, c, l+1, stack+[(r,c)]):\n",
    "                        return True\n",
    "                    if (c-1>=0) and ((r, c-1) not in stack) and dfs(r, c-1, l+1, stack+[(r,c)]):\n",
    "                        return True\n",
    "                    if (c+1<=cols-1) and ((r, c+1) not in stack) and dfs(r, c+1, l+1, stack+[(r,c)]):\n",
    "                        return True\n",
    "                    if (r+1<=rows-1) and ((r+1, c) not in stack) and dfs(r+1, c, l+1, stack+[(r,c)]):\n",
    "                        return True\n",
    "                    return False         \n",
    "                    \n",
    "        \n",
    "        for row in range(rows):\n",
    "            for col in range(cols):\n",
    "                stack=[]\n",
    "                if dfs(row, col, 0, stack):\n",
    "                    return True\n",
    "        \n",
    "        return False"
   ]
  },
  {
   "cell_type": "markdown",
   "metadata": {},
   "source": [
    "## Lessons and Thoughts\n",
    "- It is hard to implement DFS without using recursion, espcially when you need to keep track of node visited.\n",
    "- When you are stuck with run case, try to look at the cases which fail and compare them to cases which succeed. This can inform which part of code is wrong."
   ]
  }
 ],
 "metadata": {
  "kernelspec": {
   "display_name": "Python 3",
   "language": "python",
   "name": "python3"
  },
  "language_info": {
   "codemirror_mode": {
    "name": "ipython",
    "version": 3
   },
   "file_extension": ".py",
   "mimetype": "text/x-python",
   "name": "python",
   "nbconvert_exporter": "python",
   "pygments_lexer": "ipython3",
   "version": "3.7.3"
  }
 },
 "nbformat": 4,
 "nbformat_minor": 2
}
