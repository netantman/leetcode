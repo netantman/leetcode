{
 "cells": [
  {
   "cell_type": "markdown",
   "metadata": {},
   "source": [
    "## Attempt 1 - Accepted"
   ]
  },
  {
   "cell_type": "code",
   "execution_count": null,
   "metadata": {},
   "outputs": [],
   "source": [
    "class Solution:\n",
    "    def constructDistancedSequence(self, n: int) -> List[int]:\n",
    "        d = {k: False for k in range(1, n + 1)}\n",
    "        res = [None for _ in range(2 * n - 1)]\n",
    "        def inner(d, res):\n",
    "            for idx in range(2 * n - 1):\n",
    "                if res[idx] is None:\n",
    "                    break\n",
    "            else:             \n",
    "                return True, res\n",
    "            \n",
    "            for k in range(n, 0, -1):\n",
    "                if (not d[k]):\n",
    "                    if k == 1 or (idx + k < 2 * n - 1 and res[idx + k] is None): ## --> note index might be out of range!\n",
    "                        d2 = {k: v for k, v in d.items() }\n",
    "                        d2[k] = True\n",
    "                        res2 = [r for r in res]\n",
    "                        if k != 1: \n",
    "                            res2[idx], res2[idx + k] = k, k\n",
    "                        else: ## --> special case of 1\n",
    "                            res2[idx] = k\n",
    "                        tmp = inner(d2, res2)\n",
    "                        if tmp[0]:\n",
    "                            return True, tmp[1]\n",
    "            return False, None\n",
    "        \n",
    "        _, res = inner(d, res)\n",
    "        return res"
   ]
  },
  {
   "cell_type": "markdown",
   "metadata": {},
   "source": [
    "## Lessons and Thoughts\n",
    "- The traps are: (1) index out of range; (2) special case of 1; (3) associative type passing probably better to do deep copy."
   ]
  }
 ],
 "metadata": {
  "kernelspec": {
   "display_name": "Python 3",
   "language": "python",
   "name": "python3"
  },
  "language_info": {
   "codemirror_mode": {
    "name": "ipython",
    "version": 3
   },
   "file_extension": ".py",
   "mimetype": "text/x-python",
   "name": "python",
   "nbconvert_exporter": "python",
   "pygments_lexer": "ipython3",
   "version": "3.7.3"
  }
 },
 "nbformat": 4,
 "nbformat_minor": 2
}
