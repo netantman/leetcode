{
 "cells": [
  {
   "cell_type": "markdown",
   "metadata": {},
   "source": [
    "## Attempt 1 - Wrong Answer"
   ]
  },
  {
   "cell_type": "markdown",
   "metadata": {},
   "source": [
    "DFS finding all islands as well as edge islands does not work."
   ]
  },
  {
   "cell_type": "code",
   "execution_count": null,
   "metadata": {},
   "outputs": [],
   "source": [
    "class Solution:\n",
    "    def closedIsland(self, grid: List[List[int]]) -> int:\n",
    "        M,N=len(grid),len(grid[0])\n",
    "        self.res=[[0 for n in range(N)] for m in range(M)]\n",
    "        \n",
    "        def dfs(m,n):\n",
    "            if m-1<0 or n-1<0 or m+1>=M or n+1>=N:\n",
    "                self.res[m][n]=3\n",
    "                return\n",
    "            else:\n",
    "                self.res[m][n]=1\n",
    "            if grid[m-1][n]<1 and self.res[m-1][n]<1:\n",
    "                dfs(m-1,n)\n",
    "                if self.res[m-1][n]==3:\n",
    "                    self.res[m][n]==3\n",
    "                    return\n",
    "            if grid[m+1][n]<1 and self.res[m+1][n]<1:\n",
    "                dfs(m+1,n)\n",
    "                if self.res[m+1][n]==3:\n",
    "                    self.res[m][n]==3\n",
    "                    return\n",
    "            if grid[m][n-1]<1 and self.res[m][n-1]<1:\n",
    "                dfs(m,n-1)\n",
    "                if self.res[m][n-1]==3:\n",
    "                    self.res[m][n]==3\n",
    "                    return\n",
    "            if grid[m][n+1]<1 and self.res[m][n+1]<1:\n",
    "                dfs(m,n+1)\n",
    "                if self.res[m][n+1]==3:\n",
    "                    self.res[m][n+1]==3\n",
    "                    return\n",
    "            self.res[m][n]=2\n",
    "            return\n",
    "        \n",
    "        cnt=0\n",
    "        for m in range(M):\n",
    "            for n in range(N):\n",
    "                if grid[m][n]<1 and self.res[m][n]<1:\n",
    "                    dfs(m,n)\n",
    "                    if self.res[m][n]==2:\n",
    "                        cnt+=1\n",
    "        return cnt"
   ]
  },
  {
   "cell_type": "markdown",
   "metadata": {},
   "source": [
    "## Attempt 2 - Accepted"
   ]
  },
  {
   "cell_type": "code",
   "execution_count": null,
   "metadata": {},
   "outputs": [],
   "source": [
    "class Solution:\n",
    "    def closedIsland(self, grid: List[List[int]]) -> int:\n",
    "        M,N=len(grid),len(grid[0])\n",
    "        self.res=[[0 for n in range(N)] for m in range(M)]\n",
    "        \n",
    "        def dfs1(m,n):\n",
    "            self.res[m][n]=3\n",
    "            if m-1>=0 and grid[m-1][n]<1 and self.res[m-1][n]<1:\n",
    "                dfs1(m-1,n)\n",
    "            if m+1<M and grid[m+1][n]<1 and self.res[m+1][n]<1:\n",
    "                dfs1(m+1,n)\n",
    "            if n-1>=0 and grid[m][n-1]<1 and self.res[m][n-1]<1:\n",
    "                dfs1(m,n-1)\n",
    "            if n+1<N and grid[m][n+1]<1 and self.res[m][n+1]<1:\n",
    "                dfs1(m,n+1)\n",
    "            return\n",
    "        \n",
    "        def dfs2(m,n):\n",
    "            self.res[m][n]=1\n",
    "            if m-1>=0 and grid[m-1][n]<1 and self.res[m-1][n]<1:\n",
    "                dfs2(m-1,n)\n",
    "            if m+1<M and grid[m+1][n]<1 and self.res[m+1][n]<1:\n",
    "                dfs2(m+1,n)\n",
    "            if n-1>=0 and grid[m][n-1]<1 and self.res[m][n-1]<1:\n",
    "                dfs2(m,n-1)\n",
    "            if n+1<N and grid[m][n+1]<1 and self.res[m][n+1]<1:\n",
    "                dfs2(m,n+1)\n",
    "            self.res[m][n]=2\n",
    "            return\n",
    "        \n",
    "        \n",
    "        for m in range(M):\n",
    "            for n in [0,N-1]:\n",
    "                if grid[m][n]<1:\n",
    "                    dfs1(m,n)\n",
    "        for m in [0,M-1]:\n",
    "            for n in range(N):\n",
    "                if grid[m][n]<1:\n",
    "                    dfs1(m,n)\n",
    "        \n",
    "        cnt=0\n",
    "        for m in range(M):\n",
    "            for n in range(N):\n",
    "                if grid[m][n]<1 and self.res[m][n]<1:\n",
    "                    dfs2(m,n)\n",
    "                    cnt+=1\n",
    "        return cnt"
   ]
  },
  {
   "cell_type": "markdown",
   "metadata": {},
   "source": [
    "## Lessons and Thoughts\n",
    "- Similar island problem as before, but edge cases not considered islands poses tricky arrangements.\n",
    "- Easier to deal with the edge islands first"
   ]
  }
 ],
 "metadata": {
  "kernelspec": {
   "display_name": "Python 3",
   "language": "python",
   "name": "python3"
  },
  "language_info": {
   "codemirror_mode": {
    "name": "ipython",
    "version": 3
   },
   "file_extension": ".py",
   "mimetype": "text/x-python",
   "name": "python",
   "nbconvert_exporter": "python",
   "pygments_lexer": "ipython3",
   "version": "3.7.3"
  }
 },
 "nbformat": 4,
 "nbformat_minor": 2
}
