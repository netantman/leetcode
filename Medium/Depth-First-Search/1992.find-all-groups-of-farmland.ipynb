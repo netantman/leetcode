{
 "cells": [
  {
   "cell_type": "markdown",
   "metadata": {},
   "source": [
    "## Attempt 1 - Accepted"
   ]
  },
  {
   "cell_type": "code",
   "execution_count": null,
   "metadata": {},
   "outputs": [],
   "source": [
    "class Solution:\n",
    "    def findFarmland(self, land: List[List[int]]) -> List[List[int]]:\n",
    "        R, C = len(land), len(land[0])\n",
    "        def track_farm(r, c):\n",
    "            rr = r\n",
    "            while rr < R:\n",
    "                if land[rr][c] > 0:\n",
    "                    rr += 1\n",
    "                else:\n",
    "                    break\n",
    "            \n",
    "            cc = c\n",
    "            while cc < C:\n",
    "                if land[r][cc] > 0:\n",
    "                    cc += 1\n",
    "                else:\n",
    "                    break\n",
    "            \n",
    "            for m in range(r, rr):\n",
    "                for n in range(c, cc):\n",
    "                    land[m][n] = 0\n",
    "            \n",
    "            return [r, c, rr - 1, cc - 1]\n",
    "        \n",
    "        res = []\n",
    "        for r in range(R):\n",
    "            for c in range(C):\n",
    "                if land[r][c] > 0:\n",
    "                    res.append(track_farm(r, c))\n",
    "        \n",
    "        return res"
   ]
  },
  {
   "cell_type": "markdown",
   "metadata": {},
   "source": [
    "## Lessons and Thoughts\n",
    "- Does not feel very DFS though."
   ]
  }
 ],
 "metadata": {
  "kernelspec": {
   "display_name": "Python 3",
   "language": "python",
   "name": "python3"
  },
  "language_info": {
   "codemirror_mode": {
    "name": "ipython",
    "version": 3
   },
   "file_extension": ".py",
   "mimetype": "text/x-python",
   "name": "python",
   "nbconvert_exporter": "python",
   "pygments_lexer": "ipython3",
   "version": "3.7.3"
  }
 },
 "nbformat": 4,
 "nbformat_minor": 2
}
