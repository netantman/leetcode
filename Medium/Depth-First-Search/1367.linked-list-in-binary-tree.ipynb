{
 "cells": [
  {
   "cell_type": "markdown",
   "metadata": {},
   "source": [
    "## Attempt 1 - Time Limit Exceeded"
   ]
  },
  {
   "cell_type": "code",
   "execution_count": null,
   "metadata": {},
   "outputs": [],
   "source": [
    "# Definition for singly-linked list.\n",
    "# class ListNode:\n",
    "#     def __init__(self, val=0, next=None):\n",
    "#         self.val = val\n",
    "#         self.next = next\n",
    "# Definition for a binary tree node.\n",
    "# class TreeNode:\n",
    "#     def __init__(self, val=0, left=None, right=None):\n",
    "#         self.val = val\n",
    "#         self.left = left\n",
    "#         self.right = right\n",
    "class Solution:\n",
    "    def isSubPath(self, head: ListNode, root: TreeNode) -> bool:\n",
    "        self.path=[]\n",
    "        curr=head\n",
    "        while curr is not None:\n",
    "            self.path.append(curr.val)\n",
    "            curr=curr.next\n",
    "        self.L=len(self.path)\n",
    "        \n",
    "        def dfs(root, idx):\n",
    "            if idx >= self.L:\n",
    "                return True\n",
    "            if root is None:\n",
    "                return False\n",
    "            if root.val==self.path[idx]:\n",
    "                if (dfs(root.left, idx+1) or dfs(root.right, idx+1)):\n",
    "                    return True\n",
    "            if root.val==self.path[0]:\n",
    "                if (dfs(root.left, 1) or dfs(root.right, 1)):\n",
    "                    return True\n",
    "            return dfs(root.left, 0) or dfs(root.right, 0)\n",
    "        \n",
    "        return dfs(root, 0)\n",
    "        "
   ]
  },
  {
   "cell_type": "markdown",
   "metadata": {},
   "source": [
    "## Attempt 2 - Wrong Answer"
   ]
  },
  {
   "cell_type": "code",
   "execution_count": null,
   "metadata": {},
   "outputs": [],
   "source": [
    "# Definition for singly-linked list.\n",
    "# class ListNode:\n",
    "#     def __init__(self, val=0, next=None):\n",
    "#         self.val = val\n",
    "#         self.next = next\n",
    "# Definition for a binary tree node.\n",
    "# class TreeNode:\n",
    "#     def __init__(self, val=0, left=None, right=None):\n",
    "#         self.val = val\n",
    "#         self.left = left\n",
    "#         self.right = right\n",
    "class Solution:\n",
    "    def isSubPath(self, head: ListNode, root: TreeNode) -> bool:\n",
    "        self.path=[]\n",
    "        curr=head\n",
    "        while curr is not None:\n",
    "            self.path.append(curr.val)\n",
    "            curr=curr.next\n",
    "        self.L=len(self.path)\n",
    "        \n",
    "        def dfs(root, idx):\n",
    "            if idx >= self.L:\n",
    "                return True\n",
    "            if root is None:\n",
    "                return False\n",
    "            if root.val!=self.path[idx]:\n",
    "                return False\n",
    "            return (dfs(root.left, idx+1) or dfs(root.right, idx+1))\n",
    "        \n",
    "        if dfs(root, 0):\n",
    "            return True\n",
    "        return dfs(root.left, 0) or dfs(root.right, 0)"
   ]
  },
  {
   "cell_type": "markdown",
   "metadata": {},
   "source": [
    "## Attempt 3 - Accepted"
   ]
  },
  {
   "cell_type": "code",
   "execution_count": null,
   "metadata": {},
   "outputs": [],
   "source": [
    "# Definition for singly-linked list.\n",
    "# class ListNode:\n",
    "#     def __init__(self, val=0, next=None):\n",
    "#         self.val = val\n",
    "#         self.next = next\n",
    "# Definition for a binary tree node.\n",
    "# class TreeNode:\n",
    "#     def __init__(self, val=0, left=None, right=None):\n",
    "#         self.val = val\n",
    "#         self.left = left\n",
    "#         self.right = right\n",
    "class Solution:\n",
    "    def __init__(self):\n",
    "        self.path=[]\n",
    "        self.L=0\n",
    "        \n",
    "    def dfs(self, root, idx):\n",
    "        if idx >= self.L:\n",
    "            return True\n",
    "        if root is None:\n",
    "            return False\n",
    "        if root.val!=self.path[idx]:\n",
    "            return False\n",
    "        return (self.dfs(root.left, idx+1) or self.dfs(root.right, idx+1))\n",
    "    \n",
    "    def isSubPath(self, head: ListNode, root: TreeNode) -> bool:\n",
    "        if self.L<1:\n",
    "            curr=head\n",
    "            while curr is not None:\n",
    "                self.path.append(curr.val)\n",
    "                curr=curr.next\n",
    "            self.L=len(self.path)\n",
    "        \n",
    "        if root is None:\n",
    "            return False\n",
    "        if self.dfs(root, 0):\n",
    "            return True\n",
    "        return self.isSubPath(head, root.left) or self.isSubPath(head, root.right)"
   ]
  },
  {
   "cell_type": "markdown",
   "metadata": {},
   "source": [
    "## Lessons and Thoughts\n",
    "- Compare Attempts 1 and 2, the lesson is probably that Attempt 1 is too 'coupled', i.e. trying to do several things together."
   ]
  }
 ],
 "metadata": {
  "kernelspec": {
   "display_name": "Python 3",
   "language": "python",
   "name": "python3"
  },
  "language_info": {
   "codemirror_mode": {
    "name": "ipython",
    "version": 3
   },
   "file_extension": ".py",
   "mimetype": "text/x-python",
   "name": "python",
   "nbconvert_exporter": "python",
   "pygments_lexer": "ipython3",
   "version": "3.7.3"
  }
 },
 "nbformat": 4,
 "nbformat_minor": 2
}
