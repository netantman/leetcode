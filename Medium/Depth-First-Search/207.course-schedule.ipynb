{
 "cells": [
  {
   "cell_type": "markdown",
   "metadata": {},
   "source": [
    "## Attempt 1 - Runtime Error"
   ]
  },
  {
   "cell_type": "code",
   "execution_count": null,
   "metadata": {},
   "outputs": [],
   "source": [
    "class Solution:\n",
    "    def canFinish(self, numCourses: int, prerequisites: List[List[int]]) -> bool:\n",
    "        edge=dict()\n",
    "        for pair in prerequisites:  ## --> forget to handle the edge case where there is no prerequisites\n",
    "            c, p=pair\n",
    "            if c not in edge:\n",
    "                edge[c]=set()\n",
    "            edge[c].add(p)\n",
    "        \n",
    "        visited=set()\n",
    "        for c in range(numCourses):\n",
    "            if c not in visited:\n",
    "                stack=[c]\n",
    "                checking=set()\n",
    "                while len(stack)>0:\n",
    "                    head=stack[-1]\n",
    "                    stack=stack[:-1]\n",
    "                    checking.add(head)\n",
    "                    if p in edge:  ## --> edge may not have all course as keys!\n",
    "                        for p in edge[head]:\n",
    "                            if p in checking:\n",
    "                                return False\n",
    "                            else:\n",
    "                                stack.append(p)\n",
    "                visited|=checking\n",
    "        return True"
   ]
  },
  {
   "cell_type": "markdown",
   "metadata": {},
   "source": [
    "## Attempt 2 - Wrong Answer: this does not handle the case where two courses have the same prerequisite"
   ]
  },
  {
   "cell_type": "code",
   "execution_count": null,
   "metadata": {},
   "outputs": [],
   "source": [
    "class Solution:\n",
    "    def canFinish(self, numCourses: int, prerequisites: List[List[int]]) -> bool:\n",
    "        if len(prerequisites)<=1:\n",
    "            return True\n",
    "        edge=dict()\n",
    "        for pair in prerequisites:\n",
    "            c, p=pair\n",
    "            if c not in edge:\n",
    "                edge[c]=set()\n",
    "            edge[c].add(p)\n",
    "        \n",
    "        visited=set()\n",
    "        for c in range(numCourses):\n",
    "            if c not in visited:\n",
    "                stack=[c]\n",
    "                checking=set()\n",
    "                while len(stack)>0:\n",
    "                    head=stack[-1]\n",
    "                    stack=stack[:-1]\n",
    "                    checking.add(head)\n",
    "                    if head in edge:\n",
    "                        for p in edge[head]:\n",
    "                            if p in checking:\n",
    "                                return False\n",
    "                            else:\n",
    "                                stack.append(p)\n",
    "                visited|=checking\n",
    "        return True"
   ]
  },
  {
   "cell_type": "markdown",
   "metadata": {},
   "source": [
    "## Attempt 3 - Wrong Answer: it is just very hard to keep track if node appears in the past path or not using stack"
   ]
  },
  {
   "cell_type": "code",
   "execution_count": null,
   "metadata": {},
   "outputs": [],
   "source": [
    "class Solution:\n",
    "    def canFinish(self, numCourses: int, prerequisites: List[List[int]]) -> bool:\n",
    "        if len(prerequisites)<=1:\n",
    "            return True\n",
    "        edge=dict()\n",
    "        for pair in prerequisites:\n",
    "            c, p=pair\n",
    "            if c not in edge:\n",
    "                edge[c]=set()\n",
    "            edge[c].add(p)\n",
    "        \n",
    "        visited=[0 for idx in range(numCourses)]\n",
    "        for c in range(numCourses):\n",
    "            if visited[c] is not 2:\n",
    "                stack=[[c, set([c])]]\n",
    "                while len(stack)>0:\n",
    "                    head=stack[-1]\n",
    "                    course, past=head\n",
    "                    if visited[course]==0:\n",
    "                        visited[course]=1\n",
    "                        if course in edge:\n",
    "                            for pre in edge[course]:\n",
    "                                if pre in past:\n",
    "                                    return False\n",
    "                                else:\n",
    "                                    if visited[pre]==0:\n",
    "                                        visited[pre]=1\n",
    "                                        stack.append((pre, past.add(pre)))\n",
    "                    elif visited[course]==1:\n",
    "                        visited[course]=2\n",
    "                        stack=stack[:-1]\n",
    "                visited=[min(2, 2*v) for v in visited]\n",
    "        return True"
   ]
  },
  {
   "cell_type": "markdown",
   "metadata": {},
   "source": [
    "## Attempt 4 - Accepted"
   ]
  },
  {
   "cell_type": "code",
   "execution_count": null,
   "metadata": {},
   "outputs": [],
   "source": [
    "class Solution:\n",
    "    def canFinish(self, numCourses: int, prerequisites: List[List[int]]) -> bool:\n",
    "        if len(prerequisites)<=1:\n",
    "            return True\n",
    "        edge=dict()\n",
    "        for pair in prerequisites:\n",
    "            c, p=pair\n",
    "            if c not in edge:\n",
    "                edge[c]=set()\n",
    "            edge[c].add(p)\n",
    "        \n",
    "        visited=[0 for idx in range(numCourses)]\n",
    "        def dfs(c):\n",
    "            if visited[c]==1:\n",
    "                return False\n",
    "            if visited[c]==2:\n",
    "                return True\n",
    "            visited[c]=1 ## --> by recursion, at any given time we are only going along one path. So marking it as 1 is already enough to detect cycles\n",
    "            if c in edge:\n",
    "                for p in edge[c]:\n",
    "                    if not dfs(p):\n",
    "                        return False\n",
    "            visited[c]=2\n",
    "            return True\n",
    "        for c in range(numCourses):\n",
    "            if not dfs(c):\n",
    "                return False\n",
    "        return True"
   ]
  },
  {
   "cell_type": "markdown",
   "metadata": {},
   "source": [
    "## Lessons and Thoughts\n",
    "- Recursion will make sure that the algo only go down one path before zooming out again, something that stack implementation may not be easy to do."
   ]
  }
 ],
 "metadata": {
  "kernelspec": {
   "display_name": "Python 3",
   "language": "python",
   "name": "python3"
  },
  "language_info": {
   "codemirror_mode": {
    "name": "ipython",
    "version": 3
   },
   "file_extension": ".py",
   "mimetype": "text/x-python",
   "name": "python",
   "nbconvert_exporter": "python",
   "pygments_lexer": "ipython3",
   "version": "3.7.3"
  }
 },
 "nbformat": 4,
 "nbformat_minor": 2
}
