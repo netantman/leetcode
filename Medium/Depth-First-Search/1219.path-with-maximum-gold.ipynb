{
 "cells": [
  {
   "cell_type": "markdown",
   "metadata": {},
   "source": [
    "## Attempt 1 - Accepted"
   ]
  },
  {
   "cell_type": "code",
   "execution_count": null,
   "metadata": {},
   "outputs": [],
   "source": [
    "class Solution:\n",
    "    def __init__(self):\n",
    "        self.res=0\n",
    "        self.curr=0\n",
    "        self.grid=None\n",
    "    def getMaximumGold(self, grid: List[List[int]]) -> int:\n",
    "        M,N=len(grid),len(grid[0])\n",
    "        self.grid=[[0 for n in range(N)] for m in range(M)]\n",
    "        for m in range(M):\n",
    "            for n in range(N):\n",
    "                self.grid[m][n]=grid[m][n]\n",
    "        def dfs(m,n):\n",
    "            tmp=self.grid[m][n]\n",
    "            self.curr+=tmp\n",
    "            self.grid[m][n]=0\n",
    "            end=True\n",
    "            if m-1>=0 and self.grid[m-1][n]>0:\n",
    "                end=False\n",
    "                dfs(m-1,n)\n",
    "            if n-1>=0 and self.grid[m][n-1]>0:\n",
    "                end=False\n",
    "                dfs(m,n-1)\n",
    "            if m+1<M and self.grid[m+1][n]>0:\n",
    "                end=False\n",
    "                dfs(m+1,n)\n",
    "            if n+1<N and self.grid[m][n+1]>0:\n",
    "                end=False\n",
    "                dfs(m,n+1)\n",
    "            if end:\n",
    "                self.res=max(self.res, self.curr)\n",
    "            self.curr-=tmp\n",
    "            self.grid[m][n]=tmp\n",
    "            return\n",
    "        \n",
    "        for m in range(M):\n",
    "            for n in range(N):\n",
    "                if self.grid[m][n]>0:\n",
    "                    dfs(m,n)\n",
    "        return self.res"
   ]
  },
  {
   "cell_type": "markdown",
   "metadata": {},
   "source": [
    "## Lessons and Thoughts\n",
    "- Straightforward DFS and backtracking/caching."
   ]
  }
 ],
 "metadata": {
  "kernelspec": {
   "display_name": "Python 3",
   "language": "python",
   "name": "python3"
  },
  "language_info": {
   "codemirror_mode": {
    "name": "ipython",
    "version": 3
   },
   "file_extension": ".py",
   "mimetype": "text/x-python",
   "name": "python",
   "nbconvert_exporter": "python",
   "pygments_lexer": "ipython3",
   "version": "3.7.3"
  }
 },
 "nbformat": 4,
 "nbformat_minor": 2
}
