{
 "cells": [
  {
   "cell_type": "markdown",
   "metadata": {},
   "source": [
    "## Attempt 1 - Accepted"
   ]
  },
  {
   "cell_type": "code",
   "execution_count": null,
   "metadata": {},
   "outputs": [],
   "source": [
    "class Solution:\n",
    "    def getHappyString(self, n: int, k: int) -> str:\n",
    "        res=[\"a\", \"b\", \"c\"]\n",
    "        for _ in range(n-1):\n",
    "            nexxt=[]\n",
    "            for r in res:\n",
    "                if r[-1]==\"a\":\n",
    "                    nexxt.append(r+\"b\")\n",
    "                    nexxt.append(r+\"c\")\n",
    "                if r[-1]==\"b\":\n",
    "                    nexxt.append(r+\"a\")\n",
    "                    nexxt.append(r+\"c\")\n",
    "                if r[-1]==\"c\":\n",
    "                    nexxt.append(r+\"a\")\n",
    "                    nexxt.append(r+\"b\")\n",
    "            res=[n for n in nexxt]\n",
    "        if k>len(res):\n",
    "            return \"\"\n",
    "        return heapq.nsmallest(k,res)[-1]"
   ]
  },
  {
   "cell_type": "markdown",
   "metadata": {},
   "source": [
    "## Lessons and Thoughts\n",
    "- As always, the edge case is at the initial iteration and be careful when passing the current record to next."
   ]
  }
 ],
 "metadata": {
  "kernelspec": {
   "display_name": "Python 3",
   "language": "python",
   "name": "python3"
  },
  "language_info": {
   "codemirror_mode": {
    "name": "ipython",
    "version": 3
   },
   "file_extension": ".py",
   "mimetype": "text/x-python",
   "name": "python",
   "nbconvert_exporter": "python",
   "pygments_lexer": "ipython3",
   "version": "3.7.3"
  }
 },
 "nbformat": 4,
 "nbformat_minor": 2
}
