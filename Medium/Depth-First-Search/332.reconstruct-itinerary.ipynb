{
 "cells": [
  {
   "cell_type": "markdown",
   "metadata": {},
   "source": [
    "## Attempt 1 - Runtime Error"
   ]
  },
  {
   "cell_type": "code",
   "execution_count": null,
   "metadata": {},
   "outputs": [],
   "source": [
    "class Solution:\n",
    "    def findItinerary(self, tickets: List[List[str]]) -> List[str]:\n",
    "        \n",
    "        def inner(depart, ticket_set):\n",
    "            if len(ticket_set)<1:\n",
    "                return [depart]\n",
    "            destinations=[t[1] for t in ticket_set if t[0]==depart]\n",
    "            destinations=destinations.sort()\n",
    "            for d in destinations: ## --> forgot to handle the case where destinations is empty\n",
    "                rest=inner(depart, ticket_set.pop((depart, d)))\n",
    "                if rest is not None:\n",
    "                    return [depart]+rest\n",
    "            return None\n",
    "        \n",
    "        ticket_set={tuple(t) for t in tickets}\n",
    "        itin=inner(\"JFK\", ticket_set)\n",
    "        return itin"
   ]
  },
  {
   "cell_type": "markdown",
   "metadata": {},
   "source": [
    "## Attempt 2 - Wrong Answer"
   ]
  },
  {
   "cell_type": "code",
   "execution_count": null,
   "metadata": {},
   "outputs": [],
   "source": [
    "class Solution:\n",
    "    def findItinerary(self, tickets: List[List[str]]) -> List[str]:\n",
    "        \n",
    "        def inner(depart, ticket_set): ## --> by making tickets a set, it does not handle the edge case where you can have multiple of the same ticket\n",
    "            print(depart)\n",
    "            print(ticket_set)\n",
    "            if len(ticket_set)<1:\n",
    "                return [depart]\n",
    "            destinations=[t[1] for t in ticket_set if t[0]==depart]\n",
    "            if len(destinations)<1:\n",
    "                return None\n",
    "            destinations.sort()\n",
    "            for d in destinations:\n",
    "                ticket_set.remove((depart, d)) ## --> changing things in place destroy what the set should be\n",
    "                rest=inner(d, ticket_set)\n",
    "                if rest is not None:\n",
    "                    return [depart]+rest\n",
    "            return None\n",
    "        \n",
    "        ticket_set={tuple(t) for t in tickets}\n",
    "        itin=inner(\"JFK\", ticket_set)\n",
    "        return itin"
   ]
  },
  {
   "cell_type": "markdown",
   "metadata": {},
   "source": [
    "## Attempt 3 - Accepted"
   ]
  },
  {
   "cell_type": "code",
   "execution_count": null,
   "metadata": {},
   "outputs": [],
   "source": [
    "class Solution:\n",
    "    def findItinerary(self, tickets: List[List[str]]) -> List[str]:\n",
    "        \n",
    "        def inner(depart, ticket_dict):\n",
    "            if len({k for k in ticket_dict if ticket_dict[k]>0})<1:\n",
    "                return [depart]\n",
    "            destinations=[t[1] for t,v in ticket_dict.items() if (t[0]==depart) and (v>0)]\n",
    "            if len(destinations)<1:\n",
    "                return None\n",
    "            destinations.sort()\n",
    "            for d in destinations:\n",
    "                removed={k:v for k,v in ticket_dict.items()}\n",
    "                removed[(depart, d)]-=1\n",
    "                rest=inner(d, removed)\n",
    "                if rest is not None:\n",
    "                    return [depart]+rest\n",
    "            return None\n",
    "        \n",
    "        ticket_dict=dict()\n",
    "        for t in tickets:\n",
    "            if tuple(t) in ticket_dict:\n",
    "                ticket_dict[tuple(t)]+=1\n",
    "            else:\n",
    "                ticket_dict[tuple(t)]=1\n",
    "        itin=inner(\"JFK\", ticket_dict)\n",
    "        return itin"
   ]
  },
  {
   "cell_type": "markdown",
   "metadata": {},
   "source": [
    "## Lessons and Thoughts\n",
    "- `sort` strings according to lexigraphical order for a `list` of strings - note that it is done in place!\n",
    "- `remove` from `set` is in place."
   ]
  }
 ],
 "metadata": {
  "kernelspec": {
   "display_name": "Python 3",
   "language": "python",
   "name": "python3"
  },
  "language_info": {
   "codemirror_mode": {
    "name": "ipython",
    "version": 3
   },
   "file_extension": ".py",
   "mimetype": "text/x-python",
   "name": "python",
   "nbconvert_exporter": "python",
   "pygments_lexer": "ipython3",
   "version": "3.7.3"
  }
 },
 "nbformat": 4,
 "nbformat_minor": 2
}
