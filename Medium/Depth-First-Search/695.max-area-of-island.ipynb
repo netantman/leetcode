{
 "cells": [
  {
   "cell_type": "markdown",
   "metadata": {},
   "source": [
    "## Attempt 1 - Accepted"
   ]
  },
  {
   "cell_type": "code",
   "execution_count": null,
   "metadata": {},
   "outputs": [],
   "source": [
    "class Solution:\n",
    "    def maxAreaOfIsland(self, grid: List[List[int]]) -> int:\n",
    "        if len(grid)<1 or len(grid[0])<1:\n",
    "            return 0\n",
    "        R,C=len(grid), len(grid[0])\n",
    "        \n",
    "        def get_neighbors(r,c,R,C):\n",
    "            res=[]\n",
    "            if r-1>=0:\n",
    "                res.append((r-1,c))\n",
    "            if c-1>=0:\n",
    "                res.append((r,c-1))\n",
    "            if r+1<R:\n",
    "                res.append((r+1,c))\n",
    "            if c+1<C:\n",
    "                res.append((r,c+1))\n",
    "            return res\n",
    "        \n",
    "        def dfs(r,c,R,C,visited,grid):\n",
    "            visited.add((r,c))\n",
    "            neighbors=get_neighbors(r,c,R,C)\n",
    "            for n in neighbors:\n",
    "                if (grid[n[0]][n[1]]==1) and (n not in visited):\n",
    "                    dfs(n[0],n[1],R,C,visited,grid)\n",
    "            grid[r][c]=\"X\"\n",
    "            return\n",
    "        \n",
    "        area=0\n",
    "        for r in range(R):\n",
    "            for c in range(C):\n",
    "                if grid[r][c]==1:\n",
    "                    visited=set()\n",
    "                    dfs(r,c,R,C,visited,grid)\n",
    "                    area=max(area, len(visited))\n",
    "        return area"
   ]
  },
  {
   "cell_type": "markdown",
   "metadata": {},
   "source": [
    "## Attempt 2 - Accepted"
   ]
  },
  {
   "cell_type": "code",
   "execution_count": null,
   "metadata": {},
   "outputs": [],
   "source": [
    "class Solution:\n",
    "    def __init__(self):\n",
    "        self.grid=None\n",
    "        self.curr=0\n",
    "    def maxAreaOfIsland(self, grid: List[List[int]]) -> int:\n",
    "        M,N=len(grid), len(grid[0])\n",
    "        self.grid=[[0 for _ in range(N)] for _ in range(M)]\n",
    "        for m in range(M):\n",
    "            for n in range(N):\n",
    "                self.grid[m][n]=grid[m][n]\n",
    "        def dfs(r,c):\n",
    "            self.curr+=1\n",
    "            self.grid[r][c]=0\n",
    "            if r-1>=0 and self.grid[r-1][c]>0:\n",
    "                dfs(r-1,c)\n",
    "            if c-1>=0 and self.grid[r][c-1]>0:\n",
    "                dfs(r,c-1)\n",
    "            if r+1<M  and self.grid[r+1][c]>0:\n",
    "                dfs(r+1,c)\n",
    "            if c+1<N and self.grid[r][c+1]>0:\n",
    "                dfs(r,c+1)\n",
    "            return\n",
    "        \n",
    "        res=0\n",
    "        for m in range(M):\n",
    "            for n in range(N):\n",
    "                if self.grid[m][n]>0:\n",
    "                    self.curr=0\n",
    "                    dfs(m,n)\n",
    "                    res=max(res, self.curr)\n",
    "        return res"
   ]
  },
  {
   "cell_type": "markdown",
   "metadata": {},
   "source": [
    "## Lessons and Thoughts\n",
    "- Usual DFS. Easier to implement using recursion. Attempt 2 is more succinct though."
   ]
  }
 ],
 "metadata": {
  "kernelspec": {
   "display_name": "Python 3",
   "language": "python",
   "name": "python3"
  },
  "language_info": {
   "codemirror_mode": {
    "name": "ipython",
    "version": 3
   },
   "file_extension": ".py",
   "mimetype": "text/x-python",
   "name": "python",
   "nbconvert_exporter": "python",
   "pygments_lexer": "ipython3",
   "version": "3.7.3"
  }
 },
 "nbformat": 4,
 "nbformat_minor": 2
}
