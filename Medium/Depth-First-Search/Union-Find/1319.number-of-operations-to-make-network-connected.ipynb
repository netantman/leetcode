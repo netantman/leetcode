{
 "cells": [
  {
   "cell_type": "markdown",
   "metadata": {},
   "source": [
    "## Attempt 1 - Accepted"
   ]
  },
  {
   "cell_type": "code",
   "execution_count": null,
   "metadata": {},
   "outputs": [],
   "source": [
    "class Solution:\n",
    "    def makeConnected(self, n: int, connections: List[List[int]]) -> int:\n",
    "        if len(connections)<n-1:\n",
    "            return -1\n",
    "        self.father=[idx for idx in range(n)]\n",
    "        def find(x):\n",
    "            while x!=self.father[x]:\n",
    "                x=self.father[x]\n",
    "            return x\n",
    "        def union(x,y):\n",
    "            fx=find(x)\n",
    "            fy=find(y)\n",
    "            if fx<fy:\n",
    "                self.father[fy]=fx\n",
    "            else:\n",
    "                self.father[fx]=fy\n",
    "        for con in connections:\n",
    "            x,y=tuple(con)\n",
    "            union(x,y)\n",
    "        groups=[find(idx) for idx in range(n)]\n",
    "        groups=set(groups)\n",
    "        return len(groups)-1"
   ]
  },
  {
   "cell_type": "markdown",
   "metadata": {},
   "source": [
    "## Lessons and Thoughts\n",
    "- The key is to recognize that for any unconnected component, you only need to change one wire, if you have enough wires."
   ]
  }
 ],
 "metadata": {
  "kernelspec": {
   "display_name": "Python 3",
   "language": "python",
   "name": "python3"
  },
  "language_info": {
   "codemirror_mode": {
    "name": "ipython",
    "version": 3
   },
   "file_extension": ".py",
   "mimetype": "text/x-python",
   "name": "python",
   "nbconvert_exporter": "python",
   "pygments_lexer": "ipython3",
   "version": "3.7.3"
  }
 },
 "nbformat": 4,
 "nbformat_minor": 2
}
