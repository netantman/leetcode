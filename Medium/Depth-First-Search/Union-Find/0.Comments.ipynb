{
 "cells": [
  {
   "cell_type": "markdown",
   "metadata": {},
   "source": [
    "## Idea"
   ]
  },
  {
   "cell_type": "markdown",
   "metadata": {},
   "source": [
    "I define union find as a special case of DFS, which can be weird. But in general, union-find can be used to find all connected components in a graph. The template for the `union` and `find` functions are as follows. It is easy to prove by induction that `find` will always find for `x` its 'family head' for all available `union`."
   ]
  },
  {
   "cell_type": "code",
   "execution_count": null,
   "metadata": {},
   "outputs": [],
   "source": [
    "def find(x):\n",
    "    while x != self.father[x]:\n",
    "        x=self.father[x]\n",
    "    return x\n",
    "def union(x, y):\n",
    "    fx=find(x) ## --> note that replacing find(x) by self.father[x] here does not work\n",
    "    fy=find(y)\n",
    "    if fx<fy:\n",
    "        self.father[fy]=fx\n",
    "    elif fx>fy:\n",
    "        self.father[fx]=fy"
   ]
  },
  {
   "cell_type": "markdown",
   "metadata": {},
   "source": [
    "## Trap\n",
    "\n",
    "As mentioned above, do not replace `find` in `union` with just accessing `father`."
   ]
  }
 ],
 "metadata": {
  "kernelspec": {
   "display_name": "Python 3",
   "language": "python",
   "name": "python3"
  },
  "language_info": {
   "codemirror_mode": {
    "name": "ipython",
    "version": 3
   },
   "file_extension": ".py",
   "mimetype": "text/x-python",
   "name": "python",
   "nbconvert_exporter": "python",
   "pygments_lexer": "ipython3",
   "version": "3.7.3"
  }
 },
 "nbformat": 4,
 "nbformat_minor": 2
}
