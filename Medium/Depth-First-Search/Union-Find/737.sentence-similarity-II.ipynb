{
 "cells": [
  {
   "cell_type": "markdown",
   "metadata": {},
   "source": [
    "## Attempt 1 - Key Error"
   ]
  },
  {
   "cell_type": "code",
   "execution_count": null,
   "metadata": {},
   "outputs": [],
   "source": [
    "class Solution:\n",
    "    def areSentencesSimilarTwo(self, sentence1: List[str], sentence2: List[str], similarPairs: List[List[str]]) -> bool:\n",
    "        \n",
    "        L1, L2 = len(sentence1), len(sentence2)\n",
    "        if L1 != L2:\n",
    "            return False\n",
    "        \n",
    "        words = set()\n",
    "        for pair in similarPairs:\n",
    "            words.add(pair[0])\n",
    "            words.add(pair[1])\n",
    "        words = list(words)\n",
    "        words_to_idx = {w: idx for idx, w in enumerate(words)}\n",
    "        \n",
    "        L = len(words)\n",
    "        self.father = list(range(L))\n",
    "        \n",
    "        def find(x):\n",
    "            while x != self.father[x]:\n",
    "                x=self.father[x]\n",
    "            return x\n",
    "        \n",
    "        def union(x, y):\n",
    "            fx=find(x)\n",
    "            fy=find(y)\n",
    "            if fx<fy:\n",
    "                self.father[fy]=fx\n",
    "            elif fx>fy:\n",
    "                self.father[fx]=fy\n",
    "        \n",
    "        for pair in similarPairs:\n",
    "            w1, w2 = tuple(pair)\n",
    "            union(words_to_idx[w1], words_to_idx[w2])\n",
    "        \n",
    "        for idx in range(L1):\n",
    "            w1, w2 = sentence1[idx], sentence2[idx] \n",
    "            if find(words_to_idx[w1]) != find(words_to_idx[w2]): ## --> need to consider when w1 and w2 are not in the words_to_idx!\n",
    "                return False\n",
    "        \n",
    "        return True"
   ]
  },
  {
   "cell_type": "markdown",
   "metadata": {},
   "source": [
    "## Attempt 2 - Accepted"
   ]
  },
  {
   "cell_type": "code",
   "execution_count": null,
   "metadata": {},
   "outputs": [],
   "source": [
    "class Solution:\n",
    "    def areSentencesSimilarTwo(self, sentence1: List[str], sentence2: List[str], similarPairs: List[List[str]]) -> bool:\n",
    "        \n",
    "        L1, L2 = len(sentence1), len(sentence2)\n",
    "        if L1 != L2:\n",
    "            return False\n",
    "        \n",
    "        words = set()\n",
    "        for pair in similarPairs:\n",
    "            words.add(pair[0])\n",
    "            words.add(pair[1])\n",
    "        words = list(words)\n",
    "        words_to_idx = {w: idx for idx, w in enumerate(words)}\n",
    "        \n",
    "        L = len(words)\n",
    "        self.father = list(range(L))\n",
    "        \n",
    "        def find(x):\n",
    "            while x != self.father[x]:\n",
    "                x = self.father[x]\n",
    "            return x\n",
    "        \n",
    "        def union(x, y):\n",
    "            fx=find(x)\n",
    "            fy=find(y)\n",
    "            if fx<fy:\n",
    "                self.father[fy]=fx\n",
    "            elif fx>fy:\n",
    "                self.father[fx]=fy\n",
    "        \n",
    "        for pair in similarPairs:\n",
    "            w1, w2 = tuple(pair)\n",
    "            union(words_to_idx[w1], words_to_idx[w2])\n",
    "        \n",
    "        for idx in range(L1):\n",
    "            w1, w2 = sentence1[idx], sentence2[idx]\n",
    "            if w1 == w2:\n",
    "                continue\n",
    "            if (w1 not in words_to_idx) or (w2 not in words_to_idx):\n",
    "                return False\n",
    "            if find(words_to_idx[w1]) != find(words_to_idx[w2]):\n",
    "                return False\n",
    "        \n",
    "        return True"
   ]
  },
  {
   "cell_type": "markdown",
   "metadata": {},
   "source": [
    "## Lessons and Thoughts\n",
    "- Key error can be considered as index-out-of-range error, which should be considered as edge case!"
   ]
  }
 ],
 "metadata": {
  "kernelspec": {
   "display_name": "Python 3",
   "language": "python",
   "name": "python3"
  },
  "language_info": {
   "codemirror_mode": {
    "name": "ipython",
    "version": 3
   },
   "file_extension": ".py",
   "mimetype": "text/x-python",
   "name": "python",
   "nbconvert_exporter": "python",
   "pygments_lexer": "ipython3",
   "version": "3.7.3"
  }
 },
 "nbformat": 4,
 "nbformat_minor": 2
}
