{
 "cells": [
  {
   "cell_type": "markdown",
   "metadata": {},
   "source": [
    "## Attempt 1 - Accepted"
   ]
  },
  {
   "cell_type": "code",
   "execution_count": null,
   "metadata": {},
   "outputs": [],
   "source": [
    "class Solution:\n",
    "    def smallestEquivalentString(self, s1: str, s2: str, baseStr: str) -> str:\n",
    "        self.fathers = [n for n in range(26)]\n",
    "        \n",
    "        def find(x):\n",
    "            x = ord(x) - ord(\"a\")\n",
    "            while x != self.fathers[x]:\n",
    "                x = self.fathers[x]\n",
    "            return chr(ord(\"a\") + x)\n",
    "        \n",
    "        def union(x, y):\n",
    "            fx, fy = find(x), find(y)\n",
    "            if fx < fy:\n",
    "                self.fathers[ord(fy) - ord(\"a\")] = self.fathers[ord(fx) - ord(\"a\")]\n",
    "            elif fy < fx:\n",
    "                self.fathers[ord(fx) - ord(\"a\")] = self.fathers[ord(fy) - ord(\"a\")]\n",
    "        \n",
    "        for c1, c2 in zip(s1, s2):\n",
    "            union(c1, c2)\n",
    "            \n",
    "        return \"\".join([find(c) for c in baseStr])"
   ]
  },
  {
   "cell_type": "markdown",
   "metadata": {},
   "source": [
    "## Lessons and Thoughts\n",
    "- Typical union find."
   ]
  }
 ],
 "metadata": {
  "kernelspec": {
   "display_name": "Python 3",
   "language": "python",
   "name": "python3"
  },
  "language_info": {
   "codemirror_mode": {
    "name": "ipython",
    "version": 3
   },
   "file_extension": ".py",
   "mimetype": "text/x-python",
   "name": "python",
   "nbconvert_exporter": "python",
   "pygments_lexer": "ipython3",
   "version": "3.7.3"
  }
 },
 "nbformat": 4,
 "nbformat_minor": 2
}
