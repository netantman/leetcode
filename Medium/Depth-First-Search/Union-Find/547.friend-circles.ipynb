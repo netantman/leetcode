{
 "cells": [
  {
   "cell_type": "markdown",
   "metadata": {},
   "source": [
    "## Attempt 1 - Accepted"
   ]
  },
  {
   "cell_type": "code",
   "execution_count": null,
   "metadata": {},
   "outputs": [],
   "source": [
    "class Solution:\n",
    "    def findCircleNum(self, M: List[List[int]]) -> int:\n",
    "        if len(M)<1 or len(M[0])<1:\n",
    "            return 0\n",
    "        \n",
    "        def inner(target, circle, M, cnt):\n",
    "            circle[target]=cnt\n",
    "            N=len(M)\n",
    "            for idx in range(N):\n",
    "                if M[target][idx]>0 and circle[idx]<1:\n",
    "                    inner(idx, circle, M, cnt)\n",
    "            return \n",
    "        \n",
    "        N=len(M)\n",
    "        circle=[0 for _ in range(N)]\n",
    "        cnt=0\n",
    "        for n in range(N):\n",
    "            if circle[n]<1:\n",
    "                cnt+=1\n",
    "                inner(n, circle, M, cnt)\n",
    "        \n",
    "        return cnt"
   ]
  },
  {
   "cell_type": "markdown",
   "metadata": {},
   "source": [
    "## Lessons and Thoughts\n",
    "- It is similar to Problem 200. I can imagine that BFS probably will TLE as well."
   ]
  }
 ],
 "metadata": {
  "kernelspec": {
   "display_name": "Python 3",
   "language": "python",
   "name": "python3"
  },
  "language_info": {
   "codemirror_mode": {
    "name": "ipython",
    "version": 3
   },
   "file_extension": ".py",
   "mimetype": "text/x-python",
   "name": "python",
   "nbconvert_exporter": "python",
   "pygments_lexer": "ipython3",
   "version": "3.7.3"
  }
 },
 "nbformat": 4,
 "nbformat_minor": 2
}
