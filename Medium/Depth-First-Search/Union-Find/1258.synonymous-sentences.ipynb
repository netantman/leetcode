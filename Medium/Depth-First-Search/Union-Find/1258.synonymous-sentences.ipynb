{
 "cells": [
  {
   "cell_type": "markdown",
   "metadata": {},
   "source": [
    "## Attempt 1 - Accepted"
   ]
  },
  {
   "cell_type": "code",
   "execution_count": null,
   "metadata": {},
   "outputs": [],
   "source": [
    "class Solution:\n",
    "    def generateSentences(self, synonyms: List[List[str]], text: str) -> List[str]:\n",
    "        self.fathers = dict()\n",
    "        \n",
    "        def find(x):\n",
    "            while self.fathers[x] != x:\n",
    "                x = self.fathers[x]\n",
    "            return x\n",
    "        \n",
    "        def union(x, y):\n",
    "            fx = find(x)\n",
    "            fy = find(y)\n",
    "            if fx < fy:\n",
    "                self.fathers[fy] = fx\n",
    "            if fx > fy:\n",
    "                self.fathers[fx] = fy\n",
    "        \n",
    "        for syn in synonyms:\n",
    "            w1, w2 = tuple(syn)\n",
    "            self.fathers[w1] = w1\n",
    "            self.fathers[w2] = w2\n",
    "        \n",
    "        for syn in synonyms:\n",
    "            w1, w2 = tuple(syn)\n",
    "            union(w1, w2)\n",
    "            \n",
    "        self.record = defaultdict(list)\n",
    "        for w in self.fathers.keys():\n",
    "            fw = find(w)\n",
    "            self.record[fw].append(w)\n",
    "            \n",
    "        res = [\"\"]\n",
    "        words = text.split(\" \")\n",
    "        for w in words:\n",
    "            if w not in self.fathers:\n",
    "                res = [r + \" \" + w for r in res]\n",
    "                continue\n",
    "            fw = self.fathers[w]\n",
    "            syns = sorted(self.record[fw])\n",
    "            res = [r + \" \" + s for r in res for s in syns]\n",
    "        res = [r[1:] for r in res]\n",
    "        return res"
   ]
  },
  {
   "cell_type": "markdown",
   "metadata": {},
   "source": [
    "## Lessons and Thoughts\n",
    "- You don't always need to use a list of integars to implement union-find."
   ]
  }
 ],
 "metadata": {
  "kernelspec": {
   "display_name": "Python 3",
   "language": "python",
   "name": "python3"
  },
  "language_info": {
   "codemirror_mode": {
    "name": "ipython",
    "version": 3
   },
   "file_extension": ".py",
   "mimetype": "text/x-python",
   "name": "python",
   "nbconvert_exporter": "python",
   "pygments_lexer": "ipython3",
   "version": "3.7.3"
  }
 },
 "nbformat": 4,
 "nbformat_minor": 2
}
