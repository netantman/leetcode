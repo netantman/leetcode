{
 "cells": [
  {
   "cell_type": "markdown",
   "metadata": {},
   "source": [
    "## Attempt 1 - Wrong Answer"
   ]
  },
  {
   "cell_type": "code",
   "execution_count": null,
   "metadata": {},
   "outputs": [],
   "source": [
    "class Solution:\n",
    "    def smallestStringWithSwaps(self, s: str, pairs: List[List[int]]) -> str:\n",
    "        L=len(s)\n",
    "        record=[idx for idx in range(L)]\n",
    "        pairs=sorted(pairs, key=lambda x:x[0])\n",
    "        for p in pairs:\n",
    "            a,b=tuple(p)\n",
    "            a,b=min(a,b),max(a,b)\n",
    "            record[b]=record[a]  ## --> this way of implementing union find is not right\n",
    "        sub=dict()\n",
    "        indices=dict()\n",
    "        for idx, r in enumerate(record):\n",
    "            sub[r]=sub.get(r,[])+[s[idx]]\n",
    "            indices[r]=0\n",
    "        for r in sub.keys():\n",
    "            sub[r]=\"\".join(sorted(sub[r]))\n",
    "        res=\"\"\n",
    "        for idx in range(L):\n",
    "            r=record[idx]\n",
    "            res+=sub[r][indices[r]]\n",
    "            indices[r]+=1\n",
    "        return res"
   ]
  },
  {
   "cell_type": "markdown",
   "metadata": {},
   "source": [
    "## Attempt 2 - Time Limit Exceeded"
   ]
  },
  {
   "cell_type": "code",
   "execution_count": null,
   "metadata": {},
   "outputs": [],
   "source": [
    "class Solution:\n",
    "    def __init__(self):\n",
    "        self.father=None\n",
    "    def smallestStringWithSwaps(self, s: str, pairs: List[List[int]]) -> str:\n",
    "        L=len(s)\n",
    "        self.father=[idx for idx in range(L)]\n",
    "\n",
    "        def find(x):\n",
    "            while x != self.father[x]:\n",
    "                x=self.father[x]\n",
    "            return x\n",
    "        def union(x,y):\n",
    "            fx=find(x)\n",
    "            fy=find(y)\n",
    "            if fx<fy:\n",
    "                self.father[fy]=fx\n",
    "            elif fx>fy:\n",
    "                self.father[fx]=fy\n",
    "                \n",
    "        for p in pairs:\n",
    "            x,y=tuple(p)\n",
    "            union(x,y)\n",
    "        record=[find(idx) for idx in range(L)]\n",
    "        sub=dict()\n",
    "        indices=dict()\n",
    "        for idx, r in enumerate(record):\n",
    "            sub[r]=sub.get(r,[])+[s[idx]]\n",
    "            indices[r]=0\n",
    "        for r in sub.keys():\n",
    "            sub[r]=\"\".join(sorted(sub[r]))\n",
    "        res=\"\"\n",
    "        for idx in range(L):\n",
    "            r=record[idx]\n",
    "            res+=sub[r][indices[r]]\n",
    "            indices[r]+=1\n",
    "        return res"
   ]
  },
  {
   "cell_type": "markdown",
   "metadata": {},
   "source": [
    "## Attempt 3 - Accepted"
   ]
  },
  {
   "cell_type": "code",
   "execution_count": null,
   "metadata": {},
   "outputs": [],
   "source": [
    "class Solution:\n",
    "    def smallestStringWithSwaps(self, s: str, pairs: List[List[int]]) -> str:\n",
    "        p={i:i for i in range(len(s))}\n",
    "        \n",
    "        def f(x):\n",
    "            if x != p[x]:\n",
    "                p[x]=f(p[x])\n",
    "            return p[x]\n",
    "        \n",
    "        for i,j in pairs:\n",
    "            p[f(j)]=f(i)\n",
    "        \n",
    "        d=collections.defaultdict(list)\n",
    "        for i,j in enumerate(map(f, p)):\n",
    "            d[j].append(i)\n",
    "        ans=list(s)\n",
    "        for q in d.values():\n",
    "            t=sorted(ans[i] for i in q)\n",
    "            for i,c in zip(sorted(q), t):\n",
    "                ans[i]=c\n",
    "        return \"\".join(ans)"
   ]
  },
  {
   "cell_type": "markdown",
   "metadata": {},
   "source": [
    "## Lessons and Thoughts\n",
    "- `union` and `find` for union-find algo.\n",
    "- The accepted approach is from the app, but not sure why it is faster, probably the use of `defaultdict` and `map`."
   ]
  }
 ],
 "metadata": {
  "kernelspec": {
   "display_name": "Python 3",
   "language": "python",
   "name": "python3"
  },
  "language_info": {
   "codemirror_mode": {
    "name": "ipython",
    "version": 3
   },
   "file_extension": ".py",
   "mimetype": "text/x-python",
   "name": "python",
   "nbconvert_exporter": "python",
   "pygments_lexer": "ipython3",
   "version": "3.7.3"
  }
 },
 "nbformat": 4,
 "nbformat_minor": 2
}
