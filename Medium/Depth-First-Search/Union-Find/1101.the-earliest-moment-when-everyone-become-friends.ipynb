{
 "cells": [
  {
   "cell_type": "markdown",
   "metadata": {},
   "source": [
    "## Attempt 1 - Accepted"
   ]
  },
  {
   "cell_type": "code",
   "execution_count": null,
   "metadata": {},
   "outputs": [],
   "source": [
    "class Solution:\n",
    "    def earliestAcq(self, logs: List[List[int]], n: int) -> int:\n",
    "        self.fathers = [idx for idx in range(n)]\n",
    "        \n",
    "        def find(x):\n",
    "            while x != self.fathers[x]:\n",
    "                x = self.fathers[x]\n",
    "            return x\n",
    "        \n",
    "        def union(x, y):\n",
    "            fx = find(x)\n",
    "            fy = find(y)\n",
    "            if fx < fy:\n",
    "                self.fathers[fy] = fx\n",
    "            elif fy < fx:\n",
    "                self.fathers[fx] = fy\n",
    "        \n",
    "        logs = sorted(logs, key=lambda x: x[0])\n",
    "        for log in logs:\n",
    "            t, x, y = tuple(log)\n",
    "            union(x, y)\n",
    "            if len(set([find(x) for x in self.fathers])) == 1:\n",
    "                return t\n",
    "        return -1"
   ]
  },
  {
   "cell_type": "markdown",
   "metadata": {},
   "source": [
    "## Lessons and Thoughts\n",
    "- Note that `self.fathers` in union find does not just tell you about the ultimate father."
   ]
  }
 ],
 "metadata": {
  "kernelspec": {
   "display_name": "Python 3",
   "language": "python",
   "name": "python3"
  },
  "language_info": {
   "codemirror_mode": {
    "name": "ipython",
    "version": 3
   },
   "file_extension": ".py",
   "mimetype": "text/x-python",
   "name": "python",
   "nbconvert_exporter": "python",
   "pygments_lexer": "ipython3",
   "version": "3.7.3"
  }
 },
 "nbformat": 4,
 "nbformat_minor": 2
}
