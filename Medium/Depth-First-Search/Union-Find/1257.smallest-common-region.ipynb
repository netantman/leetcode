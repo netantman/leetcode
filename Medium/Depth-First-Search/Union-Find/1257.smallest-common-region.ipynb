{
 "cells": [
  {
   "cell_type": "markdown",
   "metadata": {},
   "source": [
    "## Attempt 1 - Accepted"
   ]
  },
  {
   "cell_type": "code",
   "execution_count": null,
   "metadata": {},
   "outputs": [],
   "source": [
    "class Solution:\n",
    "    def findSmallestRegion(self, regions: List[List[str]], region1: str, region2: str) -> str:\n",
    "        self.res = None\n",
    "        children = defaultdict(set)\n",
    "        nodes = dict()\n",
    "        for region in regions:\n",
    "            L = len(region)\n",
    "            nodes[region[0]] = True\n",
    "            for idx in range(1, L):\n",
    "                children[region[0]].add(region[idx])\n",
    "                nodes[region[idx]] = True\n",
    "        for c in children.values():\n",
    "            for n in c:\n",
    "                nodes[n] = False\n",
    "        root = [n for n in nodes if nodes[n]][0]\n",
    "                \n",
    "        def get_descendants(root):\n",
    "            des = set([root])\n",
    "            for child in children.get(root, set()):\n",
    "                curr = get_descendants(child)\n",
    "                des = des | curr\n",
    "            if region1 in des and region2 in des and self.res is None:\n",
    "                self.res = root\n",
    "            return des\n",
    "        \n",
    "        get_descendants(root)\n",
    "        return self.res"
   ]
  },
  {
   "cell_type": "markdown",
   "metadata": {},
   "source": [
    "## Lessons and Thoughts\n",
    "- Many edge case considered, like nodes can have multiple ancestors, or there are multiple roots, etc. But I guess those are not what matters in this problem."
   ]
  }
 ],
 "metadata": {
  "kernelspec": {
   "display_name": "Python 3",
   "language": "python",
   "name": "python3"
  },
  "language_info": {
   "codemirror_mode": {
    "name": "ipython",
    "version": 3
   },
   "file_extension": ".py",
   "mimetype": "text/x-python",
   "name": "python",
   "nbconvert_exporter": "python",
   "pygments_lexer": "ipython3",
   "version": "3.7.3"
  }
 },
 "nbformat": 4,
 "nbformat_minor": 2
}
