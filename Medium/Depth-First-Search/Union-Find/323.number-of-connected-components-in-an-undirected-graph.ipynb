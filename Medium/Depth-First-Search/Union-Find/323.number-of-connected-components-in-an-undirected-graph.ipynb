{
 "cells": [
  {
   "cell_type": "markdown",
   "metadata": {},
   "source": [
    "## Attempt 1 - Accepted"
   ]
  },
  {
   "cell_type": "code",
   "execution_count": null,
   "metadata": {},
   "outputs": [],
   "source": [
    "class Solution:\n",
    "    def countComponents(self, n: int, edges: List[List[int]]) -> int:\n",
    "        def find(x):\n",
    "            while x != self.father[x]:\n",
    "                x = self.father[x]\n",
    "            return x\n",
    "        def union(x, y):\n",
    "            fx = find(x)\n",
    "            fy = find(y)\n",
    "            if fx < fy:\n",
    "                self.father[fy] = fx\n",
    "            else:\n",
    "                self.father[fx] = fy\n",
    "        \n",
    "        self.father = [idx for idx in range(n)]\n",
    "        for edge in edges:\n",
    "            union(edge[0], edge[1])\n",
    "        res = set()\n",
    "        for idx in range(n):\n",
    "            res.add(find(idx))\n",
    "        return len(res)"
   ]
  },
  {
   "cell_type": "markdown",
   "metadata": {},
   "source": [
    "## Lessons and Thoughts\n",
    "- Typical union find."
   ]
  }
 ],
 "metadata": {
  "kernelspec": {
   "display_name": "Python 3",
   "language": "python",
   "name": "python3"
  },
  "language_info": {
   "codemirror_mode": {
    "name": "ipython",
    "version": 3
   },
   "file_extension": ".py",
   "mimetype": "text/x-python",
   "name": "python",
   "nbconvert_exporter": "python",
   "pygments_lexer": "ipython3",
   "version": "3.7.3"
  }
 },
 "nbformat": 4,
 "nbformat_minor": 2
}
