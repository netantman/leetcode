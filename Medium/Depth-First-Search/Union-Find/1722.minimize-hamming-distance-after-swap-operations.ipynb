{
 "cells": [
  {
   "cell_type": "markdown",
   "metadata": {},
   "source": [
    "## Attempt 1 - Wrong Answer"
   ]
  },
  {
   "cell_type": "code",
   "execution_count": null,
   "metadata": {},
   "outputs": [],
   "source": [
    "class Solution:\n",
    "    def find(self, x):\n",
    "        while x != self.father[x]:\n",
    "            x = self.father[x]\n",
    "        return x\n",
    "        \n",
    "    def union(self, x, y):\n",
    "        fx = self.find(x)\n",
    "        fy = self.find(y)\n",
    "        if fx < fy:\n",
    "            self.father[y] = fx\n",
    "        else:\n",
    "            self.father[x] = fy\n",
    "    \n",
    "    def minimumHammingDistance(self, source: List[int], target: List[int], allowedSwaps: List[List[int]]) -> int:\n",
    "        \n",
    "        def hamming(gr1, gr2):\n",
    "            return sum([0 if e in gr2 else 1 for e in gr1])\n",
    "        \n",
    "        n = len(source)\n",
    "        self.father = list(range(n))\n",
    "        for swap in allowedSwaps:\n",
    "            x, y = tuple(swap)\n",
    "            self.union(x, y)\n",
    "        \n",
    "        record = defaultdict(list)\n",
    "        for x in range(n):\n",
    "            fx = self.find(x)\n",
    "            record[fx].append(x)\n",
    "            \n",
    "        res = 0\n",
    "        for u in record.values():\n",
    "            gr1 = set([source[idx] for idx in u]) ## --> this will cause problem, since the elements in source may not be unique\n",
    "            gr2 = set([target[idx] for idx in u])\n",
    "            res += hamming(gr1, gr2)\n",
    "        \n",
    "        return res"
   ]
  },
  {
   "cell_type": "markdown",
   "metadata": {},
   "source": [
    "## Attempt 2 - Wrong Answer"
   ]
  },
  {
   "cell_type": "code",
   "execution_count": null,
   "metadata": {},
   "outputs": [],
   "source": [
    "class Solution:\n",
    "    def find(self, x):\n",
    "        while x != self.father[x]:\n",
    "            x = self.father[x]\n",
    "        return x\n",
    "        \n",
    "    def union(self, x, y):\n",
    "        fx = self.find(x)\n",
    "        fy = self.find(y)\n",
    "        if fx < fy:\n",
    "            self.father[y] = fx\n",
    "        else:\n",
    "            self.father[x] = fy\n",
    "    \n",
    "    def minimumHammingDistance(self, source: List[int], target: List[int], allowedSwaps: List[List[int]]) -> int:\n",
    "        \n",
    "        def hamming(gr1, gr2):\n",
    "            return sum([0 if e in gr2 else 1 for e in gr1]) ## --> did not handle duplicate elements in gr1 and gr2\n",
    "        \n",
    "        n = len(source)\n",
    "        self.father = list(range(n))\n",
    "        for swap in allowedSwaps:\n",
    "            x, y = tuple(swap)\n",
    "            self.union(x, y)\n",
    "        \n",
    "        record = defaultdict(list)\n",
    "        for x in range(n):\n",
    "            fx = self.find(x)\n",
    "            record[fx].append(x)\n",
    "            \n",
    "        res = 0\n",
    "        for u in record.values():\n",
    "            gr1 = [source[idx] for idx in u]\n",
    "            gr2 = [target[idx] for idx in u]\n",
    "            res += hamming(gr1, gr2)\n",
    "        \n",
    "        return res"
   ]
  },
  {
   "cell_type": "markdown",
   "metadata": {},
   "source": [
    "## Attempt 3 - Wrong Answer"
   ]
  },
  {
   "cell_type": "code",
   "execution_count": null,
   "metadata": {},
   "outputs": [],
   "source": [
    "class Solution:\n",
    "    def find(self, x):\n",
    "        while x != self.father[x]:\n",
    "            x = self.father[x]\n",
    "        return x\n",
    "        \n",
    "    def union(self, x, y):\n",
    "        fx = self.find(x)\n",
    "        fy = self.find(y)\n",
    "        if fx < fy:\n",
    "            self.father[y] = fx\n",
    "        else:\n",
    "            self.father[x] = fy\n",
    "    \n",
    "    def minimumHammingDistance(self, source: List[int], target: List[int], allowedSwaps: List[List[int]]) -> int:\n",
    "        \n",
    "        def hamming(gr1, gr2, L):\n",
    "            cnt = 0\n",
    "            for k in gr1:\n",
    "                cnt += min(gr1[k], gr2.get(k, 0))\n",
    "            return L - cnt\n",
    "        \n",
    "        n = len(source)\n",
    "        self.father = list(range(n))\n",
    "        for swap in allowedSwaps:\n",
    "            x, y = tuple(swap)\n",
    "            self.union(x, y)\n",
    "        \n",
    "        record = defaultdict(list)\n",
    "        for x in range(n):\n",
    "            fx = self.find(x)\n",
    "            record[fx].append(x)\n",
    "        \n",
    "        res = 0\n",
    "        for u in record.values():\n",
    "            gr1 = dict()\n",
    "            for idx in u:\n",
    "                gr1[source[idx]] = gr1.get(source[idx], 0) + 1\n",
    "            gr2 = dict()\n",
    "            for idx in u:\n",
    "                gr2[target[idx]] = gr2.get(target[idx], 0) + 1\n",
    "            res += hamming(gr1, gr2, len(u))\n",
    "        \n",
    "        return res"
   ]
  },
  {
   "cell_type": "markdown",
   "metadata": {},
   "source": [
    "## Attempt 4 - Accepted"
   ]
  },
  {
   "cell_type": "code",
   "execution_count": null,
   "metadata": {},
   "outputs": [],
   "source": [
    "class Solution:\n",
    "    def minimumHammingDistance(self, source: List[int], target: List[int], allowedSwaps: List[List[int]]) -> int:\n",
    "        n=len(source)\n",
    "        parent={i:i for i in range(n)}\n",
    "        # 并查集\n",
    "        def find(x):\n",
    "            if x!=parent[x]:\n",
    "                parent[x]=find(parent[x])\n",
    "            return parent[x]\n",
    "        # 搜索根节点\n",
    "        for l,r in allowedSwaps:\n",
    "            a,b=find(l),find(r)\n",
    "            if a!=b:\n",
    "                parent[b]=a\n",
    "        # 获取根节点对应的连通块\n",
    "        dic=collections.defaultdict(list)\n",
    "        for i in range(n):\n",
    "            a=find(i)\n",
    "            dic[a].append(i)\n",
    "        # 计算每个连通块对应的source元素与target的差集\n",
    "        count=0\n",
    "        for k,v in dic.items():\n",
    "            a=Counter([source[i] for i in v])\n",
    "            b=Counter([target[i] for i in v])\n",
    "            count+=len(list((a&b).elements()))\n",
    "        return n-count"
   ]
  },
  {
   "cell_type": "markdown",
   "metadata": {},
   "source": [
    "## Lessons and Thoughts\n",
    "- Note that `self.father` may not already have the right label for the unions even after all union operations are done.\n",
    "- An edge case is when there are duplicates in a group.\n",
    "- Accepted solution is from app - but not sure why it is different from Attempt 3."
   ]
  }
 ],
 "metadata": {
  "kernelspec": {
   "display_name": "Python 3",
   "language": "python",
   "name": "python3"
  },
  "language_info": {
   "codemirror_mode": {
    "name": "ipython",
    "version": 3
   },
   "file_extension": ".py",
   "mimetype": "text/x-python",
   "name": "python",
   "nbconvert_exporter": "python",
   "pygments_lexer": "ipython3",
   "version": "3.7.3"
  }
 },
 "nbformat": 4,
 "nbformat_minor": 2
}
