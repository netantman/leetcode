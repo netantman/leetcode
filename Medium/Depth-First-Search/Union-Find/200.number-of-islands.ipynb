{
 "cells": [
  {
   "cell_type": "markdown",
   "metadata": {},
   "source": [
    "## Attempt 1 - Time Limit Exceeded: BFS is too slow..."
   ]
  },
  {
   "cell_type": "code",
   "execution_count": null,
   "metadata": {},
   "outputs": [],
   "source": [
    "class Solution:\n",
    "    def numIslands(self, grid: List[List[str]]) -> int:\n",
    "        if len(grid)<1:\n",
    "            return 0\n",
    "        rows=len(grid)\n",
    "        cols=len(grid[0])\n",
    "        res=0\n",
    "        for r in range(rows):\n",
    "            for c in range(cols):\n",
    "                if grid[r][c]==\"1\":\n",
    "                    res+=1\n",
    "                    queue=[(r,c)]\n",
    "                    while len(queue)>0:\n",
    "                        head=queue[0]\n",
    "                        queue=queue[1:]\n",
    "                        rr, cc=head\n",
    "                        grid[rr][cc]=\"0\"\n",
    "                        if rr-1>=0 and grid[rr-1][cc]==\"1\":\n",
    "                            queue.append((rr-1, cc))\n",
    "                        if cc-1>=0 and grid[rr][cc-1]==\"1\":\n",
    "                            queue.append((rr, cc-1))\n",
    "                        if rr+1<rows and grid[rr+1][cc]==\"1\":\n",
    "                            queue.append((rr+1, cc))\n",
    "                        if cc+1<cols and grid[rr][cc+1]==\"1\":\n",
    "                            queue.append((rr, cc+1))\n",
    "        return res"
   ]
  },
  {
   "cell_type": "markdown",
   "metadata": {},
   "source": [
    "## Attempt 2 - Accepted"
   ]
  },
  {
   "cell_type": "code",
   "execution_count": null,
   "metadata": {},
   "outputs": [],
   "source": [
    "class Solution:\n",
    "    def numIslands(self, grid: List[List[str]]) -> int:\n",
    "        if len(grid)<1:\n",
    "            return 0\n",
    "        rows=len(grid)\n",
    "        cols=len(grid[0])\n",
    "        res=0\n",
    "        for r in range(rows):\n",
    "            for c in range(cols):\n",
    "                if grid[r][c]==\"1\":\n",
    "                    res+=1\n",
    "                    stack=[(r,c)]\n",
    "                    while len(stack)>0:\n",
    "                        top=stack[-1]\n",
    "                        stack=stack[:-1]\n",
    "                        rr, cc=top\n",
    "                        grid[rr][cc]=\"0\"\n",
    "                        if rr-1>=0 and grid[rr-1][cc]==\"1\":\n",
    "                            stack.append((rr-1, cc))\n",
    "                        if cc-1>=0 and grid[rr][cc-1]==\"1\":\n",
    "                            stack.append((rr, cc-1))\n",
    "                        if rr+1<rows and grid[rr+1][cc]==\"1\":\n",
    "                            stack.append((rr+1, cc))\n",
    "                        if cc+1<cols and grid[rr][cc+1]==\"1\":\n",
    "                            stack.append((rr, cc+1))\n",
    "        return res"
   ]
  },
  {
   "cell_type": "markdown",
   "metadata": {},
   "source": [
    "## Lessons and Thoughts\n",
    "- Though both DFS and BFS give you the right answer. You should think about which one is typically more efficient in practice."
   ]
  }
 ],
 "metadata": {
  "kernelspec": {
   "display_name": "Python 3",
   "language": "python",
   "name": "python3"
  },
  "language_info": {
   "codemirror_mode": {
    "name": "ipython",
    "version": 3
   },
   "file_extension": ".py",
   "mimetype": "text/x-python",
   "name": "python",
   "nbconvert_exporter": "python",
   "pygments_lexer": "ipython3",
   "version": "3.7.3"
  }
 },
 "nbformat": 4,
 "nbformat_minor": 2
}
