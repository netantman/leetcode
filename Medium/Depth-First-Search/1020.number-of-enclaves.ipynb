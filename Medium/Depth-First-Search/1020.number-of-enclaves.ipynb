{
 "cells": [
  {
   "cell_type": "markdown",
   "metadata": {},
   "source": [
    "## Attempt 1 - Accepted"
   ]
  },
  {
   "cell_type": "code",
   "execution_count": null,
   "metadata": {},
   "outputs": [],
   "source": [
    "class Solution:\n",
    "    def numEnclaves(self, A: List[List[int]]) -> int:\n",
    "        R,C=len(A),len(A[0])\n",
    "        s=[]\n",
    "        for r in {0,R-1}:\n",
    "            for c in range(C):\n",
    "                if A[r][c]==1:\n",
    "                    s.append((r,c))\n",
    "                    A[r][c]=2\n",
    "        for r in range(R):\n",
    "            for c in {0,C-1}:\n",
    "                if A[r][c]==1:\n",
    "                    s.append((r,c))\n",
    "                    A[r][c]=2\n",
    "        \n",
    "        while s:\n",
    "            r,c=s.pop(-1)\n",
    "            if r-1>=0 and A[r-1][c]==1:\n",
    "                s.append((r-1,c))\n",
    "                A[r-1][c]=2\n",
    "            if r+1<R and A[r+1][c]==1:\n",
    "                s.append((r+1,c))\n",
    "                A[r+1][c]=2\n",
    "            if c-1>=0 and A[r][c-1]==1:\n",
    "                s.append((r,c-1))\n",
    "                A[r][c-1]=2\n",
    "            if c+1<C and A[r][c+1]==1:\n",
    "                s.append((r,c+1))\n",
    "                A[r][c+1]=2\n",
    "        \n",
    "        res=0\n",
    "        for r in range(R):\n",
    "            for c in range(C):\n",
    "                if A[r][c]==1:\n",
    "                    res+=1\n",
    "        return res"
   ]
  },
  {
   "cell_type": "markdown",
   "metadata": {},
   "source": [
    "## Lessons and Thoughts\n",
    "- For BFS implementation using a queue, see [here](../Breadth-First-Search/1020.number-of-enclaves.ipynb)"
   ]
  }
 ],
 "metadata": {
  "kernelspec": {
   "display_name": "Python 3",
   "language": "python",
   "name": "python3"
  },
  "language_info": {
   "codemirror_mode": {
    "name": "ipython",
    "version": 3
   },
   "file_extension": ".py",
   "mimetype": "text/x-python",
   "name": "python",
   "nbconvert_exporter": "python",
   "pygments_lexer": "ipython3",
   "version": "3.7.3"
  }
 },
 "nbformat": 4,
 "nbformat_minor": 2
}
