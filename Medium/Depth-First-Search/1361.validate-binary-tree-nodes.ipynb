{
 "cells": [
  {
   "cell_type": "markdown",
   "metadata": {},
   "source": [
    "## Attempt 1 - Accepted"
   ]
  },
  {
   "cell_type": "code",
   "execution_count": null,
   "metadata": {},
   "outputs": [],
   "source": [
    "class Solution:\n",
    "    def validateBinaryTreeNodes(self, n: int, leftChild: List[int], rightChild: List[int]) -> bool:\n",
    "        parents=dict()\n",
    "        for idx in range(n):\n",
    "            if (leftChild[idx]>=0 and leftChild[idx] in parents) or (rightChild[idx]>=0 and rightChild[idx] in parents):\n",
    "                return False\n",
    "            parents[leftChild[idx]]=idx\n",
    "            parents[rightChild[idx]]=idx\n",
    "        \n",
    "        root=0\n",
    "        visited=set()\n",
    "        while root in parents:\n",
    "            if root in visited:\n",
    "                return False\n",
    "            else:\n",
    "                visited.add(root)\n",
    "            root=parents[root]\n",
    "        \n",
    "        def dfs(root, visited):\n",
    "            if root in visited:\n",
    "                return None\n",
    "            visited.add(root)\n",
    "            if leftChild[root]!=-1:\n",
    "                visited=dfs(leftChild[root],visited)\n",
    "                if visited is None:\n",
    "                    return None\n",
    "            if rightChild[root]!=-1:\n",
    "                visited=dfs(rightChild[root],visited)\n",
    "                if visited is None:\n",
    "                    return None\n",
    "            return visited\n",
    "        \n",
    "        visited=set()\n",
    "        visited=dfs(root,visited)\n",
    "        if visited is None:\n",
    "            return False\n",
    "        else:\n",
    "            return len(visited)==n"
   ]
  },
  {
   "cell_type": "markdown",
   "metadata": {},
   "source": [
    "## Lessons and Thoughts\n",
    "- Even in looking for roots, it may already encounter cycles."
   ]
  }
 ],
 "metadata": {
  "kernelspec": {
   "display_name": "Python 3",
   "language": "python",
   "name": "python3"
  },
  "language_info": {
   "codemirror_mode": {
    "name": "ipython",
    "version": 3
   },
   "file_extension": ".py",
   "mimetype": "text/x-python",
   "name": "python",
   "nbconvert_exporter": "python",
   "pygments_lexer": "ipython3",
   "version": "3.7.3"
  }
 },
 "nbformat": 4,
 "nbformat_minor": 2
}
