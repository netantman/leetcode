{
 "cells": [
  {
   "cell_type": "markdown",
   "metadata": {},
   "source": [
    "## Attempt 1 - Accepted"
   ]
  },
  {
   "cell_type": "code",
   "execution_count": null,
   "metadata": {},
   "outputs": [],
   "source": [
    "class Solution:\n",
    "    def __init__(self):\n",
    "        self.cache=dict()\n",
    "    def allPathsSourceTarget(self, graph: List[List[int]]) -> List[List[int]]:\n",
    "        N=len(graph)\n",
    "        def inner(node):\n",
    "            if node in self.cache:\n",
    "                return self.cache[node]\n",
    "            if node==N-1:\n",
    "                self.cache[node]=[[N-1]]\n",
    "                return [[N-1]]\n",
    "            neighbors=graph[node]\n",
    "            res=[]\n",
    "            for n in neighbors:\n",
    "                curr=inner(n)\n",
    "                res+=[[node]+c for c in curr]\n",
    "            self.cache[node]=res\n",
    "            return res\n",
    "        return inner(0)"
   ]
  },
  {
   "cell_type": "markdown",
   "metadata": {},
   "source": [
    "## Lessons and Thoughts\n",
    "- This problem is inviting you to use recursion for DFS"
   ]
  }
 ],
 "metadata": {
  "kernelspec": {
   "display_name": "Python 3",
   "language": "python",
   "name": "python3"
  },
  "language_info": {
   "codemirror_mode": {
    "name": "ipython",
    "version": 3
   },
   "file_extension": ".py",
   "mimetype": "text/x-python",
   "name": "python",
   "nbconvert_exporter": "python",
   "pygments_lexer": "ipython3",
   "version": "3.7.3"
  }
 },
 "nbformat": 4,
 "nbformat_minor": 2
}
