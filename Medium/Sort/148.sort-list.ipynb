{
 "cells": [
  {
   "cell_type": "markdown",
   "metadata": {},
   "source": [
    "## Attempt 1 - Accepted"
   ]
  },
  {
   "cell_type": "code",
   "execution_count": null,
   "metadata": {},
   "outputs": [],
   "source": [
    "# Definition for singly-linked list.\n",
    "# class ListNode:\n",
    "#     def __init__(self, val=0, next=None):\n",
    "#         self.val = val\n",
    "#         self.next = next\n",
    "class Solution:\n",
    "    def sortList(self, head: ListNode) -> ListNode:\n",
    "        if head is None or head.next is None:\n",
    "            return head\n",
    "        \n",
    "        cache=[head]\n",
    "        curr=head.next\n",
    "        cache[0].next=None\n",
    "        while curr is not None:\n",
    "            tmp=curr.next\n",
    "            if curr.val<=cache[0].val:\n",
    "                curr.next=cache[0]\n",
    "                cache=[curr]+cache\n",
    "            elif curr.val>=cache[-1].val:\n",
    "                cache[-1].next=curr\n",
    "                curr.next=None\n",
    "                cache.append(curr)\n",
    "            else:\n",
    "                left=0\n",
    "                right=len(cache)-1\n",
    "                while left<right-1:\n",
    "                    mid=(left+right)//2\n",
    "                    if cache[mid].val==curr.val:\n",
    "                        left, right=mid-1, mid\n",
    "                        break\n",
    "                    elif cache[mid].val<curr.val:\n",
    "                        left=mid\n",
    "                    else:\n",
    "                        right=mid\n",
    "                idx=right\n",
    "                cache[idx-1].next=curr\n",
    "                curr.next=cache[idx]\n",
    "                cache=cache[:idx]+[curr]+cache[idx:]\n",
    "            curr=tmp\n",
    "        return cache[0]"
   ]
  },
  {
   "cell_type": "markdown",
   "metadata": {},
   "source": [
    "## Lessons and Thoughts\n",
    "- Compared to Problem 147, just replace insertion sort with bisection sort."
   ]
  }
 ],
 "metadata": {
  "kernelspec": {
   "display_name": "Python 3",
   "language": "python",
   "name": "python3"
  },
  "language_info": {
   "codemirror_mode": {
    "name": "ipython",
    "version": 3
   },
   "file_extension": ".py",
   "mimetype": "text/x-python",
   "name": "python",
   "nbconvert_exporter": "python",
   "pygments_lexer": "ipython3",
   "version": "3.7.3"
  }
 },
 "nbformat": 4,
 "nbformat_minor": 2
}
