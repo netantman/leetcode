{
 "cells": [
  {
   "cell_type": "markdown",
   "metadata": {},
   "source": [
    "## Attempt 1 -  Wrong Answer"
   ]
  },
  {
   "cell_type": "code",
   "execution_count": null,
   "metadata": {},
   "outputs": [],
   "source": [
    "back, front=0,1\n",
    "        L=len(nums)\n",
    "        while front<L:\n",
    "            if front%2==1:\n",
    "                if nums[front]<=nums[back]:  ## --> will not work if nums[front]==nums[back]\n",
    "                    nums[front], nums[back]=nums[back], nums[front]\n",
    "            else:\n",
    "                if nums[front]>=nums[back]:\n",
    "                    nums[front], nums[back]=nums[back], nums[front]\n",
    "            back+=1\n",
    "            front+=1\n",
    "        return"
   ]
  },
  {
   "cell_type": "markdown",
   "metadata": {},
   "source": [
    "## Attempt 2 - Accepted"
   ]
  },
  {
   "cell_type": "code",
   "execution_count": null,
   "metadata": {},
   "outputs": [],
   "source": [
    "class Solution:\n",
    "    def wiggleSort(self, nums: List[int]) -> None:\n",
    "        \"\"\"\n",
    "        Do not return anything, modify nums in-place instead.\n",
    "        \"\"\"\n",
    "        L=len(nums)\n",
    "        snums=sorted(nums)\n",
    "        for x in list(range(1, L, 2)) + list(range(0, L, 2)):\n",
    "            nums[x] = snums.pop()  ## --> this is to make sure the mediums are apart, i.e. we need to put them one at the head and the other at the end\n",
    "        \n",
    "        return"
   ]
  },
  {
   "cell_type": "markdown",
   "metadata": {},
   "source": [
    "## Lessons and Thoughts\n",
    "- The accepted version above is from [here](http://bookshadow.com/weblog/2015/12/31/leetcode-wiggle-sort-ii/). \n",
    "- `pop` to get and delete (by default the last) element of list.\n",
    "- To accomplish the follow-up question, get the mediam using the [quickselect algo](https://en.wikipedia.org/wiki/Quickselect#:~:text=In%20computer%20science%2C%20quickselect%20is,known%20as%20Hoare's%20selection%20algorithm.), which is on average `O(n)`. And then align the elements in place according to whether it is bigger or smaller than mediam."
   ]
  }
 ],
 "metadata": {
  "kernelspec": {
   "display_name": "Python 3",
   "language": "python",
   "name": "python3"
  },
  "language_info": {
   "codemirror_mode": {
    "name": "ipython",
    "version": 3
   },
   "file_extension": ".py",
   "mimetype": "text/x-python",
   "name": "python",
   "nbconvert_exporter": "python",
   "pygments_lexer": "ipython3",
   "version": "3.7.3"
  }
 },
 "nbformat": 4,
 "nbformat_minor": 2
}
