{
 "cells": [
  {
   "cell_type": "markdown",
   "metadata": {},
   "source": [
    "## Attempt 1 - Accepted"
   ]
  },
  {
   "cell_type": "code",
   "execution_count": null,
   "metadata": {},
   "outputs": [],
   "source": [
    "class Solution:\n",
    "    def checkArithmeticSubarrays(self, nums: List[int], l: List[int], r: List[int]) -> List[bool]:\n",
    "        def checkArithmetic(seq):\n",
    "            L = len(seq)\n",
    "            mmin, mmax = min(seq), max(seq)\n",
    "            if (mmax - mmin) % (L - 1) > 0:\n",
    "                return False\n",
    "            d = (mmax - mmin) / (L - 1)\n",
    "            return sorted(seq) == [mmin + d * idx for idx in range(L)]\n",
    "        \n",
    "        return map(checkArithmetic, [nums[li: ri + 1] for li, ri in zip(l, r) ])"
   ]
  },
  {
   "cell_type": "markdown",
   "metadata": {},
   "source": [
    "## Lessons and Thoughts\n",
    "- Brute force"
   ]
  }
 ],
 "metadata": {
  "kernelspec": {
   "display_name": "Python 3",
   "language": "python",
   "name": "python3"
  },
  "language_info": {
   "codemirror_mode": {
    "name": "ipython",
    "version": 3
   },
   "file_extension": ".py",
   "mimetype": "text/x-python",
   "name": "python",
   "nbconvert_exporter": "python",
   "pygments_lexer": "ipython3",
   "version": "3.7.3"
  }
 },
 "nbformat": 4,
 "nbformat_minor": 2
}
