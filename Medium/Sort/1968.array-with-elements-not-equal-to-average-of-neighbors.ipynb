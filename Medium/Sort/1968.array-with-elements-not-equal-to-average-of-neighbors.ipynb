{
 "cells": [
  {
   "cell_type": "markdown",
   "metadata": {},
   "source": [
    "## Attempt 1 - Time Limit Exceeded"
   ]
  },
  {
   "cell_type": "code",
   "execution_count": null,
   "metadata": {},
   "outputs": [],
   "source": [
    "class Solution:\n",
    "    def rearrangeArray(self, nums: List[int]) -> List[int]:\n",
    "        nums = sorted(nums)\n",
    "        L = len(nums)\n",
    "        a, b = nums[:L // 2], nums[L // 2:]\n",
    "        res = []\n",
    "        while a:\n",
    "            res.append(b.pop(0))\n",
    "            res.append(a.pop(0))\n",
    "        if b:\n",
    "            res.append(b.pop(0))\n",
    "        return res"
   ]
  },
  {
   "cell_type": "markdown",
   "metadata": {},
   "source": [
    "## Attempt 2 - Accepted"
   ]
  },
  {
   "cell_type": "code",
   "execution_count": null,
   "metadata": {},
   "outputs": [],
   "source": [
    "class Solution:\n",
    "    def rearrangeArray(self, nums: List[int]) -> List[int]:\n",
    "        nums = sorted(nums)\n",
    "        L = len(nums)\n",
    "        a, b = nums[:L // 2], nums[L // 2:]\n",
    "        res = [None for _ in nums]\n",
    "        res[1::2] = a\n",
    "        res[0::2] = b\n",
    "        return res"
   ]
  },
  {
   "cell_type": "markdown",
   "metadata": {},
   "source": [
    "## Lessons and Thoughts\n",
    "- For `python` lists, assignment is faster than `pop` and `append` individual elements."
   ]
  }
 ],
 "metadata": {
  "kernelspec": {
   "display_name": "Python 3",
   "language": "python",
   "name": "python3"
  },
  "language_info": {
   "codemirror_mode": {
    "name": "ipython",
    "version": 3
   },
   "file_extension": ".py",
   "mimetype": "text/x-python",
   "name": "python",
   "nbconvert_exporter": "python",
   "pygments_lexer": "ipython3",
   "version": "3.7.3"
  }
 },
 "nbformat": 4,
 "nbformat_minor": 2
}
