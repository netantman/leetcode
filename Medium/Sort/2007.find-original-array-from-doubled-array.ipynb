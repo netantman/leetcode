{
 "cells": [
  {
   "cell_type": "markdown",
   "metadata": {},
   "source": [
    "## Attempt 1 - Wrong Answer"
   ]
  },
  {
   "cell_type": "code",
   "execution_count": null,
   "metadata": {},
   "outputs": [],
   "source": [
    "class Solution:\n",
    "    def findOriginalArray(self, changed: List[int]) -> List[int]:\n",
    "        L = len(changed)\n",
    "        if L % 2 > 0:\n",
    "            return []\n",
    "        \n",
    "        record = dict()\n",
    "        for c in changed:\n",
    "            record[c] = record.get(c, 0) + 1\n",
    "        \n",
    "        keys = sorted(record.keys())\n",
    "        res = []\n",
    "        for k in keys:\n",
    "            if record[k] == 0:\n",
    "                continue\n",
    "            if 2 * k not in record or record[2 * k] < record[k]: ## --> did not handle the edge case of 0\n",
    "                return []\n",
    "            res += [k] * record[k]\n",
    "            record[2 * k] -= record[k]\n",
    "            record[k] = 0\n",
    "        return res"
   ]
  },
  {
   "cell_type": "markdown",
   "metadata": {},
   "source": [
    "## Attempt 2 - Accepted"
   ]
  },
  {
   "cell_type": "code",
   "execution_count": null,
   "metadata": {},
   "outputs": [],
   "source": [
    "class Solution:\n",
    "    def findOriginalArray(self, changed: List[int]) -> List[int]:\n",
    "        L = len(changed)\n",
    "        if L % 2 > 0:\n",
    "            return []\n",
    "        \n",
    "        record = dict()\n",
    "        for c in changed:\n",
    "            record[c] = record.get(c, 0) + 1\n",
    "        \n",
    "        keys = sorted(record.keys())\n",
    "        res = []\n",
    "        for k in keys:\n",
    "            if k == 0 and record[k] % 2 > 0:\n",
    "                return []\n",
    "            if k == 0 and record[k] % 2 == 0:\n",
    "                res += [0] * (record[0] // 2)\n",
    "                continue\n",
    "            if record[k] == 0:\n",
    "                continue\n",
    "            if 2 * k not in record or record[2 * k] < record[k]:\n",
    "                return []\n",
    "            res += [k] * record[k]\n",
    "            record[2 * k] -= record[k]\n",
    "            record[k] = 0\n",
    "            \n",
    "        return res"
   ]
  },
  {
   "cell_type": "markdown",
   "metadata": {},
   "source": [
    "## Lessons and Thoughts\n",
    "- Missed the edge case about 0."
   ]
  }
 ],
 "metadata": {
  "kernelspec": {
   "display_name": "Python 3",
   "language": "python",
   "name": "python3"
  },
  "language_info": {
   "codemirror_mode": {
    "name": "ipython",
    "version": 3
   },
   "file_extension": ".py",
   "mimetype": "text/x-python",
   "name": "python",
   "nbconvert_exporter": "python",
   "pygments_lexer": "ipython3",
   "version": "3.7.3"
  }
 },
 "nbformat": 4,
 "nbformat_minor": 2
}
