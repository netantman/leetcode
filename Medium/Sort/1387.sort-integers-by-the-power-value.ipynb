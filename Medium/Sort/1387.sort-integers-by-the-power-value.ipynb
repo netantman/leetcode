{
 "cells": [
  {
   "cell_type": "markdown",
   "metadata": {},
   "source": [
    "## Attempt 1 - Accepted"
   ]
  },
  {
   "cell_type": "code",
   "execution_count": null,
   "metadata": {},
   "outputs": [],
   "source": [
    "class Solution:\n",
    "    def getKth(self, lo: int, hi: int, k: int) -> int:\n",
    "        record=dict()\n",
    "        record[1]=0\n",
    "        def find(x):\n",
    "            if x in record:\n",
    "                return record[x]\n",
    "            path=[x]\n",
    "            while path[-1]!=1:\n",
    "                if path[-1]%2>0:\n",
    "                    path.append(path[-1]*3+1)\n",
    "                else:\n",
    "                    path.append(path[-1]//2)\n",
    "            for idx, elem in enumerate(reversed(path)):\n",
    "                record[elem]=idx\n",
    "            return len(path)-1\n",
    "        h=[(find(x),x) for x in range(lo, hi+1)]\n",
    "        h=sorted(h)\n",
    "        return h[k-1][1]"
   ]
  },
  {
   "cell_type": "markdown",
   "metadata": {},
   "source": [
    "## Lessons and Thoughts\n",
    "- Straightforward. Just that if you use a `list` to record the distance, note that the intermediate number can go as high as 3000 although the upper bound of the numbers is 1000."
   ]
  }
 ],
 "metadata": {
  "kernelspec": {
   "display_name": "Python 3",
   "language": "python",
   "name": "python3"
  },
  "language_info": {
   "codemirror_mode": {
    "name": "ipython",
    "version": 3
   },
   "file_extension": ".py",
   "mimetype": "text/x-python",
   "name": "python",
   "nbconvert_exporter": "python",
   "pygments_lexer": "ipython3",
   "version": "3.7.3"
  }
 },
 "nbformat": 4,
 "nbformat_minor": 2
}
