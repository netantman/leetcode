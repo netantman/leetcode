{
 "cells": [
  {
   "cell_type": "markdown",
   "metadata": {},
   "source": [
    "## Idea\n",
    "\n",
    "This usually applies to cases where when the inputs are sorted, it greatly help the problem."
   ]
  },
  {
   "cell_type": "markdown",
   "metadata": {},
   "source": [
    "## Traps\n",
    "- Note that it may not be straightforward to implement some of the classical sorting algorithms, though you are familiar with them on paper. The easiest way is probably do an insertion sort - and when doing the insertion, make use of binary search.\n",
    "- Probably will also pay off if familiar with the exotic use of `sorted`, e.g. see Problem 179.\n",
    "- There are a class of problems where the input is an array of intervals, where sorting by left point usually helps. "
   ]
  }
 ],
 "metadata": {
  "kernelspec": {
   "display_name": "Python 3",
   "language": "python",
   "name": "python3"
  },
  "language_info": {
   "codemirror_mode": {
    "name": "ipython",
    "version": 3
   },
   "file_extension": ".py",
   "mimetype": "text/x-python",
   "name": "python",
   "nbconvert_exporter": "python",
   "pygments_lexer": "ipython3",
   "version": "3.7.3"
  }
 },
 "nbformat": 4,
 "nbformat_minor": 2
}
