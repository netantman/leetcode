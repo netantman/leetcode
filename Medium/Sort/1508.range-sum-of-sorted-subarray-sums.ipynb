{
 "cells": [
  {
   "cell_type": "markdown",
   "metadata": {},
   "source": [
    "## Attempt 1 - Time Limit Exceeded"
   ]
  },
  {
   "cell_type": "code",
   "execution_count": null,
   "metadata": {},
   "outputs": [],
   "source": [
    "class Solution:\n",
    "    def rangeSum(self, nums: List[int], n: int, left: int, right: int) -> int:\n",
    "        \n",
    "        def merge_two_sorted(a, b):\n",
    "            res = []\n",
    "            a = [i for i in a]\n",
    "            b = [j for j in b]\n",
    "            while a and b:\n",
    "                if a[0] <= b[0]:\n",
    "                    res.append(a.pop(0)) ## -> careful: when you pop the list of a passed, it will change it\n",
    "                else:\n",
    "                    res.append(b.pop(0))\n",
    "            while a:\n",
    "                res.append(a.pop(0))\n",
    "            while b:\n",
    "                res.append(b.pop(0))\n",
    "            return res\n",
    "        \n",
    "        cumsum = [0]\n",
    "        for num in nums:\n",
    "            cumsum.append(cumsum[-1] + num)\n",
    "        _ = cumsum.pop(0)\n",
    "        s = [c for c in cumsum]\n",
    "        while cumsum:\n",
    "            head = cumsum.pop(0)\n",
    "            cumsum = [c - head for c in cumsum]\n",
    "            s = merge_two_sorted(s, cumsum)\n",
    "        \n",
    "        return sum(s[left-1:right]) % (10 ** 9 + 7)"
   ]
  },
  {
   "cell_type": "markdown",
   "metadata": {},
   "source": [
    "## Attempt 2 - Accepted"
   ]
  },
  {
   "cell_type": "code",
   "execution_count": null,
   "metadata": {},
   "outputs": [],
   "source": [
    "class Solution:\n",
    "    def rangeSum(self, nums: List[int], n: int, left: int, right: int) -> int:\n",
    "        MODULO = 10 ** 9 + 7\n",
    "        sumslength = n * (n+1) // 2\n",
    "        sums = []\n",
    "        index = 0\n",
    "        \n",
    "        for i in range(n):\n",
    "            total = 0\n",
    "            for j in range(i, n):\n",
    "                total += nums[j]\n",
    "                sums.append(total)\n",
    "        \n",
    "        sums = sorted(sums)\n",
    "        return sum(sums[left-1:right]) % MODULO"
   ]
  },
  {
   "cell_type": "markdown",
   "metadata": {},
   "source": [
    "## Lessons and Thoughts\n",
    "- Be careful to pass `list` as arguments in functions and change in place.\n",
    "- In Attempt 1, merging of two sorted takes `O(n)`, so overall that is an extra `O(n^2)`, which is probably not as quick as Attempt 2, which is sorting it at the end.\n",
    "- Attempt 2 is from the app."
   ]
  }
 ],
 "metadata": {
  "kernelspec": {
   "display_name": "Python 3",
   "language": "python",
   "name": "python3"
  },
  "language_info": {
   "codemirror_mode": {
    "name": "ipython",
    "version": 3
   },
   "file_extension": ".py",
   "mimetype": "text/x-python",
   "name": "python",
   "nbconvert_exporter": "python",
   "pygments_lexer": "ipython3",
   "version": "3.7.3"
  }
 },
 "nbformat": 4,
 "nbformat_minor": 2
}
