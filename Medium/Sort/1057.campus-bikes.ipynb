{
 "cells": [
  {
   "cell_type": "markdown",
   "metadata": {},
   "source": [
    "## Attempt 1 - Time Limit Exceeded"
   ]
  },
  {
   "cell_type": "code",
   "execution_count": null,
   "metadata": {},
   "outputs": [],
   "source": [
    "class Solution:\n",
    "    def assignBikes(self, workers: List[List[int]], bikes: List[List[int]]) -> List[int]:\n",
    "        def dist(w, b):\n",
    "            wx, wy = tuple(w)\n",
    "            bx, by = tuple(b)\n",
    "            return abs(wx - bx) + abs(wy - by)\n",
    "        \n",
    "        record = []\n",
    "        for idx_w, w in enumerate(workers):\n",
    "            for idx_b, b in enumerate(bikes):\n",
    "                record.append((dist(w, b), idx_b, idx_w))\n",
    "        \n",
    "        record = sorted(record)\n",
    "        res = [None for _ in workers]\n",
    "        chosen_workers = set()\n",
    "        chosen_bikes = set()\n",
    "        \n",
    "        while record:\n",
    "            _, idx_b, idx_w = record.pop(0)\n",
    "            if idx_w in chosen_workers or idx_b in chosen_bikes:\n",
    "                continue\n",
    "            \n",
    "            res[idx_w] = idx_b\n",
    "            chosen_workers.add(idx_w)\n",
    "            chosen_bikes.add(idx_b)\n",
    "        \n",
    "        return res"
   ]
  },
  {
   "cell_type": "markdown",
   "metadata": {},
   "source": [
    "## Attempt 2 - Accepted"
   ]
  },
  {
   "cell_type": "code",
   "execution_count": null,
   "metadata": {},
   "outputs": [],
   "source": [
    "class Solution:\n",
    "    def assignBikes(self, workers, bikes):\n",
    "        \"\"\"\n",
    "        :type workers: List[List[int]]\n",
    "        :type bikes: List[List[int]]\n",
    "        :rtype: List[int]\n",
    "        \"\"\"\n",
    "        distances = []\n",
    "        for i, worker in enumerate(workers):\n",
    "            for j, bike in enumerate(bikes):\n",
    "                distance = abs(worker[0] - bike[0]) + abs(worker[1] - bike[1])\n",
    "                distances.append((distance, i, j))\n",
    "        distances.sort()\n",
    "        \n",
    "        eleset = set()\n",
    "        res = [-1] * len(workers)\n",
    "        for d, w, b in distances:\n",
    "            if res[w] == -1 and b not in eleset:\n",
    "                res[w] = b\n",
    "                eleset.add(b)\n",
    "        return res"
   ]
  },
  {
   "cell_type": "markdown",
   "metadata": {},
   "source": [
    "## Lessons and Thoughts\n",
    "- The two algos are exactly the same. So `.sort()` is more efficient than `sorted()`?"
   ]
  }
 ],
 "metadata": {
  "kernelspec": {
   "display_name": "Python 3",
   "language": "python",
   "name": "python3"
  },
  "language_info": {
   "codemirror_mode": {
    "name": "ipython",
    "version": 3
   },
   "file_extension": ".py",
   "mimetype": "text/x-python",
   "name": "python",
   "nbconvert_exporter": "python",
   "pygments_lexer": "ipython3",
   "version": "3.7.3"
  }
 },
 "nbformat": 4,
 "nbformat_minor": 2
}
