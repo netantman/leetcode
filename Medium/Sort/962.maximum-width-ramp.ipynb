{
 "cells": [
  {
   "cell_type": "markdown",
   "metadata": {},
   "source": [
    "## Attempt 1 - Wrong Answer"
   ]
  },
  {
   "cell_type": "markdown",
   "metadata": {},
   "source": [
    "Simple two pointers would not work."
   ]
  },
  {
   "cell_type": "code",
   "execution_count": null,
   "metadata": {},
   "outputs": [],
   "source": [
    "class Solution:\n",
    "    def maxWidthRamp(self, A: List[int]) -> int:\n",
    "        L=len(A)\n",
    "        if L<=1:\n",
    "            return 0\n",
    "        start,end=0,L-1\n",
    "        maxx=1\n",
    "        left=A[start]\n",
    "        while end>start:\n",
    "            if A[start]<=A[end]:\n",
    "                maxx=max(maxx, end-start)\n",
    "                break\n",
    "            else:\n",
    "                end-=1\n",
    "        else:\n",
    "            end=start+1\n",
    "        \n",
    "        while end<L:\n",
    "            if A[start]>A[end]:\n",
    "                start+=1\n",
    "                if end==start:\n",
    "                    end+=1\n",
    "            else:\n",
    "                maxx=max(maxx, end-start)\n",
    "                if A[start]<left:\n",
    "                    left=A[start]\n",
    "                    while end<L and A[end]>=left:\n",
    "                        maxx=max(maxx, end-start)\n",
    "                        end+=1\n",
    "                else:\n",
    "                    start+=1\n",
    "                    if end==start:\n",
    "                        end+=1\n",
    "        return maxx"
   ]
  },
  {
   "cell_type": "markdown",
   "metadata": {},
   "source": [
    "## Attempt 2 - Time Limit Exceeded"
   ]
  },
  {
   "cell_type": "code",
   "execution_count": null,
   "metadata": {},
   "outputs": [],
   "source": [
    "class Solution:\n",
    "    def maxWidthRamp(self, A: List[int]) -> int:\n",
    "        L=len(A)\n",
    "        if L<=1:\n",
    "            return 0\n",
    "        left_stack, right_stack=[], []\n",
    "        \n",
    "        for idx in range(L-1):\n",
    "            if A[idx]<=A[idx+1]:\n",
    "                break\n",
    "        else:\n",
    "            return 0 ## --> just handling this special case is not enough.\n",
    "        \n",
    "        maxx=1\n",
    "        for idx in range(L):\n",
    "            # print(left_stack)\n",
    "            # print(right_stack)\n",
    "            # print(\"\")\n",
    "            if len(left_stack)<1:\n",
    "                start,end=idx,L-1\n",
    "                while end>start:\n",
    "                    if A[start]<=A[end]:\n",
    "                        maxx=max(maxx, end-start)\n",
    "                        break\n",
    "                    else:\n",
    "                        end-=1\n",
    "                if end>start:\n",
    "                    left_stack.append(start)\n",
    "                    right_stack.append(end)\n",
    "            else:\n",
    "                if A[idx]<A[left_stack[-1]]:\n",
    "                    start,end=idx,L-1\n",
    "                    while end>right_stack[-1]:\n",
    "                        if A[start]<=A[end]:\n",
    "                            maxx=max(maxx, end-start)\n",
    "                            break\n",
    "                        else:\n",
    "                            end-=1\n",
    "                    if end>right_stack[-1]:\n",
    "                        left_stack.append(start)\n",
    "                        right_stack.append(end-1)\n",
    "        \n",
    "        return maxx"
   ]
  },
  {
   "cell_type": "markdown",
   "metadata": {},
   "source": [
    "## Attempt 3 - Time Limit Exceeded"
   ]
  },
  {
   "cell_type": "code",
   "execution_count": null,
   "metadata": {},
   "outputs": [],
   "source": [
    "class Solution:\n",
    "    def maxWidthRamp(self, A: List[int]) -> int:\n",
    "        L=len(A)\n",
    "        if L<=1:\n",
    "            return 0\n",
    "        left_stack, right_stack=[], []\n",
    "        \n",
    "        for idx in range(L-1):\n",
    "            if A[idx]<=A[idx+1]:\n",
    "                break\n",
    "        else:\n",
    "            return 0\n",
    "        \n",
    "        if A==sorted(A, reverse=True):\n",
    "            maxx=1\n",
    "            cnt=0\n",
    "            for idx in range(L-1):\n",
    "                if A[idx]==A[idx+1]:\n",
    "                    cnt+=1\n",
    "                else:\n",
    "                    maxx=max(maxx, cnt)\n",
    "                    cnt=0\n",
    "            maxx=max(maxx, cnt)   ## --> still not enough...\n",
    "            return maxx\n",
    "        \n",
    "        maxx=1\n",
    "        for idx in range(L):\n",
    "            if len(left_stack)<1:\n",
    "                start,end=idx,L-1\n",
    "                while end>start:\n",
    "                    if A[start]<=A[end]:\n",
    "                        maxx=max(maxx, end-start)\n",
    "                        break\n",
    "                    else:\n",
    "                        end-=1\n",
    "                if end>start:\n",
    "                    left_stack.append(start)\n",
    "                    right_stack.append(end)\n",
    "            else:\n",
    "                if A[idx]<A[left_stack[-1]]:\n",
    "                    start,end=idx,L-1\n",
    "                    while end>right_stack[-1]:\n",
    "                        if A[start]<=A[end]:\n",
    "                            maxx=max(maxx, end-start)\n",
    "                            break\n",
    "                        else:\n",
    "                            end-=1\n",
    "                    if end>right_stack[-1]:\n",
    "                        left_stack.append(start)\n",
    "                        right_stack.append(end-1)\n",
    "        \n",
    "        return maxx"
   ]
  },
  {
   "cell_type": "markdown",
   "metadata": {},
   "source": [
    "## Attempt 4 - Accepted"
   ]
  },
  {
   "cell_type": "code",
   "execution_count": null,
   "metadata": {},
   "outputs": [],
   "source": [
    "class Solution:\n",
    "    def maxWidthRamp(self, A: List[int]) -> int:\n",
    "        res=0\n",
    "        m=float(\"inf\")\n",
    "        for i in sorted(range(len(A)), key=A.__getitem__):\n",
    "            res=max(res, i-m)\n",
    "            m=min(m,i)  ## --> m is the leftmost idx with A[m]<=A[i]\n",
    "        return res"
   ]
  },
  {
   "cell_type": "markdown",
   "metadata": {},
   "source": [
    "## Lessons and Thoughts\n",
    "- Solution from leetcode app (Attempt 4). See comments there to get the idea.\n",
    "- `getitem` as `key` in sorted: the way to sort index by array values.\n",
    "- Given a sorted array, get the longest consecutive length with same element, remember to get max after the loop is over: see Attempt 3."
   ]
  }
 ],
 "metadata": {
  "kernelspec": {
   "display_name": "Python 3",
   "language": "python",
   "name": "python3"
  },
  "language_info": {
   "codemirror_mode": {
    "name": "ipython",
    "version": 3
   },
   "file_extension": ".py",
   "mimetype": "text/x-python",
   "name": "python",
   "nbconvert_exporter": "python",
   "pygments_lexer": "ipython3",
   "version": "3.7.3"
  }
 },
 "nbformat": 4,
 "nbformat_minor": 2
}
