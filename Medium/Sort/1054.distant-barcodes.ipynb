{
 "cells": [
  {
   "cell_type": "markdown",
   "metadata": {},
   "source": [
    "## Attempt 1 - Accepted"
   ]
  },
  {
   "cell_type": "code",
   "execution_count": null,
   "metadata": {},
   "outputs": [],
   "source": [
    "class Solution:\n",
    "    def rearrangeBarcodes(self, barcodes: List[int]) -> List[int]:\n",
    "        record=dict()\n",
    "        for bar in barcodes:\n",
    "            record[bar]=record.get(bar,0)+1\n",
    "        record=sorted([(k,v) for k,v in record.items()], key=lambda x: x[1], reverse=True)\n",
    "        max_count=record[0][1]\n",
    "        read=[]\n",
    "        for k,v in record:\n",
    "            read+=[k]*v\n",
    "        L=len(read)\n",
    "        res=[[] for _ in range(max_count)]\n",
    "        for idx in range(L):\n",
    "            res[idx%max_count].append(read[idx])\n",
    "        ress=[]\n",
    "        for r in res:\n",
    "            ress+=r\n",
    "        return ress"
   ]
  },
  {
   "cell_type": "markdown",
   "metadata": {},
   "source": [
    "## Lesssons and Thoughts\n",
    "- Almost identical to Problem 767."
   ]
  }
 ],
 "metadata": {
  "kernelspec": {
   "display_name": "Python 3",
   "language": "python",
   "name": "python3"
  },
  "language_info": {
   "codemirror_mode": {
    "name": "ipython",
    "version": 3
   },
   "file_extension": ".py",
   "mimetype": "text/x-python",
   "name": "python",
   "nbconvert_exporter": "python",
   "pygments_lexer": "ipython3",
   "version": "3.7.3"
  }
 },
 "nbformat": 4,
 "nbformat_minor": 2
}
