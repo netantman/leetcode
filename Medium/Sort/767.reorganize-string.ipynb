{
 "cells": [
  {
   "cell_type": "markdown",
   "metadata": {},
   "source": [
    "## Attempt 1 - Accepted"
   ]
  },
  {
   "cell_type": "code",
   "execution_count": null,
   "metadata": {},
   "outputs": [],
   "source": [
    "class Solution:\n",
    "    def reorganizeString(self, S: str) -> str:\n",
    "        cache=dict()\n",
    "        for c in S:\n",
    "            cache[c]=cache.get(c,0)+1\n",
    "        cache=sorted([(k,v) for k,v in cache.items()], key=lambda x:x[1], reverse=True)\n",
    "        majority=cache[0]\n",
    "        L=len(S)\n",
    "        if L-majority[1]>=majority[1]-1:\n",
    "            res=[majority[0] for _ in range(majority[1])]\n",
    "            to_choose=\"\"\n",
    "            for k,v in cache[1:]:\n",
    "                to_choose+=k*v\n",
    "            for idx,c in enumerate(to_choose):\n",
    "                res[idx%majority[1]]+=c\n",
    "            res=\"\".join(res)\n",
    "            return res\n",
    "        else:\n",
    "            return \"\""
   ]
  },
  {
   "cell_type": "markdown",
   "metadata": {},
   "source": [
    "## Lessons and Thoughts\n",
    "- The key is to recognize that we need to place the most frequent letter first."
   ]
  }
 ],
 "metadata": {
  "kernelspec": {
   "display_name": "Python 3",
   "language": "python",
   "name": "python3"
  },
  "language_info": {
   "codemirror_mode": {
    "name": "ipython",
    "version": 3
   },
   "file_extension": ".py",
   "mimetype": "text/x-python",
   "name": "python",
   "nbconvert_exporter": "python",
   "pygments_lexer": "ipython3",
   "version": "3.7.3"
  }
 },
 "nbformat": 4,
 "nbformat_minor": 2
}
