{
 "cells": [
  {
   "cell_type": "markdown",
   "metadata": {},
   "source": [
    "## Attempt 1 - Wrong Answer"
   ]
  },
  {
   "cell_type": "code",
   "execution_count": null,
   "metadata": {},
   "outputs": [],
   "source": [
    "class Solution:\n",
    "    def sortArray(self, nums: List[int]) -> List[int]:\n",
    "        def partition(nums,l,r):\n",
    "            if l==r:\n",
    "                return l\n",
    "            pivot=random.randint(l,r)\n",
    "            val=nums[pivot]\n",
    "            nums[pivot],nums[r]=nums[r],nums[pivot]\n",
    "            left,right=l,r\n",
    "            while left<right:\n",
    "                if nums[left]<val:\n",
    "                    left+=1\n",
    "                elif nums[right]>=val:\n",
    "                    right-=1\n",
    "                else:\n",
    "                    nums[left],nums[right]=nums[right],nums[left]\n",
    "            nums[left],nums[left+1:r+1]=val,nums[left:r]\n",
    "            return pivot ## --> should return left\n",
    "        \n",
    "        def quickSort(nums,l,r):\n",
    "            pivot=partition(nums,l,r)\n",
    "            if pivot>l:\n",
    "                quickSort(nums,l,pivot-1)\n",
    "            if pivot<r:\n",
    "                quickSort(nums,pivot+1,r)\n",
    "        \n",
    "        quickSort(nums,0,len(nums)-1)\n",
    "        return nums"
   ]
  },
  {
   "cell_type": "markdown",
   "metadata": {},
   "source": [
    "## Attemp 2 - Accepted"
   ]
  },
  {
   "cell_type": "code",
   "execution_count": null,
   "metadata": {},
   "outputs": [],
   "source": [
    "class Solution:\n",
    "    def sortArray(self, nums: List[int]) -> List[int]:\n",
    "        def partition(nums,l,r):\n",
    "            if l==r:\n",
    "                return l\n",
    "            pivot=random.randint(l,r)\n",
    "            val=nums[pivot]\n",
    "            nums[pivot],nums[r]=nums[r],nums[pivot]\n",
    "            left,right=l,r\n",
    "            while left<right:\n",
    "                if nums[left]<val:\n",
    "                    left+=1\n",
    "                elif nums[right]>=val:\n",
    "                    right-=1\n",
    "                else:\n",
    "                    nums[left],nums[right]=nums[right],nums[left]\n",
    "            nums[left],nums[left+1:r+1]=val,nums[left:r]\n",
    "            return left\n",
    "        \n",
    "        def quickSort(nums,l,r):\n",
    "            pivot=partition(nums,l,r)\n",
    "            if pivot>l:\n",
    "                quickSort(nums,l,pivot-1)\n",
    "            if pivot<r:\n",
    "                quickSort(nums,pivot+1,r)\n",
    "            \n",
    "        \n",
    "        quickSort(nums,0,len(nums)-1)\n",
    "        return nums"
   ]
  },
  {
   "cell_type": "markdown",
   "metadata": {},
   "source": [
    "## Lessons and Thoughts\n",
    "- Implemented the quick sort algo. It is harder than you thought\n",
    "- Partition using two-pointers approach: again it helps to be very clear what each pointer means."
   ]
  }
 ],
 "metadata": {
  "kernelspec": {
   "display_name": "Python 3",
   "language": "python",
   "name": "python3"
  },
  "language_info": {
   "codemirror_mode": {
    "name": "ipython",
    "version": 3
   },
   "file_extension": ".py",
   "mimetype": "text/x-python",
   "name": "python",
   "nbconvert_exporter": "python",
   "pygments_lexer": "ipython3",
   "version": "3.7.3"
  }
 },
 "nbformat": 4,
 "nbformat_minor": 2
}
