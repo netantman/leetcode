{
 "cells": [
  {
   "cell_type": "markdown",
   "metadata": {},
   "source": [
    "## Attempt 1 - Brute Force, Time Limite Exceeded"
   ]
  },
  {
   "cell_type": "code",
   "execution_count": null,
   "metadata": {},
   "outputs": [],
   "source": [
    "class Solution:\n",
    "    def findRightInterval(self, intervals: List[List[int]]) -> List[int]:\n",
    "        L=len(intervals)\n",
    "        res=[]\n",
    "        for interval in intervals:\n",
    "            m,mm=None,None\n",
    "            for idx in range(L):\n",
    "                curr=intervals[idx]\n",
    "                if curr[0]>=interval[1]:\n",
    "                    if mm is None or curr[0]<=mm:\n",
    "                        m, mm=idx,curr[0]\n",
    "            if m is None:\n",
    "                res.append(-1)\n",
    "            else:\n",
    "                res.append(m)\n",
    "        return res"
   ]
  },
  {
   "cell_type": "markdown",
   "metadata": {},
   "source": [
    "## Attempt 2 - Accepted"
   ]
  },
  {
   "cell_type": "code",
   "execution_count": null,
   "metadata": {},
   "outputs": [],
   "source": [
    "class Solution:\n",
    "    def findRightInterval(self, intervals: List[List[int]]) -> List[int]:\n",
    "        L=len(intervals)\n",
    "        if L<1:\n",
    "            return []\n",
    "        elif L==1:\n",
    "            return [-1]\n",
    "        res=[]\n",
    "        sort=[[intervals[idx], idx] for idx in range(L)]\n",
    "        sort=sorted(sort, key=lambda x:x[0][0])\n",
    "        \n",
    "        for interval in intervals:\n",
    "            left, right=0,L-1\n",
    "            while left<right-1:\n",
    "                mid=(left+right)//2\n",
    "                if sort[mid][0][0]>=interval[1]:\n",
    "                    right=mid\n",
    "                else:\n",
    "                    left=mid\n",
    "            if sort[left][0][0]>=interval[1]:\n",
    "                res.append(sort[left][1])\n",
    "            elif sort[right][0][0]>=interval[1]:\n",
    "                res.append(sort[right][1])\n",
    "            else:\n",
    "                res.append(-1)\n",
    "        \n",
    "        return res"
   ]
  },
  {
   "cell_type": "markdown",
   "metadata": {},
   "source": [
    "## Lessons and Thoughts\n",
    "- If the constraint that no starting point is the same is relaxed, we need to first sort by start point and then index. \n",
    "- Try to refrain of trying to think of too fancy algo: start with the obvious and analyze the time complexity, which will give you a hint of what fancier algo to think of."
   ]
  }
 ],
 "metadata": {
  "kernelspec": {
   "display_name": "Python 3",
   "language": "python",
   "name": "python3"
  },
  "language_info": {
   "codemirror_mode": {
    "name": "ipython",
    "version": 3
   },
   "file_extension": ".py",
   "mimetype": "text/x-python",
   "name": "python",
   "nbconvert_exporter": "python",
   "pygments_lexer": "ipython3",
   "version": "3.7.3"
  }
 },
 "nbformat": 4,
 "nbformat_minor": 2
}
