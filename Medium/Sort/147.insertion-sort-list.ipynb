{
 "cells": [
  {
   "cell_type": "markdown",
   "metadata": {},
   "source": [
    "## Attempt 1 - Wrong Answer"
   ]
  },
  {
   "cell_type": "code",
   "execution_count": null,
   "metadata": {},
   "outputs": [],
   "source": [
    "# Definition for singly-linked list.\n",
    "# class ListNode:\n",
    "#     def __init__(self, val=0, next=None):\n",
    "#         self.val = val\n",
    "#         self.next = next\n",
    "class Solution:\n",
    "    def insertionSortList(self, head: ListNode) -> ListNode:\n",
    "        if head is None or head.next is None:\n",
    "            return head\n",
    "        \n",
    "        cache=[head]\n",
    "        curr=head.next\n",
    "        while curr is not None:\n",
    "            if curr.val<=cache[0]:\n",
    "                curr.next=cache[0]\n",
    "                cache=[curr]+cache\n",
    "            elif curr.val>=cache[-1]:\n",
    "                cache[-1].next=curr\n",
    "                curr.next=None\n",
    "                cache.append(curr)\n",
    "            else:\n",
    "                for idx in range(1, len(cache)):\n",
    "                    if cache[idx]>=curr.val:\n",
    "                        break\n",
    "                cache[idx-1].next=curr\n",
    "                curr.next=cache[idx]\n",
    "                cache=cache[:idx]+[curr]+curr[idx:]  ## --> typo\n",
    "            curr=curr.next  ## --> curr.next has been changed above\n",
    "        return cache[0]"
   ]
  },
  {
   "cell_type": "markdown",
   "metadata": {},
   "source": [
    "## Attempt 2 - Accepted"
   ]
  },
  {
   "cell_type": "code",
   "execution_count": null,
   "metadata": {},
   "outputs": [],
   "source": [
    "# Definition for singly-linked list.\n",
    "# class ListNode:\n",
    "#     def __init__(self, val=0, next=None):\n",
    "#         self.val = val\n",
    "#         self.next = next\n",
    "class Solution:\n",
    "    def insertionSortList(self, head: ListNode) -> ListNode:\n",
    "        if head is None or head.next is None:\n",
    "            return head\n",
    "        \n",
    "        cache=[head]\n",
    "        curr=head.next\n",
    "        cache[0].next=None\n",
    "        while curr is not None:\n",
    "            tmp=curr.next\n",
    "            if curr.val<=cache[0].val:\n",
    "                curr.next=cache[0]\n",
    "                cache=[curr]+cache\n",
    "            elif curr.val>=cache[-1].val:\n",
    "                cache[-1].next=curr\n",
    "                curr.next=None\n",
    "                cache.append(curr)\n",
    "            else:\n",
    "                for idx in range(1, len(cache)):\n",
    "                    if cache[idx].val>=curr.val:\n",
    "                        break\n",
    "                cache[idx-1].next=curr\n",
    "                curr.next=cache[idx]\n",
    "                cache=cache[:idx]+[curr]+cache[idx:]\n",
    "            curr=tmp\n",
    "        return cache[0]"
   ]
  },
  {
   "cell_type": "markdown",
   "metadata": {},
   "source": [
    "## Lessons and Thoughts\n",
    "- Be careful when you changed a linked node's next.\n",
    "- Using a `list` to organize a linked list is a good idea."
   ]
  }
 ],
 "metadata": {
  "kernelspec": {
   "display_name": "Python 3",
   "language": "python",
   "name": "python3"
  },
  "language_info": {
   "codemirror_mode": {
    "name": "ipython",
    "version": 3
   },
   "file_extension": ".py",
   "mimetype": "text/x-python",
   "name": "python",
   "nbconvert_exporter": "python",
   "pygments_lexer": "ipython3",
   "version": "3.7.3"
  }
 },
 "nbformat": 4,
 "nbformat_minor": 2
}
