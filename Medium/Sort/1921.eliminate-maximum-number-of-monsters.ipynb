{
 "cells": [
  {
   "cell_type": "markdown",
   "metadata": {},
   "source": [
    "## Attempt 1 - Wrong Answer"
   ]
  },
  {
   "cell_type": "code",
   "execution_count": null,
   "metadata": {},
   "outputs": [],
   "source": [
    "class Solution:\n",
    "    def eliminateMaximum(self, dist: List[int], speed: List[int]) -> int:\n",
    "        record = [(d, s) for d, s in zip(dist, speed)]\n",
    "        heapq.heapify(record)\n",
    "        cnt = 0\n",
    "        while record:\n",
    "            head = heapq.heappop(record)\n",
    "            d, s = head\n",
    "            if d <= 0:\n",
    "                break\n",
    "            cnt += 1\n",
    "            record = [(d - s, s) for d, s in record] ## --> did not handle tie well: there may be monstors of same distance but moves faster, which we should kill first\n",
    "            heapq.heapify(record)\n",
    "        return cnt"
   ]
  },
  {
   "cell_type": "markdown",
   "metadata": {},
   "source": [
    "## Attempt 2 - Time Limit Exceeded"
   ]
  },
  {
   "cell_type": "code",
   "execution_count": null,
   "metadata": {},
   "outputs": [],
   "source": [
    "class Solution:\n",
    "    def eliminateMaximum(self, dist: List[int], speed: List[int]) -> int:\n",
    "        record = [(d, s) for d, s in zip(dist, speed)]\n",
    "        record = sorted(record, key=lambda x: (x[0] / x[1], x[0]))\n",
    "        cnt = 0\n",
    "        while record:\n",
    "            head = record.pop(0)\n",
    "            d, s = head\n",
    "            if d <= 0:\n",
    "                break\n",
    "            cnt += 1\n",
    "            record = [(d - s, s) for d, s in record]\n",
    "            record = sorted(record, key=lambda x: (x[0] / x[1], x[0])) ## --> no need to sort again\n",
    "            # print(record)\n",
    "        return cnt"
   ]
  },
  {
   "cell_type": "markdown",
   "metadata": {},
   "source": [
    "## Attempt 3 - Accepted"
   ]
  },
  {
   "cell_type": "code",
   "execution_count": null,
   "metadata": {},
   "outputs": [],
   "source": [
    "class Solution:\n",
    "    def eliminateMaximum(self, dist: List[int], speed: List[int]) -> int:\n",
    "        record = [(d, s) for d, s in zip(dist, speed)]\n",
    "        record = sorted(record, key=lambda x: (x[0] / x[1], x[0]))\n",
    "        cnt = 0\n",
    "        while record:\n",
    "            head = record.pop(0)\n",
    "            d, s = head\n",
    "            if d - s * cnt <= 0:\n",
    "                break\n",
    "            cnt += 1\n",
    "        return cnt"
   ]
  },
  {
   "cell_type": "markdown",
   "metadata": {},
   "source": [
    "## Lessons and Thoughts\n",
    "- We only ever need to sort by the arrival time."
   ]
  }
 ],
 "metadata": {
  "kernelspec": {
   "display_name": "Python 3",
   "language": "python",
   "name": "python3"
  },
  "language_info": {
   "codemirror_mode": {
    "name": "ipython",
    "version": 3
   },
   "file_extension": ".py",
   "mimetype": "text/x-python",
   "name": "python",
   "nbconvert_exporter": "python",
   "pygments_lexer": "ipython3",
   "version": "3.7.3"
  }
 },
 "nbformat": 4,
 "nbformat_minor": 2
}
