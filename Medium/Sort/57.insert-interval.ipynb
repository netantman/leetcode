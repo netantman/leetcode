{
 "cells": [
  {
   "cell_type": "markdown",
   "metadata": {},
   "source": [
    "## Attempt 1 - Accepted"
   ]
  },
  {
   "cell_type": "code",
   "execution_count": null,
   "metadata": {},
   "outputs": [],
   "source": [
    "class Solution:\n",
    "    def insert(self, intervals: List[List[int]], newInterval: List[int]) -> List[List[int]]:\n",
    "        res=[]\n",
    "        st=[]\n",
    "        st.append(newInterval)\n",
    "        for inter in intervals:\n",
    "            if inter[1]<st[0][0]:\n",
    "                res.append(inter)\n",
    "            elif inter[0]>st[0][1]:\n",
    "                res.append(st.pop(0))\n",
    "                st.append(inter)\n",
    "            else:\n",
    "                tmp=st.pop(0)\n",
    "                new=[min(tmp[0], inter[0]), max(tmp[1], inter[1])]\n",
    "                st.append(new)\n",
    "        res.append(st.pop(0))\n",
    "        return res"
   ]
  },
  {
   "cell_type": "markdown",
   "metadata": {},
   "source": [
    "## Attempt 2 - Accepted"
   ]
  },
  {
   "cell_type": "code",
   "execution_count": null,
   "metadata": {},
   "outputs": [],
   "source": [
    "class Solution:\n",
    "    def insert(self, intervals: List[List[int]], newInterval: List[int]) -> List[List[int]]:\n",
    "        intervals.append(newInterval)\n",
    "        if len(intervals) == 1:\n",
    "            return intervals\n",
    "        intervals = sorted(intervals, key=lambda x: x[0]) ## --> the idea is to put the new interval in anyways, and then seek to merge\n",
    "        \n",
    "        res=[]\n",
    "        curr = intervals[0]\n",
    "        for interval in intervals[1:]:\n",
    "            curr_start, curr_end = tuple(curr)\n",
    "            start, end = tuple(interval)\n",
    "            if curr_end < start:\n",
    "                res.append(curr)\n",
    "                curr = [start, end]\n",
    "            else:\n",
    "                curr = [curr_start, max(curr_end, end)]\n",
    "        res.append(curr)\n",
    "        \n",
    "        return res"
   ]
  },
  {
   "cell_type": "markdown",
   "metadata": {},
   "source": [
    "## Attempt 3 - Accepted"
   ]
  },
  {
   "cell_type": "code",
   "execution_count": null,
   "metadata": {},
   "outputs": [],
   "source": [
    "class Solution:\n",
    "    def insert(self, intervals: List[List[int]], newInterval: List[int]) -> List[List[int]]:\n",
    "        pre, post = [], []\n",
    "        s, e = tuple(newInterval)\n",
    "        for interval in intervals:\n",
    "            start, end = tuple(interval)\n",
    "            if end < s:\n",
    "                pre.append(interval)\n",
    "                continue\n",
    "            if start > e:\n",
    "                post.append(interval)\n",
    "                continue\n",
    "            \n",
    "            # merging overlapping\n",
    "            s, e = min(start, s), max(end, e)\n",
    "            \n",
    "        return pre +[[s, e]] + post"
   ]
  },
  {
   "cell_type": "markdown",
   "metadata": {},
   "source": [
    "## Attempt 4 - Accepted"
   ]
  },
  {
   "cell_type": "code",
   "execution_count": null,
   "metadata": {},
   "outputs": [],
   "source": [
    "class Solution {\n",
    "public:\n",
    "    vector<vector<int>> insert(vector<vector<int>>& intervals, vector<int>& newInterval) {\n",
    "        vector<vector<int>> pre = {};\n",
    "        vector<vector<int>> post = {};\n",
    "        \n",
    "        int s = newInterval[0];\n",
    "        int e = newInterval[1];\n",
    "        \n",
    "        for(int idx=0; idx<intervals.size(); idx++) {\n",
    "            vector<int> interval = intervals[idx];\n",
    "            int start = interval[0];\n",
    "            int end = interval[1];\n",
    "            \n",
    "            if (end < s) {\n",
    "                pre.push_back(interval);\n",
    "                continue;\n",
    "            }\n",
    "            if (start > e) {\n",
    "                post.push_back(interval);\n",
    "                continue;\n",
    "            }\n",
    "            \n",
    "            s = min(s, start);\n",
    "            e = max(e, end);\n",
    "        }\n",
    "        \n",
    "        vector<vector<int>> res = pre;\n",
    "        vector<int> merged = {s, e};\n",
    "        res.push_back(merged);\n",
    "        res.insert(res.end(), post.begin(), post.end()); ## --> concat vectors; one can also make use of make_move_iterator\n",
    "        return res;\n",
    "    }\n",
    "};"
   ]
  },
  {
   "cell_type": "markdown",
   "metadata": {},
   "source": [
    "## Lessons and Thoughts\n",
    "- Belongs to a class of problems, where sorting by the starting point of intervals help.\n",
    "- Though Attempt 2 is cleaner in edge case handling, Attempt 3 is easier to understand since it simulate the process."
   ]
  }
 ],
 "metadata": {
  "kernelspec": {
   "display_name": "Python 3 (ipykernel)",
   "language": "python",
   "name": "python3"
  },
  "language_info": {
   "codemirror_mode": {
    "name": "ipython",
    "version": 3
   },
   "file_extension": ".py",
   "mimetype": "text/x-python",
   "name": "python",
   "nbconvert_exporter": "python",
   "pygments_lexer": "ipython3",
   "version": "3.9.7"
  }
 },
 "nbformat": 4,
 "nbformat_minor": 2
}
