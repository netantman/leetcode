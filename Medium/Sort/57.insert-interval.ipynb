{
 "cells": [
  {
   "cell_type": "markdown",
   "metadata": {},
   "source": [
    "## Attempt 1 - Accepted"
   ]
  },
  {
   "cell_type": "code",
   "execution_count": null,
   "metadata": {},
   "outputs": [],
   "source": [
    "class Solution:\n",
    "    def insert(self, intervals: List[List[int]], newInterval: List[int]) -> List[List[int]]:\n",
    "        res=[]\n",
    "        st=[]\n",
    "        st.append(newInterval)\n",
    "        for inter in intervals:\n",
    "            if inter[1]<st[0][0]:\n",
    "                res.append(inter)\n",
    "            elif inter[0]>st[0][1]:\n",
    "                res.append(st.pop(0))\n",
    "                st.append(inter)\n",
    "            else:\n",
    "                tmp=st.pop(0)\n",
    "                new=[min(tmp[0], inter[0]), max(tmp[1], inter[1])]\n",
    "                st.append(new)\n",
    "        res.append(st.pop(0))\n",
    "        return res"
   ]
  },
  {
   "cell_type": "markdown",
   "metadata": {},
   "source": [
    "## Lessons and Thoughts\n",
    "- Belongs to a class of problems, where sorting by the starting point of intervals help."
   ]
  }
 ],
 "metadata": {
  "kernelspec": {
   "display_name": "Python 3",
   "language": "python",
   "name": "python3"
  },
  "language_info": {
   "codemirror_mode": {
    "name": "ipython",
    "version": 3
   },
   "file_extension": ".py",
   "mimetype": "text/x-python",
   "name": "python",
   "nbconvert_exporter": "python",
   "pygments_lexer": "ipython3",
   "version": "3.7.3"
  }
 },
 "nbformat": 4,
 "nbformat_minor": 2
}
