{
 "cells": [
  {
   "cell_type": "markdown",
   "metadata": {},
   "source": [
    "## Attempt 1 - Accepted"
   ]
  },
  {
   "cell_type": "code",
   "execution_count": null,
   "metadata": {},
   "outputs": [],
   "source": [
    "class Solution:\n",
    "    def eraseOverlapIntervals(self, intervals: List[List[int]]) -> int:\n",
    "        L=len(intervals)\n",
    "        if L<=1:\n",
    "            return 0\n",
    "        intervals=sorted(intervals, key=lambda x:x[0])\n",
    "        last=intervals[0][1]\n",
    "        res=0\n",
    "        for idx in range(1, L):\n",
    "            curr=intervals[idx]\n",
    "            if curr[0]>=last:\n",
    "                last=curr[1]\n",
    "            else:\n",
    "                last=min(last, curr[1])\n",
    "                res+=1\n",
    "        return res"
   ]
  },
  {
   "cell_type": "markdown",
   "metadata": {},
   "source": [
    "## Lessons and Thoughts\n",
    "- The algo is inspired from [here](https://www.cnblogs.com/grandyang/p/6017505.html). It is a greedy algo, but not sure why optimum is guaranteed."
   ]
  }
 ],
 "metadata": {
  "kernelspec": {
   "display_name": "Python 3",
   "language": "python",
   "name": "python3"
  },
  "language_info": {
   "codemirror_mode": {
    "name": "ipython",
    "version": 3
   },
   "file_extension": ".py",
   "mimetype": "text/x-python",
   "name": "python",
   "nbconvert_exporter": "python",
   "pygments_lexer": "ipython3",
   "version": "3.7.3"
  }
 },
 "nbformat": 4,
 "nbformat_minor": 2
}
