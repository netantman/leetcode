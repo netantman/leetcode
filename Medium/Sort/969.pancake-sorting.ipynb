{
 "cells": [
  {
   "cell_type": "markdown",
   "metadata": {},
   "source": [
    "## Attempt 1 - Accepted"
   ]
  },
  {
   "cell_type": "code",
   "execution_count": null,
   "metadata": {},
   "outputs": [],
   "source": [
    "class Solution:\n",
    "    def pancakeSort(self, A: List[int]) -> List[int]:\n",
    "        L=len(A)\n",
    "        A_sorted=list(range(1,L+1))\n",
    "        if A==A_sorted:\n",
    "            return []\n",
    "        \n",
    "        def find(A,target):\n",
    "            for idx, a in enumerate(A):\n",
    "                if a==target:\n",
    "                    return idx\n",
    "        \n",
    "        res=[]\n",
    "        for idx in range(L-1,0,-1):\n",
    "            target=A_sorted[idx]\n",
    "            sub=find(A,target)\n",
    "            res.append(sub+1)\n",
    "            res.append(idx+1)\n",
    "            A[:sub+1]=A[:sub+1][::-1]\n",
    "            A[:idx+1]=A[:idx+1][::-1]\n",
    "        return res"
   ]
  },
  {
   "cell_type": "markdown",
   "metadata": {},
   "source": [
    "## Lessons and Thoughts\n",
    "- Just try to flip the last desired element to the front, and then by flipping the whole sequence, place it at the back. Then work with the rest of the sequence (divide and conquer)."
   ]
  }
 ],
 "metadata": {
  "kernelspec": {
   "display_name": "Python 3",
   "language": "python",
   "name": "python3"
  },
  "language_info": {
   "codemirror_mode": {
    "name": "ipython",
    "version": 3
   },
   "file_extension": ".py",
   "mimetype": "text/x-python",
   "name": "python",
   "nbconvert_exporter": "python",
   "pygments_lexer": "ipython3",
   "version": "3.7.3"
  }
 },
 "nbformat": 4,
 "nbformat_minor": 2
}
