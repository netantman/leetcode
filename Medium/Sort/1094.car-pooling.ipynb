{
 "cells": [
  {
   "cell_type": "markdown",
   "metadata": {},
   "source": [
    "## Attempt 1 - Accepted"
   ]
  },
  {
   "cell_type": "code",
   "execution_count": null,
   "metadata": {},
   "outputs": [],
   "source": [
    "class Solution:\n",
    "    def carPooling(self, trips: List[List[int]], capacity: int) -> bool:\n",
    "        trips=sorted(trips, key=lambda x:x[1])\n",
    "        cap=capacity\n",
    "        st=[]\n",
    "        for trip in trips:\n",
    "            if not st:\n",
    "                if cap<trip[0]:\n",
    "                    return False\n",
    "                st.append((trip[0], trip[-1]))\n",
    "                cap-=trip[0]\n",
    "            else:\n",
    "                st=sorted(st, key=lambda x:x[1])\n",
    "                while st and trip[1]>=st[0][1]:\n",
    "                    cap+=st[0][0]\n",
    "                    st.pop(0)\n",
    "                if cap<trip[0]:\n",
    "                    return False\n",
    "                st.append((trip[0], trip[-1]))\n",
    "                cap-=trip[0]\n",
    "        return True"
   ]
  },
  {
   "cell_type": "markdown",
   "metadata": {},
   "source": [
    "## Lessons and Thoughts\n",
    "- This belongs to a class of problems where sorting the start/end of the intervals help."
   ]
  }
 ],
 "metadata": {
  "kernelspec": {
   "display_name": "Python 3",
   "language": "python",
   "name": "python3"
  },
  "language_info": {
   "codemirror_mode": {
    "name": "ipython",
    "version": 3
   },
   "file_extension": ".py",
   "mimetype": "text/x-python",
   "name": "python",
   "nbconvert_exporter": "python",
   "pygments_lexer": "ipython3",
   "version": "3.7.3"
  }
 },
 "nbformat": 4,
 "nbformat_minor": 2
}
