{
 "cells": [
  {
   "cell_type": "markdown",
   "metadata": {},
   "source": [
    "## Attempt 1 - Accepted"
   ]
  },
  {
   "cell_type": "code",
   "execution_count": null,
   "metadata": {},
   "outputs": [],
   "source": [
    "class Solution:\n",
    "    def carFleet(self, target: int, position: List[int], speed: List[int]) -> int:\n",
    "        time=[(target-pos)/sp for pos, sp in zip(position, speed)]\n",
    "        cars=sorted([[pos,t] for pos,t in zip(position, time)], reverse=True, key=lambda x:x[0])\n",
    "        L=len(cars)\n",
    "        for idx in range(1,L):\n",
    "            if cars[idx][1]<cars[idx-1][1]:\n",
    "                cars[idx][1]=cars[idx-1][1]\n",
    "        res=[c[1] for c in cars]\n",
    "        return len(set(res))"
   ]
  },
  {
   "cell_type": "markdown",
   "metadata": {},
   "source": [
    "## Lessons and Thoughts\n",
    "- The key is to recognize that cars at the back cannot arrive earlier than cars in the front."
   ]
  }
 ],
 "metadata": {
  "kernelspec": {
   "display_name": "Python 3",
   "language": "python",
   "name": "python3"
  },
  "language_info": {
   "codemirror_mode": {
    "name": "ipython",
    "version": 3
   },
   "file_extension": ".py",
   "mimetype": "text/x-python",
   "name": "python",
   "nbconvert_exporter": "python",
   "pygments_lexer": "ipython3",
   "version": "3.7.3"
  }
 },
 "nbformat": 4,
 "nbformat_minor": 2
}
