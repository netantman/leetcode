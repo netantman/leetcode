{
 "cells": [
  {
   "cell_type": "markdown",
   "metadata": {},
   "source": [
    "## Attempt 1 - Runtime Error"
   ]
  },
  {
   "cell_type": "code",
   "execution_count": null,
   "metadata": {},
   "outputs": [],
   "source": [
    "class Solution:\n",
    "    def largestNumber(self, nums: List[int]) -> str:\n",
    "        if len(nums)<1:\n",
    "            return \"\"\n",
    "        if len(nums)==1:\n",
    "            return str(nums[0])\n",
    "        \n",
    "        def cmp(x,y):\n",
    "            left=int(x+y)\n",
    "            right=int(y+x)\n",
    "            return left-right\n",
    "        \n",
    "        numsStr=[str(n) for n in nums]\n",
    "        numsStr.sort(reverse=False, cmp=cmp) ## --> cmp keyword is no longer supported in python 3.x; and it should be reverse=True\n",
    "        ## --> it does not deal with the case of multiple 0's.\n",
    "        return \"\".join(numsStr)"
   ]
  },
  {
   "cell_type": "markdown",
   "metadata": {},
   "source": [
    "## Attempt 2 - Accepted"
   ]
  },
  {
   "cell_type": "code",
   "execution_count": null,
   "metadata": {},
   "outputs": [],
   "source": [
    "class Solution:\n",
    "    def largestNumber(self, nums: List[int]) -> str:\n",
    "        if len(nums)<1:\n",
    "            return \"\"\n",
    "        if len(nums)==1:\n",
    "            return str(nums[0])\n",
    "        \n",
    "        def cmp(x,y):\n",
    "            left=int(x+y)\n",
    "            right=int(y+x)\n",
    "            return left-right\n",
    "        def cmp_to_key(mycmp):\n",
    "            'Convert a cmp= function into a key= function'\n",
    "            class K:\n",
    "                def __init__(self, obj, *args):\n",
    "                    self.obj = obj\n",
    "                def __lt__(self, other):\n",
    "                    return mycmp(self.obj, other.obj) < 0\n",
    "                def __gt__(self, other):\n",
    "                    return mycmp(self.obj, other.obj) > 0\n",
    "                def __eq__(self, other):\n",
    "                    return mycmp(self.obj, other.obj) == 0\n",
    "                def __le__(self, other):\n",
    "                    return mycmp(self.obj, other.obj) <= 0\n",
    "                def __ge__(self, other):\n",
    "                    return mycmp(self.obj, other.obj) >= 0\n",
    "                def __ne__(self, other):\n",
    "                    return mycmp(self.obj, other.obj) != 0\n",
    "            return K\n",
    "        \n",
    "        \n",
    "        numsStr=[str(n) for n in nums]\n",
    "        numsStr=sorted(numsStr, reverse=True, key=cmp_to_key(cmp))\n",
    "        if numsStr[0]==\"0\":\n",
    "            return \"0\"\n",
    "        return \"\".join(numsStr)"
   ]
  },
  {
   "cell_type": "markdown",
   "metadata": {},
   "source": [
    "## Lessons and Thoughts\n",
    "- For any two numbers in the list, if \"xy\" is a bigger number than \"yx\", then it should be \"xy\" in the final result. So this defines an order.\n",
    "- The `cmp` option in `sort`: smaller is defined by negative."
   ]
  }
 ],
 "metadata": {
  "kernelspec": {
   "display_name": "Python 3",
   "language": "python",
   "name": "python3"
  },
  "language_info": {
   "codemirror_mode": {
    "name": "ipython",
    "version": 3
   },
   "file_extension": ".py",
   "mimetype": "text/x-python",
   "name": "python",
   "nbconvert_exporter": "python",
   "pygments_lexer": "ipython3",
   "version": "3.7.3"
  }
 },
 "nbformat": 4,
 "nbformat_minor": 2
}
