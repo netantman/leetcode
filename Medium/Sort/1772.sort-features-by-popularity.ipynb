{
 "cells": [
  {
   "cell_type": "markdown",
   "metadata": {},
   "source": [
    "## Attempt 1 - Time Limit Exceeded"
   ]
  },
  {
   "cell_type": "code",
   "execution_count": null,
   "metadata": {},
   "outputs": [],
   "source": [
    "class Solution:\n",
    "    def sortFeatures(self, features: List[str], responses: List[str]) -> List[str]:\n",
    "        L = len(features)\n",
    "        responses = [set(r.split(\" \")) for r in responses]\n",
    "        # print(responses)\n",
    "        \n",
    "        def inner(f):\n",
    "            return sum([0 if f in r else 1 for r in responses])\n",
    "        \n",
    "        def idx(f):\n",
    "            for idx in range(L):\n",
    "                if features[idx] == f:\n",
    "                    return idx\n",
    "                \n",
    "        # print([inner(f) for f in features])\n",
    "        # print([idx(f) for f in features])\n",
    "        \n",
    "        \n",
    "        return sorted(features, key=lambda x: (inner(x), idx(x)))"
   ]
  },
  {
   "cell_type": "markdown",
   "metadata": {},
   "source": [
    "## Attempt 2 - Accepted"
   ]
  },
  {
   "cell_type": "code",
   "execution_count": null,
   "metadata": {},
   "outputs": [],
   "source": [
    "class Solution:\n",
    "    def sortFeatures(self, features: List[str], responses: List[str]) -> List[str]:\n",
    "        record = dict()\n",
    "        for f in features:\n",
    "            record[f] = 0\n",
    "            \n",
    "        for r in responses:\n",
    "            for w in set(r.split(\" \")):\n",
    "                if w in record:\n",
    "                    record[w] += 1\n",
    "        \n",
    "        return sorted(features, key=lambda x: record[x], reverse=True)"
   ]
  },
  {
   "cell_type": "markdown",
   "metadata": {},
   "source": [
    "## Lessons and Thoughts\n",
    "- Sorting words in responses is faster.\n",
    "- `sorted` is stable."
   ]
  }
 ],
 "metadata": {
  "kernelspec": {
   "display_name": "Python 3",
   "language": "python",
   "name": "python3"
  },
  "language_info": {
   "codemirror_mode": {
    "name": "ipython",
    "version": 3
   },
   "file_extension": ".py",
   "mimetype": "text/x-python",
   "name": "python",
   "nbconvert_exporter": "python",
   "pygments_lexer": "ipython3",
   "version": "3.7.3"
  }
 },
 "nbformat": 4,
 "nbformat_minor": 2
}
