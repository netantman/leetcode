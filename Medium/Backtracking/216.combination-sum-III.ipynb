{
 "cells": [
  {
   "cell_type": "markdown",
   "metadata": {},
   "source": [
    "## Attempt 1 - Wrong Answer"
   ]
  },
  {
   "cell_type": "code",
   "execution_count": null,
   "metadata": {},
   "outputs": [],
   "source": [
    "class Solution:\n",
    "    def combinationSum3(self, k: int, n: int) -> List[List[int]]:\n",
    "        \n",
    "        def inner(n, k, seq):\n",
    "            if k==1:\n",
    "                if n in seq:\n",
    "                    return [[n]]\n",
    "                else:\n",
    "                    return []\n",
    "            if len(seq)<1:\n",
    "                return []\n",
    "            \n",
    "            s=seq[0]\n",
    "            prev=inner(n-s, k-1, seq[1:]) ## --> there is another case!\n",
    "            res=[[s]+p for p in prev]\n",
    "            return res\n",
    "        \n",
    "        return inner(n, k, list(range(1,10)))"
   ]
  },
  {
   "cell_type": "markdown",
   "metadata": {},
   "source": [
    "## Attempt 2 - Accepted"
   ]
  },
  {
   "cell_type": "code",
   "execution_count": null,
   "metadata": {},
   "outputs": [],
   "source": [
    "class Solution:\n",
    "    def combinationSum3(self, k: int, n: int) -> List[List[int]]:\n",
    "        \n",
    "        def inner(n, k, seq):\n",
    "            if k==1:\n",
    "                if n in seq:\n",
    "                    return [[n]]\n",
    "                else:\n",
    "                    return []\n",
    "            if len(seq)<1:\n",
    "                return []\n",
    "            \n",
    "            s=seq[0]\n",
    "            prev1=inner(n-s, k-1, seq[1:])\n",
    "            prev2=inner(n, k, seq[1:])\n",
    "            res=[[s]+p for p in prev1]\n",
    "            res=res+prev2\n",
    "            return res\n",
    "        \n",
    "        return inner(n, k, list(range(1,10)))"
   ]
  },
  {
   "cell_type": "markdown",
   "metadata": {},
   "source": [
    "## Lessons and Thoughts\n",
    "- Be careful how you reduce cases!"
   ]
  }
 ],
 "metadata": {
  "kernelspec": {
   "display_name": "Python 3",
   "language": "python",
   "name": "python3"
  },
  "language_info": {
   "codemirror_mode": {
    "name": "ipython",
    "version": 3
   },
   "file_extension": ".py",
   "mimetype": "text/x-python",
   "name": "python",
   "nbconvert_exporter": "python",
   "pygments_lexer": "ipython3",
   "version": "3.7.3"
  }
 },
 "nbformat": 4,
 "nbformat_minor": 2
}
