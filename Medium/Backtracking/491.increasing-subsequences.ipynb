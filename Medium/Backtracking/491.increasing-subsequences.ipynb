{
 "cells": [
  {
   "cell_type": "markdown",
   "metadata": {},
   "source": [
    "## Attempt 1 - Wrong Answer"
   ]
  },
  {
   "cell_type": "code",
   "execution_count": null,
   "metadata": {},
   "outputs": [],
   "source": [
    "class Solution:\n",
    "    def findSubsequences(self, nums: List[int]) -> List[List[int]]:\n",
    "        res=[]\n",
    "        for n in nums:\n",
    "            to_add=[]\n",
    "            for r in res:\n",
    "                if n>=r[-1]:\n",
    "                    if r+[n] not in res:  ## --> did not check if r+[n] is in to_add or not, so you still get duplicates\n",
    "                        to_add.append(r+[n])\n",
    "            res=res+to_add\n",
    "            res.append([n])\n",
    "        res=[r for r in res if len(r)>=2]\n",
    "        return res"
   ]
  },
  {
   "cell_type": "markdown",
   "metadata": {},
   "source": [
    "## Attempt 2 - Accepted"
   ]
  },
  {
   "cell_type": "code",
   "execution_count": null,
   "metadata": {},
   "outputs": [],
   "source": [
    "class Solution:\n",
    "    def findSubsequences(self, nums: List[int]) -> List[List[int]]:\n",
    "        res=[]\n",
    "        for n in nums:\n",
    "            to_add=[]\n",
    "            for r in res:\n",
    "                if n>=r[-1]:\n",
    "                    if r+[n] not in res and r+[n] not in to_add:\n",
    "                        to_add.append(r+[n])\n",
    "            res=res+to_add\n",
    "            res.append([n])\n",
    "        res=[r for r in res if len(r)>=2]\n",
    "        return res"
   ]
  },
  {
   "cell_type": "markdown",
   "metadata": {},
   "source": [
    "## Lessons and Thoughts\n",
    "- For questions like this, be careful not to add to `res` directly when iterating it.\n",
    "- Dealing with duplicates is another point that can trip you up.\n",
    "- It is also labeled Depth-First-Search on leetcode, but did not think of algo like that."
   ]
  }
 ],
 "metadata": {
  "kernelspec": {
   "display_name": "Python 3",
   "language": "python",
   "name": "python3"
  },
  "language_info": {
   "codemirror_mode": {
    "name": "ipython",
    "version": 3
   },
   "file_extension": ".py",
   "mimetype": "text/x-python",
   "name": "python",
   "nbconvert_exporter": "python",
   "pygments_lexer": "ipython3",
   "version": "3.7.3"
  }
 },
 "nbformat": 4,
 "nbformat_minor": 2
}
