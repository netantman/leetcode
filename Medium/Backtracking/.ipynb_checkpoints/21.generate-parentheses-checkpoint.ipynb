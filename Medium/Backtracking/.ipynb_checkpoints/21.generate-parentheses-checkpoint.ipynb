{
 "cells": [
  {
   "cell_type": "markdown",
   "metadata": {},
   "source": [
    "## Attempt 1"
   ]
  },
  {
   "cell_type": "code",
   "execution_count": null,
   "metadata": {},
   "outputs": [],
   "source": [
    "class Solution:\n",
    "    def generateParenthesis(self, n: int) -> List[str]:\n",
    "        if n==0:\n",
    "            return [\"\"]\n",
    "        elif n<0:\n",
    "            return []\n",
    "        elif n==1:\n",
    "            return [\"()\"]\n",
    "        \n",
    "        cache=[((1,0), '(')]\n",
    "        res=[]\n",
    "        while len(cache)>0:\n",
    "            to_grow=cache[0]\n",
    "            del cache[0]\n",
    "            info, s=to_grow\n",
    "            if info==(n,n):\n",
    "                res.append(s)\n",
    "            else:\n",
    "                if info[1]>=info[0]:\n",
    "                    cache.append(((info[0]+1, info[1]), s+\"(\"))\n",
    "                else:\n",
    "                    cache.append(((info[0], info[1]+1), s+\")\"))\n",
    "                    if info[0]<n:\n",
    "                        cache.append(((info[0]+1, info[1]), s+\"(\"))\n",
    "                        \n",
    "        return res"
   ]
  },
  {
   "cell_type": "markdown",
   "metadata": {},
   "source": [
    "## Lessons and Thoughts\n",
    "- One edge case is when all \"(\" is used up.\n",
    "- Not sure what a backtracking solution would be."
   ]
  }
 ],
 "metadata": {
  "kernelspec": {
   "display_name": "Python 3",
   "language": "python",
   "name": "python3"
  },
  "language_info": {
   "codemirror_mode": {
    "name": "ipython",
    "version": 3
   },
   "file_extension": ".py",
   "mimetype": "text/x-python",
   "name": "python",
   "nbconvert_exporter": "python",
   "pygments_lexer": "ipython3",
   "version": "3.7.3"
  }
 },
 "nbformat": 4,
 "nbformat_minor": 2
}
