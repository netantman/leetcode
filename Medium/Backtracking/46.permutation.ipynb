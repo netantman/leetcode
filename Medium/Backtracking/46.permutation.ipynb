{
 "cells": [
  {
   "cell_type": "markdown",
   "metadata": {},
   "source": [
    "## Attempt 1 - Accepted"
   ]
  },
  {
   "cell_type": "code",
   "execution_count": null,
   "metadata": {},
   "outputs": [],
   "source": [
    "class Solution:\n",
    "    def permute(self, nums: List[int]) -> List[List[int]]:\n",
    "        if len(nums)<1:\n",
    "            return [[]]\n",
    "        if len(nums)==1:\n",
    "            return [nums]\n",
    "        \n",
    "        l=len(nums)\n",
    "        res=[]\n",
    "        for idx in range(l):\n",
    "            elem=nums[idx]\n",
    "            reduced=nums[:idx]+nums[idx+1:]\n",
    "            prev=self.permute(reduced)\n",
    "            for p in prev:\n",
    "                res.append(p+[elem])\n",
    "        return res"
   ]
  },
  {
   "cell_type": "markdown",
   "metadata": {},
   "source": [
    "## Lessons and Thoughts\n",
    "- Suffices to just append to the end, since all elements are distinct"
   ]
  }
 ],
 "metadata": {
  "kernelspec": {
   "display_name": "Python 3",
   "language": "python",
   "name": "python3"
  },
  "language_info": {
   "codemirror_mode": {
    "name": "ipython",
    "version": 3
   },
   "file_extension": ".py",
   "mimetype": "text/x-python",
   "name": "python",
   "nbconvert_exporter": "python",
   "pygments_lexer": "ipython3",
   "version": "3.7.3"
  }
 },
 "nbformat": 4,
 "nbformat_minor": 2
}
