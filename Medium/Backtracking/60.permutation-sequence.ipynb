{
 "cells": [
  {
   "cell_type": "markdown",
   "metadata": {},
   "source": [
    "## Attempt 1 - Wrong syntax"
   ]
  },
  {
   "cell_type": "code",
   "execution_count": null,
   "metadata": {},
   "outputs": [],
   "source": [
    "class Solution:\n",
    "    def getPermutation(self, n: int, k: int) -> str:\n",
    "        vec=list(range(1,n+1))\n",
    "        return self.helper(vec, k)\n",
    "        \n",
    "    def helper(self, vec: list[int], k: int) -> str: ## --> should be List[int]\n",
    "        if k==1:\n",
    "            return \"\".join([str(v) in vec])  ## --> typo\n",
    "        else:\n",
    "            L=len(vec)\n",
    "            idx=0\n",
    "            f=self.factorial(L-1)\n",
    "            while idx*f<k:\n",
    "                idx+=1\n",
    "            return str(vec[idx-1])+self.helper(vec[:idx-1]+vec[idx:], k-(idx-1)*f)\n",
    "    \n",
    "    def factorial(self, n: int) -> int:\n",
    "        if n==1:\n",
    "            return 1\n",
    "        if n==2:\n",
    "            return 2\n",
    "        if n==3:\n",
    "            return 6\n",
    "        if n==4:\n",
    "            return 24\n",
    "        if n==5:\n",
    "            return 120\n",
    "        if n==6:\n",
    "            return 720\n",
    "        if n==7:\n",
    "            return 5040\n",
    "        if n==8:\n",
    "            return 40320\n",
    "        if n==9:\n",
    "            return 362880"
   ]
  },
  {
   "cell_type": "markdown",
   "metadata": {},
   "source": [
    "## Attempt 2 - Accepted"
   ]
  },
  {
   "cell_type": "code",
   "execution_count": null,
   "metadata": {},
   "outputs": [],
   "source": [
    "class Solution:\n",
    "    def getPermutation(self, n: int, k: int) -> str:\n",
    "        vec=list(range(1,n+1))\n",
    "        return self.helper(vec, k)\n",
    "        \n",
    "    def helper(self, vec: List[int], k: int) -> str:\n",
    "        if k==1:\n",
    "            return \"\".join([str(v) for v in vec])\n",
    "        else:\n",
    "            L=len(vec)\n",
    "            idx=0\n",
    "            f=self.factorial(L-1)\n",
    "            while idx*f<k:\n",
    "                idx+=1\n",
    "            return str(vec[idx-1])+self.helper(vec[:idx-1]+vec[idx:], k-(idx-1)*f)\n",
    "    \n",
    "    def factorial(self, n: int) -> int:\n",
    "        if n==1:\n",
    "            return 1\n",
    "        if n==2:\n",
    "            return 2\n",
    "        if n==3:\n",
    "            return 6\n",
    "        if n==4:\n",
    "            return 24\n",
    "        if n==5:\n",
    "            return 120\n",
    "        if n==6:\n",
    "            return 720\n",
    "        if n==7:\n",
    "            return 5040\n",
    "        if n==8:\n",
    "            return 40320\n",
    "        if n==9:\n",
    "            return 362880"
   ]
  },
  {
   "cell_type": "markdown",
   "metadata": {},
   "source": [
    "## Lessons and Thoughts\n",
    "- Check if there are better algos - this takes quite a while."
   ]
  }
 ],
 "metadata": {
  "kernelspec": {
   "display_name": "Python 3",
   "language": "python",
   "name": "python3"
  },
  "language_info": {
   "codemirror_mode": {
    "name": "ipython",
    "version": 3
   },
   "file_extension": ".py",
   "mimetype": "text/x-python",
   "name": "python",
   "nbconvert_exporter": "python",
   "pygments_lexer": "ipython3",
   "version": "3.7.3"
  }
 },
 "nbformat": 4,
 "nbformat_minor": 2
}
