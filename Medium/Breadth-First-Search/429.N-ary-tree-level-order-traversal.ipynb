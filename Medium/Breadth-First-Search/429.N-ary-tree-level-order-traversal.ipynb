{
 "cells": [
  {
   "cell_type": "markdown",
   "metadata": {},
   "source": [
    "## Attempt 1 - Accepted"
   ]
  },
  {
   "cell_type": "code",
   "execution_count": null,
   "metadata": {},
   "outputs": [],
   "source": [
    "\"\"\"\n",
    "# Definition for a Node.\n",
    "class Node:\n",
    "    def __init__(self, val=None, children=None):\n",
    "        self.val = val\n",
    "        self.children = children\n",
    "\"\"\"\n",
    "\n",
    "class Solution:\n",
    "    def levelOrder(self, root: 'Node') -> List[List[int]]:\n",
    "        if root is None:\n",
    "            return []\n",
    "        if root.children is None or len(root.children)<1:\n",
    "            return [[root.val]]\n",
    "        \n",
    "        res=[]\n",
    "        q=[root]\n",
    "        while len(q)>0:\n",
    "            res.append([node.val for node in q])\n",
    "            new=[]\n",
    "            for node in q:\n",
    "                if node.children is not None and len(node.children)>0:\n",
    "                    new+=node.children\n",
    "            q=new\n",
    "        return res"
   ]
  },
  {
   "cell_type": "markdown",
   "metadata": {},
   "source": [
    "## Lessons and Thoughts\n",
    "- It is not clear whether empty `children` will be `None` or empty list. Otherwise it is straightforward - does not even need recursion."
   ]
  }
 ],
 "metadata": {
  "kernelspec": {
   "display_name": "Python 3",
   "language": "python",
   "name": "python3"
  },
  "language_info": {
   "codemirror_mode": {
    "name": "ipython",
    "version": 3
   },
   "file_extension": ".py",
   "mimetype": "text/x-python",
   "name": "python",
   "nbconvert_exporter": "python",
   "pygments_lexer": "ipython3",
   "version": "3.7.3"
  }
 },
 "nbformat": 4,
 "nbformat_minor": 2
}
