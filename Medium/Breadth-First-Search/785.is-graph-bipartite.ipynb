{
 "cells": [
  {
   "cell_type": "markdown",
   "metadata": {},
   "source": [
    "## Attempt 1 - Accepted"
   ]
  },
  {
   "cell_type": "code",
   "execution_count": null,
   "metadata": {},
   "outputs": [],
   "source": [
    "class Solution:\n",
    "    def isBipartite(self, graph: List[List[int]]) -> bool:\n",
    "        N=len(graph)\n",
    "        res=[None for _ in range(N)]\n",
    "        for node in range(N):\n",
    "            if res[node] is None:\n",
    "                res[node]=0\n",
    "                q=[node]\n",
    "                while len(q)>0:\n",
    "                    head=q.pop(0)\n",
    "                    neighbors=graph[head]\n",
    "                    for n in neighbors:\n",
    "                        if res[n]==res[head]:\n",
    "                            return False\n",
    "                        elif res[n] is None:\n",
    "                            res[n]=res[head]^1\n",
    "                            q.append(n)\n",
    "        return True"
   ]
  },
  {
   "cell_type": "markdown",
   "metadata": {},
   "source": [
    "## Lessons and Thoughts\n",
    "- Straightforward application of BFS."
   ]
  }
 ],
 "metadata": {
  "kernelspec": {
   "display_name": "Python 3",
   "language": "python",
   "name": "python3"
  },
  "language_info": {
   "codemirror_mode": {
    "name": "ipython",
    "version": 3
   },
   "file_extension": ".py",
   "mimetype": "text/x-python",
   "name": "python",
   "nbconvert_exporter": "python",
   "pygments_lexer": "ipython3",
   "version": "3.7.3"
  }
 },
 "nbformat": 4,
 "nbformat_minor": 2
}
