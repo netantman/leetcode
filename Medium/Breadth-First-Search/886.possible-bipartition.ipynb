{
 "cells": [
  {
   "cell_type": "markdown",
   "metadata": {},
   "source": [
    "## Attempt 1 - Wrong Answer"
   ]
  },
  {
   "cell_type": "code",
   "execution_count": null,
   "metadata": {},
   "outputs": [],
   "source": [
    "class Solution:\n",
    "    def possibleBipartition(self, N: int, dislikes: List[List[int]]) -> bool:\n",
    "        cache=dict()\n",
    "        for dis in dislikes:\n",
    "            cache[dis[0]]=cache.get(dis[0],[])+[dis[1]]\n",
    "            cache[dis[1]]=cache.get(dis[1],[])+[dis[0]]\n",
    "        cache={k:set(v) for k,v in cache.items()}\n",
    "        \n",
    "        record=[None for _ in range(N+1)]\n",
    "        for n in range(1,N+1):\n",
    "            if record[n] is None:\n",
    "                record[n]=0\n",
    "                q=[n]\n",
    "                group=0\n",
    "                nexxt=[]\n",
    "                while len(q)>0:\n",
    "                    for node in q:\n",
    "                        neighbors=cache.get(node,[])\n",
    "                        for neighbor in neighbors:\n",
    "                            if record[neighbor]==group: \n",
    "                                return False\n",
    "                            elif record[neighbor]==1-group:\n",
    "                                continue\n",
    "                            else:\n",
    "                                record[neighbor]=1-group\n",
    "                                nexxt.append(neighbor)\n",
    "                    q=nexxt\n",
    "                    group=1-group ## --> forgot to reset nexxt!\n",
    "        return True"
   ]
  },
  {
   "cell_type": "markdown",
   "metadata": {},
   "source": [
    "## Attempt 2 - Accepted"
   ]
  },
  {
   "cell_type": "code",
   "execution_count": null,
   "metadata": {},
   "outputs": [],
   "source": [
    "class Solution:\n",
    "    def possibleBipartition(self, N: int, dislikes: List[List[int]]) -> bool:\n",
    "        cache=dict()\n",
    "        for dis in dislikes:\n",
    "            cache[dis[0]]=cache.get(dis[0],[])+[dis[1]]\n",
    "            cache[dis[1]]=cache.get(dis[1],[])+[dis[0]]\n",
    "        cache={k:set(v) for k,v in cache.items()}\n",
    "        \n",
    "        record=[None for _ in range(N+1)]\n",
    "        for n in range(1,N+1):\n",
    "            if record[n] is None:\n",
    "                record[n]=0\n",
    "                q=[n]\n",
    "                group=0\n",
    "                nexxt=[]\n",
    "                while len(q)>0:\n",
    "                    for node in q:\n",
    "                        neighbors=cache.get(node,[])\n",
    "                        for neighbor in neighbors:\n",
    "                            if record[neighbor]==group:\n",
    "                                return False\n",
    "                            elif record[neighbor]==1-group:\n",
    "                                continue\n",
    "                            else:\n",
    "                                record[neighbor]=1-group\n",
    "                                nexxt.append(neighbor)\n",
    "                    q=nexxt\n",
    "                    group=1-group\n",
    "                    nexxt=[]\n",
    "        return True"
   ]
  },
  {
   "cell_type": "markdown",
   "metadata": {},
   "source": [
    "## Lessons and Thoughts\n",
    "- When you are doing level type BFS, don't forget to reset `nexxt`!"
   ]
  }
 ],
 "metadata": {
  "kernelspec": {
   "display_name": "Python 3",
   "language": "python",
   "name": "python3"
  },
  "language_info": {
   "codemirror_mode": {
    "name": "ipython",
    "version": 3
   },
   "file_extension": ".py",
   "mimetype": "text/x-python",
   "name": "python",
   "nbconvert_exporter": "python",
   "pygments_lexer": "ipython3",
   "version": "3.7.3"
  }
 },
 "nbformat": 4,
 "nbformat_minor": 2
}
