{
 "cells": [
  {
   "cell_type": "markdown",
   "metadata": {},
   "source": [
    "## Attempt 1 - Accepted"
   ]
  },
  {
   "cell_type": "code",
   "execution_count": null,
   "metadata": {},
   "outputs": [],
   "source": [
    "class Solution:\n",
    "    def minMutation(self, start: str, end: str, bank: List[str]) -> int:\n",
    "        def inner(string):\n",
    "            res=[]\n",
    "            letters=['A', 'C', 'G', 'T']\n",
    "            for pos in range(8):\n",
    "                c=string[pos]\n",
    "                for l in letters:\n",
    "                    new=[c for c in string]\n",
    "                    if l!=c:\n",
    "                        new[pos]=l\n",
    "                        new=\"\".join(new)\n",
    "                        if new not in visited and new in bank:\n",
    "                            res.append(\"\".join(new))\n",
    "            return res\n",
    "                \n",
    "        bank=set(bank)\n",
    "        q=[(start,0)]\n",
    "        visited=set([start])\n",
    "        while len(q)>0:\n",
    "            node, lvl=q.pop(0)\n",
    "            neighbors=inner(node)\n",
    "            for n in neighbors:\n",
    "                if n==end:\n",
    "                    return lvl+1\n",
    "                q.append((n, lvl+1))\n",
    "                visited.add(n)\n",
    "        \n",
    "        return -1"
   ]
  },
  {
   "cell_type": "markdown",
   "metadata": {},
   "source": [
    "## Lessons and Thoughts\n",
    "- Almost the same as Problem 127. Do not iterate over `bank` in BFS, otherwise it is likely to have TLE."
   ]
  }
 ],
 "metadata": {
  "kernelspec": {
   "display_name": "Python 3",
   "language": "python",
   "name": "python3"
  },
  "language_info": {
   "codemirror_mode": {
    "name": "ipython",
    "version": 3
   },
   "file_extension": ".py",
   "mimetype": "text/x-python",
   "name": "python",
   "nbconvert_exporter": "python",
   "pygments_lexer": "ipython3",
   "version": "3.7.3"
  }
 },
 "nbformat": 4,
 "nbformat_minor": 2
}
