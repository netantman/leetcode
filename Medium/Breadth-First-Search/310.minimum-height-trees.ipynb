{
 "cells": [
  {
   "cell_type": "markdown",
   "metadata": {},
   "source": [
    "## Attempt 1 - Runtime Error"
   ]
  },
  {
   "cell_type": "code",
   "execution_count": null,
   "metadata": {},
   "outputs": [],
   "source": [
    "class Solution:\n",
    "    def findMinHeightTrees(self, n: int, edges: List[List[int]]) -> List[int]:\n",
    "        cache=dict()\n",
    "        for e in edges:\n",
    "            if e[0] in cache:\n",
    "                cache[e[0]].append(e[1])\n",
    "            else:\n",
    "                cache[e[0]]=[e[1]]\n",
    "            if e[1] in cache:\n",
    "                cache[e[1]].append(e[0])\n",
    "            else:\n",
    "                cache[e[1]]=[e[0]]\n",
    "            \n",
    "        \n",
    "        res=[]\n",
    "        for idx in range(n):\n",
    "            queue=[(1,idx)]\n",
    "            visited=set()\n",
    "            l=1\n",
    "            while len(queue)>0:\n",
    "                head=queue[0]\n",
    "                lvl, node=head\n",
    "                visited.add(node)\n",
    "                queue=queue[1:]\n",
    "                neighbors=cache[node] ## --> did not handle the case where the tree is just one node\n",
    "                for n in neighbors:\n",
    "                    if n not in visited:\n",
    "                        queue.append((lvl+1, n))\n",
    "                        l=max(l, lvl+1)\n",
    "            res.append(l)\n",
    "        m=min(res)\n",
    "        res=[idx for idx,r in enumerate(res) if r==m]\n",
    "        return re"
   ]
  },
  {
   "cell_type": "markdown",
   "metadata": {},
   "source": [
    "## Attempt 2 - Time Limit Exceeded: so enumerate all nodes and compute height does not work"
   ]
  },
  {
   "cell_type": "code",
   "execution_count": null,
   "metadata": {},
   "outputs": [],
   "source": [
    "class Solution:\n",
    "    def findMinHeightTrees(self, n: int, edges: List[List[int]]) -> List[int]:\n",
    "        if n==1:\n",
    "            return [0]\n",
    "        elif n==2:\n",
    "            return [0,1]\n",
    "        \n",
    "        cache=dict()\n",
    "        for e in edges:\n",
    "            if e[0] in cache:\n",
    "                cache[e[0]].append(e[1])\n",
    "            else:\n",
    "                cache[e[0]]=[e[1]]\n",
    "            if e[1] in cache:\n",
    "                cache[e[1]].append(e[0])\n",
    "            else:\n",
    "                cache[e[1]]=[e[0]]\n",
    "            \n",
    "        \n",
    "        res=[]\n",
    "        for idx in range(n):\n",
    "            queue=[(1,idx)]\n",
    "            visited=set()\n",
    "            l=1\n",
    "            while len(queue)>0:\n",
    "                head=queue[0]\n",
    "                lvl, node=head\n",
    "                visited.add(node)\n",
    "                queue=queue[1:]\n",
    "                neighbors=cache[node]\n",
    "                for n in neighbors:\n",
    "                    if n not in visited:\n",
    "                        queue.append((lvl+1, n))\n",
    "                        l=max(l, lvl+1)\n",
    "            res.append(l)\n",
    "        m=min(res)\n",
    "        res=[idx for idx,r in enumerate(res) if r==m]\n",
    "        return res"
   ]
  },
  {
   "cell_type": "markdown",
   "metadata": {},
   "source": [
    "## Attempt 3 - Accepted"
   ]
  },
  {
   "cell_type": "code",
   "execution_count": null,
   "metadata": {},
   "outputs": [],
   "source": [
    "class Solution:\n",
    "    def findMinHeightTrees(self, n: int, edges: List[List[int]]) -> List[int]:\n",
    "        if n==1:\n",
    "            return [0]\n",
    "        elif n==2:\n",
    "            return [0,1]\n",
    "        \n",
    "        cache={idx:set() for idx in range(n)}\n",
    "        for e in edges:\n",
    "            cache[e[0]].add(e[1])\n",
    "            cache[e[1]].add(e[0])\n",
    "            \n",
    "        visited=set()\n",
    "        queue=[k for k in cache.keys() if len(cache[k])==1]\n",
    "        while len(queue)>0 and len(visited)+len(queue)<n:\n",
    "            for q in queue:    \n",
    "                visited.add(q)\n",
    "                parent=cache[q].pop()\n",
    "                cache[parent].remove(q)\n",
    "            queue=[k for k in cache.keys() if (len(cache[k])==1)]\n",
    "        if len(queue)==0:\n",
    "            return [r for r in range(n) if r not in visited]\n",
    "        else:\n",
    "            return queue"
   ]
  },
  {
   "cell_type": "markdown",
   "metadata": {},
   "source": [
    "## Lessons and Thoughts\n",
    "- An edge case that should always be considered is when the graph is one node, or empty.\n",
    "- Built-in function `enuermate`.\n",
    "- `remove` function for `set`\n",
    "- The accepted solution is inspired by [this post](https://www.cnblogs.com/grandyang/p/5000291.html). It is actually very similar to Problems 207 and 210, where BFS seems the easier solution."
   ]
  }
 ],
 "metadata": {
  "kernelspec": {
   "display_name": "Python 3",
   "language": "python",
   "name": "python3"
  },
  "language_info": {
   "codemirror_mode": {
    "name": "ipython",
    "version": 3
   },
   "file_extension": ".py",
   "mimetype": "text/x-python",
   "name": "python",
   "nbconvert_exporter": "python",
   "pygments_lexer": "ipython3",
   "version": "3.7.3"
  }
 },
 "nbformat": 4,
 "nbformat_minor": 2
}
