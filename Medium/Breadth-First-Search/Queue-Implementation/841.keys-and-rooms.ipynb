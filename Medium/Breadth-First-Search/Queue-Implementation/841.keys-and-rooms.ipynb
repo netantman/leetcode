{
 "cells": [
  {
   "cell_type": "markdown",
   "metadata": {},
   "source": [
    "## Attempt 1 - Accepted"
   ]
  },
  {
   "cell_type": "code",
   "execution_count": null,
   "metadata": {},
   "outputs": [],
   "source": [
    "class Solution:\n",
    "    def canVisitAllRooms(self, rooms: List[List[int]]) -> bool:\n",
    "        visited=[0 for _ in rooms]\n",
    "        def dfs(idx, rooms):\n",
    "            if visited[idx]>0:\n",
    "                return\n",
    "            else:\n",
    "                visited[idx]=1\n",
    "                access=rooms[idx]\n",
    "                for r in access:\n",
    "                    dfs(r, rooms)\n",
    "                return\n",
    "        dfs(0, rooms)\n",
    "        return sum(visited)==len(visited)"
   ]
  },
  {
   "cell_type": "markdown",
   "metadata": {},
   "source": [
    "## Attempt 2 - Accepted"
   ]
  },
  {
   "cell_type": "code",
   "execution_count": null,
   "metadata": {},
   "outputs": [],
   "source": [
    "class Solution:\n",
    "    def canVisitAllRooms(self, rooms: List[List[int]]) -> bool:\n",
    "        N = len(rooms)\n",
    "        if N == 1:\n",
    "            return True\n",
    "\n",
    "        q = collections.deque([0])\n",
    "        unlocked = set([0])\n",
    "        while q:\n",
    "            head = q.popleft()\n",
    "            keys = rooms[head]\n",
    "            for room in keys:\n",
    "                if room in unlocked:\n",
    "                    continue\n",
    "                q.append(room)\n",
    "                unlocked.add(room)\n",
    "        \n",
    "        return len(unlocked) == N "
   ]
  },
  {
   "cell_type": "markdown",
   "metadata": {},
   "source": [
    "## Lessons and Thoughts\n",
    "- Straightforward DFS using recursion.\n",
    "- BFS also works, and probably preferred to avoid stackoverflow."
   ]
  }
 ],
 "metadata": {
  "kernelspec": {
   "display_name": "Python 3 (ipykernel)",
   "language": "python",
   "name": "python3"
  },
  "language_info": {
   "codemirror_mode": {
    "name": "ipython",
    "version": 3
   },
   "file_extension": ".py",
   "mimetype": "text/x-python",
   "name": "python",
   "nbconvert_exporter": "python",
   "pygments_lexer": "ipython3",
   "version": "3.9.7"
  }
 },
 "nbformat": 4,
 "nbformat_minor": 2
}
