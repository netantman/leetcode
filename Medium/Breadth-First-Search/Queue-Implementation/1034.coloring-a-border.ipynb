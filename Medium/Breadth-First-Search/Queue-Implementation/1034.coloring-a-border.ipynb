{
 "cells": [
  {
   "cell_type": "markdown",
   "metadata": {},
   "source": [
    "## Attempt 1 - Wrong Answer"
   ]
  },
  {
   "cell_type": "code",
   "execution_count": null,
   "metadata": {},
   "outputs": [],
   "source": [
    "class Solution:\n",
    "    def colorBorder(self, grid: List[List[int]], r0: int, c0: int, color: int) -> List[List[int]]:\n",
    "        R,C=len(grid),len(grid[0])\n",
    "        target=grid[r0][c0]\n",
    "        q=[(r0,c0)]\n",
    "        visited=set([(r0,c0)])\n",
    "        while q:\n",
    "            head=q.pop(0)\n",
    "            r,c=head\n",
    "            if r-1>=0 and (r-1,c) not in visited and grid[r-1][c]==target:\n",
    "                q.append((r-1,c))\n",
    "                visited.add((r-1,c))\n",
    "            if c-1>=0 and (r,c-1) not in visited and grid[r][c-1]==target:\n",
    "                q.append((r,c-1))\n",
    "                visited.add((r,c-1))\n",
    "            if r+1<R and (r+1,c) not in visited and grid[r+1][c]==target:\n",
    "                q.append((r+1,c))\n",
    "                visited.add((r+1,c))\n",
    "            if c+1<C and (r,c+1) not in visited and grid[r][c+1]==target:\n",
    "                q.append((r,c+1))\n",
    "                visited.add((r,c+1))\n",
    "            if r in {0,R-1} or c in {0,C-1} or target not in {grid[r-1][c], grid[r+1][c], grid[r][c-1], grid[r][c+1]}: ## --> does not work if you are changing the input\n",
    "                grid[r][c]=color\n",
    "        return grid"
   ]
  },
  {
   "cell_type": "markdown",
   "metadata": {},
   "source": [
    "## Attempt 2 - Accepted"
   ]
  },
  {
   "cell_type": "code",
   "execution_count": null,
   "metadata": {},
   "outputs": [],
   "source": [
    "class Solution:\n",
    "    def colorBorder(self, grid: List[List[int]], r0: int, c0: int, color: int) -> List[List[int]]:\n",
    "        R,C=len(grid),len(grid[0])\n",
    "        target=grid[r0][c0]\n",
    "        q=[(r0,c0)]\n",
    "        visited=set([(r0,c0)])\n",
    "        to_change=[]\n",
    "        while q:\n",
    "            head=q.pop(0)\n",
    "            r,c=head\n",
    "            if r-1>=0 and (r-1,c) not in visited and grid[r-1][c]==target:\n",
    "                q.append((r-1,c))\n",
    "                visited.add((r-1,c))\n",
    "            if c-1>=0 and (r,c-1) not in visited and grid[r][c-1]==target:\n",
    "                q.append((r,c-1))\n",
    "                visited.add((r,c-1))\n",
    "            if r+1<R and (r+1,c) not in visited and grid[r+1][c]==target:\n",
    "                q.append((r+1,c))\n",
    "                visited.add((r+1,c))\n",
    "            if c+1<C and (r,c+1) not in visited and grid[r][c+1]==target:\n",
    "                q.append((r,c+1))\n",
    "                visited.add((r,c+1))\n",
    "            if (r in {0,R-1} or c in {0,C-1}) or ({grid[r-1][c], grid[r+1][c], grid[r][c-1], grid[r][c+1]}!={target}):\n",
    "                to_change.append((r,c))\n",
    "        for r,c in to_change:\n",
    "            grid[r][c]=color\n",
    "        return grid"
   ]
  },
  {
   "cell_type": "markdown",
   "metadata": {},
   "source": [
    "## Lessons and Thoughts\n",
    "- In BFS, be careful when you are changing the inputs, since that may affect the neighbor criterion."
   ]
  }
 ],
 "metadata": {
  "kernelspec": {
   "display_name": "Python 3",
   "language": "python",
   "name": "python3"
  },
  "language_info": {
   "codemirror_mode": {
    "name": "ipython",
    "version": 3
   },
   "file_extension": ".py",
   "mimetype": "text/x-python",
   "name": "python",
   "nbconvert_exporter": "python",
   "pygments_lexer": "ipython3",
   "version": "3.7.3"
  }
 },
 "nbformat": 4,
 "nbformat_minor": 2
}
