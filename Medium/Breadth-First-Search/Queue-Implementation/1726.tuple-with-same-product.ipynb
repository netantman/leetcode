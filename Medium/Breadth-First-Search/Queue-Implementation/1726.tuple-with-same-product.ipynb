{
 "cells": [
  {
   "cell_type": "markdown",
   "metadata": {},
   "source": [
    "## Attempt 1 - Accepted"
   ]
  },
  {
   "cell_type": "code",
   "execution_count": null,
   "metadata": {},
   "outputs": [],
   "source": [
    "class Solution:\n",
    "    def tupleSameProduct(self, nums: List[int]) -> int:\n",
    "        nums = sorted(nums)\n",
    "        record = dict()\n",
    "        L = len(nums)\n",
    "        q = [(0, L - 1)]\n",
    "        visited = set((0, L - 1))\n",
    "        while q:\n",
    "            l, r = q.pop(0)\n",
    "            \n",
    "            record[nums[l] * nums[r]] = record.get(nums[l] * nums[r], 0) + 1\n",
    "            if r - l > 1:\n",
    "                if (l + 1, r) not in visited:\n",
    "                    visited.add((l + 1, r))\n",
    "                    q.append((l + 1, r))    \n",
    "                if (l, r - 1) not in visited:\n",
    "                    visited.add((l, r - 1))\n",
    "                    q.append((l, r - 1))\n",
    "        \n",
    "        return sum([v * (v - 1) // 2 * 8 if v >= 2 else 0 for v in record.values()])"
   ]
  },
  {
   "cell_type": "markdown",
   "metadata": {},
   "source": [
    "## Lessons and Thoughts\n",
    "- For queue implementation, not only do you need to check the visited, but also what is in the queue."
   ]
  }
 ],
 "metadata": {
  "kernelspec": {
   "display_name": "Python 3",
   "language": "python",
   "name": "python3"
  },
  "language_info": {
   "codemirror_mode": {
    "name": "ipython",
    "version": 3
   },
   "file_extension": ".py",
   "mimetype": "text/x-python",
   "name": "python",
   "nbconvert_exporter": "python",
   "pygments_lexer": "ipython3",
   "version": "3.7.3"
  }
 },
 "nbformat": 4,
 "nbformat_minor": 2
}
