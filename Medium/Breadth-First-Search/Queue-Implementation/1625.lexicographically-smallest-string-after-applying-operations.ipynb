{
 "cells": [
  {
   "cell_type": "markdown",
   "metadata": {},
   "source": [
    "## Attempt 1 - Time Limit Exceeded"
   ]
  },
  {
   "cell_type": "code",
   "execution_count": null,
   "metadata": {},
   "outputs": [],
   "source": [
    "class Solution:\n",
    "    def findLexSmallestString(self, s: str, a: int, b: int) -> str:\n",
    "        L = len(s)\n",
    "        def apply_a(orig):\n",
    "            tmp = [c for c in orig]\n",
    "            for idx in range(1, L, 2):\n",
    "                tmp[idx] = str((int(tmp[idx]) + a) % 10)\n",
    "            return \"\".join(tmp)\n",
    "        def apply_b(orig):\n",
    "            return orig[-b:] + orig[:-b]\n",
    "        \n",
    "        q = [s]\n",
    "        visited = []\n",
    "        while q:\n",
    "            curr = q.pop(0)\n",
    "            visited.append(curr)\n",
    "            tmp1 = apply_a(curr)\n",
    "            if tmp1 not in visited and tmp1 not in q:\n",
    "                q.append(tmp1)\n",
    "            tmp2 = apply_b(curr)\n",
    "            if tmp2 not in visited and tmp2 not in q:\n",
    "                q.append(tmp2)\n",
    "        visited = sorted(visited)  ## --> you do not really need to sort the whole thing\n",
    "        return visited[0]"
   ]
  },
  {
   "cell_type": "markdown",
   "metadata": {},
   "source": [
    "## Attempt 2 - Accepted"
   ]
  },
  {
   "cell_type": "code",
   "execution_count": null,
   "metadata": {},
   "outputs": [],
   "source": [
    "class Solution:\n",
    "    def findLexSmallestString(self, s: str, a: int, b: int) -> str:\n",
    "        L = len(s)\n",
    "        def apply_a(orig):\n",
    "            tmp = [c for c in orig]\n",
    "            for idx in range(1, L, 2):\n",
    "                tmp[idx] = str((int(tmp[idx]) + a) % 10)\n",
    "            return \"\".join(tmp)\n",
    "        def apply_b(orig):\n",
    "            return orig[-b:] + orig[:-b]\n",
    "        \n",
    "        q = [s]\n",
    "        visited = []\n",
    "        res = s\n",
    "        while q:\n",
    "            curr = q.pop(0)\n",
    "            visited.append(curr)\n",
    "            res = min(res, curr)\n",
    "            tmp1 = apply_a(curr)\n",
    "            if tmp1 not in visited and tmp1 not in q:\n",
    "                q.append(tmp1)\n",
    "            tmp2 = apply_b(curr)\n",
    "            if tmp2 not in visited and tmp2 not in q:\n",
    "                q.append(tmp2)\n",
    "        return res"
   ]
  },
  {
   "cell_type": "markdown",
   "metadata": {},
   "source": [
    "## Lessons and Thoughts\n",
    "- "
   ]
  }
 ],
 "metadata": {
  "kernelspec": {
   "display_name": "Python 3 (ipykernel)",
   "language": "python",
   "name": "python3"
  },
  "language_info": {
   "codemirror_mode": {
    "name": "ipython",
    "version": 3
   },
   "file_extension": ".py",
   "mimetype": "text/x-python",
   "name": "python",
   "nbconvert_exporter": "python",
   "pygments_lexer": "ipython3",
   "version": "3.9.7"
  }
 },
 "nbformat": 4,
 "nbformat_minor": 2
}
