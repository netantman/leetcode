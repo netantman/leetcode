{
 "cells": [
  {
   "cell_type": "markdown",
   "metadata": {},
   "source": [
    "## Attempt 1 - Time Limit Exceeded"
   ]
  },
  {
   "cell_type": "code",
   "execution_count": null,
   "metadata": {},
   "outputs": [],
   "source": [
    "class Solution:\n",
    "    def openLock(self, deadends: List[str], target: str) -> int:\n",
    "        visited=set()\n",
    "        def get_neighbors(start, visited):\n",
    "            res=[]\n",
    "            for idx, d in enumerate(start):\n",
    "                if d==\"0\":\n",
    "                    temp=start[:idx]+\"9\"+start[idx+1:]\n",
    "                    if temp not in visited:\n",
    "                        res.append(temp)\n",
    "                    temp=start[:idx]+\"1\"+start[idx+1:]\n",
    "                    if temp not in visited:\n",
    "                        res.append(temp)   \n",
    "                else: ## --> 9 needs to be special cased as well!\n",
    "                    temp=start[:idx]+str(int(d)-1)+start[idx+1:]\n",
    "                    if temp not in visited:\n",
    "                        res.append(temp)\n",
    "                    temp=start[:idx]+str(int(d)+1)+start[idx+1:]\n",
    "                    if temp not in visited:\n",
    "                        res.append(temp)\n",
    "            return res\n",
    "        q=[(\"0000\",0)]\n",
    "        while len(q)>0:\n",
    "            head=q.pop(0)\n",
    "            if head[0] not in deadends: ## --> should check if head[0] is in visited as well\n",
    "                visited.add(head[0])\n",
    "                neighbors=get_neighbors(head[0], visited)\n",
    "                if target in neighbors:\n",
    "                    return head[1]+1\n",
    "                q+=[(n, head[1]+1) for n in neighbors]\n",
    "\n",
    "        return -1"
   ]
  },
  {
   "cell_type": "markdown",
   "metadata": {},
   "source": [
    "## Attempt 2 - Accepted"
   ]
  },
  {
   "cell_type": "code",
   "execution_count": null,
   "metadata": {},
   "outputs": [],
   "source": [
    "class Solution:\n",
    "    def openLock(self, deadends: List[str], target: str) -> int:\n",
    "        visited=set()\n",
    "        def get_neighbors(start, visited):\n",
    "            res=[]\n",
    "            for idx, d in enumerate(start):\n",
    "                if d==\"0\":\n",
    "                    temp=start[:idx]+\"9\"+start[idx+1:]\n",
    "                    if temp not in visited:\n",
    "                        res.append(temp)\n",
    "                    temp=start[:idx]+\"1\"+start[idx+1:]\n",
    "                    if temp not in visited:\n",
    "                        res.append(temp)\n",
    "                elif d==\"9\":\n",
    "                    temp=start[:idx]+\"0\"+start[idx+1:]\n",
    "                    if temp not in visited:\n",
    "                        res.append(temp)\n",
    "                    temp=start[:idx]+\"8\"+start[idx+1:]\n",
    "                    if temp not in visited:\n",
    "                        res.append(temp)\n",
    "                else:\n",
    "                    temp=start[:idx]+str(int(d)-1)+start[idx+1:]\n",
    "                    if temp not in visited:\n",
    "                        res.append(temp)\n",
    "                    temp=start[:idx]+str(int(d)+1)+start[idx+1:]\n",
    "                    if temp not in visited:\n",
    "                        res.append(temp)\n",
    "            return res\n",
    "        q=[(\"0000\",0)]\n",
    "        while len(q)>0:\n",
    "            head=q.pop(0)\n",
    "            if head[0] not in deadends and head[0] not in visited:\n",
    "                visited.add(head[0])\n",
    "                neighbors=get_neighbors(head[0], visited)\n",
    "                if target in neighbors:\n",
    "                    return head[1]+1\n",
    "                q+=[(n, head[1]+1) for n in neighbors]\n",
    "            # print(head, visited)\n",
    "        return -1"
   ]
  },
  {
   "cell_type": "markdown",
   "metadata": {},
   "source": [
    "## Lessons and Thoughts\n",
    "- The edge case to consider is when the starting point is in `deadends`.\n",
    "- Properly record nodes that are already visited is key."
   ]
  }
 ],
 "metadata": {
  "kernelspec": {
   "display_name": "Python 3",
   "language": "python",
   "name": "python3"
  },
  "language_info": {
   "codemirror_mode": {
    "name": "ipython",
    "version": 3
   },
   "file_extension": ".py",
   "mimetype": "text/x-python",
   "name": "python",
   "nbconvert_exporter": "python",
   "pygments_lexer": "ipython3",
   "version": "3.7.3"
  }
 },
 "nbformat": 4,
 "nbformat_minor": 2
}
