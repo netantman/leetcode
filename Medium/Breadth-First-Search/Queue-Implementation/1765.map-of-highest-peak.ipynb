{
 "cells": [
  {
   "cell_type": "markdown",
   "metadata": {},
   "source": [
    "## Attempt 1 - Time Limit Exceeded"
   ]
  },
  {
   "cell_type": "code",
   "execution_count": null,
   "metadata": {},
   "outputs": [],
   "source": [
    "class Solution:\n",
    "    def highestPeak(self, isWater: List[List[int]]) -> List[List[int]]:\n",
    "        R, C = len(isWater), len(isWater[0])\n",
    "        res = [[None for c in range(C)] for r in range(R)]\n",
    "        q = []\n",
    "        lvl = 0\n",
    "        for r in range(R):\n",
    "            for c in range(C):\n",
    "                if isWater[r][c] > 0:\n",
    "                    q.append((r, c))\n",
    "        \n",
    "        while q:\n",
    "            nexxt = []\n",
    "            for r, c in q:\n",
    "                res[r][c] = lvl\n",
    "                if r - 1 >= 0 and res[r - 1][c] is None and (r - 1, c) not in q and (r - 1, c) not in nexxt:\n",
    "                    nexxt.append((r - 1, c))\n",
    "                if r + 1 < R and res[r + 1][c] is None and (r + 1, c) not in q and (r + 1, c) not in nexxt:\n",
    "                    nexxt.append((r + 1, c))\n",
    "                if c - 1 >= 0 and res[r][c - 1] is None and (r, c - 1) not in q and (r, c - 1) not in nexxt:\n",
    "                    nexxt.append((r, c - 1))\n",
    "                if c + 1 < C and res[r][c + 1] is None and (r, c + 1) not in q and (r, c + 1) not in nexxt:\n",
    "                    nexxt.append((r, c + 1))\n",
    "            q = nexxt\n",
    "            if nexxt:\n",
    "                lvl += 1\n",
    "        \n",
    "        return res"
   ]
  },
  {
   "cell_type": "markdown",
   "metadata": {},
   "source": [
    "## Attempt 2 - Accepted"
   ]
  },
  {
   "cell_type": "code",
   "execution_count": null,
   "metadata": {},
   "outputs": [],
   "source": [
    "class Solution:\n",
    "    def highestPeak(self, isWater: List[List[int]]) -> List[List[int]]:\n",
    "        R, C = len(isWater), len(isWater[0])\n",
    "        res = [[None for c in range(C)] for r in range(R)]\n",
    "        q = []\n",
    "        lvl = 0\n",
    "        for r in range(R):\n",
    "            for c in range(C):\n",
    "                if isWater[r][c] > 0:\n",
    "                    res[r][c] = 0\n",
    "                    q.append((r, c))\n",
    "        \n",
    "        while q:\n",
    "            r, c = q.pop(0)\n",
    "            if r - 1 >= 0 and res[r - 1][c] is None and isWater[r - 1][c] == 0:\n",
    "                q.append((r - 1, c))\n",
    "                res[r - 1][c] = res[r][c] + 1\n",
    "                isWater[r - 1][c] = 1\n",
    "            if r + 1 < R and res[r + 1][c] is None and isWater[r + 1][c] == 0:\n",
    "                q.append((r + 1, c))\n",
    "                res[r + 1][c] = res[r][c] + 1\n",
    "                isWater[r + 1][c] = 1\n",
    "            if c - 1 >= 0 and res[r][c - 1] is None and isWater[r][c - 1] == 0:\n",
    "                q.append((r, c - 1))\n",
    "                res[r][c - 1] = res[r][c] + 1\n",
    "                isWater[r][c - 1] = 1\n",
    "            if c + 1 < C and res[r][c + 1] is None and isWater[r][c + 1] == 0:\n",
    "                q.append((r, c + 1))\n",
    "                res[r][c + 1] = res[r][c] + 1\n",
    "                isWater[r][c + 1] = 1\n",
    "        \n",
    "        return res"
   ]
  },
  {
   "cell_type": "markdown",
   "metadata": {},
   "source": [
    "## Lessons and Thoughts\n",
    "- The accepted solution is inspired by app.\n",
    "- You actually do not need level traversal (Attempt 1) to ensure correctness.\n",
    "- A bit optimization is instead of checking visited using `in q`, you use a matrix access."
   ]
  }
 ],
 "metadata": {
  "kernelspec": {
   "display_name": "Python 3",
   "language": "python",
   "name": "python3"
  },
  "language_info": {
   "codemirror_mode": {
    "name": "ipython",
    "version": 3
   },
   "file_extension": ".py",
   "mimetype": "text/x-python",
   "name": "python",
   "nbconvert_exporter": "python",
   "pygments_lexer": "ipython3",
   "version": "3.7.3"
  }
 },
 "nbformat": 4,
 "nbformat_minor": 2
}
