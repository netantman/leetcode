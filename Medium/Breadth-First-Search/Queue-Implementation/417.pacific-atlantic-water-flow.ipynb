{
 "cells": [
  {
   "cell_type": "markdown",
   "metadata": {},
   "source": [
    "## Attempt 1 - Accepted"
   ]
  },
  {
   "cell_type": "code",
   "execution_count": null,
   "metadata": {},
   "outputs": [],
   "source": [
    "class Solution:\n",
    "    def pacificAtlantic(self, matrix: List[List[int]]) -> List[List[int]]:\n",
    "        if len(matrix)<1:\n",
    "            return []\n",
    "        if len(matrix[0])<1:\n",
    "            return []\n",
    "        numRows, numCols=len(matrix), len(matrix[0])\n",
    "        p, a=[], []\n",
    "        pacific, atlantic=set(), set()\n",
    "        \n",
    "        for row in range(numRows):\n",
    "            p.append([row,0])\n",
    "        for col in range(1,numCols):\n",
    "            p.append([0,col])\n",
    "        while len(p)>0:\n",
    "            r,c=p.pop(0)\n",
    "            pacific.add((r,c))\n",
    "            if r-1>=0 and ([r-1,c] not in p) and ((r-1,c) not in pacific) and (matrix[r-1][c]>=matrix[r][c]):\n",
    "                p.append([r-1,c])\n",
    "            if r+1<numRows and ([r+1,c] not in p) and ((r+1,c) not in pacific) and (matrix[r+1][c]>=matrix[r][c]):\n",
    "                p.append([r+1,c])\n",
    "            if c-1>=0 and ([r,c-1] not in p) and ((r,c-1) not in pacific) and (matrix[r][c-1]>=matrix[r][c]):\n",
    "                p.append([r,c-1])\n",
    "            if c+1<numCols and ([r,c+1] not in p) and ((r,c+1) not in pacific) and (matrix[r][c+1]>=matrix[r][c]):\n",
    "                p.append([r,c+1])\n",
    "        \n",
    "        for row in range(numRows):\n",
    "            a.append([row,numCols-1])\n",
    "        for col in range(numCols-1):\n",
    "            a.append([numRows-1,col])\n",
    "        while len(a)>0:\n",
    "            r,c=a.pop(0)\n",
    "            atlantic.add((r,c))\n",
    "            if r-1>=0 and ([r-1,c] not in a) and ((r-1,c) not in atlantic) and (matrix[r-1][c]>=matrix[r][c]):\n",
    "                a.append([r-1,c])\n",
    "            if r+1<numRows and ([r+1,c] not in a) and ((r+1,c) not in atlantic) and (matrix[r+1][c]>=matrix[r][c]):\n",
    "                a.append([r+1,c])\n",
    "            if c-1>=0 and ([r,c-1] not in a) and ((r,c-1) not in atlantic) and (matrix[r][c-1]>=matrix[r][c]):\n",
    "                a.append([r,c-1])\n",
    "            if c+1<numCols and ([r,c+1] not in a) and ((r,c+1) not in atlantic) and (matrix[r][c+1]>=matrix[r][c]):\n",
    "                a.append([r,c+1])\n",
    "        \n",
    "        res=pacific.intersection(atlantic)\n",
    "        res=[list(tu) for tu in res]\n",
    "        return res"
   ]
  },
  {
   "cell_type": "markdown",
   "metadata": {},
   "source": [
    "## Lessons and Thoughts\n",
    "- Just a straightforward appliation of BFS twice.\n",
    "- Still think it is easier to write BFS rather than DFS."
   ]
  }
 ],
 "metadata": {
  "kernelspec": {
   "display_name": "Python 3 (ipykernel)",
   "language": "python",
   "name": "python3"
  },
  "language_info": {
   "codemirror_mode": {
    "name": "ipython",
    "version": 3
   },
   "file_extension": ".py",
   "mimetype": "text/x-python",
   "name": "python",
   "nbconvert_exporter": "python",
   "pygments_lexer": "ipython3",
   "version": "3.9.7"
  }
 },
 "nbformat": 4,
 "nbformat_minor": 2
}
