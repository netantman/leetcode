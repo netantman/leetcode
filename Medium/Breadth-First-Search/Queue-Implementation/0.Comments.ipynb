{
 "cells": [
  {
   "cell_type": "markdown",
   "metadata": {},
   "source": [
    "## Idea"
   ]
  },
  {
   "cell_type": "markdown",
   "metadata": {},
   "source": [
    "Queue implementation of BFS requires to pop from the queue and process an element every time. Neighbors and childrens are added to the queue as needed. Normally, an accompanying cache is also needed to record processed element. This can be a separately set up `dict`, or if the input is a matrix, the input itself.\n",
    "\n",
    "This kind of BFS problems are usually on a graph, so you also need to consider how to access neighbors and organize nodes efficiently.\n",
    "\n",
    "Hints of using BFS:\n",
    "- topological sorting\n",
    "- problems with connected blocks\n",
    "- level traversal\n",
    "- shortest paths\n",
    "- given a simple rule, find how many steps from initial status to end status\n",
    "\n",
    "**Time complexity**: $O(n+m)$\n",
    "    - $n$ is the number of points, $m$ is the number of edges\n",
    "\n",
    "**Space complexity**: $O(n)$"
   ]
  },
  {
   "cell_type": "markdown",
   "metadata": {},
   "source": [
    "## Traps"
   ]
  },
  {
   "cell_type": "markdown",
   "metadata": {},
   "source": [
    "- One needs to be very clear when and how the record changes - should it be when the element is popped from the queue, or should it be when the element enters the queue?\n",
    "- Make it such that when an element enters the `q` it gets added to `visited` as well."
   ]
  },
  {
   "cell_type": "markdown",
   "metadata": {},
   "source": [
    "## Template"
   ]
  },
  {
   "cell_type": "code",
   "execution_count": null,
   "metadata": {},
   "outputs": [],
   "source": [
    "def bfs(start_node):\n",
    "    # use collection.deque: list.pop() is too expensive\n",
    "    queue = collections.deque([start_node])\n",
    "    \n",
    "    # distance serves as a record of visited nodes, also to record the shortest distance.\n",
    "    # If shortest distance is not required, consider replacing it with a set.\n",
    "    # when node is the key, it is the memory address that is compared - but you will need to use hashable types.\n",
    "    # when a node enters queue, put it in distance already, and distance is ever growing\n",
    "    distance = {start_node: 0}\n",
    "    \n",
    "    # For multi-source, just initialize with multiple nodes \n",
    "    \n",
    "    # the first element of queue has the shortest distance to start_node\n",
    "    while queue:\n",
    "        node = queue.popleft()\n",
    "        \n",
    "        # Do something, such as check if node is the end, etc.\n",
    "        # Potentially this can break or return already\n",
    "        \n",
    "        # If we are on a matrix, ensure that there is not out-of-range error\n",
    "        for neighbor in node.get_neighbors():\n",
    "            # If a node is already in `distance`, its shortest distance, if required, is already found.\n",
    "            if neighbor in distance:\n",
    "                continue\n",
    "            queue.append(neighbor)\n",
    "            distance[neighbor] = distance[node] + 1\n",
    "            \n",
    "    # the case where we need to return all distances\n",
    "    return distance\n",
    "    # the case where we just need to return all connected points\n",
    "    return distance.keys() # mind the types!\n",
    "    # if the shortest distance to end_node\n",
    "    return distance[end_node]"
   ]
  },
  {
   "cell_type": "markdown",
   "metadata": {},
   "source": [
    "BFS can avoid revisiting past visited by keeping track or checking shortest paths (both are equivalent)."
   ]
  },
  {
   "cell_type": "code",
   "execution_count": null,
   "metadata": {},
   "outputs": [],
   "source": [
    "# template for level traversal - it is also a queue implementation, and in many ways similar to shortest path, so put it here.\n",
    "def level(start_node):\n",
    "    lvl = collection.deque([start_node])\n",
    "    visited = set()\n",
    "    while lvl:\n",
    "        next_lvl = set()\n",
    "        for elem in lvl:\n",
    "            for n in neighbors.get(elem, []):\n",
    "                if n in visited: # may not need this if the mechanism will not revisit last node\n",
    "                    continue\n",
    "                # do operations\n",
    "                next_lvl.add(n)\n",
    "            visited.add(elem)\n",
    "        lvl = collection.deque(next_lvl)"
   ]
  },
  {
   "cell_type": "markdown",
   "metadata": {},
   "source": [
    "Or you can consider recording the level in `distance` for level traversal in the `bfs` above."
   ]
  }
 ],
 "metadata": {
  "kernelspec": {
   "display_name": "Python 3 (ipykernel)",
   "language": "python",
   "name": "python3"
  },
  "language_info": {
   "codemirror_mode": {
    "name": "ipython",
    "version": 3
   },
   "file_extension": ".py",
   "mimetype": "text/x-python",
   "name": "python",
   "nbconvert_exporter": "python",
   "pygments_lexer": "ipython3",
   "version": "3.9.7"
  }
 },
 "nbformat": 4,
 "nbformat_minor": 2
}
