{
 "cells": [
  {
   "cell_type": "markdown",
   "metadata": {},
   "source": [
    "## Idea"
   ]
  },
  {
   "cell_type": "markdown",
   "metadata": {},
   "source": [
    "Queue implementation of BFS requires to pop from the queue and process an element every time. Neighbors and childrens are added to the queue as needed. Normally, an accompanying cache is also needed to record processed element. This can be a separately set up `dict`, or if the input is a matrix, the input itself.\n",
    "\n",
    "This kind of BFS problems are usually on a graph, so you also need to consider how to access neighbors and organize nodes efficiently."
   ]
  },
  {
   "cell_type": "markdown",
   "metadata": {},
   "source": [
    "## Traps"
   ]
  },
  {
   "cell_type": "markdown",
   "metadata": {},
   "source": [
    "One needs to be very clear when and how the record changes - should it be when the element is popped from the queue, or should it be when the element enters the queue?"
   ]
  }
 ],
 "metadata": {
  "kernelspec": {
   "display_name": "Python 3",
   "language": "python",
   "name": "python3"
  },
  "language_info": {
   "codemirror_mode": {
    "name": "ipython",
    "version": 3
   },
   "file_extension": ".py",
   "mimetype": "text/x-python",
   "name": "python",
   "nbconvert_exporter": "python",
   "pygments_lexer": "ipython3",
   "version": "3.7.3"
  }
 },
 "nbformat": 4,
 "nbformat_minor": 2
}
