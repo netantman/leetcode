{
 "cells": [
  {
   "cell_type": "markdown",
   "metadata": {},
   "source": [
    "## Attempt 1 - Accepted"
   ]
  },
  {
   "cell_type": "code",
   "execution_count": null,
   "metadata": {},
   "outputs": [],
   "source": [
    "\"\"\"\n",
    "# Definition for a Node.\n",
    "class Node:\n",
    "    def __init__(self, val = 0, neighbors = None):\n",
    "        self.val = val\n",
    "        self.neighbors = neighbors if neighbors is not None else []\n",
    "\"\"\"\n",
    "\n",
    "class Solution:\n",
    "    def cloneGraph(self, node: 'Node') -> 'Node':\n",
    "        \n",
    "        if node is None:\n",
    "            return None\n",
    "        \n",
    "        cache=dict()\n",
    "        cache[node.val]=Node(val=node.val)\n",
    "        queue=[node]\n",
    "        while len(queue)>0:\n",
    "            head=queue[0]\n",
    "            queue=queue[1:]\n",
    "            copy_head=cache[head.val]\n",
    "            neighbors=head.neighbors\n",
    "            for n in neighbors:\n",
    "                if n.val not in cache:\n",
    "                    queue.append(n)\n",
    "                    cache[n.val]=Node(val=n.val)\n",
    "                copy_head.neighbors.append(cache[n.val])\n",
    "        \n",
    "        return cache[node.val]"
   ]
  },
  {
   "cell_type": "markdown",
   "metadata": {},
   "source": [
    "## Lessons and Thoughts\n",
    "- Just remember to create new node and neighbors linking to the new ones.\n",
    "- Probably easier to read using dfs/recursion, but a concern would be stackoverflow."
   ]
  }
 ],
 "metadata": {
  "kernelspec": {
   "display_name": "Python 3 (ipykernel)",
   "language": "python",
   "name": "python3"
  },
  "language_info": {
   "codemirror_mode": {
    "name": "ipython",
    "version": 3
   },
   "file_extension": ".py",
   "mimetype": "text/x-python",
   "name": "python",
   "nbconvert_exporter": "python",
   "pygments_lexer": "ipython3",
   "version": "3.9.7"
  }
 },
 "nbformat": 4,
 "nbformat_minor": 2
}
