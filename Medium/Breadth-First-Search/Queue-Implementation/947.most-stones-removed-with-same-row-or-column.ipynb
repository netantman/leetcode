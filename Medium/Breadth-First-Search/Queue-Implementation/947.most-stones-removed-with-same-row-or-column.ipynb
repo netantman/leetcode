{
 "cells": [
  {
   "cell_type": "markdown",
   "metadata": {},
   "source": [
    "## Attempt 1 - Accepted"
   ]
  },
  {
   "cell_type": "code",
   "execution_count": null,
   "metadata": {},
   "outputs": [],
   "source": [
    "class Solution:\n",
    "    def removeStones(self, stones: List[List[int]]) -> int:\n",
    "        rows=dict()\n",
    "        cols=dict()\n",
    "        for idx, stone in enumerate(stones):\n",
    "            rows[stone[0]]=rows.get(stone[0],[])+[idx]\n",
    "            cols[stone[1]]=cols.get(stone[1],[])+[idx]\n",
    "        cache=[0 for _ in stones]\n",
    "        L=len(stones)\n",
    "        cnt=1\n",
    "        for idx in range(L):\n",
    "            if cache[idx]==0:\n",
    "                q=[idx]\n",
    "                while len(q)>0:\n",
    "                    head=q.pop(0)\n",
    "                    cache[head]=cnt\n",
    "                    r=rows[stones[head][0]]\n",
    "                    c=cols[stones[head][1]]\n",
    "                    for n in r+c:\n",
    "                        if cache[n]==0:\n",
    "                            q.append(n)\n",
    "                            cache[n]=cnt\n",
    "                cnt+=1\n",
    "        print(cache)\n",
    "        res=dict()\n",
    "        for c in cache:\n",
    "            res[c]=res.get(c,0)+1\n",
    "        return sum(res.values())-len(res)"
   ]
  },
  {
   "cell_type": "markdown",
   "metadata": {},
   "source": [
    "## Lessons and Thoughts\n",
    "- The idea is that all stones in the connected components can be taken aways except one, where connected means sharing the same row or column.\n",
    "- BFS can be used to do union find."
   ]
  }
 ],
 "metadata": {
  "kernelspec": {
   "display_name": "Python 3 (ipykernel)",
   "language": "python",
   "name": "python3"
  },
  "language_info": {
   "codemirror_mode": {
    "name": "ipython",
    "version": 3
   },
   "file_extension": ".py",
   "mimetype": "text/x-python",
   "name": "python",
   "nbconvert_exporter": "python",
   "pygments_lexer": "ipython3",
   "version": "3.9.7"
  }
 },
 "nbformat": 4,
 "nbformat_minor": 2
}
