{
 "cells": [
  {
   "cell_type": "markdown",
   "metadata": {},
   "source": [
    "## Attempt 1 - Accepted"
   ]
  },
  {
   "cell_type": "code",
   "execution_count": null,
   "metadata": {},
   "outputs": [],
   "source": [
    "class Solution:\n",
    "    def minReorder(self, n: int, connections: List[List[int]]) -> int:\n",
    "        connections = {tuple(conn) for conn in connections}\n",
    "        neighbors = defaultdict(set)\n",
    "        for a, b in connections:\n",
    "            neighbors[a].add(b)\n",
    "            neighbors[b].add(a)\n",
    "        \n",
    "        res = 0\n",
    "        q = [0]\n",
    "        visited = set()\n",
    "        while q:\n",
    "            curr = q.pop(0)\n",
    "            visited.add(curr)\n",
    "            curr_neighbors = neighbors[curr]\n",
    "            for neighbor in curr_neighbors:\n",
    "                if neighbor in visited:\n",
    "                    continue\n",
    "                if (curr, neighbor) in connections:\n",
    "                    res += 1\n",
    "                q.append(neighbor)\n",
    "        return res"
   ]
  },
  {
   "cell_type": "markdown",
   "metadata": {},
   "source": [
    "## Lessons and Thoughts\n",
    "- Usual breadth first search of graphs.\n",
    "- Application of `defaultdict`"
   ]
  }
 ],
 "metadata": {
  "kernelspec": {
   "display_name": "Python 3",
   "language": "python",
   "name": "python3"
  },
  "language_info": {
   "codemirror_mode": {
    "name": "ipython",
    "version": 3
   },
   "file_extension": ".py",
   "mimetype": "text/x-python",
   "name": "python",
   "nbconvert_exporter": "python",
   "pygments_lexer": "ipython3",
   "version": "3.7.3"
  }
 },
 "nbformat": 4,
 "nbformat_minor": 2
}
