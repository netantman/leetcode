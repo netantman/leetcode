{
 "cells": [
  {
   "cell_type": "markdown",
   "metadata": {},
   "source": [
    "## Attempt 1 - Accepted"
   ]
  },
  {
   "cell_type": "code",
   "execution_count": null,
   "metadata": {},
   "outputs": [],
   "source": [
    "class Solution:\n",
    "    def countSubIslands(self, grid1: List[List[int]], grid2: List[List[int]]) -> int:\n",
    "        R, C = len(grid2), len(grid2[0])\n",
    "        \n",
    "        def dfs(r, c):\n",
    "            res = True\n",
    "            if grid1[r][c] < 1:\n",
    "                res = False\n",
    "            grid2[r][c] = 0\n",
    "            if r - 1 >= 0 and grid2[r - 1][c] > 0:\n",
    "                res = dfs(r - 1, c) and res ## --> would be a bug if the RHS is reversed, due to lazy evaluation of bools\n",
    "            if r + 1 < R and grid2[r + 1][c] > 0:\n",
    "                res = dfs(r + 1, c) and res\n",
    "            if c - 1 >= 0 and grid2[r][c - 1] > 0:\n",
    "                res = dfs(r, c - 1) and res\n",
    "            if c + 1 < C and grid2[r][c + 1] > 0:\n",
    "                res = dfs(r, c + 1) and res\n",
    "            return res\n",
    "        \n",
    "        cnt = 0\n",
    "        for r in range(R):\n",
    "            for c in range(C):\n",
    "                if grid2[r][c] > 0 and dfs(r, c):\n",
    "                    cnt += 1   \n",
    "        \n",
    "        return cnt"
   ]
  },
  {
   "cell_type": "markdown",
   "metadata": {},
   "source": [
    "## Lessons and Thoughts\n",
    "- The idea is the entry point of DFS for `grid2` will have the trickle-up information of whether every cell is valid, since it is the 'root'.\n",
    "- Though the solution above is by DFS, this is a find-connected-component problem should probably solved by BFS."
   ]
  }
 ],
 "metadata": {
  "kernelspec": {
   "display_name": "Python 3 (ipykernel)",
   "language": "python",
   "name": "python3"
  },
  "language_info": {
   "codemirror_mode": {
    "name": "ipython",
    "version": 3
   },
   "file_extension": ".py",
   "mimetype": "text/x-python",
   "name": "python",
   "nbconvert_exporter": "python",
   "pygments_lexer": "ipython3",
   "version": "3.9.7"
  }
 },
 "nbformat": 4,
 "nbformat_minor": 2
}
