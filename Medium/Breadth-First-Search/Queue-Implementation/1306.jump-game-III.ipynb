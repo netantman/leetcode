{
 "cells": [
  {
   "cell_type": "markdown",
   "metadata": {},
   "source": [
    "## Attempt 1 - Accepted"
   ]
  },
  {
   "cell_type": "code",
   "execution_count": null,
   "metadata": {},
   "outputs": [],
   "source": [
    "class Solution:\n",
    "    def canReach(self, arr: List[int], start: int) -> bool:\n",
    "        q=[start]\n",
    "        visited=set()\n",
    "        L=len(arr)\n",
    "        while q:\n",
    "            i=q.pop(0)\n",
    "            visited.add(i)\n",
    "            if arr[i]==0:\n",
    "                return True\n",
    "            if i-arr[i]>=0 and i-arr[i] not in visited:\n",
    "                q.append(i-arr[i])\n",
    "            if i+arr[i]<L and i+arr[i] not in visited:\n",
    "                q.append(i+arr[i])\n",
    "        return False"
   ]
  },
  {
   "cell_type": "markdown",
   "metadata": {},
   "source": [
    "## Lessons and Thoughts\n",
    "- Typical BFS, maintain `q` and `visited`."
   ]
  }
 ],
 "metadata": {
  "kernelspec": {
   "display_name": "Python 3 (ipykernel)",
   "language": "python",
   "name": "python3"
  },
  "language_info": {
   "codemirror_mode": {
    "name": "ipython",
    "version": 3
   },
   "file_extension": ".py",
   "mimetype": "text/x-python",
   "name": "python",
   "nbconvert_exporter": "python",
   "pygments_lexer": "ipython3",
   "version": "3.9.7"
  }
 },
 "nbformat": 4,
 "nbformat_minor": 2
}
