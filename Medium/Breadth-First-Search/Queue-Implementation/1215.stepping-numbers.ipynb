{
 "cells": [
  {
   "cell_type": "markdown",
   "metadata": {},
   "source": [
    "## Attempt 1 - Accepted"
   ]
  },
  {
   "cell_type": "code",
   "execution_count": null,
   "metadata": {},
   "outputs": [],
   "source": [
    "class Solution:\n",
    "    def countSteppingNumbers(self, low: int, high: int) -> List[int]:\n",
    "        res = []\n",
    "        curr = [n for n in range(10)]\n",
    "        for _ in range(10):\n",
    "            res += [n for n in curr if low <= n <= high]\n",
    "            nexxt = []\n",
    "            for n in curr:\n",
    "                s = str(n)\n",
    "                if s[0] == \"0\":\n",
    "                    continue\n",
    "                if int(s[-1]) - 1 >= 0:\n",
    "                    nexxt.append(int(s + str(int(s[-1]) - 1)))\n",
    "                if int(s[-1]) + 1 <= 9:\n",
    "                    nexxt.append(int(s + str(int(s[-1]) + 1)))\n",
    "            curr = nexxt\n",
    "        return res"
   ]
  },
  {
   "cell_type": "markdown",
   "metadata": {},
   "source": [
    "## Lessons and Thoughts\n",
    "- As usual, be careful of leading zeros when converting strings of integars to `int` or back."
   ]
  }
 ],
 "metadata": {
  "kernelspec": {
   "display_name": "Python 3",
   "language": "python",
   "name": "python3"
  },
  "language_info": {
   "codemirror_mode": {
    "name": "ipython",
    "version": 3
   },
   "file_extension": ".py",
   "mimetype": "text/x-python",
   "name": "python",
   "nbconvert_exporter": "python",
   "pygments_lexer": "ipython3",
   "version": "3.7.3"
  }
 },
 "nbformat": 4,
 "nbformat_minor": 2
}
