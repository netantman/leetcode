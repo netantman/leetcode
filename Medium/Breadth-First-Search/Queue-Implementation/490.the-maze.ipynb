{
 "cells": [
  {
   "cell_type": "markdown",
   "metadata": {},
   "source": [
    "## Attempt 1 - Accepted"
   ]
  },
  {
   "cell_type": "code",
   "execution_count": null,
   "metadata": {},
   "outputs": [],
   "source": [
    "class Solution:\n",
    "    def hasPath(self, maze: List[List[int]], start: List[int], destination: List[int]) -> bool:\n",
    "        R, C = len(maze), len(maze[0])\n",
    "        destination = tuple(destination)\n",
    "        directions = [(0, 1), (0, -1), (1, 0), (-1, 0)]\n",
    "        visited = set([tuple(start)])\n",
    "        q = [tuple(start)]\n",
    "        while q:\n",
    "            head = q.pop(0)\n",
    "            if head == destination:\n",
    "                return True\n",
    "            r, c = head\n",
    "            for d in directions:\n",
    "                r_inc, c_inc = d\n",
    "                rr, cc = r, c\n",
    "                nr, nc = rr + r_inc, cc + c_inc\n",
    "                while nr >= 0 and nr < R and nc >= 0 and nc < C and maze[nr][nc] < 1:\n",
    "                    rr, cc = nr, nc\n",
    "                    nr += r_inc\n",
    "                    nc += c_inc\n",
    "                if (rr, cc) not in visited:\n",
    "                    q.append((rr, cc))\n",
    "                    visited.add((rr, cc))\n",
    "        return False"
   ]
  },
  {
   "cell_type": "markdown",
   "metadata": {},
   "source": [
    "## Lessons and Thoughts\n",
    "- Straightforward"
   ]
  }
 ],
 "metadata": {
  "kernelspec": {
   "display_name": "Python 3",
   "language": "python",
   "name": "python3"
  },
  "language_info": {
   "codemirror_mode": {
    "name": "ipython",
    "version": 3
   },
   "file_extension": ".py",
   "mimetype": "text/x-python",
   "name": "python",
   "nbconvert_exporter": "python",
   "pygments_lexer": "ipython3",
   "version": "3.7.3"
  }
 },
 "nbformat": 4,
 "nbformat_minor": 2
}
