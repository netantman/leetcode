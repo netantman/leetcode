{
 "cells": [
  {
   "cell_type": "markdown",
   "metadata": {},
   "source": [
    "## Attempt 1 - Accepted"
   ]
  },
  {
   "cell_type": "code",
   "execution_count": null,
   "metadata": {},
   "outputs": [],
   "source": [
    "class Solution:\n",
    "    def treeDiameter(self, edges: List[List[int]]) -> int:\n",
    "        n = len(edges) + 1\n",
    "        if n < 2:\n",
    "            return 0\n",
    "        if n == 2:\n",
    "            return 1\n",
    "        neighbors = defaultdict(list)\n",
    "        for edge in edges:\n",
    "            u, v = tuple(edge)\n",
    "            neighbors[u].append(v)\n",
    "            neighbors[v].append(u)\n",
    "        \n",
    "        def get_lp(source):\n",
    "            lp = [None for _ in range(n)]\n",
    "            lp[source] = 0\n",
    "            farthest = source\n",
    "            q = [source]\n",
    "            while q:\n",
    "                curr = q.pop(0)\n",
    "                for neighbor in neighbors[curr]:\n",
    "                    if lp[neighbor] is not None:\n",
    "                        continue\n",
    "                    lp[neighbor] = lp[curr] + 1\n",
    "                    if lp[neighbor] > lp[farthest]:\n",
    "                        farthest = neighbor\n",
    "                    q.append(neighbor)\n",
    "            return farthest, lp[farthest]\n",
    "        \n",
    "        s, _ = get_lp(0)\n",
    "        _, res = get_lp(s)\n",
    "        \n",
    "        return res"
   ]
  },
  {
   "cell_type": "markdown",
   "metadata": {},
   "source": [
    "## Lessons and Thoughts\n",
    "Took the problem's hint: \n",
    "- Start at any node A and traverse the tree to find the furthest node from it, let's call it B.\n",
    "- Having found the furthest node B, traverse the tree from B to find the furthest node from it, lets call it C.\n",
    "- The distance between B and C is the tree diameter."
   ]
  }
 ],
 "metadata": {
  "kernelspec": {
   "display_name": "Python 3",
   "language": "python",
   "name": "python3"
  },
  "language_info": {
   "codemirror_mode": {
    "name": "ipython",
    "version": 3
   },
   "file_extension": ".py",
   "mimetype": "text/x-python",
   "name": "python",
   "nbconvert_exporter": "python",
   "pygments_lexer": "ipython3",
   "version": "3.7.3"
  }
 },
 "nbformat": 4,
 "nbformat_minor": 2
}
