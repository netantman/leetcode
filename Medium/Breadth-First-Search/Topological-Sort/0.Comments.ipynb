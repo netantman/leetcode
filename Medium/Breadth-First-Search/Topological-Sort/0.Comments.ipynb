{
 "cells": [
  {
   "cell_type": "markdown",
   "id": "bbcbb60e",
   "metadata": {},
   "source": [
    "## Template"
   ]
  },
  {
   "cell_type": "code",
   "execution_count": null,
   "id": "cb34eb98",
   "metadata": {},
   "outputs": [],
   "source": [
    "def get_indegrees(nodes):\n",
    "    counter = {node: 0 for node in nodes}\n",
    "    for node in nodes:\n",
    "        for child in node.get_children(): # if it is obtained in a matrix, be mindful of index-out-of-range error!\n",
    "            counter[child] += 1\n",
    "    return counter\n",
    "\n",
    "def topological_sort(nodes):\n",
    "    indegrees = get_indegrees(nodes)\n",
    "    queue = collections.deque([node for node in nodes if indegrees[node] == 0])\n",
    "    \n",
    "    # now do BFS\n",
    "    topo_order = []\n",
    "    while queue:\n",
    "        node = queue.popleft()\n",
    "        topo_order.append(node)\n",
    "        for child in node.get_children():\n",
    "            indegrees[child] -= 1\n",
    "            if indegrees[child] == 0:\n",
    "                queue.append(child)\n",
    "    \n",
    "    # edge case: it could be that there is a loop, then no topological sort\n",
    "    if len(topo_order) != len(nodes):\n",
    "        return # loop\n",
    "    return topo_order\n",
    "    "
   ]
  }
 ],
 "metadata": {
  "kernelspec": {
   "display_name": "Python 3 (ipykernel)",
   "language": "python",
   "name": "python3"
  },
  "language_info": {
   "codemirror_mode": {
    "name": "ipython",
    "version": 3
   },
   "file_extension": ".py",
   "mimetype": "text/x-python",
   "name": "python",
   "nbconvert_exporter": "python",
   "pygments_lexer": "ipython3",
   "version": "3.9.7"
  }
 },
 "nbformat": 4,
 "nbformat_minor": 5
}
