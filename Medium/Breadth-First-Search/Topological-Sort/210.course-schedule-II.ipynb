{
 "cells": [
  {
   "cell_type": "markdown",
   "metadata": {},
   "source": [
    "## Attempt 1 - Time Limit Exceeded"
   ]
  },
  {
   "cell_type": "code",
   "execution_count": null,
   "metadata": {},
   "outputs": [],
   "source": [
    "class Solution:\n",
    "    def findOrder(self, numCourses: int, prerequisites: List[List[int]]) -> List[int]:\n",
    "        if numCourses<1:\n",
    "            return []\n",
    "        if numCourses==1:\n",
    "            return [0]\n",
    "        if len(prerequisites)<1:\n",
    "            return list(range(numCourses))\n",
    "        \n",
    "        prequel={c:set() for c in range(numCourses)}\n",
    "        sequel={c:set() for c in range(numCourses)}\n",
    "        for pair in prerequisites:\n",
    "            prequel[pair[0]].add(pair[1])\n",
    "            sequel[pair[1]].add(pair[0])\n",
    "        \n",
    "        res=[]\n",
    "        while len(res)<numCourses:\n",
    "            can_take=[p for p in prequel.keys() if (len(prequel[p])<1) and (p not in res)]\n",
    "            if len(can_take)<1:\n",
    "                return []\n",
    "            res=res+can_take\n",
    "            for p in can_take:\n",
    "                seq=sequel[p]\n",
    "                for s in seq:\n",
    "                    prequel[s].remove(p)\n",
    "                sequel[p]=set()\n",
    "        \n",
    "        return res"
   ]
  },
  {
   "cell_type": "markdown",
   "metadata": {},
   "source": [
    "## Attempt 2 - Accepted. Solution online, but not sure why this takes less time."
   ]
  },
  {
   "cell_type": "code",
   "execution_count": null,
   "metadata": {},
   "outputs": [],
   "source": [
    "class Solution:\n",
    "    def findOrder(self, numCourses: int, prerequisites: List[List[int]]) -> List[int]:\n",
    "        if numCourses<1:\n",
    "            return []\n",
    "        if numCourses==1:\n",
    "            return [0]\n",
    "        if len(prerequisites)<1:\n",
    "            return list(range(numCourses))\n",
    "        \n",
    "        \"\"\"\n",
    "        :type numCourses: int\n",
    "        :type prerequisites: List[List[int]]\n",
    "        :rtype: List[int]\n",
    "        \"\"\"\n",
    "        graph = collections.defaultdict(list)\n",
    "        indegrees = collections.defaultdict(int)\n",
    "        for u, v in prerequisites:\n",
    "            graph[v].append(u)\n",
    "            indegrees[u] += 1\n",
    "        path = []\n",
    "        for i in range(numCourses):\n",
    "            zeroDegree = False\n",
    "            for j in range(numCourses):\n",
    "                if indegrees[j] == 0:\n",
    "                    zeroDegree = True\n",
    "                    break\n",
    "            if not zeroDegree:\n",
    "                return []\n",
    "            indegrees[j] -= 1\n",
    "            path.append(j)\n",
    "            for node in graph[j]:\n",
    "                indegrees[node] -= 1\n",
    "        return path"
   ]
  },
  {
   "cell_type": "markdown",
   "metadata": {},
   "source": [
    "## Attempt 3 - Accepted"
   ]
  },
  {
   "cell_type": "code",
   "execution_count": null,
   "metadata": {},
   "outputs": [],
   "source": [
    "class Solution:\n",
    "    def findOrder(self, numCourses: int, prerequisites: List[List[int]]) -> List[int]:\n",
    "        parents = {k:set([]) for k in range(numCourses)}\n",
    "        children = {k:set([]) for k in range(numCourses)}\n",
    "        for pre in prerequisites:\n",
    "            c, p = tuple(pre)\n",
    "            parents[c].add(p)\n",
    "            children[p].add(c)\n",
    "        res = []\n",
    "        visited = set() ## --> this saves time!\n",
    "        \n",
    "        while len(res) < numCourses:\n",
    "            to_add = [k for k in parents.keys() if (not parents[k]) and (k not in visited)]\n",
    "            if not to_add:\n",
    "                return []\n",
    "            curr = to_add[0]\n",
    "            visited.add(curr)\n",
    "            res.append(curr)\n",
    "            for c in children[curr]:\n",
    "                parents[c].remove(curr)\n",
    "        \n",
    "        return res"
   ]
  },
  {
   "cell_type": "markdown",
   "metadata": {},
   "source": [
    "## Attempt 4 - Accepted"
   ]
  },
  {
   "cell_type": "code",
   "execution_count": null,
   "metadata": {},
   "outputs": [],
   "source": [
    "class Solution {\n",
    "public:\n",
    "    vector<int> findOrder(int numCourses, vector<vector<int>>& prerequisites) {\n",
    "        map<int, set<int>> parents;\n",
    "        map<int, set<int>> children;\n",
    "        for (int k=0; k<numCourses; k++) {\n",
    "            set<int> tmp1 = {}; ## --> initialize a set\n",
    "            parents[k] = tmp1;\n",
    "            set<int> tmp2 = {};\n",
    "            children[k] = tmp2;\n",
    "        }\n",
    "        for (vector<int> pre : prerequisites) {\n",
    "            int c = pre[0];\n",
    "            int p = pre[1];\n",
    "            children[p].insert(c);\n",
    "            parents[c].insert(p);\n",
    "        }\n",
    "        \n",
    "        vector<int> res = {};\n",
    "        set<int> visited = {};\n",
    "        while (res.size() < numCourses) {\n",
    "            bool broken = false;\n",
    "            for (int idx=0; idx<numCourses; idx++) {\n",
    "                if ((visited.find(idx) != visited.end()) | (parents[idx].size() > 0)) { ## --> find in a c++ set\n",
    "                    continue;\n",
    "                }\n",
    "                \n",
    "                visited.insert(idx);\n",
    "                res.push_back(idx);\n",
    "                set<int> this_children = children[idx];\n",
    "                for (int c : this_children) {\n",
    "                    parents[c].erase(idx);\n",
    "                }\n",
    "                broken = true;\n",
    "                break;\n",
    "            }\n",
    "            if (!broken) { ## --> c++ not!\n",
    "                vector<int> res = {};\n",
    "                return res;\n",
    "            }\n",
    "        }\n",
    "        return res;\n",
    "    }\n",
    "};"
   ]
  },
  {
   "cell_type": "markdown",
   "metadata": {},
   "source": [
    "## Lessons and Thoughts\n",
    "- Compared to the struggle in Problem 207, BFS implementation seems easier.\n",
    "- The solution accepted is from [here](https://blog.csdn.net/fuxuemingzhu/article/details/83302328). But not sure why it takes less time: probably overhang in accessing `dict`?\n",
    "- `remove` function for `set`."
   ]
  }
 ],
 "metadata": {
  "kernelspec": {
   "display_name": "Python 3",
   "language": "python",
   "name": "python3"
  },
  "language_info": {
   "codemirror_mode": {
    "name": "ipython",
    "version": 3
   },
   "file_extension": ".py",
   "mimetype": "text/x-python",
   "name": "python",
   "nbconvert_exporter": "python",
   "pygments_lexer": "ipython3",
   "version": "3.6.5"
  }
 },
 "nbformat": 4,
 "nbformat_minor": 2
}
