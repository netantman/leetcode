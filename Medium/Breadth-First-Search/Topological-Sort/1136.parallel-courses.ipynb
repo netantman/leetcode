{
 "cells": [
  {
   "cell_type": "markdown",
   "metadata": {},
   "source": [
    "## Attempt 1 - Accepted"
   ]
  },
  {
   "cell_type": "code",
   "execution_count": null,
   "metadata": {},
   "outputs": [],
   "source": [
    "class Solution:\n",
    "    def minimumSemesters(self, N: int, relations: List[List[int]]) -> int:\n",
    "        graph = {i: [] for i in range(1, N + 1)}\n",
    "        in_count = {i: 0 for i in range(1, N + 1)}  # or in-degree\n",
    "        for start_node, end_node in relations:\n",
    "            graph[start_node].append(end_node)\n",
    "            in_count[end_node] += 1\n",
    "\n",
    "        queue = []\n",
    "        # we use list here since we are not\n",
    "        # poping from front the this code\n",
    "        for node in graph:\n",
    "            if in_count[node] == 0:\n",
    "                queue.append(node)\n",
    "\n",
    "        step = 0\n",
    "        studied_count = 0\n",
    "        # start learning with BFS\n",
    "        while queue:\n",
    "            # start new semester\n",
    "            step += 1\n",
    "            next_queue = []\n",
    "            for node in queue:\n",
    "                studied_count += 1\n",
    "                end_nodes = graph[node]\n",
    "                for end_node in end_nodes:\n",
    "                    in_count[end_node] -= 1\n",
    "                    # if all prerequisite courses learned\n",
    "                    if in_count[end_node] == 0:\n",
    "                        next_queue.append(end_node)\n",
    "            queue = next_queue\n",
    "\n",
    "        return step if studied_count == N else -1"
   ]
  },
  {
   "cell_type": "markdown",
   "metadata": {},
   "source": [
    "## Lessons and Thoughts\n",
    "- Topological sort problem - not unlikely to encounter in interviews so just saving the solution.\n",
    "- The edge case is probably when there is a cycle."
   ]
  }
 ],
 "metadata": {
  "kernelspec": {
   "display_name": "Python 3",
   "language": "python",
   "name": "python3"
  },
  "language_info": {
   "codemirror_mode": {
    "name": "ipython",
    "version": 3
   },
   "file_extension": ".py",
   "mimetype": "text/x-python",
   "name": "python",
   "nbconvert_exporter": "python",
   "pygments_lexer": "ipython3",
   "version": "3.7.3"
  }
 },
 "nbformat": 4,
 "nbformat_minor": 2
}
