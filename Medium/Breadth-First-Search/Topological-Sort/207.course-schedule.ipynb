{
 "cells": [
  {
   "cell_type": "markdown",
   "metadata": {},
   "source": [
    "## Attempt 1 - Accepted"
   ]
  },
  {
   "cell_type": "code",
   "execution_count": null,
   "metadata": {},
   "outputs": [],
   "source": [
    "class Solution:\n",
    "    def canFinish(self, numCourses: int, prerequisites: List[List[int]]) -> bool:\n",
    "        if len(prerequisites)<=1:\n",
    "            return True\n",
    "        edge=dict()\n",
    "        for pair in prerequisites:\n",
    "            c, p=pair\n",
    "            if c not in edge:\n",
    "                edge[c]=set()\n",
    "            edge[c].add(p)\n",
    "        \n",
    "        visited=[0 for idx in range(numCourses)]\n",
    "        def dfs(c):\n",
    "            if visited[c]==1:\n",
    "                return False\n",
    "            if visited[c]==2:\n",
    "                return True\n",
    "            visited[c]=1\n",
    "            if c in edge:\n",
    "                for p in edge[c]:\n",
    "                    if not dfs(p):\n",
    "                        return False\n",
    "            visited[c]=2\n",
    "            return True\n",
    "        for c in range(numCourses):\n",
    "            if not dfs(c):\n",
    "                return False\n",
    "        return True"
   ]
  },
  {
   "cell_type": "markdown",
   "metadata": {},
   "source": [
    "## Lessons and Thoughts\n",
    "- The notebook was lost. Accepted solution was probably from the internet."
   ]
  }
 ],
 "metadata": {
  "kernelspec": {
   "display_name": "Python 3",
   "language": "python",
   "name": "python3"
  },
  "language_info": {
   "codemirror_mode": {
    "name": "ipython",
    "version": 3
   },
   "file_extension": ".py",
   "mimetype": "text/x-python",
   "name": "python",
   "nbconvert_exporter": "python",
   "pygments_lexer": "ipython3",
   "version": "3.7.3"
  }
 },
 "nbformat": 4,
 "nbformat_minor": 2
}
