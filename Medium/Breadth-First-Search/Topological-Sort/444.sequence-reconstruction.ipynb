{
 "cells": [
  {
   "cell_type": "markdown",
   "metadata": {},
   "source": [
    "## Attempt 1 - Wrong Answer"
   ]
  },
  {
   "cell_type": "code",
   "execution_count": null,
   "metadata": {},
   "outputs": [],
   "source": [
    "class Solution:\n",
    "    def sequenceReconstruction(self, org: List[int], seqs: List[List[int]]) -> bool:\n",
    "        n = len(org)\n",
    "        children = defaultdict(set)\n",
    "        parents = defaultdict(set)\n",
    "        visited = set()\n",
    "        for seq in seqs: ## --> did not consider the edge case where there is only 1 element in org and seqs is empty\n",
    "            L = len(seq)\n",
    "            for idx in range(L - 1):\n",
    "                i, j = seq[idx], seq[idx + 1]\n",
    "                children[i].add(j)\n",
    "                parents[j].add(i)\n",
    "                \n",
    "        \n",
    "        for o in org:\n",
    "            if [k for k in range(1, n + 1) if k not in visited and len(parents[k]) < 1] != [o]:\n",
    "                return False\n",
    "            for c in children[o]:\n",
    "                parents[c].remove(o)\n",
    "            visited.add(o)\n",
    "        \n",
    "        return True"
   ]
  },
  {
   "cell_type": "markdown",
   "metadata": {},
   "source": [
    "## Attempt 2 - Wrong Answer"
   ]
  },
  {
   "cell_type": "code",
   "execution_count": null,
   "metadata": {},
   "outputs": [],
   "source": [
    "class Solution:\n",
    "    def sequenceReconstruction(self, org: List[int], seqs: List[List[int]]) -> bool:\n",
    "        n = len(org)\n",
    "        children = defaultdict(set)\n",
    "        parents = defaultdict(set)\n",
    "        visited = set()\n",
    "        cover = set()\n",
    "        for seq in seqs:\n",
    "            L = len(seq)\n",
    "            for idx in range(L - 1): ## --> seq can be of 1 element and this will be completely bypassed.\n",
    "                i, j = seq[idx], seq[idx + 1]\n",
    "                children[i].add(j)\n",
    "                parents[j].add(i)\n",
    "                cover.add(i)\n",
    "                cover.add(j)\n",
    "        if sorted(list(cover)) != list(range(1, n + 1)):\n",
    "            return False\n",
    "                \n",
    "        \n",
    "        for o in org:\n",
    "            if [k for k in range(1, n + 1) if k not in visited and len(parents[k]) < 1] != [o]:\n",
    "                return False\n",
    "            for c in children[o]:\n",
    "                parents[c].remove(o)\n",
    "            visited.add(o)\n",
    "        \n",
    "        return True"
   ]
  },
  {
   "cell_type": "markdown",
   "metadata": {},
   "source": [
    "## Attempt 3 - Time Limit Exceeded"
   ]
  },
  {
   "cell_type": "code",
   "execution_count": null,
   "metadata": {},
   "outputs": [],
   "source": [
    "class Solution:\n",
    "    def sequenceReconstruction(self, org: List[int], seqs: List[List[int]]) -> bool:\n",
    "        n = len(org)\n",
    "        children = defaultdict(set)\n",
    "        parents = defaultdict(set)\n",
    "        visited = set()\n",
    "        cover = set()\n",
    "        for seq in seqs:\n",
    "            L = len(seq)\n",
    "            for idx in range(L):\n",
    "                cover.add(seq[idx])\n",
    "            for idx in range(L - 1):\n",
    "                i, j = seq[idx], seq[idx + 1]\n",
    "                children[i].add(j)\n",
    "                parents[j].add(i)\n",
    "        if sorted(list(cover)) != list(range(1, n + 1)):\n",
    "            return False\n",
    "                \n",
    "        \n",
    "        for o in org:\n",
    "            if [k for k in range(1, n + 1) if k not in visited and len(parents[k]) < 1] != [o]:\n",
    "                return False\n",
    "            for c in children[o]:\n",
    "                parents[c].remove(o)\n",
    "            visited.add(o)\n",
    "        \n",
    "        return True "
   ]
  },
  {
   "cell_type": "markdown",
   "metadata": {},
   "source": [
    "## Attempt 4 - Accepted"
   ]
  },
  {
   "cell_type": "code",
   "execution_count": null,
   "metadata": {},
   "outputs": [],
   "source": [
    "class Solution:\n",
    "    def sequenceReconstruction(self, org, seqs):\n",
    "        \"\"\"\n",
    "        :type org: List[int]\n",
    "        :type seqs: List[List[int]]\n",
    "        :rtype: bool\n",
    "        \"\"\"\n",
    "        size = len(org)\n",
    "        indeg = [0] * size\n",
    "        sucset = [set() for x in range(size)]\n",
    "        if not seqs: return False\n",
    "        for seq in seqs:\n",
    "            if any(s > size or s < 1 for s in seq):\n",
    "                return False\n",
    "            for i in range(1, len(seq)):\n",
    "                if seq[i] not in sucset[seq[i - 1] - 1]:\n",
    "                    indeg[seq[i] - 1] += 1\n",
    "                    sucset[seq[i - 1] - 1].add(seq[i])\n",
    "\n",
    "        q = [i for i in org if not indeg[i - 1]]\n",
    "        for x in range(size):\n",
    "            if len(q) != 1 or q[0] != org[x]:\n",
    "                return False\n",
    "            nq = []\n",
    "            for suc in sucset[q[0] - 1]:\n",
    "                indeg[suc - 1] -= 1\n",
    "                if not indeg[suc - 1]:\n",
    "                    nq.append(suc)\n",
    "            q = nq\n",
    "        return True "
   ]
  },
  {
   "cell_type": "markdown",
   "metadata": {},
   "source": [
    "## Lessons and Thoughts\n",
    "- Accepted solution is from [here](http://bookshadow.com/weblog/2016/10/30/leetcode-sequence-reconstruction/).\n",
    "- Not entirely sure why it is better in time limit - maybe the accepted algo relies more on actual sequence of `org` and that use a queue to record whatever that is newly become ingree of 0."
   ]
  }
 ],
 "metadata": {
  "kernelspec": {
   "display_name": "Python 3",
   "language": "python",
   "name": "python3"
  },
  "language_info": {
   "codemirror_mode": {
    "name": "ipython",
    "version": 3
   },
   "file_extension": ".py",
   "mimetype": "text/x-python",
   "name": "python",
   "nbconvert_exporter": "python",
   "pygments_lexer": "ipython3",
   "version": "3.7.3"
  }
 },
 "nbformat": 4,
 "nbformat_minor": 2
}
