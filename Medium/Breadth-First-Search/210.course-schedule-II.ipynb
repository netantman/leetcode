{
 "cells": [
  {
   "cell_type": "markdown",
   "metadata": {},
   "source": [
    "## Attempt 1 - Time Limit Exceeded"
   ]
  },
  {
   "cell_type": "code",
   "execution_count": null,
   "metadata": {},
   "outputs": [],
   "source": [
    "class Solution:\n",
    "    def findOrder(self, numCourses: int, prerequisites: List[List[int]]) -> List[int]:\n",
    "        if numCourses<1:\n",
    "            return []\n",
    "        if numCourses==1:\n",
    "            return [0]\n",
    "        if len(prerequisites)<1:\n",
    "            return list(range(numCourses))\n",
    "        \n",
    "        prequel={c:set() for c in range(numCourses)}\n",
    "        sequel={c:set() for c in range(numCourses)}\n",
    "        for pair in prerequisites:\n",
    "            prequel[pair[0]].add(pair[1])\n",
    "            sequel[pair[1]].add(pair[0])\n",
    "        \n",
    "        res=[]\n",
    "        while len(res)<numCourses:\n",
    "            can_take=[p for p in prequel.keys() if (len(prequel[p])<1) and (p not in res)]\n",
    "            if len(can_take)<1:\n",
    "                return []\n",
    "            res=res+can_take\n",
    "            for p in can_take:\n",
    "                seq=sequel[p]\n",
    "                for s in seq:\n",
    "                    prequel[s].remove(p)\n",
    "                sequel[p]=set()\n",
    "        \n",
    "        return res"
   ]
  },
  {
   "cell_type": "markdown",
   "metadata": {},
   "source": [
    "## Attempt 2 - Accepted. Solution online, but not sure why this takes less time."
   ]
  },
  {
   "cell_type": "code",
   "execution_count": null,
   "metadata": {},
   "outputs": [],
   "source": [
    "class Solution:\n",
    "    def findOrder(self, numCourses: int, prerequisites: List[List[int]]) -> List[int]:\n",
    "        if numCourses<1:\n",
    "            return []\n",
    "        if numCourses==1:\n",
    "            return [0]\n",
    "        if len(prerequisites)<1:\n",
    "            return list(range(numCourses))\n",
    "        \n",
    "        \"\"\"\n",
    "        :type numCourses: int\n",
    "        :type prerequisites: List[List[int]]\n",
    "        :rtype: List[int]\n",
    "        \"\"\"\n",
    "        graph = collections.defaultdict(list)\n",
    "        indegrees = collections.defaultdict(int)\n",
    "        for u, v in prerequisites:\n",
    "            graph[v].append(u)\n",
    "            indegrees[u] += 1\n",
    "        path = []\n",
    "        for i in range(numCourses):\n",
    "            zeroDegree = False\n",
    "            for j in range(numCourses):\n",
    "                if indegrees[j] == 0:\n",
    "                    zeroDegree = True\n",
    "                    break\n",
    "            if not zeroDegree:\n",
    "                return []\n",
    "            indegrees[j] -= 1\n",
    "            path.append(j)\n",
    "            for node in graph[j]:\n",
    "                indegrees[node] -= 1\n",
    "        return path"
   ]
  },
  {
   "cell_type": "markdown",
   "metadata": {},
   "source": [
    "## Lessons and Thoughts\n",
    "- Compared to the struggle in Problem 207, BFS implementation seems easier.\n",
    "- The solution accepted is from [here](https://blog.csdn.net/fuxuemingzhu/article/details/83302328). But not sure why it takes less time: probably overhang in accessing `dict`?\n",
    "- `remove` function for `set`."
   ]
  }
 ],
 "metadata": {
  "kernelspec": {
   "display_name": "Python 3",
   "language": "python",
   "name": "python3"
  },
  "language_info": {
   "codemirror_mode": {
    "name": "ipython",
    "version": 3
   },
   "file_extension": ".py",
   "mimetype": "text/x-python",
   "name": "python",
   "nbconvert_exporter": "python",
   "pygments_lexer": "ipython3",
   "version": "3.7.3"
  }
 },
 "nbformat": 4,
 "nbformat_minor": 2
}
