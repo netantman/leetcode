{
 "cells": [
  {
   "cell_type": "markdown",
   "metadata": {},
   "source": [
    "## Attempt 1 - Wrong Answer"
   ]
  },
  {
   "cell_type": "code",
   "execution_count": null,
   "metadata": {},
   "outputs": [],
   "source": [
    "class Solution:\n",
    "    def snakesAndLadders(self, board: List[List[int]]) -> int:\n",
    "        N=len(board)\n",
    "        def get_loc(n):\n",
    "            r=N-1-n//N ## --> this is wrong\n",
    "            c=n%N-1\n",
    "            return (r,c)\n",
    "        snakes=dict()\n",
    "        for n in range(1,N*N+1):\n",
    "            (r,c)=get_loc(n)\n",
    "            if board[r][c]>0:\n",
    "                snakes[n]=board[r][c]\n",
    "        q=[1]\n",
    "        record=[float('inf') for _ in range(N*N+1)]\n",
    "        record[1]=0\n",
    "        while len(q)>0:\n",
    "            head=q.pop(0)\n",
    "            if head not in snakes:\n",
    "                neighbors=[snakes.get(head+idx, head+idx) for idx in range(1,7) if head+idx<=N*N]\n",
    "            else:\n",
    "                neighbors=[snakes[head]]\n",
    "            for n in neighbors:\n",
    "                if record[n]>record[head]+1:\n",
    "                    record[n]=record[head]+1\n",
    "                    q.append(n)\n",
    "        res=record[-1] if record[-1]!=float('inf') else -1\n",
    "        return res"
   ]
  },
  {
   "cell_type": "markdown",
   "metadata": {},
   "source": [
    "## Attempt 2 - Wrong Answer"
   ]
  },
  {
   "cell_type": "code",
   "execution_count": null,
   "metadata": {},
   "outputs": [],
   "source": [
    "class Solution:\n",
    "    def snakesAndLadders(self, board: List[List[int]]) -> int:\n",
    "        N=len(board)\n",
    "        def get_loc(n):\n",
    "            r=N-1-(n-1)//N\n",
    "            c=n%N-1 if r%2==0 else -(n%N-1)\n",
    "            return (r,c)\n",
    "        snakes=dict()\n",
    "        for n in range(1,N*N+1):\n",
    "            (r,c)=get_loc(n)\n",
    "            if board[r][c]>0:\n",
    "                snakes[n]=board[r][c]\n",
    "        q=[1]\n",
    "        record=[float('inf') for _ in range(N*N+1)]\n",
    "        record[1]=0\n",
    "        while len(q)>0:\n",
    "            head=q.pop(0)\n",
    "            if head not in snakes:\n",
    "                neighbors=[snakes.get(head+idx, head+idx) for idx in range(1,7) if head+idx<=N*N]\n",
    "            else:\n",
    "                neighbors=[snakes[head]]\n",
    "            for n in neighbors:\n",
    "                if record[n]>record[head]+1:\n",
    "                    record[n]=record[head]+1\n",
    "                    q.append(n)\n",
    "        res=record[-1] if record[-1]!=float('inf') else -1\n",
    "        return res"
   ]
  },
  {
   "cell_type": "markdown",
   "metadata": {},
   "source": [
    "## Attempt 3 - Accepted"
   ]
  },
  {
   "cell_type": "code",
   "execution_count": null,
   "metadata": {},
   "outputs": [],
   "source": [
    "class Solution:\n",
    "    def snakesAndLadders(self, board: List[List[int]]) -> int:\n",
    "        N=len(board)\n",
    "        def get_loc(n):\n",
    "            r=N-1-(n-1)//N\n",
    "            c=n%N-1 if ((n-1)//N)%2==0 else -(n%N)\n",
    "            return (r,c)\n",
    "        snakes=dict()\n",
    "        for n in range(1,N*N+1):\n",
    "            (r,c)=get_loc(n)\n",
    "            if board[r][c]>0:\n",
    "                snakes[n]=board[r][c]\n",
    "        q=[1]\n",
    "        record=[float('inf') for _ in range(N*N+1)]\n",
    "        record[1]=0\n",
    "        while len(q)>0:\n",
    "            head=q.pop(0)\n",
    "            neighbors=[snakes.get(head+idx, head+idx) for idx in range(1,7) if head+idx<=N*N]\n",
    "            for n in neighbors:\n",
    "                if record[n]>record[head]+1:\n",
    "                    record[n]=record[head]+1\n",
    "                    q.append(n)\n",
    "        res=record[-1] if record[-1]!=float('inf') else -1\n",
    "        return res"
   ]
  },
  {
   "cell_type": "markdown",
   "metadata": {},
   "source": [
    "## Lessons and Thoughts\n",
    "- BFS on shortest path problems is slight different for other problems on graph.\n",
    "- The problem is a bit ambiguous in the case where you start at a square with snake: is it that you move by 6, or do you have no choice but to jump as the snake dictates? It seems to be the case is the former.\n",
    "- The hardest part to get right is actually the mapping from square index to location on the board. Two things you struggle with: (1) it is similar but sometimes reverse order as the Cartesian system; (2) rows and columns are switched based on `//` and `mod`, which can be tricky at multiples."
   ]
  }
 ],
 "metadata": {
  "kernelspec": {
   "display_name": "Python 3",
   "language": "python",
   "name": "python3"
  },
  "language_info": {
   "codemirror_mode": {
    "name": "ipython",
    "version": 3
   },
   "file_extension": ".py",
   "mimetype": "text/x-python",
   "name": "python",
   "nbconvert_exporter": "python",
   "pygments_lexer": "ipython3",
   "version": "3.7.3"
  }
 },
 "nbformat": 4,
 "nbformat_minor": 2
}
