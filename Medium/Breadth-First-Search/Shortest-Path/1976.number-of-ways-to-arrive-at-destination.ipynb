{
 "cells": [
  {
   "cell_type": "markdown",
   "metadata": {},
   "source": [
    "## Attempt 1 - Time Limit Exceeded"
   ]
  },
  {
   "cell_type": "code",
   "execution_count": null,
   "metadata": {},
   "outputs": [],
   "source": [
    "class Solution:\n",
    "    def countPaths(self, n: int, roads: List[List[int]]) -> int:\n",
    "        paths = [dict() for _ in range(n)]\n",
    "        for road in roads:\n",
    "            u, v, t = tuple(road)\n",
    "            paths[u][v] = t\n",
    "            paths[v][u] = t\n",
    "        \n",
    "        sp = [float('inf') for _ in range(n)]\n",
    "        sp[0] = 0\n",
    "        q = [0]\n",
    "        while q:\n",
    "            u = q.pop(0)\n",
    "            for v, t in paths[u].items():\n",
    "                if sp[v] > sp[u] + t:\n",
    "                    sp[v] = sp[u] + t\n",
    "                    q.append(v)\n",
    "                    \n",
    "        MODULE = 10 ** 9 + 7\n",
    "        \n",
    "        shortest_paths = [set() for _ in range(n)]\n",
    "        for road in roads:\n",
    "            u, v, t = tuple(road)\n",
    "            if sp[u] + t == sp[v]:\n",
    "                shortest_paths[u].add(v)\n",
    "            if sp[v] + t == sp[u]:\n",
    "                shortest_paths[v].add(u)\n",
    "        \n",
    "        res = [0 for _ in range(n)]\n",
    "        q = [(0, 1)]\n",
    "        while q:\n",
    "            u, added = q.pop(0)\n",
    "            res[u] += added % MODULE\n",
    "            for v in shortest_paths[u]:\n",
    "                q.append((v, added))\n",
    "        \n",
    "        return res[-1] % MODULE"
   ]
  },
  {
   "cell_type": "markdown",
   "metadata": {},
   "source": [
    "## Attempt 2 - Accepted"
   ]
  },
  {
   "cell_type": "code",
   "execution_count": null,
   "metadata": {},
   "outputs": [],
   "source": [
    "class Solution:\n",
    "    def countPaths(self, n: int, roads: List[List[int]]) -> int:\n",
    "        paths = [dict() for _ in range(n)]\n",
    "        for road in roads:\n",
    "            u, v, t = tuple(road)\n",
    "            paths[u][v] = t\n",
    "            paths[v][u] = t\n",
    "        \n",
    "        sp = [float('inf') for _ in range(n)]\n",
    "        sp[0] = 0\n",
    "        q = [0]\n",
    "        while q:\n",
    "            u = q.pop(0)\n",
    "            for v, t in paths[u].items():\n",
    "                if sp[v] > sp[u] + t:\n",
    "                    sp[v] = sp[u] + t\n",
    "                    q.append(v)\n",
    "                    \n",
    "        MODULE = 10 ** 9 + 7\n",
    "        \n",
    "        shortest_paths = [set() for _ in range(n)]\n",
    "        for road in roads:\n",
    "            u, v, t = tuple(road)\n",
    "            if sp[u] + t == sp[v]:\n",
    "                shortest_paths[u].add(v)\n",
    "            if sp[v] + t == sp[u]:\n",
    "                shortest_paths[v].add(u)\n",
    "        \n",
    "        res = [None for _ in range(n)]\n",
    "        res[-1] = 1\n",
    "        \n",
    "        def dfs(u):\n",
    "            if res[u] is not None:\n",
    "                return res[u]\n",
    "            \n",
    "            res[u] = sum([dfs(v) for v in shortest_paths[u]]) % MODULE\n",
    "            return res[u]\n",
    "        \n",
    "        return dfs(0)"
   ]
  },
  {
   "cell_type": "markdown",
   "metadata": {},
   "source": [
    "## Lessons and Thoughts\n",
    "- The optimization is to use dfs and cached search."
   ]
  }
 ],
 "metadata": {
  "kernelspec": {
   "display_name": "Python 3",
   "language": "python",
   "name": "python3"
  },
  "language_info": {
   "codemirror_mode": {
    "name": "ipython",
    "version": 3
   },
   "file_extension": ".py",
   "mimetype": "text/x-python",
   "name": "python",
   "nbconvert_exporter": "python",
   "pygments_lexer": "ipython3",
   "version": "3.7.3"
  }
 },
 "nbformat": 4,
 "nbformat_minor": 2
}
