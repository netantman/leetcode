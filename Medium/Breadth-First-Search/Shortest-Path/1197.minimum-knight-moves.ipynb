{
 "cells": [
  {
   "cell_type": "markdown",
   "metadata": {},
   "source": [
    "## Attempt 1 - Time Limit Exceeded"
   ]
  },
  {
   "cell_type": "code",
   "execution_count": null,
   "metadata": {},
   "outputs": [],
   "source": [
    "class Solution:\n",
    "    def minKnightMoves(self, x: int, y: int) -> int:\n",
    "        sp = dict()\n",
    "        sp[(0, 0)] = 0\n",
    "        directions = [(-1, -2), (-2, -1), (-2, 1), (-1, 2), (1, 2), (2, 1), (2, -1), (1, -2)]\n",
    "        q = [(0, 0)]\n",
    "        while q:\n",
    "            r, c = q.pop(0)\n",
    "            if r == x and c == y:\n",
    "                return sp[(x, y)]\n",
    "            for d in directions:\n",
    "                ix, iy = d\n",
    "                if (r + ix, c + iy) not in sp:\n",
    "                    sp[(r + ix, c + iy)] = sp[(r, c)] + 1\n",
    "                    q.append((r + ix, c + iy))"
   ]
  },
  {
   "cell_type": "markdown",
   "metadata": {},
   "source": [
    "## Attempt 2 - Accepted"
   ]
  },
  {
   "cell_type": "code",
   "execution_count": null,
   "metadata": {},
   "outputs": [],
   "source": [
    "class Solution:\n",
    "    def minKnightMoves(self, x: int, y: int) -> int:\n",
    "        sp = dict()\n",
    "        sp[(0, 0)] = 0\n",
    "        directions = [(-1, -2), (-2, -1), (-2, 1), (-1, 2), (1, 2), (2, 1), (2, -1), (1, -2)]\n",
    "        q = [(0, 0)]\n",
    "        while q:\n",
    "            r, c = q.pop(0)\n",
    "            if r == x and c == y:\n",
    "                return sp[(x, y)]\n",
    "            for d in directions:\n",
    "                ix, iy = d\n",
    "                if (r + ix, c + iy) not in sp:\n",
    "                    sp[(r + ix, c + iy)] = sp[(r, c)] + 1\n",
    "                    q.append((r + ix, c + iy))"
   ]
  },
  {
   "cell_type": "markdown",
   "metadata": {},
   "source": [
    "## Lessons and Thoughts\n",
    "- The trick is that the shortest path to any given node will always be discovered first, so as long as one node is visited, its shortest path is found."
   ]
  }
 ],
 "metadata": {
  "kernelspec": {
   "display_name": "Python 3",
   "language": "python",
   "name": "python3"
  },
  "language_info": {
   "codemirror_mode": {
    "name": "ipython",
    "version": 3
   },
   "file_extension": ".py",
   "mimetype": "text/x-python",
   "name": "python",
   "nbconvert_exporter": "python",
   "pygments_lexer": "ipython3",
   "version": "3.7.3"
  }
 },
 "nbformat": 4,
 "nbformat_minor": 2
}
