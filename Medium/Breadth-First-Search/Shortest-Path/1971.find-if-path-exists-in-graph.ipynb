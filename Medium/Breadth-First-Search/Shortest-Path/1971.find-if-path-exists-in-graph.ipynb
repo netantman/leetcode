{
 "cells": [
  {
   "cell_type": "markdown",
   "metadata": {},
   "source": [
    "## Attempt 1 - Accepted"
   ]
  },
  {
   "cell_type": "code",
   "execution_count": null,
   "metadata": {},
   "outputs": [],
   "source": [
    "class Solution:\n",
    "    def validPath(self, n: int, edges: List[List[int]], start: int, end: int) -> bool:\n",
    "        reach = defaultdict(set)\n",
    "        for edge in edges:\n",
    "            u, v = tuple(edge)\n",
    "            reach[u].add(v)\n",
    "            reach[v].add(u)\n",
    "        \n",
    "        sp = [float('inf') for _ in range(n)]\n",
    "        sp[start] = 0\n",
    "        q = [(start, 0)]\n",
    "        while q:\n",
    "            curr, l = q.pop(0)\n",
    "            if curr == end:\n",
    "                return True ## --> start can be the same as end!\n",
    "            for n in reach[curr]:\n",
    "                if sp[n] > l + 1:\n",
    "                    sp[n] = l + 1\n",
    "                    q.append((n, sp[n]))\n",
    "        return False"
   ]
  },
  {
   "cell_type": "markdown",
   "metadata": {},
   "source": [
    "## Lessons and Thoughts\n",
    "- Use shortest path so no need to record what has been visited."
   ]
  }
 ],
 "metadata": {
  "kernelspec": {
   "display_name": "Python 3",
   "language": "python",
   "name": "python3"
  },
  "language_info": {
   "codemirror_mode": {
    "name": "ipython",
    "version": 3
   },
   "file_extension": ".py",
   "mimetype": "text/x-python",
   "name": "python",
   "nbconvert_exporter": "python",
   "pygments_lexer": "ipython3",
   "version": "3.7.3"
  }
 },
 "nbformat": 4,
 "nbformat_minor": 2
}
