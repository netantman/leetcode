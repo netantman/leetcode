{
 "cells": [
  {
   "cell_type": "markdown",
   "metadata": {},
   "source": [
    "## Attempt 1 - Accepted"
   ]
  },
  {
   "cell_type": "code",
   "execution_count": null,
   "metadata": {},
   "outputs": [],
   "source": [
    "class Solution:\n",
    "    def maximumMinimumPath(self, grid: List[List[int]]) -> int:\n",
    "        R, C = len(grid), len(grid[0])\n",
    "        sp = [[0 for c in range(C)] for r in range(R)]\n",
    "        sp[0][0] = grid[0][0]\n",
    "        q = [ (0, 0) ]\n",
    "        while q:\n",
    "            r, c = q.pop(0)\n",
    "            if r + 1 < R and min(sp[r][c], grid[r + 1][c]) > sp[r + 1][c]:\n",
    "                sp[r + 1][c] = min(sp[r][c], grid[r + 1][c])\n",
    "                q.append((r + 1, c))\n",
    "            if r - 1 >= 0 and min(sp[r][c], grid[r - 1][c]) > sp[r - 1][c]:\n",
    "                sp[r - 1][c] = min(sp[r][c], grid[r - 1][c])\n",
    "                q.append((r - 1, c))\n",
    "            if c + 1 < C and min(sp[r][c], grid[r][c + 1]) > sp[r][c + 1]:\n",
    "                sp[r][c + 1] = min(sp[r][c], grid[r][c + 1])\n",
    "                q.append((r, c + 1))\n",
    "            if c - 1 >= 0 and min(sp[r][c], grid[r][c - 1]) > sp[r][c - 1]:\n",
    "                sp[r][c - 1] = min(sp[r][c], grid[r][c - 1])\n",
    "                q.append((r, c - 1))\n",
    "        return sp[-1][-1]"
   ]
  },
  {
   "cell_type": "markdown",
   "metadata": {},
   "source": [
    "## Lessons and Thoughts\n",
    "- Don't let the 'maximum' fooled you - this is a shortest path problem."
   ]
  }
 ],
 "metadata": {
  "kernelspec": {
   "display_name": "Python 3",
   "language": "python",
   "name": "python3"
  },
  "language_info": {
   "codemirror_mode": {
    "name": "ipython",
    "version": 3
   },
   "file_extension": ".py",
   "mimetype": "text/x-python",
   "name": "python",
   "nbconvert_exporter": "python",
   "pygments_lexer": "ipython3",
   "version": "3.7.3"
  }
 },
 "nbformat": 4,
 "nbformat_minor": 2
}
