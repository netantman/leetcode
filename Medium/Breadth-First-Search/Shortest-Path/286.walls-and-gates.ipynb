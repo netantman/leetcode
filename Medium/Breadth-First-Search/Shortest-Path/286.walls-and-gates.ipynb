{
 "cells": [
  {
   "cell_type": "markdown",
   "metadata": {},
   "source": [
    "## Attempt 1 - Accepted"
   ]
  },
  {
   "cell_type": "code",
   "execution_count": null,
   "metadata": {},
   "outputs": [],
   "source": [
    "class Solution:\n",
    "    def wallsAndGates(self, rooms: List[List[int]]) -> None:\n",
    "        \"\"\"\n",
    "        Do not return anything, modify rooms in-place instead.\n",
    "        \"\"\"\n",
    "        inf = 2 ** 31 - 1\n",
    "        R, C = len(rooms), len(rooms[0])\n",
    "        q = []\n",
    "        for r in range(R):\n",
    "            for c in range(C):\n",
    "                if rooms[r][c] == 0:\n",
    "                    q.append((r, c))\n",
    "        \n",
    "        while q:\n",
    "            r, c = q.pop(0)\n",
    "            if r + 1 < R and rooms[r + 1][c] > rooms[r][c] + 1:\n",
    "                rooms[r + 1][c] = rooms[r][c] + 1\n",
    "                q.append((r + 1, c))\n",
    "            if r - 1 >= 0 and rooms[r - 1][c] > rooms[r][c] + 1:\n",
    "                rooms[r - 1][c] = rooms[r][c] + 1\n",
    "                q.append((r - 1, c))\n",
    "            if c + 1 < C and rooms[r][c + 1] > rooms[r][c] + 1:\n",
    "                rooms[r][c + 1] = rooms[r][c] + 1\n",
    "                q.append((r, c + 1))\n",
    "            if c - 1 >= 0 and rooms[r][c - 1] > rooms[r][c] + 1:\n",
    "                rooms[r][c - 1] = rooms[r][c] + 1\n",
    "                q.append((r, c - 1))\n",
    "        \n",
    "        return"
   ]
  },
  {
   "cell_type": "markdown",
   "metadata": {},
   "source": [
    "## Lessons and Thoughts\n",
    "- Multi-sourced shortest path problem"
   ]
  }
 ],
 "metadata": {
  "kernelspec": {
   "display_name": "Python 3",
   "language": "python",
   "name": "python3"
  },
  "language_info": {
   "codemirror_mode": {
    "name": "ipython",
    "version": 3
   },
   "file_extension": ".py",
   "mimetype": "text/x-python",
   "name": "python",
   "nbconvert_exporter": "python",
   "pygments_lexer": "ipython3",
   "version": "3.7.3"
  }
 },
 "nbformat": 4,
 "nbformat_minor": 2
}
