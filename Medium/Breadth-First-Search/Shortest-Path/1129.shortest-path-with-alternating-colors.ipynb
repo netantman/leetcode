{
 "cells": [
  {
   "cell_type": "markdown",
   "metadata": {},
   "source": [
    "## Attempt 1 - Accepted"
   ]
  },
  {
   "cell_type": "code",
   "execution_count": null,
   "metadata": {},
   "outputs": [],
   "source": [
    "class Solution:\n",
    "    def shortestAlternatingPaths(self, n: int, red_edges: List[List[int]], blue_edges: List[List[int]]) -> List[int]:\n",
    "        r,b=dict(),dict()\n",
    "        for red in red_edges:\n",
    "            r[red[0]]=r.get(red[0],[])+[red[1]]\n",
    "        red_edges=r\n",
    "        for blue in blue_edges:\n",
    "            b[blue[0]]=b.get(blue[0],[])+[blue[1]]\n",
    "        blue_edges=b\n",
    "        \n",
    "        red=[float('inf') for _ in range(n)]\n",
    "        red[0]=0\n",
    "        blue=[float('inf') for _ in range(n)]\n",
    "        blue[0]=0\n",
    "        q=[0]\n",
    "        while q:\n",
    "            head=q.pop(0)\n",
    "            last_blue_length=blue[head]\n",
    "            next_red_nodes=red_edges.get(head, [])\n",
    "            for node in next_red_nodes:\n",
    "                if red[node]>last_blue_length+1:\n",
    "                    red[node]=last_blue_length+1\n",
    "                    q.append(node)\n",
    "            last_red_length=red[head]\n",
    "            next_blue_nodes=blue_edges.get(head,[])\n",
    "            for node in next_blue_nodes:\n",
    "                if blue[node]>last_red_length+1:\n",
    "                    blue[node]=last_red_length+1\n",
    "                    q.append(node)\n",
    "\n",
    "        res=[min(red[idx], blue[idx]) for idx in range(n)]\n",
    "        res=[r if r<float('inf') else -1 for r in res ]\n",
    "        return res"
   ]
  },
  {
   "cell_type": "markdown",
   "metadata": {},
   "source": [
    "## Lessons and Thoughts\n",
    "- Typical shortest path. The requirement for alternating edges makes it more difficult, but making meaningful variable names helps."
   ]
  }
 ],
 "metadata": {
  "kernelspec": {
   "display_name": "Python 3",
   "language": "python",
   "name": "python3"
  },
  "language_info": {
   "codemirror_mode": {
    "name": "ipython",
    "version": 3
   },
   "file_extension": ".py",
   "mimetype": "text/x-python",
   "name": "python",
   "nbconvert_exporter": "python",
   "pygments_lexer": "ipython3",
   "version": "3.7.3"
  }
 },
 "nbformat": 4,
 "nbformat_minor": 2
}
