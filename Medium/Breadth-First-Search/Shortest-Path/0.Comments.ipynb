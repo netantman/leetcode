{
 "cells": [
  {
   "cell_type": "markdown",
   "metadata": {},
   "source": [
    "## Ideas\n",
    "\n",
    "Shortest path problems can be viewed as a type of BFS, though usually by `heapq`: queue only applies in the special case where . \n",
    "- It starts with the source(s) in the queue, and every other nodes are initialized as `float('inf')` meaning that known shortest path is infinitely long. \n",
    "- At each iteration, pop the top of the queue, and update its neighbors. \n",
    "- Only when a neighbor's shortest path on record is longer than popped element's path, the neighbor's record gets updated and append into the queue. It stops when the queue is empty."
   ]
  },
  {
   "cell_type": "markdown",
   "metadata": {},
   "source": [
    "## Traps\n",
    "\n",
    "- If there is a single-source shortest path, actually a simple BFS will do. But multi-source needs the algo above."
   ]
  },
  {
   "cell_type": "markdown",
   "metadata": {},
   "source": [
    "## Template"
   ]
  },
  {
   "cell_type": "markdown",
   "metadata": {},
   "source": [
    "See [here](../Queue-Implementation/0.Comments.ipynb)"
   ]
  }
 ],
 "metadata": {
  "kernelspec": {
   "display_name": "Python 3 (ipykernel)",
   "language": "python",
   "name": "python3"
  },
  "language_info": {
   "codemirror_mode": {
    "name": "ipython",
    "version": 3
   },
   "file_extension": ".py",
   "mimetype": "text/x-python",
   "name": "python",
   "nbconvert_exporter": "python",
   "pygments_lexer": "ipython3",
   "version": "3.9.7"
  }
 },
 "nbformat": 4,
 "nbformat_minor": 2
}
