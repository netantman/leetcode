{
 "cells": [
  {
   "cell_type": "markdown",
   "metadata": {},
   "source": [
    "## Attempt 1 - Accepted"
   ]
  },
  {
   "cell_type": "code",
   "execution_count": null,
   "metadata": {},
   "outputs": [],
   "source": [
    "class Solution:\n",
    "    def shortestDistance(self, maze: List[List[int]], start: List[int], destination: List[int]) -> int:\n",
    "        R, C = len(maze), len(maze[0])\n",
    "        destination = tuple(destination)\n",
    "        dr, dc = destination\n",
    "        sp = [[None if maze[r][c] > 0 else float('inf') for c in range(C)] for r in range(R)]\n",
    "        sp[start[0]][start[1]] = 0\n",
    "        directions = [(1, 0), (-1, 0), (0, 1), (0, -1)]\n",
    "        q = [(tuple(start), 0)]\n",
    "        while q:\n",
    "            curr, dist = q.pop(0)\n",
    "            r, c = curr\n",
    "            for d in directions:\n",
    "                r_inc, c_inc = d\n",
    "                rr, cc = r, c\n",
    "                nr, nc = rr + r_inc, cc + c_inc\n",
    "                l = 0\n",
    "                while nr >= 0 and nr < R and nc >= 0 and nc < C and maze[nr][nc] < 1:\n",
    "                    l += 1\n",
    "                    rr, cc = nr, nc\n",
    "                    nr += r_inc\n",
    "                    nc += c_inc\n",
    "                if sp[rr][cc] > sp[r][c] + l:\n",
    "                    sp[rr][cc] = sp[r][c] + l\n",
    "                    q.append(((rr, cc), sp[rr][cc]))\n",
    "                    \n",
    "        # print(sp)\n",
    "\n",
    "        return sp[dr][dc] if sp[dr][dc] < float('inf') else -1"
   ]
  },
  {
   "cell_type": "markdown",
   "metadata": {},
   "source": [
    "## Lessons and Thoughts\n",
    "- Only those points where the ball is able to stop at deserves to have short path calculated."
   ]
  }
 ],
 "metadata": {
  "kernelspec": {
   "display_name": "Python 3",
   "language": "python",
   "name": "python3"
  },
  "language_info": {
   "codemirror_mode": {
    "name": "ipython",
    "version": 3
   },
   "file_extension": ".py",
   "mimetype": "text/x-python",
   "name": "python",
   "nbconvert_exporter": "python",
   "pygments_lexer": "ipython3",
   "version": "3.7.3"
  }
 },
 "nbformat": 4,
 "nbformat_minor": 2
}
