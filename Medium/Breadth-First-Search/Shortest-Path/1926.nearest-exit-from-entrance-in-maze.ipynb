{
 "cells": [
  {
   "cell_type": "markdown",
   "metadata": {},
   "source": [
    "## Attempt 1 - Wrong Answer"
   ]
  },
  {
   "cell_type": "code",
   "execution_count": null,
   "metadata": {},
   "outputs": [],
   "source": [
    "class Solution:\n",
    "    def nearestExit(self, maze: List[List[str]], entrance: List[int]) -> int:\n",
    "        R, C = len(maze), len(maze[0])\n",
    "        \n",
    "        bfs = [[float('inf') for c in range(C)] for r in range(R)]\n",
    "        bfs[entrance[0]][entrance[1]] = 0\n",
    "        q = [tuple(entrance + [0])]\n",
    "        while q:\n",
    "            r, c, l = q.pop(0)\n",
    "            # print(r, c, l)\n",
    "            if r - 1 >= 0 and maze[r - 1][c] == \".\" and bfs[r - 1][c] > l + 1:\n",
    "                if r - 1 == 0: ## --> did not take into account \n",
    "                    return l + 1\n",
    "                bfs[r - 1][c] = l + 1\n",
    "                q.append((r - 1, c, l + 1))\n",
    "            if r + 1 < R and maze[r + 1][c] == \".\" and bfs[r + 1][c] > l + 1:\n",
    "                if r + 1 == R - 1:\n",
    "                    return l + 1\n",
    "                bfs[r + 1][c] = l + 1\n",
    "                q.append((r + 1, c, l + 1))\n",
    "            if c - 1 >= 0 and maze[r][c - 1] == \".\" and bfs[r][c - 1] > l + 1:\n",
    "                if c - 1 == 0:\n",
    "                    return l + 1\n",
    "                bfs[r][c - 1] = l + 1\n",
    "                q.append((r, c - 1, l + 1))\n",
    "            if c + 1 < C and maze[r][c + 1] == \".\" and bfs[r][c + 1] > l + 1:\n",
    "                if c + 1 == C - 1:\n",
    "                    return l + 1\n",
    "                bfs[r][c + 1] = l + 1\n",
    "                q.append((r, c + 1, l + 1))\n",
    "        return -1"
   ]
  },
  {
   "cell_type": "markdown",
   "metadata": {},
   "source": [
    "## Attempt 2 - Accepted"
   ]
  },
  {
   "cell_type": "code",
   "execution_count": null,
   "metadata": {},
   "outputs": [],
   "source": [
    "class Solution:\n",
    "    def nearestExit(self, maze: List[List[str]], entrance: List[int]) -> int:\n",
    "        R, C = len(maze), len(maze[0])\n",
    "        \n",
    "        bfs = [[float('inf') for c in range(C)] for r in range(R)]\n",
    "        bfs[entrance[0]][entrance[1]] = 0\n",
    "        q = [tuple(entrance + [0])]\n",
    "        while q:\n",
    "            r, c, l = q.pop(0)\n",
    "            # print(r, c, l)\n",
    "            if r - 1 >= 0 and maze[r - 1][c] == \".\" and bfs[r - 1][c] > l + 1:\n",
    "                if r - 1 == 0 or c == 0 or c == C - 1:\n",
    "                    return l + 1\n",
    "                bfs[r - 1][c] = l + 1\n",
    "                q.append((r - 1, c, l + 1))\n",
    "            if r + 1 < R and maze[r + 1][c] == \".\" and bfs[r + 1][c] > l + 1:\n",
    "                if r + 1 == R - 1 or c == 0 or c == C - 1:\n",
    "                    return l + 1\n",
    "                bfs[r + 1][c] = l + 1\n",
    "                q.append((r + 1, c, l + 1))\n",
    "            if c - 1 >= 0 and maze[r][c - 1] == \".\" and bfs[r][c - 1] > l + 1:\n",
    "                if c - 1 == 0 or r == 0 or r == R - 1:\n",
    "                    return l + 1\n",
    "                bfs[r][c - 1] = l + 1\n",
    "                q.append((r, c - 1, l + 1))\n",
    "            if c + 1 < C and maze[r][c + 1] == \".\" and bfs[r][c + 1] > l + 1:\n",
    "                if c + 1 == C - 1 or r == 0 or r == R - 1:\n",
    "                    return l + 1\n",
    "                bfs[r][c + 1] = l + 1\n",
    "                q.append((r, c + 1, l + 1))\n",
    "        return -1"
   ]
  },
  {
   "cell_type": "markdown",
   "metadata": {},
   "source": [
    "## Lessons and Thoughts\n",
    "- Typical shortest path. The missed edge case is when the entrance point is already along the edges."
   ]
  }
 ],
 "metadata": {
  "kernelspec": {
   "display_name": "Python 3",
   "language": "python",
   "name": "python3"
  },
  "language_info": {
   "codemirror_mode": {
    "name": "ipython",
    "version": 3
   },
   "file_extension": ".py",
   "mimetype": "text/x-python",
   "name": "python",
   "nbconvert_exporter": "python",
   "pygments_lexer": "ipython3",
   "version": "3.7.3"
  }
 },
 "nbformat": 4,
 "nbformat_minor": 2
}
