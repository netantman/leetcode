{
 "cells": [
  {
   "cell_type": "markdown",
   "metadata": {},
   "source": [
    "## Attempt 1 - Wrong Answer"
   ]
  },
  {
   "cell_type": "code",
   "execution_count": null,
   "metadata": {},
   "outputs": [],
   "source": [
    "class Solution:\n",
    "    def numOfMinutes(self, n: int, headID: int, manager: List[int], informTime: List[int]) -> int:\n",
    "        sub=[[] for _ in range(n)]\n",
    "        for person in range(n):\n",
    "            if manager[person]>=0:\n",
    "                sub[manager[person]].append(person)\n",
    "        # print(sub)\n",
    "        \n",
    "        q=[(0, headID)]\n",
    "        res=0\n",
    "        while q:\n",
    "            top=heapq.heappop(q)\n",
    "            # print(top)\n",
    "            \n",
    "            res+=top[0]\n",
    "            new=[(elem[0]-top[0], elem[1]) for elem in q]\n",
    "            \n",
    "            adding=[(informTime[top[1]], s) for s in sub[top[1]]]\n",
    "            q=[n for n in new]+[a for a in adding] # --> then q will cease to be a priority queue\n",
    "            \n",
    "            # print(new)\n",
    "            # print(adding)\n",
    "            # print(q)\n",
    "            # print(res)\n",
    "        \n",
    "        return res"
   ]
  },
  {
   "cell_type": "markdown",
   "metadata": {},
   "source": [
    "## Attempt 2 - Time Limit Exceeded"
   ]
  },
  {
   "cell_type": "code",
   "execution_count": null,
   "metadata": {},
   "outputs": [],
   "source": [
    "class Solution:\n",
    "    def numOfMinutes(self, n: int, headID: int, manager: List[int], informTime: List[int]) -> int:\n",
    "        sub=[[] for _ in range(n)]\n",
    "        for person in range(n):\n",
    "            if manager[person]>=0:\n",
    "                sub[manager[person]].append(person)\n",
    "        # print(sub)\n",
    "        \n",
    "        q=[(0, headID)]\n",
    "        res=0\n",
    "        while q:\n",
    "            top=heapq.heappop(q)\n",
    "            # print(top)\n",
    "            \n",
    "            res+=top[0]\n",
    "            new=[(elem[0]-top[0], elem[1]) for elem in q]\n",
    "            \n",
    "            adding=[(informTime[top[1]], s) for s in sub[top[1]]]\n",
    "            q=[n for n in new]+[a for a in adding]\n",
    "            heapq.heapify(q)\n",
    "            \n",
    "            # print(new)\n",
    "            # print(adding)\n",
    "            # print(res)\n",
    "            # print(q)\n",
    "        \n",
    "        return res"
   ]
  },
  {
   "cell_type": "markdown",
   "metadata": {},
   "source": [
    "## Attempt 3 - Accepted"
   ]
  },
  {
   "cell_type": "code",
   "execution_count": null,
   "metadata": {},
   "outputs": [],
   "source": [
    "class Solution:\n",
    "    def numOfMinutes(self, n: int, headID: int, manager: List[int], informTime: List[int]) -> int:\n",
    "        sub=[[] for _ in range(n)]\n",
    "        for person in range(n):\n",
    "            if manager[person]>=0:\n",
    "                sub[manager[person]].append(person)\n",
    "        # print(sub)\n",
    "        record={person: None for person in range(n)}\n",
    "        \n",
    "        def dfs(root, cum, record):\n",
    "            record[root]=cum\n",
    "            new_cum=cum+informTime[root]\n",
    "            for s in sub[root]:\n",
    "                record=dfs(s, new_cum, record)\n",
    "            return record\n",
    "        \n",
    "        record=dfs(headID, 0, record)\n",
    "        return max(record.values())"
   ]
  },
  {
   "cell_type": "markdown",
   "metadata": {},
   "source": [
    "## Lessons and Thoughts\n",
    "- Typical shortest path, though `heapq` is a bit rusty.\n",
    "- DFS is more time efficient."
   ]
  }
 ],
 "metadata": {
  "kernelspec": {
   "display_name": "Python 3",
   "language": "python",
   "name": "python3"
  },
  "language_info": {
   "codemirror_mode": {
    "name": "ipython",
    "version": 3
   },
   "file_extension": ".py",
   "mimetype": "text/x-python",
   "name": "python",
   "nbconvert_exporter": "python",
   "pygments_lexer": "ipython3",
   "version": "3.7.3"
  }
 },
 "nbformat": 4,
 "nbformat_minor": 2
}
