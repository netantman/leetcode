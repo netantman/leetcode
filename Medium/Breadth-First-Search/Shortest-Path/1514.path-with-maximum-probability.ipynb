{
 "cells": [
  {
   "cell_type": "markdown",
   "metadata": {},
   "source": [
    "## Attempt 1 - Accepted"
   ]
  },
  {
   "cell_type": "code",
   "execution_count": null,
   "metadata": {},
   "outputs": [],
   "source": [
    "class Solution:\n",
    "    def maxProbability(self, n: int, edges: List[List[int]], succProb: List[float], start: int, end: int) -> float:\n",
    "        neighbors = defaultdict(set)\n",
    "        probs = dict()\n",
    "        for edge, prob in zip(edges, succProb):\n",
    "            probs[tuple(edge)] = prob\n",
    "            probs[tuple(edge[::-1])] = prob\n",
    "            neighbors[edge[0]].add(edge[1])\n",
    "            neighbors[edge[1]].add(edge[0])\n",
    "        \n",
    "        res = [0 for _ in range(n)]\n",
    "        res[start] = 1.0\n",
    "        q = [start]\n",
    "        while q:\n",
    "            curr = q.pop(0)\n",
    "            curr_neighbors = neighbors[curr]\n",
    "            for neighbor in curr_neighbors:\n",
    "                if res[neighbor] < res[curr] * probs[(curr, neighbor)]:\n",
    "                    res[neighbor] = res[curr] * probs[(curr, neighbor)]\n",
    "                    q.append(neighbor)\n",
    "        return res[end]"
   ]
  },
  {
   "cell_type": "markdown",
   "metadata": {},
   "source": [
    "## Lessons and Thoughts\n",
    "- Just typical shortest path algo"
   ]
  }
 ],
 "metadata": {
  "kernelspec": {
   "display_name": "Python 3",
   "language": "python",
   "name": "python3"
  },
  "language_info": {
   "codemirror_mode": {
    "name": "ipython",
    "version": 3
   },
   "file_extension": ".py",
   "mimetype": "text/x-python",
   "name": "python",
   "nbconvert_exporter": "python",
   "pygments_lexer": "ipython3",
   "version": "3.7.3"
  }
 },
 "nbformat": 4,
 "nbformat_minor": 2
}
