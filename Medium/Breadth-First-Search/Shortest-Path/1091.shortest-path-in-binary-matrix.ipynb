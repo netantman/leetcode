{
 "cells": [
  {
   "cell_type": "markdown",
   "metadata": {},
   "source": [
    "## Attempt 1 - Wrong Answer"
   ]
  },
  {
   "cell_type": "code",
   "execution_count": null,
   "metadata": {},
   "outputs": [],
   "source": [
    "class Solution:\n",
    "    def shortestPathBinaryMatrix(self, grid: List[List[int]]) -> int:\n",
    "        N=len(grid)\n",
    "        q=[(0,0)] ## --> did not consider if the start point is blocked already...\n",
    "        dp=[[float('inf') for n in range(N)] for n in range(N)]\n",
    "        dp[0][0]=1\n",
    "        while q:\n",
    "            r,c=q.pop(0)\n",
    "            for rr in {r-1,r,r+1}:\n",
    "                for cc in {c-1,c,c+1}:\n",
    "                    if rr<0 or rr>=N or cc<0 or cc>=N or (rr,cc)==(r,c):\n",
    "                        continue\n",
    "                    if grid[rr][cc]<1 and dp[rr][cc]>dp[r][c]+1:\n",
    "                        dp[rr][cc]=dp[r][c]+1\n",
    "                        q.append((rr,cc))\n",
    "        return dp[-1][-1] if dp[-1][-1]<float('inf') else -1"
   ]
  },
  {
   "cell_type": "markdown",
   "metadata": {},
   "source": [
    "## Attempt 2 - Accepted"
   ]
  },
  {
   "cell_type": "code",
   "execution_count": null,
   "metadata": {},
   "outputs": [],
   "source": [
    "class Solution:\n",
    "    def shortestPathBinaryMatrix(self, grid: List[List[int]]) -> int:\n",
    "        if grid[0][0]>0:\n",
    "            return -1\n",
    "        N=len(grid)\n",
    "        q=[(0,0)]\n",
    "        dp=[[float('inf') for n in range(N)] for n in range(N)]\n",
    "        dp[0][0]=1\n",
    "        while q:\n",
    "            r,c=q.pop(0)\n",
    "            for rr in {r-1,r,r+1}:\n",
    "                for cc in {c-1,c,c+1}:\n",
    "                    if rr<0 or rr>=N or cc<0 or cc>=N or (rr,cc)==(r,c):\n",
    "                        continue\n",
    "                    if grid[rr][cc]<1 and dp[rr][cc]>dp[r][c]+1:\n",
    "                        dp[rr][cc]=dp[r][c]+1\n",
    "                        q.append((rr,cc))\n",
    "        return dp[-1][-1] if dp[-1][-1]<float('inf') else -1"
   ]
  },
  {
   "cell_type": "markdown",
   "metadata": {},
   "source": [
    "## Attempt 3 - Accepted"
   ]
  },
  {
   "cell_type": "code",
   "execution_count": null,
   "metadata": {},
   "outputs": [],
   "source": [
    "class Solution {\n",
    "public:\n",
    "    int shortestPathBinaryMatrix(vector<vector<int>>& grid) {\n",
    "        int n = grid.size();\n",
    "        \n",
    "        if (grid[0][0] > 0) {\n",
    "            return -1;\n",
    "        }\n",
    "        \n",
    "        vector<vector<int>> sp = {};\n",
    "        for (int i=0; i<n; i++) {\n",
    "            vector<int> tmp(n, n * n + 1); ## one way to initialize a vector of vector\n",
    "            sp.push_back(tmp);\n",
    "        }\n",
    "        sp[0][0] = 1;\n",
    "        deque<vector<int>> q = {{0, 0}};\n",
    "        \n",
    "        vector<vector<int>> directions = {\n",
    "            {1, 0}, {-1, 0}, {0, 1}, {0, -1},\n",
    "            {1, 1}, {1, -1}, {-1, 1}, {-1, -1}\n",
    "        }; ## uniform init\n",
    "        \n",
    "        while (q.size() > 0) {\n",
    "            vector<int> curr = q.front();\n",
    "            q.pop_front();\n",
    "            int r = curr[0];\n",
    "            int c = curr[1];\n",
    "            for (auto direct : directions) {\n",
    "                int dr = direct[0];\n",
    "                int dc = direct[1];\n",
    "                int new_r = r + dr;\n",
    "                int new_c = c + dc;\n",
    "                if ((new_r < n) && (new_r >= 0) && (new_c < n) && (new_c >= 0)) {\n",
    "                    if ((grid[new_r][new_c] < 1 ) && (sp[new_r][new_c] > sp[r][c] + 1)) {\n",
    "                        sp[new_r][new_c] = sp[r][c] + 1;\n",
    "                        vector<int> tmp = {new_r, new_c};\n",
    "                        q.push_back(tmp);\n",
    "                    }\n",
    "                }\n",
    "            }\n",
    "        }\n",
    "        if (sp[n - 1][n - 1] >= n * n + 1) {\n",
    "            return -1;\n",
    "        }\n",
    "        return sp[n - 1][n - 1];\n",
    "    }\n",
    "};"
   ]
  },
  {
   "cell_type": "markdown",
   "metadata": {},
   "source": [
    "## Lessons and Thoughts\n",
    "- The failed edge case is kind of not reasonable... Otherwise this is a typical single-source shortest path problem."
   ]
  }
 ],
 "metadata": {
  "kernelspec": {
   "display_name": "Python 3",
   "language": "python",
   "name": "python3"
  },
  "language_info": {
   "codemirror_mode": {
    "name": "ipython",
    "version": 3
   },
   "file_extension": ".py",
   "mimetype": "text/x-python",
   "name": "python",
   "nbconvert_exporter": "python",
   "pygments_lexer": "ipython3",
   "version": "3.6.5"
  }
 },
 "nbformat": 4,
 "nbformat_minor": 2
}
