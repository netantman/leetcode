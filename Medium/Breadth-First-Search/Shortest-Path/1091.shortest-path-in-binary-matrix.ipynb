{
 "cells": [
  {
   "cell_type": "markdown",
   "metadata": {},
   "source": [
    "## Attempt 1 - Wrong Answer"
   ]
  },
  {
   "cell_type": "code",
   "execution_count": null,
   "metadata": {},
   "outputs": [],
   "source": [
    "class Solution:\n",
    "    def shortestPathBinaryMatrix(self, grid: List[List[int]]) -> int:\n",
    "        N=len(grid)\n",
    "        q=[(0,0)] ## --> did not consider if the start point is blocked already...\n",
    "        dp=[[float('inf') for n in range(N)] for n in range(N)]\n",
    "        dp[0][0]=1\n",
    "        while q:\n",
    "            r,c=q.pop(0)\n",
    "            for rr in {r-1,r,r+1}:\n",
    "                for cc in {c-1,c,c+1}:\n",
    "                    if rr<0 or rr>=N or cc<0 or cc>=N or (rr,cc)==(r,c):\n",
    "                        continue\n",
    "                    if grid[rr][cc]<1 and dp[rr][cc]>dp[r][c]+1:\n",
    "                        dp[rr][cc]=dp[r][c]+1\n",
    "                        q.append((rr,cc))\n",
    "        return dp[-1][-1] if dp[-1][-1]<float('inf') else -1"
   ]
  },
  {
   "cell_type": "markdown",
   "metadata": {},
   "source": [
    "## Attempt 2 - Accepted"
   ]
  },
  {
   "cell_type": "code",
   "execution_count": null,
   "metadata": {},
   "outputs": [],
   "source": [
    "class Solution:\n",
    "    def shortestPathBinaryMatrix(self, grid: List[List[int]]) -> int:\n",
    "        if grid[0][0]>0:\n",
    "            return -1\n",
    "        N=len(grid)\n",
    "        q=[(0,0)]\n",
    "        dp=[[float('inf') for n in range(N)] for n in range(N)]\n",
    "        dp[0][0]=1\n",
    "        while q:\n",
    "            r,c=q.pop(0)\n",
    "            for rr in {r-1,r,r+1}:\n",
    "                for cc in {c-1,c,c+1}:\n",
    "                    if rr<0 or rr>=N or cc<0 or cc>=N or (rr,cc)==(r,c):\n",
    "                        continue\n",
    "                    if grid[rr][cc]<1 and dp[rr][cc]>dp[r][c]+1:\n",
    "                        dp[rr][cc]=dp[r][c]+1\n",
    "                        q.append((rr,cc))\n",
    "        return dp[-1][-1] if dp[-1][-1]<float('inf') else -1"
   ]
  },
  {
   "cell_type": "markdown",
   "metadata": {},
   "source": [
    "## Lessons and Thoughts\n",
    "- The failed edge case is kind of not reasonable... Otherwise this is a typical single-source shortest path problem."
   ]
  }
 ],
 "metadata": {
  "kernelspec": {
   "display_name": "Python 3",
   "language": "python",
   "name": "python3"
  },
  "language_info": {
   "codemirror_mode": {
    "name": "ipython",
    "version": 3
   },
   "file_extension": ".py",
   "mimetype": "text/x-python",
   "name": "python",
   "nbconvert_exporter": "python",
   "pygments_lexer": "ipython3",
   "version": "3.7.3"
  }
 },
 "nbformat": 4,
 "nbformat_minor": 2
}
