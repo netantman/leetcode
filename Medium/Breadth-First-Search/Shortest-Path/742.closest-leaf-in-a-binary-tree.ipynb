{
 "cells": [
  {
   "cell_type": "markdown",
   "metadata": {},
   "source": [
    "## Attempt 1 - Accepted"
   ]
  },
  {
   "cell_type": "code",
   "execution_count": null,
   "metadata": {},
   "outputs": [],
   "source": [
    "# Definition for a binary tree node.\n",
    "# class TreeNode:\n",
    "#     def __init__(self, val=0, left=None, right=None):\n",
    "#         self.val = val\n",
    "#         self.left = left\n",
    "#         self.right = right\n",
    "class Solution:\n",
    "    def findClosestLeaf(self, root: Optional[TreeNode], k: int) -> int:\n",
    "        self.edges = defaultdict(list)\n",
    "        self.leaves = set()\n",
    "        self.sp = dict()\n",
    "        \n",
    "        def inner(root):\n",
    "            if root is None:\n",
    "                return\n",
    "            self.sp[root.val] = float('inf')\n",
    "            if root.left is None and root.right is None:\n",
    "                self.leaves.add(root.val)\n",
    "            if root.left is not None:\n",
    "                self.edges[root.val].append(root.left.val)\n",
    "                self.edges[root.left.val].append(root.val)\n",
    "                inner(root.left)\n",
    "            if root.right is not None:\n",
    "                self.edges[root.val].append(root.right.val)\n",
    "                self.edges[root.right.val].append(root.val)\n",
    "                inner(root.right)\n",
    "            return    \n",
    "        \n",
    "        inner(root)\n",
    "        self.sp[k] = 0\n",
    "        q = [k]\n",
    "        while q:\n",
    "            curr = q.pop(0)\n",
    "            for n in self.edges[curr]:\n",
    "                if self.sp[n] > self.sp[curr] + 1:\n",
    "                    self.sp[n] = self.sp[curr] + 1\n",
    "                    q.append(n)\n",
    "        \n",
    "        sp = min(self.sp[l] for l in self.leaves)\n",
    "        for l in self.leaves:\n",
    "            if self.sp[l] == sp:\n",
    "                return l"
   ]
  },
  {
   "cell_type": "markdown",
   "metadata": {},
   "source": [
    "## Lessons and Thoughts\n",
    "- Although this is a tree problem, easier to formulate as a graph problem."
   ]
  }
 ],
 "metadata": {
  "kernelspec": {
   "display_name": "Python 3",
   "language": "python",
   "name": "python3"
  },
  "language_info": {
   "codemirror_mode": {
    "name": "ipython",
    "version": 3
   },
   "file_extension": ".py",
   "mimetype": "text/x-python",
   "name": "python",
   "nbconvert_exporter": "python",
   "pygments_lexer": "ipython3",
   "version": "3.7.3"
  }
 },
 "nbformat": 4,
 "nbformat_minor": 2
}
