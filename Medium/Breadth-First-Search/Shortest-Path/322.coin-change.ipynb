{
 "cells": [
  {
   "cell_type": "markdown",
   "metadata": {},
   "source": [
    "## Attempt 1 - Accepted"
   ]
  },
  {
   "cell_type": "code",
   "execution_count": null,
   "metadata": {},
   "outputs": [],
   "source": [
    "class Solution:\n",
    "    def coinChange(self, coins: List[int], amount: int) -> int:\n",
    "        res=[amount+1 for _ in range(amount+1)]\n",
    "        res[0]=0\n",
    "        for idx in range(1, amount+1):\n",
    "            for c in coins:\n",
    "                if idx>=c:\n",
    "                    res[idx]=min(res[idx], res[idx-c]+1)\n",
    "        if res[-1]<amount+1:\n",
    "            return res[-1]\n",
    "        else:\n",
    "            return -1"
   ]
  },
  {
   "cell_type": "markdown",
   "metadata": {},
   "source": [
    "## Attempt 2 - Accepted"
   ]
  },
  {
   "cell_type": "code",
   "execution_count": null,
   "metadata": {},
   "outputs": [],
   "source": [
    "class Solution {\n",
    "public:\n",
    "    int coinChange(vector<int>& coins, int amount) {\n",
    "        vector<int> sp(amount + 1, amount + 1);\n",
    "        deque<int> q = {0};\n",
    "        sp[0] = 0;\n",
    "        while (q.size() > 0) {\n",
    "            long curr = q.front(); ## in c++ you need to care about int overflow as well!\n",
    "            q.pop_front();\n",
    "            for (int c : coins) {\n",
    "                if ((curr + c <= amount) && (sp[curr] + 1 < sp[curr + c])) { ## be ware of index overflow! ## what is the difference of & and &&?\n",
    "                    sp[curr + c] = sp[curr] + 1;\n",
    "                    q.push_back(curr + c);\n",
    "                }\n",
    "            } \n",
    "        }\n",
    "        if (sp.back() == amount + 1) {\n",
    "            return -1;\n",
    "        }\n",
    "        else {\n",
    "            return sp.back();\n",
    "        }\n",
    "    }\n",
    "};"
   ]
  },
  {
   "cell_type": "markdown",
   "metadata": {},
   "source": [
    "## Attempt 3 - Accepted"
   ]
  },
  {
   "cell_type": "code",
   "execution_count": null,
   "metadata": {},
   "outputs": [],
   "source": [
    "class Solution:\n",
    "    def coinChange(self, coins: List[int], amount: int) -> int:\n",
    "        coins = [c for c in coins if c <= amount]\n",
    "        sp = [float('inf') for _ in range(amount + 1)]\n",
    "        sp[0] = 0\n",
    "        \n",
    "        q = [0]\n",
    "        while q:\n",
    "            curr = q.pop(0)\n",
    "            for c in coins:\n",
    "                if c + curr <= amount and sp[c + curr] > sp[curr] + 1:\n",
    "                    sp[c + curr] = sp[curr] + 1\n",
    "                    q.append(c + curr)\n",
    "                    if c + curr == amount:\n",
    "                        return sp[c + curr]\n",
    "        \n",
    "        return -1 if sp[amount] >= float('inf') else sp[amount]"
   ]
  },
  {
   "cell_type": "markdown",
   "metadata": {},
   "source": [
    "## Lessons and Thoughts\n",
    "- Straightforward shortest-path problem"
   ]
  }
 ],
 "metadata": {
  "kernelspec": {
   "display_name": "Python 3 (ipykernel)",
   "language": "python",
   "name": "python3"
  },
  "language_info": {
   "codemirror_mode": {
    "name": "ipython",
    "version": 3
   },
   "file_extension": ".py",
   "mimetype": "text/x-python",
   "name": "python",
   "nbconvert_exporter": "python",
   "pygments_lexer": "ipython3",
   "version": "3.9.7"
  }
 },
 "nbformat": 4,
 "nbformat_minor": 2
}
