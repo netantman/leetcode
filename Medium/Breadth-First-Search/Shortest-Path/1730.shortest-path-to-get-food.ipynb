{
 "cells": [
  {
   "cell_type": "markdown",
   "metadata": {},
   "source": [
    "## Attempt 1 - Accepted"
   ]
  },
  {
   "cell_type": "code",
   "execution_count": null,
   "metadata": {},
   "outputs": [],
   "source": [
    "class Solution:\n",
    "    def getFood(self, grid: List[List[str]]) -> int:\n",
    "        R, C = len(grid), len(grid[0])\n",
    "        lr, lc = None, None\n",
    "        for r in range(R):\n",
    "            for c in range(C):\n",
    "                if grid[r][c] == \"*\":\n",
    "                    lr, lc = r, c\n",
    "                    break\n",
    "        \n",
    "        sp = [[float('inf') for c in range(C)] for r in range(R)]\n",
    "        sp[lr][lc] = 0\n",
    "        q = [(lr, lc)]\n",
    "        directions = [(-1, 0), (1, 0), (0, 1), (0, -1)]\n",
    "        \n",
    "        while q:\n",
    "            r, c = q.pop(0)\n",
    "            for dr, dc in directions:\n",
    "                rr, cc = r + dr, c + dc\n",
    "                if rr >= 0 and rr < R and cc >= 0 and cc < C:\n",
    "                    if grid[rr][cc] != 'X' and sp[rr][cc] > sp[r][c] + 1:\n",
    "                        sp[rr][cc] = sp[r][c] + 1\n",
    "                        q.append((rr, cc))\n",
    "                        if grid[rr][cc] == '#':\n",
    "                            return sp[rr][cc]\n",
    "        \n",
    "        return -1"
   ]
  },
  {
   "cell_type": "markdown",
   "metadata": {},
   "source": [
    "## Lessons and Thoughts\n",
    "- It can early stop as long as it finds one food."
   ]
  }
 ],
 "metadata": {
  "kernelspec": {
   "display_name": "Python 3",
   "language": "python",
   "name": "python3"
  },
  "language_info": {
   "codemirror_mode": {
    "name": "ipython",
    "version": 3
   },
   "file_extension": ".py",
   "mimetype": "text/x-python",
   "name": "python",
   "nbconvert_exporter": "python",
   "pygments_lexer": "ipython3",
   "version": "3.7.3"
  }
 },
 "nbformat": 4,
 "nbformat_minor": 2
}
