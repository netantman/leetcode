{
 "cells": [
  {
   "cell_type": "markdown",
   "metadata": {},
   "source": [
    "## Attempt 1 - Wrong Answer"
   ]
  },
  {
   "cell_type": "markdown",
   "metadata": {},
   "source": [
    "Repeating the shortest path algo for every node does not work, unless you are willing to reset `record` for every node, but that is too much calculations."
   ]
  },
  {
   "cell_type": "code",
   "execution_count": null,
   "metadata": {},
   "outputs": [],
   "source": [
    "class Solution:\n",
    "    def findTheCity(self, n: int, edges: List[List[int]], distanceThreshold: int) -> int:\n",
    "        record=dict()\n",
    "        for i in range(n):\n",
    "            for j in range(n):\n",
    "                if i==j:\n",
    "                    record[(i,j)]=0\n",
    "                else:\n",
    "                    record[(i,j)]=float('inf')\n",
    "        \n",
    "        neighbors=[dict() for _ in range(n)]\n",
    "        for edge in edges:\n",
    "            neighbors[edge[0]][edge[1]]=edge[2]\n",
    "            neighbors[edge[1]][edge[0]]=edge[2]\n",
    "        \n",
    "        for city in range(n):\n",
    "            q=[city]\n",
    "            while q:\n",
    "                head=q.pop(0)\n",
    "                for nei, w in neighbors[head].items():\n",
    "                    if record[(city,nei)]>record[(city,head)]+w:\n",
    "                        record[(city,nei)]=record[(city,head)]+w\n",
    "                        record[(nei,city)]=record[(city,nei)]\n",
    "                        q.append(nei)\n",
    "        res=[len([record[(city,other)] for other in range(n) if record[(city,other)]<=distanceThreshold])-1 for city in range(n)]\n",
    "        M=min(res)\n",
    "        for idx in reversed(range(n)):\n",
    "            if res[idx]==M:\n",
    "                return idx"
   ]
  },
  {
   "cell_type": "markdown",
   "metadata": {},
   "source": [
    "## Attempt 2 - Accepted"
   ]
  },
  {
   "cell_type": "markdown",
   "metadata": {},
   "source": [
    "Floyd's Algorithm"
   ]
  },
  {
   "cell_type": "code",
   "execution_count": null,
   "metadata": {},
   "outputs": [],
   "source": [
    "class Solution:\n",
    "    def findTheCity(self, n: int, edges: List[List[int]], distanceThreshold: int) -> int:\n",
    "        dis=[[float('inf') for _ in range(n)] for _ in range(n)]\n",
    "        for i in range(n):\n",
    "            dis[i][i]=0\n",
    "        for i,j,w in edges:\n",
    "            dis[i][j]=w\n",
    "            dis[j][i]=w\n",
    "        for k in range(n):\n",
    "            for i in range(n):\n",
    "                for j in range(n):\n",
    "                    dis[i][j]=min(dis[i][j],dis[i][k]+dis[k][j])\n",
    "        res,count=None,n+1\n",
    "        for i in range(n):\n",
    "            cur=0\n",
    "            for j in range(n):\n",
    "                if dis[i][j]<=distanceThreshold:\n",
    "                    cur+=1\n",
    "            if cur<=count:\n",
    "                res,count=i,cur\n",
    "        return res"
   ]
  },
  {
   "cell_type": "markdown",
   "metadata": {},
   "source": [
    "## Lessons and Thoughts\n",
    "- Accepted algorithm is Floyd's algorithm, which is used to calculate pairwise shortest paths in a graph; see [Wiki](https://en.wikipedia.org/wiki/Floyd%E2%80%93Warshall_algorithm)."
   ]
  }
 ],
 "metadata": {
  "kernelspec": {
   "display_name": "Python 3",
   "language": "python",
   "name": "python3"
  },
  "language_info": {
   "codemirror_mode": {
    "name": "ipython",
    "version": 3
   },
   "file_extension": ".py",
   "mimetype": "text/x-python",
   "name": "python",
   "nbconvert_exporter": "python",
   "pygments_lexer": "ipython3",
   "version": "3.7.3"
  }
 },
 "nbformat": 4,
 "nbformat_minor": 2
}
