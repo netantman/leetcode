{
 "cells": [
  {
   "cell_type": "markdown",
   "metadata": {},
   "source": [
    "## Attempt 1 - Accepted"
   ]
  },
  {
   "cell_type": "code",
   "execution_count": null,
   "metadata": {},
   "outputs": [],
   "source": [
    "class Solution:\n",
    "    def updateMatrix(self, matrix: List[List[int]]) -> List[List[int]]:\n",
    "        if len(matrix)<1 or len(matrix[0])<1:\n",
    "            return [[]]\n",
    "        \n",
    "        numRows=len(matrix)\n",
    "        numCols=len(matrix[0])\n",
    "        res=[[0 if matrix[r][c]==0 else 10000 for c in range(numCols)] for r in range(numRows)]\n",
    "        q=[]\n",
    "        for r in range(numRows):\n",
    "            for c in range(numCols):\n",
    "                if matrix[r][c]==0:\n",
    "                    q.append((r,c))\n",
    "        while len(q)>0:\n",
    "            r,c=q.pop(0)\n",
    "            if r-1>=0 and res[r-1][c]>res[r][c]+1:\n",
    "                res[r-1][c]=res[r][c]+1\n",
    "                q.append((r-1,c))\n",
    "            if c-1>=0 and res[r][c-1]>res[r][c]+1:\n",
    "                res[r][c-1]=res[r][c]+1\n",
    "                q.append((r,c-1))\n",
    "            if r+1<numRows and res[r+1][c]>res[r][c]+1:\n",
    "                res[r+1][c]=res[r][c]+1\n",
    "                q.append((r+1,c))\n",
    "            if c+1<numCols and res[r][c+1]>res[r][c]+1:\n",
    "                res[r][c+1]=res[r][c]+1\n",
    "                q.append((r,c+1))\n",
    "        return res"
   ]
  },
  {
   "cell_type": "markdown",
   "metadata": {},
   "source": [
    "## Lessons and Thoughts\n",
    "- Multi-source shortest path problem!"
   ]
  }
 ],
 "metadata": {
  "kernelspec": {
   "display_name": "Python 3",
   "language": "python",
   "name": "python3"
  },
  "language_info": {
   "codemirror_mode": {
    "name": "ipython",
    "version": 3
   },
   "file_extension": ".py",
   "mimetype": "text/x-python",
   "name": "python",
   "nbconvert_exporter": "python",
   "pygments_lexer": "ipython3",
   "version": "3.7.3"
  }
 },
 "nbformat": 4,
 "nbformat_minor": 2
}
