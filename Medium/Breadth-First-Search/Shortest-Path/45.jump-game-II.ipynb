{
 "cells": [
  {
   "cell_type": "markdown",
   "metadata": {},
   "source": [
    "## Attempt 1 - Accepted"
   ]
  },
  {
   "cell_type": "code",
   "execution_count": null,
   "metadata": {},
   "outputs": [],
   "source": [
    "class Solution:\n",
    "    def jump(self, nums: List[int]) -> int:\n",
    "        L = len(nums)\n",
    "        sp = [float('inf') for _ in range(L)]\n",
    "        sp[0] = 0\n",
    "        for idx in range(L):\n",
    "            m = nums[idx]\n",
    "            for j in range(idx + 1, idx + m + 1):\n",
    "                if j >= L:\n",
    "                    break ## --> forgot this for index out of range!\n",
    "                sp[j] = min(sp[j], sp[idx] + 1)\n",
    "        return sp[-1]"
   ]
  },
  {
   "cell_type": "markdown",
   "metadata": {},
   "source": [
    "## Lessons and Thoughts\n",
    "- Maybe framed as a DP problem, but easiest to think about as shortest path."
   ]
  }
 ],
 "metadata": {
  "kernelspec": {
   "display_name": "Python 3",
   "language": "python",
   "name": "python3"
  },
  "language_info": {
   "codemirror_mode": {
    "name": "ipython",
    "version": 3
   },
   "file_extension": ".py",
   "mimetype": "text/x-python",
   "name": "python",
   "nbconvert_exporter": "python",
   "pygments_lexer": "ipython3",
   "version": "3.7.3"
  }
 },
 "nbformat": 4,
 "nbformat_minor": 2
}
