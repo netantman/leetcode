{
 "cells": [
  {
   "cell_type": "markdown",
   "metadata": {},
   "source": [
    "## Attempt 1 - Wrong Answer"
   ]
  },
  {
   "cell_type": "code",
   "execution_count": null,
   "metadata": {},
   "outputs": [],
   "source": [
    "class Solution:\n",
    "    def minimumEffortPath(self, heights: List[List[int]]) -> int:\n",
    "        R, C = len(heights), len(heights[0])\n",
    "        res = [[float('inf') for c in range(C)] for r in range(R)]\n",
    "        res[0][0] = 0\n",
    "        q = [(0, 0)]\n",
    "        while q:\n",
    "            r, c = q.pop(0)\n",
    "            if r + 1 < R and max(res[r][c], heights[r + 1][c] - heights[r][c]) < res[r + 1][c]: ## --> absolute diff is the effort\n",
    "                res[r + 1][c] = max(res[r][c], heights[r + 1][c] - heights[r][c])\n",
    "                if (r + 1, c) not in q:\n",
    "                    q.append((r + 1, c))\n",
    "            if r - 1 >= 0 and max(res[r][c], heights[r - 1][c] - heights[r][c]) < res[r - 1][c]:\n",
    "                res[r - 1][c] = max(res[r][c], heights[r - 1][c] - heights[r][c])\n",
    "                if (r - 1, c) not in q:\n",
    "                    q.append((r - 1, c))\n",
    "            if c + 1 < C and max(res[r][c], heights[r][c + 1] - heights[r][c]) < res[r][c + 1]:\n",
    "                res[r][c + 1] = max(res[r][c], heights[r][c + 1] - heights[r][c])\n",
    "                if (r, c + 1) not in q:\n",
    "                    q.append((r, c + 1))\n",
    "            if c - 1 >= 0 and max(res[r][c], heights[r][c - 1] - heights[r][c]) < res[r][c - 1]:\n",
    "                res[r][c - 1] = max(res[r][c], heights[r][c - 1] - heights[r][c])\n",
    "                if (r, c - 1) not in q:\n",
    "                    q.append((r, c - 1))\n",
    "        # print(res)\n",
    "        return res[-1][-1]"
   ]
  },
  {
   "cell_type": "markdown",
   "metadata": {},
   "source": [
    "## Attempt 2 - Accepted"
   ]
  },
  {
   "cell_type": "code",
   "execution_count": null,
   "metadata": {},
   "outputs": [],
   "source": [
    "class Solution:\n",
    "    def minimumEffortPath(self, heights: List[List[int]]) -> int:\n",
    "        R, C = len(heights), len(heights[0])\n",
    "        res = [[float('inf') for c in range(C)] for r in range(R)]\n",
    "        res[0][0] = 0\n",
    "        q = [(0, 0)]\n",
    "        while q:\n",
    "            r, c = q.pop(0)\n",
    "            if r + 1 < R and max(res[r][c], abs(heights[r + 1][c] - heights[r][c])) < res[r + 1][c]:\n",
    "                res[r + 1][c] = max(res[r][c], abs(heights[r + 1][c] - heights[r][c]))\n",
    "                if (r + 1, c) not in q:\n",
    "                    q.append((r + 1, c))\n",
    "            if r - 1 >= 0 and max(res[r][c], abs(heights[r - 1][c] - heights[r][c])) < res[r - 1][c]:\n",
    "                res[r - 1][c] = max(res[r][c], abs(heights[r - 1][c] - heights[r][c]))\n",
    "                if (r - 1, c) not in q:\n",
    "                    q.append((r - 1, c))\n",
    "            if c + 1 < C and max(res[r][c], abs(heights[r][c + 1] - heights[r][c])) < res[r][c + 1]:\n",
    "                res[r][c + 1] = max(res[r][c], abs(heights[r][c + 1] - heights[r][c]))\n",
    "                if (r, c + 1) not in q:\n",
    "                    q.append((r, c + 1))\n",
    "            if c - 1 >= 0 and max(res[r][c], abs(heights[r][c - 1] - heights[r][c])) < res[r][c - 1]:\n",
    "                res[r][c - 1] = max(res[r][c], abs(heights[r][c - 1] - heights[r][c]))\n",
    "                if (r, c - 1) not in q:\n",
    "                    q.append((r, c - 1))\n",
    "        # print(res)\n",
    "        return res[-1][-1]"
   ]
  },
  {
   "cell_type": "markdown",
   "metadata": {},
   "source": [
    "## Lessons and Thoughts\n",
    "- The length of the path is the maximum of abs diff."
   ]
  }
 ],
 "metadata": {
  "kernelspec": {
   "display_name": "Python 3",
   "language": "python",
   "name": "python3"
  },
  "language_info": {
   "codemirror_mode": {
    "name": "ipython",
    "version": 3
   },
   "file_extension": ".py",
   "mimetype": "text/x-python",
   "name": "python",
   "nbconvert_exporter": "python",
   "pygments_lexer": "ipython3",
   "version": "3.7.3"
  }
 },
 "nbformat": 4,
 "nbformat_minor": 2
}
