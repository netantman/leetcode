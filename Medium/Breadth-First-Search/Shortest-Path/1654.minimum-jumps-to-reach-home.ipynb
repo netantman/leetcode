{
 "cells": [
  {
   "cell_type": "markdown",
   "metadata": {},
   "source": [
    "## Attempt 1 - Wrong Answer"
   ]
  },
  {
   "cell_type": "code",
   "execution_count": null,
   "metadata": {},
   "outputs": [],
   "source": [
    "class Solution:\n",
    "    def minimumJumps(self, forbidden: List[int], a: int, b: int, x: int) -> int:\n",
    "        res = {0: 0}\n",
    "        forbidden = set(forbidden)\n",
    "        upper = a * b + max(forbidden)\n",
    "        q = [(0, 0)]\n",
    "        while q:\n",
    "            direction, pos = q.pop(0)\n",
    "            if (pos + a not in forbidden) and (pos + a <= upper) and (res[pos] + 1 < res.get(pos + a, float('inf'))):  ## --> this arrangement will make some point wrongly unreachable\n",
    "                res[pos + a] = res[pos] + 1\n",
    "                q.append((1, pos + a))\n",
    "            if (direction >= 0) and (pos - b not in forbidden) and (pos - b >= 0) and (res[pos] + 1 < res.get(pos - b, float('inf'))):\n",
    "                res[pos - b] = res[pos] + 1\n",
    "                q.append((-1, pos - b))\n",
    "            # print(q)\n",
    "\n",
    "        return res.get(x, -1)"
   ]
  },
  {
   "cell_type": "markdown",
   "metadata": {},
   "source": [
    "## Attempt 2 - Accepted"
   ]
  },
  {
   "cell_type": "code",
   "execution_count": null,
   "metadata": {},
   "outputs": [],
   "source": [
    "class Solution:\n",
    "    def minimumJumps(self, forbidden: List[int], a: int, b: int, x: int) -> int:\n",
    "        res = {0: 0}\n",
    "        forbidden = set(forbidden)\n",
    "        upper = 6000\n",
    "        q = [(0, 0)]\n",
    "        while q:\n",
    "            direction, pos = q.pop(0)\n",
    "            if (pos + a not in forbidden) and (pos + a <= upper):\n",
    "                q.append((1, pos + a))\n",
    "                if (res[pos] + 1 < res.get(pos + a, float('inf'))):\n",
    "                    res[pos + a] = res[pos] + 1\n",
    "                else:\n",
    "                    forbidden.add(pos + a) ## --> avoid repeating nodes\n",
    "            if (direction >= 0) and (pos - b not in forbidden) and (pos - b >= 0) and (res[pos] + 1 < res.get(pos - b, float('inf'))):\n",
    "                res[pos - b] = res[pos] + 1\n",
    "                q.append((-1, pos - b))\n",
    "        #     if pos == 29*10-98:\n",
    "        #         print(29*10-98)\n",
    "        #         print(29*11-98)\n",
    "        #         print(29*10-2*98)\n",
    "        #         print(direction)\n",
    "        #         print(q)\n",
    "        # print(res[29*10-2*98])\n",
    "\n",
    "        return res.get(x, -1)"
   ]
  },
  {
   "cell_type": "markdown",
   "metadata": {},
   "source": [
    "## Lessons and Thoughts\n",
    "- This is not entirely typical shortest path, since it is a bit 'path-dependent' on how the nodes are visited."
   ]
  }
 ],
 "metadata": {
  "kernelspec": {
   "display_name": "Python 3",
   "language": "python",
   "name": "python3"
  },
  "language_info": {
   "codemirror_mode": {
    "name": "ipython",
    "version": 3
   },
   "file_extension": ".py",
   "mimetype": "text/x-python",
   "name": "python",
   "nbconvert_exporter": "python",
   "pygments_lexer": "ipython3",
   "version": "3.7.3"
  }
 },
 "nbformat": 4,
 "nbformat_minor": 2
}
