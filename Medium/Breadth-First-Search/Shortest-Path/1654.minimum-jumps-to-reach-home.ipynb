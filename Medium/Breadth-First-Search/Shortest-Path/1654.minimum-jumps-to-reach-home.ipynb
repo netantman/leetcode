{
 "cells": [
  {
   "cell_type": "markdown",
   "metadata": {},
   "source": [
    "## Attempt 1 - Wrong Answer"
   ]
  },
  {
   "cell_type": "code",
   "execution_count": null,
   "metadata": {},
   "outputs": [],
   "source": [
    "class Solution:\n",
    "    def minimumJumps(self, forbidden: List[int], a: int, b: int, x: int) -> int:\n",
    "        res = {0: 0}\n",
    "        forbidden = set(forbidden)\n",
    "        upper = a * b + max(forbidden)\n",
    "        q = [(0, 0)]\n",
    "        while q:\n",
    "            direction, pos = q.pop(0)\n",
    "            if (pos + a not in forbidden) and (pos + a <= upper) and (res[pos] + 1 < res.get(pos + a, float('inf'))):  ## --> this arrangement will make some point wrongly unreachable\n",
    "                res[pos + a] = res[pos] + 1\n",
    "                q.append((1, pos + a))\n",
    "            if (direction >= 0) and (pos - b not in forbidden) and (pos - b >= 0) and (res[pos] + 1 < res.get(pos - b, float('inf'))):\n",
    "                res[pos - b] = res[pos] + 1\n",
    "                q.append((-1, pos - b))\n",
    "            # print(q)\n",
    "\n",
    "        return res.get(x, -1)"
   ]
  },
  {
   "cell_type": "markdown",
   "metadata": {},
   "source": [
    "## Attempt 2 - Accepted"
   ]
  },
  {
   "cell_type": "code",
   "execution_count": null,
   "metadata": {},
   "outputs": [],
   "source": [
    "class Solution:\n",
    "    def minimumJumps(self, forbidden: List[int], a: int, b: int, x: int) -> int:\n",
    "        res = {0: 0}\n",
    "        forbidden = set(forbidden)\n",
    "        upper = 6000\n",
    "        q = [(0, 0)]\n",
    "        while q:\n",
    "            direction, pos = q.pop(0)\n",
    "            if (pos + a not in forbidden) and (pos + a <= upper):\n",
    "                q.append((1, pos + a))\n",
    "                if (res[pos] + 1 < res.get(pos + a, float('inf'))):\n",
    "                    res[pos + a] = res[pos] + 1\n",
    "                else:\n",
    "                    forbidden.add(pos + a) ## --> avoid repeating nodes\n",
    "            if (direction >= 0) and (pos - b not in forbidden) and (pos - b >= 0) and (res[pos] + 1 < res.get(pos - b, float('inf'))):\n",
    "                res[pos - b] = res[pos] + 1\n",
    "                q.append((-1, pos - b))\n",
    "        #     if pos == 29*10-98:\n",
    "        #         print(29*10-98)\n",
    "        #         print(29*11-98)\n",
    "        #         print(29*10-2*98)\n",
    "        #         print(direction)\n",
    "        #         print(q)\n",
    "        # print(res[29*10-2*98])\n",
    "\n",
    "        return res.get(x, -1)"
   ]
  },
  {
   "cell_type": "markdown",
   "metadata": {},
   "source": [
    "## Attempt 3 - Accepted"
   ]
  },
  {
   "cell_type": "code",
   "execution_count": null,
   "metadata": {},
   "outputs": [],
   "source": [
    "class Solution:\n",
    "    def minimumJumps(self, forbidden: List[int], a: int, b: int, x: int) -> int:\n",
    "        if x == 0:\n",
    "            return 0\n",
    "        \n",
    "        def gcd(a, b):\n",
    "            if a < b:\n",
    "                a, b = b, a\n",
    "            while a % b > 0:\n",
    "                a, b = b, a % b\n",
    "            return b\n",
    "            \n",
    "        \n",
    "        d = gcd(a, b)\n",
    "        if x % d > 0:\n",
    "            return -1\n",
    "        \n",
    "        k = 0\n",
    "        while (k * a - x) % b > 0:\n",
    "            k += 1\n",
    "        UPPER = 6000 #(k + b) * a\n",
    "        LOWER = -1\n",
    "        \n",
    "        forward = [float('inf') for _ in range(UPPER)]\n",
    "        backward = [float('inf') for _ in range(UPPER)]\n",
    "        forbidden = set(forbidden)\n",
    "        forward[0] = 0\n",
    "        backward[0] = 0\n",
    "        \n",
    "        q = [0]\n",
    "        while q:\n",
    "            curr = q.pop(0)\n",
    "            if curr == x:\n",
    "                break\n",
    "            if (curr + a < UPPER) and (curr + a not in forbidden):\n",
    "                if forward[curr + a] > min(forward[curr], backward[curr]) + 1:\n",
    "                    forward[curr + a] = min(forward[curr], backward[curr]) + 1\n",
    "                    q.append(curr + a)\n",
    "            if (curr - b > LOWER) and (curr - b not in forbidden):\n",
    "                if backward[curr - b] > forward[curr] + 1:\n",
    "                    backward[curr - b] = forward[curr] + 1\n",
    "                    q.append(curr - b)\n",
    "            # print(q)\n",
    "        \n",
    "        if forward[x] >= float('inf') and backward[x] >= float('inf'):\n",
    "            return -1\n",
    "        \n",
    "        return min(forward[x], backward[x])"
   ]
  },
  {
   "cell_type": "markdown",
   "metadata": {},
   "source": [
    "## Lessons and Thoughts\n",
    "- This is not entirely typical shortest path, since it is a bit 'path-dependent' on how the nodes are visited.\n",
    "- Why we can set the upper limit to be 6000?"
   ]
  }
 ],
 "metadata": {
  "kernelspec": {
   "display_name": "Python 3",
   "language": "python",
   "name": "python3"
  },
  "language_info": {
   "codemirror_mode": {
    "name": "ipython",
    "version": 3
   },
   "file_extension": ".py",
   "mimetype": "text/x-python",
   "name": "python",
   "nbconvert_exporter": "python",
   "pygments_lexer": "ipython3",
   "version": "3.6.5"
  }
 },
 "nbformat": 4,
 "nbformat_minor": 2
}
