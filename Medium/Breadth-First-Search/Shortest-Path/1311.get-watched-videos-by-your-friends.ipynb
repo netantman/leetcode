{
 "cells": [
  {
   "cell_type": "markdown",
   "metadata": {},
   "source": [
    "## Attempt 1 - Accepted"
   ]
  },
  {
   "cell_type": "code",
   "execution_count": null,
   "metadata": {},
   "outputs": [],
   "source": [
    "class Solution:\n",
    "    def watchedVideosByFriends(self, watchedVideos: List[List[str]], friends: List[List[int]], id: int, level: int) -> List[str]:\n",
    "        N=len(friends)\n",
    "        sp={n:float('inf') for n in range(N)}\n",
    "        sp[id]=0\n",
    "        q=[id]\n",
    "        while q:\n",
    "            head=q.pop()\n",
    "            for f in friends[head]:\n",
    "                if sp[f]>sp[head]+1:\n",
    "                    sp[f]=sp[head]+1\n",
    "                    q.append(f)\n",
    "        req=[k for k in sp.keys() if sp[k]==level]\n",
    "        res=dict()\n",
    "        for r in req:\n",
    "            for m in watchedVideos[r]:\n",
    "                res[m]=res.get(m,0)+1\n",
    "        res=[(v,k) for k,v in res.items()]\n",
    "        res=sorted(res, key=lambda x:(x[0],x[1]))\n",
    "        res=[r[1] for r in res]\n",
    "        return res"
   ]
  },
  {
   "cell_type": "markdown",
   "metadata": {},
   "source": [
    "## Lessons and Thoughts\n",
    "- After shortest path there is more things to do."
   ]
  }
 ],
 "metadata": {
  "kernelspec": {
   "display_name": "Python 3",
   "language": "python",
   "name": "python3"
  },
  "language_info": {
   "codemirror_mode": {
    "name": "ipython",
    "version": 3
   },
   "file_extension": ".py",
   "mimetype": "text/x-python",
   "name": "python",
   "nbconvert_exporter": "python",
   "pygments_lexer": "ipython3",
   "version": "3.7.3"
  }
 },
 "nbformat": 4,
 "nbformat_minor": 2
}
