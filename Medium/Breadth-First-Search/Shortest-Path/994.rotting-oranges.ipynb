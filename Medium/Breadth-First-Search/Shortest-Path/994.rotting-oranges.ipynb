{
 "cells": [
  {
   "cell_type": "markdown",
   "metadata": {},
   "source": [
    "## Attempt 1 - Wrong Answer"
   ]
  },
  {
   "cell_type": "code",
   "execution_count": null,
   "metadata": {},
   "outputs": [],
   "source": [
    "class Solution:\n",
    "    def orangesRotting(self, grid: List[List[int]]) -> int:\n",
    "        R,C=len(grid), len(grid[0])\n",
    "        res=0\n",
    "        visited=set()\n",
    "        \n",
    "        for r in range(R):\n",
    "            for c in range(C):\n",
    "                if grid[r][c]==2 and (r,c) not in visited:\n",
    "                    q=[(r,c)]\n",
    "                    cnt=0\n",
    "                    while q:\n",
    "                        nexxt=[]\n",
    "                        cnt+=1\n",
    "                        for node in q:\n",
    "                            visited.add(node)\n",
    "                            rr,cc=node\n",
    "                            if rr-1>=0 and grid[rr-1][cc]==1:\n",
    "                                grid[rr-1][cc]=2\n",
    "                                nexxt.append((rr-1,cc))\n",
    "                            if cc-1>=0 and grid[rr][cc-1]==1:\n",
    "                                grid[rr][cc-1]=2\n",
    "                                nexxt.append((rr,cc-1))\n",
    "                            if rr+1<R and grid[rr+1][cc]==1:\n",
    "                                grid[rr+1][cc]=2\n",
    "                                nexxt.append((rr+1,cc))\n",
    "                            if cc+1<C and grid[rr][cc+1]==1:\n",
    "                                grid[rr][cc+1]=2\n",
    "                                nexxt.append((rr,cc+1))\n",
    "                        q=nexxt\n",
    "                    res=max(res, cnt-1)\n",
    "        \n",
    "        for r in range(R):\n",
    "            for c in range(C):\n",
    "                if grid[r][c]==1:\n",
    "                    return -1\n",
    "        return res"
   ]
  },
  {
   "cell_type": "markdown",
   "metadata": {},
   "source": [
    "## Attempt 2 - Accepted"
   ]
  },
  {
   "cell_type": "code",
   "execution_count": null,
   "metadata": {},
   "outputs": [],
   "source": [
    "class Solution:\n",
    "    def orangesRotting(self, grid: List[List[int]]) -> int:\n",
    "        R,C=len(grid), len(grid[0])\n",
    "        res=[[float(\"inf\") if grid[r][c]>0 else 0 for c in range(C)] for r in range(R)]\n",
    "        \n",
    "        q=collections.deque([])\n",
    "        for r in range(R):\n",
    "            for c in range(C):\n",
    "                if grid[r][c]==2:\n",
    "                    q.append((r,c))\n",
    "                    res[r][c]=0\n",
    "        \n",
    "\n",
    "        while q:\n",
    "            head=q.popleft()\n",
    "            rr,cc=head\n",
    "            dist=res[rr][cc]\n",
    "            if rr-1>=0 and res[rr-1][cc]>dist+1:\n",
    "                res[rr-1][cc]=dist+1\n",
    "                q.append((rr-1,cc))\n",
    "            if cc-1>=0 and res[rr][cc-1]>dist+1:\n",
    "                res[rr][cc-1]=dist+1\n",
    "                q.append((rr,cc-1))\n",
    "            if rr+1<R and res[rr+1][cc]>dist+1:\n",
    "                res[rr+1][cc]=dist+1\n",
    "                q.append((rr+1,cc))\n",
    "            if cc+1<C and res[rr][cc+1]>dist+1:\n",
    "                res[rr][cc+1]=dist+1\n",
    "                q.append((rr,cc+1))\n",
    "        \n",
    "        res=max([max(row) for row in res])\n",
    "        if res<float(\"inf\"):\n",
    "            return res\n",
    "        else:\n",
    "            return -1\n",
    "                    "
   ]
  },
  {
   "cell_type": "markdown",
   "metadata": {},
   "source": [
    "## Attempt 3 - Accepted"
   ]
  },
  {
   "cell_type": "code",
   "execution_count": null,
   "metadata": {},
   "outputs": [],
   "source": [
    "class Solution:\n",
    "    def orangesRotting(self, grid: List[List[int]]) -> int:\n",
    "        R, C = len(grid), len(grid[0])\n",
    "        fresh = set()\n",
    "        q = []\n",
    "\n",
    "        for r in range(R):\n",
    "            for c in range(C):\n",
    "                if grid[r][c] == 2:\n",
    "                    q.append((r, c))\n",
    "                    continue\n",
    "                if grid[r][c] == 1:\n",
    "                    fresh.add((r, c))\n",
    "                    continue\n",
    "        \n",
    "        cnt = 0\n",
    "        while q:\n",
    "            new_q = []\n",
    "            for r, c in q:\n",
    "                if r - 1 >= 0 and grid[r - 1][c] == 1:\n",
    "                    new_q.append((r - 1, c))\n",
    "                    grid[r - 1][c] = 2\n",
    "                    fresh.remove((r - 1, c))\n",
    "                if r + 1 < R and grid[r + 1][c] == 1:\n",
    "                    new_q.append((r + 1, c))\n",
    "                    grid[r + 1][c] = 2\n",
    "                    fresh.remove((r + 1, c))\n",
    "                if c - 1 >= 0 and grid[r][c - 1] == 1:\n",
    "                    new_q.append((r, c - 1))\n",
    "                    grid[r][c - 1] = 2\n",
    "                    fresh.remove((r, c - 1))\n",
    "                if c + 1 < C and grid[r][c + 1] == 1:\n",
    "                    new_q.append((r, c + 1))\n",
    "                    grid[r][c + 1] = 2\n",
    "                    fresh.remove((r, c + 1))\n",
    "            \n",
    "            if len(new_q) > 0:\n",
    "                cnt += 1\n",
    "            q = new_q\n",
    "\n",
    "        if len(fresh) > 0:\n",
    "            return -1\n",
    "        \n",
    "        return cnt"
   ]
  },
  {
   "cell_type": "markdown",
   "metadata": {},
   "source": [
    "## Lessons and Thoughts\n",
    "- This is a multiple source shortest path problem, which is why Attempt 1 does not work!\n",
    "- Attempt 3 is cleaner: it is a level-traversal problem. The way that always work is to record the shortest paths of each node, but in this problem, there is a natural recording device, which is to flip it to 2."
   ]
  }
 ],
 "metadata": {
  "kernelspec": {
   "display_name": "Python 3 (ipykernel)",
   "language": "python",
   "name": "python3"
  },
  "language_info": {
   "codemirror_mode": {
    "name": "ipython",
    "version": 3
   },
   "file_extension": ".py",
   "mimetype": "text/x-python",
   "name": "python",
   "nbconvert_exporter": "python",
   "pygments_lexer": "ipython3",
   "version": "3.9.7"
  }
 },
 "nbformat": 4,
 "nbformat_minor": 2
}
