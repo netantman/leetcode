{
 "cells": [
  {
   "cell_type": "markdown",
   "metadata": {},
   "source": [
    "## Attempt 1 - Accepted"
   ]
  },
  {
   "cell_type": "code",
   "execution_count": null,
   "metadata": {},
   "outputs": [],
   "source": [
    "class Solution:\n",
    "    def maxDistance(self, grid: List[List[int]]) -> int:\n",
    "        R,C=len(grid), len(grid[0])\n",
    "        res=[[float('inf') for c in range(C)] for r in range(R)]\n",
    "        q=[]\n",
    "        for r in range(R):\n",
    "            for c in range(C):\n",
    "                if grid[r][c]>0:\n",
    "                    res[r][c]=0\n",
    "                    q.append((r,c))\n",
    "        while q:\n",
    "            r,c=q.pop(0)\n",
    "            this=res[r][c]\n",
    "            if r-1>=0 and res[r-1][c]>this+1:\n",
    "                res[r-1][c]=this+1\n",
    "                q.append((r-1,c))\n",
    "            if c-1>=0 and res[r][c-1]>this+1:\n",
    "                res[r][c-1]=this+1\n",
    "                q.append((r,c-1))\n",
    "            if r+1<R and res[r+1][c]>this+1:\n",
    "                res[r+1][c]=this+1\n",
    "                q.append((r+1,c))\n",
    "            if c+1<C and res[r][c+1]>this+1:\n",
    "                res[r][c+1]=this+1\n",
    "                q.append((r,c+1))\n",
    "        res=max([max(r) for r in res])\n",
    "        if res>0 and res<float('inf'):\n",
    "            return res\n",
    "        else:\n",
    "            return -1"
   ]
  },
  {
   "cell_type": "markdown",
   "metadata": {},
   "source": [
    "## Lessons and Thoughts\n",
    "- The usual shortest path problem. The key is to recognize that the shortest path will be along manhantten distance line if you allow each cell to go all neighbors."
   ]
  }
 ],
 "metadata": {
  "kernelspec": {
   "display_name": "Python 3",
   "language": "python",
   "name": "python3"
  },
  "language_info": {
   "codemirror_mode": {
    "name": "ipython",
    "version": 3
   },
   "file_extension": ".py",
   "mimetype": "text/x-python",
   "name": "python",
   "nbconvert_exporter": "python",
   "pygments_lexer": "ipython3",
   "version": "3.7.3"
  }
 },
 "nbformat": 4,
 "nbformat_minor": 2
}
