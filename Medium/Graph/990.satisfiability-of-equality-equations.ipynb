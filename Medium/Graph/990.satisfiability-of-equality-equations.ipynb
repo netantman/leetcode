{
 "cells": [
  {
   "cell_type": "markdown",
   "metadata": {},
   "source": [
    "## Attempt 1 - Accepted"
   ]
  },
  {
   "cell_type": "code",
   "execution_count": null,
   "metadata": {},
   "outputs": [],
   "source": [
    "class Solution:\n",
    "    def __init__(self):\n",
    "        self.cache=[idx for idx in range(26)]\n",
    "    \n",
    "    def find(self,x):\n",
    "        if x!=self.cache[x]:\n",
    "            self.cache[x]=self.find(self.cache[x])\n",
    "        return self.cache[x]\n",
    "    \n",
    "    def union(self,x,y):\n",
    "        xr=self.find(x)\n",
    "        yr=self.find(y)\n",
    "        self.cache[xr]=yr\n",
    "    \n",
    "    \n",
    "    def equationsPossible(self, equations: List[str]) -> bool:\n",
    "        cache=dict()\n",
    "        for e in equations:\n",
    "            if \"==\" in e:\n",
    "                self.union(ord(e[0])-ord(\"a\"), ord(e[-1])-ord(\"a\"))\n",
    "        \n",
    "        for e in equations:\n",
    "            if \"!=\" in e:\n",
    "                if self.find(ord(e[0])-ord(\"a\"))==self.find(ord(e[-1])-ord(\"a\")):\n",
    "                    return False\n",
    "        return True"
   ]
  },
  {
   "cell_type": "markdown",
   "metadata": {},
   "source": [
    "## Lessons and Thoughts\n",
    "- Application of union find."
   ]
  }
 ],
 "metadata": {
  "kernelspec": {
   "display_name": "Python 3",
   "language": "python",
   "name": "python3"
  },
  "language_info": {
   "codemirror_mode": {
    "name": "ipython",
    "version": 3
   },
   "file_extension": ".py",
   "mimetype": "text/x-python",
   "name": "python",
   "nbconvert_exporter": "python",
   "pygments_lexer": "ipython3",
   "version": "3.7.3"
  }
 },
 "nbformat": 4,
 "nbformat_minor": 2
}
