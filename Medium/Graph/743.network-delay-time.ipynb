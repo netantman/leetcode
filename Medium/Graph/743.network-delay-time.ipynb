{
 "cells": [
  {
   "cell_type": "markdown",
   "metadata": {},
   "source": [
    "## Attempt 1 - Wrong Answer"
   ]
  },
  {
   "cell_type": "code",
   "execution_count": null,
   "metadata": {},
   "outputs": [],
   "source": [
    "class Solution:\n",
    "    def networkDelayTime(self, times: List[List[int]], N: int, K: int) -> int:\n",
    "        neighbors=dict()\n",
    "        for t in times:\n",
    "            start,end,time=t[0],t[1],t[2]\n",
    "            neighbors[start]=neighbors.get(start,[])+[[time,end]]\n",
    "        visited=set([K])\n",
    "        q=neighbors.get(K,[])\n",
    "        heapq.heapify(q)\n",
    "        total=0\n",
    "        while len(q)>0:\n",
    "            head=heapq.heappop(q)  ## --> it is possible that the end of head is already visited before\n",
    "            curr_time=head[0]\n",
    "            total+=curr_time\n",
    "            visited.add(head[1])\n",
    "            if len(visited)==N:\n",
    "                return total\n",
    "            for pair in q:\n",
    "                pair[0]-=curr_time ## --> changing the heapq while looping over it does not work \n",
    "            nexxt=neighbors.get(head[1],[])\n",
    "            for n in nexxt:\n",
    "                if n[1] not in visited:\n",
    "                    heapq.heappush(q,n)\n",
    "        return -1"
   ]
  },
  {
   "cell_type": "markdown",
   "metadata": {},
   "source": [
    "## Attempt 2 - Accepted"
   ]
  },
  {
   "cell_type": "code",
   "execution_count": null,
   "metadata": {},
   "outputs": [],
   "source": [
    "class Solution:\n",
    "    def networkDelayTime(self, times: List[List[int]], N: int, K: int) -> int:\n",
    "        neighbors=dict()\n",
    "        for t in times:\n",
    "            start,end,time=t[0],t[1],t[2]\n",
    "            neighbors[start]=neighbors.get(start,[])+[[time,end]]\n",
    "        visited=set([K])\n",
    "        q=neighbors.get(K,[])\n",
    "        heapq.heapify(q)\n",
    "        total=0\n",
    "        while len(q)>0:\n",
    "            head=heapq.heappop(q)\n",
    "            if head[1] in visited:\n",
    "                continue\n",
    "            curr_time=head[0]\n",
    "            total+=curr_time\n",
    "            visited.add(head[1])\n",
    "            if len(visited)==N:\n",
    "                return total\n",
    "            new_q=[]\n",
    "            for pair in q:\n",
    "                new_q.append([pair[0]-curr_time, pair[1]])\n",
    "            q=new_q\n",
    "            heapq.heapify(q)\n",
    "            nexxt=neighbors.get(head[1],[])\n",
    "            for n in nexxt:\n",
    "                if n[1] not in visited:\n",
    "                    heapq.heappush(q,n)\n",
    "        if len(visited)==N:\n",
    "            return total\n",
    "        else:\n",
    "            return -1"
   ]
  },
  {
   "cell_type": "markdown",
   "metadata": {},
   "source": [
    "## Lessons and Thoughts\n",
    "- Well finally you get to implement a classic algo that you learned from Optimization II.\n",
    "- Changing the thing you are looping over is always a bad idea."
   ]
  }
 ],
 "metadata": {
  "kernelspec": {
   "display_name": "Python 3",
   "language": "python",
   "name": "python3"
  },
  "language_info": {
   "codemirror_mode": {
    "name": "ipython",
    "version": 3
   },
   "file_extension": ".py",
   "mimetype": "text/x-python",
   "name": "python",
   "nbconvert_exporter": "python",
   "pygments_lexer": "ipython3",
   "version": "3.7.3"
  }
 },
 "nbformat": 4,
 "nbformat_minor": 2
}
