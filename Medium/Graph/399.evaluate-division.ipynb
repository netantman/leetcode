{
 "cells": [
  {
   "cell_type": "markdown",
   "metadata": {},
   "source": [
    "## Attempt 1 - Wrong Answer"
   ]
  },
  {
   "cell_type": "code",
   "execution_count": null,
   "metadata": {},
   "outputs": [],
   "source": [
    "class Solution:\n",
    "    def calcEquation(self, equations: List[List[str]], values: List[float], queries: List[List[str]]) -> List[float]:\n",
    "        edges, nodes=dict(), set()\n",
    "        for e, v in zip(equations, values):\n",
    "            edges[tuple(e)]=v\n",
    "            edges[tuple(e[::-1])]=1/v\n",
    "            nodes.add(e[0])\n",
    "            nodes.add(e[1])\n",
    "        for n in nodes:\n",
    "            edges[(n,n)]=1.0\n",
    "        \n",
    "        res=[]\n",
    "        for q in queries:\n",
    "            if q[0] not in nodes or q[1] not in nodes:\n",
    "                res.append(-1.0)\n",
    "            elif tuple(q) in edges:\n",
    "                res.append(edges[tuple(q)])\n",
    "            elif tuple(q[::-1]) in edges:\n",
    "                res.append(edges[tuple(q[::-1])])\n",
    "            else:\n",
    "                queue=[e for e in edges if e[0]==q[0]]\n",
    "                while len(queue)>0:\n",
    "                    head=queue.pop(0)\n",
    "                    to_add=[e for e in edges if e[0]==head[1]]\n",
    "                    for e in to_add:\n",
    "                        if (head[0], e[1]) not in edges:\n",
    "                            edges[(head[0], e[1])]=edges[(head[0], head[1])]*edges[(e[0], e[1])]\n",
    "                            queue.append(e)\n",
    "                            edges[(q[0], e[1])]=edges[(q[0], head[0])]*edges[(head[0], e[1])]\n",
    "                        if e[1]==q[1]:\n",
    "                            break\n",
    "                if tuple(q) not in edges:\n",
    "                    res.append(-1.0)\n",
    "                else:\n",
    "                    res.append(edges[tuple(q)])\n",
    "        return res"
   ]
  },
  {
   "cell_type": "markdown",
   "metadata": {},
   "source": [
    "## Attempt 2 - Accepted"
   ]
  },
  {
   "cell_type": "code",
   "execution_count": null,
   "metadata": {},
   "outputs": [],
   "source": [
    "class Solution:\n",
    "    def calcEquation(self, equations: List[List[str]], values: List[float], queries: List[List[str]]) -> List[float]:\n",
    "        edges, nodes=dict(), set()\n",
    "        for e, v in zip(equations, values):\n",
    "            edges[tuple(e)]=v\n",
    "            edges[tuple(e[::-1])]=1/v\n",
    "            nodes.add(e[0])\n",
    "            nodes.add(e[1])\n",
    "        for n in nodes:\n",
    "            edges[(n,n)]=1.0\n",
    "        \n",
    "        res=[]\n",
    "        for q in queries:\n",
    "            if q[0] not in nodes or q[1] not in nodes:\n",
    "                res.append(-1.0)\n",
    "            elif tuple(q) in edges:\n",
    "                res.append(edges[tuple(q)])\n",
    "            elif tuple(q[::-1]) in edges:\n",
    "                res.append(edges[tuple(q[::-1])])\n",
    "            else:\n",
    "                queue=[e for e in edges if e[0]==q[0]]\n",
    "                while len(queue)>0:\n",
    "                    head=queue.pop(0)\n",
    "                    to_add=[e for e in edges if e[0]==head[1]]\n",
    "                    for e in to_add:\n",
    "                        if (head[0], e[1]) not in edges:\n",
    "                            edges[(head[0], e[1])]=edges[(head[0], head[1])]*edges[(e[0], e[1])]\n",
    "                            edges[(e[1], head[0])]=1/edges[(head[0], e[1])]  ## --> it is more efficient here since you have the reverse for free; but not sure why without this it produced wrong answer...\n",
    "                            queue.append(e)\n",
    "                            edges[(q[0], e[1])]=edges[(q[0], head[0])]*edges[(head[0], e[1])]\n",
    "                            edges[(e[1], q[0])]=1/edges[(q[0], e[1])]\n",
    "                        if e[1]==q[1]:\n",
    "                            break\n",
    "                if tuple(q) not in edges:\n",
    "                    res.append(-1.0)\n",
    "                else:\n",
    "                    res.append(edges[tuple(q)])\n",
    "        return res"
   ]
  },
  {
   "cell_type": "markdown",
   "metadata": {},
   "source": [
    "## Lessons and Thoughts\n",
    "- BFS traversal of graphs"
   ]
  }
 ],
 "metadata": {
  "kernelspec": {
   "display_name": "Python 3",
   "language": "python",
   "name": "python3"
  },
  "language_info": {
   "codemirror_mode": {
    "name": "ipython",
    "version": 3
   },
   "file_extension": ".py",
   "mimetype": "text/x-python",
   "name": "python",
   "nbconvert_exporter": "python",
   "pygments_lexer": "ipython3",
   "version": "3.7.3"
  }
 },
 "nbformat": 4,
 "nbformat_minor": 2
}
