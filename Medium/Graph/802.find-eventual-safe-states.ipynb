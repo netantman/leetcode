{
 "cells": [
  {
   "cell_type": "markdown",
   "metadata": {},
   "source": [
    "## Attempt 1 - Accepted"
   ]
  },
  {
   "cell_type": "code",
   "execution_count": null,
   "metadata": {},
   "outputs": [],
   "source": [
    "class Solution:\n",
    "    def __init__(self):\n",
    "        self.record=[]\n",
    "    def eventualSafeNodes(self, graph: List[List[int]]) -> List[int]:\n",
    "        N=len(graph)\n",
    "        self.record=[0 for _ in graph]\n",
    "        def dfs(node):\n",
    "            neighbors=graph[node]\n",
    "            for n in neighbors:\n",
    "                if self.record[n]<0:\n",
    "                    break\n",
    "                elif self.record[n]==0:\n",
    "                    self.record[n]=1\n",
    "                    dfs(n)\n",
    "                    if self.record[n]<0:\n",
    "                        break\n",
    "                elif self.record[n]==1:\n",
    "                    break\n",
    "                else:\n",
    "                    continue\n",
    "            else:\n",
    "                self.record[node]=2\n",
    "                return\n",
    "            self.record[node]=-1\n",
    "            return\n",
    "        \n",
    "        res=[]\n",
    "        for node in range(N):\n",
    "            if self.record[node]==0:\n",
    "                dfs(node)\n",
    "            if self.record[node]==2:\n",
    "                res.append(node)\n",
    "        return res"
   ]
  },
  {
   "cell_type": "markdown",
   "metadata": {},
   "source": [
    "## Lessons and Thoughts\n",
    "- For DFS on graphs to find cycles, you need to differentiate between 'visited and done' and 'visiting'. \n",
    "- Note that due to the virtue of DFS, anything that is 'visiting' must be on your path. Look at also Problems 207 and 210"
   ]
  }
 ],
 "metadata": {
  "kernelspec": {
   "display_name": "Python 3",
   "language": "python",
   "name": "python3"
  },
  "language_info": {
   "codemirror_mode": {
    "name": "ipython",
    "version": 3
   },
   "file_extension": ".py",
   "mimetype": "text/x-python",
   "name": "python",
   "nbconvert_exporter": "python",
   "pygments_lexer": "ipython3",
   "version": "3.7.3"
  }
 },
 "nbformat": 4,
 "nbformat_minor": 2
}
