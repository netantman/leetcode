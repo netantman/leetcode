{
 "cells": [
  {
   "cell_type": "markdown",
   "metadata": {},
   "source": [
    "## Attempt 1 - Accepted"
   ]
  },
  {
   "cell_type": "code",
   "execution_count": null,
   "metadata": {},
   "outputs": [],
   "source": [
    "class Solution:\n",
    "    def validTree(self, n: int, edges: List[List[int]]) -> bool:\n",
    "        neighbors = defaultdict(set)\n",
    "        for edge in edges:\n",
    "            neighbors[edge[0]].add(edge[1])\n",
    "            neighbors[edge[1]].add(edge[0])\n",
    "        # print(neighbors)\n",
    "        \n",
    "        paths = [False for _ in range(n)]\n",
    "        paths[0] = True\n",
    "        q = [0]\n",
    "        while q:\n",
    "            curr = q.pop(0)\n",
    "            # print(curr)\n",
    "            curr_n = neighbors[curr]\n",
    "            for n in curr_n:\n",
    "                if paths[n]:\n",
    "                    return False\n",
    "                paths[n] = True\n",
    "                neighbors[n].remove(curr)\n",
    "                q.append(n)\n",
    "            # print(neighbors)\n",
    "        if not all(paths):\n",
    "            return False\n",
    "        return True"
   ]
  },
  {
   "cell_type": "markdown",
   "metadata": {},
   "source": [
    "## Lessons and Thoughts\n",
    "- The way to make sure any edge is not traversed twice"
   ]
  }
 ],
 "metadata": {
  "kernelspec": {
   "display_name": "Python 3",
   "language": "python",
   "name": "python3"
  },
  "language_info": {
   "codemirror_mode": {
    "name": "ipython",
    "version": 3
   },
   "file_extension": ".py",
   "mimetype": "text/x-python",
   "name": "python",
   "nbconvert_exporter": "python",
   "pygments_lexer": "ipython3",
   "version": "3.7.3"
  }
 },
 "nbformat": 4,
 "nbformat_minor": 2
}
