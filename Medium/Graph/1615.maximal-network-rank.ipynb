{
 "cells": [
  {
   "cell_type": "markdown",
   "metadata": {},
   "source": [
    "## Attempt 1 - Accepted"
   ]
  },
  {
   "cell_type": "code",
   "execution_count": null,
   "metadata": {},
   "outputs": [],
   "source": [
    "class Solution:\n",
    "    def maximalNetworkRank(self, n: int, roads: List[List[int]]) -> int:\n",
    "        degrees = dict()\n",
    "        for r in roads:\n",
    "            degrees[r[0]] = degrees.get(r[0], 0) + 1\n",
    "            degrees[r[1]] = degrees.get(r[1], 0) + 1\n",
    "        \n",
    "        res = 0\n",
    "        for i in range(n):\n",
    "            for j in range(i + 1, n):\n",
    "                if [i, j] in roads or [j, i] in roads:\n",
    "                    res = max(res, degrees.get(i, 0) + degrees.get(j, 0) - 1)\n",
    "                else:\n",
    "                    res = max(res, degrees.get(i, 0) + degrees.get(j, 0))\n",
    "        return res"
   ]
  },
  {
   "cell_type": "markdown",
   "metadata": {},
   "source": [
    "## Lessons and Thoughts\n",
    "- Straightforward - just remember to account for the double counting of edge that connect any pair."
   ]
  }
 ],
 "metadata": {
  "kernelspec": {
   "display_name": "Python 3",
   "language": "python",
   "name": "python3"
  },
  "language_info": {
   "codemirror_mode": {
    "name": "ipython",
    "version": 3
   },
   "file_extension": ".py",
   "mimetype": "text/x-python",
   "name": "python",
   "nbconvert_exporter": "python",
   "pygments_lexer": "ipython3",
   "version": "3.7.3"
  }
 },
 "nbformat": 4,
 "nbformat_minor": 2
}
