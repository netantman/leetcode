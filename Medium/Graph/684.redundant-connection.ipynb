{
 "cells": [
  {
   "cell_type": "markdown",
   "metadata": {},
   "source": [
    "## Attempt 1 - Wrong Answer"
   ]
  },
  {
   "cell_type": "markdown",
   "metadata": {},
   "source": [
    "Use a `list` to track all nodes a given node is connected to so far - very cumbersome."
   ]
  },
  {
   "cell_type": "code",
   "execution_count": null,
   "metadata": {},
   "outputs": [],
   "source": [
    "class Solution:\n",
    "    def findRedundantConnection(self, edges: List[List[int]]) -> List[int]:\n",
    "        connected=dict()\n",
    "        for edge in edges:\n",
    "            nodes=connected.get(edge[0], [])\n",
    "            if edge[1] in nodes:\n",
    "                return edge\n",
    "            for n in nodes:\n",
    "                connected[n]=connected.get(n,[])+[edge[1]]\n",
    "            connected[edge[0]]=connected.get(edge[0], [])+[edge[1]]\n",
    "            connected[edge[0]]+=connected.get(edge[1], [])\n",
    "            \n",
    "            nodes=connected.get(edge[1], [])\n",
    "            if edge[0] in nodes:\n",
    "                return edge\n",
    "            for n in nodes:\n",
    "                connected[n]=connected.get(n,[])+[edge[0]]\n",
    "            connected[edge[1]]=connected.get(edge[1], [])+[edge[0]]\n",
    "            connected[edge[1]]+=connected.get(edge[0], [])"
   ]
  },
  {
   "cell_type": "markdown",
   "metadata": {},
   "source": [
    "## Attempt 2 - Accepted"
   ]
  },
  {
   "cell_type": "code",
   "execution_count": null,
   "metadata": {},
   "outputs": [],
   "source": [
    "class Solution:\n",
    "    def findRedundantConnection(self, edges: List[List[int]]) -> List[int]:\n",
    "        def find_comp(node, components):\n",
    "            for idx, comp in enumerate(components):\n",
    "                if node in comp:\n",
    "                    return idx\n",
    "            return None\n",
    "        \n",
    "        components=[]\n",
    "        for edge in edges:\n",
    "            e0, e1=edge[0], edge[1]\n",
    "            idx0=find_comp(e0, components)\n",
    "            idx1=find_comp(e1, components)\n",
    "            if idx0 is None and idx1 is None:\n",
    "                new=set([e0, e1])\n",
    "                components.append(new)\n",
    "            elif idx0==idx1:\n",
    "                return edge\n",
    "            elif idx0 is None:\n",
    "                components[idx1].add(e0)\n",
    "            elif idx1 is None:\n",
    "                components[idx0].add(e1)\n",
    "            else:\n",
    "                components[idx0]=components[idx0].union(components[idx1])\n",
    "                components.pop(idx1)"
   ]
  },
  {
   "cell_type": "markdown",
   "metadata": {},
   "source": [
    "## Lessons and Thoughts\n",
    "- This is called a union find problem in CS."
   ]
  }
 ],
 "metadata": {
  "kernelspec": {
   "display_name": "Python 3",
   "language": "python",
   "name": "python3"
  },
  "language_info": {
   "codemirror_mode": {
    "name": "ipython",
    "version": 3
   },
   "file_extension": ".py",
   "mimetype": "text/x-python",
   "name": "python",
   "nbconvert_exporter": "python",
   "pygments_lexer": "ipython3",
   "version": "3.7.3"
  }
 },
 "nbformat": 4,
 "nbformat_minor": 2
}
