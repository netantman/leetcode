{
 "cells": [
  {
   "cell_type": "markdown",
   "metadata": {},
   "source": [
    "## Attempt 1 - Wrong Answer"
   ]
  },
  {
   "cell_type": "code",
   "execution_count": null,
   "metadata": {},
   "outputs": [],
   "source": [
    "class Solution:\n",
    "    def accountsMerge(self, accounts: List[List[str]]) -> List[List[str]]:\n",
    "        def find(email, record):\n",
    "            L=len(record)\n",
    "            for idx in range(L):\n",
    "                curr=record[idx]\n",
    "                if email in curr[1]:\n",
    "                    return idx\n",
    "            return None\n",
    "                    \n",
    "        \n",
    "        record=[]\n",
    "        acc=accounts[0]\n",
    "        record.append([acc[0], set(acc[1:])])\n",
    "        for acc in accounts[1:]:\n",
    "            name=acc[0]  ## --> does not handle the case where there is only one email address in the raw account\n",
    "            for e1 in acc[1:]:\n",
    "                for e2 in acc[1:]:\n",
    "                    if e1==e2:\n",
    "                        continue\n",
    "                    else:\n",
    "                        idx1=find(e1, record)\n",
    "                        idx2=find(e2, record)\n",
    "                        if idx1 is None and idx2 is None:\n",
    "                            record.append([name, set([e1, e2])])\n",
    "                        elif idx1 is None:\n",
    "                            record[idx2][1].add(e1)\n",
    "                        elif idx2 is None:\n",
    "                            record[idx1][1].add(e2)\n",
    "                        else:\n",
    "                            if idx1!=idx2:\n",
    "                                record[idx1][1]=record[idx1][1].union(record[idx2][1])\n",
    "                                record=record[:idx2]+record[idx2+1:]\n",
    "        res=[]\n",
    "        for r in record:\n",
    "            res.append([r[0]]+sorted(list(r[1])))\n",
    "        return res"
   ]
  },
  {
   "cell_type": "markdown",
   "metadata": {},
   "source": [
    "## Attempt 2 - Accepted"
   ]
  },
  {
   "cell_type": "code",
   "execution_count": null,
   "metadata": {},
   "outputs": [],
   "source": [
    "class Solution:\n",
    "    def accountsMerge(self, accounts: List[List[str]]) -> List[List[str]]:\n",
    "        def find(email, record):\n",
    "            L=len(record)\n",
    "            for idx in range(L):\n",
    "                curr=record[idx]\n",
    "                if email in curr[1]:\n",
    "                    return idx\n",
    "            return None\n",
    "                    \n",
    "        \n",
    "        record=[]\n",
    "        acc=accounts[0]\n",
    "        record.append([acc[0], set(acc[1:])])\n",
    "        for acc in accounts[1:]:\n",
    "            name=acc[0]\n",
    "            if len(acc[1:])==1:\n",
    "                e=acc[1]\n",
    "                idx=find(e, record)\n",
    "                if idx is None:\n",
    "                    record.append([name, set([e])])\n",
    "                else:\n",
    "                    record[idx][1].add(e)\n",
    "            else:\n",
    "                for e1 in acc[1:]:\n",
    "                    for e2 in acc[1:]:\n",
    "                        if e1==e2:\n",
    "                            continue\n",
    "                        else:\n",
    "                            idx1=find(e1, record)\n",
    "                            idx2=find(e2, record)\n",
    "                            if idx1 is None and idx2 is None:\n",
    "                                record.append([name, set([e1, e2])])\n",
    "                            elif idx1 is None:\n",
    "                                record[idx2][1].add(e1)\n",
    "                            elif idx2 is None:\n",
    "                                record[idx1][1].add(e2)\n",
    "                            else:\n",
    "                                if idx1!=idx2:\n",
    "                                    record[idx1][1]=record[idx1][1].union(record[idx2][1])\n",
    "                                    record=record[:idx2]+record[idx2+1:]\n",
    "        res=[]\n",
    "        for r in record:\n",
    "            res.append([r[0]]+sorted(list(r[1])))\n",
    "        return res"
   ]
  },
  {
   "cell_type": "markdown",
   "metadata": {},
   "source": [
    "## Lessons and Thoughts\n",
    "- Similar to Problem 684, implement union find.\n",
    "- It is also labeled DFS on leetcode"
   ]
  }
 ],
 "metadata": {
  "kernelspec": {
   "display_name": "Python 3",
   "language": "python",
   "name": "python3"
  },
  "language_info": {
   "codemirror_mode": {
    "name": "ipython",
    "version": 3
   },
   "file_extension": ".py",
   "mimetype": "text/x-python",
   "name": "python",
   "nbconvert_exporter": "python",
   "pygments_lexer": "ipython3",
   "version": "3.7.3"
  }
 },
 "nbformat": 4,
 "nbformat_minor": 2
}
