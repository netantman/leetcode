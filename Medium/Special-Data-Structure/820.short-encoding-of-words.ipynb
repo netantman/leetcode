{
 "cells": [
  {
   "cell_type": "markdown",
   "metadata": {},
   "source": [
    "## Attempt 1 - Accepted"
   ]
  },
  {
   "cell_type": "code",
   "execution_count": null,
   "metadata": {},
   "outputs": [],
   "source": [
    "class TrieNode:\n",
    "    def __init__(self):\n",
    "        self.children=[None for _ in range(26)]\n",
    "        self.word=\"\"  ## --> due to the application in this Problem, we do not need to care if a non-leaf node is word\n",
    "class Solution:\n",
    "    def minimumLengthEncoding(self, words: List[str]) -> int:\n",
    "        root=TrieNode()\n",
    "        for w in words:\n",
    "            curr=root\n",
    "            for idx, c in enumerate(w[::-1]):\n",
    "                curr.word=w[::-1][:idx]\n",
    "                if curr.children[ord(c)-ord(\"a\")] is None: ## --> you need to check this: not every word needs to establish new ones!\n",
    "                    curr.children[ord(c)-ord(\"a\")]=TrieNode()\n",
    "                curr=curr.children[ord(c)-ord(\"a\")]\n",
    "            curr.word=w[::-1]\n",
    "        res=0\n",
    "        cnt=0\n",
    "        q=[root]\n",
    "        while len(q)>0:\n",
    "            head=q.pop(0)\n",
    "            children=[c for c in head.children if c is not None]\n",
    "            if len(children)>0:\n",
    "                q+=children\n",
    "            else:\n",
    "                res+=len(head.word)\n",
    "                cnt+=1\n",
    "        return res+cnt"
   ]
  },
  {
   "cell_type": "markdown",
   "metadata": {},
   "source": [
    "## Lessons and Thoughts\n",
    "- Due to the application in this Problem, we do not need to care if a non-leaf node is word.\n",
    "- When going down to children, you need to check if a child already exists first."
   ]
  }
 ],
 "metadata": {
  "kernelspec": {
   "display_name": "Python 3",
   "language": "python",
   "name": "python3"
  },
  "language_info": {
   "codemirror_mode": {
    "name": "ipython",
    "version": 3
   },
   "file_extension": ".py",
   "mimetype": "text/x-python",
   "name": "python",
   "nbconvert_exporter": "python",
   "pygments_lexer": "ipython3",
   "version": "3.7.3"
  }
 },
 "nbformat": 4,
 "nbformat_minor": 2
}
