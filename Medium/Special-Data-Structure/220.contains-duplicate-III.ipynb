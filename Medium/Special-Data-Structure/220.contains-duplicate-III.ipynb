{
 "cells": [
  {
   "cell_type": "markdown",
   "metadata": {},
   "source": [
    "## Attempt 1 - Accepted"
   ]
  },
  {
   "cell_type": "code",
   "execution_count": null,
   "metadata": {},
   "outputs": [],
   "source": [
    "import collections\n",
    "\n",
    "class Solution:\n",
    "    def containsNearbyAlmostDuplicate(self, nums: List[int], k: int, t: int) -> bool:\n",
    "        if k<1 or t<0:\n",
    "            return False\n",
    "\n",
    "        cache=collections.OrderedDict()\n",
    "        for n in nums:\n",
    "            key=n if t==0 else n//t   ## --> note the edge case of t==0!\n",
    "            for m in (cache.get(key-1), cache.get(key), cache.get(key+1)):\n",
    "                if m is not None and abs(n-m)<=t:\n",
    "                    return True\n",
    "            if len(cache)==k:\n",
    "                cache.popitem(False)\n",
    "            cache[key]=n\n",
    "        return False"
   ]
  },
  {
   "cell_type": "markdown",
   "metadata": {},
   "source": [
    "## Lessons and Thoughts\n",
    "- The above solution is from the [web](https://blog.csdn.net/qq_20141867/article/details/82024222). But there are several tricks that worth picking up\n",
    "    - Use `OrderDict` to maintain a hash table that contain a designated number of elements.\n",
    "    - `popitem` in `OrderDict`\n",
    "    - Use `.get()` to avoid key error, and further a tuple of different cases to make a larger list to iterate over."
   ]
  }
 ],
 "metadata": {
  "kernelspec": {
   "display_name": "Python 3",
   "language": "python",
   "name": "python3"
  },
  "language_info": {
   "codemirror_mode": {
    "name": "ipython",
    "version": 3
   },
   "file_extension": ".py",
   "mimetype": "text/x-python",
   "name": "python",
   "nbconvert_exporter": "python",
   "pygments_lexer": "ipython3",
   "version": "3.7.3"
  }
 },
 "nbformat": 4,
 "nbformat_minor": 2
}
