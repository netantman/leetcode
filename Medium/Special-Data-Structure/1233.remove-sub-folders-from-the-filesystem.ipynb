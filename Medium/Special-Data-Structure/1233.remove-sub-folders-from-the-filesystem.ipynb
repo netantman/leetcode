{
 "cells": [
  {
   "cell_type": "markdown",
   "metadata": {},
   "source": [
    "## Attempt 1 - Accepted"
   ]
  },
  {
   "cell_type": "code",
   "execution_count": null,
   "metadata": {},
   "outputs": [],
   "source": [
    "class TrieNode:\n",
    "    def __init__(self):\n",
    "        self.children=dict()\n",
    "        self.is_word=False\n",
    "\n",
    "class Solution:\n",
    "    def removeSubfolders(self, folder: List[str]) -> List[str]:\n",
    "        folder=sorted(folder, key=lambda x:len(x))\n",
    "        root=TrieNode()\n",
    "        res=[]\n",
    "        for f in folder:\n",
    "            splitted=f.split(\"/\")\n",
    "            L=len(splitted)\n",
    "            curr=root\n",
    "            is_sub=False\n",
    "            for idx in range(1,L):\n",
    "                c=splitted[idx]\n",
    "                if curr.is_word:\n",
    "                    is_sub=True\n",
    "                if c in curr.children:\n",
    "                    curr=curr.children[c]\n",
    "                else:\n",
    "                    new=TrieNode()\n",
    "                    curr.children[c]=new\n",
    "                    curr=curr.children[c]\n",
    "            curr.is_word=True\n",
    "            if not is_sub:\n",
    "                res.append(f)\n",
    "        return res"
   ]
  },
  {
   "cell_type": "markdown",
   "metadata": {},
   "source": [
    "## Lessons and Thought\n",
    "- A typical Trie problem"
   ]
  }
 ],
 "metadata": {
  "kernelspec": {
   "display_name": "Python 3",
   "language": "python",
   "name": "python3"
  },
  "language_info": {
   "codemirror_mode": {
    "name": "ipython",
    "version": 3
   },
   "file_extension": ".py",
   "mimetype": "text/x-python",
   "name": "python",
   "nbconvert_exporter": "python",
   "pygments_lexer": "ipython3",
   "version": "3.7.3"
  }
 },
 "nbformat": 4,
 "nbformat_minor": 2
}
