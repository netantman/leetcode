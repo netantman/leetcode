{
 "cells": [
  {
   "cell_type": "markdown",
   "metadata": {},
   "source": [
    "## Attempt 1 - Wrong Answer"
   ]
  },
  {
   "cell_type": "code",
   "execution_count": null,
   "metadata": {},
   "outputs": [],
   "source": [
    "class TrieNode:\n",
    "    def __init__(self):\n",
    "        self.vals=[]\n",
    "        self.children=[None for _ in range(26)]\n",
    "\n",
    "class Solution:\n",
    "    def suggestedProducts(self, products: List[str], searchWord: str) -> List[List[str]]:\n",
    "        root=TrieNode()\n",
    "        for prod in products:\n",
    "            curr=root\n",
    "            for c in prod:\n",
    "                if not curr.children[ord(c)-ord(\"a\")]:\n",
    "                    curr.children[ord(c)-ord(\"a\")]=TrieNode()\n",
    "                curr=curr.children[ord(c)-ord(\"a\")]\n",
    "                curr.vals.append(prod)\n",
    "                curr.vals=sorted(curr.vals)\n",
    "        \n",
    "        curr=root\n",
    "        res=[]\n",
    "        for c in searchWord:\n",
    "            if not curr.children[ord(c)-ord(\"a\")]: ## --> did not handle the edge case well where the word is not in the product\n",
    "                res.append([])\n",
    "            else:\n",
    "                curr=curr.children[ord(c)-ord(\"a\")]\n",
    "                tmp=[w for w in curr.vals]\n",
    "                res.append(tmp[:3])\n",
    "        return res"
   ]
  },
  {
   "cell_type": "markdown",
   "metadata": {},
   "source": [
    "## Attempt 2 - Accepted"
   ]
  },
  {
   "cell_type": "code",
   "execution_count": null,
   "metadata": {},
   "outputs": [],
   "source": [
    "class TrieNode:\n",
    "    def __init__(self):\n",
    "        self.vals=[]\n",
    "        self.children=[None for _ in range(26)]\n",
    "\n",
    "class Solution:\n",
    "    def suggestedProducts(self, products: List[str], searchWord: str) -> List[List[str]]:\n",
    "        root=TrieNode()\n",
    "        for prod in products:\n",
    "            curr=root\n",
    "            for c in prod:\n",
    "                if not curr.children[ord(c)-ord(\"a\")]:\n",
    "                    curr.children[ord(c)-ord(\"a\")]=TrieNode()\n",
    "                curr=curr.children[ord(c)-ord(\"a\")]\n",
    "                curr.vals.append(prod)\n",
    "                curr.vals=sorted(curr.vals)\n",
    "        \n",
    "        curr=root\n",
    "        res=[]\n",
    "        for c in searchWord:\n",
    "            if (not curr.children[ord(c)-ord(\"a\")]) or (len(res)>0 and len(res[-1])<1):\n",
    "                res.append([])\n",
    "            else:\n",
    "                curr=curr.children[ord(c)-ord(\"a\")]\n",
    "                tmp=[w for w in curr.vals]\n",
    "                res.append(tmp[:3])\n",
    "        return res"
   ]
  },
  {
   "cell_type": "markdown",
   "metadata": {},
   "source": [
    "## Lessons and Thoughts\n",
    "- Trie implementation all right\n",
    "- The edge case is when `searchWord` is not in `products`."
   ]
  }
 ],
 "metadata": {
  "kernelspec": {
   "display_name": "Python 3",
   "language": "python",
   "name": "python3"
  },
  "language_info": {
   "codemirror_mode": {
    "name": "ipython",
    "version": 3
   },
   "file_extension": ".py",
   "mimetype": "text/x-python",
   "name": "python",
   "nbconvert_exporter": "python",
   "pygments_lexer": "ipython3",
   "version": "3.7.3"
  }
 },
 "nbformat": 4,
 "nbformat_minor": 2
}
