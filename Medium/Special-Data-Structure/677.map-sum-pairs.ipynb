{
 "cells": [
  {
   "cell_type": "code",
   "execution_count": null,
   "metadata": {},
   "outputs": [],
   "source": [
    "class TreeNode:\n",
    "    def __init__(self):\n",
    "        self.children: List[Optional[TreeNode]] = [None for _ in range(26)]\n",
    "        self.word = ''\n",
    "        self.val = 0\n",
    "\n",
    "class MapSum:\n",
    "\n",
    "    def __init__(self):\n",
    "        \"\"\"\n",
    "        Initialize your data structure here.\n",
    "        \"\"\"\n",
    "        self.root = TreeNode()\n",
    "\n",
    "    def insert(self, key: str, val: int) -> None:\n",
    "        current = self.root\n",
    "        for ch in key:\n",
    "            idx = ord(ch) - 97\n",
    "            if current.children[idx] is None:\n",
    "                current.children[idx] = TreeNode()\n",
    "            current = current.children[idx]\n",
    "        current.word = key\n",
    "        current.val = val\n",
    "\n",
    "    def sum(self, prefix: str) -> int:\n",
    "        ret = 0\n",
    "        current = self.root\n",
    "        for ch in prefix:\n",
    "            idx = ord(ch) - 97\n",
    "            if current.children[idx] is None:\n",
    "                return ret\n",
    "            current = current.children[idx]\n",
    "        \n",
    "        def dfs(tn: TreeNode):\n",
    "            nonlocal ret\n",
    "            if tn.word != '':\n",
    "                ret += tn.val\n",
    "            for child in tn.children:\n",
    "                if child is not None:\n",
    "                    dfs(child)\n",
    "        \n",
    "        dfs(current)\n",
    "        return ret\n",
    "\n",
    "# Your MapSum object will be instantiated and called as such:\n",
    "# obj = MapSum()\n",
    "# obj.insert(key,val)\n",
    "# param_2 = obj.sum(prefix)"
   ]
  },
  {
   "cell_type": "markdown",
   "metadata": {},
   "source": [
    "## Lessons and Thoughts\n",
    "- The above is from the leetcode app.\n",
    "- If I have to implement Trie, I would use a `dict` to save the children. Empty string as root, and an indicator to say whether a node is a word - recording the word it is or otherwise `None` works."
   ]
  }
 ],
 "metadata": {
  "kernelspec": {
   "display_name": "Python 3",
   "language": "python",
   "name": "python3"
  },
  "language_info": {
   "codemirror_mode": {
    "name": "ipython",
    "version": 3
   },
   "file_extension": ".py",
   "mimetype": "text/x-python",
   "name": "python",
   "nbconvert_exporter": "python",
   "pygments_lexer": "ipython3",
   "version": "3.7.3"
  }
 },
 "nbformat": 4,
 "nbformat_minor": 2
}
