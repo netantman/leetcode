{
 "cells": [
  {
   "cell_type": "markdown",
   "metadata": {},
   "source": [
    "## Attempt 1 - Accepted"
   ]
  },
  {
   "cell_type": "code",
   "execution_count": null,
   "metadata": {},
   "outputs": [],
   "source": [
    "class Solution:\n",
    "    def flipLights(self, n: int, m: int) -> int:\n",
    "        if m==0:\n",
    "            return 1\n",
    "        if n==1:\n",
    "            return 2\n",
    "        elif n==2:\n",
    "            if m==1:\n",
    "                return 3\n",
    "            else:\n",
    "                return 4\n",
    "        if m==1:\n",
    "            return 4\n",
    "        elif m==2:\n",
    "            return 7  ## --> you had trouble here\n",
    "        else:\n",
    "            return 8"
   ]
  },
  {
   "cell_type": "markdown",
   "metadata": {},
   "source": [
    "## Lessons and Thoughts\n",
    "- First recognize all cases can be enumerated. Then carefully deal with different cases."
   ]
  }
 ],
 "metadata": {
  "kernelspec": {
   "display_name": "Python 3",
   "language": "python",
   "name": "python3"
  },
  "language_info": {
   "codemirror_mode": {
    "name": "ipython",
    "version": 3
   },
   "file_extension": ".py",
   "mimetype": "text/x-python",
   "name": "python",
   "nbconvert_exporter": "python",
   "pygments_lexer": "ipython3",
   "version": "3.7.3"
  }
 },
 "nbformat": 4,
 "nbformat_minor": 2
}
