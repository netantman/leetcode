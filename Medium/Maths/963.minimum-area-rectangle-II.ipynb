{
 "cells": [
  {
   "cell_type": "markdown",
   "metadata": {},
   "source": [
    "## Attempt 1 - Accepted"
   ]
  },
  {
   "cell_type": "code",
   "execution_count": null,
   "metadata": {},
   "outputs": [],
   "source": [
    "class Solution:\n",
    "    def __init__(self):\n",
    "        self.s=dict()\n",
    "        self.d=dict()\n",
    "    \n",
    "    def minAreaFreeRect(self, points: List[List[int]]) -> float:\n",
    "        def slope(p1,p2):\n",
    "            if tuple(p1+p2) in self.s:\n",
    "                return self.s[tuple(p1+p2)]\n",
    "            x1,y1=tuple(p1)\n",
    "            x2,y2=tuple(p2)\n",
    "            if x1==x2:\n",
    "                res=float(\"inf\")\n",
    "            else:\n",
    "                res=(y2-y1)/(x2-x1)\n",
    "            self.s[tuple(p1+p2)]=res\n",
    "            return res\n",
    "            \n",
    "        def distance(p1,p2):\n",
    "            if tuple(p1+p2) in self.d:\n",
    "                return self.d[tuple(p1+p2)]\n",
    "            x1,y1=tuple(p1)\n",
    "            x2,y2=tuple(p2)\n",
    "            res=math.sqrt((x1-x2)**2+(y1-y2)**2)\n",
    "            self.d[tuple(p1+p2)]=res\n",
    "            return res\n",
    "        \n",
    "        L=len(points)\n",
    "        minn=float(\"inf\")\n",
    "        for i in range(L):\n",
    "            p1=points[i]\n",
    "            for j in range(i+1,L):\n",
    "                p2=points[j]\n",
    "                s12=slope(p1,p2)\n",
    "                for k in range(j+1,L):\n",
    "                    p3=points[k]\n",
    "                    s13=slope(p1,p3)\n",
    "                    s23=slope(p2,p3)\n",
    "                    if set([s12,s13])==set([0,float(\"inf\")]) or abs(s12*s13+1.0)<=1e-5:\n",
    "                        if [p2[0]+p3[0]-p1[0], p2[1]+p3[1]-p1[1]] in points:\n",
    "                            minn=min(minn, distance(p1,p2)*distance(p1,p3))\n",
    "                    if set([s12,s23])==set([0,float(\"inf\")]) or abs(s12*s23+1.0)<=1e-5:\n",
    "                        if [p1[0]+p3[0]-p2[0], p1[1]+p3[1]-p2[1]] in points:\n",
    "                            minn=min(minn, distance(p1,p2)*distance(p2,p3))\n",
    "                    if set([s13,s23])==set([0,float(\"inf\")]) or abs(s13*s23+1.0)<=1e-5:\n",
    "                        if [p1[0]+p2[0]-p3[0], p1[1]+p2[1]-p3[1]] in points:\n",
    "                            minn=min(minn, distance(p1,p3)*distance(p2,p3))\n",
    "                        \n",
    "                    \n",
    "        return minn if minn<float(\"inf\") else 0"
   ]
  },
  {
   "cell_type": "markdown",
   "metadata": {},
   "source": [
    "## Lessons and Thoughts\n",
    "- Brute force\n",
    "- Note that `float(\"inf\")*0.0` is `nan`."
   ]
  }
 ],
 "metadata": {
  "kernelspec": {
   "display_name": "Python 3",
   "language": "python",
   "name": "python3"
  },
  "language_info": {
   "codemirror_mode": {
    "name": "ipython",
    "version": 3
   },
   "file_extension": ".py",
   "mimetype": "text/x-python",
   "name": "python",
   "nbconvert_exporter": "python",
   "pygments_lexer": "ipython3",
   "version": "3.7.3"
  }
 },
 "nbformat": 4,
 "nbformat_minor": 2
}
