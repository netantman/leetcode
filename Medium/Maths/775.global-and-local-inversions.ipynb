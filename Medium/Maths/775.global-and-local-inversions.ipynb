{
 "cells": [
  {
   "cell_type": "markdown",
   "metadata": {},
   "source": [
    "## Attempt 1 - Wrong Answer"
   ]
  },
  {
   "cell_type": "code",
   "execution_count": null,
   "metadata": {},
   "outputs": [],
   "source": [
    "class Solution:\n",
    "    def isIdealPermutation(self, A: List[int]) -> bool:\n",
    "        N=len(A)\n",
    "        benchmark=list(range(N))\n",
    "        for idx in range(N-1):\n",
    "            if A[idx]!=benchmark[idx]:\n",
    "                A[idx], A[idx+1]=A[idx+1],A[idx]\n",
    "                if A[idx]!=benchmark[idx]:  ## --> should check one more!\n",
    "                    return False\n",
    "        return True"
   ]
  },
  {
   "cell_type": "markdown",
   "metadata": {},
   "source": [
    "## Attempt 2 - Accepted"
   ]
  },
  {
   "cell_type": "code",
   "execution_count": null,
   "metadata": {},
   "outputs": [],
   "source": [
    "class Solution:\n",
    "    def isIdealPermutation(self, A: List[int]) -> bool:\n",
    "        N=len(A)\n",
    "        benchmark=list(range(N))\n",
    "        for idx in range(N-1):\n",
    "            if A[idx]!=benchmark[idx]:\n",
    "                A[idx], A[idx+1]=A[idx+1],A[idx]\n",
    "                if A[idx]!=benchmark[idx] or A[idx+1]!=benchmark[idx+1]:\n",
    "                    return False\n",
    "        return True"
   ]
  },
  {
   "cell_type": "markdown",
   "metadata": {},
   "source": [
    "## Lessons and Thoughts\n",
    "- The key is to recognize that once you fix the local inversions, the resulting sequence so far should only be increasing."
   ]
  }
 ],
 "metadata": {
  "kernelspec": {
   "display_name": "Python 3",
   "language": "python",
   "name": "python3"
  },
  "language_info": {
   "codemirror_mode": {
    "name": "ipython",
    "version": 3
   },
   "file_extension": ".py",
   "mimetype": "text/x-python",
   "name": "python",
   "nbconvert_exporter": "python",
   "pygments_lexer": "ipython3",
   "version": "3.7.3"
  }
 },
 "nbformat": 4,
 "nbformat_minor": 2
}
