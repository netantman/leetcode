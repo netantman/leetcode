{
 "cells": [
  {
   "cell_type": "markdown",
   "metadata": {},
   "source": [
    "## Attempt 1 - Wrong Answer"
   ]
  },
  {
   "cell_type": "code",
   "execution_count": null,
   "metadata": {},
   "outputs": [],
   "source": [
    "class Solution:\n",
    "    def prevPermOpt1(self, A: List[int]) -> List[int]:\n",
    "        L=len(A)\n",
    "        st=[]\n",
    "        for idx in range(L-1,-1,-1):\n",
    "            if len(st)<1 or A[idx]<=A[st[0]]:\n",
    "                st=[idx]+st\n",
    "            else:\n",
    "                if A[idx]>A[st[-1]]:\n",
    "                    A[idx],A[st[-1]]=A[st[-1]],A[idx]\n",
    "                    return A\n",
    "                left, right=0,len(st)-1\n",
    "                while right-left>1:\n",
    "                    mid=(left+right)//2\n",
    "                    if A[st[mid]]<A[idx]:\n",
    "                        left=mid\n",
    "                    else:\n",
    "                        right=mid\n",
    "                target=left\n",
    "                while target>=0 and st[target]==st[left]: ## --> should compare A\n",
    "                    target-=1\n",
    "                A[idx],A[st[target]]=A[st[target]],A[idx] ## --> target is the first one \n",
    "                return A\n",
    "        return A"
   ]
  },
  {
   "cell_type": "markdown",
   "metadata": {},
   "source": [
    "## Attempt 2 - Accepted"
   ]
  },
  {
   "cell_type": "code",
   "execution_count": null,
   "metadata": {},
   "outputs": [],
   "source": [
    "class Solution:\n",
    "    def prevPermOpt1(self, A: List[int]) -> List[int]:\n",
    "        L=len(A)\n",
    "        st=[]\n",
    "        for idx in range(L-1,-1,-1):\n",
    "            if len(st)<1 or A[idx]<=A[st[0]]:\n",
    "                st=[idx]+st\n",
    "            else:\n",
    "                if A[idx]>A[st[-1]]:\n",
    "                    A[idx],A[st[-1]]=A[st[-1]],A[idx]\n",
    "                    return A\n",
    "                left, right=0,len(st)-1\n",
    "                while right-left>1:\n",
    "                    mid=(left+right)//2\n",
    "                    if A[st[mid]]<A[idx]:\n",
    "                        left=mid\n",
    "                    else:\n",
    "                        right=mid\n",
    "                target=left\n",
    "                while target>=0 and A[st[target]]==A[st[left]]:\n",
    "                    target-=1\n",
    "                A[idx],A[st[target+1]]=A[st[target+1]],A[idx]\n",
    "                return A\n",
    "        return A"
   ]
  },
  {
   "cell_type": "markdown",
   "metadata": {},
   "source": [
    "## Lessons and Thoughts\n",
    "- The idea is to find the longest increasing sequence at the tail of input. For the first element from the right that does not belong to this sequence, get the largest, and among them leftest element smaller that this element from the sequence, then you have the swap.\n",
    "- The edge case is when there are multiple largest elements - you should get the leftest."
   ]
  }
 ],
 "metadata": {
  "kernelspec": {
   "display_name": "Python 3",
   "language": "python",
   "name": "python3"
  },
  "language_info": {
   "codemirror_mode": {
    "name": "ipython",
    "version": 3
   },
   "file_extension": ".py",
   "mimetype": "text/x-python",
   "name": "python",
   "nbconvert_exporter": "python",
   "pygments_lexer": "ipython3",
   "version": "3.7.3"
  }
 },
 "nbformat": 4,
 "nbformat_minor": 2
}
