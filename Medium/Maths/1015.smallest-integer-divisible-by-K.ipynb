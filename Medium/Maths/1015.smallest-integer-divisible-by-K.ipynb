{
 "cells": [
  {
   "cell_type": "markdown",
   "metadata": {},
   "source": [
    "## Attempt 1 - Accepted"
   ]
  },
  {
   "cell_type": "code",
   "execution_count": null,
   "metadata": {},
   "outputs": [],
   "source": [
    "class Solution:\n",
    "    def smallestRepunitDivByK(self, K: int) -> int:\n",
    "        res=1\n",
    "        visited=set()\n",
    "        while res<K:\n",
    "            res=10*res+1\n",
    "        d=res%K\n",
    "        while d>0:\n",
    "            if d not in visited:\n",
    "                visited.add(d)\n",
    "                res=10*res+1\n",
    "                d=(10*d+1)%K\n",
    "            else:\n",
    "                return -1\n",
    "        return len(str(res))"
   ]
  },
  {
   "cell_type": "markdown",
   "metadata": {},
   "source": [
    "## Lessons and Thoughts\n",
    "- The key is to recognize the relation between any $n$-digit `1`s and $n+1$-digit `1`s."
   ]
  }
 ],
 "metadata": {
  "kernelspec": {
   "display_name": "Python 3",
   "language": "python",
   "name": "python3"
  },
  "language_info": {
   "codemirror_mode": {
    "name": "ipython",
    "version": 3
   },
   "file_extension": ".py",
   "mimetype": "text/x-python",
   "name": "python",
   "nbconvert_exporter": "python",
   "pygments_lexer": "ipython3",
   "version": "3.7.3"
  }
 },
 "nbformat": 4,
 "nbformat_minor": 2
}
