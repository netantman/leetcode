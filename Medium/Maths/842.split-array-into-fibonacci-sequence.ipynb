{
 "cells": [
  {
   "cell_type": "markdown",
   "metadata": {},
   "source": [
    "## Attempt 1 - Accepted"
   ]
  },
  {
   "cell_type": "code",
   "execution_count": null,
   "metadata": {},
   "outputs": [],
   "source": [
    "class Solution:\n",
    "    def splitIntoFibonacci(self, S: str) -> List[int]:\n",
    "        def isAdditive(n1, n2, s):\n",
    "            res=[n1,n2]\n",
    "            while len(s)>0:\n",
    "                head=str(n1+n2)\n",
    "                L=len(head)\n",
    "                if n1>=2**31 or n2>=2**31:\n",
    "                    return False, []\n",
    "                if head==s[:L]:\n",
    "                    res.append(int(int(head)))\n",
    "                    s=s[L:]\n",
    "                    n1, n2=n2, n1+n2\n",
    "                else:\n",
    "                    return False, []\n",
    "            return True, res\n",
    "        \n",
    "        L=len(S)\n",
    "        for i in range(1, L):\n",
    "            for j in range(1, L-i):\n",
    "                n1, n2=S[:i], S[i:i+j]\n",
    "                if (n1!=\"0\" and n1[0]==\"0\") or (n2!=\"0\" and n2[0]==\"0\"):\n",
    "                    continue\n",
    "                else:\n",
    "                    curr=isAdditive(int(n1), int(n2), S[i+j:])\n",
    "                    if curr[0]:\n",
    "                        return curr[1]\n",
    "        return []"
   ]
  },
  {
   "cell_type": "markdown",
   "metadata": {},
   "source": [
    "## Lessons and Thoughts\n",
    "- Essentially same as Problem 306, with the extra requirement of the trace of numbers and that numbers cannot exceed $2^31$."
   ]
  }
 ],
 "metadata": {
  "kernelspec": {
   "display_name": "Python 3",
   "language": "python",
   "name": "python3"
  },
  "language_info": {
   "codemirror_mode": {
    "name": "ipython",
    "version": 3
   },
   "file_extension": ".py",
   "mimetype": "text/x-python",
   "name": "python",
   "nbconvert_exporter": "python",
   "pygments_lexer": "ipython3",
   "version": "3.7.3"
  }
 },
 "nbformat": 4,
 "nbformat_minor": 2
}
