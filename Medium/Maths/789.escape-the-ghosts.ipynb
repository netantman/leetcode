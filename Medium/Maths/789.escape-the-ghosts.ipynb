{
 "cells": [
  {
   "cell_type": "markdown",
   "metadata": {},
   "source": [
    "## Attempt 1 - Accepted"
   ]
  },
  {
   "cell_type": "code",
   "execution_count": null,
   "metadata": {},
   "outputs": [],
   "source": [
    "class Solution:\n",
    "    def escapeGhosts(self, ghosts: List[List[int]], target: List[int]) -> bool:\n",
    "        def manhatten(x):\n",
    "            return abs(x[0]-target[0])+abs(x[1]-target[1])\n",
    "        return min(map(manhatten, ghosts))>abs(target[0])+abs(target[1])"
   ]
  },
  {
   "cell_type": "markdown",
   "metadata": {},
   "source": [
    "## Lessons and Thoughts\n",
    "- Had to look it up on the leetcode app. The trick is to recognize that the problem can be simplified to just checking whether ghosts can be faster than I, when the ghosts and I are all moving in shortest paths to target."
   ]
  }
 ],
 "metadata": {
  "kernelspec": {
   "display_name": "Python 3",
   "language": "python",
   "name": "python3"
  },
  "language_info": {
   "codemirror_mode": {
    "name": "ipython",
    "version": 3
   },
   "file_extension": ".py",
   "mimetype": "text/x-python",
   "name": "python",
   "nbconvert_exporter": "python",
   "pygments_lexer": "ipython3",
   "version": "3.7.3"
  }
 },
 "nbformat": 4,
 "nbformat_minor": 2
}
