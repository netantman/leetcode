{
 "cells": [
  {
   "cell_type": "markdown",
   "metadata": {},
   "source": [
    "## Attempt 1 - Wrong Answer"
   ]
  },
  {
   "cell_type": "code",
   "execution_count": null,
   "metadata": {},
   "outputs": [],
   "source": [
    "class Solution:\n",
    "    def isReflected(self, points: List[List[int]]) -> bool:\n",
    "        def get_mid(arr):\n",
    "            m = sum(arr) / len(arr)\n",
    "            while len(arr) > 1:\n",
    "                if arr[0] + arr[-1] != 2 * m:\n",
    "                    return False, m\n",
    "                arr.pop(0)\n",
    "                arr.pop(-1)\n",
    "            return True, m\n",
    "        \n",
    "        record = defaultdict(list) ## --> duplicate points are like one point\n",
    "        m = None\n",
    "        for p in points:\n",
    "            record[p[1]].append(p[0])\n",
    "        \n",
    "        for k, v in record.items():\n",
    "            v = sorted(v)\n",
    "            flag, m0 = get_mid(v)\n",
    "            if not flag:\n",
    "                return False\n",
    "            if m is not None and m != m0:\n",
    "                return False\n",
    "            m = m0\n",
    "        return True"
   ]
  },
  {
   "cell_type": "markdown",
   "metadata": {},
   "source": [
    "## Attempt 2 - Accepted"
   ]
  },
  {
   "cell_type": "code",
   "execution_count": null,
   "metadata": {},
   "outputs": [],
   "source": [
    "class Solution:\n",
    "    def isReflected(self, points: List[List[int]]) -> bool:\n",
    "        def get_mid(arr):\n",
    "            m = sum(arr) / len(arr)\n",
    "            while len(arr) > 1:\n",
    "                if arr[0] + arr[-1] != 2 * m:\n",
    "                    return False, m\n",
    "                arr.pop(0)\n",
    "                arr.pop(-1)\n",
    "            return True, m\n",
    "        \n",
    "        record = defaultdict(set)\n",
    "        m = None\n",
    "        for p in points:\n",
    "            record[p[1]].add(p[0])\n",
    "        \n",
    "        for k, v in record.items():\n",
    "            v = sorted(list(v))\n",
    "            flag, m0 = get_mid(v)\n",
    "            if not flag:\n",
    "                return False\n",
    "            if m is not None and m != m0:\n",
    "                return False\n",
    "            m = m0\n",
    "        return True"
   ]
  },
  {
   "cell_type": "markdown",
   "metadata": {},
   "source": [
    "## Lessons and Thoughts\n",
    "- It is not clear from the problem what to do with duplicate points."
   ]
  }
 ],
 "metadata": {
  "kernelspec": {
   "display_name": "Python 3",
   "language": "python",
   "name": "python3"
  },
  "language_info": {
   "codemirror_mode": {
    "name": "ipython",
    "version": 3
   },
   "file_extension": ".py",
   "mimetype": "text/x-python",
   "name": "python",
   "nbconvert_exporter": "python",
   "pygments_lexer": "ipython3",
   "version": "3.7.3"
  }
 },
 "nbformat": 4,
 "nbformat_minor": 2
}
