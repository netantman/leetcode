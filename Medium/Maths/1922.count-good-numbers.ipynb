{
 "cells": [
  {
   "cell_type": "markdown",
   "metadata": {},
   "source": [
    "## Attempt 1 - Time Limit Exceeded"
   ]
  },
  {
   "cell_type": "code",
   "execution_count": null,
   "metadata": {},
   "outputs": [],
   "source": [
    "class Solution:\n",
    "    def countGoodNumbers(self, n: int) -> int:\n",
    "        odds = n // 2\n",
    "        evens = n - n // 2\n",
    "        return ((5 ** evens) * (4 ** odds)) % (10 ** 9 + 7)"
   ]
  },
  {
   "cell_type": "markdown",
   "metadata": {},
   "source": [
    "## Attempt 2 - Time Limit Exceeded"
   ]
  },
  {
   "cell_type": "code",
   "execution_count": null,
   "metadata": {},
   "outputs": [],
   "source": [
    "class Solution:\n",
    "    def countGoodNumbers(self, n: int) -> int:\n",
    "        odds = n // 2\n",
    "        odds = bin(odds)[2:]\n",
    "        evens = n - n // 2\n",
    "        evens = bin(evens)[2:]\n",
    "        lo, le = len(odds), len(evens)\n",
    "        o, e = 4, 5\n",
    "        res = 1\n",
    "        for idx in range(1, lo + 1):\n",
    "            if odds[-idx] == \"1\":\n",
    "                res *= o\n",
    "            o = o * o\n",
    "        for idx in range(1, le + 1):\n",
    "            if evens[-idx] == \"1\":\n",
    "                res *= e\n",
    "            e = e * e\n",
    "        return res % (10 ** 9 + 7)"
   ]
  },
  {
   "cell_type": "markdown",
   "metadata": {},
   "source": [
    "## Attempt 3 - Accepted"
   ]
  },
  {
   "cell_type": "code",
   "execution_count": null,
   "metadata": {},
   "outputs": [],
   "source": [
    "class Solution:\n",
    "    def countGoodNumbers(self, n: int) -> int:\n",
    "        mod = 10 ** 9 + 7\n",
    "        odds = n // 2\n",
    "        evens = n - n // 2\n",
    "        o, e = 4, 5\n",
    "        res = 1\n",
    "        while odds > 0:\n",
    "            if odds % 2 > 0:\n",
    "                res = res * o % mod\n",
    "            odds = odds // 2\n",
    "            o = o * o % mod\n",
    "        while evens > 0:\n",
    "            if evens % 2 > 0:\n",
    "                res = res * e % mod\n",
    "            evens = evens // 2\n",
    "            e = e * e % mod\n",
    "        return res % mod"
   ]
  },
  {
   "cell_type": "markdown",
   "metadata": {},
   "source": [
    "## Lessons and Thoughts\n",
    "- All multiplication operations are not equal - the bigger the numbers, the more time it takes."
   ]
  }
 ],
 "metadata": {
  "kernelspec": {
   "display_name": "Python 3",
   "language": "python",
   "name": "python3"
  },
  "language_info": {
   "codemirror_mode": {
    "name": "ipython",
    "version": 3
   },
   "file_extension": ".py",
   "mimetype": "text/x-python",
   "name": "python",
   "nbconvert_exporter": "python",
   "pygments_lexer": "ipython3",
   "version": "3.7.3"
  }
 },
 "nbformat": 4,
 "nbformat_minor": 2
}
