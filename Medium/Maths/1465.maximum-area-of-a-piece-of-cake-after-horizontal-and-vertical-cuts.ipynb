{
 "cells": [
  {
   "cell_type": "markdown",
   "metadata": {},
   "source": [
    "## Attempt 1 - Accepted"
   ]
  },
  {
   "cell_type": "code",
   "execution_count": null,
   "metadata": {},
   "outputs": [],
   "source": [
    "class Solution:\n",
    "    def maxArea(self, h: int, w: int, horizontalCuts: List[int], verticalCuts: List[int]) -> int:\n",
    "        horizontalCuts = [0] + sorted(horizontalCuts) + [h]\n",
    "        R = len(horizontalCuts)\n",
    "        max_h = 0\n",
    "        for r in range(R-1):\n",
    "            max_h = max(max_h, horizontalCuts[r+1]-horizontalCuts[r])\n",
    "            \n",
    "        verticalCuts = [0] + sorted(verticalCuts) + [w]\n",
    "        C = len(verticalCuts)\n",
    "        max_w = 0\n",
    "        for c in range(C-1):\n",
    "            max_w = max(max_w, verticalCuts[c+1]-verticalCuts[c])\n",
    "        \n",
    "        return (max_h * max_w) % (10**9+7)"
   ]
  },
  {
   "cell_type": "markdown",
   "metadata": {},
   "source": [
    "## Lessons and Thoughts\n",
    "- It is easy once you recognize it is just finding the biggest height and width."
   ]
  }
 ],
 "metadata": {
  "kernelspec": {
   "display_name": "Python 3",
   "language": "python",
   "name": "python3"
  },
  "language_info": {
   "codemirror_mode": {
    "name": "ipython",
    "version": 3
   },
   "file_extension": ".py",
   "mimetype": "text/x-python",
   "name": "python",
   "nbconvert_exporter": "python",
   "pygments_lexer": "ipython3",
   "version": "3.7.3"
  }
 },
 "nbformat": 4,
 "nbformat_minor": 2
}
