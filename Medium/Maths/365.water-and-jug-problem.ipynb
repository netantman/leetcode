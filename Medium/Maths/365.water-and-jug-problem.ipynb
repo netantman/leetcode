{
 "cells": [
  {
   "cell_type": "markdown",
   "metadata": {},
   "source": [
    "## Attempt 1 - Accepted"
   ]
  },
  {
   "cell_type": "code",
   "execution_count": null,
   "metadata": {},
   "outputs": [],
   "source": [
    "class Solution:\n",
    "    def canMeasureWater(self, x: int, y: int, z: int) -> bool:\n",
    "        # return False\n",
    "        if z>x+y:\n",
    "            return False\n",
    "        if z==x+y:\n",
    "            return True\n",
    "        if z==x or z==y:\n",
    "            return True\n",
    "        x,y=min(x,y),max(x,y)\n",
    "        if x==0:\n",
    "            return False\n",
    "        d=y%x\n",
    "        while d>0:\n",
    "            y,x=x,d\n",
    "            d=y%x"
   ]
  },
  {
   "cell_type": "markdown",
   "metadata": {},
   "source": [
    "## Lessons and Thoughts\n",
    "- I think it can be proved that as long as the largest common factor of `x` amd `y` can divide `z`, it is true. But I have not rigorously proved it yet."
   ]
  }
 ],
 "metadata": {
  "kernelspec": {
   "display_name": "Python 3",
   "language": "python",
   "name": "python3"
  },
  "language_info": {
   "codemirror_mode": {
    "name": "ipython",
    "version": 3
   },
   "file_extension": ".py",
   "mimetype": "text/x-python",
   "name": "python",
   "nbconvert_exporter": "python",
   "pygments_lexer": "ipython3",
   "version": "3.7.3"
  }
 },
 "nbformat": 4,
 "nbformat_minor": 2
}
