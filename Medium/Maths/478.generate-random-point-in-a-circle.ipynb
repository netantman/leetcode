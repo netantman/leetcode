{
 "cells": [
  {
   "cell_type": "markdown",
   "metadata": {},
   "source": [
    "## Attempt 1 - Wrong Answer: this is probably not uniform within a circle"
   ]
  },
  {
   "cell_type": "code",
   "execution_count": null,
   "metadata": {},
   "outputs": [],
   "source": [
    "class Solution:\n",
    "\n",
    "    def __init__(self, radius: float, x_center: float, y_center: float):\n",
    "        self.radius=radius\n",
    "        self.x=x_center\n",
    "        self.y=y_center\n",
    "\n",
    "    def randPoint(self) -> List[float]:\n",
    "        theta=random.random()\n",
    "        theta*=(2*math.pi)\n",
    "        x=self.x+self.radius*math.cos(theta)\n",
    "        y=self.y+self.radius*math.sin(theta)\n",
    "        return [x,y]\n",
    "\n",
    "\n",
    "# Your Solution object will be instantiated and called as such:\n",
    "# obj = Solution(radius, x_center, y_center)\n",
    "# param_1 = obj.randPoint()"
   ]
  },
  {
   "cell_type": "markdown",
   "metadata": {},
   "source": [
    "## Attempt 2 - Wrong Answer"
   ]
  },
  {
   "cell_type": "markdown",
   "metadata": {},
   "source": [
    "This is the acceptance-rejection algo, not sure why it does not accept."
   ]
  },
  {
   "cell_type": "code",
   "execution_count": null,
   "metadata": {},
   "outputs": [],
   "source": [
    "class Solution:\n",
    "\n",
    "    def __init__(self, radius: float, x_center: float, y_center: float):\n",
    "        self.radius=radius\n",
    "        self.x_center=x_center\n",
    "        self.y_center=y_center\n",
    "\n",
    "    def randPoint(self) -> List[float]:\n",
    "        x=random.random()\n",
    "        x*=(2*self.radius)\n",
    "        x-=self.radius\n",
    "        y=random.random()\n",
    "        y*=(2*self.radius)\n",
    "        y-=self.radius\n",
    "        while x*x+y*y<=self.radius*self.radius:\n",
    "            x=random.random()\n",
    "            x*=(2*self.radius)\n",
    "            x-=self.radius\n",
    "            y=random.random()\n",
    "            y*=(2*self.radius)\n",
    "            y-=self.radius\n",
    "        return [x,y]\n",
    "\n",
    "\n",
    "# Your Solution object will be instantiated and called as such:\n",
    "# obj = Solution(radius, x_center, y_center)\n",
    "# param_1 = obj.randPoint()"
   ]
  },
  {
   "cell_type": "markdown",
   "metadata": {},
   "source": [
    "## Attempt 3 - Accepted"
   ]
  },
  {
   "cell_type": "code",
   "execution_count": null,
   "metadata": {},
   "outputs": [],
   "source": [
    "class Solution:\n",
    "\n",
    "    def __init__(self, radius: float, x_center: float, y_center: float):\n",
    "        self.radius=radius\n",
    "        self.x=x_center\n",
    "        self.y=y_center\n",
    "\n",
    "    def randPoint(self) -> List[float]:\n",
    "        theta=random.random()\n",
    "        theta*=(2*math.pi)\n",
    "        r=math.sqrt(random.random())\n",
    "        r*=self.radius\n",
    "        x=self.x+r*math.cos(theta)\n",
    "        y=self.y+r*math.sin(theta)\n",
    "        return [x,y]\n",
    "\n",
    "\n",
    "# Your Solution object will be instantiated and called as such:\n",
    "# obj = Solution(radius, x_center, y_center)\n",
    "# param_1 = obj.randPoint()"
   ]
  },
  {
   "cell_type": "markdown",
   "metadata": {},
   "source": [
    "## Lessons and Thoughts\n",
    "- Note that `r` is not uniform between $0$ and $radius$, if you want the point to be uniform within the circle."
   ]
  }
 ],
 "metadata": {
  "kernelspec": {
   "display_name": "Python 3",
   "language": "python",
   "name": "python3"
  },
  "language_info": {
   "codemirror_mode": {
    "name": "ipython",
    "version": 3
   },
   "file_extension": ".py",
   "mimetype": "text/x-python",
   "name": "python",
   "nbconvert_exporter": "python",
   "pygments_lexer": "ipython3",
   "version": "3.7.3"
  }
 },
 "nbformat": 4,
 "nbformat_minor": 2
}
