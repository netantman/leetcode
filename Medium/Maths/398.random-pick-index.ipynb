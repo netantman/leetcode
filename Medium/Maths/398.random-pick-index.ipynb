{
 "cells": [
  {
   "cell_type": "markdown",
   "metadata": {},
   "source": [
    "## Attempt 1 - Accepted"
   ]
  },
  {
   "cell_type": "code",
   "execution_count": null,
   "metadata": {},
   "outputs": [],
   "source": [
    "import random\n",
    "\n",
    "class Solution:\n",
    "\n",
    "    def __init__(self, nums: List[int]):\n",
    "        self.nums=nums\n",
    "\n",
    "    def pick(self, target: int) -> int:\n",
    "        res=None\n",
    "        cnt=0\n",
    "        idx=0\n",
    "        L=len(self.nums)\n",
    "        while idx<L:\n",
    "            n=self.nums[idx]\n",
    "            if n==target:\n",
    "                r=random.random()\n",
    "                if r>cnt/(cnt+1):\n",
    "                    res=idx\n",
    "                cnt+=1\n",
    "            idx+=1\n",
    "        return res\n",
    "\n",
    "\n",
    "# Your Solution object will be instantiated and called as such:\n",
    "# obj = Solution(nums)\n",
    "# param_1 = obj.pick(target)"
   ]
  },
  {
   "cell_type": "markdown",
   "metadata": {},
   "source": [
    "## Lessons and Thoughts\n",
    "- Same reservoir sampling algo as Problem 382.\n",
    "- It seems that in while loop, you often forgot to change the index, resulting in infinite loops."
   ]
  }
 ],
 "metadata": {
  "kernelspec": {
   "display_name": "Python 3",
   "language": "python",
   "name": "python3"
  },
  "language_info": {
   "codemirror_mode": {
    "name": "ipython",
    "version": 3
   },
   "file_extension": ".py",
   "mimetype": "text/x-python",
   "name": "python",
   "nbconvert_exporter": "python",
   "pygments_lexer": "ipython3",
   "version": "3.7.3"
  }
 },
 "nbformat": 4,
 "nbformat_minor": 2
}
