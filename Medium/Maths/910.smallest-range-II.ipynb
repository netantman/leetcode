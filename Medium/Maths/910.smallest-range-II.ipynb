{
 "cells": [
  {
   "cell_type": "markdown",
   "metadata": {},
   "source": [
    "## Attempt 1 - Accepted"
   ]
  },
  {
   "cell_type": "code",
   "execution_count": null,
   "metadata": {},
   "outputs": [],
   "source": [
    "class Solution:\n",
    "    def smallestRangeII(self, A: List[int], K: int) -> int:\n",
    "        A=sorted(A)\n",
    "        minn,maxx=A[0],A[-1]\n",
    "        L=len(A)\n",
    "        ans=maxx-minn\n",
    "        for idx in range(L-1):\n",
    "            a,b=A[idx],A[idx+1]\n",
    "            ans=min(ans, max(maxx-K, a+K)-min(minn+K, b-K))\n",
    "        return ans"
   ]
  },
  {
   "cell_type": "markdown",
   "metadata": {},
   "source": [
    "## Lessons and Thoughts\n",
    "- Solution is from leetcode app. The idea, as Problem 908, is to recognize that small numbers should add while large numbers should subtract. Since one is forced to choose between `-K` and `K`, the optimium is achieved by adding the first batch in a sorted array while subtracting in the second batch. The loop through is to determine where do we divide the two batches."
   ]
  }
 ],
 "metadata": {
  "kernelspec": {
   "display_name": "Python 3",
   "language": "python",
   "name": "python3"
  },
  "language_info": {
   "codemirror_mode": {
    "name": "ipython",
    "version": 3
   },
   "file_extension": ".py",
   "mimetype": "text/x-python",
   "name": "python",
   "nbconvert_exporter": "python",
   "pygments_lexer": "ipython3",
   "version": "3.7.3"
  }
 },
 "nbformat": 4,
 "nbformat_minor": 2
}
