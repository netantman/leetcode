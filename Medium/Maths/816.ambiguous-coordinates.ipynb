{
 "cells": [
  {
   "cell_type": "markdown",
   "metadata": {},
   "source": [
    "## Attempt 1 - Accepted"
   ]
  },
  {
   "cell_type": "code",
   "execution_count": null,
   "metadata": {},
   "outputs": [],
   "source": [
    "class Solution:\n",
    "    def ambiguousCoordinates(self, S: str) -> List[str]:\n",
    "        def put_decimal(num_str):\n",
    "            if num_str==\"0\":\n",
    "                return [\"0\"]\n",
    "            elif set([c for c in num_str])==set([\"0\"]):\n",
    "                return []\n",
    "            L=len(num_str)\n",
    "            res=[]\n",
    "            if num_str[0]==\"0\":\n",
    "                if num_str[-1]!=\"0\":\n",
    "                    res.append(num_str[0]+\".\"+num_str[1:])\n",
    "            else:\n",
    "                for idx in range(1,L):\n",
    "                    first, second=num_str[:idx],num_str[idx:]\n",
    "                    if second[-1]!=\"0\":\n",
    "                        res.append(first+\".\"+second)\n",
    "                res.append(num_str)\n",
    "            return res\n",
    "        \n",
    "        res=[]\n",
    "        S=S[1:-1]\n",
    "        for idx in range(1,len(S)):\n",
    "            left=put_decimal(S[:idx])\n",
    "            right=put_decimal(S[idx:])\n",
    "            res+=[\"(\"+l+\", \"+r+\")\" for l in left for r in right]\n",
    "        return res"
   ]
  },
  {
   "cell_type": "markdown",
   "metadata": {},
   "source": [
    "## Lessons and Thoughts\n",
    "- Quite a few edge cases to consider."
   ]
  }
 ],
 "metadata": {
  "kernelspec": {
   "display_name": "Python 3",
   "language": "python",
   "name": "python3"
  },
  "language_info": {
   "codemirror_mode": {
    "name": "ipython",
    "version": 3
   },
   "file_extension": ".py",
   "mimetype": "text/x-python",
   "name": "python",
   "nbconvert_exporter": "python",
   "pygments_lexer": "ipython3",
   "version": "3.7.3"
  }
 },
 "nbformat": 4,
 "nbformat_minor": 2
}
