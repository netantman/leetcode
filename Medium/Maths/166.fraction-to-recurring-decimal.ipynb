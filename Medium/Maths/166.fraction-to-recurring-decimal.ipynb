{
 "cells": [
  {
   "cell_type": "markdown",
   "metadata": {},
   "source": [
    "## Attempt 1 - Wrong Answer"
   ]
  },
  {
   "cell_type": "code",
   "execution_count": null,
   "metadata": {},
   "outputs": [],
   "source": [
    "class Solution:\n",
    "    def fractionToDecimal(self, numerator: int, denominator: int) -> str:\n",
    "        int_part=numerator//denominator\n",
    "        r=int(numerator-denominator*int_part)\n",
    "        cache=dict() ## --> did not handle the case where there is no decimal\n",
    "        decimal=\".\"\n",
    "        start_cycle=None\n",
    "        while r is not 0:\n",
    "            new=(10*r)//denominator\n",
    "            decimal=decimal+str(new)\n",
    "            r=int(10*r-new*denominator)\n",
    "            if r is not 0:\n",
    "                if r in cache:\n",
    "                    start_cycle=r  ## --> here should still be cache[r]=r_new\n",
    "                    break\n",
    "                else:\n",
    "                    cache[r]=new   ## --> it should save the new remainder\n",
    "        \n",
    "        if r is 0:\n",
    "            return str(int_part)+decimal\n",
    "        \n",
    "        idx=1\n",
    "        r=cache[r]\n",
    "        while r is not start_cycle:\n",
    "            idx+=1\n",
    "            r=cache[r]\n",
    "        cycle=decimal[-idx:]\n",
    "        decimal=decimal[:-idx]+\"(\"+cycle+\")\"\n",
    "        return str(int_part)+decimal"
   ]
  },
  {
   "cell_type": "markdown",
   "metadata": {},
   "source": [
    "## Attempt 2 - Wrong Answer: did not handle negative"
   ]
  },
  {
   "cell_type": "code",
   "execution_count": null,
   "metadata": {},
   "outputs": [],
   "source": [
    "class Solution:\n",
    "    def fractionToDecimal(self, numerator: int, denominator: int) -> str:\n",
    "        int_part=numerator//denominator\n",
    "        r=int(numerator-denominator*int_part)\n",
    "        cache=dict()\n",
    "        if r is 0:\n",
    "            return str(int_part)\n",
    "        decimal=\".\"\n",
    "        start_cycle=None\n",
    "        while r is not 0:\n",
    "            new=(10*r)//denominator\n",
    "            decimal=decimal+str(new)\n",
    "            r_new=int(10*r-new*denominator)\n",
    "            if r_new is not 0:\n",
    "                if r_new in cache:\n",
    "                    cache[r]=r_new\n",
    "                    r=r_new\n",
    "                    start_cycle=r_new\n",
    "                    break\n",
    "                else:\n",
    "                    cache[r]=r_new\n",
    "            r=r_new\n",
    "        \n",
    "        if r is 0:\n",
    "            return str(int_part)+decimal\n",
    "        \n",
    "        idx=1\n",
    "        r=cache[r]\n",
    "        while r is not start_cycle:\n",
    "            idx+=1\n",
    "            r=cache[r]\n",
    "        cycle=decimal[-idx:]\n",
    "        decimal=decimal[:-idx]+\"(\"+cycle+\")\"\n",
    "        return str(int_part)+decimal"
   ]
  },
  {
   "cell_type": "markdown",
   "metadata": {},
   "source": [
    "## Attempt 3 - given up, and this is the solution from the web"
   ]
  },
  {
   "cell_type": "code",
   "execution_count": null,
   "metadata": {},
   "outputs": [],
   "source": [
    "class Solution:\n",
    "    def fractionToDecimal(self, numerator: int, denominator: int) -> str:\n",
    "        \n",
    "        d = dict()\n",
    "        div, mod = self.divmod(numerator, denominator)\n",
    "        if mod == 0:\n",
    "            return str(div)\n",
    "        ans = \"-\" if ((numerator > 0) ^ (denominator > 0)) else \"\"\n",
    "        div, mod, denominator = abs(div), abs(mod), abs(denominator)\n",
    "        ans += str(div) + \".\"\n",
    "        d[mod] = len(ans)\n",
    "        while mod:\n",
    "            mod *= 10\n",
    "            div, mod = self.divmod(mod, denominator)\n",
    "            ans += str(div)\n",
    "            if mod in d:\n",
    "                index = d[mod]\n",
    "                ans = ans[:index] + \"(\" + ans[index:] + \")\"\n",
    "                break\n",
    "            else:\n",
    "                d[mod] = len(ans)\n",
    "        return ans\n",
    "\n",
    "    def divmod(self, a, b):\n",
    "        q = int(a / b)   # I'm using 3.x\n",
    "        r = a - b * q\n",
    "        return (q, r)"
   ]
  },
  {
   "cell_type": "markdown",
   "metadata": {},
   "source": [
    "## Lessons and Thoughts\n",
    "- The solution that works is to cache the length of the answer so far, when it first start to repeat. The algo is copied from [here](https://blog.csdn.net/fuxuemingzhu/article/details/82533218)"
   ]
  }
 ],
 "metadata": {
  "kernelspec": {
   "display_name": "Python 3",
   "language": "python",
   "name": "python3"
  },
  "language_info": {
   "codemirror_mode": {
    "name": "ipython",
    "version": 3
   },
   "file_extension": ".py",
   "mimetype": "text/x-python",
   "name": "python",
   "nbconvert_exporter": "python",
   "pygments_lexer": "ipython3",
   "version": "3.7.3"
  }
 },
 "nbformat": 4,
 "nbformat_minor": 2
}
