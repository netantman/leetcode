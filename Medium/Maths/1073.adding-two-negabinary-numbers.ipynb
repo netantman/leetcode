{
 "cells": [
  {
   "cell_type": "markdown",
   "metadata": {},
   "source": [
    "## Attempt 1 - Runtime Error"
   ]
  },
  {
   "cell_type": "code",
   "execution_count": null,
   "metadata": {},
   "outputs": [],
   "source": [
    "class Solution:\n",
    "    def addNegabinary(self, arr1: List[int], arr2: List[int]) -> List[int]:\n",
    "        L1,L2=len(arr1),len(arr2)\n",
    "        res=[0 for _ in range(max(L1,L2)+20)]\n",
    "        L=len(res)\n",
    "        for idx in range(1,L+1):\n",
    "            carry=res[-idx]\n",
    "            s=carry\n",
    "            if idx<=L1:\n",
    "                s+=arr1[-idx]\n",
    "            if idx<=L2:\n",
    "                s+=arr2[-idx]\n",
    "            res[-idx]=s%2\n",
    "            if idx+1<=L:\n",
    "                res[-idx-1]+=s//2\n",
    "            if idx+2<=L:\n",
    "                res[-idx-2]+=s//2\n",
    "        while len(res)>=0 and res[0]==0: ## --> did not handle the case where res=[0]\n",
    "            res.pop(0)\n",
    "        return res"
   ]
  },
  {
   "cell_type": "markdown",
   "metadata": {},
   "source": [
    "## Attempt 2 - Accepted"
   ]
  },
  {
   "cell_type": "code",
   "execution_count": null,
   "metadata": {},
   "outputs": [],
   "source": [
    "class Solution:\n",
    "    def addNegabinary(self, arr1: List[int], arr2: List[int]) -> List[int]:\n",
    "        L1,L2=len(arr1),len(arr2)\n",
    "        res=[0 for _ in range(max(L1,L2)+20)]\n",
    "        L=len(res)\n",
    "        for idx in range(1,L+1):\n",
    "            carry=res[-idx]\n",
    "            s=carry\n",
    "            if idx<=L1:\n",
    "                s+=arr1[-idx]\n",
    "            if idx<=L2:\n",
    "                s+=arr2[-idx]\n",
    "            res[-idx]=s%2\n",
    "            if idx+1<=L:\n",
    "                res[-idx-1]+=s//2\n",
    "            if idx+2<=L:\n",
    "                res[-idx-2]+=s//2\n",
    "        while len(res)>0 and res[0]==0:\n",
    "            res.pop(0)\n",
    "        if not res:\n",
    "            res=[0]\n",
    "        return res"
   ]
  },
  {
   "cell_type": "markdown",
   "metadata": {},
   "source": [
    "## Attempt 1 - Accepted"
   ]
  },
  {
   "cell_type": "code",
   "execution_count": null,
   "metadata": {},
   "outputs": [],
   "source": [
    "class Solution {\n",
    "public:\n",
    "    vector<int> addNegabinary(vector<int>& arr1, vector<int>& arr2) {\n",
    "        int L1 = arr1.size();\n",
    "        int L2 = arr2.size();\n",
    "        int L = std::max(L1, L2);\n",
    "        \n",
    "        auto it = arr1.begin();\n",
    "        while (arr1.size() < L) {\n",
    "            it = arr1.insert(it, 0);\n",
    "        }\n",
    "        it = arr2.begin();\n",
    "        while (arr2.size() < L) {\n",
    "            it = arr2.insert(it, 0);\n",
    "        }\n",
    "        \n",
    "        vector<int> res = {};\n",
    "        int carry = 0;\n",
    "        it = res.begin();\n",
    "        for (int idx = L - 1; idx >= 0; idx--) { ## This approach is easier to think about, since it allows carry to be negative.\n",
    "            int curr = arr1[idx] + arr2[idx] + carry;\n",
    "            if ((curr == 0) || (curr == 1)) {\n",
    "                it = res.insert(it, curr);\n",
    "                carry = 0;\n",
    "                continue;\n",
    "            }\n",
    "            if (curr == -1) {\n",
    "                it = res.insert(it, 1); ## The way to use insert\n",
    "                carry = 1;\n",
    "                continue;\n",
    "            }\n",
    "            if (curr == 2) {\n",
    "                it = res.insert(it, 0);\n",
    "                carry = -1;\n",
    "                continue;\n",
    "            }\n",
    "            if (curr == 3) {\n",
    "                it = res.insert(it, 1);\n",
    "                carry = -1;\n",
    "                continue;\n",
    "            }\n",
    "        }\n",
    "        if (carry == 1) {\n",
    "            res.insert(it, 1);\n",
    "        }\n",
    "        if (carry == -1) {\n",
    "            res.insert(it, 2, 1);\n",
    "        }\n",
    "        while ((res.size() > 1) && res[0] == 0) { ## Note that it != res.end() just means it is non-empty\n",
    "            it = res.erase(it); ## The way to use erase\n",
    "        }\n",
    "        return res;\n",
    "    }\n",
    "};"
   ]
  },
  {
   "cell_type": "markdown",
   "metadata": {},
   "source": [
    "## Lessons and Thoughts\n",
    "- Try run several edge cases in your head, if you are not in a rush.\n",
    "- The edge case that you missed is recorded above."
   ]
  }
 ],
 "metadata": {
  "kernelspec": {
   "display_name": "Python 3",
   "language": "python",
   "name": "python3"
  },
  "language_info": {
   "codemirror_mode": {
    "name": "ipython",
    "version": 3
   },
   "file_extension": ".py",
   "mimetype": "text/x-python",
   "name": "python",
   "nbconvert_exporter": "python",
   "pygments_lexer": "ipython3",
   "version": "3.7.3"
  }
 },
 "nbformat": 4,
 "nbformat_minor": 2
}
