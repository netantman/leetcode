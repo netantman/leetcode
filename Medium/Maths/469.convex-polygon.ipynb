{
 "cells": [
  {
   "cell_type": "markdown",
   "metadata": {},
   "source": [
    "## Attempt 1 - Wrong Answer"
   ]
  },
  {
   "cell_type": "code",
   "execution_count": null,
   "metadata": {},
   "outputs": [],
   "source": [
    "class Solution:\n",
    "    def isConvex(self, points: List[List[int]]) -> bool:\n",
    "        def get_line(x1, y1, x2, y2):\n",
    "            def inner(x, y):\n",
    "                return (x1 - x2) * y + (y2 - y1) * x + (y1 * x2 - x1 * y2)\n",
    "            return inner\n",
    "        \n",
    "        L = len(points)\n",
    "        for idx in range(L - 1):\n",
    "            p1, p2 = points[idx], points[(idx + 1) % L]\n",
    "            x1, y1 = tuple(p1)\n",
    "            x2, y2 = tuple(p2)\n",
    "            l = get_line(x1, y1, x2, y2)\n",
    "            test = (idx + 2) % L\n",
    "            x, y = tuple(points[test])\n",
    "            t = l(x, y)\n",
    "            for j in range(L):\n",
    "                if j in {idx, (idx + 1) % L, (idx + 2) % L}:\n",
    "                    continue\n",
    "                x0, y0 = tuple(points[j])\n",
    "                if l(x0, y0) * t <= 0:\n",
    "                    return False\n",
    "        return True"
   ]
  },
  {
   "cell_type": "markdown",
   "metadata": {},
   "source": [
    "## Attempt 2 - Time Limit Exceeded"
   ]
  },
  {
   "cell_type": "code",
   "execution_count": null,
   "metadata": {},
   "outputs": [],
   "source": [
    "class Solution:\n",
    "    def isConvex(self, points: List[List[int]]) -> bool:\n",
    "        def get_line(x1, y1, x2, y2):\n",
    "            def inner(x, y):\n",
    "                return (x1 - x2) * y + (y2 - y1) * x + (y1 * x2 - x1 * y2)\n",
    "            return inner\n",
    "        \n",
    "        L = len(points)\n",
    "        for idx in range(L - 1):\n",
    "            p1, p2 = points[idx], points[(idx + 1) % L]\n",
    "            x1, y1 = tuple(p1)\n",
    "            x2, y2 = tuple(p2)\n",
    "            # print(x1, y1)\n",
    "            # print(x2, y2)\n",
    "            l = get_line(x1, y1, x2, y2)\n",
    "            test = []\n",
    "            for j in range(L):\n",
    "                if j in {idx, (idx + 1) % L}:\n",
    "                    continue\n",
    "                x0, y0 = tuple(points[j])\n",
    "                test.append(l(x0, y0))\n",
    "            # print(test)\n",
    "            if len([t for t in test if t > 0]) * len([t for t in test if t < 0]) > 0:\n",
    "                return False\n",
    "        return True"
   ]
  },
  {
   "cell_type": "markdown",
   "metadata": {},
   "source": [
    "## Attempt 3 - Accepted"
   ]
  },
  {
   "cell_type": "code",
   "execution_count": null,
   "metadata": {},
   "outputs": [],
   "source": [
    "class Solution:\n",
    "    def isConvex(self, points: List[List[int]]) -> bool:\n",
    "        \n",
    "        def get_line(x1, y1, x2, y2):\n",
    "            if y2 == y1:\n",
    "                return (1, 0, (y1 * x2 - x1 * y2) / (x1 - x2))\n",
    "            return ((x1 - x2) / (y2 - y1), 1, (y1 * x2 - x1 * y2) / (y2 - y1))\n",
    "        \n",
    "        L = len(points)\n",
    "        lines = set()\n",
    "        for idx in range(L - 1):\n",
    "            p1, p2 = points[idx], points[(idx + 1) % L]\n",
    "            x1, y1 = tuple(p1)\n",
    "            x2, y2 = tuple(p2)\n",
    "            l = get_line(x1, y1, x2, y2)\n",
    "            if l in lines:\n",
    "                continue\n",
    "            lines.add(l)\n",
    "            test = []\n",
    "            for j in range(L):\n",
    "                if j in {idx, (idx + 1) % L}:\n",
    "                    continue\n",
    "                x0, y0 = tuple(points[j])\n",
    "                test.append(y0 * l[0] + x0 * l[1] + l[2])\n",
    "            # print(test)\n",
    "            if len([t for t in test if t > 0]) * len([t for t in test if t < 0]) > 0:\n",
    "                return False\n",
    "        return True"
   ]
  },
  {
   "cell_type": "markdown",
   "metadata": {},
   "source": [
    "## Lessons and Thoughts\n",
    "- The optimization is to deal with multiple consecutive points on the same line."
   ]
  }
 ],
 "metadata": {
  "kernelspec": {
   "display_name": "Python 3",
   "language": "python",
   "name": "python3"
  },
  "language_info": {
   "codemirror_mode": {
    "name": "ipython",
    "version": 3
   },
   "file_extension": ".py",
   "mimetype": "text/x-python",
   "name": "python",
   "nbconvert_exporter": "python",
   "pygments_lexer": "ipython3",
   "version": "3.7.3"
  }
 },
 "nbformat": 4,
 "nbformat_minor": 2
}
