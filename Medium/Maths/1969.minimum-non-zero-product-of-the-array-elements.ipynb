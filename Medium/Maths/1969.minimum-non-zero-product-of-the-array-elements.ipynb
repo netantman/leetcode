{
 "cells": [
  {
   "cell_type": "markdown",
   "metadata": {},
   "source": [
    "## Attempt 1 - Wrong Answer"
   ]
  },
  {
   "cell_type": "code",
   "execution_count": null,
   "metadata": {},
   "outputs": [],
   "source": [
    "class Solution:\n",
    "    def minNonZeroProduct(self, p: int) -> int:\n",
    "        def calc_prod(nums):\n",
    "            return math.prod(int(\"0b\"+n, 2) for n in nums)\n",
    "        \n",
    "        def inner(p):\n",
    "            if p == 1:\n",
    "                return [\"1\"]\n",
    "            if p == 2:\n",
    "                return [\"01\", \"10\", \"11\"]\n",
    "            prev = inner(p - 1)\n",
    "            res = [p + \"0\" for p in prev]\n",
    "            res += [\"0\" * (p - 1) + \"1\", \"1\" * p] * (2 ** (p - 1))\n",
    "            return res\n",
    "        \n",
    "        nums = inner(p)\n",
    "        return calc_prod(nums) % (10 ** 9 + 7)"
   ]
  },
  {
   "cell_type": "markdown",
   "metadata": {},
   "source": [
    "## Attempt 2 - Accepted"
   ]
  },
  {
   "cell_type": "code",
   "execution_count": null,
   "metadata": {},
   "outputs": [],
   "source": [
    "class Solution:\n",
    "    def minNonZeroProduct(self, p: int) -> int:\n",
    "        if p == 1:\n",
    "            return 1\n",
    "        if p == 2:\n",
    "            return 6\n",
    "        \n",
    "        MODULE = 10 ** 9 + 7\n",
    "        \n",
    "        res = 1\n",
    "        tmp = (2 ** p - 2) % MODULE\n",
    "        for _ in range(p - 1):\n",
    "            res *= (tmp % MODULE)\n",
    "            tmp = (tmp * tmp) % MODULE\n",
    "        res = res % MODULE\n",
    "        res += tmp % MODULE\n",
    "        res = res % MODULE\n",
    "        \n",
    "        return res"
   ]
  },
  {
   "cell_type": "markdown",
   "metadata": {},
   "source": [
    "## Lessons and Thoughts\n",
    "- Attempt 1 is based on the wrong idea.\n",
    "- The idea is to get as many 1s as possible, and also to calculate the final product in an efficient way."
   ]
  }
 ],
 "metadata": {
  "kernelspec": {
   "display_name": "Python 3",
   "language": "python",
   "name": "python3"
  },
  "language_info": {
   "codemirror_mode": {
    "name": "ipython",
    "version": 3
   },
   "file_extension": ".py",
   "mimetype": "text/x-python",
   "name": "python",
   "nbconvert_exporter": "python",
   "pygments_lexer": "ipython3",
   "version": "3.7.3"
  }
 },
 "nbformat": 4,
 "nbformat_minor": 2
}
