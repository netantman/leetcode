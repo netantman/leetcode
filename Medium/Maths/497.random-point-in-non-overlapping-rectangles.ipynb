{
 "cells": [
  {
   "cell_type": "markdown",
   "metadata": {},
   "source": [
    "## Attempt 1 - Wrong Answer"
   ]
  },
  {
   "cell_type": "markdown",
   "metadata": {},
   "source": [
    "Area in this problem is the integer points, not the area in the usual sense. So it is uniformly selecting the integer points from all the rectangles."
   ]
  },
  {
   "cell_type": "code",
   "execution_count": null,
   "metadata": {},
   "outputs": [],
   "source": [
    "class Solution:\n",
    "\n",
    "    def __init__(self, rects: List[List[int]]):\n",
    "        self.rects=rects\n",
    "        areas=[(r[2]-r[0])*(r[3]-r[1]) for r in self.rects]\n",
    "        self.portions=[sum(areas[:idx])/sum(areas) for idx in range(len(areas)+1)]\n",
    "\n",
    "    def pick(self) -> List[int]:\n",
    "        check=random.random()\n",
    "        left,right=0,len(self.portions)-1\n",
    "        while left<right-1:\n",
    "            mid=(left+right)//2\n",
    "            if self.portions[mid]<=check:\n",
    "                left=mid\n",
    "            else:\n",
    "                right=mid\n",
    "        idx=left\n",
    "        rect=self.rects[idx]\n",
    "        x=random.random()\n",
    "        p_x=rect[0]+(rect[2]-rect[0])*x\n",
    "        y=random.random()\n",
    "        p_y=rect[1]+(rect[3]-rect[1])*y\n",
    "        return [p_x, p_y]\n",
    "        \n",
    "        \n",
    "\n",
    "\n",
    "# Your Solution object will be instantiated and called as such:\n",
    "# obj = Solution(rects)\n",
    "# param_1 = obj.pick()"
   ]
  },
  {
   "cell_type": "markdown",
   "metadata": {},
   "source": [
    "## Attempt 2 - Accepted"
   ]
  },
  {
   "cell_type": "code",
   "execution_count": null,
   "metadata": {},
   "outputs": [],
   "source": [
    "class Solution:\n",
    "\n",
    "    def __init__(self, rects: List[List[int]]):\n",
    "        self.rects=rects\n",
    "        areas=[(r[2]-r[0]+1)*(r[3]-r[1]+1) for r in self.rects]\n",
    "        self.cumsums=[sum(areas[:idx]) for idx in range(len(areas)+1)]\n",
    "\n",
    "    def pick(self) -> List[int]:\n",
    "        check=random.randrange(0,self.cumsums[-1]+1,1)\n",
    "        left,right=0,len(self.cumsums)-1\n",
    "        while left<right-1:\n",
    "            mid=(left+right)//2\n",
    "            if self.cumsums[mid]<=check:\n",
    "                left=mid\n",
    "            else:\n",
    "                right=mid\n",
    "        idx=left\n",
    "        rect=self.rects[idx]\n",
    "        p_x=random.randrange(rect[0], rect[2]+1,1)\n",
    "        p_y=random.randrange(rect[1], rect[3]+1,1)\n",
    "        return [p_x, p_y]\n",
    "        \n",
    "        \n",
    "\n",
    "\n",
    "# Your Solution object will be instantiated and called as such:\n",
    "# obj = Solution(rects)\n",
    "# param_1 = obj.pick()"
   ]
  },
  {
   "cell_type": "markdown",
   "metadata": {},
   "source": [
    "## Lessons and Thoughts\n",
    "- You should be able to come up with binary search, at least as an optimization.\n",
    "- `random.randrange`"
   ]
  }
 ],
 "metadata": {
  "kernelspec": {
   "display_name": "Python 3",
   "language": "python",
   "name": "python3"
  },
  "language_info": {
   "codemirror_mode": {
    "name": "ipython",
    "version": 3
   },
   "file_extension": ".py",
   "mimetype": "text/x-python",
   "name": "python",
   "nbconvert_exporter": "python",
   "pygments_lexer": "ipython3",
   "version": "3.7.3"
  }
 },
 "nbformat": 4,
 "nbformat_minor": 2
}
