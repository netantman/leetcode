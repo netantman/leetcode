{
 "cells": [
  {
   "cell_type": "markdown",
   "metadata": {},
   "source": [
    "## Attempt 1 - Wrong Answer: it does not say the original A sequence is arithmitic!"
   ]
  },
  {
   "cell_type": "code",
   "execution_count": null,
   "metadata": {},
   "outputs": [],
   "source": [
    "class Solution:\n",
    "    def numberOfArithmeticSlices(self, A: List[int]) -> int:\n",
    "        L=3\n",
    "        res=0\n",
    "        while L<=len(A):\n",
    "            res+=(len(A)-L)+1\n",
    "            L+=1\n",
    "        return res"
   ]
  },
  {
   "cell_type": "markdown",
   "metadata": {},
   "source": [
    "## Attempt 2 - Runtime Error"
   ]
  },
  {
   "cell_type": "code",
   "execution_count": null,
   "metadata": {},
   "outputs": [],
   "source": [
    "class Solution:\n",
    "    def numberOfArithmeticSlices(self, A: List[int]) -> int:\n",
    "        L=len(A)  \n",
    "        res=[None for _ in range(L)]\n",
    "        res[0], res[1]=0,0 ## --> did not handle empty A\n",
    "        for idx in range(2, L):\n",
    "            if A[idx]-A[idx-1]==A[idx-1]-A[idx-2]:\n",
    "                res[idx]=res[idx-1]+1\n",
    "            else:\n",
    "                res[idx]=0\n",
    "        return sum(res)"
   ]
  },
  {
   "cell_type": "markdown",
   "metadata": {},
   "source": [
    "## Attempt 3 - Accepted"
   ]
  },
  {
   "cell_type": "code",
   "execution_count": null,
   "metadata": {},
   "outputs": [],
   "source": [
    "class Solution:\n",
    "    def numberOfArithmeticSlices(self, A: List[int]) -> int:\n",
    "        L=len(A)\n",
    "        if L<=2:\n",
    "            return 0\n",
    "        res=[None for _ in range(L)]\n",
    "        res[0], res[1]=0,0\n",
    "        for idx in range(2, L):\n",
    "            if A[idx]-A[idx-1]==A[idx-1]-A[idx-2]:\n",
    "                res[idx]=res[idx-1]+1\n",
    "            else:\n",
    "                res[idx]=0\n",
    "        return sum(res)"
   ]
  },
  {
   "cell_type": "markdown",
   "metadata": {},
   "source": [
    "## Lessons and Thoughts\n",
    "- It seems you are often lax on edge cases when you are too focus on the algo itself. Even if you are second guessing your algo, always try to run a few cases."
   ]
  }
 ],
 "metadata": {
  "kernelspec": {
   "display_name": "Python 3",
   "language": "python",
   "name": "python3"
  },
  "language_info": {
   "codemirror_mode": {
    "name": "ipython",
    "version": 3
   },
   "file_extension": ".py",
   "mimetype": "text/x-python",
   "name": "python",
   "nbconvert_exporter": "python",
   "pygments_lexer": "ipython3",
   "version": "3.7.3"
  }
 },
 "nbformat": 4,
 "nbformat_minor": 2
}
