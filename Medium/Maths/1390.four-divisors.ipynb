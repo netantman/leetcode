{
 "cells": [
  {
   "cell_type": "markdown",
   "metadata": {},
   "source": [
    "## Attempt 1 - Wrong Answer"
   ]
  },
  {
   "cell_type": "code",
   "execution_count": null,
   "metadata": {},
   "outputs": [],
   "source": [
    "class Solution:\n",
    "    def sumFourDivisors(self, nums: List[int]) -> int:\n",
    "        UPPER=max(nums)+1\n",
    "        table=set([n for n in range(2,UPPER+1)])\n",
    "        primes=[]\n",
    "        while table and min(table)<=UPPER:\n",
    "            curr=min(table)\n",
    "            mul=1\n",
    "            while curr*mul<UPPER+1:\n",
    "                if curr*mul in table:\n",
    "                    table.remove(curr*mul)\n",
    "                mul+=1\n",
    "            primes.append(curr)\n",
    "        \n",
    "        res=0\n",
    "        for n in nums:\n",
    "            for p in primes:\n",
    "                if (n%p==0) and (n//p in primes) and (n!=p*p):\n",
    "                    res+=(1+n+p+n//p) ## --> missed the edge case where n=p**3!\n",
    "                    break\n",
    "        return res"
   ]
  },
  {
   "cell_type": "markdown",
   "metadata": {},
   "source": [
    "## Attempt 2 - Time Limit Exceeded"
   ]
  },
  {
   "cell_type": "code",
   "execution_count": null,
   "metadata": {},
   "outputs": [],
   "source": [
    "class Solution:\n",
    "    def sumFourDivisors(self, nums: List[int]) -> int:\n",
    "        UPPER=max(nums)+1\n",
    "        table=set([n for n in range(2,UPPER+1)])\n",
    "        primes=[]\n",
    "        while table and min(table)<=UPPER:\n",
    "            curr=min(table)\n",
    "            mul=1\n",
    "            while curr*mul<UPPER+1:\n",
    "                if curr*mul in table:\n",
    "                    table.remove(curr*mul)\n",
    "                mul+=1\n",
    "            primes.append(curr)\n",
    "        print(primes)         \n",
    "        \n",
    "        res=0\n",
    "        for n in nums:\n",
    "            for p in primes:\n",
    "                if (n%p==0):\n",
    "                    if ((n//p in primes) and (n!=p*p)) or n==p**3:\n",
    "                        res+=(1+n+p+n//p)\n",
    "                        break\n",
    "                    \n",
    "        return res"
   ]
  },
  {
   "cell_type": "markdown",
   "metadata": {},
   "source": [
    "## Attempt 3 - Wrong Answer"
   ]
  },
  {
   "cell_type": "code",
   "execution_count": null,
   "metadata": {},
   "outputs": [],
   "source": [
    "class Solution:\n",
    "    def sumFourDivisors(self, nums: List[int]) -> int:\n",
    "        UPPER=math.floor(math.sqrt(max(nums)))+1\n",
    "        table=set([n for n in range(2,max(nums)+1)])\n",
    "        primes=[]\n",
    "        while table and min(table)<=UPPER:\n",
    "            curr=min(table)\n",
    "            mul=1\n",
    "            while curr*mul<=max(nums):\n",
    "                if curr*mul in table:\n",
    "                    table.remove(curr*mul)\n",
    "                mul+=1\n",
    "            primes.append(curr)\n",
    "        for p in primes:\n",
    "            table.add(p)\n",
    "        \n",
    "        table=sorted(list(table))\n",
    "        \n",
    "        res=0\n",
    "        for p in table:\n",
    "            if p**3 in nums: ## --> did not consider duplicates in nums\n",
    "                res+=(1+p+p*p+p**3)\n",
    "                break\n",
    "            for q in table:\n",
    "                if q<=p:\n",
    "                    continue\n",
    "                if p*q in nums:\n",
    "                    res+=(1+p+q+p*q)\n",
    "                    break ## --> cannot break!\n",
    "        return res"
   ]
  },
  {
   "cell_type": "markdown",
   "metadata": {},
   "source": [
    "## Attempt 3 - Accepted"
   ]
  },
  {
   "cell_type": "code",
   "execution_count": null,
   "metadata": {},
   "outputs": [],
   "source": [
    "class Solution:\n",
    "    def sumFourDivisors(self, nums: List[int]) -> int:\n",
    "        C, C3 = 10**5, 46\n",
    "        \n",
    "        isprime = [True] * (C+1)\n",
    "        primes = []\n",
    "\n",
    "        for idx in range(2, C+1):\n",
    "            if isprime[idx]:\n",
    "                primes.append(idx)\n",
    "            for prime in primes:\n",
    "                if idx * prime > C:\n",
    "                    break\n",
    "                isprime[idx*prime] = False\n",
    "                if idx % prime == 0:\n",
    "                    break\n",
    "        \n",
    "        factor4=dict()\n",
    "        for prime in primes:\n",
    "            if prime <= C3:\n",
    "                factor4[prime**3] = 1 + prime + prime**2 + prime**3\n",
    "        for i in range(len(primes)):\n",
    "            for j in range(i+1, len(primes)):\n",
    "                if primes[i]*primes[j] <= C:\n",
    "                    factor4[primes[i]*primes[j]] = 1 + primes[i] + primes[j] + primes[i]*primes[j]\n",
    "                else:\n",
    "                    break\n",
    "        \n",
    "        res=0\n",
    "        for n in nums:\n",
    "            if n in factor4:\n",
    "                res += factor4[n]\n",
    "        return res"
   ]
  },
  {
   "cell_type": "markdown",
   "metadata": {},
   "source": [
    "## Lessons and Thoughts\n",
    "- Essentially just another problem that tries to find primes: the accepted algo is from the app and it is called the Euler method.\n",
    "- The optimization is to sift only through `sqrt` of the the upper bound."
   ]
  }
 ],
 "metadata": {
  "kernelspec": {
   "display_name": "Python 3",
   "language": "python",
   "name": "python3"
  },
  "language_info": {
   "codemirror_mode": {
    "name": "ipython",
    "version": 3
   },
   "file_extension": ".py",
   "mimetype": "text/x-python",
   "name": "python",
   "nbconvert_exporter": "python",
   "pygments_lexer": "ipython3",
   "version": "3.7.3"
  }
 },
 "nbformat": 4,
 "nbformat_minor": 2
}
