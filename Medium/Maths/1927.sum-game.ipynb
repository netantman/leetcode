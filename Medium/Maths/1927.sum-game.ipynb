{
 "cells": [
  {
   "cell_type": "markdown",
   "metadata": {},
   "source": [
    "## Attempt 1 - Accepted"
   ]
  },
  {
   "cell_type": "code",
   "execution_count": null,
   "metadata": {},
   "outputs": [],
   "source": [
    "class Solution:\n",
    "    def sumGame(self, num: str) -> bool:\n",
    "        L = len(num)\n",
    "        if \"?\" not in num:\n",
    "            num = [int(c) for c in num]\n",
    "            return sum(num[:L // 2]) != sum(num[L // 2:])\n",
    "        \n",
    "        if sum([1 for c in num if c == \"?\"]) % 2 > 0:\n",
    "            return True\n",
    "        \n",
    "        left, left_q = 0, 0\n",
    "        for c in num[:L // 2]:\n",
    "            if c == \"?\":\n",
    "                left_q += 1\n",
    "            else:\n",
    "                left += int(c)\n",
    "        \n",
    "        right, right_q = 0, 0\n",
    "        for c in num[L // 2:]:\n",
    "            if c == \"?\":\n",
    "                right_q += 1\n",
    "            else:\n",
    "                right += int(c)\n",
    "        \n",
    "        if right == left and right_q == left_q:\n",
    "            return False\n",
    "        if (right > left and right_q >= left_q) or (right >= left and right_q > left_q):\n",
    "            return True\n",
    "        if (right < left and right_q <= left_q) or (right <= left and right_q < left_q):\n",
    "            return True\n",
    "        \n",
    "        if right <= left: \n",
    "            right, right_q, left, left_q = left, left_q, right, right_q\n",
    "        \n",
    "        return right - left != (left_q - right_q) / 2 * 9"
   ]
  },
  {
   "cell_type": "markdown",
   "metadata": {},
   "source": [
    "## Lessons and Thoughts\n",
    "- Took the hint heavily from the app."
   ]
  }
 ],
 "metadata": {
  "kernelspec": {
   "display_name": "Python 3",
   "language": "python",
   "name": "python3"
  },
  "language_info": {
   "codemirror_mode": {
    "name": "ipython",
    "version": 3
   },
   "file_extension": ".py",
   "mimetype": "text/x-python",
   "name": "python",
   "nbconvert_exporter": "python",
   "pygments_lexer": "ipython3",
   "version": "3.7.3"
  }
 },
 "nbformat": 4,
 "nbformat_minor": 2
}
