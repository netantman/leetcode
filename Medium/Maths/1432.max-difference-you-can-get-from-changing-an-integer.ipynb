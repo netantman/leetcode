{
 "cells": [
  {
   "cell_type": "markdown",
   "metadata": {},
   "source": [
    "## Attempt 1 - Wrong Answer"
   ]
  },
  {
   "cell_type": "code",
   "execution_count": null,
   "metadata": {},
   "outputs": [],
   "source": [
    "class Solution:\n",
    "    def maxDiff(self, num: int) -> int:\n",
    "        num = str(num)\n",
    "        digits = list(num)\n",
    "        \n",
    "        minn, maxx = None, None\n",
    "        \n",
    "        for idx, c in enumerate(digits):\n",
    "            if idx == 0 and int(c) > 1:\n",
    "                minn = int(num.replace(c, \"1\"))\n",
    "                break\n",
    "            if idx > 0 and int(c) > 0:  ## --> did not consider the edge case like 111\n",
    "                minn = int(num.replace(c, \"0\"))\n",
    "                break\n",
    "        else:\n",
    "            minn = int(num)\n",
    "            \n",
    "        for c in digits:\n",
    "            if int(c) < 9:\n",
    "                maxx = int(num.replace(c, \"9\"))\n",
    "                break\n",
    "        else:\n",
    "            maxx = int(num)\n",
    "\n",
    "        return maxx - minn"
   ]
  },
  {
   "cell_type": "markdown",
   "metadata": {},
   "source": [
    "## Attempt 2 - Accepted"
   ]
  },
  {
   "cell_type": "code",
   "execution_count": null,
   "metadata": {},
   "outputs": [],
   "source": [
    "class Solution:\n",
    "    def maxDiff(self, num: int) -> int:\n",
    "        num = str(num)\n",
    "        digits = list(num)\n",
    "        \n",
    "        minn, maxx = None, None\n",
    "        \n",
    "        for idx, c in enumerate(digits):\n",
    "            if idx == 0 and int(c) > 1:\n",
    "                minn = int(num.replace(c, \"1\"))\n",
    "                break\n",
    "            if idx > 0 and int(c) > 0 and c != digits[0]:\n",
    "                minn = int(num.replace(c, \"0\"))\n",
    "                break\n",
    "        else:\n",
    "            minn = int(num)\n",
    "            \n",
    "        for c in digits:\n",
    "            if int(c) < 9:\n",
    "                maxx = int(num.replace(c, \"9\"))\n",
    "                break\n",
    "        else:\n",
    "            maxx = int(num)\n",
    "\n",
    "        return maxx - minn"
   ]
  },
  {
   "cell_type": "markdown",
   "metadata": {},
   "source": [
    "## Lessons and Thoughts\n",
    " - Missed one edge case as mentioned above."
   ]
  }
 ],
 "metadata": {
  "kernelspec": {
   "display_name": "Python 3",
   "language": "python",
   "name": "python3"
  },
  "language_info": {
   "codemirror_mode": {
    "name": "ipython",
    "version": 3
   },
   "file_extension": ".py",
   "mimetype": "text/x-python",
   "name": "python",
   "nbconvert_exporter": "python",
   "pygments_lexer": "ipython3",
   "version": "3.7.3"
  }
 },
 "nbformat": 4,
 "nbformat_minor": 2
}
