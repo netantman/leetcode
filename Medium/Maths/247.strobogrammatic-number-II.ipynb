{
 "cells": [
  {
   "cell_type": "markdown",
   "metadata": {},
   "source": [
    "## Attempt 1 - Wrong Answer"
   ]
  },
  {
   "cell_type": "code",
   "execution_count": null,
   "metadata": {},
   "outputs": [],
   "source": [
    "class Solution:\n",
    "    def findStrobogrammatic(self, n: int) -> List[str]:       \n",
    "        if n % 2 == 1:\n",
    "            curr = ['0', '1', '8']\n",
    "        else:\n",
    "            curr = [\"\"]\n",
    "        \n",
    "        while len(curr[0]) < n:\n",
    "            new = []\n",
    "            for c in curr:\n",
    "                new.append(\"1\" + c + \"1\")\n",
    "                new.append(\"6\" + c + \"9\")\n",
    "                new.append(\"9\" + c + \"6\")\n",
    "                new.append(\"8\" + c + \"8\")\n",
    "                new.append(\"0\" + c + \"0\")\n",
    "            curr = new\n",
    "        res = [c for c in curr if c[0] != \"0\"] ## --> would not work for n == 1\n",
    "        return res"
   ]
  },
  {
   "cell_type": "markdown",
   "metadata": {},
   "source": [
    "## Attempt 2 - Accepted"
   ]
  },
  {
   "cell_type": "code",
   "execution_count": null,
   "metadata": {},
   "outputs": [],
   "source": [
    "class Solution:\n",
    "    def findStrobogrammatic(self, n: int) -> List[str]:       \n",
    "        if n == 1:\n",
    "            return [\"0\", \"1\", \"8\"]\n",
    "        \n",
    "        if n % 2 == 1:\n",
    "            curr = ['0', '1', '8']\n",
    "        else:\n",
    "            curr = [\"\"]\n",
    "        \n",
    "        while len(curr[0]) < n:\n",
    "            new = []\n",
    "            for c in curr:\n",
    "                new.append(\"1\" + c + \"1\")\n",
    "                new.append(\"6\" + c + \"9\")\n",
    "                new.append(\"9\" + c + \"6\")\n",
    "                new.append(\"8\" + c + \"8\")\n",
    "                new.append(\"0\" + c + \"0\")\n",
    "            curr = new\n",
    "        res = [c for c in curr if c[0] != \"0\"]\n",
    "        return res"
   ]
  },
  {
   "cell_type": "markdown",
   "metadata": {},
   "source": [
    "## Lessons and Thoughts\n",
    "- Missed an edge case"
   ]
  }
 ],
 "metadata": {
  "kernelspec": {
   "display_name": "Python 3",
   "language": "python",
   "name": "python3"
  },
  "language_info": {
   "codemirror_mode": {
    "name": "ipython",
    "version": 3
   },
   "file_extension": ".py",
   "mimetype": "text/x-python",
   "name": "python",
   "nbconvert_exporter": "python",
   "pygments_lexer": "ipython3",
   "version": "3.7.3"
  }
 },
 "nbformat": 4,
 "nbformat_minor": 2
}
