{
 "cells": [
  {
   "cell_type": "markdown",
   "metadata": {},
   "source": [
    "## Attempt 1 - Accepted"
   ]
  },
  {
   "cell_type": "code",
   "execution_count": null,
   "metadata": {},
   "outputs": [],
   "source": [
    "class Solution:\n",
    "    def encode(self, num: int) -> str:\n",
    "        if num == 0:\n",
    "            return \"\"\n",
    "        \n",
    "        n = num\n",
    "        k = 1\n",
    "        while 2 ** k - 1 < n:\n",
    "            k += 1\n",
    "        \n",
    "        if n == 2 ** k - 1:\n",
    "            return \"0\" * k\n",
    "        \n",
    "        m = k - 1\n",
    "        gap = n - (2 ** m - 1)\n",
    "        gap_bin = bin(gap)[2:]\n",
    "        while len(gap_bin) < m:\n",
    "            gap_bin = \"0\" + gap_bin\n",
    "        \n",
    "        return gap_bin"
   ]
  },
  {
   "cell_type": "markdown",
   "metadata": {},
   "source": [
    "## Lessons and Thoughts\n",
    "- Took the problem's hint. The key is to ascertain the number of 0 by getting the first $2^k - 1$ not larger than `num`, and then get the gap between `num` and $2^k - 1$."
   ]
  }
 ],
 "metadata": {
  "kernelspec": {
   "display_name": "Python 3",
   "language": "python",
   "name": "python3"
  },
  "language_info": {
   "codemirror_mode": {
    "name": "ipython",
    "version": 3
   },
   "file_extension": ".py",
   "mimetype": "text/x-python",
   "name": "python",
   "nbconvert_exporter": "python",
   "pygments_lexer": "ipython3",
   "version": "3.7.3"
  }
 },
 "nbformat": 4,
 "nbformat_minor": 2
}
