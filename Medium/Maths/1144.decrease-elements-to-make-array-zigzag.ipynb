{
 "cells": [
  {
   "cell_type": "markdown",
   "metadata": {},
   "source": [
    "## Attempt 1 - Accepted"
   ]
  },
  {
   "cell_type": "code",
   "execution_count": null,
   "metadata": {},
   "outputs": [],
   "source": [
    "class Solution:\n",
    "    def movesToMakeZigzag(self, nums: List[int]) -> int:\n",
    "        L=len(nums)\n",
    "        if L<=2:\n",
    "            return 0\n",
    "        odd, even=0,0\n",
    "        for idx in range(0,L,2):\n",
    "            if idx==0:\n",
    "                m=nums[1]\n",
    "            elif idx+1>=L:\n",
    "                m=nums[idx-1]\n",
    "            else:\n",
    "                m=min(nums[idx-1],nums[idx+1])\n",
    "            even+=max(nums[idx]-(m-1), 0)\n",
    "        for idx in range(1,L,2):\n",
    "            if idx+1>=L:\n",
    "                m=nums[idx-1]\n",
    "            else:\n",
    "                m=min(nums[idx-1],nums[idx+1])\n",
    "            odd+=max(nums[idx]-(m-1), 0)\n",
    "        return min(odd, even)"
   ]
  },
  {
   "cell_type": "markdown",
   "metadata": {},
   "source": [
    "## Lessons and Thoughts\n",
    "- The key is to recognize that decreasing two consecutive numbers does not make sense."
   ]
  }
 ],
 "metadata": {
  "kernelspec": {
   "display_name": "Python 3",
   "language": "python",
   "name": "python3"
  },
  "language_info": {
   "codemirror_mode": {
    "name": "ipython",
    "version": 3
   },
   "file_extension": ".py",
   "mimetype": "text/x-python",
   "name": "python",
   "nbconvert_exporter": "python",
   "pygments_lexer": "ipython3",
   "version": "3.7.3"
  }
 },
 "nbformat": 4,
 "nbformat_minor": 2
}
