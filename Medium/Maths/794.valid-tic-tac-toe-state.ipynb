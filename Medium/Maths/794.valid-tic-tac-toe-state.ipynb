{
 "cells": [
  {
   "cell_type": "markdown",
   "metadata": {},
   "source": [
    "## Attempt 1 - Wrong Answer"
   ]
  },
  {
   "cell_type": "code",
   "execution_count": null,
   "metadata": {},
   "outputs": [],
   "source": [
    "class Solution:\n",
    "    def validTicTacToe(self, board: List[str]) -> bool:\n",
    "        cross=0\n",
    "        if board[0] in {\"XXX\", \"OOO\"}:\n",
    "            cross+=1\n",
    "        if board[1] in {\"XXX\", \"OOO\"}:\n",
    "            cross+=1\n",
    "        if board[2] in {\"XXX\", \"OOO\"}:\n",
    "            cross+=1\n",
    "        if board[0][0]+board[1][0]+board[2][0] in {\"XXX\", \"OOO\"}:\n",
    "            cross+=1\n",
    "        if board[0][1]+board[1][1]+board[2][1] in {\"XXX\", \"OOO\"}:\n",
    "            cross+=1\n",
    "        if board[0][2]+board[1][2]+board[2][2] in {\"XXX\", \"OOO\"}:\n",
    "            cross+=1\n",
    "        if board[0][0]+board[1][1]+board[2][2] in {\"XXX\", \"OOO\"}:\n",
    "            cross+=1\n",
    "        if board[0][2]+board[1][1]+board[2][0] in {\"XXX\", \"OOO\"}:\n",
    "            cross+=1\n",
    "        if cross>1:  ## --> There are cases where there are two crosses for `X`!\n",
    "            return False\n",
    "        X,O=0,0\n",
    "        for i in range(3):\n",
    "            for j in range(3):\n",
    "                X+=board[i][j]==\"X\"\n",
    "                O+=board[i][j]==\"O\"\n",
    "        return X-O in {0,1}"
   ]
  },
  {
   "cell_type": "markdown",
   "metadata": {},
   "source": [
    "## Attempt 2 - Accepted"
   ]
  },
  {
   "cell_type": "code",
   "execution_count": null,
   "metadata": {},
   "outputs": [],
   "source": [
    "class Solution:\n",
    "    def validTicTacToe(self, board: List[str]) -> bool:\n",
    "        Xcross=0\n",
    "        if board[0]==\"XXX\":\n",
    "            Xcross+=1\n",
    "        if board[1]==\"XXX\":\n",
    "            Xcross+=1\n",
    "        if board[2]==\"XXX\":\n",
    "            Xcross+=1\n",
    "        if board[0][0]+board[1][0]+board[2][0]==\"XXX\":\n",
    "            Xcross+=1\n",
    "        if board[0][1]+board[1][1]+board[2][1]==\"XXX\":\n",
    "            Xcross+=1\n",
    "        if board[0][2]+board[1][2]+board[2][2]==\"XXX\":\n",
    "            Xcross+=1\n",
    "        if board[0][0]+board[1][1]+board[2][2]==\"XXX\":\n",
    "            Xcross+=1\n",
    "        if board[0][2]+board[1][1]+board[2][0]==\"XXX\":\n",
    "            Xcross+=1\n",
    "        Ocross=0\n",
    "        if board[0]==\"OOO\":\n",
    "            Ocross+=1\n",
    "        if board[1]==\"OOO\":\n",
    "            Ocross+=1\n",
    "        if board[2]==\"OOO\":\n",
    "            Ocross+=1\n",
    "        if board[0][0]+board[1][0]+board[2][0]==\"OOO\":\n",
    "            Ocross+=1\n",
    "        if board[0][1]+board[1][1]+board[2][1]==\"OOO\":\n",
    "            Ocross+=1\n",
    "        if board[0][2]+board[1][2]+board[2][2]==\"OOO\":\n",
    "            Ocross+=1\n",
    "        if board[0][0]+board[1][1]+board[2][2]==\"OOO\":\n",
    "            Ocross+=1\n",
    "        if board[0][2]+board[1][1]+board[2][0]==\"OOO\":\n",
    "            Ocross+=1\n",
    "        \n",
    "        if Xcross*Ocross>0:\n",
    "            return False\n",
    "        \n",
    "        X,O=0,0\n",
    "        for i in range(3):\n",
    "            for j in range(3):\n",
    "                X+=board[i][j]==\"X\"\n",
    "                O+=board[i][j]==\"O\"\n",
    "        if Xcross>0:\n",
    "            return X-O==1\n",
    "        if Ocross>0:\n",
    "            return X-O==0\n",
    "        return X-O in {0,1}"
   ]
  },
  {
   "cell_type": "markdown",
   "metadata": {},
   "source": [
    "## Lessons and Thoughts\n",
    "Many edge cases\n",
    "- `X` and `O` cannot cross at the same time.\n",
    "- If `X` crosses, `X` count should be 1 more than `O` count. Otherwise the two should count the same.\n",
    "- In any case `X` count should be 1 more than or equal to `Y` count."
   ]
  }
 ],
 "metadata": {
  "kernelspec": {
   "display_name": "Python 3",
   "language": "python",
   "name": "python3"
  },
  "language_info": {
   "codemirror_mode": {
    "name": "ipython",
    "version": 3
   },
   "file_extension": ".py",
   "mimetype": "text/x-python",
   "name": "python",
   "nbconvert_exporter": "python",
   "pygments_lexer": "ipython3",
   "version": "3.7.3"
  }
 },
 "nbformat": 4,
 "nbformat_minor": 2
}
