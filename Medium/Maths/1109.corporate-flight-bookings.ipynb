{
 "cells": [
  {
   "cell_type": "markdown",
   "metadata": {},
   "source": [
    "## Attempt 1 - Brute Force, Time Limit Exceeded"
   ]
  },
  {
   "cell_type": "code",
   "execution_count": null,
   "metadata": {},
   "outputs": [],
   "source": [
    "class Solution:\n",
    "    def corpFlightBookings(self, bookings: List[List[int]], n: int) -> List[int]:\n",
    "        res=[0 for _ in range(n)]\n",
    "        for book in bookings:\n",
    "            for idx in range(book[0]-1, book[1]):\n",
    "                res[idx]+=book[2]\n",
    "        return res"
   ]
  },
  {
   "cell_type": "markdown",
   "metadata": {},
   "source": [
    "## Attempt 2 - Accepted"
   ]
  },
  {
   "cell_type": "code",
   "execution_count": null,
   "metadata": {},
   "outputs": [],
   "source": [
    "class Solution:\n",
    "    def corpFlightBookings(self, bookings: List[List[int]], n: int) -> List[int]:\n",
    "        res=[0 for _ in range(n)]\n",
    "        for book in bookings:\n",
    "            res[book[0]-1]+=book[2]\n",
    "            if book[1]<n:\n",
    "                res[book[1]]-=book[2]\n",
    "        for idx in range(1,n):\n",
    "                res[idx]+=res[idx-1]\n",
    "        return res"
   ]
  },
  {
   "cell_type": "markdown",
   "metadata": {},
   "source": [
    "## Lessons and Thoughts\n",
    "- Accepted algo inspired by the app, but nice trick!"
   ]
  }
 ],
 "metadata": {
  "kernelspec": {
   "display_name": "Python 3",
   "language": "python",
   "name": "python3"
  },
  "language_info": {
   "codemirror_mode": {
    "name": "ipython",
    "version": 3
   },
   "file_extension": ".py",
   "mimetype": "text/x-python",
   "name": "python",
   "nbconvert_exporter": "python",
   "pygments_lexer": "ipython3",
   "version": "3.7.3"
  }
 },
 "nbformat": 4,
 "nbformat_minor": 2
}
