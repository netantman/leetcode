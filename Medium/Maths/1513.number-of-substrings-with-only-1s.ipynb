{
 "cells": [
  {
   "cell_type": "markdown",
   "metadata": {},
   "source": [
    "## Attempt 1 - Accepted"
   ]
  },
  {
   "cell_type": "code",
   "execution_count": null,
   "metadata": {},
   "outputs": [],
   "source": [
    "class Solution:\n",
    "    def numSub(self, s: str) -> int:\n",
    "        def count_sub(n):\n",
    "            return (n* (n + 1) // 2) % (10**9 + 7)\n",
    "        \n",
    "        s = s.lstrip(\"0\")\n",
    "        s = s.rstrip(\"0\")\n",
    "        L = len(s)\n",
    "        left, right = 0, 1\n",
    "        cnt = 0\n",
    "        while right < L:\n",
    "            if s[right] == \"1\":\n",
    "                right += 1\n",
    "            else:\n",
    "                cnt += count_sub(right - left)\n",
    "                left = right\n",
    "                while left < L and s[left] == \"0\":\n",
    "                    left += 1\n",
    "                    right = left + 1\n",
    "        cnt += count_sub(L - left)\n",
    "        return cnt % (10**9 + 7)"
   ]
  },
  {
   "cell_type": "markdown",
   "metadata": {},
   "source": [
    "## Lessons and Thoughts\n",
    "- The key is to count how many substrings there are in a series of consecutive `\"1\"`s. The formula can be proved by induction."
   ]
  }
 ],
 "metadata": {
  "kernelspec": {
   "display_name": "Python 3",
   "language": "python",
   "name": "python3"
  },
  "language_info": {
   "codemirror_mode": {
    "name": "ipython",
    "version": 3
   },
   "file_extension": ".py",
   "mimetype": "text/x-python",
   "name": "python",
   "nbconvert_exporter": "python",
   "pygments_lexer": "ipython3",
   "version": "3.7.3"
  }
 },
 "nbformat": 4,
 "nbformat_minor": 2
}
