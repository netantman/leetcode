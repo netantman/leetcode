{
 "cells": [
  {
   "cell_type": "markdown",
   "metadata": {},
   "source": [
    "## Attempt 1 - Accepted"
   ]
  },
  {
   "cell_type": "code",
   "execution_count": null,
   "metadata": {},
   "outputs": [],
   "source": [
    "class Solution:\n",
    "    def clumsy(self, N: int) -> int:\n",
    "        if N==1:\n",
    "            return 1\n",
    "        elif N==2:\n",
    "            return 2*1\n",
    "        elif N==3:\n",
    "            return 3*2//1\n",
    "        elif N==4:\n",
    "            return 4*3//2+1\n",
    "        else:\n",
    "            s=N*(N-1)//(N-2)+(N-3)\n",
    "            while N>=9:\n",
    "                N-=4\n",
    "                s-=(N*(N-1)//(N-2))\n",
    "                s+=(N-3)\n",
    "            if N-4==1:\n",
    "                s-=1\n",
    "            elif N-4==2:\n",
    "                s-=2*1\n",
    "            elif N-4==3:\n",
    "                s-=3*2//1\n",
    "            elif N-4==4:\n",
    "                s-=4*3//2\n",
    "                s+=1\n",
    "            return s\n",
    "            "
   ]
  },
  {
   "cell_type": "markdown",
   "metadata": {},
   "source": [
    "## Lessons and Thoughts\n",
    "- Edge cases include N is from 1 to 4; N is from 5 to 8."
   ]
  }
 ],
 "metadata": {
  "kernelspec": {
   "display_name": "Python 3",
   "language": "python",
   "name": "python3"
  },
  "language_info": {
   "codemirror_mode": {
    "name": "ipython",
    "version": 3
   },
   "file_extension": ".py",
   "mimetype": "text/x-python",
   "name": "python",
   "nbconvert_exporter": "python",
   "pygments_lexer": "ipython3",
   "version": "3.7.3"
  }
 },
 "nbformat": 4,
 "nbformat_minor": 2
}
