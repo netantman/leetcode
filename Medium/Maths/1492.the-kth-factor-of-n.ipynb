{
 "cells": [
  {
   "cell_type": "markdown",
   "metadata": {},
   "source": [
    "## Attempt 1 - Wrong Answer"
   ]
  },
  {
   "cell_type": "code",
   "execution_count": null,
   "metadata": {},
   "outputs": [],
   "source": [
    "class Solution:\n",
    "    def kthFactor(self, n: int, k: int) -> int:\n",
    "        small, big = [], []\n",
    "        curr = 1\n",
    "        cnt = 0\n",
    "        while n // curr >= curr:\n",
    "            if n % curr < 1:\n",
    "                small.append(curr)\n",
    "                big.append(n // curr)\n",
    "                cnt += 1\n",
    "                if cnt >= k:\n",
    "                    return small[-1]\n",
    "            curr += 1 \n",
    "            \n",
    "            ## --> did not consider the case of squares\n",
    "        \n",
    "        if len(small) + len(big) < k:\n",
    "            return -1\n",
    "        \n",
    "        return big[-(k - len(small))]"
   ]
  },
  {
   "cell_type": "markdown",
   "metadata": {},
   "source": [
    "## Attempt 2 - Accepted"
   ]
  },
  {
   "cell_type": "code",
   "execution_count": null,
   "metadata": {},
   "outputs": [],
   "source": [
    "class Solution:\n",
    "    def kthFactor(self, n: int, k: int) -> int:\n",
    "        small, big = [], []\n",
    "        curr = 1\n",
    "        cnt = 0\n",
    "        while n // curr >= curr:\n",
    "            if n % curr < 1:\n",
    "                small.append(curr)\n",
    "                big.append(n // curr)\n",
    "                cnt += 1\n",
    "                if cnt >= k:\n",
    "                    return small[-1]\n",
    "            curr += 1\n",
    "        \n",
    "        if big[-1]==small[-1]:\n",
    "            big.pop()\n",
    "        \n",
    "        if len(small) + len(big) < k:\n",
    "            return -1\n",
    "        \n",
    "        return big[-(k - len(small))]"
   ]
  },
  {
   "cell_type": "markdown",
   "metadata": {},
   "source": [
    "## Lessons and Thoughts\n",
    "- Missed edge case is when the number is a square."
   ]
  }
 ],
 "metadata": {
  "kernelspec": {
   "display_name": "Python 3",
   "language": "python",
   "name": "python3"
  },
  "language_info": {
   "codemirror_mode": {
    "name": "ipython",
    "version": 3
   },
   "file_extension": ".py",
   "mimetype": "text/x-python",
   "name": "python",
   "nbconvert_exporter": "python",
   "pygments_lexer": "ipython3",
   "version": "3.7.3"
  }
 },
 "nbformat": 4,
 "nbformat_minor": 2
}
