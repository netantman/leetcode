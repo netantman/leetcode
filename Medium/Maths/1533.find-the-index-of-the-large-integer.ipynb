{
 "cells": [
  {
   "cell_type": "markdown",
   "metadata": {},
   "source": [
    "## Attempt 1 - Accepted"
   ]
  },
  {
   "cell_type": "code",
   "execution_count": null,
   "metadata": {},
   "outputs": [],
   "source": [
    "# \"\"\"\n",
    "# This is ArrayReader's API interface.\n",
    "# You should not implement it, or speculate about its implementation\n",
    "# \"\"\"\n",
    "#class ArrayReader(object):\n",
    "#\t # Compares the sum of arr[l..r] with the sum of arr[x..y]\n",
    "#\t # return 1 if sum(arr[l..r]) > sum(arr[x..y])\n",
    "#\t # return 0 if sum(arr[l..r]) == sum(arr[x..y])\n",
    "#\t # return -1 if sum(arr[l..r]) < sum(arr[x..y])\n",
    "#    def compareSub(self, l: int, r: int, x: int, y: int) -> int:\n",
    "#\n",
    "#\t # Returns the length of the array\n",
    "#    def length(self) -> int:\n",
    "#\n",
    "\n",
    "\n",
    "class Solution:\n",
    "    def getIndex(self, reader: 'ArrayReader') -> int:\n",
    "        L = reader.length()\n",
    "        start, end = 0, L - 1\n",
    "        l, r, x, y = start, start + (end - start + 1) // 3 - 1, end - (end - start + 1) // 3 + 1, end\n",
    "        while end - start + 1 >= 3:\n",
    "            # print(l, r, x, y)\n",
    "            res = reader.compareSub(l, r, x, y)\n",
    "            if res == 1:\n",
    "                start, end = l, r\n",
    "                l, r, x, y = start, start + (end - start + 1) // 3 - 1, end - (end - start + 1) // 3 + 1, end\n",
    "                continue\n",
    "            if res == 0:\n",
    "                start, end = r + 1, x - 1\n",
    "                l, r, x, y = start, start + (end - start + 1) // 3 - 1, end - (end - start + 1) // 3 + 1, end\n",
    "                continue\n",
    "            if res == -1:\n",
    "                start, end = x, y\n",
    "                l, r, x, y = start, start + (end - start + 1) // 3 - 1, end - (end - start + 1) // 3 + 1, end\n",
    "                continue\n",
    "        \n",
    "        if end == start:\n",
    "            return start\n",
    "        \n",
    "        if end - start == 1:\n",
    "            res = reader.compareSub(start, start, end, end)\n",
    "            return start if res == 1 else end"
   ]
  },
  {
   "cell_type": "markdown",
   "metadata": {},
   "source": [
    "## Lessons and Thoughts\n",
    "- Classical brain teaser where each time divide the whole pile by 3."
   ]
  }
 ],
 "metadata": {
  "kernelspec": {
   "display_name": "Python 3",
   "language": "python",
   "name": "python3"
  },
  "language_info": {
   "codemirror_mode": {
    "name": "ipython",
    "version": 3
   },
   "file_extension": ".py",
   "mimetype": "text/x-python",
   "name": "python",
   "nbconvert_exporter": "python",
   "pygments_lexer": "ipython3",
   "version": "3.7.3"
  }
 },
 "nbformat": 4,
 "nbformat_minor": 2
}
