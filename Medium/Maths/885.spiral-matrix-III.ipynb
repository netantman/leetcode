{
 "cells": [
  {
   "cell_type": "markdown",
   "metadata": {},
   "source": [
    "## Attempt 1 - Accepted"
   ]
  },
  {
   "cell_type": "code",
   "execution_count": null,
   "metadata": {},
   "outputs": [],
   "source": [
    "class Solution:\n",
    "    def spiralMatrixIII(self, R: int, C: int, r0: int, c0: int) -> List[List[int]]:\n",
    "        directions=[[0,1],[1,0],[0,-1],[-1,0]]\n",
    "        turn=0\n",
    "        length=0\n",
    "        r,c=r0,c0\n",
    "        res=[[r0,c0]]\n",
    "        idx=3\n",
    "        while len(res)<R*C:\n",
    "            turn+=1\n",
    "            idx=(idx+1)%4\n",
    "            d=directions[idx]\n",
    "            if turn%2>0:\n",
    "                length+=1\n",
    "            for _ in range(length):\n",
    "                r+=d[0] \n",
    "                c+=d[1]\n",
    "                if r>=0 and r<R and c>=0 and c<C:\n",
    "                    res.append([r,c])\n",
    "        return res"
   ]
  },
  {
   "cell_type": "markdown",
   "metadata": {},
   "source": [
    "## Lessons and Thoughts\n",
    "- Be careful when you need to set the directions: it is not the same as the usual Cartesian system."
   ]
  }
 ],
 "metadata": {
  "kernelspec": {
   "display_name": "Python 3",
   "language": "python",
   "name": "python3"
  },
  "language_info": {
   "codemirror_mode": {
    "name": "ipython",
    "version": 3
   },
   "file_extension": ".py",
   "mimetype": "text/x-python",
   "name": "python",
   "nbconvert_exporter": "python",
   "pygments_lexer": "ipython3",
   "version": "3.7.3"
  }
 },
 "nbformat": 4,
 "nbformat_minor": 2
}
