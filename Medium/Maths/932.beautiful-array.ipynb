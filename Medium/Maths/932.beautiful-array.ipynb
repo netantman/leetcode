{
 "cells": [
  {
   "cell_type": "markdown",
   "metadata": {},
   "source": [
    "## Attempt 1 - Accepted"
   ]
  },
  {
   "cell_type": "code",
   "execution_count": null,
   "metadata": {},
   "outputs": [],
   "source": [
    "class Solution:\n",
    "    def beautifulArray(self, N: int) -> List[int]:\n",
    "        if N==1:\n",
    "            return [1]\n",
    "        elif N==2:\n",
    "            return [1,2]\n",
    "        if N%2==0:\n",
    "            odd=self.beautifulArray(N//2)\n",
    "            even=self.beautifulArray(N//2)\n",
    "        else:\n",
    "            odd=self.beautifulArray((N+1)//2)\n",
    "            even=self.beautifulArray(N//2)\n",
    "        odd=[2*o-1 for o in odd]\n",
    "        even=[2*e for e in even]\n",
    "        return odd+even"
   ]
  },
  {
   "cell_type": "markdown",
   "metadata": {},
   "source": [
    "## Lessons and Thoughts\n",
    "- Solution from leetcode app. It is labeled 'Divide and Conquer'. The key is to recognize you can deal with the case of odd and even numbers separately."
   ]
  }
 ],
 "metadata": {
  "kernelspec": {
   "display_name": "Python 3",
   "language": "python",
   "name": "python3"
  },
  "language_info": {
   "codemirror_mode": {
    "name": "ipython",
    "version": 3
   },
   "file_extension": ".py",
   "mimetype": "text/x-python",
   "name": "python",
   "nbconvert_exporter": "python",
   "pygments_lexer": "ipython3",
   "version": "3.7.3"
  }
 },
 "nbformat": 4,
 "nbformat_minor": 2
}
