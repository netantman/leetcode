{
 "cells": [
  {
   "cell_type": "markdown",
   "metadata": {},
   "source": [
    "## Attempt 1 - Accepted"
   ]
  },
  {
   "cell_type": "code",
   "execution_count": null,
   "metadata": {},
   "outputs": [],
   "source": [
    "class Solution:\n",
    "    def numTriplets(self, nums1: List[int], nums2: List[int]) -> int:\n",
    "        rec1, rec2 = dict(), dict()\n",
    "        for n in nums1:\n",
    "            rec1[n] = rec1.get(n, 0) + 1\n",
    "        for n in nums2:\n",
    "            rec2[n] = rec2.get(n, 0) + 1\n",
    "        \n",
    "        cnt = 0\n",
    "        for n in nums1:\n",
    "            for k in rec2.keys():\n",
    "                if k == n:\n",
    "                    cnt += rec2[k] * (rec2[k] - 1)\n",
    "                elif ((n * n) % k < 1) and ((n * n // k) in rec2):\n",
    "                    cnt += rec2[k] * rec2[n * n // k]\n",
    "                \n",
    "        for n in nums2:\n",
    "            for k in rec1.keys():\n",
    "                if k == n:\n",
    "                    cnt += rec1[k] * (rec1[k] - 1)\n",
    "                elif ((n * n) % k < 1) and ((n * n // k) in rec1):\n",
    "                    cnt += rec1[k] * rec1[n * n // k]\n",
    "        \n",
    "        return cnt // 2"
   ]
  },
  {
   "cell_type": "markdown",
   "metadata": {},
   "source": [
    "## Lessons and Thoughts\n",
    "- Almost like brute force. The edge cases are `n == k` and each pairs will be counted twice."
   ]
  }
 ],
 "metadata": {
  "kernelspec": {
   "display_name": "Python 3",
   "language": "python",
   "name": "python3"
  },
  "language_info": {
   "codemirror_mode": {
    "name": "ipython",
    "version": 3
   },
   "file_extension": ".py",
   "mimetype": "text/x-python",
   "name": "python",
   "nbconvert_exporter": "python",
   "pygments_lexer": "ipython3",
   "version": "3.7.3"
  }
 },
 "nbformat": 4,
 "nbformat_minor": 2
}
