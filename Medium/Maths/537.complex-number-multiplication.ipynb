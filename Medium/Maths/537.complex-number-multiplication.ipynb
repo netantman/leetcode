{
 "cells": [
  {
   "cell_type": "markdown",
   "metadata": {},
   "source": [
    "## Attempt 1 - Accepted"
   ]
  },
  {
   "cell_type": "code",
   "execution_count": null,
   "metadata": {},
   "outputs": [],
   "source": [
    "class Solution:\n",
    "    def complexNumberMultiply(self, a: str, b: str) -> str:\n",
    "        a=a.split(\"+\")\n",
    "        xa,ya=int(a[0]),a[1]\n",
    "        ya=int(ya[:-1])\n",
    "        b=b.split(\"+\")\n",
    "        xb,yb=int(b[0]),b[1]\n",
    "        yb=int(yb[:-1])\n",
    "        \n",
    "        x=int(xa*xb-ya*yb)\n",
    "        y=int(xa*yb+xb*ya)\n",
    "        return str(x)+\"+\"+str(y)+\"i\""
   ]
  },
  {
   "cell_type": "markdown",
   "metadata": {},
   "source": [
    "## Lessons and Thoughts\n",
    "- Straightforward in python - casting from and to between `int` and `str` is very liberal."
   ]
  }
 ],
 "metadata": {
  "kernelspec": {
   "display_name": "Python 3",
   "language": "python",
   "name": "python3"
  },
  "language_info": {
   "codemirror_mode": {
    "name": "ipython",
    "version": 3
   },
   "file_extension": ".py",
   "mimetype": "text/x-python",
   "name": "python",
   "nbconvert_exporter": "python",
   "pygments_lexer": "ipython3",
   "version": "3.7.3"
  }
 },
 "nbformat": 4,
 "nbformat_minor": 2
}
