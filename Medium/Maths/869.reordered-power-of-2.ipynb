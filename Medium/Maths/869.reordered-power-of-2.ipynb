{
 "cells": [
  {
   "cell_type": "markdown",
   "metadata": {},
   "source": [
    "## Attempt 1 - Accepted"
   ]
  },
  {
   "cell_type": "code",
   "execution_count": null,
   "metadata": {},
   "outputs": [],
   "source": [
    "class Solution:\n",
    "    def reorderedPowerOf2(self, N: int) -> bool:\n",
    "        record=dict()\n",
    "        for idx in range(32):\n",
    "            curr=str(2**idx)\n",
    "            item=[0 for _ in range(10)]\n",
    "            for c in curr:\n",
    "                item[int(c)]+=1\n",
    "            record[len(curr)]=record.get(len(curr),[])+[item]\n",
    "        N=str(N)\n",
    "        bench=[0 for _ in range(10)]\n",
    "        for c in N:\n",
    "            bench[int(c)]+=1\n",
    "        return bench in record[len(N)]"
   ]
  },
  {
   "cell_type": "markdown",
   "metadata": {},
   "source": [
    "## Lessons and Thoughts\n",
    "- The idea is to enumerate 2's powers."
   ]
  }
 ],
 "metadata": {
  "kernelspec": {
   "display_name": "Python 3",
   "language": "python",
   "name": "python3"
  },
  "language_info": {
   "codemirror_mode": {
    "name": "ipython",
    "version": 3
   },
   "file_extension": ".py",
   "mimetype": "text/x-python",
   "name": "python",
   "nbconvert_exporter": "python",
   "pygments_lexer": "ipython3",
   "version": "3.7.3"
  }
 },
 "nbformat": 4,
 "nbformat_minor": 2
}
