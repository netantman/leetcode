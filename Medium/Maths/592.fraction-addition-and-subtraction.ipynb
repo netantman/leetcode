{
 "cells": [
  {
   "cell_type": "markdown",
   "metadata": {},
   "source": [
    "## Attempt 1 - Accepted"
   ]
  },
  {
   "cell_type": "code",
   "execution_count": null,
   "metadata": {},
   "outputs": [],
   "source": [
    "class Solution:\n",
    "    def fractionAddition(self, expression: str) -> str:\n",
    "        to_split=expression.replace(\"+\", \",\")\n",
    "        to_split=to_split.replace(\"-\", \",\")\n",
    "        fractions_str=to_split.split(\",\")\n",
    "        ops=[]\n",
    "        for e in expression:\n",
    "            if e==\"+\":\n",
    "                ops.append(1)\n",
    "            elif e==\"-\":\n",
    "                ops.append(-1)\n",
    "                \n",
    "        L=len(fractions_str)\n",
    "        if L==1:\n",
    "            return fractions_str[0]\n",
    "        else:\n",
    "            if expression[0]==\"-\":\n",
    "                fractions_str.pop(0)\n",
    "            else:\n",
    "                ops=[1]+ops\n",
    "        L=len(fractions_str)\n",
    "        \n",
    "        norms=[int(fra.split(\"/\")[0]) for fra in fractions_str]\n",
    "        denoms=[int(fra.split(\"/\")[1]) for fra in fractions_str]\n",
    "        denoms_prod=1\n",
    "        for denom in denoms:\n",
    "            denoms_prod*=denom\n",
    "        large_norm=0\n",
    "        \n",
    "        for idx in range(L):\n",
    "            large_norm+=norms[idx]*int(denoms_prod/denoms[idx])*ops[idx]\n",
    "        sign=1 if large_norm>=0 else -1\n",
    "        large_norm=abs(large_norm)\n",
    "        \n",
    "        if large_norm==0:\n",
    "            return \"0/1\"\n",
    "        \n",
    "        def gcd(x, y):\n",
    "            if x<y:\n",
    "                x,y=y,x\n",
    "            d=x%y\n",
    "            while d>0:\n",
    "                x,y=y,d\n",
    "                d=x%y\n",
    "            return y\n",
    "        \n",
    "        g=gcd(large_norm, denoms_prod)\n",
    "        large_norm/=g\n",
    "        large_norm*=sign\n",
    "        denoms_prod/=g\n",
    "        return str(int(large_norm))+\"/\"+str(int(denoms_prod))\n",
    "        "
   ]
  },
  {
   "cell_type": "markdown",
   "metadata": {},
   "source": [
    "## Lessons and Thoughts\n",
    "Things that need attention include:\n",
    "- gcd sub-routine, especially when one of the two is zero\n",
    "- gleaning the fractions and ops\n",
    "- The sign"
   ]
  }
 ],
 "metadata": {
  "kernelspec": {
   "display_name": "Python 3",
   "language": "python",
   "name": "python3"
  },
  "language_info": {
   "codemirror_mode": {
    "name": "ipython",
    "version": 3
   },
   "file_extension": ".py",
   "mimetype": "text/x-python",
   "name": "python",
   "nbconvert_exporter": "python",
   "pygments_lexer": "ipython3",
   "version": "3.7.3"
  }
 },
 "nbformat": 4,
 "nbformat_minor": 2
}
