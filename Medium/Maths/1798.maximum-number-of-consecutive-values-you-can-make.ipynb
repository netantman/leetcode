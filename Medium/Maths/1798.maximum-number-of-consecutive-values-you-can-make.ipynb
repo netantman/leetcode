{
 "cells": [
  {
   "cell_type": "markdown",
   "metadata": {},
   "source": [
    "## Attempt 1 - Memory Limit Exceeded"
   ]
  },
  {
   "cell_type": "code",
   "execution_count": null,
   "metadata": {},
   "outputs": [],
   "source": [
    "class Solution:\n",
    "    def getMaximumConsecutive(self, coins: List[int]) -> int:\n",
    "        collect = dict()\n",
    "        for c in coins:\n",
    "            collect[c] = collect.get(c, 0) + 1\n",
    "        dp = [[collect]]\n",
    "        res = 1\n",
    "        while True:\n",
    "            curr = []\n",
    "            for idx in range(res):\n",
    "                diff = res - idx\n",
    "                for c in dp[idx]:\n",
    "                    if c.get(diff, 0) > 0:\n",
    "                        tmp = {k: v for k, v in c.items()}\n",
    "                        tmp[diff] -= 1\n",
    "                        curr.append(tmp)\n",
    "            if curr:\n",
    "                dp.append(curr)\n",
    "                res += 1\n",
    "            else:\n",
    "                return res"
   ]
  },
  {
   "cell_type": "markdown",
   "metadata": {},
   "source": [
    "## Attempt 2 - Time Limit Exceeded"
   ]
  },
  {
   "cell_type": "code",
   "execution_count": null,
   "metadata": {},
   "outputs": [],
   "source": [
    "class Solution:\n",
    "    def getMaximumConsecutive(self, coins: List[int]) -> int:\n",
    "        collect = dict()\n",
    "        for c in coins:\n",
    "            collect[c] = collect.get(c, 0) + 1\n",
    "        dp = [[tuple((k, v) for k, v in collect.items())]]\n",
    "        \n",
    "        res = 1\n",
    "        while True:\n",
    "            curr = set()\n",
    "            for idx in range(res):\n",
    "                diff = res - idx\n",
    "                for c in dp[idx]:\n",
    "                    c = {elem[0]: elem[1] for elem in c}\n",
    "                    if c.get(diff, 0) > 0:\n",
    "                        tmp = {k: v for k, v in c.items()}\n",
    "                        tmp[diff] -= 1\n",
    "                        tmp = tuple((k, v) for k, v in tmp.items())\n",
    "                        if tmp not in curr:\n",
    "                            curr.add(tmp)\n",
    "            # print(res)\n",
    "            # print(curr)\n",
    "            if curr:\n",
    "                dp.append(curr)\n",
    "                res += 1\n",
    "            else:\n",
    "                return res"
   ]
  },
  {
   "cell_type": "markdown",
   "metadata": {},
   "source": [
    "## Attempt 3 - Accepted"
   ]
  },
  {
   "cell_type": "code",
   "execution_count": null,
   "metadata": {},
   "outputs": [],
   "source": [
    "class Solution:\n",
    "    def getMaximumConsecutive(self, coins: List[int]) -> int:\n",
    "        if min(coins) > 1:\n",
    "            return 1\n",
    "        \n",
    "        coins = sorted(coins)\n",
    "        x = 1\n",
    "        L = len(coins)\n",
    "        for idx in range(1, L):\n",
    "            if coins[idx] > x + 1:\n",
    "                return x + 1\n",
    "            else:\n",
    "                x += coins[idx]\n",
    "        \n",
    "        return x + 1"
   ]
  },
  {
   "cell_type": "markdown",
   "metadata": {},
   "source": [
    "## Lessons and Thoughts\n",
    "- The accepted solution is inspired by the hints. "
   ]
  }
 ],
 "metadata": {
  "kernelspec": {
   "display_name": "Python 3",
   "language": "python",
   "name": "python3"
  },
  "language_info": {
   "codemirror_mode": {
    "name": "ipython",
    "version": 3
   },
   "file_extension": ".py",
   "mimetype": "text/x-python",
   "name": "python",
   "nbconvert_exporter": "python",
   "pygments_lexer": "ipython3",
   "version": "3.7.3"
  }
 },
 "nbformat": 4,
 "nbformat_minor": 2
}
