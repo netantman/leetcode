{
 "cells": [
  {
   "cell_type": "markdown",
   "metadata": {},
   "source": [
    "## Attempt 1 - Time Limit Exceeded"
   ]
  },
  {
   "cell_type": "markdown",
   "metadata": {},
   "source": [
    "Establishing a list to call from incurs a one-time overhang, and will only make sense if the calls of `flip` and `reset` are many."
   ]
  },
  {
   "cell_type": "code",
   "execution_count": null,
   "metadata": {},
   "outputs": [],
   "source": [
    "import random\n",
    "\n",
    "class Solution:\n",
    "\n",
    "    def __init__(self, n_rows: int, n_cols: int):\n",
    "        seq=[[r, c] for c in range(n_cols) for r in range(n_rows)]\n",
    "        random.shuffle(seq)\n",
    "        self.seq=seq\n",
    "        self.area=n_rows*n_cols\n",
    "        idx=random.randrange(0,self.area,1)\n",
    "        self.idx=idx\n",
    "\n",
    "    def flip(self) -> List[int]:\n",
    "        res=self.seq[self.idx]\n",
    "        self.idx=(self.idx+1)%(self.area)\n",
    "        return res\n",
    "\n",
    "    def reset(self) -> None:\n",
    "        idx=random.randrange(0,self.area,1)\n",
    "        self.idx=idx\n",
    "        \n",
    "\n",
    "\n",
    "# Your Solution object will be instantiated and called as such:\n",
    "# obj = Solution(n_rows, n_cols)\n",
    "# param_1 = obj.flip()\n",
    "# obj.reset()"
   ]
  },
  {
   "cell_type": "markdown",
   "metadata": {},
   "source": [
    "## Attempt 2 - Accepted"
   ]
  },
  {
   "cell_type": "markdown",
   "metadata": {},
   "source": [
    "Thus this simpler solution works - just keep track of points already flipped."
   ]
  },
  {
   "cell_type": "code",
   "execution_count": null,
   "metadata": {},
   "outputs": [],
   "source": [
    "import random\n",
    "\n",
    "class Solution:\n",
    "\n",
    "    def __init__(self, n_rows: int, n_cols: int):\n",
    "        self.cache=set()\n",
    "        self.n_rows=n_rows\n",
    "        self.n_cols=n_cols\n",
    "\n",
    "    def flip(self) -> List[int]:\n",
    "        r=random.randrange(0,self.n_rows,1)\n",
    "        c=random.randrange(0,self.n_cols,1)\n",
    "        while (r,c) in self.cache:\n",
    "            r=random.randrange(0,self.n_rows,1)\n",
    "            c=random.randrange(0,self.n_cols,1)\n",
    "        self.cache.add((r,c))\n",
    "        return [r,c]\n",
    "\n",
    "    def reset(self) -> None:\n",
    "        self.cache=set()\n",
    "        \n",
    "\n",
    "\n",
    "# Your Solution object will be instantiated and called as such:\n",
    "# obj = Solution(n_rows, n_cols)\n",
    "# param_1 = obj.flip()\n",
    "# obj.reset()"
   ]
  },
  {
   "cell_type": "markdown",
   "metadata": {},
   "source": [
    "## Lessons and Thoughts\n",
    "- `random.shuffle()` is in place.\n",
    "- Note that we do not actually have to maintain a matrix of zeros and ones."
   ]
  }
 ],
 "metadata": {
  "kernelspec": {
   "display_name": "Python 3",
   "language": "python",
   "name": "python3"
  },
  "language_info": {
   "codemirror_mode": {
    "name": "ipython",
    "version": 3
   },
   "file_extension": ".py",
   "mimetype": "text/x-python",
   "name": "python",
   "nbconvert_exporter": "python",
   "pygments_lexer": "ipython3",
   "version": "3.7.3"
  }
 },
 "nbformat": 4,
 "nbformat_minor": 2
}
