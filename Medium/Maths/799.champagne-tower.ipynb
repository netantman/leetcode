{
 "cells": [
  {
   "cell_type": "markdown",
   "metadata": {},
   "source": [
    "## Attempt 1 - Accepted"
   ]
  },
  {
   "cell_type": "code",
   "execution_count": null,
   "metadata": {},
   "outputs": [],
   "source": [
    "class Solution:\n",
    "    def champagneTower(self, poured: int, query_row: int, query_glass: int) -> float:\n",
    "        curr_row=0\n",
    "        pre=[poured]\n",
    "        while sum(pre)>0:\n",
    "            L=len(pre)\n",
    "            post=[pr for pr in pre]\n",
    "            pre=[0 for _ in pre]+[0]\n",
    "            for idx, po in enumerate(post):\n",
    "                if po>1:\n",
    "                    pre[idx]+=(po-1.0)/2\n",
    "                    pre[idx+1]+=(po-1.0)/2\n",
    "            post=[min(1.0,po) for po in post]\n",
    "            if curr_row==query_row:\n",
    "                return post[query_glass]\n",
    "            else:\n",
    "                curr_row+=1\n",
    "        return 0.0"
   ]
  },
  {
   "cell_type": "markdown",
   "metadata": {},
   "source": [
    "## Lessons and Thoughts\n",
    "- The idea is to simulate the whole process. The key observation is that we can track all the amount that is ever poured into any glass."
   ]
  }
 ],
 "metadata": {
  "kernelspec": {
   "display_name": "Python 3",
   "language": "python",
   "name": "python3"
  },
  "language_info": {
   "codemirror_mode": {
    "name": "ipython",
    "version": 3
   },
   "file_extension": ".py",
   "mimetype": "text/x-python",
   "name": "python",
   "nbconvert_exporter": "python",
   "pygments_lexer": "ipython3",
   "version": "3.7.3"
  }
 },
 "nbformat": 4,
 "nbformat_minor": 2
}
