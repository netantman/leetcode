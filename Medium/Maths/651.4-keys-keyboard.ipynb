{
 "cells": [
  {
   "cell_type": "markdown",
   "metadata": {},
   "source": [
    "## Attempt 1 - Accepted"
   ]
  },
  {
   "cell_type": "code",
   "execution_count": null,
   "metadata": {},
   "outputs": [],
   "source": [
    "class Solution:\n",
    "    def maxA(self, n: int) -> int:\n",
    "        if n <= 6:\n",
    "            return n\n",
    "        \n",
    "        if n == 10:\n",
    "            return 20\n",
    "        \n",
    "        \n",
    "        p = n // 5 + 1\n",
    "        p3 = p * 5 - 1 - n\n",
    "        return (3 ** p3) * (4 ** (p - p3))"
   ]
  },
  {
   "cell_type": "markdown",
   "metadata": {},
   "source": [
    "## Lessons and Thoughts\n",
    "- The solution is from [here](https://leetcode.com/problems/4-keys-keyboard/discuss/105982/o1-time-o1-space-c-solution-possibly-shortest-and-fastest). \n",
    "- There are two ways to increase the number of 'A'\n",
    "    - Using 3 strokes, Ctrl-A, Ctrl-C and Ctrl-V to be 2 fold before and after\n",
    "    - Using 4 strokes, Ctrl-A, Ctrl-C, Ctrl-V and Ctrl-V to be 3 fold before and after\n",
    "    - Using 5 strokes, Ctrl-A, Ctrl-C, Ctrl-V, Ctrl-V and Ctrl-V to be 4 fold before and after \n",
    "    - Using 6 strokes, Ctrl-A, Ctrl-C, Ctrl-V, Ctrl-V, Ctrl-V and Ctrl-V to be 5 fold before and after \n",
    "  \n",
    "  In this respect, a DP algo is probably easier to think about. I am surprised that there is closed form expression for the answer."
   ]
  }
 ],
 "metadata": {
  "kernelspec": {
   "display_name": "Python 3",
   "language": "python",
   "name": "python3"
  },
  "language_info": {
   "codemirror_mode": {
    "name": "ipython",
    "version": 3
   },
   "file_extension": ".py",
   "mimetype": "text/x-python",
   "name": "python",
   "nbconvert_exporter": "python",
   "pygments_lexer": "ipython3",
   "version": "3.7.3"
  }
 },
 "nbformat": 4,
 "nbformat_minor": 2
}
