{
 "cells": [
  {
   "cell_type": "markdown",
   "metadata": {},
   "source": [
    "## Attempt 1 - Wrong Answer"
   ]
  },
  {
   "cell_type": "code",
   "execution_count": null,
   "metadata": {},
   "outputs": [],
   "source": [
    "class Solution:\n",
    "    def validSquare(self, p1: List[int], p2: List[int], p3: List[int], p4: List[int]) -> bool:\n",
    "        def sqre_distance(x1,y1,x2,y2):\n",
    "            return (x1-x2)*(x1-x2)+(y1-y2)*(y1-y2)\n",
    "        \n",
    "        d12=sqre_distance(p1[0], p1[1], p2[0], p2[1])\n",
    "        d13=sqre_distance(p1[0], p1[1], p3[0], p3[1])\n",
    "        d14=sqre_distance(p1[0], p1[1], p4[0], p4[1])\n",
    "        d23=sqre_distance(p2[0], p2[1], p3[0], p3[1])\n",
    "        d24=sqre_distance(p2[0], p2[1], p4[0], p4[1])\n",
    "        d34=sqre_distance(p3[0], p3[1], p4[0], p4[1])\n",
    "        \n",
    "        ## --> did not handle the case where some of these distances are zero.\n",
    "        \n",
    "        if d24!=d13 or d34!=d12 or d14!=d23:\n",
    "            return False\n",
    "        \n",
    "        if d12==d13:\n",
    "            if d14==d12+d24 and d23==d12+d13:\n",
    "                return True\n",
    "        if d13==d14:\n",
    "            if d12==d13+d14 and d34==d13+d14:\n",
    "                return True\n",
    "        if d12==d14:\n",
    "            if d13==d12+d14 and d24==d12+d14:\n",
    "                return True\n",
    "        \n",
    "        return False"
   ]
  },
  {
   "cell_type": "markdown",
   "metadata": {},
   "source": [
    "## Attempt 2 - Accepted"
   ]
  },
  {
   "cell_type": "code",
   "execution_count": null,
   "metadata": {},
   "outputs": [],
   "source": [
    "class Solution:\n",
    "    def validSquare(self, p1: List[int], p2: List[int], p3: List[int], p4: List[int]) -> bool:\n",
    "        def sqre_distance(x1,y1,x2,y2):\n",
    "            return (x1-x2)*(x1-x2)+(y1-y2)*(y1-y2)\n",
    "        \n",
    "        d12=sqre_distance(p1[0], p1[1], p2[0], p2[1])\n",
    "        d13=sqre_distance(p1[0], p1[1], p3[0], p3[1])\n",
    "        d14=sqre_distance(p1[0], p1[1], p4[0], p4[1])\n",
    "        d23=sqre_distance(p2[0], p2[1], p3[0], p3[1])\n",
    "        d24=sqre_distance(p2[0], p2[1], p4[0], p4[1])\n",
    "        d34=sqre_distance(p3[0], p3[1], p4[0], p4[1])\n",
    "        \n",
    "        if d12==0 or d13==0 or d14==0 or d23==0 or d24==0 or d34==0:\n",
    "            return False\n",
    "        \n",
    "        if d24!=d13 or d34!=d12 or d14!=d23:\n",
    "            return False\n",
    "        \n",
    "        if d12==d13:\n",
    "            if d14==d12+d24 and d23==d12+d13:\n",
    "                return True\n",
    "        if d13==d14:\n",
    "            if d12==d13+d14 and d34==d13+d14:\n",
    "                return True\n",
    "        if d12==d14:\n",
    "            if d13==d12+d14 and d24==d12+d14:\n",
    "                return True\n",
    "        \n",
    "        return False"
   ]
  },
  {
   "cell_type": "markdown",
   "metadata": {},
   "source": [
    "## Lessons and Thoughts\n",
    "- 0. Check if it is degenerate to a point\n",
    "- 1. Make sure it is parallelogram\n",
    "- 2. Make sure its sides are all equal\n",
    "- 3. Make sure it has right angles."
   ]
  }
 ],
 "metadata": {
  "kernelspec": {
   "display_name": "Python 3",
   "language": "python",
   "name": "python3"
  },
  "language_info": {
   "codemirror_mode": {
    "name": "ipython",
    "version": 3
   },
   "file_extension": ".py",
   "mimetype": "text/x-python",
   "name": "python",
   "nbconvert_exporter": "python",
   "pygments_lexer": "ipython3",
   "version": "3.7.3"
  }
 },
 "nbformat": 4,
 "nbformat_minor": 2
}
