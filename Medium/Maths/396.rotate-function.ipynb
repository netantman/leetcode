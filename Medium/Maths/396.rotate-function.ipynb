{
 "cells": [
  {
   "cell_type": "markdown",
   "metadata": {},
   "source": [
    "## Attempt 1 - Time Limit Exceeded"
   ]
  },
  {
   "cell_type": "code",
   "execution_count": null,
   "metadata": {},
   "outputs": [],
   "source": [
    "class Solution:\n",
    "    def maxRotateFunction(self, A: List[int]) -> int:\n",
    "        if len(A)<=1:\n",
    "            return 0\n",
    "        curr=0\n",
    "        L=len(A)\n",
    "        for idx in range(L):\n",
    "            curr+=idx*A[idx]\n",
    "        m=curr\n",
    "        for idx in range(L-1,-1,-1):\n",
    "            curr+=(-(len(A)-1)*A[idx]+sum(A[:idx]+A[idx+1:]))\n",
    "            if curr>m:\n",
    "                m=curr\n",
    "        return m"
   ]
  },
  {
   "cell_type": "markdown",
   "metadata": {},
   "source": [
    "## Attempt 2 - Accepted"
   ]
  },
  {
   "cell_type": "code",
   "execution_count": null,
   "metadata": {},
   "outputs": [],
   "source": [
    "class Solution:\n",
    "    def maxRotateFunction(self, A: List[int]) -> int:\n",
    "        if len(A)<=1:\n",
    "            return 0\n",
    "        curr=0\n",
    "        L=len(A)\n",
    "        for idx in range(L):\n",
    "            curr+=idx*A[idx]\n",
    "        m=curr\n",
    "        sumA=sum(A)\n",
    "        for idx in range(L-1,-1,-1):\n",
    "            curr+=(-len(A)*A[idx]+sumA)\n",
    "            if curr>m:\n",
    "                m=curr\n",
    "        return m"
   ]
  },
  {
   "cell_type": "markdown",
   "metadata": {},
   "source": [
    "## Lessons and Thoughts\n",
    "- Just a little bit improvement and not an entire different and fancy algo!"
   ]
  }
 ],
 "metadata": {
  "kernelspec": {
   "display_name": "Python 3",
   "language": "python",
   "name": "python3"
  },
  "language_info": {
   "codemirror_mode": {
    "name": "ipython",
    "version": 3
   },
   "file_extension": ".py",
   "mimetype": "text/x-python",
   "name": "python",
   "nbconvert_exporter": "python",
   "pygments_lexer": "ipython3",
   "version": "3.7.3"
  }
 },
 "nbformat": 4,
 "nbformat_minor": 2
}
