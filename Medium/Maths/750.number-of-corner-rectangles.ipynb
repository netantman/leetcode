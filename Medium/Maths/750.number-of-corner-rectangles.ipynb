{
 "cells": [
  {
   "cell_type": "markdown",
   "metadata": {},
   "source": [
    "## Attempt 1 - Time Limit Exceeded"
   ]
  },
  {
   "cell_type": "code",
   "execution_count": null,
   "metadata": {},
   "outputs": [],
   "source": [
    "class Solution:\n",
    "    def countCornerRectangles(self, grid: List[List[int]]) -> int:\n",
    "        R, C = len(grid), len(grid[0])\n",
    "        ones = set()\n",
    "        for r in range(R):\n",
    "            for c in range(C):\n",
    "                if grid[r][c] > 0:\n",
    "                    ones.add((r, c))\n",
    "        \n",
    "        cnt = 0\n",
    "        for i in ones:\n",
    "            for j in ones:\n",
    "                r1, c1 = i\n",
    "                r2, c2 = j\n",
    "                if r1 == r2 or c1 == c2:\n",
    "                    continue\n",
    "                if (r1, c2) in ones and (r2, c1) in ones:\n",
    "                #     print(r1, c1)\n",
    "                #     print(r2, c2)\n",
    "                    cnt += 1\n",
    "        \n",
    "        return cnt // 4"
   ]
  },
  {
   "cell_type": "markdown",
   "metadata": {},
   "source": [
    "## Attempt 2 - Time Limit Exceeded"
   ]
  },
  {
   "cell_type": "code",
   "execution_count": null,
   "metadata": {},
   "outputs": [],
   "source": [
    "class Solution:\n",
    "    def countCornerRectangles(self, grid: List[List[int]]) -> int:\n",
    "        R, C = len(grid), len(grid[0])\n",
    "        pairs = defaultdict(int)\n",
    "        \n",
    "        def get_pairs(row):\n",
    "            res = []\n",
    "            for i in range(C):\n",
    "                for j in range(C):\n",
    "                    if i != j and row[i] * row[j] > 0:\n",
    "                        res.append((i, j))\n",
    "            return res\n",
    "        \n",
    "        cnt = 0\n",
    "        for r in range(R):\n",
    "            curr = get_pairs(grid[r])\n",
    "            for p in curr:\n",
    "                cnt += pairs.get(p, 0)\n",
    "                pairs[p] += 1\n",
    "            # print(curr)\n",
    "            # print(pairs)\n",
    "        \n",
    "        return cnt // 2 ## --> double counting a lot"
   ]
  },
  {
   "cell_type": "markdown",
   "metadata": {},
   "source": [
    "## Attempt 3 - Accepted"
   ]
  },
  {
   "cell_type": "code",
   "execution_count": null,
   "metadata": {},
   "outputs": [],
   "source": [
    "class Solution:\n",
    "    def countCornerRectangles(self, grid: List[List[int]]) -> int:\n",
    "        R, C = len(grid), len(grid[0])\n",
    "        pairs = defaultdict(int)\n",
    "        \n",
    "        def get_pairs(row):\n",
    "            res = []\n",
    "            for i in range(C):\n",
    "                for j in range(C):\n",
    "                    if i != j and row[i] * row[j] > 0:\n",
    "                        res.append((i, j))\n",
    "            return res\n",
    "        \n",
    "        cnt = 0\n",
    "        for r in range(R):\n",
    "            row = grid[r]\n",
    "            ones = [idx for idx in range(C) if row[idx] > 0]\n",
    "            for i in ones:\n",
    "                for j in ones:\n",
    "                    if i <= j:\n",
    "                        continue\n",
    "                    cnt += pairs.get((i, j), 0)\n",
    "                    pairs[(i, j)] += 1\n",
    "        \n",
    "        return cnt"
   ]
  },
  {
   "cell_type": "markdown",
   "metadata": {},
   "source": [
    "## Lessons and Thoughts\n",
    "- The brute force idea (Attempt 1) is to tally the two diagonal corner of the rectangle: note that each such rectangle will be counted 4 times."
   ]
  }
 ],
 "metadata": {
  "kernelspec": {
   "display_name": "Python 3",
   "language": "python",
   "name": "python3"
  },
  "language_info": {
   "codemirror_mode": {
    "name": "ipython",
    "version": 3
   },
   "file_extension": ".py",
   "mimetype": "text/x-python",
   "name": "python",
   "nbconvert_exporter": "python",
   "pygments_lexer": "ipython3",
   "version": "3.7.3"
  }
 },
 "nbformat": 4,
 "nbformat_minor": 2
}
