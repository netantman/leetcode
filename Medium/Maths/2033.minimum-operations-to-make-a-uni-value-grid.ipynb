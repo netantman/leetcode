{
 "cells": [
  {
   "cell_type": "markdown",
   "metadata": {},
   "source": [
    "## Attempt 1 - Accepted"
   ]
  },
  {
   "cell_type": "code",
   "execution_count": null,
   "metadata": {},
   "outputs": [],
   "source": [
    "class Solution:\n",
    "    def minOperations(self, grid: List[List[int]], x: int) -> int:\n",
    "        R, C = len(grid), len(grid[0])\n",
    "        residuals = set([grid[r][c] % x for c in range(C) for r in range(R)])\n",
    "        if len(residuals) > 1:\n",
    "            return -1\n",
    "        \n",
    "        tmp = sorted([grid[r][c] // x for c in range(C) for r in range(R)])\n",
    "        L = len(tmp)\n",
    "        mid = L // 2\n",
    "        return sum([abs(tmp[idx] - tmp[mid]) for idx in range(L)])"
   ]
  },
  {
   "cell_type": "markdown",
   "metadata": {},
   "source": [
    "## Lessons and Thoughts\n",
    "- You can simply by `%x` and `//x`. Then the minimal number of times is when all numbers converge to median."
   ]
  }
 ],
 "metadata": {
  "kernelspec": {
   "display_name": "Python 3",
   "language": "python",
   "name": "python3"
  },
  "language_info": {
   "codemirror_mode": {
    "name": "ipython",
    "version": 3
   },
   "file_extension": ".py",
   "mimetype": "text/x-python",
   "name": "python",
   "nbconvert_exporter": "python",
   "pygments_lexer": "ipython3",
   "version": "3.7.3"
  }
 },
 "nbformat": 4,
 "nbformat_minor": 2
}
