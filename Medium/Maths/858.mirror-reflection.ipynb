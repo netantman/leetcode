{
 "cells": [
  {
   "cell_type": "markdown",
   "metadata": {},
   "source": [
    "## Attempt 1 - Accepted"
   ]
  },
  {
   "cell_type": "code",
   "execution_count": null,
   "metadata": {},
   "outputs": [],
   "source": [
    "class Solution:\n",
    "    def mirrorReflection(self, p: int, q: int) -> int:\n",
    "        if q==0:\n",
    "            return 0\n",
    "        if q==p:\n",
    "            return 1\n",
    "        \n",
    "        m=1\n",
    "        while m*p%q>0:\n",
    "            m+=1\n",
    "        n=m*p//q\n",
    "        if m%2>0 and n%2>0:\n",
    "            return 1\n",
    "        elif m%2==0:\n",
    "            return 0\n",
    "        else: # n%2==0\n",
    "            return 2"
   ]
  },
  {
   "cell_type": "markdown",
   "metadata": {},
   "source": [
    "## Lessons and Thoughts\n",
    "- The key is to recognize that we need to find the LGD of `p` and `q`. That is also why `m` and `n` cannot be even together."
   ]
  }
 ],
 "metadata": {
  "kernelspec": {
   "display_name": "Python 3",
   "language": "python",
   "name": "python3"
  },
  "language_info": {
   "codemirror_mode": {
    "name": "ipython",
    "version": 3
   },
   "file_extension": ".py",
   "mimetype": "text/x-python",
   "name": "python",
   "nbconvert_exporter": "python",
   "pygments_lexer": "ipython3",
   "version": "3.7.3"
  }
 },
 "nbformat": 4,
 "nbformat_minor": 2
}
