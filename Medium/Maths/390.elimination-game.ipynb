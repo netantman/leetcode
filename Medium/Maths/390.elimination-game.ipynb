{
 "cells": [
  {
   "cell_type": "markdown",
   "metadata": {},
   "source": [
    "## Attempt 1 - Wrong Answer"
   ]
  },
  {
   "cell_type": "code",
   "execution_count": null,
   "metadata": {},
   "outputs": [],
   "source": [
    "class Solution:\n",
    "    def lastRemaining(self, n: int) -> int:\n",
    "        l=list(range(1,n+1))\n",
    "        flag=True\n",
    "        while len(l)>1:\n",
    "            if flag:\n",
    "                l=l[1::2]\n",
    "            else:\n",
    "                l=l[0::2] ## --> not really deleting the every other number\n",
    "            flag^=True\n",
    "        return l[0]"
   ]
  },
  {
   "cell_type": "markdown",
   "metadata": {},
   "source": [
    "## Attempt 2 - Time Limit Exceeded"
   ]
  },
  {
   "cell_type": "code",
   "execution_count": null,
   "metadata": {},
   "outputs": [],
   "source": [
    "class Solution:\n",
    "    def lastRemaining(self, n: int) -> int:\n",
    "        l=list(range(1,n+1))\n",
    "        flag=True\n",
    "        while len(l)>1:\n",
    "            if flag:\n",
    "                l=l[1::2]\n",
    "            else:\n",
    "                if len(l)%2==0:\n",
    "                    l=l[0::2]\n",
    "                else:\n",
    "                    l=l[1::2]\n",
    "            flag^=True\n",
    "        return l[0]"
   ]
  },
  {
   "cell_type": "markdown",
   "metadata": {},
   "source": [
    "## Attempt 3 - Accepted"
   ]
  },
  {
   "cell_type": "code",
   "execution_count": null,
   "metadata": {},
   "outputs": [],
   "source": [
    "class Solution:\n",
    "    def lastRemaining(self, n: int) -> int:\n",
    "        left, right=1,n\n",
    "        L=n\n",
    "        flag=True\n",
    "        r=0\n",
    "        while left<right:\n",
    "            if flag:\n",
    "                if L%2==1:\n",
    "                    left+=2**r\n",
    "                    right-=2**r\n",
    "                else:\n",
    "                    left+=2**r\n",
    "            else:\n",
    "                if L%2==1:\n",
    "                    right-=2**r\n",
    "                    left+=2**r\n",
    "                else:\n",
    "                    right-=2**r\n",
    "            flag^=True\n",
    "            L=L//2\n",
    "            r+=1\n",
    "        return left"
   ]
  },
  {
   "cell_type": "markdown",
   "metadata": {},
   "source": [
    "## Lessons and Thoughts\n",
    "- We do not need to keep track by changing the list, as pointed out [here](https://baihuqian.github.io/2018-09-03-elimination-game/), which leads to the accepted solution.\n",
    "- A similar but different problem is this: suppose we write the numbers $1\\sim N$ in a circle. I start by erasing number $1$ and then continue to erase every other number on the circle, until there is only one number left. What is that number? The answer is as follows. Suppose $N=2^k+m$, where $k$ is the the biggest integer to have $N\\geq 2^k$. Then if $m=0$, the last number if $N$; otherwise, the last number is $2m$. It is easy to prove the case of $m=0$, and by the similar token, in the case of $m=0$, $1$ will be the last number left. Then for the case of $m>0$, after $m$ erases, there are $2^k$ numbers left, and you are about to start on the second number - thus the first number right after the $m$ erases is the last number left, hence $2m$."
   ]
  }
 ],
 "metadata": {
  "kernelspec": {
   "display_name": "Python 3",
   "language": "python",
   "name": "python3"
  },
  "language_info": {
   "codemirror_mode": {
    "name": "ipython",
    "version": 3
   },
   "file_extension": ".py",
   "mimetype": "text/x-python",
   "name": "python",
   "nbconvert_exporter": "python",
   "pygments_lexer": "ipython3",
   "version": "3.7.3"
  }
 },
 "nbformat": 4,
 "nbformat_minor": 2
}
