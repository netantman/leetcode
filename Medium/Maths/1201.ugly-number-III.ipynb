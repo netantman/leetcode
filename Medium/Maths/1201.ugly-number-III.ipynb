{
 "cells": [
  {
   "cell_type": "markdown",
   "metadata": {},
   "source": [
    "## Attempt 1 - Accepted"
   ]
  },
  {
   "cell_type": "code",
   "execution_count": null,
   "metadata": {},
   "outputs": [],
   "source": [
    "class Solution:\n",
    "    def nthUglyNumber(self, n: int, a: int, b: int, c: int) -> int:\n",
    "        def gcd(x,y):\n",
    "            x,y=min(x,y),max(x,y)\n",
    "            while y%x>0:\n",
    "                x,y=y%x,x\n",
    "            return x\n",
    "        \n",
    "        ab=(a*b//gcd(a,b))\n",
    "        ac=(a*c//gcd(a,c))\n",
    "        bc=(c*b//gcd(c,b))\n",
    "        abc=(ab*c//gcd(ab,c))\n",
    "        \n",
    "        \n",
    "        def check(x):\n",
    "            return x//a+x//b+x//c-x//ab-x//ac-x//bc+x//abc\n",
    "        \n",
    "        left,right=1,min(a,b,c)*n\n",
    "        while left<right-1:\n",
    "            mid=(left+right)//2\n",
    "            if check(mid)>=n:\n",
    "                right=mid\n",
    "            else:\n",
    "                left=mid\n",
    "        return left+1"
   ]
  },
  {
   "cell_type": "markdown",
   "metadata": {},
   "source": [
    "## Lessons and Thoughts\n",
    "- The solution is from the apps. The idea is to recognize that you can check for each number `x` its order in the sequence. A bit tricky..."
   ]
  }
 ],
 "metadata": {
  "kernelspec": {
   "display_name": "Python 3",
   "language": "python",
   "name": "python3"
  },
  "language_info": {
   "codemirror_mode": {
    "name": "ipython",
    "version": 3
   },
   "file_extension": ".py",
   "mimetype": "text/x-python",
   "name": "python",
   "nbconvert_exporter": "python",
   "pygments_lexer": "ipython3",
   "version": "3.7.3"
  }
 },
 "nbformat": 4,
 "nbformat_minor": 2
}
