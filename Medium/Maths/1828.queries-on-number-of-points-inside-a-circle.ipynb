{
 "cells": [
  {
   "cell_type": "markdown",
   "metadata": {},
   "source": [
    "## Attempt 1 - Accepted"
   ]
  },
  {
   "cell_type": "code",
   "execution_count": null,
   "metadata": {},
   "outputs": [],
   "source": [
    "class Solution:\n",
    "    def countPoints(self, points: List[List[int]], queries: List[List[int]]) -> List[int]:\n",
    "        def check(p, q):\n",
    "            x, y = tuple(p)\n",
    "            x0, y0, r = tuple(q)\n",
    "            return 1 if (x - x0) ** 2 + (y - y0) ** 2 <= r ** 2 else 0\n",
    "        \n",
    "        res = [sum([check(p, q) for p in points]) for q in queries]\n",
    "        return res"
   ]
  },
  {
   "cell_type": "markdown",
   "metadata": {},
   "source": [
    "## Lessons and Thoughts\n",
    "- Brute force"
   ]
  }
 ],
 "metadata": {
  "kernelspec": {
   "display_name": "Python 3",
   "language": "python",
   "name": "python3"
  },
  "language_info": {
   "codemirror_mode": {
    "name": "ipython",
    "version": 3
   },
   "file_extension": ".py",
   "mimetype": "text/x-python",
   "name": "python",
   "nbconvert_exporter": "python",
   "pygments_lexer": "ipython3",
   "version": "3.7.3"
  }
 },
 "nbformat": 4,
 "nbformat_minor": 2
}
