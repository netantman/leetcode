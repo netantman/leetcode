{
 "cells": [
  {
   "cell_type": "markdown",
   "metadata": {},
   "source": [
    "## Attempt 1 - Accepted"
   ]
  },
  {
   "cell_type": "code",
   "execution_count": null,
   "metadata": {},
   "outputs": [],
   "source": [
    "class Solution:\n",
    "    def multiply(self, num1: str, num2: str) -> str:\n",
    "        if num1==\"0\" or num2==\"0\":\n",
    "            return \"0\"\n",
    "        \n",
    "        len1,len2 = len(num1),len(num2)\n",
    "        res=0\n",
    "        for idx1 in range(len1):\n",
    "            for idx2 in range(len2):\n",
    "                res+=int(num1[idx1])*int(num2[idx2])*10**(len1-1-idx1+len2-1-idx2) ## otherwise can use a mapping maybe\n",
    "        \n",
    "        res=str(res) ## there is no requirement saying cannot use int to str!\n",
    "        return res"
   ]
  },
  {
   "cell_type": "markdown",
   "metadata": {},
   "source": [
    "## Lessons and Thoughts\n",
    "- If there is no mention in the problem 'nonnegative integers', then it is a good question for interviewers."
   ]
  }
 ],
 "metadata": {
  "kernelspec": {
   "display_name": "Python 3",
   "language": "python",
   "name": "python3"
  },
  "language_info": {
   "codemirror_mode": {
    "name": "ipython",
    "version": 3
   },
   "file_extension": ".py",
   "mimetype": "text/x-python",
   "name": "python",
   "nbconvert_exporter": "python",
   "pygments_lexer": "ipython3",
   "version": "3.7.3"
  }
 },
 "nbformat": 4,
 "nbformat_minor": 2
}
