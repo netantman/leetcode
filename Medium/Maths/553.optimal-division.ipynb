{
 "cells": [
  {
   "cell_type": "markdown",
   "metadata": {},
   "source": [
    "## Attempt 1 - Wrong Answer"
   ]
  },
  {
   "cell_type": "code",
   "execution_count": null,
   "metadata": {},
   "outputs": [],
   "source": [
    "class Solution:\n",
    "    def optimalDivision(self, nums: List[int]) -> str:\n",
    "        ## -> len(nums)<=2 needs to handle.\n",
    "        res=\"/\".join([str(n) for n in nums[1:]])\n",
    "        res=\"(\"+res+\")\"\n",
    "        res=str(nums[0])+\"/\"+res\n",
    "        return res"
   ]
  },
  {
   "cell_type": "markdown",
   "metadata": {},
   "source": [
    "## Attempt 2 - Accepted"
   ]
  },
  {
   "cell_type": "code",
   "execution_count": null,
   "metadata": {},
   "outputs": [],
   "source": [
    "class Solution:\n",
    "    def optimalDivision(self, nums: List[int]) -> str:\n",
    "        if len(nums)<1:\n",
    "            return \"\"\n",
    "        if len(nums)==1:\n",
    "            return str(nums[0])\n",
    "        if len(nums)==2:\n",
    "            return str(nums[0])+\"/\"+str(nums[1])\n",
    "        \n",
    "        res=\"/\".join([str(n) for n in nums[1:]])\n",
    "        res=\"(\"+res+\")\"\n",
    "        res=str(nums[0])+\"/\"+res\n",
    "        return res"
   ]
  },
  {
   "cell_type": "markdown",
   "metadata": {},
   "source": [
    "## Lessons and Thoughts\n",
    "- "
   ]
  }
 ],
 "metadata": {
  "kernelspec": {
   "display_name": "Python 3",
   "language": "python",
   "name": "python3"
  },
  "language_info": {
   "codemirror_mode": {
    "name": "ipython",
    "version": 3
   },
   "file_extension": ".py",
   "mimetype": "text/x-python",
   "name": "python",
   "nbconvert_exporter": "python",
   "pygments_lexer": "ipython3",
   "version": "3.7.3"
  }
 },
 "nbformat": 4,
 "nbformat_minor": 2
}
