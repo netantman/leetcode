{
 "cells": [
  {
   "cell_type": "markdown",
   "metadata": {},
   "source": [
    "## Attempt 1 - Accepted"
   ]
  },
  {
   "cell_type": "code",
   "execution_count": null,
   "metadata": {},
   "outputs": [],
   "source": [
    "class Solution:\n",
    "    def findMinFibonacciNumbers(self, k: int) -> int:\n",
    "        fib=[1,2]\n",
    "        while fib[-1]<k:\n",
    "            fib.append(fib[-2]+fib[-1])\n",
    "            \n",
    "        cnt = 0\n",
    "        while fib:\n",
    "            curr = fib.pop()\n",
    "            if k >= curr:\n",
    "                k -= curr\n",
    "                cnt += 1\n",
    "        return cnt"
   ]
  },
  {
   "cell_type": "markdown",
   "metadata": {},
   "source": [
    "## Lessons and Thoughts\n",
    "- Thought it was a shortest path problem, but it would TLE. Solution is from app, just to recognize:\n",
    "    - We will not choose two consecutive fibs.\n",
    "    - We will not choose any fibs twice\n",
    "    - Of course we will not use any fib bigger than `k`."
   ]
  }
 ],
 "metadata": {
  "kernelspec": {
   "display_name": "Python 3",
   "language": "python",
   "name": "python3"
  },
  "language_info": {
   "codemirror_mode": {
    "name": "ipython",
    "version": 3
   },
   "file_extension": ".py",
   "mimetype": "text/x-python",
   "name": "python",
   "nbconvert_exporter": "python",
   "pygments_lexer": "ipython3",
   "version": "3.7.3"
  }
 },
 "nbformat": 4,
 "nbformat_minor": 2
}
