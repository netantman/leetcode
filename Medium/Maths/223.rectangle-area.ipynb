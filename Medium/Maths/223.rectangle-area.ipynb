{
 "cells": [
  {
   "cell_type": "code",
   "execution_count": null,
   "metadata": {},
   "outputs": [],
   "source": [
    "class Solution:\n",
    "    def computeArea(self, A: int, B: int, C: int, D: int, E: int, F: int, G: int, H: int) -> int:\n",
    "        total=(C-A)*(D-B)+(G-E)*(H-F)\n",
    "        \n",
    "        if C<=E or A>=G or D<=F or B>=H:\n",
    "            return total\n",
    "        \n",
    "        width=min(C-A, C-E, G-A, G-E)\n",
    "        height=min(H-F, H-B, D-F, D-B)\n",
    "        return total-width*height"
   ]
  },
  {
   "cell_type": "markdown",
   "metadata": {},
   "source": [
    "## Lessons and Thoughts\n",
    "- The overlap area, width and height cannot be higher than the two rectangles' own."
   ]
  }
 ],
 "metadata": {
  "kernelspec": {
   "display_name": "Python 3",
   "language": "python",
   "name": "python3"
  },
  "language_info": {
   "codemirror_mode": {
    "name": "ipython",
    "version": 3
   },
   "file_extension": ".py",
   "mimetype": "text/x-python",
   "name": "python",
   "nbconvert_exporter": "python",
   "pygments_lexer": "ipython3",
   "version": "3.7.3"
  }
 },
 "nbformat": 4,
 "nbformat_minor": 2
}
