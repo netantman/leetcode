{
 "cells": [
  {
   "cell_type": "markdown",
   "metadata": {},
   "source": [
    "## Attempt 1 - Accepted"
   ]
  },
  {
   "cell_type": "code",
   "execution_count": null,
   "metadata": {},
   "outputs": [],
   "source": [
    "class Solution:\n",
    "    def sampleStats(self, count: List[int]) -> List[float]:\n",
    "        num=sum(count)\n",
    "        s=0\n",
    "        l=0\n",
    "        mod,mm=None,0\n",
    "        minn, maxx=None, None\n",
    "        med=None\n",
    "        for idx, c in enumerate(count):\n",
    "            s+=idx*c\n",
    "            if c>mm:\n",
    "                mod=idx\n",
    "                mm=c\n",
    "            if minn is None and c>0:\n",
    "                minn=idx\n",
    "            elif c>0:\n",
    "                maxx=idx\n",
    "            r=l+c\n",
    "            if num%2>0:\n",
    "                if l<num//2+1 and r>=num//2+1:\n",
    "                    med=idx\n",
    "            else:\n",
    "                if l<num//2 and r>=num//2+1:\n",
    "                    med=idx\n",
    "                elif l<num//2 and r>=num//2:\n",
    "                    med=idx\n",
    "                elif l<num//2+1 and r>=num//2+1:\n",
    "                    med+=idx\n",
    "                    med/=2.0\n",
    "            l=r\n",
    "        meann=s/num\n",
    "        return (minn,maxx,meann,med,mod)"
   ]
  },
  {
   "cell_type": "markdown",
   "metadata": {},
   "source": [
    "## Lessons and Thoughts\n",
    "- A bit involved with the medium case when there are even number of elements."
   ]
  }
 ],
 "metadata": {
  "kernelspec": {
   "display_name": "Python 3",
   "language": "python",
   "name": "python3"
  },
  "language_info": {
   "codemirror_mode": {
    "name": "ipython",
    "version": 3
   },
   "file_extension": ".py",
   "mimetype": "text/x-python",
   "name": "python",
   "nbconvert_exporter": "python",
   "pygments_lexer": "ipython3",
   "version": "3.7.3"
  }
 },
 "nbformat": 4,
 "nbformat_minor": 2
}
