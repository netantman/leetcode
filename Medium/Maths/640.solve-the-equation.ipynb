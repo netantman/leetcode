{
 "cells": [
  {
   "cell_type": "markdown",
   "metadata": {},
   "source": [
    "## Attempt 1 - Runtime Error"
   ]
  },
  {
   "cell_type": "markdown",
   "metadata": {},
   "source": [
    "Confused about the case where there is a negative sign at the beginning or not."
   ]
  },
  {
   "cell_type": "code",
   "execution_count": null,
   "metadata": {},
   "outputs": [],
   "source": [
    "class Solution:\n",
    "    def solveEquation(self, equation: str) -> str:\n",
    "        equation=equation.split(\"=\")\n",
    "        left, right=equation[0], equation[1]\n",
    "        \n",
    "        temp=left.replace(\"+\", \",\")\n",
    "        temp=temp.replace(\"-\", \",\")\n",
    "        left_nums=temp.split(\",\")\n",
    "        left_x=0\n",
    "        left_num=0\n",
    "        left_ops=[]\n",
    "        for c in left:\n",
    "            if c==\"+\":\n",
    "                left_ops.append(1)\n",
    "            elif c==\"-\":\n",
    "                left_ops.append(-1)\n",
    "        if len(left_ops)<len(left_nums):\n",
    "            left_ops=[1]+left_ops\n",
    "        for op, n in zip(left_ops, left_nums):\n",
    "            if n==\"x\":\n",
    "                left_x+=op\n",
    "            else:\n",
    "                left_num+=op*int(n)\n",
    "                \n",
    "        temp=right.replace(\"+\", \",\")\n",
    "        temp=temp.replace(\"-\", \",\")\n",
    "        right_nums=temp.split(\",\")\n",
    "        right_x=0\n",
    "        right_num=0\n",
    "        right_ops=[]\n",
    "        for c in right:\n",
    "            if c==\"+\":\n",
    "                right_ops.append(1)\n",
    "            elif c==\"-\":\n",
    "                right_ops.append(-1)\n",
    "        if len(right_ops)<len(right_nums):\n",
    "            right_ops=[1]+right_ops\n",
    "        for op, n in zip(right_ops, right_nums):\n",
    "            if n==\"x\":\n",
    "                right_x+=op\n",
    "            else:\n",
    "                right_num+=op*int(n)\n",
    "        \n",
    "        if left_x==right_x:\n",
    "            if left_num==right_num:\n",
    "                return \"Infinite solutions\"\n",
    "            else:\n",
    "                return \"No solution\"\n",
    "        else:\n",
    "            return \"x={}\".format((right_num-left_num)//(left_x-right_x))"
   ]
  },
  {
   "cell_type": "markdown",
   "metadata": {},
   "source": [
    "## Attempt 2 - Accepted"
   ]
  },
  {
   "cell_type": "code",
   "execution_count": null,
   "metadata": {},
   "outputs": [],
   "source": [
    "class Solution:\n",
    "    def solveEquation(self, equation: str) -> str:\n",
    "        equation=equation.split(\"=\")\n",
    "        left, right=equation[0], equation[1]\n",
    "        \n",
    "        temp=left.replace(\"+\", \",\")\n",
    "        temp=temp.replace(\"-\", \",\")\n",
    "        left_nums=temp.split(\",\")\n",
    "        left_x=0\n",
    "        left_num=0\n",
    "        left_ops=[]\n",
    "        for c in left:\n",
    "            if c==\"+\":\n",
    "                left_ops.append(1)\n",
    "            elif c==\"-\":\n",
    "                left_ops.append(-1)\n",
    "        if left_nums[0]==\"\":\n",
    "            left_nums.pop(0)\n",
    "        else:\n",
    "            left_ops=[1]+left_ops\n",
    "        for op, n in zip(left_ops, left_nums):\n",
    "            if n[-1]==\"x\":\n",
    "                if len(n)>1:\n",
    "                    left_x+=op*int(n[:-1])\n",
    "                else:\n",
    "                    left_x+=op\n",
    "            else:\n",
    "                left_num+=op*int(n)\n",
    "                \n",
    "        temp=right.replace(\"+\", \",\")\n",
    "        temp=temp.replace(\"-\", \",\")\n",
    "        right_nums=temp.split(\",\")\n",
    "        right_x=0\n",
    "        right_num=0\n",
    "        right_ops=[]\n",
    "        for c in right:\n",
    "            if c==\"+\":\n",
    "                right_ops.append(1)\n",
    "            elif c==\"-\":\n",
    "                right_ops.append(-1)\n",
    "        if right_nums[0]==\"\":\n",
    "            right_nums.pop(0)\n",
    "        else:\n",
    "            right_ops=[1]+right_ops\n",
    "        for op, n in zip(right_ops, right_nums):\n",
    "            if n[-1]==\"x\":\n",
    "                if len(n)>1:\n",
    "                    right_x+=op*int(n[:-1])\n",
    "                else:\n",
    "                    right_x+=op\n",
    "            else:\n",
    "                right_num+=op*int(n)\n",
    "        \n",
    "        if left_x==right_x:\n",
    "            if left_num==right_num:\n",
    "                return \"Infinite solutions\"\n",
    "            else:\n",
    "                return \"No solution\"\n",
    "        else:\n",
    "            return \"x={}\".format((right_num-left_num)//(left_x-right_x))"
   ]
  },
  {
   "cell_type": "markdown",
   "metadata": {},
   "source": [
    "## Lessons and Thoughts\n",
    "- Note that `split` can produce empty strings."
   ]
  }
 ],
 "metadata": {
  "kernelspec": {
   "display_name": "Python 3",
   "language": "python",
   "name": "python3"
  },
  "language_info": {
   "codemirror_mode": {
    "name": "ipython",
    "version": 3
   },
   "file_extension": ".py",
   "mimetype": "text/x-python",
   "name": "python",
   "nbconvert_exporter": "python",
   "pygments_lexer": "ipython3",
   "version": "3.7.3"
  }
 },
 "nbformat": 4,
 "nbformat_minor": 2
}
