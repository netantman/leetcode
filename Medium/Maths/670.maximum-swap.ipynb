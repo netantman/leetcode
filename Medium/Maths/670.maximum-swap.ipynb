{
 "cells": [
  {
   "cell_type": "markdown",
   "metadata": {},
   "source": [
    "## Attempt 1 - Accepted"
   ]
  },
  {
   "cell_type": "code",
   "execution_count": null,
   "metadata": {},
   "outputs": [],
   "source": [
    "class Solution:\n",
    "    def maximumSwap(self, num: int) -> int:\n",
    "        num=[int(c) for c in str(num)]\n",
    "        L=len(num)\n",
    "        for idx in range(L-1):\n",
    "            curr=num[idx]\n",
    "            maxx=max(c for c in num[idx+1:])\n",
    "            if maxx>curr:\n",
    "                for j in range(L-1,idx,-1):\n",
    "                    if num[j]>=maxx:\n",
    "                        num[idx], num[j]=num[j], num[idx]\n",
    "                        break\n",
    "                break\n",
    "        return int(\"\".join([str(n) for n in num]))"
   ]
  },
  {
   "cell_type": "markdown",
   "metadata": {},
   "source": [
    "## Lessons and Thoughts\n",
    "- Since it is given in the Problem that there is not many digits, a brute force comparison of pairs works. Just start by the leading digits, and swap it with the largest from the last."
   ]
  }
 ],
 "metadata": {
  "kernelspec": {
   "display_name": "Python 3",
   "language": "python",
   "name": "python3"
  },
  "language_info": {
   "codemirror_mode": {
    "name": "ipython",
    "version": 3
   },
   "file_extension": ".py",
   "mimetype": "text/x-python",
   "name": "python",
   "nbconvert_exporter": "python",
   "pygments_lexer": "ipython3",
   "version": "3.7.3"
  }
 },
 "nbformat": 4,
 "nbformat_minor": 2
}
