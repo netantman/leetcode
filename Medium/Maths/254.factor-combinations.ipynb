{
 "cells": [
  {
   "cell_type": "markdown",
   "metadata": {},
   "source": [
    "## Attempt 1 - Time Limit Exceeded"
   ]
  },
  {
   "cell_type": "code",
   "execution_count": null,
   "metadata": {},
   "outputs": [],
   "source": [
    "class Solution:\n",
    "    def getFactors(self, n: int) -> List[List[int]]:\n",
    "        primes = set([idx for idx in range(2, n + 1)])\n",
    "        factors = []\n",
    "        while primes:\n",
    "            head = min(primes)\n",
    "            if n % head < 1:\n",
    "                factors.append(head)\n",
    "            mul = 1\n",
    "            while mul * head <= n:\n",
    "                if mul * head in primes:\n",
    "                    primes.remove(mul * head)\n",
    "                mul += 1\n",
    "        \n",
    "        record = defaultdict(set) \n",
    "        for f in factors:\n",
    "            record[f].add(tuple([f]))\n",
    "        \n",
    "        q = [f for f in factors]\n",
    "        while q:\n",
    "            curr = q.pop(0)\n",
    "            curr_comb = record[curr]\n",
    "            to_add = []\n",
    "            for f in factors:\n",
    "                if n % (curr * f) > 0:\n",
    "                    continue\n",
    "                q.append(curr * f)\n",
    "                for c in curr_comb:\n",
    "                    record[curr * f].add(tuple(sorted(list(c) + [f])))\n",
    "                record[curr * f].add(tuple([curr * f]))\n",
    "                to_add.append(curr * f)\n",
    "            factors += to_add\n",
    "        \n",
    "        res = [list(c) for c in record[n] if len(c) > 1]\n",
    "        return res"
   ]
  },
  {
   "cell_type": "markdown",
   "metadata": {},
   "source": [
    "## Attempt 2 - Accepted"
   ]
  },
  {
   "cell_type": "code",
   "execution_count": null,
   "metadata": {},
   "outputs": [],
   "source": [
    "class Solution(object):\n",
    "    def __init__(self):\n",
    "        self.factors = dict()\n",
    "\n",
    "    def getFactors(self, n):\n",
    "        \"\"\"\n",
    "        :type n: int\n",
    "        :rtype: List[List[int]]\n",
    "        \"\"\"\n",
    "        if n == 1:\n",
    "            return []\n",
    "        elif n in self.factors:\n",
    "            return self.factors[n]\n",
    "\n",
    "        else:\n",
    "            res = list()\n",
    "            for f in range(2, int(sqrt(n)) + 1):\n",
    "                if n % f == 0:\n",
    "                    residue = n // f\n",
    "                    res.append([f, residue])\n",
    "                    for l in self.getFactors(residue):\n",
    "                        if l[0] >= f:\n",
    "                            res.append([f] + l)\n",
    "            return res"
   ]
  },
  {
   "cell_type": "markdown",
   "metadata": {},
   "source": [
    "## Lessons and Thoughts\n",
    "- The prime factors approach is sort of awkward.\n",
    "- Accepted solution is from internet. \n",
    "    - Do not seek to find all prime factors first\n",
    "    - Actually used recursion\n",
    "    - Rather than sorting, judge if any added combination has a first element that is smaller than existing."
   ]
  }
 ],
 "metadata": {
  "kernelspec": {
   "display_name": "Python 3",
   "language": "python",
   "name": "python3"
  },
  "language_info": {
   "codemirror_mode": {
    "name": "ipython",
    "version": 3
   },
   "file_extension": ".py",
   "mimetype": "text/x-python",
   "name": "python",
   "nbconvert_exporter": "python",
   "pygments_lexer": "ipython3",
   "version": "3.7.3"
  }
 },
 "nbformat": 4,
 "nbformat_minor": 2
}
