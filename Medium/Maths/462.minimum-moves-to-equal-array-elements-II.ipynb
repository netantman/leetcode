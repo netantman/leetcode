{
 "cells": [
  {
   "cell_type": "markdown",
   "metadata": {},
   "source": [
    "## Attempt 1 - Accepted"
   ]
  },
  {
   "cell_type": "code",
   "execution_count": null,
   "metadata": {},
   "outputs": [],
   "source": [
    "class Solution:\n",
    "    def minMoves2(self, nums: List[int]) -> int:\n",
    "        nums=sorted(nums)\n",
    "        L=len(nums)\n",
    "        if L%2>0:\n",
    "            mid=nums[L//2]\n",
    "            res=0\n",
    "            for n in nums:\n",
    "                res+=abs(n-mid)\n",
    "        else:\n",
    "            mid1=nums[L//2-1]\n",
    "            res1=0\n",
    "            for n in nums:\n",
    "                res1+=abs(n-mid1)\n",
    "            mid2=nums[L//2]\n",
    "            res2=0\n",
    "            for n in nums:\n",
    "                res2+=abs(n-mid2)\n",
    "            res=min(res1, res2)\n",
    "        return res"
   ]
  },
  {
   "cell_type": "markdown",
   "metadata": {},
   "source": [
    "## Lessons and Thoughts\n",
    "- Similar to Problem 453. But this time we are changing to median."
   ]
  }
 ],
 "metadata": {
  "kernelspec": {
   "display_name": "Python 3",
   "language": "python",
   "name": "python3"
  },
  "language_info": {
   "codemirror_mode": {
    "name": "ipython",
    "version": 3
   },
   "file_extension": ".py",
   "mimetype": "text/x-python",
   "name": "python",
   "nbconvert_exporter": "python",
   "pygments_lexer": "ipython3",
   "version": "3.7.3"
  }
 },
 "nbformat": 4,
 "nbformat_minor": 2
}
