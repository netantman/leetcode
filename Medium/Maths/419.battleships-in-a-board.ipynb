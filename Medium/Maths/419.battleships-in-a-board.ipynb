{
 "cells": [
  {
   "cell_type": "markdown",
   "metadata": {},
   "source": [
    "## Attempt 1 - Accepted"
   ]
  },
  {
   "cell_type": "code",
   "execution_count": null,
   "metadata": {},
   "outputs": [],
   "source": [
    "class Solution:\n",
    "    def countBattleships(self, board: List[List[str]]) -> int:\n",
    "        numRows, numCols=len(board), len(board[0])\n",
    "        counter=0\n",
    "        for r in range(numRows):\n",
    "            for c in range(numCols):\n",
    "                if board[r][c]==\"X\":\n",
    "                    if (r-1<0 or board[r-1][c]==\".\") and (c-1<0 or board[r][c-1]==\".\"):\n",
    "                        counter+=1\n",
    "        return counter"
   ]
  },
  {
   "cell_type": "markdown",
   "metadata": {},
   "source": [
    "## Lessons and Thought\n",
    "- The algo above solves the follow-up question, and is from [here](https://medium.com/@roger35972134/leetcode-419-battleships-in-a-board-ac08c9cafdc3). It is based on the tricky observation that, since no battle ships are adjacent, you can simply count the upper left corner of any battle ship.\n",
    "- One should come up with the usual BFS and DFS algo first, for this question."
   ]
  }
 ],
 "metadata": {
  "kernelspec": {
   "display_name": "Python 3",
   "language": "python",
   "name": "python3"
  },
  "language_info": {
   "codemirror_mode": {
    "name": "ipython",
    "version": 3
   },
   "file_extension": ".py",
   "mimetype": "text/x-python",
   "name": "python",
   "nbconvert_exporter": "python",
   "pygments_lexer": "ipython3",
   "version": "3.7.3"
  }
 },
 "nbformat": 4,
 "nbformat_minor": 2
}
