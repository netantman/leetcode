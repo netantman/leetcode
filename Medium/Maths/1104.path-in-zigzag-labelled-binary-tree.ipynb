{
 "cells": [
  {
   "cell_type": "markdown",
   "metadata": {},
   "source": [
    "## Attempt 1 - Accepted"
   ]
  },
  {
   "cell_type": "code",
   "execution_count": null,
   "metadata": {},
   "outputs": [],
   "source": [
    "class Solution:\n",
    "    def pathInZigZagTree(self, label: int) -> List[int]:\n",
    "        def flip(b):\n",
    "            b=[c for c in b]\n",
    "            L=len(b)\n",
    "            for idx in range(3,L):\n",
    "                b[idx]=str(int(b[idx])^1)\n",
    "            f=\"\".join(b)\n",
    "            return f\n",
    "        \n",
    "        b=bin(label)\n",
    "        L=len(b)\n",
    "        if L%2<1:\n",
    "            b=flip(b)\n",
    "        res=[]\n",
    "        idx=3\n",
    "        while idx<=L:\n",
    "            res.append(b[:idx])\n",
    "            idx+=1\n",
    "        for i in range(1,len(res),2):\n",
    "            res[i]=flip(res[i])\n",
    "        return [int(r[2:],2) for r in res]"
   ]
  },
  {
   "cell_type": "markdown",
   "metadata": {},
   "source": [
    "## Lessons and Thoughts\n",
    "- The idea is to find the pattern of what the path will be without the flip, and then adjust and flip back accordingly.\n",
    "- `bin` to go from integer to binary numbers, and `int(b,2)` as the reverse operation."
   ]
  }
 ],
 "metadata": {
  "kernelspec": {
   "display_name": "Python 3",
   "language": "python",
   "name": "python3"
  },
  "language_info": {
   "codemirror_mode": {
    "name": "ipython",
    "version": 3
   },
   "file_extension": ".py",
   "mimetype": "text/x-python",
   "name": "python",
   "nbconvert_exporter": "python",
   "pygments_lexer": "ipython3",
   "version": "3.7.3"
  }
 },
 "nbformat": 4,
 "nbformat_minor": 2
}
