{
 "cells": [
  {
   "cell_type": "markdown",
   "metadata": {},
   "source": [
    "## Attempt 1 - Wrong Answer"
   ]
  },
  {
   "cell_type": "code",
   "execution_count": null,
   "metadata": {},
   "outputs": [],
   "source": [
    "class Solution:\n",
    "    def nextGreaterElement(self, n: int) -> int:\n",
    "        digits=[int(d) for d in str(n)]\n",
    "        L=len(digits)\n",
    "        if L==1:\n",
    "            return -1\n",
    "        if L==2:\n",
    "            if digits[0]<digits[1]:\n",
    "                return int(str(digits[1])+str(digits[0]))\n",
    "            else:\n",
    "                return -1\n",
    "        \n",
    "        tail=L-2\n",
    "        while tail>=0:\n",
    "            if digits[tail]>=digits[tail+1]:\n",
    "                tail-=1\n",
    "            else:\n",
    "                break\n",
    "        if tail==-1:\n",
    "            return -1\n",
    "        to_swap=tail+1\n",
    "        while to_swap<L and digits[tail]<digits[to_swap]:\n",
    "            to_swap+=1\n",
    "        digits[to_swap-1],digits[tail]=digits[tail],digits[to_swap-1]\n",
    "        reverse=digits[tail+1:]\n",
    "        reverse=reverse[::-1]\n",
    "        digits[tail+1:]=reverse\n",
    "        return int(\"\".join([str(d) for d in digits])) ## --> did not handle the case where res is bigger than 32-bit integer."
   ]
  },
  {
   "cell_type": "markdown",
   "metadata": {},
   "source": [
    "## Attempt 2 - Accepted"
   ]
  },
  {
   "cell_type": "code",
   "execution_count": null,
   "metadata": {},
   "outputs": [],
   "source": [
    "class Solution:\n",
    "    def nextGreaterElement(self, n: int) -> int:\n",
    "        digits=[int(d) for d in str(n)]\n",
    "        L=len(digits)\n",
    "        if L==1:\n",
    "            return -1\n",
    "        if L==2:\n",
    "            if digits[0]<digits[1]:\n",
    "                return int(str(digits[1])+str(digits[0]))\n",
    "            else:\n",
    "                return -1\n",
    "        \n",
    "        tail=L-2\n",
    "        while tail>=0:\n",
    "            if digits[tail]>=digits[tail+1]:\n",
    "                tail-=1\n",
    "            else:\n",
    "                break\n",
    "        if tail==-1:\n",
    "            return -1\n",
    "        to_swap=tail+1\n",
    "        while to_swap<L and digits[tail]<digits[to_swap]:\n",
    "            to_swap+=1\n",
    "        digits[to_swap-1],digits[tail]=digits[tail],digits[to_swap-1]\n",
    "        reverse=digits[tail+1:]\n",
    "        reverse=reverse[::-1]\n",
    "        digits[tail+1:]=reverse\n",
    "        res=int(\"\".join([str(d) for d in digits]))\n",
    "        if res>=2**31:\n",
    "            return -1\n",
    "        else:\n",
    "            return res"
   ]
  },
  {
   "cell_type": "markdown",
   "metadata": {},
   "source": [
    "## Lessons and Thoughts\n",
    "- Same question as Problem 31.\n",
    "- 32-bit integer, the largest abs number is $2^31$, since there is one bit reserved for sign."
   ]
  }
 ],
 "metadata": {
  "kernelspec": {
   "display_name": "Python 3",
   "language": "python",
   "name": "python3"
  },
  "language_info": {
   "codemirror_mode": {
    "name": "ipython",
    "version": 3
   },
   "file_extension": ".py",
   "mimetype": "text/x-python",
   "name": "python",
   "nbconvert_exporter": "python",
   "pygments_lexer": "ipython3",
   "version": "3.7.3"
  }
 },
 "nbformat": 4,
 "nbformat_minor": 2
}
