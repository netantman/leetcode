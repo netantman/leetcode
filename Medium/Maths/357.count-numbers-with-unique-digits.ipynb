{
 "cells": [
  {
   "cell_type": "markdown",
   "metadata": {},
   "source": [
    "## Attempt 1 - Accepted"
   ]
  },
  {
   "cell_type": "code",
   "execution_count": null,
   "metadata": {},
   "outputs": [],
   "source": [
    "class Solution:\n",
    "    def countNumbersWithUniqueDigits(self, n: int) -> int:\n",
    "        if n==0:\n",
    "            return 1  ## --> still need to handle the edge case of 0\n",
    "        res=[None for _ in range(n)]\n",
    "        choose=dict()\n",
    "        choose[1]=9\n",
    "        for idx in range(2, 10):\n",
    "            choose[idx]=choose[idx-1]*(10-idx)\n",
    "        res=dict()\n",
    "        res[1]=10\n",
    "        for idx in range(2,n+1):\n",
    "            res[idx]=res[idx-1]+choose[idx]+choose[idx-1]*(idx-1)\n",
    "        return res[n]"
   ]
  },
  {
   "cell_type": "markdown",
   "metadata": {},
   "source": [
    "## Attempt 2 - Accepted"
   ]
  },
  {
   "cell_type": "code",
   "execution_count": null,
   "metadata": {},
   "outputs": [],
   "source": [
    "class Solution {\n",
    "public:\n",
    "    int countNumbersWithUniqueDigits(int n) {\n",
    "        if (n == 0) {return 1;}\n",
    "        if (n == 1) {return 10;}\n",
    "        if (n == 2) {return 91;}\n",
    "        \n",
    "        vector<int> factorial = {1, 1, 2, 6, 24, 120, 720, 5040, 40320, 362880};\n",
    "        \n",
    "        int k = 3;\n",
    "        int res = 91;\n",
    "        while (k <= n) {\n",
    "            res += (factorial[9] / factorial[9 - k + 1] * 9);\n",
    "            k++;\n",
    "        }\n",
    "        return res;\n",
    "    }\n",
    "};"
   ]
  },
  {
   "cell_type": "markdown",
   "metadata": {},
   "source": [
    "## Lessons and Thoughts\n",
    "- The key is to reduce to the case of n-1, by placing possible 0's.\n",
    "- Actually the relationship between `n` and `n-1` is just whether the leading element is 0 or not."
   ]
  }
 ],
 "metadata": {
  "kernelspec": {
   "display_name": "Python 3",
   "language": "python",
   "name": "python3"
  },
  "language_info": {
   "codemirror_mode": {
    "name": "ipython",
    "version": 3
   },
   "file_extension": ".py",
   "mimetype": "text/x-python",
   "name": "python",
   "nbconvert_exporter": "python",
   "pygments_lexer": "ipython3",
   "version": "3.6.5"
  }
 },
 "nbformat": 4,
 "nbformat_minor": 2
}
