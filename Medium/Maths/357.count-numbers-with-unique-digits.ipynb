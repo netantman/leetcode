{
 "cells": [
  {
   "cell_type": "markdown",
   "metadata": {},
   "source": [
    "## Attempt 1 - Accepted"
   ]
  },
  {
   "cell_type": "code",
   "execution_count": null,
   "metadata": {},
   "outputs": [],
   "source": [
    "class Solution:\n",
    "    def countNumbersWithUniqueDigits(self, n: int) -> int:\n",
    "        if n==0:\n",
    "            return 1  ## --> still need to handle the edge case of 0\n",
    "        res=[None for _ in range(n)]\n",
    "        choose=dict()\n",
    "        choose[1]=9\n",
    "        for idx in range(2, 10):\n",
    "            choose[idx]=choose[idx-1]*(10-idx)\n",
    "        res=dict()\n",
    "        res[1]=10\n",
    "        for idx in range(2,n+1):\n",
    "            res[idx]=res[idx-1]+choose[idx]+choose[idx-1]*(idx-1)\n",
    "        return res[n]"
   ]
  },
  {
   "cell_type": "markdown",
   "metadata": {},
   "source": [
    "## Lessons and Thoughts\n",
    "- The key is to reduce to the case of n-1, by placing possible 0's."
   ]
  }
 ],
 "metadata": {
  "kernelspec": {
   "display_name": "Python 3",
   "language": "python",
   "name": "python3"
  },
  "language_info": {
   "codemirror_mode": {
    "name": "ipython",
    "version": 3
   },
   "file_extension": ".py",
   "mimetype": "text/x-python",
   "name": "python",
   "nbconvert_exporter": "python",
   "pygments_lexer": "ipython3",
   "version": "3.7.3"
  }
 },
 "nbformat": 4,
 "nbformat_minor": 2
}
