{
 "cells": [
  {
   "cell_type": "markdown",
   "metadata": {},
   "source": [
    "## Attempt 1 - Accepted"
   ]
  },
  {
   "cell_type": "code",
   "execution_count": null,
   "metadata": {},
   "outputs": [],
   "source": [
    "class Solution:\n",
    "    def maxAbsValExpr(self, arr1: List[int], arr2: List[int]) -> int:\n",
    "        L=len(arr1)\n",
    "        res=-float('inf')\n",
    "        for x in {-1,1}:\n",
    "            for y in {-1,1}:\n",
    "                for z in {-1,1}:\n",
    "                    maxx=-float('inf')\n",
    "                    minn=float('inf')\n",
    "                    for idx in range(L):\n",
    "                        maxx=max(maxx, x*arr1[idx]+y*arr2[idx]+z*idx)\n",
    "                        minn=min(minn, x*arr1[idx]+y*arr2[idx]+z*idx)\n",
    "                    res=max(res, maxx-minn)       \n",
    "        return res"
   ]
  },
  {
   "cell_type": "markdown",
   "metadata": {},
   "source": [
    "## Lessons and Thoughts\n",
    "- This solution is taken from the app. For each order of subtraction in the objective function, one can optimize `i` and `j` separately. "
   ]
  }
 ],
 "metadata": {
  "kernelspec": {
   "display_name": "Python 3",
   "language": "python",
   "name": "python3"
  },
  "language_info": {
   "codemirror_mode": {
    "name": "ipython",
    "version": 3
   },
   "file_extension": ".py",
   "mimetype": "text/x-python",
   "name": "python",
   "nbconvert_exporter": "python",
   "pygments_lexer": "ipython3",
   "version": "3.7.3"
  }
 },
 "nbformat": 4,
 "nbformat_minor": 2
}
