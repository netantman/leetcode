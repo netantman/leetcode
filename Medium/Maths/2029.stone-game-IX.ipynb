{
 "cells": [
  {
   "cell_type": "markdown",
   "metadata": {},
   "source": [
    "## Attempt 1 - Wrong Answer"
   ]
  },
  {
   "cell_type": "code",
   "execution_count": null,
   "metadata": {},
   "outputs": [],
   "source": [
    "class Solution:\n",
    "    def stoneGameIX(self, stones: List[int]) -> bool:\n",
    "        count = defaultdict(int)\n",
    "        for s in stones:\n",
    "            if s % 3 == 0:\n",
    "                count[0] += 1\n",
    "            elif s % 3 == 1:\n",
    "                count[1] += 1\n",
    "            else:\n",
    "                count[2] += 1\n",
    "        \n",
    "        if sum(count.values()) < 2:\n",
    "            return False\n",
    "        \n",
    "        if sum([1 for k in count.keys() if count[k] > 0]) < 2:\n",
    "            return False\n",
    "\n",
    "        if count[0] % 2 == 0:\n",
    "            if sum([1 for k in count.keys() if k > 0 and count[k] > 0]) < 2:\n",
    "                return False\n",
    "            return True\n",
    "        else:\n",
    "            if sum([1 for k in count.keys() if k > 0 and count[k] > 0]) < 2:\n",
    "                if count[1] <= 2 and count[2] <= 2:\n",
    "                    return False\n",
    "                return True\n",
    "            return False"
   ]
  },
  {
   "cell_type": "markdown",
   "metadata": {},
   "source": [
    "## Attempt 2 - Accepted"
   ]
  },
  {
   "cell_type": "code",
   "execution_count": null,
   "metadata": {},
   "outputs": [],
   "source": [
    "class Solution:\n",
    "    def stoneGameIX(self, stones: List[int]) -> bool:\n",
    "        c = [0, 0, 0]\n",
    "        for s in stones:\n",
    "            c[s % 3] += 1\n",
    "        return abs(c[1]- c[2]) > 2 if c[0] & 1 else c[1] * c[2] != 0"
   ]
  },
  {
   "cell_type": "markdown",
   "metadata": {},
   "source": [
    "## Lessons and Thoughts\n",
    "- The accepted solution is from app.\n",
    "- You get most of intermediate results figured out, but did not quite get why Alice can win as long as `abs(c[1]- c[2]) > 2` when there is odd number of 3-multiples. The idea is to take the bigger 1 or 2 pile first and use the odd 0 pile to transfer the losing case to Bob.\n",
    "- The way to record number of different types of balls is also interesting."
   ]
  }
 ],
 "metadata": {
  "kernelspec": {
   "display_name": "Python 3",
   "language": "python",
   "name": "python3"
  },
  "language_info": {
   "codemirror_mode": {
    "name": "ipython",
    "version": 3
   },
   "file_extension": ".py",
   "mimetype": "text/x-python",
   "name": "python",
   "nbconvert_exporter": "python",
   "pygments_lexer": "ipython3",
   "version": "3.7.3"
  }
 },
 "nbformat": 4,
 "nbformat_minor": 2
}
