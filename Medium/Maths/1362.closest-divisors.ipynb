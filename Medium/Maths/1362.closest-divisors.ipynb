{
 "cells": [
  {
   "cell_type": "markdown",
   "metadata": {},
   "source": [
    "## Attempt 1 - Accepted"
   ]
  },
  {
   "cell_type": "code",
   "execution_count": null,
   "metadata": {},
   "outputs": [],
   "source": [
    "class Solution:\n",
    "    def closestDivisors(self, num: int) -> List[int]:\n",
    "        res=[1,num+1]\n",
    "        for n in range(2,int(math.sqrt(num+2))+1):\n",
    "            if (num+1)%n<1 and (num+1)//n-n<res[1]-res[0]:\n",
    "                res=[n,(num+1)//n]\n",
    "            if (num+2)%n<1 and (num+2)//n-n<res[1]-res[0]:\n",
    "                res=[n,(num+2)//n]\n",
    "        return res"
   ]
  },
  {
   "cell_type": "markdown",
   "metadata": {},
   "source": [
    "## Lessons and Thoughts\n",
    "- Brute force"
   ]
  }
 ],
 "metadata": {
  "kernelspec": {
   "display_name": "Python 3",
   "language": "python",
   "name": "python3"
  },
  "language_info": {
   "codemirror_mode": {
    "name": "ipython",
    "version": 3
   },
   "file_extension": ".py",
   "mimetype": "text/x-python",
   "name": "python",
   "nbconvert_exporter": "python",
   "pygments_lexer": "ipython3",
   "version": "3.7.3"
  }
 },
 "nbformat": 4,
 "nbformat_minor": 2
}
