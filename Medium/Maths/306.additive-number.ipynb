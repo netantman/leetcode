{
 "cells": [
  {
   "cell_type": "markdown",
   "metadata": {},
   "source": [
    "## Attempt 1 - Wrong Answer"
   ]
  },
  {
   "cell_type": "code",
   "execution_count": null,
   "metadata": {},
   "outputs": [],
   "source": [
    "class Solution:\n",
    "    def isAdditiveNumber(self, num: str) -> bool:\n",
    "        \n",
    "        def isAdditive(n1, n2, s):\n",
    "            while len(s)>0:\n",
    "                head=str(n1+n2)\n",
    "                L=len(head)\n",
    "                if head==s[:L]:\n",
    "                    s=s[L:]\n",
    "                    n1, n2=n2, n1+n2\n",
    "                else:\n",
    "                    return False\n",
    "            return True\n",
    "        \n",
    "        L=len(num)\n",
    "        for i in range(1, L):\n",
    "            for j in range(1, L-i):\n",
    "                n1, n2=num[:i], num[i:i+j]\n",
    "                if n1[0]==\"0\" or n2[0]==\"0\": ## --> did not handle the case where n1 and n2 are zeros though\n",
    "                    continue\n",
    "                else:\n",
    "                    if isAdditive(int(n1), int(n2), num[i+j:]):\n",
    "                        return True\n",
    "        return False"
   ]
  },
  {
   "cell_type": "markdown",
   "metadata": {},
   "source": [
    "## Attempt 2 - Accepted"
   ]
  },
  {
   "cell_type": "code",
   "execution_count": null,
   "metadata": {},
   "outputs": [],
   "source": [
    "class Solution:\n",
    "    def isAdditiveNumber(self, num: str) -> bool:\n",
    "        \n",
    "        def isAdditive(n1, n2, s):\n",
    "            while len(s)>0:\n",
    "                head=str(n1+n2)\n",
    "                L=len(head)\n",
    "                if head==s[:L]:\n",
    "                    s=s[L:]\n",
    "                    n1, n2=n2, n1+n2\n",
    "                else:\n",
    "                    return False\n",
    "            return True\n",
    "        \n",
    "        L=len(num)\n",
    "        for i in range(1, L):\n",
    "            for j in range(1, L-i):\n",
    "                n1, n2=num[:i], num[i:i+j]\n",
    "                if (n1!=\"0\" and n1[0]==\"0\") or (n2!=\"0\" and n2[0]==\"0\"):\n",
    "                    continue\n",
    "                else:\n",
    "                    if isAdditive(int(n1), int(n2), num[i+j:]):\n",
    "                        return True\n",
    "        return False"
   ]
  },
  {
   "cell_type": "markdown",
   "metadata": {},
   "source": [
    "## Lessons and Thoughts\n",
    "- There are no tricks - in the note it is mentioned the length of `num` is less than 35, so maybe even recursion would have been OK too.\n",
    "- Maybe the two `for` loops can be structured as first looping over the total lengths of the first two numbers, and then looping over how to break it into the two numbers."
   ]
  }
 ],
 "metadata": {
  "kernelspec": {
   "display_name": "Python 3",
   "language": "python",
   "name": "python3"
  },
  "language_info": {
   "codemirror_mode": {
    "name": "ipython",
    "version": 3
   },
   "file_extension": ".py",
   "mimetype": "text/x-python",
   "name": "python",
   "nbconvert_exporter": "python",
   "pygments_lexer": "ipython3",
   "version": "3.7.3"
  }
 },
 "nbformat": 4,
 "nbformat_minor": 2
}
