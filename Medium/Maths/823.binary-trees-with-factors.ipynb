{
 "cells": [
  {
   "cell_type": "markdown",
   "metadata": {},
   "source": [
    "## Attempt 1 - Accepted"
   ]
  },
  {
   "cell_type": "code",
   "execution_count": null,
   "metadata": {},
   "outputs": [],
   "source": [
    "class Solution:\n",
    "    def numFactoredBinaryTrees(self, A: List[int]) -> int:\n",
    "        A=sorted(A)\n",
    "        res=dict()\n",
    "        for idx, a in enumerate(A):\n",
    "            if idx==0:\n",
    "                res[a]=1\n",
    "            else:\n",
    "                res[a]=1\n",
    "                for j in range(idx):\n",
    "                    if (a%A[j]==0) and (a//A[j] in A):\n",
    "                        res[a]+=res[A[j]]*res[a//A[j]]\n",
    "        return sum(res.values())%(10**9+7)"
   ]
  },
  {
   "cell_type": "markdown",
   "metadata": {},
   "source": [
    "## Lessons and Thoughts\n",
    "- The idea is to count how many trees can be formed for any given element in `A` as root."
   ]
  }
 ],
 "metadata": {
  "kernelspec": {
   "display_name": "Python 3",
   "language": "python",
   "name": "python3"
  },
  "language_info": {
   "codemirror_mode": {
    "name": "ipython",
    "version": 3
   },
   "file_extension": ".py",
   "mimetype": "text/x-python",
   "name": "python",
   "nbconvert_exporter": "python",
   "pygments_lexer": "ipython3",
   "version": "3.7.3"
  }
 },
 "nbformat": 4,
 "nbformat_minor": 2
}
