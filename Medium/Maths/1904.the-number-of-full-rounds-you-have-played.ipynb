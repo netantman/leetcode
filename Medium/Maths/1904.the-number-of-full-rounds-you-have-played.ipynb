{
 "cells": [
  {
   "cell_type": "markdown",
   "metadata": {},
   "source": [
    "## Attempt 1 - Runtime Error"
   ]
  },
  {
   "cell_type": "code",
   "execution_count": null,
   "metadata": {},
   "outputs": [],
   "source": [
    "class Solution:\n",
    "    def numberOfRounds(self, startTime: str, finishTime: str) -> int:\n",
    "        def count_full_sessions(start, finish):\n",
    "            start_hh, finish_hh = int(start[:2]), int(finish[:2])\n",
    "            if start_hh > finish_hh: ## --> this is not the only case where startTime > finishTime\n",
    "                finish_hh += 24\n",
    "            start_mm, finish_mm = int(start[-2:]), int(finish[-2:])\n",
    "            if start_mm > finish_mm:\n",
    "                finish_mm += 60\n",
    "                finish_hh -= 1\n",
    "            return (finish_mm - start_mm) // 15 + (finish_hh - start_hh) * 4\n",
    "        \n",
    "        ## --> There may not be leading zeros in representation\n",
    "        finish = finishTime[:3] + str(int(finishTime[-2:]) - int(finishTime[-2:]) % 15) ## --> the minute can be just 0 rather than 00\n",
    "        start = startTime\n",
    "        if int(startTime[-2:]) > 0 and int(startTime[-2:]) <= 15:\n",
    "            start = startTime[:3] + \"15\"\n",
    "        if int(startTime[-2:]) > 15 and int(startTime[-2:]) <= 30:\n",
    "            start = startTime[:3] + \"30\"\n",
    "        if int(startTime[-2:]) > 30 and int(startTime[-2:]) <= 45:\n",
    "            start = startTime[:3] + \"45\"\n",
    "        if int(startTime[-2:]) > 45:\n",
    "            start = str(int(startTime[:2]) + 1)  + \":00\"\n",
    "        \n",
    "        return count_full_sessions(start, finish) ## --> what if finishTime and startTime is within the same session of each other?"
   ]
  },
  {
   "cell_type": "markdown",
   "metadata": {},
   "source": [
    "## Attempt 2 - Accepted"
   ]
  },
  {
   "cell_type": "code",
   "execution_count": null,
   "metadata": {},
   "outputs": [],
   "source": [
    "class Solution:\n",
    "    def numberOfRounds(self, startTime: str, finishTime: str) -> int:\n",
    "        def count_full_sessions(start, finish):\n",
    "            start_hh, finish_hh = int(start[:2]), int(finish[:2])\n",
    "            start_mm, finish_mm = int(start[-2:]), int(finish[-2:])\n",
    "            if start_mm > finish_mm:\n",
    "                finish_mm += 60\n",
    "                finish_hh -= 1\n",
    "            return (finish_mm - start_mm) // 15 + (finish_hh - start_hh) * 4\n",
    "        \n",
    "        start_hh, finish_hh = int(startTime[:2]), int(finishTime[:2])\n",
    "        start_mm, finish_mm = int(startTime[-2:]), int(finishTime[-2:])\n",
    "        if start_hh > finish_hh or (start_hh == finish_hh and start_mm > finish_mm):\n",
    "            finishTime = str(int(finishTime[:2]) + 24) + finishTime[-3:]\n",
    "        \n",
    "        finish = finishTime[:3] + str(int(finishTime[-2:]) - int(finishTime[-2:]) % 15)\n",
    "        if len(finish) < 5:\n",
    "            finish += \"0\"\n",
    "        \n",
    "        if start_hh > int(finish[:2]) or (start_hh == int(finish[:2]) and start_mm > int(finish[-2:])):\n",
    "            return 0\n",
    "        \n",
    "        start = startTime\n",
    "        if int(startTime[-2:]) > 0 and int(startTime[-2:]) <= 15:\n",
    "            start = startTime[:3] + \"15\"\n",
    "        if int(startTime[-2:]) > 15 and int(startTime[-2:]) <= 30:\n",
    "            start = startTime[:3] + \"30\"\n",
    "        if int(startTime[-2:]) > 30 and int(startTime[-2:]) <= 45:\n",
    "            start = startTime[:3] + \"45\"\n",
    "        if int(startTime[-2:]) > 45:\n",
    "            start = str(int(startTime[:2]) + 1)  + \":00\"\n",
    "            if len(start) < 5:\n",
    "                start = \"0\" + start\n",
    "        \n",
    "        return count_full_sessions(start, finish)"
   ]
  },
  {
   "cell_type": "markdown",
   "metadata": {},
   "source": [
    "## Lessons and Thoughts\n",
    "- So many edge cases..."
   ]
  }
 ],
 "metadata": {
  "kernelspec": {
   "display_name": "Python 3",
   "language": "python",
   "name": "python3"
  },
  "language_info": {
   "codemirror_mode": {
    "name": "ipython",
    "version": 3
   },
   "file_extension": ".py",
   "mimetype": "text/x-python",
   "name": "python",
   "nbconvert_exporter": "python",
   "pygments_lexer": "ipython3",
   "version": "3.7.3"
  }
 },
 "nbformat": 4,
 "nbformat_minor": 2
}
