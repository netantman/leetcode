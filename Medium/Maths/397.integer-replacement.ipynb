{
 "cells": [
  {
   "cell_type": "markdown",
   "metadata": {},
   "source": [
    "## Attempt 1 - Wrong Answer"
   ]
  },
  {
   "cell_type": "code",
   "execution_count": null,
   "metadata": {},
   "outputs": [],
   "source": [
    "class Solution:\n",
    "    def integerReplacement(self, n: int) -> int:\n",
    "        q=[(n,0)]\n",
    "        visited=set()\n",
    "        while len(q)>0:\n",
    "            curr=q.pop(0)\n",
    "            num, lvl=curr\n",
    "            if num==2:  ## --> did not handle the case of n==1\n",
    "                return lvl+1\n",
    "            \n",
    "            if num%2==0 and num//2 not in visited:\n",
    "                q.append((num//2, lvl+1))\n",
    "                visited.add(num//2)\n",
    "            else:\n",
    "                if num-1 not in visited:\n",
    "                    q.append((num-1, lvl+1))\n",
    "                    visited.add(num-1)\n",
    "                if num+1 not in visited:\n",
    "                    q.append((num+1, lvl+1))\n",
    "                    visited.add(num+1)"
   ]
  },
  {
   "cell_type": "markdown",
   "metadata": {},
   "source": [
    "## Attempt 2 - Accepted"
   ]
  },
  {
   "cell_type": "code",
   "execution_count": null,
   "metadata": {},
   "outputs": [],
   "source": [
    "class Solution:\n",
    "    def integerReplacement(self, n: int) -> int:\n",
    "        q=[(n,0)]\n",
    "        visited=set()\n",
    "        while len(q)>0:\n",
    "            curr=q.pop(0)\n",
    "            num, lvl=curr\n",
    "            if num==1:\n",
    "                return 0\n",
    "            if num==2:\n",
    "                return lvl+1\n",
    "            \n",
    "            if num%2==0 and num//2 not in visited:\n",
    "                q.append((num//2, lvl+1))\n",
    "                visited.add(num//2)\n",
    "            else:\n",
    "                if num-1 not in visited:\n",
    "                    q.append((num-1, lvl+1))\n",
    "                    visited.add(num-1)\n",
    "                if num+1 not in visited:\n",
    "                    q.append((num+1, lvl+1))\n",
    "                    visited.add(num+1)"
   ]
  },
  {
   "cell_type": "markdown",
   "metadata": {},
   "source": [
    "## Lessons and Thoughts\n",
    "- There is a switch of algo for the first attempt - you did a previous one but it did not seem to work. And after that you did not reconsider all edge cases."
   ]
  }
 ],
 "metadata": {
  "kernelspec": {
   "display_name": "Python 3",
   "language": "python",
   "name": "python3"
  },
  "language_info": {
   "codemirror_mode": {
    "name": "ipython",
    "version": 3
   },
   "file_extension": ".py",
   "mimetype": "text/x-python",
   "name": "python",
   "nbconvert_exporter": "python",
   "pygments_lexer": "ipython3",
   "version": "3.7.3"
  }
 },
 "nbformat": 4,
 "nbformat_minor": 2
}
