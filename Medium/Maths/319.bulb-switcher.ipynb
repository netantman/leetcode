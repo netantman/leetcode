{
 "cells": [
  {
   "cell_type": "markdown",
   "metadata": {},
   "source": [
    "## Attempt 1 - Wrong Answer"
   ]
  },
  {
   "cell_type": "code",
   "execution_count": null,
   "metadata": {},
   "outputs": [],
   "source": [
    "class Solution:\n",
    "    def bulbSwitch(self, n: int) -> int:\n",
    "        if n==1:\n",
    "            return 1 ## --> OK, did not handle n==0, but is that even a valid edge case?\n",
    "        left, right=1, n\n",
    "        while right>left+1:\n",
    "            mid=(left+right)//2\n",
    "            if mid*mid==n:\n",
    "                return mid\n",
    "            elif mid*mid<n:\n",
    "                left=mid\n",
    "            else:\n",
    "                right=mid\n",
    "        return left"
   ]
  },
  {
   "cell_type": "markdown",
   "metadata": {},
   "source": [
    "## Attempt 2 - Accepted"
   ]
  },
  {
   "cell_type": "code",
   "execution_count": null,
   "metadata": {},
   "outputs": [],
   "source": [
    "class Solution:\n",
    "    def bulbSwitch(self, n: int) -> int:\n",
    "        if n<=1:\n",
    "            return n\n",
    "        \n",
    "        left, right=1, n\n",
    "        while right>left+1:\n",
    "            mid=(left+right)//2\n",
    "            if mid*mid==n:\n",
    "                return mid\n",
    "            elif mid*mid<n:\n",
    "                left=mid\n",
    "            else:\n",
    "                right=mid\n",
    "        return left"
   ]
  },
  {
   "cell_type": "markdown",
   "metadata": {},
   "source": [
    "## Lessons and Thoughts\n",
    "- Straightforward once you figure out the maths behind it."
   ]
  }
 ],
 "metadata": {
  "kernelspec": {
   "display_name": "Python 3",
   "language": "python",
   "name": "python3"
  },
  "language_info": {
   "codemirror_mode": {
    "name": "ipython",
    "version": 3
   },
   "file_extension": ".py",
   "mimetype": "text/x-python",
   "name": "python",
   "nbconvert_exporter": "python",
   "pygments_lexer": "ipython3",
   "version": "3.7.3"
  }
 },
 "nbformat": 4,
 "nbformat_minor": 2
}
