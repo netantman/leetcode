{
 "cells": [
  {
   "cell_type": "markdown",
   "metadata": {},
   "source": [
    "## Attempt 1 - Time Limit Exceeded"
   ]
  },
  {
   "cell_type": "code",
   "execution_count": null,
   "metadata": {},
   "outputs": [],
   "source": [
    "class Solution:\n",
    "    def findNthDigit(self, n: int) -> int:\n",
    "        numDigits=1\n",
    "        while n>numDigits*9*(10**(numDigits-1)):\n",
    "            n-=numDigits*9*(10**(numDigits-1))\n",
    "            numDigits+=1\n",
    "        l=[str(num) for num in range(10**(numDigits-1), 10**numDigits)] ## --> kind of get lazy in finding the actual number: but worth a first try\n",
    "        l=\"\".join(l)\n",
    "        return l[n-1]"
   ]
  },
  {
   "cell_type": "markdown",
   "metadata": {},
   "source": [
    "## Attempt 2 - Wrong Answer"
   ]
  },
  {
   "cell_type": "code",
   "execution_count": null,
   "metadata": {},
   "outputs": [],
   "source": [
    "class Solution:\n",
    "    def findNthDigit(self, n: int) -> int:\n",
    "        numDigits=1\n",
    "        while n>numDigits*9*(10**(numDigits-1)):\n",
    "            n-=numDigits*9*(10**(numDigits-1))\n",
    "            numDigits+=1\n",
    "        target=str(10**(numDigits-1)+n//numDigits) ##--> did not handle the edge case of one-digits ##--> also, specified like this will make target wrong when pos happens to be the last pos of target\n",
    "        pos=n%numDigits-1        \n",
    "        return target[pos]"
   ]
  },
  {
   "cell_type": "markdown",
   "metadata": {},
   "source": [
    "## Attempt 3 - Accepted"
   ]
  },
  {
   "cell_type": "code",
   "execution_count": null,
   "metadata": {},
   "outputs": [],
   "source": [
    "class Solution:\n",
    "    def findNthDigit(self, n: int) -> int:\n",
    "        if n<=9:\n",
    "            return n\n",
    "        \n",
    "        numDigits=1\n",
    "        while n>numDigits*9*(10**(numDigits-1)):\n",
    "            n-=numDigits*9*(10**(numDigits-1))\n",
    "            numDigits+=1\n",
    "        target=str(10**(numDigits-1)+(n-1)//numDigits)\n",
    "        pos=(n-1)%numDigits\n",
    "        print(target)\n",
    "        print(pos)\n",
    "        return target[pos]"
   ]
  },
  {
   "cell_type": "markdown",
   "metadata": {},
   "source": [
    "## Lessons and Thoughts\n",
    "- Run a few more cases - not just one."
   ]
  }
 ],
 "metadata": {
  "kernelspec": {
   "display_name": "Python 3",
   "language": "python",
   "name": "python3"
  },
  "language_info": {
   "codemirror_mode": {
    "name": "ipython",
    "version": 3
   },
   "file_extension": ".py",
   "mimetype": "text/x-python",
   "name": "python",
   "nbconvert_exporter": "python",
   "pygments_lexer": "ipython3",
   "version": "3.7.3"
  }
 },
 "nbformat": 4,
 "nbformat_minor": 2
}
