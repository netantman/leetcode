{
 "cells": [
  {
   "cell_type": "markdown",
   "metadata": {},
   "source": [
    "## Attempt 1 - Time Limit Exceeded"
   ]
  },
  {
   "cell_type": "markdown",
   "metadata": {},
   "source": [
    "Breadth-First-Search, TLE"
   ]
  },
  {
   "cell_type": "code",
   "execution_count": null,
   "metadata": {},
   "outputs": [],
   "source": [
    "class Solution:\n",
    "    def minSteps(self, n: int) -> int:\n",
    "        q=[(1,1,1)]\n",
    "        visited=set([(1,1)])\n",
    "        while True:\n",
    "            head=q.pop(0)\n",
    "            status=(head[0], head[1])\n",
    "            if head[0]+head[1]==n:\n",
    "                return head[2]+1\n",
    "            if (head[0]+head[1], head[1]) not in visited:\n",
    "                q.append((head[0]+head[1], head[1], head[2]+1))\n",
    "            if (head[0], head[0]) not in visited:\n",
    "                q.append((head[0], head[0], head[2]+1))"
   ]
  },
  {
   "cell_type": "markdown",
   "metadata": {},
   "source": [
    "## Attempt 2 - Accepted"
   ]
  },
  {
   "cell_type": "code",
   "execution_count": null,
   "metadata": {},
   "outputs": [],
   "source": [
    "class Solution:\n",
    "    def minSteps(self, n: int) -> int:\n",
    "        res = 0\n",
    "        d = 2\n",
    "        while n > 1:\n",
    "            while n % d == 0:\n",
    "                res += d\n",
    "                n //= d\n",
    "            d += 1\n",
    "        return res "
   ]
  },
  {
   "cell_type": "markdown",
   "metadata": {},
   "source": [
    "## Lessons and Thoughts\n",
    "- The accepted solution is from leetcode app. The key is to recognise that the problem is essentially trying to find all prime factors of a number, and $mn>m+n$ for $m,n\\geq 2$.\n",
    "- The way it uses to find all prime numbers is also interesting."
   ]
  }
 ],
 "metadata": {
  "kernelspec": {
   "display_name": "Python 3",
   "language": "python",
   "name": "python3"
  },
  "language_info": {
   "codemirror_mode": {
    "name": "ipython",
    "version": 3
   },
   "file_extension": ".py",
   "mimetype": "text/x-python",
   "name": "python",
   "nbconvert_exporter": "python",
   "pygments_lexer": "ipython3",
   "version": "3.7.3"
  }
 },
 "nbformat": 4,
 "nbformat_minor": 2
}
