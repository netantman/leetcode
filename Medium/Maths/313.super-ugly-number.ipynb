{
 "cells": [
  {
   "cell_type": "markdown",
   "metadata": {},
   "source": [
    "## Attempt 1 - Time Limit Exceeded"
   ]
  },
  {
   "cell_type": "code",
   "execution_count": null,
   "metadata": {},
   "outputs": [],
   "source": [
    "from heapq import *\n",
    "\n",
    "class Solution:\n",
    "    def nthSuperUglyNumber(self, n: int, primes: List[int]) -> int:\n",
    "        primes=sorted(primes)\n",
    "        q=[]\n",
    "        heappush(q,1)\n",
    "        for idx in range(n):\n",
    "            res=heappop(q)\n",
    "            if idx==n-1:\n",
    "                return res\n",
    "            else:\n",
    "                for p in primes:\n",
    "                    if res*p not in q:\n",
    "                        heappush(q, res*p)\n",
    "        "
   ]
  },
  {
   "cell_type": "markdown",
   "metadata": {},
   "source": [
    "## Attempt 2 - Subtle Bug"
   ]
  },
  {
   "cell_type": "code",
   "execution_count": null,
   "metadata": {},
   "outputs": [],
   "source": [
    "\n",
    "class Solution:\n",
    "    def nthSuperUglyNumber(self, n: int, primes: List[int]) -> int:\n",
    "        K=len(primes)\n",
    "        idxs=[0 for _ in range(K)]\n",
    "        multiples=primes  ##  --> you should have copied the list\n",
    "        res=[1]\n",
    "        for _ in range(1,n):\n",
    "            k, m=0, multiples[0]\n",
    "            for i, can in enumerate(multiples):\n",
    "                if can<m:\n",
    "                    k, m=i, can\n",
    "            res.append(m)\n",
    "            # print(multiples)\n",
    "            # print(k)\n",
    "            idxs[k]+=1\n",
    "            # print(idxs[k])\n",
    "            # print(res)\n",
    "            multiples[k]=res[idxs[k]]*primes[k]\n",
    "        return res[-1]"
   ]
  },
  {
   "cell_type": "markdown",
   "metadata": {},
   "source": [
    "## Attempt 3 - Accepted"
   ]
  },
  {
   "cell_type": "code",
   "execution_count": null,
   "metadata": {},
   "outputs": [],
   "source": [
    "class Solution:\n",
    "    def nthSuperUglyNumber(self, n: int, primes: List[int]) -> int:\n",
    "        K=len(primes)\n",
    "        idxs=[0 for _ in range(K)]\n",
    "        multiples=[p for p in primes]\n",
    "        res=[1]\n",
    "        for _ in range(1,n):\n",
    "            m=min(multiples)\n",
    "            res.append(m)\n",
    "            for k in range(K):\n",
    "                if multiples[k]==m: ## --> there may be multiple minimums: all the multiples with minimums need to increase\n",
    "                    idxs[k]+=1\n",
    "                    multiples[k]=res[idxs[k]]*primes[k]\n",
    "        return res[-1]"
   ]
  },
  {
   "cell_type": "markdown",
   "metadata": {},
   "source": [
    "## Lessons and Thoughts\n",
    "- So the way from Problem 264 no longer works. The solution accepted is from [here](https://medium.com/algorithms-and-leetcode/ugly-number-problems-on-leetcode-9375f3a34e28#:~:text=Super%20ugly%20numbers%20are%20positive,%2C%2019%5D%20of%20size%204.), to directly keep track of the possible next minimums.\n",
    "- Be very careful when you need a copy of a list"
   ]
  }
 ],
 "metadata": {
  "kernelspec": {
   "display_name": "Python 3",
   "language": "python",
   "name": "python3"
  },
  "language_info": {
   "codemirror_mode": {
    "name": "ipython",
    "version": 3
   },
   "file_extension": ".py",
   "mimetype": "text/x-python",
   "name": "python",
   "nbconvert_exporter": "python",
   "pygments_lexer": "ipython3",
   "version": "3.7.3"
  }
 },
 "nbformat": 4,
 "nbformat_minor": 2
}
