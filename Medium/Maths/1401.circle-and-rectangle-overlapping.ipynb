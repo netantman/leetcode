{
 "cells": [
  {
   "cell_type": "markdown",
   "metadata": {},
   "source": [
    "## Attempt 1 - Accepted"
   ]
  },
  {
   "cell_type": "code",
   "execution_count": null,
   "metadata": {},
   "outputs": [],
   "source": [
    "class Solution:\n",
    "    def checkOverlap(self, radius: int, x_center: int, y_center: int, x1: int, y1: int, x2: int, y2: int) -> bool:\n",
    "        if x_center<=x1:\n",
    "            x=x1\n",
    "        if x1<x_center<x2:\n",
    "            x=x_center\n",
    "        if x2<=x_center:\n",
    "            x=x2\n",
    "        if y_center<=y1:\n",
    "            y=y1\n",
    "        if y1<y_center<y2:\n",
    "            y=y_center\n",
    "        if y2<=y_center:\n",
    "            y=y2\n",
    "        return math.sqrt((x-x_center)**2+(y-y_center)**2)<=radius"
   ]
  },
  {
   "cell_type": "markdown",
   "metadata": {},
   "source": [
    "## Lessons and Thoughts\n",
    "- Just write out the optimization and you will realize `x` and `y` can be optimized separately."
   ]
  }
 ],
 "metadata": {
  "kernelspec": {
   "display_name": "Python 3",
   "language": "python",
   "name": "python3"
  },
  "language_info": {
   "codemirror_mode": {
    "name": "ipython",
    "version": 3
   },
   "file_extension": ".py",
   "mimetype": "text/x-python",
   "name": "python",
   "nbconvert_exporter": "python",
   "pygments_lexer": "ipython3",
   "version": "3.7.3"
  }
 },
 "nbformat": 4,
 "nbformat_minor": 2
}
