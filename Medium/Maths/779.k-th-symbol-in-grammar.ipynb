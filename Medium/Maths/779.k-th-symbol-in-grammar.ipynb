{
 "cells": [
  {
   "cell_type": "markdown",
   "metadata": {},
   "source": [
    "## Attempt 1 - Accepted"
   ]
  },
  {
   "cell_type": "code",
   "execution_count": null,
   "metadata": {},
   "outputs": [],
   "source": [
    "class Solution:\n",
    "    def kthGrammar(self, N: int, K: int) -> int:\n",
    "        if N==1:\n",
    "            return int(K-1)\n",
    "        if K%2==0:\n",
    "            return int(1-self.kthGrammar(N-1,int(K/2)))\n",
    "        else:\n",
    "            return int(self.kthGrammar(N-1,int((K+1)//2)))"
   ]
  },
  {
   "cell_type": "markdown",
   "metadata": {},
   "source": [
    "## Lessons and Thoughts\n",
    "- The key is to recognize the mapping between elements in the `N`-th level versus the `N-1`-th level."
   ]
  }
 ],
 "metadata": {
  "kernelspec": {
   "display_name": "Python 3",
   "language": "python",
   "name": "python3"
  },
  "language_info": {
   "codemirror_mode": {
    "name": "ipython",
    "version": 3
   },
   "file_extension": ".py",
   "mimetype": "text/x-python",
   "name": "python",
   "nbconvert_exporter": "python",
   "pygments_lexer": "ipython3",
   "version": "3.7.3"
  }
 },
 "nbformat": 4,
 "nbformat_minor": 2
}
