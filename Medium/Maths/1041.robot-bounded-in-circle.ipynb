{
 "cells": [
  {
   "cell_type": "markdown",
   "metadata": {},
   "source": [
    "## Attempt 1 - Wrong Answer"
   ]
  },
  {
   "cell_type": "code",
   "execution_count": null,
   "metadata": {},
   "outputs": [],
   "source": [
    "class Solution:\n",
    "    def isRobotBounded(self, instructions: str) -> bool:\n",
    "        directions=\"NESW\"\n",
    "        record={d:0 for d in directions}\n",
    "        face=0\n",
    "        for idx, ins in enumerate(instructions):\n",
    "            if ins==\"G\":\n",
    "                record[directions[face]]+=1\n",
    "            elif ins==\"L\":\n",
    "                face=(face-1)%4\n",
    "            else:\n",
    "                face=(face+1)%4\n",
    "        if face!=0 or record[\"N\"]<1: ## --> just looking at N is not enough\n",
    "            return True\n",
    "        else:\n",
    "            return False"
   ]
  },
  {
   "cell_type": "markdown",
   "metadata": {},
   "source": [
    "## Attempt 2 - Accepted"
   ]
  },
  {
   "cell_type": "code",
   "execution_count": null,
   "metadata": {},
   "outputs": [],
   "source": [
    "class Solution:\n",
    "    def isRobotBounded(self, instructions: str) -> bool:\n",
    "        directions=\"NESW\"\n",
    "        record={d:0 for d in directions}\n",
    "        face=0\n",
    "        for idx, ins in enumerate(instructions):\n",
    "            if ins==\"G\":\n",
    "                record[directions[face]]+=1\n",
    "            elif ins==\"L\":\n",
    "                face=(face-1)%4\n",
    "            else:\n",
    "                face=(face+1)%4\n",
    "        if face==0 and (record[\"N\"]!=record[\"S\"] or record[\"W\"]!=record[\"E\"]):\n",
    "            return False\n",
    "        else:\n",
    "            return True"
   ]
  },
  {
   "cell_type": "markdown",
   "metadata": {},
   "source": [
    "## Lessons and Thoughts\n",
    "- The key is to recognize that"
   ]
  }
 ],
 "metadata": {
  "kernelspec": {
   "display_name": "Python 3",
   "language": "python",
   "name": "python3"
  },
  "language_info": {
   "codemirror_mode": {
    "name": "ipython",
    "version": 3
   },
   "file_extension": ".py",
   "mimetype": "text/x-python",
   "name": "python",
   "nbconvert_exporter": "python",
   "pygments_lexer": "ipython3",
   "version": "3.7.3"
  }
 },
 "nbformat": 4,
 "nbformat_minor": 2
}
