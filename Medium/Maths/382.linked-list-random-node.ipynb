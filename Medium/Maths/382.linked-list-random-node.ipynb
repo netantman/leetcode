{
 "cells": [
  {
   "cell_type": "markdown",
   "metadata": {},
   "source": [
    "## Attempt 1 - Accepted"
   ]
  },
  {
   "cell_type": "code",
   "execution_count": null,
   "metadata": {},
   "outputs": [],
   "source": [
    "import random\n",
    "\n",
    "# Definition for singly-linked list.\n",
    "# class ListNode:\n",
    "#     def __init__(self, val=0, next=None):\n",
    "#         self.val = val\n",
    "#         self.next = next\n",
    "class Solution:\n",
    "\n",
    "    def __init__(self, head: ListNode):\n",
    "        \"\"\"\n",
    "        @param head The linked list's head.\n",
    "        Note that the head is guaranteed to be not null, so it contains at least one node.\n",
    "        \"\"\"\n",
    "        self.head=head\n",
    "        \n",
    "\n",
    "    def getRandom(self) -> int:\n",
    "        \"\"\"\n",
    "        Returns a random node's value.\n",
    "        \"\"\"\n",
    "        cnt=1\n",
    "        curr=self.head\n",
    "        res=curr.val\n",
    "        while curr.next is not None:\n",
    "            cnt+=1\n",
    "            val=curr.next.val\n",
    "            r=random.random()\n",
    "            if r>(cnt-1)/cnt:\n",
    "                res=val\n",
    "            curr=curr.next\n",
    "        return res\n",
    "        \n",
    "\n",
    "\n",
    "# Your Solution object will be instantiated and called as such:\n",
    "# obj = Solution(head)\n",
    "# param_1 = obj.getRandom()"
   ]
  },
  {
   "cell_type": "markdown",
   "metadata": {},
   "source": [
    "## Lessons and Thoughts\n",
    "- The above algo solves the follow-up question. It is called the [reservoir sampling](https://en.wikipedia.org/wiki/Reservoir_sampling).\n",
    "- `random` in python"
   ]
  }
 ],
 "metadata": {
  "kernelspec": {
   "display_name": "Python 3",
   "language": "python",
   "name": "python3"
  },
  "language_info": {
   "codemirror_mode": {
    "name": "ipython",
    "version": 3
   },
   "file_extension": ".py",
   "mimetype": "text/x-python",
   "name": "python",
   "nbconvert_exporter": "python",
   "pygments_lexer": "ipython3",
   "version": "3.7.3"
  }
 },
 "nbformat": 4,
 "nbformat_minor": 2
}
