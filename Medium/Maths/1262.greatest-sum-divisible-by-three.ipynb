{
 "cells": [
  {
   "cell_type": "markdown",
   "metadata": {},
   "source": [
    "## Attempt 1 - Accepted"
   ]
  },
  {
   "cell_type": "code",
   "execution_count": null,
   "metadata": {},
   "outputs": [],
   "source": [
    "class Solution:\n",
    "    def maxSumDivThree(self, nums: List[int]) -> int:\n",
    "        s=sum(nums)\n",
    "        if s%3<1:\n",
    "            return s\n",
    "        \n",
    "        ones,twos=[None,None],[None,None]\n",
    "        for n in nums:\n",
    "            if n%3==1:\n",
    "                if ones[1]:\n",
    "                    if n>=ones[1]:\n",
    "                        continue\n",
    "                    elif n<=ones[0]:\n",
    "                        ones[0],ones[1]=n,ones[0]\n",
    "                    else:\n",
    "                        ones[1]=n\n",
    "                else:\n",
    "                    if ones[0]:\n",
    "                        if n>=ones[0]:\n",
    "                            ones[1]=n\n",
    "                        else:\n",
    "                            ones[0],ones[1]=n,ones[0]\n",
    "                    else:\n",
    "                        ones[0]=n\n",
    "            if n%3==2:\n",
    "                if twos[1]:\n",
    "                    if n>=twos[1]:\n",
    "                        continue\n",
    "                    elif n<=twos[0]:\n",
    "                        twos[0],twos[1]=n,twos[0]\n",
    "                    else:\n",
    "                        twos[1]=n\n",
    "                else:\n",
    "                    if twos[0]:\n",
    "                        if n>=twos[0]:\n",
    "                            twos[1]=n\n",
    "                        else:\n",
    "                            twos[0],twos[1]=n,twos[0]\n",
    "                    else:\n",
    "                        twos[0]=n\n",
    "        \n",
    "        if s%3==1:\n",
    "            if twos[1] and ones[0]:\n",
    "                return s-min(sum(twos), ones[0])\n",
    "            elif ones[0]:\n",
    "                return s-ones[0]\n",
    "            elif twos[1]:\n",
    "                return s-sum(twos)\n",
    "            else:\n",
    "                return 0\n",
    "        if s%3==2:\n",
    "            if ones[1] and twos[0]:\n",
    "                return s-min(sum(ones), twos[0])\n",
    "            elif ones[1]:\n",
    "                return s-sum(ones)\n",
    "            elif twos[0]:\n",
    "                return s-twos[0]\n",
    "            else:\n",
    "                return 0\n",
    "        \n",
    "        return s"
   ]
  },
  {
   "cell_type": "markdown",
   "metadata": {},
   "source": [
    "## Lessons and Thoughts\n",
    "- To allow for negative integars in inputs can be a tricky edge case.\n",
    "- Not sure why it should be labeled 'dynamic programming'."
   ]
  }
 ],
 "metadata": {
  "kernelspec": {
   "display_name": "Python 3",
   "language": "python",
   "name": "python3"
  },
  "language_info": {
   "codemirror_mode": {
    "name": "ipython",
    "version": 3
   },
   "file_extension": ".py",
   "mimetype": "text/x-python",
   "name": "python",
   "nbconvert_exporter": "python",
   "pygments_lexer": "ipython3",
   "version": "3.7.3"
  }
 },
 "nbformat": 4,
 "nbformat_minor": 2
}
