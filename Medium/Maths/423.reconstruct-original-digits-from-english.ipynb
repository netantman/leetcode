{
 "cells": [
  {
   "cell_type": "markdown",
   "metadata": {},
   "source": [
    "## Attempt 1 - Wrong Answer"
   ]
  },
  {
   "cell_type": "code",
   "execution_count": null,
   "metadata": {},
   "outputs": [],
   "source": [
    "class Solution:\n",
    "    def originalDigits(self, s: str) -> str:\n",
    "        cache=[0 for _ in range(26)]\n",
    "        for c in s:\n",
    "            cache[ord(c)-ord(\"a\")]+=1\n",
    "        numbers={\n",
    "            0: {\"z\":1, \"e\":1, \"r\":1, \"o\":1},\n",
    "            1: {\"o\":1, \"n\":1, \"e\":1},\n",
    "            2: {\"t\":1, \"w\":1, \"o\":1},\n",
    "            3: {\"t\":1, \"h\":1, \"r\":1, \"e\":2},\n",
    "            4: {\"f\":1, \"o\":1, \"u\":1, \"r\":1},\n",
    "            5: {\"f\":1, \"i\":1, \"v\":1, \"e\":1},\n",
    "            6: {\"s\":1, \"i\":1, \"x\":1},\n",
    "            7: {\"s\":1, \"e\":2, \"v\":1, \"n\":1},\n",
    "            8: {\"e\":1, \"i\":1, \"g\":1, \"h\":1, \"t\":1},\n",
    "            9 :{\"n\":2, \"i\":1, \"e\":1}\n",
    "        }\n",
    "        res=\"\"\n",
    "        queue=[idx for idx in range(10)]\n",
    "        while len(queue)>0 and sum(cache)>0:\n",
    "            n=queue[0]\n",
    "            letters=numbers[n]\n",
    "            to_next=False\n",
    "            for l,cnt in letters.items():\n",
    "                if cnt>cache[ord(l)-ord(\"a\")]:\n",
    "                    to_next=True\n",
    "                    break\n",
    "            if to_next:\n",
    "                queue.pop(0)\n",
    "            else:\n",
    "                for l,cnt in letters.items():\n",
    "                    cache[ord(l)-ord(\"a\")]-=cnt\n",
    "                    res+=str(n)   ## --> wrong indentation!\n",
    "        return res"
   ]
  },
  {
   "cell_type": "markdown",
   "metadata": {},
   "source": [
    "## Attempt 2 - Wrong Answer: greedy algo does not work"
   ]
  },
  {
   "cell_type": "code",
   "execution_count": null,
   "metadata": {},
   "outputs": [],
   "source": [
    "class Solution:\n",
    "    def originalDigits(self, s: str) -> str:\n",
    "        cache=[0 for _ in range(26)]\n",
    "        for c in s:\n",
    "            cache[ord(c)-ord(\"a\")]+=1\n",
    "        numbers={\n",
    "            0: {\"z\":1, \"e\":1, \"r\":1, \"o\":1},\n",
    "            1: {\"o\":1, \"n\":1, \"e\":1},\n",
    "            2: {\"t\":1, \"w\":1, \"o\":1},\n",
    "            3: {\"t\":1, \"h\":1, \"r\":1, \"e\":2},\n",
    "            4: {\"f\":1, \"o\":1, \"u\":1, \"r\":1},\n",
    "            5: {\"f\":1, \"i\":1, \"v\":1, \"e\":1},\n",
    "            6: {\"s\":1, \"i\":1, \"x\":1},\n",
    "            7: {\"s\":1, \"e\":2, \"v\":1, \"n\":1},\n",
    "            8: {\"e\":1, \"i\":1, \"g\":1, \"h\":1, \"t\":1},\n",
    "            9 :{\"n\":2, \"i\":1, \"e\":1}\n",
    "        }\n",
    "        res=\"\"\n",
    "        queue=[idx for idx in range(10)]\n",
    "        while len(queue)>0 and sum(cache)>0:\n",
    "            n=queue[0]\n",
    "            letters=numbers[n]\n",
    "            to_next=False\n",
    "            for l,cnt in letters.items():\n",
    "                if cnt>cache[ord(l)-ord(\"a\")]:\n",
    "                    to_next=True\n",
    "                    break\n",
    "            if to_next:\n",
    "                queue.pop(0)\n",
    "            else:\n",
    "                for l,cnt in letters.items():\n",
    "                    cache[ord(l)-ord(\"a\")]-=cnt\n",
    "                res+=str(n)\n",
    "        return res"
   ]
  },
  {
   "cell_type": "markdown",
   "metadata": {},
   "source": [
    "## Attempt 3 - Maximum Recursion limit exceeded"
   ]
  },
  {
   "cell_type": "code",
   "execution_count": null,
   "metadata": {},
   "outputs": [],
   "source": [
    "class Solution:\n",
    "    def originalDigits(self, s: str) -> str:\n",
    "        cache=[0 for _ in range(26)]\n",
    "        for c in s:\n",
    "            cache[ord(c)-ord(\"a\")]+=1\n",
    "        numbers={\n",
    "            0: {\"z\":1, \"e\":1, \"r\":1, \"o\":1},\n",
    "            1: {\"o\":1, \"n\":1, \"e\":1},\n",
    "            2: {\"t\":1, \"w\":1, \"o\":1},\n",
    "            3: {\"t\":1, \"h\":1, \"r\":1, \"e\":2},\n",
    "            4: {\"f\":1, \"o\":1, \"u\":1, \"r\":1},\n",
    "            5: {\"f\":1, \"i\":1, \"v\":1, \"e\":1},\n",
    "            6: {\"s\":1, \"i\":1, \"x\":1},\n",
    "            7: {\"s\":1, \"e\":2, \"v\":1, \"n\":1},\n",
    "            8: {\"e\":1, \"i\":1, \"g\":1, \"h\":1, \"t\":1},\n",
    "            9 :{\"n\":2, \"i\":1, \"e\":1}\n",
    "        }\n",
    "        \n",
    "        def inner(cache, n):\n",
    "            if n>=10:\n",
    "                return None\n",
    "            letters=numbers[n]\n",
    "            exists=True\n",
    "            for l,cnt in letters.items():\n",
    "                if cnt>cache[ord(l)-ord(\"a\")]:\n",
    "                    exists=False\n",
    "            if exists:\n",
    "                new_cache=[c for c in cache]\n",
    "                for l,cnt in letters.items():\n",
    "                    new_cache[ord(l)-ord(\"a\")]-=cnt\n",
    "                rest=inner(new_cache, n)\n",
    "                if rest is not None:\n",
    "                    return str(n)+rest\n",
    "            else:\n",
    "                new_cache=[c for c in cache]\n",
    "                rest=inner(new_cache, n)\n",
    "                if rest is not None:\n",
    "                    return rest\n",
    "        return inner(cache,0)"
   ]
  },
  {
   "cell_type": "markdown",
   "metadata": {},
   "source": [
    "## Attempt 4 - Accepted"
   ]
  },
  {
   "cell_type": "code",
   "execution_count": null,
   "metadata": {},
   "outputs": [],
   "source": [
    "class Solution:\n",
    "    def originalDigits(self, s: str) -> str:\n",
    "        cache=[0 for _ in range(26)]\n",
    "        for c in s:\n",
    "            cache[ord(c)-ord(\"a\")]+=1\n",
    "        \n",
    "        nums=[0 for _ in range(10)]\n",
    "        nums[0]=cache[ord(\"z\")-ord(\"a\")]\n",
    "        nums[2]=cache[ord(\"w\")-ord(\"a\")]\n",
    "        nums[4]=cache[ord(\"u\")-ord(\"a\")]\n",
    "        nums[5]=cache[ord(\"f\")-ord(\"a\")]-nums[4]\n",
    "        nums[6]=cache[ord(\"x\")-ord(\"a\")]\n",
    "        nums[7]=cache[ord(\"s\")-ord(\"a\")]-nums[6]\n",
    "        nums[8]=cache[ord(\"g\")-ord(\"a\")]\n",
    "        nums[1]=cache[ord(\"o\")-ord(\"a\")]-nums[2]-nums[4]-nums[0]\n",
    "        nums[3]=cache[ord(\"h\")-ord(\"a\")]-nums[8]\n",
    "        nums[9]=(cache[ord(\"n\")-ord(\"a\")]-nums[7]-nums[1])//2\n",
    "        \n",
    "        res=\"\"\n",
    "        for idx in range(10):\n",
    "            res+=str(idx)*nums[idx]\n",
    "        return res"
   ]
  },
  {
   "cell_type": "markdown",
   "metadata": {},
   "source": [
    "## Lessons and Thoughts\n",
    "- The trick of the accepted and efficient algo is to solve for the occurances of each number."
   ]
  }
 ],
 "metadata": {
  "kernelspec": {
   "display_name": "Python 3",
   "language": "python",
   "name": "python3"
  },
  "language_info": {
   "codemirror_mode": {
    "name": "ipython",
    "version": 3
   },
   "file_extension": ".py",
   "mimetype": "text/x-python",
   "name": "python",
   "nbconvert_exporter": "python",
   "pygments_lexer": "ipython3",
   "version": "3.7.3"
  }
 },
 "nbformat": 4,
 "nbformat_minor": 2
}
