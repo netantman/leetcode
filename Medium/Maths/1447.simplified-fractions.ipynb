{
 "cells": [
  {
   "cell_type": "markdown",
   "metadata": {},
   "source": [
    "## Attempt 1 - Accepted"
   ]
  },
  {
   "cell_type": "code",
   "execution_count": null,
   "metadata": {},
   "outputs": [],
   "source": [
    "class Solution:\n",
    "    def simplifiedFractions(self, n: int) -> List[str]:\n",
    "\n",
    "        res, visited = [], set()\n",
    "        for nom in range(1, n):\n",
    "            for denom in range(nom+1, n+1):\n",
    "                curr = f\"{nom}/{denom}\" \n",
    "                if curr not in visited:\n",
    "                    res.append(curr)\n",
    "                    multiples = 1\n",
    "                    while multiples * denom <= n:\n",
    "                        visited.add(f\"{multiples * nom}/{multiples * denom}\")\n",
    "                        multiples += 1\n",
    "        return res"
   ]
  },
  {
   "cell_type": "markdown",
   "metadata": {},
   "source": [
    "## Lessons and Thoughts\n",
    "- It is similar to the finding-all-prime algo."
   ]
  }
 ],
 "metadata": {
  "kernelspec": {
   "display_name": "Python 3",
   "language": "python",
   "name": "python3"
  },
  "language_info": {
   "codemirror_mode": {
    "name": "ipython",
    "version": 3
   },
   "file_extension": ".py",
   "mimetype": "text/x-python",
   "name": "python",
   "nbconvert_exporter": "python",
   "pygments_lexer": "ipython3",
   "version": "3.7.3"
  }
 },
 "nbformat": 4,
 "nbformat_minor": 2
}
