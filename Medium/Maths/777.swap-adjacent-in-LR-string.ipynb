{
 "cells": [
  {
   "cell_type": "markdown",
   "metadata": {},
   "source": [
    "## Attempt 1 - Wrong Answer"
   ]
  },
  {
   "cell_type": "code",
   "execution_count": null,
   "metadata": {},
   "outputs": [],
   "source": [
    "class Solution:\n",
    "    def canTransform(self, start: str, end: str) -> bool:\n",
    "        return start.strip(\"X\")==end.strip(\"X\") ## --> `strip` only eliminate leading and trailing characters!"
   ]
  },
  {
   "cell_type": "markdown",
   "metadata": {},
   "source": [
    "## Attempt 2 - Accepted"
   ]
  },
  {
   "cell_type": "code",
   "execution_count": null,
   "metadata": {},
   "outputs": [],
   "source": [
    "class Solution:\n",
    "    def canTransform(self, start: str, end: str) -> bool:\n",
    "        if start.replace(\"X\", \"\")!=end.replace(\"X\", \"\"):\n",
    "            return False\n",
    "        summary=start.replace(\"X\", \"\")\n",
    "        L0,L1=len(summary),len(start)\n",
    "        record_start=[]\n",
    "        record_end=[]\n",
    "        for idx, c in enumerate(start):\n",
    "            if c in {\"L\", \"R\"}:\n",
    "                record_start.append(idx)\n",
    "        for idx, c in enumerate(end):\n",
    "            if c in {\"L\", \"R\"}:\n",
    "                record_end.append(idx)\n",
    "        for idx, c in enumerate(summary):\n",
    "            if c==\"L\":\n",
    "                if record_end[idx]>record_start[idx]:\n",
    "                    return False\n",
    "            else:\n",
    "                if record_end[idx]<record_start[idx]:\n",
    "                    return False\n",
    "        return True"
   ]
  },
  {
   "cell_type": "markdown",
   "metadata": {},
   "source": [
    "## Lessons and Thoughts\n",
    "- The key is to recognize that the relative positioning of `L` and `R` cannot change. And that after the transform, the location of `left` can only decrease, while `right` increase.\n",
    "- `strip` only eliminate leading and trailing characters!"
   ]
  }
 ],
 "metadata": {
  "kernelspec": {
   "display_name": "Python 3",
   "language": "python",
   "name": "python3"
  },
  "language_info": {
   "codemirror_mode": {
    "name": "ipython",
    "version": 3
   },
   "file_extension": ".py",
   "mimetype": "text/x-python",
   "name": "python",
   "nbconvert_exporter": "python",
   "pygments_lexer": "ipython3",
   "version": "3.7.3"
  }
 },
 "nbformat": 4,
 "nbformat_minor": 2
}
