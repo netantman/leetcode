{
 "cells": [
  {
   "cell_type": "markdown",
   "metadata": {},
   "source": [
    "## Attempt 1 - Memory Limit Exceeded"
   ]
  },
  {
   "cell_type": "code",
   "execution_count": null,
   "metadata": {},
   "outputs": [],
   "source": [
    "class Solution:\n",
    "    def primePalindrome(self, N: int) -> int:\n",
    "        UPPER=2*10**8+1\n",
    "        visited=set()\n",
    "        for idx in range(2,UPPER):\n",
    "            if idx not in visited:\n",
    "                temp=str(idx)\n",
    "                if idx>=N and temp==temp[::-1]:\n",
    "                    return idx\n",
    "                else:\n",
    "                    mul=1\n",
    "                    while idx*mul<UPPER:\n",
    "                        visited.add(idx*mul)\n",
    "                        mul+=1"
   ]
  },
  {
   "cell_type": "markdown",
   "metadata": {},
   "source": [
    "## Attempt 2 - Accepted"
   ]
  },
  {
   "cell_type": "code",
   "execution_count": null,
   "metadata": {},
   "outputs": [],
   "source": [
    "class Solution(object):\n",
    "    def primePalindrome(self, N):\n",
    "        def is_prime(n):\n",
    "            return n > 1 and all(n%d for d in range(2, int(n**.5) + 1))\n",
    "\n",
    "        for length in range(1, 6):\n",
    "            #Check for odd-length palindromes\n",
    "            for root in range(10**(length - 1), 10**length):\n",
    "                s = str(root)\n",
    "                x = int(s + s[-2::-1]) #eg. s = '123' to x = int('12321')\n",
    "                if x >= N and is_prime(x):\n",
    "                    return x\n",
    "                    #If we didn't check for even-length palindromes:\n",
    "                    #return min(x, 11) if N <= 11 else x\n",
    "\n",
    "            #Check for even-length palindromes\n",
    "            for root in range(10**(length - 1), 10**length):\n",
    "                s = str(root)\n",
    "                x = int(s + s[-1::-1]) #eg. s = '123' to x = int('123321')\n",
    "                if x >= N and is_prime(x):\n",
    "                    return x"
   ]
  },
  {
   "cell_type": "markdown",
   "metadata": {},
   "source": [
    "## Lessons and Thoughts\n",
    "The accepted solution is from the leetcode app. Several things to note.\n",
    "- The way of using `all` in `is_prime` is concise.\n",
    "- The idea is to emerate all palindromes."
   ]
  }
 ],
 "metadata": {
  "kernelspec": {
   "display_name": "Python 3",
   "language": "python",
   "name": "python3"
  },
  "language_info": {
   "codemirror_mode": {
    "name": "ipython",
    "version": 3
   },
   "file_extension": ".py",
   "mimetype": "text/x-python",
   "name": "python",
   "nbconvert_exporter": "python",
   "pygments_lexer": "ipython3",
   "version": "3.7.3"
  }
 },
 "nbformat": 4,
 "nbformat_minor": 2
}
