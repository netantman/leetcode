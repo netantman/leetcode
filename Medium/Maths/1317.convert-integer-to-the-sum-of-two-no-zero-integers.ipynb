{
 "cells": [
  {
   "cell_type": "markdown",
   "metadata": {},
   "source": [
    "## Attempt 1 - "
   ]
  },
  {
   "cell_type": "code",
   "execution_count": null,
   "metadata": {},
   "outputs": [],
   "source": [
    "class Solution:\n",
    "    def getNoZeroIntegers(self, n: int) -> List[int]:\n",
    "        # def add(tmp,a,b):\n",
    "        #     if tmp%2>0:\n",
    "        #         a=str(tmp//2)+a\n",
    "        #         b=str(tmp//2+1)+b\n",
    "        #     else:\n",
    "        #         a=str(tmp//2)+a\n",
    "        #         b=str(tmp//2)+b\n",
    "        #     return a,b\n",
    "        L=len(str(n))\n",
    "        if L<2:\n",
    "            if n%2<1:\n",
    "                return [n//2, n//2]\n",
    "            else:\n",
    "                return [n//2, n//2+1]\n",
    "        a,b=\"\",\"\"\n",
    "        left,right=L-2,L-1\n",
    "        s=[int(c) for c in str(n)]\n",
    "        # while left>=0:\n",
    "        #     if n[right]>=2:\n",
    "        #         tmp=n[right]\n",
    "        #         a,b=add(tmp,a,b)\n",
    "        #     else:\n",
    "        #         if n[left]>2:\n",
    "        #             n[left]-=1\n",
    "        #             tmp=int(\"1\"+str(n[right]))\n",
    "        #         else:\n",
    "        #             n[left]=0\n",
    "        #             tmp=int(str(n[left])+str(n[right]))\n",
    "        #         a,b=add(tmp,a,b)\n",
    "        #     left-=1\n",
    "        #     right-=1\n",
    "        # if n[right]>0:\n",
    "        #     tmp=n[right]\n",
    "        #     a,b=add(tmp,a,b)\n",
    "        # return [int(a), int(b)]\n",
    "        while left>=0:\n",
    "            if s[right]<0:\n",
    "                s[right]+=10\n",
    "                s[left]-=1\n",
    "            if s[right]==1:\n",
    "                a=\"2\"+a\n",
    "                s[left]-=1\n",
    "            else:\n",
    "                a=\"1\"+a\n",
    "                if s[right]==0:\n",
    "                    s[left]-=1\n",
    "            left-=1\n",
    "            right-=1\n",
    "        a=int(a)\n",
    "        b=n-a\n",
    "        return [a,b]"
   ]
  },
  {
   "cell_type": "markdown",
   "metadata": {},
   "source": [
    "## Lessons and Thoughts\n",
    "- The idea is to always fill `1` for `a` unless we can't - the edge cases are like `20`, `21`, etc."
   ]
  }
 ],
 "metadata": {
  "kernelspec": {
   "display_name": "Python 3",
   "language": "python",
   "name": "python3"
  },
  "language_info": {
   "codemirror_mode": {
    "name": "ipython",
    "version": 3
   },
   "file_extension": ".py",
   "mimetype": "text/x-python",
   "name": "python",
   "nbconvert_exporter": "python",
   "pygments_lexer": "ipython3",
   "version": "3.7.3"
  }
 },
 "nbformat": 4,
 "nbformat_minor": 2
}
