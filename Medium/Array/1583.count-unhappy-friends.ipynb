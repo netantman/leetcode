{
 "cells": [
  {
   "cell_type": "markdown",
   "metadata": {},
   "source": [
    "## Attempt 1 - Accepted"
   ]
  },
  {
   "cell_type": "code",
   "execution_count": null,
   "metadata": {},
   "outputs": [],
   "source": [
    "class Solution:\n",
    "    def unhappyFriends(self, n: int, preferences: List[List[int]], pairs: List[List[int]]) -> int:\n",
    "        def find(preference, target):\n",
    "            for idx in range(n - 1):\n",
    "                if preference[idx] == target:\n",
    "                    return idx\n",
    "        \n",
    "        cnt = 0\n",
    "        record = dict()\n",
    "        for pair in pairs:\n",
    "            x, y = tuple(pair)\n",
    "            record[x], record[y] = y, x\n",
    "        \n",
    "        for x, y in record.items():\n",
    "            for u in preferences[x]:\n",
    "                if u == y:\n",
    "                    break\n",
    "                v = record[u]\n",
    "                if find(preferences[u], x) < find(preferences[u], v):\n",
    "                    cnt += 1\n",
    "                    break\n",
    "        \n",
    "        return cnt"
   ]
  },
  {
   "cell_type": "markdown",
   "metadata": {},
   "source": [
    "## Lessons and Thoughts\n",
    "- Brute force"
   ]
  }
 ],
 "metadata": {
  "kernelspec": {
   "display_name": "Python 3",
   "language": "python",
   "name": "python3"
  },
  "language_info": {
   "codemirror_mode": {
    "name": "ipython",
    "version": 3
   },
   "file_extension": ".py",
   "mimetype": "text/x-python",
   "name": "python",
   "nbconvert_exporter": "python",
   "pygments_lexer": "ipython3",
   "version": "3.7.3"
  }
 },
 "nbformat": 4,
 "nbformat_minor": 2
}
