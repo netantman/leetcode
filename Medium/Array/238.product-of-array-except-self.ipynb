{
 "cells": [
  {
   "cell_type": "markdown",
   "metadata": {},
   "source": [
    "## Attempt 1 - Accepted"
   ]
  },
  {
   "cell_type": "code",
   "execution_count": null,
   "metadata": {},
   "outputs": [],
   "source": [
    "class Solution:\n",
    "    def productExceptSelf(self, nums: List[int]) -> List[int]:\n",
    "        L=len(nums)\n",
    "        res=[1 for idx in range(L)]\n",
    "        temp=1\n",
    "        for idx in range(L):\n",
    "            res[idx]=temp\n",
    "            temp*=nums[idx]\n",
    "        temp=1\n",
    "        for idx in range(L-1,-1,-1):\n",
    "            res[idx]*=temp\n",
    "            temp*=nums[idx]\n",
    "        return res"
   ]
  },
  {
   "cell_type": "markdown",
   "metadata": {},
   "source": [
    "## Lessons and Thoughts\n",
    "- The above solves the follow up question where no extra space than the solution list is allowed. It is from [here](https://www.geeksforgeeks.org/a-product-array-puzzle/). You came up with the solution that requires two lists for cumulative products, not yet but close."
   ]
  }
 ],
 "metadata": {
  "kernelspec": {
   "display_name": "Python 3",
   "language": "python",
   "name": "python3"
  },
  "language_info": {
   "codemirror_mode": {
    "name": "ipython",
    "version": 3
   },
   "file_extension": ".py",
   "mimetype": "text/x-python",
   "name": "python",
   "nbconvert_exporter": "python",
   "pygments_lexer": "ipython3",
   "version": "3.7.3"
  }
 },
 "nbformat": 4,
 "nbformat_minor": 2
}
