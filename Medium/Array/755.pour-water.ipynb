{
 "cells": [
  {
   "cell_type": "markdown",
   "metadata": {},
   "source": [
    "## Attempt 1 - Wrong Answer"
   ]
  },
  {
   "cell_type": "code",
   "execution_count": null,
   "metadata": {},
   "outputs": [],
   "source": [
    "class Solution:\n",
    "    def pourWater(self, heights: List[int], volume: int, k: int) -> List[int]:\n",
    "        L = len(heights)\n",
    "        for _ in range(volume):\n",
    "            left = False\n",
    "            m = min([heights[idx] for idx in range(k + 1)])\n",
    "            if m < heights[k]:\n",
    "                idx = k - 1\n",
    "                while idx >= 0 and heights[idx] <= heights[idx + 1]:\n",
    "                    if heights[idx] == m:  ## --> not necessary be at the lowest point\n",
    "                        heights[idx] += 1\n",
    "                        left = True\n",
    "                        break\n",
    "                    idx -= 1\n",
    "            if left:\n",
    "                continue\n",
    "            \n",
    "            right = False\n",
    "            m = min([heights[idx] for idx in range(k, L)])\n",
    "            if m < heights[k]:\n",
    "                idx = k + 1\n",
    "                while idx < L and heights[idx - 1] >= heights[idx]:\n",
    "                    if heights[idx] == m:  ## --> not necessary be at the lowest point\n",
    "                        heights[idx] += 1\n",
    "                        right = True\n",
    "                        break\n",
    "                    idx -= 1\n",
    "            if right:\n",
    "                continue\n",
    "            \n",
    "            heights[k] += 1\n",
    "        \n",
    "        return heights"
   ]
  },
  {
   "cell_type": "markdown",
   "metadata": {},
   "source": [
    "## Attempt 2 - Accepted"
   ]
  },
  {
   "cell_type": "code",
   "execution_count": null,
   "metadata": {},
   "outputs": [],
   "source": [
    "class Solution:\n",
    "    def pourWater(self, heights: List[int], volume: int, k: int) -> List[int]:\n",
    "        L = len(heights)\n",
    "        for _ in range(volume):\n",
    "            left = False\n",
    "            m = min([heights[idx] for idx in range(k + 1)])\n",
    "            if m < heights[k]:\n",
    "                idx = k\n",
    "                while idx - 1 >= 0 and heights[idx - 1] <= heights[idx]:\n",
    "                    idx -= 1\n",
    "                if heights[idx] < heights[k]:\n",
    "                    while idx + 1 <= k and heights[idx + 1] == heights[idx]:\n",
    "                        idx += 1\n",
    "                    heights[idx] += 1\n",
    "                    left = True\n",
    "            if left:\n",
    "                continue\n",
    "            \n",
    "            right = False\n",
    "            m = min([heights[idx] for idx in range(k, L)])\n",
    "            if m < heights[k]:\n",
    "                idx = k\n",
    "                while idx + 1 < L and heights[idx + 1] <= heights[idx]:\n",
    "                    idx += 1\n",
    "                if heights[idx] < heights[k]:\n",
    "                    while idx - 1 >= k and heights[idx - 1] == heights[idx]:\n",
    "                        idx -= 1\n",
    "                    heights[idx] += 1\n",
    "                    right = True\n",
    "            if right:\n",
    "                continue\n",
    "            \n",
    "            heights[k] += 1\n",
    "        \n",
    "        return heights"
   ]
  },
  {
   "cell_type": "markdown",
   "metadata": {},
   "source": [
    "## Lessons and Thoughts\n",
    "- The requirement that the drop is at the nearest basin and closest to `k` needs quite a bit of handling."
   ]
  }
 ],
 "metadata": {
  "kernelspec": {
   "display_name": "Python 3",
   "language": "python",
   "name": "python3"
  },
  "language_info": {
   "codemirror_mode": {
    "name": "ipython",
    "version": 3
   },
   "file_extension": ".py",
   "mimetype": "text/x-python",
   "name": "python",
   "nbconvert_exporter": "python",
   "pygments_lexer": "ipython3",
   "version": "3.7.3"
  }
 },
 "nbformat": 4,
 "nbformat_minor": 2
}
