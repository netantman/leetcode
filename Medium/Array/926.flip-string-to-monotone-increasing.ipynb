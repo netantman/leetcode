{
 "cells": [
  {
   "cell_type": "markdown",
   "metadata": {},
   "source": [
    "## Attempt 1 - Accepted"
   ]
  },
  {
   "cell_type": "code",
   "execution_count": null,
   "metadata": {},
   "outputs": [],
   "source": [
    "class Solution:\n",
    "    def minFlipsMonoIncr(self, S: str) -> int:\n",
    "        L=len(S)\n",
    "        zeros=[0 for _ in range(L+1)]\n",
    "        ones=[0 for _ in range(L+1)]\n",
    "        for idx in range(1,L+1):\n",
    "            zeros[idx]=zeros[idx-1]+(S[idx-1]==\"1\")\n",
    "        for idx in range(L-1,-1,-1):\n",
    "            ones[idx]=ones[idx+1]+(S[idx]==\"0\")\n",
    "        return min([z+o for z,o in zip(zeros, ones)])"
   ]
  },
  {
   "cell_type": "markdown",
   "metadata": {},
   "source": [
    "## Lessons and Thoughts\n",
    "- Making clear when `idx` stands for helps."
   ]
  }
 ],
 "metadata": {
  "kernelspec": {
   "display_name": "Python 3",
   "language": "python",
   "name": "python3"
  },
  "language_info": {
   "codemirror_mode": {
    "name": "ipython",
    "version": 3
   },
   "file_extension": ".py",
   "mimetype": "text/x-python",
   "name": "python",
   "nbconvert_exporter": "python",
   "pygments_lexer": "ipython3",
   "version": "3.7.3"
  }
 },
 "nbformat": 4,
 "nbformat_minor": 2
}
