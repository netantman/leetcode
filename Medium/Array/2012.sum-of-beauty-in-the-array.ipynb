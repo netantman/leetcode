{
 "cells": [
  {
   "cell_type": "markdown",
   "metadata": {},
   "source": [
    "## Attempt 1 - Time Limit Exceeded"
   ]
  },
  {
   "cell_type": "code",
   "execution_count": null,
   "metadata": {},
   "outputs": [],
   "source": [
    "class Solution:\n",
    "    def sumOfBeauties(self, nums: List[int]) -> int:\n",
    "        left, right = [float('-inf')], [float('inf')]\n",
    "        for n in nums:\n",
    "            left.append(max(left[-1], n))\n",
    "        left.pop(0)\n",
    "        for n in nums[::-1]:\n",
    "            right.insert(0, min(right[0], n))\n",
    "        right.pop()\n",
    "        \n",
    "        s, L = 0, len(nums)\n",
    "        for idx, n in enumerate(nums):\n",
    "            if idx == 0 or idx == L - 1:\n",
    "                continue\n",
    "            if n > left[idx - 1] and n < right[idx + 1]:\n",
    "                s += 2\n",
    "                continue\n",
    "            if n > nums[idx - 1] and n < nums[idx + 1]:\n",
    "                s += 1\n",
    "                continue\n",
    "        return s"
   ]
  },
  {
   "cell_type": "markdown",
   "metadata": {},
   "source": [
    "## Attempt 2 - Accepted"
   ]
  },
  {
   "cell_type": "code",
   "execution_count": null,
   "metadata": {},
   "outputs": [],
   "source": [
    "class Solution:\n",
    "    def sumOfBeauties(self, nums: List[int]) -> int:\n",
    "        left, right = [float('-inf')], [float('inf')]\n",
    "        for n in nums:\n",
    "            left.append(max(left[-1], n))\n",
    "        left.pop(0)\n",
    "        for n in nums[::-1]:\n",
    "            right.append(min(right[-1], n))\n",
    "        right.pop(0)\n",
    "        right = right[::-1]\n",
    "        \n",
    "        s, L = 0, len(nums)\n",
    "        for idx, n in enumerate(nums):\n",
    "            if idx == 0 or idx == L - 1:\n",
    "                continue\n",
    "            if n > left[idx - 1] and n < right[idx + 1]:\n",
    "                s += 2\n",
    "                continue\n",
    "            if n > nums[idx - 1] and n < nums[idx + 1]:\n",
    "                s += 1\n",
    "                continue\n",
    "        return s"
   ]
  },
  {
   "cell_type": "markdown",
   "metadata": {},
   "source": [
    "## Lessons and Thoughts\n",
    "- So it turns out the `insert` function for `list` is expensive."
   ]
  }
 ],
 "metadata": {
  "kernelspec": {
   "display_name": "Python 3",
   "language": "python",
   "name": "python3"
  },
  "language_info": {
   "codemirror_mode": {
    "name": "ipython",
    "version": 3
   },
   "file_extension": ".py",
   "mimetype": "text/x-python",
   "name": "python",
   "nbconvert_exporter": "python",
   "pygments_lexer": "ipython3",
   "version": "3.7.3"
  }
 },
 "nbformat": 4,
 "nbformat_minor": 2
}
