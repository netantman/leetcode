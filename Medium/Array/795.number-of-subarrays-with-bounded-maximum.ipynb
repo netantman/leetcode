{
 "cells": [
  {
   "cell_type": "markdown",
   "metadata": {},
   "source": [
    "## Attempt 1 - Wrong Answer"
   ]
  },
  {
   "cell_type": "code",
   "execution_count": null,
   "metadata": {},
   "outputs": [],
   "source": [
    "class Solution:\n",
    "    def numSubarrayBoundedMax(self, A: List[int], L: int, R: int) -> int:\n",
    "        left, right=0,1\n",
    "        res=0\n",
    "        while right<len(A):\n",
    "            M=max(A[left:right])\n",
    "            if L<=M and M<=R:\n",
    "                res+=(right-left)  ##--> not every subarray of such an array is good.\n",
    "            if A[right]<=R:\n",
    "                right+=1\n",
    "            else:\n",
    "                left=right+1\n",
    "                right=left+1\n",
    "        M=max(A[left:right])\n",
    "        if L<=M and M<=R:\n",
    "            res+=(right-left)\n",
    "        return res"
   ]
  },
  {
   "cell_type": "markdown",
   "metadata": {},
   "source": [
    "## Attempt 2 - Wrong Answer"
   ]
  },
  {
   "cell_type": "code",
   "execution_count": null,
   "metadata": {},
   "outputs": [],
   "source": [
    "class Solution:\n",
    "    def numSubarrayBoundedMax(self, A: List[int], L: int, R: int) -> int:\n",
    "        res=[0 for _ in A]\n",
    "        for idx,a in enumerate(A):\n",
    "            if L<=a and a<=R:\n",
    "                res[idx]+=1\n",
    "            if idx>=1:\n",
    "                if A[idx]<=R:\n",
    "                    res[idx]+=res[idx-1]\n",
    "                else:\n",
    "                    res[idx]=0\n",
    "        print(res)\n",
    "        return sum(res)"
   ]
  },
  {
   "cell_type": "markdown",
   "metadata": {},
   "source": [
    "## Attempt 3 - Accepted"
   ]
  },
  {
   "cell_type": "code",
   "execution_count": null,
   "metadata": {},
   "outputs": [],
   "source": [
    "class Solution(object):\n",
    "    def numSubarrayBoundedMax(self, A, L, R):\n",
    "        def count(bound):\n",
    "            ans = cur = 0\n",
    "            for x in A :\n",
    "                cur = cur + 1 if x <= bound else 0\n",
    "                ans += cur\n",
    "            return ans\n",
    "\n",
    "        return count(R) - count(L - 1)"
   ]
  },
  {
   "cell_type": "markdown",
   "metadata": {},
   "source": [
    "## Lessons and Thoughts\n",
    "- DP and two-pointers do not work in this.\n",
    "- The accepted solution is taken from the leetcode app. The idea is to set different upper bounds and count continuous subarray according to the bounds."
   ]
  }
 ],
 "metadata": {
  "kernelspec": {
   "display_name": "Python 3",
   "language": "python",
   "name": "python3"
  },
  "language_info": {
   "codemirror_mode": {
    "name": "ipython",
    "version": 3
   },
   "file_extension": ".py",
   "mimetype": "text/x-python",
   "name": "python",
   "nbconvert_exporter": "python",
   "pygments_lexer": "ipython3",
   "version": "3.7.3"
  }
 },
 "nbformat": 4,
 "nbformat_minor": 2
}
