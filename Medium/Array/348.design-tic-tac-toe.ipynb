{
 "cells": [
  {
   "cell_type": "markdown",
   "metadata": {},
   "source": [
    "## Attempt 1 - Accepted"
   ]
  },
  {
   "cell_type": "code",
   "execution_count": null,
   "metadata": {},
   "outputs": [],
   "source": [
    "class TicTacToe:\n",
    "\n",
    "    def __init__(self, n: int):\n",
    "        self.board = [[None for _ in range(n)] for _ in range(n)]\n",
    "        self.n = n\n",
    "        \n",
    "    def move(self, row: int, col: int, player: int) -> int:\n",
    "        self.board[row][col] = player\n",
    "        if self.col(col, player) or self.row(row, player) or self.diag(row, col, player):\n",
    "            return player\n",
    "        return 0\n",
    "        \n",
    "    def col(self, c, player):\n",
    "        n = self.n\n",
    "        for r in range(n):\n",
    "            if self.board[r][c] != player:\n",
    "                return False\n",
    "        return True\n",
    "    \n",
    "    def row(self, r, player):\n",
    "        n = self.n\n",
    "        for c in range(n):\n",
    "            if self.board[r][c] != player:\n",
    "                return False\n",
    "        return True\n",
    "    \n",
    "    def diag(self, r, c, player):\n",
    "        n = self.n\n",
    "        if r == c and r + c != n - 1:\n",
    "            for idx in range(n):\n",
    "                if self.board[idx][idx] != player:\n",
    "                    return False\n",
    "            return True\n",
    "        if r + c == n - 1 and r != c:\n",
    "            for idx in range(n):\n",
    "                if self.board[idx][n - 1 - idx] != player:\n",
    "                    return False\n",
    "            return True\n",
    "        if r + c == n - 1 and r == c:\n",
    "            for idx in range(n):\n",
    "                if self.board[idx][idx] != player:\n",
    "                    break\n",
    "            else:\n",
    "                return True\n",
    "            for idx in range(n):\n",
    "                if self.board[idx][n - 1 - idx] != player:\n",
    "                    return False\n",
    "            return True\n",
    "        return False\n",
    "    \n",
    "    \n",
    "                    \n",
    "\n",
    "# Your TicTacToe object will be instantiated and called as such:\n",
    "# obj = TicTacToe(n)\n",
    "# param_1 = obj.move(row,col,player)"
   ]
  },
  {
   "cell_type": "markdown",
   "metadata": {},
   "source": [
    "## Lessons and Thoughts\n",
    "- Straightforward: just be careful "
   ]
  }
 ],
 "metadata": {
  "kernelspec": {
   "display_name": "Python 3",
   "language": "python",
   "name": "python3"
  },
  "language_info": {
   "codemirror_mode": {
    "name": "ipython",
    "version": 3
   },
   "file_extension": ".py",
   "mimetype": "text/x-python",
   "name": "python",
   "nbconvert_exporter": "python",
   "pygments_lexer": "ipython3",
   "version": "3.7.3"
  }
 },
 "nbformat": 4,
 "nbformat_minor": 2
}
