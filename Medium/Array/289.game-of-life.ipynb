{
 "cells": [
  {
   "cell_type": "markdown",
   "metadata": {},
   "source": [
    "## Attempt 1 - Accepted"
   ]
  },
  {
   "cell_type": "code",
   "execution_count": null,
   "metadata": {},
   "outputs": [],
   "source": [
    "class Solution:\n",
    "    def gameOfLife(self, board: List[List[int]]) -> None:\n",
    "        \"\"\"\n",
    "        Do not return anything, modify board in-place instead.\n",
    "        \"\"\"\n",
    "        \n",
    "        if len(board)<1 or len(board[0])<1:\n",
    "            return\n",
    "        numRows=len(board)\n",
    "        numCols=len(board[0])\n",
    "        \n",
    "        def getNeighbors(r, c):\n",
    "            res=set()\n",
    "            rows={r}\n",
    "            cols={c}\n",
    "            if r+1<numRows:\n",
    "                rows.add(r+1)\n",
    "            if r-1>=0:\n",
    "                rows.add(r-1)\n",
    "            if c+1<numCols:\n",
    "                cols.add(c+1)\n",
    "            if c-1>=0:\n",
    "                cols.add(c-1)\n",
    "            for rr in rows:\n",
    "                for cc in cols:\n",
    "                    if (rr, cc)!=(r,c):\n",
    "                        res.add((rr,cc))\n",
    "            return res\n",
    "        \n",
    "        # intermediate states:\n",
    "        # 1: from 1 to 1\n",
    "        # 0: from 0 to 0\n",
    "        # X: from 1 to 0\n",
    "        # O: from 0 to 1\n",
    "        for r in range(numRows):\n",
    "            for c in range(numCols):\n",
    "                neighbors=getNeighbors(r,c)\n",
    "                cnt=0\n",
    "                for n in neighbors:\n",
    "                    rr, cc=n\n",
    "                    if board[rr][cc] in {1, \"X\"}:\n",
    "                        cnt+=1\n",
    "                if cnt<2:\n",
    "                    if board[r][c]==1:\n",
    "                        board[r][c]=\"X\"\n",
    "                    else:\n",
    "                        board[r][c]=0\n",
    "                elif cnt<3:\n",
    "                    pass\n",
    "                elif cnt>3:\n",
    "                    if board[r][c]==1:\n",
    "                        board[r][c]=\"X\"\n",
    "                    else:\n",
    "                        board[r][c]=0\n",
    "                else:\n",
    "                    if board[r][c]==0:\n",
    "                        board[r][c]=\"O\"\n",
    "                    else:\n",
    "                        board[r][c]=1\n",
    "        \n",
    "        for r in range(numRows):\n",
    "            for c in range(numCols):\n",
    "                if board[r][c]==\"X\":\n",
    "                    board[r][c]=0\n",
    "                elif board[r][c]==\"O\":\n",
    "                    board[r][c]=1\n",
    "        \n",
    "        return"
   ]
  },
  {
   "cell_type": "markdown",
   "metadata": {},
   "source": [
    "## Lessons and Thoughts\n",
    "- The algo above solves the follow-up question: in place. Just use something to indicate what the nodes use to be and is going to change to what."
   ]
  }
 ],
 "metadata": {
  "kernelspec": {
   "display_name": "Python 3",
   "language": "python",
   "name": "python3"
  },
  "language_info": {
   "codemirror_mode": {
    "name": "ipython",
    "version": 3
   },
   "file_extension": ".py",
   "mimetype": "text/x-python",
   "name": "python",
   "nbconvert_exporter": "python",
   "pygments_lexer": "ipython3",
   "version": "3.7.3"
  }
 },
 "nbformat": 4,
 "nbformat_minor": 2
}
