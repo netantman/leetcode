{
 "cells": [
  {
   "cell_type": "markdown",
   "metadata": {},
   "source": [
    "## Attempt 1 - Accepted"
   ]
  },
  {
   "cell_type": "code",
   "execution_count": null,
   "metadata": {},
   "outputs": [],
   "source": [
    "class Solution:\n",
    "    def numTeams(self, rating: List[int]) -> int:\n",
    "        res=0\n",
    "        L=len(rating)\n",
    "        for idx, curr in enumerate(rating):\n",
    "            left_less, left_more, right_less, right_more=0,0,0,0\n",
    "            for l in range(idx):\n",
    "                if rating[l]<curr:\n",
    "                    left_less+=1\n",
    "                else:\n",
    "                    left_more+=1\n",
    "            for r in range(idx+1,L):\n",
    "                if rating[r]<curr:\n",
    "                    right_less+=1\n",
    "                else:\n",
    "                    right_more+=1\n",
    "            res+=(left_less*right_more+left_more*right_less)\n",
    "        return res"
   ]
  },
  {
   "cell_type": "markdown",
   "metadata": {},
   "source": [
    "## Lessons and Thoughts\n",
    "- Answer is from the apps. From enumerating the start of the team to the middle of the team is a more effcient variant."
   ]
  }
 ],
 "metadata": {
  "kernelspec": {
   "display_name": "Python 3",
   "language": "python",
   "name": "python3"
  },
  "language_info": {
   "codemirror_mode": {
    "name": "ipython",
    "version": 3
   },
   "file_extension": ".py",
   "mimetype": "text/x-python",
   "name": "python",
   "nbconvert_exporter": "python",
   "pygments_lexer": "ipython3",
   "version": "3.7.3"
  }
 },
 "nbformat": 4,
 "nbformat_minor": 2
}
