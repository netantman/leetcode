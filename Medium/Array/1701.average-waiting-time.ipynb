{
 "cells": [
  {
   "cell_type": "markdown",
   "metadata": {},
   "source": [
    "## Attempt 1 - Accepted"
   ]
  },
  {
   "cell_type": "code",
   "execution_count": null,
   "metadata": {},
   "outputs": [],
   "source": [
    "class Solution:\n",
    "    def averageWaitingTime(self, customers: List[List[int]]) -> float:\n",
    "        total, cnt = 0, 0\n",
    "        t = 0\n",
    "        while customers:\n",
    "            arrival, wt = customers.pop(0)\n",
    "            total += max(t - arrival, 0)\n",
    "            total += wt\n",
    "            cnt += 1\n",
    "            t = max(t, arrival) + wt\n",
    "        return total / cnt"
   ]
  },
  {
   "cell_type": "markdown",
   "metadata": {},
   "source": [
    "## Lessons and Thoughts\n",
    "- Brute force"
   ]
  }
 ],
 "metadata": {
  "kernelspec": {
   "display_name": "Python 3",
   "language": "python",
   "name": "python3"
  },
  "language_info": {
   "codemirror_mode": {
    "name": "ipython",
    "version": 3
   },
   "file_extension": ".py",
   "mimetype": "text/x-python",
   "name": "python",
   "nbconvert_exporter": "python",
   "pygments_lexer": "ipython3",
   "version": "3.7.3"
  }
 },
 "nbformat": 4,
 "nbformat_minor": 2
}
