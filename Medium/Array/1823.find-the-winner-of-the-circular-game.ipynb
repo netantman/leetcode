{
 "cells": [
  {
   "cell_type": "markdown",
   "metadata": {},
   "source": [
    "## Attempt 1 - Accepted"
   ]
  },
  {
   "cell_type": "code",
   "execution_count": null,
   "metadata": {},
   "outputs": [],
   "source": [
    "class Solution:\n",
    "    def findTheWinner(self, n: int, k: int) -> int:\n",
    "        friends = list(range(1, n + 1))\n",
    "        while len(friends) > 1:\n",
    "            cnt = 0\n",
    "            while cnt < k - 1:\n",
    "                head = friends.pop(0)\n",
    "                friends.append(head)\n",
    "                cnt += 1\n",
    "            friends.pop(0)\n",
    "            # print(friends)\n",
    "        return friends[0]"
   ]
  },
  {
   "cell_type": "markdown",
   "metadata": {},
   "source": [
    "## Lessons and Thoughts\n",
    "- Straightforward to simulate the process using `queue`."
   ]
  }
 ],
 "metadata": {
  "kernelspec": {
   "display_name": "Python 3",
   "language": "python",
   "name": "python3"
  },
  "language_info": {
   "codemirror_mode": {
    "name": "ipython",
    "version": 3
   },
   "file_extension": ".py",
   "mimetype": "text/x-python",
   "name": "python",
   "nbconvert_exporter": "python",
   "pygments_lexer": "ipython3",
   "version": "3.7.3"
  }
 },
 "nbformat": 4,
 "nbformat_minor": 2
}
