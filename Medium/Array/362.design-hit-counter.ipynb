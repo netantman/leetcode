{
 "cells": [
  {
   "cell_type": "markdown",
   "id": "152a9eaf",
   "metadata": {},
   "source": [
    "## Attempt 1 - Accepted"
   ]
  },
  {
   "cell_type": "code",
   "execution_count": null,
   "id": "e28624de",
   "metadata": {},
   "outputs": [],
   "source": [
    "class HitCounter {\n",
    "    deque<int> stk = {};\n",
    "public:\n",
    "    HitCounter() {\n",
    "    }\n",
    "    \n",
    "    void hit(int timestamp) {\n",
    "        this->stk.push_back(timestamp);\n",
    "    }\n",
    "    \n",
    "    int getHits(int timestamp) {\n",
    "        while ((this->stk.size() > 0) && (this->stk.front() <= timestamp - 300)) {\n",
    "            this->stk.pop_front();\n",
    "        }\n",
    "        return this->stk.size();\n",
    "    }\n",
    "};\n",
    "\n",
    "/**\n",
    " * Your HitCounter object will be instantiated and called as such:\n",
    " * HitCounter* obj = new HitCounter();\n",
    " * obj->hit(timestamp);\n",
    " * int param_2 = obj->getHits(timestamp);\n",
    " */"
   ]
  },
  {
   "cell_type": "markdown",
   "id": "805b38c4",
   "metadata": {},
   "source": [
    "## Lessons and Thoughts\n",
    "- Almost trivial"
   ]
  }
 ],
 "metadata": {
  "kernelspec": {
   "display_name": "Python 3 (ipykernel)",
   "language": "python",
   "name": "python3"
  },
  "language_info": {
   "codemirror_mode": {
    "name": "ipython",
    "version": 3
   },
   "file_extension": ".py",
   "mimetype": "text/x-python",
   "name": "python",
   "nbconvert_exporter": "python",
   "pygments_lexer": "ipython3",
   "version": "3.9.7"
  }
 },
 "nbformat": 4,
 "nbformat_minor": 5
}
