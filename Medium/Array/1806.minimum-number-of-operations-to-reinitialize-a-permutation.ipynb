{
 "cells": [
  {
   "cell_type": "markdown",
   "metadata": {},
   "source": [
    "## Attempt 1 - Accepted"
   ]
  },
  {
   "cell_type": "code",
   "execution_count": null,
   "metadata": {},
   "outputs": [],
   "source": [
    "class Solution:\n",
    "    def reinitializePermutation(self, n: int) -> int:\n",
    "        def permute(vec):\n",
    "            arr = []\n",
    "            for i in range(n):\n",
    "                if i % 2 > 0:\n",
    "                    arr.append(vec[n // 2 + (i - 1) // 2])\n",
    "                else:\n",
    "                    arr.append(vec[i // 2])\n",
    "            return arr\n",
    "        \n",
    "        vec = list(range(n))\n",
    "        arr = permute(vec)\n",
    "        cnt = 1\n",
    "        \n",
    "        while arr != list(range(n)):\n",
    "            arr = permute(arr)\n",
    "            cnt += 1\n",
    "        \n",
    "        return cnt"
   ]
  },
  {
   "cell_type": "markdown",
   "metadata": {},
   "source": [
    "## Lessons and Thoughts\n",
    "- Brute force"
   ]
  }
 ],
 "metadata": {
  "kernelspec": {
   "display_name": "Python 3",
   "language": "python",
   "name": "python3"
  },
  "language_info": {
   "codemirror_mode": {
    "name": "ipython",
    "version": 3
   },
   "file_extension": ".py",
   "mimetype": "text/x-python",
   "name": "python",
   "nbconvert_exporter": "python",
   "pygments_lexer": "ipython3",
   "version": "3.7.3"
  }
 },
 "nbformat": 4,
 "nbformat_minor": 2
}
