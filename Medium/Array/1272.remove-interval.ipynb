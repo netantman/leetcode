{
 "cells": [
  {
   "cell_type": "markdown",
   "metadata": {},
   "source": [
    "## Attempt 1 - Accepted"
   ]
  },
  {
   "cell_type": "code",
   "execution_count": null,
   "metadata": {},
   "outputs": [],
   "source": [
    "class Solution:\n",
    "    def removeInterval(self, intervals: List[List[int]], toBeRemoved: List[int]) -> List[List[int]]:\n",
    "        intervals = sorted(intervals, key=lambda x: x[0])\n",
    "        s, e = tuple(toBeRemoved)\n",
    "        \n",
    "        res = []\n",
    "        for interval in intervals:\n",
    "            a, b = tuple(interval)\n",
    "            if a < s and b <= s:\n",
    "                res.append([a, b])\n",
    "                continue\n",
    "            if a < s and s < b <= e:\n",
    "                res.append([a, s])\n",
    "                continue\n",
    "            if a < s and b > e:\n",
    "                res.append([a, s])\n",
    "                res.append([e, b])\n",
    "                continue\n",
    "            if s <= a < e and b <= e:\n",
    "                continue\n",
    "            if s <= a < e and b > e:\n",
    "                res.append([e, b])\n",
    "                continue\n",
    "            if a >= e:\n",
    "                res.append([a, b])\n",
    "                continue\n",
    "        \n",
    "        return res"
   ]
  },
  {
   "cell_type": "markdown",
   "metadata": {},
   "source": [
    "## Lessons and Thoughts\n",
    "- Takes a while to handle all edge cases between `interval` and `toBeRemoved`."
   ]
  }
 ],
 "metadata": {
  "kernelspec": {
   "display_name": "Python 3",
   "language": "python",
   "name": "python3"
  },
  "language_info": {
   "codemirror_mode": {
    "name": "ipython",
    "version": 3
   },
   "file_extension": ".py",
   "mimetype": "text/x-python",
   "name": "python",
   "nbconvert_exporter": "python",
   "pygments_lexer": "ipython3",
   "version": "3.7.3"
  }
 },
 "nbformat": 4,
 "nbformat_minor": 2
}
