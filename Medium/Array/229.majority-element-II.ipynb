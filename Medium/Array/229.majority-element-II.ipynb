{
 "cells": [
  {
   "cell_type": "markdown",
   "metadata": {},
   "source": [
    "## Attempt 1 - from the web, accepted"
   ]
  },
  {
   "cell_type": "code",
   "execution_count": null,
   "metadata": {},
   "outputs": [],
   "source": [
    "class Solution:\n",
    "    def majorityElement(self, nums: List[int]) -> List[int]:\n",
    "        N = len(nums)\n",
    "        m = n = None\n",
    "        cm = cn = 0\n",
    "        for num in nums:\n",
    "            if num == m:\n",
    "                cm += 1\n",
    "            elif num == n:\n",
    "                cn += 1\n",
    "            elif cm == 0:\n",
    "                m = num\n",
    "                cm = 1\n",
    "            elif cn == 0:\n",
    "                n = num\n",
    "                cn = 1\n",
    "            else:\n",
    "                cm -= 1\n",
    "                cn -= 1\n",
    "        cm = cn = 0\n",
    "        for num in nums:\n",
    "            if num == m:\n",
    "                cm += 1\n",
    "            elif num == n:\n",
    "                cn += 1\n",
    "        res = []\n",
    "        if cm > N / 3:\n",
    "            res.append(m)\n",
    "        if cn > N / 3:\n",
    "            res.append(n)\n",
    "        return res"
   ]
  },
  {
   "cell_type": "markdown",
   "metadata": {},
   "source": [
    "## Lessons and Thoughts\n",
    "- Solution using `dict` is trivial. This algo from the [web](https://blog.csdn.net/fuxuemingzhu/article/details/83501323) is called [Moore's Voting](https://en.wikipedia.org/wiki/Boyer%E2%80%93Moore_majority_vote_algorithm)"
   ]
  }
 ],
 "metadata": {
  "kernelspec": {
   "display_name": "Python 3",
   "language": "python",
   "name": "python3"
  },
  "language_info": {
   "codemirror_mode": {
    "name": "ipython",
    "version": 3
   },
   "file_extension": ".py",
   "mimetype": "text/x-python",
   "name": "python",
   "nbconvert_exporter": "python",
   "pygments_lexer": "ipython3",
   "version": "3.7.3"
  }
 },
 "nbformat": 4,
 "nbformat_minor": 2
}
