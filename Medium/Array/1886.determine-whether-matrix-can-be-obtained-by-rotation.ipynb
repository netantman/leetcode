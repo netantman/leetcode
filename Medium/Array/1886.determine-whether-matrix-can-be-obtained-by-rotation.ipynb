{
 "cells": [
  {
   "cell_type": "markdown",
   "metadata": {},
   "source": [
    "## Attempt 1 - Accepted"
   ]
  },
  {
   "cell_type": "code",
   "execution_count": null,
   "metadata": {},
   "outputs": [],
   "source": [
    "class Solution:\n",
    "    def findRotation(self, mat: List[List[int]], target: List[List[int]]) -> bool:\n",
    "        N = len(mat)\n",
    "        def rotate(mat):\n",
    "            res = []\n",
    "            for r in range(N):\n",
    "                res.append([mat[-idx][r] for idx in range(1, N + 1)])\n",
    "            return res\n",
    "        times = 0\n",
    "        while times < 4:\n",
    "            if mat == target:\n",
    "                return True\n",
    "            times += 1\n",
    "            mat = rotate(mat)\n",
    "        return False"
   ]
  },
  {
   "cell_type": "markdown",
   "metadata": {},
   "source": [
    "## Lessons and Thoughts\n",
    "- Brute force"
   ]
  }
 ],
 "metadata": {
  "kernelspec": {
   "display_name": "Python 3",
   "language": "python",
   "name": "python3"
  },
  "language_info": {
   "codemirror_mode": {
    "name": "ipython",
    "version": 3
   },
   "file_extension": ".py",
   "mimetype": "text/x-python",
   "name": "python",
   "nbconvert_exporter": "python",
   "pygments_lexer": "ipython3",
   "version": "3.7.3"
  }
 },
 "nbformat": 4,
 "nbformat_minor": 2
}
