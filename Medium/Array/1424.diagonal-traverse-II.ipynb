{
 "cells": [
  {
   "cell_type": "markdown",
   "metadata": {},
   "source": [
    "## Attempt 1 - Time Limit Exceeded"
   ]
  },
  {
   "cell_type": "code",
   "execution_count": null,
   "metadata": {},
   "outputs": [],
   "source": [
    "class Solution:\n",
    "    def findDiagonalOrder(self, nums: List[List[int]]) -> List[int]:\n",
    "        if len(nums) == 1:\n",
    "            return nums[0]\n",
    "        res = []\n",
    "        curr = [0, 0]\n",
    "        stop = False\n",
    "        while not stop:\n",
    "            met = False\n",
    "            while curr[0] >= 0:\n",
    "                r, c = tuple(curr)\n",
    "                if r < len(nums) and c < len(nums[r]):\n",
    "                    res.append(nums[r][c])\n",
    "                    met = True\n",
    "                curr[0]-=1\n",
    "                curr[1]+=1\n",
    "            stop = not met\n",
    "            curr = [curr[1], 0]\n",
    "        return res"
   ]
  },
  {
   "cell_type": "markdown",
   "metadata": {},
   "source": [
    "## Attempt 2 - Time Limit Exceeded"
   ]
  },
  {
   "cell_type": "code",
   "execution_count": null,
   "metadata": {},
   "outputs": [],
   "source": [
    "class Solution:\n",
    "    def findDiagonalOrder(self, nums: List[List[int]]) -> List[int]:\n",
    "        if len(nums) == 1:\n",
    "            return nums[0]\n",
    "        if max([len(row) for row in nums[:-1]]) == 1:\n",
    "            return [row[0] for row in nums[:-1]] + nums[-1]\n",
    "        \n",
    "        record = dict()\n",
    "        for r, num in enumerate(nums):\n",
    "            c = 0\n",
    "            while c < len(num):\n",
    "                record[r+c] = record.get(r+c, [])+[nums[r][c]] ## --> doing list addition will TLE\n",
    "                c += 1\n",
    "        \n",
    "        res = []\n",
    "        for k in range(max(record.keys())+1):\n",
    "            res = res + record[k][::-1]\n",
    "        \n",
    "        return res"
   ]
  },
  {
   "cell_type": "markdown",
   "metadata": {},
   "source": [
    "## Attempt 3 - Accepted"
   ]
  },
  {
   "cell_type": "code",
   "execution_count": null,
   "metadata": {},
   "outputs": [],
   "source": [
    "class Solution:\n",
    "    def findDiagonalOrder(self, nums: List[List[int]]) -> List[int]:\n",
    "        if len(nums) == 1:\n",
    "            return nums[0]\n",
    "        if max([len(row) for row in nums[:-1]]) == 1:\n",
    "            return [row[0] for row in nums[:-1]] + nums[-1]\n",
    "        \n",
    "        record = dict()\n",
    "        for r, num in enumerate(nums):\n",
    "            c = 0\n",
    "            while c < len(num):\n",
    "                record[r+c] = record.get(r+c, [])\n",
    "                record[r+c].append(nums[r][c])\n",
    "                c += 1\n",
    "        \n",
    "        res = []\n",
    "        for k in range(max(record.keys())+1):\n",
    "            res += record[k][::-1]\n",
    "        \n",
    "        return res"
   ]
  },
  {
   "cell_type": "markdown",
   "metadata": {},
   "source": [
    "## Lessons and Thoughts\n",
    "- Try `append` whenever you can, it is more efficient."
   ]
  }
 ],
 "metadata": {
  "kernelspec": {
   "display_name": "Python 3",
   "language": "python",
   "name": "python3"
  },
  "language_info": {
   "codemirror_mode": {
    "name": "ipython",
    "version": 3
   },
   "file_extension": ".py",
   "mimetype": "text/x-python",
   "name": "python",
   "nbconvert_exporter": "python",
   "pygments_lexer": "ipython3",
   "version": "3.7.3"
  }
 },
 "nbformat": 4,
 "nbformat_minor": 2
}
