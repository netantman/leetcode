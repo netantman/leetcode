{
 "cells": [
  {
   "cell_type": "markdown",
   "metadata": {},
   "source": [
    "## Attempt 1 - Accepted"
   ]
  },
  {
   "cell_type": "code",
   "execution_count": null,
   "metadata": {},
   "outputs": [],
   "source": [
    "class RLEIterator:\n",
    "\n",
    "    def __init__(self, A: List[int]):\n",
    "        self.data=A\n",
    "\n",
    "    def next(self, n: int) -> int:\n",
    "        while len(self.data)>0 and n>self.data[0]:\n",
    "            n-=self.data[0]\n",
    "            self.data.pop(0)\n",
    "            self.data.pop(0)\n",
    "        if len(self.data)<1:\n",
    "            return -1\n",
    "        else:\n",
    "            self.data[0]-=n\n",
    "            return self.data[1]\n",
    "\n",
    "\n",
    "# Your RLEIterator object will be instantiated and called as such:\n",
    "# obj = RLEIterator(A)\n",
    "# param_1 = obj.next(n)"
   ]
  },
  {
   "cell_type": "markdown",
   "metadata": {},
   "source": [
    "## Lessons and Thoughts\n",
    "- You don't need to actually construct the whole array."
   ]
  }
 ],
 "metadata": {
  "kernelspec": {
   "display_name": "Python 3",
   "language": "python",
   "name": "python3"
  },
  "language_info": {
   "codemirror_mode": {
    "name": "ipython",
    "version": 3
   },
   "file_extension": ".py",
   "mimetype": "text/x-python",
   "name": "python",
   "nbconvert_exporter": "python",
   "pygments_lexer": "ipython3",
   "version": "3.7.3"
  }
 },
 "nbformat": 4,
 "nbformat_minor": 2
}
