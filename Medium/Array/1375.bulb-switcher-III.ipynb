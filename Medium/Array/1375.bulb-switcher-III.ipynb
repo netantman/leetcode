{
 "cells": [
  {
   "cell_type": "markdown",
   "metadata": {},
   "source": [
    "## Attempt 1 - Accepted"
   ]
  },
  {
   "cell_type": "code",
   "execution_count": null,
   "metadata": {},
   "outputs": [],
   "source": [
    "class Solution:\n",
    "    def numTimesAllBlue(self, light: List[int]) -> int:\n",
    "        light=[l-1 for l in light]\n",
    "        blue=0\n",
    "        record=[0 for _ in light]\n",
    "        L=len(light)\n",
    "        res=0\n",
    "        for idx, l in enumerate(light):\n",
    "            record[l]=1\n",
    "            while blue<L and record[blue]>0:\n",
    "                blue+=1\n",
    "            if idx+1==blue:\n",
    "                res+=1\n",
    "        return res"
   ]
  },
  {
   "cell_type": "markdown",
   "metadata": {},
   "source": [
    "## Lessons and Thoughts\n",
    "- Idea is to recognize that `blue` can only move right as more lights are turned on."
   ]
  }
 ],
 "metadata": {
  "kernelspec": {
   "display_name": "Python 3",
   "language": "python",
   "name": "python3"
  },
  "language_info": {
   "codemirror_mode": {
    "name": "ipython",
    "version": 3
   },
   "file_extension": ".py",
   "mimetype": "text/x-python",
   "name": "python",
   "nbconvert_exporter": "python",
   "pygments_lexer": "ipython3",
   "version": "3.7.3"
  }
 },
 "nbformat": 4,
 "nbformat_minor": 2
}
