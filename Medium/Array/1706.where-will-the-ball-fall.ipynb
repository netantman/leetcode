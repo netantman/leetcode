{
 "cells": [
  {
   "cell_type": "markdown",
   "metadata": {},
   "source": [
    "## Attempt 1 - Runtime Error"
   ]
  },
  {
   "cell_type": "code",
   "execution_count": null,
   "metadata": {},
   "outputs": [],
   "source": [
    "class Solution:\n",
    "    def findBall(self, grid: List[List[int]]) -> List[int]:\n",
    "        R, C = len(grid), len(grid[0])\n",
    "        def drop(col):\n",
    "            r, c = 0, col\n",
    "            while r < R:\n",
    "                if grid[r][c] > 0:\n",
    "                    if c + 1 >= C or grid[r][c + 1] < 0:\n",
    "                        return -1\n",
    "                    r += 1\n",
    "                    c += 1\n",
    "                if grid[r][c] < 0:  ## --> you need to remember to use continue if you use this idiom!\n",
    "                    if c - 1 < 0 or grid[r][c - 1] > 0:\n",
    "                        return -1\n",
    "                    r += 1\n",
    "                    c -= 1\n",
    "            return c\n",
    "        return map(drop, list(range(C)))\n",
    "                "
   ]
  },
  {
   "cell_type": "markdown",
   "metadata": {},
   "source": [
    "## Attempt 2 - Accepted"
   ]
  },
  {
   "cell_type": "code",
   "execution_count": null,
   "metadata": {},
   "outputs": [],
   "source": [
    "class Solution:\n",
    "    def findBall(self, grid: List[List[int]]) -> List[int]:\n",
    "        R, C = len(grid), len(grid[0])\n",
    "        def drop(col):\n",
    "            r, c = 0, col\n",
    "            while r < R:\n",
    "                # print(r, c)\n",
    "                if grid[r][c] > 0:\n",
    "                    if c + 1 >= C or grid[r][c + 1] < 0:\n",
    "                        return -1\n",
    "                    r += 1\n",
    "                    c += 1\n",
    "                    continue\n",
    "                if grid[r][c] < 0:\n",
    "                    if c - 1 < 0 or grid[r][c - 1] > 0:\n",
    "                        return -1\n",
    "                    r += 1\n",
    "                    c -= 1\n",
    "                    continue\n",
    "            return c\n",
    "        return map(drop, list(range(C)))"
   ]
  },
  {
   "cell_type": "markdown",
   "metadata": {},
   "source": [
    "## Lessons and Thoughts\n",
    "- Remember to use `continue`!"
   ]
  }
 ],
 "metadata": {
  "kernelspec": {
   "display_name": "Python 3",
   "language": "python",
   "name": "python3"
  },
  "language_info": {
   "codemirror_mode": {
    "name": "ipython",
    "version": 3
   },
   "file_extension": ".py",
   "mimetype": "text/x-python",
   "name": "python",
   "nbconvert_exporter": "python",
   "pygments_lexer": "ipython3",
   "version": "3.7.3"
  }
 },
 "nbformat": 4,
 "nbformat_minor": 2
}
