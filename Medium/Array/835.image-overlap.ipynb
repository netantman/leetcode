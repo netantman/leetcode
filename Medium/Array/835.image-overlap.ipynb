{
 "cells": [
  {
   "cell_type": "markdown",
   "metadata": {},
   "source": [
    "## Attempt 1 - Wrong Answer"
   ]
  },
  {
   "cell_type": "code",
   "execution_count": null,
   "metadata": {},
   "outputs": [],
   "source": [
    "class Solution:\n",
    "    def largestOverlap(self, A: List[List[int]], B: List[List[int]]) -> int:\n",
    "        N=len(A)\n",
    "        counter=dict()\n",
    "        for r in range(-N, N+1):\n",
    "            for c in range(-N, N+1):\n",
    "                for m in range(N):\n",
    "                    for n in range(N):\n",
    "                        if m+r>=0 and m+r<N and n+c>=0 and n+c<N and A[m+r][n+c]*B[m][n]>0:\n",
    "                            counter[r,c]=counter.get((r,c),0)+1\n",
    "        return max(counter.values()) ## --> did not handle the case where counter is empty"
   ]
  },
  {
   "cell_type": "markdown",
   "metadata": {},
   "source": [
    "## Attempt 2 - Accepted"
   ]
  },
  {
   "cell_type": "code",
   "execution_count": null,
   "metadata": {},
   "outputs": [],
   "source": [
    "class Solution:\n",
    "    def largestOverlap(self, A: List[List[int]], B: List[List[int]]) -> int:\n",
    "        N=len(A)\n",
    "        counter=dict()\n",
    "        \n",
    "        for m in range(N):\n",
    "            for n in range(N):\n",
    "                if A[m][n]>0:\n",
    "                    for r in range(N):\n",
    "                        for c in range(N):\n",
    "                            if B[r][c]>0:\n",
    "                                counter[m-r,n-c]=counter.get((m-r,n-c),0)+1\n",
    "        if len(counter)>0:               \n",
    "            return max(counter.values())\n",
    "        else:\n",
    "            return 0"
   ]
  },
  {
   "cell_type": "markdown",
   "metadata": {},
   "source": [
    "## Lessons and Thoughts\n",
    "- Almost Brute Force, but there is still room for optimization. The accepted solution is from the leetcode app."
   ]
  }
 ],
 "metadata": {
  "kernelspec": {
   "display_name": "Python 3",
   "language": "python",
   "name": "python3"
  },
  "language_info": {
   "codemirror_mode": {
    "name": "ipython",
    "version": 3
   },
   "file_extension": ".py",
   "mimetype": "text/x-python",
   "name": "python",
   "nbconvert_exporter": "python",
   "pygments_lexer": "ipython3",
   "version": "3.7.3"
  }
 },
 "nbformat": 4,
 "nbformat_minor": 2
}
