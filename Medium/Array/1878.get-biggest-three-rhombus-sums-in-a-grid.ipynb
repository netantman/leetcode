{
 "cells": [
  {
   "cell_type": "markdown",
   "metadata": {},
   "source": [
    "## Attempt 1 - Accepted"
   ]
  },
  {
   "cell_type": "code",
   "execution_count": null,
   "metadata": {},
   "outputs": [],
   "source": [
    "class Solution:\n",
    "    def getBiggestThree(self, grid: List[List[int]]) -> List[int]:\n",
    "        R, C = len(grid), len(grid[0])\n",
    "        sums = set([grid[r][c] for r in range(R) for c in range(C)])\n",
    "        \n",
    "        for r in range(R):\n",
    "            for c in range(C):\n",
    "                L = min(r, R - 1 - r, (C - 1 - c)//2)\n",
    "                for l in range(1, L + 1):\n",
    "                    s = 0\n",
    "                    for idx in range(l):\n",
    "                        s += (grid[r - idx][c + idx] + grid[r - l + idx][c + l + idx] + grid[r + l - idx][c + l - idx] + grid[r + idx][c + 2 * l - idx])\n",
    "                    sums.add(s)\n",
    "        \n",
    "        res = sorted(heapq.nlargest(3, sums), reverse=True)\n",
    "        return res"
   ]
  },
  {
   "cell_type": "markdown",
   "metadata": {},
   "source": [
    "## Lessons and Thoughts\n",
    "- Adding element sums in a clockwise manner"
   ]
  }
 ],
 "metadata": {
  "kernelspec": {
   "display_name": "Python 3",
   "language": "python",
   "name": "python3"
  },
  "language_info": {
   "codemirror_mode": {
    "name": "ipython",
    "version": 3
   },
   "file_extension": ".py",
   "mimetype": "text/x-python",
   "name": "python",
   "nbconvert_exporter": "python",
   "pygments_lexer": "ipython3",
   "version": "3.7.3"
  }
 },
 "nbformat": 4,
 "nbformat_minor": 2
}
