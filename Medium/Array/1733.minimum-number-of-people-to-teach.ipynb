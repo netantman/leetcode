{
 "cells": [
  {
   "cell_type": "markdown",
   "metadata": {},
   "source": [
    "## Attempt 1 - Wrong Answer"
   ]
  },
  {
   "cell_type": "code",
   "execution_count": null,
   "metadata": {},
   "outputs": [],
   "source": [
    "class Solution:\n",
    "    def minimumTeachings(self, n: int, languages: List[List[int]], friendships: List[List[int]]) -> int:\n",
    "        m = len(languages) # m is the number of users\n",
    "        cnt = dict({lan: [0 for _ in range(m + 1)] for lan in range(1, n + 1)})\n",
    "        for f in friendships: ## --> we do not need to teach the new language if the two friends can already communicate.\n",
    "            a, b = tuple(f)\n",
    "            for lan in range(1, n + 1):\n",
    "                if lan not in languages[a - 1]:\n",
    "                    cnt[lan][a] = 1\n",
    "                if lan not in languages[b - 1]:\n",
    "                    cnt[lan][b] = 1\n",
    "        return min([sum(v) for v in cnt.values()])"
   ]
  },
  {
   "cell_type": "markdown",
   "metadata": {},
   "source": [
    "## Attempt 2 - Accepted"
   ]
  },
  {
   "cell_type": "code",
   "execution_count": null,
   "metadata": {},
   "outputs": [],
   "source": [
    "class Solution:\n",
    "    def minimumTeachings(self, n: int, languages: List[List[int]], friendships: List[List[int]]) -> int:\n",
    "        m = len(languages) # m is the number of users\n",
    "        cnt = dict({lan: [0 for _ in range(m + 1)] for lan in range(1, n + 1)})\n",
    "        \n",
    "        for f in friendships:\n",
    "            a, b = tuple(f)\n",
    "            if len(set(languages[a - 1])&set(languages[b - 1])) > 0:\n",
    "                continue\n",
    "            for lan in range(1, n + 1):\n",
    "                if lan not in languages[a - 1]:\n",
    "                    cnt[lan][a] = 1\n",
    "                if lan not in languages[b - 1]:\n",
    "                    cnt[lan][b] = 1\n",
    "        return min([sum(v) for v in cnt.values()])"
   ]
  },
  {
   "cell_type": "markdown",
   "metadata": {},
   "source": [
    "## Lessons and Thoughts\n",
    "- Intersection of two `set`s."
   ]
  }
 ],
 "metadata": {
  "kernelspec": {
   "display_name": "Python 3",
   "language": "python",
   "name": "python3"
  },
  "language_info": {
   "codemirror_mode": {
    "name": "ipython",
    "version": 3
   },
   "file_extension": ".py",
   "mimetype": "text/x-python",
   "name": "python",
   "nbconvert_exporter": "python",
   "pygments_lexer": "ipython3",
   "version": "3.7.3"
  }
 },
 "nbformat": 4,
 "nbformat_minor": 2
}
