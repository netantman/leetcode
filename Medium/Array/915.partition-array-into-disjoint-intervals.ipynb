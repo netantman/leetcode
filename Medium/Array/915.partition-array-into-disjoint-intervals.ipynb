{
 "cells": [
  {
   "cell_type": "markdown",
   "metadata": {},
   "source": [
    "## Attempt 1 - Accepted"
   ]
  },
  {
   "cell_type": "code",
   "execution_count": null,
   "metadata": {},
   "outputs": [],
   "source": [
    "class Solution:\n",
    "    def partitionDisjoint(self, A: List[int]) -> int:\n",
    "        L=len(A)\n",
    "        maxx=[A[0]]\n",
    "        for idx in range(1,L):\n",
    "            maxx.append(max(maxx[-1],A[idx]))\n",
    "        minn=[A[-1]]\n",
    "        for idx in range(L-2,-1,-1):\n",
    "            minn=[min(minn[0],A[idx])]+minn\n",
    "        res=0\n",
    "        while res<L:\n",
    "            if maxx[res]<=minn[res+1]:\n",
    "                break\n",
    "            res+=1\n",
    "        return res+1"
   ]
  },
  {
   "cell_type": "markdown",
   "metadata": {},
   "source": [
    "## Lessons and Thoughts\n",
    "- Almost brute force: just loop over twice and get the max and min for every partition first."
   ]
  }
 ],
 "metadata": {
  "kernelspec": {
   "display_name": "Python 3",
   "language": "python",
   "name": "python3"
  },
  "language_info": {
   "codemirror_mode": {
    "name": "ipython",
    "version": 3
   },
   "file_extension": ".py",
   "mimetype": "text/x-python",
   "name": "python",
   "nbconvert_exporter": "python",
   "pygments_lexer": "ipython3",
   "version": "3.7.3"
  }
 },
 "nbformat": 4,
 "nbformat_minor": 2
}
