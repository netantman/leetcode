{
 "cells": [
  {
   "cell_type": "markdown",
   "metadata": {},
   "source": [
    "## Attempt 1 - Accepted"
   ]
  },
  {
   "cell_type": "code",
   "execution_count": null,
   "metadata": {},
   "outputs": [],
   "source": [
    "class Solution:\n",
    "    def setZeroes(self, matrix: List[List[int]]) -> None:\n",
    "        \"\"\"\n",
    "        Do not return anything, modify matrix in-place instead.\n",
    "        \"\"\"\n",
    "        if len(matrix)<1:\n",
    "            return\n",
    "        \n",
    "        rows=len(matrix)\n",
    "        cols=len(matrix[0])\n",
    "        \n",
    "        first_row, first_col=False, False\n",
    "        for r in range(rows):\n",
    "            if matrix[r][0]==0:\n",
    "                first_col=True\n",
    "                break\n",
    "        for c in range(cols):\n",
    "            if matrix[0][c]==0:\n",
    "                first_row=True\n",
    "                break\n",
    "        \n",
    "        for r in range(1, rows):\n",
    "            for c in range(1, cols):\n",
    "                if matrix[r][c]==0:\n",
    "                    matrix[0][c]=0\n",
    "                    matrix[r][0]=0\n",
    "        \n",
    "        for r in range(1, rows):\n",
    "            if matrix[r][0]==0:\n",
    "                for c in range(cols):\n",
    "                    matrix[r][c]=0\n",
    "        for c in range(1, cols):\n",
    "            if matrix[0][c]==0:\n",
    "                for r in range(rows):\n",
    "                    matrix[r][c]=0\n",
    "        \n",
    "        if first_row:\n",
    "            for c in range(cols):\n",
    "                matrix[0][c]=0\n",
    "        if first_col:\n",
    "            for r in range(rows):\n",
    "                matrix[r][0]=0\n",
    "        \n",
    "        return"
   ]
  },
  {
   "cell_type": "markdown",
   "metadata": {},
   "source": [
    "## Lessons and Thoughts\n",
    "- The above is the `O(1)` extra space algorithm, introduced [here](http://buttercola.blogspot.com/2014/08/leetcode-set-matrix-zeros.html)."
   ]
  }
 ],
 "metadata": {
  "kernelspec": {
   "display_name": "Python 3",
   "language": "python",
   "name": "python3"
  },
  "language_info": {
   "codemirror_mode": {
    "name": "ipython",
    "version": 3
   },
   "file_extension": ".py",
   "mimetype": "text/x-python",
   "name": "python",
   "nbconvert_exporter": "python",
   "pygments_lexer": "ipython3",
   "version": "3.7.3"
  }
 },
 "nbformat": 4,
 "nbformat_minor": 2
}
