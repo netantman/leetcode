{
 "cells": [
  {
   "cell_type": "markdown",
   "metadata": {},
   "source": [
    "## Attempt 1 - Accepted"
   ]
  },
  {
   "cell_type": "code",
   "execution_count": null,
   "metadata": {},
   "outputs": [],
   "source": [
    "class Solution:\n",
    "    def countServers(self, grid: List[List[int]]) -> int:\n",
    "        res=set()\n",
    "        R,C=len(grid),len(grid[0])\n",
    "        for r in range(R):\n",
    "            this=grid[r]\n",
    "            if sum(this)>1:\n",
    "                for c in range(C):\n",
    "                    if this[c]>0:\n",
    "                        res.add((r,c))\n",
    "        for c in range(C):\n",
    "            this=[grid[r][c] for r in range(R)]\n",
    "            if sum(this)>1:\n",
    "                for r in range(R):\n",
    "                    if this[r]>0:\n",
    "                        res.add((r,c))\n",
    "        return len(res)"
   ]
  },
  {
   "cell_type": "markdown",
   "metadata": {},
   "source": [
    "## Lessons and Thoughts\n",
    "- Straightforward: just check each row and column"
   ]
  }
 ],
 "metadata": {
  "kernelspec": {
   "display_name": "Python 3",
   "language": "python",
   "name": "python3"
  },
  "language_info": {
   "codemirror_mode": {
    "name": "ipython",
    "version": 3
   },
   "file_extension": ".py",
   "mimetype": "text/x-python",
   "name": "python",
   "nbconvert_exporter": "python",
   "pygments_lexer": "ipython3",
   "version": "3.7.3"
  }
 },
 "nbformat": 4,
 "nbformat_minor": 2
}
