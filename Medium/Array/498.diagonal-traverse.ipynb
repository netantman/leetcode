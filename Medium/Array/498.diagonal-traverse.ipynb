{
 "cells": [
  {
   "cell_type": "markdown",
   "metadata": {},
   "source": [
    "## Attempt 1 - Wrong Answer"
   ]
  },
  {
   "cell_type": "code",
   "execution_count": null,
   "metadata": {},
   "outputs": [],
   "source": [
    "class Solution:\n",
    "    def findDiagonalOrder(self, matrix: List[List[int]]) -> List[int]:\n",
    "        if len(matrix)<1 or len(matrix[0])<1:\n",
    "            return []\n",
    "        \n",
    "        M=len(matrix)\n",
    "        N=len(matrix[0])\n",
    "        res=[]\n",
    "        r,c=0,0\n",
    "        res.append(matrix[r][c])\n",
    "        r_inc, c_inc=1,1  ## --> misled by the usual Cartesian coordinates\n",
    "        while r!=M-1 or c!=N-1:\n",
    "            if r+r_inc>=0 and r+r_inc<M and c+c_inc>=0 and c+c_inc<N:\n",
    "                r+=r_inc\n",
    "                c+=c_inc\n",
    "                res.append(matrix[r][c])\n",
    "            else:\n",
    "                if r_inc>0:\n",
    "                    if c+1<N:\n",
    "                        c+=1\n",
    "                    else:\n",
    "                        r+=1\n",
    "                    r_inc, c_inc=-1,-1\n",
    "                    res.append(matrix[r][c])\n",
    "                else:\n",
    "                    if r+1<M:\n",
    "                        r+=1\n",
    "                    else:\n",
    "                        c+=1\n",
    "                    r_inc, c_inc=1,1\n",
    "                    res.append(matrix[r][c])\n",
    "        \n",
    "        return res"
   ]
  },
  {
   "cell_type": "markdown",
   "metadata": {},
   "source": [
    "## Attempt 2 - Accepted"
   ]
  },
  {
   "cell_type": "code",
   "execution_count": null,
   "metadata": {},
   "outputs": [],
   "source": [
    "class Solution:\n",
    "    def findDiagonalOrder(self, matrix: List[List[int]]) -> List[int]:\n",
    "        if len(matrix)<1 or len(matrix[0])<1:\n",
    "            return []\n",
    "        \n",
    "        M=len(matrix)\n",
    "        N=len(matrix[0])\n",
    "        res=[]\n",
    "        r,c=0,0\n",
    "        res.append(matrix[r][c])\n",
    "        r_inc, c_inc=-1,1\n",
    "        while r!=M-1 or c!=N-1:\n",
    "            if r+r_inc>=0 and r+r_inc<M and c+c_inc>=0 and c+c_inc<N:\n",
    "                r+=r_inc\n",
    "                c+=c_inc\n",
    "                res.append(matrix[r][c])\n",
    "            else:\n",
    "                if r_inc<0:\n",
    "                    if c+1<N:\n",
    "                        c+=1\n",
    "                    else:\n",
    "                        r+=1\n",
    "                    r_inc, c_inc=1,-1\n",
    "                    res.append(matrix[r][c])\n",
    "                else:\n",
    "                    if r+1<M:\n",
    "                        r+=1\n",
    "                    else:\n",
    "                        c+=1\n",
    "                    r_inc, c_inc=-1,1\n",
    "                    res.append(matrix[r][c])\n",
    "        \n",
    "        return res"
   ]
  },
  {
   "cell_type": "markdown",
   "metadata": {},
   "source": [
    "## Lessons and Thoughts\n",
    "- Just be careful in checking the boundary conditions: and there are many cases."
   ]
  }
 ],
 "metadata": {
  "kernelspec": {
   "display_name": "Python 3",
   "language": "python",
   "name": "python3"
  },
  "language_info": {
   "codemirror_mode": {
    "name": "ipython",
    "version": 3
   },
   "file_extension": ".py",
   "mimetype": "text/x-python",
   "name": "python",
   "nbconvert_exporter": "python",
   "pygments_lexer": "ipython3",
   "version": "3.7.3"
  }
 },
 "nbformat": 4,
 "nbformat_minor": 2
}
