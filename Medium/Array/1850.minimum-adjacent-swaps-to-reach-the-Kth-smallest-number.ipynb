{
 "cells": [
  {
   "cell_type": "markdown",
   "metadata": {},
   "source": [
    "## Attempt 1 - Accepted"
   ]
  },
  {
   "cell_type": "code",
   "execution_count": null,
   "metadata": {},
   "outputs": [],
   "source": [
    "class Solution:\n",
    "    def getMinSwaps(self, num: str, k: int) -> int:\n",
    "        num = [int(c) for c in num]\n",
    "        L = len(num)\n",
    "        \n",
    "        def next_permutation(num):\n",
    "            idx = -1\n",
    "            while idx > -L and num[idx] <= num[idx - 1]:\n",
    "                idx -= 1\n",
    "            last = num[idx:]\n",
    "            res = num[:idx]\n",
    "            swp = -1\n",
    "            while swp >= idx:\n",
    "                if last[swp] > res[-1]:\n",
    "                    last[swp], res[-1] = res[-1], last[swp]\n",
    "                    break\n",
    "                swp -= 1\n",
    "            return res + sorted(last)\n",
    "        \n",
    "        orig = [n for n in num]\n",
    "        for _ in range(k):\n",
    "            num = next_permutation(num)\n",
    "            # print(num)\n",
    "        \n",
    "        # print(num)\n",
    "        res = 0\n",
    "        for i in range(L):\n",
    "            if num[i] == orig[i]:\n",
    "                continue\n",
    "            for j in range(i + 1, L):\n",
    "                if num[i] == orig[j]:\n",
    "                    orig[i: j + 1] = [orig[j]] + orig[i:j]\n",
    "                    res += (j - i)\n",
    "                    break\n",
    "        return res"
   ]
  },
  {
   "cell_type": "markdown",
   "metadata": {},
   "source": [
    "## Lessons and Thoughts\n",
    "- Don't overthink this - just do next permutation `k` times!"
   ]
  }
 ],
 "metadata": {
  "kernelspec": {
   "display_name": "Python 3",
   "language": "python",
   "name": "python3"
  },
  "language_info": {
   "codemirror_mode": {
    "name": "ipython",
    "version": 3
   },
   "file_extension": ".py",
   "mimetype": "text/x-python",
   "name": "python",
   "nbconvert_exporter": "python",
   "pygments_lexer": "ipython3",
   "version": "3.7.3"
  }
 },
 "nbformat": 4,
 "nbformat_minor": 2
}
