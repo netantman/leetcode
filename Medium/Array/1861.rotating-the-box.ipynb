{
 "cells": [
  {
   "cell_type": "markdown",
   "metadata": {},
   "source": [
    "## Attempt 1 - Accepted"
   ]
  },
  {
   "cell_type": "code",
   "execution_count": null,
   "metadata": {},
   "outputs": [],
   "source": [
    "class Solution:\n",
    "    def rotateTheBox(self, box: List[List[str]]) -> List[List[str]]:\n",
    "        \n",
    "        for r in box:\n",
    "            r.append('*')\n",
    "        R, C = len(box), len(box[0])\n",
    "        res = [['.' for r in range(R)] for c in range(C)]\n",
    "        \n",
    "        for r in range(R):\n",
    "            cnt = 0\n",
    "            for c in range(C):\n",
    "                if box[r][c] == \"*\":\n",
    "                    res[c][R - 1 - r] = \"*\"\n",
    "                    for idx in range(cnt):\n",
    "                        res[c - 1 - idx][R - 1 - r] = \"#\"\n",
    "                    cnt = 0\n",
    "                    continue\n",
    "                if box[r][c] == \"#\":\n",
    "                    cnt += 1\n",
    "                    continue\n",
    "        \n",
    "        return res[:-1]"
   ]
  },
  {
   "cell_type": "markdown",
   "metadata": {},
   "source": [
    "## Lessons and Thoughts\n",
    "- A bit involved in getting all index right"
   ]
  }
 ],
 "metadata": {
  "kernelspec": {
   "display_name": "Python 3",
   "language": "python",
   "name": "python3"
  },
  "language_info": {
   "codemirror_mode": {
    "name": "ipython",
    "version": 3
   },
   "file_extension": ".py",
   "mimetype": "text/x-python",
   "name": "python",
   "nbconvert_exporter": "python",
   "pygments_lexer": "ipython3",
   "version": "3.7.3"
  }
 },
 "nbformat": 4,
 "nbformat_minor": 2
}
