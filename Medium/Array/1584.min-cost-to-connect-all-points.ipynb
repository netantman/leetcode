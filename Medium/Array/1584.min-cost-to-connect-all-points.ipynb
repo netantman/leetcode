{
 "cells": [
  {
   "cell_type": "markdown",
   "metadata": {},
   "source": [
    "## Attempt 1 - Accepted"
   ]
  },
  {
   "cell_type": "code",
   "execution_count": null,
   "metadata": {},
   "outputs": [],
   "source": [
    "class Solution:\n",
    "    def minCostConnectPoints(self, points: List[List[int]]) -> int:\n",
    "        L = len(points)\n",
    "        if L < 2:\n",
    "            return 0\n",
    "        distances = [(abs(points[i][0] - points[j][0]) + abs(points[i][1] - points[j][1]), i, j) for i in range(L) for j in range(L) if i < j]\n",
    "        distances = sorted(distances, key=lambda x: x[0])\n",
    "        visited = set()\n",
    "        cost = 0\n",
    "        \n",
    "        dist, i, j = distances.pop(0)\n",
    "        visited.add(i)\n",
    "        visited.add(j)\n",
    "        cost += dist\n",
    "        \n",
    "        while len(visited) < L:\n",
    "            idx = 0\n",
    "            while idx < len(distances):\n",
    "                dist, i, j = distances[idx]\n",
    "                if (i not in visited) and (j in visited):\n",
    "                    visited.add(i)\n",
    "                    cost += dist\n",
    "                    break\n",
    "                if (i in visited) and (j not in visited):\n",
    "                    visited.add(j)\n",
    "                    cost += dist\n",
    "                    break\n",
    "                idx += 1\n",
    "            distances.pop(idx)\n",
    "        \n",
    "        return cost"
   ]
  },
  {
   "cell_type": "markdown",
   "metadata": {},
   "source": [
    "## Lessons and Thoughts\n",
    "- You implemented the minimum spanning tree algo!"
   ]
  }
 ],
 "metadata": {
  "kernelspec": {
   "display_name": "Python 3",
   "language": "python",
   "name": "python3"
  },
  "language_info": {
   "codemirror_mode": {
    "name": "ipython",
    "version": 3
   },
   "file_extension": ".py",
   "mimetype": "text/x-python",
   "name": "python",
   "nbconvert_exporter": "python",
   "pygments_lexer": "ipython3",
   "version": "3.7.3"
  }
 },
 "nbformat": 4,
 "nbformat_minor": 2
}
