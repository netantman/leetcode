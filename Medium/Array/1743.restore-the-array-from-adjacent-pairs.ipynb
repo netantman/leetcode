{
 "cells": [
  {
   "cell_type": "markdown",
   "metadata": {},
   "source": [
    "## Attempt 1 - Time Limit Exceeded"
   ]
  },
  {
   "cell_type": "code",
   "execution_count": null,
   "metadata": {},
   "outputs": [],
   "source": [
    "class Solution:\n",
    "    def restoreArray(self, adjacentPairs: List[List[int]]) -> List[int]:\n",
    "        record = defaultdict(set)\n",
    "        for pair in adjacentPairs:\n",
    "            a, b = tuple(pair)\n",
    "            record[a].add(b)\n",
    "            record[b].add(a)\n",
    "        L = len(record)\n",
    "        tip = [k for k in record.keys() if len(record[k]) < 2]\n",
    "        curr = tip[0]\n",
    "        res = [curr]\n",
    "        while len(res) < L:\n",
    "            for n in record[curr]:\n",
    "                if n in res:\n",
    "                    continue\n",
    "                res.append(n)\n",
    "                curr = n\n",
    "                break\n",
    "        return res"
   ]
  },
  {
   "cell_type": "markdown",
   "metadata": {},
   "source": [
    "## Attempt 2 - Accepted"
   ]
  },
  {
   "cell_type": "code",
   "execution_count": null,
   "metadata": {},
   "outputs": [],
   "source": [
    "class Solution:\n",
    "    def restoreArray(self, adjacentPairs: List[List[int]]) -> List[int]:\n",
    "        record = defaultdict(set)\n",
    "        for pair in adjacentPairs:\n",
    "            a, b = tuple(pair)\n",
    "            record[a].add(b)\n",
    "            record[b].add(a)\n",
    "        L = len(record)\n",
    "        tip = [k for k in record.keys() if len(record[k]) < 2]\n",
    "        curr = tip[0]\n",
    "        res = [curr]\n",
    "        while len(res) < L:\n",
    "            nexxt = record[curr].pop()\n",
    "            record[nexxt].remove(curr)\n",
    "            curr = nexxt\n",
    "            res.append(curr)\n",
    "        return res"
   ]
  },
  {
   "cell_type": "markdown",
   "metadata": {},
   "source": [
    "## Lessons and Thoughts\n",
    "- Accepted solution is from apps. So it seems even traversing a list of 2 elements is too much for some cases.\n",
    "- `pop` and `remove` methods for `set` in python."
   ]
  }
 ],
 "metadata": {
  "kernelspec": {
   "display_name": "Python 3",
   "language": "python",
   "name": "python3"
  },
  "language_info": {
   "codemirror_mode": {
    "name": "ipython",
    "version": 3
   },
   "file_extension": ".py",
   "mimetype": "text/x-python",
   "name": "python",
   "nbconvert_exporter": "python",
   "pygments_lexer": "ipython3",
   "version": "3.7.3"
  }
 },
 "nbformat": 4,
 "nbformat_minor": 2
}
