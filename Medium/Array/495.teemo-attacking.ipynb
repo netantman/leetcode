{
 "cells": [
  {
   "cell_type": "markdown",
   "metadata": {},
   "source": [
    "## Attempt 1 - Runtime Error"
   ]
  },
  {
   "cell_type": "code",
   "execution_count": null,
   "metadata": {},
   "outputs": [],
   "source": [
    "class Solution:\n",
    "    def findPoisonedDuration(self, timeSeries: List[int], duration: int) -> int:\n",
    "        res=0 ##-> did not handle empty list\n",
    "        start, end=None, None\n",
    "        for t in timeSeries:\n",
    "            if start==None:\n",
    "                start,end=t,t+duration\n",
    "            else:\n",
    "                if t<=end:\n",
    "                    end=t+duration\n",
    "                else:\n",
    "                    res+=(end-start)\n",
    "                    start, end=t, t+duration\n",
    "        ## --> did not collect the last interval\n",
    "        return res"
   ]
  },
  {
   "cell_type": "markdown",
   "metadata": {},
   "source": [
    "## Attempt 2 - Accepted"
   ]
  },
  {
   "cell_type": "code",
   "execution_count": null,
   "metadata": {},
   "outputs": [],
   "source": [
    "class Solution:\n",
    "    def findPoisonedDuration(self, timeSeries: List[int], duration: int) -> int:\n",
    "        if len(timeSeries)<1:\n",
    "            return 0\n",
    "        res=0\n",
    "        start, end=None, None\n",
    "        for t in timeSeries:\n",
    "            if start==None:\n",
    "                start,end=t,t+duration\n",
    "            else:\n",
    "                if t<=end:\n",
    "                    end=t+duration\n",
    "                else:\n",
    "                    res+=(end-start)\n",
    "                    start, end=t, t+duration\n",
    "        res+=(end-start)\n",
    "        return res"
   ]
  },
  {
   "cell_type": "markdown",
   "metadata": {},
   "source": [
    "## Lessons and Thoughts\n",
    "- It is similar to Problem 59. Just remember to collect the last interval!"
   ]
  }
 ],
 "metadata": {
  "kernelspec": {
   "display_name": "Python 3",
   "language": "python",
   "name": "python3"
  },
  "language_info": {
   "codemirror_mode": {
    "name": "ipython",
    "version": 3
   },
   "file_extension": ".py",
   "mimetype": "text/x-python",
   "name": "python",
   "nbconvert_exporter": "python",
   "pygments_lexer": "ipython3",
   "version": "3.7.3"
  }
 },
 "nbformat": 4,
 "nbformat_minor": 2
}
