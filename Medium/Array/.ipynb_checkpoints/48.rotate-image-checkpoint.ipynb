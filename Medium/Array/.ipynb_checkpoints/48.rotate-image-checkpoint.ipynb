{
 "cells": [
  {
   "cell_type": "markdown",
   "metadata": {},
   "source": [
    "## Attempt 1 - Wrong Answer"
   ]
  },
  {
   "cell_type": "code",
   "execution_count": null,
   "metadata": {},
   "outputs": [],
   "source": [
    "class Solution:\n",
    "    def rotate(self, matrix: List[List[int]]) -> None:\n",
    "        \"\"\"\n",
    "        Do not return anything, modify matrix in-place instead.\n",
    "        \"\"\"\n",
    "\n",
    "        cache=set()\n",
    "        dim=len(matrix)\n",
    "        for row in range(dim):\n",
    "            for col in range(dim):\n",
    "                if ((row, col) not in cache) and ((col, row) not in cache):\n",
    "                    temp=matrix[row][col]\n",
    "                    matrix[row][col]=matrix[col][row] ## --> get the definition wrong, this is transpose, not rotation!\n",
    "                    matrix[col][row]=temp\n",
    "                    if row==col:\n",
    "                        cache.add((row, col))\n",
    "                    else:\n",
    "                        cache.add((row, col))\n",
    "                        cache.add((col, row))\n",
    "        return"
   ]
  },
  {
   "cell_type": "markdown",
   "metadata": {},
   "source": [
    "## Attempt 2 - Accepted"
   ]
  },
  {
   "cell_type": "code",
   "execution_count": null,
   "metadata": {},
   "outputs": [],
   "source": [
    "class Solution:\n",
    "    def rotate(self, matrix: List[List[int]]) -> None:\n",
    "        \"\"\"\n",
    "        Do not return anything, modify matrix in-place instead.\n",
    "        \"\"\"\n",
    "\n",
    "        rotated=set()\n",
    "        dim=len(matrix)\n",
    "        for row in range(dim):\n",
    "            for col in range(dim):\n",
    "                if (row, col) not in rotated:\n",
    "                    matrix[col][dim-1-row], matrix[dim-1-row][dim-1-col], matrix[dim-1-col][row], matrix[row][col] = matrix[row][col], matrix[col][dim-1-row], matrix[dim-1-row][dim-1-col], matrix[dim-1-col][row]\n",
    "                    rotated.add((row, col))\n",
    "                    rotated.add((col, dim-1-row))\n",
    "                    rotated.add((dim-1-row, dim-1-col))\n",
    "                    rotated.add((dim-1-col, row))\n",
    "        return"
   ]
  },
  {
   "cell_type": "markdown",
   "metadata": {},
   "source": [
    "## Lessons and Thoughts\n",
    "- Same caching idea applies to rotation as well"
   ]
  }
 ],
 "metadata": {
  "kernelspec": {
   "display_name": "Python 3",
   "language": "python",
   "name": "python3"
  },
  "language_info": {
   "codemirror_mode": {
    "name": "ipython",
    "version": 3
   },
   "file_extension": ".py",
   "mimetype": "text/x-python",
   "name": "python",
   "nbconvert_exporter": "python",
   "pygments_lexer": "ipython3",
   "version": "3.7.3"
  }
 },
 "nbformat": 4,
 "nbformat_minor": 2
}
