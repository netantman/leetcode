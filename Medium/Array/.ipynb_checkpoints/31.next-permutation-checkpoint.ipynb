{
 "cells": [
  {
   "cell_type": "markdown",
   "metadata": {},
   "source": [
    "## Attempt 1 - Index Out of Range"
   ]
  },
  {
   "cell_type": "code",
   "execution_count": null,
   "metadata": {},
   "outputs": [],
   "source": [
    "class Solution:\n",
    "    def nextPermutation(self, nums: List[int]) -> None:\n",
    "        \"\"\"\n",
    "        \"\"\"\n",
    "        \n",
    "        if len(nums)<=1:\n",
    "            return\n",
    "        \n",
    "        len_nums=len(nums)\n",
    "        up=len_nums-2\n",
    "        while up>=0:\n",
    "            if nums[up]>=nums[up+1]:\n",
    "                up-=1\n",
    "            else:\n",
    "                low=up+1\n",
    "                while (nums[up]<nums[low]) and (low<len_nums): ## --> should check range before accessing array!\n",
    "                    low+=1\n",
    "                if low==len_nums:\n",
    "                    temp=nums[up]\n",
    "                    nums[up]=nums[-1]\n",
    "                    nums[-1]=temp\n",
    "                else:\n",
    "                    temp=nums[up]\n",
    "                    nums[up]=nums[low]\n",
    "                    nums[low]=temp\n",
    "                reverse=nums[up+1:]\n",
    "                reverse=reverse[::-1]\n",
    "                nums[up+1:]=reverse\n",
    "                return\n",
    "        nums=nums[::-1]\n",
    "        return"
   ]
  },
  {
   "cell_type": "markdown",
   "metadata": {},
   "source": [
    "## Attempt 2 - Wrong Answer"
   ]
  },
  {
   "cell_type": "code",
   "execution_count": null,
   "metadata": {},
   "outputs": [],
   "source": [
    "class Solution:\n",
    "    def nextPermutation(self, nums: List[int]) -> None:\n",
    "        \"\"\"\n",
    "        \"\"\"\n",
    "        \n",
    "        if len(nums)<=1:\n",
    "            return\n",
    "        \n",
    "        len_nums=len(nums)\n",
    "        up=len_nums-2\n",
    "        while up>=0:\n",
    "            if nums[up]>=nums[up+1]:\n",
    "                up-=1\n",
    "            else:\n",
    "                low=up+1\n",
    "                while (low<len_nums) and (nums[up]<nums[low]): ## --> should check range before accessing array!\n",
    "                    low+=1\n",
    "                if low==len_nums:\n",
    "                    temp=nums[up]\n",
    "                    nums[up]=nums[-1]\n",
    "                    nums[-1]=temp\n",
    "                else:\n",
    "                    temp=nums[up]\n",
    "                    nums[up]=nums[low]\n",
    "                    nums[low]=temp\n",
    "                reverse=nums[up+1:]\n",
    "                reverse=reverse[::-1]\n",
    "                nums[up+1:]=reverse\n",
    "                return\n",
    "        nums=nums[::-1] ## --> this only rebinds nums, does not change it in place\n",
    "        return"
   ]
  },
  {
   "cell_type": "markdown",
   "metadata": {},
   "source": [
    "## Attempt 3 - Accepted"
   ]
  },
  {
   "cell_type": "code",
   "execution_count": null,
   "metadata": {},
   "outputs": [],
   "source": [
    "class Solution:\n",
    "    def nextPermutation(self, nums: List[int]) -> None:\n",
    "        \"\"\"\n",
    "        \"\"\"\n",
    "        \n",
    "        if len(nums)<=1:\n",
    "            return\n",
    "        \n",
    "        len_nums=len(nums)\n",
    "        up=len_nums-2\n",
    "        while up>=0:\n",
    "            if nums[up]>=nums[up+1]:\n",
    "                up-=1\n",
    "            else:\n",
    "                low=up+1\n",
    "                while (low<len_nums) and (nums[up]<nums[low]):\n",
    "                    low+=1\n",
    "                if low==len_nums:\n",
    "                    temp=nums[up]\n",
    "                    nums[up]=nums[-1]\n",
    "                    nums[-1]=temp\n",
    "                else:\n",
    "                    temp=nums[up]\n",
    "                    nums[up]=nums[low-1]\n",
    "                    nums[low-1]=temp\n",
    "                reverse=nums[up+1:]\n",
    "                reverse=reverse[::-1]\n",
    "                nums[up+1:]=reverse\n",
    "                return\n",
    "        nums[::]=nums[::-1]\n",
    "        return"
   ]
  },
  {
   "cell_type": "markdown",
   "metadata": {},
   "source": [
    "## Lessons and Thoughts\n",
    "- Should check range before accessing array!\n",
    "- The way to change a list in place"
   ]
  }
 ],
 "metadata": {
  "kernelspec": {
   "display_name": "Python 3",
   "language": "python",
   "name": "python3"
  },
  "language_info": {
   "codemirror_mode": {
    "name": "ipython",
    "version": 3
   },
   "file_extension": ".py",
   "mimetype": "text/x-python",
   "name": "python",
   "nbconvert_exporter": "python",
   "pygments_lexer": "ipython3",
   "version": "3.7.3"
  }
 },
 "nbformat": 4,
 "nbformat_minor": 2
}
