{
 "cells": [
  {
   "cell_type": "markdown",
   "metadata": {},
   "source": [
    "## Attempt 1 - Wrong Answer"
   ]
  },
  {
   "cell_type": "code",
   "execution_count": null,
   "metadata": {},
   "outputs": [],
   "source": [
    "class Solution:\n",
    "    def maxArea(self, height: List[int]) -> int:\n",
    "        if len(height)==2:\n",
    "            return min(height[0], height[1])*1\n",
    "        left, right = 1, len(height)-1\n",
    "        area = min(left, right)*(right-left)  ## typo here!\n",
    "        while right>left+1:\n",
    "            if height[left]<height[right]:\n",
    "                left+=1\n",
    "            elif height[right]>height[left]: \n",
    "                right-=1\n",
    "            else:\n",
    "                temp=left\n",
    "                while temp<right:\n",
    "                    if height[temp]<=height[left]:\n",
    "                        temp+=1\n",
    "                    else:\n",
    "                        break\n",
    "                if temp==right:\n",
    "                    area=max(area, min(height[left], height[right])*(right-left))\n",
    "                    break\n",
    "                else:\n",
    "                    if temp-left<right-temp:\n",
    "                        left=temp\n",
    "                    else:\n",
    "                        right=temp\n",
    "            area=max(area, min(height[left], height[right])*(right-left))\n",
    "        return area"
   ]
  },
  {
   "cell_type": "markdown",
   "metadata": {},
   "source": [
    "## Attempt 2 - Wrong Answer"
   ]
  },
  {
   "cell_type": "code",
   "execution_count": null,
   "metadata": {},
   "outputs": [],
   "source": [
    "class Solution:\n",
    "    def maxArea(self, height: List[int]) -> int:\n",
    "        if len(height)==2:\n",
    "            return min(height[0], height[1])*1\n",
    "        left, right = 1, len(height)-1  ## another typo here...\n",
    "        area = min(height[left], height[right])*(right-left)\n",
    "        while right>left+1:\n",
    "            if height[left]<height[right]:\n",
    "                left+=1\n",
    "            elif height[right]>height[left]: \n",
    "                right-=1\n",
    "            else:\n",
    "                temp=left\n",
    "                while temp<right:\n",
    "                    if height[temp]<=height[left]:\n",
    "                        temp+=1\n",
    "                    else:\n",
    "                        break\n",
    "                if temp==right:\n",
    "                    area=max(area, min(height[left], height[right])*(right-left))\n",
    "                    break\n",
    "                else:\n",
    "                    if temp-left<right-temp:\n",
    "                        left=temp\n",
    "                    else:\n",
    "                        right=temp\n",
    "            area=max(area, min(height[left], height[right])*(right-left))\n",
    "        return area"
   ]
  },
  {
   "cell_type": "markdown",
   "metadata": {},
   "source": [
    "## Attempt 3 - Wrong Answer"
   ]
  },
  {
   "cell_type": "code",
   "execution_count": null,
   "metadata": {},
   "outputs": [],
   "source": [
    "class Solution:\n",
    "    def maxArea(self, height: List[int]) -> int:\n",
    "        if len(height)==2:\n",
    "            return min(height[0], height[1])*1\n",
    "        left, right = 0, len(height)-1  \n",
    "        area = min(height[left], height[right])*(right-left)\n",
    "        while right>left+1:\n",
    "            if height[left]<height[right]:\n",
    "                left+=1\n",
    "            elif height[right]>height[left]: ## another typo here... \n",
    "                right-=1\n",
    "            else:\n",
    "                temp=left\n",
    "                while temp<right:\n",
    "                    if height[temp]<=height[left]:\n",
    "                        temp+=1\n",
    "                    else:\n",
    "                        break\n",
    "                if temp==right:\n",
    "                    area=max(area, min(height[left], height[right])*(right-left))\n",
    "                    break\n",
    "                else:\n",
    "                    if temp-left<right-temp:\n",
    "                        left=temp\n",
    "                    else:\n",
    "                        right=temp\n",
    "            area=max(area, min(height[left], height[right])*(right-left))\n",
    "        return area"
   ]
  },
  {
   "cell_type": "markdown",
   "metadata": {},
   "source": [
    "## Attempt 4 - Wrong Answer"
   ]
  },
  {
   "cell_type": "code",
   "execution_count": null,
   "metadata": {},
   "outputs": [],
   "source": [
    "class Solution:\n",
    "    def maxArea(self, height: List[int]) -> int:\n",
    "        if len(height)==2:\n",
    "            return min(height[0], height[1])*1\n",
    "        left, right = 0, len(height)-1\n",
    "        area = min(height[left], height[right])*(right-left)\n",
    "        while right>left+1:\n",
    "            if height[left]<height[right]:\n",
    "                left+=1\n",
    "            elif height[right]<height[left]: \n",
    "                right-=1\n",
    "            else:  ## -> the case for height[left]==height[right] is not thoroughly considered\n",
    "                temp=left\n",
    "                while temp<right:\n",
    "                    if height[temp]<=height[left]:\n",
    "                        temp+=1\n",
    "                    else:\n",
    "                        break\n",
    "                if temp==right:\n",
    "                    area=max(area, min(height[left], height[right])*(right-left))\n",
    "                    break\n",
    "                else:\n",
    "                    if temp-left<right-temp:\n",
    "                        left=temp\n",
    "                    else:\n",
    "                        right=temp\n",
    "            area=max(area, min(height[left], height[right])*(right-left))\n",
    "        return area"
   ]
  },
  {
   "cell_type": "markdown",
   "metadata": {},
   "source": [
    "## Attempt 5 - Accepted"
   ]
  },
  {
   "cell_type": "code",
   "execution_count": null,
   "metadata": {},
   "outputs": [],
   "source": [
    "class Solution:\n",
    "    def maxArea(self, height: List[int]) -> int:\n",
    "        if len(height)==2:\n",
    "            return min(height[0], height[1])*1\n",
    "        left, right = 0, len(height)-1\n",
    "        area = min(height[left], height[right])*(right-left)\n",
    "        while right>left+1:\n",
    "            if height[left]<height[right]:\n",
    "                left+=1\n",
    "            elif height[right]<height[left]: \n",
    "                right-=1\n",
    "            else:\n",
    "                l=left\n",
    "                while l<right:\n",
    "                    if height[l]<=height[left]:\n",
    "                        l+=1\n",
    "                    else:\n",
    "                        break\n",
    "                if l==right:\n",
    "                    area=max(area, min(height[left], height[right])*(right-left))\n",
    "                    break\n",
    "                r=right\n",
    "                while r>left:\n",
    "                    if height[r]<=height[right]:\n",
    "                        r-=1\n",
    "                    else:\n",
    "                        break\n",
    "                if min(height[left], height[r])*(r-left)<min(height[l], height[right])*(right-l):\n",
    "                    left = l\n",
    "                else:\n",
    "                    right = r\n",
    "            area=max(area, min(height[left], height[right])*(right-left))\n",
    "        return area"
   ]
  },
  {
   "cell_type": "markdown",
   "metadata": {},
   "source": [
    "## Lessons and Thoughts\n",
    "- There seems no effective method to safeguard against typoes, other than to manually run the code on examples more carefully.\n",
    "- This is a case where it is not thoroughly thought out how the two pointer algo works."
   ]
  }
 ],
 "metadata": {
  "kernelspec": {
   "display_name": "Python 3",
   "language": "python",
   "name": "python3"
  },
  "language_info": {
   "codemirror_mode": {
    "name": "ipython",
    "version": 3
   },
   "file_extension": ".py",
   "mimetype": "text/x-python",
   "name": "python",
   "nbconvert_exporter": "python",
   "pygments_lexer": "ipython3",
   "version": "3.7.3"
  }
 },
 "nbformat": 4,
 "nbformat_minor": 2
}
