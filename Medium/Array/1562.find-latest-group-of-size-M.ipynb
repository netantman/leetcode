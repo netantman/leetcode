{
 "cells": [
  {
   "cell_type": "markdown",
   "metadata": {},
   "source": [
    "## Attempt 1 - Time Limit Exceeded"
   ]
  },
  {
   "cell_type": "code",
   "execution_count": null,
   "metadata": {},
   "outputs": [],
   "source": [
    "class Solution:\n",
    "    def findLatestStep(self, arr: List[int], m: int) -> int:\n",
    "        def check_groups(groups):\n",
    "            check = [gr for gr in groups if len(gr) == m]\n",
    "            return len(check) > 0\n",
    "\n",
    "        record = [\"0\" for _ in range(len(arr) + 1)]\n",
    "        res = -1\n",
    "        for idx, a in enumerate(arr, start=1):\n",
    "            record[a] = \"1\"\n",
    "            binary = \"\".join(record)\n",
    "            groups = binary.split(\"0\")\n",
    "            if check_groups(groups):\n",
    "                res = idx\n",
    "        return res"
   ]
  },
  {
   "cell_type": "markdown",
   "metadata": {},
   "source": [
    "## Attempt 2 - Accepted"
   ]
  },
  {
   "cell_type": "code",
   "execution_count": null,
   "metadata": {},
   "outputs": [],
   "source": [
    "class Solution:\n",
    "    def findLatestStep(self, arr: List[int], m: int) -> int:\n",
    "        n = len(arr)\n",
    "        endpoints = [(-1, -1) for _ in range(n + 1)]\n",
    "        cnt = 0\n",
    "        ret = -1\n",
    "        \n",
    "        for i in range(n):\n",
    "            left = right = arr[i]\n",
    "            if arr[i] > 1 and endpoints[arr[i] - 1][0] != -1:\n",
    "                left = endpoints[arr[i] - 1][0]\n",
    "                leftLength = endpoints[arr[i] - 1][1] - endpoints[arr[i] - 1][0] + 1\n",
    "                if leftLength == m:\n",
    "                    cnt -= 1\n",
    "            if arr[i] < n and endpoints[arr[i] + 1][1] != -1:\n",
    "                right = endpoints[arr[i] + 1][1]\n",
    "                rightLength = endpoints[arr[i] + 1][1] - endpoints[arr[i] + 1][0] + 1\n",
    "                if rightLength == m:\n",
    "                    cnt -= 1\n",
    "            \n",
    "            length = right - left + 1\n",
    "            if length == m:\n",
    "                cnt += 1\n",
    "            if cnt > 0:\n",
    "                ret = i + 1\n",
    "            endpoints[left] = endpoints[right] = (left, right)\n",
    "        \n",
    "        return ret"
   ]
  },
  {
   "cell_type": "markdown",
   "metadata": {},
   "source": [
    "## Lessons and Thoughts\n",
    "- The accepted solution is from the apps. The idea is to maintain an `endpoints` corresponding to the binary, recording the left and right endpoints if the position is \"1\", otherwise null (or some other indicator).\n",
    "- Not sure why it is labeled \"Binary Search\"."
   ]
  }
 ],
 "metadata": {
  "kernelspec": {
   "display_name": "Python 3",
   "language": "python",
   "name": "python3"
  },
  "language_info": {
   "codemirror_mode": {
    "name": "ipython",
    "version": 3
   },
   "file_extension": ".py",
   "mimetype": "text/x-python",
   "name": "python",
   "nbconvert_exporter": "python",
   "pygments_lexer": "ipython3",
   "version": "3.7.3"
  }
 },
 "nbformat": 4,
 "nbformat_minor": 2
}
