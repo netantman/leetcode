{
 "cells": [
  {
   "cell_type": "markdown",
   "metadata": {},
   "source": [
    "## Attempt 1 - Accepted"
   ]
  },
  {
   "cell_type": "code",
   "execution_count": null,
   "metadata": {},
   "outputs": [],
   "source": [
    "class Solution:\n",
    "    def numWays(self, s: str) -> int:\n",
    "        pos = []\n",
    "        for idx, c in enumerate(s):\n",
    "            if c == \"1\":\n",
    "                pos.append(idx)\n",
    "        if len(pos) % 3 > 0:\n",
    "            return 0\n",
    "        if len(pos) < 1:\n",
    "            return ((len(s) - 1) * (len(s) - 2) // 2) % (10 ** 9 + 7)\n",
    "        \n",
    "        L = len(pos)\n",
    "        res = (pos[L // 3] - pos[L // 3 - 1]) * (pos[2 * L // 3] - pos[2 * L // 3 - 1])\n",
    "        return res % (10 ** 9 + 7)"
   ]
  },
  {
   "cell_type": "markdown",
   "metadata": {},
   "source": [
    "## Lessons and Thoughts\n",
    "- Just recognize that the only variation comes from the zeros in between ones at the designated places."
   ]
  }
 ],
 "metadata": {
  "kernelspec": {
   "display_name": "Python 3",
   "language": "python",
   "name": "python3"
  },
  "language_info": {
   "codemirror_mode": {
    "name": "ipython",
    "version": 3
   },
   "file_extension": ".py",
   "mimetype": "text/x-python",
   "name": "python",
   "nbconvert_exporter": "python",
   "pygments_lexer": "ipython3",
   "version": "3.7.3"
  }
 },
 "nbformat": 4,
 "nbformat_minor": 2
}
