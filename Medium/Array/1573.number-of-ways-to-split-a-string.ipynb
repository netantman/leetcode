{
 "cells": [
  {
   "cell_type": "markdown",
   "metadata": {},
   "source": [
    "## Attempt 1 - Accepted"
   ]
  },
  {
   "cell_type": "code",
   "execution_count": null,
   "metadata": {},
   "outputs": [],
   "source": [
    "class Solution:\n",
    "    def numWays(self, s: str) -> int:\n",
    "        pos = []\n",
    "        for idx, c in enumerate(s):\n",
    "            if c == \"1\":\n",
    "                pos.append(idx)\n",
    "        if len(pos) % 3 > 0:\n",
    "            return 0\n",
    "        if len(pos) < 1:\n",
    "            return ((len(s) - 1) * (len(s) - 2) // 2) % (10 ** 9 + 7)\n",
    "        \n",
    "        L = len(pos)\n",
    "        res = (pos[L // 3] - pos[L // 3 - 1]) * (pos[2 * L // 3] - pos[2 * L // 3 - 1])\n",
    "        return res % (10 ** 9 + 7)"
   ]
  },
  {
   "cell_type": "markdown",
   "metadata": {},
   "source": [
    "## Attempt 1 - Accepted"
   ]
  },
  {
   "cell_type": "code",
   "execution_count": null,
   "metadata": {},
   "outputs": [],
   "source": [
    "class Solution {\n",
    "public:\n",
    "    int numWays(string s) {\n",
    "        int ones = 0;\n",
    "        int L = s.size();\n",
    "        long long mod = 1e9 + 7;\n",
    "        for (char c : s) { ## Each element in std::string is char\n",
    "            if (c == '1') { ## Note that single quotes vs double quotes matters in C++!\n",
    "                ones++;\n",
    "            }\n",
    "        }\n",
    "        if (ones % 3 > 0) {\n",
    "            return 0;\n",
    "        }\n",
    "        if (ones == 0) { ## Important edge case\n",
    "            long long res = (((L - 1) % mod) * ((L - 2) % mod) / 2) % mod; ## In C++ you need to worry about overflow.\n",
    "            return res;\n",
    "        }\n",
    "        int one_third = ones / 3;\n",
    "        int cnt = 0;\n",
    "        int l1 = -1;\n",
    "        int r1 = -1;\n",
    "        int l2 = -1;\n",
    "        int r2 = -1;\n",
    "        for (unsigned idx = 0; idx < L; ++idx) { ## Another way to traverse a string\n",
    "            char c = s[idx];\n",
    "            if (c == '1') {\n",
    "                cnt++;\n",
    "            }\n",
    "            if ((cnt == one_third) && (l1 < 0)) {\n",
    "                l1 = idx;\n",
    "            }\n",
    "            if ((cnt == one_third + 1) && (r1 < 0)) {\n",
    "                r1 = idx;\n",
    "            }\n",
    "            if ((cnt == 2 * one_third) && (l2 < 0)) {\n",
    "                l2 = idx;\n",
    "            }\n",
    "            if ((cnt == 2 * one_third + 1) && (r2 < 0)) {\n",
    "                r2 = idx;\n",
    "            }\n",
    "            if ((l1 > 0) && (r1 > 0) && (l2 > 0) && (r2 > 0)) {\n",
    "                break;\n",
    "            }\n",
    "        }\n",
    "        long long res = (((r1 - l1) % mod) * ((r2 - l2) % mod)) % mod;\n",
    "        return res;\n",
    "    }\n",
    "};"
   ]
  },
  {
   "cell_type": "markdown",
   "metadata": {},
   "source": [
    "## Lessons and Thoughts\n",
    "- Just recognize that the only variation comes from the zeros in between ones at the designated places."
   ]
  }
 ],
 "metadata": {
  "kernelspec": {
   "display_name": "Python 3",
   "language": "python",
   "name": "python3"
  },
  "language_info": {
   "codemirror_mode": {
    "name": "ipython",
    "version": 3
   },
   "file_extension": ".py",
   "mimetype": "text/x-python",
   "name": "python",
   "nbconvert_exporter": "python",
   "pygments_lexer": "ipython3",
   "version": "3.7.3"
  }
 },
 "nbformat": 4,
 "nbformat_minor": 2
}
