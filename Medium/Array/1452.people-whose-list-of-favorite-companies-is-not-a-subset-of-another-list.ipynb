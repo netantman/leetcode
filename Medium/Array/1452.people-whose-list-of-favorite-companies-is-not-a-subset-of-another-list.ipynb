{
 "cells": [
  {
   "cell_type": "markdown",
   "metadata": {},
   "source": [
    "## Attempt 1 - Accepted"
   ]
  },
  {
   "cell_type": "code",
   "execution_count": null,
   "metadata": {},
   "outputs": [],
   "source": [
    "class Solution:\n",
    "    def peopleIndexes(self, favoriteCompanies: List[List[str]]) -> List[int]:\n",
    "        tmp = [set(f) for f in favoriteCompanies]\n",
    "        L = len(tmp)\n",
    "        res = []\n",
    "        for i in range(L):\n",
    "            for j in range(L):\n",
    "                if j == i or tmp[j] <= tmp[i]:\n",
    "                    continue\n",
    "                if tmp[i].issubset(tmp[j]):\n",
    "                    break\n",
    "            else:\n",
    "                res.append(i)\n",
    "        return res"
   ]
  },
  {
   "cell_type": "markdown",
   "metadata": {},
   "source": [
    "## Lessons and Thoughts\n",
    "- Brute force\n",
    "- `issubset()` method in `python`"
   ]
  }
 ],
 "metadata": {
  "kernelspec": {
   "display_name": "Python 3",
   "language": "python",
   "name": "python3"
  },
  "language_info": {
   "codemirror_mode": {
    "name": "ipython",
    "version": 3
   },
   "file_extension": ".py",
   "mimetype": "text/x-python",
   "name": "python",
   "nbconvert_exporter": "python",
   "pygments_lexer": "ipython3",
   "version": "3.7.3"
  }
 },
 "nbformat": 4,
 "nbformat_minor": 2
}
