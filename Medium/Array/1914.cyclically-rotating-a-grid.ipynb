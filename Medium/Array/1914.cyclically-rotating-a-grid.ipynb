{
 "cells": [
  {
   "cell_type": "markdown",
   "metadata": {},
   "source": [
    "## Attempt 1 - Wrong Answer"
   ]
  },
  {
   "cell_type": "code",
   "execution_count": null,
   "metadata": {},
   "outputs": [],
   "source": [
    "class Solution:\n",
    "    def rotateGrid(self, grid: List[List[int]], k: int) -> List[List[int]]:\n",
    "        R, C = len(grid), len(grid[0])\n",
    "        ans = [[None for _ in range(C)] for _ in range(R)]\n",
    "        \n",
    "        def rotate(nw, ne, se, sw):\n",
    "            pos, val = [], []\n",
    "            curr = [nw[0], nw[1]]\n",
    "            while curr[1] < ne[1]:\n",
    "                pos.append(tuple(curr))\n",
    "                val.append(grid[curr[0]][curr[1]])\n",
    "                curr[1] = curr[1] + 1\n",
    "            while curr[0] < se[0]:\n",
    "                pos.append(tuple(curr))\n",
    "                val.append(grid[curr[0]][curr[1]])\n",
    "                curr[0] = curr[0] + 1\n",
    "            while curr[1] > sw[1]:\n",
    "                pos.append(tuple(curr))\n",
    "                val.append(grid[curr[0]][curr[1]])\n",
    "                curr[1] = curr[1] - 1\n",
    "            while curr[0] > nw[0]:\n",
    "                pos.append(tuple(curr))\n",
    "                val.append(grid[curr[0]][curr[1]])\n",
    "                curr[0] = curr[0] - 1\n",
    "            # print(pos)\n",
    "            # print(val)\n",
    "            pos = pos[-k:] + pos[:-k] ## --> did not handle the case where k is longer than the length of pos\n",
    "            \n",
    "            for p, v in zip(pos, val):\n",
    "                r, c = p\n",
    "                ans[r][c] = v\n",
    "        \n",
    "        nw, ne, se, sw = [0, 0], [0, C - 1], [R - 1, C - 1], [R - 1, 0]\n",
    "        while nw[0] <= sw[0] and nw[1] <= ne[1]:\n",
    "            rotate(nw, ne, se, sw)\n",
    "            nw = [nw[0] + 1, nw[1] + 1]\n",
    "            ne = [ne[0] + 1, ne[1] - 1]\n",
    "            se = [se[0] - 1, se[1] - 1]\n",
    "            sw = [sw[0] - 1, sw[1] + 1]\n",
    "            \n",
    "        return ans"
   ]
  },
  {
   "cell_type": "markdown",
   "metadata": {},
   "source": [
    "## Attempt 2 - Accepted"
   ]
  },
  {
   "cell_type": "code",
   "execution_count": null,
   "metadata": {},
   "outputs": [],
   "source": [
    "class Solution:\n",
    "    def rotateGrid(self, grid: List[List[int]], k: int) -> List[List[int]]:\n",
    "        R, C = len(grid), len(grid[0])\n",
    "        ans = [[None for _ in range(C)] for _ in range(R)]\n",
    "        \n",
    "        def rotate(nw, ne, se, sw):\n",
    "            pos, val = [], []\n",
    "            curr = [nw[0], nw[1]]\n",
    "            while curr[1] < ne[1]:\n",
    "                pos.append(tuple(curr))\n",
    "                val.append(grid[curr[0]][curr[1]])\n",
    "                curr[1] = curr[1] + 1\n",
    "            while curr[0] < se[0]:\n",
    "                pos.append(tuple(curr))\n",
    "                val.append(grid[curr[0]][curr[1]])\n",
    "                curr[0] = curr[0] + 1\n",
    "            while curr[1] > sw[1]:\n",
    "                pos.append(tuple(curr))\n",
    "                val.append(grid[curr[0]][curr[1]])\n",
    "                curr[1] = curr[1] - 1\n",
    "            while curr[0] > nw[0]:\n",
    "                pos.append(tuple(curr))\n",
    "                val.append(grid[curr[0]][curr[1]])\n",
    "                curr[0] = curr[0] - 1\n",
    "            # print(pos)\n",
    "            # print(val)\n",
    "            s = k % len(pos)\n",
    "            pos = pos[-s:] + pos[:-s]\n",
    "            \n",
    "            for p, v in zip(pos, val):\n",
    "                r, c = p\n",
    "                ans[r][c] = v\n",
    "        \n",
    "        nw, ne, se, sw = [0, 0], [0, C - 1], [R - 1, C - 1], [R - 1, 0]\n",
    "        while nw[0] <= sw[0] and nw[1] <= ne[1]:\n",
    "            rotate(nw, ne, se, sw)\n",
    "            nw = [nw[0] + 1, nw[1] + 1]\n",
    "            ne = [ne[0] + 1, ne[1] - 1]\n",
    "            se = [se[0] - 1, se[1] - 1]\n",
    "            sw = [sw[0] - 1, sw[1] + 1]\n",
    "            \n",
    "        return ans"
   ]
  },
  {
   "cell_type": "markdown",
   "metadata": {},
   "source": [
    "## Lessons and Thoughts\n",
    "- The edge case that is missed is when the steps rotated is longer than the actual length of the array."
   ]
  }
 ],
 "metadata": {
  "kernelspec": {
   "display_name": "Python 3",
   "language": "python",
   "name": "python3"
  },
  "language_info": {
   "codemirror_mode": {
    "name": "ipython",
    "version": 3
   },
   "file_extension": ".py",
   "mimetype": "text/x-python",
   "name": "python",
   "nbconvert_exporter": "python",
   "pygments_lexer": "ipython3",
   "version": "3.7.3"
  }
 },
 "nbformat": 4,
 "nbformat_minor": 2
}
