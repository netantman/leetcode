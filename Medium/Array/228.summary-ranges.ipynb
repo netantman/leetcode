{
 "cells": [
  {
   "cell_type": "markdown",
   "metadata": {},
   "source": [
    "## Attempt 1 - Wrong Answer"
   ]
  },
  {
   "cell_type": "code",
   "execution_count": null,
   "metadata": {},
   "outputs": [],
   "source": [
    "class Solution:\n",
    "    def summaryRanges(self, nums: List[int]) -> List[str]:\n",
    "        if len(nums)<1:\n",
    "            return []\n",
    "        if len(nums)==1:\n",
    "            return [str(nums[0])]\n",
    "        \n",
    "        res=[]\n",
    "        start, end=nums[0],nums[0] ## --> nums should start with the next element now!\n",
    "        while len(nums)>0:\n",
    "            head=nums[0]\n",
    "            nums=nums[1:]\n",
    "            if head==end+1:\n",
    "                end+=1\n",
    "            else:\n",
    "                if end>start:\n",
    "                    res.append(\"{}->{}\".format(start, end))\n",
    "                else:\n",
    "                    res.append(str(start))\n",
    "                start, end=head, head\n",
    "        if end>start:\n",
    "            res.append(\"{}->{}\".format(start, end))\n",
    "        else:\n",
    "            res.append(str(start))\n",
    "            \n",
    "        return res"
   ]
  },
  {
   "cell_type": "markdown",
   "metadata": {},
   "source": [
    "## Attempt 2 - Accepted"
   ]
  },
  {
   "cell_type": "code",
   "execution_count": null,
   "metadata": {},
   "outputs": [],
   "source": [
    "class Solution:\n",
    "    def summaryRanges(self, nums: List[int]) -> List[str]:\n",
    "        if len(nums)<1:\n",
    "            return []\n",
    "        if len(nums)==1:\n",
    "            return [str(nums[0])]\n",
    "        \n",
    "        res=[]\n",
    "        start, end=nums[0],nums[0]\n",
    "        nums=nums[1:]\n",
    "        while len(nums)>0:\n",
    "            head=nums[0]\n",
    "            nums=nums[1:]\n",
    "            if head==end+1:\n",
    "                end+=1\n",
    "            else:\n",
    "                if end>start:\n",
    "                    res.append(\"{}->{}\".format(start, end))\n",
    "                else:\n",
    "                    res.append(str(start))\n",
    "                start, end=head, head\n",
    "            \n",
    "        if end>start:\n",
    "            res.append(\"{}->{}\".format(start, end))\n",
    "        else:\n",
    "            res.append(str(start))\n",
    "            \n",
    "        return res"
   ]
  },
  {
   "cell_type": "markdown",
   "metadata": {},
   "source": [
    "## Lessons and Thoughts\n",
    "- Took you a while to figure out that mistake."
   ]
  }
 ],
 "metadata": {
  "kernelspec": {
   "display_name": "Python 3",
   "language": "python",
   "name": "python3"
  },
  "language_info": {
   "codemirror_mode": {
    "name": "ipython",
    "version": 3
   },
   "file_extension": ".py",
   "mimetype": "text/x-python",
   "name": "python",
   "nbconvert_exporter": "python",
   "pygments_lexer": "ipython3",
   "version": "3.7.3"
  }
 },
 "nbformat": 4,
 "nbformat_minor": 2
}
