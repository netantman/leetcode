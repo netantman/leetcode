{
 "cells": [
  {
   "cell_type": "markdown",
   "metadata": {},
   "source": [
    "## Attempt 1 - Runtime Error"
   ]
  },
  {
   "cell_type": "code",
   "execution_count": null,
   "metadata": {},
   "outputs": [],
   "source": [
    "class Solution:\n",
    "    def generateMatrix(self, n: int) -> List[List[int]]:\n",
    "        idx=n*n\n",
    "        res=[[idx]]\n",
    "        while idx>1:\n",
    "            cols=len(res[0])\n",
    "            res=[list(range(idx-cols, idx))]+res ## --> before + it should be a list of list\n",
    "            idx-=cols\n",
    "            res=self.rotate(res)\n",
    "        return res\n",
    "        \n",
    "    \n",
    "    def rotate(self, matrix: List[List[int]]) -> List[List[int]]:\n",
    "        rows=len(matrix)\n",
    "        cols=len(matrix[0])  \n",
    "        rotate=[ [None for r in range(rows)] for c in range(cols) ]\n",
    "        for r in range(rows):\n",
    "            for c in range(cols):\n",
    "                rotate[c][rows-1-r] = matrix[r][c]\n",
    "        \n",
    "        return rotate"
   ]
  },
  {
   "cell_type": "markdown",
   "metadata": {},
   "source": [
    "## Attempt 2 - Wrong Answer"
   ]
  },
  {
   "cell_type": "code",
   "execution_count": null,
   "metadata": {},
   "outputs": [],
   "source": [
    "class Solution:\n",
    "    def generateMatrix(self, n: int) -> List[List[int]]:\n",
    "        idx=n*n\n",
    "        res=[[idx]]\n",
    "        while idx>1:\n",
    "            cols=len(res[0])\n",
    "            res=[list(range(idx-cols, idx))]+res\n",
    "            idx-=cols\n",
    "            res=self.rotate(res)  ## --> we should not rotate last\n",
    "        return res\n",
    "        \n",
    "    \n",
    "    def rotate(self, matrix: List[List[int]]) -> List[List[int]]:\n",
    "        rows=len(matrix)\n",
    "        cols=len(matrix[0])\n",
    "        rotate=[ [None for r in range(rows)] for c in range(cols) ]\n",
    "        for r in range(rows):\n",
    "            for c in range(cols):\n",
    "                rotate[c][rows-1-r] = matrix[r][c]\n",
    "        \n",
    "        return rotate"
   ]
  },
  {
   "cell_type": "markdown",
   "metadata": {},
   "source": [
    "## Attempt 3 - Accepted"
   ]
  },
  {
   "cell_type": "code",
   "execution_count": null,
   "metadata": {},
   "outputs": [],
   "source": [
    "class Solution:\n",
    "    def generateMatrix(self, n: int) -> List[List[int]]:\n",
    "        idx=n*n\n",
    "        res=[[idx]]\n",
    "        while idx>1:\n",
    "            res=self.rotate(res)\n",
    "            cols=len(res[0])\n",
    "            res=[list(range(idx-cols, idx))]+res\n",
    "            idx-=cols\n",
    "        return res\n",
    "        \n",
    "    \n",
    "    def rotate(self, matrix: List[List[int]]) -> List[List[int]]:\n",
    "        rows=len(matrix)\n",
    "        cols=len(matrix[0])\n",
    "        rotate=[ [None for r in range(rows)] for c in range(cols) ]\n",
    "        for r in range(rows):\n",
    "            for c in range(cols):\n",
    "                rotate[c][rows-1-r] = matrix[r][c]\n",
    "        \n",
    "        return rotate"
   ]
  },
  {
   "cell_type": "markdown",
   "metadata": {},
   "source": [
    "## Lessons and Thoughts\n",
    "- You could have found out the errors in attempt 2 if you run the code line by line."
   ]
  }
 ],
 "metadata": {
  "kernelspec": {
   "display_name": "Python 3",
   "language": "python",
   "name": "python3"
  },
  "language_info": {
   "codemirror_mode": {
    "name": "ipython",
    "version": 3
   },
   "file_extension": ".py",
   "mimetype": "text/x-python",
   "name": "python",
   "nbconvert_exporter": "python",
   "pygments_lexer": "ipython3",
   "version": "3.7.3"
  }
 },
 "nbformat": 4,
 "nbformat_minor": 2
}
