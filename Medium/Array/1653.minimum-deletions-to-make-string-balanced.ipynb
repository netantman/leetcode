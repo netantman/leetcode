{
 "cells": [
  {
   "cell_type": "markdown",
   "metadata": {},
   "source": [
    "## Attempt 1 - Wrong Answer"
   ]
  },
  {
   "cell_type": "code",
   "execution_count": null,
   "metadata": {},
   "outputs": [],
   "source": [
    "class Solution:\n",
    "    def minimumDeletions(self, s: str) -> int:\n",
    "        left = [None for _ in s]\n",
    "        right = [None for _ in s]\n",
    "        L = len(s)\n",
    "        \n",
    "        left[0] = 0\n",
    "        for idx in range(L - 1):\n",
    "            if s[idx] == \"b\":\n",
    "                left[idx + 1] = left[idx] + 1\n",
    "            else:\n",
    "                left[idx + 1] = left[idx]\n",
    "        \n",
    "        right[L - 1] = 1 if s[-1] == \"a\" else 0\n",
    "        for idx in range(L - 2, -1, -1):\n",
    "            if s[idx] == \"a\":  ## --> did not handle the edge case where there is only one element in s\n",
    "                right[idx] = right[idx + 1] + 1\n",
    "            else:\n",
    "                right[idx] = right[idx + 1]\n",
    "        \n",
    "        ## --> also should handle the case where the cutoff is at edge\n",
    "        \n",
    "        comb = [l + r for l, r in zip(left, right)]\n",
    "        return min(comb)"
   ]
  },
  {
   "cell_type": "markdown",
   "metadata": {},
   "source": [
    "## Attempt 2 - Accepted"
   ]
  },
  {
   "cell_type": "code",
   "execution_count": null,
   "metadata": {},
   "outputs": [],
   "source": [
    "class Solution:\n",
    "    def minimumDeletions(self, s: str) -> int:\n",
    "        L = len(s)\n",
    "        if L <= 1:\n",
    "            return 0\n",
    "        if len(set(s)) <= 1:\n",
    "            return 0\n",
    "        \n",
    "        left = [None for _ in s]\n",
    "        right = [None for _ in s]\n",
    "        \n",
    "        left[0] = 0\n",
    "        for idx in range(L - 1):\n",
    "            if s[idx] == \"b\":\n",
    "                left[idx + 1] = left[idx] + 1\n",
    "            else:\n",
    "                left[idx + 1] = left[idx]\n",
    "        left.append(left[-1])\n",
    "        \n",
    "        right[L - 1] = 1 if s[-1] == \"a\" else 0\n",
    "        for idx in range(L - 2, -1, -1):\n",
    "            if s[idx] == \"a\":\n",
    "                right[idx] = right[idx + 1] + 1\n",
    "            else:\n",
    "                right[idx] = right[idx + 1]\n",
    "        right.append(0)\n",
    "        \n",
    "        comb = [l + r for l, r in zip(left, right)]\n",
    "        return min(comb)"
   ]
  },
  {
   "cell_type": "markdown",
   "metadata": {},
   "source": [
    "## Lessons and Thoughts\n",
    "- The idea is to determine the cutoff. Note that it can be at either end of the `s`."
   ]
  }
 ],
 "metadata": {
  "kernelspec": {
   "display_name": "Python 3",
   "language": "python",
   "name": "python3"
  },
  "language_info": {
   "codemirror_mode": {
    "name": "ipython",
    "version": 3
   },
   "file_extension": ".py",
   "mimetype": "text/x-python",
   "name": "python",
   "nbconvert_exporter": "python",
   "pygments_lexer": "ipython3",
   "version": "3.7.3"
  }
 },
 "nbformat": 4,
 "nbformat_minor": 2
}
