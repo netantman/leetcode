{
 "cells": [
  {
   "cell_type": "markdown",
   "metadata": {},
   "source": [
    "## Attempt 1 - Time Limit Exceeded"
   ]
  },
  {
   "cell_type": "code",
   "execution_count": null,
   "metadata": {},
   "outputs": [],
   "source": [
    "class Solution:\n",
    "    def firstDayBeenInAllRooms(self, nextVisit: List[int]) -> int:\n",
    "        n = len(nextVisit)\n",
    "        not_visited = set(range(1, n))\n",
    "        rooms = {r: 0 for r in range(n)}\n",
    "        i, cnt = 0, 0\n",
    "        while not_visited:\n",
    "            rooms[i] ^= 1\n",
    "            if rooms[i] == 0:\n",
    "                i = (i + 1) % n\n",
    "            else:\n",
    "                i = nextVisit[i]\n",
    "            if i in not_visited:\n",
    "                not_visited.remove(i)\n",
    "            cnt += 1\n",
    "        return cnt % (10 ** 9 + 7)"
   ]
  },
  {
   "cell_type": "markdown",
   "metadata": {},
   "source": [
    "## Attempt 2 - Time Limit Exceeded"
   ]
  },
  {
   "cell_type": "code",
   "execution_count": null,
   "metadata": {},
   "outputs": [],
   "source": [
    "class Solution:\n",
    "    def firstDayBeenInAllRooms(self, nextVisit: List[int]) -> int:\n",
    "        dp = []\n",
    "        for idx, v in enumerate(nextVisit):\n",
    "            if idx == v:\n",
    "                dp.append(1)\n",
    "                continue\n",
    "            dp.append(sum(dp[v:]) + (idx - v) + 1) ## --> can use cumsum to optimize\n",
    "        # print(dp)\n",
    "        cnt = len(nextVisit) - 1 + sum(dp[:-1])\n",
    "        return cnt % (10 ** 9 + 7)"
   ]
  },
  {
   "cell_type": "markdown",
   "metadata": {},
   "source": [
    "## Attempt 3 - Accepted"
   ]
  },
  {
   "cell_type": "code",
   "execution_count": null,
   "metadata": {},
   "outputs": [],
   "source": [
    "class Solution:\n",
    "    def firstDayBeenInAllRooms(self, nextVisit: List[int]) -> int:\n",
    "        MODULE = 10 ** 9 + 7\n",
    "        dp, cumsum = [], [0]\n",
    "        for idx, v in enumerate(nextVisit):\n",
    "            if idx == v:\n",
    "                dp.append(1)\n",
    "                cumsum.append((cumsum[-1] + 1) % MODULE)\n",
    "                continue\n",
    "            dp.append((cumsum[-1] - cumsum[v] + (idx - v) + 1) % MODULE)\n",
    "            cumsum.append((cumsum[-1] + dp[-1]) % MODULE)\n",
    "        # print(dp)\n",
    "        cnt = len(nextVisit) - 1 + sum(dp[:-1])\n",
    "        return cnt % MODULE"
   ]
  },
  {
   "cell_type": "markdown",
   "metadata": {},
   "source": [
    "## Lessons and Thoughts\n",
    "- Brute force TLE\n",
    "- The optimization idea is to recognize that once a state is reached, regardless of odd or even times, all states before it are reached even number of times.\n",
    "- "
   ]
  }
 ],
 "metadata": {
  "kernelspec": {
   "display_name": "Python 3",
   "language": "python",
   "name": "python3"
  },
  "language_info": {
   "codemirror_mode": {
    "name": "ipython",
    "version": 3
   },
   "file_extension": ".py",
   "mimetype": "text/x-python",
   "name": "python",
   "nbconvert_exporter": "python",
   "pygments_lexer": "ipython3",
   "version": "3.7.3"
  }
 },
 "nbformat": 4,
 "nbformat_minor": 2
}
