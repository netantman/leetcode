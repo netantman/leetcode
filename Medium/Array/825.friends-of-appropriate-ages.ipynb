{
 "cells": [
  {
   "cell_type": "markdown",
   "metadata": {},
   "source": [
    "## Attempt 1 - Time Limit Exceeded"
   ]
  },
  {
   "cell_type": "code",
   "execution_count": null,
   "metadata": {},
   "outputs": [],
   "source": [
    "class Solution:\n",
    "    def numFriendRequests(self, ages: List[int]) -> int:\n",
    "        def request(ageA,ageB):\n",
    "            return not (ageB<=0.5*ageA+7 or ageB>ageA or (ageB>100 and ageA<100))\n",
    "        \n",
    "        res=0\n",
    "        for idxA, ageA in enumerate(ages):\n",
    "            res+=len([ageB for idxB, ageB in enumerate(ages) if request(ageA, ageB) and idxB!=idxA])\n",
    "        return res"
   ]
  },
  {
   "cell_type": "markdown",
   "metadata": {},
   "source": [
    "## Attempt 2 - Accepted"
   ]
  },
  {
   "cell_type": "code",
   "execution_count": null,
   "metadata": {},
   "outputs": [],
   "source": [
    "class Solution:\n",
    "    def numFriendRequests(self, ages: List[int]) -> int:\n",
    "        def request(ageA,ageB):\n",
    "            return not (ageB<=0.5*ageA+7 or ageB>ageA or (ageB>100 and ageA<100))\n",
    "        \n",
    "        res=0\n",
    "        cache=dict() ## --> adding cache to make use of the fact that the number of possible age is small.\n",
    "        for idxA, ageA in enumerate(ages):\n",
    "            if ageA not in cache:\n",
    "                cache[ageA]=len([ageB for idxB, ageB in enumerate(ages) if request(ageA, ageB) and idxB!=idxA])\n",
    "            res+=cache[ageA]\n",
    "        return res"
   ]
  },
  {
   "cell_type": "markdown",
   "metadata": {},
   "source": [
    "## Lessons and Thoughts\n",
    "- Brute Force with cache."
   ]
  }
 ],
 "metadata": {
  "kernelspec": {
   "display_name": "Python 3",
   "language": "python",
   "name": "python3"
  },
  "language_info": {
   "codemirror_mode": {
    "name": "ipython",
    "version": 3
   },
   "file_extension": ".py",
   "mimetype": "text/x-python",
   "name": "python",
   "nbconvert_exporter": "python",
   "pygments_lexer": "ipython3",
   "version": "3.7.3"
  }
 },
 "nbformat": 4,
 "nbformat_minor": 2
}
