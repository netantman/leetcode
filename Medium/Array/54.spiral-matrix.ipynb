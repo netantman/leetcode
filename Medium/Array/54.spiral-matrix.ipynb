{
 "cells": [
  {
   "cell_type": "markdown",
   "metadata": {},
   "source": [
    "## Attempt 1 - Accepted"
   ]
  },
  {
   "cell_type": "code",
   "execution_count": null,
   "metadata": {},
   "outputs": [],
   "source": [
    "class Solution:\n",
    "    def spiralOrder(self, matrix: List[List[int]]) -> List[int]:\n",
    "        if matrix==[]:\n",
    "            return []\n",
    "        if len(matrix)==1:\n",
    "            return matrix[0]\n",
    "        \n",
    "        res=matrix[0]\n",
    "        reduced=matrix[1:]\n",
    "        row=len(reduced)\n",
    "        if row==0:\n",
    "            return res\n",
    "        else:\n",
    "            col=len(matrix[0])\n",
    "        rotated=[[None for r in range(row)] for c in range(col)]\n",
    "        cache=set()\n",
    "        for r in range(row):\n",
    "            for c in range(col):\n",
    "                rotated[col-c-1][r] = reduced[r][c]\n",
    "                \n",
    "        return res+self.spiralOrder(rotated)"
   ]
  },
  {
   "cell_type": "markdown",
   "metadata": {},
   "source": [
    "## Lessons and Thoughts\n",
    "- This needs rotation, not transpose. Good to run through an example in your head!"
   ]
  }
 ],
 "metadata": {
  "kernelspec": {
   "display_name": "Python 3",
   "language": "python",
   "name": "python3"
  },
  "language_info": {
   "codemirror_mode": {
    "name": "ipython",
    "version": 3
   },
   "file_extension": ".py",
   "mimetype": "text/x-python",
   "name": "python",
   "nbconvert_exporter": "python",
   "pygments_lexer": "ipython3",
   "version": "3.7.3"
  }
 },
 "nbformat": 4,
 "nbformat_minor": 2
}
