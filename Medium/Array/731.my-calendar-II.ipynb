{
 "cells": [
  {
   "cell_type": "markdown",
   "metadata": {},
   "source": [
    "## Attempt 1 - Accepted"
   ]
  },
  {
   "cell_type": "code",
   "execution_count": null,
   "metadata": {},
   "outputs": [],
   "source": [
    "class MyCalendarTwo:\n",
    "\n",
    "    def __init__(self):\n",
    "        self.calendar=[]\n",
    "        self.overlap=[]\n",
    "\n",
    "    def book(self, start: int, end: int) -> bool:\n",
    "        for i,j in self.overlap:\n",
    "            if start<j and end>i:\n",
    "                return False\n",
    "        for i,j in self.calendar:\n",
    "            if start<j and end>i:\n",
    "                self.overlap.append((max(start,i),min(end,j)))\n",
    "        self.calendar.append((start, end))\n",
    "        return True\n",
    "\n",
    "\n",
    "# Your MyCalendarTwo object will be instantiated and called as such:\n",
    "# obj = MyCalendarTwo()\n",
    "# param_1 = obj.book(start,end)"
   ]
  },
  {
   "cell_type": "markdown",
   "metadata": {},
   "source": [
    "## Lessons and Thoughts\n",
    "- Algo from leetcode app. The idea is to keep track of periods that are already double-booked. Compared to Problem 729, we do not do binary search here, which makes the comparison simpler."
   ]
  }
 ],
 "metadata": {
  "kernelspec": {
   "display_name": "Python 3",
   "language": "python",
   "name": "python3"
  },
  "language_info": {
   "codemirror_mode": {
    "name": "ipython",
    "version": 3
   },
   "file_extension": ".py",
   "mimetype": "text/x-python",
   "name": "python",
   "nbconvert_exporter": "python",
   "pygments_lexer": "ipython3",
   "version": "3.7.3"
  }
 },
 "nbformat": 4,
 "nbformat_minor": 2
}
