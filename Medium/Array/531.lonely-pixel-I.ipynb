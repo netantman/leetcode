{
 "cells": [
  {
   "cell_type": "markdown",
   "metadata": {},
   "source": [
    "## Attempt 1 - Accepted"
   ]
  },
  {
   "cell_type": "code",
   "execution_count": null,
   "metadata": {},
   "outputs": [],
   "source": [
    "class Solution:\n",
    "    def findLonelyPixel(self, picture: List[List[str]]) -> int:\n",
    "        R, C = len(picture), len(picture[0])\n",
    "        rows = [sum([1 for c in range(C) if picture[r][c] == \"B\"]) for r in range(R)]\n",
    "        cols = [sum([1 for r in range(R) if picture[r][c] == \"B\"]) for c in range(C)]\n",
    "        cnt = 0\n",
    "        for r in range(R):\n",
    "            for c in range(C):\n",
    "                cnt += 1 if picture[r][c] == \"B\" and rows[r] == 1 and cols[c] == 1 else 0\n",
    "        \n",
    "        return cnt"
   ]
  },
  {
   "cell_type": "markdown",
   "metadata": {},
   "source": [
    "## Lessons and Thoughts\n",
    "- Brute force"
   ]
  }
 ],
 "metadata": {
  "kernelspec": {
   "display_name": "Python 3",
   "language": "python",
   "name": "python3"
  },
  "language_info": {
   "codemirror_mode": {
    "name": "ipython",
    "version": 3
   },
   "file_extension": ".py",
   "mimetype": "text/x-python",
   "name": "python",
   "nbconvert_exporter": "python",
   "pygments_lexer": "ipython3",
   "version": "3.7.3"
  }
 },
 "nbformat": 4,
 "nbformat_minor": 2
}
