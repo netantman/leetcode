{
 "cells": [
  {
   "cell_type": "markdown",
   "metadata": {},
   "source": [
    "## Attempt 1 - Accepted"
   ]
  },
  {
   "cell_type": "code",
   "execution_count": null,
   "metadata": {},
   "outputs": [],
   "source": [
    "class SubrectangleQueries:\n",
    "\n",
    "    def __init__(self, rectangle: List[List[int]]):\n",
    "        self.rect = rectangle\n",
    "\n",
    "    def updateSubrectangle(self, row1: int, col1: int, row2: int, col2: int, newValue: int) -> None:\n",
    "        R, C = len(self.rect), len(self.rect[0])\n",
    "        for r in range(R):\n",
    "            for c in range(C):\n",
    "                if r >= row1 and r <= row2 and c >= col1 and c <= col2:\n",
    "                    self.rect[r][c] = newValue\n",
    "        \n",
    "\n",
    "    def getValue(self, row: int, col: int) -> int:\n",
    "        return self.rect[row][col]\n",
    "        \n",
    "\n",
    "\n",
    "# Your SubrectangleQueries object will be instantiated and called as such:\n",
    "# obj = SubrectangleQueries(rectangle)\n",
    "# obj.updateSubrectangle(row1,col1,row2,col2,newValue)\n",
    "# param_2 = obj.getValue(row,col)"
   ]
  },
  {
   "cell_type": "markdown",
   "metadata": {},
   "source": [
    "## Lessons and Thoughts\n",
    "- Brute force"
   ]
  }
 ],
 "metadata": {
  "kernelspec": {
   "display_name": "Python 3",
   "language": "python",
   "name": "python3"
  },
  "language_info": {
   "codemirror_mode": {
    "name": "ipython",
    "version": 3
   },
   "file_extension": ".py",
   "mimetype": "text/x-python",
   "name": "python",
   "nbconvert_exporter": "python",
   "pygments_lexer": "ipython3",
   "version": "3.7.3"
  }
 },
 "nbformat": 4,
 "nbformat_minor": 2
}
