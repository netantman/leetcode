{
 "cells": [
  {
   "cell_type": "markdown",
   "metadata": {},
   "source": [
    "## Attempt 1 - Accepted"
   ]
  },
  {
   "cell_type": "code",
   "execution_count": null,
   "metadata": {},
   "outputs": [],
   "source": [
    "class Solution:\n",
    "    def diagonalSort(self, mat: List[List[int]]) -> List[List[int]]:\n",
    "        R,C=len(mat),len(mat[0])\n",
    "        res=[[None for c in range(C)] for r in range(R)]\n",
    "        for idx in range(-R+1,C):\n",
    "            if idx<0:\n",
    "                r,c=-idx,0\n",
    "            else:\n",
    "                r,c=0,idx\n",
    "            pos=[]\n",
    "            vals=[]\n",
    "            while 0<=r<R and 0<=c<C:\n",
    "                pos.append((r,c))\n",
    "                vals.append(mat[r][c])\n",
    "                r+=1\n",
    "                c+=1\n",
    "            vals=sorted(vals)\n",
    "            for p,v in zip(pos,vals):\n",
    "                row,col=p\n",
    "                res[row][col]=v\n",
    "        return res"
   ]
  },
  {
   "cell_type": "markdown",
   "metadata": {},
   "source": [
    "## Lessons and Thoughts\n",
    "- Straightforward - just be careful not to let index out of range."
   ]
  }
 ],
 "metadata": {
  "kernelspec": {
   "display_name": "Python 3",
   "language": "python",
   "name": "python3"
  },
  "language_info": {
   "codemirror_mode": {
    "name": "ipython",
    "version": 3
   },
   "file_extension": ".py",
   "mimetype": "text/x-python",
   "name": "python",
   "nbconvert_exporter": "python",
   "pygments_lexer": "ipython3",
   "version": "3.7.3"
  }
 },
 "nbformat": 4,
 "nbformat_minor": 2
}
