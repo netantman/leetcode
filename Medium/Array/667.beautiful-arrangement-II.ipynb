{
 "cells": [
  {
   "cell_type": "markdown",
   "metadata": {},
   "source": [
    "## Attempt 1 - Accepted"
   ]
  },
  {
   "cell_type": "code",
   "execution_count": null,
   "metadata": {},
   "outputs": [],
   "source": [
    "class Solution:\n",
    "    def constructArray(self, n: int, k: int) -> List[int]:\n",
    "        choose=list(range(2, n+1))\n",
    "        cnt=0\n",
    "        res=[1]\n",
    "        pop=-1\n",
    "        while cnt<k-1:\n",
    "            curr=choose.pop(pop)\n",
    "            res.append(curr)\n",
    "            cnt+=1\n",
    "            pop=0 if pop==-1 else -1\n",
    "        if pop==0:\n",
    "            res+=choose[::-1]\n",
    "        else:\n",
    "            res+=choose\n",
    "        return res"
   ]
  },
  {
   "cell_type": "markdown",
   "metadata": {},
   "source": [
    "## Lessons and Thoughts\n",
    "- The idea is to alternate the sorted array."
   ]
  }
 ],
 "metadata": {
  "kernelspec": {
   "display_name": "Python 3",
   "language": "python",
   "name": "python3"
  },
  "language_info": {
   "codemirror_mode": {
    "name": "ipython",
    "version": 3
   },
   "file_extension": ".py",
   "mimetype": "text/x-python",
   "name": "python",
   "nbconvert_exporter": "python",
   "pygments_lexer": "ipython3",
   "version": "3.7.3"
  }
 },
 "nbformat": 4,
 "nbformat_minor": 2
}
