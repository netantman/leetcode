{
 "cells": [
  {
   "cell_type": "markdown",
   "metadata": {},
   "source": [
    "## Attempt 1 - Accepted"
   ]
  },
  {
   "cell_type": "code",
   "execution_count": null,
   "metadata": {},
   "outputs": [],
   "source": [
    "class Solution:\n",
    "    def deckRevealedIncreasing(self, deck: List[int]) -> List[int]:\n",
    "        L=len(deck)\n",
    "        indices=list(range(L))\n",
    "        record=[]\n",
    "        while len(indices)>0:\n",
    "            record.append(indices.pop(0))\n",
    "            if len(indices)<1:\n",
    "                break\n",
    "            temp=indices.pop(0)\n",
    "            indices.append(temp)\n",
    "        res=[None for _ in range(L)]\n",
    "        deck=sorted(deck)\n",
    "        for idx, val in zip(record, deck):\n",
    "            res[idx]=val\n",
    "        return res"
   ]
  },
  {
   "cell_type": "markdown",
   "metadata": {},
   "source": [
    "## Lessons and Thoughts\n",
    "- The idea is to simulate the whole process."
   ]
  }
 ],
 "metadata": {
  "kernelspec": {
   "display_name": "Python 3",
   "language": "python",
   "name": "python3"
  },
  "language_info": {
   "codemirror_mode": {
    "name": "ipython",
    "version": 3
   },
   "file_extension": ".py",
   "mimetype": "text/x-python",
   "name": "python",
   "nbconvert_exporter": "python",
   "pygments_lexer": "ipython3",
   "version": "3.7.3"
  }
 },
 "nbformat": 4,
 "nbformat_minor": 2
}
