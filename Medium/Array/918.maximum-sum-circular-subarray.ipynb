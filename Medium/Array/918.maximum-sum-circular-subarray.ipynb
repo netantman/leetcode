{
 "cells": [
  {
   "cell_type": "markdown",
   "metadata": {},
   "source": [
    "## Attempt 1 - Time Limit Exceeded"
   ]
  },
  {
   "cell_type": "code",
   "execution_count": null,
   "metadata": {},
   "outputs": [],
   "source": [
    "class Solution:\n",
    "    def maxSubarraySumCircular(self, A: List[int]) -> int:\n",
    "        cumsum=[0]+[0 for _ in A+A]\n",
    "        L=len(A)\n",
    "        for idx in range(1,2*L+1):\n",
    "            cumsum[idx]=cumsum[idx-1]+A[(idx-1)%L]\n",
    "        maxx=-float('inf')\n",
    "        for idx in range(L):\n",
    "            for gap in range(1,L+1):\n",
    "                maxx=max(maxx, cumsum[idx+gap]-cumsum[idx])\n",
    "        return maxx"
   ]
  },
  {
   "cell_type": "markdown",
   "metadata": {},
   "source": [
    "## Attempt 2 - Accepted"
   ]
  },
  {
   "cell_type": "code",
   "execution_count": null,
   "metadata": {},
   "outputs": [],
   "source": [
    "class Solution:\n",
    "    def maxSubarraySumCircular(self, A: List[int]) -> int:\n",
    "        cumsum=[0]+[0 for _ in A+A]\n",
    "        L=len(A)\n",
    "        for idx in range(1,2*L+1):\n",
    "            cumsum[idx]=cumsum[idx-1]+A[(idx-1)%L]\n",
    "        maxx=-float('inf')\n",
    "        q=[(0,cumsum[0])]\n",
    "        for idx in range(1,2*L+1):\n",
    "            while len(q)>0 and idx-q[0][0]>L:\n",
    "                q.pop(0)\n",
    "            maxx=max(maxx, cumsum[idx]-q[0][1])\n",
    "            while len(q)>0 and q[-1][1]>cumsum[idx]:\n",
    "                q.pop()\n",
    "            q.append((idx, cumsum[idx]))\n",
    "        return maxx"
   ]
  },
  {
   "cell_type": "markdown",
   "metadata": {},
   "source": [
    "## Lesssons and Thoughts\n",
    "- The solution is from leetcode app. Though it is not exactly monotonic 'stack', the idea is very similar: keep what is maintained monotonic."
   ]
  }
 ],
 "metadata": {
  "kernelspec": {
   "display_name": "Python 3",
   "language": "python",
   "name": "python3"
  },
  "language_info": {
   "codemirror_mode": {
    "name": "ipython",
    "version": 3
   },
   "file_extension": ".py",
   "mimetype": "text/x-python",
   "name": "python",
   "nbconvert_exporter": "python",
   "pygments_lexer": "ipython3",
   "version": "3.7.3"
  }
 },
 "nbformat": 4,
 "nbformat_minor": 2
}
