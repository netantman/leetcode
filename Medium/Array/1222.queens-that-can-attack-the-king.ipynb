{
 "cells": [
  {
   "cell_type": "markdown",
   "metadata": {},
   "source": [
    "## Attempt 1 - Accepted"
   ]
  },
  {
   "cell_type": "code",
   "execution_count": null,
   "metadata": {},
   "outputs": [],
   "source": [
    "class Solution:\n",
    "    def queensAttacktheKing(self, queens: List[List[int]], king: List[int]) -> List[List[int]]:\n",
    "        directions=[[0,1],[1,1],[1,0],[1,-1],[0,-1],[-1,-1],[-1,0],[-1,1]]\n",
    "        res=[]\n",
    "        for di in directions:\n",
    "            step=1\n",
    "            while king[0]+step*di[0]>=0 and king[0]+step*di[0]<8 and king[1]+step*di[1]>=0 and king[1]+step*di[1]<8:\n",
    "                if [king[0]+step*di[0], king[1]+step*di[1]] in queens:\n",
    "                    res.append([king[0]+step*di[0], king[1]+step*di[1]])\n",
    "                    break\n",
    "                else:\n",
    "                    step+=1\n",
    "        return res"
   ]
  },
  {
   "cell_type": "markdown",
   "metadata": {},
   "source": [
    "## Lessons and Thoughts\n",
    "- Straightforward"
   ]
  }
 ],
 "metadata": {
  "kernelspec": {
   "display_name": "Python 3",
   "language": "python",
   "name": "python3"
  },
  "language_info": {
   "codemirror_mode": {
    "name": "ipython",
    "version": 3
   },
   "file_extension": ".py",
   "mimetype": "text/x-python",
   "name": "python",
   "nbconvert_exporter": "python",
   "pygments_lexer": "ipython3",
   "version": "3.7.3"
  }
 },
 "nbformat": 4,
 "nbformat_minor": 2
}
