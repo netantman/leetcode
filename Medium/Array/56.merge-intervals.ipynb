{
 "cells": [
  {
   "cell_type": "markdown",
   "metadata": {},
   "source": [
    "## Attempt 1 - Accepted"
   ]
  },
  {
   "cell_type": "code",
   "execution_count": null,
   "metadata": {},
   "outputs": [],
   "source": [
    "class Solution:\n",
    "    def merge(self, intervals: List[List[int]]) -> List[List[int]]:\n",
    "        if len(intervals)<=1:\n",
    "            return intervals\n",
    "        \n",
    "        intervals=sorted(intervals, key=lambda x:x[0])\n",
    "        res=[intervals[0]]\n",
    "        l=len(intervals)\n",
    "        for idx in range(1, l):\n",
    "            this=intervals[idx]\n",
    "            if this[0]>res[-1][1]:\n",
    "                res.append(this)\n",
    "            else:\n",
    "                if this[1]>res[-1][1]:\n",
    "                    res[-1][1]=this[1]\n",
    "                    \n",
    "        return res"
   ]
  },
  {
   "cell_type": "markdown",
   "metadata": {},
   "source": [
    "## Lessons and Thoughts\n",
    "- Algo provided [here](https://www.geeksforgeeks.org/merging-intervals/)\n",
    "- `sorted` function supports `key=`.s"
   ]
  }
 ],
 "metadata": {
  "kernelspec": {
   "display_name": "Python 3",
   "language": "python",
   "name": "python3"
  },
  "language_info": {
   "codemirror_mode": {
    "name": "ipython",
    "version": 3
   },
   "file_extension": ".py",
   "mimetype": "text/x-python",
   "name": "python",
   "nbconvert_exporter": "python",
   "pygments_lexer": "ipython3",
   "version": "3.7.3"
  }
 },
 "nbformat": 4,
 "nbformat_minor": 2
}
