{
 "cells": [
  {
   "cell_type": "markdown",
   "metadata": {},
   "source": [
    "## Attempt 1 - Time Limit Exceeded"
   ]
  },
  {
   "cell_type": "code",
   "execution_count": null,
   "metadata": {},
   "outputs": [],
   "source": [
    "class Solution:\n",
    "    def getWinner(self, arr: List[int], k: int) -> int:\n",
    "        record = {a: 0 for a in arr}\n",
    "        curr = arr.pop(0)\n",
    "        while max(record.values()) < k: ## --> no need to go through all of k\n",
    "            nexxt = arr.pop(0)\n",
    "            curr = max(curr, nexxt)\n",
    "            record[curr] += 1\n",
    "            arr.append(min(nexxt, curr))\n",
    "        return curr"
   ]
  },
  {
   "cell_type": "markdown",
   "metadata": {},
   "source": [
    "## Attempt 2 - Time Limit Exceeded"
   ]
  },
  {
   "cell_type": "code",
   "execution_count": null,
   "metadata": {},
   "outputs": [],
   "source": [
    "class Solution:\n",
    "    def getWinner(self, arr: List[int], k: int) -> int:\n",
    "        record = {a: 0 for a in arr}\n",
    "        L = len(arr)\n",
    "        if k >= 2 * (L - 1):\n",
    "            k = k % (L - 1)\n",
    "            k += (L - 1)\n",
    "        curr = arr.pop(0)\n",
    "        while max(record.values()) < k:\n",
    "            nexxt = arr.pop(0)\n",
    "            curr = max(curr, nexxt)\n",
    "            record[curr] += 1\n",
    "            arr.append(min(nexxt, curr))\n",
    "        return curr"
   ]
  },
  {
   "cell_type": "markdown",
   "metadata": {},
   "source": [
    "## Attempt 3 - Accepted"
   ]
  },
  {
   "cell_type": "code",
   "execution_count": null,
   "metadata": {},
   "outputs": [],
   "source": [
    "class Solution:\n",
    "    def getWinner(self, arr: List[int], k: int) -> int:\n",
    "        prev = max(arr[0], arr[1])\n",
    "        if k == 1:\n",
    "            return prev\n",
    "        \n",
    "        consecutive = 1\n",
    "        maxNum = prev\n",
    "        length = len(arr)\n",
    "        \n",
    "        for i in range(2, length):\n",
    "            curr = arr[i]\n",
    "            if prev > curr:\n",
    "                consecutive += 1\n",
    "                if consecutive == k:\n",
    "                    return prev\n",
    "            else:\n",
    "                prev = curr\n",
    "                consecutive = 1\n",
    "            maxNum = max(maxNum, curr) ## --> did not think it through:  after one round, the max number will always win.\n",
    "        return maxNum"
   ]
  },
  {
   "cell_type": "markdown",
   "metadata": {},
   "source": [
    "## Lessons and Thoughts\n",
    "- Accepted algo from the app. It is `O(n)`."
   ]
  }
 ],
 "metadata": {
  "kernelspec": {
   "display_name": "Python 3",
   "language": "python",
   "name": "python3"
  },
  "language_info": {
   "codemirror_mode": {
    "name": "ipython",
    "version": 3
   },
   "file_extension": ".py",
   "mimetype": "text/x-python",
   "name": "python",
   "nbconvert_exporter": "python",
   "pygments_lexer": "ipython3",
   "version": "3.7.3"
  }
 },
 "nbformat": 4,
 "nbformat_minor": 2
}
