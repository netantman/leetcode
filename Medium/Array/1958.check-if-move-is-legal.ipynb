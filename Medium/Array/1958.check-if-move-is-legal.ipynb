{
 "cells": [
  {
   "cell_type": "markdown",
   "metadata": {},
   "source": [
    "## Attempt 1 - Accepted"
   ]
  },
  {
   "cell_type": "code",
   "execution_count": null,
   "metadata": {},
   "outputs": [],
   "source": [
    "class Solution:\n",
    "    def checkMove(self, board: List[List[str]], rMove: int, cMove: int, color: str) -> bool:\n",
    "        R, C = len(board), len(board[0])\n",
    "        oppo = {'B': 'W', 'W': 'B'}\n",
    "        \n",
    "        def inBoard(point):\n",
    "            return point[0] >= 0 and point[0] < R and point[1] >= 0 and point[1] < C\n",
    "        \n",
    "        def checkLine(start, direction):\n",
    "            point = start\n",
    "            c = board[start[0]][start[1]]\n",
    "            while inBoard(point):\n",
    "                if board[point[0]][point[1]] == c:\n",
    "                    point = [point[0] + direction[0], point[1] + direction[1]]\n",
    "                elif board[point[0]][point[1]] == \".\":\n",
    "                    return False\n",
    "                else:\n",
    "                    return True\n",
    "            return False\n",
    "        \n",
    "        directions = [(1, 0), (1, 1), (1, -1), (0, 1), (0, -1), (-1, 1), (-1, 0), (-1, -1)]\n",
    "        for direction in directions:\n",
    "            start = [rMove + direction[0], cMove + direction[1]]\n",
    "            if inBoard(start) and board[start[0]][start[1]] == oppo[color] and checkLine(start, direction):\n",
    "                return True\n",
    "        return False"
   ]
  },
  {
   "cell_type": "markdown",
   "metadata": {},
   "source": [
    "## Lessons and Thoughts\n",
    "- Brute force: just be careful to check if index is out of bound."
   ]
  }
 ],
 "metadata": {
  "kernelspec": {
   "display_name": "Python 3",
   "language": "python",
   "name": "python3"
  },
  "language_info": {
   "codemirror_mode": {
    "name": "ipython",
    "version": 3
   },
   "file_extension": ".py",
   "mimetype": "text/x-python",
   "name": "python",
   "nbconvert_exporter": "python",
   "pygments_lexer": "ipython3",
   "version": "3.7.3"
  }
 },
 "nbformat": 4,
 "nbformat_minor": 2
}
