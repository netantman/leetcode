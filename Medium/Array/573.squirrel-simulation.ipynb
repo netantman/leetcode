{
 "cells": [
  {
   "cell_type": "markdown",
   "metadata": {},
   "source": [
    "## Attempt 1 - Accepted"
   ]
  },
  {
   "cell_type": "code",
   "execution_count": null,
   "metadata": {},
   "outputs": [],
   "source": [
    "class Solution:\n",
    "    def minDistance(self, height: int, width: int, tree: List[int], squirrel: List[int], nuts: List[List[int]]) -> int:\n",
    "        nuts = [tuple(n) for n in nuts]\n",
    "        r_s, c_s = tuple(squirrel)\n",
    "        r_t, c_t = tuple(tree)\n",
    "        d_s = [abs(r_s - r) + abs(c_s - c) for r, c in nuts]\n",
    "        d_t = [abs(r_t - r) + abs(c_t - c) for r, c in nuts]\n",
    "        m = max(t - s for t, s in zip(d_t, d_s))\n",
    "        return 2 * sum(d_t) - m"
   ]
  },
  {
   "cell_type": "markdown",
   "metadata": {},
   "source": [
    "## Lessons and Thoughts\n",
    "- Once the squirrel get to the first nut, it is just between the tree and the nuts.\n",
    "- `height` and `width` do not matter here."
   ]
  }
 ],
 "metadata": {
  "kernelspec": {
   "display_name": "Python 3",
   "language": "python",
   "name": "python3"
  },
  "language_info": {
   "codemirror_mode": {
    "name": "ipython",
    "version": 3
   },
   "file_extension": ".py",
   "mimetype": "text/x-python",
   "name": "python",
   "nbconvert_exporter": "python",
   "pygments_lexer": "ipython3",
   "version": "3.7.3"
  }
 },
 "nbformat": 4,
 "nbformat_minor": 2
}
