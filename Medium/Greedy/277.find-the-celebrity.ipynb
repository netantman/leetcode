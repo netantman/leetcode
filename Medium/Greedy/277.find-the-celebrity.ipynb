{
 "cells": [
  {
   "cell_type": "markdown",
   "metadata": {},
   "source": [
    "## Attempt 1 - Accepted"
   ]
  },
  {
   "cell_type": "code",
   "execution_count": null,
   "metadata": {},
   "outputs": [],
   "source": [
    "# The knows API is already defined for you.\n",
    "# return a bool, whether a knows b\n",
    "# def knows(a: int, b: int) -> bool:\n",
    "\n",
    "class Solution:\n",
    "    def findCelebrity(self, n: int) -> int:\n",
    "        if knows(0, 1):\n",
    "            candidate = 1\n",
    "        else:\n",
    "            candidate = 0\n",
    "        \n",
    "        for p in range(2, n):\n",
    "            if knows(candidate, p):\n",
    "                candidate = p\n",
    "                \n",
    "        for p in range(n):\n",
    "            if p == candidate:\n",
    "                continue\n",
    "            if knows(candidate, p) or not knows(p, candidate):\n",
    "                return -1\n",
    "        \n",
    "        return candidate"
   ]
  },
  {
   "cell_type": "markdown",
   "metadata": {},
   "source": [
    "## Lessons and Thoughts\n",
    "- The key is to realize that by looping through once, you can at most find one candidate for celebrity."
   ]
  }
 ],
 "metadata": {
  "kernelspec": {
   "display_name": "Python 3",
   "language": "python",
   "name": "python3"
  },
  "language_info": {
   "codemirror_mode": {
    "name": "ipython",
    "version": 3
   },
   "file_extension": ".py",
   "mimetype": "text/x-python",
   "name": "python",
   "nbconvert_exporter": "python",
   "pygments_lexer": "ipython3",
   "version": "3.7.3"
  }
 },
 "nbformat": 4,
 "nbformat_minor": 2
}
