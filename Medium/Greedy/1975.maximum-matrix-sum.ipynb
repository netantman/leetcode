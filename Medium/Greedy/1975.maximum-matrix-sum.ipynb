{
 "cells": [
  {
   "cell_type": "markdown",
   "metadata": {},
   "source": [
    "## Attempt 1 - Accepted"
   ]
  },
  {
   "cell_type": "code",
   "execution_count": null,
   "metadata": {},
   "outputs": [],
   "source": [
    "class Solution:\n",
    "    def maxMatrixSum(self, matrix: List[List[int]]) -> int:\n",
    "        N = len(matrix)\n",
    "        cnt = 0\n",
    "        for r in range(N):\n",
    "            for c in range(N):\n",
    "                cnt += 1 if matrix[r][c] < 0 else 0\n",
    "        cnt = cnt % 2\n",
    "        \n",
    "        s = sum(sum(abs(matrix[r][c]) for c in range(N)) for r in range(N))\n",
    "        if cnt > 0:\n",
    "            m = min(min(abs(matrix[r][c]) for c in range(N)) for r in range(N))\n",
    "            return s - 2 * m\n",
    "        else:\n",
    "            return s"
   ]
  },
  {
   "cell_type": "markdown",
   "metadata": {},
   "source": [
    "## Lessons and Thoughts\n",
    "- The idea is to recognize that there will at most be one negative in the matrix when at optimum."
   ]
  }
 ],
 "metadata": {
  "kernelspec": {
   "display_name": "Python 3",
   "language": "python",
   "name": "python3"
  },
  "language_info": {
   "codemirror_mode": {
    "name": "ipython",
    "version": 3
   },
   "file_extension": ".py",
   "mimetype": "text/x-python",
   "name": "python",
   "nbconvert_exporter": "python",
   "pygments_lexer": "ipython3",
   "version": "3.7.3"
  }
 },
 "nbformat": 4,
 "nbformat_minor": 2
}
