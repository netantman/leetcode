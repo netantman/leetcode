{
 "cells": [
  {
   "cell_type": "markdown",
   "metadata": {},
   "source": [
    "## Attempt 1 - Wrong Answer"
   ]
  },
  {
   "cell_type": "code",
   "execution_count": null,
   "metadata": {},
   "outputs": [],
   "source": [
    "class Solution:\n",
    "    def canConstruct(self, s: str, k: int) -> bool:\n",
    "        record=[0 for _ in range(26)]\n",
    "        for c in s:\n",
    "            record[ord(c)-ord(\"a\")]+=1\n",
    "        odds=[idx for idx in range(26) if record[idx]%2>0]\n",
    "        if len(odds)>k:\n",
    "            return False ## --> if there are k odds, we do not really need pairs.\n",
    "        pairs=[record[idx]//2 for idx in range(26)]\n",
    "        return sum(pairs)>=k"
   ]
  },
  {
   "cell_type": "markdown",
   "metadata": {},
   "source": [
    "## Attempt 2 - Wrong Answer"
   ]
  },
  {
   "cell_type": "code",
   "execution_count": null,
   "metadata": {},
   "outputs": [],
   "source": [
    "class Solution:\n",
    "    def canConstruct(self, s: str, k: int) -> bool:\n",
    "        record=[0 for _ in range(26)]\n",
    "        for c in s:\n",
    "            record[ord(c)-ord(\"a\")]+=1\n",
    "        odds=[idx for idx in range(26) if record[idx]%2>0]\n",
    "        if len(odds)>k:\n",
    "            return False\n",
    "        pairs=[record[idx]//2 for idx in range(26)]\n",
    "        return sum(pairs)>=k-len(odds)"
   ]
  },
  {
   "cell_type": "markdown",
   "metadata": {},
   "source": [
    "## Attempt 3 - Accepted"
   ]
  },
  {
   "cell_type": "code",
   "execution_count": null,
   "metadata": {},
   "outputs": [],
   "source": [
    "class Solution:\n",
    "    def canConstruct(self, s: str, k: int) -> bool:\n",
    "        if len(s)<k:\n",
    "            return False\n",
    "        record=[0 for _ in range(26)]\n",
    "        for c in s:\n",
    "            record[ord(c)-ord(\"a\")]+=1\n",
    "        odds=[idx for idx in range(26) if record[idx]%2>0]\n",
    "        if len(odds)>k:\n",
    "            return False\n",
    "        return True"
   ]
  },
  {
   "cell_type": "markdown",
   "metadata": {},
   "source": [
    "## Lessons and Thoughts\n",
    "- The idea is that each singles can only be applied to one palindrome, while the number of pairs does not matter a long as we have enough characteres."
   ]
  }
 ],
 "metadata": {
  "kernelspec": {
   "display_name": "Python 3",
   "language": "python",
   "name": "python3"
  },
  "language_info": {
   "codemirror_mode": {
    "name": "ipython",
    "version": 3
   },
   "file_extension": ".py",
   "mimetype": "text/x-python",
   "name": "python",
   "nbconvert_exporter": "python",
   "pygments_lexer": "ipython3",
   "version": "3.7.3"
  }
 },
 "nbformat": 4,
 "nbformat_minor": 2
}
