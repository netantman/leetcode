{
 "cells": [
  {
   "cell_type": "markdown",
   "metadata": {},
   "source": [
    "## Attempt 1 - Accepted"
   ]
  },
  {
   "cell_type": "code",
   "execution_count": null,
   "metadata": {},
   "outputs": [],
   "source": [
    "class Solution:\n",
    "    def minimumSwap(self, s1: str, s2: str) -> int:\n",
    "        pos, neg=0,0\n",
    "        for c1, c2 in zip(s1,s2):\n",
    "            if c1=='x' and c2=='y':\n",
    "                pos+=1\n",
    "            if c1=='y' and c2=='x':\n",
    "                neg+=1\n",
    "        \n",
    "        if (pos+neg)%2>0:\n",
    "            return -1\n",
    "        \n",
    "        if pos%2>0:\n",
    "            res=1\n",
    "        else:\n",
    "            res=0\n",
    "        res+=(pos+neg)//2\n",
    "        return res"
   ]
  },
  {
   "cell_type": "markdown",
   "metadata": {},
   "source": [
    "## Lessons and Thoughts\n",
    "- The key is to recognize that you need to count both `pos` and `neg` pairs, and that `pos` and `neg` can be transformed to each other using one flip."
   ]
  }
 ],
 "metadata": {
  "kernelspec": {
   "display_name": "Python 3",
   "language": "python",
   "name": "python3"
  },
  "language_info": {
   "codemirror_mode": {
    "name": "ipython",
    "version": 3
   },
   "file_extension": ".py",
   "mimetype": "text/x-python",
   "name": "python",
   "nbconvert_exporter": "python",
   "pygments_lexer": "ipython3",
   "version": "3.7.3"
  }
 },
 "nbformat": 4,
 "nbformat_minor": 2
}
