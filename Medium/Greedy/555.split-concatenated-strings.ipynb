{
 "cells": [
  {
   "cell_type": "markdown",
   "metadata": {},
   "source": [
    "## Attempt 1 - Wrong Answer"
   ]
  },
  {
   "cell_type": "code",
   "execution_count": null,
   "metadata": {},
   "outputs": [],
   "source": [
    "class Solution:\n",
    "    def splitLoopedString(self, strs: List[str]) -> str:\n",
    "        res = \"\".join(strs)\n",
    "        for idx, s in enumerate(strs):\n",
    "            rest = strs[idx + 1:] + strs[:idx]\n",
    "            rest = \"\".join([max(r, r[::-1]) for r in rest])\n",
    "            L = len(s) ## --> did not consider the edge case where s is a one-character string, so the below loops may not be entered\n",
    "            for idx in range(L - 1):\n",
    "                pre, post = s[idx:], s[:idx]\n",
    "                res = max(res, pre + rest + post)\n",
    "            for idx in range(L - 1):\n",
    "                pre, post = s[::-1][idx:], s[::-1][:idx]\n",
    "                res = max(res, pre + rest + post)\n",
    "        return res"
   ]
  },
  {
   "cell_type": "markdown",
   "metadata": {},
   "source": [
    "## Attempt 2 - Accepted"
   ]
  },
  {
   "cell_type": "code",
   "execution_count": null,
   "metadata": {},
   "outputs": [],
   "source": [
    "class Solution:\n",
    "    def splitLoopedString(self, strs: List[str]) -> str:\n",
    "        res = \"\".join(strs)\n",
    "        for idx, s in enumerate(strs):\n",
    "            rest = strs[idx + 1:] + strs[:idx]\n",
    "            rest = \"\".join([max(r, r[::-1]) for r in rest])\n",
    "            L = len(s)\n",
    "            # if L == 1:\n",
    "            #     pre, post = s, \"\"\n",
    "            #     res = max(res, pre + rest + post)\n",
    "            #     pre, post = \"\", s\n",
    "            #     res = max(res, pre + rest + post)\n",
    "            #     continue\n",
    "            for idx in range(L):\n",
    "                pre, post = s[idx:], s[:idx]\n",
    "                res = max(res, pre + rest + post)\n",
    "            for idx in range(L):\n",
    "                pre, post = s[::-1][idx:], s[::-1][:idx]\n",
    "                res = max(res, pre + rest + post)\n",
    "        return res"
   ]
  },
  {
   "cell_type": "markdown",
   "metadata": {},
   "source": [
    "## Lessons and Thoughts\n",
    "- Almost brute force"
   ]
  }
 ],
 "metadata": {
  "kernelspec": {
   "display_name": "Python 3",
   "language": "python",
   "name": "python3"
  },
  "language_info": {
   "codemirror_mode": {
    "name": "ipython",
    "version": 3
   },
   "file_extension": ".py",
   "mimetype": "text/x-python",
   "name": "python",
   "nbconvert_exporter": "python",
   "pygments_lexer": "ipython3",
   "version": "3.7.3"
  }
 },
 "nbformat": 4,
 "nbformat_minor": 2
}
