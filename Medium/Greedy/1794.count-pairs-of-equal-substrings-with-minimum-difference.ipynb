{
 "cells": [
  {
   "cell_type": "markdown",
   "metadata": {},
   "source": [
    "## Attempt 1 - Accepted"
   ]
  },
  {
   "cell_type": "code",
   "execution_count": null,
   "metadata": {},
   "outputs": [],
   "source": [
    "class Solution:\n",
    "    def countQuadruples(self, firstString: str, secondString: str) -> int:\n",
    "        record = dict()\n",
    "        second = [c for c in secondString]\n",
    "        for adx, c in enumerate(second):\n",
    "            record[c] = adx\n",
    "        \n",
    "        diff = float('inf')\n",
    "        first = [c for c in firstString]\n",
    "        for jdx, c in enumerate(first):\n",
    "            if c in record:\n",
    "                diff = min(diff, jdx - record[c])\n",
    "        \n",
    "        cnt = 0\n",
    "        visited = set()\n",
    "        for jdx, c in enumerate(first):\n",
    "            if c in record:\n",
    "                if jdx - record[c] == diff and c not in visited:\n",
    "                    visited.add(c)\n",
    "                    cnt += 1\n",
    "        \n",
    "        return cnt"
   ]
  },
  {
   "cell_type": "markdown",
   "metadata": {},
   "source": [
    "## Lessons and Thoughts\n",
    "- The wording of the question is less than clear - could use some more examples."
   ]
  }
 ],
 "metadata": {
  "kernelspec": {
   "display_name": "Python 3",
   "language": "python",
   "name": "python3"
  },
  "language_info": {
   "codemirror_mode": {
    "name": "ipython",
    "version": 3
   },
   "file_extension": ".py",
   "mimetype": "text/x-python",
   "name": "python",
   "nbconvert_exporter": "python",
   "pygments_lexer": "ipython3",
   "version": "3.7.3"
  }
 },
 "nbformat": 4,
 "nbformat_minor": 2
}
