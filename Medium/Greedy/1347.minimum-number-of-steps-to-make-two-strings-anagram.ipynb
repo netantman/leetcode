{
 "cells": [
  {
   "cell_type": "markdown",
   "metadata": {},
   "source": [
    "## Attempt 1 - Accepted"
   ]
  },
  {
   "cell_type": "code",
   "execution_count": null,
   "metadata": {},
   "outputs": [],
   "source": [
    "class Solution:\n",
    "    def minSteps(self, s: str, t: str) -> int:\n",
    "        rs=[0 for _ in range(26)]\n",
    "        rt=[0 for _ in range(26)]\n",
    "        for c in s:\n",
    "            rs[ord(c)-ord(\"a\")]+=1\n",
    "        for c in t:\n",
    "            rt[ord(c)-ord(\"a\")]+=1\n",
    "        cnt=0\n",
    "        for idx in range(26):\n",
    "            cnt+=abs(rs[idx]-rt[idx])\n",
    "        return cnt//2"
   ]
  },
  {
   "cell_type": "markdown",
   "metadata": {},
   "source": [
    "## Lessons and Thoughts\n",
    "- Straightforward"
   ]
  }
 ],
 "metadata": {
  "kernelspec": {
   "display_name": "Python 3",
   "language": "python",
   "name": "python3"
  },
  "language_info": {
   "codemirror_mode": {
    "name": "ipython",
    "version": 3
   },
   "file_extension": ".py",
   "mimetype": "text/x-python",
   "name": "python",
   "nbconvert_exporter": "python",
   "pygments_lexer": "ipython3",
   "version": "3.7.3"
  }
 },
 "nbformat": 4,
 "nbformat_minor": 2
}
