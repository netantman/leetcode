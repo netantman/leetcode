{
 "cells": [
  {
   "cell_type": "markdown",
   "metadata": {},
   "source": [
    "## Attempt 1 - Wrong Answer"
   ]
  },
  {
   "cell_type": "code",
   "execution_count": null,
   "metadata": {},
   "outputs": [],
   "source": [
    "class Solution:\n",
    "    def smallestSubsequence(self, text: str) -> str:\n",
    "        record=[None for _ in range(26)]\n",
    "        for idx, c in enumerate(text):\n",
    "            this=record[ord(c)-ord(\"a\")]\n",
    "            if this is None:\n",
    "                record[ord(c)-ord(\"a\")]=(idx, idx)\n",
    "            else:\n",
    "                record[ord(c)-ord(\"a\")]=(this[0], idx)\n",
    "        res=\"\"\n",
    "        while record!=[None]*26:\n",
    "            lasts=[r[1] for r in record if r is not None]\n",
    "            for idx in range(26):\n",
    "                if record[idx] is None or record[idx][0]>min(lasts):\n",
    "                    continue\n",
    "                res+=chr(ord(\"a\")+idx) ## --> this is not necessarily getting a substring\n",
    "                record[idx]=None\n",
    "                break\n",
    "        return res"
   ]
  },
  {
   "cell_type": "markdown",
   "metadata": {},
   "source": [
    "## Attempt 2 - Accepted"
   ]
  },
  {
   "cell_type": "code",
   "execution_count": null,
   "metadata": {},
   "outputs": [],
   "source": [
    "class Solution:\n",
    "    def smallestSubsequence(self, text: str) -> str:\n",
    "        record=[[] for _ in range(26)]\n",
    "        for idx, c in enumerate(text):\n",
    "            record[ord(c)-ord(\"a\")].append(idx)\n",
    "        res=\"\"\n",
    "        while record!=[[]]*26:\n",
    "            lasts=[r[-1] for r in record if r]\n",
    "            chosen=None\n",
    "            for idx in range(26):\n",
    "                if not record[idx] or record[idx][0]>min(lasts):\n",
    "                    continue\n",
    "                res+=chr(ord(\"a\")+idx)\n",
    "                chosen=record[idx][0]\n",
    "                record[idx]=[]\n",
    "                break\n",
    "            for j in range(26):\n",
    "                record[j]=[r for r in record[j] if r>chosen]\n",
    "        return res"
   ]
  },
  {
   "cell_type": "markdown",
   "metadata": {},
   "source": [
    "## Lessons and Thoughts\n",
    "- It is kind of greedy: each iteration try to find the smallest letter that is at a location not larger than all other letters not chosen yet.\n",
    "- It is the same as Problem 316, which was previously labeled as hard."
   ]
  }
 ],
 "metadata": {
  "kernelspec": {
   "display_name": "Python 3",
   "language": "python",
   "name": "python3"
  },
  "language_info": {
   "codemirror_mode": {
    "name": "ipython",
    "version": 3
   },
   "file_extension": ".py",
   "mimetype": "text/x-python",
   "name": "python",
   "nbconvert_exporter": "python",
   "pygments_lexer": "ipython3",
   "version": "3.7.3"
  }
 },
 "nbformat": 4,
 "nbformat_minor": 2
}
