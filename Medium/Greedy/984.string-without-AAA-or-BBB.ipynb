{
 "cells": [
  {
   "cell_type": "markdown",
   "metadata": {},
   "source": [
    "## Attempt 1 - Accepted"
   ]
  },
  {
   "cell_type": "code",
   "execution_count": null,
   "metadata": {},
   "outputs": [],
   "source": [
    "class Solution:\n",
    "    def strWithout3a3b(self, A: int, B: int) -> str:\n",
    "        res=\"\"\n",
    "        while A!=B and A>0 and B>0:\n",
    "            if A>B:\n",
    "                res+=\"aab\"\n",
    "                A-=2\n",
    "                B-=1\n",
    "            else:\n",
    "                res+=\"abb\"\n",
    "                A-=1\n",
    "                B-=2\n",
    "        while A>0 and B>0:\n",
    "            res+=\"ab\"\n",
    "            A-=1\n",
    "            B-=1\n",
    "        if A>0:\n",
    "            res+=\"a\"*A\n",
    "        if B>0:\n",
    "            res=\"b\"*B+res\n",
    "        return res"
   ]
  },
  {
   "cell_type": "markdown",
   "metadata": {},
   "source": [
    "## Lessons and Thoughts\n",
    "- The idea is to first use up the character that is more. Be careful if there are still more frequent characters left after `aab` or `abb`."
   ]
  }
 ],
 "metadata": {
  "kernelspec": {
   "display_name": "Python 3",
   "language": "python",
   "name": "python3"
  },
  "language_info": {
   "codemirror_mode": {
    "name": "ipython",
    "version": 3
   },
   "file_extension": ".py",
   "mimetype": "text/x-python",
   "name": "python",
   "nbconvert_exporter": "python",
   "pygments_lexer": "ipython3",
   "version": "3.7.3"
  }
 },
 "nbformat": 4,
 "nbformat_minor": 2
}
