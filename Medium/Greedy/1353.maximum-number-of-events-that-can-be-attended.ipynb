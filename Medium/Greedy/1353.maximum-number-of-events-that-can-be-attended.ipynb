{
 "cells": [
  {
   "cell_type": "markdown",
   "metadata": {},
   "source": [
    "## Attempt 1 - Wrong Answer"
   ]
  },
  {
   "cell_type": "code",
   "execution_count": null,
   "metadata": {},
   "outputs": [],
   "source": [
    "class Solution:\n",
    "    def maxEvents(self, events: List[List[int]]) -> int:\n",
    "        events=sorted(events, key=lambda x:(x[0],x[1]))\n",
    "        start=events[0][0]\n",
    "        end=events[-1][-1]\n",
    "        res=0\n",
    "        for day in range(start, end+1):\n",
    "            while events and day>events[0][1]:\n",
    "                events.pop(0)\n",
    "            if not events:\n",
    "                break\n",
    "            if day>=events[0][0]:\n",
    "                res+=1\n",
    "                events.pop(0)\n",
    "        return res"
   ]
  },
  {
   "cell_type": "markdown",
   "metadata": {},
   "source": [
    "## Attempt 2 - Wrong Answer"
   ]
  },
  {
   "cell_type": "code",
   "execution_count": null,
   "metadata": {},
   "outputs": [],
   "source": [
    "class Solution:\n",
    "    def maxEvents(self, events: List[List[int]]) -> int:\n",
    "        events=sorted(events, key=lambda x:x[1])\n",
    "        start=events[0][0]\n",
    "        end=events[-1][-1]\n",
    "        res=0\n",
    "        for day in range(start, end+1):\n",
    "            while events and day>events[0][1]:\n",
    "                events.pop(0)\n",
    "            if not events:\n",
    "                break\n",
    "            if day>=events[0][0]:\n",
    "                res+=1\n",
    "                events.pop(0)\n",
    "        return res"
   ]
  },
  {
   "cell_type": "markdown",
   "metadata": {},
   "source": [
    "## Attempt 3 - Time Limit Exceeded"
   ]
  },
  {
   "cell_type": "code",
   "execution_count": null,
   "metadata": {},
   "outputs": [],
   "source": [
    "class Solution:\n",
    "    def maxEvents(self, events: List[List[int]]) -> int:\n",
    "        events=sorted(events, key=lambda x:x[1])\n",
    "        end=events[-1][-1]\n",
    "        res=0\n",
    "        for day in range(1, end+1):\n",
    "            if not events:\n",
    "                break\n",
    "            # print(f\"day: {day}\")\n",
    "            L=len(events)\n",
    "            rid=None\n",
    "            for idx in range(L):\n",
    "                # print(events[idx][0])\n",
    "                # print(events[idx][1])\n",
    "                if (events[idx][0]<=day) and (events[idx][1]>=day):\n",
    "                    res+=1\n",
    "                    rid=idx\n",
    "                    break\n",
    "            # print(f\"res: {res}\")\n",
    "            # print(f\"rid: {rid}\")\n",
    "            if rid is not None:\n",
    "                # print(events)\n",
    "                events=events[:rid]+events[rid+1:]\n",
    "                # print(events)\n",
    "            #print(events)\n",
    "        return res"
   ]
  },
  {
   "cell_type": "markdown",
   "metadata": {},
   "source": [
    "## Attempt 4 - Still TLE, but think this algo is good enough"
   ]
  },
  {
   "cell_type": "code",
   "execution_count": null,
   "metadata": {},
   "outputs": [],
   "source": [
    "class Solution:\n",
    "    def maxEvents(self, events: List[List[int]]) -> int:\n",
    "        end_dates=dict()\n",
    "        last_day=0\n",
    "        for e in events:\n",
    "            end_dates[e[0]]=end_dates.get(e[0],[])+[e[1]]\n",
    "            last_day=max(last_day, e[1])\n",
    "        \n",
    "        q=[]\n",
    "        res=0\n",
    "        for d in range(last_day+1):\n",
    "            this_end_dates=end_dates.get(d,[])\n",
    "            for end in this_end_dates:\n",
    "                heapq.heappush(q,end)\n",
    "            while q:\n",
    "                head=heapq.heappop(q)\n",
    "                if head>=d:\n",
    "                    res+=1\n",
    "                    break\n",
    "        return res"
   ]
  },
  {
   "cell_type": "markdown",
   "metadata": {},
   "source": [
    "## Attempt 5 - Accepted"
   ]
  },
  {
   "cell_type": "code",
   "execution_count": null,
   "metadata": {},
   "outputs": [],
   "source": [
    "class Solution:\n",
    "    def maxEvents(self, events: List[List[int]]) -> int:\n",
    "        end_dates=collections.defaultdict(list) ## --> So the benefit of using defaultdict is to avoid long list copy\n",
    "        last_day=0\n",
    "        for e in events:\n",
    "            end_dates[e[0]].append(e[1])\n",
    "            last_day=max(last_day, e[1])\n",
    "        \n",
    "        q=[]\n",
    "        res=0\n",
    "        for d in range(last_day+1):\n",
    "            this_end_dates=end_dates.get(d,[])\n",
    "            for end in this_end_dates:\n",
    "                heapq.heappush(q,end)\n",
    "            if d in end_dates:\n",
    "                del end_dates[d]\n",
    "            while q:\n",
    "                head=heapq.heappop(q)\n",
    "                if head>=d:\n",
    "                    res+=1\n",
    "                    break\n",
    "            if not end_dates and not q:\n",
    "                break\n",
    "        return res"
   ]
  },
  {
   "cell_type": "markdown",
   "metadata": {},
   "source": [
    "## Lessons and Thoughts\n",
    "- Do not use `if x` to judge `None`, since `if 0` is False.\n",
    "- The idea is to greedily always attend among the available events the one which will end the soonest."
   ]
  }
 ],
 "metadata": {
  "kernelspec": {
   "display_name": "Python 3",
   "language": "python",
   "name": "python3"
  },
  "language_info": {
   "codemirror_mode": {
    "name": "ipython",
    "version": 3
   },
   "file_extension": ".py",
   "mimetype": "text/x-python",
   "name": "python",
   "nbconvert_exporter": "python",
   "pygments_lexer": "ipython3",
   "version": "3.7.3"
  }
 },
 "nbformat": 4,
 "nbformat_minor": 2
}
