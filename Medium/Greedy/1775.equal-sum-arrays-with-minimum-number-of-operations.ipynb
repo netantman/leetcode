{
 "cells": [
  {
   "cell_type": "markdown",
   "metadata": {},
   "source": [
    "## Attempt 1 - Accepted"
   ]
  },
  {
   "cell_type": "code",
   "execution_count": null,
   "metadata": {},
   "outputs": [],
   "source": [
    "class Solution:\n",
    "    def minOperations(self, nums1: List[int], nums2: List[int]) -> int:\n",
    "        if max(len(nums1), len(nums2)) > 6 * min(len(nums1), len(nums2)):\n",
    "            return -1\n",
    "        s1, s2 = sum(nums1), sum(nums2)\n",
    "        if s1 > s2:\n",
    "            nums1, nums2 = nums2, nums1\n",
    "            s1, s2 = sum(nums1), sum(nums2) ## --> almost forget to recalculate s1 and s2\n",
    "        \n",
    "        diff = s2 - s1\n",
    "        if diff < 1:\n",
    "            return 0\n",
    "        \n",
    "        rec1 = [0 for _ in range(7)]\n",
    "        rec2 = [0 for _ in range(7)]\n",
    "        for n in nums1:\n",
    "            rec1[n] += 1\n",
    "        for n in nums2:\n",
    "            rec2[n] += 1\n",
    "        \n",
    "        reductions = []\n",
    "        for idx in range(1, 7):\n",
    "            reductions.append(rec1[idx] + rec2[7 - idx])\n",
    "        \n",
    "        # print(diff)\n",
    "        # print(reductions)\n",
    "        cnt = 0\n",
    "        for idx, r in enumerate(reductions):\n",
    "            if diff > (5 - idx) * r:\n",
    "                cnt += r\n",
    "                diff -= (5 - idx) * r\n",
    "                continue\n",
    "            cnt += (diff // (5 - idx) + 1) if diff % (5 - idx) > 0 else diff // (5 - idx) ## --> be careful when doing this kind of ceiling operations\n",
    "            break\n",
    "        \n",
    "        return cnt"
   ]
  },
  {
   "cell_type": "markdown",
   "metadata": {},
   "source": [
    "## Lessons and Thoughts\n",
    "- It is hard to get all edge cases!"
   ]
  }
 ],
 "metadata": {
  "kernelspec": {
   "display_name": "Python 3",
   "language": "python",
   "name": "python3"
  },
  "language_info": {
   "codemirror_mode": {
    "name": "ipython",
    "version": 3
   },
   "file_extension": ".py",
   "mimetype": "text/x-python",
   "name": "python",
   "nbconvert_exporter": "python",
   "pygments_lexer": "ipython3",
   "version": "3.7.3"
  }
 },
 "nbformat": 4,
 "nbformat_minor": 2
}
