{
 "cells": [
  {
   "cell_type": "markdown",
   "metadata": {},
   "source": [
    "## Attempt 1 - Accepted"
   ]
  },
  {
   "cell_type": "code",
   "execution_count": null,
   "metadata": {},
   "outputs": [],
   "source": [
    "class Solution:\n",
    "    def advantageCount(self, A: List[int], B: List[int]) -> List[int]:\n",
    "        L=len(A)\n",
    "        if L<=1:\n",
    "            return A\n",
    "        \n",
    "        A=sorted(A)\n",
    "        B=sorted([(b,idx) for idx, b in enumerate(B)], key=lambda x:x[0])\n",
    "        idxA,idxB=0,0\n",
    "        res=[None for _ in range(L)]\n",
    "        rest=[]\n",
    "        while idxA<L:\n",
    "            if A[idxA]>B[idxB][0]:\n",
    "                res[B[idxB][1]]=A[idxA]\n",
    "                idxA+=1\n",
    "                idxB+=1\n",
    "            else:\n",
    "                rest.append(A[idxA])\n",
    "                idxA+=1\n",
    "        \n",
    "        for idx in range(L):\n",
    "            if res[idx] is None:\n",
    "                head=rest.pop(0)\n",
    "                res[idx]=head\n",
    "        return res"
   ]
  },
  {
   "cell_type": "markdown",
   "metadata": {},
   "source": [
    "## Lessons and Thoughts\n",
    "- Each time just use the smallest possible in `A` to "
   ]
  }
 ],
 "metadata": {
  "kernelspec": {
   "display_name": "Python 3",
   "language": "python",
   "name": "python3"
  },
  "language_info": {
   "codemirror_mode": {
    "name": "ipython",
    "version": 3
   },
   "file_extension": ".py",
   "mimetype": "text/x-python",
   "name": "python",
   "nbconvert_exporter": "python",
   "pygments_lexer": "ipython3",
   "version": "3.7.3"
  }
 },
 "nbformat": 4,
 "nbformat_minor": 2
}
