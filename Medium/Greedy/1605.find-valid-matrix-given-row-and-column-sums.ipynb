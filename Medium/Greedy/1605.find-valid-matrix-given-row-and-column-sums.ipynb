{
 "cells": [
  {
   "cell_type": "markdown",
   "metadata": {},
   "source": [
    "## Attempt 1 - Accepted"
   ]
  },
  {
   "cell_type": "code",
   "execution_count": null,
   "metadata": {},
   "outputs": [],
   "source": [
    "class Solution:\n",
    "    def restoreMatrix(self, rowSum: List[int], colSum: List[int]) -> List[List[int]]:\n",
    "        def minus(vec1, vec2):\n",
    "            return [v1 - v2 for v1, v2 in zip(vec1, vec2)]\n",
    "        \n",
    "        C = len(colSum)\n",
    "        res = []\n",
    "        for r in rowSum:\n",
    "            t = r\n",
    "            to_add = []\n",
    "            for idx in range(C):\n",
    "                curr = min(colSum[idx], t)\n",
    "                t -= curr\n",
    "                colSum[idx] -= curr\n",
    "                to_add.append(curr)\n",
    "            res.append(to_add)\n",
    "        return res"
   ]
  },
  {
   "cell_type": "markdown",
   "metadata": {},
   "source": [
    "## Lessons and Thoughts\n",
    "- Just assign the first columns' budget to satisfy the row sums as much as we can."
   ]
  }
 ],
 "metadata": {
  "kernelspec": {
   "display_name": "Python 3",
   "language": "python",
   "name": "python3"
  },
  "language_info": {
   "codemirror_mode": {
    "name": "ipython",
    "version": 3
   },
   "file_extension": ".py",
   "mimetype": "text/x-python",
   "name": "python",
   "nbconvert_exporter": "python",
   "pygments_lexer": "ipython3",
   "version": "3.7.3"
  }
 },
 "nbformat": 4,
 "nbformat_minor": 2
}
