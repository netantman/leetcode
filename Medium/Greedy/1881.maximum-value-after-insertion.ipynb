{
 "cells": [
  {
   "cell_type": "markdown",
   "metadata": {},
   "source": [
    "## Attempt 1 - Wrong Answer"
   ]
  },
  {
   "cell_type": "code",
   "execution_count": null,
   "metadata": {},
   "outputs": [],
   "source": [
    "class Solution:\n",
    "    def maxValue(self, n: str, x: int) -> str:\n",
    "        L = len(n)\n",
    "        res = []\n",
    "        head = int(str(x)[0])\n",
    "        if n[0] == \"-\":\n",
    "            for idx in range(1, L):\n",
    "                if int(n[idx]) >= head:\n",
    "                    res.append(int(n[:idx] + str(x) + n[idx:])) ## --> missed the edge case where it should be sticked to the end\n",
    "        else:\n",
    "            for idx in range(L):\n",
    "                if int(n[idx]) <= head:\n",
    "                    res.append(int(n[:idx] + str(x) + n[idx:]))\n",
    "        return str(max(res))"
   ]
  },
  {
   "cell_type": "markdown",
   "metadata": {},
   "source": [
    "## Attempt 2 - Time Limit Exceeded"
   ]
  },
  {
   "cell_type": "code",
   "execution_count": null,
   "metadata": {},
   "outputs": [],
   "source": [
    "class Solution:\n",
    "    def maxValue(self, n: str, x: int) -> str:\n",
    "        L = len(n)\n",
    "        res = []\n",
    "        head = int(str(x)[0])\n",
    "        if n[0] == \"-\":\n",
    "            for idx in range(1, L):\n",
    "                if int(n[idx]) >= head:\n",
    "                    res.append(int(n[:idx] + str(x) + n[idx:])) ## --> you can break after that\n",
    "            res.append(int(n + str(x)))\n",
    "        else:\n",
    "            for idx in range(L):\n",
    "                if int(n[idx]) <= head:\n",
    "                    res.append(int(n[:idx] + str(x) + n[idx:]))\n",
    "            res.append(int(n + str(x)))\n",
    "        return str(max(res))"
   ]
  },
  {
   "cell_type": "markdown",
   "metadata": {},
   "source": [
    "## Attempt 3 - Wrong Answer"
   ]
  },
  {
   "cell_type": "code",
   "execution_count": null,
   "metadata": {},
   "outputs": [],
   "source": [
    "class Solution:\n",
    "    def maxValue(self, n: str, x: int) -> str:\n",
    "        L = len(n)\n",
    "        Lx = len(str(x))\n",
    "        res = []\n",
    "        if n[0] == \"-\":\n",
    "            for idx in range(1, L):\n",
    "                if int(n[idx: idx + Lx]) >= x:\n",
    "                    res.append(int(n[:idx] + str(x) + n[idx:]))\n",
    "                    break\n",
    "            res.append(int(n + str(x)))\n",
    "        else:\n",
    "            for idx in range(L):\n",
    "                if int(n[idx: idx + Lx]) <= x: ## --> should not be equal\n",
    "                    res.append(int(n[:idx] + str(x) + n[idx:]))\n",
    "                    break\n",
    "            res.append(int(n + str(x)))\n",
    "        return str(max(res))"
   ]
  },
  {
   "cell_type": "markdown",
   "metadata": {},
   "source": [
    "## Attempt 4 - Accepted"
   ]
  },
  {
   "cell_type": "code",
   "execution_count": null,
   "metadata": {},
   "outputs": [],
   "source": [
    "class Solution:\n",
    "    def maxValue(self, n: str, x: int) -> str:\n",
    "        L = len(n)\n",
    "        Lx = len(str(x))\n",
    "        res = []\n",
    "        if n[0] == \"-\":\n",
    "            for idx in range(1, L):\n",
    "                if int(n[idx: idx + Lx]) > x:\n",
    "                    res.append(int(n[:idx] + str(x) + n[idx:]))\n",
    "                    break\n",
    "            res.append(int(n + str(x)))\n",
    "        else:\n",
    "            for idx in range(L):\n",
    "                if int(n[idx: idx + Lx]) < x:\n",
    "                    res.append(int(n[:idx] + str(x) + n[idx:]))\n",
    "                    break\n",
    "            res.append(int(n + str(x)))\n",
    "        return str(max(res))"
   ]
  },
  {
   "cell_type": "markdown",
   "metadata": {},
   "source": [
    "## Lessons and Thoughts\n",
    "- Missed the edge case where the number is appended at the end.\n",
    "- Other than that, does not seem anything to watch out for."
   ]
  }
 ],
 "metadata": {
  "kernelspec": {
   "display_name": "Python 3",
   "language": "python",
   "name": "python3"
  },
  "language_info": {
   "codemirror_mode": {
    "name": "ipython",
    "version": 3
   },
   "file_extension": ".py",
   "mimetype": "text/x-python",
   "name": "python",
   "nbconvert_exporter": "python",
   "pygments_lexer": "ipython3",
   "version": "3.7.3"
  }
 },
 "nbformat": 4,
 "nbformat_minor": 2
}
