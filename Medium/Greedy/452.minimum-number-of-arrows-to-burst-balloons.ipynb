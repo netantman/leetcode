{
 "cells": [
  {
   "cell_type": "markdown",
   "metadata": {},
   "source": [
    "## Attempt 1 - Accepted"
   ]
  },
  {
   "cell_type": "code",
   "execution_count": null,
   "metadata": {},
   "outputs": [],
   "source": [
    "class Solution:\n",
    "    def findMinArrowShots(self, points: List[List[int]]) -> int:\n",
    "        L=len(points)\n",
    "        if L<=1:\n",
    "            return L\n",
    "        \n",
    "        points=sorted(points, key=lambda p:p[0])\n",
    "        stack=[points[0]]\n",
    "        for idx in range(1,L):\n",
    "            p=points[idx]\n",
    "            inter=stack[-1]\n",
    "            new_left=max(inter[0],p[0])\n",
    "            new_right=min(inter[1],p[1])\n",
    "            if new_left<=new_right:\n",
    "                stack.pop(-1)\n",
    "                stack.append([new_left, new_right])\n",
    "            else:\n",
    "                stack.append(p)\n",
    "        \n",
    "        return len(stack)"
   ]
  },
  {
   "cell_type": "markdown",
   "metadata": {},
   "source": [
    "## Lessons and Thoughts\n",
    "- Have not proved why this is the global minimum."
   ]
  }
 ],
 "metadata": {
  "kernelspec": {
   "display_name": "Python 3",
   "language": "python",
   "name": "python3"
  },
  "language_info": {
   "codemirror_mode": {
    "name": "ipython",
    "version": 3
   },
   "file_extension": ".py",
   "mimetype": "text/x-python",
   "name": "python",
   "nbconvert_exporter": "python",
   "pygments_lexer": "ipython3",
   "version": "3.7.3"
  }
 },
 "nbformat": 4,
 "nbformat_minor": 2
}
