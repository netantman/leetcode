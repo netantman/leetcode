{
 "cells": [
  {
   "cell_type": "markdown",
   "metadata": {},
   "source": [
    "## Attempt 1 - Accepted"
   ]
  },
  {
   "cell_type": "code",
   "execution_count": null,
   "metadata": {},
   "outputs": [],
   "source": [
    "class Solution:\n",
    "    def smallestFactorization(self, num: int) -> int:\n",
    "        if num == 1:\n",
    "            return 1 ## --> missed this edge case\n",
    "        \n",
    "        res = []\n",
    "        while num > 1:\n",
    "            for n in range(9, 1, -1):\n",
    "                if num % n < 1:\n",
    "                    res.append(n)\n",
    "                    num = num // n\n",
    "                    break\n",
    "            else:\n",
    "                return 0\n",
    "        res = int(\"\".join([str(r) for r in res[::-1]]))\n",
    "        if res > 2 ** 31 - 1:\n",
    "            return 0\n",
    "        return res"
   ]
  },
  {
   "cell_type": "markdown",
   "metadata": {},
   "source": [
    "## Lessons and Thoughts\n",
    "- Essentially just try to get as few digits as possible. But you missed an edge case of `n=1`."
   ]
  }
 ],
 "metadata": {
  "kernelspec": {
   "display_name": "Python 3",
   "language": "python",
   "name": "python3"
  },
  "language_info": {
   "codemirror_mode": {
    "name": "ipython",
    "version": 3
   },
   "file_extension": ".py",
   "mimetype": "text/x-python",
   "name": "python",
   "nbconvert_exporter": "python",
   "pygments_lexer": "ipython3",
   "version": "3.7.3"
  }
 },
 "nbformat": 4,
 "nbformat_minor": 2
}
