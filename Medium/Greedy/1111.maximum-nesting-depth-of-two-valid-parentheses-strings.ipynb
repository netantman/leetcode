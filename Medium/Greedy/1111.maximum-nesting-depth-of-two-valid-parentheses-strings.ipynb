{
 "cells": [
  {
   "cell_type": "markdown",
   "metadata": {},
   "source": [
    "## Attempt 1 - Accepted"
   ]
  },
  {
   "cell_type": "code",
   "execution_count": null,
   "metadata": {},
   "outputs": [],
   "source": [
    "class Solution:\n",
    "    def maxDepthAfterSplit(self, seq: str) -> List[int]:\n",
    "        left_A,left_B=1,0\n",
    "        L=len(seq)\n",
    "        res=[0 for _ in range(L)]\n",
    "        for idx in range(1,L):\n",
    "            if seq[idx]==\"(\":\n",
    "                if left_A>left_B:\n",
    "                    res[idx]=1\n",
    "                    left_B+=1\n",
    "                else:\n",
    "                    left_A+=1\n",
    "            else:\n",
    "                if left_A>left_B:\n",
    "                    left_A-=1\n",
    "                else:\n",
    "                    res[idx]=1\n",
    "                    left_B-=1\n",
    "        return res"
   ]
  },
  {
   "cell_type": "markdown",
   "metadata": {},
   "source": [
    "## Lessons and Thoughts\n",
    "- Essentially the idea is to assign intervals as equally as possible between A and B. Algo inspired by app."
   ]
  }
 ],
 "metadata": {
  "kernelspec": {
   "display_name": "Python 3",
   "language": "python",
   "name": "python3"
  },
  "language_info": {
   "codemirror_mode": {
    "name": "ipython",
    "version": 3
   },
   "file_extension": ".py",
   "mimetype": "text/x-python",
   "name": "python",
   "nbconvert_exporter": "python",
   "pygments_lexer": "ipython3",
   "version": "3.7.3"
  }
 },
 "nbformat": 4,
 "nbformat_minor": 2
}
