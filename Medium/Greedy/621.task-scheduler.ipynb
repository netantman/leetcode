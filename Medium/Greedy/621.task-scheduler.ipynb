{
 "cells": [
  {
   "cell_type": "markdown",
   "metadata": {},
   "source": [
    "## Attempt 1 - Accepted"
   ]
  },
  {
   "cell_type": "code",
   "execution_count": null,
   "metadata": {},
   "outputs": [],
   "source": [
    "class Solution:\n",
    "    def leastInterval(self, tasks: List[str], n: int) -> int:\n",
    "        length=len(tasks)\n",
    "        if length<=1:\n",
    "            return length\n",
    "        \n",
    "        task_map=dict()\n",
    "        for task in tasks:\n",
    "            task_map[task]=task_map.get(task,0)+1\n",
    "        \n",
    "        task_sort=sorted(task_map.items(), key=lambda x: x[1], reverse=True)\n",
    "        maxx=task_sort[0][1]\n",
    "        res=(maxx-1)*(n+1)\n",
    "        \n",
    "        for sort in task_sort:\n",
    "            if sort[1]==maxx:\n",
    "                res+=1\n",
    "        \n",
    "        return max(length, res)"
   ]
  },
  {
   "cell_type": "markdown",
   "metadata": {},
   "source": [
    "## Lessons and Thoughts\n",
    "- The accepted algo is from leetcode app. The key is greedily schedule the most frequent tasks first. If number of most frequent tasks is equal or larger than `n`, then all of these most frequent tasks can chain together without having to idle; othersie there need to be at least `n` spaces between any given most frequent tasks, having to idle. Thus `res` can either be bigger or smaller than `res`.\n",
    "- Use `get` to set `dict` default values."
   ]
  }
 ],
 "metadata": {
  "kernelspec": {
   "display_name": "Python 3",
   "language": "python",
   "name": "python3"
  },
  "language_info": {
   "codemirror_mode": {
    "name": "ipython",
    "version": 3
   },
   "file_extension": ".py",
   "mimetype": "text/x-python",
   "name": "python",
   "nbconvert_exporter": "python",
   "pygments_lexer": "ipython3",
   "version": "3.7.3"
  }
 },
 "nbformat": 4,
 "nbformat_minor": 2
}
