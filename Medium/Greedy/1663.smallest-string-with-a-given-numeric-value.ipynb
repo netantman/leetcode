{
 "cells": [
  {
   "cell_type": "markdown",
   "metadata": {},
   "source": [
    "## Attempt 1 - Time Limit Exceeded"
   ]
  },
  {
   "cell_type": "code",
   "execution_count": null,
   "metadata": {},
   "outputs": [],
   "source": [
    "class Solution:\n",
    "    def getSmallestString(self, n: int, k: int) -> str:\n",
    "        res = \"\"\n",
    "        if k == 26 * n:\n",
    "            return \"z\" * n\n",
    "        if k == n:\n",
    "            return \"a\" * n\n",
    "        while len(res) < n:\n",
    "            curr = k - (n - len(res)) \n",
    "            if curr >= 26:\n",
    "                k -= 26\n",
    "                res = \"z\" + res\n",
    "            elif curr > 0:\n",
    "                res = chr(ord(\"a\") + curr) + res\n",
    "                res = \"a\" * (n - len(res)) + res\n",
    "                return res\n",
    "            else:\n",
    "                res = \"a\" * (n - len(res)) + res\n",
    "                return res"
   ]
  },
  {
   "cell_type": "markdown",
   "metadata": {},
   "source": [
    "## Attempt 2 - Accepted"
   ]
  },
  {
   "cell_type": "code",
   "execution_count": null,
   "metadata": {},
   "outputs": [],
   "source": [
    "class Solution:\n",
    "    def getSmallestString(self, n: int, k: int) -> str:\n",
    "        res = [1 for _ in range(n)]\n",
    "        last = (k - n) // 25\n",
    "        residual = (k - n) % 25\n",
    "        for idx in range(n - 1, n - last - 1, -1):\n",
    "            res[idx] += 25\n",
    "        res[n - last - 1] += residual\n",
    "        res = [chr(ord(\"a\") + r - 1) for r in res]\n",
    "        return \"\".join(res)"
   ]
  },
  {
   "cell_type": "markdown",
   "metadata": {},
   "source": [
    "## Lessons and Thoughts\n",
    "- Greedy algo: try to push 'large' letters to the back.\n",
    "- Don't need to do it iteratively"
   ]
  }
 ],
 "metadata": {
  "kernelspec": {
   "display_name": "Python 3",
   "language": "python",
   "name": "python3"
  },
  "language_info": {
   "codemirror_mode": {
    "name": "ipython",
    "version": 3
   },
   "file_extension": ".py",
   "mimetype": "text/x-python",
   "name": "python",
   "nbconvert_exporter": "python",
   "pygments_lexer": "ipython3",
   "version": "3.7.3"
  }
 },
 "nbformat": 4,
 "nbformat_minor": 2
}
