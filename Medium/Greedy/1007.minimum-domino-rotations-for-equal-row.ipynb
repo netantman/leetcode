{
 "cells": [
  {
   "cell_type": "markdown",
   "metadata": {},
   "source": [
    "## Attempt 1 - Accepted"
   ]
  },
  {
   "cell_type": "code",
   "execution_count": null,
   "metadata": {},
   "outputs": [],
   "source": [
    "class Solution:\n",
    "    def minDominoRotations(self, A: List[int], B: List[int]) -> int:\n",
    "        record=[0 for _ in range(7)]\n",
    "        L=len(A)\n",
    "        for a,b in zip(A,B):\n",
    "            if a==b:\n",
    "                record[a]+=1\n",
    "            else:\n",
    "                record[a]+=1\n",
    "                record[b]+=1\n",
    "        if max(record)<L:\n",
    "            return -1\n",
    "        else:\n",
    "            m=0\n",
    "            for idx in range(1,7):\n",
    "                if record[idx]>=max(record):\n",
    "                    m=idx\n",
    "                    break\n",
    "            cnt_a,cnt_b=0,0\n",
    "            for a,b in zip(A,B):\n",
    "                if a!=m:\n",
    "                    cnt_a+=1\n",
    "                if b!=m:\n",
    "                    cnt_b+=1\n",
    "            return min(cnt_a, cnt_b)"
   ]
  },
  {
   "cell_type": "markdown",
   "metadata": {},
   "source": [
    "## Lessons and Thoughts\n",
    "- The trick is to conveniently check whether it is possible."
   ]
  }
 ],
 "metadata": {
  "kernelspec": {
   "display_name": "Python 3",
   "language": "python",
   "name": "python3"
  },
  "language_info": {
   "codemirror_mode": {
    "name": "ipython",
    "version": 3
   },
   "file_extension": ".py",
   "mimetype": "text/x-python",
   "name": "python",
   "nbconvert_exporter": "python",
   "pygments_lexer": "ipython3",
   "version": "3.7.3"
  }
 },
 "nbformat": 4,
 "nbformat_minor": 2
}
