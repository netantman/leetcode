{
 "cells": [
  {
   "cell_type": "markdown",
   "metadata": {},
   "source": [
    "## Attempt 1 - Accepted"
   ]
  },
  {
   "cell_type": "code",
   "execution_count": null,
   "metadata": {},
   "outputs": [],
   "source": [
    "class Solution:\n",
    "    def minPairSum(self, nums: List[int]) -> int:\n",
    "        nums = sorted(nums)\n",
    "        L = len(nums)\n",
    "        l, r = 0, L - 1\n",
    "        res = float('-inf')\n",
    "        while l < r:\n",
    "            res = max(res, nums[l] + nums[r])\n",
    "            l += 1\n",
    "            r -= 1\n",
    "        return res"
   ]
  },
  {
   "cell_type": "markdown",
   "metadata": {},
   "source": [
    "## Lessons and Thoughts\n",
    "- The idea is just pair the maximum with the minimum and so on and so forth."
   ]
  }
 ],
 "metadata": {
  "kernelspec": {
   "display_name": "Python 3",
   "language": "python",
   "name": "python3"
  },
  "language_info": {
   "codemirror_mode": {
    "name": "ipython",
    "version": 3
   },
   "file_extension": ".py",
   "mimetype": "text/x-python",
   "name": "python",
   "nbconvert_exporter": "python",
   "pygments_lexer": "ipython3",
   "version": "3.7.3"
  }
 },
 "nbformat": 4,
 "nbformat_minor": 2
}
