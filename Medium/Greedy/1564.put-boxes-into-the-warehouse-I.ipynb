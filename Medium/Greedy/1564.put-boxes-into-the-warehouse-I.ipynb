{
 "cells": [
  {
   "cell_type": "markdown",
   "metadata": {},
   "source": [
    "## Attempt 1 - Wrong Answer"
   ]
  },
  {
   "cell_type": "code",
   "execution_count": null,
   "metadata": {},
   "outputs": [],
   "source": [
    "class Solution:\n",
    "    def maxBoxesInWarehouse(self, boxes: List[int], warehouse: List[int]) -> int:\n",
    "        bottleneck = [float('inf')]\n",
    "        for w in warehouse:\n",
    "            bottleneck.append(min(bottleneck[-1], w))\n",
    "        bottleneck.pop(0)\n",
    "        \n",
    "        boxes = sorted(boxes)\n",
    "        \n",
    "        cnt = 0\n",
    "        for w, b in zip(warehouse[::-1], bottleneck[::-1]):\n",
    "            ceiling = min(w, b)\n",
    "            if boxes[0] > ceiling:  ## --> did not consider the edge case that all boxes are gone\n",
    "                continue\n",
    "            if boxes[-1] <= ceiling:\n",
    "                boxes.pop()\n",
    "                cnt += 1\n",
    "                continue\n",
    "            l, r = 0, len(boxes) - 1\n",
    "            while r - l > 1:\n",
    "                m = (l + r) // 2\n",
    "                if boxes[m] <= ceiling:\n",
    "                    l = m\n",
    "                else:\n",
    "                    r = m\n",
    "            boxes.pop(l)\n",
    "            cnt += 1\n",
    "\n",
    "        return cnt"
   ]
  },
  {
   "cell_type": "markdown",
   "metadata": {},
   "source": [
    "## Attempt 2 - Accepted"
   ]
  },
  {
   "cell_type": "code",
   "execution_count": null,
   "metadata": {},
   "outputs": [],
   "source": [
    "class Solution:\n",
    "    def maxBoxesInWarehouse(self, boxes: List[int], warehouse: List[int]) -> int:\n",
    "        bottleneck = [float('inf')]\n",
    "        for w in warehouse:\n",
    "            bottleneck.append(min(bottleneck[-1], w))\n",
    "        bottleneck.pop(0)\n",
    "        \n",
    "        boxes = sorted(boxes)\n",
    "        \n",
    "        cnt = 0\n",
    "        for w, b in zip(warehouse[::-1], bottleneck[::-1]):\n",
    "            if not boxes:\n",
    "                break\n",
    "            ceiling = min(w, b)\n",
    "            if boxes[0] > ceiling:\n",
    "                continue\n",
    "            if boxes[-1] <= ceiling:\n",
    "                boxes.pop()\n",
    "                cnt += 1\n",
    "                continue\n",
    "            l, r = 0, len(boxes) - 1\n",
    "            while r - l > 1:\n",
    "                m = (l + r) // 2\n",
    "                if boxes[m] <= ceiling:\n",
    "                    l = m\n",
    "                else:\n",
    "                    r = m\n",
    "            boxes.pop(l)\n",
    "            cnt += 1\n",
    "\n",
    "        return cnt"
   ]
  },
  {
   "cell_type": "markdown",
   "metadata": {},
   "source": [
    "## Lessons and Thoughts\n",
    "- Index out of range error!"
   ]
  }
 ],
 "metadata": {
  "kernelspec": {
   "display_name": "Python 3",
   "language": "python",
   "name": "python3"
  },
  "language_info": {
   "codemirror_mode": {
    "name": "ipython",
    "version": 3
   },
   "file_extension": ".py",
   "mimetype": "text/x-python",
   "name": "python",
   "nbconvert_exporter": "python",
   "pygments_lexer": "ipython3",
   "version": "3.7.3"
  }
 },
 "nbformat": 4,
 "nbformat_minor": 2
}
