{
 "cells": [
  {
   "cell_type": "markdown",
   "metadata": {},
   "source": [
    "## Attempt 1 - Accepted"
   ]
  },
  {
   "cell_type": "code",
   "execution_count": null,
   "metadata": {},
   "outputs": [],
   "source": [
    "class Solution:\n",
    "    def findLeastNumOfUniqueInts(self, arr: List[int], k: int) -> int:\n",
    "        record = dict()\n",
    "        for a in arr:\n",
    "            record[a] = record.get(a, 0) + 1\n",
    "        counts = sorted(record.values())\n",
    "        \n",
    "        cumsum = [0]\n",
    "        for c in counts:\n",
    "            cumsum.append(c + cumsum[-1])\n",
    "        cumsum.pop(0)\n",
    "        \n",
    "        if k < cumsum[0]:\n",
    "            return len(cumsum)\n",
    "        if k == cumsum[-1]:\n",
    "            return 0\n",
    "        l, r = 0, len(cumsum) - 1\n",
    "        while l < r - 1:\n",
    "            m = (l + r) // 2\n",
    "            if cumsum[m] > k:\n",
    "                r = m\n",
    "            else:\n",
    "                l = m\n",
    "        return len(cumsum) - (l + 1)"
   ]
  },
  {
   "cell_type": "markdown",
   "metadata": {},
   "source": [
    "## Lessons and Thoughts\n",
    "- The idea is to eliminate least-occurent elements first. \n",
    "- `cumsum` and binary search to optimize"
   ]
  }
 ],
 "metadata": {
  "kernelspec": {
   "display_name": "Python 3",
   "language": "python",
   "name": "python3"
  },
  "language_info": {
   "codemirror_mode": {
    "name": "ipython",
    "version": 3
   },
   "file_extension": ".py",
   "mimetype": "text/x-python",
   "name": "python",
   "nbconvert_exporter": "python",
   "pygments_lexer": "ipython3",
   "version": "3.7.3"
  }
 },
 "nbformat": 4,
 "nbformat_minor": 2
}
