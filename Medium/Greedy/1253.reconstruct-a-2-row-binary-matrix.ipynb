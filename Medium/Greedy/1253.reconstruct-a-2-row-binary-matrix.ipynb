{
 "cells": [
  {
   "cell_type": "markdown",
   "metadata": {},
   "source": [
    "## Attempt 1 - Accepted"
   ]
  },
  {
   "cell_type": "code",
   "execution_count": null,
   "metadata": {},
   "outputs": [],
   "source": [
    "class Solution:\n",
    "    def reconstructMatrix(self, upper: int, lower: int, colsum: List[int]) -> List[List[int]]:\n",
    "        n=len(colsum)\n",
    "        if upper+lower!=sum(colsum):\n",
    "            return []\n",
    "        res=[[0]*n]\n",
    "        res.append([0]*n)\n",
    "        switch=[]\n",
    "        up=0\n",
    "        for idx, s in enumerate(colsum):\n",
    "            if s==1:\n",
    "                res[0][idx]=1\n",
    "                up+=1\n",
    "                switch.append(idx)\n",
    "            elif s==2:\n",
    "                res[0][idx]=1\n",
    "                up+=1\n",
    "                res[1][idx]=1\n",
    "        if up<upper:\n",
    "            return []\n",
    "        elif up==upper:\n",
    "            return res\n",
    "        elif up-upper>len(switch):\n",
    "            return []\n",
    "        else:\n",
    "            cnt=0\n",
    "            for swi in switch:\n",
    "                if cnt<up-upper:\n",
    "                    res[0][swi],res[1][swi]=res[1][swi],res[0][swi]\n",
    "                    cnt+=1\n",
    "            return res"
   ]
  },
  {
   "cell_type": "markdown",
   "metadata": {},
   "source": [
    "## Lessons and Thoughts\n",
    "- Straightforward: simply first satisfy the column requirement, and then adjust to satisfy the first and second rows. Note the edge cases which lead to an infeasible case."
   ]
  }
 ],
 "metadata": {
  "kernelspec": {
   "display_name": "Python 3",
   "language": "python",
   "name": "python3"
  },
  "language_info": {
   "codemirror_mode": {
    "name": "ipython",
    "version": 3
   },
   "file_extension": ".py",
   "mimetype": "text/x-python",
   "name": "python",
   "nbconvert_exporter": "python",
   "pygments_lexer": "ipython3",
   "version": "3.7.3"
  }
 },
 "nbformat": 4,
 "nbformat_minor": 2
}
