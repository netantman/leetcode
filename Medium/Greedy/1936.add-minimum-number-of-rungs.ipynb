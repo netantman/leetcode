{
 "cells": [
  {
   "cell_type": "markdown",
   "metadata": {},
   "source": [
    "## Attempt 1 - Time Limit Exceeded"
   ]
  },
  {
   "cell_type": "code",
   "execution_count": null,
   "metadata": {},
   "outputs": [],
   "source": [
    "class Solution:\n",
    "    def addRungs(self, rungs: List[int], dist: int) -> int:\n",
    "        cnt = 0\n",
    "        curr = 0\n",
    "        while rungs:\n",
    "            if rungs[0] <= curr + dist:\n",
    "                curr = rungs[0]\n",
    "                rungs.pop(0)\n",
    "            else:\n",
    "                cnt += 1\n",
    "                curr += dist\n",
    "        return cnt"
   ]
  },
  {
   "cell_type": "markdown",
   "metadata": {},
   "source": [
    "## Attempt 2 - Accepted"
   ]
  },
  {
   "cell_type": "code",
   "execution_count": null,
   "metadata": {},
   "outputs": [],
   "source": [
    "class Solution:\n",
    "    def addRungs(self, rungs: List[int], dist: int) -> int:\n",
    "        cnt = 0\n",
    "        curr = 0\n",
    "        while rungs:\n",
    "            if rungs[0] <= curr + dist:\n",
    "                curr = rungs[0]\n",
    "                rungs.pop(0)\n",
    "            else:\n",
    "                cnt += ((rungs[0] - curr) // dist) if (rungs[0] - curr) % dist > 0 else ((rungs[0] - curr) // dist) - 1\n",
    "                curr += dist * cnt\n",
    "        return cnt"
   ]
  },
  {
   "cell_type": "markdown",
   "metadata": {},
   "source": [
    "## Lessons and Thoughts\n",
    "- You actually do not need to add rugs one by one."
   ]
  }
 ],
 "metadata": {
  "kernelspec": {
   "display_name": "Python 3",
   "language": "python",
   "name": "python3"
  },
  "language_info": {
   "codemirror_mode": {
    "name": "ipython",
    "version": 3
   },
   "file_extension": ".py",
   "mimetype": "text/x-python",
   "name": "python",
   "nbconvert_exporter": "python",
   "pygments_lexer": "ipython3",
   "version": "3.7.3"
  }
 },
 "nbformat": 4,
 "nbformat_minor": 2
}
