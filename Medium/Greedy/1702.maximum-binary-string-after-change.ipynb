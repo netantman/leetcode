{
 "cells": [
  {
   "cell_type": "markdown",
   "metadata": {},
   "source": [
    "## Attempt 1 - Wrong Answer"
   ]
  },
  {
   "cell_type": "code",
   "execution_count": null,
   "metadata": {},
   "outputs": [],
   "source": [
    "class Solution:\n",
    "    def maximumBinaryString(self, binary: str) -> str:\n",
    "        record = {\"0\": 0, \"1\": 0} ## --> we should just let it be if binary starts with a bunch of 1's.\n",
    "        for c in binary:\n",
    "            record[c] += 1\n",
    "        if record[\"0\"] <= 1:\n",
    "            return binary\n",
    "        res = \"1\" * (record[\"0\"] - 1) + \"0\" + \"1\" * record[\"1\"]\n",
    "        return res"
   ]
  },
  {
   "cell_type": "markdown",
   "metadata": {},
   "source": [
    "## Attempt 2 - Accepted"
   ]
  },
  {
   "cell_type": "code",
   "execution_count": null,
   "metadata": {},
   "outputs": [],
   "source": [
    "class Solution:\n",
    "    def maximumBinaryString(self, binary: str) -> str:\n",
    "        idx = 0\n",
    "        L = len(binary)\n",
    "        while idx < L and binary[idx] == \"1\":\n",
    "            idx += 1\n",
    "        if idx == L:\n",
    "            return binary\n",
    "        binary = binary[idx:]\n",
    "        \n",
    "        record = {\"0\": 0, \"1\": 0}\n",
    "        for c in binary:\n",
    "            record[c] += 1\n",
    "        if record[\"0\"] <= 1:\n",
    "            return binary\n",
    "        res = \"1\" * idx + \"1\" * (record[\"0\"] - 1) + \"0\" + \"1\" * record[\"1\"]\n",
    "        return res"
   ]
  },
  {
   "cell_type": "markdown",
   "metadata": {},
   "source": [
    "## Lessons and Thoughts\n",
    "- The idea is we can move 0 from back to front, and optimally we want to move 0 to where might be 1's. Then turn those 0 into 1 except for the last one."
   ]
  }
 ],
 "metadata": {
  "kernelspec": {
   "display_name": "Python 3",
   "language": "python",
   "name": "python3"
  },
  "language_info": {
   "codemirror_mode": {
    "name": "ipython",
    "version": 3
   },
   "file_extension": ".py",
   "mimetype": "text/x-python",
   "name": "python",
   "nbconvert_exporter": "python",
   "pygments_lexer": "ipython3",
   "version": "3.7.3"
  }
 },
 "nbformat": 4,
 "nbformat_minor": 2
}
