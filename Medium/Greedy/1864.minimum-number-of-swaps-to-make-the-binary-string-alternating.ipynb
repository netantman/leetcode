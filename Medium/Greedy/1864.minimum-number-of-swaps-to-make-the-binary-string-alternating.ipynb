{
 "cells": [
  {
   "cell_type": "markdown",
   "metadata": {},
   "source": [
    "## Attempt 1 - Accepted"
   ]
  },
  {
   "cell_type": "code",
   "execution_count": null,
   "metadata": {},
   "outputs": [],
   "source": [
    "class Solution:\n",
    "    def minSwaps(self, s: str) -> int:\n",
    "        zeros, ones = 0, 0\n",
    "        for c in s:\n",
    "            if c == '1':\n",
    "                ones += 1\n",
    "            else:\n",
    "                zeros += 1\n",
    "        \n",
    "        if abs(ones - zeros) > 1:\n",
    "            return -1\n",
    "        \n",
    "        if ones > zeros:\n",
    "            res = 0\n",
    "            for c in s[1::2]:\n",
    "                res += 1 if c == \"1\" else 0\n",
    "            return res\n",
    "        elif zeros > ones:\n",
    "            res = 0\n",
    "            for c in s[1::2]:\n",
    "                res += 1 if c == \"0\" else 0\n",
    "            return res\n",
    "        else:\n",
    "            ones, zeros = 0, 0\n",
    "            for c in s[1::2]:\n",
    "                if c == \"1\":\n",
    "                    ones += 1\n",
    "                else:\n",
    "                    zeros += 1\n",
    "            return min(ones, zeros)"
   ]
  },
  {
   "cell_type": "markdown",
   "metadata": {},
   "source": [
    "## Lessons and Thoughts\n",
    "- Brute force, but the case where the number of ones and zeros are the same need special treatment."
   ]
  }
 ],
 "metadata": {
  "kernelspec": {
   "display_name": "Python 3",
   "language": "python",
   "name": "python3"
  },
  "language_info": {
   "codemirror_mode": {
    "name": "ipython",
    "version": 3
   },
   "file_extension": ".py",
   "mimetype": "text/x-python",
   "name": "python",
   "nbconvert_exporter": "python",
   "pygments_lexer": "ipython3",
   "version": "3.7.3"
  }
 },
 "nbformat": 4,
 "nbformat_minor": 2
}
