{
 "cells": [
  {
   "cell_type": "markdown",
   "metadata": {},
   "source": [
    "## Attempt 1 - Accepted"
   ]
  },
  {
   "cell_type": "code",
   "execution_count": null,
   "metadata": {},
   "outputs": [],
   "source": [
    "class Solution:\n",
    "    def minOperationsMaxProfit(self, customers: List[int], boardingCost: int, runningCost: int) -> int:\n",
    "        CAPACITY = 4\n",
    "        b, r = boardingCost, runningCost\n",
    "        rotate, stack = 0, 0\n",
    "        maxx, profit = -1, 0\n",
    "        res = -1\n",
    "        \n",
    "        while customers:\n",
    "            stack += customers.pop(0)\n",
    "            board = min(CAPACITY, stack)\n",
    "            stack -= board\n",
    "            profit += (b * board - r)\n",
    "            rotate += 1\n",
    "            if profit > 0 and profit > maxx:\n",
    "                maxx = profit\n",
    "                res = rotate\n",
    "        \n",
    "        if stack < 1:\n",
    "            return res\n",
    "        \n",
    "        while stack > 0:\n",
    "            board = min(CAPACITY, stack)\n",
    "            stack -= board\n",
    "            profit += (b * board - r)\n",
    "            rotate += 1\n",
    "            if profit > 0 and profit > maxx:\n",
    "                maxx = profit\n",
    "                res = rotate\n",
    "        \n",
    "        return res"
   ]
  },
  {
   "cell_type": "markdown",
   "metadata": {},
   "source": [
    "## Lessons and Thoughts\n",
    "- Just let as many people board as possible"
   ]
  }
 ],
 "metadata": {
  "kernelspec": {
   "display_name": "Python 3",
   "language": "python",
   "name": "python3"
  },
  "language_info": {
   "codemirror_mode": {
    "name": "ipython",
    "version": 3
   },
   "file_extension": ".py",
   "mimetype": "text/x-python",
   "name": "python",
   "nbconvert_exporter": "python",
   "pygments_lexer": "ipython3",
   "version": "3.7.3"
  }
 },
 "nbformat": 4,
 "nbformat_minor": 2
}
