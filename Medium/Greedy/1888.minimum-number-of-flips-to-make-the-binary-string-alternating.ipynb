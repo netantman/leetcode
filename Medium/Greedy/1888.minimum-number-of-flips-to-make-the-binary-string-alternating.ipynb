{
 "cells": [
  {
   "cell_type": "markdown",
   "metadata": {},
   "source": [
    "## Attempt 1 - Time Limit Exceeded"
   ]
  },
  {
   "cell_type": "code",
   "execution_count": null,
   "metadata": {},
   "outputs": [],
   "source": [
    "class Solution:\n",
    "    def minFlips(self, s: str) -> int:            \n",
    "        L = len(s)\n",
    "        def calc(input, length):\n",
    "            odd_ones = sum([1 if input[idx] == \"1\" else 0 for idx in range(1, L, 2)])\n",
    "            even_ones = sum([1 if input[idx] == \"1\" else 0 for idx in range(0, L, 2)])\n",
    "            odd_zeros = length - odd_ones\n",
    "            even_zeros = L - length - even_ones\n",
    "            return min(even_ones + odd_zeros, even_zeros + odd_ones)        \n",
    "        \n",
    "        if L % 2 < 1:\n",
    "            return calc(s, L // 2)\n",
    "        \n",
    "        switch = 0\n",
    "        res = float('inf')\n",
    "        while switch < L:\n",
    "            res = min(calc(s, L // 2), res)\n",
    "            s = s[1:] + s[0]\n",
    "            switch += 1\n",
    "        return res"
   ]
  },
  {
   "cell_type": "markdown",
   "metadata": {},
   "source": [
    "## Attempt 2 - Accepted"
   ]
  },
  {
   "cell_type": "code",
   "execution_count": null,
   "metadata": {},
   "outputs": [],
   "source": [
    "class Solution:\n",
    "    def minFlips(self, s: str) -> int:            \n",
    "        L = len(s)\n",
    "        def calc(input):\n",
    "            odd_ones = sum([1 if input[idx] == \"1\" else 0 for idx in range(1, L, 2)])\n",
    "            even_ones = sum([1 if input[idx] == \"1\" else 0 for idx in range(0, L, 2)])\n",
    "            odd_zeros = L // 2 - odd_ones\n",
    "            even_zeros = L - L // 2 - even_ones\n",
    "            return even_ones, odd_zeros, even_zeros, odd_ones        \n",
    "        \n",
    "        if L % 2 < 1:\n",
    "            even_ones, odd_zeros, even_zeros, odd_ones = calc(s)\n",
    "            return min(even_ones + odd_zeros, even_zeros + odd_ones)\n",
    "        \n",
    "        switch = 0\n",
    "        res = float('inf')\n",
    "        even_ones, odd_zeros, even_zeros, odd_ones = calc(s)\n",
    "        while switch < L:\n",
    "            res = min(min(even_ones + odd_zeros, even_zeros + odd_ones), res)\n",
    "            if res < 1:\n",
    "                return res\n",
    "            if switch % 2 < 1 and s[switch] == \"1\":\n",
    "                even_ones -= 1\n",
    "                odd_ones += 1\n",
    "            if switch % 2 < 1 and s[switch] == \"0\":\n",
    "                even_zeros -= 1\n",
    "                odd_zeros += 1\n",
    "            if switch % 2 > 0 and s[switch] == \"1\":\n",
    "                odd_ones -= 1\n",
    "                even_ones += 1\n",
    "            if switch % 2 > 0 and s[switch] == \"0\":\n",
    "                odd_zeros -= 1\n",
    "                even_zeros += 1\n",
    "            switch += 1\n",
    "        return res"
   ]
  },
  {
   "cell_type": "markdown",
   "metadata": {},
   "source": [
    "## Lessons and Thoughts\n",
    "- "
   ]
  }
 ],
 "metadata": {
  "kernelspec": {
   "display_name": "Python 3",
   "language": "python",
   "name": "python3"
  },
  "language_info": {
   "codemirror_mode": {
    "name": "ipython",
    "version": 3
   },
   "file_extension": ".py",
   "mimetype": "text/x-python",
   "name": "python",
   "nbconvert_exporter": "python",
   "pygments_lexer": "ipython3",
   "version": "3.7.3"
  }
 },
 "nbformat": 4,
 "nbformat_minor": 2
}
