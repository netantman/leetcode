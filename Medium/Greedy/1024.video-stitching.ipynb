{
 "cells": [
  {
   "cell_type": "markdown",
   "metadata": {},
   "source": [
    "## Attempt 1 - Accepted"
   ]
  },
  {
   "cell_type": "code",
   "execution_count": null,
   "metadata": {},
   "outputs": [],
   "source": [
    "class Solution:\n",
    "    def videoStitching(self, clips: List[List[int]], T: int) -> int:\n",
    "        clips=sorted(clips, key=lambda x:x[0])\n",
    "        prev=-1\n",
    "        upper=0\n",
    "        cnt=0\n",
    "        for idx, clip in enumerate(clips):\n",
    "            if upper>=T:\n",
    "                return cnt\n",
    "            elif clip[0]>upper:\n",
    "                return -1\n",
    "            elif clip[1]>upper:\n",
    "                if prev<clip[0]:\n",
    "                    cnt+=1\n",
    "                    prev=upper\n",
    "                upper=clip[1]\n",
    "        if upper<T:\n",
    "            return -1\n",
    "        else:\n",
    "            return cnt"
   ]
  },
  {
   "cell_type": "markdown",
   "metadata": {},
   "source": [
    "## Lessons and Thoughts\n",
    "- First sort the clips, and the greedy part is whenever the next added one can actually hinges on the rightmost before the last one, we do not need the last one."
   ]
  }
 ],
 "metadata": {
  "kernelspec": {
   "display_name": "Python 3",
   "language": "python",
   "name": "python3"
  },
  "language_info": {
   "codemirror_mode": {
    "name": "ipython",
    "version": 3
   },
   "file_extension": ".py",
   "mimetype": "text/x-python",
   "name": "python",
   "nbconvert_exporter": "python",
   "pygments_lexer": "ipython3",
   "version": "3.7.3"
  }
 },
 "nbformat": 4,
 "nbformat_minor": 2
}
