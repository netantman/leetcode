{
 "cells": [
  {
   "cell_type": "markdown",
   "metadata": {},
   "source": [
    "## Attempt 1 - Accepted"
   ]
  },
  {
   "cell_type": "code",
   "execution_count": null,
   "metadata": {},
   "outputs": [],
   "source": [
    "class Solution:\n",
    "    def minCost(self, s: str, cost: List[int]) -> int:\n",
    "        L = len(s)\n",
    "        left, right = 0, 1\n",
    "        res = 0\n",
    "        while right != L:\n",
    "            if s[right] != s[left]:\n",
    "                sub = cost[left: right]\n",
    "                res += (sum(sub) - max(sub))\n",
    "                left = right\n",
    "                right = left + 1\n",
    "            else:\n",
    "                right += 1\n",
    "        sub = cost[left: L]\n",
    "        res += (sum(sub) - max(sub))\n",
    "        return res"
   ]
  },
  {
   "cell_type": "markdown",
   "metadata": {},
   "source": [
    "## Lessons and Thoughts\n",
    "- The idea is to realize that you will need to delete all but one letters that stick together. Thus it makes sense to leave the one with the highest cost and delete the rest, in each group."
   ]
  }
 ],
 "metadata": {
  "kernelspec": {
   "display_name": "Python 3",
   "language": "python",
   "name": "python3"
  },
  "language_info": {
   "codemirror_mode": {
    "name": "ipython",
    "version": 3
   },
   "file_extension": ".py",
   "mimetype": "text/x-python",
   "name": "python",
   "nbconvert_exporter": "python",
   "pygments_lexer": "ipython3",
   "version": "3.7.3"
  }
 },
 "nbformat": 4,
 "nbformat_minor": 2
}
