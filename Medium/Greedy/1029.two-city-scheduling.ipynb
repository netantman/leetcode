{
 "cells": [
  {
   "cell_type": "markdown",
   "metadata": {},
   "source": [
    "## Attempt 1 - Accepted"
   ]
  },
  {
   "cell_type": "code",
   "execution_count": null,
   "metadata": {},
   "outputs": [],
   "source": [
    "class Solution:\n",
    "    def twoCitySchedCost(self, costs: List[List[int]]) -> int:\n",
    "        L=len(costs)\n",
    "        n=L//2\n",
    "        AtoB, BtoA=[], []\n",
    "        cnt,res=0,0\n",
    "        for c in costs:\n",
    "            if c[0]<c[1]:\n",
    "                cnt+=1\n",
    "                AtoB.append(c[1]-c[0])\n",
    "            else:\n",
    "                BtoA.append(c[0]-c[1])\n",
    "            res+=min(c)\n",
    "        if cnt==n:\n",
    "            return res\n",
    "        elif cnt>n:\n",
    "            AtoB=sorted(AtoB)\n",
    "            return res+sum(AtoB[:cnt-n])\n",
    "        else:\n",
    "            BtoA=sorted(BtoA)\n",
    "            return res+sum(BtoA[:n-cnt])"
   ]
  },
  {
   "cell_type": "markdown",
   "metadata": {},
   "source": [
    "## Lessons and Thoughts\n",
    "- The idea is to greedily assign to the minimum cost first, then adjust using the least extra cost."
   ]
  }
 ],
 "metadata": {
  "kernelspec": {
   "display_name": "Python 3",
   "language": "python",
   "name": "python3"
  },
  "language_info": {
   "codemirror_mode": {
    "name": "ipython",
    "version": 3
   },
   "file_extension": ".py",
   "mimetype": "text/x-python",
   "name": "python",
   "nbconvert_exporter": "python",
   "pygments_lexer": "ipython3",
   "version": "3.7.3"
  }
 },
 "nbformat": 4,
 "nbformat_minor": 2
}
