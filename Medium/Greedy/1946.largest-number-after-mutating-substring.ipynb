{
 "cells": [
  {
   "cell_type": "markdown",
   "metadata": {},
   "source": [
    "## Attempt 1 - Accepted"
   ]
  },
  {
   "cell_type": "code",
   "execution_count": null,
   "metadata": {},
   "outputs": [],
   "source": [
    "class Solution:\n",
    "    def maximumNumber(self, num: str, change: List[int]) -> str:\n",
    "        L = len(num)\n",
    "        num = [c for c in num]\n",
    "        first = 0\n",
    "        while first < L and change[int(num[first])] <= int(num[first]):\n",
    "            first += 1\n",
    "        \n",
    "        for second in range(first, L):\n",
    "            if change[int(num[second])] < int(num[second]):\n",
    "                return \"\".join(num)\n",
    "            num[second] = str(change[int(num[second])])\n",
    "        \n",
    "        return \"\".join(num)"
   ]
  },
  {
   "cell_type": "markdown",
   "metadata": {},
   "source": [
    "## Lessons and Thoughts\n",
    "- Straightforward"
   ]
  }
 ],
 "metadata": {
  "kernelspec": {
   "display_name": "Python 3",
   "language": "python",
   "name": "python3"
  },
  "language_info": {
   "codemirror_mode": {
    "name": "ipython",
    "version": 3
   },
   "file_extension": ".py",
   "mimetype": "text/x-python",
   "name": "python",
   "nbconvert_exporter": "python",
   "pygments_lexer": "ipython3",
   "version": "3.7.3"
  }
 },
 "nbformat": 4,
 "nbformat_minor": 2
}
