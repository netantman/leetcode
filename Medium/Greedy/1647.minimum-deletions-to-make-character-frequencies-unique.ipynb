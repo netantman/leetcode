{
 "cells": [
  {
   "cell_type": "markdown",
   "metadata": {},
   "source": [
    "## Attempt 1 - Accepted"
   ]
  },
  {
   "cell_type": "code",
   "execution_count": null,
   "metadata": {},
   "outputs": [],
   "source": [
    "class Solution:\n",
    "    def minDeletions(self, s: str) -> int:\n",
    "        record = dict()\n",
    "        for c in s:\n",
    "            record[c] = record.get(c, 0) + 1\n",
    "        freq = dict()\n",
    "        for k, v in record.items():\n",
    "            freq[v] = freq.get(v, 0) + 1\n",
    "        \n",
    "        adj = {k: v for k, v in freq.items()}\n",
    "        res = 0\n",
    "        for k in freq.keys():\n",
    "            while adj[k] > 1:\n",
    "                idx = 0\n",
    "                while k - idx > 0 and k - idx in adj:\n",
    "                    idx += 1\n",
    "                adj[k - idx] = adj.get(k - idx, 0) + 1\n",
    "                res += idx\n",
    "                adj[k] -= 1\n",
    "        return res"
   ]
  },
  {
   "cell_type": "markdown",
   "metadata": {},
   "source": [
    "## Lessons and Thoughts\n",
    "- Just delete each letter, only to the point it does not crash other letters."
   ]
  }
 ],
 "metadata": {
  "kernelspec": {
   "display_name": "Python 3",
   "language": "python",
   "name": "python3"
  },
  "language_info": {
   "codemirror_mode": {
    "name": "ipython",
    "version": 3
   },
   "file_extension": ".py",
   "mimetype": "text/x-python",
   "name": "python",
   "nbconvert_exporter": "python",
   "pygments_lexer": "ipython3",
   "version": "3.7.3"
  }
 },
 "nbformat": 4,
 "nbformat_minor": 2
}
