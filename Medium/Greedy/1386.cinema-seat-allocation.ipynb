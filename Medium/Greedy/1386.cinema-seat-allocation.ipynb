{
 "cells": [
  {
   "cell_type": "markdown",
   "metadata": {},
   "source": [
    "## Attempt 1 - Momery Limit Exceeded"
   ]
  },
  {
   "cell_type": "code",
   "execution_count": null,
   "metadata": {},
   "outputs": [],
   "source": [
    "class Solution:\n",
    "    def maxNumberOfFamilies(self, n: int, reservedSeats: List[List[int]]) -> int:\n",
    "        rows=[[] for _ in range(n)]\n",
    "        for r in reservedSeats:\n",
    "            rows[r[0]-1].append(r[1])\n",
    "        \n",
    "        def check_rows(row):\n",
    "            res=3\n",
    "            if (4 in row) or (5 in row):\n",
    "                return 0 if (6 in row) or (7 in row) or (8 in row) or (9 in row) else 1\n",
    "            if (6 in row) or (7 in row):\n",
    "                return 0 if (2 in row) or (3 in row) else 1\n",
    "            if (2 in row) or (3 in row) or (8 in row) or (9 in row):\n",
    "                return 1\n",
    "            return 2\n",
    "        \n",
    "        res=0\n",
    "        for row in rows:\n",
    "            # print(row)\n",
    "            # print(check_rows(row))\n",
    "            res+=check_rows(row)\n",
    "        return res"
   ]
  },
  {
   "cell_type": "markdown",
   "metadata": {},
   "source": [
    "## Attempt 2 - Time Limit Exceeded"
   ]
  },
  {
   "cell_type": "code",
   "execution_count": null,
   "metadata": {},
   "outputs": [],
   "source": [
    "class Solution:\n",
    "    def maxNumberOfFamilies(self, n: int, reservedSeats: List[List[int]]) -> int:\n",
    "        reservedSeats=sorted(reservedSeats, key=lambda x:x[0])\n",
    "        \n",
    "        def check_rows(row):\n",
    "            res=3\n",
    "            if (4 in row) or (5 in row):\n",
    "                return 0 if (6 in row) or (7 in row) or (8 in row) or (9 in row) else 1\n",
    "            if (6 in row) or (7 in row):\n",
    "                return 0 if (2 in row) or (3 in row) else 1\n",
    "            if (2 in row) or (3 in row) or (8 in row) or (9 in row):\n",
    "                return 1\n",
    "            return 2\n",
    "        \n",
    "        res=0\n",
    "        idx=0\n",
    "        for r in range(1,n+1):\n",
    "            row=[]\n",
    "            while idx<len(reservedSeats) and reservedSeats[idx][0]==r:\n",
    "                row.append(reservedSeats[idx][1])\n",
    "                idx+=1\n",
    "            res+=check_rows(row)\n",
    "        return res"
   ]
  },
  {
   "cell_type": "markdown",
   "metadata": {},
   "source": [
    "## Attempt 3 - Accepted"
   ]
  },
  {
   "cell_type": "code",
   "execution_count": null,
   "metadata": {},
   "outputs": [],
   "source": [
    "class Solution:\n",
    "    def maxNumberOfFamilies(self, n: int, reservedSeats: List[List[int]]) -> int:\n",
    "        rows={seat[0]:7 for seat in reservedSeats}\n",
    "        res=(n-len(rows))*2\n",
    "        \n",
    "        for seat in reservedSeats:\n",
    "            if 2<=seat[1]<=3:\n",
    "                rows[seat[0]]=rows[seat[0]]&6\n",
    "            if 8<=seat[1]<=9:\n",
    "                rows[seat[0]]=rows[seat[0]]&5\n",
    "            if 4<=seat[1]<=5:\n",
    "                rows[seat[0]]=rows[seat[0]]&2\n",
    "            if 6<=seat[1]<=7:\n",
    "                rows[seat[0]]=rows[seat[0]]&1\n",
    "        \n",
    "        for val in rows.values():\n",
    "            if val==7:\n",
    "                res+=2\n",
    "            elif val>0:\n",
    "                res+=1\n",
    "            else:\n",
    "                continue\n",
    "        \n",
    "        return res"
   ]
  },
  {
   "cell_type": "markdown",
   "metadata": {},
   "source": [
    "## Lessons and Thoughts\n",
    "- The idea is to recognize that there are only three possible ways.\n",
    "- Bit manipulation is more efficient."
   ]
  }
 ],
 "metadata": {
  "kernelspec": {
   "display_name": "Python 3",
   "language": "python",
   "name": "python3"
  },
  "language_info": {
   "codemirror_mode": {
    "name": "ipython",
    "version": 3
   },
   "file_extension": ".py",
   "mimetype": "text/x-python",
   "name": "python",
   "nbconvert_exporter": "python",
   "pygments_lexer": "ipython3",
   "version": "3.7.3"
  }
 },
 "nbformat": 4,
 "nbformat_minor": 2
}
