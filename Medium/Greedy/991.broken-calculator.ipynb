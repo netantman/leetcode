{
 "cells": [
  {
   "cell_type": "markdown",
   "metadata": {},
   "source": [
    "## Attempt 1 - Time Limit Exceeded"
   ]
  },
  {
   "cell_type": "markdown",
   "metadata": {},
   "source": [
    "Not greedy enough"
   ]
  },
  {
   "cell_type": "code",
   "execution_count": null,
   "metadata": {},
   "outputs": [],
   "source": [
    "class Solution:\n",
    "    def brokenCalc(self, X: int, Y: int) -> int:\n",
    "        q=[(X,0)]\n",
    "        visited=set([X])\n",
    "        while True:\n",
    "            nexxt=[]\n",
    "            for node in q:\n",
    "                if node[0]==Y:\n",
    "                    return node[1]\n",
    "                elif node[0]>Y:\n",
    "                    if node[0]-1 not in visited:\n",
    "                        visited.add(node[0]-1)\n",
    "                        nexxt.append((node[0]-1,node[1]+1))\n",
    "                else:\n",
    "                    if node[0]-1 not in visited:\n",
    "                        visited.add(node[0]-1)\n",
    "                        nexxt.append((node[0]-1,node[1]+1))\n",
    "                    if 2*node[0] not in visited:\n",
    "                        visited.add(2*node[0])\n",
    "                        nexxt.append((2*node[0],node[1]+1))\n",
    "            q=nexxt"
   ]
  },
  {
   "cell_type": "markdown",
   "metadata": {},
   "source": [
    "## Attempt 2 - Accepted"
   ]
  },
  {
   "cell_type": "code",
   "execution_count": null,
   "metadata": {},
   "outputs": [],
   "source": [
    "class Solution:\n",
    "    def brokenCalc(self, X: int, Y: int) -> int:\n",
    "        cnt=0\n",
    "        while X!=Y:\n",
    "            if X>Y:\n",
    "                cnt+=(X-Y)\n",
    "                return cnt\n",
    "            else:\n",
    "                if Y%2>0:\n",
    "                    Y+=1\n",
    "                else:\n",
    "                    Y=Y//2\n",
    "                cnt+=1\n",
    "        return cnt"
   ]
  },
  {
   "cell_type": "markdown",
   "metadata": {},
   "source": [
    "## Lessons and Thoughts\n",
    "- Amazing how the reverse is easier to think about."
   ]
  }
 ],
 "metadata": {
  "kernelspec": {
   "display_name": "Python 3",
   "language": "python",
   "name": "python3"
  },
  "language_info": {
   "codemirror_mode": {
    "name": "ipython",
    "version": 3
   },
   "file_extension": ".py",
   "mimetype": "text/x-python",
   "name": "python",
   "nbconvert_exporter": "python",
   "pygments_lexer": "ipython3",
   "version": "3.7.3"
  }
 },
 "nbformat": 4,
 "nbformat_minor": 2
}
