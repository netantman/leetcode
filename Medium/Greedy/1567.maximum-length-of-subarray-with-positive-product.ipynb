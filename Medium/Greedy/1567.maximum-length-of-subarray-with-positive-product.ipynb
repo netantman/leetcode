{
 "cells": [
  {
   "cell_type": "markdown",
   "metadata": {},
   "source": [
    "## Attempt 1 - Wrong Answer"
   ]
  },
  {
   "cell_type": "code",
   "execution_count": null,
   "metadata": {},
   "outputs": [],
   "source": [
    "class Solution:\n",
    "    def getMaxLen(self, nums: List[int]) -> int:\n",
    "        res = 0\n",
    "        positive, negative = None, None\n",
    "        cumprod = 1\n",
    "        for idx, num in enumerate(nums):\n",
    "            cumprod *= num\n",
    "            # print(cumprod)\n",
    "            if cumprod > 0:\n",
    "                if positive is None:\n",
    "                    positive = idx\n",
    "                else:\n",
    "                    res = max(res, idx - positive + 1)\n",
    "            elif cumprod == 0:\n",
    "                positive, negative = None, None\n",
    "                cumprod = 1\n",
    "            else: # cumprod < 0:\n",
    "                if negative is None:\n",
    "                    negative = idx\n",
    "                else:\n",
    "                    res = max(res, idx - negative + 1)\n",
    "        return res"
   ]
  },
  {
   "cell_type": "markdown",
   "metadata": {},
   "source": [
    "## Attempt 2 - Accepted"
   ]
  },
  {
   "cell_type": "code",
   "execution_count": null,
   "metadata": {},
   "outputs": [],
   "source": [
    "class Solution:\n",
    "    def getMaxLen(self, nums: List[int]) -> int:\n",
    "        res = 0\n",
    "        positive, negative = -1, None\n",
    "        cumprod = 1\n",
    "        for idx, num in enumerate(nums):\n",
    "            cumprod *= num\n",
    "            # print(cumprod)\n",
    "            if cumprod > 0:\n",
    "                if positive is None:\n",
    "                    positive = idx\n",
    "                else:\n",
    "                    res = max(res, idx - positive)\n",
    "            elif cumprod == 0:\n",
    "                positive, negative = idx, None\n",
    "                cumprod = 1\n",
    "            else: # cumprod < 0:\n",
    "                if negative is None:\n",
    "                    negative = idx\n",
    "                else:\n",
    "                    res = max(res, idx - negative)\n",
    "        return res"
   ]
  },
  {
   "cell_type": "markdown",
   "metadata": {},
   "source": [
    "## Attempt 3 - Accepted"
   ]
  },
  {
   "cell_type": "code",
   "execution_count": null,
   "metadata": {},
   "outputs": [],
   "source": [
    "class Solution:\n",
    "    def getMaxLen(self, nums: List[int]) -> int:\n",
    "        positive, negative = [], []\n",
    "        if nums[0] > 0:\n",
    "            positive.append(1)\n",
    "            negative.append(0)\n",
    "        elif nums[0] < 0:\n",
    "            positive.append(0)\n",
    "            negative.append(1)\n",
    "        else:\n",
    "            positive.append(0)\n",
    "            negative.append(0)\n",
    "        for num in nums[1:]:\n",
    "            p, n = positive[-1], negative[-1]\n",
    "            if num > 0:\n",
    "                positive.append(p + 1)\n",
    "                negative.append(n + 1 if n > 0 else 0)\n",
    "            elif num < 0:\n",
    "                positive.append(n + 1 if n > 0 else 0)\n",
    "                negative.append(p + 1)\n",
    "            else:\n",
    "                positive.append(0)\n",
    "                negative.append(0)\n",
    "        \n",
    "        # print(positive)\n",
    "        # print(negative)\n",
    "        \n",
    "        return max(positive)"
   ]
  },
  {
   "cell_type": "markdown",
   "metadata": {},
   "source": [
    "## Lessons and Thoughts\n",
    "- The tricky edge case is when there is 0. Also the starting points for positive and negative are different.\n",
    "- Attempt 3 is a dp algorithm, again needing to handle the 0 case."
   ]
  }
 ],
 "metadata": {
  "kernelspec": {
   "display_name": "Python 3",
   "language": "python",
   "name": "python3"
  },
  "language_info": {
   "codemirror_mode": {
    "name": "ipython",
    "version": 3
   },
   "file_extension": ".py",
   "mimetype": "text/x-python",
   "name": "python",
   "nbconvert_exporter": "python",
   "pygments_lexer": "ipython3",
   "version": "3.7.3"
  }
 },
 "nbformat": 4,
 "nbformat_minor": 2
}
