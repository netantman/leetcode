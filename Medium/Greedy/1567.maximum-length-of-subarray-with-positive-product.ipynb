{
 "cells": [
  {
   "cell_type": "markdown",
   "metadata": {},
   "source": [
    "## Attempt 1 - Wrong Answer"
   ]
  },
  {
   "cell_type": "code",
   "execution_count": null,
   "metadata": {},
   "outputs": [],
   "source": [
    "class Solution:\n",
    "    def getMaxLen(self, nums: List[int]) -> int:\n",
    "        res = 0\n",
    "        positive, negative = None, None\n",
    "        cumprod = 1\n",
    "        for idx, num in enumerate(nums):\n",
    "            cumprod *= num\n",
    "            # print(cumprod)\n",
    "            if cumprod > 0:\n",
    "                if positive is None:\n",
    "                    positive = idx\n",
    "                else:\n",
    "                    res = max(res, idx - positive + 1)\n",
    "            elif cumprod == 0:\n",
    "                positive, negative = None, None\n",
    "                cumprod = 1\n",
    "            else: # cumprod < 0:\n",
    "                if negative is None:\n",
    "                    negative = idx\n",
    "                else:\n",
    "                    res = max(res, idx - negative + 1)\n",
    "        return res"
   ]
  },
  {
   "cell_type": "markdown",
   "metadata": {},
   "source": [
    "## Attempt 2 - Accepted"
   ]
  },
  {
   "cell_type": "code",
   "execution_count": null,
   "metadata": {},
   "outputs": [],
   "source": [
    "class Solution:\n",
    "    def getMaxLen(self, nums: List[int]) -> int:\n",
    "        res = 0\n",
    "        positive, negative = -1, None\n",
    "        cumprod = 1\n",
    "        for idx, num in enumerate(nums):\n",
    "            cumprod *= num\n",
    "            # print(cumprod)\n",
    "            if cumprod > 0:\n",
    "                if positive is None:\n",
    "                    positive = idx\n",
    "                else:\n",
    "                    res = max(res, idx - positive)\n",
    "            elif cumprod == 0:\n",
    "                positive, negative = idx, None\n",
    "                cumprod = 1\n",
    "            else: # cumprod < 0:\n",
    "                if negative is None:\n",
    "                    negative = idx\n",
    "                else:\n",
    "                    res = max(res, idx - negative)\n",
    "        return res"
   ]
  },
  {
   "cell_type": "markdown",
   "metadata": {},
   "source": [
    "## Lessons and Thoughts\n",
    "- The tricky edge case is when there is 0. Also the starting points for positive and negative are different."
   ]
  }
 ],
 "metadata": {
  "kernelspec": {
   "display_name": "Python 3",
   "language": "python",
   "name": "python3"
  },
  "language_info": {
   "codemirror_mode": {
    "name": "ipython",
    "version": 3
   },
   "file_extension": ".py",
   "mimetype": "text/x-python",
   "name": "python",
   "nbconvert_exporter": "python",
   "pygments_lexer": "ipython3",
   "version": "3.7.3"
  }
 },
 "nbformat": 4,
 "nbformat_minor": 2
}
