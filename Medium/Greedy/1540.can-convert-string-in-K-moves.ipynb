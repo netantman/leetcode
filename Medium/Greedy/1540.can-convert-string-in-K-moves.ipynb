{
 "cells": [
  {
   "cell_type": "markdown",
   "metadata": {},
   "source": [
    "## Attempt 1 - Wrong Answer"
   ]
  },
  {
   "cell_type": "code",
   "execution_count": null,
   "metadata": {},
   "outputs": [],
   "source": [
    "class Solution:\n",
    "    def canConvertString(self, s: str, t: str, k: int) -> bool:\n",
    "        record = [0 for _ in range(k + 1)] ## -> forgot to check if s and t have the same length\n",
    "        for cs, ct in zip(s, t):\n",
    "            distance = ord(ct) - ord(cs) if ord(ct) >= ord(cs) else 26 - (ord(cs) - ord(ct))\n",
    "            if distance < 1:\n",
    "                continue\n",
    "            while distance <= k:\n",
    "                if record[distance] < 1:\n",
    "                    record[distance] = 1\n",
    "                    break\n",
    "                else:\n",
    "                    distance += 26\n",
    "            else:\n",
    "                return False\n",
    "        return True"
   ]
  },
  {
   "cell_type": "markdown",
   "metadata": {},
   "source": [
    "## Attempt 2 - Time Limit Exceeded"
   ]
  },
  {
   "cell_type": "code",
   "execution_count": null,
   "metadata": {},
   "outputs": [],
   "source": [
    "class Solution:\n",
    "    def canConvertString(self, s: str, t: str, k: int) -> bool:\n",
    "        if len(s) != len(t):\n",
    "            return False\n",
    "        record = [0 for _ in range(k + 1)]\n",
    "        for cs, ct in zip(s, t):\n",
    "            distance = ord(ct) - ord(cs) if ord(ct) >= ord(cs) else 26 - (ord(cs) - ord(ct))\n",
    "            if distance < 1:\n",
    "                continue\n",
    "            while distance <= k:\n",
    "                if record[distance] < 1:\n",
    "                    record[distance] = 1\n",
    "                    break\n",
    "                else:\n",
    "                    distance += 26\n",
    "            else:\n",
    "                return False\n",
    "        return True"
   ]
  },
  {
   "cell_type": "markdown",
   "metadata": {},
   "source": [
    "## Attempt 3 - Time Limit Exceeded"
   ]
  },
  {
   "cell_type": "code",
   "execution_count": null,
   "metadata": {},
   "outputs": [],
   "source": [
    "class Solution:\n",
    "    def canConvertString(self, s: str, t: str, k: int) -> bool:\n",
    "        if len(s) != len(t):\n",
    "            return False\n",
    "        record = set()\n",
    "        for cs, ct in zip(s, t):\n",
    "            distance = ord(ct) - ord(cs) if ord(ct) >= ord(cs) else 26 - (ord(cs) - ord(ct))\n",
    "            if distance < 1:\n",
    "                continue\n",
    "            while distance <= k:\n",
    "                if distance not in record:\n",
    "                    record.add(distance)\n",
    "                    break\n",
    "                else:\n",
    "                    distance += 26\n",
    "            else:\n",
    "                return False\n",
    "        return True"
   ]
  },
  {
   "cell_type": "markdown",
   "metadata": {},
   "source": [
    "## Attempt 4 - Accepted"
   ]
  },
  {
   "cell_type": "code",
   "execution_count": null,
   "metadata": {},
   "outputs": [],
   "source": [
    "class Solution:\n",
    "    def canConvertString(self, s: str, t: str, k: int) -> bool:\n",
    "        if len(s) != len(t):\n",
    "            return False\n",
    "        \n",
    "        counts = [0] * 26\n",
    "        for si, ti in zip(s, t):\n",
    "            difference = ord(ti) - ord(si)\n",
    "            if difference < 0:\n",
    "                difference += 26\n",
    "            counts[difference] += 1\n",
    "        \n",
    "        for i, count in enumerate(counts[1:], start=1):\n",
    "            maxConvert = i + 26 * (counts[i] - 1) \n",
    "            if maxConvert > k:\n",
    "                return False\n",
    "        return True"
   ]
  },
  {
   "cell_type": "markdown",
   "metadata": {},
   "source": [
    "## Lessons and Thoughts\n",
    "- We do not actually need to increase `distance` by 26. The accepted algo is from app.\n",
    "- `enumerate` has a `start` option!"
   ]
  }
 ],
 "metadata": {
  "kernelspec": {
   "display_name": "Python 3",
   "language": "python",
   "name": "python3"
  },
  "language_info": {
   "codemirror_mode": {
    "name": "ipython",
    "version": 3
   },
   "file_extension": ".py",
   "mimetype": "text/x-python",
   "name": "python",
   "nbconvert_exporter": "python",
   "pygments_lexer": "ipython3",
   "version": "3.7.3"
  }
 },
 "nbformat": 4,
 "nbformat_minor": 2
}
