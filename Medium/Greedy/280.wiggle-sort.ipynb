{
 "cells": [
  {
   "cell_type": "markdown",
   "metadata": {},
   "source": [
    "## Attempt 1 - Accepted"
   ]
  },
  {
   "cell_type": "code",
   "execution_count": null,
   "metadata": {},
   "outputs": [],
   "source": [
    "class Solution:\n",
    "    def wiggleSort(self, nums: List[int]) -> None:\n",
    "        \"\"\"\n",
    "        Do not return anything, modify nums in-place instead.\n",
    "        \"\"\"\n",
    "        peak = False\n",
    "        L = len(nums)\n",
    "        if L <= 1:\n",
    "            return\n",
    "        if nums[0] > nums[1]:\n",
    "            nums[0], nums[1] = nums[1], nums[0]\n",
    "        for idx in range(1, L - 1):\n",
    "            peak = not peak\n",
    "            if peak and nums[idx] >= nums[idx - 1] and nums[idx] >= nums[idx + 1]:\n",
    "                continue\n",
    "            if not peak and nums[idx] <= nums[idx - 1] and nums[idx] <= nums[idx + 1]:\n",
    "                continue\n",
    "            \n",
    "            nums[idx], nums[idx + 1] = nums[idx + 1], nums[idx]\n",
    "        \n",
    "        return"
   ]
  },
  {
   "cell_type": "markdown",
   "metadata": {},
   "source": [
    "## Lessons and Thoughts\n",
    "- It is possible to just adjust along the way."
   ]
  }
 ],
 "metadata": {
  "kernelspec": {
   "display_name": "Python 3",
   "language": "python",
   "name": "python3"
  },
  "language_info": {
   "codemirror_mode": {
    "name": "ipython",
    "version": 3
   },
   "file_extension": ".py",
   "mimetype": "text/x-python",
   "name": "python",
   "nbconvert_exporter": "python",
   "pygments_lexer": "ipython3",
   "version": "3.7.3"
  }
 },
 "nbformat": 4,
 "nbformat_minor": 2
}
