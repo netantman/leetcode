{
 "cells": [
  {
   "cell_type": "markdown",
   "metadata": {},
   "source": [
    "## Attempt 1 - Accepted"
   ]
  },
  {
   "cell_type": "code",
   "execution_count": null,
   "metadata": {},
   "outputs": [],
   "source": [
    "class Solution:\n",
    "    def longestDiverseString(self, a: int, b: int, c: int) -> str:\n",
    "        d = {\"a\": min(a, 2*(b+c+1)), \"b\": min(b, 2*(a+c+1)), \"c\": min(c, 2*(a+b+1))}\n",
    "        n = sum(d.values())\n",
    "        res=[]\n",
    "        for _ in range(n):\n",
    "            cand = set([\"a\", \"b\", \"c\"])\n",
    "            if len(res)>1 and res[-1]==res[-2]:\n",
    "                cand.remove(res[-1])\n",
    "            tmp = max(cand, key=lambda x: d[x])\n",
    "            res.append(tmp)\n",
    "            d[tmp] -= 1\n",
    "        return \"\".join(res)"
   ]
  },
  {
   "cell_type": "markdown",
   "metadata": {},
   "source": [
    "## Lessons and Thoughts\n",
    "- Solution is from app. Again sometimes it is hard to prove a greedy algo converges."
   ]
  }
 ],
 "metadata": {
  "kernelspec": {
   "display_name": "Python 3",
   "language": "python",
   "name": "python3"
  },
  "language_info": {
   "codemirror_mode": {
    "name": "ipython",
    "version": 3
   },
   "file_extension": ".py",
   "mimetype": "text/x-python",
   "name": "python",
   "nbconvert_exporter": "python",
   "pygments_lexer": "ipython3",
   "version": "3.7.3"
  }
 },
 "nbformat": 4,
 "nbformat_minor": 2
}
