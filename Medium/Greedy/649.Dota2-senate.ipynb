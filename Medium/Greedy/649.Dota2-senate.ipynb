{
 "cells": [
  {
   "cell_type": "markdown",
   "metadata": {},
   "source": [
    "## Attempt 1 - Wrong Answer"
   ]
  },
  {
   "cell_type": "code",
   "execution_count": null,
   "metadata": {},
   "outputs": [],
   "source": [
    "class Solution:\n",
    "    def predictPartyVictory(self, senate: str) -> str:\n",
    "        idx=0\n",
    "        senate=[c for c in senate]\n",
    "        if len(senate)<=2:\n",
    "            if senate[0]==\"R\":\n",
    "                return \"Radiant\"\n",
    "            else:\n",
    "                return \"Dire\"\n",
    "        \n",
    "        while len(senate)>2:\n",
    "            if set(senate)==set([\"D\"]):\n",
    "                return \"Dire\"\n",
    "            if set(senate)==set([\"R\"]):\n",
    "                return \"Radiant\"\n",
    "            \n",
    "            if idx>=len(senate):\n",
    "                idx=0\n",
    "            curr=senate[idx]\n",
    "            if curr==\"D\":\n",
    "                flag=False\n",
    "                for l in range(idx+1, idx+len(senate)):\n",
    "                    later=l%len(senate)\n",
    "                    if senate[later]==\"R\":\n",
    "                        senate=senate[:later]+senate[later+1:]\n",
    "                        flag=True\n",
    "                        break\n",
    "                if flag:\n",
    "                    idx+=1\n",
    "                    continue\n",
    "                else:\n",
    "                    return \"Dire\"\n",
    "            if curr==\"R\":\n",
    "                flag=False\n",
    "                for l in range(idx+1, idx+len(senate)):\n",
    "                    later=l%len(senate)\n",
    "                    if senate[later]==\"D\":\n",
    "                        senate=senate[:later]+senate[later+1:]\n",
    "                        flag=True\n",
    "                        break\n",
    "                if flag:\n",
    "                    idx+=1\n",
    "                    continue\n",
    "                else:\n",
    "                    return \"Radiant\"\n",
    "        \n",
    "        if senate[idx%2]==\"D\":\n",
    "            return \"Dire\"\n",
    "        else:\n",
    "            return \"Radiant\""
   ]
  },
  {
   "cell_type": "markdown",
   "metadata": {},
   "source": [
    "## Attempt 2 - Accepted"
   ]
  },
  {
   "cell_type": "code",
   "execution_count": null,
   "metadata": {},
   "outputs": [],
   "source": [
    "class Solution:\n",
    "    def predictPartyVictory(self, senate: str) -> str:\n",
    "        count = 0\n",
    "        while abs(count)!=len(senate):\n",
    "            if count>0:\n",
    "                if senate[0]=='R':\n",
    "                    count-=1\n",
    "                else:\n",
    "                    count+=1\n",
    "                    senate+='D'\n",
    "            elif count<0: \n",
    "                if senate[0]=='D':\n",
    "                    count+=1\n",
    "                else:\n",
    "                    count-=1\n",
    "                    senate+='R'\n",
    "            else:\n",
    "                if senate[0]=='D':\n",
    "                    count+=1\n",
    "                else:\n",
    "                    count-=1\n",
    "                senate+=senate[0]\n",
    "            senate=senate[1:]\n",
    "        return 'Radiant' if senate[0]=='R' else 'Dire'"
   ]
  },
  {
   "cell_type": "markdown",
   "metadata": {},
   "source": [
    "## Lessons and Thoughts\n",
    "- Understand that the algo is for each senator to get rid of as many her opponents as possible. But using an `idx` to track if we need to go back to the front is cumbersome. The accepted solution is from leetcode app, which uses circular queue, and it is more straightforward. That solution just keeps track of count, which I have not entirely figured out why it is sufficient."
   ]
  }
 ],
 "metadata": {
  "kernelspec": {
   "display_name": "Python 3",
   "language": "python",
   "name": "python3"
  },
  "language_info": {
   "codemirror_mode": {
    "name": "ipython",
    "version": 3
   },
   "file_extension": ".py",
   "mimetype": "text/x-python",
   "name": "python",
   "nbconvert_exporter": "python",
   "pygments_lexer": "ipython3",
   "version": "3.7.3"
  }
 },
 "nbformat": 4,
 "nbformat_minor": 2
}
