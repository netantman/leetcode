{
 "cells": [
  {
   "cell_type": "markdown",
   "metadata": {},
   "source": [
    "## Attempt 1 - Time Limit Exceeded"
   ]
  },
  {
   "cell_type": "code",
   "execution_count": null,
   "metadata": {},
   "outputs": [],
   "source": [
    "class Solution:\n",
    "    def numberOfWeeks(self, milestones: List[int]) -> int:\n",
    "        milestones = [-m for m in milestones]\n",
    "        heapq.heapify(milestones)\n",
    "        cnt = 0\n",
    "        biggest = True\n",
    "        while milestones:\n",
    "            # print(milestones)\n",
    "            if len(milestones) == 2 and milestones[0] == -1 and milestones[1] == -1:\n",
    "                cnt += 2\n",
    "                break\n",
    "            if biggest:\n",
    "                curr = heapq.heappop(milestones)\n",
    "                cnt += 1\n",
    "                if curr + 1 < 0:\n",
    "                    heapq.heappush(milestones, curr + 1)\n",
    "            else:\n",
    "                if len(milestones) < 2:\n",
    "                    break\n",
    "                curr0 = heapq.heappop(milestones)\n",
    "                curr1 = heapq.heappop(milestones)\n",
    "                cnt += 1\n",
    "                heapq.heappush(milestones, curr0)\n",
    "                if curr1 + 1 < 0:\n",
    "                    heapq.heappush(milestones, curr1 + 1)\n",
    "            biggest = not biggest\n",
    "        return cnt"
   ]
  },
  {
   "cell_type": "markdown",
   "metadata": {},
   "source": [
    "## Attempt 2 - Accepted"
   ]
  },
  {
   "cell_type": "code",
   "execution_count": null,
   "metadata": {},
   "outputs": [],
   "source": [
    "class Solution:\n",
    "    def numberOfWeeks(self, milestones: List[int]) -> int:\n",
    "        m = max(milestones)\n",
    "        s = sum(milestones) - m\n",
    "        if s + 1 <= m:\n",
    "            return 2 * s + 1\n",
    "        else:\n",
    "            return s + m"
   ]
  },
  {
   "cell_type": "markdown",
   "metadata": {},
   "source": [
    "## Lessons and Thoughts\n",
    "- The idea is just alternate from the biggest pile and the rest. It can be proven that if the sum of the rest is bigger than the biggest, it is always possible to take all of them."
   ]
  }
 ],
 "metadata": {
  "kernelspec": {
   "display_name": "Python 3",
   "language": "python",
   "name": "python3"
  },
  "language_info": {
   "codemirror_mode": {
    "name": "ipython",
    "version": 3
   },
   "file_extension": ".py",
   "mimetype": "text/x-python",
   "name": "python",
   "nbconvert_exporter": "python",
   "pygments_lexer": "ipython3",
   "version": "3.7.3"
  }
 },
 "nbformat": 4,
 "nbformat_minor": 2
}
