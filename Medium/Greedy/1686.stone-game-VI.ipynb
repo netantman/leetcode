{
 "cells": [
  {
   "cell_type": "markdown",
   "metadata": {},
   "source": [
    "## Attempt 1 - Accepted"
   ]
  },
  {
   "cell_type": "code",
   "execution_count": null,
   "metadata": {},
   "outputs": [],
   "source": [
    "class Solution:\n",
    "    def stoneGameVI(self, aliceValues: List[int], bobValues: List[int]) -> int:\n",
    "        allValues = list(zip(aliceValues, bobValues))\n",
    "        allValues = sorted(allValues, reverse=True, key=lambda x: x[0] + x[1])\n",
    "        a = sum(v[0] for v in allValues[0::2])\n",
    "        b = sum(v[1] for v in allValues[1::2])\n",
    "        if a == b:\n",
    "            return 0\n",
    "        return 1 if a > b else -1"
   ]
  },
  {
   "cell_type": "markdown",
   "metadata": {},
   "source": [
    "## Lessons and Thoughts\n",
    "- The accepted solution is inspired from app. The idea is to recognize every player should choose the maximum of sum among the stones, so as to gain more and hurt the other more."
   ]
  }
 ],
 "metadata": {
  "kernelspec": {
   "display_name": "Python 3",
   "language": "python",
   "name": "python3"
  },
  "language_info": {
   "codemirror_mode": {
    "name": "ipython",
    "version": 3
   },
   "file_extension": ".py",
   "mimetype": "text/x-python",
   "name": "python",
   "nbconvert_exporter": "python",
   "pygments_lexer": "ipython3",
   "version": "3.7.3"
  }
 },
 "nbformat": 4,
 "nbformat_minor": 2
}
