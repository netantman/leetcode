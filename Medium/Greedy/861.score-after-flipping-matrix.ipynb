{
 "cells": [
  {
   "cell_type": "markdown",
   "metadata": {},
   "source": [
    "## Attempt 1 - Accepted"
   ]
  },
  {
   "cell_type": "code",
   "execution_count": null,
   "metadata": {},
   "outputs": [],
   "source": [
    "class Solution:\n",
    "    def matrixScore(self, A: List[List[int]]) -> int:\n",
    "        R,C=len(A),len(A[0])\n",
    "        for r in range(R):\n",
    "            if A[r][0]<1:\n",
    "                A[r]=[1-a for a in A[r]]\n",
    "        for c in range(1,C):\n",
    "            s=sum([A[r][c] for r in range(R)])\n",
    "            if s<R-s:\n",
    "                for r in range(R):\n",
    "                    A[r][c]=1-A[r][c]\n",
    "        res=0\n",
    "        for r in range(R):\n",
    "            for c in range(C):\n",
    "                if A[r][c]>0:\n",
    "                    res+=2**(C-1-c)\n",
    "        return res"
   ]
  },
  {
   "cell_type": "markdown",
   "metadata": {},
   "source": [
    "## Lessons and Thoughts\n",
    "- The greedy algo is first to make all leading digits 1. And then flip the columns as many as possible."
   ]
  }
 ],
 "metadata": {
  "kernelspec": {
   "display_name": "Python 3",
   "language": "python",
   "name": "python3"
  },
  "language_info": {
   "codemirror_mode": {
    "name": "ipython",
    "version": 3
   },
   "file_extension": ".py",
   "mimetype": "text/x-python",
   "name": "python",
   "nbconvert_exporter": "python",
   "pygments_lexer": "ipython3",
   "version": "3.7.3"
  }
 },
 "nbformat": 4,
 "nbformat_minor": 2
}
