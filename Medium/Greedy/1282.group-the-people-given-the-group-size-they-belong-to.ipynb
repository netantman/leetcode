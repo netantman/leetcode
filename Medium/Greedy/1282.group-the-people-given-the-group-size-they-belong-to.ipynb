{
 "cells": [
  {
   "cell_type": "markdown",
   "metadata": {},
   "source": [
    "## Attempt 1 - Accepted"
   ]
  },
  {
   "cell_type": "code",
   "execution_count": null,
   "metadata": {},
   "outputs": [],
   "source": [
    "class Solution:\n",
    "    def groupThePeople(self, groupSizes: List[int]) -> List[List[int]]:\n",
    "        prod=dict()\n",
    "        res=[]\n",
    "        for person, size in enumerate(groupSizes):\n",
    "            if size not in prod or len(prod[size])<1:\n",
    "                prod[size]=[[person]]\n",
    "            else:\n",
    "                prod[size][0].append(person)\n",
    "            \n",
    "            if len(prod[size][0])==size:\n",
    "                res.append(prod[size].pop(0))\n",
    "        \n",
    "        return res"
   ]
  },
  {
   "cell_type": "markdown",
   "metadata": {},
   "source": [
    "## Attempt 2 - Accepted"
   ]
  },
  {
   "cell_type": "code",
   "execution_count": null,
   "metadata": {},
   "outputs": [],
   "source": [
    "class Solution {\n",
    "public:\n",
    "    vector<vector<int>> groupThePeople(vector<int>& groupSizes) {\n",
    "        map<int, vector<int>> record = {};\n",
    "        int L = groupSizes.size();\n",
    "        for (int idx=0; idx<L; idx++) {\n",
    "            int gs = groupSizes[idx];\n",
    "            if (record.find(gs) != record.end()) {\n",
    "                record[gs].push_back(idx);\n",
    "            }\n",
    "            else {\n",
    "                vector<int> tmp = {idx};\n",
    "                record[gs] = tmp;\n",
    "            }\n",
    "        }\n",
    "        \n",
    "        vector<vector<int>> res = {};\n",
    "        for(auto pair : record) {\n",
    "            int gs = pair.first;\n",
    "            vector<int> persons = pair.second;\n",
    "            int idx = 0;\n",
    "            int no_groups = (int) persons.size() / gs;\n",
    "            for (int j=0; j<no_groups; j++) {\n",
    "                vector<int> to_add = {};\n",
    "                for (int k=0; k<gs; k++) {\n",
    "                    to_add.push_back(persons[idx]);\n",
    "                    idx++;\n",
    "                }\n",
    "                res.push_back(to_add);\n",
    "            }\n",
    "        }\n",
    "        return res;\n",
    "    }\n",
    "};"
   ]
  },
  {
   "cell_type": "markdown",
   "metadata": {},
   "source": [
    "## Lessons and Thoughts\n",
    "- The idea of Attempt 1 is to just keep growing the groups, until it is full.\n",
    "- The idea of Attempt 2 is more rudimentary: just collect all people belonging to same group sizes, and then divide."
   ]
  }
 ],
 "metadata": {
  "kernelspec": {
   "display_name": "Python 3 (ipykernel)",
   "language": "python",
   "name": "python3"
  },
  "language_info": {
   "codemirror_mode": {
    "name": "ipython",
    "version": 3
   },
   "file_extension": ".py",
   "mimetype": "text/x-python",
   "name": "python",
   "nbconvert_exporter": "python",
   "pygments_lexer": "ipython3",
   "version": "3.9.7"
  }
 },
 "nbformat": 4,
 "nbformat_minor": 2
}
