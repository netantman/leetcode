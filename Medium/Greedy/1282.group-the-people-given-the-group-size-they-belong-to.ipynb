{
 "cells": [
  {
   "cell_type": "markdown",
   "metadata": {},
   "source": [
    "## Attempt 1 - Accepted"
   ]
  },
  {
   "cell_type": "code",
   "execution_count": null,
   "metadata": {},
   "outputs": [],
   "source": [
    "class Solution:\n",
    "    def groupThePeople(self, groupSizes: List[int]) -> List[List[int]]:\n",
    "        prod=dict()\n",
    "        res=[]\n",
    "        for person, size in enumerate(groupSizes):\n",
    "            if size not in prod or len(prod[size])<1:\n",
    "                prod[size]=[[person]]\n",
    "            else:\n",
    "                prod[size][0].append(person)\n",
    "            \n",
    "            if len(prod[size][0])==size:\n",
    "                res.append(prod[size].pop(0))\n",
    "        \n",
    "        return res"
   ]
  },
  {
   "cell_type": "markdown",
   "metadata": {},
   "source": [
    "## Lessons and Thoughts\n",
    "- The idea is to just keep growing the groups, until it is full."
   ]
  }
 ],
 "metadata": {
  "kernelspec": {
   "display_name": "Python 3",
   "language": "python",
   "name": "python3"
  },
  "language_info": {
   "codemirror_mode": {
    "name": "ipython",
    "version": 3
   },
   "file_extension": ".py",
   "mimetype": "text/x-python",
   "name": "python",
   "nbconvert_exporter": "python",
   "pygments_lexer": "ipython3",
   "version": "3.7.3"
  }
 },
 "nbformat": 4,
 "nbformat_minor": 2
}
