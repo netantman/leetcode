{
 "cells": [
  {
   "cell_type": "markdown",
   "metadata": {},
   "source": [
    "## Attempt 1 - Wrong Answer"
   ]
  },
  {
   "cell_type": "code",
   "execution_count": null,
   "metadata": {},
   "outputs": [],
   "source": [
    "class Solution:\n",
    "    def bestCoordinate(self, towers: List[List[int]], radius: int) -> List[int]:\n",
    "        def dist(p1, p2):\n",
    "            return math.sqrt((p1[0] - p2[0]) ** 2 + (p1[1] - p2[1]) ** 2)\n",
    "        \n",
    "        ## --> did not consider the edge case where signal quality can be zero...\n",
    "        \n",
    "        towers = sorted(towers, key=lambda x: (x[0], x[1]))\n",
    "        points = [t[:-1] for t in towers]\n",
    "        qualities = [t[-1] for t in towers]\n",
    "        def signal(c):\n",
    "            res = 0\n",
    "            for p, q in zip(points, qualities):\n",
    "                d = dist(c, p)\n",
    "                if d <= radius:\n",
    "                    res += math.floor(q / (1 + d))\n",
    "            return res\n",
    "        \n",
    "        m = float(\"-inf\")\n",
    "        res = -1\n",
    "        for idx, s in enumerate(map(signal, points)):\n",
    "            if s > m:\n",
    "                m = s\n",
    "                res = idx\n",
    "        return points[res]"
   ]
  },
  {
   "cell_type": "markdown",
   "metadata": {},
   "source": [
    "## Attempt 2 - Wrong Answer"
   ]
  },
  {
   "cell_type": "code",
   "execution_count": null,
   "metadata": {},
   "outputs": [],
   "source": [
    "class Solution:\n",
    "    def bestCoordinate(self, towers: List[List[int]], radius: int) -> List[int]:\n",
    "        def dist(p1, p2):\n",
    "            return math.sqrt((p1[0] - p2[0]) ** 2 + (p1[1] - p2[1]) ** 2)\n",
    "        \n",
    "        towers = [t for t in towers if t[-1] > 0]\n",
    "        if len(towers) < 1:\n",
    "            return [0, 0]\n",
    "        \n",
    "        towers = sorted(towers, key=lambda x: (x[0], x[1]))\n",
    "        points = [t[:-1] for t in towers]\n",
    "        qualities = [t[-1] for t in towers]\n",
    "        def signal(c):\n",
    "            res = 0\n",
    "            for p, q in zip(points, qualities):\n",
    "                d = dist(c, p)\n",
    "                if d <= radius:\n",
    "                    res += math.floor(q / (1 + d))\n",
    "            return res\n",
    "        \n",
    "        m = float(\"-inf\")\n",
    "        res = -1\n",
    "        for idx, s in enumerate(map(signal, points)):\n",
    "            if s > m:\n",
    "                m = s\n",
    "                res = idx\n",
    "        return points[res]"
   ]
  },
  {
   "cell_type": "markdown",
   "metadata": {},
   "source": [
    "## Attempt 3 - Accepted"
   ]
  },
  {
   "cell_type": "code",
   "execution_count": null,
   "metadata": {},
   "outputs": [],
   "source": [
    "class Solution:\n",
    "    def bestCoordinate(self, towers: List[List[int]], radius: int) -> List[int]:\n",
    "        def dist(p1, p2):\n",
    "            return math.sqrt((p1[0] - p2[0]) ** 2 + (p1[1] - p2[1]) ** 2)\n",
    "        \n",
    "        towers = [t for t in towers if t[-1] > 0]\n",
    "        if len(towers) < 1:\n",
    "            return [0, 0]\n",
    "        \n",
    "        towers = sorted(towers, key=lambda x: (x[0], x[1]))\n",
    "        points = [t[:-1] for t in towers]\n",
    "        qualities = [t[-1] for t in towers]\n",
    "        def signal(c):\n",
    "            res = 0\n",
    "            for p, q in zip(points, qualities):\n",
    "                d = dist(c, p)\n",
    "                if d <= radius:\n",
    "                    res += math.floor(q / (1 + d))\n",
    "            return res\n",
    "        \n",
    "        m = float(\"-inf\")\n",
    "        res = -1\n",
    "        all_points = [[x, y] for x in range(51) for y in range(51)]\n",
    "        for idx, s in enumerate(map(signal, all_points)):\n",
    "            if s > m:\n",
    "                m = s\n",
    "                res = idx\n",
    "        return all_points[res]"
   ]
  },
  {
   "cell_type": "markdown",
   "metadata": {},
   "source": [
    "## Lessons and Thoughts\n",
    "- Nothing much to say - you gotta go through all points.\n",
    "- `map` in python"
   ]
  }
 ],
 "metadata": {
  "kernelspec": {
   "display_name": "Python 3",
   "language": "python",
   "name": "python3"
  },
  "language_info": {
   "codemirror_mode": {
    "name": "ipython",
    "version": 3
   },
   "file_extension": ".py",
   "mimetype": "text/x-python",
   "name": "python",
   "nbconvert_exporter": "python",
   "pygments_lexer": "ipython3",
   "version": "3.7.3"
  }
 },
 "nbformat": 4,
 "nbformat_minor": 2
}
