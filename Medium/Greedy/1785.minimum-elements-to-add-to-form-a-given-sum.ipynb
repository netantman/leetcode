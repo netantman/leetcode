{
 "cells": [
  {
   "cell_type": "markdown",
   "metadata": {},
   "source": [
    "## Attempt 1 - Accepted"
   ]
  },
  {
   "cell_type": "code",
   "execution_count": null,
   "metadata": {},
   "outputs": [],
   "source": [
    "class Solution:\n",
    "    def minElements(self, nums: List[int], limit: int, goal: int) -> int:\n",
    "        \n",
    "        s = sum(nums)\n",
    "        L = len(nums)\n",
    "        \n",
    "        if s == goal:\n",
    "            return 0\n",
    "        \n",
    "        if s > goal:\n",
    "            nums = [-n for n in nums]\n",
    "            goal, s = -goal, -s\n",
    "        \n",
    "        return (goal - s) // limit + 1 if (goal - s) % limit > 0 else (goal - s) // limit"
   ]
  },
  {
   "cell_type": "markdown",
   "metadata": {},
   "source": [
    "## Lessons and Thoughts\n",
    "- Straightforward"
   ]
  }
 ],
 "metadata": {
  "kernelspec": {
   "display_name": "Python 3",
   "language": "python",
   "name": "python3"
  },
  "language_info": {
   "codemirror_mode": {
    "name": "ipython",
    "version": 3
   },
   "file_extension": ".py",
   "mimetype": "text/x-python",
   "name": "python",
   "nbconvert_exporter": "python",
   "pygments_lexer": "ipython3",
   "version": "3.7.3"
  }
 },
 "nbformat": 4,
 "nbformat_minor": 2
}
