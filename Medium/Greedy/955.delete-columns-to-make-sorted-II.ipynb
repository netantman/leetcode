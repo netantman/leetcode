{
 "cells": [
  {
   "cell_type": "markdown",
   "metadata": {},
   "source": [
    "## Attempt 1 - Accepted"
   ]
  },
  {
   "cell_type": "code",
   "execution_count": null,
   "metadata": {},
   "outputs": [],
   "source": [
    "class Solution:\n",
    "    def minDeletionSize(self, A: List[str]) -> int:\n",
    "        def is_sorted(sub):\n",
    "            L=len(sub)\n",
    "            return all(sub[i]<=sub[i+1] for i in range(L-1))\n",
    "        \n",
    "        res=0\n",
    "        L=len(A)\n",
    "        curr=[\"\" for _ in range(L)] \n",
    "        for col in zip(*A):\n",
    "            curr2=[cur+c for cur,c in zip(curr, col)]\n",
    "            if is_sorted(curr2):\n",
    "                curr=curr2\n",
    "            else:\n",
    "                res+=1\n",
    "        \n",
    "        return res"
   ]
  },
  {
   "cell_type": "markdown",
   "metadata": {},
   "source": [
    "## Lessons and Thoughts\n",
    "- Note that python has intrinsic sort of strings by lexigraphical order."
   ]
  }
 ],
 "metadata": {
  "kernelspec": {
   "display_name": "Python 3",
   "language": "python",
   "name": "python3"
  },
  "language_info": {
   "codemirror_mode": {
    "name": "ipython",
    "version": 3
   },
   "file_extension": ".py",
   "mimetype": "text/x-python",
   "name": "python",
   "nbconvert_exporter": "python",
   "pygments_lexer": "ipython3",
   "version": "3.7.3"
  }
 },
 "nbformat": 4,
 "nbformat_minor": 2
}
