{
 "cells": [
  {
   "cell_type": "markdown",
   "metadata": {},
   "source": [
    "## Attempt 1 - Accepted"
   ]
  },
  {
   "cell_type": "code",
   "execution_count": null,
   "metadata": {},
   "outputs": [],
   "source": [
    "class Solution:\n",
    "    def partitionLabels(self, S: str) -> List[int]:\n",
    "        n = len(S)\n",
    "        last_dict = {c: i for i, c in enumerate(S)}\n",
    "        i, ans = 0, []\n",
    "        while i < n:\n",
    "            if last_dict[S[i]] == i:       # 后面再没出现过\n",
    "                ans.append(1)\n",
    "                i += 1\n",
    "            elif last_dict[S[i]] > i:      # 后面出现过\n",
    "                j = last_dict[S[i]]        # 假设段的右端点\n",
    "                m = i + 1\n",
    "                while  m < j:                  # 对假设段遍历\n",
    "                    if last_dict[S[m]] > j:\n",
    "                        j = last_dict[S[m]]    # 有更右的就扩展边界\n",
    "                    m += 1\n",
    "                ans.append(j - i + 1)\n",
    "                i = j + 1                      # 结束了这一段 开始下一段\n",
    "        return ans   "
   ]
  },
  {
   "cell_type": "markdown",
   "metadata": {},
   "source": [
    "## Attempt 2 - Accepted"
   ]
  },
  {
   "cell_type": "code",
   "execution_count": null,
   "metadata": {},
   "outputs": [],
   "source": [
    "class Solution:\n",
    "    def partitionLabels(self, S: str) -> List[int]:\n",
    "        L=len(S)\n",
    "        left=[L for _ in range(26)]\n",
    "        right=[-1 for _ in range(26)]\n",
    "        for idx, c in enumerate(S):\n",
    "            left[ord(c)-ord(\"a\")]=min(left[ord(c)-ord(\"a\")], idx)\n",
    "            right[ord(c)-ord(\"a\")]=max(right[ord(c)-ord(\"a\")], idx)\n",
    "        record=sorted(list(zip(left, right)), key=lambda x:x[0])\n",
    "        res=[]\n",
    "        high=None\n",
    "        # print(record)\n",
    "        for r in record:\n",
    "            if r[0]>r[1]:\n",
    "                continue\n",
    "            if high is None:\n",
    "                high=r[1]\n",
    "            elif r[0]>high:\n",
    "                res.append(high)\n",
    "                high=r[1]\n",
    "            else:\n",
    "                high=max(high, r[1])\n",
    "        res.append(high)\n",
    "        for idx in reversed(range(1,len(res))): ## --> to get from cumsum to increment array\n",
    "            res[idx]=res[idx]-res[idx-1]\n",
    "        res[0]=res[0]+1\n",
    "        return res"
   ]
  },
  {
   "cell_type": "markdown",
   "metadata": {},
   "source": [
    "## Lessons and Thought\n",
    "- Attempt 1 is from leetcode app. The idea is almost greedy brute force.\n",
    "- Attempt 2 is your doing - it is very similar to Problems 1024 and 425, where you are dealing with overlapping intervals. To note is how to get from cumsum to increment variables."
   ]
  }
 ],
 "metadata": {
  "kernelspec": {
   "display_name": "Python 3",
   "language": "python",
   "name": "python3"
  },
  "language_info": {
   "codemirror_mode": {
    "name": "ipython",
    "version": 3
   },
   "file_extension": ".py",
   "mimetype": "text/x-python",
   "name": "python",
   "nbconvert_exporter": "python",
   "pygments_lexer": "ipython3",
   "version": "3.7.3"
  }
 },
 "nbformat": 4,
 "nbformat_minor": 2
}
