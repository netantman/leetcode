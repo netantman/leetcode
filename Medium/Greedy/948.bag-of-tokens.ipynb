{
 "cells": [
  {
   "cell_type": "markdown",
   "metadata": {},
   "source": [
    "## Attempt 1 - Accepted"
   ]
  },
  {
   "cell_type": "code",
   "execution_count": null,
   "metadata": {},
   "outputs": [],
   "source": [
    "class Solution:\n",
    "    def bagOfTokensScore(self, tokens: List[int], P: int) -> int:\n",
    "        tokens=sorted(tokens)\n",
    "        points=0\n",
    "        mmax=0\n",
    "        while len(tokens)>0 and (points>0 or P>=tokens[0]):\n",
    "            if P>=tokens[0]:\n",
    "                P-=tokens.pop(0)\n",
    "                points+=1\n",
    "                mmax=max(mmax, points)\n",
    "            else:\n",
    "                P+=tokens.pop(-1)\n",
    "                points-=1\n",
    "        return mmax"
   ]
  },
  {
   "cell_type": "markdown",
   "metadata": {},
   "source": [
    "## Lessons and Thoughts\n",
    "- The idea is when we can, get more tokens; otherwise, use `points` to get the most power. Not proved that this absolutely can be the global optimal."
   ]
  }
 ],
 "metadata": {
  "kernelspec": {
   "display_name": "Python 3",
   "language": "python",
   "name": "python3"
  },
  "language_info": {
   "codemirror_mode": {
    "name": "ipython",
    "version": 3
   },
   "file_extension": ".py",
   "mimetype": "text/x-python",
   "name": "python",
   "nbconvert_exporter": "python",
   "pygments_lexer": "ipython3",
   "version": "3.7.3"
  }
 },
 "nbformat": 4,
 "nbformat_minor": 2
}
