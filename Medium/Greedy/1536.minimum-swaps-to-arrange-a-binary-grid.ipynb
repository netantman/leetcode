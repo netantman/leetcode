{
 "cells": [
  {
   "cell_type": "markdown",
   "metadata": {},
   "source": [
    "## Attempt 1 - Accepted"
   ]
  },
  {
   "cell_type": "code",
   "execution_count": null,
   "metadata": {},
   "outputs": [],
   "source": [
    "class Solution:\n",
    "    def minSwaps(self, grid: List[List[int]]) -> int:\n",
    "        cnt = 0\n",
    "        while len(grid) > 1:\n",
    "            last_cols = [row[1:] for row in grid]\n",
    "            # print(last_cols)\n",
    "            if sum(last_cols[0]) < 1:\n",
    "                grid = last_cols[1:]\n",
    "                continue\n",
    "            found = 0\n",
    "            for r in range(1, len(grid)):\n",
    "                if sum(last_cols[r]) < 1:\n",
    "                    found = r\n",
    "                    break\n",
    "            else:\n",
    "                return -1\n",
    "            last_cols = [last_cols[found]] + last_cols[:found] + last_cols[found+1:]\n",
    "            cnt += found\n",
    "            grid = last_cols[1:]\n",
    "            # print(grid)\n",
    "        \n",
    "        return cnt"
   ]
  },
  {
   "cell_type": "markdown",
   "metadata": {},
   "source": [
    "## Lessons and Thoughts\n",
    "- The idea is in each iteration, forget the first column and only look at the last columns. See if the first row is all zero, or greedily find the next one that does - if there is no such rows, then it is impossible. "
   ]
  }
 ],
 "metadata": {
  "kernelspec": {
   "display_name": "Python 3",
   "language": "python",
   "name": "python3"
  },
  "language_info": {
   "codemirror_mode": {
    "name": "ipython",
    "version": 3
   },
   "file_extension": ".py",
   "mimetype": "text/x-python",
   "name": "python",
   "nbconvert_exporter": "python",
   "pygments_lexer": "ipython3",
   "version": "3.7.3"
  }
 },
 "nbformat": 4,
 "nbformat_minor": 2
}
