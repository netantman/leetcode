{
 "cells": [
  {
   "cell_type": "markdown",
   "metadata": {},
   "source": [
    "## Attempt 1 - Accepted"
   ]
  },
  {
   "cell_type": "code",
   "execution_count": null,
   "metadata": {},
   "outputs": [],
   "source": [
    "class Solution:\n",
    "    def monotoneIncreasingDigits(self, N: int) -> int:\n",
    "        N=[d for d in str(N)]\n",
    "        L=len(N)\n",
    "        maxout=False\n",
    "        res=N[0]\n",
    "        for idx in range(1,L):\n",
    "            curr=N[idx]\n",
    "            if maxout:\n",
    "                res+=\"9\"\n",
    "            else:\n",
    "                if curr>=res[-1]:\n",
    "                    res+=curr\n",
    "                else:\n",
    "                    temp=int(res[-1])-1\n",
    "                    res=res[:-1]\n",
    "                    while len(res)>0 and temp<int(res[-1]):\n",
    "                        temp=int(res[-1])-1\n",
    "                        res=res[:-1]\n",
    "                    res+=str(temp)\n",
    "                    while len(res)<idx+1:\n",
    "                        res+=\"9\"\n",
    "                    maxout=True\n",
    "                    \n",
    "        return int(res)"
   ]
  },
  {
   "cell_type": "markdown",
   "metadata": {},
   "source": [
    "## Lessons and Thoughts\n",
    "- The case that is tricky is when we need to go back further towards the leading digits to find an increasing-digit number"
   ]
  }
 ],
 "metadata": {
  "kernelspec": {
   "display_name": "Python 3",
   "language": "python",
   "name": "python3"
  },
  "language_info": {
   "codemirror_mode": {
    "name": "ipython",
    "version": 3
   },
   "file_extension": ".py",
   "mimetype": "text/x-python",
   "name": "python",
   "nbconvert_exporter": "python",
   "pygments_lexer": "ipython3",
   "version": "3.7.3"
  }
 },
 "nbformat": 4,
 "nbformat_minor": 2
}
