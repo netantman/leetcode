{
 "cells": [
  {
   "cell_type": "markdown",
   "metadata": {},
   "source": [
    "## Attempt 1 - Accepted"
   ]
  },
  {
   "cell_type": "code",
   "execution_count": null,
   "metadata": {},
   "outputs": [],
   "source": [
    "class Twitter:\n",
    "\n",
    "    def __init__(self):\n",
    "        \"\"\"\n",
    "        Initialize your data structure here.\n",
    "        \"\"\"\n",
    "        self.friends=dict()\n",
    "        self.tweets=[]\n",
    "\n",
    "    def postTweet(self, userId: int, tweetId: int) -> None:\n",
    "        \"\"\"\n",
    "        Compose a new tweet.\n",
    "        \"\"\"\n",
    "        self.tweets.append((userId, tweetId))\n",
    "\n",
    "    def getNewsFeed(self, userId: int) -> List[int]:\n",
    "        \"\"\"\n",
    "        Retrieve the 10 most recent tweet ids in the user's news feed. Each item in the news feed must be posted by users who the user followed or by the user herself. Tweets must be ordered from most recent to least recent.\n",
    "        \"\"\"\n",
    "        friends_set=self.friends.get(userId, set())\n",
    "\n",
    "        res=[]\n",
    "        for t in self.tweets[::-1]:\n",
    "            if (t[0] in friends_set) or (t[0]==userId):\n",
    "                res.append(t[1])\n",
    "                if len(res)>=10:\n",
    "                    break\n",
    "        return res\n",
    "\n",
    "    def follow(self, followerId: int, followeeId: int) -> None:\n",
    "        \"\"\"\n",
    "        Follower follows a followee. If the operation is invalid, it should be a no-op.\n",
    "        \"\"\"\n",
    "        if followerId not in self.friends:\n",
    "            self.friends[followerId]=set()\n",
    "        self.friends[followerId].add(followeeId)\n",
    "        \n",
    "\n",
    "    def unfollow(self, followerId: int, followeeId: int) -> None:\n",
    "        \"\"\"\n",
    "        Follower unfollows a followee. If the operation is invalid, it should be a no-op.\n",
    "        \"\"\"\n",
    "        if (followerId in self.friends) and (followeeId in self.friends[followerId]):\n",
    "            self.friends[followerId].remove(followeeId)\n",
    "        \n",
    "\n",
    "\n",
    "# Your Twitter object will be instantiated and called as such:\n",
    "# obj = Twitter()\n",
    "# obj.postTweet(userId,tweetId)\n",
    "# param_2 = obj.getNewsFeed(userId)\n",
    "# obj.follow(followerId,followeeId)\n",
    "# obj.unfollow(followerId,followeeId)"
   ]
  },
  {
   "cell_type": "markdown",
   "metadata": {},
   "source": [
    "## Lessons and Thoughts\n",
    "- Just that users get their own tweets as well."
   ]
  }
 ],
 "metadata": {
  "kernelspec": {
   "display_name": "Python 3",
   "language": "python",
   "name": "python3"
  },
  "language_info": {
   "codemirror_mode": {
    "name": "ipython",
    "version": 3
   },
   "file_extension": ".py",
   "mimetype": "text/x-python",
   "name": "python",
   "nbconvert_exporter": "python",
   "pygments_lexer": "ipython3",
   "version": "3.7.3"
  }
 },
 "nbformat": 4,
 "nbformat_minor": 2
}
