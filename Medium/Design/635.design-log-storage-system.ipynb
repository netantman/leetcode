{
 "cells": [
  {
   "cell_type": "markdown",
   "metadata": {},
   "source": [
    "## Attempt 1 - "
   ]
  },
  {
   "cell_type": "code",
   "execution_count": null,
   "metadata": {},
   "outputs": [],
   "source": [
    "class LogSystem:\n",
    "\n",
    "    def __init__(self):\n",
    "        self.record = dict()\n",
    "        self.granularities = [\"Year\", \"Month\", \"Day\", \"Hour\", \"Minute\", \"Second\"]\n",
    "\n",
    "    def put(self, id: int, timestamp: str) -> None:\n",
    "        self.record[int(\"\".join(timestamp.split(\":\")))] = id\n",
    "        \n",
    "\n",
    "    def retrieve(self, start: str, end: str, granularity: str) -> List[int]:\n",
    "        start = start.split(\":\")\n",
    "        end = end.split(\":\")\n",
    "        g = 0\n",
    "        while g < 6:\n",
    "            if self.granularities[g] == granularity:\n",
    "                break\n",
    "            g += 1\n",
    "        for idx in range(5, g, -1):\n",
    "            if idx == 5:\n",
    "                end[idx] = \"59\"\n",
    "                start[idx] = \"00\"\n",
    "            if idx == 4:\n",
    "                end[idx] = \"59\"\n",
    "                start[idx] = \"00\"\n",
    "            if idx == 3:\n",
    "                end[idx] = \"23\"\n",
    "                start[idx] = \"00\"\n",
    "            if idx == 2:\n",
    "                end[idx] = \"31\"\n",
    "                start[idx] = \"01\"\n",
    "            if idx == 1:\n",
    "                end[idx] = \"12\"\n",
    "                start[idx] = \"01\"\n",
    "        start = int(\"\".join(start))\n",
    "        end = int(\"\".join(end))\n",
    "        return [self.record[k] for k in self.record.keys() if k >= start and k <= end]\n",
    "            \n",
    "        \n",
    "            \n",
    "\n",
    "\n",
    "# Your LogSystem object will be instantiated and called as such:\n",
    "# obj = LogSystem()\n",
    "# obj.put(id,timestamp)\n",
    "# param_2 = obj.retrieve(start,end,granularity)"
   ]
  },
  {
   "cell_type": "markdown",
   "metadata": {},
   "source": [
    "## Lessons and Thoughts\n",
    "- The idea is to turn timestamps into numbers."
   ]
  }
 ],
 "metadata": {
  "kernelspec": {
   "display_name": "Python 3",
   "language": "python",
   "name": "python3"
  },
  "language_info": {
   "codemirror_mode": {
    "name": "ipython",
    "version": 3
   },
   "file_extension": ".py",
   "mimetype": "text/x-python",
   "name": "python",
   "nbconvert_exporter": "python",
   "pygments_lexer": "ipython3",
   "version": "3.7.3"
  }
 },
 "nbformat": 4,
 "nbformat_minor": 2
}
