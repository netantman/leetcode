{
 "cells": [
  {
   "cell_type": "markdown",
   "metadata": {},
   "source": [
    "## Attempt 1 - Accepted"
   ]
  },
  {
   "cell_type": "code",
   "execution_count": null,
   "metadata": {},
   "outputs": [],
   "source": [
    "class AuthenticationManager:\n",
    "\n",
    "    def __init__(self, timeToLive: int):\n",
    "        self.timeToLive = timeToLive\n",
    "        self.tokens = dict()\n",
    "        \n",
    "\n",
    "    def generate(self, tokenId: str, currentTime: int) -> None:\n",
    "        self.tokens[tokenId] = currentTime + self.timeToLive\n",
    "        \n",
    "\n",
    "    def renew(self, tokenId: str, currentTime: int) -> None:\n",
    "        if tokenId in self.tokens and self.tokens[tokenId] > currentTime:\n",
    "            self.tokens[tokenId] = currentTime + self.timeToLive\n",
    "        \n",
    "\n",
    "    def countUnexpiredTokens(self, currentTime: int) -> int:\n",
    "        return sum([1 for k in self.tokens.keys() if self.tokens[k] > currentTime])\n",
    "\n",
    "\n",
    "# Your AuthenticationManager object will be instantiated and called as such:\n",
    "# obj = AuthenticationManager(timeToLive)\n",
    "# obj.generate(tokenId,currentTime)\n",
    "# obj.renew(tokenId,currentTime)\n",
    "# param_3 = obj.countUnexpiredTokens(currentTime)"
   ]
  },
  {
   "cell_type": "markdown",
   "metadata": {},
   "source": [
    "## Lessons and Thoughts\n",
    "- Straightforward - as with all design questions, understanding what it wants is the main hurdle."
   ]
  }
 ],
 "metadata": {
  "kernelspec": {
   "display_name": "Python 3",
   "language": "python",
   "name": "python3"
  },
  "language_info": {
   "codemirror_mode": {
    "name": "ipython",
    "version": 3
   },
   "file_extension": ".py",
   "mimetype": "text/x-python",
   "name": "python",
   "nbconvert_exporter": "python",
   "pygments_lexer": "ipython3",
   "version": "3.7.3"
  }
 },
 "nbformat": 4,
 "nbformat_minor": 2
}
