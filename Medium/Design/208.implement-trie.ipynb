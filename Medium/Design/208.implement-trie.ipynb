{
 "cells": [
  {
   "cell_type": "markdown",
   "metadata": {},
   "source": [
    "## Attempt 1 - Wrong Answer: tripped by default argument"
   ]
  },
  {
   "cell_type": "code",
   "execution_count": 1,
   "metadata": {},
   "outputs": [
    {
     "name": "stdout",
     "output_type": "stream",
     "text": [
      "0\n",
      "1\n",
      "2\n",
      "3\n"
     ]
    },
    {
     "data": {
      "text/plain": [
       "{'a': <__main__.trieNode at 0x7f806c03f550>,\n",
       " 'p': <__main__.trieNode at 0x7f806c03f710>,\n",
       " 'l': <__main__.trieNode at 0x7f806c03f780>,\n",
       " 'e': <__main__.trieNode at 0x7f806c03f7f0>,\n",
       " '': None}"
      ]
     },
     "execution_count": 1,
     "metadata": {},
     "output_type": "execute_result"
    }
   ],
   "source": [
    "class trieNode:\n",
    "    def __init__(self, val=\"\", children=dict()): ## --> the empty dict of children is initialized when __init__ is first defined; later children will not be empty dict even if a new trieNode is defined\n",
    "        self.val=val\n",
    "        self.children=children \n",
    "\n",
    "class Trie:\n",
    "\n",
    "    def __init__(self):\n",
    "        \"\"\"\n",
    "        Initialize your data structure here.\n",
    "        \"\"\"\n",
    "        self.root=trieNode()\n",
    "        \n",
    "\n",
    "    def insert(self, word: str) -> None:\n",
    "        \"\"\"\n",
    "        Inserts a word into the trie.\n",
    "        \"\"\"\n",
    "        curr=self.root\n",
    "        L=len(word)\n",
    "        for idx in range(L):\n",
    "            if word[idx] in curr.children:\n",
    "                curr=curr.children[word[idx]]\n",
    "            else:\n",
    "                new=trieNode(val=word[idx])\n",
    "                print(len(new.children)) ## --> you can see this is not always 0\n",
    "                curr.children[word[idx]]=new\n",
    "                curr=curr.children[word[idx]]\n",
    "        curr.children[\"\"]=None\n",
    "        \n",
    "\n",
    "    def search(self, word: str) -> bool:\n",
    "        \"\"\"\n",
    "        Returns if the word is in the trie.\n",
    "        \"\"\"\n",
    "        curr=self.root\n",
    "        L=len(word)\n",
    "        for idx in range(L):\n",
    "            if word[idx] in curr.children:\n",
    "                curr=curr.children[word[idx]]\n",
    "            else:\n",
    "                return False\n",
    "        if \"\" in curr.children:\n",
    "            return True\n",
    "        else:\n",
    "            return False\n",
    "            \n",
    "\n",
    "    def startsWith(self, prefix: str) -> bool:\n",
    "        \"\"\"\n",
    "        Returns if there is any word in the trie that starts with the given prefix.\n",
    "        \"\"\"\n",
    "        curr=self.root\n",
    "        L=len(prefix)\n",
    "        for idx in range(L):\n",
    "            if prefix[idx] in curr.children:\n",
    "                curr=curr.children[prefix[idx]]\n",
    "            else:\n",
    "                return False\n",
    "        return True\n",
    "\n",
    "obj = Trie()\n",
    "obj.insert(\"apple\")\n",
    "obj.root.children"
   ]
  },
  {
   "cell_type": "markdown",
   "metadata": {},
   "source": [
    "## Attempt 2 - Accepted"
   ]
  },
  {
   "cell_type": "code",
   "execution_count": null,
   "metadata": {},
   "outputs": [],
   "source": [
    "class trieNode:\n",
    "    def __init__(self, val=\"\"):\n",
    "        self.val=val\n",
    "        self.children=dict()\n",
    "\n",
    "class Trie:\n",
    "\n",
    "    def __init__(self):\n",
    "        \"\"\"\n",
    "        Initialize your data structure here.\n",
    "        \"\"\"\n",
    "        self.root=trieNode()\n",
    "        \n",
    "\n",
    "    def insert(self, word: str) -> None:\n",
    "        \"\"\"\n",
    "        Inserts a word into the trie.\n",
    "        \"\"\"\n",
    "        curr=self.root\n",
    "        L=len(word)\n",
    "        for idx in range(L):\n",
    "            if word[idx] in curr.children:\n",
    "                curr=curr.children[word[idx]]\n",
    "            else:\n",
    "                new=trieNode(val=word[idx])\n",
    "                curr.children[word[idx]]=new\n",
    "                curr=curr.children[word[idx]]\n",
    "        curr.children[\"\"]=None\n",
    "        \n",
    "\n",
    "    def search(self, word: str) -> bool:\n",
    "        \"\"\"\n",
    "        Returns if the word is in the trie.\n",
    "        \"\"\"\n",
    "        curr=self.root\n",
    "        L=len(word)\n",
    "        for idx in range(L):\n",
    "            if word[idx] in curr.children:\n",
    "                curr=curr.children[word[idx]]\n",
    "            else:\n",
    "                return False\n",
    "        if \"\" in curr.children:\n",
    "            return True\n",
    "        else:\n",
    "            return False\n",
    "            \n",
    "\n",
    "    def startsWith(self, prefix: str) -> bool:\n",
    "        \"\"\"\n",
    "        Returns if there is any word in the trie that starts with the given prefix.\n",
    "        \"\"\"\n",
    "        curr=self.root\n",
    "        L=len(prefix)\n",
    "        for idx in range(L):\n",
    "            if prefix[idx] in curr.children:\n",
    "                curr=curr.children[prefix[idx]]\n",
    "            else:\n",
    "                return False\n",
    "        return True\n",
    "        \n",
    "\n",
    "\n",
    "# Your Trie object will be instantiated and called as such:\n",
    "# obj = Trie()\n",
    "# obj.insert(word)\n",
    "# param_2 = obj.search(word)\n",
    "# param_3 = obj.startsWith(prefix)"
   ]
  },
  {
   "cell_type": "markdown",
   "metadata": {},
   "source": [
    "## Lessons and Thoughts\n",
    "- The default argument trap is discussed in this [post](https://www.toptal.com/python/top-10-mistakes-that-python-programmers-make)\n",
    "- Look at the definition of trie [here](https://en.wikipedia.org/wiki/Trie)"
   ]
  }
 ],
 "metadata": {
  "kernelspec": {
   "display_name": "Python 3",
   "language": "python",
   "name": "python3"
  },
  "language_info": {
   "codemirror_mode": {
    "name": "ipython",
    "version": 3
   },
   "file_extension": ".py",
   "mimetype": "text/x-python",
   "name": "python",
   "nbconvert_exporter": "python",
   "pygments_lexer": "ipython3",
   "version": "3.7.3"
  }
 },
 "nbformat": 4,
 "nbformat_minor": 2
}
