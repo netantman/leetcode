{
 "cells": [
  {
   "cell_type": "markdown",
   "metadata": {},
   "source": [
    "## Attempt 1 - Accepted"
   ]
  },
  {
   "cell_type": "code",
   "execution_count": null,
   "metadata": {},
   "outputs": [],
   "source": [
    "class SparseVector:\n",
    "    def __init__(self, nums: List[int]):\n",
    "        self.n = len(nums)\n",
    "        self.vals = dict()\n",
    "        for idx in range(self.n):\n",
    "            if nums[idx] != 0:\n",
    "                self.vals[idx] = nums[idx]\n",
    "\n",
    "    # Return the dotProduct of two sparse vectors\n",
    "    def dotProduct(self, vec: 'SparseVector') -> int:\n",
    "        inter = set(self.vals.keys()) & set(vec.vals.keys())\n",
    "        return sum([self.vals[idx] * vec.vals[idx] for idx in inter])\n",
    "        \n",
    "\n",
    "# Your SparseVector object will be instantiated and called as such:\n",
    "# v1 = SparseVector(nums1)\n",
    "# v2 = SparseVector(nums2)\n",
    "# ans = v1.dotProduct(v2)"
   ]
  },
  {
   "cell_type": "markdown",
   "metadata": {},
   "source": [
    "## Lessons and Thoughts\n",
    "- Straightforward"
   ]
  }
 ],
 "metadata": {
  "kernelspec": {
   "display_name": "Python 3",
   "language": "python",
   "name": "python3"
  },
  "language_info": {
   "codemirror_mode": {
    "name": "ipython",
    "version": 3
   },
   "file_extension": ".py",
   "mimetype": "text/x-python",
   "name": "python",
   "nbconvert_exporter": "python",
   "pygments_lexer": "ipython3",
   "version": "3.7.3"
  }
 },
 "nbformat": 4,
 "nbformat_minor": 2
}
