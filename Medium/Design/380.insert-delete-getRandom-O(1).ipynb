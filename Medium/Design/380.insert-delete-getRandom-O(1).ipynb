{
 "cells": [
  {
   "cell_type": "markdown",
   "metadata": {},
   "source": [
    "## Attempt 1 - Accepted"
   ]
  },
  {
   "cell_type": "code",
   "execution_count": null,
   "metadata": {},
   "outputs": [],
   "source": [
    "import random\n",
    "\n",
    "class RandomizedSet:\n",
    "\n",
    "    def __init__(self):\n",
    "        \"\"\"\n",
    "        Initialize your data structure here.\n",
    "        \"\"\"\n",
    "        self.cache=set()\n",
    "        \n",
    "\n",
    "    def insert(self, val: int) -> bool:\n",
    "        \"\"\"\n",
    "        Inserts a value to the set. Returns true if the set did not already contain the specified element.\n",
    "        \"\"\"\n",
    "        if val in self.cache:\n",
    "            return False\n",
    "        else:\n",
    "            self.cache.add(val)\n",
    "            return True\n",
    "\n",
    "    def remove(self, val: int) -> bool:\n",
    "        \"\"\"\n",
    "        Removes a value from the set. Returns true if the set contained the specified element.\n",
    "        \"\"\"\n",
    "        if val in self.cache:\n",
    "            self.cache.remove(val)\n",
    "            return True\n",
    "        else:\n",
    "            return False\n",
    "        \n",
    "\n",
    "    def getRandom(self) -> int:\n",
    "        \"\"\"\n",
    "        Get a random element from the set.\n",
    "        \"\"\"\n",
    "        \n",
    "        values=list(self.cache)\n",
    "        L=len(values)\n",
    "        idx = random.randrange(0, L)\n",
    "        return values[idx]\n",
    "\n",
    "\n",
    "# Your RandomizedSet object will be instantiated and called as such:\n",
    "# obj = RandomizedSet()\n",
    "# param_1 = obj.insert(val)\n",
    "# param_2 = obj.remove(val)\n",
    "# param_3 = obj.getRandom()"
   ]
  },
  {
   "cell_type": "markdown",
   "metadata": {},
   "source": [
    "## Attempt 2 - Wrong Answer"
   ]
  },
  {
   "cell_type": "code",
   "execution_count": null,
   "metadata": {},
   "outputs": [],
   "source": [
    "import random\n",
    "\n",
    "class RandomizedSet:\n",
    "\n",
    "    def __init__(self):\n",
    "        self.cache = []\n",
    "        self.positions = {}\n",
    "        self.L = 0\n",
    "\n",
    "    def insert(self, val: int) -> bool:\n",
    "        if val in self.positions:\n",
    "            return False\n",
    "        pos = random.randint(0, self.L)\n",
    "        self.cache.insert(pos, val) ## --> not really O(1)\n",
    "        self.positions[val] = pos\n",
    "        self.L += 1\n",
    "        return True\n",
    "\n",
    "    def remove(self, val: int) -> bool:\n",
    "        if val not in self.positions:\n",
    "            return False\n",
    "        \n",
    "        pos = self.positions[val]\n",
    "        self.cache.pop(pos)\n",
    "        del self.positions[val]\n",
    "        self.L -= 1\n",
    "        return True\n",
    "\n",
    "    def getRandom(self) -> int:\n",
    "        return self.cache[0]\n",
    "\n",
    "\n",
    "# Your RandomizedSet object will be instantiated and called as such:\n",
    "# obj = RandomizedSet()\n",
    "# param_1 = obj.insert(val)\n",
    "# param_2 = obj.remove(val)\n",
    "# param_3 = obj.getRandom()"
   ]
  },
  {
   "cell_type": "markdown",
   "metadata": {},
   "source": [
    "## Attempt 3 - Accepted"
   ]
  },
  {
   "cell_type": "code",
   "execution_count": null,
   "metadata": {},
   "outputs": [],
   "source": [
    "# class Node:\n",
    "#     self.left = None\n",
    "#     self.right = None\n",
    "#     self.val = None\n",
    "class RandomizedSet:\n",
    "\n",
    "    def __init__(self):\n",
    "        # self.head = Node()\n",
    "        # self.tail = Node()\n",
    "        # self.head.right = self.tail\n",
    "        # self.tail.left = self.head\n",
    "        self.vals = dict()\n",
    "        self.li = []\n",
    "        \n",
    "\n",
    "    def insert(self, val: int) -> bool:\n",
    "        if val in self.vals:\n",
    "            return False\n",
    "        \n",
    "        self.vals[val] = len(self.li)\n",
    "        self.li.append(val)\n",
    "        return True\n",
    "        \n",
    "\n",
    "    def remove(self, val: int) -> bool:\n",
    "        if val not in self.vals:\n",
    "            return False\n",
    "        \n",
    "        pos, last_elem = self.vals[val], self.li[-1]\n",
    "        self.li[pos] = last_elem\n",
    "        self.vals[last_elem] = pos\n",
    "        self.li.pop()\n",
    "        del self.vals[val]\n",
    "        return True\n",
    "\n",
    "    def getRandom(self) -> int:\n",
    "        return random.choice(self.li)\n",
    "\n",
    "\n",
    "# Your RandomizedSet object will be instantiated and called as such:\n",
    "# obj = RandomizedSet()\n",
    "# param_1 = obj.insert(val)\n",
    "# param_2 = obj.remove(val)\n",
    "# param_3 = obj.getRandom()"
   ]
  },
  {
   "cell_type": "markdown",
   "metadata": {},
   "source": [
    "## Lessons and Thoughts\n",
    "- Though Attempt 1 does not take into account the `O(1)` constraint, it is accepted. \n",
    "- Attempt 3 is from Leetcode solution. The trick is whenever you delete, let the last element of the list to take the old place. And note that `random.choice` can only work on iterable objects."
   ]
  }
 ],
 "metadata": {
  "kernelspec": {
   "display_name": "Python 3 (ipykernel)",
   "language": "python",
   "name": "python3"
  },
  "language_info": {
   "codemirror_mode": {
    "name": "ipython",
    "version": 3
   },
   "file_extension": ".py",
   "mimetype": "text/x-python",
   "name": "python",
   "nbconvert_exporter": "python",
   "pygments_lexer": "ipython3",
   "version": "3.9.7"
  }
 },
 "nbformat": 4,
 "nbformat_minor": 2
}
