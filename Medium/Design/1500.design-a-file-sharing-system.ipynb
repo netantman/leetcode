{
 "cells": [
  {
   "cell_type": "markdown",
   "metadata": {},
   "source": [
    "## Attempt 1 - Accepted"
   ]
  },
  {
   "cell_type": "code",
   "execution_count": null,
   "metadata": {},
   "outputs": [],
   "source": [
    "class FileSharing:\n",
    "\n",
    "    def __init__(self, m: int):\n",
    "        self.record = {idx: set() for idx in range(1, m + 1)}\n",
    "        self.ids = set()\n",
    "        self.ownedChunks = defaultdict(set)\n",
    "\n",
    "    def join(self, ownedChunks: List[int]) -> int:\n",
    "        i = 1\n",
    "        while i in self.ids:\n",
    "            i += 1\n",
    "        self.ids.add(i)\n",
    "        \n",
    "        self.ownedChunks[i] = set(ownedChunks)\n",
    "        \n",
    "        for c in ownedChunks:\n",
    "            self.record[c].add(i)\n",
    "        \n",
    "        # print(self.ownedChunks)\n",
    "        # print(self.record)\n",
    "        \n",
    "        return i\n",
    "        \n",
    "\n",
    "    def leave(self, userID: int) -> None:\n",
    "        for c in self.ownedChunks[userID]:\n",
    "            self.record[c].remove(userID)\n",
    "        del self.ownedChunks[userID]\n",
    "        self.ids.remove(userID)\n",
    "\n",
    "\n",
    "    def request(self, userID: int, chunkID: int) -> List[int]:\n",
    "        res = sorted(list(self.record[chunkID]))\n",
    "        if res:\n",
    "            self.record[chunkID].add(userID)\n",
    "            self.ownedChunks[userID].add(chunkID)\n",
    "        \n",
    "        # print(self.ownedChunks)\n",
    "        # print(self.record)\n",
    "        \n",
    "        return res\n",
    "        \n",
    "\n",
    "\n",
    "# Your FileSharing object will be instantiated and called as such:\n",
    "# obj = FileSharing(m)\n",
    "# param_1 = obj.join(ownedChunks)\n",
    "# obj.leave(userID)\n",
    "# param_3 = obj.request(userID,chunkID)"
   ]
  },
  {
   "cell_type": "markdown",
   "metadata": {},
   "source": [
    "## Lessons and Thoughts\n",
    "- `self.ownedChunks` has to be a `set`, otherwise there will be trouble if the user is requesting a chunk she already has."
   ]
  }
 ],
 "metadata": {
  "kernelspec": {
   "display_name": "Python 3",
   "language": "python",
   "name": "python3"
  },
  "language_info": {
   "codemirror_mode": {
    "name": "ipython",
    "version": 3
   },
   "file_extension": ".py",
   "mimetype": "text/x-python",
   "name": "python",
   "nbconvert_exporter": "python",
   "pygments_lexer": "ipython3",
   "version": "3.7.3"
  }
 },
 "nbformat": 4,
 "nbformat_minor": 2
}
