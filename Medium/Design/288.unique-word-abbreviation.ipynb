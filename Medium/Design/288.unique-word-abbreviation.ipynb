{
 "cells": [
  {
   "cell_type": "markdown",
   "metadata": {},
   "source": [
    "## Attempt 1 - Accepted"
   ]
  },
  {
   "cell_type": "code",
   "execution_count": null,
   "metadata": {},
   "outputs": [],
   "source": [
    "class ValidWordAbbr:\n",
    "\n",
    "    def __init__(self, dictionary: List[str]):\n",
    "        \n",
    "        self.record = defaultdict(set)\n",
    "        for word in dictionary:\n",
    "            self.record[self.mapping(word)].add(word)\n",
    "\n",
    "    def mapping(self, word):\n",
    "            if len(word) <= 2:\n",
    "                return word\n",
    "            return word[0] + str(len(word) - 2) + word[-1]        \n",
    "            \n",
    "    def isUnique(self, word: str) -> bool:\n",
    "        m = self.mapping(word)\n",
    "        return m not in self.record or self.record[m] == set([word])\n",
    "        \n",
    "\n",
    "\n",
    "# Your ValidWordAbbr object will be instantiated and called as such:\n",
    "# obj = ValidWordAbbr(dictionary)\n",
    "# param_1 = obj.isUnique(word)"
   ]
  },
  {
   "cell_type": "markdown",
   "metadata": {},
   "source": [
    "## Lessons and Thoughts\n",
    "- Straightforward"
   ]
  }
 ],
 "metadata": {
  "kernelspec": {
   "display_name": "Python 3",
   "language": "python",
   "name": "python3"
  },
  "language_info": {
   "codemirror_mode": {
    "name": "ipython",
    "version": 3
   },
   "file_extension": ".py",
   "mimetype": "text/x-python",
   "name": "python",
   "nbconvert_exporter": "python",
   "pygments_lexer": "ipython3",
   "version": "3.7.3"
  }
 },
 "nbformat": 4,
 "nbformat_minor": 2
}
