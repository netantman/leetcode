{
 "cells": [
  {
   "cell_type": "markdown",
   "metadata": {},
   "source": [
    "## Attempt 1 - Accepted"
   ]
  },
  {
   "cell_type": "code",
   "execution_count": null,
   "metadata": {},
   "outputs": [],
   "source": [
    "class trieNode:\n",
    "    def __init__(self, val=\"\"):\n",
    "        self.val=val\n",
    "        self.children=dict()\n",
    "        self.is_word=False\n",
    "\n",
    "class WordDictionary:\n",
    "\n",
    "    def __init__(self):\n",
    "        \"\"\"\n",
    "        Initialize your data structure here.\n",
    "        \"\"\"\n",
    "        self.root=trieNode()\n",
    "\n",
    "    def addWord(self, word: str) -> None:\n",
    "        \"\"\"\n",
    "        Adds a word into the data structure.\n",
    "        \"\"\"\n",
    "        curr=self.root\n",
    "        L=len(word)\n",
    "        for idx in range(L):\n",
    "            if word[idx] in curr.children:\n",
    "                curr=curr.children[word[idx]]\n",
    "            else:\n",
    "                new=trieNode(val=word[idx])\n",
    "                curr.children[word[idx]]=new\n",
    "                curr=curr.children[word[idx]]\n",
    "        curr.is_word=True\n",
    "    \n",
    "    def search_by_node(self, word, node):\n",
    "        if word == \"\":\n",
    "            return node.is_word\n",
    "        else:\n",
    "            if word[0] != \".\":\n",
    "                if word[0] in node.children:\n",
    "                    return self.search_by_node(word[1:], node.children[word[0]])\n",
    "                else:\n",
    "                    return False\n",
    "            else:\n",
    "                for c in node.children.values():\n",
    "                    if self.search_by_node(word[1:], c):\n",
    "                        return True\n",
    "                return False\n",
    "        \n",
    "\n",
    "    def search(self, word: str) -> bool:\n",
    "        \"\"\"\n",
    "        Returns if the word is in the data structure. A word could contain the dot character '.' to represent any one letter.\n",
    "        \"\"\"\n",
    "        return self.search_by_node(word, self.root)\n",
    "        \n",
    "        \n",
    "\n",
    "\n",
    "# Your WordDictionary object will be instantiated and called as such:\n",
    "# obj = WordDictionary()\n",
    "# obj.addWord(word)\n",
    "# param_2 = obj.search(word)"
   ]
  },
  {
   "cell_type": "markdown",
   "metadata": {},
   "source": [
    "## Lessons and Thoughts\n",
    "- Use recursion generously"
   ]
  }
 ],
 "metadata": {
  "kernelspec": {
   "display_name": "Python 3",
   "language": "python",
   "name": "python3"
  },
  "language_info": {
   "codemirror_mode": {
    "name": "ipython",
    "version": 3
   },
   "file_extension": ".py",
   "mimetype": "text/x-python",
   "name": "python",
   "nbconvert_exporter": "python",
   "pygments_lexer": "ipython3",
   "version": "3.7.3"
  }
 },
 "nbformat": 4,
 "nbformat_minor": 2
}
