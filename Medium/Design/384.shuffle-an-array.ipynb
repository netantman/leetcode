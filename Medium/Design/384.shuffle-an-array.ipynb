{
 "cells": [
  {
   "cell_type": "markdown",
   "metadata": {},
   "source": [
    "## Attempt 1 - Wrong Answer"
   ]
  },
  {
   "cell_type": "code",
   "execution_count": null,
   "metadata": {},
   "outputs": [],
   "source": [
    "import random\n",
    "\n",
    "class Solution:\n",
    "\n",
    "    def __init__(self, nums: List[int]):\n",
    "        self.nums=[n for n in nums]\n",
    "        self.nums0=[n for n in nums]\n",
    "\n",
    "    def reset(self) -> List[int]:\n",
    "        \"\"\"\n",
    "        Resets the array to its original configuration and return it.\n",
    "        \"\"\"\n",
    "        self.nums=self.nums0  ## --> now changing self.nums is changing self.nums0\n",
    "        return self.nums\n",
    "        \n",
    "\n",
    "    def shuffle(self) -> List[int]:\n",
    "        \"\"\"\n",
    "        Returns a random shuffling of the array.\n",
    "        \"\"\"\n",
    "        random.shuffle(self.nums)\n",
    "        return self.nums\n",
    "        \n",
    "\n",
    "\n",
    "# Your Solution object will be instantiated and called as such:\n",
    "# obj = Solution(nums)\n",
    "# param_1 = obj.reset()\n",
    "# param_2 = obj.shuffle()"
   ]
  },
  {
   "cell_type": "markdown",
   "metadata": {},
   "source": [
    "## Attempt 2 - Accepted"
   ]
  },
  {
   "cell_type": "code",
   "execution_count": null,
   "metadata": {},
   "outputs": [],
   "source": [
    "import random\n",
    "\n",
    "class Solution:\n",
    "\n",
    "    def __init__(self, nums: List[int]):\n",
    "        self.nums=[n for n in nums]\n",
    "        self.nums0=[n for n in nums]\n",
    "\n",
    "    def reset(self) -> List[int]:\n",
    "        \"\"\"\n",
    "        Resets the array to its original configuration and return it.\n",
    "        \"\"\"\n",
    "        self.nums=self.nums0\n",
    "        self.nums0=[n for n in self.nums0]\n",
    "        return self.nums\n",
    "        \n",
    "\n",
    "    def shuffle(self) -> List[int]:\n",
    "        \"\"\"\n",
    "        Returns a random shuffling of the array.\n",
    "        \"\"\"\n",
    "        random.shuffle(self.nums)\n",
    "        return self.nums\n",
    "        \n",
    "\n",
    "\n",
    "# Your Solution object will be instantiated and called as such:\n",
    "# obj = Solution(nums)\n",
    "# param_1 = obj.reset()\n",
    "# param_2 = obj.shuffle()"
   ]
  },
  {
   "cell_type": "markdown",
   "metadata": {},
   "source": [
    "## Lessons and Thoughts\n",
    "- Just be very careful when you assign a list to another list.\n",
    "- `random.shuffle`, does things in place."
   ]
  }
 ],
 "metadata": {
  "kernelspec": {
   "display_name": "Python 3",
   "language": "python",
   "name": "python3"
  },
  "language_info": {
   "codemirror_mode": {
    "name": "ipython",
    "version": 3
   },
   "file_extension": ".py",
   "mimetype": "text/x-python",
   "name": "python",
   "nbconvert_exporter": "python",
   "pygments_lexer": "ipython3",
   "version": "3.7.3"
  }
 },
 "nbformat": 4,
 "nbformat_minor": 2
}
