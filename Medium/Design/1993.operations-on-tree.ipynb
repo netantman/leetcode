{
 "cells": [
  {
   "cell_type": "markdown",
   "metadata": {},
   "source": [
    "## Attempt 1 - Accepted"
   ]
  },
  {
   "cell_type": "code",
   "execution_count": null,
   "metadata": {},
   "outputs": [],
   "source": [
    "class LockingTree:\n",
    "\n",
    "    def __init__(self, parent: List[int]):\n",
    "        self.parent = parent\n",
    "        \n",
    "        n = len(parent)\n",
    "        self.locks = {p : 0 for p in range(n)}\n",
    "        \n",
    "        self.descendants = [[] for _ in range(n)]\n",
    "        self.ascendants = [[] for _ in range(n)]\n",
    "        for idx in range(n):\n",
    "            p = self.parent[idx]\n",
    "            while p >= 0:\n",
    "                self.ascendants[idx].append(p)\n",
    "                self.descendants[p].append(idx)\n",
    "                p = self.parent[p]\n",
    "        \n",
    "\n",
    "    def lock(self, num: int, user: int) -> bool:\n",
    "        if self.locks[num] == 0:\n",
    "            self.locks[num] = user\n",
    "            return True\n",
    "        return False\n",
    "        \n",
    "\n",
    "    def unlock(self, num: int, user: int) -> bool:\n",
    "        if self.locks[num] == user:\n",
    "            self.locks[num] = 0\n",
    "            return True\n",
    "        return False\n",
    "\n",
    "    def upgrade(self, num: int, user: int) -> bool:\n",
    "        \n",
    "        locked_descendants = [d for d in self.descendants[num] if self.locks[d] > 0]\n",
    "        locked_ascendants = [a for a in self.ascendants[num] if self.locks[a] > 0]\n",
    "        \n",
    "        if self.locks[num] == 0 and len(locked_descendants) > 0 and len(locked_ascendants) < 1:\n",
    "            self.locks[num] = user\n",
    "            for d in locked_descendants:\n",
    "                self.locks[d] = 0\n",
    "            return True\n",
    "        \n",
    "        return False\n",
    "        \n",
    "\n",
    "\n",
    "# Your LockingTree object will be instantiated and called as such:\n",
    "# obj = LockingTree(parent)\n",
    "# param_1 = obj.lock(num,user)\n",
    "# param_2 = obj.unlock(num,user)\n",
    "# param_3 = obj.upgrade(num,user)"
   ]
  },
  {
   "cell_type": "markdown",
   "metadata": {},
   "source": [
    "## Lessons and Thoughts\n",
    "- Straightforward. Just a bit cumbersome in meeting all requirements"
   ]
  }
 ],
 "metadata": {
  "kernelspec": {
   "display_name": "Python 3",
   "language": "python",
   "name": "python3"
  },
  "language_info": {
   "codemirror_mode": {
    "name": "ipython",
    "version": 3
   },
   "file_extension": ".py",
   "mimetype": "text/x-python",
   "name": "python",
   "nbconvert_exporter": "python",
   "pygments_lexer": "ipython3",
   "version": "3.7.3"
  }
 },
 "nbformat": 4,
 "nbformat_minor": 2
}
