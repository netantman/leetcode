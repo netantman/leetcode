{
 "cells": [
  {
   "cell_type": "markdown",
   "metadata": {},
   "source": [
    "## Attempt 1 - Accepted"
   ]
  },
  {
   "cell_type": "code",
   "execution_count": null,
   "metadata": {},
   "outputs": [],
   "source": [
    "class CustomStack:\n",
    "\n",
    "    def __init__(self, maxSize: int):\n",
    "        self.maxSize=maxSize\n",
    "        self.stack=[]\n",
    "\n",
    "    def push(self, x: int) -> None:\n",
    "        if len(self.stack)<self.maxSize:\n",
    "            self.stack.append(x)\n",
    "\n",
    "    def pop(self) -> int:\n",
    "        if not self.stack:\n",
    "            return -1\n",
    "        res=self.stack[-1]\n",
    "        self.stack=self.stack[:-1]\n",
    "        return res\n",
    "\n",
    "    def increment(self, k: int, val: int) -> None:\n",
    "        for idx in range(k):\n",
    "            if idx<len(self.stack):\n",
    "                self.stack[idx]+=val\n",
    "        \n",
    "\n",
    "\n",
    "# Your CustomStack object will be instantiated and called as such:\n",
    "# obj = CustomStack(maxSize)\n",
    "# obj.push(x)\n",
    "# param_2 = obj.pop()\n",
    "# obj.increment(k,val)"
   ]
  },
  {
   "cell_type": "markdown",
   "metadata": {},
   "source": [
    "## Lessons and Thoughts\n",
    "- Straightforward"
   ]
  }
 ],
 "metadata": {
  "kernelspec": {
   "display_name": "Python 3",
   "language": "python",
   "name": "python3"
  },
  "language_info": {
   "codemirror_mode": {
    "name": "ipython",
    "version": 3
   },
   "file_extension": ".py",
   "mimetype": "text/x-python",
   "name": "python",
   "nbconvert_exporter": "python",
   "pygments_lexer": "ipython3",
   "version": "3.7.3"
  }
 },
 "nbformat": 4,
 "nbformat_minor": 2
}
