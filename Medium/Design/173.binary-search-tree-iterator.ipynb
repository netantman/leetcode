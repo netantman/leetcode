{
 "cells": [
  {
   "cell_type": "markdown",
   "metadata": {},
   "source": [
    "## Attempt 1"
   ]
  },
  {
   "cell_type": "code",
   "execution_count": null,
   "metadata": {},
   "outputs": [],
   "source": [
    "# Definition for a binary tree node.\n",
    "# class TreeNode:\n",
    "#     def __init__(self, val=0, left=None, right=None):\n",
    "#         self.val = val\n",
    "#         self.left = left\n",
    "#         self.right = right\n",
    "class BSTIterator:\n",
    "\n",
    "    def __init__(self, root: TreeNode):\n",
    "        self.seq=[]\n",
    "        if root is None:\n",
    "            self.seq=[]\n",
    "            ## --> the __init__ function should return as well\n",
    "        if root.left is None and root.right is None:\n",
    "            self.seq=[root.val]\n",
    "            ## --> the __init__ function should return as well\n",
    "        stack=[root]\n",
    "        while len(stack)>0:\n",
    "            head=stack[0]\n",
    "            stack=stack[1:]\n",
    "            if type(head)==int:\n",
    "                self.seq.append(head)\n",
    "            else:\n",
    "                if head.right is not None:\n",
    "                    stack=[head.right]+stack\n",
    "                stack=[head.val]+stack\n",
    "                if head.left is not None:\n",
    "                    stack=[head.left]+stack\n",
    "            \n",
    "\n",
    "    def next(self) -> int:\n",
    "        \"\"\"\n",
    "        @return the next smallest number\n",
    "        \"\"\"\n",
    "        res=self.seq[0]\n",
    "        self.seq=self.seq[1:]\n",
    "        return res\n",
    "        \n",
    "\n",
    "    def hasNext(self) -> bool:\n",
    "        \"\"\"\n",
    "        @return whether we have a next smallest number\n",
    "        \"\"\"\n",
    "        return len(self.seq)>0"
   ]
  },
  {
   "cell_type": "markdown",
   "metadata": {},
   "source": [
    "## Attempt 2 - Accepted"
   ]
  },
  {
   "cell_type": "code",
   "execution_count": null,
   "metadata": {},
   "outputs": [],
   "source": [
    "# Definition for a binary tree node.\n",
    "# class TreeNode:\n",
    "#     def __init__(self, val=0, left=None, right=None):\n",
    "#         self.val = val\n",
    "#         self.left = left\n",
    "#         self.right = right\n",
    "class BSTIterator:\n",
    "\n",
    "    def __init__(self, root: TreeNode):\n",
    "        self.seq=[]\n",
    "        if root is None:\n",
    "            self.seq=[]\n",
    "            return\n",
    "        if root.left is None and root.right is None:\n",
    "            self.seq=[root.val]\n",
    "            return\n",
    "        stack=[root]\n",
    "        while len(stack)>0:\n",
    "            head=stack[0]\n",
    "            stack=stack[1:]\n",
    "            if type(head)==int:\n",
    "                self.seq.append(head)\n",
    "            else:\n",
    "                if head.right is not None:\n",
    "                    stack=[head.right]+stack\n",
    "                stack=[head.val]+stack\n",
    "                if head.left is not None:\n",
    "                    stack=[head.left]+stack\n",
    "            \n",
    "\n",
    "    def next(self) -> int:\n",
    "        \"\"\"\n",
    "        @return the next smallest number\n",
    "        \"\"\"\n",
    "        res=self.seq[0]\n",
    "        self.seq=self.seq[1:]\n",
    "        return res\n",
    "        \n",
    "\n",
    "    def hasNext(self) -> bool:\n",
    "        \"\"\"\n",
    "        @return whether we have a next smallest number\n",
    "        \"\"\"\n",
    "        return len(self.seq)>0\n",
    "        \n",
    "\n",
    "\n",
    "# Your BSTIterator object will be instantiated and called as such:\n",
    "# obj = BSTIterator(root)\n",
    "# param_1 = obj.next()\n",
    "# param_2 = obj.hasNext()"
   ]
  },
  {
   "cell_type": "markdown",
   "metadata": {},
   "source": [
    "## Lessons and Thoughts\n",
    "- The handling of edge case depends on the function return."
   ]
  }
 ],
 "metadata": {
  "kernelspec": {
   "display_name": "Python 3",
   "language": "python",
   "name": "python3"
  },
  "language_info": {
   "codemirror_mode": {
    "name": "ipython",
    "version": 3
   },
   "file_extension": ".py",
   "mimetype": "text/x-python",
   "name": "python",
   "nbconvert_exporter": "python",
   "pygments_lexer": "ipython3",
   "version": "3.7.3"
  }
 },
 "nbformat": 4,
 "nbformat_minor": 2
}
