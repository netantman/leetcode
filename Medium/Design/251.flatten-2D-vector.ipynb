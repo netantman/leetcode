{
 "cells": [
  {
   "cell_type": "markdown",
   "metadata": {},
   "source": [
    "## Attempt 1 - Wrong Answer"
   ]
  },
  {
   "cell_type": "code",
   "execution_count": null,
   "metadata": {},
   "outputs": [],
   "source": [
    "class Vector2D:\n",
    "\n",
    "    def __init__(self, vec: List[List[int]]):\n",
    "        self.vec = vec\n",
    "        self.R = len(vec)\n",
    "        self.r = 0\n",
    "        self.c = 0\n",
    "\n",
    "    def next(self) -> int:\n",
    "        r, c = self.r, self.c\n",
    "        if c < len(self.vec[r]) - 1:\n",
    "            self.c += 1\n",
    "        else:\n",
    "            self.r += 1\n",
    "            self.c = 0\n",
    "        return self.vec[r][c]\n",
    "\n",
    "    def hasNext(self) -> bool:\n",
    "        return self.r < self.R\n",
    "\n",
    "\n",
    "# Your Vector2D object will be instantiated and called as such:\n",
    "# obj = Vector2D(vec)\n",
    "# param_1 = obj.next()\n",
    "# param_2 = obj.hasNext()"
   ]
  },
  {
   "cell_type": "markdown",
   "metadata": {},
   "source": [
    "## Attempt 2 - Accepted"
   ]
  },
  {
   "cell_type": "code",
   "execution_count": null,
   "metadata": {},
   "outputs": [],
   "source": [
    "class Vector2D:\n",
    "\n",
    "    def __init__(self, vec: List[List[int]]):\n",
    "        self.flat = []\n",
    "        for v in vec:\n",
    "            self.flat += v\n",
    "        self.index = 0\n",
    "\n",
    "    def next(self) -> int:\n",
    "        idx = self.index\n",
    "        self.index += 1\n",
    "        return self.flat[idx]\n",
    "\n",
    "    def hasNext(self) -> bool:\n",
    "        return self.index < len(self.flat)\n",
    "\n",
    "\n",
    "# Your Vector2D object will be instantiated and called as such:\n",
    "# obj = Vector2D(vec)\n",
    "# param_1 = obj.next()\n",
    "# param_2 = obj.hasNext()"
   ]
  },
  {
   "cell_type": "markdown",
   "metadata": {},
   "source": [
    "## Lessons and Thoughts\n",
    "- Just easier to concat everything in `vec` together..."
   ]
  }
 ],
 "metadata": {
  "kernelspec": {
   "display_name": "Python 3",
   "language": "python",
   "name": "python3"
  },
  "language_info": {
   "codemirror_mode": {
    "name": "ipython",
    "version": 3
   },
   "file_extension": ".py",
   "mimetype": "text/x-python",
   "name": "python",
   "nbconvert_exporter": "python",
   "pygments_lexer": "ipython3",
   "version": "3.7.3"
  }
 },
 "nbformat": 4,
 "nbformat_minor": 2
}
