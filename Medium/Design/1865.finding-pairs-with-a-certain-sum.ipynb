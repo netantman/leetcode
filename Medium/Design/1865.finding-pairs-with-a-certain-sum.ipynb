{
 "cells": [
  {
   "cell_type": "markdown",
   "metadata": {},
   "source": [
    "## Attempt 1 - Accepted"
   ]
  },
  {
   "cell_type": "code",
   "execution_count": null,
   "metadata": {},
   "outputs": [],
   "source": [
    "class FindSumPairs:\n",
    "\n",
    "    def __init__(self, nums1: List[int], nums2: List[int]):\n",
    "        self.nums1 = nums1\n",
    "        self.nums2 = nums2\n",
    "        self.rec1 = dict()\n",
    "        self.rec2 = dict()\n",
    "        for n in self.nums1:\n",
    "            self.rec1[n] = self.rec1.get(n, 0) + 1\n",
    "        for n in self.nums2:\n",
    "            self.rec2[n] = self.rec2.get(n, 0) + 1\n",
    "        \n",
    "\n",
    "    def add(self, index: int, val: int) -> None:\n",
    "        self.rec2[self.nums2[index]] -= 1\n",
    "        self.rec2[self.nums2[index] + val] = self.rec2.get(self.nums2[index] + val, 0) + 1\n",
    "        self.nums2[index] += val\n",
    "        \n",
    "\n",
    "    def count(self, tot: int) -> int:\n",
    "        cnt = 0\n",
    "        for k in self.rec1.keys():\n",
    "            cnt += self.rec1[k] * self.rec2.get(tot - k, 0)\n",
    "        return cnt\n",
    "        \n",
    "\n",
    "\n",
    "# Your FindSumPairs object will be instantiated and called as such:\n",
    "# obj = FindSumPairs(nums1, nums2)\n",
    "# obj.add(index,val)\n",
    "# param_2 = obj.count(tot)"
   ]
  },
  {
   "cell_type": "markdown",
   "metadata": {},
   "source": [
    "## Lessons and Thoughts\n",
    "- Brute force"
   ]
  }
 ],
 "metadata": {
  "kernelspec": {
   "display_name": "Python 3",
   "language": "python",
   "name": "python3"
  },
  "language_info": {
   "codemirror_mode": {
    "name": "ipython",
    "version": 3
   },
   "file_extension": ".py",
   "mimetype": "text/x-python",
   "name": "python",
   "nbconvert_exporter": "python",
   "pygments_lexer": "ipython3",
   "version": "3.7.3"
  }
 },
 "nbformat": 4,
 "nbformat_minor": 2
}
