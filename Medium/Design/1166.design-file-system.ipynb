{
 "cells": [
  {
   "cell_type": "markdown",
   "metadata": {},
   "source": [
    "## Attempt 1 - Accepted"
   ]
  },
  {
   "cell_type": "code",
   "execution_count": null,
   "metadata": {},
   "outputs": [],
   "source": [
    "class FileSystem:\n",
    "\n",
    "    def __init__(self):\n",
    "        self.paths = dict()\n",
    "\n",
    "    def createPath(self, path: str, value: int) -> bool:\n",
    "        if path == \"\" or path == \"/\":\n",
    "            return False\n",
    "        directories = path.split(\"/\")\n",
    "        directories.pop(0)\n",
    "        \n",
    "        if any(len(d) < 1 for d in directories):\n",
    "            return False\n",
    "        if tuple(directories) in self.paths:\n",
    "            return False\n",
    "        \n",
    "        L = len(directories)\n",
    "        for idx in range(1, L):\n",
    "            if tuple(directories[:idx]) not in self.paths:\n",
    "                return False\n",
    "        \n",
    "        self.paths[tuple(directories)] = value\n",
    "        return True\n",
    "\n",
    "    def get(self, path: str) -> int:\n",
    "        directories = path.split(\"/\")\n",
    "        directories.pop(0)\n",
    "        \n",
    "        return self.paths.get(tuple(directories), -1)\n",
    "\n",
    "\n",
    "# Your FileSystem object will be instantiated and called as such:\n",
    "# obj = FileSystem()\n",
    "# param_1 = obj.createPath(path,value)\n",
    "# param_2 = obj.get(path)"
   ]
  },
  {
   "cell_type": "markdown",
   "metadata": {},
   "source": [
    "## Lessons and Thoughts\n",
    "- Since a path can only be added if all its parents are there, there is not much efficiency gain to use `Trie`."
   ]
  }
 ],
 "metadata": {
  "kernelspec": {
   "display_name": "Python 3",
   "language": "python",
   "name": "python3"
  },
  "language_info": {
   "codemirror_mode": {
    "name": "ipython",
    "version": 3
   },
   "file_extension": ".py",
   "mimetype": "text/x-python",
   "name": "python",
   "nbconvert_exporter": "python",
   "pygments_lexer": "ipython3",
   "version": "3.7.3"
  }
 },
 "nbformat": 4,
 "nbformat_minor": 2
}
