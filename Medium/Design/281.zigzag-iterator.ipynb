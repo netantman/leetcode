{
 "cells": [
  {
   "cell_type": "markdown",
   "metadata": {},
   "source": [
    "## Attempt 1 - Accepted"
   ]
  },
  {
   "cell_type": "code",
   "execution_count": null,
   "metadata": {},
   "outputs": [],
   "source": [
    "class ZigzagIterator:\n",
    "    def __init__(self, v1: List[int], v2: List[int]):\n",
    "        self.v = [v1, v2]\n",
    "        self.idx = 0\n",
    "        self.which = 0 if len(v1) > 0 else 1\n",
    "\n",
    "    def next(self) -> int:\n",
    "        res = self.v[self.which][self.idx]\n",
    "        if self.which == 0:\n",
    "            if self.idx < len(self.v[1]):\n",
    "                self.which = 1\n",
    "            else:\n",
    "                self.idx += 1\n",
    "        else: \n",
    "            if self.idx + 1 < len(self.v[0]):\n",
    "                self.which = 0\n",
    "                self.idx += 1\n",
    "            else:\n",
    "                self.idx += 1\n",
    "        return res\n",
    "        \n",
    "\n",
    "    def hasNext(self) -> bool:\n",
    "        return self.idx < len(self.v[self.which])\n",
    "\n",
    "# Your ZigzagIterator object will be instantiated and called as such:\n",
    "# i, v = ZigzagIterator(v1, v2), []\n",
    "# while i.hasNext(): v.append(i.next())"
   ]
  },
  {
   "cell_type": "markdown",
   "metadata": {},
   "source": [
    "## Lessons and Thoughts\n",
    "- The edge case is when `v1` is empty."
   ]
  }
 ],
 "metadata": {
  "kernelspec": {
   "display_name": "Python 3",
   "language": "python",
   "name": "python3"
  },
  "language_info": {
   "codemirror_mode": {
    "name": "ipython",
    "version": 3
   },
   "file_extension": ".py",
   "mimetype": "text/x-python",
   "name": "python",
   "nbconvert_exporter": "python",
   "pygments_lexer": "ipython3",
   "version": "3.7.3"
  }
 },
 "nbformat": 4,
 "nbformat_minor": 2
}
