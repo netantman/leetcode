{
 "cells": [
  {
   "cell_type": "markdown",
   "metadata": {},
   "source": [
    "## Attempt 1 - Wrong Answer"
   ]
  },
  {
   "cell_type": "code",
   "execution_count": null,
   "metadata": {},
   "outputs": [],
   "source": [
    "class FrontMiddleBackQueue:\n",
    "\n",
    "    def __init__(self):\n",
    "        self.seq = []\n",
    "\n",
    "    def pushFront(self, val: int) -> None:\n",
    "        self.seq.insert(1, val)  ## --> add to the front here should be zero\n",
    "\n",
    "    def pushMiddle(self, val: int) -> None:\n",
    "        L = len(self.seq)\n",
    "        self.seq.insert(L // 2, val)\n",
    "\n",
    "    def pushBack(self, val: int) -> None:\n",
    "        self.seq.append(val)\n",
    "\n",
    "    def popFront(self) -> int:\n",
    "        if not self.seq:\n",
    "            return -1\n",
    "        return self.seq.pop(0)\n",
    "\n",
    "    def popMiddle(self) -> int:\n",
    "        if not self.seq:\n",
    "            return -1\n",
    "        L = len(self.seq)\n",
    "        if L % 2 > 0:\n",
    "            return self.seq.pop(L // 2)\n",
    "        else:\n",
    "            return self.seq.pop(L // 2 - 1)\n",
    "\n",
    "    def popBack(self) -> int:\n",
    "        if not self.seq:\n",
    "            return -1\n",
    "        return self.seq.pop()\n",
    "        \n",
    "\n",
    "\n",
    "# Your FrontMiddleBackQueue object will be instantiated and called as such:\n",
    "# obj = FrontMiddleBackQueue()\n",
    "# obj.pushFront(val)\n",
    "# obj.pushMiddle(val)\n",
    "# obj.pushBack(val)\n",
    "# param_4 = obj.popFront()\n",
    "# param_5 = obj.popMiddle()\n",
    "# param_6 = obj.popBack()"
   ]
  },
  {
   "cell_type": "markdown",
   "metadata": {},
   "source": [
    "## Attempt 2 - Accepted"
   ]
  },
  {
   "cell_type": "code",
   "execution_count": null,
   "metadata": {},
   "outputs": [],
   "source": [
    "class FrontMiddleBackQueue:\n",
    "\n",
    "    def __init__(self):\n",
    "        self.seq = []\n",
    "\n",
    "    def pushFront(self, val: int) -> None:\n",
    "        self.seq.insert(0, val)\n",
    "\n",
    "    def pushMiddle(self, val: int) -> None:\n",
    "        L = len(self.seq)\n",
    "        self.seq.insert(L // 2, val)\n",
    "\n",
    "    def pushBack(self, val: int) -> None:\n",
    "        self.seq.append(val)\n",
    "\n",
    "    def popFront(self) -> int:\n",
    "        if not self.seq:\n",
    "            return -1\n",
    "        return self.seq.pop(0)\n",
    "\n",
    "    def popMiddle(self) -> int:\n",
    "        if not self.seq:\n",
    "            return -1\n",
    "        L = len(self.seq)\n",
    "        if L % 2 > 0:\n",
    "            return self.seq.pop(L // 2)\n",
    "        else:\n",
    "            return self.seq.pop(L // 2 - 1)\n",
    "\n",
    "    def popBack(self) -> int:\n",
    "        if not self.seq:\n",
    "            return -1\n",
    "        return self.seq.pop()\n",
    "        \n",
    "\n",
    "\n",
    "# Your FrontMiddleBackQueue object will be instantiated and called as such:\n",
    "# obj = FrontMiddleBackQueue()\n",
    "# obj.pushFront(val)\n",
    "# obj.pushMiddle(val)\n",
    "# obj.pushBack(val)\n",
    "# param_4 = obj.popFront()\n",
    "# param_5 = obj.popMiddle()\n",
    "# param_6 = obj.popBack()"
   ]
  },
  {
   "cell_type": "markdown",
   "metadata": {},
   "source": [
    "## Lessons and Thoughts\n",
    "- `insert` method in `python`: index means to insert after how many existing elements."
   ]
  }
 ],
 "metadata": {
  "kernelspec": {
   "display_name": "Python 3",
   "language": "python",
   "name": "python3"
  },
  "language_info": {
   "codemirror_mode": {
    "name": "ipython",
    "version": 3
   },
   "file_extension": ".py",
   "mimetype": "text/x-python",
   "name": "python",
   "nbconvert_exporter": "python",
   "pygments_lexer": "ipython3",
   "version": "3.7.3"
  }
 },
 "nbformat": 4,
 "nbformat_minor": 2
}
