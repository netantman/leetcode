{
 "cells": [
  {
   "cell_type": "markdown",
   "metadata": {},
   "source": [
    "## Attempt 1 - Accepted"
   ]
  },
  {
   "cell_type": "code",
   "execution_count": null,
   "metadata": {},
   "outputs": [],
   "source": [
    "class Cashier:\n",
    "\n",
    "    def __init__(self, n: int, discount: int, products: List[int], prices: List[int]):\n",
    "        self.n=n\n",
    "        self.discount=discount\n",
    "        self.products={prod:price for prod,price in zip(products, prices)}\n",
    "        self.cnt=0\n",
    "\n",
    "    def getBill(self, product: List[int], amount: List[int]) -> float:\n",
    "        self.cnt+=1\n",
    "        discount=self.discount if self.cnt%self.n==0 else 0\n",
    "        bill=0\n",
    "        for p,a in zip(product, amount):\n",
    "            bill+=self.products[p]*a\n",
    "        return bill*(100-discount)/100\n",
    "            \n",
    "        \n",
    "\n",
    "\n",
    "# Your Cashier object will be instantiated and called as such:\n",
    "# obj = Cashier(n, discount, products, prices)\n",
    "# param_1 = obj.getBill(product,amount)"
   ]
  },
  {
   "cell_type": "markdown",
   "metadata": {},
   "source": [
    "## Lessons and Thoughts\n",
    "- Straightforward"
   ]
  }
 ],
 "metadata": {
  "kernelspec": {
   "display_name": "Python 3",
   "language": "python",
   "name": "python3"
  },
  "language_info": {
   "codemirror_mode": {
    "name": "ipython",
    "version": 3
   },
   "file_extension": ".py",
   "mimetype": "text/x-python",
   "name": "python",
   "nbconvert_exporter": "python",
   "pygments_lexer": "ipython3",
   "version": "3.7.3"
  }
 },
 "nbformat": 4,
 "nbformat_minor": 2
}
