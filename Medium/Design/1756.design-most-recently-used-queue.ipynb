{
 "cells": [
  {
   "cell_type": "markdown",
   "metadata": {},
   "source": [
    "## Attempt 1 - Accepted"
   ]
  },
  {
   "cell_type": "code",
   "execution_count": null,
   "metadata": {},
   "outputs": [],
   "source": [
    "class MRUQueue:\n",
    "\n",
    "    def __init__(self, n: int):\n",
    "        self.q = [idx for idx in range(1, n + 1)]\n",
    "        \n",
    "\n",
    "    def fetch(self, k: int) -> int:\n",
    "        res = self.q.pop(k - 1)\n",
    "        self.q.append(res)\n",
    "        return res\n",
    "        \n",
    "\n",
    "\n",
    "# Your MRUQueue object will be instantiated and called as such:\n",
    "# obj = MRUQueue(n)\n",
    "# param_1 = obj.fetch(k)"
   ]
  },
  {
   "cell_type": "markdown",
   "metadata": {},
   "source": [
    "## Lessons and Thoughts\n",
    "- Did not care much about the follow-up... But `pop` should be `O(1)`?"
   ]
  }
 ],
 "metadata": {
  "kernelspec": {
   "display_name": "Python 3",
   "language": "python",
   "name": "python3"
  },
  "language_info": {
   "codemirror_mode": {
    "name": "ipython",
    "version": 3
   },
   "file_extension": ".py",
   "mimetype": "text/x-python",
   "name": "python",
   "nbconvert_exporter": "python",
   "pygments_lexer": "ipython3",
   "version": "3.7.3"
  }
 },
 "nbformat": 4,
 "nbformat_minor": 2
}
