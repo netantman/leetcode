{
 "cells": [
  {
   "cell_type": "markdown",
   "metadata": {},
   "source": [
    "## Attempt 1 - Accepted"
   ]
  },
  {
   "cell_type": "code",
   "execution_count": null,
   "metadata": {},
   "outputs": [],
   "source": [
    "class UndergroundSystem:\n",
    "\n",
    "    def __init__(self):\n",
    "        self.trips=dict()\n",
    "        self.passengers=dict()\n",
    "        \n",
    "    def checkIn(self, id: int, stationName: str, t: int) -> None:\n",
    "        assert id not in self.passengers\n",
    "        self.passengers[id]=(stationName, t)\n",
    "\n",
    "    def checkOut(self, id: int, stationName: str, t: int) -> None:\n",
    "        startStation, startTime=self.passengers[id]\n",
    "        if f\"{startStation}-{stationName}\" in self.trips:\n",
    "            self.trips[f\"{startStation}-{stationName}\"][1]+=1\n",
    "            self.trips[f\"{startStation}-{stationName}\"][0]+=(t-startTime)\n",
    "        else:\n",
    "            self.trips[f\"{startStation}-{stationName}\"]=[(t-startTime), 1]\n",
    "        del self.passengers[id]\n",
    "\n",
    "    def getAverageTime(self, startStation: str, endStation: str) -> float:\n",
    "        key=f\"{startStation}-{endStation}\" \n",
    "        record=self.trips[key]\n",
    "        return record[0]/record[1]\n",
    "\n",
    "\n",
    "# Your UndergroundSystem object will be instantiated and called as such:\n",
    "# obj = UndergroundSystem()\n",
    "# obj.checkIn(id,stationName,t)\n",
    "# obj.checkOut(id,stationName,t)\n",
    "# param_3 = obj.getAverageTime(startStation,endStation)"
   ]
  },
  {
   "cell_type": "markdown",
   "metadata": {},
   "source": [
    "## Lessons and Thoughts\n",
    "- Brute force"
   ]
  }
 ],
 "metadata": {
  "kernelspec": {
   "display_name": "Python 3",
   "language": "python",
   "name": "python3"
  },
  "language_info": {
   "codemirror_mode": {
    "name": "ipython",
    "version": 3
   },
   "file_extension": ".py",
   "mimetype": "text/x-python",
   "name": "python",
   "nbconvert_exporter": "python",
   "pygments_lexer": "ipython3",
   "version": "3.7.3"
  }
 },
 "nbformat": 4,
 "nbformat_minor": 2
}
