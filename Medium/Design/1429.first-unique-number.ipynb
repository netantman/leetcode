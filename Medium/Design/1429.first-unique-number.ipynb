{
 "cells": [
  {
   "cell_type": "markdown",
   "metadata": {},
   "source": [
    "## Attempt 1 - Accepted"
   ]
  },
  {
   "cell_type": "code",
   "execution_count": null,
   "metadata": {},
   "outputs": [],
   "source": [
    "class FirstUnique:\n",
    "\n",
    "    def __init__(self, nums: List[int]):\n",
    "        self.q = nums\n",
    "        self.idx = 0\n",
    "        self.cnt = defaultdict(int)\n",
    "        for n in nums:\n",
    "            self.cnt[n] += 1\n",
    "        \n",
    "\n",
    "    def showFirstUnique(self) -> int:\n",
    "        while self.idx < len(self.q):\n",
    "            if self.cnt[self.q[self.idx]] < 2:\n",
    "                return self.q[self.idx]\n",
    "            self.idx += 1\n",
    "        return -1\n",
    "\n",
    "    def add(self, value: int) -> None:\n",
    "        self.q.append(value)\n",
    "        self.cnt[value] += 1\n",
    "\n",
    "\n",
    "# Your FirstUnique object will be instantiated and called as such:\n",
    "# obj = FirstUnique(nums)\n",
    "# param_1 = obj.showFirstUnique()\n",
    "# obj.add(value)"
   ]
  },
  {
   "cell_type": "markdown",
   "metadata": {},
   "source": [
    "## Lessons and Thoughts\n",
    "- Maybe be careful about index-out-of-range."
   ]
  }
 ],
 "metadata": {
  "kernelspec": {
   "display_name": "Python 3",
   "language": "python",
   "name": "python3"
  },
  "language_info": {
   "codemirror_mode": {
    "name": "ipython",
    "version": 3
   },
   "file_extension": ".py",
   "mimetype": "text/x-python",
   "name": "python",
   "nbconvert_exporter": "python",
   "pygments_lexer": "ipython3",
   "version": "3.7.3"
  }
 },
 "nbformat": 4,
 "nbformat_minor": 2
}
