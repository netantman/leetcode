{
 "cells": [
  {
   "cell_type": "markdown",
   "metadata": {},
   "source": [
    "## Attempt 1 - Wrong Answer"
   ]
  },
  {
   "cell_type": "code",
   "execution_count": null,
   "metadata": {},
   "outputs": [],
   "source": [
    "class Memory:\n",
    "    \n",
    "    def __init__(self, key: int):\n",
    "        self.next=None\n",
    "        self.last=None\n",
    "        self.key=key\n",
    "\n",
    "class LRUCache:\n",
    "\n",
    "    def __init__(self, capacity: int):\n",
    "        self.cache=dict()\n",
    "        self.head=None\n",
    "        self.tail=None\n",
    "        self.count=0\n",
    "        self.capacity=capacity\n",
    "    \n",
    "    def insert_key(self, key:int):\n",
    "        new=Memory(key)\n",
    "        if self.head is None:\n",
    "            self.head=new\n",
    "            self.tail=new\n",
    "        else:\n",
    "            self.tail.next=new\n",
    "            new.last=self.tail\n",
    "            self.tail=new\n",
    "        self.count+=1\n",
    "        if self.count>=self.capacity: ## --> typo: should be strictly bigger\n",
    "            delete_key=self.head.key\n",
    "            self.cache.pop(delete_key) ## --> should make sure that delete_key is there first\n",
    "            self.head=self.head.next\n",
    "            self.head.last=None\n",
    "            self.count-=1\n",
    "    \n",
    "    def get(self, key: int) -> int:\n",
    "        if key in self.cache:\n",
    "            self.insert_key(key)\n",
    "            return self.cache[key]  ##--> you should first return the result, and then adjust the linked list\n",
    "        else:\n",
    "            return -1\n",
    "\n",
    "    def put(self, key: int, value: int) -> None:\n",
    "        self.cache[key]=value\n",
    "        self.insert_key(key)"
   ]
  },
  {
   "cell_type": "markdown",
   "metadata": {},
   "source": [
    "## Attempt 2 - Wrong Answer: it would be a good to ask the interviewer if the most recent access is the same element as last time, do you count that as double."
   ]
  },
  {
   "cell_type": "code",
   "execution_count": 9,
   "metadata": {},
   "outputs": [],
   "source": [
    "class Memory:\n",
    "    \n",
    "    def __init__(self, key: int):\n",
    "        self.next=None\n",
    "        self.last=None\n",
    "        self.key=key\n",
    "\n",
    "class LRUCache:\n",
    "\n",
    "    def __init__(self, capacity: int):\n",
    "        self.cache=dict()\n",
    "        self.head=None\n",
    "        self.tail=None\n",
    "        self.count=0\n",
    "        self.capacity=capacity\n",
    "    \n",
    "    def insert_key(self, key:int):\n",
    "        new=Memory(key)\n",
    "        if self.head is None:\n",
    "            self.head=new\n",
    "            self.tail=new\n",
    "        else:\n",
    "            self.tail.next=new\n",
    "            new.last=self.tail\n",
    "            self.tail=new\n",
    "        self.count+=1\n",
    "        if self.count>self.capacity:\n",
    "            delete_key=self.head.key\n",
    "            if (delete_key != self.tail.key) and (delete_key in self.cache):\n",
    "                self.cache.pop(delete_key)\n",
    "            self.head=self.head.next\n",
    "            self.head.last=None\n",
    "            self.count-=1\n",
    "    \n",
    "    def get(self, key: int) -> int:\n",
    "        if key in self.cache:\n",
    "            res=self.cache[key]\n",
    "            self.insert_key(key)\n",
    "            return res\n",
    "        else:\n",
    "            return -1\n",
    "\n",
    "    def put(self, key: int, value: int) -> None:\n",
    "        if key not in self.cache:\n",
    "            self.insert_key(key)\n",
    "        self.cache[key]=value\n",
    "            \n",
    "            \n",
    "        \n",
    "\n",
    "\n",
    "# Your LRUCache object will be instantiated and called as such:\n",
    "# obj = LRUCache(capacity)\n",
    "# param_1 = obj.get(key)\n",
    "# obj.put(key,value)"
   ]
  },
  {
   "cell_type": "markdown",
   "metadata": {},
   "source": [
    "## Attempt 3 - Accepted. This one uses `OrderedDict`, but not sure all operation will be `O(1)`. So it is not clear whether you solve the follow-up question or not."
   ]
  },
  {
   "cell_type": "code",
   "execution_count": null,
   "metadata": {},
   "outputs": [],
   "source": [
    "from collections import OrderedDict \n",
    "  \n",
    "class LRUCache: \n",
    "  \n",
    "    # initialising capacity \n",
    "    def __init__(self, capacity: int): \n",
    "        self.cache = OrderedDict() \n",
    "        self.capacity = capacity \n",
    "  \n",
    "    def get(self, key: int) -> int: \n",
    "        if key not in self.cache: \n",
    "            return -1\n",
    "        else: \n",
    "            self.cache.move_to_end(key) \n",
    "            return self.cache[key] \n",
    "  \n",
    "    def put(self, key: int, value: int) -> None: \n",
    "        self.cache[key] = value \n",
    "        self.cache.move_to_end(key) \n",
    "        if len(self.cache) > self.capacity: \n",
    "            self.cache.popitem(last = False)"
   ]
  },
  {
   "cell_type": "markdown",
   "metadata": {},
   "source": [
    "## Lessons and Thoughts\n",
    "- Note that inserting a linked list at the head or tail is also an `O(1)` operation. This can be used to tackle the follow-up question, though if the requirement is that when one or a few elements is put or get multiple times, it does not drive out others in the cache.\n",
    "- `pop` to delete a key-value pair in `dict`.\n",
    "- The `OrderedDict` solution is from [here](https://www.geeksforgeeks.org/lru-cache-in-python-using-ordereddict/)"
   ]
  }
 ],
 "metadata": {
  "kernelspec": {
   "display_name": "Python 3",
   "language": "python",
   "name": "python3"
  },
  "language_info": {
   "codemirror_mode": {
    "name": "ipython",
    "version": 3
   },
   "file_extension": ".py",
   "mimetype": "text/x-python",
   "name": "python",
   "nbconvert_exporter": "python",
   "pygments_lexer": "ipython3",
   "version": "3.7.3"
  }
 },
 "nbformat": 4,
 "nbformat_minor": 2
}
