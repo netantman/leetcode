{
 "cells": [
  {
   "cell_type": "markdown",
   "metadata": {},
   "source": [
    "## Attempt 1 - Accepted"
   ]
  },
  {
   "cell_type": "code",
   "execution_count": null,
   "metadata": {},
   "outputs": [],
   "source": [
    "class Solution:\n",
    "    def arrayNesting(self, nums: List[int]) -> int:\n",
    "        visited=set()\n",
    "        maxx=0\n",
    "        L=len(nums)\n",
    "        for idx in range(L):\n",
    "            curr=idx\n",
    "            cnt=0\n",
    "            while curr not in visited:\n",
    "                visited.add(curr)\n",
    "                curr=nums[curr]\n",
    "                cnt+=1\n",
    "            maxx=max(maxx, cnt)\n",
    "        return maxx"
   ]
  },
  {
   "cell_type": "markdown",
   "metadata": {},
   "source": [
    "## Lessons and Thoughts\n",
    "- Inspired by this [post](https://www.cnblogs.com/grandyang/p/6932727.html). The key is to realize that whenever circle happens, it must be at your start element, otherwise the array does not contain unique elements. So the rest is just to find all those disjoint circles."
   ]
  }
 ],
 "metadata": {
  "kernelspec": {
   "display_name": "Python 3",
   "language": "python",
   "name": "python3"
  },
  "language_info": {
   "codemirror_mode": {
    "name": "ipython",
    "version": 3
   },
   "file_extension": ".py",
   "mimetype": "text/x-python",
   "name": "python",
   "nbconvert_exporter": "python",
   "pygments_lexer": "ipython3",
   "version": "3.7.3"
  }
 },
 "nbformat": 4,
 "nbformat_minor": 2
}
