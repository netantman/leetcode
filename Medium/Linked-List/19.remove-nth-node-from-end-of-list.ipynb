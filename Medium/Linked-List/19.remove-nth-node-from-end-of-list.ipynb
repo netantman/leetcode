{
 "cells": [
  {
   "cell_type": "markdown",
   "metadata": {},
   "source": [
    "## Attempt 1"
   ]
  },
  {
   "cell_type": "code",
   "execution_count": null,
   "metadata": {},
   "outputs": [],
   "source": [
    "# Definition for singly-linked list.\n",
    "# class ListNode:\n",
    "#     def __init__(self, val=0, next=None):\n",
    "#         self.val = val\n",
    "#         self.next = next\n",
    "class Solution:\n",
    "    def removeNthFromEnd(self, head: ListNode, n: int) -> ListNode:\n",
    "        if head is None:\n",
    "            return head\n",
    "        \n",
    "        prev=None\n",
    "        delete=head\n",
    "        front=head\n",
    "        for i in range(n-1):\n",
    "            front=front.next\n",
    "        \n",
    "        while front.next is not None:\n",
    "            front=front.next\n",
    "            prev=delete\n",
    "            delete=delete.next\n",
    "        \n",
    "        if n==1:\n",
    "            if prev is not None:\n",
    "                prev.next=None\n",
    "                del delete\n",
    "                return head\n",
    "            else:\n",
    "                return None\n",
    "        else:\n",
    "            if prev is not None:\n",
    "                prev.next=delete.next\n",
    "                del delete\n",
    "                return head\n",
    "            else:\n",
    "                return head.next"
   ]
  },
  {
   "cell_type": "markdown",
   "metadata": {},
   "source": [
    "## Lessons and Thoughts\n",
    "- The typical trap for linked lists are that the node may be `None`. So a careful handling of cases or checking is necessary."
   ]
  }
 ],
 "metadata": {
  "kernelspec": {
   "display_name": "Python 3",
   "language": "python",
   "name": "python3"
  },
  "language_info": {
   "codemirror_mode": {
    "name": "ipython",
    "version": 3
   },
   "file_extension": ".py",
   "mimetype": "text/x-python",
   "name": "python",
   "nbconvert_exporter": "python",
   "pygments_lexer": "ipython3",
   "version": "3.7.3"
  }
 },
 "nbformat": 4,
 "nbformat_minor": 2
}
