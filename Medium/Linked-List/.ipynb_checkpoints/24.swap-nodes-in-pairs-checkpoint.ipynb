{
 "cells": [
  {
   "cell_type": "markdown",
   "metadata": {},
   "source": [
    "## Attempt 1 - Wrong Answer"
   ]
  },
  {
   "cell_type": "code",
   "execution_count": null,
   "metadata": {},
   "outputs": [],
   "source": [
    "# Definition for singly-linked list.\n",
    "# class ListNode:\n",
    "#     def __init__(self, val=0, next=None):\n",
    "#         self.val = val\n",
    "#         self.next = next\n",
    "class Solution:\n",
    "    def swapPairs(self, head: ListNode) -> ListNode:\n",
    "        if (head is None) or (head.next is None):\n",
    "            return head\n",
    "        \n",
    "        res=ListNode(val=0)\n",
    "        res.next=head\n",
    "        prev=res\n",
    "        back=head\n",
    "        front=head.next\n",
    "        \n",
    "        prev.next=front\n",
    "        back.next=front.next\n",
    "        front.next=back\n",
    "        \n",
    "        while back.next is not None:\n",
    "            if back.next.next is not None:\n",
    "                prev=front ## -> you are confused whether prev should be back or front\n",
    "                front=back.next.next\n",
    "                back=back.next\n",
    "                prev.next=front\n",
    "                back.next=front.next\n",
    "                front.next=back\n",
    "            else:\n",
    "                break\n",
    "                \n",
    "        return res.next"
   ]
  },
  {
   "cell_type": "markdown",
   "metadata": {},
   "source": [
    "## Attempt 2 - Accepted"
   ]
  },
  {
   "cell_type": "code",
   "execution_count": null,
   "metadata": {},
   "outputs": [],
   "source": [
    "# Definition for singly-linked list.\n",
    "# class ListNode:\n",
    "#     def __init__(self, val=0, next=None):\n",
    "#         self.val = val\n",
    "#         self.next = next\n",
    "class Solution:\n",
    "    def swapPairs(self, head: ListNode) -> ListNode:\n",
    "        if (head is None) or (head.next is None):\n",
    "            return head\n",
    "        \n",
    "        res=ListNode(val=0)\n",
    "        prev=res\n",
    "        back=head\n",
    "        front=head.next\n",
    "        \n",
    "        prev.next=front\n",
    "        back.next=front.next\n",
    "        front.next=back\n",
    "        \n",
    "        while back.next is not None:\n",
    "            if back.next.next is not None:\n",
    "                prev=back\n",
    "                front=back.next.next\n",
    "                back=back.next\n",
    "                prev.next=front\n",
    "                back.next=front.next\n",
    "                front.next=back\n",
    "            else:\n",
    "                break\n",
    "                \n",
    "        return res.next"
   ]
  },
  {
   "cell_type": "markdown",
   "metadata": {},
   "source": [
    "## Lessons and Thoughts\n",
    "- When moving linked list, you need to be very care which it is changed to."
   ]
  }
 ],
 "metadata": {
  "kernelspec": {
   "display_name": "Python 3",
   "language": "python",
   "name": "python3"
  },
  "language_info": {
   "codemirror_mode": {
    "name": "ipython",
    "version": 3
   },
   "file_extension": ".py",
   "mimetype": "text/x-python",
   "name": "python",
   "nbconvert_exporter": "python",
   "pygments_lexer": "ipython3",
   "version": "3.7.3"
  }
 },
 "nbformat": 4,
 "nbformat_minor": 2
}
