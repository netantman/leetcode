{
 "cells": [
  {
   "cell_type": "markdown",
   "metadata": {},
   "source": [
    "## Attempt 1 - Accepted"
   ]
  },
  {
   "cell_type": "code",
   "execution_count": null,
   "metadata": {},
   "outputs": [],
   "source": [
    "# Definition for singly-linked list.\n",
    "# class ListNode:\n",
    "#     def __init__(self, val=0, next=None):\n",
    "#         self.val = val\n",
    "#         self.next = next\n",
    "class Solution:\n",
    "    def addTwoNumbers(self, l1: ListNode, l2: ListNode) -> ListNode:\n",
    "        res = ListNode()\n",
    "        growing = res\n",
    "        carry = 0\n",
    "        while (l1 is not None) or (l2 is not None):\n",
    "            if l1 is None:\n",
    "                val = l2.val + carry\n",
    "                l2 = l2.next\n",
    "            elif l2 is None:\n",
    "                val = l1.val + carry\n",
    "                l1 = l1.next\n",
    "            else: # l1 is not None and l2 is not None\n",
    "                val = l1.val + l2.val + carry\n",
    "                l1 = l1.next\n",
    "                l2 = l2.next\n",
    "            if val >= 10:\n",
    "                growing.val = val-10\n",
    "                carry = 1\n",
    "            else:\n",
    "                growing.val = val\n",
    "                carry = 0\n",
    "            prev = growing\n",
    "            growing.next = ListNode()\n",
    "            growing = growing.next\n",
    "        \n",
    "        if carry>0:\n",
    "            growing.val = 1\n",
    "        else:\n",
    "            prev.next = None\n",
    "        \n",
    "        return res"
   ]
  },
  {
   "cell_type": "markdown",
   "metadata": {},
   "source": [
    "## Lessons and Thoughts\n",
    "\n",
    "- Still have small typoes: `ListNode` -> `listNode`.\n",
    "- A question with many edge cases: carrying, two numbers have different digits, res has only one leading 1."
   ]
  }
 ],
 "metadata": {
  "kernelspec": {
   "display_name": "Python 3",
   "language": "python",
   "name": "python3"
  },
  "language_info": {
   "codemirror_mode": {
    "name": "ipython",
    "version": 3
   },
   "file_extension": ".py",
   "mimetype": "text/x-python",
   "name": "python",
   "nbconvert_exporter": "python",
   "pygments_lexer": "ipython3",
   "version": "3.7.3"
  }
 },
 "nbformat": 4,
 "nbformat_minor": 2
}
