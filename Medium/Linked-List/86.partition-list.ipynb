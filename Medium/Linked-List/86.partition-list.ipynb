{
 "cells": [
  {
   "cell_type": "markdown",
   "metadata": {},
   "source": [
    "## Attempt 1 - Accepted"
   ]
  },
  {
   "cell_type": "code",
   "execution_count": null,
   "metadata": {},
   "outputs": [],
   "source": [
    "# Definition for singly-linked list.\n",
    "# class ListNode:\n",
    "#     def __init__(self, val=0, next=None):\n",
    "#         self.val = val\n",
    "#         self.next = next\n",
    "class Solution:\n",
    "    def partition(self, head: ListNode, x: int) -> ListNode:\n",
    "        if head is None or head.next is None:\n",
    "            return head\n",
    "        \n",
    "        small_start=ListNode(0)\n",
    "        small_grow=small_start\n",
    "        big_start=ListNode(0)\n",
    "        big_grow=big_start\n",
    "        traverse=head\n",
    "        while traverse is not None:\n",
    "            if traverse.val<x:\n",
    "                small_grow.next=ListNode(val=traverse.val)\n",
    "                small_grow=small_grow.next\n",
    "            else:\n",
    "                big_grow.next=ListNode(val=traverse.val)\n",
    "                big_grow=big_grow.next\n",
    "            traverse=traverse.next\n",
    "        \n",
    "        if small_grow==small_start or big_grow==big_start:\n",
    "            return head\n",
    "        else:\n",
    "            small_grow.next=big_start.next\n",
    "            return small_start.next"
   ]
  },
  {
   "cell_type": "markdown",
   "metadata": {},
   "source": [
    "## Lessons and Thoughts\n",
    "- Just remember to deal with the edge case where either small or big is empty."
   ]
  }
 ],
 "metadata": {
  "kernelspec": {
   "display_name": "Python 3",
   "language": "python",
   "name": "python3"
  },
  "language_info": {
   "codemirror_mode": {
    "name": "ipython",
    "version": 3
   },
   "file_extension": ".py",
   "mimetype": "text/x-python",
   "name": "python",
   "nbconvert_exporter": "python",
   "pygments_lexer": "ipython3",
   "version": "3.7.3"
  }
 },
 "nbformat": 4,
 "nbformat_minor": 2
}
