{
 "cells": [
  {
   "cell_type": "markdown",
   "metadata": {},
   "source": [
    "## Attempt 1 - Accepted"
   ]
  },
  {
   "cell_type": "code",
   "execution_count": null,
   "metadata": {},
   "outputs": [],
   "source": [
    "# Definition for singly-linked list.\n",
    "# class ListNode:\n",
    "#     def __init__(self, val=0, next=None):\n",
    "#         self.val = val\n",
    "#         self.next = next\n",
    "class Solution:\n",
    "    def mergeInBetween(self, list1: ListNode, a: int, b: int, list2: ListNode) -> ListNode:\n",
    "        left, right = None, None\n",
    "        curr = list1\n",
    "        cnt = 0\n",
    "        \n",
    "        while curr is not None:\n",
    "            if cnt == a - 1:\n",
    "                left = curr\n",
    "            if cnt == b + 1:\n",
    "                right = curr\n",
    "            if left is not None and right is not None:\n",
    "                break\n",
    "            curr = curr.next\n",
    "            cnt += 1\n",
    "        left.next = list2\n",
    "        \n",
    "        prev = ListNode()\n",
    "        prev.next = list2\n",
    "        tail = list2\n",
    "        while tail is not None:\n",
    "            prev, tail = prev.next, tail.next\n",
    "        prev.next = right\n",
    "        \n",
    "        return list1"
   ]
  },
  {
   "cell_type": "markdown",
   "metadata": {},
   "source": [
    "## Lessons and Thoughts\n",
    "- Have not seen linked list problems for a while!"
   ]
  }
 ],
 "metadata": {
  "kernelspec": {
   "display_name": "Python 3",
   "language": "python",
   "name": "python3"
  },
  "language_info": {
   "codemirror_mode": {
    "name": "ipython",
    "version": 3
   },
   "file_extension": ".py",
   "mimetype": "text/x-python",
   "name": "python",
   "nbconvert_exporter": "python",
   "pygments_lexer": "ipython3",
   "version": "3.7.3"
  }
 },
 "nbformat": 4,
 "nbformat_minor": 2
}
