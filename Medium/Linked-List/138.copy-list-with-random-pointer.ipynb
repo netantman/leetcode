{
 "cells": [
  {
   "cell_type": "markdown",
   "metadata": {},
   "source": [
    "## Attempt 1 - Accepted"
   ]
  },
  {
   "cell_type": "code",
   "execution_count": null,
   "metadata": {},
   "outputs": [],
   "source": [
    "\"\"\"\n",
    "# Definition for a Node.\n",
    "class Node:\n",
    "    def __init__(self, x: int, next: 'Node' = None, random: 'Node' = None):\n",
    "        self.val = int(x)\n",
    "        self.next = next\n",
    "        self.random = random\n",
    "\"\"\"\n",
    "\n",
    "class Solution:\n",
    "    def copyRandomList(self, head: 'Node') -> 'Node':\n",
    "        if head is None:\n",
    "            return None\n",
    "        \n",
    "        copies=[]\n",
    "        curr=head\n",
    "        while curr is not None:\n",
    "            copies.append(Node(x=curr.val))\n",
    "            curr=curr.next\n",
    "        \n",
    "        idx=0\n",
    "        L=len(copies)\n",
    "        while idx+1<L:\n",
    "            copies[idx].next=copies[idx+1]\n",
    "            idx+=1\n",
    "        \n",
    "        curr=head\n",
    "        idx=0\n",
    "        while curr is not None:\n",
    "            target=curr.random\n",
    "            if target is None:\n",
    "                copies[idx].random=None\n",
    "            else:\n",
    "                search=head\n",
    "                i=0\n",
    "                while search != target and search is not None:\n",
    "                    search=search.next\n",
    "                    i+=1\n",
    "                copies[idx].random=copies[i]\n",
    "            idx+=1\n",
    "            curr=curr.next\n",
    "        \n",
    "        return copies[0]"
   ]
  },
  {
   "cell_type": "markdown",
   "metadata": {},
   "source": [
    "## Lessons and Thoughts\n",
    "- Use a list to organized the linked list is a good approach. But since `Node` is not hashable, looking for the random pointer is a bit troublesome."
   ]
  }
 ],
 "metadata": {
  "kernelspec": {
   "display_name": "Python 3",
   "language": "python",
   "name": "python3"
  },
  "language_info": {
   "codemirror_mode": {
    "name": "ipython",
    "version": 3
   },
   "file_extension": ".py",
   "mimetype": "text/x-python",
   "name": "python",
   "nbconvert_exporter": "python",
   "pygments_lexer": "ipython3",
   "version": "3.7.3"
  }
 },
 "nbformat": 4,
 "nbformat_minor": 2
}
