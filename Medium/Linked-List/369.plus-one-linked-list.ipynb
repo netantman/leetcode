{
 "cells": [
  {
   "cell_type": "markdown",
   "metadata": {},
   "source": [
    "## Attempt 1 - Accepted"
   ]
  },
  {
   "cell_type": "code",
   "execution_count": null,
   "metadata": {},
   "outputs": [],
   "source": [
    "# Definition for singly-linked list.\n",
    "# class ListNode:\n",
    "#     def __init__(self, val=0, next=None):\n",
    "#         self.val = val\n",
    "#         self.next = next\n",
    "class Solution:\n",
    "    def plusOne(self, head: ListNode) -> ListNode:\n",
    "        curr = head\n",
    "        record = []\n",
    "        while curr is not None:\n",
    "            record.append(curr)\n",
    "            curr = curr.next\n",
    "        \n",
    "        L = len(record)\n",
    "        for idx in range(L - 1, -1, -1):\n",
    "            if record[idx].val < 9:\n",
    "                record[idx].val += 1\n",
    "                break\n",
    "            record[idx].val = 0\n",
    "            if idx == 0:\n",
    "                record.insert(0, ListNode(val=1, next=record[0]))\n",
    "        return record[0]"
   ]
  },
  {
   "cell_type": "markdown",
   "metadata": {},
   "source": [
    "## Lessons and Thoughts\n",
    "- The edge case is when the number is 99 or 999."
   ]
  }
 ],
 "metadata": {
  "kernelspec": {
   "display_name": "Python 3",
   "language": "python",
   "name": "python3"
  },
  "language_info": {
   "codemirror_mode": {
    "name": "ipython",
    "version": 3
   },
   "file_extension": ".py",
   "mimetype": "text/x-python",
   "name": "python",
   "nbconvert_exporter": "python",
   "pygments_lexer": "ipython3",
   "version": "3.7.3"
  }
 },
 "nbformat": 4,
 "nbformat_minor": 2
}
