{
 "cells": [
  {
   "cell_type": "markdown",
   "metadata": {},
   "source": [
    "## Attempt 1 - Wrong Answer: not just switching m and n"
   ]
  },
  {
   "cell_type": "code",
   "execution_count": null,
   "metadata": {},
   "outputs": [],
   "source": [
    "# Definition for singly-linked list.\n",
    "# class ListNode:\n",
    "#     def __init__(self, val=0, next=None):\n",
    "#         self.val = val\n",
    "#         self.next = next\n",
    "class Solution:\n",
    "    def reverseBetween(self, head: ListNode, m: int, n: int) -> ListNode:\n",
    "        if head is None or head.next is None:\n",
    "            return head\n",
    "        if m==n:\n",
    "            return head\n",
    "        \n",
    "        res=ListNode(0)\n",
    "        res.next=head\n",
    "        back_m, front_m=res, res.next\n",
    "        back_n, front_n=res, res.next\n",
    "        cnt_m, cnt_n=1,1\n",
    "        while cnt_m<m:\n",
    "            back_m=back_m.next\n",
    "            front_m=front_m.next\n",
    "            cnt_m+=1\n",
    "        while cnt_n<n:\n",
    "            back_n=back_n.next\n",
    "            front_n=front_n.next\n",
    "            cnt_n+=1\n",
    "        \n",
    "        if m<n-1:\n",
    "            back_m.next, back_n.next = back_n.next, back_m.next\n",
    "            front_m.next, front_n.next = front_n.next, front_m.next\n",
    "        else: # m=n-1\n",
    "            back_m.next=front_m.next\n",
    "            back_n.next=front_n.next\n",
    "            front_n.next=back_n\n",
    "        \n",
    "        return res.next"
   ]
  },
  {
   "cell_type": "markdown",
   "metadata": {},
   "source": [
    "## Attempt 2 - Accepted"
   ]
  },
  {
   "cell_type": "code",
   "execution_count": null,
   "metadata": {},
   "outputs": [],
   "source": [
    "# Definition for singly-linked list.\n",
    "# class ListNode:\n",
    "#     def __init__(self, val=0, next=None):\n",
    "#         self.val = val\n",
    "#         self.next = next\n",
    "class Solution:\n",
    "    def reverseBetween(self, head: ListNode, m: int, n: int) -> ListNode:\n",
    "        if head is None or head.next is None:\n",
    "            return head\n",
    "        if m==n:\n",
    "            return head\n",
    "        \n",
    "        res=ListNode(0)\n",
    "        res.next=head\n",
    "        back_m, front_m=res, res.next\n",
    "        back_n, front_n=res, res.next\n",
    "        cnt_m, cnt_n=1,1\n",
    "        while cnt_m<m:\n",
    "            back_m=back_m.next\n",
    "            front_m=front_m.next\n",
    "            cnt_m+=1\n",
    "        while cnt_n<n:\n",
    "            back_n=back_n.next\n",
    "            front_n=front_n.next\n",
    "            cnt_n+=1\n",
    "        \n",
    "        if m<n-1:\n",
    "            back_tmp, front_tmp=back_m, front_m\n",
    "            data=[]\n",
    "            while back_tmp != front_n:\n",
    "                data.append(front_tmp.val)\n",
    "                back_tmp=back_tmp.next\n",
    "                front_tmp=front_tmp.next\n",
    "            grow=back_m\n",
    "            while len(data)>0:\n",
    "                grow.next=ListNode(data[-1])\n",
    "                data=data[:-1]\n",
    "                grow=grow.next\n",
    "            grow.next=front_n.next\n",
    "        else: # m=n-1\n",
    "            back_m.next=front_m.next\n",
    "            back_n.next=front_n.next\n",
    "            front_n.next=back_n\n",
    "        \n",
    "        return res.next"
   ]
  },
  {
   "cell_type": "markdown",
   "metadata": {},
   "source": [
    "## Lessons and Thoughts\n",
    "- The trick to create a 0-th ListNode is still very handy\n",
    "- Is there an easy way to reverse linked list in place?"
   ]
  }
 ],
 "metadata": {
  "kernelspec": {
   "display_name": "Python 3",
   "language": "python",
   "name": "python3"
  },
  "language_info": {
   "codemirror_mode": {
    "name": "ipython",
    "version": 3
   },
   "file_extension": ".py",
   "mimetype": "text/x-python",
   "name": "python",
   "nbconvert_exporter": "python",
   "pygments_lexer": "ipython3",
   "version": "3.7.3"
  }
 },
 "nbformat": 4,
 "nbformat_minor": 2
}
