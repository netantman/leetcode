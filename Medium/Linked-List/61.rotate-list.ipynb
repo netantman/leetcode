{
 "cells": [
  {
   "cell_type": "markdown",
   "metadata": {},
   "source": [
    "## Attempt 1 - accessing NoneType"
   ]
  },
  {
   "cell_type": "code",
   "execution_count": null,
   "metadata": {},
   "outputs": [],
   "source": [
    "# Definition for singly-linked list.\n",
    "# class ListNode:\n",
    "#     def __init__(self, val=0, next=None):\n",
    "#         self.val = val\n",
    "#         self.next = next\n",
    "class Solution:\n",
    "    def rotateRight(self, head: ListNode, k: int) -> ListNode:\n",
    "        if head.next is None:   ## --> forgot to check if head is None first\n",
    "            return head\n",
    "        if head.next.next is None:\n",
    "            alt=ListNode(val=head.next.val)\n",
    "            alt.next=ListNode(val=head.val)\n",
    "            if k%2==1:\n",
    "                return alt\n",
    "            else:\n",
    "                return head\n",
    "        \n",
    "        res=head\n",
    "        for i in range(k):\n",
    "            back=head.next   ## --> here it should be res\n",
    "            front=back.next\n",
    "            while front.next is not None:\n",
    "                back=back.next\n",
    "                front=front.next\n",
    "            front.next=res\n",
    "            back.next=None\n",
    "            res=front\n",
    "        return res"
   ]
  },
  {
   "cell_type": "markdown",
   "metadata": {},
   "source": [
    "## Attempt 2 - Time Limite Exceeded"
   ]
  },
  {
   "cell_type": "code",
   "execution_count": null,
   "metadata": {},
   "outputs": [],
   "source": [
    "# Definition for singly-linked list.\n",
    "# class ListNode:\n",
    "#     def __init__(self, val=0, next=None):\n",
    "#         self.val = val\n",
    "#         self.next = next\n",
    "class Solution:\n",
    "    def rotateRight(self, head: ListNode, k: int) -> ListNode:\n",
    "        if head is None:\n",
    "            return head\n",
    "        if head.next is None:\n",
    "            return head\n",
    "        if head.next.next is None:\n",
    "            alt=ListNode(val=head.next.val)\n",
    "            alt.next=ListNode(val=head.val)\n",
    "            if k%2==1:\n",
    "                return alt\n",
    "            else:\n",
    "                return head\n",
    "        \n",
    "        res=head\n",
    "        for i in range(k):\n",
    "            back=res.next\n",
    "            front=back.next\n",
    "            while front.next is not None:\n",
    "                back=back.next\n",
    "                front=front.next\n",
    "            front.next=res\n",
    "            back.next=None\n",
    "            res=front\n",
    "        return res"
   ]
  },
  {
   "cell_type": "markdown",
   "metadata": {},
   "source": [
    "## Attempt 3 - Wrong Answer"
   ]
  },
  {
   "cell_type": "code",
   "execution_count": null,
   "metadata": {},
   "outputs": [],
   "source": [
    "# Definition for singly-linked list.\n",
    "# class ListNode:\n",
    "#     def __init__(self, val=0, next=None):\n",
    "#         self.val = val\n",
    "#         self.next = next\n",
    "class Solution:\n",
    "    def rotateRight(self, head: ListNode, k: int) -> ListNode:\n",
    "        if head is None:\n",
    "            return head\n",
    "        if head.next is None:\n",
    "            return head\n",
    "        if head.next.next is None:\n",
    "            alt=ListNode(val=head.next.val)\n",
    "            alt.next=ListNode(val=head.val)\n",
    "            if k%2==1:\n",
    "                return alt\n",
    "            else:\n",
    "                return head\n",
    "        \n",
    "        vec=[]\n",
    "        p=head\n",
    "        while p is not None:\n",
    "            vec.append(p.val)\n",
    "            p=p.next\n",
    "        for i in range(k):\n",
    "            vec=vec[-1]+vec[:-1] ## --> it seems you often get confused between slice of list and list of list!\n",
    "        idx=0\n",
    "        res=ListNode()\n",
    "        add=res\n",
    "        while idx<len(vec):\n",
    "            add.val=vec[idx]\n",
    "            add.next=ListNode()  ## --> populated this way, the resulting link list will have a wrong tail at the end\n",
    "            add=add.next\n",
    "            idx+=1\n",
    "        return res"
   ]
  },
  {
   "cell_type": "markdown",
   "metadata": {},
   "source": [
    "## Attempt 4 - This way of populating does not work either..."
   ]
  },
  {
   "cell_type": "code",
   "execution_count": null,
   "metadata": {},
   "outputs": [],
   "source": [
    "# Definition for singly-linked list.\n",
    "# class ListNode:\n",
    "#     def __init__(self, val=0, next=None):\n",
    "#         self.val = val\n",
    "#         self.next = next\n",
    "class Solution:\n",
    "    def rotateRight(self, head: ListNode, k: int) -> ListNode:\n",
    "        if head is None:\n",
    "            return head\n",
    "        if head.next is None:\n",
    "            return head\n",
    "        if head.next.next is None:\n",
    "            alt=ListNode(val=head.next.val)\n",
    "            alt.next=ListNode(val=head.val)\n",
    "            if k%2==1:\n",
    "                return alt\n",
    "            else:\n",
    "                return head\n",
    "        \n",
    "        vec=[]\n",
    "        p=head\n",
    "        while p is not None:\n",
    "            vec.append(p.val)\n",
    "            p=p.next\n",
    "        for i in range(k):   ## --> if we do this many k, time limit will exceed as well...\n",
    "            vec=[vec[-1]]+vec[:-1]\n",
    "        idx=0\n",
    "        res=ListNode()\n",
    "        add=res\n",
    "        while idx<len(vec):\n",
    "            if add is not None:\n",
    "                add.val=vec[idx]\n",
    "            else:\n",
    "                add=ListNode(val=vec[idx])\n",
    "            add=add.next\n",
    "            idx+=1\n",
    "        return res"
   ]
  },
  {
   "cell_type": "markdown",
   "metadata": {},
   "source": [
    "## Attempt 5 - Accepted"
   ]
  },
  {
   "cell_type": "code",
   "execution_count": null,
   "metadata": {},
   "outputs": [],
   "source": [
    "# Definition for singly-linked list.\n",
    "# class ListNode:\n",
    "#     def __init__(self, val=0, next=None):\n",
    "#         self.val = val\n",
    "#         self.next = next\n",
    "class Solution:\n",
    "    def rotateRight(self, head: ListNode, k: int) -> ListNode:\n",
    "        if head is None:\n",
    "            return head\n",
    "        if head.next is None:\n",
    "            return head\n",
    "        if head.next.next is None:\n",
    "            alt=ListNode(val=head.next.val)\n",
    "            alt.next=ListNode(val=head.val)\n",
    "            if k%2==1:\n",
    "                return alt\n",
    "            else:\n",
    "                return head\n",
    "        \n",
    "        vec=[]\n",
    "        p=head\n",
    "        while p is not None:\n",
    "            vec.append(p.val)\n",
    "            p=p.next\n",
    "        k=k%len(vec)\n",
    "        for i in range(k):\n",
    "            vec=[vec[-1]]+vec[:-1]\n",
    "        res=ListNode(val=vec[0])\n",
    "        add=res\n",
    "        idx=1\n",
    "        while idx<len(vec):\n",
    "            add.next=ListNode(val=vec[idx])\n",
    "            add=add.next\n",
    "            idx+=1\n",
    "        return res"
   ]
  },
  {
   "cell_type": "markdown",
   "metadata": {},
   "source": [
    "## Lessons and Thoughts\n",
    "- How to populate a linked list from a list of values seems to beget many errors.\n",
    "- Always a good idea to check something is None before accessing its next."
   ]
  }
 ],
 "metadata": {
  "kernelspec": {
   "display_name": "Python 3",
   "language": "python",
   "name": "python3"
  },
  "language_info": {
   "codemirror_mode": {
    "name": "ipython",
    "version": 3
   },
   "file_extension": ".py",
   "mimetype": "text/x-python",
   "name": "python",
   "nbconvert_exporter": "python",
   "pygments_lexer": "ipython3",
   "version": "3.7.3"
  }
 },
 "nbformat": 4,
 "nbformat_minor": 2
}
