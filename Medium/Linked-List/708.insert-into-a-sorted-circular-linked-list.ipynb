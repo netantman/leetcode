{
 "cells": [
  {
   "cell_type": "markdown",
   "metadata": {},
   "source": [
    "## Attempt 1 - Time Limit Exceeded"
   ]
  },
  {
   "cell_type": "code",
   "execution_count": null,
   "metadata": {},
   "outputs": [],
   "source": [
    "\"\"\"\n",
    "# Definition for a Node.\n",
    "class Node:\n",
    "    def __init__(self, val=None, next=None):\n",
    "        self.val = val\n",
    "        self.next = next\n",
    "\"\"\"\n",
    "\n",
    "class Solution:\n",
    "    def insert(self, head: 'Node', insertVal: int) -> 'Node':\n",
    "        if head is None:\n",
    "            head = Node()\n",
    "            head.val = insertVal\n",
    "            head.next = head\n",
    "            return head\n",
    "        if head.next == head:\n",
    "            head.next = Node(val=insertVal)\n",
    "            head.next.next = head\n",
    "            return head\n",
    "        curr = head\n",
    "        nexxt = head.next\n",
    "        while not (curr.val <= insertVal and nexxt.val >= insertVal):\n",
    "            curr, nexxt = nexxt, nexxt.next ## --> did not handle the case where insertVal is outside of the range of the existing vals\n",
    "        new = Node()\n",
    "        new.val = insertVal\n",
    "        curr.next = new\n",
    "        new.next = nexxt\n",
    "        return head"
   ]
  },
  {
   "cell_type": "markdown",
   "metadata": {},
   "source": [
    "## Attempt 2 - Wrong Answer"
   ]
  },
  {
   "cell_type": "code",
   "execution_count": null,
   "metadata": {},
   "outputs": [],
   "source": [
    "class Solution:\n",
    "    def insert(self, head: 'Node', insertVal: int) -> 'Node':\n",
    "        if head is None:\n",
    "            head = Node()\n",
    "            head.val = insertVal\n",
    "            head.next = head\n",
    "            return head\n",
    "        if head.next == head:\n",
    "            head.next = Node(val=insertVal)\n",
    "            head.next.next = head\n",
    "            return head\n",
    "        curr = head\n",
    "        nexxt = head.next\n",
    "        minn, maxx = None, None\n",
    "        while not (curr.val <= insertVal and nexxt.val >= insertVal):\n",
    "            curr, nexxt = nexxt, nexxt.next\n",
    "            if curr.val >= nexxt.val:\n",
    "                maxx, minn = curr, nexxt ## --> not a good way to determine max and min\n",
    "            if curr == head:\n",
    "                break\n",
    "        \n",
    "        new = Node()\n",
    "        new.val = insertVal\n",
    "        if curr != head:    ## --> not a good criteria\n",
    "            curr.next = new\n",
    "            new.next = nexxt\n",
    "            return head\n",
    "        else:\n",
    "            maxx.next = new\n",
    "            new.next = minn\n",
    "            return head"
   ]
  },
  {
   "cell_type": "markdown",
   "metadata": {},
   "source": [
    "## Attempt 3 - Wrong Answer"
   ]
  },
  {
   "cell_type": "code",
   "execution_count": null,
   "metadata": {},
   "outputs": [],
   "source": [
    "\"\"\"\n",
    "# Definition for a Node.\n",
    "class Node:\n",
    "    def __init__(self, val=None, next=None):\n",
    "        self.val = val\n",
    "        self.next = next\n",
    "\"\"\"\n",
    "\n",
    "class Solution:\n",
    "    def insert(self, head: 'Node', insertVal: int) -> 'Node':\n",
    "        if head is None:\n",
    "            head = Node()\n",
    "            head.val = insertVal\n",
    "            head.next = head\n",
    "            return head\n",
    "        if head.next == head:\n",
    "            head.next = Node(val=insertVal)\n",
    "            head.next.next = head\n",
    "            return head\n",
    "        \n",
    "        \n",
    "        curr = head\n",
    "        record = [curr]\n",
    "        while curr.next != head:\n",
    "            record.append(curr.next)\n",
    "            curr = curr.next\n",
    "        \n",
    "        new = Node(val=insertVal)\n",
    "        \n",
    "        vals = [n.val for n in record]\n",
    "        minn = min(vals)\n",
    "        maxx = max(vals)\n",
    "        if minn == maxx:\n",
    "            head.next, new.next = new, head.next\n",
    "            return head\n",
    "        if insertVal < minn or insertVal > maxx:\n",
    "            for node in record:\n",
    "                if node.val == maxx: ## --> did not handle the edge case of multiple maxx\n",
    "                    node.next, new.next = new, node.next\n",
    "                    return head\n",
    "        \n",
    "        \n",
    "        \n",
    "        for node in record:\n",
    "            if node.val <= insertVal and node.next.val >= insertVal:\n",
    "                node.next, new.next = new, node.next\n",
    "                return head"
   ]
  },
  {
   "cell_type": "markdown",
   "metadata": {},
   "source": [
    "## Attempt 4 - Accepted"
   ]
  },
  {
   "cell_type": "code",
   "execution_count": null,
   "metadata": {},
   "outputs": [],
   "source": [
    "\"\"\"\n",
    "# Definition for a Node.\n",
    "class Node:\n",
    "    def __init__(self, val=None, next=None):\n",
    "        self.val = val\n",
    "        self.next = next\n",
    "\"\"\"\n",
    "\n",
    "class Solution:\n",
    "    def insert(self, head: 'Node', insertVal: int) -> 'Node':\n",
    "        if head is None:\n",
    "            head = Node()\n",
    "            head.val = insertVal\n",
    "            head.next = head\n",
    "            return head\n",
    "        if head.next == head:\n",
    "            head.next = Node(val=insertVal)\n",
    "            head.next.next = head\n",
    "            return head\n",
    "        \n",
    "        \n",
    "        curr = head\n",
    "        record = [curr]\n",
    "        while curr.next != head:\n",
    "            record.append(curr.next)\n",
    "            curr = curr.next\n",
    "        \n",
    "        new = Node(val=insertVal)\n",
    "        \n",
    "        vals = [n.val for n in record]\n",
    "        minn = min(vals)\n",
    "        maxx = max(vals)\n",
    "        if minn == maxx:\n",
    "            head.next, new.next = new, head.next\n",
    "            return head\n",
    "        if insertVal < minn or insertVal > maxx:\n",
    "            for node in record:\n",
    "                if node.val == maxx and node.next.val == minn:\n",
    "                    node.next, new.next = new, node.next\n",
    "                    return head\n",
    "        \n",
    "        \n",
    "        \n",
    "        for node in record:\n",
    "            if node.val <= insertVal and node.next.val >= insertVal:\n",
    "                node.next, new.next = new, node.next\n",
    "                return head"
   ]
  },
  {
   "cell_type": "markdown",
   "metadata": {},
   "source": [
    "## Lessons and Thoughts\n",
    "- The usual edge cases are empty linked list and a linked list with only one node.\n",
    "- As always, putting the nodes in a list is a good idea."
   ]
  }
 ],
 "metadata": {
  "kernelspec": {
   "display_name": "Python 3",
   "language": "python",
   "name": "python3"
  },
  "language_info": {
   "codemirror_mode": {
    "name": "ipython",
    "version": 3
   },
   "file_extension": ".py",
   "mimetype": "text/x-python",
   "name": "python",
   "nbconvert_exporter": "python",
   "pygments_lexer": "ipython3",
   "version": "3.7.3"
  }
 },
 "nbformat": 4,
 "nbformat_minor": 2
}
