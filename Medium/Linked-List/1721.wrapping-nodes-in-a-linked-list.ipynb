{
 "cells": [
  {
   "cell_type": "markdown",
   "metadata": {},
   "source": [
    "## Attempt 1 - Accepted"
   ]
  },
  {
   "cell_type": "code",
   "execution_count": null,
   "metadata": {},
   "outputs": [],
   "source": [
    "# Definition for singly-linked list.\n",
    "# class ListNode:\n",
    "#     def __init__(self, val=0, next=None):\n",
    "#         self.val = val\n",
    "#         self.next = next\n",
    "class Solution:\n",
    "    def swapNodes(self, head: ListNode, k: int) -> ListNode:\n",
    "        pre = ListNode()\n",
    "        pre.next = head\n",
    "        record = []\n",
    "        record.append(pre)\n",
    "        \n",
    "        curr = pre\n",
    "        while curr.next is not None:\n",
    "            curr = curr.next\n",
    "            record.append(curr)\n",
    "        \n",
    "        record[k].val, record[-k].val = record[-k].val, record[k].val\n",
    "        return pre.next"
   ]
  },
  {
   "cell_type": "markdown",
   "metadata": {},
   "source": [
    "## Lessons and Thoughts\n",
    "- The usual tricks: (1) save linked list into a list; (2) create a pre-head."
   ]
  }
 ],
 "metadata": {
  "kernelspec": {
   "display_name": "Python 3",
   "language": "python",
   "name": "python3"
  },
  "language_info": {
   "codemirror_mode": {
    "name": "ipython",
    "version": 3
   },
   "file_extension": ".py",
   "mimetype": "text/x-python",
   "name": "python",
   "nbconvert_exporter": "python",
   "pygments_lexer": "ipython3",
   "version": "3.7.3"
  }
 },
 "nbformat": 4,
 "nbformat_minor": 2
}
