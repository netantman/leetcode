{
 "cells": [
  {
   "cell_type": "markdown",
   "metadata": {},
   "source": [
    "## Attempt 1 - Wrong Answer"
   ]
  },
  {
   "cell_type": "code",
   "execution_count": null,
   "metadata": {},
   "outputs": [],
   "source": [
    "# Definition for singly-linked list.\n",
    "# class ListNode:\n",
    "#     def __init__(self, val=0, next=None):\n",
    "#         self.val = val\n",
    "#         self.next = next\n",
    "class Solution:\n",
    "    def reorderList(self, head: ListNode) -> None:\n",
    "        \"\"\"\n",
    "        Do not return anything, modify head in-place instead.\n",
    "        \"\"\"\n",
    "        if head is None:\n",
    "            return head\n",
    "        if head.next is None:\n",
    "            return head\n",
    "        if head.next.next is None:\n",
    "            return head\n",
    "        \n",
    "        cache=[]\n",
    "        curr=head.next\n",
    "        while curr is not None:\n",
    "            cache.append(curr)\n",
    "            curr=curr.next\n",
    "        \n",
    "        tail=True\n",
    "        growing=head\n",
    "        while len(cache)>0:\n",
    "            if tail:\n",
    "                growing.next=cache[-1]\n",
    "                cache=cache[:-1]\n",
    "            else:\n",
    "                growing.next=cache[0]\n",
    "                cache=cache[1:]\n",
    "            growing=growing.next\n",
    "            tail=tail^True\n",
    "        ## --> did not nullify the next at the last node\n",
    "        \n",
    "        return"
   ]
  },
  {
   "cell_type": "markdown",
   "metadata": {},
   "source": [
    "## Attempt 2 - Accepted"
   ]
  },
  {
   "cell_type": "code",
   "execution_count": null,
   "metadata": {},
   "outputs": [],
   "source": [
    "# Definition for singly-linked list.\n",
    "# class ListNode:\n",
    "#     def __init__(self, val=0, next=None):\n",
    "#         self.val = val\n",
    "#         self.next = next\n",
    "class Solution:\n",
    "    def reorderList(self, head: ListNode) -> None:\n",
    "        \"\"\"\n",
    "        Do not return anything, modify head in-place instead.\n",
    "        \"\"\"\n",
    "        if head is None:\n",
    "            return head\n",
    "        if head.next is None:\n",
    "            return head\n",
    "        if head.next.next is None:\n",
    "            return head\n",
    "        \n",
    "        cache=[]\n",
    "        curr=head.next\n",
    "        while curr is not None:\n",
    "            cache.append(curr)\n",
    "            curr=curr.next\n",
    "        \n",
    "        tail=True\n",
    "        growing=head\n",
    "        while len(cache)>0:\n",
    "            if tail:\n",
    "                growing.next=cache[-1]\n",
    "                cache=cache[:-1]\n",
    "            else:\n",
    "                growing.next=cache[0]\n",
    "                cache=cache[1:]\n",
    "            growing=growing.next\n",
    "            tail=tail^True\n",
    "        growing.next=None\n",
    "        \n",
    "        return"
   ]
  },
  {
   "cell_type": "markdown",
   "metadata": {},
   "source": [
    "## Lessons and Thoughts\n",
    "- Using `list` to organize linked list is a good idea.\n",
    "- If you are changing some list in place, don't forget to nullify if necessary!"
   ]
  }
 ],
 "metadata": {
  "kernelspec": {
   "display_name": "Python 3",
   "language": "python",
   "name": "python3"
  },
  "language_info": {
   "codemirror_mode": {
    "name": "ipython",
    "version": 3
   },
   "file_extension": ".py",
   "mimetype": "text/x-python",
   "name": "python",
   "nbconvert_exporter": "python",
   "pygments_lexer": "ipython3",
   "version": "3.7.3"
  }
 },
 "nbformat": 4,
 "nbformat_minor": 2
}
