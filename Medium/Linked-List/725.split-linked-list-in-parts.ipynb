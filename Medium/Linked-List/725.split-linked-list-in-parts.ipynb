{
 "cells": [
  {
   "cell_type": "markdown",
   "metadata": {},
   "source": [
    "## Attempt 1 - Accepted"
   ]
  },
  {
   "cell_type": "code",
   "execution_count": null,
   "metadata": {},
   "outputs": [],
   "source": [
    "# Definition for singly-linked list.\n",
    "# class ListNode:\n",
    "#     def __init__(self, val=0, next=None):\n",
    "#         self.val = val\n",
    "#         self.next = next\n",
    "class Solution:\n",
    "    def splitListToParts(self, root: ListNode, K: int) -> List[ListNode]:\n",
    "        res=[None]*K\n",
    "        if root is None:\n",
    "            return res\n",
    "        record=[]\n",
    "        curr=root\n",
    "        while curr is not None:\n",
    "            record.append(curr)\n",
    "            curr=curr.next\n",
    "        L=len(record)\n",
    "        n,d=divmod(L,K)\n",
    "        lens=[n]*K\n",
    "        for idx in range(d):\n",
    "            lens[idx]+=1\n",
    "        \n",
    "        cumsum=0\n",
    "        for idx,ll in enumerate(lens):\n",
    "            if ll>0:\n",
    "                res[idx]=record[cumsum]\n",
    "                record[cumsum+ll-1].next=None ##--> remember to nullify the last element. And note that it is indexed at cumsum+ll-1.\n",
    "            cumsum+=ll\n",
    "        return res"
   ]
  },
  {
   "cell_type": "markdown",
   "metadata": {},
   "source": [
    "## Lessons and Thoughts\n",
    "- Using a `list` to organize a linked list is a good idea."
   ]
  }
 ],
 "metadata": {
  "kernelspec": {
   "display_name": "Python 3 (ipykernel)",
   "language": "python",
   "name": "python3"
  },
  "language_info": {
   "codemirror_mode": {
    "name": "ipython",
    "version": 3
   },
   "file_extension": ".py",
   "mimetype": "text/x-python",
   "name": "python",
   "nbconvert_exporter": "python",
   "pygments_lexer": "ipython3",
   "version": "3.9.7"
  }
 },
 "nbformat": 4,
 "nbformat_minor": 2
}
