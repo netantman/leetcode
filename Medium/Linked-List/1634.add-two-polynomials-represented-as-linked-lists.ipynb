{
 "cells": [
  {
   "cell_type": "markdown",
   "metadata": {},
   "source": [
    "## Attempt 1 - Wrong Answer"
   ]
  },
  {
   "cell_type": "code",
   "execution_count": null,
   "metadata": {},
   "outputs": [],
   "source": [
    "# Definition for polynomial singly-linked list.\n",
    "# class PolyNode:\n",
    "#     def __init__(self, x=0, y=0, next=None):\n",
    "#         self.coefficient = x\n",
    "#         self.power = y\n",
    "#         self.next = next\n",
    "\n",
    "class Solution:\n",
    "    def addPoly(self, poly1: 'PolyNode', poly2: 'PolyNode') -> 'PolyNode':\n",
    "        if poly1 is None and poly2 is None:\n",
    "            return None\n",
    "        if poly1 is None:\n",
    "            return poly2\n",
    "        if poly2 is None:\n",
    "            return poly1\n",
    "        \n",
    "        record = defaultdict(int)\n",
    "        p = poly1\n",
    "        while p is not None:\n",
    "            record[p.power] += p.coefficient\n",
    "            p = p.next\n",
    "        p = poly2\n",
    "        while p is not None:\n",
    "            record[p.power] += p.coefficient\n",
    "            p = p.next\n",
    "        \n",
    "        res = PolyNode()\n",
    "        curr = res\n",
    "        keys = sorted([k for k in record.keys() if record[k] > 0], reverse=True) ## nobody told you that the coefficients of the polynomials are all positive\n",
    "        if not keys:\n",
    "            return None\n",
    "        L = len(keys)\n",
    "        for idx, k in enumerate(keys):\n",
    "            curr.power = k\n",
    "            curr.coefficient = record[k]\n",
    "            if idx < L - 1:\n",
    "                curr.next = PolyNode()\n",
    "                curr = curr.next\n",
    "        \n",
    "        return res"
   ]
  },
  {
   "cell_type": "markdown",
   "metadata": {},
   "source": [
    "## Attempt 2 - Accepted"
   ]
  },
  {
   "cell_type": "code",
   "execution_count": null,
   "metadata": {},
   "outputs": [],
   "source": [
    "# Definition for polynomial singly-linked list.\n",
    "# class PolyNode:\n",
    "#     def __init__(self, x=0, y=0, next=None):\n",
    "#         self.coefficient = x\n",
    "#         self.power = y\n",
    "#         self.next = next\n",
    "\n",
    "class Solution:\n",
    "    def addPoly(self, poly1: 'PolyNode', poly2: 'PolyNode') -> 'PolyNode':\n",
    "        if poly1 is None and poly2 is None:\n",
    "            return None\n",
    "        if poly1 is None:\n",
    "            return poly2\n",
    "        if poly2 is None:\n",
    "            return poly1\n",
    "        \n",
    "        record = defaultdict(int)\n",
    "        p = poly1\n",
    "        while p is not None:\n",
    "            record[p.power] += p.coefficient\n",
    "            p = p.next\n",
    "        p = poly2\n",
    "        while p is not None:\n",
    "            record[p.power] += p.coefficient\n",
    "            p = p.next\n",
    "        \n",
    "        res = PolyNode()\n",
    "        curr = res\n",
    "        keys = sorted([k for k in record.keys() if record[k] != 0], reverse=True)\n",
    "        if not keys:\n",
    "            return None\n",
    "        L = len(keys)\n",
    "        for idx, k in enumerate(keys):\n",
    "            curr.power = k\n",
    "            curr.coefficient = record[k]\n",
    "            if idx < L - 1:\n",
    "                curr.next = PolyNode()\n",
    "                curr = curr.next\n",
    "        \n",
    "        return res"
   ]
  },
  {
   "cell_type": "markdown",
   "metadata": {},
   "source": [
    "## Lessons and Thoughts\n",
    "- Did not consider the case where coefficients can be negative."
   ]
  }
 ],
 "metadata": {
  "kernelspec": {
   "display_name": "Python 3",
   "language": "python",
   "name": "python3"
  },
  "language_info": {
   "codemirror_mode": {
    "name": "ipython",
    "version": 3
   },
   "file_extension": ".py",
   "mimetype": "text/x-python",
   "name": "python",
   "nbconvert_exporter": "python",
   "pygments_lexer": "ipython3",
   "version": "3.7.3"
  }
 },
 "nbformat": 4,
 "nbformat_minor": 2
}
