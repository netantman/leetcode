{
 "cells": [
  {
   "cell_type": "markdown",
   "metadata": {},
   "source": [
    "## Attempt 1 - Wrong Answer"
   ]
  },
  {
   "cell_type": "code",
   "execution_count": null,
   "metadata": {},
   "outputs": [],
   "source": [
    "# Definition for singly-linked list.\n",
    "# class ListNode:\n",
    "#     def __init__(self, val=0, next=None):\n",
    "#         self.val = val\n",
    "#         self.next = next\n",
    "class Solution:\n",
    "    def deleteDuplicates(self, head: ListNode) -> ListNode:\n",
    "        if head is None or head.next is None:\n",
    "            return head\n",
    "        \n",
    "        back=head\n",
    "        front=head.next\n",
    "        cache=set()\n",
    "        while front is not None:\n",
    "            to_compare=back.val\n",
    "            if front.val == to_compare:\n",
    "                back.next=front.next\n",
    "                front=back.next\n",
    "                cache.add(to_compare)\n",
    "            else:\n",
    "                back=front\n",
    "                front=front.next\n",
    "        \n",
    "        back=head \n",
    "        if back.next==None:\n",
    "            return None    \n",
    "        else:\n",
    "            front=back.next    ## --> did not deal with the case where duplicate values occur at the beginning\n",
    "            while front is not None:\n",
    "                if front.val in cache:\n",
    "                    back.next=front.next\n",
    "                    front=back.next\n",
    "                else:\n",
    "                    front=front.next\n",
    "                    back=back.next\n",
    "        \n",
    "        return head"
   ]
  },
  {
   "cell_type": "markdown",
   "metadata": {},
   "source": [
    "## Attempt 2 - Accepted"
   ]
  },
  {
   "cell_type": "code",
   "execution_count": null,
   "metadata": {},
   "outputs": [],
   "source": [
    "# Definition for singly-linked list.\n",
    "# class ListNode:\n",
    "#     def __init__(self, val=0, next=None):\n",
    "#         self.val = val\n",
    "#         self.next = next\n",
    "class Solution:\n",
    "    def deleteDuplicates(self, head: ListNode) -> ListNode:\n",
    "        if head is None or head.next is None:\n",
    "            return head\n",
    "        \n",
    "        back=head\n",
    "        front=head.next\n",
    "        cache=set()\n",
    "        while front is not None:\n",
    "            to_compare=back.val\n",
    "            if front.val == to_compare:\n",
    "                back.next=front.next\n",
    "                front=back.next\n",
    "                cache.add(to_compare)\n",
    "            else:\n",
    "                back=front\n",
    "                front=front.next\n",
    "        \n",
    "        start=ListNode(0)\n",
    "        start.next=head\n",
    "        back=start\n",
    "        front=head\n",
    "        if front.next==None:\n",
    "            return None\n",
    "        else:\n",
    "            while front is not None:\n",
    "                if front.val in cache:\n",
    "                    back.next=front.next\n",
    "                    front=back.next\n",
    "                else:\n",
    "                    front=front.next\n",
    "                    back=back.next\n",
    "        \n",
    "        return start.next"
   ]
  },
  {
   "cell_type": "markdown",
   "metadata": {},
   "source": [
    "## Lessons and Thoughts\n",
    "- When it needs to remove the head of the list, it is useful to create the 0-th node. Be careful not to move the pointer pointing to the 0-th node away.\n",
    "- It is OK to traverse the list twice, at least at the first solution."
   ]
  }
 ],
 "metadata": {
  "kernelspec": {
   "display_name": "Python 3",
   "language": "python",
   "name": "python3"
  },
  "language_info": {
   "codemirror_mode": {
    "name": "ipython",
    "version": 3
   },
   "file_extension": ".py",
   "mimetype": "text/x-python",
   "name": "python",
   "nbconvert_exporter": "python",
   "pygments_lexer": "ipython3",
   "version": "3.7.3"
  }
 },
 "nbformat": 4,
 "nbformat_minor": 2
}
