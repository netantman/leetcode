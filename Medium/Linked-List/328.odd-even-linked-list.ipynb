{
 "cells": [
  {
   "cell_type": "markdown",
   "metadata": {},
   "source": [
    "## Attempt 1 - Accepted"
   ]
  },
  {
   "cell_type": "code",
   "execution_count": null,
   "metadata": {},
   "outputs": [],
   "source": [
    "# Definition for singly-linked list.\n",
    "# class ListNode:\n",
    "#     def __init__(self, val=0, next=None):\n",
    "#         self.val = val\n",
    "#         self.next = next\n",
    "class Solution:\n",
    "    def oddEvenList(self, head: ListNode) -> ListNode:\n",
    "        if head is None or head.next is None or head.next.next is None:\n",
    "            return head\n",
    "        zero=ListNode()\n",
    "        zero.next=head\n",
    "        cache=[]\n",
    "        curr=zero\n",
    "        while curr is not None:\n",
    "            cache.append(curr)\n",
    "            curr=curr.next\n",
    "        L=len(cache)\n",
    "        idx=1\n",
    "        while idx+2<L:\n",
    "            cache[idx].next=cache[idx+2]\n",
    "            idx+=2\n",
    "        cache[idx].next=cache[2]\n",
    "        idx=2\n",
    "        while idx+2<L:\n",
    "            cache[idx].next=cache[idx+2]\n",
    "            idx+=2\n",
    "        cache[idx].next=None\n",
    "        return zero.next"
   ]
  },
  {
   "cell_type": "markdown",
   "metadata": {},
   "source": [
    "## Lessons and Thoughts\n",
    "- Again, using a list to store linked list is a good idea."
   ]
  }
 ],
 "metadata": {
  "kernelspec": {
   "display_name": "Python 3",
   "language": "python",
   "name": "python3"
  },
  "language_info": {
   "codemirror_mode": {
    "name": "ipython",
    "version": 3
   },
   "file_extension": ".py",
   "mimetype": "text/x-python",
   "name": "python",
   "nbconvert_exporter": "python",
   "pygments_lexer": "ipython3",
   "version": "3.7.3"
  }
 },
 "nbformat": 4,
 "nbformat_minor": 2
}
