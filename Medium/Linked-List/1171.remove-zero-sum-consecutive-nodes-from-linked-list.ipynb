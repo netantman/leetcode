{
 "cells": [
  {
   "cell_type": "markdown",
   "metadata": {},
   "source": [
    "## Attempt 1 - Wrong Answer"
   ]
  },
  {
   "cell_type": "code",
   "execution_count": null,
   "metadata": {},
   "outputs": [],
   "source": [
    "# Definition for singly-linked list.\n",
    "# class ListNode:\n",
    "#     def __init__(self, val=0, next=None):\n",
    "#         self.val = val\n",
    "#         self.next = next\n",
    "class Solution:\n",
    "    def removeZeroSumSublists(self, head: ListNode) -> ListNode:\n",
    "        zero=ListNode()\n",
    "        zero.next=head\n",
    "        record=[(zero,0)]\n",
    "        curr=head\n",
    "        pos={0:0}\n",
    "        while curr:\n",
    "            cum=record[-1][1]+curr.val\n",
    "            record.append((curr,cum))\n",
    "            if cum not in pos:\n",
    "                pos[cum]=len(record)-1\n",
    "            else:\n",
    "                prev=pos[cum]\n",
    "                # for idx in range(prev+1,len(record)-1): ##--> when getting rid of the interim records, it is possible that some record we want to save\n",
    "                #     del pos[record[idx][1]]\n",
    "                prev_node=record[prev][0]\n",
    "                prev_node.next=curr.next\n",
    "                pos[cum]=len(record)-1 ## --> did not handle the edge case of all sum to 0.\n",
    "            curr=curr.next\n",
    "        return zero.next"
   ]
  },
  {
   "cell_type": "markdown",
   "metadata": {},
   "source": [
    "## Attempt 2 - Accepted"
   ]
  },
  {
   "cell_type": "code",
   "execution_count": null,
   "metadata": {},
   "outputs": [],
   "source": [
    "# Definition for singly-linked list.\n",
    "# class ListNode:\n",
    "#     def __init__(self, val=0, next=None):\n",
    "#         self.val = val\n",
    "#         self.next = next\n",
    "class Solution:\n",
    "    def removeZeroSumSublists(self, head: ListNode) -> ListNode:\n",
    "        zero=ListNode()\n",
    "        zero.next=head\n",
    "        record=[(zero,0)]\n",
    "        curr=head\n",
    "        pos={0:0}\n",
    "        while curr:\n",
    "            cum=record[-1][1]+curr.val\n",
    "            record.append((curr,cum))\n",
    "            if cum not in pos:\n",
    "                pos[cum]=len(record)-1\n",
    "            else:\n",
    "                prev=pos[cum]\n",
    "                for idx in range(prev+1,len(record)-1):\n",
    "                    if record[idx][1] in pos and record[idx][1]!=0 and record[idx][1]!=cum:\n",
    "                        del pos[record[idx][1]]\n",
    "                prev_node=record[prev][0]\n",
    "                prev_node.next=curr.next\n",
    "            curr=curr.next\n",
    "        return zero.next"
   ]
  },
  {
   "cell_type": "markdown",
   "metadata": {},
   "source": [
    "## Lessons and Thoughts\n",
    "- Again it is a good idea to store a linked list into a `list`.\n",
    "- Many edge case in this problem: took you a while amid Election distractions."
   ]
  }
 ],
 "metadata": {
  "kernelspec": {
   "display_name": "Python 3",
   "language": "python",
   "name": "python3"
  },
  "language_info": {
   "codemirror_mode": {
    "name": "ipython",
    "version": 3
   },
   "file_extension": ".py",
   "mimetype": "text/x-python",
   "name": "python",
   "nbconvert_exporter": "python",
   "pygments_lexer": "ipython3",
   "version": "3.7.3"
  }
 },
 "nbformat": 4,
 "nbformat_minor": 2
}
