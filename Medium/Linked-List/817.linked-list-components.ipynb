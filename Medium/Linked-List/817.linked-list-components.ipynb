{
 "cells": [
  {
   "cell_type": "markdown",
   "metadata": {},
   "source": [
    "## Attempt 1 - Accepted"
   ]
  },
  {
   "cell_type": "code",
   "execution_count": null,
   "metadata": {},
   "outputs": [],
   "source": [
    "# Definition for singly-linked list.\n",
    "# class ListNode:\n",
    "#     def __init__(self, val=0, next=None):\n",
    "#         self.val = val\n",
    "#         self.next = next\n",
    "class Solution:\n",
    "    def numComponents(self, head: ListNode, G: List[int]) -> int:\n",
    "        cnt=0\n",
    "        prev=ListNode(val=None)\n",
    "        prev.next=head\n",
    "        curr=head\n",
    "        record=dict()\n",
    "        while curr is not None:\n",
    "            if curr.val in G and prev.val in record:\n",
    "                record[curr.val]=cnt\n",
    "            elif curr.val in G and prev.val not in record:\n",
    "                cnt+=1\n",
    "                record[curr.val]=cnt\n",
    "            prev, curr=curr, curr.next\n",
    "        return cnt"
   ]
  },
  {
   "cell_type": "markdown",
   "metadata": {},
   "source": [
    "## Lessons and Thoughts\n",
    "- Setting a pre-head for linked list is useful."
   ]
  }
 ],
 "metadata": {
  "kernelspec": {
   "display_name": "Python 3",
   "language": "python",
   "name": "python3"
  },
  "language_info": {
   "codemirror_mode": {
    "name": "ipython",
    "version": 3
   },
   "file_extension": ".py",
   "mimetype": "text/x-python",
   "name": "python",
   "nbconvert_exporter": "python",
   "pygments_lexer": "ipython3",
   "version": "3.7.3"
  }
 },
 "nbformat": 4,
 "nbformat_minor": 2
}
