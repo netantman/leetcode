{
 "cells": [
  {
   "cell_type": "markdown",
   "metadata": {},
   "source": [
    "## Attempt 1 - Accepted"
   ]
  },
  {
   "cell_type": "code",
   "execution_count": null,
   "metadata": {},
   "outputs": [],
   "source": [
    "class Solution:\n",
    "    def singleNonDuplicate(self, nums: List[int]) -> int:\n",
    "        L=len(nums)\n",
    "        if L==1:\n",
    "            return nums[0]\n",
    "        \n",
    "        if nums[0]<nums[1]:\n",
    "            return nums[0]\n",
    "        if nums[-1]>nums[-2]:\n",
    "            return nums[-1]\n",
    "        left, right=1, L-2\n",
    "        while left<right-1:\n",
    "            mid=(left+right)//2\n",
    "            if nums[mid]>nums[mid-1] and nums[mid]<nums[mid+1]:\n",
    "                return nums[mid]\n",
    "            elif nums[mid]==nums[mid-1]:\n",
    "                if mid%2==0:\n",
    "                    right=mid-1\n",
    "                else:\n",
    "                    left=mid\n",
    "            else:\n",
    "                if mid%2==0:\n",
    "                    left=mid+1\n",
    "                else:\n",
    "                    right=mid"
   ]
  },
  {
   "cell_type": "markdown",
   "metadata": {},
   "source": [
    "## Lessons and Thoughts\n",
    "- The `O(log N)` requirement should prompt you to think of binary search, especially when you have a sorted array.\n",
    "- The trick here is that the odd-even reletionship for same element changes after the unique element."
   ]
  }
 ],
 "metadata": {
  "kernelspec": {
   "display_name": "Python 3",
   "language": "python",
   "name": "python3"
  },
  "language_info": {
   "codemirror_mode": {
    "name": "ipython",
    "version": 3
   },
   "file_extension": ".py",
   "mimetype": "text/x-python",
   "name": "python",
   "nbconvert_exporter": "python",
   "pygments_lexer": "ipython3",
   "version": "3.7.3"
  }
 },
 "nbformat": 4,
 "nbformat_minor": 2
}
