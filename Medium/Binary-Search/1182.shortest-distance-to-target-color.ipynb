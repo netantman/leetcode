{
 "cells": [
  {
   "cell_type": "markdown",
   "metadata": {},
   "source": [
    "## Attempt 1 - Accepted"
   ]
  },
  {
   "cell_type": "code",
   "execution_count": null,
   "metadata": {},
   "outputs": [],
   "source": [
    "class Solution:\n",
    "    def shortestDistanceColor(self, colors: List[int], queries: List[List[int]]) -> List[int]:\n",
    "        pos = {1: [], 2: [], 3: []}\n",
    "        for idx, c in enumerate(colors):\n",
    "            pos[c].append(idx)\n",
    "        \n",
    "        res = []\n",
    "        for query in queries:\n",
    "            idx, c = tuple(query)\n",
    "            color_pos = pos[c]\n",
    "            \n",
    "            if not color_pos:\n",
    "                res.append(-1)\n",
    "                continue\n",
    "            if idx <= color_pos[0]:\n",
    "                res.append(color_pos[0] - idx)\n",
    "                continue\n",
    "            if idx > color_pos[-1]:\n",
    "                res.append(idx - color_pos[-1])\n",
    "                continue\n",
    "            \n",
    "            L = len(color_pos)\n",
    "            l, r = 0, L - 1\n",
    "            while r - l > 1:\n",
    "                m = (l + r) // 2\n",
    "                if color_pos[m] == idx:\n",
    "                    l, r = m, m + 1\n",
    "                    break\n",
    "                if color_pos[m] < idx:\n",
    "                    l = m\n",
    "                    continue\n",
    "                if color_pos[m] > idx:\n",
    "                    r = m\n",
    "                    continue\n",
    "            res.append(min(idx - color_pos[l], color_pos[r] - idx))\n",
    "        return res"
   ]
  },
  {
   "cell_type": "markdown",
   "metadata": {},
   "source": [
    "## Lessons and Thoughts\n",
    "- Edge case to handle is when `color_pos` is null: binary search don't usually need to handle that."
   ]
  }
 ],
 "metadata": {
  "kernelspec": {
   "display_name": "Python 3",
   "language": "python",
   "name": "python3"
  },
  "language_info": {
   "codemirror_mode": {
    "name": "ipython",
    "version": 3
   },
   "file_extension": ".py",
   "mimetype": "text/x-python",
   "name": "python",
   "nbconvert_exporter": "python",
   "pygments_lexer": "ipython3",
   "version": "3.7.3"
  }
 },
 "nbformat": 4,
 "nbformat_minor": 2
}
