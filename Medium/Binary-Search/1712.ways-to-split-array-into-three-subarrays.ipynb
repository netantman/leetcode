{
 "cells": [
  {
   "cell_type": "markdown",
   "metadata": {},
   "source": [
    "## Attempt 1 - Wrong Answer"
   ]
  },
  {
   "cell_type": "code",
   "execution_count": null,
   "metadata": {},
   "outputs": [],
   "source": [
    "class Solution:\n",
    "    def waysToSplit(self, nums: List[int]) -> int:\n",
    "        cumsum = [0]\n",
    "        for n in nums:\n",
    "            cumsum.append(cumsum[-1] + n)\n",
    "        \n",
    "        s = cumsum[-1]\n",
    "        L = len(cumsum)\n",
    "        front, back = 1, 2\n",
    "        res = 0\n",
    "        \n",
    "        while front < L and cumsum[front] <= s/3:\n",
    "            if back == L:\n",
    "                break\n",
    "            if cumsum[back] - cumsum[front] < cumsum[front]:\n",
    "                back += 1\n",
    "                continue\n",
    "            if s - cumsum[back] < cumsum[back] - cumsum[front]:\n",
    "                break\n",
    "            left, right = back, L\n",
    "            while right - left > 1:\n",
    "                mid = (left + right) // 2\n",
    "                if s - cumsum[mid] >= cumsum[mid] - cumsum[front]: # cumsum[mid] - cumsum[front] >= cumsum[front] is guaranteed, since mid >= back\n",
    "                    left = mid\n",
    "                else:\n",
    "                    right = mid\n",
    "            res += (left - back + 1)\n",
    "            front += 1\n",
    "\n",
    "        return res % (10 ** 9 + 7)"
   ]
  },
  {
   "cell_type": "markdown",
   "metadata": {},
   "source": [
    "## Attempt 2 - Wrong Answer"
   ]
  },
  {
   "cell_type": "code",
   "execution_count": null,
   "metadata": {},
   "outputs": [],
   "source": [
    "class Solution:\n",
    "    def waysToSplit(self, nums: List[int]) -> int:\n",
    "        cumsum = [0]\n",
    "        for n in nums:\n",
    "            cumsum.append(cumsum[-1] + n)\n",
    "        \n",
    "        s = cumsum[-1]\n",
    "        L = len(cumsum)\n",
    "        res = 0\n",
    "        \n",
    "        for i in range(1, L):\n",
    "            left, right = 1, L\n",
    "            while right - left > 1:\n",
    "                mid = (left + right) // 2\n",
    "                if cumsum[mid] < 2 * cumsum[i]:\n",
    "                    left = mid\n",
    "                else:\n",
    "                    right = mid\n",
    "            back = right  ## --> this cannot be smaller than i + 1\n",
    "            \n",
    "            left, right = 1, L\n",
    "            while right - left > 1:\n",
    "                mid = (left + right) // 2\n",
    "                if cumsum[mid] <= (s + cumsum[i]) // 2:\n",
    "                    left = mid\n",
    "                else:\n",
    "                    right = mid\n",
    "            front = right\n",
    "            res += max(0, front - back)\n",
    "        \n",
    "        return res % (10 ** 9 + 7)"
   ]
  },
  {
   "cell_type": "markdown",
   "metadata": {},
   "source": [
    "## Attempt 3 - Accepted"
   ]
  },
  {
   "cell_type": "code",
   "execution_count": null,
   "metadata": {},
   "outputs": [],
   "source": [
    "class Solution:\n",
    "    def waysToSplit(self, nums: List[int]) -> int:\n",
    "        cumsum = [0]\n",
    "        for n in nums:\n",
    "            cumsum.append(cumsum[-1] + n)\n",
    "        cumsum.pop(0)\n",
    "        \n",
    "        s = cumsum[-1]\n",
    "        L = len(cumsum)\n",
    "        res = 0\n",
    "        \n",
    "        for i in range(L):\n",
    "            left, right = 0, L - 1\n",
    "            while right - left > 1:\n",
    "                mid = (left + right) // 2\n",
    "                if cumsum[mid] < 2 * cumsum[i]:\n",
    "                    left = mid\n",
    "                else:\n",
    "                    right = mid\n",
    "            back = max(right, i + 1)\n",
    "            \n",
    "            left, right = 0, L - 1\n",
    "            while right - left > 1:\n",
    "                mid = (left + right) // 2\n",
    "                if cumsum[mid] <= (s + cumsum[i]) // 2:\n",
    "                    left = mid\n",
    "                else:\n",
    "                    right = mid\n",
    "            front = right\n",
    "            res += max(0, front - back)\n",
    "        \n",
    "        return res % (10 ** 9 + 7)"
   ]
  },
  {
   "cell_type": "markdown",
   "metadata": {},
   "source": [
    "## Lessons and Thoughts\n",
    "- Accepted solution is inspired by apps. The idea is to loop over all possible first cut, then use binary search twice to find out all possible number of second cuts.\n",
    "- The indexing of `cumsum` is the main tripping point: probably would have work as well if `cumsum` does not pop, but `back` is bounded by `i` rather than `i + 1`."
   ]
  }
 ],
 "metadata": {
  "kernelspec": {
   "display_name": "Python 3",
   "language": "python",
   "name": "python3"
  },
  "language_info": {
   "codemirror_mode": {
    "name": "ipython",
    "version": 3
   },
   "file_extension": ".py",
   "mimetype": "text/x-python",
   "name": "python",
   "nbconvert_exporter": "python",
   "pygments_lexer": "ipython3",
   "version": "3.7.3"
  }
 },
 "nbformat": 4,
 "nbformat_minor": 2
}
