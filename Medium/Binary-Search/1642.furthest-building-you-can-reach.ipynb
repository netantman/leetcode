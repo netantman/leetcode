{
 "cells": [
  {
   "cell_type": "markdown",
   "metadata": {},
   "source": [
    "## Attempt 1 - Accepted"
   ]
  },
  {
   "cell_type": "code",
   "execution_count": null,
   "metadata": {},
   "outputs": [],
   "source": [
    "class Solution:\n",
    "    def furthestBuilding(self, heights: List[int], bricks: int, ladders: int) -> int:\n",
    "        L = len(heights)\n",
    "        if L < 1:\n",
    "            return 0\n",
    "        gaps = [max(heights[idx + 1] - heights[idx], 0) for idx in range(L-1)]\n",
    "        \n",
    "        def need_bricks(idx):\n",
    "             return sum(gaps[:idx]) - sum(heapq.nlargest(ladders, gaps[:idx])) <= bricks\n",
    "        \n",
    "        left, right = 0, L\n",
    "        while right - left > 1:\n",
    "            mid = (left + right) // 2\n",
    "            if need_bricks(mid):\n",
    "                left = mid\n",
    "            else:\n",
    "                right = mid\n",
    "        return right - 1"
   ]
  },
  {
   "cell_type": "markdown",
   "metadata": {},
   "source": [
    "## Lessons and Thoughts\n",
    "- It is `cumsum` minus the `nlargest`. Binary search is an optimization."
   ]
  }
 ],
 "metadata": {
  "kernelspec": {
   "display_name": "Python 3 (ipykernel)",
   "language": "python",
   "name": "python3"
  },
  "language_info": {
   "codemirror_mode": {
    "name": "ipython",
    "version": 3
   },
   "file_extension": ".py",
   "mimetype": "text/x-python",
   "name": "python",
   "nbconvert_exporter": "python",
   "pygments_lexer": "ipython3",
   "version": "3.9.7"
  }
 },
 "nbformat": 4,
 "nbformat_minor": 2
}
