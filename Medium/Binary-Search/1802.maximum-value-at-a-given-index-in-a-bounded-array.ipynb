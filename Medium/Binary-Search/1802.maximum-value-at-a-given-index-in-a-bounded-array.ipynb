{
 "cells": [
  {
   "cell_type": "markdown",
   "metadata": {},
   "source": [
    "## Attempt 1 - Wrong Answer"
   ]
  },
  {
   "cell_type": "code",
   "execution_count": null,
   "metadata": {},
   "outputs": [],
   "source": [
    "class Solution:\n",
    "    def maxValue(self, n: int, index: int, maxSum: int) -> int:\n",
    "        def get_sum(peak, left, right):\n",
    "            left, right = min(peak, left), min(peak, right) \n",
    "            ans = 0\n",
    "            ans += (peak + peak - left) * (left + 1) // 2\n",
    "            ans += (peak + peak - right) * (right + 1) // 2\n",
    "            ans -= peak\n",
    "            return ans\n",
    "        \n",
    "        l, r = 1, maxSum ## --> missed the case where maxSum is the answer!\n",
    "        left = index - 0\n",
    "        right = n - 1 - index\n",
    "        while l < r - 1:\n",
    "            m = (l + r) // 2\n",
    "            # print(m)\n",
    "            if n + get_sum(m - 1, left, right) > maxSum:\n",
    "                r = m\n",
    "            else:\n",
    "                l = m\n",
    "            # print(get_sum(m - 1, left, right))\n",
    "        \n",
    "        return l"
   ]
  },
  {
   "cell_type": "markdown",
   "metadata": {},
   "source": [
    "## Attempt 2 - Accepted"
   ]
  },
  {
   "cell_type": "code",
   "execution_count": null,
   "metadata": {},
   "outputs": [],
   "source": [
    "class Solution:\n",
    "    def maxValue(self, n: int, index: int, maxSum: int) -> int:\n",
    "        def get_sum(peak, left, right):\n",
    "            left, right = min(peak, left), min(peak, right)\n",
    "            ans = 0\n",
    "            ans += (peak + peak - left) * (left + 1) // 2\n",
    "            ans += (peak + peak - right) * (right + 1) // 2\n",
    "            ans -= peak\n",
    "            return ans\n",
    "        \n",
    "        l, r = 1, maxSum + 1\n",
    "        left = index - 0\n",
    "        right = n - 1 - index\n",
    "        while l < r - 1:\n",
    "            m = (l + r) // 2\n",
    "            # print(m)\n",
    "            if n + get_sum(m - 1, left, right) > maxSum:\n",
    "                r = m\n",
    "            else:\n",
    "                l = m\n",
    "            # print(get_sum(m - 1, left, right))\n",
    "        \n",
    "        return l"
   ]
  },
  {
   "cell_type": "markdown",
   "metadata": {},
   "source": [
    "## Lessons and Thoughts\n",
    "- Think carefully whether your initial `l` and `r` indeed satisfy your definition!"
   ]
  }
 ],
 "metadata": {
  "kernelspec": {
   "display_name": "Python 3 (ipykernel)",
   "language": "python",
   "name": "python3"
  },
  "language_info": {
   "codemirror_mode": {
    "name": "ipython",
    "version": 3
   },
   "file_extension": ".py",
   "mimetype": "text/x-python",
   "name": "python",
   "nbconvert_exporter": "python",
   "pygments_lexer": "ipython3",
   "version": "3.9.7"
  }
 },
 "nbformat": 4,
 "nbformat_minor": 2
}
