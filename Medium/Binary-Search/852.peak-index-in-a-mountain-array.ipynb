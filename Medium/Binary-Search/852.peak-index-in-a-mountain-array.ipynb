{
 "cells": [
  {
   "cell_type": "markdown",
   "metadata": {},
   "source": [
    "## Attempt 1 - Accepted"
   ]
  },
  {
   "cell_type": "code",
   "execution_count": null,
   "metadata": {},
   "outputs": [],
   "source": [
    "class Solution:\n",
    "    def peakIndexInMountainArray(self, A: List[int]) -> int:\n",
    "        L=len(A)\n",
    "        left,right=1,L-2\n",
    "        if A[left-1]<A[left] and A[left]>A[left+1]:\n",
    "            return left\n",
    "        if A[right-1]<A[right] and A[right]>A[right+1]:\n",
    "            return right\n",
    "        while left<right-2:\n",
    "            mid=(left+right)//2\n",
    "            if A[mid-1]<A[mid] and A[mid]>A[mid+1]:\n",
    "                return mid\n",
    "            elif A[mid-1]<A[mid]:\n",
    "                left=mid\n",
    "            else:\n",
    "                right=mid\n",
    "        return left+1"
   ]
  },
  {
   "cell_type": "markdown",
   "metadata": {},
   "source": [
    "## Lessons and Thoughts\n",
    "- Let's just make it a routine to check boundary conditions before the `while` loop of binary search."
   ]
  }
 ],
 "metadata": {
  "kernelspec": {
   "display_name": "Python 3",
   "language": "python",
   "name": "python3"
  },
  "language_info": {
   "codemirror_mode": {
    "name": "ipython",
    "version": 3
   },
   "file_extension": ".py",
   "mimetype": "text/x-python",
   "name": "python",
   "nbconvert_exporter": "python",
   "pygments_lexer": "ipython3",
   "version": "3.7.3"
  }
 },
 "nbformat": 4,
 "nbformat_minor": 2
}
