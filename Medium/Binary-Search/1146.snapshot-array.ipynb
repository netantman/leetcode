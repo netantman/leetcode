{
 "cells": [
  {
   "cell_type": "markdown",
   "metadata": {},
   "source": [
    "## Attempt 1 - Wrong answer"
   ]
  },
  {
   "cell_type": "code",
   "execution_count": null,
   "metadata": {},
   "outputs": [],
   "source": [
    "class SnapshotArray:\n",
    "\n",
    "    def __init__(self, length: int):\n",
    "        self.array=[0 for _ in range(length)]\n",
    "        self.id=0\n",
    "        self.snaps=dict()\n",
    "\n",
    "    def set(self, index: int, val: int) -> None:\n",
    "        self.array[index]=val\n",
    "\n",
    "    def snap(self) -> int:\n",
    "        self.snaps[self.id]=self.array ## --> This is a shallow copy of the list!\n",
    "        self.id+=1\n",
    "        return self.id-1\n",
    "\n",
    "    def get(self, index: int, snap_id: int) -> int:\n",
    "        return self.snaps[snap_id][index]\n",
    "\n",
    "\n",
    "# Your SnapshotArray object will be instantiated and called as such:\n",
    "# obj = SnapshotArray(length)\n",
    "# obj.set(index,val)\n",
    "# param_2 = obj.snap()\n",
    "# param_3 = obj.get(index,snap_id)"
   ]
  },
  {
   "cell_type": "markdown",
   "metadata": {},
   "source": [
    "## Attempt 2 - Time Limit Exceeded"
   ]
  },
  {
   "cell_type": "code",
   "execution_count": null,
   "metadata": {},
   "outputs": [],
   "source": [
    "class SnapshotArray:\n",
    "\n",
    "    def __init__(self, length: int):\n",
    "        self.array=[0 for _ in range(length)]\n",
    "        self.id=0\n",
    "        self.snaps=dict()\n",
    "\n",
    "    def set(self, index: int, val: int) -> None:\n",
    "        self.array[index]=val\n",
    "\n",
    "    def snap(self) -> int:\n",
    "        self.snaps[self.id]=[a for a in self.array]\n",
    "        self.id+=1\n",
    "        return self.id-1\n",
    "\n",
    "    def get(self, index: int, snap_id: int) -> int:\n",
    "        return self.snaps[snap_id][index]\n",
    "\n",
    "\n",
    "# Your SnapshotArray object will be instantiated and called as such:\n",
    "# obj = SnapshotArray(length)\n",
    "# obj.set(index,val)\n",
    "# param_2 = obj.snap()\n",
    "# param_3 = obj.get(index,snap_id)"
   ]
  },
  {
   "cell_type": "markdown",
   "metadata": {},
   "source": [
    "## Attempt 3 - Accepted"
   ]
  },
  {
   "cell_type": "code",
   "execution_count": null,
   "metadata": {},
   "outputs": [],
   "source": [
    "class SnapshotArray:\n",
    "\n",
    "    def __init__(self, length: int):\n",
    "        self.array=[{0:0} for _ in range(length)]\n",
    "        self.id=0\n",
    "\n",
    "    def set(self, index: int, val: int) -> None:\n",
    "        self.array[index][self.id]=val\n",
    "\n",
    "    def snap(self) -> int:\n",
    "        self.id+=1\n",
    "        return self.id-1\n",
    "\n",
    "    def get(self, index: int, snap_id: int) -> int:\n",
    "        if snap_id in self.array[index]:\n",
    "            return self.array[index][snap_id]\n",
    "        keys=sorted(self.array[index].keys())\n",
    "        if snap_id>keys[-1]:\n",
    "            return self.array[index][keys[-1]]\n",
    "        left,right=0,len(keys)-1\n",
    "        while left<right-1:\n",
    "            mid=(left+right)//2\n",
    "            if snap_id>keys[mid]:\n",
    "                left=mid\n",
    "            else:\n",
    "                right=mid\n",
    "        return self.array[index][keys[left]]\n",
    "        \n",
    "\n",
    "\n",
    "# Your SnapshotArray object will be instantiated and called as such:\n",
    "# obj = SnapshotArray(length)\n",
    "# obj.set(index,val)\n",
    "# param_2 = obj.snap()\n",
    "# param_3 = obj.get(index,snap_id)"
   ]
  },
  {
   "cell_type": "markdown",
   "metadata": {},
   "source": [
    "## Lessons and Thoughts\n",
    "- Again, the trick is to recognize that you need to use bisection.\n",
    "- Be careful when you copy lists.\n",
    "- Accepted solution is from the App"
   ]
  }
 ],
 "metadata": {
  "kernelspec": {
   "display_name": "Python 3",
   "language": "python",
   "name": "python3"
  },
  "language_info": {
   "codemirror_mode": {
    "name": "ipython",
    "version": 3
   },
   "file_extension": ".py",
   "mimetype": "text/x-python",
   "name": "python",
   "nbconvert_exporter": "python",
   "pygments_lexer": "ipython3",
   "version": "3.7.3"
  }
 },
 "nbformat": 4,
 "nbformat_minor": 2
}
