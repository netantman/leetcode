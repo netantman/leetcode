{
 "cells": [
  {
   "cell_type": "markdown",
   "metadata": {},
   "source": [
    "## Attempt 1 - Time Limit Exceeded"
   ]
  },
  {
   "cell_type": "code",
   "execution_count": null,
   "metadata": {},
   "outputs": [],
   "source": [
    "class TimeMap:\n",
    "\n",
    "    def __init__(self):\n",
    "        \"\"\"\n",
    "        Initialize your data structure here.\n",
    "        \"\"\"\n",
    "        self.cache=dict()\n",
    "        \n",
    "\n",
    "    def set(self, key: str, value: str, timestamp: int) -> None:\n",
    "        self.cache[key]=self.cache.get(key,[])+[(value, timestamp)]\n",
    "\n",
    "    def get(self, key: str, timestamp: int) -> str:\n",
    "        if key not in self.cache:\n",
    "            return \"\"\n",
    "        else:\n",
    "            seq=self.cache[key]\n",
    "            if timestamp<seq[0][1]:\n",
    "                return \"\"\n",
    "            elif timestamp>=seq[-1][1]:\n",
    "                return seq[-1][0]\n",
    "            else:\n",
    "                L=len(seq)\n",
    "                left, right=0,L-1\n",
    "                while left<right-1:\n",
    "                    mid==(left+right)//2\n",
    "                    if seq[mid][1]==timestamp:\n",
    "                        return seq[mid][0]\n",
    "                    elif seq[mid][1]<timestamp:\n",
    "                        left=mid\n",
    "                    else:\n",
    "                        right=mid\n",
    "                return seq[left][0]\n",
    "        \n",
    "\n",
    "\n",
    "# Your TimeMap object will be instantiated and called as such:\n",
    "# obj = TimeMap()\n",
    "# obj.set(key,value,timestamp)\n",
    "# param_2 = obj.get(key,timestamp)"
   ]
  },
  {
   "cell_type": "markdown",
   "metadata": {},
   "source": [
    "## Attempt 2 - Accepted"
   ]
  },
  {
   "cell_type": "code",
   "execution_count": null,
   "metadata": {},
   "outputs": [],
   "source": [
    "class TimeMap(object):\n",
    "    def __init__(self):\n",
    "        self.M = collections.defaultdict(list)\n",
    "\n",
    "    def set(self, key, value, timestamp):\n",
    "        self.M[key].append((timestamp, value))\n",
    "\n",
    "    def get(self, key, timestamp):\n",
    "        A = self.M.get(key, None)\n",
    "        if A is None: return \"\"\n",
    "        i = bisect.bisect(A, (timestamp, chr(127)))\n",
    "        return A[i-1][1] if i else \"\""
   ]
  },
  {
   "cell_type": "markdown",
   "metadata": {},
   "source": [
    "## Attempt 3 - Accepted"
   ]
  },
  {
   "cell_type": "code",
   "execution_count": null,
   "metadata": {},
   "outputs": [],
   "source": [
    "class TimeMap:\n",
    "\n",
    "    def __init__(self):\n",
    "        self.cache = defaultdict(list)\n",
    "\n",
    "    def set(self, key: str, value: str, timestamp: int) -> None:\n",
    "        self.cache[key].append((timestamp, value))\n",
    "        \n",
    "\n",
    "    def get(self, key: str, timestamp: int) -> str:\n",
    "        curr = self.cache[key]\n",
    "        if not curr or curr[0][0] > timestamp:\n",
    "            return \"\"\n",
    "        \n",
    "        if curr[-1][0] <= timestamp:\n",
    "            return curr[-1][1]\n",
    "        \n",
    "        l, r = 0, len(curr) - 1\n",
    "        while r - l > 1:\n",
    "            m = (r + l) // 2\n",
    "            if curr[m][0] <= timestamp:\n",
    "                l = m\n",
    "                continue\n",
    "            if curr[m][0] > timestamp:\n",
    "                r = m\n",
    "                continue\n",
    "        return curr[l][1]"
   ]
  },
  {
   "cell_type": "markdown",
   "metadata": {},
   "source": [
    "## Lessons and Thoughts\n",
    "- Attempt 2 seems to be from some solution.\n",
    "- Since all timestamps are `set` increasingly, there is a hint to optimize `get` via binary search, while keeping `set` `O(1)`."
   ]
  }
 ],
 "metadata": {
  "kernelspec": {
   "display_name": "Python 3 (ipykernel)",
   "language": "python",
   "name": "python3"
  },
  "language_info": {
   "codemirror_mode": {
    "name": "ipython",
    "version": 3
   },
   "file_extension": ".py",
   "mimetype": "text/x-python",
   "name": "python",
   "nbconvert_exporter": "python",
   "pygments_lexer": "ipython3",
   "version": "3.9.7"
  }
 },
 "nbformat": 4,
 "nbformat_minor": 2
}
