{
 "cells": [
  {
   "cell_type": "markdown",
   "metadata": {},
   "source": [
    "## Attempt 1 - Accepted"
   ]
  },
  {
   "cell_type": "code",
   "execution_count": null,
   "metadata": {},
   "outputs": [],
   "source": [
    "class Solution:\n",
    "    def maxIceCream(self, costs: List[int], coins: int) -> int:\n",
    "        if coins < min(costs):\n",
    "            return 0\n",
    "        L = len(costs)\n",
    "        if coins >= sum(costs):\n",
    "            return len(costs)\n",
    "        \n",
    "        costs = sorted(costs)\n",
    "        cumsum = [0]\n",
    "        for c in costs:\n",
    "            cumsum.append(cumsum[-1] + c)\n",
    "        \n",
    "        l, r = 0, L\n",
    "        while l < r - 1:\n",
    "            m = (l + r) // 2\n",
    "            if cumsum[m] == coins:\n",
    "                return m\n",
    "            if cumsum[m] < coins:\n",
    "                l = m\n",
    "            else:\n",
    "                r = m\n",
    "        return l"
   ]
  },
  {
   "cell_type": "markdown",
   "metadata": {},
   "source": [
    "## Lessons and Thoughts\n",
    "- Straightforward"
   ]
  }
 ],
 "metadata": {
  "kernelspec": {
   "display_name": "Python 3",
   "language": "python",
   "name": "python3"
  },
  "language_info": {
   "codemirror_mode": {
    "name": "ipython",
    "version": 3
   },
   "file_extension": ".py",
   "mimetype": "text/x-python",
   "name": "python",
   "nbconvert_exporter": "python",
   "pygments_lexer": "ipython3",
   "version": "3.7.3"
  }
 },
 "nbformat": 4,
 "nbformat_minor": 2
}
