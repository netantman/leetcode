{
 "cells": [
  {
   "cell_type": "markdown",
   "metadata": {},
   "source": [
    "## Attempt 1 - Accepted"
   ]
  },
  {
   "cell_type": "code",
   "execution_count": null,
   "metadata": {},
   "outputs": [],
   "source": [
    "class Solution:\n",
    "    def minAbsoluteSumDiff(self, nums1: List[int], nums2: List[int]) -> int:\n",
    "        sorted_nums1 = sorted(nums1)\n",
    "        L = len(nums1)\n",
    "        \n",
    "        def find(target):\n",
    "            if sorted_nums1[0] >= target:\n",
    "                return sorted_nums1[0] - target\n",
    "            if sorted_nums1[-1] <= target:\n",
    "                return target - sorted_nums1[-1]\n",
    "            l, r = 0, L - 1\n",
    "            while l < r - 1:\n",
    "                m = (l + r) // 2\n",
    "                if sorted_nums1[m] == target:\n",
    "                    return 0\n",
    "                if sorted_nums1[m] < target:\n",
    "                    l = m\n",
    "                else:\n",
    "                    r = m\n",
    "            return min(target - sorted_nums1[l], sorted_nums1[r] - target)\n",
    "        \n",
    "        abs_diff = [abs(n1 - n2) for n1, n2 in zip(nums1, nums2)]\n",
    "        min_diff = [find(n2) for n2 in nums2]\n",
    "        max_adj = max([a - m for a, m in zip(abs_diff, min_diff)])\n",
    "        return (sum(abs_diff) - max_adj) % (10 ** 9 + 7)"
   ]
  },
  {
   "cell_type": "markdown",
   "metadata": {},
   "source": [
    "## Lessons and Thoughts\n",
    "- Straightforward"
   ]
  }
 ],
 "metadata": {
  "kernelspec": {
   "display_name": "Python 3",
   "language": "python",
   "name": "python3"
  },
  "language_info": {
   "codemirror_mode": {
    "name": "ipython",
    "version": 3
   },
   "file_extension": ".py",
   "mimetype": "text/x-python",
   "name": "python",
   "nbconvert_exporter": "python",
   "pygments_lexer": "ipython3",
   "version": "3.7.3"
  }
 },
 "nbformat": 4,
 "nbformat_minor": 2
}
