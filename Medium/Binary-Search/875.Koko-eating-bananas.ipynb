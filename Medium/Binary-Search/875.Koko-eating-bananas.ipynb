{
 "cells": [
  {
   "cell_type": "markdown",
   "metadata": {},
   "source": [
    "## Attempt 1 - Accepted"
   ]
  },
  {
   "cell_type": "code",
   "execution_count": null,
   "metadata": {},
   "outputs": [],
   "source": [
    "class Solution:\n",
    "    def minEatingSpeed(self, piles: List[int], H: int) -> int:\n",
    "        left,right=1,max(piles)\n",
    "        if sum(piles)<=H:\n",
    "            return left\n",
    "        while left<right-1:\n",
    "            mid=(left+right)//2\n",
    "            curr=[p//mid if p%mid==0 else p//mid+1 for p in piles]\n",
    "            if sum(curr)<=H:\n",
    "                right=mid\n",
    "            else:\n",
    "                left=mid\n",
    "        return right"
   ]
  },
  {
   "cell_type": "markdown",
   "metadata": {},
   "source": [
    "## Lessons and Thoughts\n",
    "- Once you realize this is a search problem, it is straightforward to use binary search."
   ]
  }
 ],
 "metadata": {
  "kernelspec": {
   "display_name": "Python 3",
   "language": "python",
   "name": "python3"
  },
  "language_info": {
   "codemirror_mode": {
    "name": "ipython",
    "version": 3
   },
   "file_extension": ".py",
   "mimetype": "text/x-python",
   "name": "python",
   "nbconvert_exporter": "python",
   "pygments_lexer": "ipython3",
   "version": "3.7.3"
  }
 },
 "nbformat": 4,
 "nbformat_minor": 2
}
