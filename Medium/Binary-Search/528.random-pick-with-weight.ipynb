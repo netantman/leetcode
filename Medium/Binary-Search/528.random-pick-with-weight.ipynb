{
 "cells": [
  {
   "cell_type": "markdown",
   "metadata": {},
   "source": [
    "## Attempt 1 - Accepted"
   ]
  },
  {
   "cell_type": "code",
   "execution_count": null,
   "metadata": {},
   "outputs": [],
   "source": [
    "import random\n",
    "\n",
    "class Solution:\n",
    "\n",
    "    def __init__(self, w: List[int]):\n",
    "        L=len(w)\n",
    "        cumsum=[0 for _ in range(L+1)]\n",
    "        for idx in range(1,L+1):\n",
    "            cumsum[idx]=cumsum[idx-1]+w[idx-1]\n",
    "        self.cumsum=[c/cumsum[-1] for c in cumsum]\n",
    "\n",
    "    def pickIndex(self) -> int:\n",
    "        r=random.random()\n",
    "        left,right=0,len(self.cumsum)\n",
    "        while left<right-1:\n",
    "            mid=(left+right)//2\n",
    "            if self.cumsum[mid]>=r:\n",
    "                right=mid\n",
    "            else:\n",
    "                left=mid\n",
    "        return left\n",
    "\n",
    "\n",
    "# Your Solution object will be instantiated and called as such:\n",
    "# obj = Solution(w)\n",
    "# param_1 = obj.pickIndex()"
   ]
  },
  {
   "cell_type": "markdown",
   "metadata": {},
   "source": [
    "## Lessons and Thoughts\n",
    "- Again you should be able to think of binary search when trying to find something in `cumsum`."
   ]
  }
 ],
 "metadata": {
  "kernelspec": {
   "display_name": "Python 3",
   "language": "python",
   "name": "python3"
  },
  "language_info": {
   "codemirror_mode": {
    "name": "ipython",
    "version": 3
   },
   "file_extension": ".py",
   "mimetype": "text/x-python",
   "name": "python",
   "nbconvert_exporter": "python",
   "pygments_lexer": "ipython3",
   "version": "3.7.3"
  }
 },
 "nbformat": 4,
 "nbformat_minor": 2
}
