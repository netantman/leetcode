{
 "cells": [
  {
   "cell_type": "markdown",
   "metadata": {},
   "source": [
    "## Attempt 1 - Accepted"
   ]
  },
  {
   "cell_type": "code",
   "execution_count": null,
   "metadata": {},
   "outputs": [],
   "source": [
    "class Solution:\n",
    "    def maximumRemovals(self, s: str, p: str, removable: List[int]) -> int:\n",
    "        def is_sub(p, s_removed):\n",
    "            L1, L2 = len(p), len(s_removed)\n",
    "            idx1, idx2 = 0, 0\n",
    "            while idx1 < L1 and idx2 < L2:\n",
    "                if p[idx1] == s_removed[idx2]:\n",
    "                    idx1 += 1\n",
    "                    idx2 += 1\n",
    "                else:\n",
    "                    idx2 += 1\n",
    "            return idx1 == L1\n",
    "        \n",
    "        def check_sub(removed):\n",
    "            removed = set(removed)\n",
    "            s_removed = \"\".join([c for idx, c in enumerate(s) if idx not in removed])\n",
    "            return is_sub(p, s_removed)\n",
    "        \n",
    "        K = len(removable)\n",
    "        if check_sub(removable):\n",
    "            return K\n",
    "        \n",
    "        l, r = 0, K\n",
    "        while l < r - 1:\n",
    "            m = (l + r) // 2\n",
    "            if check_sub(removable[:m]):\n",
    "                l = m\n",
    "            else:\n",
    "                r = m\n",
    "        return l"
   ]
  },
  {
   "cell_type": "markdown",
   "metadata": {},
   "source": [
    "## Lessons and Thoughts\n",
    "- Note that `p in s` will only tell you contiguous substrings."
   ]
  }
 ],
 "metadata": {
  "kernelspec": {
   "display_name": "Python 3 (ipykernel)",
   "language": "python",
   "name": "python3"
  },
  "language_info": {
   "codemirror_mode": {
    "name": "ipython",
    "version": 3
   },
   "file_extension": ".py",
   "mimetype": "text/x-python",
   "name": "python",
   "nbconvert_exporter": "python",
   "pygments_lexer": "ipython3",
   "version": "3.9.7"
  }
 },
 "nbformat": 4,
 "nbformat_minor": 2
}
