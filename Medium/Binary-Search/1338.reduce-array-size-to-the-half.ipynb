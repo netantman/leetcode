{
 "cells": [
  {
   "cell_type": "markdown",
   "metadata": {},
   "source": [
    "## Attempt 1 - Accepted"
   ]
  },
  {
   "cell_type": "code",
   "execution_count": null,
   "metadata": {},
   "outputs": [],
   "source": [
    "class Solution:\n",
    "    def minSetSize(self, arr: List[int]) -> int:\n",
    "        record=dict()\n",
    "        for a in arr:\n",
    "            record[a]=record.get(a,0)+1\n",
    "        counts=sorted(record.values(),reverse=True)\n",
    "        cumsum=[0]\n",
    "        for c in counts:\n",
    "            cumsum.append(c+cumsum[-1])\n",
    "        left,right=0,len(cumsum)-1\n",
    "        L=len(arr)\n",
    "        while left<right-1:\n",
    "            mid=(left+right)//2\n",
    "            if cumsum[mid]>=L//2:\n",
    "                right=mid\n",
    "            else:\n",
    "                left=mid\n",
    "        return right"
   ]
  },
  {
   "cell_type": "markdown",
   "metadata": {},
   "source": [
    "## Lessons and Thoughts\n",
    "- Just greedily remove the most frequent ones."
   ]
  }
 ],
 "metadata": {
  "kernelspec": {
   "display_name": "Python 3",
   "language": "python",
   "name": "python3"
  },
  "language_info": {
   "codemirror_mode": {
    "name": "ipython",
    "version": 3
   },
   "file_extension": ".py",
   "mimetype": "text/x-python",
   "name": "python",
   "nbconvert_exporter": "python",
   "pygments_lexer": "ipython3",
   "version": "3.7.3"
  }
 },
 "nbformat": 4,
 "nbformat_minor": 2
}
