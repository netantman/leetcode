{
 "cells": [
  {
   "cell_type": "markdown",
   "metadata": {},
   "source": [
    "## Attempt 1 - Accepted"
   ]
  },
  {
   "cell_type": "code",
   "execution_count": null,
   "metadata": {},
   "outputs": [],
   "source": [
    "class Solution:\n",
    "    def findPeakElement(self, nums: List[int]) -> int:\n",
    "        if len(nums)==1:\n",
    "            return 0\n",
    "        \n",
    "        left, right=0, len(nums)-1\n",
    "        while left<right-1:\n",
    "            mid=(left+right)//2\n",
    "            if (mid==0 or nums[mid]>nums[mid-1]) and (mid==len(nums)-1 or nums[mid]>nums[mid+1]):\n",
    "                return mid\n",
    "            else:\n",
    "                if mid>0 and nums[mid-1]>nums[mid]:\n",
    "                    right=mid-1\n",
    "                else:\n",
    "                    left=mid+1\n",
    "        \n",
    "        if left==right:\n",
    "            return left\n",
    "        if nums[left]>nums[right]:\n",
    "            return left\n",
    "        else:\n",
    "            return right"
   ]
  },
  {
   "cell_type": "markdown",
   "metadata": {},
   "source": [
    "## Attempt 1 - Accepted"
   ]
  },
  {
   "cell_type": "code",
   "execution_count": null,
   "metadata": {},
   "outputs": [],
   "source": [
    "class Solution {\n",
    "public:\n",
    "    int findPeakElement(vector<int>& nums) {\n",
    "        int L = nums.size();\n",
    "        int l = 0;\n",
    "        int r = L - 1;\n",
    "        while (r - l > 1) {\n",
    "            int m = (r + l) / 2;\n",
    "            if (nums[m] > nums[m - 1]) {\n",
    "                l = m;\n",
    "            }\n",
    "            else {\n",
    "                r = m - 1;\n",
    "            }\n",
    "        }\n",
    "        if (r == l) {\n",
    "            return r;\n",
    "        }\n",
    "        else { ## r == l + 1; this actually avoids having the case of r < l\n",
    "            if (nums[r] > nums[l]) {\n",
    "                return r;\n",
    "            }\n",
    "            else {\n",
    "                return l;\n",
    "            }\n",
    "        }\n",
    "    }\n",
    "};"
   ]
  },
  {
   "cell_type": "markdown",
   "metadata": {},
   "source": [
    "## Lessons and Thoughts\n",
    "- The above algo solves the follow-up. The `left` pointer always is bigger than its left, while the `right` pointer is bigger than its right. So when the two converges, a peak is found."
   ]
  }
 ],
 "metadata": {
  "kernelspec": {
   "display_name": "Python 3",
   "language": "python",
   "name": "python3"
  },
  "language_info": {
   "codemirror_mode": {
    "name": "ipython",
    "version": 3
   },
   "file_extension": ".py",
   "mimetype": "text/x-python",
   "name": "python",
   "nbconvert_exporter": "python",
   "pygments_lexer": "ipython3",
   "version": "3.7.3"
  }
 },
 "nbformat": 4,
 "nbformat_minor": 2
}
