{
 "cells": [
  {
   "cell_type": "markdown",
   "metadata": {},
   "source": [
    "## Attempt 1 - Time Limit Exceeded"
   ]
  },
  {
   "cell_type": "code",
   "execution_count": null,
   "metadata": {},
   "outputs": [],
   "source": [
    "class TopVotedCandidate:\n",
    "\n",
    "    def __init__(self, persons: List[int], times: List[int]):\n",
    "        self.persons=persons\n",
    "        self.times=times\n",
    "\n",
    "    def q(self, t: int) -> int:\n",
    "        votes=[p for p,ti in zip(self.persons, self.times) if ti<=t]\n",
    "        cache=dict()\n",
    "        maxx=0\n",
    "        res=None\n",
    "        for v in votes:\n",
    "            cache[v]=cache.get(v,0)+1\n",
    "            if cache[v]>=maxx:\n",
    "                res=v\n",
    "                maxx=cache[v]\n",
    "        return res\n",
    "\n",
    "\n",
    "# Your TopVotedCandidate object will be instantiated and called as such:\n",
    "# obj = TopVotedCandidate(persons, times)\n",
    "# param_1 = obj.q(t)"
   ]
  },
  {
   "cell_type": "markdown",
   "metadata": {},
   "source": [
    "## Attempt 2 - Time Limit Exceeded"
   ]
  },
  {
   "cell_type": "code",
   "execution_count": null,
   "metadata": {},
   "outputs": [],
   "source": [
    "class TopVotedCandidate:\n",
    "\n",
    "    def __init__(self, persons: List[int], times: List[int]):\n",
    "        self.record=dict()\n",
    "        for p,t in zip(persons, times):\n",
    "            self.record[p]=self.record.get(p,[])+[t]\n",
    "    \n",
    "    def binary(self, array, t):\n",
    "        L=len(array)\n",
    "        if array[-1]<=t:\n",
    "            return [len(array),array[-1]]\n",
    "        elif array[0]>t:\n",
    "            return [0, None]\n",
    "        else:\n",
    "            left,right=0,L-1\n",
    "            while left<right-1:\n",
    "                mid=(left+right)//2\n",
    "                if array[mid]<=t:\n",
    "                    left=mid\n",
    "                else:\n",
    "                    right=mid\n",
    "            return [right, array[left]]\n",
    "            \n",
    "    def q(self, t: int) -> int:\n",
    "        cache=[]\n",
    "        for k,v in self.record.items():\n",
    "            curr=self.binary(v,t)\n",
    "            if curr[1] is not None:\n",
    "                cache.append([k]+curr) \n",
    "        cache=sorted(cache, key=lambda x: (x[1], x[2]), reverse=True) ## --> compared to accepted solution, this extra sort is time consuming\n",
    "        return cache[0][0]\n",
    "\n",
    "# Your TopVotedCandidate object will be instantiated and called as such:\n",
    "# obj = TopVotedCandidate(persons, times)\n",
    "# param_1 = obj.q(t)"
   ]
  },
  {
   "cell_type": "markdown",
   "metadata": {},
   "source": [
    "## Attempt 3 - Accepted"
   ]
  },
  {
   "cell_type": "code",
   "execution_count": null,
   "metadata": {},
   "outputs": [],
   "source": [
    "class TopVotedCandidate(object):\n",
    "\n",
    "    def __init__(self, persons, times):\n",
    "        self.A = []\n",
    "        self.count = collections.Counter()\n",
    "        for p, t in zip(persons, times):\n",
    "            self.count[p] = c = self.count[p] + 1\n",
    "            while len(self.A) <= c: self.A.append([])\n",
    "            self.A[c].append((t, p))\n",
    "\n",
    "    def q(self, t):\n",
    "        lo, hi = 1, len(self.A)\n",
    "        while lo < hi:\n",
    "            mi = (lo + hi) // 2\n",
    "            if self.A[mi][0][0] <= t:\n",
    "                lo = mi + 1\n",
    "            else:\n",
    "                hi = mi\n",
    "        i = lo - 1\n",
    "        j = bisect.bisect(self.A[i], (t, float('inf')))\n",
    "        return self.A[i][j-1][1]"
   ]
  },
  {
   "cell_type": "markdown",
   "metadata": {},
   "source": [
    "## Lessons and Thoughts\n",
    "- It is a problem with strict restriction on time limit.\n",
    "- Want to see if we can get away with it with list comprehension without using binary-search - failed.\n",
    "- The extra sort in the second attempt is the reason for TLE. The accepted solution is from the leetcode app, which in the first traversal already gets the top count."
   ]
  }
 ],
 "metadata": {
  "kernelspec": {
   "display_name": "Python 3",
   "language": "python",
   "name": "python3"
  },
  "language_info": {
   "codemirror_mode": {
    "name": "ipython",
    "version": 3
   },
   "file_extension": ".py",
   "mimetype": "text/x-python",
   "name": "python",
   "nbconvert_exporter": "python",
   "pygments_lexer": "ipython3",
   "version": "3.7.3"
  }
 },
 "nbformat": 4,
 "nbformat_minor": 2
}
