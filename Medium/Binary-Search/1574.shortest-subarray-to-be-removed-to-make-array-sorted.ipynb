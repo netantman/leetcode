{
 "cells": [
  {
   "cell_type": "markdown",
   "metadata": {},
   "source": [
    "## Attempt 1 - Time Limit Exceeded"
   ]
  },
  {
   "cell_type": "code",
   "execution_count": null,
   "metadata": {},
   "outputs": [],
   "source": [
    "class Solution:\n",
    "    def findLengthOfShortestSubarray(self, arr: List[int]) -> int:\n",
    "        L = len(arr)\n",
    "        def check(k):\n",
    "            idx = 0\n",
    "            while idx + k <= L:\n",
    "                curr = arr[:idx] + arr[idx+k:]\n",
    "                if curr == sorted(curr):\n",
    "                    return True\n",
    "                idx += 1\n",
    "            return False\n",
    "        \n",
    "        if arr == sorted(arr):\n",
    "            return 0\n",
    "        left, right = 0, L\n",
    "        while right - left > 1:\n",
    "            mid = (left + right) // 2\n",
    "            if check(mid):\n",
    "                right = mid\n",
    "            else:\n",
    "                left = mid\n",
    "        return right"
   ]
  },
  {
   "cell_type": "markdown",
   "metadata": {},
   "source": [
    "## Attempt 2 - Accepted"
   ]
  },
  {
   "cell_type": "code",
   "execution_count": null,
   "metadata": {},
   "outputs": [],
   "source": [
    "class Solution:\n",
    "    def findLengthOfShortestSubarray(self, arr: List[int]) -> int:\n",
    "        n = len(arr)\n",
    "        left, right = 0, n-1\n",
    "        while left + 1 < n and arr[left+1] >= arr[left]:\n",
    "            left += 1\n",
    "        if left >= n-1:\n",
    "            return 0\n",
    "        while right - 1 >= 0 and arr[right] >= arr[right-1]:\n",
    "            right -= 1\n",
    "        ans = min(n-left-1, right)\n",
    "        for i in range(left + 1):\n",
    "            tmp = right + bisect.bisect_left(arr[right:], arr[i]) - i - 1\n",
    "            ans = min(ans, tmp)\n",
    "        return ans"
   ]
  },
  {
   "cell_type": "markdown",
   "metadata": {},
   "source": [
    "## Lessons and Thoughts\n",
    "- Accepted attempt is from the apps. The idea is to recognize that there are ever three scenarios: deletion all at front, all at back, or in between. For cases that deletions are in between, what is left at the front must be a subarray of the monotonic sequence at the front, and same for the back."
   ]
  }
 ],
 "metadata": {
  "kernelspec": {
   "display_name": "Python 3",
   "language": "python",
   "name": "python3"
  },
  "language_info": {
   "codemirror_mode": {
    "name": "ipython",
    "version": 3
   },
   "file_extension": ".py",
   "mimetype": "text/x-python",
   "name": "python",
   "nbconvert_exporter": "python",
   "pygments_lexer": "ipython3",
   "version": "3.7.3"
  }
 },
 "nbformat": 4,
 "nbformat_minor": 2
}
