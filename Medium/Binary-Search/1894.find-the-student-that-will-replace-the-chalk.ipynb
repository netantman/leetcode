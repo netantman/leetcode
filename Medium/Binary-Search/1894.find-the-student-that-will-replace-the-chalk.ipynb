{
 "cells": [
  {
   "cell_type": "markdown",
   "metadata": {},
   "source": [
    "## Attempt 1 - Accepted"
   ]
  },
  {
   "cell_type": "code",
   "execution_count": null,
   "metadata": {},
   "outputs": [],
   "source": [
    "class Solution:\n",
    "    def chalkReplacer(self, chalk: List[int], k: int) -> int:\n",
    "        cumsum = [0]\n",
    "        for c in chalk:\n",
    "            cumsum.append(cumsum[-1] + c)\n",
    "        cumsum.pop(0)\n",
    "        \n",
    "        k = k % cumsum[-1]\n",
    "        if k < cumsum[0]:\n",
    "            return 0\n",
    "        L = len(cumsum)\n",
    "        \n",
    "        l, r = 0, L - 1\n",
    "        while l < r - 1:\n",
    "            m = (l + r) // 2\n",
    "            if cumsum[m] <= k:\n",
    "                l = m\n",
    "            else:\n",
    "                r = m\n",
    "        return r"
   ]
  },
  {
   "cell_type": "markdown",
   "metadata": {},
   "source": [
    "## Lessons and Thoughts\n",
    "- Straightforward"
   ]
  }
 ],
 "metadata": {
  "kernelspec": {
   "display_name": "Python 3",
   "language": "python",
   "name": "python3"
  },
  "language_info": {
   "codemirror_mode": {
    "name": "ipython",
    "version": 3
   },
   "file_extension": ".py",
   "mimetype": "text/x-python",
   "name": "python",
   "nbconvert_exporter": "python",
   "pygments_lexer": "ipython3",
   "version": "3.7.3"
  }
 },
 "nbformat": 4,
 "nbformat_minor": 2
}
