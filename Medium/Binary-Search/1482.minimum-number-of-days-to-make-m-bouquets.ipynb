{
 "cells": [
  {
   "cell_type": "markdown",
   "metadata": {},
   "source": [
    "## Attempt 1 - Accepted"
   ]
  },
  {
   "cell_type": "code",
   "execution_count": null,
   "metadata": {},
   "outputs": [],
   "source": [
    "class Solution:\n",
    "    def minDays(self, bloomDay: List[int], m: int, k: int) -> int:\n",
    "        \n",
    "        def get_lr(garden, init_l):\n",
    "            L = len(garden)\n",
    "            l = init_l\n",
    "            while l < L and not garden[l]:\n",
    "                l += 1\n",
    "            if l == L:\n",
    "                return L, L\n",
    "            r = l + 1\n",
    "            return l, r\n",
    "            \n",
    "        \n",
    "        def count_bouquet(garden, k):\n",
    "            L = len(garden)\n",
    "            l, r = get_lr(garden, 0)\n",
    "            if r == L:\n",
    "                return (r-l)//k\n",
    "            \n",
    "            cnt = 0\n",
    "            while r < L:\n",
    "                if garden[r]:\n",
    "                    r += 1\n",
    "                else:\n",
    "                    cnt += (r-l)//k\n",
    "                    l, r = get_lr(garden, r + 1)\n",
    "            cnt += (r - l)//k\n",
    "            return cnt\n",
    "        \n",
    "        if len(bloomDay) < m * k:\n",
    "            return -1\n",
    "        \n",
    "        days = sorted(list(set(bloomDay)))\n",
    "        days = [0] + days\n",
    "        \n",
    "        l, r = 0, len(days)-1\n",
    "        while l < r - 1:\n",
    "            mid = (l + r) // 2\n",
    "            garden = [b<=days[mid] for b in bloomDay]\n",
    "            cnt = count_bouquet(garden, k)\n",
    "            # if days[mid] == 9:\n",
    "            #     print(garden)\n",
    "            #     print(cnt)\n",
    "            if cnt >= m:\n",
    "                r = mid\n",
    "            else:\n",
    "                l = mid\n",
    "        return days[r]"
   ]
  },
  {
   "cell_type": "markdown",
   "metadata": {},
   "source": [
    "## Lessons and Thoughts\n",
    "- The judging criteria is a bit involved."
   ]
  }
 ],
 "metadata": {
  "kernelspec": {
   "display_name": "Python 3",
   "language": "python",
   "name": "python3"
  },
  "language_info": {
   "codemirror_mode": {
    "name": "ipython",
    "version": 3
   },
   "file_extension": ".py",
   "mimetype": "text/x-python",
   "name": "python",
   "nbconvert_exporter": "python",
   "pygments_lexer": "ipython3",
   "version": "3.7.3"
  }
 },
 "nbformat": 4,
 "nbformat_minor": 2
}
