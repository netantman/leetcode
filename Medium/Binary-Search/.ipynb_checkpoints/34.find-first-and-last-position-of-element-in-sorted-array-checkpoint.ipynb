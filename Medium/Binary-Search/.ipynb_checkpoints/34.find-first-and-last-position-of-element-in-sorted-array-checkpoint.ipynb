{
 "cells": [
  {
   "cell_type": "markdown",
   "metadata": {},
   "source": [
    "## Attempt 1 - Wrong Answer"
   ]
  },
  {
   "cell_type": "code",
   "execution_count": null,
   "metadata": {},
   "outputs": [],
   "source": [
    "class Solution:\n",
    "    def searchRange(self, nums: List[int], target: int) -> List[int]:\n",
    "        if len(nums)<1:\n",
    "            return [-1, -1]\n",
    "        if len(nums)==1:\n",
    "            if nums[0]==target:\n",
    "                return [0,0]\n",
    "            else:\n",
    "                return [-1,-1]\n",
    "        \n",
    "        len_nums=len(nums)\n",
    "        start_left, end_left=0,0\n",
    "        start_right, end_right=len_nums-1, len_nums-1\n",
    "        \n",
    "        while start_left<start_right-1:\n",
    "            mid=(start_left+start_right)//2\n",
    "            if nums[mid]>=target:\n",
    "                start_right=mid\n",
    "            else:\n",
    "                start_left=mid\n",
    "        if start_left==target:  ## --> typo\n",
    "            start=start_left\n",
    "        else:\n",
    "            if start_right==target: ## --> typo\n",
    "                start=start_right\n",
    "            else:\n",
    "                start=-1\n",
    "        \n",
    "        if start<0:\n",
    "            end=-1\n",
    "        else:\n",
    "            while end_left<end_right-1:\n",
    "                mid=(end_left+end_right)//2\n",
    "                if nums[mid]<=target:\n",
    "                    end_left=mid\n",
    "                else:\n",
    "                    end_right=mid\n",
    "            if end_right==target:  ## --> typo\n",
    "                end=end_right\n",
    "            else:\n",
    "                if end_left==target:  ## --> typo\n",
    "                    end=end_left\n",
    "                else:\n",
    "                    end=-1\n",
    "\n",
    "        return [start, end]"
   ]
  },
  {
   "cell_type": "markdown",
   "metadata": {},
   "source": [
    "## Attempt 2 - Accepted"
   ]
  },
  {
   "cell_type": "code",
   "execution_count": null,
   "metadata": {},
   "outputs": [],
   "source": [
    "class Solution:\n",
    "    def searchRange(self, nums: List[int], target: int) -> List[int]:\n",
    "        if len(nums)<1:\n",
    "            return [-1, -1]\n",
    "        if len(nums)==1:\n",
    "            if nums[0]==target:\n",
    "                return [0,0]\n",
    "            else:\n",
    "                return [-1,-1]\n",
    "        \n",
    "        len_nums=len(nums)\n",
    "        start_left, end_left=0,0\n",
    "        start_right, end_right=len_nums-1, len_nums-1\n",
    "        \n",
    "        while start_left<start_right-1:\n",
    "            mid=(start_left+start_right)//2\n",
    "            if nums[mid]>=target:\n",
    "                start_right=mid\n",
    "            else:\n",
    "                start_left=mid\n",
    "        if nums[start_left]==target:\n",
    "            start=start_left\n",
    "        else:\n",
    "            if nums[start_right]==target:\n",
    "                start=start_right\n",
    "            else:\n",
    "                start=-1\n",
    "        \n",
    "        if start<0:\n",
    "            end=-1\n",
    "        else:\n",
    "            while end_left<end_right-1:\n",
    "                mid=(end_left+end_right)//2\n",
    "                if nums[mid]<=target:\n",
    "                    end_left=mid\n",
    "                else:\n",
    "                    end_right=mid\n",
    "            if nums[end_right]==target:\n",
    "                end=end_right\n",
    "            else:\n",
    "                if nums[end_left]==target:\n",
    "                    end=end_left\n",
    "                else:\n",
    "                    end=-1\n",
    "\n",
    "        return [start, end]"
   ]
  },
  {
   "cell_type": "markdown",
   "metadata": {},
   "source": [
    "## Lessons and Thoughts\n",
    "- It seems that in binary search, you often forget to access the elements in the array before you actually compare."
   ]
  }
 ],
 "metadata": {
  "kernelspec": {
   "display_name": "Python 3",
   "language": "python",
   "name": "python3"
  },
  "language_info": {
   "codemirror_mode": {
    "name": "ipython",
    "version": 3
   },
   "file_extension": ".py",
   "mimetype": "text/x-python",
   "name": "python",
   "nbconvert_exporter": "python",
   "pygments_lexer": "ipython3",
   "version": "3.7.3"
  }
 },
 "nbformat": 4,
 "nbformat_minor": 2
}
