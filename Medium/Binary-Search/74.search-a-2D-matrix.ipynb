{
 "cells": [
  {
   "cell_type": "markdown",
   "metadata": {},
   "source": [
    "## Attempt 1 - Wrong Answer"
   ]
  },
  {
   "cell_type": "code",
   "execution_count": null,
   "metadata": {},
   "outputs": [],
   "source": [
    "class Solution:\n",
    "    def searchMatrix(self, matrix: List[List[int]], target: int) -> bool:\n",
    "        if target<matrix[0][0]:\n",
    "            return False\n",
    "        if target>matrix[-1][-1]:\n",
    "            return False\n",
    "        if len(matrix)<1:  ## -> this should be at the beginning. and also this is not the only case where matrix is empty\n",
    "            return False\n",
    "        \n",
    "        rows=len(matrix)\n",
    "        if rows==1:\n",
    "            rr=0\n",
    "        elif target>=matrix[-1][0]:\n",
    "            rr=-1\n",
    "        else:\n",
    "            top=0\n",
    "            bottom=rows-1\n",
    "            while top<bottom-1:\n",
    "                mid=(top+bottom)//2\n",
    "                if matrix[mid][0]==target:\n",
    "                    return True\n",
    "                elif matrix[mid][0]<target:\n",
    "                    top=mid\n",
    "                else:\n",
    "                    bottom=mid\n",
    "            rr=top\n",
    "            \n",
    "        left=0\n",
    "        cols=len(matrix[0])\n",
    "        right=cols-1\n",
    "        if matrix[rr][-1]>target:  ## --> typo, should be smaller\n",
    "            return False\n",
    "        while left<right-1:\n",
    "            mid=(left+right)//2\n",
    "            if matrix[rr][mid]==target:\n",
    "                return True\n",
    "            elif matrix[rr][mid]<target:\n",
    "                left=mid\n",
    "            else:\n",
    "                right=mid\n",
    "        if (matrix[rr][left]==target) or (matrix[rr][right]==target):\n",
    "            return True\n",
    "        else:\n",
    "            return False"
   ]
  },
  {
   "cell_type": "markdown",
   "metadata": {},
   "source": [
    "## Attempt 2 - Accepted"
   ]
  },
  {
   "cell_type": "code",
   "execution_count": null,
   "metadata": {},
   "outputs": [],
   "source": [
    "class Solution:\n",
    "    def searchMatrix(self, matrix: List[List[int]], target: int) -> bool:\n",
    "        if len(matrix)<1:\n",
    "            return False\n",
    "        elif len(matrix[0])<1:\n",
    "            return False\n",
    "        if target<matrix[0][0]:\n",
    "            return False\n",
    "        if target>matrix[-1][-1]:\n",
    "            return False\n",
    "        \n",
    "        rows=len(matrix)\n",
    "        if rows==1:\n",
    "            rr=0\n",
    "        elif target>=matrix[-1][0]:\n",
    "            rr=-1\n",
    "        else:\n",
    "            top=0\n",
    "            bottom=rows-1\n",
    "            while top<bottom-1:\n",
    "                mid=(top+bottom)//2\n",
    "                if matrix[mid][0]==target:\n",
    "                    return True\n",
    "                elif matrix[mid][0]<target:\n",
    "                    top=mid\n",
    "                else:\n",
    "                    bottom=mid\n",
    "            rr=top\n",
    "            \n",
    "        left=0\n",
    "        cols=len(matrix[0])\n",
    "        right=cols-1\n",
    "        if matrix[rr][right]<target:\n",
    "            return False\n",
    "        while left<right-1:\n",
    "            mid=(left+right)//2\n",
    "            if matrix[rr][mid]==target:\n",
    "                return True\n",
    "            elif matrix[rr][mid]<target:\n",
    "                left=mid\n",
    "            else:\n",
    "                right=mid\n",
    "        if (matrix[rr][left]==target) or (matrix[rr][right]==target):\n",
    "            return True\n",
    "        else:\n",
    "            return False"
   ]
  },
  {
   "cell_type": "markdown",
   "metadata": {},
   "source": [
    "## Lessons and Thoughts\n",
    "- A good principle is that before you access any element of an array, you should first check if it is empty."
   ]
  }
 ],
 "metadata": {
  "kernelspec": {
   "display_name": "Python 3 (ipykernel)",
   "language": "python",
   "name": "python3"
  },
  "language_info": {
   "codemirror_mode": {
    "name": "ipython",
    "version": 3
   },
   "file_extension": ".py",
   "mimetype": "text/x-python",
   "name": "python",
   "nbconvert_exporter": "python",
   "pygments_lexer": "ipython3",
   "version": "3.9.7"
  }
 },
 "nbformat": 4,
 "nbformat_minor": 2
}
