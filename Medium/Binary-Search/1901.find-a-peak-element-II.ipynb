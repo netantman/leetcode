{
 "cells": [
  {
   "cell_type": "markdown",
   "metadata": {},
   "source": [
    "## Attempt 1 - Wrong Answer"
   ]
  },
  {
   "cell_type": "code",
   "execution_count": null,
   "metadata": {},
   "outputs": [],
   "source": [
    "class Solution:\n",
    "    def findPeakGrid(self, mat: List[List[int]]) -> List[int]:\n",
    "        def find_peak(arr):\n",
    "            val = float('-inf')\n",
    "            idx = None\n",
    "            for c, a in enumerate(arr):\n",
    "                if a > val:\n",
    "                    idx, val = c, a\n",
    "            return idx, val\n",
    "        \n",
    "        R, C = len(mat), len(mat[0])\n",
    "        if R == 1:\n",
    "            y, _ = find_peak(mat[0])\n",
    "            return [0, y]\n",
    "        if R == 2:\n",
    "            y0, val0 = find_peak(mat[0])\n",
    "            y1, val1 = find_peak(mat[1])\n",
    "            return [0, y0] if val0 > val1 else [1, y1]\n",
    "        \n",
    "        record = dict()\n",
    "        l, r = 0, R - 1\n",
    "        record[l] = find_peak(mat[l])\n",
    "        record[r] = find_peak(mat[r])\n",
    "        while l < r - 1:\n",
    "            m = (l + r) // 2\n",
    "            if m not in record:\n",
    "                record[m] = find_peak(mat[m])\n",
    "            if m - 1 not in record:\n",
    "                record[m - 1] = find_peak(mat[m - 1])\n",
    "            if m + 1 not in record:\n",
    "                record[m + 1] = find_peak(mat[m + 1])\n",
    "            \n",
    "            if record[m][1] > record[m - 1][1] and record[m][1] > record[m + 1][1]:\n",
    "                return [m, record[m][0]]\n",
    "            if record[m][1] < record[m - 1][1]:\n",
    "                r = m\n",
    "                record[r] = find_peak(mat[r])\n",
    "            if record[m][1] < record[m + 1][1]:\n",
    "                l = m\n",
    "                record[l] = find_peak(mat[l])\n",
    "        if l == r:\n",
    "            return [l, record[l][0]]\n",
    "        else:\n",
    "            if record[l][1] > record[r][1]:\n",
    "                return [l, record[l][0]]\n",
    "            else:\n",
    "                return [r, record[r][0]]"
   ]
  },
  {
   "cell_type": "markdown",
   "metadata": {},
   "source": [
    "## Attempt 2 -  Accepted"
   ]
  },
  {
   "cell_type": "code",
   "execution_count": null,
   "metadata": {},
   "outputs": [],
   "source": [
    "class Solution:\n",
    "    def findPeakGrid(self, mat: List[List[int]]) -> List[int]:\n",
    "        def find_peak(arr):\n",
    "            val = float('-inf')\n",
    "            idx = None\n",
    "            for c, a in enumerate(arr):\n",
    "                if a > val:\n",
    "                    idx, val = c, a\n",
    "            return idx, val\n",
    "        \n",
    "        R, C = len(mat), len(mat[0])\n",
    "        if R == 1:\n",
    "            y, _ = find_peak(mat[0])\n",
    "            return [0, y]\n",
    "        if R == 2:\n",
    "            y0, val0 = find_peak(mat[0])\n",
    "            y1, val1 = find_peak(mat[1])\n",
    "            return [0, y0] if val0 > val1 else [1, y1]\n",
    "        \n",
    "        record = dict()\n",
    "        l, r = 0, R - 1\n",
    "        record[l] = find_peak(mat[l])\n",
    "        record[r] = find_peak(mat[r])\n",
    "        while l < r - 1:\n",
    "            m = (l + r) // 2\n",
    "            if m not in record:\n",
    "                record[m] = find_peak(mat[m])\n",
    "            if m - 1 not in record:\n",
    "                record[m - 1] = find_peak(mat[m - 1])\n",
    "            if m + 1 not in record:\n",
    "                record[m + 1] = find_peak(mat[m + 1])\n",
    "            \n",
    "            if record[m][1] > record[m - 1][1] and record[m][1] > record[m + 1][1]:\n",
    "                return [m, record[m][0]]\n",
    "            if record[m][1] < record[m - 1][1]:\n",
    "                r = m - 1\n",
    "                record[r] = find_peak(mat[r])\n",
    "            if record[m][1] < record[m + 1][1]:\n",
    "                l = m + 1\n",
    "                record[l] = find_peak(mat[l])\n",
    "        if l == r:\n",
    "            return [l, record[l][0]]\n",
    "        else:\n",
    "            if record[l][1] > record[r][1]:\n",
    "                return [l, record[l][0]]\n",
    "            else:\n",
    "                return [r, record[r][0]]"
   ]
  },
  {
   "cell_type": "markdown",
   "metadata": {},
   "source": [
    "## Lessons and Thoughts\n",
    "- The algo is inspired by the app. The key idea is to find the peak among max elements in each row."
   ]
  }
 ],
 "metadata": {
  "kernelspec": {
   "display_name": "Python 3",
   "language": "python",
   "name": "python3"
  },
  "language_info": {
   "codemirror_mode": {
    "name": "ipython",
    "version": 3
   },
   "file_extension": ".py",
   "mimetype": "text/x-python",
   "name": "python",
   "nbconvert_exporter": "python",
   "pygments_lexer": "ipython3",
   "version": "3.7.3"
  }
 },
 "nbformat": 4,
 "nbformat_minor": 2
}
