{
 "cells": [
  {
   "cell_type": "markdown",
   "metadata": {},
   "source": [
    "## Attempt 1 - Wrong Answer"
   ]
  },
  {
   "cell_type": "code",
   "execution_count": null,
   "metadata": {},
   "outputs": [],
   "source": [
    "class Solution:\n",
    "    def numSubseq(self, nums: List[int], target: int) -> int:\n",
    "        res = dict()\n",
    "        for n in nums:\n",
    "            prev = {k: v for k, v in res.items()}\n",
    "            for a, b in prev.keys():\n",
    "                if n < a:\n",
    "                    res[n, b] = res.get((n, b), 0) + prev[a, b]\n",
    "                    continue\n",
    "                if n > b:\n",
    "                    if a + n <= target: ## --> pre-filter will lose pairs\n",
    "                        res[a, n] = res.get((a, n), 0) + prev[a, b]\n",
    "                    continue\n",
    "                res[a, b] += prev[a, b]\n",
    "            if 2 * n <= target:\n",
    "                res[n, n] = res.get((n, n), 0) + 1\n",
    "            # print(f\"prev: {prev}\")\n",
    "            # print(f\"res: {res}\")\n",
    "        return sum(res.values())%(10**9+7)"
   ]
  },
  {
   "cell_type": "markdown",
   "metadata": {},
   "source": [
    "## Attempt 2 - Time Limit Exceeded"
   ]
  },
  {
   "cell_type": "code",
   "execution_count": null,
   "metadata": {},
   "outputs": [],
   "source": [
    "class Solution:\n",
    "    def numSubseq(self, nums: List[int], target: int) -> int:\n",
    "        res = dict()\n",
    "        for n in nums:\n",
    "            prev = {k: v for k, v in res.items()}\n",
    "            for a, b in prev.keys():\n",
    "                if n < a:\n",
    "                    res[n, b] = res.get((n, b), 0) + prev[a, b]\n",
    "                    continue\n",
    "                if n > b:\n",
    "                    res[a, n] = res.get((a, n), 0) + prev[a, b]\n",
    "                    continue\n",
    "                res[a, b] += prev[a, b]\n",
    "            res[n, n] = res.get((n, n), 0) + 1\n",
    "            # print(f\"prev: {prev}\")\n",
    "            # print(f\"res: {res}\")\n",
    "        res = {k: v for k, v in res.items() if k[0]+k[1] <= target}\n",
    "        return sum(res.values())%(10**9+7)"
   ]
  },
  {
   "cell_type": "markdown",
   "metadata": {},
   "source": [
    "## Attempt 3 - Accepted"
   ]
  },
  {
   "cell_type": "code",
   "execution_count": null,
   "metadata": {},
   "outputs": [],
   "source": [
    "class Solution:\n",
    "    def numSubseq(self, nums: List[int], target: int) -> int:\n",
    "        nums = sorted(nums)\n",
    "        res = 0\n",
    "        L = len(nums)\n",
    "        for idx, num in enumerate(nums):\n",
    "            if num * 2 > target:\n",
    "                break\n",
    "            left, right = idx, L-1\n",
    "            if num + nums[right] <= target:\n",
    "                res += 2**(L - 1 - idx)\n",
    "                continue\n",
    "            while left < right - 1:\n",
    "                mid = (left + right) // 2\n",
    "                curr = nums[mid]\n",
    "                if num + curr > target:\n",
    "                    right = mid\n",
    "                else:\n",
    "                    left = mid\n",
    "            res += 2**(left - idx)\n",
    "        return res%(10 ** 9 + 7)"
   ]
  },
  {
   "cell_type": "markdown",
   "metadata": {},
   "source": [
    "## Lessons and Thoughts\n",
    "- Accepted attempt is from app. The key is to recognize that you can sort and cherry pick elements.\n",
    "- The problem looks a lot like those that are solved by cached search."
   ]
  }
 ],
 "metadata": {
  "kernelspec": {
   "display_name": "Python 3",
   "language": "python",
   "name": "python3"
  },
  "language_info": {
   "codemirror_mode": {
    "name": "ipython",
    "version": 3
   },
   "file_extension": ".py",
   "mimetype": "text/x-python",
   "name": "python",
   "nbconvert_exporter": "python",
   "pygments_lexer": "ipython3",
   "version": "3.7.3"
  }
 },
 "nbformat": 4,
 "nbformat_minor": 2
}
