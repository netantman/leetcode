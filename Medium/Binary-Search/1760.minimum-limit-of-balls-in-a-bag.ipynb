{
 "cells": [
  {
   "cell_type": "markdown",
   "metadata": {},
   "source": [
    "## Attempt 1 - Accepted"
   ]
  },
  {
   "cell_type": "code",
   "execution_count": null,
   "metadata": {},
   "outputs": [],
   "source": [
    "class Solution:\n",
    "    def minimumSize(self, nums: List[int], maxOperations: int) -> int:\n",
    "        def count(divided, divisor):\n",
    "            quo = divided // divisor\n",
    "            return quo if divided % divisor > 0 else quo - 1\n",
    "        \n",
    "        if maxOperations >= sum(nums) - len(nums):\n",
    "            return 1\n",
    "        \n",
    "        l, r = 1, max(nums)\n",
    "        while l < r - 1:\n",
    "            m = (l + r) // 2\n",
    "            if sum([count(n, m) for n in nums]) > maxOperations:\n",
    "                l = m\n",
    "            else:\n",
    "                r = m\n",
    "        return r"
   ]
  },
  {
   "cell_type": "markdown",
   "metadata": {},
   "source": [
    "## Lessons and Thoughts\n",
    "- Straightforward when you realize this is a search problem."
   ]
  }
 ],
 "metadata": {
  "kernelspec": {
   "display_name": "Python 3 (ipykernel)",
   "language": "python",
   "name": "python3"
  },
  "language_info": {
   "codemirror_mode": {
    "name": "ipython",
    "version": 3
   },
   "file_extension": ".py",
   "mimetype": "text/x-python",
   "name": "python",
   "nbconvert_exporter": "python",
   "pygments_lexer": "ipython3",
   "version": "3.9.7"
  }
 },
 "nbformat": 4,
 "nbformat_minor": 2
}
