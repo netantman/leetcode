{
 "cells": [
  {
   "cell_type": "markdown",
   "metadata": {},
   "source": [
    "## Attempt 1 - Accepted"
   ]
  },
  {
   "cell_type": "code",
   "execution_count": null,
   "metadata": {},
   "outputs": [],
   "source": [
    "class Solution:\n",
    "    def minimumPerimeter(self, neededApples: int) -> int:\n",
    "        N = 1\n",
    "        while N * (N + 1) * (2 * N + 1) * 2 < neededApples:\n",
    "            N *= 2\n",
    "        if N * (N + 1) * (2 * N + 1) * 2 == neededApples:\n",
    "            return N\n",
    "        apples = [n * (n + 1) * (2 * n + 1) * 2 for n in range(N)]\n",
    "        l, r = N // 2, N\n",
    "        while l < r - 1:\n",
    "            m = (l + r) // 2\n",
    "            if apples[m] < neededApples:\n",
    "                l = m\n",
    "            else:\n",
    "                r = m\n",
    "        return 8 * r"
   ]
  },
  {
   "cell_type": "markdown",
   "metadata": {},
   "source": [
    "## Lessons and Thoughts\n",
    "- Binary search to extend and contract"
   ]
  }
 ],
 "metadata": {
  "kernelspec": {
   "display_name": "Python 3",
   "language": "python",
   "name": "python3"
  },
  "language_info": {
   "codemirror_mode": {
    "name": "ipython",
    "version": 3
   },
   "file_extension": ".py",
   "mimetype": "text/x-python",
   "name": "python",
   "nbconvert_exporter": "python",
   "pygments_lexer": "ipython3",
   "version": "3.7.3"
  }
 },
 "nbformat": 4,
 "nbformat_minor": 2
}
