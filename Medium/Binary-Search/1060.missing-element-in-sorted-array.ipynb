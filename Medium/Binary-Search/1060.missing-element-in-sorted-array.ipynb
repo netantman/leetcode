{
 "cells": [
  {
   "cell_type": "markdown",
   "metadata": {},
   "source": [
    "## Attempt 1 - Accepted"
   ]
  },
  {
   "cell_type": "code",
   "execution_count": null,
   "metadata": {},
   "outputs": [],
   "source": [
    "class Solution:\n",
    "    def missingElement(self, nums: List[int], k: int) -> int:\n",
    "        ascend = [n - nums[0] - idx for idx, n in enumerate(nums)]\n",
    "        L = len(ascend)\n",
    "        if k > ascend[-1]:\n",
    "            return nums[0] + k + L - 1\n",
    "        \n",
    "        l, r = 0, L - 1\n",
    "        while l < r - 1:\n",
    "            m = (l + r) // 2\n",
    "            if ascend[m] < k:\n",
    "                l = m\n",
    "            else:\n",
    "                r = m\n",
    "        return nums[0] + r + k - 1"
   ]
  },
  {
   "cell_type": "markdown",
   "metadata": {},
   "source": [
    "## Lessons and Thoughts\n",
    "- The trick is to recognize this is a binary-search problem. \n",
    "- One edge case is when `k` is bigger than all in `ascend`."
   ]
  }
 ],
 "metadata": {
  "kernelspec": {
   "display_name": "Python 3 (ipykernel)",
   "language": "python",
   "name": "python3"
  },
  "language_info": {
   "codemirror_mode": {
    "name": "ipython",
    "version": 3
   },
   "file_extension": ".py",
   "mimetype": "text/x-python",
   "name": "python",
   "nbconvert_exporter": "python",
   "pygments_lexer": "ipython3",
   "version": "3.9.7"
  }
 },
 "nbformat": 4,
 "nbformat_minor": 2
}
