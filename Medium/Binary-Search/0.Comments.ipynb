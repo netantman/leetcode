{
 "cells": [
  {
   "cell_type": "markdown",
   "metadata": {},
   "source": [
    "## Idea"
   ]
  },
  {
   "cell_type": "markdown",
   "metadata": {},
   "source": [
    "The implementation of binary search is to maintain two pointers, `left` and `right`. At each iteration, calculate `mid=(left+right)//2` (note the integar division of `//`). The `while` loop continues when `left<right-1`, and will stop when `left==right-1`. Depending on the criteria set for `left` and `right`, either `left` or `right` should be what you search for.\n",
    "\n",
    "More often than not, the tricky part is to realize the problem is a search problem, or remember to use binary search as a further optimization.\n",
    "\n",
    "**Time complexity**: $O(\\log n)$\n",
    "\n",
    "**Space complexity**: $O(1)$ (just the two pointer variables)"
   ]
  },
  {
   "cell_type": "markdown",
   "metadata": {},
   "source": [
    "## Traps"
   ]
  },
  {
   "cell_type": "markdown",
   "metadata": {},
   "source": [
    "- It helps to **fully determine the meaning of `left` and `right` before starting**, so that there is no ambuguity which one is the result when you stop.\n",
    "- Oftentimes, the harder part is to **recognize to use binary search to optimize existing algorithm**. A good hint is maybe it is the only algo that beats `O(n)` (it is `O(log n)`).\n",
    "- It may become more efficient when searching for a specific target in the array, to **just return `left`, `right` or `mid` when it is equal**.\n",
    "- It seems that in binary search, **confusing `idx` and `nums[idx]` is a mistake you tend to make a lot**.\n",
    "- Always remember to **check beyond `left` and `right` before you start looping**!"
   ]
  },
  {
   "cell_type": "markdown",
   "metadata": {},
   "source": [
    "## Template"
   ]
  },
  {
   "cell_type": "code",
   "execution_count": null,
   "metadata": {},
   "outputs": [],
   "source": [
    "def binary_search(nums, target):\n",
    "    # handle corner case, when nums is empty\n",
    "    if not nums:\n",
    "        return -1\n",
    "    \n",
    "    left, right = 0, len(nums) - 1\n",
    "    \n",
    "    if nums[right] < target:\n",
    "        # do something\n",
    "    if nums[left] > target:\n",
    "        # do something\n",
    "    \n",
    "    # note that the loop condition is left < right - 1, not just left < right.\n",
    "    # this is to prevent the case where left and right becomes neighboring elements\n",
    "    while left < right -1:\n",
    "        # if it is not for python, you will need to worry about start + end overflows, and thus would need to do mid = start + (end - start) /2\n",
    "        mid = (left + right) // 2 # note the // 2; not / 2\n",
    "        \n",
    "        # It helps to be very clear what left and right mean.\n",
    "        # Here this template assumes left <= target and right > target\n",
    "        \n",
    "        # handle <, = and > separately, and see if the case of = can be combined into other branches, or just exit\n",
    "        if nums[mid] == target:\n",
    "            left = mid\n",
    "            # return mid\n",
    "        elif nums[mid] < target:\n",
    "            left = mid\n",
    "        else:\n",
    "            right = mid\n",
    "    \n",
    "    # At exit, left and right are neighbors, and we still need to check which one is what we are looking for\n",
    "    if nums[left] == target:\n",
    "        return left\n",
    "    else:\n",
    "        return right"
   ]
  }
 ],
 "metadata": {
  "kernelspec": {
   "display_name": "Python 3 (ipykernel)",
   "language": "python",
   "name": "python3"
  },
  "language_info": {
   "codemirror_mode": {
    "name": "ipython",
    "version": 3
   },
   "file_extension": ".py",
   "mimetype": "text/x-python",
   "name": "python",
   "nbconvert_exporter": "python",
   "pygments_lexer": "ipython3",
   "version": "3.9.7"
  }
 },
 "nbformat": 4,
 "nbformat_minor": 2
}
