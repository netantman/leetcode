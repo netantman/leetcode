{
 "cells": [
  {
   "cell_type": "markdown",
   "metadata": {},
   "source": [
    "## Idea"
   ]
  },
  {
   "cell_type": "markdown",
   "metadata": {},
   "source": [
    "The implementation of binary search is to maintain two pointers, `left` and `right`. At each iteration, calculate `mid=(left+right)//2` (note the integar division of `//`). The `while` loop continues when `left<right-1`, and will stop when `left==right-1`. Depending on the criteria set for `left` and `right`, either `left` or `right` should be what you search for."
   ]
  },
  {
   "cell_type": "markdown",
   "metadata": {},
   "source": [
    "## Traps"
   ]
  },
  {
   "cell_type": "markdown",
   "metadata": {},
   "source": [
    "- It helps to fully determine the meaning of `left` and `right` before starting, so that there is no ambuguity which one is the result when you stop.\n",
    "- Oftentimes, the harder part is to recognize to use binary search to optimize existing algorithm. A good hint is maybe it is the only algo that beats `O(n)` (it is `O(log n)`).\n",
    "- It may become more efficient when searching for a specific target in the array, to just return `left`, `right` or `mid` when it is equal.\n",
    "- It seems that in binary search, confusing idx and nums[idx] is a mistake you tend to make a lot.\n",
    "- Always remember to see the meaning of `left` or `right`, i.e. `left` is not applying to condition and `right` is, etc. It is possible that `left` or `right` does not fit the sterotype from the beginning."
   ]
  }
 ],
 "metadata": {
  "kernelspec": {
   "display_name": "Python 3",
   "language": "python",
   "name": "python3"
  },
  "language_info": {
   "codemirror_mode": {
    "name": "ipython",
    "version": 3
   },
   "file_extension": ".py",
   "mimetype": "text/x-python",
   "name": "python",
   "nbconvert_exporter": "python",
   "pygments_lexer": "ipython3",
   "version": "3.7.3"
  }
 },
 "nbformat": 4,
 "nbformat_minor": 2
}
