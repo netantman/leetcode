{
 "cells": [
  {
   "cell_type": "markdown",
   "metadata": {},
   "source": [
    "## Attempt 1 - Accepted"
   ]
  },
  {
   "cell_type": "code",
   "execution_count": null,
   "metadata": {},
   "outputs": [],
   "source": [
    "class Solution:\n",
    "    def findClosestElements(self, arr: List[int], k: int, x: int) -> List[int]:\n",
    "        idx = bisect.bisect_left(arr, x)\n",
    "        if idx == len(arr):\n",
    "            return arr[-k:]\n",
    "        if idx - 1 >= 0 and x - arr[idx - 1] <= arr[idx] - x:\n",
    "            idx -= 1\n",
    "        l = idx - 1\n",
    "        r = idx + 1\n",
    "        while r - l - 1 < k:\n",
    "            if l < 0:\n",
    "                r += 1\n",
    "            elif r >= len(arr):\n",
    "                l -= 1\n",
    "            else:\n",
    "                if x - arr[l] <= arr[r] - x:\n",
    "                    l -= 1\n",
    "                else:\n",
    "                    r += 1\n",
    "        return arr[l + 1:r]"
   ]
  },
  {
   "cell_type": "markdown",
   "metadata": {},
   "source": [
    "## Lessons and Thoughts\n",
    "- Though the accepted code is from the leetcode app, the idea is straightforward: use binary search to locate the element, and then expand the two pointers."
   ]
  }
 ],
 "metadata": {
  "kernelspec": {
   "display_name": "Python 3",
   "language": "python",
   "name": "python3"
  },
  "language_info": {
   "codemirror_mode": {
    "name": "ipython",
    "version": 3
   },
   "file_extension": ".py",
   "mimetype": "text/x-python",
   "name": "python",
   "nbconvert_exporter": "python",
   "pygments_lexer": "ipython3",
   "version": "3.7.3"
  }
 },
 "nbformat": 4,
 "nbformat_minor": 2
}
