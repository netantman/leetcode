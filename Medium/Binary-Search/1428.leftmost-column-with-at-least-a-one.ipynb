{
 "cells": [
  {
   "cell_type": "markdown",
   "metadata": {},
   "source": [
    "## Attempt 1 - Accepted"
   ]
  },
  {
   "cell_type": "code",
   "execution_count": null,
   "metadata": {},
   "outputs": [],
   "source": [
    "# \"\"\"\n",
    "# This is BinaryMatrix's API interface.\n",
    "# You should not implement it, or speculate about its implementation\n",
    "# \"\"\"\n",
    "#class BinaryMatrix(object):\n",
    "#    def get(self, row: int, col: int) -> int:\n",
    "#    def dimensions(self) -> list[]:\n",
    "\n",
    "class Solution:\n",
    "    def leftMostColumnWithOne(self, binaryMatrix: 'BinaryMatrix') -> int:\n",
    "        R, C = binaryMatrix.dimensions()\n",
    "        res = C\n",
    "        for row in range(R):\n",
    "            if binaryMatrix.get(row, C - 1) < 1:\n",
    "                continue\n",
    "            if binaryMatrix.get(row, 0) > 0:\n",
    "                return 0\n",
    "            l, r = 0, C - 1\n",
    "            while l < r - 1:\n",
    "                m = (l + r) // 2\n",
    "                if binaryMatrix.get(row, m) < 1:\n",
    "                    l = m\n",
    "                else:\n",
    "                    r = m\n",
    "            res = min(res, r)\n",
    "        return -1 if res == C else res"
   ]
  },
  {
   "cell_type": "markdown",
   "metadata": {},
   "source": [
    "## Lessons and Thoughts\n",
    "- The trick is to recognize this is a binary-search problem."
   ]
  }
 ],
 "metadata": {
  "kernelspec": {
   "display_name": "Python 3",
   "language": "python",
   "name": "python3"
  },
  "language_info": {
   "codemirror_mode": {
    "name": "ipython",
    "version": 3
   },
   "file_extension": ".py",
   "mimetype": "text/x-python",
   "name": "python",
   "nbconvert_exporter": "python",
   "pygments_lexer": "ipython3",
   "version": "3.7.3"
  }
 },
 "nbformat": 4,
 "nbformat_minor": 2
}
