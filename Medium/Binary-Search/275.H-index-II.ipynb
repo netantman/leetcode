{
 "cells": [
  {
   "cell_type": "markdown",
   "metadata": {},
   "source": [
    "## Attempt 1 - Accepted"
   ]
  },
  {
   "cell_type": "code",
   "execution_count": null,
   "metadata": {},
   "outputs": [],
   "source": [
    "class Solution:\n",
    "    def hIndex(self, citations: List[int]) -> int:\n",
    "        L=len(citations)\n",
    "        if L<1:\n",
    "            return 0\n",
    "        if citations[0]>=L:\n",
    "            return L\n",
    "        if citations[-1]==0:\n",
    "            return 0\n",
    "        \n",
    "        left, right=0, L-1\n",
    "        while left<right-1:\n",
    "            mid=(left+right)//2\n",
    "            if citations[mid]>=L-mid and citations[mid-1]<=L-mid:\n",
    "                return L-mid\n",
    "            elif citations[mid]<L-mid:\n",
    "                left=mid\n",
    "            else:\n",
    "                right=mid\n",
    "        \n",
    "        return L-right"
   ]
  },
  {
   "cell_type": "markdown",
   "metadata": {},
   "source": [
    "## Lessons and Thoughts\n",
    "- Need to think it through how the logic goes for atypical left and right movements."
   ]
  }
 ],
 "metadata": {
  "kernelspec": {
   "display_name": "Python 3",
   "language": "python",
   "name": "python3"
  },
  "language_info": {
   "codemirror_mode": {
    "name": "ipython",
    "version": 3
   },
   "file_extension": ".py",
   "mimetype": "text/x-python",
   "name": "python",
   "nbconvert_exporter": "python",
   "pygments_lexer": "ipython3",
   "version": "3.7.3"
  }
 },
 "nbformat": 4,
 "nbformat_minor": 2
}
