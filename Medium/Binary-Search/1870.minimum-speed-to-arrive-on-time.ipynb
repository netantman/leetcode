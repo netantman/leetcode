{
 "cells": [
  {
   "cell_type": "markdown",
   "metadata": {},
   "source": [
    "## Attempt 1 - Accepted"
   ]
  },
  {
   "cell_type": "code",
   "execution_count": null,
   "metadata": {},
   "outputs": [],
   "source": [
    "class Solution:\n",
    "    def minSpeedOnTime(self, dist: List[int], hour: float) -> int:\n",
    "        def tot_time(s):\n",
    "            return sum([math.ceil(d/s) for d in dist[:-1]]) + dist[-1]/s\n",
    "        \n",
    "        l, r = 1, 10 ** 7\n",
    "        if tot_time(l) <= hour:\n",
    "            return l\n",
    "        if tot_time(r) > hour:\n",
    "            return -1\n",
    "        while l < r - 1:\n",
    "            m = (l + r) // 2\n",
    "            if tot_time(m) <= hour:\n",
    "                r = m\n",
    "            else:\n",
    "                l = m\n",
    "        return r"
   ]
  },
  {
   "cell_type": "markdown",
   "metadata": {},
   "source": [
    "## Lessons and Thoughts\n",
    "- Again, it helps to be very clear of what `l` and `r` mean.\n",
    "- `math.ceil` method"
   ]
  }
 ],
 "metadata": {
  "kernelspec": {
   "display_name": "Python 3",
   "language": "python",
   "name": "python3"
  },
  "language_info": {
   "codemirror_mode": {
    "name": "ipython",
    "version": 3
   },
   "file_extension": ".py",
   "mimetype": "text/x-python",
   "name": "python",
   "nbconvert_exporter": "python",
   "pygments_lexer": "ipython3",
   "version": "3.7.3"
  }
 },
 "nbformat": 4,
 "nbformat_minor": 2
}
