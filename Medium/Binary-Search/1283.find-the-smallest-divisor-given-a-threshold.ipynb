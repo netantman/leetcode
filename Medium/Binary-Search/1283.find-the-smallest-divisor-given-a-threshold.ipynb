{
 "cells": [
  {
   "cell_type": "markdown",
   "metadata": {},
   "source": [
    "## Attempt 1 - Wrong Answer"
   ]
  },
  {
   "cell_type": "code",
   "execution_count": null,
   "metadata": {},
   "outputs": [],
   "source": [
    "class Solution:\n",
    "    def smallestDivisor(self, nums: List[int], threshold: int) -> int:\n",
    "        left,right=1,max(nums) \n",
    "        while left<right-1: ## --> did not handle the edge case of left...\n",
    "            mid=(left+right)//2\n",
    "            if sum([math.ceil(n/mid) for n in nums])<=threshold:\n",
    "                right=mid\n",
    "            else:\n",
    "                left=mid\n",
    "        return right"
   ]
  },
  {
   "cell_type": "markdown",
   "metadata": {},
   "source": [
    "## Attempt 2 - Accepted"
   ]
  },
  {
   "cell_type": "code",
   "execution_count": null,
   "metadata": {},
   "outputs": [],
   "source": [
    "class Solution:\n",
    "    def smallestDivisor(self, nums: List[int], threshold: int) -> int:\n",
    "        left,right=1,max(nums)\n",
    "        if sum([math.ceil(n/left) for n in nums])<=threshold:\n",
    "            return left\n",
    "        while left<right-1:\n",
    "            mid=(left+right)//2\n",
    "            if sum([math.ceil(n/mid) for n in nums])<=threshold:\n",
    "                right=mid\n",
    "            else:\n",
    "                left=mid\n",
    "        return right"
   ]
  },
  {
   "cell_type": "markdown",
   "metadata": {},
   "source": [
    "## Lessons and Thoughts\n",
    "- `math.ceil()` method in `python`\n",
    "- Remember to handle the edge case of `left` in binary search!"
   ]
  }
 ],
 "metadata": {
  "kernelspec": {
   "display_name": "Python 3",
   "language": "python",
   "name": "python3"
  },
  "language_info": {
   "codemirror_mode": {
    "name": "ipython",
    "version": 3
   },
   "file_extension": ".py",
   "mimetype": "text/x-python",
   "name": "python",
   "nbconvert_exporter": "python",
   "pygments_lexer": "ipython3",
   "version": "3.7.3"
  }
 },
 "nbformat": 4,
 "nbformat_minor": 2
}
