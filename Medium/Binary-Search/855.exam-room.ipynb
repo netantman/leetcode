{
 "cells": [
  {
   "cell_type": "markdown",
   "metadata": {},
   "source": [
    "## Attempt 1 - Accepted"
   ]
  },
  {
   "cell_type": "code",
   "execution_count": null,
   "metadata": {},
   "outputs": [],
   "source": [
    "class ExamRoom:\n",
    "\n",
    "    def __init__(self, N: int):\n",
    "        self.seats=[]\n",
    "        self.N=N\n",
    "\n",
    "    def insert(self, student, seats):\n",
    "        if student<seats[0]:\n",
    "            self.seats=[student]+self.seats\n",
    "            return\n",
    "        elif student>seats[-1]:\n",
    "            self.seats.append(student)\n",
    "        else:\n",
    "            left,right=0,len(self.seats)-1\n",
    "            while left<right-1:\n",
    "                mid=(left+right)//2\n",
    "                if self.seats[mid]<student:\n",
    "                    left=mid\n",
    "                else:\n",
    "                    right=mid\n",
    "            self.seats=self.seats[:left+1]+[student]+self.seats[right:]\n",
    "            return\n",
    "    \n",
    "    def seat(self) -> int:\n",
    "        if len(self.seats)<1:\n",
    "            self.seats=[0]\n",
    "            return 0\n",
    "        elif len(self.seats)==1:\n",
    "            if self.seats[0]-0>=self.N-1-self.seats[0]:\n",
    "                student=0\n",
    "            else:\n",
    "                student=self.N-1\n",
    "            self.insert(student, self.seats)\n",
    "            return student\n",
    "        else:\n",
    "            student=0\n",
    "            dist=self.seats[0]-0\n",
    "            L=len(self.seats)\n",
    "            for idx in range(L-1):\n",
    "                curr=(self.seats[idx]+self.seats[idx+1])//2\n",
    "                if curr-self.seats[idx]>dist:\n",
    "                    student=curr\n",
    "                    dist=curr-self.seats[idx]\n",
    "            if self.N-1-self.seats[-1]>dist:\n",
    "                student=self.N-1\n",
    "                dist=self.N-1-self.seats[-1]\n",
    "            self.insert(student, self.seats)\n",
    "            return student\n",
    "        \n",
    "\n",
    "    def leave(self, p: int) -> None:\n",
    "        self.seats=[s for s in self.seats if s!=p]\n",
    "\n",
    "\n",
    "# Your ExamRoom object will be instantiated and called as such:\n",
    "# obj = ExamRoom(N)\n",
    "# param_1 = obj.seat()\n",
    "# obj.leave(p)"
   ]
  },
  {
   "cell_type": "markdown",
   "metadata": {},
   "source": [
    "## Lessons and Thoughts\n",
    "- Similar to Problem 849. But there is no ambiguity in how distance is defined.\n",
    "- Also labeled 'Ordered Map' on leetcode. I guess that is more efficient in the `leave` method."
   ]
  }
 ],
 "metadata": {
  "kernelspec": {
   "display_name": "Python 3 (ipykernel)",
   "language": "python",
   "name": "python3"
  },
  "language_info": {
   "codemirror_mode": {
    "name": "ipython",
    "version": 3
   },
   "file_extension": ".py",
   "mimetype": "text/x-python",
   "name": "python",
   "nbconvert_exporter": "python",
   "pygments_lexer": "ipython3",
   "version": "3.9.7"
  }
 },
 "nbformat": 4,
 "nbformat_minor": 2
}
