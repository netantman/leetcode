{
 "cells": [
  {
   "cell_type": "markdown",
   "metadata": {},
   "source": [
    "## Attempt 1 - Wrong Answer"
   ]
  },
  {
   "cell_type": "code",
   "execution_count": null,
   "metadata": {},
   "outputs": [],
   "source": [
    "class Solution:\n",
    "    def findBestValue(self, arr: List[int], target: int) -> int:\n",
    "        left,right=1,10**5  ##--> right should be max of arr, left should be 0\n",
    "        if sum([min(a,left) for a in arr])>=target:\n",
    "            return left\n",
    "        if sum([min(a,right) for a in arr])<target:\n",
    "            return right\n",
    "        while left<right-1:\n",
    "            mid=(left+right)//2\n",
    "            if sum([min(a,mid) for a in arr])<=target:\n",
    "                left=mid\n",
    "            else:\n",
    "                right=mid\n",
    "        if abs(target-sum([min(a,left) for a in arr]))<abs(target-sum([min(a,right) for a in arr])):\n",
    "            return left\n",
    "        else:\n",
    "            return right ## --> when left and right are equal, should return left"
   ]
  },
  {
   "cell_type": "markdown",
   "metadata": {},
   "source": [
    "## Attempt 2 - Accepted"
   ]
  },
  {
   "cell_type": "code",
   "execution_count": null,
   "metadata": {},
   "outputs": [],
   "source": [
    "class Solution:\n",
    "    def findBestValue(self, arr: List[int], target: int) -> int:\n",
    "        left,right=0,max(arr)\n",
    "        if sum([min(a,left) for a in arr])>=target:\n",
    "            return left\n",
    "        if sum([min(a,right) for a in arr])<target:\n",
    "            return right\n",
    "        while left<right-1:\n",
    "            mid=(left+right)//2\n",
    "            if sum([min(a,mid) for a in arr])<=target:\n",
    "                left=mid\n",
    "            else:\n",
    "                right=mid\n",
    "        if abs(target-sum([min(a,left) for a in arr]))<=abs(target-sum([min(a,right) for a in arr])):\n",
    "            return left\n",
    "        else:\n",
    "            return right"
   ]
  },
  {
   "cell_type": "markdown",
   "metadata": {},
   "source": [
    "## Attempt 3 - Accepted"
   ]
  },
  {
   "cell_type": "code",
   "execution_count": null,
   "metadata": {},
   "outputs": [],
   "source": [
    "class Solution:\n",
    "    def findBestValue(self, arr: List[int], target: int) -> int:\n",
    "        arr = sorted(arr)\n",
    "        s = sum(arr)\n",
    "        L = len(arr)\n",
    "\n",
    "        # print(arr)\n",
    "\n",
    "        def change_value(value):\n",
    "            if value <= arr[0]:\n",
    "                return value * L\n",
    "            if value >= arr[-1]:\n",
    "                return s\n",
    "            \n",
    "            l, r = 0, L - 1\n",
    "            while l < r - 1:\n",
    "                m = (l + r) // 2\n",
    "                if arr[m] >= value:\n",
    "                    r = m\n",
    "                else:\n",
    "                    l = m\n",
    "            return sum(arr[:r]) + (L - r) * value\n",
    "\n",
    "        if s < target:\n",
    "            return arr[-1] \n",
    "        \n",
    "        l, r = 0, arr[-1]\n",
    "        while l < r - 1:\n",
    "            m = (l + r) // 2\n",
    "            # print(m, change_value(m))\n",
    "            if change_value(m) >= target:\n",
    "                r = m\n",
    "            else:\n",
    "                l = m\n",
    "        return l if target - change_value(l) <= change_value(r) - target else r"
   ]
  },
  {
   "cell_type": "markdown",
   "metadata": {},
   "source": [
    "## Lessons and Thoughts\n",
    "- Straightforward binary serach: but lots of edge cases to consider.\n",
    "- Attempt 3 uses 2 binary search, rather than just summing the ceiled values."
   ]
  }
 ],
 "metadata": {
  "kernelspec": {
   "display_name": "Python 3 (ipykernel)",
   "language": "python",
   "name": "python3"
  },
  "language_info": {
   "codemirror_mode": {
    "name": "ipython",
    "version": 3
   },
   "file_extension": ".py",
   "mimetype": "text/x-python",
   "name": "python",
   "nbconvert_exporter": "python",
   "pygments_lexer": "ipython3",
   "version": "3.9.7"
  }
 },
 "nbformat": 4,
 "nbformat_minor": 2
}
