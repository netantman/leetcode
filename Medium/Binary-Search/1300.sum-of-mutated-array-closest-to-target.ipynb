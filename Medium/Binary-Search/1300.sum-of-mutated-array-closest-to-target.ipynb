{
 "cells": [
  {
   "cell_type": "markdown",
   "metadata": {},
   "source": [
    "## Attempt 1 - Wrong Answer"
   ]
  },
  {
   "cell_type": "code",
   "execution_count": null,
   "metadata": {},
   "outputs": [],
   "source": [
    "class Solution:\n",
    "    def findBestValue(self, arr: List[int], target: int) -> int:\n",
    "        left,right=1,10**5  ##--> right should be max of arr, left should be 0\n",
    "        if sum([min(a,left) for a in arr])>=target:\n",
    "            return left\n",
    "        if sum([min(a,right) for a in arr])<target:\n",
    "            return right\n",
    "        while left<right-1:\n",
    "            mid=(left+right)//2\n",
    "            if sum([min(a,mid) for a in arr])<=target:\n",
    "                left=mid\n",
    "            else:\n",
    "                right=mid\n",
    "        if abs(target-sum([min(a,left) for a in arr]))<abs(target-sum([min(a,right) for a in arr])):\n",
    "            return left\n",
    "        else:\n",
    "            return right ## --> when left and right are equal, should return left"
   ]
  },
  {
   "cell_type": "markdown",
   "metadata": {},
   "source": [
    "## Attempt 2 - Accepted"
   ]
  },
  {
   "cell_type": "code",
   "execution_count": null,
   "metadata": {},
   "outputs": [],
   "source": [
    "class Solution:\n",
    "    def findBestValue(self, arr: List[int], target: int) -> int:\n",
    "        left,right=0,max(arr)\n",
    "        if sum([min(a,left) for a in arr])>=target:\n",
    "            return left\n",
    "        if sum([min(a,right) for a in arr])<target:\n",
    "            return right\n",
    "        while left<right-1:\n",
    "            mid=(left+right)//2\n",
    "            if sum([min(a,mid) for a in arr])<=target:\n",
    "                left=mid\n",
    "            else:\n",
    "                right=mid\n",
    "        if abs(target-sum([min(a,left) for a in arr]))<=abs(target-sum([min(a,right) for a in arr])):\n",
    "            return left\n",
    "        else:\n",
    "            return right"
   ]
  },
  {
   "cell_type": "markdown",
   "metadata": {},
   "source": [
    "## Lessons and Thoughts\n",
    "- Straightforward binary serach: but lots of edge cases to consider."
   ]
  }
 ],
 "metadata": {
  "kernelspec": {
   "display_name": "Python 3",
   "language": "python",
   "name": "python3"
  },
  "language_info": {
   "codemirror_mode": {
    "name": "ipython",
    "version": 3
   },
   "file_extension": ".py",
   "mimetype": "text/x-python",
   "name": "python",
   "nbconvert_exporter": "python",
   "pygments_lexer": "ipython3",
   "version": "3.7.3"
  }
 },
 "nbformat": 4,
 "nbformat_minor": 2
}
