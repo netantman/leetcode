{
 "cells": [
  {
   "cell_type": "markdown",
   "metadata": {},
   "source": [
    "## Attempt 1 - Accepted"
   ]
  },
  {
   "cell_type": "code",
   "execution_count": null,
   "metadata": {},
   "outputs": [],
   "source": [
    "# \"\"\"\n",
    "# This is ArrayReader's API interface.\n",
    "# You should not implement it, or speculate about its implementation\n",
    "# \"\"\"\n",
    "#class ArrayReader:\n",
    "#    def get(self, index: int) -> int:\n",
    "\n",
    "class Solution:\n",
    "    def search(self, reader, target):\n",
    "        \"\"\"\n",
    "        :type reader: ArrayReader\n",
    "        :type target: int\n",
    "        :rtype: int\n",
    "        \"\"\"\n",
    "        if reader.get(0) > target:\n",
    "            return -1\n",
    "        \n",
    "        if reader.get(0) == target:\n",
    "            return 0\n",
    "        \n",
    "        MAX = 2 ** 31 - 1\n",
    "        \n",
    "        idx = 1\n",
    "        l, r = 0, None\n",
    "        while r is None:\n",
    "            if reader.get(idx) == target:\n",
    "                return idx\n",
    "            if reader.get(idx) == MAX or reader.get(idx) > target:\n",
    "                r = idx\n",
    "            else:\n",
    "                l = idx\n",
    "            idx *= 2\n",
    "        \n",
    "        while l < r - 1:\n",
    "            m = (l + r) // 2\n",
    "            if reader.get(m) == target:\n",
    "                return m\n",
    "            if reader.get(m) == MAX or reader.get(m) > target:\n",
    "                r = m\n",
    "            else:\n",
    "                l = m\n",
    "        \n",
    "        if reader.get(l) == target:\n",
    "            return l\n",
    "        if reader.get(r) == target:\n",
    "            return r\n",
    "        return -1"
   ]
  },
  {
   "cell_type": "markdown",
   "metadata": {},
   "source": [
    "## Lessons and Thoughts\n",
    "- Easier to think of `array` to have infinite length."
   ]
  }
 ],
 "metadata": {
  "kernelspec": {
   "display_name": "Python 3",
   "language": "python",
   "name": "python3"
  },
  "language_info": {
   "codemirror_mode": {
    "name": "ipython",
    "version": 3
   },
   "file_extension": ".py",
   "mimetype": "text/x-python",
   "name": "python",
   "nbconvert_exporter": "python",
   "pygments_lexer": "ipython3",
   "version": "3.7.3"
  }
 },
 "nbformat": 4,
 "nbformat_minor": 2
}
