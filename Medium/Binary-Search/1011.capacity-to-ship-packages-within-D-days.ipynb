{
 "cells": [
  {
   "cell_type": "markdown",
   "metadata": {},
   "source": [
    "## Attempt 1 - Wrong Answer"
   ]
  },
  {
   "cell_type": "code",
   "execution_count": null,
   "metadata": {},
   "outputs": [],
   "source": [
    "class Solution:\n",
    "    def shipWithinDays(self, weights: List[int], D: int) -> int:\n",
    "        def get_days(weights, capacity):\n",
    "            days=1\n",
    "            c=capacity\n",
    "            for w in weights:\n",
    "                if w<=c:\n",
    "                    c-=w\n",
    "                else:\n",
    "                    days+=1\n",
    "                    c=capacity\n",
    "                    c-=w\n",
    "            return days\n",
    "        \n",
    "        d=get_days(weights,3)\n",
    "        print(d)\n",
    "        \n",
    "        left, right=max(weights), sum(weights)\n",
    "        if D==1:\n",
    "            return right\n",
    "        if D==len(weights):\n",
    "            return left  ## --> this is not enough to rule out left as a solution\n",
    "        while left<right-1:\n",
    "            # print(left, right)\n",
    "            mid=(left+right)//2\n",
    "            if get_days(weights, mid)>D:\n",
    "                left=mid\n",
    "            else:\n",
    "                right=mid\n",
    "        return right"
   ]
  },
  {
   "cell_type": "markdown",
   "metadata": {},
   "source": [
    "## Attempt 2 - Accepted"
   ]
  },
  {
   "cell_type": "code",
   "execution_count": null,
   "metadata": {},
   "outputs": [],
   "source": [
    "class Solution:\n",
    "    def shipWithinDays(self, weights: List[int], D: int) -> int:\n",
    "        def get_days(weights, capacity):\n",
    "            days=1\n",
    "            c=capacity\n",
    "            for w in weights:\n",
    "                if w<=c:\n",
    "                    c-=w\n",
    "                else:\n",
    "                    days+=1\n",
    "                    c=capacity\n",
    "                    c-=w\n",
    "            return days\n",
    "        \n",
    "        left, right=max(weights), sum(weights)\n",
    "        if D==1:\n",
    "            return right\n",
    "        d=get_days(weights,left)\n",
    "        if d<=D:\n",
    "            return left\n",
    "        while left<right-1:\n",
    "            mid=(left+right)//2\n",
    "            if get_days(weights, mid)>D:\n",
    "                left=mid\n",
    "            else:\n",
    "                right=mid\n",
    "        return right"
   ]
  },
  {
   "cell_type": "markdown",
   "metadata": {},
   "source": [
    "## Lessons and Thoughts\n",
    "- Be careful about the boundary conditions."
   ]
  }
 ],
 "metadata": {
  "kernelspec": {
   "display_name": "Python 3",
   "language": "python",
   "name": "python3"
  },
  "language_info": {
   "codemirror_mode": {
    "name": "ipython",
    "version": 3
   },
   "file_extension": ".py",
   "mimetype": "text/x-python",
   "name": "python",
   "nbconvert_exporter": "python",
   "pygments_lexer": "ipython3",
   "version": "3.7.3"
  }
 },
 "nbformat": 4,
 "nbformat_minor": 2
}
