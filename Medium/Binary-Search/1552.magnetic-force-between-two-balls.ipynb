{
 "cells": [
  {
   "cell_type": "markdown",
   "metadata": {},
   "source": [
    "## Attempt 1 - Wrong Answer"
   ]
  },
  {
   "cell_type": "code",
   "execution_count": null,
   "metadata": {},
   "outputs": [],
   "source": [
    "class Solution:\n",
    "    def maxDistance(self, position: List[int], m: int) -> int:\n",
    "        position = sorted(position)\n",
    "        L = len(position)\n",
    "        \n",
    "        def check(dist):\n",
    "            last = position[0]\n",
    "            cnt = 1\n",
    "            for idx in range(1, L):\n",
    "                curr = position[idx]\n",
    "                if curr - last >= dist:\n",
    "                    last = curr\n",
    "                    cnt += 1\n",
    "                if cnt >= m:\n",
    "                    return True\n",
    "            return False\n",
    "        \n",
    "        left, right = 1, position[-1] - position[0] ## --> right is not always impossible in this case\n",
    "        while right - left > 1:\n",
    "            mid = (left + right) // 2\n",
    "            if check(mid):\n",
    "                left = mid\n",
    "            else:\n",
    "                right = mid\n",
    "        return left"
   ]
  },
  {
   "cell_type": "markdown",
   "metadata": {},
   "source": [
    "## Attempt 2 - Accepted"
   ]
  },
  {
   "cell_type": "code",
   "execution_count": null,
   "metadata": {},
   "outputs": [],
   "source": [
    "class Solution:\n",
    "    def maxDistance(self, position: List[int], m: int) -> int:\n",
    "        position = sorted(position)\n",
    "        L = len(position)\n",
    "        \n",
    "        def check(dist):\n",
    "            last = position[0]\n",
    "            cnt = 1\n",
    "            for idx in range(1, L):\n",
    "                curr = position[idx]\n",
    "                if curr - last >= dist:\n",
    "                    last = curr\n",
    "                    cnt += 1\n",
    "                if cnt >= m:\n",
    "                    return True\n",
    "            return False\n",
    "        \n",
    "        left, right = 1, position[-1] - position[0] + 1\n",
    "        while right - left > 1:\n",
    "            mid = (left + right) // 2\n",
    "            if check(mid):\n",
    "                left = mid\n",
    "            else:\n",
    "                right = mid\n",
    "        return left"
   ]
  },
  {
   "cell_type": "markdown",
   "metadata": {},
   "source": [
    "## Lessons and Thoughts\n",
    "- You just need to recognize that all distances need to be tried."
   ]
  }
 ],
 "metadata": {
  "kernelspec": {
   "display_name": "Python 3",
   "language": "python",
   "name": "python3"
  },
  "language_info": {
   "codemirror_mode": {
    "name": "ipython",
    "version": 3
   },
   "file_extension": ".py",
   "mimetype": "text/x-python",
   "name": "python",
   "nbconvert_exporter": "python",
   "pygments_lexer": "ipython3",
   "version": "3.7.3"
  }
 },
 "nbformat": 4,
 "nbformat_minor": 2
}
