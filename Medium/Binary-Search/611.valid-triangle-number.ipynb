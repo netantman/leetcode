{
 "cells": [
  {
   "cell_type": "markdown",
   "metadata": {},
   "source": [
    "## Attempt 1 - Accepted"
   ]
  },
  {
   "cell_type": "code",
   "execution_count": null,
   "metadata": {},
   "outputs": [],
   "source": [
    "class Solution:\n",
    "    def triangleNumber(self, nums: List[int]) -> int:\n",
    "        nums=sorted(nums)\n",
    "        L=len(nums)\n",
    "        if L<=2:\n",
    "            return 0\n",
    "        res=0\n",
    "        for s1 in range(0,L-2):\n",
    "            for s2 in range(s1+1,L-1):\n",
    "                curr=nums[s1]+nums[s2]\n",
    "                if nums[s2+1]>=curr:\n",
    "                    continue\n",
    "                elif nums[L-1]<curr:\n",
    "                    res+=(L-1-s2)\n",
    "                else:\n",
    "                    left,right=s2+1,L-1\n",
    "                    while left<right-1:\n",
    "                        mid=(left+right)//2\n",
    "                        if nums[mid]<curr:\n",
    "                            left=mid\n",
    "                        else:\n",
    "                            right=mid\n",
    "                    res+=(left-s2)\n",
    "        return res"
   ]
  },
  {
   "cell_type": "markdown",
   "metadata": {},
   "source": [
    "## Lessons and Thoughts\n",
    "- Binary search as optimization."
   ]
  }
 ],
 "metadata": {
  "kernelspec": {
   "display_name": "Python 3",
   "language": "python",
   "name": "python3"
  },
  "language_info": {
   "codemirror_mode": {
    "name": "ipython",
    "version": 3
   },
   "file_extension": ".py",
   "mimetype": "text/x-python",
   "name": "python",
   "nbconvert_exporter": "python",
   "pygments_lexer": "ipython3",
   "version": "3.7.3"
  }
 },
 "nbformat": 4,
 "nbformat_minor": 2
}
