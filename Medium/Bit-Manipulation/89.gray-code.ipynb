{
 "cells": [
  {
   "cell_type": "markdown",
   "metadata": {},
   "source": [
    "## Attempt 1 - Accepted"
   ]
  },
  {
   "cell_type": "code",
   "execution_count": null,
   "metadata": {},
   "outputs": [],
   "source": [
    "class Solution:\n",
    "    def grayCode(self, n: int) -> List[int]:\n",
    "        \n",
    "        if n==0:\n",
    "            return [0]\n",
    "        \n",
    "        def helper(nums):\n",
    "            if len(nums)==2**n:\n",
    "                return True, nums\n",
    "            else:\n",
    "                last=nums[-1]\n",
    "                for idx in range(n):\n",
    "                    temp=last^(1<<idx)\n",
    "                    if temp not in nums:\n",
    "                        res0, res1=helper(nums+[temp])\n",
    "                        if res0:\n",
    "                            return res0, res1\n",
    "                return False, None\n",
    "        \n",
    "        nums=[0]\n",
    "        _, res1=helper(nums)\n",
    "        return res1"
   ]
  },
  {
   "cell_type": "markdown",
   "metadata": {},
   "source": [
    "## Lessons and Thoughts\n",
    "- Bit manipulation is handy! The XOR bit-wise operator `^`.\n",
    "- DFS can be expected to be much faster than BFS in this problem in most cases."
   ]
  }
 ],
 "metadata": {
  "kernelspec": {
   "display_name": "Python 3",
   "language": "python",
   "name": "python3"
  },
  "language_info": {
   "codemirror_mode": {
    "name": "ipython",
    "version": 3
   },
   "file_extension": ".py",
   "mimetype": "text/x-python",
   "name": "python",
   "nbconvert_exporter": "python",
   "pygments_lexer": "ipython3",
   "version": "3.7.3"
  }
 },
 "nbformat": 4,
 "nbformat_minor": 2
}
