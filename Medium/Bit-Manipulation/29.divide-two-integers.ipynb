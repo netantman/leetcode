{
 "cells": [
  {
   "cell_type": "markdown",
   "metadata": {},
   "source": [
    "## Attempt 1 - Accepted"
   ]
  },
  {
   "cell_type": "code",
   "execution_count": null,
   "metadata": {},
   "outputs": [],
   "source": [
    "class Solution:\n",
    "    def divide(self, dividend: int, divisor: int) -> int:\n",
    "        if abs(dividend)<abs(divisor):\n",
    "            return 0\n",
    "        if dividend==0:\n",
    "            return 0\n",
    "        \n",
    "        if ((dividend>0) and (divisor>0)) or ((dividend<0) and (divisor<0)):\n",
    "            sign=1\n",
    "        else:\n",
    "            sign=-1\n",
    "        dividend, divisor=abs(dividend), abs(divisor)\n",
    "        if divisor==1:\n",
    "            if (dividend*sign<-2**31) or (dividend*sign>2**31-1):\n",
    "                return 2**31-1\n",
    "            else:\n",
    "                return dividend*sign\n",
    "        \n",
    "        quotient=0\n",
    "        temp=0\n",
    "        for i in range(31,-1,-1):\n",
    "            if temp+(divisor<<i)<=dividend:\n",
    "                temp+=(divisor<<i)\n",
    "                quotient+=(1<<i)\n",
    "        \n",
    "        return quotient*sign"
   ]
  },
  {
   "cell_type": "markdown",
   "metadata": {},
   "source": [
    "## Lessons and Thoughts\n",
    "- This algorithm is from [here](https://www.geeksforgeeks.org/divide-two-integers-without-using-multiplication-division-mod-operator/), probably already a follow-up answer\n",
    "    - When multiplication and division are off the table, you still have `<<` and `>>` for binary operations."
   ]
  }
 ],
 "metadata": {
  "kernelspec": {
   "display_name": "Python 3",
   "language": "python",
   "name": "python3"
  },
  "language_info": {
   "codemirror_mode": {
    "name": "ipython",
    "version": 3
   },
   "file_extension": ".py",
   "mimetype": "text/x-python",
   "name": "python",
   "nbconvert_exporter": "python",
   "pygments_lexer": "ipython3",
   "version": "3.7.3"
  }
 },
 "nbformat": 4,
 "nbformat_minor": 2
}
