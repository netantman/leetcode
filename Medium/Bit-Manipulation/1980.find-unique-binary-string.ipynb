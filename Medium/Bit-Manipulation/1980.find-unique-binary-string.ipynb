{
 "cells": [
  {
   "cell_type": "markdown",
   "metadata": {},
   "source": [
    "## Attempt 1 - Accepted"
   ]
  },
  {
   "cell_type": "code",
   "execution_count": null,
   "metadata": {},
   "outputs": [],
   "source": [
    "class Solution:\n",
    "    def findDifferentBinaryString(self, nums: List[str]) -> str:\n",
    "        n = len(nums)\n",
    "        record = [False for _ in range(2 ** n)]\n",
    "        \n",
    "        for num in nums:\n",
    "            record[int('0b' + num, 2)] = True\n",
    "        \n",
    "        for idx, r in enumerate(record):\n",
    "            if not r:\n",
    "                res = bin(idx)[2:]\n",
    "                res = \"0\" * (n - len(res)) + res\n",
    "                return res"
   ]
  },
  {
   "cell_type": "markdown",
   "metadata": {},
   "source": [
    "## Thoughts and Lessons\n",
    "- Just record anything that is already hit."
   ]
  }
 ],
 "metadata": {
  "kernelspec": {
   "display_name": "Python 3",
   "language": "python",
   "name": "python3"
  },
  "language_info": {
   "codemirror_mode": {
    "name": "ipython",
    "version": 3
   },
   "file_extension": ".py",
   "mimetype": "text/x-python",
   "name": "python",
   "nbconvert_exporter": "python",
   "pygments_lexer": "ipython3",
   "version": "3.7.3"
  }
 },
 "nbformat": 4,
 "nbformat_minor": 2
}
