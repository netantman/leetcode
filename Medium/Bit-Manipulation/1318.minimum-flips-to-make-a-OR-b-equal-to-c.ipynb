{
 "cells": [
  {
   "cell_type": "markdown",
   "metadata": {},
   "source": [
    "## Attempt 1 - Wrong Answer"
   ]
  },
  {
   "cell_type": "code",
   "execution_count": null,
   "metadata": {},
   "outputs": [],
   "source": [
    "class Solution:\n",
    "    def minFlips(self, a: int, b: int, c: int) -> int:\n",
    "        a,b,c=bin(a),bin(b),bin(c)\n",
    "        a,b,c=a[2:],b[2:],c[2:]\n",
    "        L=max(len(a),len(b),len(c))\n",
    "        while len(a)<L:\n",
    "            a=\"0\"+a\n",
    "        while len(b)<L:\n",
    "            b=\"0\"+b\n",
    "        while len(c)<L:\n",
    "            c=\"0\"+c\n",
    "        \n",
    "        cnt=0\n",
    "        for idx in range(L-1,-1,-1):\n",
    "            if int(a[idx])+int(b[idx])<0.1 and c[idx]==\"1\":\n",
    "                cnt+=1\n",
    "            elif int(a[idx])+int(b[idx])>1.9 and c[idx]==\"0\":\n",
    "                cnt+=2\n",
    "        return cnt"
   ]
  },
  {
   "cell_type": "markdown",
   "metadata": {},
   "source": [
    "## Attempt 2 - Accepted"
   ]
  },
  {
   "cell_type": "code",
   "execution_count": null,
   "metadata": {},
   "outputs": [],
   "source": [
    "class Solution:\n",
    "    def minFlips(self, a: int, b: int, c: int) -> int:\n",
    "        a,b,c=bin(a),bin(b),bin(c)\n",
    "        a,b,c=a[2:],b[2:],c[2:]\n",
    "        L=max(len(a),len(b),len(c))\n",
    "        while len(a)<L:\n",
    "            a=\"0\"+a\n",
    "        while len(b)<L:\n",
    "            b=\"0\"+b\n",
    "        while len(c)<L:\n",
    "            c=\"0\"+c\n",
    "\n",
    "        cnt=0\n",
    "        for idx in range(L-1,-1,-1):\n",
    "            if c[idx]==\"1\": \n",
    "                if int(a[idx])+int(b[idx])<0.1:\n",
    "                    cnt+=1\n",
    "            else:\n",
    "                if int(a[idx])+int(b[idx])>1.9:\n",
    "                    cnt+=2\n",
    "                elif int(a[idx])+int(b[idx])>0.1:\n",
    "                    cnt+=1\n",
    "        return cnt"
   ]
  },
  {
   "cell_type": "markdown",
   "metadata": {},
   "source": [
    "## Lessons and Thoughts\n",
    "- One thing to handle is to make sure all three numbers have the same number of digits."
   ]
  }
 ],
 "metadata": {
  "kernelspec": {
   "display_name": "Python 3",
   "language": "python",
   "name": "python3"
  },
  "language_info": {
   "codemirror_mode": {
    "name": "ipython",
    "version": 3
   },
   "file_extension": ".py",
   "mimetype": "text/x-python",
   "name": "python",
   "nbconvert_exporter": "python",
   "pygments_lexer": "ipython3",
   "version": "3.7.3"
  }
 },
 "nbformat": 4,
 "nbformat_minor": 2
}
