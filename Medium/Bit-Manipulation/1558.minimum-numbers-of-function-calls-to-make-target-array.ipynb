{
 "cells": [
  {
   "cell_type": "markdown",
   "metadata": {},
   "source": [
    "## Attempt 1 - Accepted"
   ]
  },
  {
   "cell_type": "code",
   "execution_count": null,
   "metadata": {},
   "outputs": [],
   "source": [
    "class Solution:\n",
    "    def minOperations(self, nums: List[int]) -> int:\n",
    "        idx = 0\n",
    "        cnt = 0\n",
    "        leading = 0\n",
    "        while idx <= 32:\n",
    "            mask = (1 << idx)\n",
    "            curr = [1 if (n & mask) > 0 else 0 for n in nums]\n",
    "            if sum(curr) > 0:\n",
    "                cnt += sum(curr)\n",
    "                leading = idx\n",
    "            idx += 1\n",
    "        cnt += leading\n",
    "        return cnt"
   ]
  },
  {
   "cell_type": "markdown",
   "metadata": {},
   "source": [
    "## Lessons and Thoughts\n",
    "- The idea is, first consider all `nums` in binary form, then recognize all 1s on the same digit across `nums` should be added in between multiplying."
   ]
  }
 ],
 "metadata": {
  "kernelspec": {
   "display_name": "Python 3",
   "language": "python",
   "name": "python3"
  },
  "language_info": {
   "codemirror_mode": {
    "name": "ipython",
    "version": 3
   },
   "file_extension": ".py",
   "mimetype": "text/x-python",
   "name": "python",
   "nbconvert_exporter": "python",
   "pygments_lexer": "ipython3",
   "version": "3.7.3"
  }
 },
 "nbformat": 4,
 "nbformat_minor": 2
}
