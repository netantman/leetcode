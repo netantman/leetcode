{
 "cells": [
  {
   "cell_type": "markdown",
   "metadata": {},
   "source": [
    "## Attempt 1 - Accepted"
   ]
  },
  {
   "cell_type": "code",
   "execution_count": null,
   "metadata": {},
   "outputs": [],
   "source": [
    "class Solution:\n",
    "    def decode(self, encoded: List[int]) -> List[int]:\n",
    "        evens = encoded[1::2]\n",
    "        n = len(encoded) + 1\n",
    "        s = 1\n",
    "        for m in range(2, n + 1):\n",
    "            s ^= m\n",
    "        head = s\n",
    "        for e in evens:\n",
    "            head ^= e\n",
    "        \n",
    "        res = [head]\n",
    "        for e in encoded:\n",
    "            res.append(res[-1]^e)\n",
    "        return res"
   ]
  },
  {
   "cell_type": "markdown",
   "metadata": {},
   "source": [
    "## Lessons and Thoughts\n",
    "- The idea is to recognize that since there are odd number of elements and you know it is a permutation of 1 through n, you can recover the first element. Then it is simple."
   ]
  }
 ],
 "metadata": {
  "kernelspec": {
   "display_name": "Python 3",
   "language": "python",
   "name": "python3"
  },
  "language_info": {
   "codemirror_mode": {
    "name": "ipython",
    "version": 3
   },
   "file_extension": ".py",
   "mimetype": "text/x-python",
   "name": "python",
   "nbconvert_exporter": "python",
   "pygments_lexer": "ipython3",
   "version": "3.7.3"
  }
 },
 "nbformat": 4,
 "nbformat_minor": 2
}
