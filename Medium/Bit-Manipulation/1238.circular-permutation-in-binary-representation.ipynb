{
 "cells": [
  {
   "cell_type": "markdown",
   "metadata": {},
   "source": [
    "## Attempt 1 - Accepted"
   ]
  },
  {
   "cell_type": "code",
   "execution_count": null,
   "metadata": {},
   "outputs": [],
   "source": [
    "class Solution:\n",
    "    def circularPermutation(self, n: int, start: int) -> List[int]:\n",
    "        k=1\n",
    "        seq=[\"0\",\"1\"]\n",
    "        while k<n:\n",
    "            seq=[\"0\"+s for s in seq] + [\"1\"+s for s in seq[::-1]]\n",
    "            k+=1\n",
    "        seq=[int(\"0b\"+s,2) for s in seq]\n",
    "        idx=0\n",
    "        L=len(seq)\n",
    "        while idx<L:\n",
    "            if seq[idx]==start:\n",
    "                break\n",
    "            else:\n",
    "                idx+=1\n",
    "        return seq[idx:]+seq[:idx]"
   ]
  },
  {
   "cell_type": "markdown",
   "metadata": {},
   "source": [
    "## Lessons and Thoughts\n",
    "- Similar to Problem 89\n",
    "- To transfer binary string `\"0b...\"` to an int, simply to `int()`. Alternatively, you can do `<<` or `>>`."
   ]
  }
 ],
 "metadata": {
  "kernelspec": {
   "display_name": "Python 3",
   "language": "python",
   "name": "python3"
  },
  "language_info": {
   "codemirror_mode": {
    "name": "ipython",
    "version": 3
   },
   "file_extension": ".py",
   "mimetype": "text/x-python",
   "name": "python",
   "nbconvert_exporter": "python",
   "pygments_lexer": "ipython3",
   "version": "3.7.3"
  }
 },
 "nbformat": 4,
 "nbformat_minor": 2
}
