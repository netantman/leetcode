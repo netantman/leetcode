{
 "cells": [
  {
   "cell_type": "markdown",
   "metadata": {},
   "source": [
    "## Attempt 1 - Accepted"
   ]
  },
  {
   "cell_type": "code",
   "execution_count": null,
   "metadata": {},
   "outputs": [],
   "source": [
    "class Solution:\n",
    "    def singleNumber(self, nums: List[int]) -> List[int]:\n",
    "        if len(nums)==2:\n",
    "            return nums\n",
    "        \n",
    "        temp=0\n",
    "        for n in nums:\n",
    "            temp^=n\n",
    "        pos=0\n",
    "        while (1<<pos)&temp<1:\n",
    "            pos+=1\n",
    "        divider=(1<<pos)\n",
    "        res=[0,0]\n",
    "        for n in nums:\n",
    "            if divider&n>0:\n",
    "                res[0]^=n\n",
    "            else:\n",
    "                res[1]^=n\n",
    "        return res"
   ]
  },
  {
   "cell_type": "markdown",
   "metadata": {},
   "source": [
    "## Lessons and Thoughts\n",
    "- The above algo solves the follow-up question and description is from [here](https://www.cnblogs.com/grandyang/p/4741122.html). These bit-manipulation is so tricky, and I doubt if I can come up with anything new if I have not seen it before."
   ]
  }
 ],
 "metadata": {
  "kernelspec": {
   "display_name": "Python 3",
   "language": "python",
   "name": "python3"
  },
  "language_info": {
   "codemirror_mode": {
    "name": "ipython",
    "version": 3
   },
   "file_extension": ".py",
   "mimetype": "text/x-python",
   "name": "python",
   "nbconvert_exporter": "python",
   "pygments_lexer": "ipython3",
   "version": "3.7.3"
  }
 },
 "nbformat": 4,
 "nbformat_minor": 2
}
