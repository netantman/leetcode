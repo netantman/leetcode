{
 "cells": [
  {
   "cell_type": "markdown",
   "metadata": {},
   "source": [
    "## Attempt 1 - Wrong Answer"
   ]
  },
  {
   "cell_type": "code",
   "execution_count": null,
   "metadata": {},
   "outputs": [],
   "source": [
    "class Solution:\n",
    "    def myPow(self, x: float, n: int) -> float:\n",
    "        if n==0:\n",
    "            return x  ## --> wrong edge case!!\n",
    "        \n",
    "        if n>0:\n",
    "            res=1\n",
    "            power=x\n",
    "            for i in range(0, 32):\n",
    "                if n&(1>>i)>0:   ## --> 2**i is 2<<i, not 2>>i\n",
    "                    res*=power\n",
    "                power*=power\n",
    "        else:\n",
    "            res=1\n",
    "            m=-n\n",
    "            power=x\n",
    "            for j in range(0, 32):\n",
    "                if m&(1>>j)>0:   ## --> same as above\n",
    "                    res/=power\n",
    "                power*=power\n",
    "        \n",
    "        return res"
   ]
  },
  {
   "cell_type": "markdown",
   "metadata": {},
   "source": [
    "## Attempt 2 - Accepted"
   ]
  },
  {
   "cell_type": "code",
   "execution_count": null,
   "metadata": {},
   "outputs": [],
   "source": [
    "class Solution:\n",
    "    def myPow(self, x: float, n: int) -> float:\n",
    "        if n==0:\n",
    "            return 1\n",
    "        \n",
    "        if n>0:\n",
    "            res=1\n",
    "            power=x\n",
    "            for i in range(0, 32):\n",
    "                if (n&(1<<i))>0:\n",
    "                    res*=power\n",
    "                power*=power\n",
    "        else:\n",
    "            res=1\n",
    "            m=-n\n",
    "            power=x\n",
    "            for j in range(0, 32):\n",
    "                if (m&(1<<j))>0:\n",
    "                    res/=power\n",
    "                power*=power\n",
    "        \n",
    "        return res\n",
    "            "
   ]
  },
  {
   "cell_type": "markdown",
   "metadata": {},
   "source": [
    "## Lessons and Thoughts\n",
    "- Be careful about edge cases, though they may be very simple.\n",
    "- $2^x$ is `1<<x`."
   ]
  }
 ],
 "metadata": {
  "kernelspec": {
   "display_name": "Python 3",
   "language": "python",
   "name": "python3"
  },
  "language_info": {
   "codemirror_mode": {
    "name": "ipython",
    "version": 3
   },
   "file_extension": ".py",
   "mimetype": "text/x-python",
   "name": "python",
   "nbconvert_exporter": "python",
   "pygments_lexer": "ipython3",
   "version": "3.7.3"
  }
 },
 "nbformat": 4,
 "nbformat_minor": 2
}
