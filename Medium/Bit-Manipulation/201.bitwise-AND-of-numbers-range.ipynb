{
 "cells": [
  {
   "cell_type": "markdown",
   "metadata": {},
   "source": [
    "## Attempt 1 - Time Limit Exceeded"
   ]
  },
  {
   "cell_type": "code",
   "execution_count": null,
   "metadata": {},
   "outputs": [],
   "source": [
    "class Solution:\n",
    "    def rangeBitwiseAnd(self, m: int, n: int) -> int:\n",
    "        if m==0:\n",
    "            return 0\n",
    "        res=n\n",
    "        for idx in range(m,n):\n",
    "            res&=idx ## --> looping through all numbers in range does not work\n",
    "        return res"
   ]
  },
  {
   "cell_type": "markdown",
   "metadata": {},
   "source": [
    "## Attempt 2 - Accepted"
   ]
  },
  {
   "cell_type": "code",
   "execution_count": null,
   "metadata": {},
   "outputs": [],
   "source": [
    "class Solution:\n",
    "    def rangeBitwiseAnd(self, m: int, n: int) -> int:\n",
    "        \n",
    "        def getMSB(n):\n",
    "            res=-1\n",
    "            while n>0:\n",
    "                n=n>>1\n",
    "                res+=1\n",
    "            return res\n",
    "        \n",
    "        res=0\n",
    "        while m>0 and n>0:\n",
    "            mMSB=getMSB(m)\n",
    "            nMSB=getMSB(n)\n",
    "            if mMSB!=nMSB:\n",
    "                break\n",
    "            temp=(1<<mMSB)\n",
    "            res+=temp\n",
    "            m-=temp\n",
    "            n-=temp\n",
    "        \n",
    "        return res"
   ]
  },
  {
   "cell_type": "markdown",
   "metadata": {},
   "source": [
    "## Lessons and Thoughts\n",
    "- The approach, which based on whether `m` and `n` share a `1` on each digit, is from [here](https://www.geeksforgeeks.org/bitwise-and-or-of-a-range/).\n",
    "- When `x` is 1, `x>>1` will produce 0, rather than 0.5."
   ]
  }
 ],
 "metadata": {
  "kernelspec": {
   "display_name": "Python 3",
   "language": "python",
   "name": "python3"
  },
  "language_info": {
   "codemirror_mode": {
    "name": "ipython",
    "version": 3
   },
   "file_extension": ".py",
   "mimetype": "text/x-python",
   "name": "python",
   "nbconvert_exporter": "python",
   "pygments_lexer": "ipython3",
   "version": "3.7.3"
  }
 },
 "nbformat": 4,
 "nbformat_minor": 2
}
