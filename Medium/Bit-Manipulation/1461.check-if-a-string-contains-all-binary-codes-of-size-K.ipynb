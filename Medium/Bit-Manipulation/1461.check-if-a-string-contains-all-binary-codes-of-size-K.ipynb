{
 "cells": [
  {
   "cell_type": "markdown",
   "metadata": {},
   "source": [
    "## Attempt 1 - Accepted"
   ]
  },
  {
   "cell_type": "code",
   "execution_count": null,
   "metadata": {},
   "outputs": [],
   "source": [
    "class Solution:\n",
    "    def hasAllCodes(self, s: str, k: int) -> bool:\n",
    "        record = set()\n",
    "        L = len(s)\n",
    "        if L<k:\n",
    "            return False\n",
    "        for idx in range(L-k+1):\n",
    "            record.add(s[idx:idx+k])\n",
    "            if len(record) == 2**k:\n",
    "                return True\n",
    "        print(record)\n",
    "        return False"
   ]
  },
  {
   "cell_type": "markdown",
   "metadata": {},
   "source": [
    "## Lessons and Thoughts\n",
    "- The idea is just to check all `k` substring and see if we have all required."
   ]
  }
 ],
 "metadata": {
  "kernelspec": {
   "display_name": "Python 3",
   "language": "python",
   "name": "python3"
  },
  "language_info": {
   "codemirror_mode": {
    "name": "ipython",
    "version": 3
   },
   "file_extension": ".py",
   "mimetype": "text/x-python",
   "name": "python",
   "nbconvert_exporter": "python",
   "pygments_lexer": "ipython3",
   "version": "3.7.3"
  }
 },
 "nbformat": 4,
 "nbformat_minor": 2
}
