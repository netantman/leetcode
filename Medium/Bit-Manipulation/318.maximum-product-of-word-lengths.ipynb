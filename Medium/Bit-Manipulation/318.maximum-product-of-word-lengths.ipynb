{
 "cells": [
  {
   "cell_type": "markdown",
   "metadata": {},
   "source": [
    "## Attempt 1 - Accepted"
   ]
  },
  {
   "cell_type": "code",
   "execution_count": null,
   "metadata": {},
   "outputs": [],
   "source": [
    "class Solution:\n",
    "    def maxProduct(self, words: List[str]) -> int:\n",
    "        L=len(words)\n",
    "        if L<=1:\n",
    "            return 0\n",
    "        records=[0 for _ in range(L)]\n",
    "        letters={\"a\":0, \"b\": 1, \"c\":3, \"d\":4, \"e\":5,\n",
    "                 \"f\":6, \"g\":7, \"h\":8, \"i\":9, \"j\":10,\n",
    "                 \"k\":11, \"l\":12, \"m\":13, \"n\":14, \"o\":15,\n",
    "                 \"p\":16, \"q\":17, \"r\":18, \"s\":19, \"t\":20,\n",
    "                 \"u\":21, \"v\":22, \"w\":23, \"x\":24, \"y\":25,\n",
    "                 \"z\":26}\n",
    "        for idx in range(L):\n",
    "            word=words[idx]\n",
    "            for c in word:\n",
    "                records[idx]|=(1<<letters[c])\n",
    "        \n",
    "        res=0\n",
    "        for i1 in range(L):\n",
    "            for i2 in range(i1+1, L):\n",
    "                l1, l2=len(words[i1]), len(words[i2])\n",
    "                r1, r2=records[i1], records[i2]\n",
    "                if r1&r2==0:\n",
    "                    res=max(l1*l2, res)\n",
    "        \n",
    "        return res"
   ]
  },
  {
   "cell_type": "markdown",
   "metadata": {},
   "source": [
    "## Lessons and Thoughts\n",
    "- Using bit to record appearing letters."
   ]
  }
 ],
 "metadata": {
  "kernelspec": {
   "display_name": "Python 3",
   "language": "python",
   "name": "python3"
  },
  "language_info": {
   "codemirror_mode": {
    "name": "ipython",
    "version": 3
   },
   "file_extension": ".py",
   "mimetype": "text/x-python",
   "name": "python",
   "nbconvert_exporter": "python",
   "pygments_lexer": "ipython3",
   "version": "3.7.3"
  }
 },
 "nbformat": 4,
 "nbformat_minor": 2
}
