{
 "cells": [
  {
   "cell_type": "markdown",
   "metadata": {},
   "source": [
    "## Attempt 1 - Wrong Answer"
   ]
  },
  {
   "cell_type": "code",
   "execution_count": null,
   "metadata": {},
   "outputs": [],
   "source": [
    "class Solution:\n",
    "    def canMakePaliQueries(self, s: str, queries: List[List[int]]) -> List[bool]:\n",
    "        res=[]\n",
    "        for q in queries:\n",
    "            left, right, k=tuple(q)\n",
    "            sub=s[left:right+1]\n",
    "            cnt=sum([1 if s!=r else 0 for s,r in zip(sub, reversed(sub))]) ## --> you can rearrange the substring\n",
    "            cnt=cnt//2\n",
    "            res.append(cnt<=k)\n",
    "        return res"
   ]
  },
  {
   "cell_type": "markdown",
   "metadata": {},
   "source": [
    "## Attempt 2 - Time Limit Exceeded"
   ]
  },
  {
   "cell_type": "code",
   "execution_count": null,
   "metadata": {},
   "outputs": [],
   "source": [
    "class Solution:\n",
    "    def canMakePaliQueries(self, s: str, queries: List[List[int]]) -> List[bool]:\n",
    "        def get_odd(sub):\n",
    "            record=[0 for _ in range(26)]\n",
    "            for c in sub:\n",
    "                record[ord(c)-ord(\"a\")]+=1\n",
    "            odds=[r for r in record if r%2>0]\n",
    "            return len(odds)//2\n",
    "        res=[]\n",
    "        for q in queries:\n",
    "            left, right, k=tuple(q)\n",
    "            sub=s[left:right+1]\n",
    "            cnt=get_odd(sub)\n",
    "            res.append(cnt<=k)\n",
    "        return res"
   ]
  },
  {
   "cell_type": "markdown",
   "metadata": {},
   "source": [
    "## Attempt 3 - Accepted"
   ]
  },
  {
   "cell_type": "code",
   "execution_count": null,
   "metadata": {},
   "outputs": [],
   "source": [
    "class Solution:\n",
    "    def canMakePaliQueries(self, s: str, queries: List[List[int]]) -> List[bool]:\n",
    "        def get_cnt(sub):\n",
    "            cnt=0\n",
    "            for idx in range(26):\n",
    "                if (sub&(1<<idx))>0:\n",
    "                    cnt+=1\n",
    "            return cnt\n",
    "        cumsum=[0]\n",
    "        for idx,c in enumerate(s):\n",
    "            cumsum.append(cumsum[-1]^(1<<(ord(c)-ord(\"a\"))))\n",
    "        res=[]\n",
    "        for q in queries:\n",
    "            left, right, k=tuple(q)\n",
    "            if k>=13:\n",
    "                res.append(True)\n",
    "            else:\n",
    "                sub=cumsum[right+1]\n",
    "                if left>0:\n",
    "                    sub^=cumsum[left]\n",
    "                cnt=get_cnt(sub)\n",
    "                res.append(cnt<=2*k+1)\n",
    "        return res"
   ]
  },
  {
   "cell_type": "markdown",
   "metadata": {},
   "source": [
    "## Lessons and Thoughts\n",
    "- The accepted algo is from the app. Basically it makes use of bit numbers to make a cumsum so that the tally is more effcient."
   ]
  }
 ],
 "metadata": {
  "kernelspec": {
   "display_name": "Python 3",
   "language": "python",
   "name": "python3"
  },
  "language_info": {
   "codemirror_mode": {
    "name": "ipython",
    "version": 3
   },
   "file_extension": ".py",
   "mimetype": "text/x-python",
   "name": "python",
   "nbconvert_exporter": "python",
   "pygments_lexer": "ipython3",
   "version": "3.7.3"
  }
 },
 "nbformat": 4,
 "nbformat_minor": 2
}
