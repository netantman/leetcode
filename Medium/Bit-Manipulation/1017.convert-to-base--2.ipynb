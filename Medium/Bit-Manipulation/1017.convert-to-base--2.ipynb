{
 "cells": [
  {
   "cell_type": "markdown",
   "metadata": {},
   "source": [
    "## Attempt 1 - Wrong Answer"
   ]
  },
  {
   "cell_type": "code",
   "execution_count": null,
   "metadata": {},
   "outputs": [],
   "source": [
    "class Solution:\n",
    "    def baseNeg2(self, N: int) -> str:\n",
    "        N_bin=bin(N)[2:]\n",
    "        N_bin=[int(c) for c in N_bin]\n",
    "        upper=35\n",
    "        N_bin=[0]*(upper-len(N_bin))+N_bin\n",
    "        res=[n for n in N_bin]\n",
    "        for idx in reversed(range(1,upper)):\n",
    "            if (upper-1-idx)%2>0 and N_bin[idx]==1:\n",
    "                res[idx-1]+=1\n",
    "        for idx in reversed(range(1,upper)):\n",
    "            if res[idx]>1:\n",
    "                if res[idx-1]>0:\n",
    "                    res[idx-1]-=1\n",
    "                    res[idx]=0\n",
    "                else:\n",
    "                    res[idx-1]+=1\n",
    "                    res[idx-2]+=1\n",
    "                    res[idx]=0\n",
    "        while res[0]==0:\n",
    "            res.pop(0)\n",
    "        return \"\".join([str(r) for r in res])"
   ]
  },
  {
   "cell_type": "markdown",
   "metadata": {},
   "source": [
    "## Attempt 2 - Accepted"
   ]
  },
  {
   "cell_type": "code",
   "execution_count": null,
   "metadata": {},
   "outputs": [],
   "source": [
    "class Solution:\n",
    "    def baseNeg2(self, N: int) -> str:\n",
    "        if N==0:\n",
    "            return \"0\"\n",
    "        elif N==1:\n",
    "            return \"1\"\n",
    "        N_bin=bin(N)[2:]\n",
    "        N_bin=[int(c) for c in N_bin]\n",
    "        upper=35\n",
    "        N_bin=[0]*(upper-len(N_bin))+N_bin\n",
    "        res=[n for n in N_bin]\n",
    "        for idx in reversed(range(1,upper)):\n",
    "            if (upper-1-idx)%2>0 and N_bin[idx]==1:\n",
    "                res[idx-1]+=1\n",
    "        for idx in reversed(range(1,upper)):\n",
    "            if res[idx]>1:\n",
    "                if res[idx-1]>0:\n",
    "                    res[idx-1]-=1\n",
    "                    res[idx]=0\n",
    "                else:\n",
    "                    res[idx-1]+=1\n",
    "                    res[idx-2]+=1\n",
    "                    res[idx]=0\n",
    "        while res[0]==0:\n",
    "            res.pop(0)\n",
    "        return \"\".join([str(r) for r in res])"
   ]
  },
  {
   "cell_type": "markdown",
   "metadata": {},
   "source": [
    "## Lessons and Thoughts\n",
    "- The key is to construct the binary number first. And then tranlate to `-2` based allowed some digits to be 2. Then adjust, and note that in the process it is only possible for `-2`, `-8`, `-32`... digits to be more than 1."
   ]
  }
 ],
 "metadata": {
  "kernelspec": {
   "display_name": "Python 3",
   "language": "python",
   "name": "python3"
  },
  "language_info": {
   "codemirror_mode": {
    "name": "ipython",
    "version": 3
   },
   "file_extension": ".py",
   "mimetype": "text/x-python",
   "name": "python",
   "nbconvert_exporter": "python",
   "pygments_lexer": "ipython3",
   "version": "3.7.3"
  }
 },
 "nbformat": 4,
 "nbformat_minor": 2
}
