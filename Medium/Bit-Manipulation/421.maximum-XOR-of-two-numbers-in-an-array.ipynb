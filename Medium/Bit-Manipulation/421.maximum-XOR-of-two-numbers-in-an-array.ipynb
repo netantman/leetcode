{
 "cells": [
  {
   "cell_type": "markdown",
   "metadata": {},
   "source": [
    "## Attempt 1 - Time Limit Exceeded"
   ]
  },
  {
   "cell_type": "code",
   "execution_count": null,
   "metadata": {},
   "outputs": [],
   "source": [
    "class Solution:\n",
    "    def findMaximumXOR(self, nums: List[int]) -> int:\n",
    "        maxx=0\n",
    "        for n in nums:\n",
    "            for m in nums:\n",
    "                maxx=max(maxx, m^n)\n",
    "        return maxx"
   ]
  },
  {
   "cell_type": "markdown",
   "metadata": {},
   "source": [
    "## Attempt 2 - Accepted"
   ]
  },
  {
   "cell_type": "code",
   "execution_count": null,
   "metadata": {},
   "outputs": [],
   "source": [
    "class Solution:\n",
    "    def findMaximumXOR(self, nums: List[int]) -> int:\n",
    "        maxx=0\n",
    "        mask=0\n",
    "        \n",
    "        for idx in range(30,-1,-1):\n",
    "            mask|=(1<<idx)\n",
    "            prefix=set()\n",
    "            for n in nums:\n",
    "                prefix.add(n&mask)\n",
    "            new=maxx|(1<<idx)\n",
    "            for p in prefix:\n",
    "                if new^p in prefix:\n",
    "                    maxx=new\n",
    "        \n",
    "        return maxx"
   ]
  },
  {
   "cell_type": "markdown",
   "metadata": {},
   "source": [
    "## Lessons and Thoughts\n",
    "- The brute force algo expectedly TLE.\n",
    "- The accepted algo is from [here](https://www.geeksforgeeks.org/maximum-xor-of-two-numbers-in-an-array/). Some key points:\n",
    "    - The maximum should be first sought from the most significant bit.\n",
    "    - `new` at any given round is the possible max if the bit in question is $1$."
   ]
  }
 ],
 "metadata": {
  "kernelspec": {
   "display_name": "Python 3",
   "language": "python",
   "name": "python3"
  },
  "language_info": {
   "codemirror_mode": {
    "name": "ipython",
    "version": 3
   },
   "file_extension": ".py",
   "mimetype": "text/x-python",
   "name": "python",
   "nbconvert_exporter": "python",
   "pygments_lexer": "ipython3",
   "version": "3.7.3"
  }
 },
 "nbformat": 4,
 "nbformat_minor": 2
}
