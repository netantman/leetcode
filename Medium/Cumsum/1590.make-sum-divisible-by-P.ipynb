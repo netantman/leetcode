{
 "cells": [
  {
   "cell_type": "markdown",
   "metadata": {},
   "source": [
    "## Attempt 1 - Wrong Answer"
   ]
  },
  {
   "cell_type": "code",
   "execution_count": null,
   "metadata": {},
   "outputs": [],
   "source": [
    "class Solution:\n",
    "    def minSubarray(self, nums: List[int], p: int) -> int:\n",
    "        target = sum(nums) % p\n",
    "        pos = [None for _ in range(p)]\n",
    "        pos[0] = 0\n",
    "        res = float('inf')\n",
    "        cumsum = 0\n",
    "        for idx, n in enumerate(nums, start=1):\n",
    "            cumsum += n\n",
    "            curr = cumsum % p\n",
    "            pos[curr] = idx\n",
    "            if curr < target:\n",
    "                curr += p\n",
    "            if pos[curr - target] is not None:\n",
    "                res = min(res, idx - pos[curr - target])\n",
    "        if res > len(nums): ## --> we are not allowed to delete the whole sequence!\n",
    "            res = -1\n",
    "        return res"
   ]
  },
  {
   "cell_type": "markdown",
   "metadata": {},
   "source": [
    "## Attempt 2 - Time Limit Exceeded/Memory Limit Exceeded"
   ]
  },
  {
   "cell_type": "code",
   "execution_count": null,
   "metadata": {},
   "outputs": [],
   "source": [
    "class Solution:\n",
    "    def minSubarray(self, nums: List[int], p: int) -> int:\n",
    "        target = sum(nums) % p\n",
    "        pos = [None for _ in range(p)]\n",
    "        pos[0] = 0\n",
    "        res = float('inf')\n",
    "        cumsum = 0\n",
    "        for idx, n in enumerate(nums, start=1):\n",
    "            cumsum += n\n",
    "            curr = cumsum % p\n",
    "            pos[curr] = idx\n",
    "            if curr < target:\n",
    "                curr += p\n",
    "            if pos[curr - target] is not None:\n",
    "                res = min(res, idx - pos[curr - target])\n",
    "        if res >= len(nums):\n",
    "            res = -1\n",
    "        return res"
   ]
  },
  {
   "cell_type": "markdown",
   "metadata": {},
   "source": [
    "## Attempt 3 - Accepted"
   ]
  },
  {
   "cell_type": "code",
   "execution_count": null,
   "metadata": {},
   "outputs": [],
   "source": [
    "class Solution:\n",
    "    def minSubarray(self, nums: List[int], p: int) -> int:\n",
    "        target = sum(nums) % p\n",
    "        if target == 0:\n",
    "            return 0\n",
    "        pos = dict()\n",
    "        pos[0] = 0\n",
    "        res = float('inf')\n",
    "        cumsum = 0\n",
    "        for idx, n in enumerate(nums, start=1):\n",
    "            cumsum += n\n",
    "            curr = cumsum % p\n",
    "            pos[curr] = idx\n",
    "            if curr < target:\n",
    "                curr += p\n",
    "            if curr - target in pos:\n",
    "                res = min(res, idx - pos[curr - target])\n",
    "            if res == 1 and res != 0:\n",
    "                return res\n",
    "        if res >= len(nums):\n",
    "            res = -1\n",
    "        return res"
   ]
  },
  {
   "cell_type": "markdown",
   "metadata": {},
   "source": [
    "## Lessons and Thoughts\n",
    "- The algorithm generally works fine, but can do better using `dict` for hashtable, rather than a list."
   ]
  }
 ],
 "metadata": {
  "kernelspec": {
   "display_name": "Python 3 (ipykernel)",
   "language": "python",
   "name": "python3"
  },
  "language_info": {
   "codemirror_mode": {
    "name": "ipython",
    "version": 3
   },
   "file_extension": ".py",
   "mimetype": "text/x-python",
   "name": "python",
   "nbconvert_exporter": "python",
   "pygments_lexer": "ipython3",
   "version": "3.9.7"
  }
 },
 "nbformat": 4,
 "nbformat_minor": 2
}
