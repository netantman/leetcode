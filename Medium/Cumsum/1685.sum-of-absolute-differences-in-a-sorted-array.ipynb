{
 "cells": [
  {
   "cell_type": "markdown",
   "metadata": {},
   "source": [
    "## Attempt 1 - Accepted"
   ]
  },
  {
   "cell_type": "code",
   "execution_count": null,
   "metadata": {},
   "outputs": [],
   "source": [
    "class Solution:\n",
    "    def getSumAbsoluteDifferences(self, nums: List[int]) -> List[int]:\n",
    "        cumsum = [0]\n",
    "        for n in nums:\n",
    "            cumsum.append(n + cumsum[-1])\n",
    "        total = cumsum[-1]\n",
    "        \n",
    "        res = [None for _ in nums]\n",
    "        L = len(res)\n",
    "        for idx, n in enumerate(nums):\n",
    "            res[idx] = idx * n - cumsum[idx] + (total - cumsum[idx]) - (L - idx) * n\n",
    "        \n",
    "        return res"
   ]
  },
  {
   "cell_type": "markdown",
   "metadata": {},
   "source": [
    "## Lessons and Thoughts\n",
    "- `O(n)` using `cumsum`. Just need to align the index"
   ]
  }
 ],
 "metadata": {
  "kernelspec": {
   "display_name": "Python 3 (ipykernel)",
   "language": "python",
   "name": "python3"
  },
  "language_info": {
   "codemirror_mode": {
    "name": "ipython",
    "version": 3
   },
   "file_extension": ".py",
   "mimetype": "text/x-python",
   "name": "python",
   "nbconvert_exporter": "python",
   "pygments_lexer": "ipython3",
   "version": "3.9.7"
  }
 },
 "nbformat": 4,
 "nbformat_minor": 2
}
