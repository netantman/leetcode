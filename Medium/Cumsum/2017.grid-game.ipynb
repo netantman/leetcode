{
 "cells": [
  {
   "cell_type": "markdown",
   "metadata": {},
   "source": [
    "## Attempt 1 - Accepted"
   ]
  },
  {
   "cell_type": "code",
   "execution_count": null,
   "metadata": {},
   "outputs": [],
   "source": [
    "class Solution:\n",
    "    def gridGame(self, grid: List[List[int]]) -> int:\n",
    "        t = [0]\n",
    "        for g in grid[0]:\n",
    "            t.append(t[-1] + g)\n",
    "        \n",
    "        b = [0]\n",
    "        for g in grid[1]:\n",
    "            b.append(b[-1] + g)\n",
    "        \n",
    "        C = len(grid[0])\n",
    "        \n",
    "        return min(max(b[idx], t[-1] - t[idx + 1]) for idx in range(C))"
   ]
  },
  {
   "cell_type": "markdown",
   "metadata": {},
   "source": [
    "## Lessons and Thoughts\n",
    "- The idea is to recognize that the second rebot can only claim what is originally on the bottom-left or top-right, since every element is non-negative."
   ]
  }
 ],
 "metadata": {
  "kernelspec": {
   "display_name": "Python 3 (ipykernel)",
   "language": "python",
   "name": "python3"
  },
  "language_info": {
   "codemirror_mode": {
    "name": "ipython",
    "version": 3
   },
   "file_extension": ".py",
   "mimetype": "text/x-python",
   "name": "python",
   "nbconvert_exporter": "python",
   "pygments_lexer": "ipython3",
   "version": "3.9.7"
  }
 },
 "nbformat": 4,
 "nbformat_minor": 2
}
