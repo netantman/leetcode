{
 "cells": [
  {
   "cell_type": "markdown",
   "metadata": {},
   "source": [
    "## Attempt 1 - Accepted"
   ]
  },
  {
   "cell_type": "code",
   "execution_count": null,
   "metadata": {},
   "outputs": [],
   "source": [
    "class Solution:\n",
    "    def findTheLongestSubstring(self, s: str) -> int:\n",
    "        mapping={\"a\":0, \"e\":1, \"i\":2, \"o\":3, \"u\":4}\n",
    "        cumsum=[[0, 0, 0, 0, 0]]\n",
    "        record=dict()\n",
    "        record[tuple(cumsum[0])]=0\n",
    "        res=0\n",
    "        for c in s:\n",
    "            nexxt=[n for n in cumsum[-1]]\n",
    "            if c in mapping:\n",
    "                nexxt[mapping[c]]=1^nexxt[mapping[c]]\n",
    "            cumsum.append(nexxt)\n",
    "            if tuple(nexxt) not in record:\n",
    "                record[tuple(nexxt)]=len(cumsum)-1\n",
    "            else:\n",
    "                res=max(res, len(cumsum)-1-record[tuple(nexxt)])\n",
    "        return res"
   ]
  },
  {
   "cell_type": "markdown",
   "metadata": {},
   "source": [
    "## Lessons and Thoughts\n",
    "- `record` should be of the position of combination in `cumsum`, so that there is no confusion when calculating substring length."
   ]
  }
 ],
 "metadata": {
  "kernelspec": {
   "display_name": "Python 3 (ipykernel)",
   "language": "python",
   "name": "python3"
  },
  "language_info": {
   "codemirror_mode": {
    "name": "ipython",
    "version": 3
   },
   "file_extension": ".py",
   "mimetype": "text/x-python",
   "name": "python",
   "nbconvert_exporter": "python",
   "pygments_lexer": "ipython3",
   "version": "3.9.7"
  }
 },
 "nbformat": 4,
 "nbformat_minor": 2
}
