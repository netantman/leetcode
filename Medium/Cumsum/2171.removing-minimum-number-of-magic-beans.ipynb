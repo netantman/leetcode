{
 "cells": [
  {
   "cell_type": "markdown",
   "metadata": {},
   "source": [
    "## Attempt 1 - Wrong Answer"
   ]
  },
  {
   "cell_type": "code",
   "execution_count": null,
   "metadata": {},
   "outputs": [],
   "source": [
    "class Solution:\n",
    "    def minimumRemoval(self, beans: List[int]) -> int: ## --> greedy algo is actually wrong\n",
    "        res = 0\n",
    "        while len(beans) > 1:\n",
    "            m, idx = beans[0], 0\n",
    "            for j, b in enumerate(beans[1:], start=1):\n",
    "                if b < m:\n",
    "                    m, idx = b, j\n",
    "            reduced = sum(beans) - len(beans) * m \n",
    "            if reduced < m:\n",
    "                res += reduced\n",
    "                return res\n",
    "            res += beans.pop(idx)\n",
    "        return res"
   ]
  },
  {
   "cell_type": "markdown",
   "metadata": {},
   "source": [
    "## Attempt 2 - Accepted"
   ]
  },
  {
   "cell_type": "code",
   "execution_count": null,
   "metadata": {},
   "outputs": [],
   "source": [
    "class Solution:\n",
    "    def minimumRemoval(self, beans: List[int]) -> int:\n",
    "        beans.sort(reverse=True)\n",
    "        dp = 0\n",
    "        L = len(beans)\n",
    "        cumsum = beans[0]\n",
    "        for idx in range(1, L):\n",
    "            dp = min(cumsum - beans[idx] * idx, beans[idx] + dp)\n",
    "            cumsum += beans[idx]\n",
    "            # print(dp)\n",
    "        return dp"
   ]
  },
  {
   "cell_type": "markdown",
   "metadata": {},
   "source": [
    "## Attempt 3 - Accepted"
   ]
  },
  {
   "cell_type": "code",
   "execution_count": null,
   "metadata": {},
   "outputs": [],
   "source": [
    "class Solution {\n",
    "public:\n",
    "\n",
    "    long long minimumRemoval(vector<int>& beans) {\n",
    "        sort(beans.begin(), beans.end());\n",
    "        \n",
    "        int L = beans.size();\n",
    "        vector<long long> cumsum = {0};\n",
    "        for (auto b : beans) {\n",
    "            cumsum.push_back(cumsum.back() + b);\n",
    "        }\n",
    "        deque<long long> dp = {0};\n",
    "        for (int idx=L-2; idx>=0; idx--) { ## --> to deal with the overflowing problem in C++ requires specific cast to long long - interesting that you can actually do it in the middle of expressions\n",
    "            dp.push_front(min(dp.front() + (long long) beans[idx], cumsum[L] - cumsum[idx + 1] - (long long) beans[idx] * (long long) (L - idx - 1)));\n",
    "        }\n",
    "        return dp.front();\n",
    "        \n",
    "    }\n",
    "};"
   ]
  },
  {
   "cell_type": "markdown",
   "metadata": {},
   "source": [
    "## Lessons and Thoughts\n",
    "- It is actually a bona fide DP problem."
   ]
  }
 ],
 "metadata": {
  "kernelspec": {
   "display_name": "Python 3 (ipykernel)",
   "language": "python",
   "name": "python3"
  },
  "language_info": {
   "codemirror_mode": {
    "name": "ipython",
    "version": 3
   },
   "file_extension": ".py",
   "mimetype": "text/x-python",
   "name": "python",
   "nbconvert_exporter": "python",
   "pygments_lexer": "ipython3",
   "version": "3.9.7"
  }
 },
 "nbformat": 4,
 "nbformat_minor": 2
}
