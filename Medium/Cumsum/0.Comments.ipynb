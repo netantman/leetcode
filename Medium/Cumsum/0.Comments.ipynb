{
 "cells": [
  {
   "cell_type": "markdown",
   "metadata": {},
   "source": [
    "## Ideas"
   ]
  },
  {
   "cell_type": "markdown",
   "metadata": {},
   "source": [
    "The template for one-dimension is as follows"
   ]
  },
  {
   "cell_type": "code",
   "execution_count": null,
   "metadata": {},
   "outputs": [],
   "source": [
    "def cumsum(self, nums):\n",
    "    cumsum=[0]\n",
    "    for n in nums:\n",
    "        cumsum.append(cumsum[-1]+n)\n",
    "    return cumsum"
   ]
  },
  {
   "cell_type": "markdown",
   "metadata": {},
   "source": [
    "The 2-dim template can be seen in Problem 1292."
   ]
  },
  {
   "cell_type": "code",
   "execution_count": null,
   "metadata": {},
   "outputs": [],
   "source": [
    "def __init__(self, mat, threshold):\n",
    "    R, C=len(mat), len(mat[0])\n",
    "    self.R = R\n",
    "    self.C = C\n",
    "    ## two-dimensional cumsum\n",
    "    P = [[0 for _ in range(C + 1)] for _ in range(R + 1) ]\n",
    "    for r in range(1, R + 1):\n",
    "        for c in range(1, C + 1):\n",
    "            P[r][c] = P[r - 1][c] + P[r][c - 1] - P[r - 1][c - 1] + mat[r - 1][c - 1]\n",
    "    self.P = P\n",
    "\n",
    "\n",
    "def getRect(self, x1, y1, x2, y2): ## the sum of mat from the point of (x1, y1) to (x2-1, y2-1)\n",
    "    return self.P[x2][y2] - self.P[x1][y2] - self.P[x2][y1] + self.P[x1][y1]"
   ]
  },
  {
   "cell_type": "markdown",
   "metadata": {},
   "source": [
    "There is also the cumsum of number of overlapping intervals; see Problem 1674. There is at least another problem of this trick: probably 1031."
   ]
  },
  {
   "cell_type": "markdown",
   "metadata": {},
   "source": [
    "`cumsum` can also be used to count if **an element appear in some interval** by setting up a matrix, not just an array of cumsum; see Problem 1906, 1915, 1871 (not in this folder).\n",
    "\n",
    "Or add overlapping intervals on top of each other; see Problem 1943, 370."
   ]
  },
  {
   "cell_type": "markdown",
   "metadata": {},
   "source": [
    "## Traps"
   ]
  },
  {
   "cell_type": "markdown",
   "metadata": {},
   "source": [
    "- Cumsum of XOR is different from usual ones; see Problems 1310, 1442."
   ]
  }
 ],
 "metadata": {
  "kernelspec": {
   "display_name": "Python 3 (ipykernel)",
   "language": "python",
   "name": "python3"
  },
  "language_info": {
   "codemirror_mode": {
    "name": "ipython",
    "version": 3
   },
   "file_extension": ".py",
   "mimetype": "text/x-python",
   "name": "python",
   "nbconvert_exporter": "python",
   "pygments_lexer": "ipython3",
   "version": "3.9.7"
  }
 },
 "nbformat": 4,
 "nbformat_minor": 2
}
