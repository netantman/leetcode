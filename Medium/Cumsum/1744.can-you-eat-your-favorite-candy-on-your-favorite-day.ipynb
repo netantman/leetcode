{
 "cells": [
  {
   "cell_type": "markdown",
   "metadata": {},
   "source": [
    "## Attempt 1 - Wrong Answer"
   ]
  },
  {
   "cell_type": "code",
   "execution_count": null,
   "metadata": {},
   "outputs": [],
   "source": [
    "class Solution:\n",
    "    def canEat(self, candiesCount: List[int], queries: List[List[int]]) -> List[bool]:\n",
    "        cumsum = [0]\n",
    "        for c in candiesCount:\n",
    "            cumsum.append(cumsum[-1] + c)\n",
    "        \n",
    "        res = []\n",
    "        for q in queries:\n",
    "            ty, day, cap = tuple(q)\n",
    "            res.append(cumsum[ty + 1] > day and cumsum[ty] < day * cap) ## --> should be (day + 1) * cap\n",
    "        \n",
    "        return res"
   ]
  },
  {
   "cell_type": "markdown",
   "metadata": {},
   "source": [
    "## Attempt 2 - Accepted"
   ]
  },
  {
   "cell_type": "code",
   "execution_count": null,
   "metadata": {},
   "outputs": [],
   "source": [
    "class Solution:\n",
    "    def canEat(self, candiesCount: List[int], queries: List[List[int]]) -> List[bool]:\n",
    "        cumsum = [0]\n",
    "        for c in candiesCount:\n",
    "            cumsum.append(cumsum[-1] + c)\n",
    "        \n",
    "        res = []\n",
    "        for q in queries:\n",
    "            ty, day, cap = tuple(q)\n",
    "            res.append(cumsum[ty + 1] > day and cumsum[ty] < (day + 1) * cap)\n",
    "        \n",
    "        return res"
   ]
  },
  {
   "cell_type": "markdown",
   "metadata": {},
   "source": [
    "## Lessons and Thoughts\n",
    "- Easy to recognize it is a `cumsum` problem, but it is tricky to get the relation with index right."
   ]
  }
 ],
 "metadata": {
  "kernelspec": {
   "display_name": "Python 3",
   "language": "python",
   "name": "python3"
  },
  "language_info": {
   "codemirror_mode": {
    "name": "ipython",
    "version": 3
   },
   "file_extension": ".py",
   "mimetype": "text/x-python",
   "name": "python",
   "nbconvert_exporter": "python",
   "pygments_lexer": "ipython3",
   "version": "3.7.3"
  }
 },
 "nbformat": 4,
 "nbformat_minor": 2
}
