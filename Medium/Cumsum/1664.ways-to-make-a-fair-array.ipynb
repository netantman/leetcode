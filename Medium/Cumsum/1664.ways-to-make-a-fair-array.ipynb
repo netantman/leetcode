{
 "cells": [
  {
   "cell_type": "markdown",
   "metadata": {},
   "source": [
    "## Attempt 1 - Accepted"
   ]
  },
  {
   "cell_type": "code",
   "execution_count": null,
   "metadata": {},
   "outputs": [],
   "source": [
    "class Solution:\n",
    "    def waysToMakeFair(self, nums: List[int]) -> int:\n",
    "        even = [0]\n",
    "        for idx, n in enumerate(nums):\n",
    "            if idx % 2 < 1:\n",
    "                even.append(even[-1] + n)\n",
    "            else:\n",
    "                even.append(even[-1])\n",
    "        odd = [0]\n",
    "        for idx, n in enumerate(nums):\n",
    "            if idx % 2 > 0:\n",
    "                odd.append(odd[-1] + n)\n",
    "            else:\n",
    "                odd.append(odd[-1])\n",
    "        \n",
    "        def check(idx):\n",
    "            return 1 if odd[idx] + even[-1] - even[idx + 1] == even[idx] + odd[-1] - odd[idx + 1] else 0\n",
    "        \n",
    "        L = len(nums)\n",
    "        return sum(map(check, range(L)))"
   ]
  },
  {
   "cell_type": "markdown",
   "metadata": {},
   "source": [
    "## Lessons and Thoughts\n",
    "- The idea is to recognize that when an element is deleted, the subsequent odd and even sums are reversed. Then to do it efficiently, you need odd and even elements `cumsum`."
   ]
  }
 ],
 "metadata": {
  "kernelspec": {
   "display_name": "Python 3 (ipykernel)",
   "language": "python",
   "name": "python3"
  },
  "language_info": {
   "codemirror_mode": {
    "name": "ipython",
    "version": 3
   },
   "file_extension": ".py",
   "mimetype": "text/x-python",
   "name": "python",
   "nbconvert_exporter": "python",
   "pygments_lexer": "ipython3",
   "version": "3.9.7"
  }
 },
 "nbformat": 4,
 "nbformat_minor": 2
}
