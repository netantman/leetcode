{
 "cells": [
  {
   "cell_type": "markdown",
   "metadata": {},
   "source": [
    "## Attempt 1 - Accepted"
   ]
  },
  {
   "cell_type": "code",
   "execution_count": null,
   "metadata": {},
   "outputs": [],
   "source": [
    "class Solution:\n",
    "    def kConcatenationMaxSum(self, arr: List[int], k: int) -> int:\n",
    "        MODULO = 10 ** 9 + 7\n",
    "        \n",
    "        def min_max(arr):\n",
    "            cumsum = [0]\n",
    "            minn = 0\n",
    "            res = 0\n",
    "            for a in arr:\n",
    "                curr = cumsum[-1] + a\n",
    "                res = max(res, curr - minn)\n",
    "                minn = min(minn, curr)\n",
    "                cumsum.append(curr)\n",
    "            return res\n",
    "        \n",
    "        if k == 1:\n",
    "            return min_max(arr) % MODULO\n",
    "        \n",
    "        if k == 2:\n",
    "            return min_max(arr + arr) % MODULO\n",
    "        \n",
    "        s = sum(arr)\n",
    "        if s > 0:\n",
    "            return max(min_max(arr) + (k - 1) * s, min_max(arr + arr) + (k - 2) * s ) % MODULO\n",
    "        else:\n",
    "            return max(min_max(arr), min_max(arr + arr)) % MODULO"
   ]
  },
  {
   "cell_type": "markdown",
   "metadata": {},
   "source": [
    "## Lessons and Thoughts\n",
    "- Simple cumsum problem - no need to use dp"
   ]
  }
 ],
 "metadata": {
  "kernelspec": {
   "display_name": "Python 3 (ipykernel)",
   "language": "python",
   "name": "python3"
  },
  "language_info": {
   "codemirror_mode": {
    "name": "ipython",
    "version": 3
   },
   "file_extension": ".py",
   "mimetype": "text/x-python",
   "name": "python",
   "nbconvert_exporter": "python",
   "pygments_lexer": "ipython3",
   "version": "3.9.7"
  }
 },
 "nbformat": 4,
 "nbformat_minor": 2
}
