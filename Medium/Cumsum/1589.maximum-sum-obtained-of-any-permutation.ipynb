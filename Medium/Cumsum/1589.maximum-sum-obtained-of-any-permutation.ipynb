{
 "cells": [
  {
   "cell_type": "markdown",
   "metadata": {},
   "source": [
    "## Attempt 1 - Time Limit Exceeded"
   ]
  },
  {
   "cell_type": "code",
   "execution_count": null,
   "metadata": {},
   "outputs": [],
   "source": [
    "class Solution:\n",
    "    def maxSumRangeQuery(self, nums: List[int], requests: List[List[int]]) -> int:\n",
    "        record = [0 for _ in nums]\n",
    "        for request in requests:\n",
    "            for idx in range(request[0], request[1] + 1):\n",
    "                record[idx] += 1\n",
    "        record = sorted(record)\n",
    "        nums = sorted(nums)\n",
    "        return sum([r * n for r, n in zip(record, nums)]) % (10 ** 9 + 7)"
   ]
  },
  {
   "cell_type": "markdown",
   "metadata": {},
   "source": [
    "## Attempt 2 - Accepted"
   ]
  },
  {
   "cell_type": "code",
   "execution_count": null,
   "metadata": {},
   "outputs": [],
   "source": [
    "class Solution:\n",
    "    def maxSumRangeQuery(self, nums: List[int], requests: List[List[int]]) -> int:\n",
    "        MODULO = 10**9 + 7\n",
    "        length = len(nums)\n",
    "        \n",
    "        counts = [0] * length\n",
    "        for start, end in requests:\n",
    "            counts[start] += 1\n",
    "            if end + 1 < length:\n",
    "                counts[end + 1] -= 1\n",
    "        \n",
    "        for i in range(1, length):\n",
    "            counts[i] += counts[i - 1]\n",
    "        \n",
    "        counts.sort()\n",
    "        nums.sort()\n",
    "        \n",
    "        total = sum(num * count for num, count in zip(nums, counts))\n",
    "        return total % MODULO"
   ]
  },
  {
   "cell_type": "markdown",
   "metadata": {},
   "source": [
    "## Attempt 3 - Accepted"
   ]
  },
  {
   "cell_type": "code",
   "execution_count": null,
   "metadata": {},
   "outputs": [],
   "source": [
    "class Solution:\n",
    "    def maxSumRangeQuery(self, nums: List[int], requests: List[List[int]]) -> int:\n",
    "        L = len(nums)\n",
    "        MODULO = (10 ** 9 + 7)\n",
    "        to_sum = [0 for _ in range(L + 1)]\n",
    "        for req in requests:\n",
    "            s, e = tuple(req)\n",
    "            to_sum[s] += 1\n",
    "            to_sum[e + 1] -= 1\n",
    "        cumsum = [0]\n",
    "        for t in to_sum:\n",
    "            cumsum.append(cumsum[-1] + t)\n",
    "        cumsum.pop(0)\n",
    "        cumsum.pop(-1)\n",
    "        \n",
    "        cumsum = sorted(cumsum)\n",
    "        nums = sorted(nums)\n",
    "        res = 0\n",
    "        for c, n in zip(cumsum, nums):\n",
    "            res += ((c * n) % MODULO)\n",
    "        \n",
    "        return res % MODULO"
   ]
  },
  {
   "cell_type": "markdown",
   "metadata": {},
   "source": [
    "## Lessons and Thoughts\n",
    "- Attempt 1 is the brute force to record how many time each point has featured in all segments, hence TLE.\n",
    "- Attempt 2 is from the apps, which is a neat trick in efficiently accomplishing the above. The same could probably be done efficiently via segment tree. Attempt 3 is the same trick, though the `to_sum` is longer, and thus `cumsum` needs to pop both head and tail.\n",
    "- Though this is not a cumsum problem per se, I put it here since this trick could be useful."
   ]
  }
 ],
 "metadata": {
  "kernelspec": {
   "display_name": "Python 3 (ipykernel)",
   "language": "python",
   "name": "python3"
  },
  "language_info": {
   "codemirror_mode": {
    "name": "ipython",
    "version": 3
   },
   "file_extension": ".py",
   "mimetype": "text/x-python",
   "name": "python",
   "nbconvert_exporter": "python",
   "pygments_lexer": "ipython3",
   "version": "3.9.7"
  }
 },
 "nbformat": 4,
 "nbformat_minor": 2
}
