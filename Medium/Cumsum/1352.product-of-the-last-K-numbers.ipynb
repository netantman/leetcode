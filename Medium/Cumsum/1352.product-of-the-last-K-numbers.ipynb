{
 "cells": [
  {
   "cell_type": "markdown",
   "metadata": {},
   "source": [
    "## Attempt 1 - Time Limit Exceeded"
   ]
  },
  {
   "cell_type": "code",
   "execution_count": null,
   "metadata": {},
   "outputs": [],
   "source": [
    "class ProductOfNumbers:\n",
    "\n",
    "    def __init__(self):\n",
    "        self.cnt=0\n",
    "        self.record=dict()\n",
    "        self.record[0]=1\n",
    "\n",
    "    def add(self, num: int) -> None:\n",
    "        self.cnt+=1\n",
    "        for l in range(self.cnt,0,-1):\n",
    "            self.record[l]=self.record[l-1]*num\n",
    "        return\n",
    "\n",
    "    def getProduct(self, k: int) -> int:\n",
    "        return self.record[k] \n",
    "        \n",
    "\n",
    "\n",
    "# Your ProductOfNumbers object will be instantiated and called as such:\n",
    "# obj = ProductOfNumbers()\n",
    "# obj.add(num)\n",
    "# param_2 = obj.getProduct(k)"
   ]
  },
  {
   "cell_type": "markdown",
   "metadata": {},
   "source": [
    "## Attempt 2 - Accepted"
   ]
  },
  {
   "cell_type": "code",
   "execution_count": null,
   "metadata": {},
   "outputs": [],
   "source": [
    "class ProductOfNumbers:\n",
    "\n",
    "    def __init__(self):\n",
    "        self.seq=[1]\n",
    "        \n",
    "    def add(self, num: int) -> None:\n",
    "        if num==0:\n",
    "            self.seq=[1]\n",
    "        else:\n",
    "            self.seq.append(self.seq[-1]*num)\n",
    "\n",
    "    def getProduct(self, k: int) -> int:\n",
    "        if k+1>len(self.seq):\n",
    "            return 0\n",
    "        else:\n",
    "            return self.seq[-1]//self.seq[-(k+1)]\n",
    "        \n",
    "\n",
    "\n",
    "# Your ProductOfNumbers object will be instantiated and called as such:\n",
    "# obj = ProductOfNumbers()\n",
    "# obj.add(num)\n",
    "# param_2 = obj.getProduct(k)"
   ]
  },
  {
   "cell_type": "markdown",
   "metadata": {},
   "source": [
    "## Lessons and Thoughts\n",
    "- The algo is from the apps, as well as the realization that we need to handle zeros."
   ]
  }
 ],
 "metadata": {
  "kernelspec": {
   "display_name": "Python 3",
   "language": "python",
   "name": "python3"
  },
  "language_info": {
   "codemirror_mode": {
    "name": "ipython",
    "version": 3
   },
   "file_extension": ".py",
   "mimetype": "text/x-python",
   "name": "python",
   "nbconvert_exporter": "python",
   "pygments_lexer": "ipython3",
   "version": "3.7.3"
  }
 },
 "nbformat": 4,
 "nbformat_minor": 2
}
