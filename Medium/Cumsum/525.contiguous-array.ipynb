{
 "cells": [
  {
   "cell_type": "markdown",
   "metadata": {},
   "source": [
    "## Attempt 1 - Accepted"
   ]
  },
  {
   "cell_type": "code",
   "execution_count": null,
   "metadata": {},
   "outputs": [],
   "source": [
    "class Solution:\n",
    "    def findMaxLength(self, nums: List[int]) -> int:\n",
    "        L=len(nums)\n",
    "        if L<=1:\n",
    "            return 0\n",
    "        \n",
    "        adj=[n for n in nums]\n",
    "        for idx in range(L):\n",
    "            adj[idx]=1 if nums[idx]>0 else -1\n",
    "        \n",
    "        cumsum=[0 for _ in range(L+1)]\n",
    "        cache=dict()\n",
    "        cache[0]=0\n",
    "        maxx=0\n",
    "        for idx in range(1,L+1):\n",
    "            cumsum[idx]=cumsum[idx-1]+adj[idx-1]\n",
    "            if cumsum[idx] in cache:\n",
    "                maxx=max(maxx, idx-cache[cumsum[idx]])\n",
    "            else:\n",
    "                cache[cumsum[idx]]=idx\n",
    "        return maxx"
   ]
  },
  {
   "cell_type": "markdown",
   "metadata": {},
   "source": [
    "## Lessons and Thoughts\n",
    "- The sub routine to construct `cumsum`."
   ]
  }
 ],
 "metadata": {
  "kernelspec": {
   "display_name": "Python 3",
   "language": "python",
   "name": "python3"
  },
  "language_info": {
   "codemirror_mode": {
    "name": "ipython",
    "version": 3
   },
   "file_extension": ".py",
   "mimetype": "text/x-python",
   "name": "python",
   "nbconvert_exporter": "python",
   "pygments_lexer": "ipython3",
   "version": "3.7.3"
  }
 },
 "nbformat": 4,
 "nbformat_minor": 2
}
