{
 "cells": [
  {
   "cell_type": "markdown",
   "metadata": {},
   "source": [
    "## Attempt 1 - Index Out of Range"
   ]
  },
  {
   "cell_type": "code",
   "execution_count": null,
   "metadata": {},
   "outputs": [],
   "source": [
    "class Solution:\n",
    "    def maxSideLength(self, mat: List[List[int]], threshold: int) -> int:\n",
    "        R,C=len(mat), len(mat[0])\n",
    "        P=[[0 for _ in range(C+1)] for _ in range(R+1) ]\n",
    "        \n",
    "        ## two-dimensional cumsum\n",
    "        for r in range(1,R+1):\n",
    "            for c in range(1,C+1):\n",
    "                P[r][c]=P[r-1][c]+P[r][c-1]-P[r-1][c-1]+mat[r-1][c-1]\n",
    "        def getRect(x1,y1,x2,y2): ## the sum of mat from the point of (x1-1,y1-1) to (x2-1,y2-1); somehow in different flavor of one-dim cumsum\n",
    "            return P[x2][y2]-P[x1-1][y2]-P[x2][y1-1]+P[x1-1][y1-1] \n",
    "        \n",
    "        find=any(getRect(r,c,r,c)<=threshold for r in range(1,R+1) for c in range(1,C+1))\n",
    "        if not find:\n",
    "            return 0\n",
    "        left,right=1,min(R,C)\n",
    "        find=any(getRect(r,c,r+right-1,c+right-1)<=threshold for r in range(1,R+1) for c in range(1,C+1)) ## --> range is wrong here\n",
    "        if find:\n",
    "            return right\n",
    "        \n",
    "        while left<right-1:\n",
    "            mid=(left+right)//2\n",
    "            find=any(getRect(r,c,r+mid-1,c+mid-1)<=threshold for r in range(1,R-mid+2) for c in range(1,C-mid+2))\n",
    "            if find:\n",
    "                left=mid\n",
    "            else:\n",
    "                right=mid\n",
    "        return left"
   ]
  },
  {
   "cell_type": "markdown",
   "metadata": {},
   "source": [
    "## Attempt 2 - Accepted"
   ]
  },
  {
   "cell_type": "code",
   "execution_count": null,
   "metadata": {},
   "outputs": [],
   "source": [
    "class Solution:\n",
    "    def maxSideLength(self, mat: List[List[int]], threshold: int) -> int:\n",
    "        R,C=len(mat), len(mat[0])\n",
    "        P=[[0 for _ in range(C+1)] for _ in range(R+1) ]\n",
    "        \n",
    "        ## two-dimensional cumsum\n",
    "        for r in range(1,R+1):\n",
    "            for c in range(1,C+1):\n",
    "                P[r][c]=P[r-1][c]+P[r][c-1]-P[r-1][c-1]+mat[r-1][c-1]\n",
    "        def getRect(x1,y1,x2,y2): ## the sum of mat from the point of (x1-1,y1-1) to (x2-1,y2-1); somehow in different flavor of one-dim cumsum\n",
    "            return P[x2][y2]-P[x1-1][y2]-P[x2][y1-1]+P[x1-1][y1-1] \n",
    "        # print(P)\n",
    "        \n",
    "        find=any(getRect(r,c,r,c)<=threshold for r in range(1,R+1) for c in range(1,C+1))\n",
    "        if not find:\n",
    "            return 0\n",
    "        left,right=1,min(R,C)\n",
    "        find=any(getRect(r,c,r+right-1,c+right-1)<=threshold for r in range(1,R-right+2) for c in range(1,C-right+2))\n",
    "        if find:\n",
    "            return right\n",
    "        \n",
    "        while left<right-1:\n",
    "            mid=(left+right)//2\n",
    "            find=any(getRect(r,c,r+mid-1,c+mid-1)<=threshold for r in range(1,R-mid+2) for c in range(1,C-mid+2))\n",
    "            if find:\n",
    "                left=mid\n",
    "            else:\n",
    "                right=mid\n",
    "        return left"
   ]
  },
  {
   "cell_type": "markdown",
   "metadata": {},
   "source": [
    "## Lessons and Thoughts\n",
    "- The template for 2-dim cumsum.\n",
    "- Indexing is a bit confusing in this case."
   ]
  }
 ],
 "metadata": {
  "kernelspec": {
   "display_name": "Python 3",
   "language": "python",
   "name": "python3"
  },
  "language_info": {
   "codemirror_mode": {
    "name": "ipython",
    "version": 3
   },
   "file_extension": ".py",
   "mimetype": "text/x-python",
   "name": "python",
   "nbconvert_exporter": "python",
   "pygments_lexer": "ipython3",
   "version": "3.7.3"
  }
 },
 "nbformat": 4,
 "nbformat_minor": 2
}
