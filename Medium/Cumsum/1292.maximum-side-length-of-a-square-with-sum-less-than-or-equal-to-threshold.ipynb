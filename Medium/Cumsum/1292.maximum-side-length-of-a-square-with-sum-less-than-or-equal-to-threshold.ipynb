{
 "cells": [
  {
   "cell_type": "markdown",
   "metadata": {},
   "source": [
    "## Attempt 1 - Index Out of Range"
   ]
  },
  {
   "cell_type": "code",
   "execution_count": null,
   "metadata": {},
   "outputs": [],
   "source": [
    "class Solution:\n",
    "    def maxSideLength(self, mat: List[List[int]], threshold: int) -> int:\n",
    "        R,C=len(mat), len(mat[0])\n",
    "        P=[[0 for _ in range(C+1)] for _ in range(R+1) ]\n",
    "        \n",
    "        ## two-dimensional cumsum\n",
    "        for r in range(1,R+1):\n",
    "            for c in range(1,C+1):\n",
    "                P[r][c]=P[r-1][c]+P[r][c-1]-P[r-1][c-1]+mat[r-1][c-1]\n",
    "        def getRect(x1,y1,x2,y2): ## the sum of mat from the point of (x1-1,y1-1) to (x2-1,y2-1); somehow in different flavor of one-dim cumsum\n",
    "            return P[x2][y2]-P[x1-1][y2]-P[x2][y1-1]+P[x1-1][y1-1] \n",
    "        \n",
    "        find=any(getRect(r,c,r,c)<=threshold for r in range(1,R+1) for c in range(1,C+1))\n",
    "        if not find:\n",
    "            return 0\n",
    "        left,right=1,min(R,C)\n",
    "        find=any(getRect(r,c,r+right-1,c+right-1)<=threshold for r in range(1,R+1) for c in range(1,C+1)) ## --> range is wrong here\n",
    "        if find:\n",
    "            return right\n",
    "        \n",
    "        while left<right-1:\n",
    "            mid=(left+right)//2\n",
    "            find=any(getRect(r,c,r+mid-1,c+mid-1)<=threshold for r in range(1,R-mid+2) for c in range(1,C-mid+2))\n",
    "            if find:\n",
    "                left=mid\n",
    "            else:\n",
    "                right=mid\n",
    "        return left"
   ]
  },
  {
   "cell_type": "markdown",
   "metadata": {},
   "source": [
    "## Attempt 2 - Accepted"
   ]
  },
  {
   "cell_type": "code",
   "execution_count": 27,
   "metadata": {},
   "outputs": [],
   "source": [
    "from typing import List\n",
    "class Solution:\n",
    "    def __init__(self, mat, threshold):\n",
    "        R, C=len(mat), len(mat[0])\n",
    "        self.R = R\n",
    "        self.C = C\n",
    "        ## two-dimensional cumsum\n",
    "        P = [[0 for _ in range(C + 1)] for _ in range(R + 1) ]\n",
    "        for r in range(1, R + 1):\n",
    "            for c in range(1, C + 1):\n",
    "                P[r][c] = P[r - 1][c] + P[r][c - 1] - P[r - 1][c - 1] + mat[r - 1][c - 1]\n",
    "        self.P = P\n",
    "        \n",
    "    \n",
    "    def getRect(self, x1, y1, x2, y2): ## the sum of mat from the point of (x1, y1) to (x2-1, y2-1)\n",
    "        return self.P[x2][y2] - self.P[x1][y2] - self.P[x2][y1] + self.P[x1][y1]\n",
    "    \n",
    "    def maxSideLength(self, mat: List[List[int]], threshold: int) -> int:\n",
    "        R, C = self.R, self.C\n",
    "        \n",
    "        find = any(self.getRect(r, c, r + 1, c + 1) <= threshold for r in range(R) for c in range(C))\n",
    "        if not find:\n",
    "            return 0\n",
    "        left, right = 1, min(R, C)\n",
    "        find = any(self.getRect(r, c, r + right, c + right) <= threshold for r in range(R - right + 1) for c in range(C - right + 1))\n",
    "        if find:\n",
    "            return right\n",
    "        \n",
    "        while left < right-1:\n",
    "            mid = (left + right) // 2\n",
    "            find = any(self.getRect(r, c, r + mid, c + mid) <= threshold for r in range(R - mid + 1) for c in range(C - mid + 1))\n",
    "            if find:\n",
    "                left=mid\n",
    "            else:\n",
    "                right=mid\n",
    "        return left"
   ]
  },
  {
   "cell_type": "code",
   "execution_count": 28,
   "metadata": {},
   "outputs": [],
   "source": [
    "mat = [[18,70],[61,1],[25,85],[14,40],[11,96],[97,96],[63,45]]\n",
    "threshold = 40184\n",
    "s = Solution(mat, threshold)"
   ]
  },
  {
   "cell_type": "code",
   "execution_count": 29,
   "metadata": {},
   "outputs": [
    {
     "name": "stdout",
     "output_type": "stream",
     "text": [
      "[[18, 70], [61, 1], [25, 85], [14, 40], [11, 96], [97, 96], [63, 45]]\n"
     ]
    }
   ],
   "source": [
    "print(mat)"
   ]
  },
  {
   "cell_type": "code",
   "execution_count": 30,
   "metadata": {},
   "outputs": [
    {
     "data": {
      "text/plain": [
       "150"
      ]
     },
     "execution_count": 30,
     "metadata": {},
     "output_type": "execute_result"
    }
   ],
   "source": [
    "s.getRect(0, 0, 2, 2)"
   ]
  },
  {
   "cell_type": "code",
   "execution_count": 31,
   "metadata": {},
   "outputs": [
    {
     "data": {
      "text/plain": [
       "2"
      ]
     },
     "execution_count": 31,
     "metadata": {},
     "output_type": "execute_result"
    }
   ],
   "source": [
    "s.maxSideLength(mat, threshold)"
   ]
  },
  {
   "cell_type": "markdown",
   "metadata": {},
   "source": [
    "## Lessons and Thoughts\n",
    "- The template for 2-dim cumsum.\n",
    "- Indexing is a bit confusing in this case."
   ]
  }
 ],
 "metadata": {
  "kernelspec": {
   "display_name": "Python 3 (ipykernel)",
   "language": "python",
   "name": "python3"
  },
  "language_info": {
   "codemirror_mode": {
    "name": "ipython",
    "version": 3
   },
   "file_extension": ".py",
   "mimetype": "text/x-python",
   "name": "python",
   "nbconvert_exporter": "python",
   "pygments_lexer": "ipython3",
   "version": "3.9.7"
  }
 },
 "nbformat": 4,
 "nbformat_minor": 2
}
