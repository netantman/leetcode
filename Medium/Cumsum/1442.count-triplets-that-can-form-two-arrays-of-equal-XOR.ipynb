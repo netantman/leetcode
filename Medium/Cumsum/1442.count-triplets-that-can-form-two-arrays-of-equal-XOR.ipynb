{
 "cells": [
  {
   "cell_type": "markdown",
   "metadata": {},
   "source": [
    "## Attempt 1 - Accepted"
   ]
  },
  {
   "cell_type": "code",
   "execution_count": null,
   "metadata": {},
   "outputs": [],
   "source": [
    "class Solution:\n",
    "    def countTriplets(self, arr: List[int]) -> int:\n",
    "        L = len(arr)\n",
    "        if L<2:\n",
    "            return 0\n",
    "        \n",
    "        cumsum = [arr[0]]\n",
    "        for idx in range(1, L):\n",
    "            cumsum.append(cumsum[-1]^arr[idx])\n",
    "        cumsum = [0] + cumsum\n",
    "        \n",
    "        record = dict()\n",
    "        for idx, s in enumerate(cumsum):\n",
    "            record[s] = record.get(s, []) + [idx]\n",
    "        \n",
    "        res = 0\n",
    "        for k, pos in record.items():\n",
    "            if len(pos) >= 2:\n",
    "                for i in range(len(pos)):\n",
    "                    for k in range(i+1, len(pos)):\n",
    "                        res += (pos[k] - pos[i]-1)\n",
    "        return res"
   ]
  },
  {
   "cell_type": "markdown",
   "metadata": {},
   "source": [
    "## Lessons and Thoughts\n",
    "- XOR cumsum is different from usual ones."
   ]
  }
 ],
 "metadata": {
  "kernelspec": {
   "display_name": "Python 3",
   "language": "python",
   "name": "python3"
  },
  "language_info": {
   "codemirror_mode": {
    "name": "ipython",
    "version": 3
   },
   "file_extension": ".py",
   "mimetype": "text/x-python",
   "name": "python",
   "nbconvert_exporter": "python",
   "pygments_lexer": "ipython3",
   "version": "3.7.3"
  }
 },
 "nbformat": 4,
 "nbformat_minor": 2
}
