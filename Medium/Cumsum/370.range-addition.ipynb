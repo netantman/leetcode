{
 "cells": [
  {
   "cell_type": "markdown",
   "metadata": {},
   "source": [
    "## Attempt 1 - Accepted"
   ]
  },
  {
   "cell_type": "code",
   "execution_count": null,
   "metadata": {},
   "outputs": [],
   "source": [
    "class Solution:\n",
    "    def getModifiedArray(self, length: int, updates: List[List[int]]) -> List[int]:\n",
    "        nums = [0 for _ in range(length)]\n",
    "        for update in updates:\n",
    "            start, end, inc = tuple(update)\n",
    "            nums[start] += inc\n",
    "            if end + 1 < length:\n",
    "                nums[end + 1] -= inc\n",
    "        \n",
    "        res = [0]\n",
    "        for n in nums:\n",
    "            res.append(n + res[-1])\n",
    "        return res[1:]"
   ]
  },
  {
   "cell_type": "markdown",
   "metadata": {},
   "source": [
    "## Attempt 1 - Accepted"
   ]
  },
  {
   "cell_type": "code",
   "execution_count": null,
   "metadata": {},
   "outputs": [],
   "source": [
    "class Solution {\n",
    "public:\n",
    "    vector<int> getModifiedArray(int length, vector<vector<int>>& updates) {\n",
    "        std::vector<int> vec(length, 0);\n",
    "        for (std::vector update : updates) {\n",
    "            int start = update[0];\n",
    "            int end = update[1];\n",
    "            int inc = update[2];\n",
    "            vec[start] += inc;\n",
    "            if (end + 1 < length) {\n",
    "                vec[end + 1] -= inc;\n",
    "            }\n",
    "        }\n",
    "        \n",
    "        std::vector<int> cumsum = {0};\n",
    "        for (int v : vec) {\n",
    "            cumsum.push_back(cumsum[cumsum.size() - 1] + v);\n",
    "        }\n",
    "        cumsum.erase(cumsum.begin());\n",
    "        return cumsum;\n",
    "    }\n",
    "};"
   ]
  },
  {
   "cell_type": "markdown",
   "metadata": {},
   "source": [
    "## Lessons and Thoughts\n",
    "- The trick to add a consecutive array of the same increment."
   ]
  }
 ],
 "metadata": {
  "kernelspec": {
   "display_name": "Python 3",
   "language": "python",
   "name": "python3"
  },
  "language_info": {
   "codemirror_mode": {
    "name": "ipython",
    "version": 3
   },
   "file_extension": ".py",
   "mimetype": "text/x-python",
   "name": "python",
   "nbconvert_exporter": "python",
   "pygments_lexer": "ipython3",
   "version": "3.7.3"
  }
 },
 "nbformat": 4,
 "nbformat_minor": 2
}
