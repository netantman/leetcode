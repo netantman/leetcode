{
 "cells": [
  {
   "cell_type": "markdown",
   "metadata": {},
   "source": [
    "## Attempt 1 - Time Limit Exceeded"
   ]
  },
  {
   "cell_type": "code",
   "execution_count": null,
   "metadata": {},
   "outputs": [],
   "source": [
    "class Solution:\n",
    "    def minDifference(self, nums: List[int], queries: List[List[int]]) -> List[int]:\n",
    "        def get_diff(sub):\n",
    "            diff = float('inf')\n",
    "            record = sorted(list(set(sub)))\n",
    "            L = len(record)\n",
    "            for idx in range(1, L):\n",
    "                diff = min(diff, record[idx] - record[idx - 1])\n",
    "            return diff if diff < float('inf') else -1\n",
    "        \n",
    "        res = [get_diff(nums[q[0]: q[1] + 1]) for q in queries]\n",
    "        return res"
   ]
  },
  {
   "cell_type": "markdown",
   "metadata": {},
   "source": [
    "## Attempt 2 - Time Limit Exceeded"
   ]
  },
  {
   "cell_type": "code",
   "execution_count": null,
   "metadata": {},
   "outputs": [],
   "source": [
    "class Solution:\n",
    "    def minDifference(self, nums: List[int], queries: List[List[int]]) -> List[int]:\n",
    "        cumsum = defaultdict(list)\n",
    "        for idx in range(1, 101):\n",
    "            cumsum[idx].append(0)\n",
    "        \n",
    "        for n in nums:\n",
    "            for k in range(1, 101):\n",
    "                this = 1 if n == k else 0\n",
    "                cumsum[k].append(cumsum[k][-1] + this)\n",
    "        \n",
    "        def get_diff(q):\n",
    "            diff = float('inf')\n",
    "            record = [ idx for idx in range(1, 101) if cumsum[idx][q[1] + 1] - cumsum[idx][q[0]] > 0]\n",
    "            L = len(record)\n",
    "            for idx in range(1, L):\n",
    "                diff = min(diff, record[idx] - record[idx - 1])\n",
    "            return diff if diff < float('inf') else -1\n",
    "        \n",
    "        res = [get_diff(q) for q in queries]\n",
    "        return res"
   ]
  },
  {
   "cell_type": "markdown",
   "metadata": {},
   "source": [
    "## Attempt 3 - Accepted"
   ]
  },
  {
   "cell_type": "code",
   "execution_count": null,
   "metadata": {},
   "outputs": [],
   "source": [
    "class Solution:\n",
    "    def minDifference(self, nums: List[int], queries: List[List[int]]) -> List[int]:\n",
    "        C = 100\n",
    "        \n",
    "        n = len(nums)\n",
    "        pre = [[0] * (C + 1)]\n",
    "        for i, num in enumerate(nums):\n",
    "            pre.append(pre[-1][:])\n",
    "            pre[-1][num] += 1\n",
    "        \n",
    "        ans = list()\n",
    "        for left, right in queries:\n",
    "            last = 0\n",
    "            best = float(\"inf\")\n",
    "            for j in range(1, C + 1):\n",
    "                if pre[left][j] != pre[right + 1][j]:\n",
    "                    if last != 0:\n",
    "                        best = min(best, j - last)\n",
    "                    last = j\n",
    "            \n",
    "            if best == float(\"inf\"):\n",
    "                best = -1\n",
    "            ans.append(best)\n",
    "        \n",
    "        return ans"
   ]
  },
  {
   "cell_type": "markdown",
   "metadata": {},
   "source": [
    "## Lessons and Thoughts\n",
    "- Brute force is too slow.\n",
    "- The accepted solution is inspired from the app, thought Attempt 2 still takes too long and it is asymptotically the same as Attempt 3. The idea is to use `cumsum` to check if an element is in some interval."
   ]
  }
 ],
 "metadata": {
  "kernelspec": {
   "display_name": "Python 3 (ipykernel)",
   "language": "python",
   "name": "python3"
  },
  "language_info": {
   "codemirror_mode": {
    "name": "ipython",
    "version": 3
   },
   "file_extension": ".py",
   "mimetype": "text/x-python",
   "name": "python",
   "nbconvert_exporter": "python",
   "pygments_lexer": "ipython3",
   "version": "3.9.7"
  }
 },
 "nbformat": 4,
 "nbformat_minor": 2
}
