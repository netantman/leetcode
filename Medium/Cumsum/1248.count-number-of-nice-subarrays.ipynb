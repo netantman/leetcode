{
 "cells": [
  {
   "cell_type": "markdown",
   "metadata": {},
   "source": [
    "## Attempt 1 - Wrong Answer"
   ]
  },
  {
   "cell_type": "markdown",
   "metadata": {},
   "source": [
    "This only works if the odd elements stick together"
   ]
  },
  {
   "cell_type": "code",
   "execution_count": null,
   "metadata": {},
   "outputs": [],
   "source": [
    "class Solution:\n",
    "    def numberOfSubarrays(self, nums: List[int], k: int) -> int:\n",
    "        cnt=0\n",
    "        left,right=0,0\n",
    "        while right<k:\n",
    "            cnt+=1 if nums[right]%2>0 else 0\n",
    "            right+=1\n",
    "        L=len(nums)\n",
    "        res=0\n",
    "        while right<L:\n",
    "            if cnt==k:\n",
    "                res+=1\n",
    "                cnt+=1 if nums[right]%2>0 else 0\n",
    "                right+=1\n",
    "            elif cnt<k:\n",
    "                cnt+=1 if nums[right]%2>0 else 0\n",
    "                right+=1\n",
    "            else:\n",
    "                cnt-=1 if nums[left]%2>0 else 0\n",
    "                left+=1\n",
    "            if left==right:\n",
    "                cnt+=1 if nums[right]%2>0 else 0\n",
    "                right+=1\n",
    "        \n",
    "        while left<L:\n",
    "            if cnt==k:\n",
    "                res+=1\n",
    "            cnt-=1 if nums[left]%2>0 else 0\n",
    "            left+=1\n",
    "        \n",
    "        return res"
   ]
  },
  {
   "cell_type": "markdown",
   "metadata": {},
   "source": [
    "## Attempt 2 - Accepted"
   ]
  },
  {
   "cell_type": "code",
   "execution_count": null,
   "metadata": {},
   "outputs": [],
   "source": [
    "class Solution:\n",
    "    def numberOfSubarrays(self, nums: List[int], k: int) -> int:\n",
    "        cnt=0\n",
    "        odds=[0]\n",
    "        for idx, n in enumerate(nums):\n",
    "            if n%2>0:\n",
    "                odds.append(idx)\n",
    "        L=len(odds)\n",
    "        if L<k+1:\n",
    "            return 0\n",
    "        left,right=1,k+1\n",
    "        res=0\n",
    "        odds.append(len(nums)-1)\n",
    "        while right<=L:\n",
    "            rl=odds[left]-odds[left-1]+1 if left==1 else odds[left]-odds[left-1]\n",
    "            rr=odds[right]-odds[right-1]+1 if right==L else odds[right]-odds[right-1]\n",
    "            res+=rl*rr\n",
    "            left+=1\n",
    "            right+=1\n",
    "        return res"
   ]
  },
  {
   "cell_type": "markdown",
   "metadata": {},
   "source": [
    "## Attempt 3 - Accepted"
   ]
  },
  {
   "cell_type": "code",
   "execution_count": null,
   "metadata": {},
   "outputs": [],
   "source": [
    "class Solution:\n",
    "    def numberOfSubarrays(self, nums: List[int], k: int) -> int:\n",
    "        L = len(nums)\n",
    "#         l, r = 0, 1\n",
    "#         cnt = 1 if nums[0] % 2 > 0 else 0\n",
    "        \n",
    "#         res = 0\n",
    "#         while r < L:\n",
    "#             if cnt < k:\n",
    "#                 cnt += 1 if nums[r] % 2 > 0 else 0\n",
    "#                 r += 1\n",
    "#                 continue\n",
    "#             if cnt == k:\n",
    "#                 # print(l, r)\n",
    "#                 res += 1\n",
    "#                 cnt += 1 if nums[r] % 2 > 0 else 0\n",
    "#                 r += 1\n",
    "#                 continue\n",
    "#             if cnt > k:\n",
    "#                 cnt -= 1 if nums[l] % 2 > 0 else 0\n",
    "#                 l += 1\n",
    "#                 continue\n",
    "        \n",
    "#         while cnt >= k and l < L:\n",
    "#             if cnt == k:\n",
    "#                 # print(l, r)\n",
    "#                 res += 1\n",
    "#             cnt -= 1 if nums[l] % 2 > 0 else 0\n",
    "#             l += 1\n",
    "        \n",
    "        # return res\n",
    "        \n",
    "        cumsum = [0]\n",
    "        record = dict()\n",
    "        record[0] = 1\n",
    "        for n in nums:\n",
    "            curr = 1 if n % 2 > 0 else 0\n",
    "            record[cumsum[-1] + curr] = record.get(cumsum[-1] + curr, 0) + 1\n",
    "            cumsum.append(cumsum[-1] + curr)\n",
    "            \n",
    "#         print(cumsum)\n",
    "#         print(record)\n",
    "        \n",
    "        res = 0\n",
    "        for key in record.keys():\n",
    "            if key - k in record:\n",
    "                res += record[key - k] * record[key]\n",
    "        \n",
    "        return res"
   ]
  },
  {
   "cell_type": "markdown",
   "metadata": {},
   "source": [
    "## Lessons and Thoughts\n",
    "- The idea is to first tally the positions of odd numbers, how `left` and `right` move is not typical of a two-pointer problem.\n",
    "- The edge case is when `left==0` or `right==L-1`\n",
    "- It is probably better to think of this algo as a `cumsum` type rather than a two-pointer."
   ]
  }
 ],
 "metadata": {
  "kernelspec": {
   "display_name": "Python 3 (ipykernel)",
   "language": "python",
   "name": "python3"
  },
  "language_info": {
   "codemirror_mode": {
    "name": "ipython",
    "version": 3
   },
   "file_extension": ".py",
   "mimetype": "text/x-python",
   "name": "python",
   "nbconvert_exporter": "python",
   "pygments_lexer": "ipython3",
   "version": "3.9.7"
  }
 },
 "nbformat": 4,
 "nbformat_minor": 2
}
