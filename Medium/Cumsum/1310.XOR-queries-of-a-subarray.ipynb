{
 "cells": [
  {
   "cell_type": "markdown",
   "metadata": {},
   "source": [
    "## Attempt 1 - Accepted"
   ]
  },
  {
   "cell_type": "code",
   "execution_count": null,
   "metadata": {},
   "outputs": [],
   "source": [
    "class Solution:\n",
    "    def xorQueries(self, arr: List[int], queries: List[List[int]]) -> List[int]:\n",
    "        cumsum=[arr[0]]\n",
    "        L=len(arr)\n",
    "        for idx in range(1,L):\n",
    "            cumsum.append(cumsum[-1]^arr[idx])\n",
    "        \n",
    "        res=[]\n",
    "        for que in queries:\n",
    "            start,end=tuple(que)\n",
    "            if start<1:\n",
    "                res.append(cumsum[end])\n",
    "            else:\n",
    "                res.append(cumsum[end]^cumsum[start-1])\n",
    "        return res"
   ]
  },
  {
   "cell_type": "markdown",
   "metadata": {},
   "source": [
    "## Lessons and Thoughts\n",
    "- Slightly different way to do `cumsum`, since there is no initial value for `^`."
   ]
  }
 ],
 "metadata": {
  "kernelspec": {
   "display_name": "Python 3",
   "language": "python",
   "name": "python3"
  },
  "language_info": {
   "codemirror_mode": {
    "name": "ipython",
    "version": 3
   },
   "file_extension": ".py",
   "mimetype": "text/x-python",
   "name": "python",
   "nbconvert_exporter": "python",
   "pygments_lexer": "ipython3",
   "version": "3.7.3"
  }
 },
 "nbformat": 4,
 "nbformat_minor": 2
}
