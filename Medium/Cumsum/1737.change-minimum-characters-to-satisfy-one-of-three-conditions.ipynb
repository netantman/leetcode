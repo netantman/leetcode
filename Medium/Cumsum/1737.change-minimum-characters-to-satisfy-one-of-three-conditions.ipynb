{
 "cells": [
  {
   "cell_type": "markdown",
   "metadata": {},
   "source": [
    "## Attempt 1 - Wrong Answer"
   ]
  },
  {
   "cell_type": "code",
   "execution_count": null,
   "metadata": {},
   "outputs": [],
   "source": [
    "class Solution:\n",
    "    def minCharacters(self, a: str, b: str) -> int:\n",
    "        ra = [0 for _ in range(26)]\n",
    "        rb = [0 for _ in range(26)]\n",
    "        \n",
    "        la, lb = len(a), len(b)\n",
    "        \n",
    "        for c in a:\n",
    "            ra[ord(c) - ord(\"a\")] += 1\n",
    "        for c in b:\n",
    "            rb[ord(c) - ord(\"a\")] += 1\n",
    "        \n",
    "        cum_a = [0]\n",
    "        for r in ra:\n",
    "            cum_a.append(cum_a[-1] + r)\n",
    "        cum_b = [0]\n",
    "        for r in rb:\n",
    "            cum_b.append(cum_b[-1] + r)\n",
    "        \n",
    "        res = float('inf')\n",
    "        for idx in range(1, 27): ## --> \"a\" or \"z\"\n",
    "            res = min(res, la - cum_a[idx - 1] + cum_b[idx - 1], cum_a[idx - 1] + lb - cum_b[idx - 1])\n",
    "        \n",
    "        return min(res, la - max(ra) + lb - max(rb))"
   ]
  },
  {
   "cell_type": "markdown",
   "metadata": {},
   "source": [
    "## Attempt 2 - Accepted"
   ]
  },
  {
   "cell_type": "code",
   "execution_count": null,
   "metadata": {},
   "outputs": [],
   "source": [
    "class Solution:\n",
    "    def minCharacters(self, a: str, b: str) -> int:\n",
    "        ra = [0 for _ in range(26)]\n",
    "        rb = [0 for _ in range(26)]\n",
    "        \n",
    "        la, lb = len(a), len(b)\n",
    "        \n",
    "        for c in a:\n",
    "            ra[ord(c) - ord(\"a\")] += 1\n",
    "        for c in b:\n",
    "            rb[ord(c) - ord(\"a\")] += 1\n",
    "        \n",
    "        cum_a = [0]\n",
    "        for r in ra:\n",
    "            cum_a.append(cum_a[-1] + r)\n",
    "        cum_b = [0]\n",
    "        for r in rb:\n",
    "            cum_b.append(cum_b[-1] + r)\n",
    "        \n",
    "        res = min(la - ra[0] + rb[0], ra[0] + lb - rb[0])\n",
    "        for idx in range(2, 26):\n",
    "            res = min(res, la - cum_a[idx - 1] + cum_b[idx - 1], cum_a[idx - 1] + lb - cum_b[idx - 1])\n",
    "        res = min(res, ra[-1] + lb - rb[-1], la - ra[-1] + rb[-1])\n",
    "        \n",
    "        return min(res, la - max(ra) + lb - max(rb))"
   ]
  },
  {
   "cell_type": "markdown",
   "metadata": {},
   "source": [
    "## Lessons and Thoughts\n",
    "- The idea is to recognize that it just amount to count, for a given lowercase letter, how many are less than or equal to that on one, and how many are strictly bigger than that on another, and vice versa."
   ]
  }
 ],
 "metadata": {
  "kernelspec": {
   "display_name": "Python 3",
   "language": "python",
   "name": "python3"
  },
  "language_info": {
   "codemirror_mode": {
    "name": "ipython",
    "version": 3
   },
   "file_extension": ".py",
   "mimetype": "text/x-python",
   "name": "python",
   "nbconvert_exporter": "python",
   "pygments_lexer": "ipython3",
   "version": "3.7.3"
  }
 },
 "nbformat": 4,
 "nbformat_minor": 2
}
