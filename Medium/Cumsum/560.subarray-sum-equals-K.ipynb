{
 "cells": [
  {
   "cell_type": "markdown",
   "metadata": {},
   "source": [
    "## Attempt 1 - Accepted"
   ]
  },
  {
   "cell_type": "code",
   "execution_count": null,
   "metadata": {},
   "outputs": [],
   "source": [
    "class Solution:\n",
    "    def subarraySum(self, nums: List[int], k: int) -> int:\n",
    "        L=len(nums)\n",
    "        cumsum=[0 for _ in range(L+1)]\n",
    "        for idx in range(1,L+1):\n",
    "            cumsum[idx]=cumsum[idx-1]+nums[idx-1]\n",
    "        \n",
    "        cache=dict()\n",
    "        res=0\n",
    "        if k==0:\n",
    "            for idx in range(L+1):\n",
    "                if cumsum[idx] in cache:\n",
    "                    res+=cache[cumsum[idx]]\n",
    "                    cache[cumsum[idx]]+=1\n",
    "                else:\n",
    "                    cache[cumsum[idx]]=1\n",
    "        else:\n",
    "            for idx in range(L+1):\n",
    "                if cumsum[idx]-k in cache:\n",
    "                    res+=cache[cumsum[idx]-k]\n",
    "                \n",
    "                if cumsum[idx] in cache:\n",
    "                    cache[cumsum[idx]]+=1\n",
    "                else:\n",
    "                    cache[cumsum[idx]]=1\n",
    "        return res"
   ]
  },
  {
   "cell_type": "markdown",
   "metadata": {},
   "source": [
    "## Attempt 2 - Accepted"
   ]
  },
  {
   "cell_type": "code",
   "execution_count": null,
   "metadata": {},
   "outputs": [],
   "source": [
    "class Solution:\n",
    "    def subarraySum(self, nums: List[int], k: int) -> int:\n",
    "        cumsum = [0]\n",
    "        record = {0 : 1}\n",
    "        res = 0\n",
    "        for n in nums:\n",
    "            curr = n + cumsum[-1]\n",
    "            cumsum.append(curr)\n",
    "            if curr - k  in record:\n",
    "                res += record[curr - k] \n",
    "            record[curr] = record.get(curr, 0) + 1\n",
    "        return res"
   ]
  },
  {
   "cell_type": "markdown",
   "metadata": {},
   "source": [
    "## Attempt 3 - Accepted"
   ]
  },
  {
   "cell_type": "code",
   "execution_count": null,
   "metadata": {},
   "outputs": [],
   "source": [
    "class Solution {\n",
    "public:\n",
    "    int subarraySum(vector<int>& nums, int k) {\n",
    "        vector<int> cumsum = {0};\n",
    "        int res = 0;\n",
    "        map<int, int> record; ## --> defining a map\n",
    "        record[0] = 1;\n",
    "        for (int n : nums) {\n",
    "            int curr = cumsum.back() + n;\n",
    "            cumsum.push_back(curr);\n",
    "            if (record.find(curr - k) != record.end()) {\n",
    "                res += record[curr - k];\n",
    "            }\n",
    "            \n",
    "            if (record.find(curr) != record.end()) {\n",
    "                record[curr] += 1;\n",
    "            }\n",
    "            else {\n",
    "                record[curr] = 1;\n",
    "            }\n",
    "        }\n",
    "        return res;\n",
    "    }\n",
    "};"
   ]
  },
  {
   "cell_type": "markdown",
   "metadata": {},
   "source": [
    "## Lessons and Thoughts\n",
    "- Similar to Problem 523. The edge case is $k=0$."
   ]
  }
 ],
 "metadata": {
  "kernelspec": {
   "display_name": "Python 3",
   "language": "python",
   "name": "python3"
  },
  "language_info": {
   "codemirror_mode": {
    "name": "ipython",
    "version": 3
   },
   "file_extension": ".py",
   "mimetype": "text/x-python",
   "name": "python",
   "nbconvert_exporter": "python",
   "pygments_lexer": "ipython3",
   "version": "3.6.5"
  }
 },
 "nbformat": 4,
 "nbformat_minor": 2
}
