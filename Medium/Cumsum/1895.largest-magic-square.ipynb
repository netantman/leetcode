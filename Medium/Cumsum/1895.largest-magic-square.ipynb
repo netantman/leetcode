{
 "cells": [
  {
   "cell_type": "markdown",
   "metadata": {},
   "source": [
    "## Attempt 1 - Accepted"
   ]
  },
  {
   "cell_type": "code",
   "execution_count": null,
   "metadata": {},
   "outputs": [],
   "source": [
    "class Solution:\n",
    "    def largestMagicSquare(self, grid: List[List[int]]) -> int:\n",
    "        R, C = len(grid), len(grid[0])\n",
    "        r_cumsum = [[0] for r in range(R)]\n",
    "        c_cumsum = [[0] for c in range(C)]\n",
    "        for r in range(R):\n",
    "            for c in range(C):\n",
    "                this = grid[r][c]\n",
    "                r_cumsum[r].append(r_cumsum[r][-1] + this)\n",
    "                c_cumsum[c].append(c_cumsum[c][-1] + this)\n",
    "        \n",
    "        res = 1\n",
    "        for r in range(R):\n",
    "            for c in range(C):\n",
    "                for size in range(min(R - r, C - c), 1, -1):\n",
    "                    target = r_cumsum[r][c + size] - r_cumsum[r][c]\n",
    "                    magic = True\n",
    "                    \n",
    "                    for idx in range(1, size):\n",
    "                        if r_cumsum[r + idx][c + size] - r_cumsum[r + idx][c] != target:\n",
    "                            magic = False\n",
    "                            break\n",
    "                    if not magic:\n",
    "                        continue\n",
    "                    \n",
    "                    for idx in range(size):\n",
    "                         if c_cumsum[c + idx][r + size] - c_cumsum[c + idx][r] != target:\n",
    "                            magic = False\n",
    "                            break                       \n",
    "                    if not magic:\n",
    "                        continue\n",
    "                    \n",
    "                    s = 0\n",
    "                    for idx in range(size):\n",
    "                        s += grid[r + idx][c + idx]\n",
    "                    if s != target:\n",
    "                        magic = False\n",
    "                        continue\n",
    "                    \n",
    "                    s = 0\n",
    "                    for idx in range(size):\n",
    "                        s += grid[r + size - 1 - idx][c + idx]\n",
    "                    if s != target:\n",
    "                        magic = False\n",
    "                        continue\n",
    "                    \n",
    "                    res = max(res, size)\n",
    "        \n",
    "        return res"
   ]
  },
  {
   "cell_type": "markdown",
   "metadata": {},
   "source": [
    "## Lessons and Thoughts\n",
    "- I thought you need to do `cumsum` on the diagonal sums as well, which would be cumbersome."
   ]
  }
 ],
 "metadata": {
  "kernelspec": {
   "display_name": "Python 3",
   "language": "python",
   "name": "python3"
  },
  "language_info": {
   "codemirror_mode": {
    "name": "ipython",
    "version": 3
   },
   "file_extension": ".py",
   "mimetype": "text/x-python",
   "name": "python",
   "nbconvert_exporter": "python",
   "pygments_lexer": "ipython3",
   "version": "3.7.3"
  }
 },
 "nbformat": 4,
 "nbformat_minor": 2
}
