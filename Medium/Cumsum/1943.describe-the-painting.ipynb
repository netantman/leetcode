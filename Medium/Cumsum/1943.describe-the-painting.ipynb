{
 "cells": [
  {
   "cell_type": "markdown",
   "metadata": {},
   "source": [
    "## Attempt 1 - Wrong Answer"
   ]
  },
  {
   "cell_type": "code",
   "execution_count": null,
   "metadata": {},
   "outputs": [],
   "source": [
    "## --> the mixed color is not determined by their sum!\n",
    "\n",
    "class Solution:\n",
    "    def splitPainting(self, segments: List[List[int]]) -> List[List[int]]:\n",
    "        M = max(seg[1] for seg in segments)\n",
    "        record = [0 for _ in range(M)]\n",
    "        for seg in segments:\n",
    "            start, end, color = tuple(seg)\n",
    "            record[start - 1] += color\n",
    "            if end < M:\n",
    "                record[end - 1] -= color\n",
    "        cumsum = [0]\n",
    "        for r in record:\n",
    "            cumsum.append(cumsum[-1] + r)\n",
    "        \n",
    "        color = 0\n",
    "        last = 0\n",
    "        res = []\n",
    "        for idx, c in enumerate(cumsum):\n",
    "            if c != color:\n",
    "                res.append([last, idx, color])\n",
    "                last = idx\n",
    "                color = c\n",
    "        res.append([last, M, color])\n",
    "        \n",
    "        return res[1:]"
   ]
  },
  {
   "cell_type": "markdown",
   "metadata": {},
   "source": [
    "## Attempt 2 - Time Limit Exceeded"
   ]
  },
  {
   "cell_type": "code",
   "execution_count": null,
   "metadata": {},
   "outputs": [],
   "source": [
    "class Solution:\n",
    "    def splitPainting(self, segments: List[List[int]]) -> List[List[int]]:\n",
    "        M = max(seg[1] for seg in segments)\n",
    "        record = [set() for _ in range(M)]\n",
    "        for seg in segments:\n",
    "            start, end, color = tuple(seg)\n",
    "            record[start - 1].add(color)\n",
    "            if end < M:\n",
    "                record[end - 1].add(-color)\n",
    "        \n",
    "        # print(record)\n",
    "        \n",
    "        cumsum = [tuple()]\n",
    "        for r in record:\n",
    "            curr = set([c for c in cumsum[-1]])\n",
    "            for c in r:\n",
    "                if c > 0:\n",
    "                    curr.add(c)\n",
    "                else:\n",
    "                    curr.remove(-c)\n",
    "            cumsum.append(tuple(sorted(list(curr))))\n",
    "        \n",
    "        color = tuple()\n",
    "        last = 0\n",
    "        res = []\n",
    "        for idx, c in enumerate(cumsum):\n",
    "            if c != color:\n",
    "                res.append([last, idx, sum(color)])\n",
    "                last = idx\n",
    "                color = c\n",
    "        res.append([last, M, sum(color)])\n",
    "        \n",
    "        return [r for r in res if r[-1] > 0] ## --> empty color does not count"
   ]
  },
  {
   "cell_type": "markdown",
   "metadata": {},
   "source": [
    "## Attempt 3 - Accepted"
   ]
  },
  {
   "cell_type": "code",
   "execution_count": null,
   "metadata": {},
   "outputs": [],
   "source": [
    "from collections import defaultdict\n",
    "class Solution:\n",
    "    def splitPainting(self, segments: List[List[int]]) -> List[List[int]]:\n",
    "        # 计算每个位置对应的颜色和改变量并用哈希表存储\n",
    "        color = defaultdict(lambda: 0)\n",
    "        for l, r, c in segments:\n",
    "            color[l] += c\n",
    "            color[r] -= c\n",
    "        # 将哈希表转化为数组并按数轴坐标升序排序\n",
    "        axis = sorted([[k, v] for k, v in color.items()])\n",
    "        # 对数组求前缀和计算对应颜色和\n",
    "        n = len(axis)\n",
    "        for i in range(1, n):\n",
    "            axis[i][1] += axis[i-1][1]\n",
    "        # 遍历数组生成最终绘画结果\n",
    "        res = []\n",
    "        for i in range(n - 1):\n",
    "            if axis[i][1]:\n",
    "                res.append([axis[i][0], axis[i+1][0], axis[i][1]])\n",
    "        return res"
   ]
  },
  {
   "cell_type": "markdown",
   "metadata": {},
   "source": [
    "## Lessons and Thoughts\n",
    "- As usual, the indexing is a bit confusing.\n",
    "- Need to variate the `cumsum` algo a bit since the mixed color set is not determined by its sum.\n",
    "- Accepted solution is from apps - there is a way to distinguish differently aggregated color than saving all colors."
   ]
  }
 ],
 "metadata": {
  "kernelspec": {
   "display_name": "Python 3",
   "language": "python",
   "name": "python3"
  },
  "language_info": {
   "codemirror_mode": {
    "name": "ipython",
    "version": 3
   },
   "file_extension": ".py",
   "mimetype": "text/x-python",
   "name": "python",
   "nbconvert_exporter": "python",
   "pygments_lexer": "ipython3",
   "version": "3.7.3"
  }
 },
 "nbformat": 4,
 "nbformat_minor": 2
}
