{
 "cells": [
  {
   "cell_type": "markdown",
   "metadata": {},
   "source": [
    "## Attempt 1 - Accepted"
   ]
  },
  {
   "cell_type": "code",
   "execution_count": null,
   "metadata": {},
   "outputs": [],
   "source": [
    "class Solution:\n",
    "    def minMoves(self, nums: List[int], limit: int) -> int:\n",
    "        res = [0 for _ in range(2*limit + 2)]\n",
    "        for i in range(len(nums)//2):\n",
    "            j = len(nums) - 1 - i\n",
    "            l = min(nums[i],nums[j]) + 1\n",
    "            r = max(nums[i],nums[j]) + limit\n",
    "            mid = nums[i] + nums[j]\n",
    "            res[2] += 2\n",
    "            res[l] -= 2\n",
    "            res[l] += 1\n",
    "            res[mid] -= 1\n",
    "            res[mid+1] += 1\n",
    "            res[r+1] -= 1\n",
    "            res[r+1] += 2\n",
    "            res[2*limit + 1] -=2\n",
    "        \n",
    "        retres = len(nums)\n",
    "        ret = 0\n",
    "        for i in range(2,len(res)-1):\n",
    "            ret += res[i]\n",
    "            retres = min(ret,retres)\n",
    "        return retres"
   ]
  },
  {
   "cell_type": "markdown",
   "metadata": {},
   "source": [
    "## Lessons and Thoughts\n",
    "- Accepted solution from the apps\n",
    "- This is not the usual `cumsum` subroutine, but to calculate the `cumsum` of number of overlapping intervals."
   ]
  }
 ],
 "metadata": {
  "kernelspec": {
   "display_name": "Python 3",
   "language": "python",
   "name": "python3"
  },
  "language_info": {
   "codemirror_mode": {
    "name": "ipython",
    "version": 3
   },
   "file_extension": ".py",
   "mimetype": "text/x-python",
   "name": "python",
   "nbconvert_exporter": "python",
   "pygments_lexer": "ipython3",
   "version": "3.7.3"
  }
 },
 "nbformat": 4,
 "nbformat_minor": 2
}
