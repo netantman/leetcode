{
 "cells": [
  {
   "cell_type": "markdown",
   "metadata": {},
   "source": [
    "## Attempt 1 - Accepted"
   ]
  },
  {
   "cell_type": "code",
   "execution_count": null,
   "metadata": {},
   "outputs": [],
   "source": [
    "class Solution:\n",
    "    def matrixBlockSum(self, mat: List[List[int]], K: int) -> List[List[int]]:\n",
    "        R,C=len(mat), len(mat[0])\n",
    "        P=[[0 for _ in range(C+1)] for _ in range(R+1) ]\n",
    "        \n",
    "        ## two-dimensional cumsum\n",
    "        for r in range(1,R+1):\n",
    "            for c in range(1,C+1):\n",
    "                P[r][c]=P[r-1][c]+P[r][c-1]-P[r-1][c-1]+mat[r-1][c-1]\n",
    "        def getRect(x1,y1,x2,y2): ## the sum of mat from the point of (x1-1,y1-1) to (x2-1,y2-1); somehow in different flavor of one-dim cumsum\n",
    "            return P[x2][y2]-P[x1-1][y2]-P[x2][y1-1]+P[x1-1][y1-1]\n",
    "        \n",
    "        res=[[None for _ in range(C)] for _ in range(R)]\n",
    "        for i in range(R):\n",
    "            for j in range(C):\n",
    "                res[i][j]=getRect(max(i-K+1,1),max(j-K+1,1),min(i+K+1,R),min(j+K+1,C))\n",
    "        return res"
   ]
  },
  {
   "cell_type": "markdown",
   "metadata": {},
   "source": [
    "## Lessons and Thoughts\n",
    "- Another problem with 2-dim `cumsum`."
   ]
  }
 ],
 "metadata": {
  "kernelspec": {
   "display_name": "Python 3",
   "language": "python",
   "name": "python3"
  },
  "language_info": {
   "codemirror_mode": {
    "name": "ipython",
    "version": 3
   },
   "file_extension": ".py",
   "mimetype": "text/x-python",
   "name": "python",
   "nbconvert_exporter": "python",
   "pygments_lexer": "ipython3",
   "version": "3.7.3"
  }
 },
 "nbformat": 4,
 "nbformat_minor": 2
}
