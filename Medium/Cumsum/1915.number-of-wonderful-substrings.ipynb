{
 "cells": [
  {
   "cell_type": "markdown",
   "metadata": {},
   "source": [
    "## Attempt 1 - Time Limit Exceeded"
   ]
  },
  {
   "cell_type": "code",
   "execution_count": null,
   "metadata": {},
   "outputs": [],
   "source": [
    "class Solution:\n",
    "    def wonderfulSubstrings(self, word: str) -> int:\n",
    "        eligible = set([0])\n",
    "        for idx in range(10):\n",
    "            eligible.add(2 ** idx)\n",
    "        \n",
    "        res = 0\n",
    "        cumsum = [0]\n",
    "        for c in word:\n",
    "            cumsum.append(2**(ord(c) - ord(\"a\")) ^ cumsum[-1])\n",
    "            for cum in cumsum[:-1]:\n",
    "                res += 1 if cum ^ cumsum[-1] in eligible else 0\n",
    "        \n",
    "        return res"
   ]
  },
  {
   "cell_type": "markdown",
   "metadata": {},
   "source": [
    "## Attempt 2 - Accepted"
   ]
  },
  {
   "cell_type": "code",
   "execution_count": null,
   "metadata": {},
   "outputs": [],
   "source": [
    "class Solution:\n",
    "    def wonderfulSubstrings(self, word: str) -> int:\n",
    "        eligible = set([0])\n",
    "        for idx in range(10):\n",
    "            eligible.add(2 ** idx)\n",
    "            \n",
    "        record = {0: 1}\n",
    "        \n",
    "        res = 0\n",
    "        cumsum = [0]\n",
    "        for c in word:\n",
    "            cumsum.append(2**(ord(c) - ord(\"a\")) ^ cumsum[-1])\n",
    "            for e in eligible:\n",
    "                if cumsum[-1] ^ e in record:\n",
    "                    res += record[cumsum[-1] ^ e]\n",
    "            record[cumsum[-1]] = record.get(cumsum[-1], 0) + 1\n",
    "        \n",
    "        return res"
   ]
  },
  {
   "cell_type": "markdown",
   "metadata": {},
   "source": [
    "## Lessons and Thoughts\n",
    "- The method actually can apply to all lower case letters, not just confined to a to j."
   ]
  }
 ],
 "metadata": {
  "kernelspec": {
   "display_name": "Python 3",
   "language": "python",
   "name": "python3"
  },
  "language_info": {
   "codemirror_mode": {
    "name": "ipython",
    "version": 3
   },
   "file_extension": ".py",
   "mimetype": "text/x-python",
   "name": "python",
   "nbconvert_exporter": "python",
   "pygments_lexer": "ipython3",
   "version": "3.7.3"
  }
 },
 "nbformat": 4,
 "nbformat_minor": 2
}
