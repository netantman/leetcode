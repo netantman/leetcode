{
 "cells": [
  {
   "cell_type": "markdown",
   "metadata": {},
   "source": [
    "## Attempt 1 - Wrong Answer"
   ]
  },
  {
   "cell_type": "code",
   "execution_count": null,
   "metadata": {},
   "outputs": [],
   "source": [
    "class Solution:\n",
    "    def diffWaysToCompute(self, s: str) -> List[int]:\n",
    "        if s==\"\":\n",
    "            return []\n",
    "        \n",
    "        s1=s.replace(\"+\", \",\")\n",
    "        s1=s1.replace(\"-\", \",\")\n",
    "        s1=s1.replace(\"*\", \",\")\n",
    "        nums=s1.split(\",\")\n",
    "        nums=[int(n) for n in nums]\n",
    "        ops=[o for o in s if o in {\"+\", \"-\", \"*\"}]\n",
    "        if len(ops)<1:\n",
    "            return [nums[0]]\n",
    "        \n",
    "        cache=dict()\n",
    "        def inner(nums, ops, cache):\n",
    "            if (tuple(nums)+tuple(ops)) in cache:\n",
    "                return cache[(tuple(nums)+tuple(ops))] ## --> this way of caching does not take into account 0+ or 1* something\n",
    "            res=[]\n",
    "            L=len(ops)\n",
    "            if L<1:\n",
    "                return [nums[0]]\n",
    "            for idx in range(L):\n",
    "                o=ops[idx]\n",
    "                temp=None\n",
    "                if o is \"+\":\n",
    "                    temp=nums[idx]+nums[idx+1]\n",
    "                elif o is \"-\":\n",
    "                    temp=nums[idx]-nums[idx+1]\n",
    "                else:\n",
    "                    temp=nums[idx]*nums[idx+1]\n",
    "                new_nums=nums[:idx]+[temp]+nums[idx+2:]\n",
    "                new_ops=ops[:idx]+ops[idx+1:]\n",
    "                if (tuple(new_nums)+tuple(new_ops)) not in cache:\n",
    "                    res=res+inner(new_nums, new_ops, cache)\n",
    "            cache[(tuple(nums)+tuple(ops))]=res\n",
    "            return res\n",
    "        \n",
    "        res=inner(nums, ops, cache)\n",
    "        return res"
   ]
  },
  {
   "cell_type": "markdown",
   "metadata": {},
   "source": [
    "## Attempt 2 - Accepted"
   ]
  },
  {
   "cell_type": "code",
   "execution_count": null,
   "metadata": {},
   "outputs": [],
   "source": [
    "class Solution:\n",
    "    def diffWaysToCompute(self, s: str) -> List[int]:\n",
    "        if s==\"\":\n",
    "            return []\n",
    "        \n",
    "        L=len(s)\n",
    "        res=[]\n",
    "        for idx in range(L):\n",
    "            if s[idx] in {\"+\", \"-\", \"*\"}:\n",
    "                left=self.diffWaysToCompute(s[:idx])\n",
    "                right=self.diffWaysToCompute(s[idx+1:])\n",
    "                for l in left:\n",
    "                    for r in right:\n",
    "                        if s[idx]==\"+\":\n",
    "                            res.append(l+r)\n",
    "                        elif s[idx]==\"-\":\n",
    "                            res.append(l-r)\n",
    "                        else:\n",
    "                            res.append(l*r)\n",
    "        if len(res)<1:\n",
    "            res=[int(s)]\n",
    "                \n",
    "        return res"
   ]
  },
  {
   "cell_type": "markdown",
   "metadata": {},
   "source": [
    "## Lessons and Thoughts\n",
    "- Attempt 1 is deeply influenced by Problem 150. But that way of divide-and-conquer cannot handle some edge cases very well (see comments above)\n",
    "- Attempt 2 is from [here](https://blog.csdn.net/fuxuemingzhu/article/details/79568487). It is cleaner divide-and-conquer."
   ]
  }
 ],
 "metadata": {
  "kernelspec": {
   "display_name": "Python 3",
   "language": "python",
   "name": "python3"
  },
  "language_info": {
   "codemirror_mode": {
    "name": "ipython",
    "version": 3
   },
   "file_extension": ".py",
   "mimetype": "text/x-python",
   "name": "python",
   "nbconvert_exporter": "python",
   "pygments_lexer": "ipython3",
   "version": "3.7.3"
  }
 },
 "nbformat": 4,
 "nbformat_minor": 2
}
