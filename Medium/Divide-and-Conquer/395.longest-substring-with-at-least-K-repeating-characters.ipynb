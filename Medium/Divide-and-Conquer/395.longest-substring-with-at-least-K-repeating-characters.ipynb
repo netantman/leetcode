{
 "cells": [
  {
   "cell_type": "markdown",
   "metadata": {},
   "source": [
    "## Attempt 1 - Wrong definition of substring"
   ]
  },
  {
   "cell_type": "code",
   "execution_count": null,
   "metadata": {},
   "outputs": [],
   "source": [
    "class Solution:\n",
    "    def longestSubstring(self, s: str, k: int) -> int:\n",
    "        counter=dict()\n",
    "        for c in s:\n",
    "            if c in counter:\n",
    "                counter[c]+=1\n",
    "            else:\n",
    "                counter[c]=1\n",
    "        to_include={c:v for c,v in counter.items() if v>=k}\n",
    "        print(list(to_include.values()))\n",
    "        if len(to_include)<1:\n",
    "            return 0\n",
    "        else:\n",
    "            return sum(list(to_include.values()))"
   ]
  },
  {
   "cell_type": "markdown",
   "metadata": {},
   "source": [
    "## Attempt 2 - Time Limit Exceeded: naive algo"
   ]
  },
  {
   "cell_type": "code",
   "execution_count": null,
   "metadata": {},
   "outputs": [],
   "source": [
    "class Solution:\n",
    "    def longestSubstring(self, s: str, k: int) -> int:\n",
    "        def check(record):\n",
    "            for idx in range(26):\n",
    "                if record[idx]<k and record[idx]>0:\n",
    "                    return False\n",
    "            return True\n",
    "        \n",
    "        L=len(s)\n",
    "        m=0\n",
    "        for i in range(L):\n",
    "            record=[0 for _ in range(26)]\n",
    "            for j in range(i,L):\n",
    "                c=s[j]\n",
    "                record[ord(c)-ord('a')]+=1\n",
    "                if check(record):\n",
    "                    m=max(m, j-i+1)\n",
    "        return m"
   ]
  },
  {
   "cell_type": "markdown",
   "metadata": {},
   "source": [
    "## Attempt 3 - Accepted"
   ]
  },
  {
   "cell_type": "code",
   "execution_count": null,
   "metadata": {},
   "outputs": [],
   "source": [
    "class Solution:\n",
    "    def longestSubstring(self, s: str, k: int) -> int:\n",
    "        def inner(s,k,left,right):\n",
    "            \n",
    "            count=[0 for _ in range(26)]\n",
    "            for idx in range(left, right):\n",
    "                count[ord(s[idx])-ord(\"a\")]+=1\n",
    "                \n",
    "            for idx in range(left, right):\n",
    "                if count[ord(s[idx])-ord(\"a\")]<k:\n",
    "                    sub1=inner(s,k,left,idx)\n",
    "                    sub2=inner(s,k,idx+1,right) ## --> Since idx cannot be part of the longest sub string, both parts can do without it.\n",
    "                    return max([sub1, sub2])\n",
    "            \n",
    "            return right-left\n",
    "        \n",
    "        return inner(s,k,0,len(s))"
   ]
  },
  {
   "cell_type": "markdown",
   "metadata": {},
   "source": [
    "## Lessons and Thoughts\n",
    "- Though `.values()` and `.key()` return iterators, the `sum` of that is valid.\n",
    "- The accepted solution is from [here](https://www.geeksforgeeks.org/largest-substring-where-all-characters-appear-at-least-k-times-set-2/?ref=rp). The key is to recognize the dividing `idx` will not divide the longest sub string."
   ]
  }
 ],
 "metadata": {
  "kernelspec": {
   "display_name": "Python 3",
   "language": "python",
   "name": "python3"
  },
  "language_info": {
   "codemirror_mode": {
    "name": "ipython",
    "version": 3
   },
   "file_extension": ".py",
   "mimetype": "text/x-python",
   "name": "python",
   "nbconvert_exporter": "python",
   "pygments_lexer": "ipython3",
   "version": "3.7.3"
  }
 },
 "nbformat": 4,
 "nbformat_minor": 2
}
