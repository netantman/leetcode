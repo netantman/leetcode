{
 "cells": [
  {
   "cell_type": "markdown",
   "metadata": {},
   "source": [
    "## Attempt 1 - Wrong Answer: this only works if the start of each row is bigger than the end of last row"
   ]
  },
  {
   "cell_type": "code",
   "execution_count": null,
   "metadata": {},
   "outputs": [],
   "source": [
    "class Solution:\n",
    "    def searchMatrix(self, matrix, target):\n",
    "        \"\"\"\n",
    "        :type matrix: List[List[int]]\n",
    "        :type target: int\n",
    "        :rtype: bool\n",
    "        \"\"\"\n",
    "        if len(matrix)<1:\n",
    "            return False\n",
    "        if target<matrix[0][0] or target>matrix[-1][-1]:\n",
    "            return False\n",
    "        \n",
    "        numRows=len(matrix)\n",
    "        numCols=len(matrix[0])\n",
    "        if target>=matrix[-1][0]:\n",
    "            left, right=0, numCols-1\n",
    "            while left<right-1:\n",
    "                mid=(left+right)//2\n",
    "                if target==matrix[-1][mid]:\n",
    "                    return True\n",
    "                elif target<matrix[-1][mid]:\n",
    "                    right=mid\n",
    "                else:\n",
    "                    left=mid\n",
    "            if matrix[-1][left]==target or matrix[-1][right]==target:\n",
    "                return True\n",
    "        else:\n",
    "            top, bottom=0, numRows-1\n",
    "            while top<bottom-1:\n",
    "                mid=(top+bottom)//2\n",
    "                if target==matrix[0][mid]:\n",
    "                    return True\n",
    "                elif target<matrix[0][mid]:\n",
    "                    bottom=mid\n",
    "                else:\n",
    "                    top=mid\n",
    "            row=top\n",
    "            left, right=0, numCols-1\n",
    "            while left<right-1:\n",
    "                mid=(left+right)//2\n",
    "                if target==matrix[row][mid]:\n",
    "                    return True\n",
    "                elif target<matrix[row][mid]:\n",
    "                    right=mid\n",
    "                else:\n",
    "                    left=mid\n",
    "            if matrix[row][left]==target or matrix[row][right]==target:\n",
    "                return True\n",
    "            else:\n",
    "                return False"
   ]
  },
  {
   "cell_type": "markdown",
   "metadata": {},
   "source": [
    "## Attempt 2 - Runtime Error"
   ]
  },
  {
   "cell_type": "code",
   "execution_count": null,
   "metadata": {},
   "outputs": [],
   "source": [
    "class Solution:\n",
    "    def searchMatrix(self, matrix, target):\n",
    "        \"\"\"\n",
    "        :type matrix: List[List[int]]\n",
    "        :type target: int\n",
    "        :rtype: bool\n",
    "        \"\"\"\n",
    "        if len(matrix)<1: ## --> matrix can have 1 row but 0 cols\n",
    "            return False\n",
    "        if target<matrix[0][0] or target>matrix[-1][-1]:\n",
    "            return False\n",
    "        \n",
    "        numRows=len(matrix)\n",
    "        numCols=len(matrix[0])\n",
    "        left, right=0, numCols-1\n",
    "        top, bottom=0, numRows-1\n",
    "        \n",
    "        while left<right-1 or top<bottom-1: ## --> when the stopping condition is this, it will left some elements in the matrix unchecked\n",
    "            if matrix[bottom][left]==target:\n",
    "                return True\n",
    "            elif matrix[bottom][left]<target:\n",
    "                left+=1\n",
    "            else:\n",
    "                bottom-=1\n",
    "            if matrix[top][right]==target:\n",
    "                return True\n",
    "            elif matrix[bottom][right]>target:  ## --> typo: should be top, right\n",
    "                right-=1\n",
    "            else:\n",
    "                top+=1\n",
    "        \n",
    "        return False"
   ]
  },
  {
   "cell_type": "markdown",
   "metadata": {},
   "source": [
    "## Attempt 3 - Accepted"
   ]
  },
  {
   "cell_type": "code",
   "execution_count": null,
   "metadata": {},
   "outputs": [],
   "source": [
    "class Solution:\n",
    "    def searchMatrix(self, matrix, target):\n",
    "        \"\"\"\n",
    "        :type matrix: List[List[int]]\n",
    "        :type target: int\n",
    "        :rtype: bool\n",
    "        \"\"\"\n",
    "        if len(matrix)<1 or len(matrix[0])<1:\n",
    "            return False\n",
    "        if target<matrix[0][0] or target>matrix[-1][-1]:\n",
    "            return False\n",
    "        \n",
    "        numRows=len(matrix)\n",
    "        numCols=len(matrix[0])\n",
    "        left, right=0, numCols-1\n",
    "        top, bottom=0, numRows-1\n",
    "        \n",
    "        while left<=right and top<=bottom:\n",
    "            if matrix[bottom][left]==target:\n",
    "                return True\n",
    "            elif matrix[bottom][left]<target:\n",
    "                left+=1\n",
    "            else:\n",
    "                bottom-=1\n",
    "            if left>right or top>bottom:\n",
    "                break\n",
    "            if matrix[top][right]==target:\n",
    "                return True\n",
    "            elif matrix[top][right]>target:\n",
    "                right-=1\n",
    "            else:\n",
    "                top+=1\n",
    "        \n",
    "        return False"
   ]
  },
  {
   "cell_type": "markdown",
   "metadata": {},
   "source": [
    "## Lessons and Thoughts\n",
    "- It seems that if you spent some time thinking about the algo itself, you will be lax on edge cases - don't do that.\n",
    "- Although it is labeled binary search, the labels can increment just by 1 and pass the time limit. The next step of optimization will of course be increment using binary search."
   ]
  }
 ],
 "metadata": {
  "kernelspec": {
   "display_name": "Python 3",
   "language": "python",
   "name": "python3"
  },
  "language_info": {
   "codemirror_mode": {
    "name": "ipython",
    "version": 3
   },
   "file_extension": ".py",
   "mimetype": "text/x-python",
   "name": "python",
   "nbconvert_exporter": "python",
   "pygments_lexer": "ipython3",
   "version": "3.7.3"
  }
 },
 "nbformat": 4,
 "nbformat_minor": 2
}
