{
 "cells": [
  {
   "cell_type": "markdown",
   "metadata": {},
   "source": [
    "## Attempt 1 - Time Limit Exceeded"
   ]
  },
  {
   "cell_type": "code",
   "execution_count": null,
   "metadata": {},
   "outputs": [],
   "source": [
    "class Solution:\n",
    "    def checkPalindromeFormation(self, a: str, b: str) -> bool:\n",
    "        L = len(a)\n",
    "        for idx in range(L + 1):\n",
    "            a_pre, a_suf = a[:idx], a[idx:]\n",
    "            b_pre, b_suf = b[:idx], b[idx:]\n",
    "            tmp1 = a_pre + b_suf\n",
    "            tmp2 = b_pre + a_suf\n",
    "            # print(tmp1)\n",
    "            # print(tmp2)\n",
    "            if tmp1 == tmp1[::-1] or tmp2 == tmp2[::-1]:\n",
    "                return True\n",
    "        return False"
   ]
  },
  {
   "cell_type": "markdown",
   "metadata": {},
   "source": [
    "## Attempt 2 - Accepted"
   ]
  },
  {
   "cell_type": "code",
   "execution_count": null,
   "metadata": {},
   "outputs": [],
   "source": [
    "class Solution:\n",
    "    def checkPalindromeFormation(self, a: str, b: str) -> bool:\n",
    "        if a == a[::-1] or b == b[::-1] or a == b[::-1]:\n",
    "            return True\n",
    "        L = len(a)\n",
    "        def check(m, n):\n",
    "            sp = -1\n",
    "            for idx in range(L):\n",
    "                front, back = idx, L - 1 - idx\n",
    "                if front >= back:\n",
    "                    return True\n",
    "                if m[front] != n[back]:\n",
    "                    sp = idx\n",
    "                    break\n",
    "            else:\n",
    "                return True\n",
    "            tmp1 = m[:sp] + n[sp:]\n",
    "            tmp2 = m[:-sp] + n[-sp:]\n",
    "            return tmp1 == tmp1[::-1] or tmp2 == tmp2[::-1]\n",
    "        \n",
    "        return check(a, b) or check(b, a)"
   ]
  },
  {
   "cell_type": "markdown",
   "metadata": {},
   "source": [
    "## Lessons and Thoughts\n",
    "- The accepted algo is from the apps. The idea is to recognize one only needs to check the position where `a` and `b[::-1]` start to differ."
   ]
  }
 ],
 "metadata": {
  "kernelspec": {
   "display_name": "Python 3",
   "language": "python",
   "name": "python3"
  },
  "language_info": {
   "codemirror_mode": {
    "name": "ipython",
    "version": 3
   },
   "file_extension": ".py",
   "mimetype": "text/x-python",
   "name": "python",
   "nbconvert_exporter": "python",
   "pygments_lexer": "ipython3",
   "version": "3.7.3"
  }
 },
 "nbformat": 4,
 "nbformat_minor": 2
}
