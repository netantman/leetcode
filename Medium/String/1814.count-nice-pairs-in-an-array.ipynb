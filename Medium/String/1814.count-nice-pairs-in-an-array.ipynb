{
 "cells": [
  {
   "cell_type": "markdown",
   "metadata": {},
   "source": [
    "## Attempt 1 - Time Limit Exceeded"
   ]
  },
  {
   "cell_type": "code",
   "execution_count": null,
   "metadata": {},
   "outputs": [],
   "source": [
    "class Solution:\n",
    "    def countNicePairs(self, nums: List[int]) -> int:\n",
    "        def rev(n):\n",
    "            tmp = [c for c in str(n)]\n",
    "            tmp = tmp[::-1]\n",
    "            return int(\"\".join(tmp))\n",
    "        \n",
    "        rev_vec = [rev(n) for n in nums]\n",
    "        \n",
    "#         print(rev_vec)\n",
    "        \n",
    "        L = len(nums)\n",
    "        cnt = 0\n",
    "        for i in range(L):\n",
    "            for j in range(i + 1, L):\n",
    "                cnt += 1 if nums[i] + rev_vec[j] == nums[j] + rev_vec[i] else 0\n",
    "        \n",
    "        return cnt % (10 ** 9 + 7)"
   ]
  },
  {
   "cell_type": "markdown",
   "metadata": {},
   "source": [
    "## Attempt 2 - Accepted"
   ]
  },
  {
   "cell_type": "code",
   "execution_count": null,
   "metadata": {},
   "outputs": [],
   "source": [
    "class Solution:\n",
    "    def countNicePairs(self, nums: List[int]) -> int:\n",
    "        def rev(n):\n",
    "            tmp = [c for c in str(n)]\n",
    "            tmp = tmp[::-1]\n",
    "            return int(\"\".join(tmp))\n",
    "        \n",
    "        diff = [n - rev(n) for n in nums]\n",
    "        record = dict()\n",
    "        for d in diff:\n",
    "            record[d] = record.get(d, 0) + 1\n",
    "        \n",
    "        return sum([v * (v - 1)//2 for v in record.values() if v >= 2]) % (10 ** 9 + 7)"
   ]
  },
  {
   "cell_type": "markdown",
   "metadata": {},
   "source": [
    "## Lessons and Thoughts\n",
    "- Brute force is too slow. Used a hint to consider `n - rev(n)`."
   ]
  }
 ],
 "metadata": {
  "kernelspec": {
   "display_name": "Python 3",
   "language": "python",
   "name": "python3"
  },
  "language_info": {
   "codemirror_mode": {
    "name": "ipython",
    "version": 3
   },
   "file_extension": ".py",
   "mimetype": "text/x-python",
   "name": "python",
   "nbconvert_exporter": "python",
   "pygments_lexer": "ipython3",
   "version": "3.7.3"
  }
 },
 "nbformat": 4,
 "nbformat_minor": 2
}
