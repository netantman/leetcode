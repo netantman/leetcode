{
 "cells": [
  {
   "cell_type": "markdown",
   "metadata": {},
   "source": [
    "## Attempt 1 - Accepted"
   ]
  },
  {
   "cell_type": "code",
   "execution_count": null,
   "metadata": {},
   "outputs": [],
   "source": [
    "class Solution:\n",
    "    def removeComments(self, source: List[str]) -> List[str]:\n",
    "        def process_line(line, blocked):\n",
    "            L=len(line)\n",
    "            if blocked:\n",
    "                idx=line.find(\"*/\")\n",
    "                if idx>-1:\n",
    "                    line=line[idx+2:]\n",
    "                    line, block=process_line(line, False)\n",
    "                    return line, block\n",
    "                else:\n",
    "                    return \"\", True\n",
    "            else:\n",
    "                for idx in range(L-1):\n",
    "                    if line[idx]==\"/\" and line[idx+1]==\"/\":\n",
    "                        j=line[idx+2:].find(\"\\n\")\n",
    "                        if j>-1:\n",
    "                            next_line,next_block=process_line(line[idx+2+j:], False)\n",
    "                            return line[:idx]+next_line, next_block\n",
    "                        else:\n",
    "                            return line[:idx], False\n",
    "                    elif line[idx]==\"/\" and line[idx+1]==\"*\":\n",
    "                        next_line,next_block=process_line(line[idx+2:], True)\n",
    "                        return line[:idx]+next_line, next_block\n",
    "                return line, False\n",
    "        \n",
    "        source=\"\\n\".join(source)\n",
    "        source,_=process_line(source, False)\n",
    "        res=source.split(\"\\n\")\n",
    "        res=[r for r in res if r!=\"\"]\n",
    "        \n",
    "        return res"
   ]
  },
  {
   "cell_type": "markdown",
   "metadata": {},
   "source": [
    "## Lessons and Thoughts\n",
    "- Many edge cases - took you a while\n",
    "- `find` function for `str` in python."
   ]
  }
 ],
 "metadata": {
  "kernelspec": {
   "display_name": "Python 3",
   "language": "python",
   "name": "python3"
  },
  "language_info": {
   "codemirror_mode": {
    "name": "ipython",
    "version": 3
   },
   "file_extension": ".py",
   "mimetype": "text/x-python",
   "name": "python",
   "nbconvert_exporter": "python",
   "pygments_lexer": "ipython3",
   "version": "3.7.3"
  }
 },
 "nbformat": 4,
 "nbformat_minor": 2
}
