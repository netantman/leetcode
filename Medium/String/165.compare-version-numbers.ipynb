{
 "cells": [
  {
   "cell_type": "markdown",
   "metadata": {},
   "source": [
    "## Attempt 1 - Time Limit Exceeded"
   ]
  },
  {
   "cell_type": "code",
   "execution_count": null,
   "metadata": {},
   "outputs": [],
   "source": [
    "class Solution:\n",
    "    def compareVersion(self, version1: str, version2: str) -> int:\n",
    "        l1, l2=version1.split(\".\"), version2.split(\".\")\n",
    "        idx1, idx2=0,0\n",
    "        while idx1+1<=len(l1):\n",
    "            if l1[-(idx1+1)].lstrip(\" 0\")==\"\":\n",
    "                idx1+=1  ## --> forgot to break the while loop here!\n",
    "        l1=l1[:-idx1]\n",
    "        while idx2+1<=len(l2):\n",
    "            if l2[-(idx2+1)].lstrip(\" 0\")==\"\":\n",
    "                idx2+=1  ## --> forgot to break the while loop here!\n",
    "        l2=l2[:-idx2]\n",
    "        \n",
    "        idx=0\n",
    "        while idx<len(l1) and idx<len(l2):\n",
    "            n1, n2=int(l1[idx]), int(l2[idx])\n",
    "            if n1==n2:\n",
    "                idx+=1\n",
    "            elif n1<n2:\n",
    "                return -1\n",
    "            else:\n",
    "                return 1\n",
    "        \n",
    "        if idx==len(l2) and idx<len(l1):\n",
    "            return 1\n",
    "        elif idx==len(l1) and idx<len(l2):\n",
    "            return -1\n",
    "        else:\n",
    "            return 0"
   ]
  },
  {
   "cell_type": "markdown",
   "metadata": {},
   "source": [
    "## Attempt 2 - Accepted"
   ]
  },
  {
   "cell_type": "code",
   "execution_count": 1,
   "metadata": {},
   "outputs": [
    {
     "name": "stdout",
     "output_type": "stream",
     "text": [
      "0\n"
     ]
    }
   ],
   "source": [
    "class Solution:\n",
    "    def compareVersion(self, version1: str, version2: str) -> int:\n",
    "        l1, l2=version1.split(\".\"), version2.split(\".\")\n",
    "        idx1, idx2=0,0\n",
    "        while idx1+1<=len(l1):\n",
    "            if l1[-(idx1+1)].lstrip(\" 0\")==\"\":\n",
    "                idx1+=1\n",
    "            else:\n",
    "                break\n",
    "        if idx1>0:\n",
    "            l1=l1[:-idx1]\n",
    "        while idx2+1<=len(l2):\n",
    "            if l2[-(idx2+1)].lstrip(\" 0\")==\"\":\n",
    "                idx2+=1\n",
    "            else:\n",
    "                break\n",
    "        if idx2>0:\n",
    "            l2=l2[:-idx2]\n",
    "        \n",
    "        idx=0\n",
    "        while idx<len(l1) and idx<len(l2):\n",
    "            n1, n2=int(l1[idx]), int(l2[idx])\n",
    "            if n1==n2:\n",
    "                idx+=1\n",
    "            elif n1<n2:\n",
    "                return -1\n",
    "            else:\n",
    "                return 1\n",
    "        \n",
    "        if idx==len(l2) and idx<len(l1):\n",
    "            return 1\n",
    "        elif idx==len(l1) and idx<len(l2):\n",
    "            return -1\n",
    "        else:\n",
    "            return 0"
   ]
  },
  {
   "cell_type": "markdown",
   "metadata": {},
   "source": [
    "## Lessons and Thoughts\n",
    "- `lstrip` function in python to remove leading characters\n",
    "- Leading zeros in string seems fine when converting to integers.\n",
    "- `l1[:0]` will just return an empty `list`, not `l1` itself.\n",
    "- Don't forget to break `while` loop!"
   ]
  }
 ],
 "metadata": {
  "kernelspec": {
   "display_name": "Python 3",
   "language": "python",
   "name": "python3"
  },
  "language_info": {
   "codemirror_mode": {
    "name": "ipython",
    "version": 3
   },
   "file_extension": ".py",
   "mimetype": "text/x-python",
   "name": "python",
   "nbconvert_exporter": "python",
   "pygments_lexer": "ipython3",
   "version": "3.7.3"
  }
 },
 "nbformat": 4,
 "nbformat_minor": 2
}
