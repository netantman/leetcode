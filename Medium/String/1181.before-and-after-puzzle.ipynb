{
 "cells": [
  {
   "cell_type": "markdown",
   "metadata": {},
   "source": [
    "## Attempt 1 - Accepted"
   ]
  },
  {
   "cell_type": "code",
   "execution_count": null,
   "metadata": {},
   "outputs": [],
   "source": [
    "class Solution:\n",
    "    def beforeAndAfterPuzzles(self, phrases: List[str]) -> List[str]:\n",
    "        res = []\n",
    "        L = len(phrases)\n",
    "        for i in range(L):\n",
    "            for j in range(L):\n",
    "                if j == i:\n",
    "                    continue\n",
    "                phi, phj = phrases[i], phrases[j]\n",
    "                phi, phj = phi.split(\" \"), phj.split(\" \")\n",
    "                if phi[-1] == phj[0]:\n",
    "                    res.append(\" \".join(phi + phj[1:]))\n",
    "        return sorted(list(set(res)))"
   ]
  },
  {
   "cell_type": "markdown",
   "metadata": {},
   "source": [
    "## Lessons and Thoughts\n",
    "- Brute force. The edge case that is missed is to return distinct puzzles."
   ]
  }
 ],
 "metadata": {
  "kernelspec": {
   "display_name": "Python 3",
   "language": "python",
   "name": "python3"
  },
  "language_info": {
   "codemirror_mode": {
    "name": "ipython",
    "version": 3
   },
   "file_extension": ".py",
   "mimetype": "text/x-python",
   "name": "python",
   "nbconvert_exporter": "python",
   "pygments_lexer": "ipython3",
   "version": "3.7.3"
  }
 },
 "nbformat": 4,
 "nbformat_minor": 2
}
