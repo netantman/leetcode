{
 "cells": [
  {
   "cell_type": "markdown",
   "metadata": {},
   "source": [
    "## Attempt 1 - Wrong Answer"
   ]
  },
  {
   "cell_type": "code",
   "execution_count": null,
   "metadata": {},
   "outputs": [],
   "source": [
    "class Solution:\n",
    "    def lengthLongestPath(self, inputt: str) -> int:\n",
    "        def count_prefix(s):\n",
    "            cnt=0\n",
    "            while s.startswith(\",\"):\n",
    "                s=s[1:]\n",
    "                cnt+=1\n",
    "            return cnt\n",
    "        \n",
    "        inputt=inputt.split(\"\\n\")\n",
    "        inputt=[s.replace(\"\\t\", \",\") for s in inputt]\n",
    "        inputt=[(s[count_prefix(s):], count_prefix(s)) for s in inputt]\n",
    "        stack=[inputt.pop(0)]\n",
    "        res=0\n",
    "        while len(inputt)>0: ## --> does not handle a single-level file\n",
    "            curr=inputt.pop(0)\n",
    "            s, lvl=curr\n",
    "            if lvl==stack[-1][1]+1:\n",
    "                if \".\" in s:\n",
    "                    res=max(res, sum([len(tu[0])+1 for tu in stack])+len(s))\n",
    "                else:\n",
    "                    stack.append(curr)\n",
    "            else:\n",
    "                while lvl<=stack[-1][1]:\n",
    "                    stack.pop(-1)\n",
    "                stack.append(curr)\n",
    "        return res"
   ]
  },
  {
   "cell_type": "markdown",
   "metadata": {},
   "source": [
    "## Attempt 2 - Runtime Error"
   ]
  },
  {
   "cell_type": "code",
   "execution_count": null,
   "metadata": {},
   "outputs": [],
   "source": [
    "class Solution:\n",
    "    def lengthLongestPath(self, inputt: str) -> int:\n",
    "        def count_prefix(s):\n",
    "            cnt=0\n",
    "            while s.startswith(\",\"):\n",
    "                s=s[1:]\n",
    "                cnt+=1\n",
    "            return cnt\n",
    "        \n",
    "        inputt=inputt.split(\"\\n\")\n",
    "        inputt=[s.replace(\"\\t\", \",\") for s in inputt]\n",
    "        inputt=[(s[count_prefix(s):], count_prefix(s)) for s in inputt]\n",
    "        \n",
    "        stack=[inputt.pop(0)]\n",
    "        res=0\n",
    "        while len(stack)>0:\n",
    "            if \".\" in stack[-1][0]:\n",
    "                res=max(res, sum([len(tu[0])+1 for tu in stack])-1)\n",
    "                stack.pop(-1)\n",
    "            else:\n",
    "                if len(inputt)>0:\n",
    "                    curr=inputt.pop(0)\n",
    "                    s, lvl=curr\n",
    "                    if lvl==stack[-1][1]+1:\n",
    "                        stack.append(curr)\n",
    "                    else:\n",
    "                        while lvl<=stack[-1][1]:  ## --> you cannot assume there is always a root folder\n",
    "                            stack.pop(-1)\n",
    "                        stack.append(curr)\n",
    "                else:\n",
    "                    stack.pop(-1)\n",
    "        return res"
   ]
  },
  {
   "cell_type": "markdown",
   "metadata": {},
   "source": [
    "## Attempt 3 - Accepted"
   ]
  },
  {
   "cell_type": "code",
   "execution_count": null,
   "metadata": {},
   "outputs": [],
   "source": [
    "class Solution:\n",
    "    def lengthLongestPath(self, inputt: str) -> int:\n",
    "        def count_prefix(s):\n",
    "            cnt=0\n",
    "            while s.startswith(\",\"):\n",
    "                s=s[1:]\n",
    "                cnt+=1\n",
    "            return cnt\n",
    "        \n",
    "        inputt=inputt.split(\"\\n\")\n",
    "        inputt=[s.replace(\"\\t\", \",\") for s in inputt]\n",
    "        inputt=[(s[count_prefix(s):], count_prefix(s)) for s in inputt]\n",
    "        \n",
    "        stack=[inputt.pop(0)]\n",
    "        res=0\n",
    "        while len(stack)>0:\n",
    "            if \".\" in stack[-1][0]:\n",
    "                res=max(res, sum([len(tu[0])+1 for tu in stack])-1)\n",
    "                stack.pop(-1)\n",
    "            else:\n",
    "                if len(inputt)>0:\n",
    "                    curr=inputt.pop(0)\n",
    "                    s, lvl=curr\n",
    "                    if lvl==stack[-1][1]+1:\n",
    "                        stack.append(curr)\n",
    "                    else:\n",
    "                        if lvl==0:\n",
    "                            stack=[curr]\n",
    "                        else:\n",
    "                            while lvl<=stack[-1][1]:\n",
    "                                stack.pop(-1)\n",
    "                            stack.append(curr)\n",
    "                else:\n",
    "                    stack.pop(-1)\n",
    "        return res"
   ]
  },
  {
   "cell_type": "markdown",
   "metadata": {},
   "source": [
    "## Lessons and Thoughts\n",
    "- For the edge cases, try to think of empty things or list of just one element.\n",
    "- You actually thought of the case where all files/subfolders are at the root level, but then you considered impossible to specify that.\n",
    "- \"\\t\" are special characters and it seems when doing `s=s[2:]` to strip off this prefix, it will become tabs."
   ]
  }
 ],
 "metadata": {
  "kernelspec": {
   "display_name": "Python 3",
   "language": "python",
   "name": "python3"
  },
  "language_info": {
   "codemirror_mode": {
    "name": "ipython",
    "version": 3
   },
   "file_extension": ".py",
   "mimetype": "text/x-python",
   "name": "python",
   "nbconvert_exporter": "python",
   "pygments_lexer": "ipython3",
   "version": "3.7.3"
  }
 },
 "nbformat": 4,
 "nbformat_minor": 2
}
