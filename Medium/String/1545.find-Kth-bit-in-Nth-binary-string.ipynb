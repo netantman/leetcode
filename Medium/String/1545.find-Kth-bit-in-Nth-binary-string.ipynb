{
 "cells": [
  {
   "cell_type": "markdown",
   "metadata": {},
   "source": [
    "## Attempt 1 - Wrong Answer"
   ]
  },
  {
   "cell_type": "code",
   "execution_count": null,
   "metadata": {},
   "outputs": [],
   "source": [
    "class Solution:\n",
    "    def findKthBit(self, n: int, k: int) -> str:\n",
    "        def inner(n, k, flip):\n",
    "            # print(n, k, flip) ## --> n == 1 is a case we need to single out after all!\n",
    "            if k == 2 ** (n - 1):\n",
    "                return 0 if flip else 1\n",
    "            if k < 2 ** (n - 1):\n",
    "                return inner(n - 1, k, flip)\n",
    "            if k > 2 ** (n - 1):\n",
    "                flip ^= False ## --> this does not work\n",
    "                return inner(n - 1, 2 ** n - k, flip)\n",
    "        res = inner(n, k, False)\n",
    "        return str(res)"
   ]
  },
  {
   "cell_type": "markdown",
   "metadata": {},
   "source": [
    "## Attempt 2 - Accepted"
   ]
  },
  {
   "cell_type": "code",
   "execution_count": null,
   "metadata": {},
   "outputs": [],
   "source": [
    "class Solution:\n",
    "    def findKthBit(self, n: int, k: int) -> str:\n",
    "        def inner(n, k, flip):\n",
    "            # print(n, k, flip)\n",
    "            if n == 1:\n",
    "                return 1 if flip else 0\n",
    "            if k == 2 ** (n - 1):\n",
    "                return 0 if flip else 1\n",
    "            if k < 2 ** (n - 1):\n",
    "                return inner(n - 1, k, flip)\n",
    "            if k > 2 ** (n - 1):\n",
    "                flip = False if flip else True\n",
    "                return inner(n - 1, 2 ** n - k, flip)\n",
    "        res = inner(n, k, False)\n",
    "        return str(res)"
   ]
  },
  {
   "cell_type": "markdown",
   "metadata": {},
   "source": [
    "## Lessons and Thoughts\n",
    "- The indexing is not 0-based.\n",
    "- You had the edge case for `n == 1` first time round, but took it off."
   ]
  }
 ],
 "metadata": {
  "kernelspec": {
   "display_name": "Python 3",
   "language": "python",
   "name": "python3"
  },
  "language_info": {
   "codemirror_mode": {
    "name": "ipython",
    "version": 3
   },
   "file_extension": ".py",
   "mimetype": "text/x-python",
   "name": "python",
   "nbconvert_exporter": "python",
   "pygments_lexer": "ipython3",
   "version": "3.7.3"
  }
 },
 "nbformat": 4,
 "nbformat_minor": 2
}
