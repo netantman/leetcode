{
 "cells": [
  {
   "cell_type": "markdown",
   "metadata": {},
   "source": [
    "## Attempt 1 - Runtime Error"
   ]
  },
  {
   "cell_type": "code",
   "execution_count": null,
   "metadata": {},
   "outputs": [],
   "source": [
    "class Solution:\n",
    "    def calculate(self, s: str) -> int:\n",
    "        s=s.strip(\" \")\n",
    "        nums=s.split(\"+-*/\")  ## --> split does not support spliting by multiple delimiter like this\n",
    "        nums=[int(n) for n in nums]\n",
    "        ops=[]\n",
    "        for c in s:\n",
    "            if c in \"+-*/\":\n",
    "                ops.append(c)\n",
    "        if len(ops)<1:\n",
    "            return nums[0]\n",
    "        \n",
    "        while (\"*\" in ops) or (\"/\" in ops):\n",
    "            idx=0\n",
    "            while idx<len(ops):\n",
    "                if (ops[idx]==\"*\") or (ops[idx]==\"/\"):\n",
    "                    break\n",
    "                idx+=1\n",
    "            if ops[idx]==\"*\":\n",
    "                temp=nums[idx]*nums[idx+1]\n",
    "            else:\n",
    "                temp=nums[idx]//nums[idx+1]\n",
    "            nums=nums[:idx]+[temp]+nums[idx+2:]\n",
    "            ops=ops[:idx]+ops[idx+1:]\n",
    "        \n",
    "        while len(ops)>0:\n",
    "            if ops[-1]==\"+\":\n",
    "                temp=nums[-2]+nums[-1] ## --> it is wrong to calculate addition and subtraction from the end!\n",
    "            else:\n",
    "                temp=nums[-2]-nums[-1]\n",
    "            nums=nums[:-2]+[temp] \n",
    "            ops=ops[:-1]\n",
    "        \n",
    "        return nums[0]"
   ]
  },
  {
   "cell_type": "markdown",
   "metadata": {},
   "source": [
    "## Attempt 2 - Time Limit Exceeded"
   ]
  },
  {
   "cell_type": "code",
   "execution_count": null,
   "metadata": {},
   "outputs": [],
   "source": [
    "class Solution:\n",
    "    def calculate(self, s: str) -> int:\n",
    "        s=s.strip(\" \")\n",
    "        s1=s.replace(\"+\", \",\")\n",
    "        s1=s1.replace(\"-\", \",\")\n",
    "        s1=s1.replace(\"*\", \",\")\n",
    "        s1=s1.replace(\"/\", \",\")\n",
    "        nums=s1.split(\",\")\n",
    "        nums=[int(n) for n in nums]\n",
    "        ops=[]\n",
    "        for c in s:\n",
    "            if c in \"+-*/\":\n",
    "                ops.append(c)\n",
    "        if len(ops)<1:\n",
    "            return nums[0]\n",
    "        \n",
    "        while (\"*\" in ops) or (\"/\" in ops):\n",
    "            idx=0\n",
    "            while idx<len(ops):\n",
    "                if (ops[idx]==\"*\") or (ops[idx]==\"/\"):\n",
    "                    break\n",
    "                idx+=1\n",
    "            if ops[idx]==\"*\":\n",
    "                temp=nums[idx]*nums[idx+1]\n",
    "            else:\n",
    "                temp=nums[idx]//nums[idx+1]\n",
    "            nums=nums[:idx]+[temp]+nums[idx+2:]\n",
    "            ops=ops[:idx]+ops[idx+1:]\n",
    "        \n",
    "        while len(ops)>0:\n",
    "            if ops[0]==\"+\":\n",
    "                temp=nums[0]+nums[1]\n",
    "            else:\n",
    "                temp=nums[0]-nums[1]\n",
    "            nums=[temp]+nums[2:]\n",
    "            ops=ops[1:]\n",
    "        \n",
    "        return nums[0]"
   ]
  },
  {
   "cell_type": "markdown",
   "metadata": {},
   "source": [
    "## Attempt 3 - Accepted: some optimization around addition and subtraction seems to work"
   ]
  },
  {
   "cell_type": "code",
   "execution_count": null,
   "metadata": {},
   "outputs": [],
   "source": [
    "class Solution:\n",
    "    def calculate(self, s: str) -> int:\n",
    "        s=s.strip(\" \")\n",
    "        s1=s.replace(\"+\", \",\")\n",
    "        s1=s1.replace(\"-\", \",\")\n",
    "        s1=s1.replace(\"*\", \",\")\n",
    "        s1=s1.replace(\"/\", \",\")\n",
    "        nums=s1.split(\",\")\n",
    "        nums=[int(n) for n in nums]\n",
    "        ops=[]\n",
    "        for c in s:\n",
    "            if c in \"+-*/\":\n",
    "                ops.append(c)\n",
    "        if len(ops)<1:\n",
    "            return nums[0]\n",
    "        \n",
    "        while (\"*\" in ops) or (\"/\" in ops):\n",
    "            idx=0\n",
    "            while idx<len(ops):\n",
    "                if (ops[idx]==\"*\") or (ops[idx]==\"/\"):\n",
    "                    break\n",
    "                idx+=1\n",
    "            if ops[idx]==\"*\":\n",
    "                temp=nums[idx]*nums[idx+1]\n",
    "            else:\n",
    "                temp=nums[idx]//nums[idx+1]\n",
    "            nums=nums[:idx]+[temp]+nums[idx+2:]\n",
    "            ops=ops[:idx]+ops[idx+1:]\n",
    "        \n",
    "        to_subtract=sum([nums[idx+1] for idx in range(len(ops)) if ops[idx]=='-'])\n",
    "        return sum(nums)-2*to_subtract\n",
    "        \n",
    "        # while len(ops)>0:\n",
    "        #     if ops[0]==\"+\":\n",
    "        #         temp=nums[0]+nums[1]\n",
    "        #     else:\n",
    "        #         temp=nums[0]-nums[1]\n",
    "        #     nums=[temp]+nums[2:]\n",
    "        #     ops=ops[1:]\n",
    "        \n",
    "        return nums[0]"
   ]
  },
  {
   "cell_type": "markdown",
   "metadata": {},
   "source": [
    "## Lessons and Thoughts\n",
    "- `split` and `replace` does not support multiple regex. The regular expression module may support something like this."
   ]
  }
 ],
 "metadata": {
  "kernelspec": {
   "display_name": "Python 3",
   "language": "python",
   "name": "python3"
  },
  "language_info": {
   "codemirror_mode": {
    "name": "ipython",
    "version": 3
   },
   "file_extension": ".py",
   "mimetype": "text/x-python",
   "name": "python",
   "nbconvert_exporter": "python",
   "pygments_lexer": "ipython3",
   "version": "3.7.3"
  }
 },
 "nbformat": 4,
 "nbformat_minor": 2
}
