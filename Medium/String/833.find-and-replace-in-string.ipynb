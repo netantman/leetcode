{
 "cells": [
  {
   "cell_type": "markdown",
   "metadata": {},
   "source": [
    "## Attempt 1 - Wrong Answer"
   ]
  },
  {
   "cell_type": "code",
   "execution_count": null,
   "metadata": {},
   "outputs": [],
   "source": [
    "class Solution:\n",
    "    def findReplaceString(self, S: str, indexes: List[int], sources: List[str], targets: List[str]) -> str:\n",
    "        offset=0\n",
    "        for idx, start in enumerate(indexes): ## indexes are not necessarily sorted!\n",
    "            if S[offset+start:offset+start+len(sources[idx])]==sources[idx]:\n",
    "                S=S[:offset+start]+targets[idx]+S[offset+start+len(sources[idx]):]\n",
    "                offset+=(len(targets[idx])-len(sources[idx]))\n",
    "        return S"
   ]
  },
  {
   "cell_type": "markdown",
   "metadata": {},
   "source": [
    "## Attempt 2 - Accepted"
   ]
  },
  {
   "cell_type": "code",
   "execution_count": null,
   "metadata": {},
   "outputs": [],
   "source": [
    "class Solution:\n",
    "    def findReplaceString(self, S: str, indexes: List[int], sources: List[str], targets: List[str]) -> str:\n",
    "        offset=0\n",
    "        data=sorted(list(zip(indexes, sources, targets)))\n",
    "        indexes=[d[0] for d in data]\n",
    "        sources=[d[1] for d in data]\n",
    "        targets=[d[2] for d in data]\n",
    "        for idx, start in enumerate(indexes):\n",
    "            if S[offset+start:offset+start+len(sources[idx])]==sources[idx]:\n",
    "                S=S[:offset+start]+targets[idx]+S[offset+start+len(sources[idx]):]\n",
    "                offset+=(len(targets[idx])-len(sources[idx]))\n",
    "        return S"
   ]
  },
  {
   "cell_type": "markdown",
   "metadata": {},
   "source": [
    "## Lessons and Thoughts\n",
    "- The way to sort multiple things by a key."
   ]
  }
 ],
 "metadata": {
  "kernelspec": {
   "display_name": "Python 3",
   "language": "python",
   "name": "python3"
  },
  "language_info": {
   "codemirror_mode": {
    "name": "ipython",
    "version": 3
   },
   "file_extension": ".py",
   "mimetype": "text/x-python",
   "name": "python",
   "nbconvert_exporter": "python",
   "pygments_lexer": "ipython3",
   "version": "3.7.3"
  }
 },
 "nbformat": 4,
 "nbformat_minor": 2
}
