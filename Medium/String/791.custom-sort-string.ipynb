{
 "cells": [
  {
   "cell_type": "markdown",
   "metadata": {},
   "source": [
    "## Attempt 1 - Wrong Answer"
   ]
  },
  {
   "cell_type": "markdown",
   "metadata": {},
   "source": [
    "By implication, all same letters that appear in `S` should be grouped together."
   ]
  },
  {
   "cell_type": "code",
   "execution_count": null,
   "metadata": {},
   "outputs": [],
   "source": [
    "class Solution:\n",
    "    def customSortString(self, S: str, T: str) -> str:\n",
    "        record=[0 for _ in range(26)]\n",
    "        for c in T:\n",
    "            record[ord(c)-ord(\"a\")]+=1\n",
    "        res=\"\"\n",
    "        for c in S:\n",
    "            if record[ord(c)-ord(\"a\")]>=1:\n",
    "                record[ord(c)-ord(\"a\")]-=1\n",
    "                res+=c\n",
    "        for idx, r in enumerate(record):\n",
    "            if r>0:\n",
    "                res+=chr(ord(\"a\")+idx)*r\n",
    "        return res"
   ]
  },
  {
   "cell_type": "markdown",
   "metadata": {},
   "source": [
    "## Attempt 2 - Accepted"
   ]
  },
  {
   "cell_type": "code",
   "execution_count": null,
   "metadata": {},
   "outputs": [],
   "source": [
    "class Solution:\n",
    "    def customSortString(self, S: str, T: str) -> str:\n",
    "        record=[0 for _ in range(26)]\n",
    "        for c in T:\n",
    "            record[ord(c)-ord(\"a\")]+=1\n",
    "        res=\"\"\n",
    "        for c in S:\n",
    "            if record[ord(c)-ord(\"a\")]>=1:\n",
    "                res+=c*record[ord(c)-ord(\"a\")]\n",
    "            record[ord(c)-ord(\"a\")]=0\n",
    "        for idx, r in enumerate(record):\n",
    "            if r>0:\n",
    "                res+=chr(ord(\"a\")+idx)*r\n",
    "        return res"
   ]
  },
  {
   "cell_type": "markdown",
   "metadata": {},
   "source": [
    "## Lessons and Thoughts\n",
    "- The inverse of `ord`: `chr`."
   ]
  }
 ],
 "metadata": {
  "kernelspec": {
   "display_name": "Python 3",
   "language": "python",
   "name": "python3"
  },
  "language_info": {
   "codemirror_mode": {
    "name": "ipython",
    "version": 3
   },
   "file_extension": ".py",
   "mimetype": "text/x-python",
   "name": "python",
   "nbconvert_exporter": "python",
   "pygments_lexer": "ipython3",
   "version": "3.7.3"
  }
 },
 "nbformat": 4,
 "nbformat_minor": 2
}
