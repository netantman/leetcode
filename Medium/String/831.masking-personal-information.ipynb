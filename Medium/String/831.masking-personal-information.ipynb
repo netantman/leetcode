{
 "cells": [
  {
   "cell_type": "markdown",
   "metadata": {},
   "source": [
    "## Attempt 1 - Accepted"
   ]
  },
  {
   "cell_type": "code",
   "execution_count": null,
   "metadata": {},
   "outputs": [],
   "source": [
    "class Solution:\n",
    "    def maskPII(self, S: str) -> str:\n",
    "        if \"@\" in S:\n",
    "            first, domain=S.split(\"@\")\n",
    "            return first[0].lower()+\"*****\"+first[-1].lower()+\"@\"+domain.lower()\n",
    "        else:\n",
    "            nums=[c for c in S if c.isnumeric()]\n",
    "            if len(nums)==10:\n",
    "                return \"***-***-\"+\"\".join(nums[-4:])\n",
    "            else:\n",
    "                return \"+\"+\"*\"*(len(nums)-10)+\"-***-***-\"+\"\".join(nums[-4:])"
   ]
  },
  {
   "cell_type": "markdown",
   "metadata": {},
   "source": [
    "## Lessons and Thoughts\n",
    "- The case for phone numbers seem tricky at first, but the key is to recognize that different cases are only differentiated by the number of digits.\n",
    "- `isnumeric`, `isalpha`, `isdigit`"
   ]
  }
 ],
 "metadata": {
  "kernelspec": {
   "display_name": "Python 3",
   "language": "python",
   "name": "python3"
  },
  "language_info": {
   "codemirror_mode": {
    "name": "ipython",
    "version": 3
   },
   "file_extension": ".py",
   "mimetype": "text/x-python",
   "name": "python",
   "nbconvert_exporter": "python",
   "pygments_lexer": "ipython3",
   "version": "3.7.3"
  }
 },
 "nbformat": 4,
 "nbformat_minor": 2
}
