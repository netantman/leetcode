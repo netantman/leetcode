{
 "cells": [
  {
   "cell_type": "markdown",
   "metadata": {},
   "source": [
    "## Attempt 1 - Wrong Answer"
   ]
  },
  {
   "cell_type": "code",
   "execution_count": null,
   "metadata": {},
   "outputs": [],
   "source": [
    "class Solution:\n",
    "    def placeWordInCrossword(self, board: List[List[str]], word: str) -> bool:\n",
    "        R, C = len(board), len(board[0])\n",
    "        \n",
    "        def get_row(r):\n",
    "            return \"\".join(board[r])\n",
    "        \n",
    "        def get_col(c):\n",
    "            return \"\".join([board[r][c] for r in range(R)])\n",
    "            \n",
    "        def compare(stripped, word):\n",
    "            \n",
    "            L = len(stripped)\n",
    "            \n",
    "            for idx in range(L):\n",
    "                if stripped[idx] != ' ' and stripped[idx] != word[idx]:\n",
    "                    break\n",
    "            else:\n",
    "                return True\n",
    "            \n",
    "            for idx in range(L):\n",
    "                if stripped[idx] != ' ' and stripped[idx] != word[L - 1 - idx]:\n",
    "                    break\n",
    "            else:\n",
    "                return True\n",
    "            \n",
    "            return False\n",
    "            \n",
    "        \n",
    "        for r in range(R):\n",
    "            row = get_row(r)\n",
    "            stripped = row.lstrip('#').rstrip('#') ## --> It is OK that the \n",
    "            if len(stripped) != len(word):\n",
    "                continue\n",
    "            if stripped == word or stripped == word[::-1]:\n",
    "                return True\n",
    "            if compare(stripped, word):\n",
    "                return True\n",
    "        \n",
    "        for c in range(C):\n",
    "            col = get_col(c)\n",
    "            stripped = col.lstrip('#').rstrip('#')\n",
    "            if len(stripped) != len(word):\n",
    "                continue\n",
    "            if stripped == word or stripped == word[::-1]:\n",
    "                return True\n",
    "            if compare(stripped, word):\n",
    "                return True\n",
    "        \n",
    "        return False"
   ]
  },
  {
   "cell_type": "markdown",
   "metadata": {},
   "source": [
    "## Attempt 2 - Accepted"
   ]
  },
  {
   "cell_type": "code",
   "execution_count": null,
   "metadata": {},
   "outputs": [],
   "source": [
    "class Solution:\n",
    "    def placeWordInCrossword(self, board: List[List[str]], word: str) -> bool:\n",
    "        R, C = len(board), len(board[0])\n",
    "        \n",
    "        def get_row(r):\n",
    "            return \"\".join(board[r])\n",
    "        \n",
    "        def get_col(c):\n",
    "            return \"\".join([board[r][c] for r in range(R)])\n",
    "            \n",
    "        def compare(st, word):\n",
    "            \n",
    "            L = len(st)\n",
    "            \n",
    "            for idx in range(L):\n",
    "                if st[idx] != ' ' and st[idx] != word[idx]:\n",
    "                    break\n",
    "            else:\n",
    "                return True\n",
    "            \n",
    "            for idx in range(L):\n",
    "                if st[idx] != ' ' and st[idx] != word[L - 1 - idx]:\n",
    "                    break\n",
    "            else:\n",
    "                return True\n",
    "            \n",
    "            return False\n",
    "            \n",
    "        \n",
    "        for r in range(R):\n",
    "            row = get_row(r)\n",
    "            stripped = row.split('#')\n",
    "            # print(stripped)\n",
    "            for st in stripped:\n",
    "                if len(st) != len(word):\n",
    "                    continue\n",
    "                if st == word or st == word[::-1]:\n",
    "                    return True\n",
    "                if compare(st, word):\n",
    "                    return True\n",
    "        \n",
    "        for c in range(C):\n",
    "            col = get_col(c)\n",
    "            stripped = col.split('#')\n",
    "            # print(stripped)\n",
    "            for st in stripped:\n",
    "                if len(st) != len(word):\n",
    "                    continue\n",
    "                if st == word or st == word[::-1]:\n",
    "                    return True\n",
    "                if compare(st, word):\n",
    "                    return True\n",
    "        \n",
    "        return False"
   ]
  },
  {
   "cell_type": "markdown",
   "metadata": {},
   "source": [
    "## Lessons and Thoughts\n",
    "- The problem setting is a bit involved, but the built-in functions in `python` make it easy."
   ]
  }
 ],
 "metadata": {
  "kernelspec": {
   "display_name": "Python 3",
   "language": "python",
   "name": "python3"
  },
  "language_info": {
   "codemirror_mode": {
    "name": "ipython",
    "version": 3
   },
   "file_extension": ".py",
   "mimetype": "text/x-python",
   "name": "python",
   "nbconvert_exporter": "python",
   "pygments_lexer": "ipython3",
   "version": "3.7.3"
  }
 },
 "nbformat": 4,
 "nbformat_minor": 2
}
