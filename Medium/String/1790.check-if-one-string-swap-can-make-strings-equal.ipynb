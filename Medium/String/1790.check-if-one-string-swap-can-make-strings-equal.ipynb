{
 "cells": [
  {
   "cell_type": "markdown",
   "metadata": {},
   "source": [
    "## Attempt 1 - Accepted"
   ]
  },
  {
   "cell_type": "code",
   "execution_count": null,
   "metadata": {},
   "outputs": [],
   "source": [
    "class Solution:\n",
    "    def areAlmostEqual(self, s1: str, s2: str) -> bool:\n",
    "        rec1, rec2 = dict(), dict()\n",
    "        for c in s1:\n",
    "            rec1[c] = rec1.get(c, 0) + 1\n",
    "        for c in s2:\n",
    "            rec2[c] = rec2.get(c, 0) + 1\n",
    "        \n",
    "        if rec1 != rec2:\n",
    "            return False\n",
    "        \n",
    "        cnt = 0\n",
    "        for c1, c2 in zip(s1, s2):\n",
    "            cnt += 1 if c1 != c2 else 0\n",
    "        return cnt <= 2"
   ]
  },
  {
   "cell_type": "markdown",
   "metadata": {},
   "source": [
    "## Lessons and Thoughts\n",
    "- Straightforward"
   ]
  }
 ],
 "metadata": {
  "kernelspec": {
   "display_name": "Python 3",
   "language": "python",
   "name": "python3"
  },
  "language_info": {
   "codemirror_mode": {
    "name": "ipython",
    "version": 3
   },
   "file_extension": ".py",
   "mimetype": "text/x-python",
   "name": "python",
   "nbconvert_exporter": "python",
   "pygments_lexer": "ipython3",
   "version": "3.7.3"
  }
 },
 "nbformat": 4,
 "nbformat_minor": 2
}
