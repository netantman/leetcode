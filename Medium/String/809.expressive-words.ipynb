{
 "cells": [
  {
   "cell_type": "markdown",
   "metadata": {},
   "source": [
    "## Attempt 1 - Accepted"
   ]
  },
  {
   "cell_type": "code",
   "execution_count": null,
   "metadata": {},
   "outputs": [],
   "source": [
    "class Solution:\n",
    "    def expressiveWords(self, S: str, words: List[str]) -> int:\n",
    "        def detach(word):\n",
    "            if len(word)<1:\n",
    "                return [],[]\n",
    "            chars,cnts=[],[]\n",
    "            char=word[0]\n",
    "            cnt=1\n",
    "            for c in word[1:]:\n",
    "                if c==char:\n",
    "                    cnt+=1\n",
    "                else:\n",
    "                    chars.append(char)\n",
    "                    cnts.append(cnt)\n",
    "                    char=c\n",
    "                    cnt=1\n",
    "            chars.append(char)\n",
    "            cnts.append(cnt)\n",
    "            return chars, cnts\n",
    "        bench_chars, bench_cnts=detach(S)\n",
    "        res=0\n",
    "        for w in words:\n",
    "            chars, cnts=detach(w)\n",
    "            if chars==bench_chars:\n",
    "                for idx, cnt in enumerate(bench_cnts):\n",
    "                    if cnt<=2: \n",
    "                        if cnts[idx]!=cnt:\n",
    "                            break\n",
    "                    else: \n",
    "                        if cnt<cnts[idx]:\n",
    "                            break\n",
    "                else:\n",
    "                    res+=1\n",
    "        return res"
   ]
  },
  {
   "cell_type": "markdown",
   "metadata": {},
   "source": [
    "## Lessons and Thoughts\n",
    "- Brute force. Just remember to deal with the edge case of empty string."
   ]
  }
 ],
 "metadata": {
  "kernelspec": {
   "display_name": "Python 3",
   "language": "python",
   "name": "python3"
  },
  "language_info": {
   "codemirror_mode": {
    "name": "ipython",
    "version": 3
   },
   "file_extension": ".py",
   "mimetype": "text/x-python",
   "name": "python",
   "nbconvert_exporter": "python",
   "pygments_lexer": "ipython3",
   "version": "3.7.3"
  }
 },
 "nbformat": 4,
 "nbformat_minor": 2
}
