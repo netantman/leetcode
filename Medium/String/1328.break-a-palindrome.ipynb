{
 "cells": [
  {
   "cell_type": "markdown",
   "metadata": {},
   "source": [
    "## Attempt 1 - Accepted"
   ]
  },
  {
   "cell_type": "code",
   "execution_count": null,
   "metadata": {},
   "outputs": [],
   "source": [
    "class Solution:\n",
    "    def breakPalindrome(self, palindrome: str) -> str:\n",
    "        L=len(palindrome)\n",
    "        if L<2:\n",
    "            return \"\"\n",
    "        left,right=0,L-1\n",
    "        while left<right:\n",
    "            if palindrome[left]==\"a\":\n",
    "                left+=1\n",
    "                right-=1\n",
    "            else:\n",
    "                res=[c for c in palindrome]\n",
    "                res[left]=\"a\"\n",
    "                return \"\".join(res)\n",
    "        res=[c for c in palindrome]\n",
    "        res[-1]=\"b\"\n",
    "        return \"\".join(res)"
   ]
  },
  {
   "cell_type": "markdown",
   "metadata": {},
   "source": [
    "## Lessons and Thoughts\n",
    "- The edge case is when the string is all \"a\", or all but one is \"a\"."
   ]
  }
 ],
 "metadata": {
  "kernelspec": {
   "display_name": "Python 3",
   "language": "python",
   "name": "python3"
  },
  "language_info": {
   "codemirror_mode": {
    "name": "ipython",
    "version": 3
   },
   "file_extension": ".py",
   "mimetype": "text/x-python",
   "name": "python",
   "nbconvert_exporter": "python",
   "pygments_lexer": "ipython3",
   "version": "3.7.3"
  }
 },
 "nbformat": 4,
 "nbformat_minor": 2
}
