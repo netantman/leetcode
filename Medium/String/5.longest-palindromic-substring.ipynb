{
 "cells": [
  {
   "cell_type": "markdown",
   "metadata": {},
   "source": [
    "## Attempt 1"
   ]
  },
  {
   "cell_type": "code",
   "execution_count": null,
   "metadata": {},
   "outputs": [],
   "source": [
    "class Solution:\n",
    "    def longestPalindrome(self, s: str) -> str:\n",
    "        if len(s)<1:\n",
    "            return \"\"\n",
    "        elif len(s)==1:\n",
    "            return s\n",
    "        max_len = 1\n",
    "        res = s[0]\n",
    "        s_len = len(s)\n",
    "        candidates = { (idx,idx+1) for idx in range(s_len) }\n",
    "        for idx in range(s_len):    ## --> Be careful about string out-of-range error!\n",
    "            if s[idx] == s[idx+1]:\n",
    "                candidates.add((idx, idx+2))\n",
    "        while len(candidates)>0:\n",
    "            c = candidates.pop()\n",
    "            left, right = c\n",
    "            if (left == 0) or (right == s_len):\n",
    "                if right-left>max_len:\n",
    "                    max_len = right-left\n",
    "                    res = s[left:right]\n",
    "            if s[left-1] == s[right]:  ## --> Use elif, if you want to run different cases!\n",
    "                candidates.add((left-1, right+1))\n",
    "            else:\n",
    "                if right-left>max_len:\n",
    "                    max_len = right-left\n",
    "                    res = s[left:right]\n",
    "        return res"
   ]
  },
  {
   "cell_type": "markdown",
   "metadata": {},
   "source": [
    "## Attempt 2 - Accepted"
   ]
  },
  {
   "cell_type": "code",
   "execution_count": null,
   "metadata": {},
   "outputs": [],
   "source": [
    "class Solution:\n",
    "    def longestPalindrome(self, s: str) -> str:\n",
    "        if len(s)<1:\n",
    "            return \"\"\n",
    "        elif len(s)==1:\n",
    "            return s\n",
    "        max_len = 1\n",
    "        res = s[0]\n",
    "        s_len = len(s)\n",
    "        candidates = { (idx,idx+1) for idx in range(s_len) }\n",
    "        for idx in range(s_len-1):\n",
    "            if s[idx] == s[idx+1]:\n",
    "                candidates.add((idx, idx+2))\n",
    "        while len(candidates)>0:\n",
    "            c = candidates.pop()\n",
    "            left, right = c\n",
    "            if (left == 0) or (right == s_len) or (s[left-1] != s[right]): ## --> consolidate the check cases\n",
    "                if right-left>max_len:\n",
    "                    max_len = right-left\n",
    "                    res = s[left:right]\n",
    "            else:\n",
    "                candidates.add((left-1, right+1))\n",
    "        return res"
   ]
  },
  {
   "cell_type": "markdown",
   "metadata": {},
   "source": [
    "## Lessons and Thoughts\n",
    "\n",
    "- For strings, a common error is accessing element out of range; see Attempt 1.\n",
    "- Remember to use elif if you intend to run different cases; see Attempt 1.\n",
    "- Not exactly sure why this is labeled 'dynamic programming'."
   ]
  }
 ],
 "metadata": {
  "kernelspec": {
   "display_name": "Python 3",
   "language": "python",
   "name": "python3"
  },
  "language_info": {
   "codemirror_mode": {
    "name": "ipython",
    "version": 3
   },
   "file_extension": ".py",
   "mimetype": "text/x-python",
   "name": "python",
   "nbconvert_exporter": "python",
   "pygments_lexer": "ipython3",
   "version": "3.7.3"
  }
 },
 "nbformat": 4,
 "nbformat_minor": 2
}
