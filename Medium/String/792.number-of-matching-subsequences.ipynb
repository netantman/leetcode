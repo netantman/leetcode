{
 "cells": [
  {
   "cell_type": "markdown",
   "metadata": {},
   "source": [
    "## Attempt 1 - Time Limit Exceeded"
   ]
  },
  {
   "cell_type": "code",
   "execution_count": null,
   "metadata": {},
   "outputs": [],
   "source": [
    "class Solution:\n",
    "    def numMatchingSubseq(self, S: str, words: List[str]) -> int:\n",
    "        record=[0 for _ in words]\n",
    "        for c in S:\n",
    "            for idx, w in enumerate(words):\n",
    "                if record[idx]==len(w):\n",
    "                    continue\n",
    "                if w[record[idx]]==c:\n",
    "                    record[idx]+=1\n",
    "        return sum(map(lambda x: x[0]==len(x[1]), zip(record, words)))"
   ]
  },
  {
   "cell_type": "markdown",
   "metadata": {},
   "source": [
    "## Attempt 2 - Accepted"
   ]
  },
  {
   "cell_type": "code",
   "execution_count": null,
   "metadata": {},
   "outputs": [],
   "source": [
    "class Solution:\n",
    "    def numMatchingSubseq(self, S: str, words: List[str]) -> int:\n",
    "        record=[[] for _ in range(26)]\n",
    "        for w in words:\n",
    "            record[ord(w[0])-ord(\"a\")].append((0,w))\n",
    "        res=0\n",
    "        # print(record)\n",
    "        for c in S:\n",
    "            # print(c)\n",
    "            bucket=record[ord(c)-ord(\"a\")]\n",
    "            record[ord(c)-ord(\"a\")]=[]\n",
    "            for elem in bucket:\n",
    "                idx,word=elem\n",
    "                if idx+1==len(word):\n",
    "                    res+=1\n",
    "                else:\n",
    "                    record[ord(word[idx+1])-ord(\"a\")].append((idx+1,word))\n",
    "            # print(record)\n",
    "        return res"
   ]
  },
  {
   "cell_type": "markdown",
   "metadata": {},
   "source": [
    "## Lessons and Thoughts\n",
    "- Two pointers need to be careful not to have index errors\n",
    "- The optimization idea is to use a hash table to record all pointing letter for the words in the dictionary."
   ]
  }
 ],
 "metadata": {
  "kernelspec": {
   "display_name": "Python 3",
   "language": "python",
   "name": "python3"
  },
  "language_info": {
   "codemirror_mode": {
    "name": "ipython",
    "version": 3
   },
   "file_extension": ".py",
   "mimetype": "text/x-python",
   "name": "python",
   "nbconvert_exporter": "python",
   "pygments_lexer": "ipython3",
   "version": "3.7.3"
  }
 },
 "nbformat": 4,
 "nbformat_minor": 2
}
