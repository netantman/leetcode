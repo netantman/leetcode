{
 "cells": [
  {
   "cell_type": "markdown",
   "metadata": {},
   "source": [
    "## Attempt 1 - Runtime Error"
   ]
  },
  {
   "cell_type": "code",
   "execution_count": null,
   "metadata": {},
   "outputs": [],
   "source": [
    "class Solution:\n",
    "    def generatePalindromes(self, s: str) -> List[str]:\n",
    "        count = [0 for _ in range(26)]\n",
    "        for c in s:\n",
    "            count[ord(c) - ord(\"a\")] += 1\n",
    "\n",
    "        single = [c for c in count if c % 2 > 0]\n",
    "        if len(single) > 1:\n",
    "            return []\n",
    "        \n",
    "        letters = []\n",
    "        center = \"\"\n",
    "        for idx, c in enumerate(count):\n",
    "            letter = chr(ord(\"a\") + idx)\n",
    "            for _ in range(c // 2):\n",
    "                letters.append(letter)\n",
    "            if c % 2 > 0:\n",
    "                center = letter\n",
    "        \n",
    "        sides = [letters[0]] ## --> index access out of range!\n",
    "        L = len(letters)\n",
    "        for i in range(1, L):\n",
    "            letter = letters[i]\n",
    "            new = []\n",
    "            for s in sides:\n",
    "                for j in range(i + 1):\n",
    "                    new.append(s[:j] + letter + s[j:])\n",
    "            sides = new\n",
    "        sides = set(sides)\n",
    "        return [s + center + s[::-1] for s in sides]"
   ]
  },
  {
   "cell_type": "markdown",
   "metadata": {},
   "source": [
    "## Attempt 2 - Accepted"
   ]
  },
  {
   "cell_type": "code",
   "execution_count": null,
   "metadata": {},
   "outputs": [],
   "source": [
    "class Solution:\n",
    "    def generatePalindromes(self, s: str) -> List[str]:\n",
    "        count = [0 for _ in range(26)]\n",
    "        for c in s:\n",
    "            count[ord(c) - ord(\"a\")] += 1\n",
    "\n",
    "        single = [c for c in count if c % 2 > 0]\n",
    "        if len(single) > 1:\n",
    "            return []\n",
    "        \n",
    "        letters = []\n",
    "        center = \"\"\n",
    "        for idx, c in enumerate(count):\n",
    "            letter = chr(ord(\"a\") + idx)\n",
    "            for _ in range(c // 2):\n",
    "                letters.append(letter)\n",
    "            if c % 2 > 0:\n",
    "                center = letter\n",
    "        \n",
    "        if letters == []:\n",
    "            return [center]\n",
    "        \n",
    "        sides = [letters[0]]\n",
    "        L = len(letters)\n",
    "        for i in range(1, L):\n",
    "            letter = letters[i]\n",
    "            new = []\n",
    "            for s in sides:\n",
    "                for j in range(i + 1):\n",
    "                    new.append(s[:j] + letter + s[j:])\n",
    "            sides = new\n",
    "        sides = set(sides)\n",
    "        return [s + center + s[::-1] for s in sides]"
   ]
  },
  {
   "cell_type": "markdown",
   "metadata": {},
   "source": [
    "## Lessons and Thoughts\n",
    "- Index out of range error..."
   ]
  }
 ],
 "metadata": {
  "kernelspec": {
   "display_name": "Python 3",
   "language": "python",
   "name": "python3"
  },
  "language_info": {
   "codemirror_mode": {
    "name": "ipython",
    "version": 3
   },
   "file_extension": ".py",
   "mimetype": "text/x-python",
   "name": "python",
   "nbconvert_exporter": "python",
   "pygments_lexer": "ipython3",
   "version": "3.7.3"
  }
 },
 "nbformat": 4,
 "nbformat_minor": 2
}
