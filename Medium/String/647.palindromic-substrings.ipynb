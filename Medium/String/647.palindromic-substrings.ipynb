{
 "cells": [
  {
   "cell_type": "markdown",
   "metadata": {},
   "source": [
    "## Attempt 1 - Accepted"
   ]
  },
  {
   "cell_type": "code",
   "execution_count": null,
   "metadata": {},
   "outputs": [],
   "source": [
    "class Solution:\n",
    "    def countSubstrings(self, s: str) -> int:\n",
    "        if not s:\n",
    "            return 0\n",
    "        if len(s) == 1 :\n",
    "            return 1\n",
    "        dp = [[False for _ in range(len(s))] for _ in range(len(s))]\n",
    "        for i in range(len(s)):\n",
    "            dp[i][i] = True\n",
    "\n",
    "        for r in range(len(s)):\n",
    "            for l in range(r+1):\n",
    "                if s[r] == s[l] and (r-l<3 or dp[l+1][r-1]):\n",
    "                    dp[l][r] = True\n",
    "        \n",
    "        ans = [0 for _ in range(len(s))]\n",
    "\n",
    "        for r in range(len(s)):\n",
    "            for l in range(r+1):\n",
    "                if dp[l][r]:\n",
    "                    ans[r] += 1\n",
    "        \n",
    "        return sum(ans)"
   ]
  },
  {
   "cell_type": "markdown",
   "metadata": {},
   "source": [
    "## Lessons and Thoughts\n",
    "- Solution is from leetcode app. Also it uses DP and it is labeled as such on leetcode, this is not much difference in just growing the palindroms at different locations."
   ]
  }
 ],
 "metadata": {
  "kernelspec": {
   "display_name": "Python 3",
   "language": "python",
   "name": "python3"
  },
  "language_info": {
   "codemirror_mode": {
    "name": "ipython",
    "version": 3
   },
   "file_extension": ".py",
   "mimetype": "text/x-python",
   "name": "python",
   "nbconvert_exporter": "python",
   "pygments_lexer": "ipython3",
   "version": "3.7.3"
  }
 },
 "nbformat": 4,
 "nbformat_minor": 2
}
