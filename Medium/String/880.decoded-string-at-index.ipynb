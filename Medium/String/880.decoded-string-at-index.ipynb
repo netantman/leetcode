{
 "cells": [
  {
   "cell_type": "markdown",
   "metadata": {},
   "source": [
    "## Attempt 1 - Wrong Answer"
   ]
  },
  {
   "cell_type": "code",
   "execution_count": null,
   "metadata": {},
   "outputs": [],
   "source": [
    "class Solution:\n",
    "    def decodeAtIndex(self, S: str, K: int) -> str:\n",
    "        word=[]\n",
    "        num=[]\n",
    "        for c in S:\n",
    "            if c.isalpha():\n",
    "                if len(num)>0:\n",
    "                    if K>len(word)*int(\"\".join(num)):\n",
    "                        K-=len(word)*int(\"\".join(num))\n",
    "                        word=[c] ## --> what is repeated is what is already on the tape\n",
    "                        num=[]\n",
    "                    else:\n",
    "                        return word[(K-1)%len(word)]\n",
    "                else:\n",
    "                    word.append(c)\n",
    "            else:\n",
    "                num.append(c)\n",
    "        return word[(K-1)%len(word)]"
   ]
  },
  {
   "cell_type": "markdown",
   "metadata": {},
   "source": [
    "## Attempt 2 - Time Limit Exceeded"
   ]
  },
  {
   "cell_type": "code",
   "execution_count": null,
   "metadata": {},
   "outputs": [],
   "source": [
    "class Solution:\n",
    "    def decodeAtIndex(self, S: str, K: int) -> str:\n",
    "        word=[]\n",
    "        num=[]\n",
    "        for c in S:\n",
    "            if c.isalpha():\n",
    "                word.append(c)\n",
    "            else:\n",
    "                word=word*int(c)\n",
    "            if K<=len(word):\n",
    "                return word[K-1]"
   ]
  },
  {
   "cell_type": "markdown",
   "metadata": {},
   "source": [
    "## Attempt 3 - Accepted"
   ]
  },
  {
   "cell_type": "code",
   "execution_count": null,
   "metadata": {},
   "outputs": [],
   "source": [
    "class Solution(object):\n",
    "    def decodeAtIndex(self, S, K):\n",
    "        size = 0\n",
    "        # Find size = length of decoded string\n",
    "        for c in S:\n",
    "            if c.isdigit():\n",
    "                size *= int(c)\n",
    "            else:\n",
    "                size += 1\n",
    "\n",
    "        for c in reversed(S):\n",
    "            K %= size\n",
    "            if K == 0 and c.isalpha():\n",
    "                return c\n",
    "\n",
    "            if c.isdigit():\n",
    "                size /= int(c)\n",
    "            else:\n",
    "                size -= 1"
   ]
  },
  {
   "cell_type": "markdown",
   "metadata": {},
   "source": [
    "## Lessons and Thoughts\n",
    "- The accepted solution is from the leetcode app. The idea is to work backwards and recognize it is mod against last `size` that matters."
   ]
  }
 ],
 "metadata": {
  "kernelspec": {
   "display_name": "Python 3",
   "language": "python",
   "name": "python3"
  },
  "language_info": {
   "codemirror_mode": {
    "name": "ipython",
    "version": 3
   },
   "file_extension": ".py",
   "mimetype": "text/x-python",
   "name": "python",
   "nbconvert_exporter": "python",
   "pygments_lexer": "ipython3",
   "version": "3.7.3"
  }
 },
 "nbformat": 4,
 "nbformat_minor": 2
}
