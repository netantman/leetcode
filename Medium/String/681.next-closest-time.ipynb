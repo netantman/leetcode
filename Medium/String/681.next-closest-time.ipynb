{
 "cells": [
  {
   "cell_type": "markdown",
   "metadata": {},
   "source": [
    "## Attempt 1 - Wrong Answer"
   ]
  },
  {
   "cell_type": "code",
   "execution_count": null,
   "metadata": {},
   "outputs": [],
   "source": [
    "class Solution:\n",
    "    def nextClosestTime(self, time: str) -> str:\n",
    "        digits = set([time[0], time[1], time[3], time[4]])\n",
    "        times = [(int(d1 + d2), int(d3 + d4)) for (d1, d2, d3, d4) in itertools.product(digits, digits, digits, digits) if int(d1 + d2) >= 0 and int(d1 + d2) < 24 and int(d3 + d4) >= 0 and int(d3 + d4) < 60]\n",
    "        times = sorted(times)\n",
    "        time = ((int(time[0] + time[1]), int(time[3] + time[4])))\n",
    "        \n",
    "        res = None\n",
    "        if time == times[0]:\n",
    "            res = times[1] ## --> there could be only one element in times\n",
    "        elif time == times[-1]:\n",
    "            res = times[0]\n",
    "        else:\n",
    "            l, r = 0, len(times) - 1\n",
    "            while l < r:\n",
    "                m = (l + r) // 2\n",
    "                curr = times[m]\n",
    "                if time[0] < curr[0]:\n",
    "                    r = m\n",
    "                    continue\n",
    "                if time[0] > curr[0]:\n",
    "                    l = m\n",
    "                    continue\n",
    "                if time[1] < curr[1]:\n",
    "                    r = m\n",
    "                    continue\n",
    "                if time[1] > curr[1]:\n",
    "                    l = m\n",
    "                    continue\n",
    "                res = times[m + 1]\n",
    "                break\n",
    "        \n",
    "        return str(res[0]) + \":\" + str(res[1]) ## --> did not take into account leading 0"
   ]
  },
  {
   "cell_type": "markdown",
   "metadata": {},
   "source": [
    "## Attempt 2 - Accepted"
   ]
  },
  {
   "cell_type": "code",
   "execution_count": null,
   "metadata": {},
   "outputs": [],
   "source": [
    "class Solution:\n",
    "    def nextClosestTime(self, time: str) -> str:\n",
    "        digits = set([time[0], time[1], time[3], time[4]])\n",
    "        times = [(int(d1 + d2), int(d3 + d4)) for (d1, d2, d3, d4) in itertools.product(digits, digits, digits, digits) if int(d1 + d2) >= 0 and int(d1 + d2) < 24 and int(d3 + d4) >= 0 and int(d3 + d4) < 60]\n",
    "        times = sorted(times)\n",
    "        time = ((int(time[0] + time[1]), int(time[3] + time[4])))\n",
    "        \n",
    "        res = None\n",
    "        if time == times[0]:\n",
    "            res = times[1] if len(times) > 1 else times[0]\n",
    "        elif time == times[-1]:\n",
    "            res = times[0]\n",
    "        else:\n",
    "            l, r = 0, len(times) - 1\n",
    "            while l < r:\n",
    "                m = (l + r) // 2\n",
    "                curr = times[m]\n",
    "                if time[0] < curr[0]:\n",
    "                    r = m\n",
    "                    continue\n",
    "                if time[0] > curr[0]:\n",
    "                    l = m\n",
    "                    continue\n",
    "                if time[1] < curr[1]:\n",
    "                    r = m\n",
    "                    continue\n",
    "                if time[1] > curr[1]:\n",
    "                    l = m\n",
    "                    continue\n",
    "                res = times[m + 1]\n",
    "                break\n",
    "        \n",
    "        res0 = str(res[0]) if res[0] > 9 else \"0\" + str(res[0])\n",
    "        res1 = str(res[1]) if res[1] > 9 else \"0\" + str(res[1])\n",
    "        \n",
    "        return res0 + \":\" + res1"
   ]
  },
  {
   "cell_type": "markdown",
   "metadata": {},
   "source": [
    "## Lessons and Thoughts\n",
    "- Padding 0 is always an edge case to consider for integar-string problems.\n",
    "- Always be mindful of index out of range!"
   ]
  }
 ],
 "metadata": {
  "kernelspec": {
   "display_name": "Python 3",
   "language": "python",
   "name": "python3"
  },
  "language_info": {
   "codemirror_mode": {
    "name": "ipython",
    "version": 3
   },
   "file_extension": ".py",
   "mimetype": "text/x-python",
   "name": "python",
   "nbconvert_exporter": "python",
   "pygments_lexer": "ipython3",
   "version": "3.7.3"
  }
 },
 "nbformat": 4,
 "nbformat_minor": 2
}
