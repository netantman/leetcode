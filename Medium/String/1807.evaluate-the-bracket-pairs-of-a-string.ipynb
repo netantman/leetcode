{
 "cells": [
  {
   "cell_type": "markdown",
   "metadata": {},
   "source": [
    "## Attempt 1 - Time Limit Exceeded"
   ]
  },
  {
   "cell_type": "code",
   "execution_count": null,
   "metadata": {},
   "outputs": [],
   "source": [
    "class Solution:\n",
    "    def evaluate(self, s: str, knowledge: List[List[str]]) -> str:\n",
    "        record = dict()\n",
    "        for k in knowledge:\n",
    "            key, val = tuple(k)\n",
    "            record[\"(\" + key + \")\"] = val\n",
    "        \n",
    "        for k, v in record.items():\n",
    "            s = s.replace(k, v)\n",
    "            \n",
    "        L = len(s)\n",
    "        pos = []\n",
    "        for idx in range(L):\n",
    "            if s[idx] == \"(\":\n",
    "                pos.append(idx)\n",
    "            elif s[idx] == \")\" and len(pos) % 2 > 0:\n",
    "                pos.append(idx)\n",
    "        \n",
    "        L = len(pos)\n",
    "        record = dict()\n",
    "        for idx in range(0, L, 2):\n",
    "            l, r = pos[idx], pos[idx + 1]\n",
    "            record[s[l:r + 1]] = \"?\"\n",
    "        \n",
    "        for k, v in record.items():\n",
    "            s = s.replace(k, v)\n",
    "        \n",
    "        return s"
   ]
  },
  {
   "cell_type": "markdown",
   "metadata": {},
   "source": [
    "## Attempt 2 - Accepted"
   ]
  },
  {
   "cell_type": "code",
   "execution_count": null,
   "metadata": {},
   "outputs": [],
   "source": [
    "class Solution:\n",
    "    def evaluate(self, s: str, knowledge: List[List[str]]) -> str:\n",
    "        record = dict()\n",
    "        for k in knowledge:\n",
    "            key, val = tuple(k)\n",
    "            record[\"(\" + key + \")\"] = val\n",
    "        \n",
    "        t = s.replace(\"(\", \" (\").replace(\")\", \") \").split()\n",
    "        \n",
    "        res = []\n",
    "        \n",
    "        for idx, c in enumerate(t):\n",
    "            if c in record:\n",
    "                res.append(record[c])\n",
    "                continue\n",
    "            if c[0] == \"(\" and c[-1] == \")\":\n",
    "                res.append(\"?\")\n",
    "                continue\n",
    "            res.append(c)\n",
    "        \n",
    "        return \"\".join(res)"
   ]
  },
  {
   "cell_type": "markdown",
   "metadata": {},
   "source": [
    "## Lessons and Thoughts\n",
    "- `replace` method in `python`.\n",
    "- The accepted solution is from app - simply more efficient."
   ]
  }
 ],
 "metadata": {
  "kernelspec": {
   "display_name": "Python 3",
   "language": "python",
   "name": "python3"
  },
  "language_info": {
   "codemirror_mode": {
    "name": "ipython",
    "version": 3
   },
   "file_extension": ".py",
   "mimetype": "text/x-python",
   "name": "python",
   "nbconvert_exporter": "python",
   "pygments_lexer": "ipython3",
   "version": "3.7.3"
  }
 },
 "nbformat": 4,
 "nbformat_minor": 2
}
