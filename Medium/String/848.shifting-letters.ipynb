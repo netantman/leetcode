{
 "cells": [
  {
   "cell_type": "markdown",
   "metadata": {},
   "source": [
    "## Attempt 1 - Accepted"
   ]
  },
  {
   "cell_type": "code",
   "execution_count": null,
   "metadata": {},
   "outputs": [],
   "source": [
    "class Solution:\n",
    "    def shiftingLetters(self, S: str, shifts: List[int]) -> str:\n",
    "        ss=0\n",
    "        L=len(shifts)\n",
    "        cumsum=[s for s in shifts]\n",
    "        for idx in range(L-1,-1,-1):\n",
    "            cumsum[idx]+=ss\n",
    "            ss+=shifts[idx]\n",
    "        cumsum=[c%26 for c in cumsum]\n",
    "        res=[chr(ord(\"a\")+(ord(c)-ord(\"a\")+cumsum[idx])%26) for idx, c in enumerate(S)]\n",
    "        return \"\".join(res)"
   ]
  },
  {
   "cell_type": "markdown",
   "metadata": {},
   "source": [
    "## Lessons and Thoughts\n",
    "- Straightforward with python."
   ]
  }
 ],
 "metadata": {
  "kernelspec": {
   "display_name": "Python 3",
   "language": "python",
   "name": "python3"
  },
  "language_info": {
   "codemirror_mode": {
    "name": "ipython",
    "version": 3
   },
   "file_extension": ".py",
   "mimetype": "text/x-python",
   "name": "python",
   "nbconvert_exporter": "python",
   "pygments_lexer": "ipython3",
   "version": "3.7.3"
  }
 },
 "nbformat": 4,
 "nbformat_minor": 2
}
