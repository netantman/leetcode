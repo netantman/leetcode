{
 "cells": [
  {
   "cell_type": "markdown",
   "metadata": {},
   "source": [
    "## Attempt 1 - Wrong Answer"
   ]
  },
  {
   "cell_type": "code",
   "execution_count": null,
   "metadata": {},
   "outputs": [],
   "source": [
    "class Solution:\n",
    "    def invalidTransactions(self, transactions: List[str]) -> List[str]:\n",
    "        record=dict()\n",
    "        for tran in transactions:\n",
    "            name,time,amount,city =tuple(tran.split(\",\"))\n",
    "            record[name]=record.get(name,[])+[(int(time),int(amount),city)]\n",
    "        res=set()\n",
    "        for name in record.keys():\n",
    "            record[name]=sorted(record[name], key=lambda x:x[0])\n",
    "            L=len(record[name])\n",
    "            for idx in range(L):\n",
    "                r=record[name][idx]\n",
    "                if r[1]>1000:\n",
    "                    res.add(\",\".join([name,str(r[0]),str(r[1]),r[2]]))\n",
    "                if idx<L-1: \n",
    "                    n=record[name][idx+1] ## --> it is not sufficient to just check neighboring entry\n",
    "                    if n[0]-r[0]<=60 and n[2]!=r[2]:\n",
    "                        res.add(\",\".join([name,str(r[0]),str(r[1]),r[2]]))\n",
    "                        res.add(\",\".join([name,str(n[0]),str(n[1]),n[2]]))\n",
    "        return list(res)"
   ]
  },
  {
   "cell_type": "markdown",
   "metadata": {},
   "source": [
    "## Attempt 2 - Accepted"
   ]
  },
  {
   "cell_type": "code",
   "execution_count": null,
   "metadata": {},
   "outputs": [],
   "source": [
    "class Solution:\n",
    "    def invalidTransactions(self, transactions: List[str]) -> List[str]:\n",
    "        record=dict()\n",
    "        for tran in transactions:\n",
    "            name,time,amount,city =tuple(tran.split(\",\"))\n",
    "            record[name]=record.get(name,[])+[(int(time),int(amount),city)]\n",
    "        res=set()\n",
    "        for name in record.keys():\n",
    "            record[name]=sorted(record[name], key=lambda x:x[0])\n",
    "            L=len(record[name])\n",
    "            for idx in range(L):\n",
    "                r=record[name][idx]\n",
    "                if r[1]>1000:\n",
    "                    res.add(\",\".join([name,str(r[0]),str(r[1]),r[2]]))\n",
    "                left,right=0,idx-1\n",
    "                while left<right-1:\n",
    "                    mid=(left+right)//2\n",
    "                    if record[name][mid][0]>=r[0]-60:\n",
    "                        right=mid\n",
    "                    else:\n",
    "                        left=mid\n",
    "                for j in range(left,idx):\n",
    "                    n=record[name][j]\n",
    "                    if abs(n[0]-r[0])<=60 and n[2]!=r[2]:\n",
    "                        res.add(\",\".join([name,str(r[0]),str(r[1]),r[2]]))\n",
    "                        res.add(\",\".join([name,str(n[0]),str(n[1]),n[2]]))\n",
    "        # print(record['lee'])\n",
    "        return list(res)"
   ]
  },
  {
   "cell_type": "markdown",
   "metadata": {},
   "source": [
    "## Lessons and Thoughts\n",
    "- Brute force is enough."
   ]
  }
 ],
 "metadata": {
  "kernelspec": {
   "display_name": "Python 3",
   "language": "python",
   "name": "python3"
  },
  "language_info": {
   "codemirror_mode": {
    "name": "ipython",
    "version": 3
   },
   "file_extension": ".py",
   "mimetype": "text/x-python",
   "name": "python",
   "nbconvert_exporter": "python",
   "pygments_lexer": "ipython3",
   "version": "3.7.3"
  }
 },
 "nbformat": 4,
 "nbformat_minor": 2
}
