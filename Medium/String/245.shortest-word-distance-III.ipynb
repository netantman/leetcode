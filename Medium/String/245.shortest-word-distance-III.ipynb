{
 "cells": [
  {
   "cell_type": "markdown",
   "metadata": {},
   "source": [
    "## Attempt 1 - Time Limit Exceeded"
   ]
  },
  {
   "cell_type": "code",
   "execution_count": null,
   "metadata": {},
   "outputs": [],
   "source": [
    "class Solution:\n",
    "    def shortestWordDistance(self, wordsDict: List[str], word1: str, word2: str) -> int:\n",
    "        d1, d2 = [], []\n",
    "        for idx, word in enumerate(wordsDict):\n",
    "            if word == word1:\n",
    "                d1.append(idx)\n",
    "            if word == word2:\n",
    "                d2.append(idx)\n",
    "        \n",
    "        if word1 == word2:\n",
    "            L = len(d1)\n",
    "            return min(d1[idx + 1] - d1[idx] for idx in range(L - 1))\n",
    "        \n",
    "        return min(abs(i - j) for i in d1 for j in d2)"
   ]
  },
  {
   "cell_type": "markdown",
   "metadata": {},
   "source": [
    "## Attempt 2 - Accepted"
   ]
  },
  {
   "cell_type": "code",
   "execution_count": null,
   "metadata": {},
   "outputs": [],
   "source": [
    "class Solution:\n",
    "    def shortestWordDistance(self, wordsDict: List[str], word1: str, word2: str) -> int:\n",
    "        if word1 == word2:\n",
    "            last = None\n",
    "            res = float('inf')\n",
    "            for idx, word in enumerate(wordsDict):\n",
    "                if word == word1:\n",
    "                    if last is None:\n",
    "                        last = idx\n",
    "                        continue\n",
    "                    res = min(res, idx - last)\n",
    "                    if res == 1:\n",
    "                        return 1\n",
    "                    last = idx\n",
    "            return res                  \n",
    "        \n",
    "        d1, d2 = [], []\n",
    "        for idx, word in enumerate(wordsDict):\n",
    "            if word == word1:\n",
    "                d1.append(idx)\n",
    "            if word == word2:\n",
    "                d2.append(idx)\n",
    "        \n",
    "        if max(d1) < min(d2):\n",
    "            return min(d2) - max(d1)\n",
    "        if max(d2) < min(d1):\n",
    "            return min(d1) - max(d2)\n",
    "        \n",
    "        return min(abs(i - j) for i in d1 for j in d2)"
   ]
  },
  {
   "cell_type": "markdown",
   "metadata": {},
   "source": [
    "## Lessons and Thoughts\n",
    "- The optimization is easy to do.\n",
    "- If something is an integar or `None`, do not use `not` to check if it is `None`!"
   ]
  }
 ],
 "metadata": {
  "kernelspec": {
   "display_name": "Python 3",
   "language": "python",
   "name": "python3"
  },
  "language_info": {
   "codemirror_mode": {
    "name": "ipython",
    "version": 3
   },
   "file_extension": ".py",
   "mimetype": "text/x-python",
   "name": "python",
   "nbconvert_exporter": "python",
   "pygments_lexer": "ipython3",
   "version": "3.7.3"
  }
 },
 "nbformat": 4,
 "nbformat_minor": 2
}
