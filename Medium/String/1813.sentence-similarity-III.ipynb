{
 "cells": [
  {
   "cell_type": "markdown",
   "metadata": {},
   "source": [
    "## Attempt 1 - Accepted"
   ]
  },
  {
   "cell_type": "code",
   "execution_count": null,
   "metadata": {},
   "outputs": [],
   "source": [
    "class Solution:\n",
    "    def areSentencesSimilar(self, sentence1: str, sentence2: str) -> bool:\n",
    "        if sentence1 == sentence2:\n",
    "            return True\n",
    "        \n",
    "        s1, s2 = sentence1.split(), sentence2.split()\n",
    "        if len(s1) > len(s2):\n",
    "            s1, s2 = s2, s1\n",
    "        \n",
    "        idx = 0\n",
    "        L1, L2 = len(s1), len(s2)\n",
    "        while idx < len(s1):\n",
    "            if s1[idx] != s2[idx]:\n",
    "                break\n",
    "            idx += 1\n",
    "        \n",
    "        return s1[idx:L1] == s2[idx + (L2 - L1):L2]"
   ]
  },
  {
   "cell_type": "markdown",
   "metadata": {},
   "source": [
    "## Lessons and Thoughts\n",
    "- Straightforward"
   ]
  }
 ],
 "metadata": {
  "kernelspec": {
   "display_name": "Python 3",
   "language": "python",
   "name": "python3"
  },
  "language_info": {
   "codemirror_mode": {
    "name": "ipython",
    "version": 3
   },
   "file_extension": ".py",
   "mimetype": "text/x-python",
   "name": "python",
   "nbconvert_exporter": "python",
   "pygments_lexer": "ipython3",
   "version": "3.7.3"
  }
 },
 "nbformat": 4,
 "nbformat_minor": 2
}
