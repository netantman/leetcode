{
 "cells": [
  {
   "cell_type": "markdown",
   "metadata": {},
   "source": [
    "## Attempt 1 - Accepted"
   ]
  },
  {
   "cell_type": "code",
   "execution_count": null,
   "metadata": {},
   "outputs": [],
   "source": [
    "class Solution:\n",
    "    def countSubstrings(self, s: str, t: str) -> int:\n",
    "        L1, L2 = len(s), len(t)\n",
    "        res = 0\n",
    "        for i in range(L1):\n",
    "            for j in range(L2):\n",
    "                gap = 0\n",
    "                diff = 0\n",
    "                while i + gap < L1 and j + gap < L2:\n",
    "                    if s[i + gap] == t[j + gap]:\n",
    "                        if diff == 1:\n",
    "                            res += 1\n",
    "                        gap += 1\n",
    "                        continue\n",
    "                    diff += 1\n",
    "                    if diff >= 2:\n",
    "                        break\n",
    "                    if diff == 1:\n",
    "                        res += 1\n",
    "                    gap += 1\n",
    "        return res"
   ]
  },
  {
   "cell_type": "markdown",
   "metadata": {},
   "source": [
    "## Lessons and Thoughts\n",
    "- Brute force"
   ]
  }
 ],
 "metadata": {
  "kernelspec": {
   "display_name": "Python 3",
   "language": "python",
   "name": "python3"
  },
  "language_info": {
   "codemirror_mode": {
    "name": "ipython",
    "version": 3
   },
   "file_extension": ".py",
   "mimetype": "text/x-python",
   "name": "python",
   "nbconvert_exporter": "python",
   "pygments_lexer": "ipython3",
   "version": "3.7.3"
  }
 },
 "nbformat": 4,
 "nbformat_minor": 2
}
