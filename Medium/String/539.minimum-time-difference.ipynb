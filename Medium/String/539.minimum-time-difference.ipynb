{
 "cells": [
  {
   "cell_type": "markdown",
   "metadata": {},
   "source": [
    "## Attempt 1 - Accepted"
   ]
  },
  {
   "cell_type": "code",
   "execution_count": null,
   "metadata": {},
   "outputs": [],
   "source": [
    "class Solution:\n",
    "    def findMinDifference(self, timePoints: List[str]) -> int:\n",
    "        def sort_func(x):\n",
    "            x=x.split(\":\")\n",
    "            return (int(x[0]), int(x[1]))\n",
    "        def diff(x,y):\n",
    "            if x==y:\n",
    "                return 0\n",
    "            x=x.split(\":\")\n",
    "            y=y.split(\":\")\n",
    "            hh=int(y[0])-int(x[0])\n",
    "            mm=int(y[1])-int(x[1])\n",
    "            return hh*60+mm\n",
    "        \n",
    "        timePoints=sorted(timePoints, key=sort_func)\n",
    "        minn=24*60\n",
    "        L=len(timePoints)\n",
    "        for idx in range(1,L):\n",
    "            minn=min(minn, diff(timePoints[idx-1], timePoints[idx]))\n",
    "            if minn==0:\n",
    "                return 0\n",
    "        minn=min(minn, 24*60-diff(timePoints[0], timePoints[-1]))\n",
    "        return minn"
   ]
  },
  {
   "cell_type": "markdown",
   "metadata": {},
   "source": [
    "## Lessons and Thoughts\n",
    "- They say, it is a good habit to see if you need to sort an array."
   ]
  }
 ],
 "metadata": {
  "kernelspec": {
   "display_name": "Python 3",
   "language": "python",
   "name": "python3"
  },
  "language_info": {
   "codemirror_mode": {
    "name": "ipython",
    "version": 3
   },
   "file_extension": ".py",
   "mimetype": "text/x-python",
   "name": "python",
   "nbconvert_exporter": "python",
   "pygments_lexer": "ipython3",
   "version": "3.7.3"
  }
 },
 "nbformat": 4,
 "nbformat_minor": 2
}
