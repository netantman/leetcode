{
 "cells": [
  {
   "cell_type": "markdown",
   "metadata": {},
   "source": [
    "## Attempt 1 - Accepted"
   ]
  },
  {
   "cell_type": "code",
   "execution_count": null,
   "metadata": {},
   "outputs": [],
   "source": [
    "class Solution:\n",
    "    def rankTeams(self, votes: List[str]) -> str:\n",
    "        N_teams=len(votes[0])\n",
    "        N_votes=len(votes)\n",
    "        \n",
    "        records=dict()\n",
    "        for team in votes[0]:\n",
    "            records[team]=[0 for _ in range(N_teams)]\n",
    "        \n",
    "        for vote in votes:\n",
    "            for idx, team in enumerate(vote):\n",
    "                records[team][idx]+=1\n",
    "        \n",
    "        records=[(team, tuple(record)) for team,record in records.items()]\n",
    "        records=sorted(records, reverse=True, key=lambda x: (x[1], -ord(x[0])))\n",
    "        return \"\".join([record[0] for record in records])"
   ]
  },
  {
   "cell_type": "markdown",
   "metadata": {},
   "source": [
    "## Lessons and Thoughts\n",
    "- Straightforward with `python`. But there are a few edge cases that need handling."
   ]
  }
 ],
 "metadata": {
  "kernelspec": {
   "display_name": "Python 3",
   "language": "python",
   "name": "python3"
  },
  "language_info": {
   "codemirror_mode": {
    "name": "ipython",
    "version": 3
   },
   "file_extension": ".py",
   "mimetype": "text/x-python",
   "name": "python",
   "nbconvert_exporter": "python",
   "pygments_lexer": "ipython3",
   "version": "3.7.3"
  }
 },
 "nbformat": 4,
 "nbformat_minor": 2
}
