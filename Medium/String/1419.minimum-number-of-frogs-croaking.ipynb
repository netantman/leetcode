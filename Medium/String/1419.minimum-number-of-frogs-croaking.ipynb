{
 "cells": [
  {
   "cell_type": "markdown",
   "metadata": {},
   "source": [
    "## Attempt 1 - Time Limit Exceeded"
   ]
  },
  {
   "cell_type": "code",
   "execution_count": null,
   "metadata": {},
   "outputs": [],
   "source": [
    "class Solution:\n",
    "    def minNumberOfFrogs(self, croakOfFrogs: str) -> int:\n",
    "        res = 0\n",
    "        counting = []\n",
    "        pre = {\"r\": \"c\", \"o\": \"r\", \"a\": \"o\", \"k\": \"a\"}\n",
    "        for c in croakOfFrogs:\n",
    "            if c ==\"c\":\n",
    "                counting.append([\"c\"])\n",
    "            if c in pre:\n",
    "                L = len(counting)\n",
    "                for idx in range(L):\n",
    "                    if counting[idx][-1]==pre[c]:\n",
    "                        counting[idx].append(c)\n",
    "                        break\n",
    "                else:\n",
    "                    return -1\n",
    "            if c not in \"croak\":\n",
    "                return -1\n",
    "            res = max(len(counting), res)\n",
    "            if counting[0] == ['c', 'r', 'o', 'a', 'k']:\n",
    "                counting.pop(0)\n",
    "                \n",
    "        if counting:\n",
    "            return -1 \n",
    "        return res"
   ]
  },
  {
   "cell_type": "markdown",
   "metadata": {},
   "source": [
    "## Attempt 2 - Accepted"
   ]
  },
  {
   "cell_type": "code",
   "execution_count": null,
   "metadata": {},
   "outputs": [],
   "source": [
    "class Solution:\n",
    "    def minNumberOfFrogs(self, croakOfFrogs: str) -> int:\n",
    "        c, r, o, a, k = 0, 0, 0, 0, 0 \n",
    "        now, res = 0,0\n",
    "        for i in croakOfFrogs:\n",
    "            if i == \"c\":\n",
    "                c += 1\n",
    "                now += 1\n",
    "                res = max(res, now)\n",
    "            if i == \"r\":\n",
    "                r += 1\n",
    "            if i == \"o\":\n",
    "                o += 1\n",
    "            if i == \"a\":\n",
    "                a += 1\n",
    "            if i == \"k\":\n",
    "                k += 1\n",
    "                now -= 1\n",
    "            if not c>=r>=o>=a>=k:\n",
    "                return -1\n",
    "        return res if now == 0  else -1"
   ]
  },
  {
   "cell_type": "markdown",
   "metadata": {},
   "source": [
    "## Lessons and Thoughts\n",
    "The accepted one is from app. The optimization idea is to recognize that we only need to keep track of the number of 'c', 'r', 'o', 'a' and 'k'."
   ]
  }
 ],
 "metadata": {
  "kernelspec": {
   "display_name": "Python 3",
   "language": "python",
   "name": "python3"
  },
  "language_info": {
   "codemirror_mode": {
    "name": "ipython",
    "version": 3
   },
   "file_extension": ".py",
   "mimetype": "text/x-python",
   "name": "python",
   "nbconvert_exporter": "python",
   "pygments_lexer": "ipython3",
   "version": "3.7.3"
  }
 },
 "nbformat": 4,
 "nbformat_minor": 2
}
