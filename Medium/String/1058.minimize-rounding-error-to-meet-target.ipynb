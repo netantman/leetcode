{
 "cells": [
  {
   "cell_type": "markdown",
   "metadata": {},
   "source": [
    "## Attempt 1 - Accepted"
   ]
  },
  {
   "cell_type": "code",
   "execution_count": null,
   "metadata": {},
   "outputs": [],
   "source": [
    "class Solution:\n",
    "    def minimizeError(self, prices: List[str], target: int) -> str:\n",
    "        dp = dict()\n",
    "        dp[0] = 0\n",
    "        for p in prices:\n",
    "            p1, p2 = tuple(p.split(\".\"))\n",
    "            if p2 == \"000\":\n",
    "                c, f = int(p1) * 1000, int(p1) * 1000\n",
    "            else:\n",
    "                c, f = (int(p1) + 1) * 1000, int(p1) * 1000\n",
    "            p = int(p1) * 1000 + int(p2)\n",
    "            new = dict()\n",
    "            for k, v in dp.items():\n",
    "                new[k + c] = min(new.get(k + c, float('inf')), v + abs(c - p))\n",
    "                new[k + f] = min(new.get(k + f, float('inf')), v + abs(f - p))\n",
    "            dp = new\n",
    "        \n",
    "        if target * 1000 not in dp:\n",
    "            return \"-1\"\n",
    "        \n",
    "        res = str(dp[target * 1000])\n",
    "        if dp[target * 1000] < 1000:\n",
    "            while len(res) < 3:\n",
    "                res = \"0\" + res\n",
    "            res = \"0.\" + res\n",
    "            return res\n",
    "        res = res[:-3] + \".\" + res[-3:]\n",
    "        if res[0] == \".\":\n",
    "            res = \"0\" + res\n",
    "        return res"
   ]
  },
  {
   "cell_type": "markdown",
   "metadata": {},
   "source": [
    "## Lessons and Thoughts\n",
    "- Just as all problems with integar and string conversion, leading zeros are to be considered"
   ]
  }
 ],
 "metadata": {
  "kernelspec": {
   "display_name": "Python 3",
   "language": "python",
   "name": "python3"
  },
  "language_info": {
   "codemirror_mode": {
    "name": "ipython",
    "version": 3
   },
   "file_extension": ".py",
   "mimetype": "text/x-python",
   "name": "python",
   "nbconvert_exporter": "python",
   "pygments_lexer": "ipython3",
   "version": "3.7.3"
  }
 },
 "nbformat": 4,
 "nbformat_minor": 2
}
