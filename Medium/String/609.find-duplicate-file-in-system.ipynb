{
 "cells": [
  {
   "cell_type": "markdown",
   "metadata": {},
   "source": [
    "## Attempt 1 - Wrong Answer"
   ]
  },
  {
   "cell_type": "code",
   "execution_count": null,
   "metadata": {},
   "outputs": [],
   "source": [
    "class Solution:\n",
    "    def findDuplicate(self, paths: List[str]) -> List[List[str]]:\n",
    "        def extract(name_content):\n",
    "            left,right=0,0\n",
    "            while name_content[left]!=\"(\":\n",
    "                left+=1\n",
    "            while name_content[right]!=\")\":\n",
    "                right+=1\n",
    "            content=name_content[left+1:right]\n",
    "            name=name_content[:left]\n",
    "            return name, content\n",
    "        \n",
    "        cache=dict()\n",
    "        for string in paths:\n",
    "            curr=string.split(\" \")\n",
    "            curr=[c for c in curr if len(c)>0]\n",
    "            path=curr.pop(0)\n",
    "            for nc in curr:\n",
    "                n, c=extract(nc)\n",
    "                if c not in cache:\n",
    "                    cache[c]=[path+\"/\"+n]\n",
    "                else:\n",
    "                    cache[c].append(path+\"/\"+n)\n",
    "        \n",
    "        return cache.values() ## --> duplicates are only those groups with at least 2 members!"
   ]
  },
  {
   "cell_type": "markdown",
   "metadata": {},
   "source": [
    "## Attempt 2 - Accepted"
   ]
  },
  {
   "cell_type": "code",
   "execution_count": null,
   "metadata": {},
   "outputs": [],
   "source": [
    "class Solution:\n",
    "    def findDuplicate(self, paths: List[str]) -> List[List[str]]:\n",
    "        def extract(name_content):\n",
    "            left,right=0,0\n",
    "            while name_content[left]!=\"(\":\n",
    "                left+=1\n",
    "            while name_content[right]!=\")\":\n",
    "                right+=1\n",
    "            content=name_content[left+1:right]\n",
    "            name=name_content[:left]\n",
    "            return name, content\n",
    "        \n",
    "        cache=dict()\n",
    "        for string in paths:\n",
    "            curr=string.split(\" \")\n",
    "            curr=[c for c in curr if len(c)>0]\n",
    "            path=curr.pop(0)\n",
    "            for nc in curr:\n",
    "                n, c=extract(nc)\n",
    "                if c not in cache:\n",
    "                    cache[c]=[path+\"/\"+n]\n",
    "                else:\n",
    "                    cache[c].append(path+\"/\"+n)\n",
    "        \n",
    "        return [v for v in cache.values() if len(v)>=2]"
   ]
  },
  {
   "cell_type": "markdown",
   "metadata": {},
   "source": [
    "## Lessons and Thoughts\n",
    "- Missed an edge case, stated explicitly from the Problem"
   ]
  }
 ],
 "metadata": {
  "kernelspec": {
   "display_name": "Python 3",
   "language": "python",
   "name": "python3"
  },
  "language_info": {
   "codemirror_mode": {
    "name": "ipython",
    "version": 3
   },
   "file_extension": ".py",
   "mimetype": "text/x-python",
   "name": "python",
   "nbconvert_exporter": "python",
   "pygments_lexer": "ipython3",
   "version": "3.7.3"
  }
 },
 "nbformat": 4,
 "nbformat_minor": 2
}
