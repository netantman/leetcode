{
 "cells": [
  {
   "cell_type": "markdown",
   "metadata": {},
   "source": [
    "## Attempt 1 - Accepted"
   ]
  },
  {
   "cell_type": "code",
   "execution_count": null,
   "metadata": {},
   "outputs": [],
   "source": [
    "class Solution:\n",
    "    def addBoldTag(self, s: str, words: List[str]) -> str:\n",
    "        record = defaultdict(set)\n",
    "        for w in words:\n",
    "            record[len(w)].add(w)\n",
    "        \n",
    "        ind = [0 for c in s]\n",
    "        L = len(s)\n",
    "        \n",
    "        for idx in range(L):\n",
    "            for l in record.keys():\n",
    "                if idx + l <= L and s[idx: idx + l] in record[l]:\n",
    "                    for j in range(idx, idx + l):\n",
    "                        ind[j] = 1\n",
    "                        \n",
    "        # print(ind)\n",
    "        \n",
    "        alt = [\"\" for c in s]\n",
    "        curr = 0\n",
    "        for idx in range(L):\n",
    "            if curr == 0 and ind[idx] == 1:\n",
    "                alt[idx] = \"<b>\"\n",
    "                curr = 1\n",
    "                continue\n",
    "            if curr == 1 and ind[idx] == 0:\n",
    "                alt[idx] = \"</b>\"\n",
    "                curr = 0\n",
    "                continue\n",
    "                \n",
    "#         print(alt)\n",
    "        \n",
    "        res = []\n",
    "        for a, c in zip(alt, s):\n",
    "            res.append(a)\n",
    "            res.append(c)\n",
    "            \n",
    "        if ind[-1] == 1:\n",
    "            res.append(\"</b>\") ## --> forgot to add this in the first go\n",
    "            \n",
    "        return \"\".join(res)"
   ]
  },
  {
   "cell_type": "markdown",
   "metadata": {},
   "source": [
    "## Lessons and Thoughts\n",
    "- Almost brute force"
   ]
  }
 ],
 "metadata": {
  "kernelspec": {
   "display_name": "Python 3",
   "language": "python",
   "name": "python3"
  },
  "language_info": {
   "codemirror_mode": {
    "name": "ipython",
    "version": 3
   },
   "file_extension": ".py",
   "mimetype": "text/x-python",
   "name": "python",
   "nbconvert_exporter": "python",
   "pygments_lexer": "ipython3",
   "version": "3.7.3"
  }
 },
 "nbformat": 4,
 "nbformat_minor": 2
}
