{
 "cells": [
  {
   "cell_type": "markdown",
   "metadata": {},
   "source": [
    "## Attempt 1 - Wrong Answer"
   ]
  },
  {
   "cell_type": "code",
   "execution_count": null,
   "metadata": {},
   "outputs": [],
   "source": [
    "class Solution:\n",
    "    def checkValidString(self, s: str) -> bool:\n",
    "        L=len(s)\n",
    "        \n",
    "        left, right, ast=0,0,0\n",
    "        for c in s:\n",
    "            if c==\"(\":\n",
    "                left+=1\n",
    "            elif c==\")\":\n",
    "                right+=1\n",
    "            else:\n",
    "                ast+=1\n",
    "            if left+ast<right:\n",
    "                return False\n",
    "        \n",
    "        for c in s[::-1]:\n",
    "            if c==\"(\":\n",
    "                left+=1\n",
    "            elif c==\")\":\n",
    "                right+=1\n",
    "            else:\n",
    "                ast+=1\n",
    "            if right+ast<left:\n",
    "                return False\n",
    "        \n",
    "        return True"
   ]
  },
  {
   "cell_type": "markdown",
   "metadata": {},
   "source": [
    "## Attempt 2 - Accepted"
   ]
  },
  {
   "cell_type": "code",
   "execution_count": null,
   "metadata": {},
   "outputs": [],
   "source": [
    "class Solution:\n",
    "    def checkValidString(self, s: str) -> bool:\n",
    "        L=len(s)\n",
    "        \n",
    "        left, right, ast=0,0,0\n",
    "        for c in s:\n",
    "            if c==\"(\":\n",
    "                left+=1\n",
    "            elif c==\")\":\n",
    "                right+=1\n",
    "            else:\n",
    "                ast+=1\n",
    "            if left+ast<right:\n",
    "                return False\n",
    "        \n",
    "        left, right, ast=0,0,0\n",
    "        for c in s[::-1]:\n",
    "            if c==\"(\":\n",
    "                left+=1\n",
    "            elif c==\")\":\n",
    "                right+=1\n",
    "            else:\n",
    "                ast+=1\n",
    "            if right+ast<left:\n",
    "                return False\n",
    "        \n",
    "        return True"
   ]
  },
  {
   "cell_type": "markdown",
   "metadata": {},
   "source": [
    "## Lessons and Thoughts\n",
    "- The accepted algo is from the leetcode app.\n",
    "- The diff between Attempts 1 and 2 above is that Attempt 1 only try to make use of the asterisk after the traversal, whereby the information is lost. To the contrary, Attempt 2 tries to check every step."
   ]
  }
 ],
 "metadata": {
  "kernelspec": {
   "display_name": "Python 3",
   "language": "python",
   "name": "python3"
  },
  "language_info": {
   "codemirror_mode": {
    "name": "ipython",
    "version": 3
   },
   "file_extension": ".py",
   "mimetype": "text/x-python",
   "name": "python",
   "nbconvert_exporter": "python",
   "pygments_lexer": "ipython3",
   "version": "3.7.3"
  }
 },
 "nbformat": 4,
 "nbformat_minor": 2
}
