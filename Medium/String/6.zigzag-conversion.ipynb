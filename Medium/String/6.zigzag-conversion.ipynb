{
 "cells": [
  {
   "cell_type": "markdown",
   "metadata": {},
   "source": [
    "## Attempt 1 - Accepted"
   ]
  },
  {
   "cell_type": "code",
   "execution_count": null,
   "metadata": {},
   "outputs": [],
   "source": [
    "class Solution:\n",
    "    def convert(self, s: str, numRows: int) -> str:\n",
    "        if (numRows == 1) or (numRows>=len(s)):\n",
    "            return s\n",
    "        elif numRows == 2:\n",
    "            return s[::2] + s[1::2]\n",
    "        rows = [ [] for idx in range(numRows) ]\n",
    "        row_to_add = 0\n",
    "        direction = 1\n",
    "        len_s = len(s)\n",
    "        for i in range(len_s):\n",
    "            rows[row_to_add].append(s[i])\n",
    "            if direction>0:\n",
    "                if row_to_add+1<numRows:\n",
    "                    row_to_add += 1\n",
    "                else:\n",
    "                    direction = -1\n",
    "                    row_to_add -= 1\n",
    "            else:\n",
    "                if row_to_add-1>=0:\n",
    "                    row_to_add -= 1\n",
    "                else:\n",
    "                    direction = 1\n",
    "                    row_to_add += 1\n",
    "        collect = [ \"\".join(row) for row in rows ]\n",
    "        res = \"\".join(collect)\n",
    "        return res"
   ]
  },
  {
   "cell_type": "markdown",
   "metadata": {},
   "source": [
    "## Lessons and Thoughts\n",
    "\n",
    "- Some of the edge cases dealing above may not be necessary. But it is good to deal with those separately rather than to think whehter they can be dealt with in the main route, since it is probably faster and safer."
   ]
  }
 ],
 "metadata": {
  "kernelspec": {
   "display_name": "Python 3",
   "language": "python",
   "name": "python3"
  },
  "language_info": {
   "codemirror_mode": {
    "name": "ipython",
    "version": 3
   },
   "file_extension": ".py",
   "mimetype": "text/x-python",
   "name": "python",
   "nbconvert_exporter": "python",
   "pygments_lexer": "ipython3",
   "version": "3.7.3"
  }
 },
 "nbformat": 4,
 "nbformat_minor": 2
}
