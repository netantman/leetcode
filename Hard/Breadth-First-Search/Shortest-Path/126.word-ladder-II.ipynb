{
 "cells": [
  {
   "cell_type": "markdown",
   "metadata": {},
   "source": [
    "## Attempt 1 - Accepted"
   ]
  },
  {
   "cell_type": "code",
   "execution_count": null,
   "metadata": {},
   "outputs": [],
   "source": [
    "class Solution:\n",
    "    def findLadders(self, beginWord: str, endWord: str, wordList: List[str]) -> List[List[str]]:\n",
    "        sp = dict()\n",
    "        for w in wordList:\n",
    "            sp[w] = float('inf')\n",
    "        \n",
    "        if endWord not in sp:\n",
    "            return []\n",
    "        \n",
    "        sp[beginWord] = 1\n",
    "        q = [beginWord]\n",
    "        while q:\n",
    "            curr = q.pop()\n",
    "            L_curr = len(curr)\n",
    "            for idx in range(L_curr):\n",
    "                splitted = [d for d in curr]\n",
    "                for gap in range(26):\n",
    "                    c = chr(ord('a') + gap)\n",
    "                    splitted[idx] = c\n",
    "                    new_word = \"\".join(splitted)\n",
    "                    # print(curr, new_word)\n",
    "                    \n",
    "                    if sp.get(new_word, -float('inf')) > sp[curr] + 1:\n",
    "                        sp[new_word] = sp[curr] + 1\n",
    "                        q.append(new_word)\n",
    "        \n",
    "        if sp[endWord] >= float('inf'): ## --> missed this edge case!\n",
    "            return []\n",
    "        \n",
    "        sp1 = [(w, length) for w, length in sp.items()]\n",
    "        sp1.sort(key=lambda x: x[1])\n",
    "        print(sp1)\n",
    "        paths_collection = {beginWord: [[beginWord]]}        \n",
    "        L = len(sp1)\n",
    "        for j in range(1, L):\n",
    "            back = sp1[j][0]\n",
    "            L_back = len(back)\n",
    "            curr_collect = []\n",
    "            for idx in range(L_back):\n",
    "                splitted = [d for d in back]\n",
    "                for gap in range(26):\n",
    "                    c = chr(ord('a') + gap)\n",
    "                    splitted[idx] = c\n",
    "                    prev_word = \"\".join(splitted)\n",
    "                    if (prev_word in sp) and (sp[prev_word] == sp[back] - 1):\n",
    "                        curr_collect.extend([p + [back] for p in paths_collection[prev_word]])\n",
    "            if back == endWord:\n",
    "                return curr_collect\n",
    "            paths_collection[back] = curr_collect  "
   ]
  },
  {
   "cell_type": "markdown",
   "metadata": {},
   "source": [
    "## Lessons and Thoughts\n",
    "- To collect all shortest paths, one way is to sort the `sp` record. Another way is perhaps use BFS again to traverse all paths, and use `sp` to only keep those that are shortest."
   ]
  }
 ],
 "metadata": {
  "kernelspec": {
   "display_name": "Python 3",
   "language": "python",
   "name": "python3"
  },
  "language_info": {
   "codemirror_mode": {
    "name": "ipython",
    "version": 3
   },
   "file_extension": ".py",
   "mimetype": "text/x-python",
   "name": "python",
   "nbconvert_exporter": "python",
   "pygments_lexer": "ipython3",
   "version": "3.6.5"
  }
 },
 "nbformat": 4,
 "nbformat_minor": 2
}
