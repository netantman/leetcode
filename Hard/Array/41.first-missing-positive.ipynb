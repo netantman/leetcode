{
 "cells": [
  {
   "cell_type": "markdown",
   "id": "a9a28a74",
   "metadata": {},
   "source": [
    "## Attempt 1 - Accepted"
   ]
  },
  {
   "cell_type": "code",
   "execution_count": null,
   "id": "7ad61c9d",
   "metadata": {},
   "outputs": [],
   "source": [
    "class Solution:\n",
    "    def firstMissingPositive(self, nums: List[int]) -> int:\n",
    "        if 1 not in nums:\n",
    "            return 1\n",
    "        \n",
    "        L = len(nums)\n",
    "        for idx in range(L):\n",
    "            if nums[idx] <= 0 or nums[idx] > L:\n",
    "                nums[idx] = 1\n",
    "        \n",
    "        for idx in range(L):\n",
    "            a = abs(nums[idx])\n",
    "            nums[a%L] = -abs(nums[a%L])\n",
    "            \n",
    "        for idx in range(1, L):\n",
    "            if nums[idx] > 0:\n",
    "                return idx\n",
    "        \n",
    "        if nums[0] > 0:\n",
    "            return L\n",
    "        \n",
    "        return L + 1"
   ]
  },
  {
   "cell_type": "markdown",
   "id": "7fbe48af",
   "metadata": {},
   "source": [
    "## Lessons and Thoughts\n",
    "- It is from leetcode solution. The idea is to use `nums` as hash, and the sign of the number to see if a certain number is present, without losing what original number at `idx` is. Very tricky."
   ]
  }
 ],
 "metadata": {
  "kernelspec": {
   "display_name": "Python 3 (ipykernel)",
   "language": "python",
   "name": "python3"
  },
  "language_info": {
   "codemirror_mode": {
    "name": "ipython",
    "version": 3
   },
   "file_extension": ".py",
   "mimetype": "text/x-python",
   "name": "python",
   "nbconvert_exporter": "python",
   "pygments_lexer": "ipython3",
   "version": "3.9.7"
  }
 },
 "nbformat": 4,
 "nbformat_minor": 5
}
