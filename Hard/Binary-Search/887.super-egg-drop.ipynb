{
 "cells": [
  {
   "cell_type": "markdown",
   "metadata": {},
   "source": [
    "## Attempt 1 - Accepted"
   ]
  },
  {
   "cell_type": "code",
   "execution_count": null,
   "metadata": {},
   "outputs": [],
   "source": [
    "class Solution:\n",
    "    def superEggDrop(self, k: int, n: int) -> int:\n",
    "        self.cache = dict()\n",
    "        \n",
    "        def dp(k, n):\n",
    "            # print(self.cache)\n",
    "            if k == 1:\n",
    "                return n\n",
    "            \n",
    "            if n <= 1:\n",
    "                return 1\n",
    "            \n",
    "            if (k, n) in self.cache:\n",
    "                return self.cache[(k, n)]\n",
    "            \n",
    "            l, r = 1, n\n",
    "            while r - l > 1:\n",
    "                m = (r + l) // 2\n",
    "                if dp(k - 1, m - 1) < dp(k, n - m):\n",
    "                    l = m\n",
    "                    continue\n",
    "                if dp(k - 1, m - 1) > dp(k, n - m):\n",
    "                    r = m\n",
    "                    continue\n",
    "                l, r = m, m\n",
    "            \n",
    "            res = 1 + min(dp(k, n - l), dp(k - 1, r - 1))\n",
    "            self.cache[(k, n)] = res\n",
    "            return res\n",
    "        \n",
    "        return dp(k, n)"
   ]
  },
  {
   "cell_type": "markdown",
   "metadata": {},
   "source": [
    "## Lessons and Thoughts\n",
    "- It is very tricky to realize it is a dp problem (since you need to figure out the optimal strategy), and trickier to come up with the binary search solution."
   ]
  }
 ],
 "metadata": {
  "kernelspec": {
   "display_name": "Python 3",
   "language": "python",
   "name": "python3"
  },
  "language_info": {
   "codemirror_mode": {
    "name": "ipython",
    "version": 3
   },
   "file_extension": ".py",
   "mimetype": "text/x-python",
   "name": "python",
   "nbconvert_exporter": "python",
   "pygments_lexer": "ipython3",
   "version": "3.6.5"
  }
 },
 "nbformat": 4,
 "nbformat_minor": 2
}
