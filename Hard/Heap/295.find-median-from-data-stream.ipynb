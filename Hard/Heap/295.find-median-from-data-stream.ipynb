{
 "cells": [
  {
   "cell_type": "markdown",
   "metadata": {},
   "source": [
    "## Attempt 1 - Accepted"
   ]
  },
  {
   "cell_type": "code",
   "execution_count": null,
   "metadata": {},
   "outputs": [],
   "source": [
    "class MedianFinder:\n",
    "\n",
    "    def __init__(self):\n",
    "        self.lower = []\n",
    "        heapq.heapify(self.lower)\n",
    "        self.lower_len = 0\n",
    "        self.higher = []\n",
    "        heapq.heapify(self.higher)\n",
    "        self.higher_len = 0\n",
    "\n",
    "    def addNum(self, num: int) -> None:\n",
    "        if not self.lower:\n",
    "            heapq.heappush(self.lower, -num)\n",
    "            self.lower_len += 1\n",
    "            return\n",
    "        if not self.higher:\n",
    "            if num > (-1) * self.lower[0]:\n",
    "                heapq.heappush(self.higher, num)\n",
    "                self.higher_len += 1\n",
    "                return\n",
    "            else:\n",
    "                n = heapq.heappop(self.lower)\n",
    "                heapq.heappush(self.higher, -n)\n",
    "                heapq.heappush(self.lower, -num)\n",
    "                self.higher_len += 1\n",
    "                return\n",
    "        \n",
    "        if num > (-1) * self.lower[0]:\n",
    "            heapq.heappush(self.higher, num)\n",
    "            self.higher_len += 1\n",
    "            if self.higher_len > self.lower_len + 1:\n",
    "                n = heapq.heappop(self.higher)\n",
    "                heapq.heappush(self.lower, -n)\n",
    "                self.higher_len -= 1\n",
    "                self.lower_len += 1\n",
    "                return\n",
    "        else:\n",
    "            heapq.heappush(self.lower, -num)\n",
    "            self.lower_len += 1\n",
    "            if self.lower_len > self.higher_len + 1:\n",
    "                n = heapq.heappop(self.lower)\n",
    "                heapq.heappush(self.higher, -n)\n",
    "                self.lower_len -= 1\n",
    "                self.higher_len += 1\n",
    "                return\n",
    "        \n",
    "\n",
    "    def findMedian(self) -> float:\n",
    "        # print(\"lower\")\n",
    "        # print(self.lower)\n",
    "        # print(\"higher\")\n",
    "        # print(self.higher)\n",
    "        if self.lower_len == self.higher_len:\n",
    "            m, n = self.lower[0], self.higher[0]\n",
    "            return (-m + n) / 2\n",
    "        elif self.lower_len == self.higher_len + 1:\n",
    "            return (-1) * self.lower[0]\n",
    "        else:\n",
    "            return self.higher[0]\n",
    "        \n",
    "\n",
    "\n",
    "# Your MedianFinder object will be instantiated and called as such:\n",
    "# obj = MedianFinder()\n",
    "# obj.addNum(num)\n",
    "# param_2 = obj.findMedian()"
   ]
  },
  {
   "cell_type": "markdown",
   "metadata": {},
   "source": [
    "## Lessons and Thoughts\n",
    "- The two-heap idea is from the solution."
   ]
  }
 ],
 "metadata": {
  "kernelspec": {
   "display_name": "Python 3 (ipykernel)",
   "language": "python",
   "name": "python3"
  },
  "language_info": {
   "codemirror_mode": {
    "name": "ipython",
    "version": 3
   },
   "file_extension": ".py",
   "mimetype": "text/x-python",
   "name": "python",
   "nbconvert_exporter": "python",
   "pygments_lexer": "ipython3",
   "version": "3.9.7"
  }
 },
 "nbformat": 4,
 "nbformat_minor": 2
}
