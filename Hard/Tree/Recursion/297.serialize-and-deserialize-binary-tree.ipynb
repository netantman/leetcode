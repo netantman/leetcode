{
 "cells": [
  {
   "cell_type": "markdown",
   "metadata": {},
   "source": [
    "## Attempt 1 - Accepted"
   ]
  },
  {
   "cell_type": "code",
   "execution_count": null,
   "metadata": {},
   "outputs": [],
   "source": [
    "# Definition for a binary tree node.\n",
    "# class TreeNode(object):\n",
    "#     def __init__(self, x):\n",
    "#         self.val = x\n",
    "#         self.left = None\n",
    "#         self.right = None\n",
    "\n",
    "class Codec:\n",
    "\n",
    "    def serialize(self, root):\n",
    "        \"\"\"Encodes a tree to a single string.\n",
    "        \n",
    "        :type root: TreeNode\n",
    "        :rtype: str\n",
    "        \"\"\"\n",
    "        if root is None:\n",
    "            return \"\"\n",
    "        \n",
    "        if root.left is None and root.right is None:\n",
    "            return str(root.val)\n",
    "        \n",
    "        left = self.serialize(root.left)\n",
    "        L_left = len(left)\n",
    "        right = self.serialize(root.right)\n",
    "        \n",
    "        prefix = str(root.val)\n",
    "        L_prefix = len(prefix)\n",
    "        \n",
    "        res = prefix + left + right\n",
    "        res = f\"{L_prefix},{L_prefix + L_left}|\" + res\n",
    "        \n",
    "        return res\n",
    "        \n",
    "\n",
    "    def deserialize(self, data):\n",
    "        \"\"\"Decodes your encoded data to tree.\n",
    "        \n",
    "        :type data: str\n",
    "        :rtype: TreeNode\n",
    "        \"\"\"\n",
    "        \n",
    "        if data == \"\":\n",
    "            return None\n",
    "        \n",
    "        if \"|\" not in data:\n",
    "            return TreeNode(int(data))\n",
    "        \n",
    "        idx = data.find(\"|\")\n",
    "        l, r = tuple(data[:idx].split(\",\"))\n",
    "        l, r = int(l), int(r)\n",
    "        post = data[idx + 1:]\n",
    "        prefix, left, right = post[:l], post[l:r], post[r:]\n",
    "        res = TreeNode()\n",
    "        res.val = int(prefix)\n",
    "        res.left = self.deserialize(left)\n",
    "        res.right = self.deserialize(right)\n",
    "        return res\n",
    "        \n",
    "\n",
    "# Your Codec object will be instantiated and called as such:\n",
    "# ser = Codec()\n",
    "# deser = Codec()\n",
    "# ans = deser.deserialize(ser.serialize(root))"
   ]
  },
  {
   "cell_type": "markdown",
   "metadata": {},
   "source": [
    "## Lessons and Thoughts\n",
    "- Does not feel so hard when using recursion, and a good design on the delimiter"
   ]
  }
 ],
 "metadata": {
  "kernelspec": {
   "display_name": "Python 3",
   "language": "python",
   "name": "python3"
  },
  "language_info": {
   "codemirror_mode": {
    "name": "ipython",
    "version": 3
   },
   "file_extension": ".py",
   "mimetype": "text/x-python",
   "name": "python",
   "nbconvert_exporter": "python",
   "pygments_lexer": "ipython3",
   "version": "3.6.5"
  }
 },
 "nbformat": 4,
 "nbformat_minor": 2
}
