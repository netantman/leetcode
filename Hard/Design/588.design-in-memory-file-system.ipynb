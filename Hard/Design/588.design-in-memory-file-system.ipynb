{
 "cells": [
  {
   "cell_type": "markdown",
   "metadata": {},
   "source": [
    "## Attempt 1 - Accepted"
   ]
  },
  {
   "cell_type": "code",
   "execution_count": null,
   "metadata": {},
   "outputs": [],
   "source": [
    "class FileSystem:\n",
    "    \n",
    "    def __init__(self):\n",
    "        self.cache = {\"\" : {}}\n",
    "        \n",
    "\n",
    "    def ls(self, path: str) -> List[str]:\n",
    "        folders = path.split(\"/\") if path != \"/\" else [\"\"]\n",
    "        # print(folders)\n",
    "        curr = self.cache\n",
    "        for f in folders:\n",
    "            curr = curr[f]\n",
    "        if type(curr) == str:\n",
    "            return [folders[-1]]\n",
    "        res = [k for k in curr]\n",
    "        res.sort()\n",
    "        return res\n",
    "\n",
    "    def mkdir(self, path: str) -> None:\n",
    "        folders = path.split(\"/\") if path != \"/\" else [\"\"]\n",
    "        curr = self.cache\n",
    "        for f in folders:\n",
    "            if f not in curr:\n",
    "                curr[f] = {}\n",
    "            curr = curr[f]\n",
    "        return\n",
    "        \n",
    "\n",
    "    def addContentToFile(self, filePath: str, content: str) -> None:\n",
    "        names = filePath.split(\"/\") if filePath != \"/\" else [\"\"]\n",
    "        curr = self.cache\n",
    "        for n in names[:-1]:\n",
    "            if n not in curr:\n",
    "                curr[n] = {}\n",
    "            curr = curr[n]\n",
    "        fileName = names[-1]\n",
    "        curr[fileName] = curr.get(fileName, \"\") + content\n",
    "        return\n",
    "        \n",
    "\n",
    "    def readContentFromFile(self, filePath: str) -> str:\n",
    "        names = filePath.split(\"/\") if filePath != \"/\" else [\"\"]\n",
    "        curr = self.cache\n",
    "        for n in names[:-1]:\n",
    "            if n not in curr:\n",
    "                curr[n] = {}\n",
    "            curr = curr[n]\n",
    "        fileName = names[-1]\n",
    "        return curr[fileName]\n",
    "\n",
    "\n",
    "# Your FileSystem object will be instantiated and called as such:\n",
    "# obj = FileSystem()\n",
    "# param_1 = obj.ls(path)\n",
    "# obj.mkdir(path)\n",
    "# obj.addContentToFile(filePath,content)\n",
    "# param_4 = obj.readContentFromFile(filePath)"
   ]
  },
  {
   "cell_type": "markdown",
   "metadata": {},
   "source": [
    "## Lessons and Thoughts\n",
    "- The idea is to design a nested dictionary of dictionary/strings."
   ]
  }
 ],
 "metadata": {
  "kernelspec": {
   "display_name": "Python 3",
   "language": "python",
   "name": "python3"
  },
  "language_info": {
   "codemirror_mode": {
    "name": "ipython",
    "version": 3
   },
   "file_extension": ".py",
   "mimetype": "text/x-python",
   "name": "python",
   "nbconvert_exporter": "python",
   "pygments_lexer": "ipython3",
   "version": "3.6.5"
  }
 },
 "nbformat": 4,
 "nbformat_minor": 2
}
