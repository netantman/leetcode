{
 "cells": [
  {
   "cell_type": "markdown",
   "metadata": {},
   "source": [
    "## Attempt 1 - Accepted"
   ]
  },
  {
   "cell_type": "code",
   "execution_count": null,
   "metadata": {},
   "outputs": [],
   "source": [
    "class Solution:\n",
    "    def consecutiveNumbersSum(self, n: int) -> int:\n",
    "        res = 1\n",
    "        target = 2 * n\n",
    "        for k in range(2, target):\n",
    "            if k * k >= target:\n",
    "                break\n",
    "            if target % k > 0:\n",
    "                continue\n",
    "            \n",
    "            q = target // k\n",
    "            if (q % 2) ^ (k % 2) > 0:\n",
    "                res += 1\n",
    "        \n",
    "        return res"
   ]
  },
  {
   "cell_type": "markdown",
   "metadata": {},
   "source": [
    "## Attempt 2 - Accepted"
   ]
  },
  {
   "cell_type": "code",
   "execution_count": null,
   "metadata": {},
   "outputs": [],
   "source": [
    "class Solution:\n",
    "    def consecutiveNumbersSum(self, n: int) -> int:\n",
    "        m = 2 * n\n",
    "        f = 2\n",
    "        res = 1\n",
    "        while f * f <= m:\n",
    "            if m % f < 1:\n",
    "                q = m // f\n",
    "                if (q % 2) ^ (f % 2) > 0:\n",
    "                    if q - (f - 1) > 0:\n",
    "                        res += 1\n",
    "                    if f - (q - 1) > 0:\n",
    "                        res += 1\n",
    "            f += 1\n",
    "        \n",
    "        return res"
   ]
  },
  {
   "cell_type": "markdown",
   "metadata": {},
   "source": [
    "## Lessons and Thoughts\n",
    "- Obtain idea from the summing formula.\n",
    "- In Attempt 2, the other half is not necessary."
   ]
  }
 ],
 "metadata": {
  "kernelspec": {
   "display_name": "Python 3 (ipykernel)",
   "language": "python",
   "name": "python3"
  },
  "language_info": {
   "codemirror_mode": {
    "name": "ipython",
    "version": 3
   },
   "file_extension": ".py",
   "mimetype": "text/x-python",
   "name": "python",
   "nbconvert_exporter": "python",
   "pygments_lexer": "ipython3",
   "version": "3.9.7"
  }
 },
 "nbformat": 4,
 "nbformat_minor": 2
}
