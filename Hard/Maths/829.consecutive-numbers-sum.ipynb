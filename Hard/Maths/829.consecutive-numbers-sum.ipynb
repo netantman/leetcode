{
 "cells": [
  {
   "cell_type": "markdown",
   "metadata": {},
   "source": [
    "## Attempt 1 - Accepted"
   ]
  },
  {
   "cell_type": "code",
   "execution_count": null,
   "metadata": {},
   "outputs": [],
   "source": [
    "class Solution:\n",
    "    def consecutiveNumbersSum(self, n: int) -> int:\n",
    "        res = 1\n",
    "        target = 2 * n\n",
    "        for k in range(2, target):\n",
    "            if k * k >= target:\n",
    "                break\n",
    "            if target % k > 0:\n",
    "                continue\n",
    "            \n",
    "            q = target // k\n",
    "            if (q % 2) ^ (k % 2) > 0:\n",
    "                res += 1\n",
    "        \n",
    "        return res"
   ]
  },
  {
   "cell_type": "markdown",
   "metadata": {},
   "source": [
    "## Lessons and Thoughts\n",
    "- Obtain idea from the summing formula."
   ]
  }
 ],
 "metadata": {
  "kernelspec": {
   "display_name": "Python 3",
   "language": "python",
   "name": "python3"
  },
  "language_info": {
   "codemirror_mode": {
    "name": "ipython",
    "version": 3
   },
   "file_extension": ".py",
   "mimetype": "text/x-python",
   "name": "python",
   "nbconvert_exporter": "python",
   "pygments_lexer": "ipython3",
   "version": "3.7.3"
  }
 },
 "nbformat": 4,
 "nbformat_minor": 2
}
