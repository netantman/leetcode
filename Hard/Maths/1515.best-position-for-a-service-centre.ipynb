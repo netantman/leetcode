{
 "cells": [
  {
   "cell_type": "markdown",
   "metadata": {},
   "source": [
    "## Attempt 1 - Wrong Answer"
   ]
  },
  {
   "cell_type": "code",
   "execution_count": null,
   "metadata": {},
   "outputs": [],
   "source": [
    "class Solution:\n",
    "    def getMinDistSum(self, positions: List[List[int]]) -> float:\n",
    "        N = len(positions)\n",
    "        positions = [tuple(p) for p in positions]\n",
    "        X = sorted([p[0] for p in positions])\n",
    "        Y = sorted([p[1] for p in positions])\n",
    "        tol = 0.00001\n",
    "        \n",
    "        def cost(xc, yc):\n",
    "            return sum([math.sqrt((xc - x) ** 2 + (yc - y) ** 2) for x, y in positions])\n",
    "        \n",
    "        def x_deriv(xc, yc):\n",
    "            return sum([ 2 * (xc - x) / math.sqrt((xc - x) ** 2 + (yc - y) ** 2) if (xc - x) ** 2 + (yc - y) ** 2 > 0 else 0 for x, y in positions])\n",
    "        \n",
    "        def y_deriv(xc, yc):\n",
    "            return sum([ 2 * (yc - y) / math.sqrt((xc - x) ** 2 + (yc - y) ** 2) if (xc - x) ** 2 + (yc - y) ** 2 > 0 else 0 for x, y in positions])\n",
    "        \n",
    "        xp, yp = X[0], Y[0]\n",
    "        xc, yc = sum(X) / N, sum(Y) / N\n",
    "        \n",
    "        prev = cost(X[0], Y[0])\n",
    "        curr = cost(xc, yc)\n",
    "        while prev - curr > tol / 1000:\n",
    "            xp, yp = xc, yc\n",
    "            prev = curr\n",
    "            l, r = X[0], X[-1]\n",
    "            while r - l > tol / 10000:\n",
    "                m = (r + l) / 2\n",
    "                if x_deriv(m, yp) < 0:\n",
    "                    l = m\n",
    "                else:\n",
    "                    r = m\n",
    "            xc = (r + l) / 2\n",
    "            l, r = Y[0], Y[-1]\n",
    "            while r - l > tol / 10000:\n",
    "                m = (r + l) / 2\n",
    "                if y_deriv(xc, m) < 0:\n",
    "                    l = m\n",
    "                else:\n",
    "                    r = m\n",
    "            yc = (r + l) / 2\n",
    "            curr = cost(xc, yc)\n",
    "        # print(xc, yc)\n",
    "        # print(cost(xc, yc))\n",
    "        return curr"
   ]
  },
  {
   "cell_type": "markdown",
   "metadata": {},
   "source": [
    "## Lessons and Thoughts\n",
    "- It seems to have converged to a wrong optimum in the 54th test (53/56 tests passed).\n",
    "- Another approach would be to use Newton method on the deriviative of the cost function, but that entails going into second derivative, and I worry about numerical stability..."
   ]
  }
 ],
 "metadata": {
  "kernelspec": {
   "display_name": "Python 3",
   "language": "python",
   "name": "python3"
  },
  "language_info": {
   "codemirror_mode": {
    "name": "ipython",
    "version": 3
   },
   "file_extension": ".py",
   "mimetype": "text/x-python",
   "name": "python",
   "nbconvert_exporter": "python",
   "pygments_lexer": "ipython3",
   "version": "3.6.5"
  }
 },
 "nbformat": 4,
 "nbformat_minor": 2
}
