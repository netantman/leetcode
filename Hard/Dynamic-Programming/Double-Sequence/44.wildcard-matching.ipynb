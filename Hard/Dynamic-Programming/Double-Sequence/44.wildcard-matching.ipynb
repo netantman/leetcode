{
 "cells": [
  {
   "cell_type": "markdown",
   "id": "4c38ce59",
   "metadata": {},
   "source": [
    "## Attempt 1 - Wrong Answer"
   ]
  },
  {
   "cell_type": "code",
   "execution_count": null,
   "id": "dd150da4",
   "metadata": {},
   "outputs": [],
   "source": [
    "class Solution:\n",
    "    def isMatch(self, s: str, p: str) -> bool:\n",
    "        R, C = len(p), len(s)\n",
    "        # if R < C:\n",
    "        #     return False\n",
    "        \n",
    "        dp = [[False for c in range(C + 1)] for r in range(R + 1)]\n",
    "        dp[0][0] = True\n",
    "        \n",
    "        ## --> dp[r][0] are not trivially False\n",
    "        \n",
    "        for r in range(1, R + 1):\n",
    "            for c in range(1, C + 1):\n",
    "                if p[r - 1] not in {'?', '*'}:\n",
    "                    dp[r][c] = (p[r - 1] == s[c - 1]) and (dp[r - 1][c - 1])\n",
    "                    continue\n",
    "                \n",
    "                if p[r - 1] == '?':\n",
    "                    dp[r][c] = dp[r - 1][c - 1] ## --> forgot continue\n",
    "                \n",
    "                # p[r - 1] == '*'\n",
    "                dp[r][c] = any(dp[r - 1][:c]) ## --> should be :(c+1), since we also want to compare to the first c elements in s\n",
    "                \n",
    "        # print(dp)\n",
    "        \n",
    "        return dp[R][C]"
   ]
  },
  {
   "cell_type": "markdown",
   "id": "758a049c",
   "metadata": {},
   "source": [
    "## Attempt 2 - Accepted"
   ]
  },
  {
   "cell_type": "code",
   "execution_count": null,
   "id": "709f0a43",
   "metadata": {},
   "outputs": [],
   "source": [
    "class Solution:\n",
    "    def isMatch(self, s: str, p: str) -> bool:\n",
    "        R, C = len(p), len(s)\n",
    "        # if R < C:\n",
    "        #     return False\n",
    "        \n",
    "        dp = [[False for c in range(C + 1)] for r in range(R + 1)]\n",
    "        dp[0][0] = True\n",
    "        \n",
    "        for r in range(1, R + 1):\n",
    "            dp[r][0] = (p[:r] == \"*\" * r)\n",
    "        \n",
    "        for r in range(1, R + 1):\n",
    "            for c in range(1, C + 1):\n",
    "                if p[r - 1] not in {'?', '*'}:\n",
    "                    dp[r][c] = (p[r - 1] == s[c - 1]) and (dp[r - 1][c - 1])\n",
    "                    continue\n",
    "                \n",
    "                if p[r - 1] == '?':\n",
    "                    dp[r][c] = dp[r - 1][c - 1]\n",
    "                    continue\n",
    "                \n",
    "                # p[r - 1] == '*'\n",
    "                dp[r][c] = any(dp[r - 1][:(c + 1)])\n",
    "                \n",
    "        # print(dp)\n",
    "        \n",
    "        return dp[R][C]"
   ]
  },
  {
   "cell_type": "markdown",
   "id": "e06fc9e6",
   "metadata": {},
   "source": [
    "## Lessons and Thoughts\n",
    "- Indexing of strings are a bit confusing, better to run some examples if you are allowed to use `print` to debug"
   ]
  }
 ],
 "metadata": {
  "kernelspec": {
   "display_name": "Python 3 (ipykernel)",
   "language": "python",
   "name": "python3"
  },
  "language_info": {
   "codemirror_mode": {
    "name": "ipython",
    "version": 3
   },
   "file_extension": ".py",
   "mimetype": "text/x-python",
   "name": "python",
   "nbconvert_exporter": "python",
   "pygments_lexer": "ipython3",
   "version": "3.9.7"
  }
 },
 "nbformat": 4,
 "nbformat_minor": 5
}
