{
 "cells": [
  {
   "cell_type": "markdown",
   "id": "87d89cf3",
   "metadata": {},
   "source": [
    "## Attempt 1 - Accepted"
   ]
  },
  {
   "cell_type": "code",
   "execution_count": null,
   "id": "70df2887",
   "metadata": {},
   "outputs": [],
   "source": [
    "class Solution {\n",
    "public:\n",
    "    int longestValidParentheses(string s) {\n",
    "        map<int, int> last = {{0, 0}};\n",
    "        int cnt = 0;\n",
    "        int L = s.size();\n",
    "        int res = 0;\n",
    "        for(int idx=0; idx<L; idx++) {\n",
    "            if (s[idx] == '(') {\n",
    "                cnt++;\n",
    "                last[cnt] = idx + 1;          \n",
    "            }\n",
    "            else {\n",
    "                cnt--;\n",
    "                if (cnt < 0) {\n",
    "                    map<int, int> tmp = {{0, idx + 1}};\n",
    "                    last = tmp;\n",
    "                    cnt = 0;\n",
    "                    continue;\n",
    "                }\n",
    "                res = max(res, idx + 1 - last[cnt]);\n",
    "                if (last.find(cnt + 1) != last.end()) {\n",
    "                        last.erase(cnt + 1);\n",
    "                    }\n",
    "            }\n",
    "        }\n",
    "        return res;\n",
    "    }\n",
    "};"
   ]
  },
  {
   "cell_type": "markdown",
   "id": "e7eec4c6",
   "metadata": {},
   "source": [
    "## Lessons and Thoughts\n",
    "- Took you about 30min to refine and implement. The idea is to maintain a record `last` to cache all previous positions at the `cnt`. The tricky part is to know when to refresh `last[cnt]`."
   ]
  }
 ],
 "metadata": {
  "kernelspec": {
   "display_name": "Python 3 (ipykernel)",
   "language": "python",
   "name": "python3"
  },
  "language_info": {
   "codemirror_mode": {
    "name": "ipython",
    "version": 3
   },
   "file_extension": ".py",
   "mimetype": "text/x-python",
   "name": "python",
   "nbconvert_exporter": "python",
   "pygments_lexer": "ipython3",
   "version": "3.9.7"
  }
 },
 "nbformat": 4,
 "nbformat_minor": 5
}
