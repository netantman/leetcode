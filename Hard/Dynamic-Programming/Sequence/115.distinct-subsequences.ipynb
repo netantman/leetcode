{
 "cells": [
  {
   "cell_type": "markdown",
   "metadata": {},
   "source": [
    "## Attempt 1 - Accepted"
   ]
  },
  {
   "cell_type": "code",
   "execution_count": null,
   "metadata": {},
   "outputs": [],
   "source": [
    "class Solution {\n",
    "public:\n",
    "    int numDistinct(string s, string t) {\n",
    "        int L = t.size();\n",
    "        if (s.size() < L) {\n",
    "            return 0;\n",
    "        }\n",
    "        std::vector<unsigned int> dp(L + 1, 0); // --> unsigned int to deal with integar overflow\n",
    "        dp[0] = 1;\n",
    "        \n",
    "        std::map<std::string, vector<int>> record {};\n",
    "        for (int idx = 0; idx < t.size(); idx++) {\n",
    "            std::string c = t.substr(idx, 1);\n",
    "            if (record.find(c) != record.end()) {\n",
    "                record[c].push_back(idx);\n",
    "            }\n",
    "            else {\n",
    "                std::vector<int> tmp = {idx};\n",
    "                record[c] = tmp;\n",
    "            }\n",
    "        }\n",
    "        \n",
    "        for (int jdx = 0; jdx < s.size(); jdx++) {\n",
    "            std::string d = s.substr(jdx, 1);\n",
    "            if (record.find(d) == record.end()) {\n",
    "                continue;\n",
    "            }\n",
    "            \n",
    "            std::vector<unsigned int> new_dp(L + 1, 0);\n",
    "            std::vector<int> indices = record[d];\n",
    "            for (int idx : indices) {\n",
    "                new_dp[idx + 1] = dp[idx];\n",
    "            }\n",
    "            \n",
    "            for (int l = 0; l < L + 1; l++) {\n",
    "                dp[l] += new_dp[l];\n",
    "            }\n",
    "        }\n",
    "        \n",
    "        return dp[L];\n",
    "    }\n",
    "};"
   ]
  },
  {
   "cell_type": "markdown",
   "metadata": {},
   "source": [
    "## Lessons and Thoughts\n",
    "- Essentially extend the two-pointer approach to find substring and use it as a dp step."
   ]
  }
 ],
 "metadata": {
  "kernelspec": {
   "display_name": "Python 3",
   "language": "python",
   "name": "python3"
  },
  "language_info": {
   "codemirror_mode": {
    "name": "ipython",
    "version": 3
   },
   "file_extension": ".py",
   "mimetype": "text/x-python",
   "name": "python",
   "nbconvert_exporter": "python",
   "pygments_lexer": "ipython3",
   "version": "3.7.3"
  }
 },
 "nbformat": 4,
 "nbformat_minor": 2
}
