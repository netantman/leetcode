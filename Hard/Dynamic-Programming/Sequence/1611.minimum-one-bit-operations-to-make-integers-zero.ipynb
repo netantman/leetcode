{
 "cells": [
  {
   "cell_type": "markdown",
   "metadata": {},
   "source": [
    "## Attempt 1 - Accepted"
   ]
  },
  {
   "cell_type": "code",
   "execution_count": null,
   "metadata": {},
   "outputs": [],
   "source": [
    "class Solution:\n",
    "    def minimumOneBitOperations(self, n: int) -> int:\n",
    "        if n == 0:\n",
    "            return 0\n",
    "        if n == 1:\n",
    "            return 1\n",
    "        \n",
    "        s = bin(n)[2:]\n",
    "        L = len(s)\n",
    "        if s[-1] == \"1\":\n",
    "            zero, one = [1], [0]\n",
    "        else:\n",
    "            zero, one = [0], [1]\n",
    "        for idx in range(L - 2, -1, -1):\n",
    "            if s[idx] == \"1\":\n",
    "                add_to_zero = one[0] + 1 + (2 ** len(one) - 1)\n",
    "                add_to_one = zero[0]\n",
    "            else:\n",
    "                add_to_zero = zero[0]\n",
    "                add_to_one = one[0] + 1 + (2 ** len(one) - 1)\n",
    "            zero.insert(0, add_to_zero)\n",
    "            one.insert(0, add_to_one)\n",
    "        \n",
    "        return zero[0]"
   ]
  },
  {
   "cell_type": "markdown",
   "metadata": {},
   "source": [
    "## Attempt 1 - Accepted"
   ]
  },
  {
   "cell_type": "code",
   "execution_count": null,
   "metadata": {},
   "outputs": [],
   "source": [
    "class Solution {\n",
    "public:\n",
    "    int minimumOneBitOperations(int n) {\n",
    "        int idx = 0;\n",
    "        int mask = (1 << idx);\n",
    "        std::string s = \"\";\n",
    "        while (mask <= n) {\n",
    "            if ((mask & n) > 0) {\n",
    "                s = \"1\" + s;\n",
    "            }\n",
    "            else {\n",
    "                s = \"0\" + s;\n",
    "            }\n",
    "            idx++;\n",
    "            mask = (1 << idx);\n",
    "        }\n",
    "        std::deque<int> zero = {};\n",
    "        std::deque<int> one = {};\n",
    "        if (s.back() == '1') {\n",
    "            zero.push_front(1);\n",
    "            one.push_front(0);\n",
    "        }\n",
    "        else {\n",
    "            zero.push_front(0);\n",
    "            one.push_front(1);\n",
    "        }\n",
    "        \n",
    "        int L = s.size();\n",
    "        for (int idx = L - 2; idx >= 0; idx--) {\n",
    "            int add_to_one = 0;\n",
    "            int add_to_zero = 0;\n",
    "            if (s[idx] == '1') {\n",
    "                add_to_one = zero.front();\n",
    "                add_to_zero = one.front() + 1 + (std::pow(2, one.size()) - 1);\n",
    "            }\n",
    "            else {\n",
    "                add_to_one = one.front() + 1 + (std::pow(2, one.size()) - 1);\n",
    "                add_to_zero = zero.front(); \n",
    "            }\n",
    "            one.push_front(add_to_one);\n",
    "            zero.push_front(add_to_zero);\n",
    "        }\n",
    "        return zero.front();\n",
    "    }\n",
    "};"
   ]
  },
  {
   "cell_type": "markdown",
   "metadata": {},
   "source": [
    "## Lessons and Thoughts\n",
    "- The idea is to establish two dp sequences:\n",
    "    - `one` is to change the input to `100...` up to $i$-th digit.\n",
    "    - `zero` is to change the input to `000...` up to $i$-th digit.\n",
    "  And note that for the same number of digits, `100...` and `000...` switch to the other type with $2^{NumDigit}$."
   ]
  }
 ],
 "metadata": {
  "kernelspec": {
   "display_name": "Python 3",
   "language": "python",
   "name": "python3"
  },
  "language_info": {
   "codemirror_mode": {
    "name": "ipython",
    "version": 3
   },
   "file_extension": ".py",
   "mimetype": "text/x-python",
   "name": "python",
   "nbconvert_exporter": "python",
   "pygments_lexer": "ipython3",
   "version": "3.7.3"
  }
 },
 "nbformat": 4,
 "nbformat_minor": 2
}
