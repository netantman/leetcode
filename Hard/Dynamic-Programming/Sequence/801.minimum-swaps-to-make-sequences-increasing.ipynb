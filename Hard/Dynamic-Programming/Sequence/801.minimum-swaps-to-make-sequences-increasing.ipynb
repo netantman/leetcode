{
 "cells": [
  {
   "cell_type": "markdown",
   "metadata": {},
   "source": [
    "## Attempt 1 - Wrong Answer"
   ]
  },
  {
   "cell_type": "code",
   "execution_count": null,
   "metadata": {},
   "outputs": [],
   "source": [
    "class Solution:\n",
    "    def minSwap(self, A: List[int], B: List[int]) -> int:\n",
    "        L=len(A)\n",
    "        if L==1:\n",
    "            return 0\n",
    "        use=[float('inf') for _ in A]\n",
    "        use[0]=1\n",
    "        no=[float('inf') for _ in A]\n",
    "        no[0]=0\n",
    "        for idx in range(1,L):\n",
    "            if A[idx]>A[idx-1] and B[idx]>B[idx-1]:\n",
    "                no[idx]=min(no[idx], no[idx-1])  ## --> this relation is wrong\n",
    "                if A[idx]<=B[idx-1] or B[idx]<=A[idx-1]:\n",
    "                    use[idx]=min(use[idx], use[idx-1]+1)\n",
    "                else:\n",
    "                    use[idx]=min(use[idx], no[idx-1]+1, use[idx-1]+1)\n",
    "            else:\n",
    "                no[idx]=min(no[idx], use[idx-1])\n",
    "                use[idx]=min(use[idx], no[idx-1]+1)\n",
    "        \n",
    "        return min(no[-1], use[-1])"
   ]
  },
  {
   "cell_type": "markdown",
   "metadata": {},
   "source": [
    "## Attempt 2 - Accepted"
   ]
  },
  {
   "cell_type": "code",
   "execution_count": null,
   "metadata": {},
   "outputs": [],
   "source": [
    "class Solution:\n",
    "    def minSwap(self, A: List[int], B: List[int]) -> int:\n",
    "        L=len(A)\n",
    "        if L==1:\n",
    "            return 0\n",
    "        use=[float('inf') for _ in A]\n",
    "        use[0]=1\n",
    "        no=[float('inf') for _ in A]\n",
    "        no[0]=0\n",
    "        for idx in range(1,L):\n",
    "            if A[idx]>A[idx-1] and B[idx]>B[idx-1]:\n",
    "                if A[idx]<=B[idx-1] or B[idx]<=A[idx-1]:\n",
    "                    use[idx]=min(use[idx], use[idx-1]+1)\n",
    "                    no[idx]=min(no[idx], no[idx-1])\n",
    "                else:\n",
    "                    use[idx]=min(use[idx], no[idx-1]+1, use[idx-1]+1)\n",
    "                    no[idx]=min(no[idx], no[idx-1], use[idx-1])\n",
    "            else:\n",
    "                no[idx]=min(no[idx], use[idx-1])\n",
    "                use[idx]=min(use[idx], no[idx-1]+1)\n",
    "        \n",
    "        return min(no[-1], use[-1])"
   ]
  },
  {
   "cell_type": "markdown",
   "metadata": {},
   "source": [
    "## Attempt 3 - Accepted"
   ]
  },
  {
   "cell_type": "code",
   "execution_count": null,
   "metadata": {},
   "outputs": [],
   "source": [
    "class Solution { ## --> probably took ~45min\n",
    "public:\n",
    "    int minSwap(vector<int>& nums1, vector<int>& nums2) {\n",
    "        int non_swp;\n",
    "        int swp;\n",
    "        if ((nums1[0] < nums1[1]) && (nums2[0] < nums2[1])) {\n",
    "            non_swp = 0;\n",
    "            if ((nums1[0] < nums2[1]) && (nums2[0] < nums1[1])) {\n",
    "                swp = 1;    \n",
    "            }\n",
    "            else {\n",
    "                swp = 2;\n",
    "            }\n",
    "        }\n",
    "        else {\n",
    "            non_swp = 1;\n",
    "            swp = 1;\n",
    "        }\n",
    "        \n",
    "        int L = nums1.size();\n",
    "        int new_non_swp, new_swp;\n",
    "        for (int idx=2; idx<L; idx++) {\n",
    "            if ((nums1[idx - 1] < nums1[idx]) && (nums2[idx - 1] < nums2[idx])) {\n",
    "                if ((nums1[idx - 1] < nums2[idx]) && (nums2[idx - 1] < nums1[idx])) {\n",
    "                    new_non_swp = min(non_swp, swp);\n",
    "                    new_swp = min(non_swp, swp) + 1;\n",
    "                }\n",
    "                else {\n",
    "                    new_non_swp = non_swp;\n",
    "                    new_swp = swp + 1;\n",
    "                }\n",
    "            }\n",
    "            else {\n",
    "                new_non_swp = swp;\n",
    "                new_swp = non_swp + 1;\n",
    "            }\n",
    "            non_swp = new_non_swp;\n",
    "            swp = new_swp;\n",
    "            // cout << non_swp << \" \" << swp << \"\\n\";\n",
    "        }\n",
    "        return min(non_swp, swp);\n",
    "    };\n",
    "};"
   ]
  },
  {
   "cell_type": "markdown",
   "metadata": {},
   "source": [
    "## Lessons and Thoughts\n",
    "- It probably helps to run through a few examples - though in this Problems, examples are hard to come by.\n",
    "- Took you a while to come up with the algo. Typically with these array or string set of questions and try to find optimum, think DP."
   ]
  }
 ],
 "metadata": {
  "kernelspec": {
   "display_name": "Python 3",
   "language": "python",
   "name": "python3"
  },
  "language_info": {
   "codemirror_mode": {
    "name": "ipython",
    "version": 3
   },
   "file_extension": ".py",
   "mimetype": "text/x-python",
   "name": "python",
   "nbconvert_exporter": "python",
   "pygments_lexer": "ipython3",
   "version": "3.6.5"
  }
 },
 "nbformat": 4,
 "nbformat_minor": 2
}
