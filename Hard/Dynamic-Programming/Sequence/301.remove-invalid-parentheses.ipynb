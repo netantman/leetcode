{
 "cells": [
  {
   "cell_type": "markdown",
   "metadata": {},
   "source": [
    "## Attempt 1 - Accepted"
   ]
  },
  {
   "cell_type": "code",
   "execution_count": null,
   "metadata": {},
   "outputs": [],
   "source": [
    "class Solution:\n",
    "    def removeInvalidParentheses(self, s: str) -> List[str]:\n",
    "        curr = [(\"\", 0)]\n",
    "        for ch in s:\n",
    "            nexxt = []\n",
    "            if ch not in {\"(\", \")\"}:\n",
    "                for c in curr:\n",
    "                    nexxt.append((c[0] + ch, c[1]))\n",
    "                curr = nexxt\n",
    "                continue\n",
    "            \n",
    "            if ch == \"(\":\n",
    "                for c in curr:\n",
    "                    nexxt.append((c[0] + ch, c[1] + 1))\n",
    "            else:\n",
    "                for c in curr:\n",
    "                    if c[1] <= 0:\n",
    "                        continue\n",
    "                    nexxt.append((c[0] + ch, c[1] - 1))\n",
    "            \n",
    "            curr += nexxt\n",
    "        \n",
    "        maxLen = max([len(c[0]) for c in curr if c[1] == 0])\n",
    "        res = list(set([c[0] for c in curr if len(c[0]) == maxLen and c[1] == 0]))\n",
    "        return res"
   ]
  },
  {
   "cell_type": "markdown",
   "metadata": {},
   "source": [
    "## Lessons and Thoughts\n",
    "- The key is to recognize a potentially good parenthesis is to have more left than right."
   ]
  }
 ],
 "metadata": {
  "kernelspec": {
   "display_name": "Python 3",
   "language": "python",
   "name": "python3"
  },
  "language_info": {
   "codemirror_mode": {
    "name": "ipython",
    "version": 3
   },
   "file_extension": ".py",
   "mimetype": "text/x-python",
   "name": "python",
   "nbconvert_exporter": "python",
   "pygments_lexer": "ipython3",
   "version": "3.7.3"
  }
 },
 "nbformat": 4,
 "nbformat_minor": 2
}
