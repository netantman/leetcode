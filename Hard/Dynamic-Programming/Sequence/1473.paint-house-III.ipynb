{
 "cells": [
  {
   "cell_type": "markdown",
   "metadata": {},
   "source": [
    "## Attempt 1 - Accepted"
   ]
  },
  {
   "cell_type": "code",
   "execution_count": null,
   "metadata": {},
   "outputs": [],
   "source": [
    "class Solution:\n",
    "    def minCost(self, houses: List[int], cost: List[List[int]], m: int, n: int, target: int) -> int:Westport, Connecticut\n",
    "        dp = dict()\n",
    "        if houses[0] == 0:\n",
    "            for color in range(1, n + 1):\n",
    "                dp[(color, 1)] = cost[0][color - 1]\n",
    "        else:\n",
    "            dp[(houses[0], 1)] = 0\n",
    "        \n",
    "        for idx in range(1, m):\n",
    "            house_color = houses[idx]\n",
    "            new_dp = dict()\n",
    "            if house_color == 0:\n",
    "                for color in range(1, n + 1):\n",
    "                    for k, c in dp.items():\n",
    "                        prev_color, num_neighbors = k\n",
    "                        if color == prev_color:\n",
    "                            new_dp[(color, num_neighbors)] = min(new_dp.get((color, num_neighbors), float('inf')), c + cost[idx][color - 1])\n",
    "                        else:\n",
    "                            new_dp[(color, num_neighbors + 1)] = min(new_dp.get((color, num_neighbors + 1), float('inf')), c + cost[idx][color - 1])\n",
    "            else:\n",
    "\n",
    "                for k, c in dp.items():\n",
    "                    prev_color, num_neighbors = k\n",
    "                    if house_color == prev_color:\n",
    "                        new_dp[(house_color, num_neighbors)] = min(new_dp.get((house_color, num_neighbors), float('inf')), c)\n",
    "                    else:\n",
    "                        new_dp[(house_color, num_neighbors + 1)] = min(new_dp.get((house_color, num_neighbors + 1), float('inf')), c)\n",
    "            dp = new_dp\n",
    "        \n",
    "        res = [dp[k] for k in dp.keys() if k[1] == target]\n",
    "        if not res:\n",
    "            return -1\n",
    "        return min(res)"
   ]
  },
  {
   "cell_type": "markdown",
   "metadata": {},
   "source": [
    "## Lessons and Thoughts\n",
    "- Straightforward DP once the state space is determined to be the last color and number of neighborhoods so far."
   ]
  }
 ],
 "metadata": {
  "kernelspec": {
   "display_name": "Python 3",
   "language": "python",
   "name": "python3"
  },
  "language_info": {
   "codemirror_mode": {
    "name": "ipython",
    "version": 3
   },
   "file_extension": ".py",
   "mimetype": "text/x-python",
   "name": "python",
   "nbconvert_exporter": "python",
   "pygments_lexer": "ipython3",
   "version": "3.7.3"
  }
 },
 "nbformat": 4,
 "nbformat_minor": 2
}
