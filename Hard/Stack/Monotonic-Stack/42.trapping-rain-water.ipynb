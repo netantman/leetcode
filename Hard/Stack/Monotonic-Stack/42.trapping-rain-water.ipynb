{
 "cells": [
  {
   "cell_type": "markdown",
   "id": "08d51141",
   "metadata": {},
   "source": [
    "## Attempt 1 - Accepted"
   ]
  },
  {
   "cell_type": "code",
   "execution_count": null,
   "id": "baa9f4e8",
   "metadata": {},
   "outputs": [],
   "source": [
    "class Solution {\n",
    "public:\n",
    "    int trap(vector<int>& height) {\n",
    "        vector<vector<int>> st = {{0, height[0]}};\n",
    "        int L = height.size();\n",
    "        int res = 0;\n",
    "        for (int idx=1; idx<L; idx++) {\n",
    "            int curr = height[idx];\n",
    "            while ((st.size() > 0) && (st.back()[1] < curr)) {\n",
    "                if (st.size() >= 2) {\n",
    "                    int h = min(st[st.size() - 2][1], curr) - st.back()[1];\n",
    "                    int w = idx - st[st.size() - 2][0] - 1;\n",
    "                    res += h * w;\n",
    "                    st.pop_back();\n",
    "                    continue;\n",
    "                }\n",
    "                if (st.size() == 1) {\n",
    "                    st.pop_back();\n",
    "                    continue;\n",
    "                }\n",
    "            }\n",
    "            vector<int> tmp = {idx, height[idx]};\n",
    "            st.push_back(tmp);\n",
    "        }\n",
    "        return res;\n",
    "    }\n",
    "};"
   ]
  },
  {
   "cell_type": "markdown",
   "id": "1fb8f11c",
   "metadata": {},
   "source": [
    "## Lessons and Thoughts\n",
    "- Feel like it will be very hard to explain this algo."
   ]
  }
 ],
 "metadata": {
  "kernelspec": {
   "display_name": "Python 3 (ipykernel)",
   "language": "python",
   "name": "python3"
  },
  "language_info": {
   "codemirror_mode": {
    "name": "ipython",
    "version": 3
   },
   "file_extension": ".py",
   "mimetype": "text/x-python",
   "name": "python",
   "nbconvert_exporter": "python",
   "pygments_lexer": "ipython3",
   "version": "3.9.7"
  }
 },
 "nbformat": 4,
 "nbformat_minor": 5
}
