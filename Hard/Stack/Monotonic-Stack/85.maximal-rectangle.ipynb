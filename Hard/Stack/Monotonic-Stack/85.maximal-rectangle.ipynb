{
 "cells": [
  {
   "cell_type": "markdown",
   "metadata": {},
   "source": [
    "## Attempt 1 - Wrong Answer"
   ]
  },
  {
   "cell_type": "code",
   "execution_count": null,
   "metadata": {},
   "outputs": [],
   "source": [
    "class Solution:\n",
    "    def maximalRectangle(self, matrix: List[List[str]]) -> int:\n",
    "        R, C = len(matrix), len(matrix[0])\n",
    "        left = [[0 for _ in range(C)] for _ in range(R)]\n",
    "        left[0][0] = 1 if matrix[0][0] == \"1\" else 0\n",
    "        up = [[0 for _ in range(C)] for _ in range(R)]\n",
    "        up[0][0] = 1 if matrix[0][0] == \"1\" else 0\n",
    "        \n",
    "        for c in range(1, C):\n",
    "            if matrix[0][c] == \"0\":\n",
    "                left[0][c] = 0\n",
    "                continue\n",
    "            \n",
    "            left[0][c] = left[0][c-1] + 1\n",
    "            up[0][c] = 1\n",
    "            \n",
    "        for r in range(1, R):\n",
    "            if matrix[r][0] == \"0\":\n",
    "                up[r][0] = 0\n",
    "                continue\n",
    "            \n",
    "            up[r][0] = up[r-1][0] + 1\n",
    "            left[r][0] = 1\n",
    "        \n",
    "        for r in range(1, R):\n",
    "            for c in range(1, C):\n",
    "                if matrix[r][c] == \"1\":\n",
    "                    up[r][c] = up[r-1][c] + 1\n",
    "                    left[r][c] = left[r][c-1] + 1\n",
    "        \n",
    "        # print(up)\n",
    "        # print(left)\n",
    "            \n",
    "        res = int(matrix[0][0])\n",
    "        dp = [[None for _ in range(C)] for _ in range(R)]\n",
    "        dp[0][0] = (int(matrix[0][0]), int(matrix[0][0]))\n",
    "        for c in range(1, C):\n",
    "            dp[0][c] = (left[0][c], 1)\n",
    "            res = max(res, left[0][c])\n",
    "        for r in range(1, R):\n",
    "            dp[r][0] = (1, up[r][0])\n",
    "            res = max(res, up[r][0])\n",
    "        \n",
    "        for r in range(1, R):\n",
    "            for c in range(1, C):\n",
    "                prev_l, prev_u = dp[r-1][c-1]\n",
    "                l = min(prev_l + 1, left[r][c])\n",
    "                u = min(prev_u + 1, up[r][c])\n",
    "                dp[r][c] = (l, u)\n",
    "                \n",
    "                uu = min(up[r][c-1], up[r][c])\n",
    "                ll = min(left[r-1][c], left[r][c])\n",
    "                res = max(res, l * u, 2 * uu, ll * 2, up[r][c], left[r][c])\n",
    "        \n",
    "        # print(dp)\n",
    "        \n",
    "        return res\n",
    "        "
   ]
  },
  {
   "cell_type": "markdown",
   "metadata": {},
   "source": [
    "## Lessons and Thoughts\n",
    "- Spent around 35min for the dp solution of Attempt 1, which solves 68 / 73 test cases. But the right approach is to use the monotonic stack solution in Problem 84."
   ]
  }
 ],
 "metadata": {
  "kernelspec": {
   "display_name": "Python 3",
   "language": "python",
   "name": "python3"
  },
  "language_info": {
   "codemirror_mode": {
    "name": "ipython",
    "version": 3
   },
   "file_extension": ".py",
   "mimetype": "text/x-python",
   "name": "python",
   "nbconvert_exporter": "python",
   "pygments_lexer": "ipython3",
   "version": "3.6.5"
  }
 },
 "nbformat": 4,
 "nbformat_minor": 2
}
