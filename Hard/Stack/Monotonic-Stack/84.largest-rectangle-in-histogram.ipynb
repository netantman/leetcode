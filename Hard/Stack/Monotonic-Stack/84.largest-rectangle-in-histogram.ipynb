{
 "cells": [
  {
   "cell_type": "markdown",
   "id": "8248596e",
   "metadata": {},
   "source": [
    "## Attempt 1 - Time Limit Exceeded"
   ]
  },
  {
   "cell_type": "code",
   "execution_count": null,
   "id": "24417e21",
   "metadata": {},
   "outputs": [],
   "source": [
    "class Solution {\n",
    "public:\n",
    "    int largestRectangleArea(vector<int>& heights) {\n",
    "        \n",
    "        int minn = *min_element(heights.begin(), heights.end());\n",
    "        int maxx = *max_element(heights.begin(), heights.end());\n",
    "        int L = heights.size();\n",
    "        if (minn == maxx) {\n",
    "            return L * minn;\n",
    "        }\n",
    "        \n",
    "        int res = heights[0];\n",
    "        vector<vector<int>> st = {{0, heights[0]}};\n",
    "        \n",
    "        \n",
    "        for(int idx=1; idx<L; idx++) {\n",
    "            while ((st.size() > 0) && (st.back()[1] > heights[idx])) {\n",
    "                st.pop_back();\n",
    "            }\n",
    "            \n",
    "            if (st.size() == 0) {\n",
    "                res = max(res, heights[idx] * (idx + 1));\n",
    "                vector<int> tmp = {idx, heights[idx]};\n",
    "                st.push_back(tmp);\n",
    "                continue;\n",
    "            }\n",
    "            \n",
    "            int N = st.size();\n",
    "            int h = heights[idx];\n",
    "            for (int j=N-1; j>=0; j--) {\n",
    "                res = max(res, h * (idx - st[j][0]));\n",
    "                h = st[j][1];\n",
    "            }\n",
    "            res = max(res, h * (idx + 1));\n",
    "            vector<int> tmp = {idx, heights[idx]};\n",
    "            st.push_back(tmp);\n",
    "        }\n",
    "        return res;\n",
    "    }\n",
    "};"
   ]
  },
  {
   "cell_type": "markdown",
   "id": "67d1bc5b",
   "metadata": {},
   "source": [
    "## Attempt 2 - Accepted"
   ]
  },
  {
   "cell_type": "code",
   "execution_count": null,
   "id": "1a00a511",
   "metadata": {},
   "outputs": [],
   "source": [
    "class Solution {\n",
    "public:\n",
    "    int largestRectangleArea(vector<int>& heights) {\n",
    "        stack<int> stk;\n",
    "        stk.push(-1);\n",
    "        int max_area = 0;\n",
    "        for (size_t i = 0; i < heights.size(); i++) {\n",
    "            while (stk.top() != -1 and heights[stk.top()] >= heights[i]) {\n",
    "                int current_height = heights[stk.top()];\n",
    "                stk.pop();\n",
    "                int current_width = i - stk.top() - 1;\n",
    "                max_area = max(max_area, current_height * current_width);\n",
    "            }\n",
    "            stk.push(i);\n",
    "        }\n",
    "        while (stk.top() != -1) {\n",
    "            int current_height = heights[stk.top()];\n",
    "            stk.pop();\n",
    "            int current_width = heights.size() - stk.top() - 1;\n",
    "            max_area = max(max_area, current_height * current_width);\n",
    "        }\n",
    "        return max_area;\n",
    "    }\n",
    "};"
   ]
  },
  {
   "cell_type": "markdown",
   "id": "7b8538b6",
   "metadata": {},
   "source": [
    "## Attempt 3 - Accepted"
   ]
  },
  {
   "cell_type": "code",
   "execution_count": null,
   "id": "47a63eb5",
   "metadata": {},
   "outputs": [],
   "source": [
    "class Solution {\n",
    "public:\n",
    "    int largestRectangleArea(vector<int>& heights) {\n",
    "        int L = heights.size();\n",
    "        map<int, int> widths = {};\n",
    "        \n",
    "        deque<int> left = {-1};\n",
    "        for (int idx=0; idx<L; idx++) {\n",
    "            while ((left.back() != -1) && (heights[left.back()] >= heights[idx])) {\n",
    "                left.pop_back();\n",
    "            }\n",
    "            widths[idx] = idx - left.back();\n",
    "            left.push_back(idx);\n",
    "        }\n",
    "        \n",
    "        deque<int> right = {L};\n",
    "        for (int idx=L-1; idx>=0; idx--) {\n",
    "            while ((right.front() != L) && (heights[right.front()] >= heights[idx])) {\n",
    "                right.pop_front();\n",
    "            }\n",
    "            widths[idx] += (right.front() - idx);\n",
    "            right.push_front(idx);\n",
    "        }\n",
    "        \n",
    "        int res = 0;\n",
    "        for (int idx=0; idx<L; idx++) {\n",
    "            res = max(res, heights[idx] * (widths[idx] - 1));\n",
    "        }\n",
    "        return res;\n",
    "    }   \n",
    "};"
   ]
  },
  {
   "cell_type": "markdown",
   "id": "3e3a07d5",
   "metadata": {},
   "source": [
    "## Lessons and Thoughts\n",
    "- Attempt 2 is from leetcode solution. Attempt 3 is your own. Both are `O(n)`.\n",
    "- The idea of Attempt 3 is to use two monotonic stacks, and for each block, look at what the max left and right widths."
   ]
  }
 ],
 "metadata": {
  "kernelspec": {
   "display_name": "Python 3 (ipykernel)",
   "language": "python",
   "name": "python3"
  },
  "language_info": {
   "codemirror_mode": {
    "name": "ipython",
    "version": 3
   },
   "file_extension": ".py",
   "mimetype": "text/x-python",
   "name": "python",
   "nbconvert_exporter": "python",
   "pygments_lexer": "ipython3",
   "version": "3.9.7"
  }
 },
 "nbformat": 4,
 "nbformat_minor": 5
}
