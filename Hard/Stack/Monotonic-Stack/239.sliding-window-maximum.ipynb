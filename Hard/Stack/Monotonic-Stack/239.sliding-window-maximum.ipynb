{
 "cells": [
  {
   "cell_type": "markdown",
   "metadata": {},
   "source": [
    "## Attempt 1 - Accepted"
   ]
  },
  {
   "cell_type": "code",
   "execution_count": null,
   "metadata": {},
   "outputs": [],
   "source": [
    "class Solution:\n",
    "    def maxSlidingWindow(self, nums: List[int], k: int) -> List[int]:\n",
    "        L = len(nums)\n",
    "        st = []\n",
    "        for idx in range(k):\n",
    "            n = nums[idx]\n",
    "            while st and st[-1][1] <= n:\n",
    "                st.pop()\n",
    "            st.append((idx, n))\n",
    "        res = [st[0][1]] ## --> probably we can incorporate this in the below\n",
    "        \n",
    "        for idx in range(k, L):\n",
    "            while st and idx - st[0][0] >= k:\n",
    "                st.pop(0)\n",
    "            n = nums[idx]\n",
    "            while st and st[-1][1] <= n:\n",
    "                st.pop()\n",
    "            st.append((idx, n))\n",
    "            res.append(st[0][1])\n",
    "        return res"
   ]
  },
  {
   "cell_type": "markdown",
   "metadata": {},
   "source": [
    "## Attempt 1 - Accepted"
   ]
  },
  {
   "cell_type": "code",
   "execution_count": null,
   "metadata": {},
   "outputs": [],
   "source": [
    "class Solution {\n",
    "public:\n",
    "    vector<int> maxSlidingWindow(vector<int>& nums, int k) {\n",
    "        int L = nums.size();\n",
    "        std::deque<std::tuple<int, int>> st = {}; ## --> a deque of tuples\n",
    "        std::vector<int> res = {};\n",
    "        \n",
    "        for (int idx = 0; idx < k; idx++) {\n",
    "            int n = nums[idx];\n",
    "            while ((st.size() > 0) && (std::get<1>(st.back()) <= n)) { ## --> access of tuples needs to use std::get\n",
    "                st.pop_back();\n",
    "            }\n",
    "            st.push_back(std::make_tuple(idx, n)); ## --> create a tuple\n",
    "        }\n",
    "        res.push_back( std::get<1>(st.front()) );\n",
    "        \n",
    "        for (int idx = k; idx < L; idx++) {\n",
    "            while ((st.size() > 0) && (std::get<0>(st.front()) <= idx - k)) {\n",
    "                st.pop_front();\n",
    "            }\n",
    "            int n = nums[idx];\n",
    "            while ((st.size() > 0) && (std::get<1>(st.back()) <= n)) {\n",
    "                st.pop_back();\n",
    "            }\n",
    "            st.push_back(std::make_tuple(idx, n));\n",
    "            res.push_back( std::get<1>(st.front()) );\n",
    "        }\n",
    "        \n",
    "        return res;\n",
    "    }\n",
    "};"
   ]
  },
  {
   "cell_type": "markdown",
   "metadata": {},
   "source": [
    "## Lessons and Thoughts\n",
    "- Classical monotonic stack question. Just beware of popping from empty stack."
   ]
  }
 ],
 "metadata": {
  "kernelspec": {
   "display_name": "Python 3",
   "language": "python",
   "name": "python3"
  },
  "language_info": {
   "codemirror_mode": {
    "name": "ipython",
    "version": 3
   },
   "file_extension": ".py",
   "mimetype": "text/x-python",
   "name": "python",
   "nbconvert_exporter": "python",
   "pygments_lexer": "ipython3",
   "version": "3.7.3"
  }
 },
 "nbformat": 4,
 "nbformat_minor": 2
}
