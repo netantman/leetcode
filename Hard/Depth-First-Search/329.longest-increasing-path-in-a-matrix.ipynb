{
 "cells": [
  {
   "cell_type": "markdown",
   "metadata": {},
   "source": [
    "## Attempt 1 - Accepted"
   ]
  },
  {
   "cell_type": "code",
   "execution_count": null,
   "metadata": {},
   "outputs": [],
   "source": [
    "class Solution:\n",
    "    def longestIncreasingPath(self, matrix: List[List[int]]) -> int:\n",
    "        directions = [(0, 1), (0, -1), (1, 0), (-1, 0)]\n",
    "        R, C = len(matrix), len(matrix[0])\n",
    "        self.record = [[None for _ in range(C)] for _ in range(R)]\n",
    "        self.res = 0\n",
    "        \n",
    "        def dfs(r, c):\n",
    "            res = 1\n",
    "            for dr, dc in directions:\n",
    "                new_r, new_c = r + dr, c + dc\n",
    "                if new_r >= R or new_r < 0 or new_c >= C or new_c < 0:\n",
    "                    continue\n",
    "                if matrix[new_r][new_c] > matrix[r][c]:\n",
    "                    if self.record[new_r][new_c] is None:\n",
    "                        dfs(new_r, new_c)\n",
    "                    res = max(1 + self.record[new_r][new_c], res)\n",
    "            self.record[r][c] = res\n",
    "            self.res = max(res, self.res)\n",
    "        \n",
    "        for r in range(R):\n",
    "            for c in range(C):\n",
    "                if self.record[r][c] is None:\n",
    "                    dfs(r, c)\n",
    "                    \n",
    "        # print(self.record)\n",
    "        \n",
    "        return self.res"
   ]
  },
  {
   "cell_type": "markdown",
   "metadata": {},
   "source": [
    "## Lessons and Thoughts\n",
    "- Pretty straightforward dfs - you don't even need to keep track of visited nodes."
   ]
  }
 ],
 "metadata": {
  "kernelspec": {
   "display_name": "Python 3",
   "language": "python",
   "name": "python3"
  },
  "language_info": {
   "codemirror_mode": {
    "name": "ipython",
    "version": 3
   },
   "file_extension": ".py",
   "mimetype": "text/x-python",
   "name": "python",
   "nbconvert_exporter": "python",
   "pygments_lexer": "ipython3",
   "version": "3.7.3"
  }
 },
 "nbformat": 4,
 "nbformat_minor": 2
}
