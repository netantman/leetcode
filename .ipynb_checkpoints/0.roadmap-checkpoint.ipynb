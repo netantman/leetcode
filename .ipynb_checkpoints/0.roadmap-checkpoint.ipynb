{
 "cells": [
  {
   "cell_type": "markdown",
   "metadata": {},
   "source": [
    "1. [Two Sum](Easy/Array/1.two-sum.ipynb)\n",
    "2. [Add Two Numbers](Medium/Linked-List/2.add-two-numbers.ipynb)\n",
    "3. [Longest Substring Without Repeating Characters](Medium/Hash-Table/3.longest-substring-without-repeating-characters.ipynb)\n",
    "4. Medium of Two Sorted Arrays (Hard)\n",
    "5. [Longest Palindromic Substring](Medium/String/5.longest-palindromic-substring.ipynb)\n",
    "6. [ZigZag Conversion](Medium/String/6.zigzag-conversion.ipynb)\n",
    "7. [Reverse Integer](Easy/Maths/7.reverse-integer.ipynb)\n",
    "8. [String to Integer (atoi)](Medium/String/8.string-to-integer-(atoi).ipynb)\n",
    "9. [Palindrome Number](Easy/Maths/9.palindrome-number.ipynb)\n",
    "10. Regular Expression Matching (Hard)\n",
    "11. [Container with Most Water](Medium/Array/11.container-with-most-water.ipynb)\n",
    "12. [Integer to Roman](Medium/String/12.integer-to-roman.ipynb)\n",
    "13. [Roman to Integer](Easy/String/13.roman-to-integer.ipynb)\n",
    "14. [Longest Common Prefix](Easy/String/14.longest-common-prefix.ipynb)\n",
    "15. [3Sum](Medium/Two-Pointers/15.3sum.ipynb)\n",
    "16. [3Sum Closest](Medium/Two-Pointers/16.3sum-closest.ipynb)\n",
    "17. [Letter Combinations of a Phone Number](Medium/Backtracking/17.letter-combinations-of-a-phone-number.ipynb)\n",
    "18. [4Sum](Medium/Two-Pointers/19.4sum.ipynb)\n",
    "19. [Remove Nth Node From End of List](Medium/Linked-List/19.remove-nth-node-from-end-of-list.ipynb)\n",
    "20. [Valid Parentheses](Easy/Stack/20.valid-parentheses.ipynb)\n",
    "21. [Merge Two Sorted Lists](Easy/String/21.merge-two-sorted-lists.ipynb)\n",
    "22. [Generate Parentheses](Medium/Backtracking/22.generate-parentheses.ipynb)\n",
    "23. Merge k Sorted Lists (Hard)\n",
    "24. [Swap Nodes in Pairs](Medium/Linked-List/24.swap-nodes-in-pairs.ipynb)\n",
    "25. Reverse Nodes in k-Group (Hard)\n",
    "26. [Remove Duplicates from Sorted Array](Easy/Two-Pointers/26.remove-duplicates-from-sorted-array.ipynb)\n",
    "27. [Remove Element](Easy/Two-Pointers/27.remove-element.ipynb)\n",
    "28. [Implement strStr()](Easy/Two-Pointers/28.implement-strStr().ipynb)\n",
    "29. [Divide Two Integers](Medium/Binary-Search/29.divide-two-integers.ipynb)\n",
    "30. Substring with Concatenation of All Words (Hard)\n",
    "31. [Next Permutation](Medium/Array/31.next-permutation.ipynb)\n",
    "32. Longest Valid Parentheses\n",
    "33. [Search in Rotated Sorted Array](Medium/Binary-Search/33.search-in-rotated-sorted-array.ipynb)\n",
    "34. [Find First and Last Position of Element in Sorted Array](Medium/Binary-Search/34.find-first-and-last-position-of-element-in-sorted-array.ipynb)\n",
    "35. [Search Insert Position](Easy/Binary-Search/35.search-insert-position.ipynb)\n",
    "36. [Valid Sudoku](Medium/Hash-Table/36.valid-sudoku.ipynb)\n",
    "37.\tSudoku Solver (Hard)\n",
    "38. [Count and Say](Easy/String/38.count-and-say.ipynb)\n",
    "39. [Combination Sum](Medium/Backtracking/39.combination-sum.ipynb)\n",
    "40. [Combination Sum II](Medium/Backtracking/40.combination-sum-II.ipynb)\n",
    "41. First Missing Positive (Hard)\n",
    "42. Trapping Rain Water (Hard)\n",
    "43. [Multiply Strings](Medium/Maths/43.multiply-strings.ipynb)\n",
    "44. Wildcard Matching (Hard)\n",
    "45. Jump Game II (Hard)\n",
    "46. [Permutations](Medium/Backtracking/46.permutation.ipynb)"
   ]
  }
 ],
 "metadata": {
  "kernelspec": {
   "display_name": "Python 3",
   "language": "python",
   "name": "python3"
  },
  "language_info": {
   "codemirror_mode": {
    "name": "ipython",
    "version": 3
   },
   "file_extension": ".py",
   "mimetype": "text/x-python",
   "name": "python",
   "nbconvert_exporter": "python",
   "pygments_lexer": "ipython3",
   "version": "3.7.3"
  }
 },
 "nbformat": 4,
 "nbformat_minor": 2
}
