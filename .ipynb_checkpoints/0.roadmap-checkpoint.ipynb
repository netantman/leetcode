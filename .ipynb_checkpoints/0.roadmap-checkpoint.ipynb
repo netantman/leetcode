{
 "cells": [
  {
   "cell_type": "markdown",
   "metadata": {},
   "source": [
    "1. [Two Sum](Easy/Array/1.two-sum.ipynb)\n",
    "2. [Add Two Numbers](Medium/Linked-List/2.add-two-numbers.ipynb)\n",
    "3. [Longest Substring Without Repeating Characters](Medium/Hash-Table/3.longest-substring-without-repeating-characters.ipynb)\n",
    "4. Medium of Two Sorted Arrays (Hard)\n",
    "5. [Longest Palindromic Substring](Medium/String/5.longest-palindromic-substring.ipynb)\n",
    "6. [ZigZag Conversion](Medium/String/6.zigzag-conversion.ipynb)\n",
    "7. [Reverse Integer](Easy/Maths/7.reverse-integer.ipynb)\n",
    "8. [String to Integer (atoi)](Medium/String/8.string-to-integer-(atoi).ipynb)\n",
    "9. [Palindrome Number](Easy/Maths/9.palindrome-number.ipynb)\n",
    "10. Regular Expression Matching (Hard)\n",
    "11. [Container with Most Water](Medium/Array/11.container-with-most-water.ipynb)\n",
    "12. [Integer to Roman](Medium/String/12.integer-to-roman.ipynb)\n",
    "13. [Roman to Integer](Easy/String/13.roman-to-integer.ipynb)\n",
    "14. [Longest Common Prefix](Easy/String/14.longest-common-prefix.ipynb)\n",
    "15. [3Sum](Medium/Two-Pointers/15.3sum.ipynb)\n",
    "16. [3Sum Closest](Medium/Two-Pointers/16.3sum-closest.ipynb)\n",
    "17. [Letter Combinations of a Phone Number](Medium/Backtracking/17.letter-combinations-of-a-phone-number.ipynb)\n",
    "18. [4Sum](Medium/Two-Pointers/19.4sum.ipynb)\n",
    "19. [Remove Nth Node From End of List](Medium/Linked-List/19.remove-nth-node-from-end-of-list.ipynb)\n",
    "20. [Valid Parentheses](Easy/Stack/20.valid-parentheses.ipynb)"
   ]
  }
 ],
 "metadata": {
  "kernelspec": {
   "display_name": "Python 3",
   "language": "python",
   "name": "python3"
  },
  "language_info": {
   "codemirror_mode": {
    "name": "ipython",
    "version": 3
   },
   "file_extension": ".py",
   "mimetype": "text/x-python",
   "name": "python",
   "nbconvert_exporter": "python",
   "pygments_lexer": "ipython3",
   "version": "3.7.3"
  }
 },
 "nbformat": 4,
 "nbformat_minor": 2
}
