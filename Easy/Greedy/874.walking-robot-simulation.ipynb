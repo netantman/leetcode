{
 "cells": [
  {
   "cell_type": "markdown",
   "metadata": {},
   "source": [
    "## Attempt 1 - Accepted"
   ]
  },
  {
   "cell_type": "code",
   "execution_count": null,
   "metadata": {},
   "outputs": [],
   "source": [
    "class Solution:\n",
    "    def robotSim(self, commands: List[int], obstacles: List[List[int]]) -> int:\n",
    "        directions=[[0,1], [1,0], [0,-1], [-1,0]]\n",
    "        curr=[0,0]\n",
    "        ori=0\n",
    "        obstacles={tuple(obs) for obs in obstacles}\n",
    "        maxx=0\n",
    "        for cmd in commands:\n",
    "            if cmd==-2:\n",
    "                ori=(ori-1)%4\n",
    "            elif cmd==-1:\n",
    "                ori=(ori+1)%4\n",
    "            else:\n",
    "                for _ in range(cmd):\n",
    "                    nexxt=[curr[0]+directions[ori][0], curr[1]+directions[ori][1]]\n",
    "                    if tuple(nexxt) not in obstacles:\n",
    "                        curr=nexxt\n",
    "                        maxx=max(maxx, curr[0]**2+curr[1]**2)\n",
    "        return maxx"
   ]
  },
  {
   "cell_type": "markdown",
   "metadata": {},
   "source": [
    "## Lessons and Thoughts\n",
    "- Not sure why it is labeled Greedy."
   ]
  }
 ],
 "metadata": {
  "kernelspec": {
   "display_name": "Python 3",
   "language": "python",
   "name": "python3"
  },
  "language_info": {
   "codemirror_mode": {
    "name": "ipython",
    "version": 3
   },
   "file_extension": ".py",
   "mimetype": "text/x-python",
   "name": "python",
   "nbconvert_exporter": "python",
   "pygments_lexer": "ipython3",
   "version": "3.7.3"
  }
 },
 "nbformat": 4,
 "nbformat_minor": 2
}
