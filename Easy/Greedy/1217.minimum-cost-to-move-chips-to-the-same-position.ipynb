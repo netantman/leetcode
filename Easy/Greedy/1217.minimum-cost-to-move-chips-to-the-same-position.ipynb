{
 "cells": [
  {
   "cell_type": "markdown",
   "metadata": {},
   "source": [
    "## Attempt 1 - Accepted"
   ]
  },
  {
   "cell_type": "code",
   "execution_count": null,
   "metadata": {},
   "outputs": [],
   "source": [
    "class Solution:\n",
    "    def minCostToMoveChips(self, position: List[int]) -> int:\n",
    "        odd, even=0,0\n",
    "        for p in position:\n",
    "            if p%2>0:\n",
    "                odd+=1\n",
    "            else:\n",
    "                even+=1\n",
    "        return min(odd, even)"
   ]
  },
  {
   "cell_type": "markdown",
   "metadata": {},
   "source": [
    "## Lessons and Thoughts\n",
    "- The idea is just to consider odd and even positions - there is no cost moving any chips from odd to odd, or even to even."
   ]
  }
 ],
 "metadata": {
  "kernelspec": {
   "display_name": "Python 3",
   "language": "python",
   "name": "python3"
  },
  "language_info": {
   "codemirror_mode": {
    "name": "ipython",
    "version": 3
   },
   "file_extension": ".py",
   "mimetype": "text/x-python",
   "name": "python",
   "nbconvert_exporter": "python",
   "pygments_lexer": "ipython3",
   "version": "3.7.3"
  }
 },
 "nbformat": 4,
 "nbformat_minor": 2
}
