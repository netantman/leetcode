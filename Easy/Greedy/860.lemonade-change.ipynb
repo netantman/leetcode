{
 "cells": [
  {
   "cell_type": "markdown",
   "metadata": {},
   "source": [
    "## Attempt 1 - Accepted"
   ]
  },
  {
   "cell_type": "code",
   "execution_count": null,
   "metadata": {},
   "outputs": [],
   "source": [
    "class Solution:\n",
    "    def lemonadeChange(self, bills: List[int]) -> bool:\n",
    "        changes={5:0, 10:0, 20:0}\n",
    "        for b in bills:\n",
    "            if b==5:\n",
    "                changes[5]+=1\n",
    "            elif b==10:\n",
    "                if changes[5]>0:\n",
    "                    changes[5]-=1\n",
    "                    changes[10]+=1\n",
    "                else:\n",
    "                    return False\n",
    "            else:\n",
    "                if changes[10]>0 and changes[5]>0:\n",
    "                    changes[10]-=1\n",
    "                    changes[5]-=1\n",
    "                    changes[20]+=1\n",
    "                elif changes[5]>=3:\n",
    "                    changes[5]-=3\n",
    "                    changes[20]+=1\n",
    "                else:\n",
    "                    return False\n",
    "        return True"
   ]
  },
  {
   "cell_type": "markdown",
   "metadata": {},
   "source": [
    "## Lessons and Thoughts\n",
    "- Try to give out 10-dollar bills as much as possible."
   ]
  }
 ],
 "metadata": {
  "kernelspec": {
   "display_name": "Python 3",
   "language": "python",
   "name": "python3"
  },
  "language_info": {
   "codemirror_mode": {
    "name": "ipython",
    "version": 3
   },
   "file_extension": ".py",
   "mimetype": "text/x-python",
   "name": "python",
   "nbconvert_exporter": "python",
   "pygments_lexer": "ipython3",
   "version": "3.7.3"
  }
 },
 "nbformat": 4,
 "nbformat_minor": 2
}
