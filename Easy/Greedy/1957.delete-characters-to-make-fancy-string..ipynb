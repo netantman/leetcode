{
 "cells": [
  {
   "cell_type": "markdown",
   "metadata": {},
   "source": [
    "## Attempt 1 - Accepted"
   ]
  },
  {
   "cell_type": "code",
   "execution_count": null,
   "metadata": {},
   "outputs": [],
   "source": [
    "class Solution:\n",
    "    def makeFancyString(self, s: str) -> str:\n",
    "        L = len(s)\n",
    "        if L <= 2:\n",
    "            return s\n",
    "        \n",
    "        res = \"\"\n",
    "        st = [s[0], s[1]]\n",
    "        for idx in range(2, L):\n",
    "            st.append(s[idx])\n",
    "            if len(set(st)) == 1:\n",
    "                st.pop()\n",
    "            else:\n",
    "                res += st.pop(0)\n",
    "        res += st.pop(0)\n",
    "        res += st.pop(0)\n",
    "        return res"
   ]
  },
  {
   "cell_type": "markdown",
   "metadata": {},
   "source": [
    "## Lessons and Thoughts\n",
    "- Just delete those encountered in future that causes the string to be non-fancy."
   ]
  }
 ],
 "metadata": {
  "kernelspec": {
   "display_name": "Python 3",
   "language": "python",
   "name": "python3"
  },
  "language_info": {
   "codemirror_mode": {
    "name": "ipython",
    "version": 3
   },
   "file_extension": ".py",
   "mimetype": "text/x-python",
   "name": "python",
   "nbconvert_exporter": "python",
   "pygments_lexer": "ipython3",
   "version": "3.7.3"
  }
 },
 "nbformat": 4,
 "nbformat_minor": 2
}
