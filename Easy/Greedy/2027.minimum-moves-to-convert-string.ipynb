{
 "cells": [
  {
   "cell_type": "markdown",
   "metadata": {},
   "source": [
    "## Attempt 1 - Accepted"
   ]
  },
  {
   "cell_type": "code",
   "execution_count": null,
   "metadata": {},
   "outputs": [],
   "source": [
    "class Solution:\n",
    "    def minimumMoves(self, s: str) -> int:\n",
    "        check = [c for c in s]\n",
    "        L = len(check)\n",
    "        res = 0\n",
    "        for idx in range(L):\n",
    "            if check[idx] == 'X':\n",
    "                res += 1\n",
    "                check[idx] = 'O'\n",
    "                if idx + 1 < L:\n",
    "                    check[idx + 1] = 'O'\n",
    "                if idx + 2 < L:\n",
    "                    check[idx + 2] = 'O'\n",
    "        return res"
   ]
  },
  {
   "cell_type": "markdown",
   "metadata": {},
   "source": [
    "## Lessons and Thoughts\n",
    "- At each step, just greedily try to convert the leftmost 'X'."
   ]
  }
 ],
 "metadata": {
  "kernelspec": {
   "display_name": "Python 3",
   "language": "python",
   "name": "python3"
  },
  "language_info": {
   "codemirror_mode": {
    "name": "ipython",
    "version": 3
   },
   "file_extension": ".py",
   "mimetype": "text/x-python",
   "name": "python",
   "nbconvert_exporter": "python",
   "pygments_lexer": "ipython3",
   "version": "3.7.3"
  }
 },
 "nbformat": 4,
 "nbformat_minor": 2
}
