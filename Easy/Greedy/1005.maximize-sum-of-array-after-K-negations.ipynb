{
 "cells": [
  {
   "cell_type": "markdown",
   "metadata": {},
   "source": [
    "## Attempt 1 - Accepted"
   ]
  },
  {
   "cell_type": "code",
   "execution_count": null,
   "metadata": {},
   "outputs": [],
   "source": [
    "class Solution:\n",
    "    def largestSumAfterKNegations(self, A: List[int], K: int) -> int:\n",
    "        A=sorted(A)\n",
    "        AA=[a for a in A]\n",
    "        last=None\n",
    "        for idx, a in enumerate(A):\n",
    "            if a<0:\n",
    "                last=abs(a)\n",
    "                if K>0:\n",
    "                    AA[idx]=-a\n",
    "                    K-=1\n",
    "                else:\n",
    "                    return sum(AA)\n",
    "            elif a==0:\n",
    "                return sum(AA)\n",
    "            else:\n",
    "                if K%2==0:\n",
    "                    return sum(AA)\n",
    "                else:\n",
    "                    if last:\n",
    "                        return sum(AA)-2*min(a, last)\n",
    "                    else:\n",
    "                        return sum(AA)-2*a"
   ]
  },
  {
   "cell_type": "markdown",
   "metadata": {},
   "source": [
    "## Lessons and Thoughts\n",
    "- Idea is to first flip all negatives. After that if there is a zero, keep flipping zeros; otherwise, keep flipping the smallest abs value.\n",
    "- Edge cases include: there is a zero, no negatives, there are negatives and the smallest abs value is a negative."
   ]
  }
 ],
 "metadata": {
  "kernelspec": {
   "display_name": "Python 3",
   "language": "python",
   "name": "python3"
  },
  "language_info": {
   "codemirror_mode": {
    "name": "ipython",
    "version": 3
   },
   "file_extension": ".py",
   "mimetype": "text/x-python",
   "name": "python",
   "nbconvert_exporter": "python",
   "pygments_lexer": "ipython3",
   "version": "3.7.3"
  }
 },
 "nbformat": 4,
 "nbformat_minor": 2
}
