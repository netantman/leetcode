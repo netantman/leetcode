{
 "cells": [
  {
   "cell_type": "markdown",
   "metadata": {},
   "source": [
    "## Attempt 1 - Accepted"
   ]
  },
  {
   "cell_type": "code",
   "execution_count": null,
   "metadata": {},
   "outputs": [],
   "source": [
    "class Solution:\n",
    "    def maxNumberOfApples(self, weight: List[int]) -> int:\n",
    "        UPPER = 5000\n",
    "        weight = sorted(weight)\n",
    "        cumsum = [0]\n",
    "        for w in weight:\n",
    "            cumsum.append(cumsum[-1] + w)\n",
    "        \n",
    "        if cumsum[-1] <= UPPER:\n",
    "            return len(weight)\n",
    "        \n",
    "        L = len(weight)\n",
    "        l, r = 0, L\n",
    "        while r - l > 1:\n",
    "            m = (l + r) // 2\n",
    "            if cumsum[m] <= UPPER:\n",
    "                l = m\n",
    "            else:\n",
    "                r = m\n",
    "        return l"
   ]
  },
  {
   "cell_type": "markdown",
   "metadata": {},
   "source": [
    "## Lessons and Thoughts\n",
    "- Just put smaller apples first."
   ]
  }
 ],
 "metadata": {
  "kernelspec": {
   "display_name": "Python 3",
   "language": "python",
   "name": "python3"
  },
  "language_info": {
   "codemirror_mode": {
    "name": "ipython",
    "version": 3
   },
   "file_extension": ".py",
   "mimetype": "text/x-python",
   "name": "python",
   "nbconvert_exporter": "python",
   "pygments_lexer": "ipython3",
   "version": "3.7.3"
  }
 },
 "nbformat": 4,
 "nbformat_minor": 2
}
