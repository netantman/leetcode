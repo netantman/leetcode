{
 "cells": [
  {
   "cell_type": "markdown",
   "metadata": {},
   "source": [
    "## Attempt 1 - Accepted"
   ]
  },
  {
   "cell_type": "code",
   "execution_count": null,
   "metadata": {},
   "outputs": [],
   "source": [
    "class Solution:\n",
    "    def diStringMatch(self, S: str) -> List[int]:\n",
    "        N=len(S)\n",
    "        if L==1:\n",
    "            if S==\"D\":\n",
    "                return [1,0]\n",
    "            else:\n",
    "                return [0,1]\n",
    "        \n",
    "        cans=list(range(N+1))\n",
    "        res=[]\n",
    "        if S[:2]==\"DD\":\n",
    "            res.append(cans.pop(-1))\n",
    "            res.append(cans.pop(-1))\n",
    "        elif S[:2]==\"DI\":\n",
    "            res.append(cans.pop(-1))\n",
    "            res.append(cans.pop(0))\n",
    "        elif S[:2]==\"ID\":\n",
    "            res.append(cans.pop(0))\n",
    "            res.append(cans.pop(-1))\n",
    "        else:\n",
    "            res.append(cans.pop(0))\n",
    "            res.append(cans.pop(0))\n",
    "        \n",
    "        for idx in range(2,N):\n",
    "            if S[idx]==\"D\":\n",
    "                res.append(cans.pop(-1))\n",
    "            else:\n",
    "                res.append(cans.pop(0))\n",
    "        \n",
    "        res.append(cans.pop())\n",
    "        return res"
   ]
  },
  {
   "cell_type": "markdown",
   "metadata": {},
   "source": [
    "## Lessons and Thoughts\n",
    "- Just look and only look one step ahead."
   ]
  }
 ],
 "metadata": {
  "kernelspec": {
   "display_name": "Python 3",
   "language": "python",
   "name": "python3"
  },
  "language_info": {
   "codemirror_mode": {
    "name": "ipython",
    "version": 3
   },
   "file_extension": ".py",
   "mimetype": "text/x-python",
   "name": "python",
   "nbconvert_exporter": "python",
   "pygments_lexer": "ipython3",
   "version": "3.7.3"
  }
 },
 "nbformat": 4,
 "nbformat_minor": 2
}
