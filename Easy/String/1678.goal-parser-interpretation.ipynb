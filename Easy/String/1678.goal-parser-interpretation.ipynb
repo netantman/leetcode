{
 "cells": [
  {
   "cell_type": "markdown",
   "metadata": {},
   "source": [
    "## Attempt 1 - Accepted"
   ]
  },
  {
   "cell_type": "code",
   "execution_count": null,
   "metadata": {},
   "outputs": [],
   "source": [
    "class Solution:\n",
    "    def interpret(self, command: str) -> str:\n",
    "        res = \"\"\n",
    "        idx = 0\n",
    "        L = len(command)\n",
    "        while idx < L:\n",
    "            if command[idx] == \"G\":\n",
    "                res += \"G\"\n",
    "                idx += 1\n",
    "                continue\n",
    "            if command[idx] == \"(\":\n",
    "                if command[idx + 1] == \"a\":\n",
    "                    res += \"al\"\n",
    "                    idx += 4\n",
    "                else: # command[idx + 1] == \")\"\n",
    "                    res += \"o\"\n",
    "                    idx += 2\n",
    "        return res"
   ]
  },
  {
   "cell_type": "markdown",
   "metadata": {},
   "source": [
    "## Lessons and Thoughts\n",
    "- You need to get into the habit of using `continue` if you stop using `elif` or `else`."
   ]
  }
 ],
 "metadata": {
  "kernelspec": {
   "display_name": "Python 3",
   "language": "python",
   "name": "python3"
  },
  "language_info": {
   "codemirror_mode": {
    "name": "ipython",
    "version": 3
   },
   "file_extension": ".py",
   "mimetype": "text/x-python",
   "name": "python",
   "nbconvert_exporter": "python",
   "pygments_lexer": "ipython3",
   "version": "3.7.3"
  }
 },
 "nbformat": 4,
 "nbformat_minor": 2
}
