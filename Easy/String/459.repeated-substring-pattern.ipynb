{
 "cells": [
  {
   "cell_type": "markdown",
   "metadata": {},
   "source": [
    "## Attempt 1 - Wrong Answer"
   ]
  },
  {
   "cell_type": "code",
   "execution_count": null,
   "metadata": {},
   "outputs": [],
   "source": [
    "class Solution:\n",
    "    def repeatedSubstringPattern(self, s: str) -> bool:\n",
    "        L=len(s)\n",
    "        if L<=0:\n",
    "            return False\n",
    "        if L==1:\n",
    "            return True ## --> if L==1, by definition it should be false\n",
    "        \n",
    "        for idx in range(1,L-1): ## --> idx should be less than L, not L-1\n",
    "            if L%idx!=0:\n",
    "                continue\n",
    "            multiples=L//idx\n",
    "            sub=s[:idx]\n",
    "            if s==sub*multiples:\n",
    "                return True\n",
    "        return False"
   ]
  },
  {
   "cell_type": "markdown",
   "metadata": {},
   "source": [
    "## Attempt 2 - Accepted"
   ]
  },
  {
   "cell_type": "code",
   "execution_count": null,
   "metadata": {},
   "outputs": [],
   "source": [
    "class Solution:\n",
    "    def repeatedSubstringPattern(self, s: str) -> bool:\n",
    "        L=len(s)\n",
    "        if L<=1:\n",
    "            return False\n",
    "        \n",
    "        for idx in range(1,L):\n",
    "            if L%idx!=0:\n",
    "                continue\n",
    "            multiples=L//idx\n",
    "            sub=s[:idx]\n",
    "            if s==sub*multiples:\n",
    "                return True\n",
    "        return False"
   ]
  },
  {
   "cell_type": "markdown",
   "metadata": {},
   "source": [
    "## Lessons and Thought\n",
    "- The trick is to recognize if such substring exists, it should be at the head of `s`."
   ]
  }
 ],
 "metadata": {
  "kernelspec": {
   "display_name": "Python 3",
   "language": "python",
   "name": "python3"
  },
  "language_info": {
   "codemirror_mode": {
    "name": "ipython",
    "version": 3
   },
   "file_extension": ".py",
   "mimetype": "text/x-python",
   "name": "python",
   "nbconvert_exporter": "python",
   "pygments_lexer": "ipython3",
   "version": "3.7.3"
  }
 },
 "nbformat": 4,
 "nbformat_minor": 2
}
