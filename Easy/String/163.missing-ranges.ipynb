{
 "cells": [
  {
   "cell_type": "markdown",
   "metadata": {},
   "source": [
    "## Attempt 1 - Accepted"
   ]
  },
  {
   "cell_type": "code",
   "execution_count": null,
   "metadata": {},
   "outputs": [],
   "source": [
    "class Solution:\n",
    "    def findMissingRanges(self, nums: List[int], lower: int, upper: int) -> List[str]:\n",
    "        if len(nums) < 1:\n",
    "            if lower == upper:\n",
    "                return [str(lower)]\n",
    "            return [f\"{lower}->{upper}\"]\n",
    "        \n",
    "        res = []\n",
    "        \n",
    "        if lower < nums[0] - 1:\n",
    "            res.append(f\"{lower}->{nums[0] - 1}\")\n",
    "        elif lower == nums[0] - 1:\n",
    "            res.append(str(lower))\n",
    "        \n",
    "        L = len(nums)\n",
    "        for idx in range(L - 1):\n",
    "            if nums[idx] + 1 < nums[idx + 1] - 1:\n",
    "                res.append(f\"{nums[idx] + 1}->{nums[idx + 1] - 1}\")\n",
    "            elif nums[idx] + 1 == nums[idx + 1] - 1:\n",
    "                res.append(str(nums[idx] + 1))\n",
    "        \n",
    "        if upper > nums[-1] + 1:\n",
    "            res.append(f\"{nums[-1] + 1}->{upper}\")\n",
    "        elif upper == nums[-1] + 1:\n",
    "            res.append(str(nums[-1] + 1))\n",
    "        \n",
    "        return res"
   ]
  },
  {
   "cell_type": "markdown",
   "metadata": {},
   "source": [
    "## Lessons and Thoughts\n",
    "- Brute force. The edge case is when `nums` is empty."
   ]
  }
 ],
 "metadata": {
  "kernelspec": {
   "display_name": "Python 3",
   "language": "python",
   "name": "python3"
  }
 },
 "nbformat": 4,
 "nbformat_minor": 2
}
