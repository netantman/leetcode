{
 "cells": [
  {
   "cell_type": "markdown",
   "metadata": {},
   "source": [
    "## Attempt 1 - Accepted"
   ]
  },
  {
   "cell_type": "code",
   "execution_count": null,
   "metadata": {},
   "outputs": [],
   "source": [
    "class Solution:\n",
    "    def maxScore(self, s: str) -> int:\n",
    "        ones = 0\n",
    "        for c in s:\n",
    "            ones += (1 if c == \"1\" else 0)\n",
    "        zeros = 0 if s[0] == \"1\" else 1\n",
    "        ones = ones-1 if s[0] == \"1\" else ones\n",
    "        res = zeros + ones\n",
    "        L = len(s)\n",
    "        for idx in range(1, L-1):\n",
    "            if s[idx]==\"0\":\n",
    "                zeros += 1\n",
    "                res = max(res, zeros + ones)\n",
    "            else:\n",
    "                ones -= 1\n",
    "        return res"
   ]
  },
  {
   "cell_type": "markdown",
   "metadata": {},
   "source": [
    "## Lessons and Thoughts\n",
    "- Straightforward - just do not count the number of '0' and '1' at each split, which will be inefficient."
   ]
  }
 ],
 "metadata": {
  "kernelspec": {
   "display_name": "Python 3",
   "language": "python",
   "name": "python3"
  },
  "language_info": {
   "codemirror_mode": {
    "name": "ipython",
    "version": 3
   },
   "file_extension": ".py",
   "mimetype": "text/x-python",
   "name": "python",
   "nbconvert_exporter": "python",
   "pygments_lexer": "ipython3",
   "version": "3.7.3"
  }
 },
 "nbformat": 4,
 "nbformat_minor": 2
}
