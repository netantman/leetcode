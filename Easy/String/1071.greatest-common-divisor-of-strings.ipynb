{
 "cells": [
  {
   "cell_type": "markdown",
   "metadata": {},
   "source": [
    "## Attempt 1 - Accepted"
   ]
  },
  {
   "cell_type": "code",
   "execution_count": null,
   "metadata": {},
   "outputs": [],
   "source": [
    "class Solution:\n",
    "    def gcdOfStrings(self, str1: str, str2: str) -> str:\n",
    "        def divides(s,t):\n",
    "            ls,lt=len(s),len(t)\n",
    "            if lt>ls or ls%lt>0:\n",
    "                return False\n",
    "            return s==t*(ls//lt)\n",
    "        if len(str1)<len(str2):\n",
    "            str1,str2=str2,str1\n",
    "        l1,l2=len(str1),len(str2)\n",
    "        idx=l2\n",
    "        while idx>=1:\n",
    "            sub=str2[:idx]\n",
    "            if divides(str1, sub) and divides(str2, sub):\n",
    "                return sub\n",
    "            idx-=1\n",
    "        return \"\""
   ]
  },
  {
   "cell_type": "markdown",
   "metadata": {},
   "source": [
    "## Lessons and Thought\n",
    "- Almost like brute force"
   ]
  }
 ],
 "metadata": {
  "kernelspec": {
   "display_name": "Python 3",
   "language": "python",
   "name": "python3"
  },
  "language_info": {
   "codemirror_mode": {
    "name": "ipython",
    "version": 3
   },
   "file_extension": ".py",
   "mimetype": "text/x-python",
   "name": "python",
   "nbconvert_exporter": "python",
   "pygments_lexer": "ipython3",
   "version": "3.7.3"
  }
 },
 "nbformat": 4,
 "nbformat_minor": 2
}
