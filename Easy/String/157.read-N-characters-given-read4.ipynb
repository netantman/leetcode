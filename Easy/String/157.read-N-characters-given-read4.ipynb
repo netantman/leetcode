{
 "cells": [
  {
   "cell_type": "markdown",
   "metadata": {},
   "source": [
    "## Attempt 1 - Accepted"
   ]
  },
  {
   "cell_type": "code",
   "execution_count": null,
   "metadata": {},
   "outputs": [],
   "source": [
    "\"\"\"\n",
    "The read4 API is already defined for you.\n",
    "\n",
    "    @param buf4, a list of characters\n",
    "    @return an integer\n",
    "    def read4(buf4):\n",
    "\n",
    "# Below is an example of how the read4 API can be called.\n",
    "file = File(\"abcdefghijk\") # File is \"abcdefghijk\", initially file pointer (fp) points to 'a'\n",
    "buf4 = [' '] * 4 # Create buffer with enough space to store characters\n",
    "read4(buf4) # read4 returns 4. Now buf = ['a','b','c','d'], fp points to 'e'\n",
    "read4(buf4) # read4 returns 4. Now buf = ['e','f','g','h'], fp points to 'i'\n",
    "read4(buf4) # read4 returns 3. Now buf = ['i','j','k',...], fp points to end of file\n",
    "\"\"\"\n",
    "\n",
    "class Solution:\n",
    "    def read(self, buf, n):\n",
    "        \"\"\"\n",
    "        :type buf: Destination buffer (List[str])\n",
    "        :type n: Number of characters to read (int)\n",
    "        :rtype: The number of actual characters read (int)\n",
    "        \"\"\"\n",
    "        cnt = 0\n",
    "        buf4 = [\" \"] * 4\n",
    "        while cnt < n:\n",
    "            incre = read4(buf4)\n",
    "            if incre < 1:\n",
    "                break\n",
    "            residual = min(n - cnt, incre)\n",
    "            buf[cnt:] = buf4[:residual]\n",
    "            cnt += residual\n",
    "            \n",
    "        return cnt"
   ]
  },
  {
   "cell_type": "markdown",
   "metadata": {},
   "source": [
    "## Lessons and Thoughts\n",
    "- The interface of `buf` and `buf4` is a bit hard to understand."
   ]
  }
 ],
 "metadata": {
  "kernelspec": {
   "display_name": "Python 3",
   "language": "python",
   "name": "python3"
  },
  "language_info": {
   "codemirror_mode": {
    "name": "ipython",
    "version": 3
   },
   "file_extension": ".py",
   "mimetype": "text/x-python",
   "name": "python",
   "nbconvert_exporter": "python",
   "pygments_lexer": "ipython3",
   "version": "3.7.3"
  }
 },
 "nbformat": 4,
 "nbformat_minor": 2
}
