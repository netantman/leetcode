{
 "cells": [
  {
   "cell_type": "markdown",
   "metadata": {},
   "source": [
    "## Attempt 1 - Accepted"
   ]
  },
  {
   "cell_type": "code",
   "execution_count": null,
   "metadata": {},
   "outputs": [],
   "source": [
    "class Solution:\n",
    "    def indexPairs(self, text: str, words: List[str]) -> List[List[int]]:\n",
    "        res = []\n",
    "        L = len(text)\n",
    "        for w in words:\n",
    "            Lw = len(w)\n",
    "            idx = 0\n",
    "            while idx + Lw <= L:\n",
    "                if text[idx : idx + Lw] == w:\n",
    "                    res.append([idx, idx + Lw - 1])\n",
    "                idx += 1\n",
    "        return sorted(res, key=lambda x: (x[0], x[1]))"
   ]
  },
  {
   "cell_type": "markdown",
   "metadata": {},
   "source": [
    "## Lessons and Thoughts\n",
    "- For optimization probably you need trie, but brute force works."
   ]
  }
 ],
 "metadata": {
  "kernelspec": {
   "display_name": "Python 3",
   "language": "python",
   "name": "python3"
  },
  "language_info": {
   "codemirror_mode": {
    "name": "ipython",
    "version": 3
   },
   "file_extension": ".py",
   "mimetype": "text/x-python",
   "name": "python",
   "nbconvert_exporter": "python",
   "pygments_lexer": "ipython3",
   "version": "3.7.3"
  }
 },
 "nbformat": 4,
 "nbformat_minor": 2
}
