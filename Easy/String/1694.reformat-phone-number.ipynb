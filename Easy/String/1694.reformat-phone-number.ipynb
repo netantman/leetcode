{
 "cells": [
  {
   "cell_type": "markdown",
   "metadata": {},
   "source": [
    "## Attempt 1 - Accepted"
   ]
  },
  {
   "cell_type": "code",
   "execution_count": null,
   "metadata": {},
   "outputs": [],
   "source": [
    "class Solution:\n",
    "    def reformatNumber(self, number: str) -> str:\n",
    "        numbers = [c for c in number if c.isnumeric()]\n",
    "        L = len(numbers)\n",
    "        res = \"\"\n",
    "        if L % 3 == 2:\n",
    "            while len(numbers) > 2:\n",
    "                res += \"\".join(numbers[:3])\n",
    "                res += \"-\"\n",
    "                for _ in range(3):\n",
    "                    numbers.pop(0)\n",
    "            res += \"\".join(numbers)\n",
    "        if L % 3 == 1:\n",
    "            while len(numbers) > 4:\n",
    "                res += \"\".join(numbers[:3])\n",
    "                res += \"-\"\n",
    "                for _ in range(3):\n",
    "                    numbers.pop(0)\n",
    "            res += \"\".join(numbers[:2]) + \"-\" + \"\".join(numbers[2:])\n",
    "        if L % 3 == 0:\n",
    "            while len(numbers) > 0:\n",
    "                res += \"\".join(numbers[:3])\n",
    "                res += \"-\"\n",
    "                for _ in range(3):\n",
    "                    numbers.pop(0)\n",
    "            res = res[:-1]\n",
    "        \n",
    "        return res"
   ]
  },
  {
   "cell_type": "markdown",
   "metadata": {},
   "source": [
    "## Lessons and Thoughts\n",
    "- Brute force. Relatively straightforward in `python`."
   ]
  }
 ],
 "metadata": {
  "kernelspec": {
   "display_name": "Python 3",
   "language": "python",
   "name": "python3"
  },
  "language_info": {
   "codemirror_mode": {
    "name": "ipython",
    "version": 3
   },
   "file_extension": ".py",
   "mimetype": "text/x-python",
   "name": "python",
   "nbconvert_exporter": "python",
   "pygments_lexer": "ipython3",
   "version": "3.7.3"
  }
 },
 "nbformat": 4,
 "nbformat_minor": 2
}
