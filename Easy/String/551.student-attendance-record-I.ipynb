{
 "cells": [
  {
   "cell_type": "markdown",
   "metadata": {},
   "source": [
    "## Attempt 1 - Wrong Answer"
   ]
  },
  {
   "cell_type": "markdown",
   "metadata": {},
   "source": [
    "This wording is ambiguous: \"A student could be rewarded if his attendance record doesn't contain more than one 'A' (absent) or more than two continuous 'L' (late).\""
   ]
  },
  {
   "cell_type": "code",
   "execution_count": null,
   "metadata": {},
   "outputs": [],
   "source": [
    "class Solution:\n",
    "    def checkRecord(self, s: str) -> bool:\n",
    "        cntA=0\n",
    "        lenL=0  ## --> you need to record max L!\n",
    "        \n",
    "        L=len(s)\n",
    "        for idx in range(L):\n",
    "            c=s[idx]\n",
    "            if c==\"A\":\n",
    "                cntA+=1\n",
    "            elif c==\"L\":\n",
    "                if idx==0 or s[idx-1]!=\"L\":\n",
    "                    lenL=1\n",
    "                else:\n",
    "                    lenL+=1\n",
    "        \n",
    "        return cntA<=1 or lenL<=2"
   ]
  },
  {
   "cell_type": "markdown",
   "metadata": {},
   "source": [
    "## Attempt 2 - Accepted"
   ]
  },
  {
   "cell_type": "code",
   "execution_count": null,
   "metadata": {},
   "outputs": [],
   "source": [
    "class Solution:\n",
    "    def checkRecord(self, s: str) -> bool:\n",
    "        cntA=0\n",
    "        lenL=0\n",
    "        \n",
    "        L=len(s)\n",
    "        for idx in range(L):\n",
    "            c=s[idx]\n",
    "            if c==\"A\":\n",
    "                cntA+=1\n",
    "                if cntA>1:\n",
    "                    return False\n",
    "            elif c==\"L\":\n",
    "                if idx==0 or s[idx-1]!=\"L\":\n",
    "                    lenL=1\n",
    "                else:\n",
    "                    lenL+=1\n",
    "                if lenL>2:\n",
    "                    return False\n",
    "        \n",
    "        \n",
    "        return True"
   ]
  },
  {
   "cell_type": "markdown",
   "metadata": {},
   "source": [
    "## Lessons and Thoughts\n",
    "- Tripped by an easy problem..."
   ]
  }
 ],
 "metadata": {
  "kernelspec": {
   "display_name": "Python 3",
   "language": "python",
   "name": "python3"
  },
  "language_info": {
   "codemirror_mode": {
    "name": "ipython",
    "version": 3
   },
   "file_extension": ".py",
   "mimetype": "text/x-python",
   "name": "python",
   "nbconvert_exporter": "python",
   "pygments_lexer": "ipython3",
   "version": "3.7.3"
  }
 },
 "nbformat": 4,
 "nbformat_minor": 2
}
