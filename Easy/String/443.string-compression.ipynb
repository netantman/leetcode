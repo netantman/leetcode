{
 "cells": [
  {
   "cell_type": "markdown",
   "metadata": {},
   "source": [
    "## Attempt 1 - Accepted"
   ]
  },
  {
   "cell_type": "code",
   "execution_count": null,
   "metadata": {},
   "outputs": [],
   "source": [
    "class Solution:\n",
    "    def compress(self, chars: List[str]) -> int:\n",
    "        L=len(chars)\n",
    "        if L<=1:\n",
    "            return L\n",
    "        \n",
    "        keys=[]\n",
    "        occurances=[]\n",
    "        k,o=chars[0],1\n",
    "        for idx in range(1,L):\n",
    "            if chars[idx]==k:\n",
    "                o+=1\n",
    "            else:\n",
    "                keys.append(k)\n",
    "                occurances.append(o)\n",
    "                k=chars[idx]\n",
    "                o=1\n",
    "        keys.append(k)\n",
    "        occurances.append(o)\n",
    "        \n",
    "        res=0\n",
    "        for k,o in zip(keys, occurances):\n",
    "            if o==1:\n",
    "                chars[res]=k\n",
    "                res+=1\n",
    "            else:\n",
    "                chars[res]=k\n",
    "                res+=1\n",
    "                for c in str(o):\n",
    "                    chars[res]=c\n",
    "                    res+=1\n",
    "        return re"
   ]
  },
  {
   "cell_type": "markdown",
   "metadata": {},
   "source": [
    "## Lessons and Thoughts\n",
    "- Not a fancy algo - thought it was two-pointers but easier than that.\n",
    "- The case to handle is when we reach the end."
   ]
  }
 ],
 "metadata": {
  "kernelspec": {
   "display_name": "Python 3",
   "language": "python",
   "name": "python3"
  },
  "language_info": {
   "codemirror_mode": {
    "name": "ipython",
    "version": 3
   },
   "file_extension": ".py",
   "mimetype": "text/x-python",
   "name": "python",
   "nbconvert_exporter": "python",
   "pygments_lexer": "ipython3",
   "version": "3.7.3"
  }
 },
 "nbformat": 4,
 "nbformat_minor": 2
}
