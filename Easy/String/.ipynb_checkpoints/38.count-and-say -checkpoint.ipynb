{
 "cells": [
  {
   "cell_type": "markdown",
   "metadata": {},
   "source": [
    "## Attempt 1 - Wrong Answer"
   ]
  },
  {
   "cell_type": "code",
   "execution_count": null,
   "metadata": {},
   "outputs": [],
   "source": [
    "class Solution:\n",
    "    def countAndSay(self, n: int) -> str:\n",
    "        if n<=1:\n",
    "            return \"1\"\n",
    "        prev=self.countAndSay(n-1)\n",
    "        res=\"\"\n",
    "        elem=prev[0]\n",
    "        cnt=0\n",
    "        len_prev=len(prev)\n",
    "        for idx in range(len_prev):\n",
    "            if prev[idx]==elem:\n",
    "                cnt+=1\n",
    "            else:\n",
    "                res+=str(cnt)+str(elem)\n",
    "                cnt=1\n",
    "                elem=prev[idx]\n",
    "        return res ## -> did not consider the case for the last run of integers"
   ]
  },
  {
   "cell_type": "markdown",
   "metadata": {},
   "source": [
    "## Attempt 2 - Wrong Answer"
   ]
  },
  {
   "cell_type": "code",
   "execution_count": null,
   "metadata": {},
   "outputs": [],
   "source": [
    "class Solution:\n",
    "    def countAndSay(self, n: int) -> str:\n",
    "        if n<=1:\n",
    "            return \"1\"\n",
    "        prev=self.countAndSay(n-1)\n",
    "        res=\"\"\n",
    "        elem=prev[0]\n",
    "        cnt=0\n",
    "        len_prev=len(prev)\n",
    "        for idx in range(len_prev):\n",
    "            if prev[idx]==elem:\n",
    "                cnt+=1\n",
    "            else:\n",
    "                res+=str(cnt)+str(elem)\n",
    "                cnt=1\n",
    "                elem=prev[idx]\n",
    "            res+=str(cnt)+str(elem) ## -> mistakenly included in the for loop\n",
    "        return res"
   ]
  },
  {
   "cell_type": "markdown",
   "metadata": {},
   "source": [
    "## Lessons and Thoughts\n",
    "- When you ran the examples by head, you did not proceed until the end - so you could have found the mistake yourself."
   ]
  }
 ],
 "metadata": {
  "kernelspec": {
   "display_name": "Python 3",
   "language": "python",
   "name": "python3"
  },
  "language_info": {
   "codemirror_mode": {
    "name": "ipython",
    "version": 3
   },
   "file_extension": ".py",
   "mimetype": "text/x-python",
   "name": "python",
   "nbconvert_exporter": "python",
   "pygments_lexer": "ipython3",
   "version": "3.7.3"
  }
 },
 "nbformat": 4,
 "nbformat_minor": 2
}
