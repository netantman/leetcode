{
 "cells": [
  {
   "cell_type": "markdown",
   "metadata": {},
   "source": [
    "## Attempt 1"
   ]
  },
  {
   "cell_type": "code",
   "execution_count": null,
   "metadata": {},
   "outputs": [],
   "source": [
    "class Solution:\n",
    "    def longestCommonPrefix(self, strs: List[str]) -> str:\n",
    "        if len(strs)<1:\n",
    "            return \"\"\n",
    "        if len(strs)==1:\n",
    "            return strs[0]\n",
    "        l=0\n",
    "        len_strs=len(strs)\n",
    "        shortest=None\n",
    "        for idx in range(len_strs):\n",
    "            if (shortest=None) or (len(strs[idx])<l): ## ---> it seems that judging equality with one = is a common mistake\n",
    "                l=len(strs[idx])\n",
    "                shortest=idx\n",
    "        shortest=strs[shortest]\n",
    "        if shortest==\"\":\n",
    "            return \"\"\n",
    "        \n",
    "        flag=True\n",
    "        i=0\n",
    "        while i<l:\n",
    "            c=shortest[i]\n",
    "            for s in strs:\n",
    "                flag=flag and (s[i]==c)\n",
    "                if not flag:\n",
    "                    break\n",
    "            if not flag:\n",
    "                break\n",
    "            else:\n",
    "                i+=1\n",
    "        \n",
    "        return shortest[:i]"
   ]
  },
  {
   "cell_type": "markdown",
   "metadata": {},
   "source": [
    "## Attempt 2"
   ]
  },
  {
   "cell_type": "code",
   "execution_count": null,
   "metadata": {},
   "outputs": [],
   "source": [
    "class Solution:\n",
    "    def longestCommonPrefix(self, strs: List[str]) -> str:\n",
    "        if len(strs)<1:\n",
    "            return \"\"\n",
    "        if len(strs)==1:\n",
    "            return strs[0]\n",
    "        l=0\n",
    "        len_strs=len(strs)\n",
    "        shortest=None\n",
    "        for idx in range(len_strs):\n",
    "            if (shortest==None) or (len(strs[idx])<l):\n",
    "                l=len(strs[idx])\n",
    "                shortest=idx\n",
    "        shortest=strs[shortest]\n",
    "        if shortest==\"\":\n",
    "            return \"\"\n",
    "        \n",
    "        flag=True\n",
    "        i=0\n",
    "        while i<l:\n",
    "            c=shortest[i]\n",
    "            for s in strs:\n",
    "                flag=flag and (s[i]==c)\n",
    "                if not flag:\n",
    "                    break\n",
    "            if not flag:\n",
    "                break\n",
    "            else:\n",
    "                i+=1\n",
    "        \n",
    "        return shortest[:i]"
   ]
  },
  {
   "cell_type": "markdown",
   "metadata": {},
   "source": [
    "## Lessons and Thoughts\n",
    "- It seems that judging equality with one '=' is a common mistake"
   ]
  }
 ],
 "metadata": {
  "kernelspec": {
   "display_name": "Python 3",
   "language": "python",
   "name": "python3"
  },
  "language_info": {
   "codemirror_mode": {
    "name": "ipython",
    "version": 3
   },
   "file_extension": ".py",
   "mimetype": "text/x-python",
   "name": "python",
   "nbconvert_exporter": "python",
   "pygments_lexer": "ipython3",
   "version": "3.7.3"
  }
 },
 "nbformat": 4,
 "nbformat_minor": 2
}
