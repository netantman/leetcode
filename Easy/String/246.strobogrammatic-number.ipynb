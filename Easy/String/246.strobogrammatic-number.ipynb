{
 "cells": [
  {
   "cell_type": "markdown",
   "metadata": {},
   "source": [
    "## Attempt 1 - Accepted"
   ]
  },
  {
   "cell_type": "code",
   "execution_count": null,
   "metadata": {},
   "outputs": [],
   "source": [
    "class Solution:\n",
    "    def isStrobogrammatic(self, num: str) -> bool:\n",
    "        record = dict()\n",
    "        record[\"1\"] = \"1\"\n",
    "        record[\"6\"] = \"9\"\n",
    "        record[\"9\"] = \"6\"\n",
    "        record[\"8\"] = \"8\"\n",
    "        record[\"0\"] = \"0\"\n",
    "        \n",
    "        L = len(num)\n",
    "        l, r = 0, L - 1\n",
    "        while r > l:\n",
    "            if num[r] not in record or num[l] not in record or record[num[r]] != num[l]:\n",
    "                return False\n",
    "            l += 1\n",
    "            r -= 1\n",
    "        if r == l:\n",
    "            return num[r] in {\"1\", \"8\", \"0\"}\n",
    "        \n",
    "        return True"
   ]
  },
  {
   "cell_type": "markdown",
   "metadata": {},
   "source": [
    "## Lessons and Thoughts\n",
    "- Straightforward"
   ]
  }
 ],
 "metadata": {
  "kernelspec": {
   "display_name": "Python 3",
   "language": "python",
   "name": "python3"
  },
  "language_info": {
   "codemirror_mode": {
    "name": "ipython",
    "version": 3
   },
   "file_extension": ".py",
   "mimetype": "text/x-python",
   "name": "python",
   "nbconvert_exporter": "python",
   "pygments_lexer": "ipython3",
   "version": "3.7.3"
  }
 },
 "nbformat": 4,
 "nbformat_minor": 2
}
