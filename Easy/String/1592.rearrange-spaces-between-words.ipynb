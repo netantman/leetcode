{
 "cells": [
  {
   "cell_type": "markdown",
   "metadata": {},
   "source": [
    "## Attempt 1 - Accepted"
   ]
  },
  {
   "cell_type": "code",
   "execution_count": null,
   "metadata": {},
   "outputs": [],
   "source": [
    "class Solution:\n",
    "    def reorderSpaces(self, text: str) -> str:\n",
    "        L = len(text)\n",
    "        words = [w for w in text.split(\" \") if len(w) > 0]\n",
    "        N = len(words)\n",
    "        if N < 2:\n",
    "            return words[0] + (L - len(words[0])) * \" \"\n",
    "        spaces = L - sum([len(w) for w in words])\n",
    "        d, r = spaces // (N - 1), spaces % (N - 1)\n",
    "        res = (\" \" * d).join(words) + \" \" * r\n",
    "        return res"
   ]
  },
  {
   "cell_type": "markdown",
   "metadata": {},
   "source": [
    "## Lessons and Thoughts\n",
    "- Straightforward with `python`"
   ]
  }
 ],
 "metadata": {
  "kernelspec": {
   "display_name": "Python 3",
   "language": "python",
   "name": "python3"
  },
  "language_info": {
   "codemirror_mode": {
    "name": "ipython",
    "version": 3
   },
   "file_extension": ".py",
   "mimetype": "text/x-python",
   "name": "python",
   "nbconvert_exporter": "python",
   "pygments_lexer": "ipython3",
   "version": "3.7.3"
  }
 },
 "nbformat": 4,
 "nbformat_minor": 2
}
