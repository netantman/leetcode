{
 "cells": [
  {
   "cell_type": "markdown",
   "metadata": {},
   "source": [
    "## Attempt 1 - Accepted"
   ]
  },
  {
   "cell_type": "code",
   "execution_count": null,
   "metadata": {},
   "outputs": [],
   "source": [
    "class Solution:\n",
    "    def repeatedStringMatch(self, A: str, B: str) -> int:\n",
    "        def is_sub(s,t):\n",
    "            ls, lt=len(s), len(t)\n",
    "            if ls>lt:\n",
    "                return False\n",
    "            idx=0\n",
    "            while idx+ls<=lt: \n",
    "                if t[idx:idx+ls]==s:\n",
    "                    return True\n",
    "                idx+=1\n",
    "            return False\n",
    "        \n",
    "        La, Lb=len(A), len(B)\n",
    "        if Lb<La:\n",
    "            if is_sub(B,A):\n",
    "                return 1\n",
    "            elif is_sub(B,2*A):\n",
    "                return 2\n",
    "            else:\n",
    "                return -1\n",
    "        else:\n",
    "            cnt=Lb//La\n",
    "            if is_sub(B,cnt*A):\n",
    "                return cnt\n",
    "            elif is_sub(B,(cnt+1)*A):\n",
    "                return cnt+1\n",
    "            elif is_sub(B, (cnt+2)*A):\n",
    "                return cnt+2\n",
    "            else:\n",
    "                return -1"
   ]
  },
  {
   "cell_type": "markdown",
   "metadata": {},
   "source": [
    "## Lessons and Thoughts\n",
    "- Just carefully consider all cases."
   ]
  }
 ],
 "metadata": {
  "kernelspec": {
   "display_name": "Python 3",
   "language": "python",
   "name": "python3"
  },
  "language_info": {
   "codemirror_mode": {
    "name": "ipython",
    "version": 3
   },
   "file_extension": ".py",
   "mimetype": "text/x-python",
   "name": "python",
   "nbconvert_exporter": "python",
   "pygments_lexer": "ipython3",
   "version": "3.7.3"
  }
 },
 "nbformat": 4,
 "nbformat_minor": 2
}
