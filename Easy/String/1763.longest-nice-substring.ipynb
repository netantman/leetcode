{
 "cells": [
  {
   "cell_type": "markdown",
   "metadata": {},
   "source": [
    "## Attempt 1 - Accepted"
   ]
  },
  {
   "cell_type": "code",
   "execution_count": null,
   "metadata": {},
   "outputs": [],
   "source": [
    "class Solution:\n",
    "    def longestNiceSubstring(self, s: str) -> str:\n",
    "        def check(sub):\n",
    "            for c in sub:\n",
    "                if (c.upper() not in sub) or (c.lower() not in sub):\n",
    "                    return False\n",
    "            return True\n",
    "        \n",
    "        L = len(s)\n",
    "        res = \"\"\n",
    "        for i in range(L):\n",
    "            rec = set([s[i]])\n",
    "            for j in range(i + 1, L):\n",
    "                rec.add(s[j])\n",
    "                if check(rec) and j - i + 1 > len(res):\n",
    "                    res = s[i:j + 1]\n",
    "        return res"
   ]
  },
  {
   "cell_type": "markdown",
   "metadata": {},
   "source": [
    "## Lessons and Thoughts\n",
    "- Brute force"
   ]
  }
 ],
 "metadata": {
  "kernelspec": {
   "display_name": "Python 3",
   "language": "python",
   "name": "python3"
  },
  "language_info": {
   "codemirror_mode": {
    "name": "ipython",
    "version": 3
   },
   "file_extension": ".py",
   "mimetype": "text/x-python",
   "name": "python",
   "nbconvert_exporter": "python",
   "pygments_lexer": "ipython3",
   "version": "3.7.3"
  }
 },
 "nbformat": 4,
 "nbformat_minor": 2
}
