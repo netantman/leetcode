{
 "cells": [
  {
   "cell_type": "markdown",
   "metadata": {},
   "source": [
    "## Attempt 1 - Wrong Answer"
   ]
  },
  {
   "cell_type": "code",
   "execution_count": null,
   "metadata": {},
   "outputs": [],
   "source": [
    "class Solution:\n",
    "    def strStr(self, haystack: str, needle: str) -> int:\n",
    "        if len(needle)<1:\n",
    "            return 0\n",
    "        if (len(haystack)<1) or (len(haystack)<len(needle)):\n",
    "            return -1\n",
    "        \n",
    "        \n",
    "        l=len(needle)\n",
    "        for start in range(l): ## -> typo trips you up...\n",
    "            if haystack[start:start+l]==needle:\n",
    "                return start\n",
    "        \n",
    "        return -1"
   ]
  },
  {
   "cell_type": "markdown",
   "metadata": {},
   "source": [
    "## Attempt 2 - Accepted"
   ]
  },
  {
   "cell_type": "code",
   "execution_count": null,
   "metadata": {},
   "outputs": [],
   "source": [
    "class Solution:\n",
    "    def strStr(self, haystack: str, needle: str) -> int:\n",
    "        if len(needle)<1:\n",
    "            return 0\n",
    "        if (len(haystack)<1) or (len(haystack)<len(needle)):\n",
    "            return -1\n",
    "        \n",
    "        \n",
    "        l=len(needle)\n",
    "        ll=len(haystack)\n",
    "        for start in range(ll):\n",
    "            if haystack[start:start+l]==needle:\n",
    "                return start\n",
    "        \n",
    "        return -1"
   ]
  },
  {
   "cell_type": "markdown",
   "metadata": {},
   "source": [
    "## Lessons and Thoughts\n",
    "- No matter how simple the question is, small typoes can still trip you up...\n",
    "- Probably it is easy since it is python."
   ]
  }
 ],
 "metadata": {
  "kernelspec": {
   "display_name": "Python 3",
   "language": "python",
   "name": "python3"
  },
  "language_info": {
   "codemirror_mode": {
    "name": "ipython",
    "version": 3
   },
   "file_extension": ".py",
   "mimetype": "text/x-python",
   "name": "python",
   "nbconvert_exporter": "python",
   "pygments_lexer": "ipython3",
   "version": "3.7.3"
  }
 },
 "nbformat": 4,
 "nbformat_minor": 2
}
