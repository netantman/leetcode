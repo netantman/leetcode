{
 "cells": [
  {
   "cell_type": "markdown",
   "metadata": {},
   "source": [
    "## Attempt 1 - Accepted"
   ]
  },
  {
   "cell_type": "code",
   "execution_count": null,
   "metadata": {},
   "outputs": [],
   "source": [
    "class Solution:\n",
    "    def stringMatching(self, words: List[str]) -> List[str]:\n",
    "        def is_sub(w1, w2):\n",
    "            L1, L2 = len(w1), len(w2)\n",
    "            if L1 > L2:\n",
    "                return False\n",
    "            for idx in range(L2):\n",
    "                if w1==w2[idx:idx+L1]:\n",
    "                    return True\n",
    "            return False\n",
    "        \n",
    "        res=[]\n",
    "        for w1 in words:\n",
    "            for w2 in words:\n",
    "                if w1==w2:\n",
    "                    continue\n",
    "                if is_sub(w1, w2):\n",
    "                    res.append(w1)\n",
    "        return list(set(res))"
   ]
  },
  {
   "cell_type": "markdown",
   "metadata": {},
   "source": [
    "## Lessons and Thoughts\n",
    "- Brute force"
   ]
  }
 ],
 "metadata": {
  "kernelspec": {
   "display_name": "Python 3",
   "language": "python",
   "name": "python3"
  },
  "language_info": {
   "codemirror_mode": {
    "name": "ipython",
    "version": 3
   },
   "file_extension": ".py",
   "mimetype": "text/x-python",
   "name": "python",
   "nbconvert_exporter": "python",
   "pygments_lexer": "ipython3",
   "version": "3.7.3"
  }
 },
 "nbformat": 4,
 "nbformat_minor": 2
}
