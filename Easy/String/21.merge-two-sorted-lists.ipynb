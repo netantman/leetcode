{
 "cells": [
  {
   "cell_type": "markdown",
   "metadata": {},
   "source": [
    "## Attempt 1 - Wrong Answer"
   ]
  },
  {
   "cell_type": "code",
   "execution_count": null,
   "metadata": {},
   "outputs": [],
   "source": [
    "# Definition for singly-linked list.\n",
    "# class ListNode:\n",
    "#     def __init__(self, val=0, next=None):\n",
    "#         self.val = val\n",
    "#         self.next = next\n",
    "class Solution:\n",
    "    def mergeTwoLists(self, l1: ListNode, l2: ListNode) -> ListNode:\n",
    "        res, front=None, None\n",
    "        \n",
    "        while (l1 is not None) or (l2 is not None):\n",
    "            if l1 is None:\n",
    "                if res is None:\n",
    "                    res=l2\n",
    "                    return res\n",
    "                else:\n",
    "                    front.next=l2\n",
    "                    return res\n",
    "            elif l2 is None:\n",
    "                if res is None:\n",
    "                    res=l1\n",
    "                    return res\n",
    "                else:\n",
    "                    front.next=l1\n",
    "                    return res\n",
    "            else:\n",
    "                if l1.val<l2.val:\n",
    "                    if res is None:\n",
    "                        res=ListNode(val=l1.val)\n",
    "                        front=res\n",
    "                    else:\n",
    "                        front.next=ListNote(val=l1.val)\n",
    "                        front=front.next\n",
    "                    l1=l1.next\n",
    "                else:\n",
    "                    if res is None:\n",
    "                        res=ListNode(val=l2.val)\n",
    "                        front=res\n",
    "                    else:\n",
    "                        front.next=ListNote(val=l2.val)\n",
    "                        front=front.next\n",
    "                    l2=l2.next\n",
    "            \n",
    "            return res  ## --> This is what tripped you over..."
   ]
  },
  {
   "cell_type": "markdown",
   "metadata": {},
   "source": [
    "## Attempt 2 - Accepted"
   ]
  },
  {
   "cell_type": "code",
   "execution_count": null,
   "metadata": {},
   "outputs": [],
   "source": [
    "# Definition for singly-linked list.\n",
    "# class ListNode:\n",
    "#     def __init__(self, val=0, next=None):\n",
    "#         self.val = val\n",
    "#         self.next = next\n",
    "class Solution:\n",
    "    def mergeTwoLists(self, l1: ListNode, l2: ListNode) -> ListNode:\n",
    "        res=ListNode(val=0)\n",
    "        front=res\n",
    "        \n",
    "        while (l1 is not None) or (l2 is not None):\n",
    "            if l1 is None:\n",
    "                front.next=ListNode(val=l2.val)\n",
    "                front=front.next\n",
    "                l2=l2.next\n",
    "            elif l2 is None:\n",
    "                front.next=ListNode(val=l1.val)\n",
    "                front=front.next\n",
    "                l1=l1.next\n",
    "            else:\n",
    "                if l1.val<l2.val:\n",
    "                    front.next=ListNode(val=l1.val)\n",
    "                    front=front.next\n",
    "                    l1=l1.next\n",
    "                else:\n",
    "                    front.next=ListNode(val=l2.val)\n",
    "                    front=front.next\n",
    "                    l2=l2.next\n",
    "            \n",
    "        return res.next  ## --> new trick"
   ]
  },
  {
   "cell_type": "markdown",
   "metadata": {},
   "source": [
    "## Lessons and Thoughts\n",
    "- Next time you are struggling why the while loop fails to continue even when the criteria is satisfied, check the return line.\n",
    "- Learned a new trick of initializing the res: feel free to set up the first node, and then when return, do `res.next`. "
   ]
  }
 ],
 "metadata": {
  "kernelspec": {
   "display_name": "Python 3",
   "language": "python",
   "name": "python3"
  },
  "language_info": {
   "codemirror_mode": {
    "name": "ipython",
    "version": 3
   },
   "file_extension": ".py",
   "mimetype": "text/x-python",
   "name": "python",
   "nbconvert_exporter": "python",
   "pygments_lexer": "ipython3",
   "version": "3.7.3"
  }
 },
 "nbformat": 4,
 "nbformat_minor": 2
}
