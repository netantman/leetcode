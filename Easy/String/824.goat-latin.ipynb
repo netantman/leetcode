{
 "cells": [
  {
   "cell_type": "markdown",
   "metadata": {},
   "source": [
    "## Attempt 1 - Accepted"
   ]
  },
  {
   "cell_type": "code",
   "execution_count": null,
   "metadata": {},
   "outputs": [],
   "source": [
    "class Solution:\n",
    "    def toGoatLatin(self, S: str) -> str:\n",
    "        S=S.split(\" \")\n",
    "        def mappend(w):\n",
    "            if w[0] in {\"a\", \"e\", \"i\", \"o\", \"u\", \"A\", \"E\", \"I\", \"O\", \"U\"}:\n",
    "                return w+\"ma\"\n",
    "            else:\n",
    "                return w[1:]+w[0]+\"ma\"\n",
    "        new=list(map(mappend, S))\n",
    "        new=[w+(idx+1)*\"a\" for idx, w in enumerate(new)]\n",
    "        return \" \".join(new)"
   ]
  },
  {
   "cell_type": "markdown",
   "metadata": {},
   "source": [
    "## Lessons and Thoughts\n",
    "- Straightforward with python."
   ]
  }
 ],
 "metadata": {
  "kernelspec": {
   "display_name": "Python 3",
   "language": "python",
   "name": "python3"
  },
  "language_info": {
   "codemirror_mode": {
    "name": "ipython",
    "version": 3
   },
   "file_extension": ".py",
   "mimetype": "text/x-python",
   "name": "python",
   "nbconvert_exporter": "python",
   "pygments_lexer": "ipython3",
   "version": "3.7.3"
  }
 },
 "nbformat": 4,
 "nbformat_minor": 2
}
