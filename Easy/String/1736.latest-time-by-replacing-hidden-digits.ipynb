{
 "cells": [
  {
   "cell_type": "markdown",
   "metadata": {},
   "source": [
    "## Attempt 1 - Accepted"
   ]
  },
  {
   "cell_type": "code",
   "execution_count": null,
   "metadata": {},
   "outputs": [],
   "source": [
    "class Solution:\n",
    "    def maximumTime(self, time: str) -> str:\n",
    "        res = [c for c in time]\n",
    "        if time[:2] == \"??\":\n",
    "            res[0] = \"2\"\n",
    "            res[1] = \"3\"\n",
    "        elif time[1] == \"?\":\n",
    "            if int(time[0]) < 2:\n",
    "                res[1] = \"9\"\n",
    "            else:\n",
    "                res[1] = \"3\"\n",
    "        elif time[0] == \"?\":\n",
    "            if int(time[1]) <= 3:\n",
    "                res[0] = \"2\"\n",
    "            else:\n",
    "                res[0] = \"1\"\n",
    "        else:\n",
    "            pass\n",
    "\n",
    "        if time[3:] == \"??\":\n",
    "            res[3] = \"5\"\n",
    "            res[4] = \"9\"\n",
    "        elif time[4] == \"?\":\n",
    "            res[4] = \"9\"\n",
    "        elif time[3] == \"?\":\n",
    "            res[3] = \"5\"\n",
    "        else:\n",
    "            pass\n",
    "    \n",
    "        return \"\".join(res)"
   ]
  },
  {
   "cell_type": "markdown",
   "metadata": {},
   "source": [
    "## Lessons and Thoughts\n",
    "- Straightforward"
   ]
  }
 ],
 "metadata": {
  "kernelspec": {
   "display_name": "Python 3",
   "language": "python",
   "name": "python3"
  },
  "language_info": {
   "codemirror_mode": {
    "name": "ipython",
    "version": 3
   },
   "file_extension": ".py",
   "mimetype": "text/x-python",
   "name": "python",
   "nbconvert_exporter": "python",
   "pygments_lexer": "ipython3",
   "version": "3.7.3"
  }
 },
 "nbformat": 4,
 "nbformat_minor": 2
}
