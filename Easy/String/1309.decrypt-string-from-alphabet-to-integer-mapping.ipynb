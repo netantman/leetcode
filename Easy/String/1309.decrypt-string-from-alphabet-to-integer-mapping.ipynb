{
 "cells": [
  {
   "cell_type": "markdown",
   "metadata": {},
   "source": [
    "## Attempt 1 - Accepted"
   ]
  },
  {
   "cell_type": "code",
   "execution_count": null,
   "metadata": {},
   "outputs": [],
   "source": [
    "class Solution:\n",
    "    def freqAlphabets(self, s: str) -> str:\n",
    "        left,right=0,2\n",
    "        L=len(s)\n",
    "        res=\"\"\n",
    "        while right<L:\n",
    "            if s[right]==\"#\":\n",
    "                sub=s[left:right]\n",
    "                res+=chr(ord(\"a\")+int(sub)-1)\n",
    "                left,right=right+1,right+3\n",
    "            else:\n",
    "                sub=s[left]\n",
    "                res+=chr(ord(\"a\")+int(sub)-1)\n",
    "                left,right=left+1,left+3\n",
    "        while left<L:\n",
    "            sub=s[left]\n",
    "            res+=chr(ord(\"a\")+int(sub)-1)\n",
    "            left+=1\n",
    "        return res"
   ]
  },
  {
   "cell_type": "markdown",
   "metadata": {},
   "source": [
    "## Lessons and Thoughts\n",
    "- Edge case is when there is no double-digit letters at the end."
   ]
  }
 ],
 "metadata": {
  "kernelspec": {
   "display_name": "Python 3",
   "language": "python",
   "name": "python3"
  },
  "language_info": {
   "codemirror_mode": {
    "name": "ipython",
    "version": 3
   },
   "file_extension": ".py",
   "mimetype": "text/x-python",
   "name": "python",
   "nbconvert_exporter": "python",
   "pygments_lexer": "ipython3",
   "version": "3.7.3"
  }
 },
 "nbformat": 4,
 "nbformat_minor": 2
}
