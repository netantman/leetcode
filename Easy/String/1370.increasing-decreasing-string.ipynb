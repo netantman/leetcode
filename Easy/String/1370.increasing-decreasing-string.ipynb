{
 "cells": [
  {
   "cell_type": "markdown",
   "metadata": {},
   "source": [
    "## Attempt 1 - Accepted"
   ]
  },
  {
   "cell_type": "code",
   "execution_count": null,
   "metadata": {},
   "outputs": [],
   "source": [
    "class Solution:\n",
    "    def sortString(self, s: str) -> str:\n",
    "        record=[0 for _ in range(26)]\n",
    "        for c in s:\n",
    "            record[ord(c)-ord(\"a\")]+=1\n",
    "        \n",
    "        low=0\n",
    "        while low<26 and record[low]<1:\n",
    "            low+=1\n",
    "        high=25\n",
    "        while high>=0 and record[high]<1:\n",
    "            high-=1\n",
    "        res=\"\"\n",
    "        idx,increment=low,1\n",
    "        while low<high:\n",
    "            if record[idx]>0:\n",
    "                res+=chr(ord(\"a\")+idx)\n",
    "                record[idx]-=1\n",
    "            idx+=increment\n",
    "            if idx>=low and idx<=high:\n",
    "                continue\n",
    "            if idx==low-1:\n",
    "                increment=1\n",
    "                while low<high and record[low]<1:\n",
    "                    low+=1\n",
    "                idx=low\n",
    "            if idx==high+1:\n",
    "                increment=-1\n",
    "                while high>low and record[high]<1:\n",
    "                    high-=1\n",
    "                idx=high\n",
    "        res+=chr(ord(\"a\")+low)*record[low]\n",
    "        return res"
   ]
  },
  {
   "cell_type": "markdown",
   "metadata": {},
   "source": [
    "## Lessons and Thoughts\n",
    "- It may take some getting used to to write code in this [way](https://www.evernote.com/shard/s191/nl/21353936/9f5086ea-a635-9934-99bc-5bde3de7d22b?title=%E4%B9%9D%E7%AB%A0%E7%AE%97%E6%B3%95%E7%8F%AD%202021%20%E7%89%88) (mentioned in the slides of second lesson)"
   ]
  }
 ],
 "metadata": {
  "kernelspec": {
   "display_name": "Python 3",
   "language": "python",
   "name": "python3"
  },
  "language_info": {
   "codemirror_mode": {
    "name": "ipython",
    "version": 3
   },
   "file_extension": ".py",
   "mimetype": "text/x-python",
   "name": "python",
   "nbconvert_exporter": "python",
   "pygments_lexer": "ipython3",
   "version": "3.7.3"
  }
 },
 "nbformat": 4,
 "nbformat_minor": 2
}
