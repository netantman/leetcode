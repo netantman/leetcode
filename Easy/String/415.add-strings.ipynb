{
 "cells": [
  {
   "cell_type": "markdown",
   "metadata": {},
   "source": [
    "## Attempt 1 - Accepted"
   ]
  },
  {
   "cell_type": "code",
   "execution_count": null,
   "metadata": {},
   "outputs": [],
   "source": [
    "class Solution:\n",
    "    def addStrings(self, num1: str, num2: str) -> str:\n",
    "        res=\"\"\n",
    "        carry=0\n",
    "        while len(num1)>0 and len(num2)>0:\n",
    "            n1,n2=int(num1[-1]),int(num2[-1])\n",
    "            num1,num2=num1[:-1],num2[:-1]\n",
    "            curr=n1+n2+carry\n",
    "            if curr>=10:\n",
    "                carry,curr=1,curr-10\n",
    "            else:\n",
    "                carry,curr=0,curr\n",
    "            res=str(curr)+res\n",
    "        if len(num2)>0:\n",
    "            curr=int(num2)+carry\n",
    "            res=str(curr)+res\n",
    "        elif len(num1)>0:\n",
    "            curr=int(num1)+carry\n",
    "            res=str(curr)+res\n",
    "        else:\n",
    "            if carry>0:\n",
    "                res=\"1\"+res\n",
    "            \n",
    "        return res"
   ]
  },
  {
   "cell_type": "markdown",
   "metadata": {},
   "source": [
    "## Lessons and Thoughts\n",
    "- Almost missed the case where `num1` and `num2` become empty together."
   ]
  }
 ],
 "metadata": {
  "kernelspec": {
   "display_name": "Python 3",
   "language": "python",
   "name": "python3"
  },
  "language_info": {
   "codemirror_mode": {
    "name": "ipython",
    "version": 3
   },
   "file_extension": ".py",
   "mimetype": "text/x-python",
   "name": "python",
   "nbconvert_exporter": "python",
   "pygments_lexer": "ipython3",
   "version": "3.7.3"
  }
 },
 "nbformat": 4,
 "nbformat_minor": 2
}
