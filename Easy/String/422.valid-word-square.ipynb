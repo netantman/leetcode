{
 "cells": [
  {
   "cell_type": "markdown",
   "metadata": {},
   "source": [
    "## Attempt 1 - Accepted"
   ]
  },
  {
   "cell_type": "code",
   "execution_count": null,
   "metadata": {},
   "outputs": [],
   "source": [
    "class Solution:\n",
    "    def validWordSquare(self, words: List[str]) -> bool:\n",
    "        R = len(words)\n",
    "        C = max(len(w) for w in words)\n",
    "        if R != C:\n",
    "            return False\n",
    "        for r in range(R):\n",
    "            while len(words[r]) < C:\n",
    "                words[r] += \" \"\n",
    "        \n",
    "        def get_row(r):\n",
    "            return words[r]\n",
    "        \n",
    "        def get_col(c):\n",
    "            return \"\".join([words[r][c] for r in range(R)])\n",
    "        \n",
    "        for k in range(R):\n",
    "            if get_row(k) != get_col(k):\n",
    "                return False\n",
    "        return True"
   ]
  },
  {
   "cell_type": "markdown",
   "metadata": {},
   "source": [
    "## Lessons and Thoughts\n",
    "- The notable edge case is when the words are of different lengths.\n",
    "- Note that in changing word length, just appending to `w for w in words` does not work, though `w` is the associative type. This is because to maintain the scope of the `for` loop `w` in `w in words` is probably a deep copy of the words."
   ]
  }
 ],
 "metadata": {
  "kernelspec": {
   "display_name": "Python 3",
   "language": "python",
   "name": "python3"
  },
  "language_info": {
   "codemirror_mode": {
    "name": "ipython",
    "version": 3
   },
   "file_extension": ".py",
   "mimetype": "text/x-python",
   "name": "python",
   "nbconvert_exporter": "python",
   "pygments_lexer": "ipython3",
   "version": "3.7.3"
  }
 },
 "nbformat": 4,
 "nbformat_minor": 2
}
