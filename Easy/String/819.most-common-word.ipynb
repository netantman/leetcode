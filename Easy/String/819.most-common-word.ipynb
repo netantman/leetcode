{
 "cells": [
  {
   "cell_type": "markdown",
   "metadata": {},
   "source": [
    "## Attempt 1 - Wrong Answer"
   ]
  },
  {
   "cell_type": "code",
   "execution_count": null,
   "metadata": {},
   "outputs": [],
   "source": [
    "class Solution:\n",
    "    def mostCommonWord(self, paragraph: str, banned: List[str]) -> str:\n",
    "        paragraph=paragraph.lower()\n",
    "        paragraph=paragraph.replace(\"!\", \"\")\n",
    "        paragraph=paragraph.replace(\"?\", \"\")\n",
    "        paragraph=paragraph.replace(\"''\", \"\")  ## --> be careful of autocomplete!\n",
    "        paragraph=paragraph.replace(\",\", \"\")\n",
    "        paragraph=paragraph.replace(\";\", \"\")\n",
    "        paragraph=paragraph.replace(\".\", \"\")\n",
    "        words=paragraph.split(\" \") ## --> did not handle the case where there are arbitrary or no empty space around punctuations.\n",
    "        record=dict()\n",
    "        for w in words:\n",
    "            if w not in banned:\n",
    "                record[w]=record.get(w,0)+1\n",
    "        res=[k for k in record.keys() if record[k]>=max(record.values())]\n",
    "        return res[0]"
   ]
  },
  {
   "cell_type": "markdown",
   "metadata": {},
   "source": [
    "## Attempt 2 - Accepted"
   ]
  },
  {
   "cell_type": "code",
   "execution_count": null,
   "metadata": {},
   "outputs": [],
   "source": [
    "class Solution:\n",
    "    def mostCommonWord(self, paragraph: str, banned: List[str]) -> str:\n",
    "        paragraph=paragraph.lower()\n",
    "        paragraph=paragraph.replace(\"!\", \" \")\n",
    "        paragraph=paragraph.replace(\"?\", \" \")\n",
    "        paragraph=paragraph.replace(\"'\", \" \")\n",
    "        paragraph=paragraph.replace(\",\", \" \")\n",
    "        paragraph=paragraph.replace(\";\", \" \")\n",
    "        paragraph=paragraph.replace(\".\", \" \")\n",
    "        words=[w for w in paragraph.split(\" \") if len(w)>0]\n",
    "        record=dict()\n",
    "        for w in words:\n",
    "            if w not in banned:\n",
    "                record[w]=record.get(w,0)+1\n",
    "        res=[k for k in record.keys() if record[k]>=max(record.values())]\n",
    "        return res[0]"
   ]
  },
  {
   "cell_type": "markdown",
   "metadata": {},
   "source": [
    "## Lessons and Thoughts\n",
    "- When there is a paragraph, be careful about empty spaces!"
   ]
  }
 ],
 "metadata": {
  "kernelspec": {
   "display_name": "Python 3",
   "language": "python",
   "name": "python3"
  },
  "language_info": {
   "codemirror_mode": {
    "name": "ipython",
    "version": 3
   },
   "file_extension": ".py",
   "mimetype": "text/x-python",
   "name": "python",
   "nbconvert_exporter": "python",
   "pygments_lexer": "ipython3",
   "version": "3.7.3"
  }
 },
 "nbformat": 4,
 "nbformat_minor": 2
}
