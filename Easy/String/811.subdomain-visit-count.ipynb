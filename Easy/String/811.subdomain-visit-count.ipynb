{
 "cells": [
  {
   "cell_type": "markdown",
   "metadata": {},
   "source": [
    "## Attempt 1 - Accepted"
   ]
  },
  {
   "cell_type": "code",
   "execution_count": null,
   "metadata": {},
   "outputs": [],
   "source": [
    "class Solution:\n",
    "    def subdomainVisits(self, cpdomains: List[str]) -> List[str]:\n",
    "        record=dict()\n",
    "        while len(cpdomains)>0:\n",
    "            head=cpdomains.pop(0)\n",
    "            splitted=head.split(\" \")\n",
    "            cnt,domain=int(splitted[0]), splitted[1]\n",
    "            record[domain]=record.get(domain,0)+cnt\n",
    "            if \".\" in domain:\n",
    "                subs=domain.split(\".\",maxsplit=1)\n",
    "                cpdomains.append(\"{} {}\".format(cnt, subs[1]))\n",
    "        return [\"{} {}\".format(v,k) for k,v in record.items()]"
   ]
  },
  {
   "cell_type": "markdown",
   "metadata": {},
   "source": [
    "## Lessons and Thoughts\n",
    "- `split` has an argument of `maxsplit`."
   ]
  }
 ],
 "metadata": {
  "kernelspec": {
   "display_name": "Python 3",
   "language": "python",
   "name": "python3"
  },
  "language_info": {
   "codemirror_mode": {
    "name": "ipython",
    "version": 3
   },
   "file_extension": ".py",
   "mimetype": "text/x-python",
   "name": "python",
   "nbconvert_exporter": "python",
   "pygments_lexer": "ipython3",
   "version": "3.7.3"
  }
 },
 "nbformat": 4,
 "nbformat_minor": 2
}
