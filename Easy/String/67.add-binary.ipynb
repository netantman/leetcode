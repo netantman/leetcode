{
 "cells": [
  {
   "cell_type": "markdown",
   "metadata": {},
   "source": [
    "## Attempt 1 - Wrong Answer"
   ]
  },
  {
   "cell_type": "code",
   "execution_count": null,
   "metadata": {},
   "outputs": [],
   "source": [
    "class Solution:\n",
    "    def addBinary(self, a: str, b: str) -> str:\n",
    "        if a==\"0\":\n",
    "            return b\n",
    "        if b==\"0\":\n",
    "            return a\n",
    "        \n",
    "        idx=1\n",
    "        carry=0\n",
    "        la, lb=len(a), len(b)\n",
    "        res=\"\"\n",
    "        while idx<=la and idx<=lb:\n",
    "            temp=int(a[-idx])+int(b[-idx])+carry\n",
    "            if temp==0:\n",
    "                res=\"0\"+res\n",
    "                carry=0\n",
    "            elif temp==1:\n",
    "                res=\"1\"+res\n",
    "                carry=0\n",
    "            elif temp==2:\n",
    "                res=\"0\"+res\n",
    "                carry=1\n",
    "            else:\n",
    "                res=\"1\"+res\n",
    "                carry=1\n",
    "            idx+=1\n",
    "        \n",
    "        if idx>lb:\n",
    "            while idx<=la:\n",
    "                temp=int(a[-idx])+carry\n",
    "                if temp==0:\n",
    "                    res=\"0\"+res\n",
    "                    carry=0\n",
    "                elif temp==1:\n",
    "                    res=\"1\"+res\n",
    "                    carry=0\n",
    "                else:\n",
    "                    res=\"0\"+res\n",
    "                    carry=1\n",
    "                idx+=1\n",
    "        else:\n",
    "            while idx<=lb:\n",
    "                temp=int(b[-idx])+carry\n",
    "                if temp==0:\n",
    "                    res=\"0\"+res\n",
    "                    carry=0\n",
    "                elif temp==1:\n",
    "                    res=\"1\"+res\n",
    "                    carry=0\n",
    "                else:\n",
    "                    res=\"0\"+res\n",
    "                    carry=1\n",
    "                idx+=1\n",
    "        \n",
    "        if carry==1:  ## -> it was a minor typo of ==\"1\" before. gosh\n",
    "            res=\"1\"+res\n",
    "        \n",
    "        return res"
   ]
  },
  {
   "cell_type": "markdown",
   "metadata": {},
   "source": [
    "## Lessons and Thoughts\n",
    "- The main edge case is still when the res has a leading 1."
   ]
  }
 ],
 "metadata": {
  "kernelspec": {
   "display_name": "Python 3",
   "language": "python",
   "name": "python3"
  },
  "language_info": {
   "codemirror_mode": {
    "name": "ipython",
    "version": 3
   },
   "file_extension": ".py",
   "mimetype": "text/x-python",
   "name": "python",
   "nbconvert_exporter": "python",
   "pygments_lexer": "ipython3",
   "version": "3.7.3"
  }
 },
 "nbformat": 4,
 "nbformat_minor": 2
}
