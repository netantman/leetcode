{
 "cells": [
  {
   "cell_type": "markdown",
   "metadata": {},
   "source": [
    "## Attempt 1 - Accepted"
   ]
  },
  {
   "cell_type": "code",
   "execution_count": null,
   "metadata": {},
   "outputs": [],
   "source": [
    "class Solution:\n",
    "    def validPalindrome(self, s: str) -> bool:\n",
    "        if s==s[::-1]:\n",
    "            return True\n",
    "        L=len(s)\n",
    "        left,right=0,L-1\n",
    "        while left<right:\n",
    "            if s[left]==s[right]:\n",
    "                left+=1\n",
    "                right-=1\n",
    "            else:\n",
    "                break\n",
    "        ll=s[:left]+s[left+1:]\n",
    "        if ll==ll[::-1]:\n",
    "            return True\n",
    "        rr=s[:right]+s[right+1:]\n",
    "        if rr==rr[::-1]:\n",
    "            return True\n",
    "        return False"
   ]
  },
  {
   "cell_type": "markdown",
   "metadata": {},
   "source": [
    "## Lessons and Thoughts\n",
    "- The idea is to locate the offending character first by doing pair comparison.\n",
    "- Brute force would TLE."
   ]
  }
 ],
 "metadata": {
  "kernelspec": {
   "display_name": "Python 3",
   "language": "python",
   "name": "python3"
  },
  "language_info": {
   "codemirror_mode": {
    "name": "ipython",
    "version": 3
   },
   "file_extension": ".py",
   "mimetype": "text/x-python",
   "name": "python",
   "nbconvert_exporter": "python",
   "pygments_lexer": "ipython3",
   "version": "3.7.3"
  }
 },
 "nbformat": 4,
 "nbformat_minor": 2
}
