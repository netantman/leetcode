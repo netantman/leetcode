{
 "cells": [
  {
   "cell_type": "markdown",
   "metadata": {},
   "source": [
    "## Attempt 1 - Accepted"
   ]
  },
  {
   "cell_type": "code",
   "execution_count": null,
   "metadata": {},
   "outputs": [],
   "source": [
    "class Solution:\n",
    "    def thousandSeparator(self, n: int) -> str:\n",
    "        n = str(n)\n",
    "        n = n[::-1]\n",
    "        cnt = 0\n",
    "        res = \"\"\n",
    "        L = len(n)\n",
    "        for idx, c in enumerate(n):\n",
    "            res = c + res\n",
    "            cnt += 1\n",
    "            if cnt % 3 < 1 and idx != L - 1:\n",
    "                res = \".\" + res\n",
    "        return res"
   ]
  },
  {
   "cell_type": "markdown",
   "metadata": {},
   "source": [
    "## Lessons and Thoughts\n",
    "- Only edge case is when there are exactly multiple-of-3 digits."
   ]
  }
 ],
 "metadata": {
  "kernelspec": {
   "display_name": "Python 3",
   "language": "python",
   "name": "python3"
  },
  "language_info": {
   "codemirror_mode": {
    "name": "ipython",
    "version": 3
   },
   "file_extension": ".py",
   "mimetype": "text/x-python",
   "name": "python",
   "nbconvert_exporter": "python",
   "pygments_lexer": "ipython3",
   "version": "3.7.3"
  }
 },
 "nbformat": 4,
 "nbformat_minor": 2
}
