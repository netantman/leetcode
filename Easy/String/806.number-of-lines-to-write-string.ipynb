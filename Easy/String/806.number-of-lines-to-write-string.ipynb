{
 "cells": [
  {
   "cell_type": "markdown",
   "metadata": {},
   "source": [
    "## Attempt 1 - Accepted"
   ]
  },
  {
   "cell_type": "code",
   "execution_count": null,
   "metadata": {},
   "outputs": [],
   "source": [
    "class Solution:\n",
    "    def numberOfLines(self, widths: List[int], S: str) -> List[int]:\n",
    "        cnt=1\n",
    "        L=len(S)\n",
    "        capacity=100\n",
    "        for idx in range(L):\n",
    "            width=widths[ord(S[idx])-ord(\"a\")]\n",
    "            if capacity>=width:\n",
    "                capacity-=width\n",
    "            else:\n",
    "                cnt+=1\n",
    "                capacity=100\n",
    "                capacity-=width\n",
    "        return cnt, 100-capacity"
   ]
  },
  {
   "cell_type": "markdown",
   "metadata": {},
   "source": [
    "## Lessons and Thoughts\n",
    "- Just simulate the whole process"
   ]
  }
 ],
 "metadata": {
  "kernelspec": {
   "display_name": "Python 3",
   "language": "python",
   "name": "python3"
  },
  "language_info": {
   "codemirror_mode": {
    "name": "ipython",
    "version": 3
   },
   "file_extension": ".py",
   "mimetype": "text/x-python",
   "name": "python",
   "nbconvert_exporter": "python",
   "pygments_lexer": "ipython3",
   "version": "3.7.3"
  }
 },
 "nbformat": 4,
 "nbformat_minor": 2
}
