{
 "cells": [
  {
   "cell_type": "markdown",
   "metadata": {},
   "source": [
    "## Attempt 1 - Wrong Answer"
   ]
  },
  {
   "cell_type": "code",
   "execution_count": null,
   "metadata": {},
   "outputs": [],
   "source": [
    "class Solution:\n",
    "    def maxLengthBetweenEqualCharacters(self, s: str) -> int:\n",
    "        record = defaultdict(list)\n",
    "        for idx, c in enumerate(s):\n",
    "            record[c].append(idx)\n",
    "        res = -1\n",
    "        for k, v in record.items():\n",
    "            if len(v) > 1:\n",
    "                res = max(res, max([v[idx + 1] - v[idx] - 1 for idx in range(len(v) - 1)])) ## -> should be from head to tail\n",
    "        return res"
   ]
  },
  {
   "cell_type": "markdown",
   "metadata": {},
   "source": [
    "## Attempt 2 - Accepted"
   ]
  },
  {
   "cell_type": "code",
   "execution_count": null,
   "metadata": {},
   "outputs": [],
   "source": [
    "class Solution:\n",
    "    def maxLengthBetweenEqualCharacters(self, s: str) -> int:\n",
    "        record = defaultdict(list)\n",
    "        for idx, c in enumerate(s):\n",
    "            record[c].append(idx)\n",
    "        res = -1\n",
    "        for k, v in record.items():\n",
    "            if len(v) > 1:\n",
    "                res = max(res, v[-1] - v[0] - 1)\n",
    "        return res"
   ]
  },
  {
   "cell_type": "markdown",
   "metadata": {},
   "source": [
    "## Lessons and Thoughts\n",
    "- Straightforward"
   ]
  }
 ],
 "metadata": {
  "kernelspec": {
   "display_name": "Python 3",
   "language": "python",
   "name": "python3"
  },
  "language_info": {
   "codemirror_mode": {
    "name": "ipython",
    "version": 3
   },
   "file_extension": ".py",
   "mimetype": "text/x-python",
   "name": "python",
   "nbconvert_exporter": "python",
   "pygments_lexer": "ipython3",
   "version": "3.7.3"
  }
 },
 "nbformat": 4,
 "nbformat_minor": 2
}
