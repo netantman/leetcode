{
 "cells": [
  {
   "cell_type": "markdown",
   "metadata": {},
   "source": [
    "## Attempt 1 - Wrong Answer"
   ]
  },
  {
   "cell_type": "code",
   "execution_count": null,
   "metadata": {},
   "outputs": [],
   "source": [
    "class Solution:\n",
    "    def reformat(self, s: str) -> str:\n",
    "        alphas = []\n",
    "        numerics = []\n",
    "        for c in s:\n",
    "            if c.isalpha():\n",
    "                alphas.append(c)\n",
    "            else:\n",
    "                numerics.append(c)\n",
    "        \n",
    "        if abs(len(alphas)-len(numerics))>=2:\n",
    "            return \"\"\n",
    "        \n",
    "        res = \"\"\n",
    "        while (len(alphas) > 0) or (len(numerics) > 0):\n",
    "            if len(alphas) >= len(numerics): ## --> \n",
    "                res += alphas.pop()  \n",
    "            else:\n",
    "                res += numerics.pop()\n",
    "        \n",
    "        return res"
   ]
  },
  {
   "cell_type": "markdown",
   "metadata": {},
   "source": [
    "## Attempt 2 - Runtime Error"
   ]
  },
  {
   "cell_type": "code",
   "execution_count": null,
   "metadata": {},
   "outputs": [],
   "source": [
    "class Solution:\n",
    "    def reformat(self, s: str) -> str:\n",
    "        alphas = []\n",
    "        numerics = []\n",
    "        for c in s:\n",
    "            if c.isalpha():\n",
    "                alphas.append(c)\n",
    "            else:\n",
    "                numerics.append(c)\n",
    "        \n",
    "        if abs(len(alphas)-len(numerics))>=2:\n",
    "            return \"\"\n",
    "        \n",
    "        res = \"\"\n",
    "        while (len(alphas) > 0) or (len(numerics) > 0):\n",
    "            if len(alphas) > len(numerics):\n",
    "                res += alphas.pop()\n",
    "            elif len(alphas) < len(numerics):\n",
    "                res += numerics.pop()\n",
    "            else:\n",
    "                if res[-1].isalpha(): ## --> always worry about index out of bound!\n",
    "                    res += numerics.pop()\n",
    "                else:\n",
    "                    res += alphas.pop()\n",
    "        \n",
    "        return res"
   ]
  },
  {
   "cell_type": "markdown",
   "metadata": {},
   "source": [
    "## Attempt 3 - Accepted"
   ]
  },
  {
   "cell_type": "code",
   "execution_count": null,
   "metadata": {},
   "outputs": [],
   "source": [
    "class Solution:\n",
    "    def reformat(self, s: str) -> str:\n",
    "        alphas = []\n",
    "        numerics = []\n",
    "        for c in s:\n",
    "            if c.isalpha():\n",
    "                alphas.append(c)\n",
    "            else:\n",
    "                numerics.append(c)\n",
    "        \n",
    "        if abs(len(alphas)-len(numerics))>=2:\n",
    "            return \"\"\n",
    "        \n",
    "        res = \"\"\n",
    "        while (len(alphas) > 0) or (len(numerics) > 0):\n",
    "            if len(alphas) > len(numerics):\n",
    "                res += alphas.pop()\n",
    "            elif len(alphas) < len(numerics):\n",
    "                res += numerics.pop()\n",
    "            else:\n",
    "                if (res == \"\") or res[-1].isalpha():\n",
    "                    res += numerics.pop()\n",
    "                else:\n",
    "                    res += alphas.pop()\n",
    "        \n",
    "        return res"
   ]
  },
  {
   "cell_type": "markdown",
   "metadata": {},
   "source": [
    "## Lessons and Thoughts\n",
    "- A little bit indentation is OK, if that is clearer than a flatter structure.\n",
    "- Always worry about index out of bound in `while` loop!"
   ]
  }
 ],
 "metadata": {
  "kernelspec": {
   "display_name": "Python 3",
   "language": "python",
   "name": "python3"
  },
  "language_info": {
   "codemirror_mode": {
    "name": "ipython",
    "version": 3
   },
   "file_extension": ".py",
   "mimetype": "text/x-python",
   "name": "python",
   "nbconvert_exporter": "python",
   "pygments_lexer": "ipython3",
   "version": "3.7.3"
  }
 },
 "nbformat": 4,
 "nbformat_minor": 2
}
