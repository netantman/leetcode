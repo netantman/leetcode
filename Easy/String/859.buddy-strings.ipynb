{
 "cells": [
  {
   "cell_type": "markdown",
   "metadata": {},
   "source": [
    "## Attempt 1 - Wrong Answer"
   ]
  },
  {
   "cell_type": "code",
   "execution_count": null,
   "metadata": {},
   "outputs": [],
   "source": [
    "class Solution:\n",
    "    def buddyStrings(self, A: str, B: str) -> bool:\n",
    "        ra, rb=dict(), dict()\n",
    "        for c in A:\n",
    "            ra[c]=ra.get(c,0)+1\n",
    "        for c in B:\n",
    "            rb[c]=rb.get(c,0)+1\n",
    "        \n",
    "        if ra!=rb:\n",
    "            return False\n",
    "        \n",
    "        if A==B:\n",
    "            return max(list(ra.values()))>1 ## --> A and B can be empty\n",
    "        \n",
    "        res=[(ca,cb) for ca,cb in zip(A,B) if ca!=cb]\n",
    "        return len(res)==2"
   ]
  },
  {
   "cell_type": "markdown",
   "metadata": {},
   "source": [
    "## Attempt 2 - Accepted"
   ]
  },
  {
   "cell_type": "code",
   "execution_count": null,
   "metadata": {},
   "outputs": [],
   "source": [
    "class Solution:\n",
    "    def buddyStrings(self, A: str, B: str) -> bool:\n",
    "        if len(A)<1:\n",
    "            return False\n",
    "        \n",
    "        ra, rb=dict(), dict()\n",
    "        for c in A:\n",
    "            ra[c]=ra.get(c,0)+1\n",
    "        for c in B:\n",
    "            rb[c]=rb.get(c,0)+1\n",
    "        \n",
    "        if ra!=rb:\n",
    "            return False\n",
    "        \n",
    "        if A==B:\n",
    "            return max(list(ra.values()))>1\n",
    "        \n",
    "        res=[(ca,cb) for ca,cb in zip(A,B) if ca!=cb]\n",
    "        return len(res)==2"
   ]
  },
  {
   "cell_type": "markdown",
   "metadata": {},
   "source": [
    "## Lessons and Thoughts\n",
    "- Always remember empty string as an edge case!"
   ]
  }
 ],
 "metadata": {
  "kernelspec": {
   "display_name": "Python 3",
   "language": "python",
   "name": "python3"
  },
  "language_info": {
   "codemirror_mode": {
    "name": "ipython",
    "version": 3
   },
   "file_extension": ".py",
   "mimetype": "text/x-python",
   "name": "python",
   "nbconvert_exporter": "python",
   "pygments_lexer": "ipython3",
   "version": "3.7.3"
  }
 },
 "nbformat": 4,
 "nbformat_minor": 2
}
