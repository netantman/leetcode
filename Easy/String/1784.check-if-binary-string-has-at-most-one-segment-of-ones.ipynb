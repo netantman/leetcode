{
 "cells": [
  {
   "cell_type": "markdown",
   "metadata": {},
   "source": [
    "## Attempt 1 - Wrong Answer"
   ]
  },
  {
   "cell_type": "code",
   "execution_count": null,
   "metadata": {},
   "outputs": [],
   "source": [
    "class Solution:\n",
    "    def checkOnesSegment(self, s: str) -> bool:\n",
    "        L = len(s)\n",
    "        start = 0\n",
    "        while start < L:\n",
    "            if s[start] == \"1\":\n",
    "                start += 1 ## --> forgot continue!\n",
    "            break\n",
    "        else:\n",
    "            return True\n",
    "        \n",
    "        while start < L:\n",
    "            if s[start] == \"1\":\n",
    "                return False\n",
    "            start += 1\n",
    "        return True"
   ]
  },
  {
   "cell_type": "markdown",
   "metadata": {},
   "source": [
    "## Attempt 2 - Accepted"
   ]
  },
  {
   "cell_type": "code",
   "execution_count": null,
   "metadata": {},
   "outputs": [],
   "source": [
    "class Solution:\n",
    "    def checkOnesSegment(self, s: str) -> bool:\n",
    "        L = len(s)\n",
    "        start = 0\n",
    "        while start < L:\n",
    "            if s[start] == \"1\":\n",
    "                start += 1\n",
    "                continue\n",
    "            break\n",
    "        else:\n",
    "            return True\n",
    "        \n",
    "        while start < L:\n",
    "            if s[start] == \"1\":\n",
    "                return False\n",
    "            start += 1\n",
    "        return True"
   ]
  },
  {
   "cell_type": "markdown",
   "metadata": {},
   "source": [
    "## Lessons and Thoughts\n",
    "- Forgetting `continue` has become a most recent usual trip."
   ]
  }
 ],
 "metadata": {
  "kernelspec": {
   "display_name": "Python 3",
   "language": "python",
   "name": "python3"
  },
  "language_info": {
   "codemirror_mode": {
    "name": "ipython",
    "version": 3
   },
   "file_extension": ".py",
   "mimetype": "text/x-python",
   "name": "python",
   "nbconvert_exporter": "python",
   "pygments_lexer": "ipython3",
   "version": "3.7.3"
  }
 },
 "nbformat": 4,
 "nbformat_minor": 2
}
