{
 "cells": [
  {
   "cell_type": "markdown",
   "metadata": {},
   "source": [
    "## Attempt 1 - "
   ]
  },
  {
   "cell_type": "code",
   "execution_count": null,
   "metadata": {},
   "outputs": [],
   "source": [
    "class Solution:\n",
    "    def kWeakestRows(self, mat: List[List[int]], k: int) -> List[int]:\n",
    "        def count(row):\n",
    "            N=len(row)\n",
    "            left,right=0,N-1\n",
    "            if row[left]==0:\n",
    "                return 0\n",
    "            elif row[right]==1:\n",
    "                return N\n",
    "            while left<right-1:\n",
    "                mid=(left+right)//2\n",
    "                if row[mid]<1:\n",
    "                    right=mid\n",
    "                else:\n",
    "                    left=mid\n",
    "            return left+1\n",
    "        res=[]\n",
    "        for idx, row in enumerate(mat):\n",
    "            c=count(row)\n",
    "            res.append((c,idx))\n",
    "        res=sorted(res,key=lambda x:x)\n",
    "        res=[r[1] for r in res]\n",
    "        return res[:k]"
   ]
  },
  {
   "cell_type": "markdown",
   "metadata": {},
   "source": [
    "## Lessons and Thoughts\n",
    "- Straightforward"
   ]
  }
 ],
 "metadata": {
  "kernelspec": {
   "display_name": "Python 3",
   "language": "python",
   "name": "python3"
  },
  "language_info": {
   "codemirror_mode": {
    "name": "ipython",
    "version": 3
   },
   "file_extension": ".py",
   "mimetype": "text/x-python",
   "name": "python",
   "nbconvert_exporter": "python",
   "pygments_lexer": "ipython3",
   "version": "3.7.3"
  }
 },
 "nbformat": 4,
 "nbformat_minor": 2
}
