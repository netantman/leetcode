{
 "cells": [
  {
   "cell_type": "markdown",
   "metadata": {},
   "source": [
    "## Attempt 1 - Wrong Answer"
   ]
  },
  {
   "cell_type": "code",
   "execution_count": null,
   "metadata": {},
   "outputs": [],
   "source": [
    "class Solution:\n",
    "    def searchInsert(self, nums: List[int], target: int) -> int:\n",
    "        len_nums=len(nums)\n",
    "        if len_nums==0:\n",
    "            return 0\n",
    "        if len_nums==1:\n",
    "            if nums[0]==target:\n",
    "                return 0\n",
    "            if nums[0]<target:\n",
    "                return 1\n",
    "            if nums[0]>target:\n",
    "                return 0\n",
    "        \n",
    "        if target<=nums[0]:\n",
    "            return 0\n",
    "        if target>=nums[-1]:\n",
    "            return len_nums-1  ## -> did not think it through: two cases here\n",
    "        \n",
    "        left, right=0, len_nums-1\n",
    "        while left<right-1:\n",
    "            mid=(left+right)//2\n",
    "            if nums[mid]==target:\n",
    "                return mid\n",
    "            elif nums[mid]<target:\n",
    "                left=mid\n",
    "            else:\n",
    "                right=mid\n",
    "        \n",
    "        return right"
   ]
  },
  {
   "cell_type": "markdown",
   "metadata": {},
   "source": [
    "## Attempt 2 - Accepted"
   ]
  },
  {
   "cell_type": "code",
   "execution_count": null,
   "metadata": {},
   "outputs": [],
   "source": [
    "class Solution:\n",
    "    def searchInsert(self, nums: List[int], target: int) -> int:\n",
    "        len_nums=len(nums)\n",
    "        if len_nums==0:\n",
    "            return 0\n",
    "        if len_nums==1:\n",
    "            if nums[0]==target:\n",
    "                return 0\n",
    "            if nums[0]<target:\n",
    "                return 1\n",
    "            if nums[0]>target:\n",
    "                return 0\n",
    "        \n",
    "        if target<=nums[0]:\n",
    "            return 0\n",
    "        if target>nums[-1]:\n",
    "            return len_nums\n",
    "        if target==nums[-1]:\n",
    "            return len_nums-1\n",
    "        \n",
    "        left, right=0, len_nums-1\n",
    "        while left<right-1:\n",
    "            mid=(left+right)//2\n",
    "            if nums[mid]==target:\n",
    "                return mid\n",
    "            elif nums[mid]<target:\n",
    "                left=mid\n",
    "            else:\n",
    "                right=mid\n",
    "        \n",
    "        return right"
   ]
  },
  {
   "cell_type": "markdown",
   "metadata": {},
   "source": [
    "## Lessons and Thoughts\n",
    "- Be careful even in checking the edge cases\n",
    "- Again, it pays off to check if left, mid and right equals target."
   ]
  }
 ],
 "metadata": {
  "kernelspec": {
   "display_name": "Python 3",
   "language": "python",
   "name": "python3"
  },
  "language_info": {
   "codemirror_mode": {
    "name": "ipython",
    "version": 3
   },
   "file_extension": ".py",
   "mimetype": "text/x-python",
   "name": "python",
   "nbconvert_exporter": "python",
   "pygments_lexer": "ipython3",
   "version": "3.7.3"
  }
 },
 "nbformat": 4,
 "nbformat_minor": 2
}
