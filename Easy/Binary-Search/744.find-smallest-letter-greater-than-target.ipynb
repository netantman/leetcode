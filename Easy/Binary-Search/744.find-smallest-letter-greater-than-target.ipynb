{
 "cells": [
  {
   "cell_type": "markdown",
   "metadata": {},
   "source": [
    "## Attempt 1 - Accepted"
   ]
  },
  {
   "cell_type": "code",
   "execution_count": null,
   "metadata": {},
   "outputs": [],
   "source": [
    "class Solution:\n",
    "    def nextGreatestLetter(self, letters: List[str], target: str) -> str:\n",
    "        letters=sorted(letters)\n",
    "        if target<letters[0]:\n",
    "            return letters[0]\n",
    "        if target>=letters[-1]:\n",
    "            return letters[0]\n",
    "        L=len(letters)\n",
    "        left,right=0,L-1\n",
    "        while left<right-1:\n",
    "            mid=(left+right)//2\n",
    "            if letters[mid]<=target:\n",
    "                left=mid\n",
    "            else:\n",
    "                right=mid\n",
    "        return letters[right]"
   ]
  },
  {
   "cell_type": "markdown",
   "metadata": {},
   "source": [
    "## Lessons and Thoughts\n",
    "- One of the tricky point about problems of binary search is to recognize that you need to use it."
   ]
  }
 ],
 "metadata": {
  "kernelspec": {
   "display_name": "Python 3",
   "language": "python",
   "name": "python3"
  },
  "language_info": {
   "codemirror_mode": {
    "name": "ipython",
    "version": 3
   },
   "file_extension": ".py",
   "mimetype": "text/x-python",
   "name": "python",
   "nbconvert_exporter": "python",
   "pygments_lexer": "ipython3",
   "version": "3.7.3"
  }
 },
 "nbformat": 4,
 "nbformat_minor": 2
}
