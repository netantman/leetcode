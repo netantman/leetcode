{
 "cells": [
  {
   "cell_type": "markdown",
   "metadata": {},
   "source": [
    "## Attempt 1 - Accepted"
   ]
  },
  {
   "cell_type": "code",
   "execution_count": null,
   "metadata": {},
   "outputs": [],
   "source": [
    "class Solution:\n",
    "    def distributeCandies(self, candies: int, num_people: int) -> List[int]:\n",
    "        n=num_people\n",
    "        res=[0 for _ in range(n)]\n",
    "        \n",
    "        left, right=0, candies\n",
    "        while left<right-1:\n",
    "            mid=(left+right)//2\n",
    "            if (mid*n+1)*mid*n//2<candies:\n",
    "                left=mid\n",
    "            else:\n",
    "                right=mid\n",
    "        k=left\n",
    "        for idx in range(n):\n",
    "            res[idx]+=(idx+1+idx+1+(k-1)*n)*k//2\n",
    "        candies-=(k*n+1)*k*n//2\n",
    "        tmp=k*n+1\n",
    "        while candies>0:\n",
    "            res[tmp%n-1]+=min(tmp, candies)\n",
    "            candies-=min(tmp, candies)\n",
    "            tmp+=1\n",
    "        return res"
   ]
  },
  {
   "cell_type": "markdown",
   "metadata": {},
   "source": [
    "## Lessons and Thoughts\n",
    "- The idea is to find the 'whole cycles' where the candies can be distributed to all $n$ persons. Then take care of the residual."
   ]
  }
 ],
 "metadata": {
  "kernelspec": {
   "display_name": "Python 3",
   "language": "python",
   "name": "python3"
  },
  "language_info": {
   "codemirror_mode": {
    "name": "ipython",
    "version": 3
   },
   "file_extension": ".py",
   "mimetype": "text/x-python",
   "name": "python",
   "nbconvert_exporter": "python",
   "pygments_lexer": "ipython3",
   "version": "3.7.3"
  }
 },
 "nbformat": 4,
 "nbformat_minor": 2
}
