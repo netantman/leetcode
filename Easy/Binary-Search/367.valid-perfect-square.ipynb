{
 "cells": [
  {
   "cell_type": "markdown",
   "metadata": {},
   "source": [
    "## Attempt 1"
   ]
  },
  {
   "cell_type": "code",
   "execution_count": null,
   "metadata": {},
   "outputs": [],
   "source": [
    "class Solution:\n",
    "    def isPerfectSquare(self, num: int) -> bool:\n",
    "        left, right=0, num\n",
    "        while left<right-1:\n",
    "            mid=(left+right)//2\n",
    "            square=mid*mid\n",
    "            if square==num:\n",
    "                return True\n",
    "            elif square<num:\n",
    "                left=mid\n",
    "            else:\n",
    "                right=mid\n",
    "        return right*right==num"
   ]
  },
  {
   "cell_type": "markdown",
   "metadata": {},
   "source": [
    "## Lessons and Thoughts\n",
    "- Straightforward binary search"
   ]
  }
 ],
 "metadata": {
  "kernelspec": {
   "display_name": "Python 3",
   "language": "python",
   "name": "python3"
  },
  "language_info": {
   "codemirror_mode": {
    "name": "ipython",
    "version": 3
   },
   "file_extension": ".py",
   "mimetype": "text/x-python",
   "name": "python",
   "nbconvert_exporter": "python",
   "pygments_lexer": "ipython3",
   "version": "3.7.3"
  }
 },
 "nbformat": 4,
 "nbformat_minor": 2
}
