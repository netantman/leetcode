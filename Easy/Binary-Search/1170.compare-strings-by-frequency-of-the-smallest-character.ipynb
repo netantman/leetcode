{
 "cells": [
  {
   "cell_type": "markdown",
   "metadata": {},
   "source": [
    "## Attempt 1 - Accepted"
   ]
  },
  {
   "cell_type": "code",
   "execution_count": null,
   "metadata": {},
   "outputs": [],
   "source": [
    "class Solution:\n",
    "    def numSmallerByFrequency(self, queries: List[str], words: List[str]) -> List[int]:\n",
    "        def f(w):\n",
    "            record=[0 for _ in range(26)]\n",
    "            for c in w:\n",
    "                record[ord(c)-ord(\"a\")]+=1\n",
    "            for idx in range(26):\n",
    "                if record[idx]>0:\n",
    "                    return record[idx]\n",
    "        \n",
    "        words=map(f, words)\n",
    "        words=sorted(words)\n",
    "        queries=map(f, queries)\n",
    "        res=[]\n",
    "        L=len(words)\n",
    "        for l in queries:\n",
    "            if l>=words[-1]:\n",
    "                res.append(0)\n",
    "            elif l<words[0]:\n",
    "                res.append(L)\n",
    "            else:\n",
    "                left,right=0,L-1\n",
    "                while left<right-1:\n",
    "                    mid=(left+right)//2\n",
    "                    if words[mid]>l:\n",
    "                        right=mid\n",
    "                    else:\n",
    "                        left=mid\n",
    "                res.append(L-1-left)\n",
    "        return res"
   ]
  },
  {
   "cell_type": "markdown",
   "metadata": {},
   "source": [
    "## Lessons and Thoughts\n",
    "- As usual, the hard part of binary search problems is to recognize you can use binary search to optimize."
   ]
  }
 ],
 "metadata": {
  "kernelspec": {
   "display_name": "Python 3",
   "language": "python",
   "name": "python3"
  },
  "language_info": {
   "codemirror_mode": {
    "name": "ipython",
    "version": 3
   },
   "file_extension": ".py",
   "mimetype": "text/x-python",
   "name": "python",
   "nbconvert_exporter": "python",
   "pygments_lexer": "ipython3",
   "version": "3.7.3"
  }
 },
 "nbformat": 4,
 "nbformat_minor": 2
}
