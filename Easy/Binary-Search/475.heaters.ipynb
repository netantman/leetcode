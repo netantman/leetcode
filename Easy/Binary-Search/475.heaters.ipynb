{
 "cells": [
  {
   "cell_type": "markdown",
   "metadata": {},
   "source": [
    "## Attempt 1 - Accepted"
   ]
  },
  {
   "cell_type": "code",
   "execution_count": null,
   "metadata": {},
   "outputs": [],
   "source": [
    "class Solution:\n",
    "    def findRadius(self, houses: List[int], heaters: List[int]) -> int:\n",
    "        if len(houses)<1:\n",
    "            return 0\n",
    "        if len(heaters)<1:\n",
    "            return 10**9\n",
    "        \n",
    "        houses=sorted(houses)\n",
    "        heaters=sorted(heaters)\n",
    "        L=len(heaters)\n",
    "        \n",
    "        minimax=0\n",
    "        for hou in houses:\n",
    "            minn=10**9\n",
    "            if hou <= heaters[0]:\n",
    "                minn=min(minn, heaters[0]-hou)\n",
    "            if hou >= heaters[-1]:\n",
    "                minn=min(minn, hou-heaters[-1])\n",
    "            left, right=0,L-1\n",
    "            while left<right-1:\n",
    "                mid=(left+right)//2\n",
    "                minn=min(minn, abs(hou-heaters[mid]))\n",
    "                if hou==heaters[mid]:\n",
    "                    break\n",
    "                elif hou>heaters[mid]:\n",
    "                    left=mid\n",
    "                else:\n",
    "                    right=mid\n",
    "            if minn==0:\n",
    "                continue\n",
    "            else:\n",
    "                minn=min(minn, abs(hou-heaters[left]), abs(hou-heaters[right]))\n",
    "            minimax=max(minimax, minn)\n",
    "        return minimax"
   ]
  },
  {
   "cell_type": "markdown",
   "metadata": {},
   "source": [
    "## Lessons and Thoughts\n",
    "- The key is to find the max among the minimal distance between each house and the heaters. You need to be able to come up with binary search, at least as follow-up optimization."
   ]
  }
 ],
 "metadata": {
  "kernelspec": {
   "display_name": "Python 3",
   "language": "python",
   "name": "python3"
  },
  "language_info": {
   "codemirror_mode": {
    "name": "ipython",
    "version": 3
   },
   "file_extension": ".py",
   "mimetype": "text/x-python",
   "name": "python",
   "nbconvert_exporter": "python",
   "pygments_lexer": "ipython3",
   "version": "3.7.3"
  }
 },
 "nbformat": 4,
 "nbformat_minor": 2
}
