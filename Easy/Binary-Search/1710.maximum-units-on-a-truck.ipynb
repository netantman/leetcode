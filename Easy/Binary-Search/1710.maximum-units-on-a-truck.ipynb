{
 "cells": [
  {
   "cell_type": "markdown",
   "metadata": {},
   "source": [
    "## Attempt 1 - Accepted"
   ]
  },
  {
   "cell_type": "code",
   "execution_count": null,
   "metadata": {},
   "outputs": [],
   "source": [
    "class Solution:\n",
    "    def maximumUnits(self, boxTypes: List[List[int]], truckSize: int) -> int:\n",
    "        boxTypes = sorted(boxTypes, key=lambda x: x[1], reverse=True)\n",
    "        \n",
    "        cumsum = [0]\n",
    "        for b in boxTypes:\n",
    "            cumsum.append(cumsum[-1] + b[0])\n",
    "        if cumsum[-1] <= truckSize:\n",
    "            return sum([b[0] * b[1] for b in boxTypes])\n",
    "        \n",
    "        L = len(boxTypes)\n",
    "        l, r = 0, L\n",
    "        while l < r - 1:\n",
    "            m = (l + r) // 2\n",
    "            if cumsum[m] <= truckSize:\n",
    "                l = m\n",
    "            else:\n",
    "                r = m\n",
    "        res = sum([b[0] * b[1] for b in boxTypes[:r - 1]])\n",
    "        res += boxTypes[r - 1][1] * (truckSize - cumsum[l])\n",
    "        return res"
   ]
  },
  {
   "cell_type": "markdown",
   "metadata": {},
   "source": [
    "## Lessons and Thoughts\n",
    "- Binary search as optimization"
   ]
  }
 ],
 "metadata": {
  "kernelspec": {
   "display_name": "Python 3",
   "language": "python",
   "name": "python3"
  },
  "language_info": {
   "codemirror_mode": {
    "name": "ipython",
    "version": 3
   },
   "file_extension": ".py",
   "mimetype": "text/x-python",
   "name": "python",
   "nbconvert_exporter": "python",
   "pygments_lexer": "ipython3",
   "version": "3.7.3"
  }
 },
 "nbformat": 4,
 "nbformat_minor": 2
}
