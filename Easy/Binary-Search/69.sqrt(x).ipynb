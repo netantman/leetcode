{
 "cells": [
  {
   "cell_type": "markdown",
   "metadata": {},
   "source": [
    "## Attempt 1 - Missed edge case 0"
   ]
  },
  {
   "cell_type": "code",
   "execution_count": null,
   "metadata": {},
   "outputs": [],
   "source": [
    "class Solution:\n",
    "    def mySqrt(self, x: int) -> int:\n",
    "        if x<=3:\n",
    "            return 1\n",
    "        if x==4:\n",
    "            return 2\n",
    "        \n",
    "        left, right=1,x-1\n",
    "        while left<right-1:\n",
    "            mid=(left+right)//2\n",
    "            if mid*mid==x:\n",
    "                return mid\n",
    "            elif mid*mid>x:\n",
    "                right=mid\n",
    "            else:\n",
    "                left=mid\n",
    "        \n",
    "        return left"
   ]
  },
  {
   "cell_type": "markdown",
   "metadata": {},
   "source": [
    "## Attempt 2 - Accepted"
   ]
  },
  {
   "cell_type": "code",
   "execution_count": null,
   "metadata": {},
   "outputs": [],
   "source": [
    "class Solution:\n",
    "    def mySqrt(self, x: int) -> int:\n",
    "        if x==0:\n",
    "            return 0\n",
    "        if x<=3:\n",
    "            return 1\n",
    "        if x==4:\n",
    "            return 2\n",
    "        \n",
    "        left, right=1,x-1\n",
    "        while left<right-1:\n",
    "            mid=(left+right)//2\n",
    "            if mid*mid==x:\n",
    "                return mid\n",
    "            elif mid*mid>x:\n",
    "                right=mid\n",
    "            else:\n",
    "                left=mid\n",
    "        \n",
    "        return left"
   ]
  },
  {
   "cell_type": "markdown",
   "metadata": {},
   "source": [
    "## Lessons and Thoughts\n",
    "- You were going too fast..."
   ]
  }
 ],
 "metadata": {
  "kernelspec": {
   "display_name": "Python 3",
   "language": "python",
   "name": "python3"
  },
  "language_info": {
   "codemirror_mode": {
    "name": "ipython",
    "version": 3
   },
   "file_extension": ".py",
   "mimetype": "text/x-python",
   "name": "python",
   "nbconvert_exporter": "python",
   "pygments_lexer": "ipython3",
   "version": "3.7.3"
  }
 },
 "nbformat": 4,
 "nbformat_minor": 2
}
