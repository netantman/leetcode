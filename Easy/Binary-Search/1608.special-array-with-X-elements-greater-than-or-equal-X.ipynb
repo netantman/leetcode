{
 "cells": [
  {
   "cell_type": "markdown",
   "metadata": {},
   "source": [
    "## Attempt 1 - Accepted"
   ]
  },
  {
   "cell_type": "code",
   "execution_count": null,
   "metadata": {},
   "outputs": [],
   "source": [
    "class Solution:\n",
    "    def specialArray(self, nums: List[int]) -> int:\n",
    "        left, right = 0, max(nums)\n",
    "        if right == len([n for n in nums if n >= right]):\n",
    "            return right\n",
    "        \n",
    "        while right - left > 1:\n",
    "            mid = (left + right) // 2\n",
    "            if mid > len([n for n in nums if n >= mid]):\n",
    "                right = mid\n",
    "            else:\n",
    "                left = mid\n",
    "        \n",
    "        if left == len([n for n in nums if n >= left]):\n",
    "            return left\n",
    "        else:\n",
    "            return -1"
   ]
  },
  {
   "cell_type": "markdown",
   "metadata": {},
   "source": [
    "## Lessons and Thoughts\n",
    "- Straightforward - binary search as an optimization."
   ]
  }
 ],
 "metadata": {
  "kernelspec": {
   "display_name": "Python 3",
   "language": "python",
   "name": "python3"
  },
  "language_info": {
   "codemirror_mode": {
    "name": "ipython",
    "version": 3
   },
   "file_extension": ".py",
   "mimetype": "text/x-python",
   "name": "python",
   "nbconvert_exporter": "python",
   "pygments_lexer": "ipython3",
   "version": "3.7.3"
  }
 },
 "nbformat": 4,
 "nbformat_minor": 2
}
