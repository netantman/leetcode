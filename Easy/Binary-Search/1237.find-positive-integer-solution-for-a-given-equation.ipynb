{
 "cells": [
  {
   "cell_type": "markdown",
   "metadata": {},
   "source": [
    "## Attempt 1 - Accepted"
   ]
  },
  {
   "cell_type": "code",
   "execution_count": null,
   "metadata": {},
   "outputs": [],
   "source": [
    "class Solution:\n",
    "    def findSolution(self, customfunction: 'CustomFunction', z: int) -> List[List[int]]:\n",
    "        f=customfunction.f\n",
    "        LOWER,UPPER=1,1000\n",
    "        res=[]\n",
    "        if f(LOWER,LOWER)>z or f(UPPER,UPPER)<z:\n",
    "            return res\n",
    "        \n",
    "        left, right=1,1000\n",
    "        if f(right,LOWER)<=z:\n",
    "            row_large=right\n",
    "        else:\n",
    "            while left<right-1:\n",
    "                mid=(left+right)//2\n",
    "                if f(mid,LOWER)<=z:\n",
    "                    left=mid\n",
    "                else:\n",
    "                    right=mid\n",
    "            row_large=left\n",
    "        \n",
    "        left, right=1,1000\n",
    "        if f(left,UPPER)>=z:\n",
    "            row_small=left\n",
    "        else:\n",
    "            while left<right-1:\n",
    "                mid=(left+right)//2\n",
    "                if f(mid,UPPER)>=z:\n",
    "                    right=mid\n",
    "                else:\n",
    "                    left=mid\n",
    "            row_small=right\n",
    "        \n",
    "        for row in range(1,1001):\n",
    "            if row<row_small or row>row_large:\n",
    "                continue\n",
    "            left,right=1,1000\n",
    "            if f(row,left)==z:\n",
    "                res.append([row,left])\n",
    "            elif f(row,right)==z:\n",
    "                res.append([row,right])\n",
    "            else:\n",
    "                while left<right-1:\n",
    "                    mid=(left+right)//2\n",
    "                    if f(row,mid)==z:\n",
    "                        res.append([row,mid])\n",
    "                        break\n",
    "                    elif f(row,mid)<z:\n",
    "                        left=mid\n",
    "                    else:\n",
    "                        right=mid\n",
    "        \n",
    "        return res"
   ]
  },
  {
   "cell_type": "markdown",
   "metadata": {},
   "source": [
    "## Lessons and Thoughts\n",
    "- Double binary search. It is a bit tricky to account for all cases though."
   ]
  }
 ],
 "metadata": {
  "kernelspec": {
   "display_name": "Python 3",
   "language": "python",
   "name": "python3"
  },
  "language_info": {
   "codemirror_mode": {
    "name": "ipython",
    "version": 3
   },
   "file_extension": ".py",
   "mimetype": "text/x-python",
   "name": "python",
   "nbconvert_exporter": "python",
   "pygments_lexer": "ipython3",
   "version": "3.7.3"
  }
 },
 "nbformat": 4,
 "nbformat_minor": 2
}
