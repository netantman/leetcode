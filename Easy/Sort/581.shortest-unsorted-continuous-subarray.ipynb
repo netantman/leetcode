{
 "cells": [
  {
   "cell_type": "markdown",
   "metadata": {},
   "source": [
    "## Attempt 1 - Accepted"
   ]
  },
  {
   "cell_type": "code",
   "execution_count": null,
   "metadata": {},
   "outputs": [],
   "source": [
    "class Solution:\n",
    "    def findUnsortedSubarray(self, nums: List[int]) -> int:\n",
    "        sort=sorted(nums)\n",
    "        L=len(nums)\n",
    "        start, end=0,L-1\n",
    "        while start<L:\n",
    "            if sort[start]==nums[start]:\n",
    "                start+=1\n",
    "            else:\n",
    "                break\n",
    "        if start==L:\n",
    "            return 0\n",
    "        while end>=0:\n",
    "            if sort[end]==nums[end]:\n",
    "                end-=1\n",
    "            else:\n",
    "                break\n",
    "        return end-start+1"
   ]
  },
  {
   "cell_type": "markdown",
   "metadata": {},
   "source": [
    "## Lessons and Thoughts\n",
    "- The key is recognize that the subarray that needs sorting must be different from its sorted counterpart at the same location."
   ]
  }
 ],
 "metadata": {
  "kernelspec": {
   "display_name": "Python 3",
   "language": "python",
   "name": "python3"
  },
  "language_info": {
   "codemirror_mode": {
    "name": "ipython",
    "version": 3
   },
   "file_extension": ".py",
   "mimetype": "text/x-python",
   "name": "python",
   "nbconvert_exporter": "python",
   "pygments_lexer": "ipython3",
   "version": "3.7.3"
  }
 },
 "nbformat": 4,
 "nbformat_minor": 2
}
