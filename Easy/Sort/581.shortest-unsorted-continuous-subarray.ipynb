{
 "cells": [
  {
   "cell_type": "markdown",
   "metadata": {},
   "source": [
    "## Attempt 1 - Accepted"
   ]
  },
  {
   "cell_type": "code",
   "execution_count": null,
   "metadata": {},
   "outputs": [],
   "source": [
    "class Solution:\n",
    "    def findUnsortedSubarray(self, nums: List[int]) -> int:\n",
    "        sort=sorted(nums)\n",
    "        L=len(nums)\n",
    "        start, end=0,L-1\n",
    "        while start<L:\n",
    "            if sort[start]==nums[start]:\n",
    "                start+=1\n",
    "            else:\n",
    "                break\n",
    "        if start==L:\n",
    "            return 0\n",
    "        while end>=0:\n",
    "            if sort[end]==nums[end]:\n",
    "                end-=1\n",
    "            else:\n",
    "                break\n",
    "        return end-start+1"
   ]
  },
  {
   "cell_type": "markdown",
   "metadata": {},
   "source": [
    "## Attempt 2 - Time Limit Exceeded"
   ]
  },
  {
   "cell_type": "code",
   "execution_count": null,
   "metadata": {},
   "outputs": [],
   "source": [
    "struct Entry {\n",
    "    int timestamp ;\n",
    "    string s;\n",
    "};\n",
    "\n",
    "\n",
    "class TimeMap {\n",
    "public:\n",
    "    map<string, vector<Entry>> record;\n",
    "    TimeMap() {\n",
    "    }\n",
    "    \n",
    "    void set(string key, string value, int timestamp) {\n",
    "        Entry tmp;\n",
    "        tmp.timestamp = timestamp;\n",
    "        tmp.s = value;\n",
    "        this->record[key].push_back(tmp);\n",
    "    }\n",
    "    \n",
    "    string get(string key, int timestamp) {\n",
    "        if (this->record.find(key) == this->record.end()) {\n",
    "            return \"\";\n",
    "        }\n",
    "        \n",
    "        vector<Entry> entry = record[key];\n",
    "        if (entry.front().timestamp > timestamp) {\n",
    "            return \"\";\n",
    "        }\n",
    "        \n",
    "        if (entry.back().timestamp <= timestamp) {\n",
    "            return entry.back().s;\n",
    "        }\n",
    "        \n",
    "        int l = 0;\n",
    "        int r = entry.size() - 1;\n",
    "        \n",
    "        while (r - l > 1) {\n",
    "            int m = (r + l) / 2;\n",
    "            if (entry[m].timestamp <= timestamp) {\n",
    "                l = m;\n",
    "            }\n",
    "            else {\n",
    "                r = m;\n",
    "            }\n",
    "        }\n",
    "        return entry[l].s;\n",
    "    }\n",
    "};\n",
    "\n",
    "/**\n",
    " * Your TimeMap object will be instantiated and called as such:\n",
    " * TimeMap* obj = new TimeMap();\n",
    " * obj->set(key,value,timestamp);\n",
    " * string param_2 = obj->get(key,timestamp);\n",
    " */"
   ]
  },
  {
   "cell_type": "markdown",
   "metadata": {},
   "source": [
    "## Lessons and Thoughts\n",
    "- The key is recognize that the subarray that needs sorting must be different from its sorted counterpart at the same location.\n",
    "- Even using binary search can no longer pass (as of Mar 2022)."
   ]
  }
 ],
 "metadata": {
  "kernelspec": {
   "display_name": "Python 3",
   "language": "python",
   "name": "python3"
  },
  "language_info": {
   "codemirror_mode": {
    "name": "ipython",
    "version": 3
   },
   "file_extension": ".py",
   "mimetype": "text/x-python",
   "name": "python",
   "nbconvert_exporter": "python",
   "pygments_lexer": "ipython3",
   "version": "3.6.5"
  }
 },
 "nbformat": 4,
 "nbformat_minor": 2
}
