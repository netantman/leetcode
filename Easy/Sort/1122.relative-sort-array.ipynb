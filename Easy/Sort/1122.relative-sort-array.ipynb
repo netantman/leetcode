{
 "cells": [
  {
   "cell_type": "markdown",
   "metadata": {},
   "source": [
    "## Attempt 1 - Wrong Answer"
   ]
  },
  {
   "cell_type": "code",
   "execution_count": null,
   "metadata": {},
   "outputs": [],
   "source": [
    "class Solution:\n",
    "    def relativeSortArray(self, arr1: List[int], arr2: List[int]) -> List[int]:\n",
    "        record=dict()\n",
    "        for idx, a in enumerate(arr2):\n",
    "            record[a]=idx\n",
    "        rest=[a for a in arr1 if a not in arr2]  ## --> the rest should be in ascending order!\n",
    "        to_sort=[(a, record[a]) for a in arr1 if a in arr2]\n",
    "        sort=sorted(to_sort, key=lambda x: x[1])\n",
    "        return [s[0] for s in sort]+rest"
   ]
  },
  {
   "cell_type": "markdown",
   "metadata": {},
   "source": [
    "## Attempt 2 - Accepted"
   ]
  },
  {
   "cell_type": "code",
   "execution_count": null,
   "metadata": {},
   "outputs": [],
   "source": [
    "class Solution:\n",
    "    def relativeSortArray(self, arr1: List[int], arr2: List[int]) -> List[int]:\n",
    "        record=dict()\n",
    "        for idx, a in enumerate(arr2):\n",
    "            record[a]=idx\n",
    "        rest=[a for a in arr1 if a not in arr2]\n",
    "        rest=sorted(rest)\n",
    "        to_sort=[(a, record[a]) for a in arr1 if a in arr2]\n",
    "        sort=sorted(to_sort, key=lambda x: x[1])\n",
    "        return [s[0] for s in sort]+rest"
   ]
  },
  {
   "cell_type": "markdown",
   "metadata": {},
   "source": [
    "## Lessons and Thoughts\n",
    "- It is almost brute force. But you should fully understand the problem before you proceed!"
   ]
  }
 ],
 "metadata": {
  "kernelspec": {
   "display_name": "Python 3",
   "language": "python",
   "name": "python3"
  },
  "language_info": {
   "codemirror_mode": {
    "name": "ipython",
    "version": 3
   },
   "file_extension": ".py",
   "mimetype": "text/x-python",
   "name": "python",
   "nbconvert_exporter": "python",
   "pygments_lexer": "ipython3",
   "version": "3.7.3"
  }
 },
 "nbformat": 4,
 "nbformat_minor": 2
}
