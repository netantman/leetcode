{
 "cells": [
  {
   "cell_type": "markdown",
   "metadata": {},
   "source": [
    "## Attempt 1 - Accepted"
   ]
  },
  {
   "cell_type": "code",
   "execution_count": null,
   "metadata": {},
   "outputs": [],
   "source": [
    "class Solution:\n",
    "    def transformArray(self, arr: List[int]) -> List[int]:\n",
    "        nexxt = [a for a in arr]\n",
    "        L = len(arr)\n",
    "        for idx in range(L):\n",
    "            if idx in {0, L - 1}:\n",
    "                continue\n",
    "            if arr[idx] > max(arr[idx - 1], arr[idx + 1]):\n",
    "                nexxt[idx] -= 1\n",
    "                continue\n",
    "            if arr[idx] < min(arr[idx - 1], arr[idx + 1]):\n",
    "                nexxt[idx] += 1\n",
    "                continue\n",
    "        \n",
    "        while arr != nexxt:\n",
    "            arr = nexxt\n",
    "            nexxt = [a for a in arr]\n",
    "            \n",
    "            for idx in range(L):\n",
    "                if idx in {0, L - 1}:\n",
    "                    continue\n",
    "                if arr[idx] > max(arr[idx - 1], arr[idx + 1]):\n",
    "                    nexxt[idx] -= 1\n",
    "                    continue\n",
    "                if arr[idx] < min(arr[idx - 1], arr[idx + 1]):\n",
    "                    nexxt[idx] += 1\n",
    "                    continue\n",
    "        \n",
    "        return arr"
   ]
  },
  {
   "cell_type": "markdown",
   "metadata": {},
   "source": [
    "## Lessons and Thoughts\n",
    "- Just simulate the process"
   ]
  }
 ],
 "metadata": {
  "kernelspec": {
   "display_name": "Python 3",
   "language": "python",
   "name": "python3"
  },
  "language_info": {
   "codemirror_mode": {
    "name": "ipython",
    "version": 3
   },
   "file_extension": ".py",
   "mimetype": "text/x-python",
   "name": "python",
   "nbconvert_exporter": "python",
   "pygments_lexer": "ipython3",
   "version": "3.7.3"
  }
 },
 "nbformat": 4,
 "nbformat_minor": 2
}
