{
 "cells": [
  {
   "cell_type": "markdown",
   "metadata": {},
   "source": [
    "## Attempt 1 - Accepted"
   ]
  },
  {
   "cell_type": "code",
   "execution_count": null,
   "metadata": {},
   "outputs": [],
   "source": [
    "class Solution:\n",
    "    def modifyString(self, s: str) -> str:\n",
    "        s = [c for c in s]\n",
    "        L = len(s)\n",
    "        alphabet = \"abcdefghijklmnopqrstuvwxyz\"\n",
    "        for idx, c in enumerate(s):\n",
    "            if c != \"?\":\n",
    "                continue\n",
    "            neighbors = set()\n",
    "            if idx - 1 >= 0:\n",
    "                neighbors.add(s[idx - 1])\n",
    "            if idx + 1 < L and s[idx + 1] != \"?\":\n",
    "                neighbors.add(s[idx + 1])\n",
    "            pos = 0\n",
    "            while pos < 26:\n",
    "                if alphabet[pos] not in neighbors:\n",
    "                    s[idx] = alphabet[pos]\n",
    "                    break\n",
    "                pos += 1\n",
    "        return \"\".join(s)"
   ]
  },
  {
   "cell_type": "markdown",
   "metadata": {},
   "source": [
    "## Lessons and Thoughts\n",
    "- Straightforward"
   ]
  }
 ],
 "metadata": {
  "kernelspec": {
   "display_name": "Python 3",
   "language": "python",
   "name": "python3"
  },
  "language_info": {
   "codemirror_mode": {
    "name": "ipython",
    "version": 3
   },
   "file_extension": ".py",
   "mimetype": "text/x-python",
   "name": "python",
   "nbconvert_exporter": "python",
   "pygments_lexer": "ipython3",
   "version": "3.7.3"
  }
 },
 "nbformat": 4,
 "nbformat_minor": 2
}
