{
 "cells": [
  {
   "cell_type": "markdown",
   "metadata": {},
   "source": [
    "## Attemp1 - Accepted"
   ]
  },
  {
   "cell_type": "code",
   "execution_count": null,
   "metadata": {},
   "outputs": [],
   "source": [
    "class Solution:\n",
    "    def merge(self, nums1: List[int], m: int, nums2: List[int], n: int) -> None:\n",
    "        \"\"\"\n",
    "        Do not return anything, modify nums1 in-place instead.\n",
    "        \"\"\"\n",
    "        if n<1:\n",
    "            return\n",
    "        if m<1:\n",
    "            for idx in range(n):\n",
    "                nums1[idx]=nums2[idx]\n",
    "            return\n",
    "        \n",
    "        m0,n0=m,n\n",
    "        if nums1[m-1]>nums2[n-1]:\n",
    "            idx1,idx2=0,0\n",
    "            L1=m\n",
    "            while idx2<n:\n",
    "                if nums1[idx1]<=nums2[idx2]:\n",
    "                    idx1+=1\n",
    "                else:\n",
    "                    nums1[idx1+1:L1+1]=nums1[idx1:L1]\n",
    "                    nums1[idx1]=nums2[idx2]\n",
    "                    L1+=1\n",
    "                    idx1+=1\n",
    "                    idx2+=1\n",
    "        else:\n",
    "            idx2=n-1\n",
    "            idx1=m+n-1\n",
    "            while idx2>=0 and nums2[idx2]>=nums1[m-1]:\n",
    "                nums1[idx1]=nums2[idx2]\n",
    "                idx1-=1\n",
    "                idx2-=1\n",
    "            \n",
    "            n=n-(n-1-idx2)\n",
    "            idx1, idx2=0, 0\n",
    "            L1=m\n",
    "            while idx2<n:\n",
    "                if nums1[idx1]<=nums2[idx2]:\n",
    "                    idx1+=1\n",
    "                else:\n",
    "                    nums1[idx1+1:L1+1]=nums1[idx1:L1]\n",
    "                    nums1[idx1]=nums2[idx2]\n",
    "                    L1+=1\n",
    "                    idx1+=1\n",
    "                    idx2+=1"
   ]
  },
  {
   "cell_type": "markdown",
   "metadata": {},
   "source": [
    "## Lessons and Thoughts\n",
    "- Given the amount of edge cases, it is actually not that easy.\n",
    "- Handy to try to turn a scenario into another that you have solved."
   ]
  }
 ],
 "metadata": {
  "kernelspec": {
   "display_name": "Python 3",
   "language": "python",
   "name": "python3"
  },
  "language_info": {
   "codemirror_mode": {
    "name": "ipython",
    "version": 3
   },
   "file_extension": ".py",
   "mimetype": "text/x-python",
   "name": "python",
   "nbconvert_exporter": "python",
   "pygments_lexer": "ipython3",
   "version": "3.7.3"
  }
 },
 "nbformat": 4,
 "nbformat_minor": 2
}
