{
 "cells": [
  {
   "cell_type": "markdown",
   "metadata": {},
   "source": [
    "## Attempt 1 - Accepted"
   ]
  },
  {
   "cell_type": "code",
   "execution_count": null,
   "metadata": {},
   "outputs": [],
   "source": [
    "class Solution:\n",
    "    def checkZeroOnes(self, s: str) -> bool:\n",
    "        max_ones, max_zeros = 0, 0\n",
    "        last_one, last_zero = None, None\n",
    "        for idx, c in enumerate(s):\n",
    "            if c == \"1\":\n",
    "                if last_one is None:\n",
    "                    last_one, last_zero = idx, None\n",
    "                    max_ones = max(max_ones, 1)\n",
    "                    continue\n",
    "                max_ones = max(max_ones, idx - last_one + 1)\n",
    "            else: # c == \"0\"\n",
    "                if last_zero is None:\n",
    "                    last_zero, last_one = idx, None\n",
    "                    max_zeros = max(max_zeros, 1)\n",
    "                    continue\n",
    "                max_zeros = max(max_zeros, idx - last_zero + 1)\n",
    "        return max_ones > max_zeros"
   ]
  },
  {
   "cell_type": "markdown",
   "metadata": {},
   "source": [
    "## Lessons and Thoughts\n",
    "- Straightforward - one edge case is when the contiguous array length is 1."
   ]
  }
 ],
 "metadata": {
  "kernelspec": {
   "display_name": "Python 3",
   "language": "python",
   "name": "python3"
  },
  "language_info": {
   "codemirror_mode": {
    "name": "ipython",
    "version": 3
   },
   "file_extension": ".py",
   "mimetype": "text/x-python",
   "name": "python",
   "nbconvert_exporter": "python",
   "pygments_lexer": "ipython3",
   "version": "3.7.3"
  }
 },
 "nbformat": 4,
 "nbformat_minor": 2
}
