{
 "cells": [
  {
   "cell_type": "markdown",
   "metadata": {},
   "source": [
    "## Attempt 1 - Accepted"
   ]
  },
  {
   "cell_type": "code",
   "execution_count": null,
   "metadata": {},
   "outputs": [],
   "source": [
    "class Solution:\n",
    "    def countStudents(self, students: List[int], sandwiches: List[int]) -> int:\n",
    "        while students:\n",
    "            if students[0] == sandwiches[0]:\n",
    "                sandwiches.pop(0)\n",
    "                students.pop(0)\n",
    "                continue\n",
    "            if len(set(students)) < 2 and students[0] != sandwiches[0]:\n",
    "                return len(students)\n",
    "            while students[0] != sandwiches[0]:\n",
    "                curr = students.pop(0)\n",
    "                students.append(curr)\n",
    "            students.pop(0)\n",
    "            sandwiches.pop(0)\n",
    "        return 0"
   ]
  },
  {
   "cell_type": "markdown",
   "metadata": {},
   "source": [
    "## Lessons and Thoughts\n",
    "- Brute force."
   ]
  }
 ],
 "metadata": {
  "kernelspec": {
   "display_name": "Python 3",
   "language": "python",
   "name": "python3"
  },
  "language_info": {
   "codemirror_mode": {
    "name": "ipython",
    "version": 3
   },
   "file_extension": ".py",
   "mimetype": "text/x-python",
   "name": "python",
   "nbconvert_exporter": "python",
   "pygments_lexer": "ipython3",
   "version": "3.7.3"
  }
 },
 "nbformat": 4,
 "nbformat_minor": 2
}
