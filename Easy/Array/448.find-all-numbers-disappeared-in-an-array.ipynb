{
 "cells": [
  {
   "cell_type": "markdown",
   "metadata": {},
   "source": [
    "## Attempt 1 - Accepted"
   ]
  },
  {
   "cell_type": "code",
   "execution_count": null,
   "metadata": {},
   "outputs": [],
   "source": [
    "class Solution:\n",
    "    def findDisappearedNumbers(self, nums: List[int]) -> List[int]:\n",
    "        L=len(nums)\n",
    "        for idx in range(L):\n",
    "            if nums[abs(nums[idx])-1]>0:\n",
    "                nums[abs(nums[idx])-1]=-nums[abs(nums[idx])-1]\n",
    "        \n",
    "        res=[]\n",
    "        for idx in range(L):\n",
    "            if nums[idx]>0:\n",
    "                res.append(idx+1) \n",
    "        \n",
    "        return res"
   ]
  },
  {
   "cell_type": "markdown",
   "metadata": {},
   "source": [
    "## Lessons and Thoughts\n",
    "- The algo is from [here](https://www.geeksforgeeks.org/find-a-repeating-and-a-missing-number/). The idea is similar to Problem 287, where duplicate number as index will lead to the same element in the array."
   ]
  }
 ],
 "metadata": {
  "kernelspec": {
   "display_name": "Python 3",
   "language": "python",
   "name": "python3"
  },
  "language_info": {
   "codemirror_mode": {
    "name": "ipython",
    "version": 3
   },
   "file_extension": ".py",
   "mimetype": "text/x-python",
   "name": "python",
   "nbconvert_exporter": "python",
   "pygments_lexer": "ipython3",
   "version": "3.7.3"
  }
 },
 "nbformat": 4,
 "nbformat_minor": 2
}
