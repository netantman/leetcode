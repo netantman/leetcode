{
 "cells": [
  {
   "cell_type": "markdown",
   "metadata": {},
   "source": [
    "## Attempt 1 - Wrong Answer"
   ]
  },
  {
   "cell_type": "code",
   "execution_count": null,
   "metadata": {},
   "outputs": [],
   "source": [
    "class Solution:\n",
    "    def findShortestSubArray(self, nums: List[int]) -> int:\n",
    "        N=max(nums)\n",
    "        record=[0 for _ in range(N+1)]\n",
    "        L=len(nums)\n",
    "        for n in nums:\n",
    "            record[n]+=1\n",
    "        M=max(record)\n",
    "        left,right=-1,L\n",
    "        while left<=right:\n",
    "            new=[r for r in record]\n",
    "            new[nums[left+1]]-=1\n",
    "            if max(new)==M:\n",
    "                left+=1\n",
    "            else:\n",
    "                break\n",
    "            record=new\n",
    "        while right>=left:\n",
    "            new=[r for r in record]\n",
    "            new[nums[right-1]]-=1\n",
    "            if max(new)==M:\n",
    "                right-=1\n",
    "            else:\n",
    "                break\n",
    "            record=new\n",
    "        return right-left-1"
   ]
  },
  {
   "cell_type": "markdown",
   "metadata": {},
   "source": [
    "## Attempt 2 - Accepted"
   ]
  },
  {
   "cell_type": "code",
   "execution_count": null,
   "metadata": {},
   "outputs": [],
   "source": [
    "class Solution:\n",
    "    def findShortestSubArray(self, nums: List[int]) -> int:\n",
    "        N=max(nums)\n",
    "        record=[0 for _ in range(N+1)]\n",
    "        L=len(nums)\n",
    "        for n in nums:\n",
    "            record[n]+=1\n",
    "        M=max(record)\n",
    "        cache=dict()\n",
    "        for n, r in enumerate(record):\n",
    "            if r==M:\n",
    "                cache[n]=[L-1,0]\n",
    "        \n",
    "        for idx, n in enumerate(nums):\n",
    "            if n in cache:\n",
    "                cache[n][0]=min(cache[n][0], idx)\n",
    "        for idx, n in enumerate(nums[::-1]):\n",
    "            if n in cache:\n",
    "                cache[n][1]=max(cache[n][1], L-1-idx)\n",
    "        res=L\n",
    "        for rang in cache.values():\n",
    "            res=min(res, rang[1]-rang[0]+1)\n",
    "        return res"
   ]
  },
  {
   "cell_type": "markdown",
   "metadata": {},
   "source": [
    "## Lessons and Thoughts\n",
    "- The two pointer approach in Attempt 1 does not handle very well the different cases where the mode of array locate. We need to account for all such modes."
   ]
  }
 ],
 "metadata": {
  "kernelspec": {
   "display_name": "Python 3",
   "language": "python",
   "name": "python3"
  },
  "language_info": {
   "codemirror_mode": {
    "name": "ipython",
    "version": 3
   },
   "file_extension": ".py",
   "mimetype": "text/x-python",
   "name": "python",
   "nbconvert_exporter": "python",
   "pygments_lexer": "ipython3",
   "version": "3.7.3"
  }
 },
 "nbformat": 4,
 "nbformat_minor": 2
}
