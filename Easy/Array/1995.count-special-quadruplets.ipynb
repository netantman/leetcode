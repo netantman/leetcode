{
 "cells": [
  {
   "cell_type": "markdown",
   "metadata": {},
   "source": [
    "## Attempt 1 - Wrong Answer"
   ]
  },
  {
   "cell_type": "code",
   "execution_count": null,
   "metadata": {},
   "outputs": [],
   "source": [
    "class Solution:\n",
    "    def countQuadruplets(self, nums: List[int]) -> int:\n",
    "        nums = sorted(nums) ## --> you cannot sort\n",
    "        target = dict()\n",
    "        for n in nums:\n",
    "            target[n] = target.get(n, 0) + 1\n",
    "        res = 0\n",
    "        L = len(nums)\n",
    "        for i in range(L):\n",
    "            for j in range(i + 1, L):\n",
    "                for k in range(j + 1, L):\n",
    "                    a, b, c = nums[i], nums[j], nums[k]\n",
    "                    if a + b + c in target:\n",
    "                        res += target[a + b + c]\n",
    "        return res"
   ]
  },
  {
   "cell_type": "markdown",
   "metadata": {},
   "source": [
    "## Attempt 2 - Accepted"
   ]
  },
  {
   "cell_type": "code",
   "execution_count": null,
   "metadata": {},
   "outputs": [],
   "source": [
    "class Solution:\n",
    "    def countQuadruplets(self, nums: List[int]) -> int:\n",
    "            \n",
    "        res = 0\n",
    "        L = len(nums)\n",
    "        for a in range(L):\n",
    "            for b in range(a + 1, L):\n",
    "                for c in range(b + 1, L):\n",
    "                    for d in range(c + 1, L):\n",
    "                        res += 1 if nums[a] + nums[b] + nums[c] == nums[d] else 0\n",
    "        return res"
   ]
  },
  {
   "cell_type": "markdown",
   "metadata": {},
   "source": [
    "## Lessons and Thoughts\n",
    "- Just brute force"
   ]
  }
 ],
 "metadata": {
  "kernelspec": {
   "display_name": "Python 3",
   "language": "python",
   "name": "python3"
  },
  "language_info": {
   "codemirror_mode": {
    "name": "ipython",
    "version": 3
   },
   "file_extension": ".py",
   "mimetype": "text/x-python",
   "name": "python",
   "nbconvert_exporter": "python",
   "pygments_lexer": "ipython3",
   "version": "3.7.3"
  }
 },
 "nbformat": 4,
 "nbformat_minor": 2
}
