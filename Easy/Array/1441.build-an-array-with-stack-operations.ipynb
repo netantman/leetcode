{
 "cells": [
  {
   "cell_type": "markdown",
   "metadata": {},
   "source": [
    "## Attempt 1 - Accepted"
   ]
  },
  {
   "cell_type": "code",
   "execution_count": null,
   "metadata": {},
   "outputs": [],
   "source": [
    "class Solution:\n",
    "    def buildArray(self, target: List[int], n: int) -> List[str]:\n",
    "        idx = 0\n",
    "        res = []\n",
    "        L = len(target)\n",
    "        for k in range(1, n+1):\n",
    "            if idx == L:\n",
    "                return res\n",
    "            \n",
    "            if k == target[idx]:\n",
    "                res.append(\"Push\")\n",
    "                idx += 1\n",
    "            else:\n",
    "                res.append(\"Push\")\n",
    "                res.append(\"Pop\")\n",
    "        return res"
   ]
  },
  {
   "cell_type": "markdown",
   "metadata": {},
   "source": [
    "## Lessons and Thoughts\n",
    "- Essentially just checking `target` one by one. No need to use stacks."
   ]
  }
 ],
 "metadata": {
  "kernelspec": {
   "display_name": "Python 3",
   "language": "python",
   "name": "python3"
  },
  "language_info": {
   "codemirror_mode": {
    "name": "ipython",
    "version": 3
   },
   "file_extension": ".py",
   "mimetype": "text/x-python",
   "name": "python",
   "nbconvert_exporter": "python",
   "pygments_lexer": "ipython3",
   "version": "3.7.3"
  }
 },
 "nbformat": 4,
 "nbformat_minor": 2
}
