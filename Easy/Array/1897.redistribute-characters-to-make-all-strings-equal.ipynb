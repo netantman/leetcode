{
 "cells": [
  {
   "cell_type": "markdown",
   "metadata": {},
   "source": [
    "## Attempt 1 - Wrong Answer"
   ]
  },
  {
   "cell_type": "code",
   "execution_count": null,
   "metadata": {},
   "outputs": [],
   "source": [
    "class Solution:\n",
    "    def makeEqual(self, words: List[str]) -> bool:\n",
    "        record = dict() ## --> did not check the edge case where words only have one element\n",
    "        for w in words:\n",
    "            for c in w:\n",
    "                record[c] = record.get(c, 0) + 1\n",
    "        \n",
    "        vals = list(set(record.values()))\n",
    "        return len(vals) == 1 and vals[0] == len(words) ## --> not all letters only appear once"
   ]
  },
  {
   "cell_type": "markdown",
   "metadata": {},
   "source": [
    "## Attempt 2 - Accepted"
   ]
  },
  {
   "cell_type": "code",
   "execution_count": null,
   "metadata": {},
   "outputs": [],
   "source": [
    "class Solution:\n",
    "    def makeEqual(self, words: List[str]) -> bool:\n",
    "        L = len(words)\n",
    "        if len(words) == 1:\n",
    "            return True\n",
    "        record = dict()\n",
    "        for w in words:\n",
    "            for c in w:\n",
    "                record[c] = record.get(c, 0) + 1  \n",
    "        \n",
    "        vals = [v % L for v in record.values()]\n",
    "        return sum(vals) < 1"
   ]
  },
  {
   "cell_type": "markdown",
   "metadata": {},
   "source": [
    "## Lessons and Thoughts\n",
    "- Being too relaxed about edge cases..."
   ]
  }
 ],
 "metadata": {
  "kernelspec": {
   "display_name": "Python 3",
   "language": "python",
   "name": "python3"
  },
  "language_info": {
   "codemirror_mode": {
    "name": "ipython",
    "version": 3
   },
   "file_extension": ".py",
   "mimetype": "text/x-python",
   "name": "python",
   "nbconvert_exporter": "python",
   "pygments_lexer": "ipython3",
   "version": "3.7.3"
  }
 },
 "nbformat": 4,
 "nbformat_minor": 2
}
