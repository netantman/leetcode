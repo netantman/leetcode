{
 "cells": [
  {
   "cell_type": "markdown",
   "metadata": {},
   "source": [
    "## Attempt 1 - Wrong Answer"
   ]
  },
  {
   "cell_type": "markdown",
   "metadata": {},
   "source": [
    "Did not handle the case where the bulk of zeros are at the side."
   ]
  },
  {
   "cell_type": "code",
   "execution_count": null,
   "metadata": {},
   "outputs": [],
   "source": [
    "class Solution:\n",
    "    def canPlaceFlowers(self, flowerbed: List[int], n: int) -> bool:\n",
    "        if n==0:\n",
    "            return True\n",
    "        zeros=0\n",
    "        flowers=0\n",
    "        L=len(flowerbed)\n",
    "        for idx in range(L):\n",
    "            if flowerbed[idx]>0:\n",
    "                flowers+=max(0, (zeros-1)//2)\n",
    "                zeros=0\n",
    "            else:\n",
    "                zeros+=1\n",
    "        return flowers>=n"
   ]
  },
  {
   "cell_type": "markdown",
   "metadata": {},
   "source": [
    "## Attempt 2 - Wrong Answer"
   ]
  },
  {
   "cell_type": "code",
   "execution_count": null,
   "metadata": {},
   "outputs": [],
   "source": [
    "class Solution:\n",
    "    def canPlaceFlowers(self, flowerbed: List[int], n: int) -> bool:\n",
    "        if n==0:\n",
    "            return True\n",
    "        flowers=0\n",
    "        L=len(flowerbed)\n",
    "        left,right=0,1\n",
    "        while right<L: ## --> there may be cases where the while loop is not entered\n",
    "            if flowerbed[left]==0:\n",
    "                while right<L and flowerbed[right]==0:\n",
    "                    right+=1\n",
    "                bulk=right-left\n",
    "                if left==0:\n",
    "                    if right<L:\n",
    "                        flowers+=(right-left)//2\n",
    "                    else:\n",
    "                        flowers+=(right-left+1)//2\n",
    "                else:\n",
    "                    if right<L:\n",
    "                        flowers+=max(0, (right-left-1)//2)\n",
    "                    else:\n",
    "                        flowers+=(right-left)//2\n",
    "                left, right=right, right+1\n",
    "            else:\n",
    "                left+=1\n",
    "                if right==left:\n",
    "                    right+=1\n",
    "        return flowers>=n\n",
    "                "
   ]
  },
  {
   "cell_type": "markdown",
   "metadata": {},
   "source": [
    "## Lessons and Thoughts\n",
    "Edge case: \n",
    "- when the bulk of zeros are at the side;\n",
    "- when there is no bulk of zeros\n",
    "- when there is only bulk of zeros\n",
    "- when the length of `flowerbed` is 1."
   ]
  }
 ],
 "metadata": {
  "kernelspec": {
   "display_name": "Python 3",
   "language": "python",
   "name": "python3"
  },
  "language_info": {
   "codemirror_mode": {
    "name": "ipython",
    "version": 3
   },
   "file_extension": ".py",
   "mimetype": "text/x-python",
   "name": "python",
   "nbconvert_exporter": "python",
   "pygments_lexer": "ipython3",
   "version": "3.7.3"
  }
 },
 "nbformat": 4,
 "nbformat_minor": 2
}
