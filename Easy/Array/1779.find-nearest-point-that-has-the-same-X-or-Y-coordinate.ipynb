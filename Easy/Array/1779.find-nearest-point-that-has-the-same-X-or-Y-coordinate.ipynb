{
 "cells": [
  {
   "cell_type": "markdown",
   "metadata": {},
   "source": [
    "## Attempt 1 - Accepted"
   ]
  },
  {
   "cell_type": "code",
   "execution_count": null,
   "metadata": {},
   "outputs": [],
   "source": [
    "class Solution:\n",
    "    def nearestValidPoint(self, x: int, y: int, points: List[List[int]]) -> int:\n",
    "        dist = float('inf')\n",
    "        res = -1\n",
    "        for idx, p in enumerate(points):\n",
    "            if p[0] != x and p[1] != y:\n",
    "                continue\n",
    "            if abs(p[0] - x) + abs(p[1] - y) < dist:\n",
    "                res = idx\n",
    "                dist = abs(p[0] - x) + abs(p[1] - y)\n",
    "        \n",
    "        return res"
   ]
  },
  {
   "cell_type": "markdown",
   "metadata": {},
   "source": [
    "## Lessons and Thoughts\n",
    "- Brute force"
   ]
  }
 ],
 "metadata": {
  "kernelspec": {
   "display_name": "Python 3",
   "language": "python",
   "name": "python3"
  },
  "language_info": {
   "codemirror_mode": {
    "name": "ipython",
    "version": 3
   },
   "file_extension": ".py",
   "mimetype": "text/x-python",
   "name": "python",
   "nbconvert_exporter": "python",
   "pygments_lexer": "ipython3",
   "version": "3.7.3"
  }
 },
 "nbformat": 4,
 "nbformat_minor": 2
}
