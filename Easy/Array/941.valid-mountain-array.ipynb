{
 "cells": [
  {
   "cell_type": "markdown",
   "metadata": {},
   "source": [
    "## Attempt 1 - Accepted"
   ]
  },
  {
   "cell_type": "code",
   "execution_count": null,
   "metadata": {},
   "outputs": [],
   "source": [
    "class Solution:\n",
    "    def validMountainArray(self, A: List[int]) -> bool:\n",
    "        L=len(A)\n",
    "        if L<=2:\n",
    "            return False\n",
    "        left=0\n",
    "        while left+1<L:\n",
    "            if A[left]<A[left+1]:\n",
    "                left+=1\n",
    "            else:\n",
    "                break\n",
    "        else:\n",
    "            return False\n",
    "        right=L-1\n",
    "        while right-1>=0:\n",
    "            if A[right]<A[right-1]:\n",
    "                right-=1\n",
    "            else:\n",
    "                break\n",
    "        else:\n",
    "            return False\n",
    "        return left==right"
   ]
  },
  {
   "cell_type": "markdown",
   "metadata": {},
   "source": [
    "## Lessons and Thoughts\n",
    "- As other mountain problems, edge cases include length less than 3, and not strictly monotonic."
   ]
  }
 ],
 "metadata": {
  "kernelspec": {
   "display_name": "Python 3",
   "language": "python",
   "name": "python3"
  },
  "language_info": {
   "codemirror_mode": {
    "name": "ipython",
    "version": 3
   },
   "file_extension": ".py",
   "mimetype": "text/x-python",
   "name": "python",
   "nbconvert_exporter": "python",
   "pygments_lexer": "ipython3",
   "version": "3.7.3"
  }
 },
 "nbformat": 4,
 "nbformat_minor": 2
}
