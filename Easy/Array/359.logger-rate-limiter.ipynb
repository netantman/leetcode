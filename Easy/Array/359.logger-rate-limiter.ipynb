{
 "cells": [
  {
   "cell_type": "markdown",
   "metadata": {},
   "source": [
    "## Attempt 1 - Accepted"
   ]
  },
  {
   "cell_type": "code",
   "execution_count": null,
   "metadata": {},
   "outputs": [],
   "source": [
    "class Logger:\n",
    "\n",
    "    def __init__(self):\n",
    "        self.times = []\n",
    "        self.messages = []\n",
    "\n",
    "    def shouldPrintMessage(self, timestamp: int, message: str) -> bool:\n",
    "        if len(self.times) < 1:\n",
    "            self.times.append(timestamp)\n",
    "            self.messages.append(message)\n",
    "            return True\n",
    "        \n",
    "        while self.times and self.times[0] <= timestamp - 10:\n",
    "            self.times.pop(0)\n",
    "            self.messages.pop(0)\n",
    "        res = message not in self.messages\n",
    "        if res:\n",
    "            self.times.append(timestamp)\n",
    "            self.messages.append(message)\n",
    "        return res\n",
    "\n",
    "\n",
    "# Your Logger object will be instantiated and called as such:\n",
    "# obj = Logger()\n",
    "# param_1 = obj.shouldPrintMessage(timestamp,message)"
   ]
  },
  {
   "cell_type": "markdown",
   "metadata": {},
   "source": [
    "## Lessons and Thoughts\n",
    "- Any messages that are not printed do not affect subsequent messages."
   ]
  }
 ],
 "metadata": {
  "kernelspec": {
   "display_name": "Python 3",
   "language": "python",
   "name": "python3"
  },
  "language_info": {
   "codemirror_mode": {
    "name": "ipython",
    "version": 3
   },
   "file_extension": ".py",
   "mimetype": "text/x-python",
   "name": "python",
   "nbconvert_exporter": "python",
   "pygments_lexer": "ipython3",
   "version": "3.7.3"
  }
 },
 "nbformat": 4,
 "nbformat_minor": 2
}
