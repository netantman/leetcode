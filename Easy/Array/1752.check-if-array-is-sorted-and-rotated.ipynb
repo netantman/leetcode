{
 "cells": [
  {
   "cell_type": "markdown",
   "metadata": {},
   "source": [
    "## Attempt 1 - Accepted"
   ]
  },
  {
   "cell_type": "code",
   "execution_count": null,
   "metadata": {},
   "outputs": [],
   "source": [
    "class Solution:\n",
    "    def check(self, nums: List[int]) -> bool:\n",
    "        if len(set(nums)) < 2:\n",
    "            return True\n",
    "        if nums == sorted(nums):\n",
    "            return True\n",
    "        \n",
    "        L = len(nums)\n",
    "        for idx in range(L - 1):\n",
    "            if nums[idx] > nums[idx + 1]:\n",
    "                break\n",
    "        \n",
    "        return sorted(nums) == nums[idx + 1:] + nums[:idx + 1]"
   ]
  },
  {
   "cell_type": "markdown",
   "metadata": {},
   "source": [
    "## Lessons and Thoughts\n",
    "- Straightforward - only edge case to consider is perhaps when all elements are the same."
   ]
  }
 ],
 "metadata": {
  "kernelspec": {
   "display_name": "Python 3",
   "language": "python",
   "name": "python3"
  },
  "language_info": {
   "codemirror_mode": {
    "name": "ipython",
    "version": 3
   },
   "file_extension": ".py",
   "mimetype": "text/x-python",
   "name": "python",
   "nbconvert_exporter": "python",
   "pygments_lexer": "ipython3",
   "version": "3.7.3"
  }
 },
 "nbformat": 4,
 "nbformat_minor": 2
}
