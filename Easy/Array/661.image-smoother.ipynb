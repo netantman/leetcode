{
 "cells": [
  {
   "cell_type": "markdown",
   "metadata": {},
   "source": [
    "## Attempt 1 - Accepted"
   ]
  },
  {
   "cell_type": "code",
   "execution_count": null,
   "metadata": {},
   "outputs": [],
   "source": [
    "class Solution(object):\n",
    "    def imageSmoother(self, M):\n",
    "        R, C = len(M), len(M[0])\n",
    "        ans = [[0] * C for _ in M]\n",
    "\n",
    "        for r in range(R):\n",
    "            for c in range(C):\n",
    "                count = 0\n",
    "                for nr in (r-1, r, r+1):\n",
    "                    for nc in (c-1, c, c+1):\n",
    "                        if 0 <= nr < R and 0 <= nc < C:\n",
    "                            ans[r][c] += M[nr][nc]\n",
    "                            count += 1\n",
    "                ans[r][c] = ans[r][c]//count\n",
    "\n",
    "        return ans"
   ]
  },
  {
   "cell_type": "markdown",
   "metadata": {},
   "source": [
    "## Lessons and Thoughts\n",
    "- Though this algo is from the leetcode app, the idea is just to collect all its neighbors. The way it check boundary condition is interesting though."
   ]
  }
 ],
 "metadata": {
  "kernelspec": {
   "display_name": "Python 3",
   "language": "python",
   "name": "python3"
  },
  "language_info": {
   "codemirror_mode": {
    "name": "ipython",
    "version": 3
   },
   "file_extension": ".py",
   "mimetype": "text/x-python",
   "name": "python",
   "nbconvert_exporter": "python",
   "pygments_lexer": "ipython3",
   "version": "3.7.3"
  }
 },
 "nbformat": 4,
 "nbformat_minor": 2
}
