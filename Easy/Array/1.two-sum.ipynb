{
 "cells": [
  {
   "cell_type": "markdown",
   "metadata": {},
   "source": [
    "## Attempt 1 - Accepted"
   ]
  },
  {
   "cell_type": "code",
   "execution_count": null,
   "metadata": {},
   "outputs": [],
   "source": [
    "class Solution:\n",
    "    def twoSum(self, nums: List[int], target: int) -> List[int]:\n",
    "        cache = dict()\n",
    "        for idx in range(len(nums)):\n",
    "            if target-nums[idx] in cache:\n",
    "                return [cache[target-nums[idx]], idx]\n",
    "            elif nums[idx] not in cache:\n",
    "                cache[nums[idx]] = idx"
   ]
  },
  {
   "cell_type": "markdown",
   "metadata": {},
   "source": [
    "## Attempt 1 - Accepted"
   ]
  },
  {
   "cell_type": "code",
   "execution_count": null,
   "metadata": {},
   "outputs": [],
   "source": [
    "class Solution {\n",
    "public:\n",
    "    vector<int> twoSum(vector<int>& nums, int target) {\n",
    "        std::map<int, int> m {};\n",
    "        std::vector<int> res = {};\n",
    "        for(unsigned idx=0; idx < nums.size(); ++idx) { ## Note that it is ; in between\n",
    "            int n = nums[idx];\n",
    "            // std::cout << n << \"\\n\";\n",
    "            int to_find = target - n;\n",
    "            auto search = m.find(to_find); ## The way to see if map contains something\n",
    "            if (search != m.end()) {\n",
    "                // std::cout << \"Found\";\n",
    "                res.push_back(search->second);\n",
    "                res.push_back(idx);\n",
    "                break;\n",
    "            }\n",
    "            m[n] = idx;\n",
    "            // std::cout << m[idx] << \"\\n\";\n",
    "        }\n",
    "        return res;\n",
    "    }\n",
    "};"
   ]
  },
  {
   "cell_type": "markdown",
   "metadata": {},
   "source": [
    "## Attempt 2 - Accepted"
   ]
  },
  {
   "cell_type": "code",
   "execution_count": null,
   "metadata": {},
   "outputs": [],
   "source": [
    "class Solution {\n",
    "public:\n",
    "    vector<int> twoSum(vector<int>& nums, int target) {\n",
    "        std::map<int, int> m {};\n",
    "        std::vector<int> res = {};\n",
    "        for(unsigned idx=nums.size() - 1; idx >= 0; --idx) { ## practising reverse access\n",
    "            int n = nums[idx];\n",
    "            // std::cout << n << \"\\n\";\n",
    "            int to_find = target - n;\n",
    "            auto search = m.find(to_find);\n",
    "            if (search != m.end()) {\n",
    "                // std::cout << \"Found\";\n",
    "                res.push_back(idx);\n",
    "                res.push_back(search->second);\n",
    "                break;\n",
    "            }\n",
    "            m[n] = idx;\n",
    "            // std::cout << m[idx] << \"\\n\";\n",
    "        }\n",
    "        return res;\n",
    "    }\n",
    "};"
   ]
  },
  {
   "cell_type": "markdown",
   "metadata": {},
   "source": [
    "## Lessons and Thoughts\n",
    "\n",
    "- Be careful for small typos: `nums` -> `num`\n",
    "- Not sure how to reduce the memory footprint"
   ]
  }
 ],
 "metadata": {
  "kernelspec": {
   "display_name": "Python 3",
   "language": "python",
   "name": "python3"
  },
  "language_info": {
   "codemirror_mode": {
    "name": "ipython",
    "version": 3
   },
   "file_extension": ".py",
   "mimetype": "text/x-python",
   "name": "python",
   "nbconvert_exporter": "python",
   "pygments_lexer": "ipython3",
   "version": "3.7.3"
  }
 },
 "nbformat": 4,
 "nbformat_minor": 2
}
