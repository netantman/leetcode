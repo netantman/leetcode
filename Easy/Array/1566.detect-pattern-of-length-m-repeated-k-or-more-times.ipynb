{
 "cells": [
  {
   "cell_type": "markdown",
   "metadata": {},
   "source": [
    "## Attempt 1 - Accepted"
   ]
  },
  {
   "cell_type": "code",
   "execution_count": null,
   "metadata": {},
   "outputs": [],
   "source": [
    "class Solution:\n",
    "    def containsPattern(self, arr: List[int], m: int, k: int) -> bool:\n",
    "        idx = 0\n",
    "        L = len(arr)\n",
    "        while idx + m * k <= L:\n",
    "            if arr[idx: idx + m * k] == arr[idx: idx + m] * k:\n",
    "                return True\n",
    "            idx += 1\n",
    "        return False"
   ]
  },
  {
   "cell_type": "markdown",
   "metadata": {},
   "source": [
    "## Attempt 1 - Accepted"
   ]
  },
  {
   "cell_type": "code",
   "execution_count": null,
   "metadata": {},
   "outputs": [],
   "source": [
    "class Solution {\n",
    "public:\n",
    "    bool containsPattern(vector<int>& arr, int m, int k) {\n",
    "        int L = arr.size();\n",
    "        for (int idx = 0; idx < L; idx++) {\n",
    "            if (idx + m * k > L) {\n",
    "                break;\n",
    "            }\n",
    "            ## the way to slice and dice a vector, and copy\n",
    "            std::vector<int> sub(m);\n",
    "            std::copy(arr.begin() + idx, arr.begin() + idx + m, sub.begin());\n",
    "            std::vector<int> source(k * m);\n",
    "            std::copy(arr.begin() + idx, arr.begin() + idx + m * k, source.begin());\n",
    "            std::vector<int> check {};\n",
    "            for (int j = 0; j < k; j++) {\n",
    "                ## concating two vectors is more troublesome than in python; for strings is easier and closer to python\n",
    "                check.insert(check.end(), sub.begin(), sub.end());\n",
    "            }\n",
    "            if (check == source) {\n",
    "                return true;\n",
    "            }\n",
    "        }\n",
    "        return false;\n",
    "    }\n",
    "};"
   ]
  },
  {
   "cell_type": "markdown",
   "metadata": {},
   "source": [
    "## Lessons and Thoughts\n",
    "- Straightforward"
   ]
  }
 ],
 "metadata": {
  "kernelspec": {
   "display_name": "Python 3",
   "language": "python",
   "name": "python3"
  },
  "language_info": {
   "codemirror_mode": {
    "name": "ipython",
    "version": 3
   },
   "file_extension": ".py",
   "mimetype": "text/x-python",
   "name": "python",
   "nbconvert_exporter": "python",
   "pygments_lexer": "ipython3",
   "version": "3.7.3"
  }
 },
 "nbformat": 4,
 "nbformat_minor": 2
}
