{
 "cells": [
  {
   "cell_type": "markdown",
   "metadata": {},
   "source": [
    "## Attempt 1 - Accepted"
   ]
  },
  {
   "cell_type": "code",
   "execution_count": null,
   "metadata": {},
   "outputs": [],
   "source": [
    "class Solution:\n",
    "    def findRelativeRanks(self, nums: List[int]) -> List[str]:\n",
    "        if len(nums)<1:\n",
    "            return []\n",
    "        if len(nums)==1:\n",
    "            return [\"Gold Medal\"]\n",
    "        \n",
    "        work=list(enumerate(nums))\n",
    "        work=sorted(work, key=lambda x:x[1], reverse=True)\n",
    "        res=[None for _ in work]\n",
    "        for idx in range(len(work)):\n",
    "            rank=str(idx+1)\n",
    "            if rank==\"1\":\n",
    "                rank=\"Gold Medal\"\n",
    "            elif rank==\"2\":\n",
    "                rank=\"Silver Medal\"\n",
    "            elif rank==\"3\":\n",
    "                rank=\"Bronze Medal\"\n",
    "            w=work[idx]\n",
    "            res[w[0]]=rank\n",
    "        return res"
   ]
  },
  {
   "cell_type": "markdown",
   "metadata": {},
   "source": [
    "## Lessons and Thoughts\n",
    "- Straightforward: just the usual checks of empty or list of one element."
   ]
  }
 ],
 "metadata": {
  "kernelspec": {
   "display_name": "Python 3",
   "language": "python",
   "name": "python3"
  },
  "language_info": {
   "codemirror_mode": {
    "name": "ipython",
    "version": 3
   },
   "file_extension": ".py",
   "mimetype": "text/x-python",
   "name": "python",
   "nbconvert_exporter": "python",
   "pygments_lexer": "ipython3",
   "version": "3.7.3"
  }
 },
 "nbformat": 4,
 "nbformat_minor": 2
}
