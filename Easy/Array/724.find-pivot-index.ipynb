{
 "cells": [
  {
   "cell_type": "markdown",
   "metadata": {},
   "source": [
    "## Attempt 1 - Accepted"
   ]
  },
  {
   "cell_type": "code",
   "execution_count": null,
   "metadata": {},
   "outputs": [],
   "source": [
    "class Solution:\n",
    "    def pivotIndex(self, nums: List[int]) -> int:\n",
    "        L=len(nums)\n",
    "        if L==1:\n",
    "            return 0\n",
    "        S=sum(nums)\n",
    "        res=0\n",
    "        ss=0\n",
    "        while res<L:\n",
    "            if ss+ss+nums[res]==S:\n",
    "                return res\n",
    "            ss+=nums[res]\n",
    "            res+=1\n",
    "        return -1"
   ]
  },
  {
   "cell_type": "markdown",
   "metadata": {},
   "source": [
    "## Lessons and Thoughts\n",
    "- Just need to be careful about the case where the rest of array sum to `0`, so that the result is `0`."
   ]
  }
 ],
 "metadata": {
  "kernelspec": {
   "display_name": "Python 3",
   "language": "python",
   "name": "python3"
  },
  "language_info": {
   "codemirror_mode": {
    "name": "ipython",
    "version": 3
   },
   "file_extension": ".py",
   "mimetype": "text/x-python",
   "name": "python",
   "nbconvert_exporter": "python",
   "pygments_lexer": "ipython3",
   "version": "3.7.3"
  }
 },
 "nbformat": 4,
 "nbformat_minor": 2
}
