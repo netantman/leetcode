{
 "cells": [
  {
   "cell_type": "markdown",
   "metadata": {},
   "source": [
    "## Attempt 1 - Accepted"
   ]
  },
  {
   "cell_type": "code",
   "execution_count": null,
   "metadata": {},
   "outputs": [],
   "source": [
    "class Solution:\n",
    "    def shiftGrid(self, grid: List[List[int]], k: int) -> List[List[int]]:\n",
    "        m,n=len(grid),len(grid[0])\n",
    "        L=m*n\n",
    "        k=k%L\n",
    "        if k==0:\n",
    "            return grid\n",
    "        \n",
    "        tmp=[]\n",
    "        for g in grid:\n",
    "            tmp+=g\n",
    "        tmp=[t for t in tmp]\n",
    "        tmp=tmp[-k:]+tmp[:-k]\n",
    "        res=[]\n",
    "        for r in range(m):\n",
    "            res.append(tmp[r*n:(r+1)*n])\n",
    "        return res"
   ]
  },
  {
   "cell_type": "markdown",
   "metadata": {},
   "source": [
    "## Lessons and Thoughts\n",
    "- Relatively straightforward with `python`"
   ]
  }
 ],
 "metadata": {
  "kernelspec": {
   "display_name": "Python 3",
   "language": "python",
   "name": "python3"
  },
  "language_info": {
   "codemirror_mode": {
    "name": "ipython",
    "version": 3
   },
   "file_extension": ".py",
   "mimetype": "text/x-python",
   "name": "python",
   "nbconvert_exporter": "python",
   "pygments_lexer": "ipython3",
   "version": "3.7.3"
  }
 },
 "nbformat": 4,
 "nbformat_minor": 2
}
