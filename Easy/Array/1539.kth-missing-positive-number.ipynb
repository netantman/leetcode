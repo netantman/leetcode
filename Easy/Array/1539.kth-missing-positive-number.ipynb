{
 "cells": [
  {
   "cell_type": "markdown",
   "metadata": {},
   "source": [
    "## Attempt 1 - Accepted"
   ]
  },
  {
   "cell_type": "code",
   "execution_count": null,
   "metadata": {},
   "outputs": [],
   "source": [
    "class Solution:\n",
    "    def findKthPositive(self, arr: List[int], k: int) -> int:\n",
    "        idx = 0\n",
    "        cnt = 0\n",
    "        i = 1\n",
    "        L = len(arr)\n",
    "        while idx < L and cnt < k:\n",
    "            if i == arr[idx]:\n",
    "                idx += 1\n",
    "            else:\n",
    "                cnt += 1\n",
    "            i += 1\n",
    "        if cnt == k:\n",
    "            return i-1\n",
    "        else:\n",
    "            return arr[-1] + (k - cnt)"
   ]
  },
  {
   "cell_type": "markdown",
   "metadata": {},
   "source": [
    "## Lessons and Thoughts\n",
    "- Brute force. The edge case is when the missing integars go out of scope of `arr`."
   ]
  }
 ],
 "metadata": {
  "kernelspec": {
   "display_name": "Python 3",
   "language": "python",
   "name": "python3"
  },
  "language_info": {
   "codemirror_mode": {
    "name": "ipython",
    "version": 3
   },
   "file_extension": ".py",
   "mimetype": "text/x-python",
   "name": "python",
   "nbconvert_exporter": "python",
   "pygments_lexer": "ipython3",
   "version": "3.7.3"
  }
 },
 "nbformat": 4,
 "nbformat_minor": 2
}
