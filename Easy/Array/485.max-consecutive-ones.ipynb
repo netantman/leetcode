{
 "cells": [
  {
   "cell_type": "markdown",
   "metadata": {},
   "source": [
    "## Attempt 1 - Accepted"
   ]
  },
  {
   "cell_type": "code",
   "execution_count": null,
   "metadata": {},
   "outputs": [],
   "source": [
    "class Solution:\n",
    "    def findMaxConsecutiveOnes(self, nums: List[int]) -> int:\n",
    "        L=len(nums)\n",
    "        if L<1:\n",
    "            return 0\n",
    "        maxx=0\n",
    "        l=1 if nums[0]>0 else 0\n",
    "        maxx=max(maxx, l)\n",
    "        for idx in range(1,L):\n",
    "            n=nums[idx]\n",
    "            if n>0:\n",
    "                l+=1\n",
    "            else:\n",
    "                l=0\n",
    "            maxx=max(maxx, l)\n",
    "        return maxx"
   ]
  },
  {
   "cell_type": "markdown",
   "metadata": {},
   "source": [
    "## Lessons and Thoughts\n",
    "- Straightforward - just need to care about the start and end of `nums`."
   ]
  }
 ],
 "metadata": {
  "kernelspec": {
   "display_name": "Python 3",
   "language": "python",
   "name": "python3"
  },
  "language_info": {
   "codemirror_mode": {
    "name": "ipython",
    "version": 3
   },
   "file_extension": ".py",
   "mimetype": "text/x-python",
   "name": "python",
   "nbconvert_exporter": "python",
   "pygments_lexer": "ipython3",
   "version": "3.7.3"
  }
 },
 "nbformat": 4,
 "nbformat_minor": 2
}
