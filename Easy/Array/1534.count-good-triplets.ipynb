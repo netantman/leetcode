{
 "cells": [
  {
   "cell_type": "markdown",
   "metadata": {},
   "source": [
    "## Attempt 1 - Accepted"
   ]
  },
  {
   "cell_type": "code",
   "execution_count": null,
   "metadata": {},
   "outputs": [],
   "source": [
    "class Solution:\n",
    "    def countGoodTriplets(self, arr: List[int], a: int, b: int, c: int) -> int:\n",
    "        L = len(arr)\n",
    "        cnt = 0\n",
    "        for i in range(L):\n",
    "            for j in range(i + 1, L):\n",
    "                if abs(arr[i] - arr[j]) > a:\n",
    "                    continue\n",
    "                for k in range(j + 1, L):\n",
    "                    if abs(arr[j] - arr[k]) <= b and abs(arr[i] - arr[k]) <= c:\n",
    "                        cnt += 1\n",
    "        \n",
    "        return cnt"
   ]
  },
  {
   "cell_type": "markdown",
   "metadata": {},
   "source": [
    "## Lessons and Thoughts\n",
    "- Brute force"
   ]
  }
 ],
 "metadata": {
  "kernelspec": {
   "display_name": "Python 3",
   "language": "python",
   "name": "python3"
  },
  "language_info": {
   "codemirror_mode": {
    "name": "ipython",
    "version": 3
   },
   "file_extension": ".py",
   "mimetype": "text/x-python",
   "name": "python",
   "nbconvert_exporter": "python",
   "pygments_lexer": "ipython3",
   "version": "3.7.3"
  }
 },
 "nbformat": 4,
 "nbformat_minor": 2
}
