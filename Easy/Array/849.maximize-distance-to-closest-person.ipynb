{
 "cells": [
  {
   "cell_type": "markdown",
   "metadata": {},
   "source": [
    "## Attempt 1 - Wrong Answer"
   ]
  },
  {
   "cell_type": "code",
   "execution_count": null,
   "metadata": {},
   "outputs": [],
   "source": [
    "class Solution:\n",
    "    def maxDistToClosest(self, seats: List[int]) -> int:\n",
    "        last=0\n",
    "        maxx=0\n",
    "        for idx, pos in enumerate(seats): ## --> forgot to deal with the case from two sides\n",
    "            if pos>0:\n",
    "                maxx=max(maxx, idx-last)\n",
    "        return (maxx-1)//2"
   ]
  },
  {
   "cell_type": "markdown",
   "metadata": {},
   "source": [
    "## Attempt 2 - Accepted"
   ]
  },
  {
   "cell_type": "code",
   "execution_count": null,
   "metadata": {},
   "outputs": [],
   "source": [
    "class Solution:\n",
    "    def maxDistToClosest(self, seats: List[int]) -> int:\n",
    "        L=len(seats)\n",
    "        left, right=0,L-1\n",
    "        while left<L and seats[left]<1:\n",
    "            left+=1\n",
    "        while right>=0 and seats[right]<1:\n",
    "            right-=1\n",
    "        last=left\n",
    "        maxx=0\n",
    "        for idx, pos in enumerate(seats):\n",
    "            if idx<left or idx>right:\n",
    "                continue\n",
    "            else:\n",
    "                if pos>0:\n",
    "                    maxx=max(maxx, idx-last)\n",
    "                    last=idx\n",
    "        if maxx%2>0:\n",
    "            maxx=(maxx-1)//2\n",
    "        else:\n",
    "            maxx=maxx//2\n",
    "        return max(maxx, left,L-1-right)"
   ]
  },
  {
   "cell_type": "markdown",
   "metadata": {},
   "source": [
    "## Lessons and Thoughts\n",
    "- Many edge cases!"
   ]
  }
 ],
 "metadata": {
  "kernelspec": {
   "display_name": "Python 3",
   "language": "python",
   "name": "python3"
  },
  "language_info": {
   "codemirror_mode": {
    "name": "ipython",
    "version": 3
   },
   "file_extension": ".py",
   "mimetype": "text/x-python",
   "name": "python",
   "nbconvert_exporter": "python",
   "pygments_lexer": "ipython3",
   "version": "3.7.3"
  }
 },
 "nbformat": 4,
 "nbformat_minor": 2
}
