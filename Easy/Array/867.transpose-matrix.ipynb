{
 "cells": [
  {
   "cell_type": "markdown",
   "metadata": {},
   "source": [
    "## Attempt 1 - Accepted"
   ]
  },
  {
   "cell_type": "code",
   "execution_count": null,
   "metadata": {},
   "outputs": [],
   "source": [
    "class Solution:\n",
    "    def transpose(self, A: List[List[int]]) -> List[List[int]]:\n",
    "        R,C=len(A), len(A[0])\n",
    "        res=[[None for r in range(R)] for c in range(C)]\n",
    "        for r in range(R):\n",
    "            for c in range(C):\n",
    "                res[c][r]=A[r][c]\n",
    "        \n",
    "        return res"
   ]
  },
  {
   "cell_type": "markdown",
   "metadata": {},
   "source": [
    "## Attempt 2 - Accepted"
   ]
  },
  {
   "cell_type": "code",
   "execution_count": null,
   "metadata": {},
   "outputs": [],
   "source": [
    "class Solution {\n",
    "public:\n",
    "    vector<vector<int>> transpose(vector<vector<int>>& matrix) {\n",
    "        int M = matrix.size();\n",
    "        int N = matrix.front().size();\n",
    "        \n",
    "        vector<vector<int>> res = {};\n",
    "        for (int n=0; n<N; n++) {\n",
    "            vector<int> tmp(M, 0);\n",
    "            res.push_back(tmp);\n",
    "        }\n",
    "        \n",
    "        \n",
    "        for (int m=0; m<M; m++) {\n",
    "            for (int n=0; n<N; n++) {\n",
    "                res[n][m] = matrix[m][n];\n",
    "            }\n",
    "        }\n",
    "        \n",
    "        return res;\n",
    "        \n",
    "    }\n",
    "};"
   ]
  },
  {
   "cell_type": "markdown",
   "metadata": {},
   "source": [
    "## Lessons and Thoughts\n",
    "- The problem takes away the edge case of empty matrix, so it is easy."
   ]
  }
 ],
 "metadata": {
  "kernelspec": {
   "display_name": "Python 3",
   "language": "python",
   "name": "python3"
  },
  "language_info": {
   "codemirror_mode": {
    "name": "ipython",
    "version": 3
   },
   "file_extension": ".py",
   "mimetype": "text/x-python",
   "name": "python",
   "nbconvert_exporter": "python",
   "pygments_lexer": "ipython3",
   "version": "3.6.5"
  }
 },
 "nbformat": 4,
 "nbformat_minor": 2
}
