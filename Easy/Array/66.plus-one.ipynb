{
 "cells": [
  {
   "cell_type": "markdown",
   "metadata": {},
   "source": [
    "## Attempt 1 - Accepted"
   ]
  },
  {
   "cell_type": "code",
   "execution_count": null,
   "metadata": {},
   "outputs": [],
   "source": [
    "class Solution:\n",
    "    def plusOne(self, digits: List[int]) -> List[int]:\n",
    "        L=len(digits)\n",
    "        res=[d for d in digits]\n",
    "        if res[-1]<9:\n",
    "            res[-1]+=1\n",
    "        else:\n",
    "            res[-1]=0\n",
    "            idx=L-2\n",
    "            while (idx>=0):\n",
    "                if res[idx]<9:\n",
    "                    res[idx]+=1\n",
    "                    break\n",
    "                else:\n",
    "                    res[idx]=0\n",
    "                    idx-=1\n",
    "            if idx==-1:\n",
    "                res=[1]+res\n",
    "        \n",
    "        return res"
   ]
  },
  {
   "cell_type": "markdown",
   "metadata": {},
   "source": [
    "## Lessons and Thoughts\n",
    "- Just remember to carry over"
   ]
  }
 ],
 "metadata": {
  "kernelspec": {
   "display_name": "Python 3",
   "language": "python",
   "name": "python3"
  },
  "language_info": {
   "codemirror_mode": {
    "name": "ipython",
    "version": 3
   },
   "file_extension": ".py",
   "mimetype": "text/x-python",
   "name": "python",
   "nbconvert_exporter": "python",
   "pygments_lexer": "ipython3",
   "version": "3.7.3"
  }
 },
 "nbformat": 4,
 "nbformat_minor": 2
}
