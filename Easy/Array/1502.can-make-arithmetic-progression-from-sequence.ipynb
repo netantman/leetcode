{
 "cells": [
  {
   "cell_type": "markdown",
   "metadata": {},
   "source": [
    "## Attempt 1 - Time Limit Exceeded"
   ]
  },
  {
   "cell_type": "code",
   "execution_count": null,
   "metadata": {},
   "outputs": [],
   "source": [
    "class Solution:\n",
    "    def canMakeArithmeticProgression(self, arr: List[int]) -> bool:\n",
    "        minn, maxx = min(arr), max(arr)\n",
    "        L = len(arr)\n",
    "        if (maxx - minn) % (L - 1) > 0:\n",
    "            return False\n",
    "        diff = (maxx - minn)//(L - 1)\n",
    "        curr = minn\n",
    "        while curr <= maxx:\n",
    "            if curr not in arr:\n",
    "                return False\n",
    "            curr += diff ## --> did not handle the edge case where diff is 0\n",
    "        return True"
   ]
  },
  {
   "cell_type": "markdown",
   "metadata": {},
   "source": [
    "## Attempt 2 - Accepted"
   ]
  },
  {
   "cell_type": "code",
   "execution_count": null,
   "metadata": {},
   "outputs": [],
   "source": [
    "class Solution:\n",
    "    def canMakeArithmeticProgression(self, arr: List[int]) -> bool:\n",
    "        minn, maxx = min(arr), max(arr)\n",
    "        L = len(arr)\n",
    "        if (maxx - minn) % (L - 1) > 0:\n",
    "            return False\n",
    "        diff = (maxx - minn)//(L - 1)\n",
    "        curr = minn\n",
    "        while curr < maxx:\n",
    "            if curr not in arr:\n",
    "                return False\n",
    "            curr += diff\n",
    "        return curr == maxx"
   ]
  },
  {
   "cell_type": "markdown",
   "metadata": {},
   "source": [
    "## Lessons and Thoughts\n",
    "- Missed the edge case where `diff` is 0."
   ]
  }
 ],
 "metadata": {
  "kernelspec": {
   "display_name": "Python 3",
   "language": "python",
   "name": "python3"
  },
  "language_info": {
   "codemirror_mode": {
    "name": "ipython",
    "version": 3
   },
   "file_extension": ".py",
   "mimetype": "text/x-python",
   "name": "python",
   "nbconvert_exporter": "python",
   "pygments_lexer": "ipython3",
   "version": "3.7.3"
  }
 },
 "nbformat": 4,
 "nbformat_minor": 2
}
