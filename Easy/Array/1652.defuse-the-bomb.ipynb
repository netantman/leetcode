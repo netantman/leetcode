{
 "cells": [
  {
   "cell_type": "markdown",
   "metadata": {},
   "source": [
    "## Attempt 1 - Accepted"
   ]
  },
  {
   "cell_type": "code",
   "execution_count": null,
   "metadata": {},
   "outputs": [],
   "source": [
    "class Solution:\n",
    "    def decrypt(self, code: List[int], k: int) -> List[int]:\n",
    "        if k == 0:\n",
    "            return [0 for _ in code]\n",
    "        \n",
    "        L = len(code)\n",
    "        res = []\n",
    "        direction = 1 if k > 0 else -1\n",
    "        for i in range(L):\n",
    "            curr = 0\n",
    "            idx = direction\n",
    "            while abs(idx) <= abs(k):\n",
    "                if i + idx < 0:\n",
    "                    curr += code[(i + idx + L) % L]\n",
    "                else:\n",
    "                    curr += code[(i + idx) % L]\n",
    "                idx += direction\n",
    "            res.append(curr)\n",
    "        return res"
   ]
  },
  {
   "cell_type": "markdown",
   "metadata": {},
   "source": [
    "## Lessons and Thoughts\n",
    "- Brute force. Take some care in combining the case of `k>0` and `k<0`."
   ]
  }
 ],
 "metadata": {
  "kernelspec": {
   "display_name": "Python 3",
   "language": "python",
   "name": "python3"
  },
  "language_info": {
   "codemirror_mode": {
    "name": "ipython",
    "version": 3
   },
   "file_extension": ".py",
   "mimetype": "text/x-python",
   "name": "python",
   "nbconvert_exporter": "python",
   "pygments_lexer": "ipython3",
   "version": "3.7.3"
  }
 },
 "nbformat": 4,
 "nbformat_minor": 2
}
