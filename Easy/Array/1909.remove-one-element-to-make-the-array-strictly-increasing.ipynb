{
 "cells": [
  {
   "cell_type": "markdown",
   "metadata": {},
   "source": [
    "## Attempt 1 - Wrong Answer"
   ]
  },
  {
   "cell_type": "code",
   "execution_count": null,
   "metadata": {},
   "outputs": [],
   "source": [
    "class Solution:\n",
    "    def canBeIncreasing(self, nums: List[int]) -> bool:\n",
    "        \n",
    "        drop = None\n",
    "        L = len(nums)\n",
    "        for idx in range(1, L):\n",
    "            if nums[idx] <= nums[idx - 1]:\n",
    "                drop = idx\n",
    "                break\n",
    "        \n",
    "        if drop is None or drop == L - 1:\n",
    "            return True\n",
    "        \n",
    "        if drop == 1:\n",
    "            return nums[1:] == sorted(nums[1:]) or [nums[0]] + nums[2:] == sorted([nums[0]] + nums[2:])  ## --> should check for strictly increasing\n",
    "        \n",
    "        return nums[drop] > nums[drop - 2] or nums[drop + 1] > nums[drop - 1] ## --> not enough"
   ]
  },
  {
   "cell_type": "markdown",
   "metadata": {},
   "source": [
    "## Attempt 2 - Accepted"
   ]
  },
  {
   "cell_type": "code",
   "execution_count": null,
   "metadata": {},
   "outputs": [],
   "source": [
    "class Solution:\n",
    "    def canBeIncreasing(self, nums: List[int]) -> bool:\n",
    "        \n",
    "        def check_strict_increasing(arr):\n",
    "            L = len(arr)\n",
    "            for idx in range(1, L):\n",
    "                if arr[idx] <= arr[idx - 1]:\n",
    "                    return False\n",
    "            return True\n",
    "        \n",
    "        drop = None\n",
    "        L = len(nums)\n",
    "        for idx in range(1, L):\n",
    "            if nums[idx] <= nums[idx - 1]:\n",
    "                drop = idx\n",
    "                break\n",
    "        \n",
    "        if drop is None or drop == L - 1:\n",
    "            return True\n",
    "        \n",
    "        if drop == 1:\n",
    "            return check_strict_increasing(nums[1:]) or check_strict_increasing([nums[0]] + nums[2:])\n",
    "        \n",
    "        if nums[drop] > nums[drop - 2] and check_strict_increasing(nums[drop:]):\n",
    "            return True\n",
    "        \n",
    "        if nums[drop + 1] > nums[drop - 1] and check_strict_increasing(nums[drop+1:]):\n",
    "            return True\n",
    "        \n",
    "        return False"
   ]
  },
  {
   "cell_type": "markdown",
   "metadata": {},
   "source": [
    "## Lessons and Thoughts\n",
    "- Missed two edge cases\n",
    "- The length of `nums` is not too large, so afford to use brute force method."
   ]
  }
 ],
 "metadata": {
  "kernelspec": {
   "display_name": "Python 3",
   "language": "python",
   "name": "python3"
  },
  "language_info": {
   "codemirror_mode": {
    "name": "ipython",
    "version": 3
   },
   "file_extension": ".py",
   "mimetype": "text/x-python",
   "name": "python",
   "nbconvert_exporter": "python",
   "pygments_lexer": "ipython3",
   "version": "3.7.3"
  }
 },
 "nbformat": 4,
 "nbformat_minor": 2
}
