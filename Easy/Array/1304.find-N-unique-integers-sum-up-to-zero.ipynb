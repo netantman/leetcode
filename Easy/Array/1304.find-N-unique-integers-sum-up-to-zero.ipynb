{
 "cells": [
  {
   "cell_type": "markdown",
   "metadata": {},
   "source": [
    "## Attempt 1 - Accepted"
   ]
  },
  {
   "cell_type": "code",
   "execution_count": null,
   "metadata": {},
   "outputs": [],
   "source": [
    "class Solution:\n",
    "    def sumZero(self, n: int) -> List[int]:\n",
    "        if n%2>0:\n",
    "            l=(n-1)//2\n",
    "            return [-a for a in range(1,l+1)]+[0]+[a for a in range(1,l+1)]\n",
    "        else:\n",
    "            l=n//2\n",
    "            return [-a for a in range(1,l+1)]+[a for a in range(1,l+1)]"
   ]
  },
  {
   "cell_type": "markdown",
   "metadata": {},
   "source": [
    "## Lessons and Thoughts\n",
    "- Straightforward"
   ]
  }
 ],
 "metadata": {
  "kernelspec": {
   "display_name": "Python 3",
   "language": "python",
   "name": "python3"
  },
  "language_info": {
   "codemirror_mode": {
    "name": "ipython",
    "version": 3
   },
   "file_extension": ".py",
   "mimetype": "text/x-python",
   "name": "python",
   "nbconvert_exporter": "python",
   "pygments_lexer": "ipython3",
   "version": "3.7.3"
  }
 },
 "nbformat": 4,
 "nbformat_minor": 2
}
