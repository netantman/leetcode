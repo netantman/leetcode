{
 "cells": [
  {
   "cell_type": "markdown",
   "metadata": {},
   "source": [
    "## Attempt 1 - Accepted"
   ]
  },
  {
   "cell_type": "code",
   "execution_count": null,
   "metadata": {},
   "outputs": [],
   "source": [
    "class Solution:\n",
    "    def numRookCaptures(self, board: List[List[str]]) -> int:\n",
    "        R,C=8,8\n",
    "        rr,cc=None,None\n",
    "        for r in range(R):\n",
    "            for c in range(C):\n",
    "                if board[r][c]==\"R\":\n",
    "                    rr,cc=r,c\n",
    "        \n",
    "        cnt=0\n",
    "        r=rr\n",
    "        while r>=0:\n",
    "            if board[r][cc]==\"p\":\n",
    "                cnt+=1\n",
    "                break\n",
    "            elif board[r][cc]==\"B\":\n",
    "                break\n",
    "            r-=1\n",
    "        r=rr\n",
    "        while r<R:\n",
    "            if board[r][cc]==\"p\":\n",
    "                cnt+=1\n",
    "                break\n",
    "            elif board[r][cc]==\"B\":\n",
    "                break\n",
    "            r+=1\n",
    "        c=cc\n",
    "        while c>=0:\n",
    "            if board[rr][c]==\"p\":\n",
    "                cnt+=1\n",
    "                break\n",
    "            elif board[rr][c]==\"B\":\n",
    "                break\n",
    "            c-=1\n",
    "        c=cc\n",
    "        while c<C:\n",
    "            if board[rr][c]==\"p\":\n",
    "                cnt+=1\n",
    "                break\n",
    "            elif board[rr][c]==\"B\":\n",
    "                break\n",
    "            c+=1\n",
    "        return cnt"
   ]
  },
  {
   "cell_type": "markdown",
   "metadata": {},
   "source": [
    "## Lessons and Thoughts\n",
    "- Straightforward"
   ]
  }
 ],
 "metadata": {
  "kernelspec": {
   "display_name": "Python 3",
   "language": "python",
   "name": "python3"
  },
  "language_info": {
   "codemirror_mode": {
    "name": "ipython",
    "version": 3
   },
   "file_extension": ".py",
   "mimetype": "text/x-python",
   "name": "python",
   "nbconvert_exporter": "python",
   "pygments_lexer": "ipython3",
   "version": "3.7.3"
  }
 },
 "nbformat": 4,
 "nbformat_minor": 2
}
