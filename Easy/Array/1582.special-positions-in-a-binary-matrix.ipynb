{
 "cells": [
  {
   "cell_type": "markdown",
   "metadata": {},
   "source": [
    "## Attempt 1 - Accepted"
   ]
  },
  {
   "cell_type": "code",
   "execution_count": null,
   "metadata": {},
   "outputs": [],
   "source": [
    "class Solution:\n",
    "    def numSpecial(self, mat: List[List[int]]) -> int:\n",
    "        R, C = len(mat), len(mat[0])\n",
    "        rows = [sum(r) for r in mat]\n",
    "        cols = [sum([mat[r][c] for r in range(R)]) for c in range(C)]\n",
    "        cnt = [1 if (rows[r] == 1) and (cols[c] == 1) and (mat[r][c] == 1) else 0 for r in range(R) for c in range(C)]\n",
    "        return sum(cnt)"
   ]
  },
  {
   "cell_type": "markdown",
   "metadata": {},
   "source": [
    "## Lessons and Thoughts\n",
    "- Straightforward"
   ]
  }
 ],
 "metadata": {
  "kernelspec": {
   "display_name": "Python 3",
   "language": "python",
   "name": "python3"
  },
  "language_info": {
   "codemirror_mode": {
    "name": "ipython",
    "version": 3
   },
   "file_extension": ".py",
   "mimetype": "text/x-python",
   "name": "python",
   "nbconvert_exporter": "python",
   "pygments_lexer": "ipython3",
   "version": "3.7.3"
  }
 },
 "nbformat": 4,
 "nbformat_minor": 2
}
