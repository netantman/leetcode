{
 "cells": [
  {
   "cell_type": "markdown",
   "metadata": {},
   "source": [
    "## Attempt 1 - Accepted"
   ]
  },
  {
   "cell_type": "code",
   "execution_count": null,
   "metadata": {},
   "outputs": [],
   "source": [
    "class Solution:\n",
    "    def tictactoe(self, moves: List[List[int]]) -> str:\n",
    "        def check(board):\n",
    "            curr=board[0]\n",
    "            if len(set(curr))<2:\n",
    "                return curr[0]\n",
    "            curr=board[1]\n",
    "            if len(set(curr))<2:\n",
    "                return curr[0]\n",
    "            curr=board[2]\n",
    "            if len(set(curr))<2:\n",
    "                return curr[0]\n",
    "            curr=[board[r][0] for r in range(3)]\n",
    "            if len(set(curr))<2:\n",
    "                return curr[0]\n",
    "            curr=[board[r][1] for r in range(3)]\n",
    "            if len(set(curr))<2:\n",
    "                return curr[0]\n",
    "            curr=[board[r][2] for r in range(3)]\n",
    "            if len(set(curr))<2:\n",
    "                return curr[0]\n",
    "            curr=[board[r][r] for r in range(3)]\n",
    "            if len(set(curr))<2:\n",
    "                return curr[0]\n",
    "            curr=[board[r][2-r] for r in range(3)]\n",
    "            if len(set(curr))<2:\n",
    "                return curr[0]\n",
    "            return None\n",
    "        \n",
    "        board=[[\"\" for _ in range(3)] for _ in range(3)]\n",
    "        cnt=0\n",
    "        for move in moves:\n",
    "            r,c=tuple(move)\n",
    "            if cnt%2<1:\n",
    "                board[r][c]=\"A\"\n",
    "            else:\n",
    "                board[r][c]=\"B\"\n",
    "            res=check(board)\n",
    "            if res:\n",
    "                return res\n",
    "            else:\n",
    "                cnt^=1\n",
    "        if len(moves)<9:\n",
    "            return \"Pending\"\n",
    "        else:\n",
    "            return \"Draw\""
   ]
  },
  {
   "cell_type": "markdown",
   "metadata": {},
   "source": [
    "## Lessons and Thoughts\n",
    "- Brute Force"
   ]
  }
 ],
 "metadata": {
  "kernelspec": {
   "display_name": "Python 3",
   "language": "python",
   "name": "python3"
  },
  "language_info": {
   "codemirror_mode": {
    "name": "ipython",
    "version": 3
   },
   "file_extension": ".py",
   "mimetype": "text/x-python",
   "name": "python",
   "nbconvert_exporter": "python",
   "pygments_lexer": "ipython3",
   "version": "3.7.3"
  }
 },
 "nbformat": 4,
 "nbformat_minor": 2
}
