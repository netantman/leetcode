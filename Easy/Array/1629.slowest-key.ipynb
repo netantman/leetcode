{
 "cells": [
  {
   "cell_type": "markdown",
   "metadata": {},
   "source": [
    "## Attempt 1 - Accepted"
   ]
  },
  {
   "cell_type": "code",
   "execution_count": null,
   "metadata": {},
   "outputs": [],
   "source": [
    "class Solution:\n",
    "    def slowestKey(self, releaseTimes: List[int], keysPressed: str) -> str:\n",
    "        releaseTimes = [0] + releaseTimes\n",
    "        releaseTimes = [releaseTimes[idx + 1] - releaseTimes[idx] for idx in range(len(releaseTimes) - 1)]\n",
    "        record = dict()\n",
    "        for k, r in zip(keysPressed, releaseTimes):\n",
    "            record[k] = max(record.get(k, 0), r)\n",
    "        record = ((v, k) for k, v in record.items())\n",
    "        record = sorted(record, reverse=True)\n",
    "        # print(record)\n",
    "        return record[0][1]"
   ]
  },
  {
   "cell_type": "markdown",
   "metadata": {},
   "source": [
    "## Lessons and Thoughts\n",
    "- Straightforward"
   ]
  }
 ],
 "metadata": {
  "kernelspec": {
   "display_name": "Python 3",
   "language": "python",
   "name": "python3"
  },
  "language_info": {
   "codemirror_mode": {
    "name": "ipython",
    "version": 3
   },
   "file_extension": ".py",
   "mimetype": "text/x-python",
   "name": "python",
   "nbconvert_exporter": "python",
   "pygments_lexer": "ipython3",
   "version": "3.7.3"
  }
 },
 "nbformat": 4,
 "nbformat_minor": 2
}
