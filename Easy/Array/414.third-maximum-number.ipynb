{
 "cells": [
  {
   "cell_type": "markdown",
   "metadata": {},
   "source": [
    "## Attempt 1 - Accepted"
   ]
  },
  {
   "cell_type": "code",
   "execution_count": null,
   "metadata": {},
   "outputs": [],
   "source": [
    "class Solution:\n",
    "    def thirdMax(self, nums: List[int]) -> int:\n",
    "        nums=list(set(nums))\n",
    "        L=len(nums)\n",
    "        first, second, third=nums[0], None, None\n",
    "        for idx in range(1,L):\n",
    "            n=nums[idx]\n",
    "            if n>first:\n",
    "                second, third=first, second\n",
    "                first=n\n",
    "            elif second is None or n>second:\n",
    "                third=second\n",
    "                second=n\n",
    "            elif third is None or n>third:\n",
    "                third=n\n",
    "        if third is None:\n",
    "            return first\n",
    "        else:\n",
    "            return third"
   ]
  },
  {
   "cell_type": "markdown",
   "metadata": {},
   "source": [
    "## Lessons and Thoughts\n",
    "- The edges to handle are when second and third are None, avoid comparing numbers to them."
   ]
  }
 ],
 "metadata": {
  "kernelspec": {
   "display_name": "Python 3",
   "language": "python",
   "name": "python3"
  },
  "language_info": {
   "codemirror_mode": {
    "name": "ipython",
    "version": 3
   },
   "file_extension": ".py",
   "mimetype": "text/x-python",
   "name": "python",
   "nbconvert_exporter": "python",
   "pygments_lexer": "ipython3",
   "version": "3.7.3"
  }
 },
 "nbformat": 4,
 "nbformat_minor": 2
}
