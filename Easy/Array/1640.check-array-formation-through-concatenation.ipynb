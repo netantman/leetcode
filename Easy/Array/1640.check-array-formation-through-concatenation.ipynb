{
 "cells": [
  {
   "cell_type": "markdown",
   "metadata": {},
   "source": [
    "## Attempt 1 - Accepted"
   ]
  },
  {
   "cell_type": "code",
   "execution_count": null,
   "metadata": {},
   "outputs": [],
   "source": [
    "class Solution:\n",
    "    def canFormArray(self, arr: List[int], pieces: List[List[int]]) -> bool:\n",
    "        while arr:\n",
    "            head = arr[0]\n",
    "            found = None\n",
    "            for p in pieces:\n",
    "                if p[0] == head:\n",
    "                    found = [e for e in p]\n",
    "                    break\n",
    "            else:\n",
    "                return False\n",
    "            while arr and found: \n",
    "                if arr[0] == found[0]:\n",
    "                    arr.pop(0)\n",
    "                    found.pop(0)\n",
    "                else:\n",
    "                    return False\n",
    "            if len(found) < 1:\n",
    "                continue\n",
    "            return False\n",
    "        return True"
   ]
  },
  {
   "cell_type": "markdown",
   "metadata": {},
   "source": [
    "## Lessons and Thoughts\n",
    "- Brute force"
   ]
  }
 ],
 "metadata": {
  "kernelspec": {
   "display_name": "Python 3",
   "language": "python",
   "name": "python3"
  },
  "language_info": {
   "codemirror_mode": {
    "name": "ipython",
    "version": 3
   },
   "file_extension": ".py",
   "mimetype": "text/x-python",
   "name": "python",
   "nbconvert_exporter": "python",
   "pygments_lexer": "ipython3",
   "version": "3.7.3"
  }
 },
 "nbformat": 4,
 "nbformat_minor": 2
}
