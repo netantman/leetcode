{
 "cells": [
  {
   "cell_type": "markdown",
   "metadata": {},
   "source": [
    "## Attempt 1 - Time Limit Exceeded"
   ]
  },
  {
   "cell_type": "code",
   "execution_count": null,
   "metadata": {},
   "outputs": [],
   "source": [
    "class Solution:\n",
    "    def sumEvenAfterQueries(self, A: List[int], queries: List[List[int]]) -> List[int]:\n",
    "        res=[]\n",
    "        for q in queries:\n",
    "            A[q[1]]+=q[0]\n",
    "            res.append(sum([a for a in A if a%2==0]))\n",
    "        return res"
   ]
  },
  {
   "cell_type": "markdown",
   "metadata": {},
   "source": [
    "## Attempt 2 - Accepted"
   ]
  },
  {
   "cell_type": "code",
   "execution_count": null,
   "metadata": {},
   "outputs": [],
   "source": [
    "class Solution:\n",
    "    def sumEvenAfterQueries(self, A: List[int], queries: List[List[int]]) -> List[int]:\n",
    "        res=[]\n",
    "        s=sum([a for a in A if a%2==0])\n",
    "        for q in queries:\n",
    "            if A[q[1]]%2>0 and q[0]%2>0:\n",
    "                s+=A[q[1]]+q[0]\n",
    "            elif A[q[1]]%2==0 and q[0]%2==0:\n",
    "                s+=q[0]\n",
    "            elif A[q[1]]%2==0 and q[0]%2>0:\n",
    "                s-=A[q[1]]\n",
    "            res.append(s)\n",
    "            A[q[1]]+=q[0]\n",
    "        return res"
   ]
  },
  {
   "cell_type": "markdown",
   "metadata": {},
   "source": [
    "## Lessons and Thoughts\n",
    "- Brute force will TLE. You actually just need to adjust for the odd/even numbers."
   ]
  }
 ],
 "metadata": {
  "kernelspec": {
   "display_name": "Python 3",
   "language": "python",
   "name": "python3"
  },
  "language_info": {
   "codemirror_mode": {
    "name": "ipython",
    "version": 3
   },
   "file_extension": ".py",
   "mimetype": "text/x-python",
   "name": "python",
   "nbconvert_exporter": "python",
   "pygments_lexer": "ipython3",
   "version": "3.7.3"
  }
 },
 "nbformat": 4,
 "nbformat_minor": 2
}
