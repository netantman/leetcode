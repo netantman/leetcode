{
 "cells": [
  {
   "cell_type": "markdown",
   "metadata": {},
   "source": [
    "## Attempt 1 - Wrong Answer"
   ]
  },
  {
   "cell_type": "code",
   "execution_count": null,
   "metadata": {},
   "outputs": [],
   "source": [
    "class Solution:\n",
    "    def checkIfExist(self, arr: List[int]) -> bool:\n",
    "        if 0 in arr:\n",
    "            cnt=0\n",
    "            for a in arr:\n",
    "                if a==0:\n",
    "                    cnt+=1\n",
    "            if cnt>1:\n",
    "                return True\n",
    "        \n",
    "        nums=set(arr)\n",
    "        for n in nums:\n",
    "            if n!=0:\n",
    "                if 2*n in nums or n//2 in nums: ## --> n//2 can be in nums but that is not what we are after!\n",
    "                    return True\n",
    "        return False"
   ]
  },
  {
   "cell_type": "markdown",
   "metadata": {},
   "source": [
    "## Attempt 2 - Accepted"
   ]
  },
  {
   "cell_type": "code",
   "execution_count": null,
   "metadata": {},
   "outputs": [],
   "source": [
    "class Solution:\n",
    "    def checkIfExist(self, arr: List[int]) -> bool:\n",
    "        if 0 in arr:\n",
    "            cnt=0\n",
    "            for a in arr:\n",
    "                if a==0:\n",
    "                    cnt+=1\n",
    "            if cnt>1:\n",
    "                return True\n",
    "        \n",
    "        nums=set(arr)\n",
    "        for n in nums:\n",
    "            if n!=0:\n",
    "                if 2*n in nums or (n%2<1 and n//2 in nums):\n",
    "                    return True\n",
    "        return False"
   ]
  },
  {
   "cell_type": "markdown",
   "metadata": {},
   "source": [
    "## Lessons and Thoughts\n",
    "- Tripped over by the edge case above."
   ]
  }
 ],
 "metadata": {
  "kernelspec": {
   "display_name": "Python 3",
   "language": "python",
   "name": "python3"
  },
  "language_info": {
   "codemirror_mode": {
    "name": "ipython",
    "version": 3
   },
   "file_extension": ".py",
   "mimetype": "text/x-python",
   "name": "python",
   "nbconvert_exporter": "python",
   "pygments_lexer": "ipython3",
   "version": "3.7.3"
  }
 },
 "nbformat": 4,
 "nbformat_minor": 2
}
