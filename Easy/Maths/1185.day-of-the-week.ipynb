{
 "cells": [
  {
   "cell_type": "markdown",
   "metadata": {},
   "source": [
    "## Attempt 1 - Wrong Answer"
   ]
  },
  {
   "cell_type": "code",
   "execution_count": null,
   "metadata": {},
   "outputs": [],
   "source": [
    "class Solution:\n",
    "    def dayOfTheWeek(self, day: int, month: int, year: int) -> str:\n",
    "        def is_leap(year):\n",
    "            if year%4>0:\n",
    "                return False\n",
    "            elif year%100>0:\n",
    "                return True\n",
    "            elif year%16>0:\n",
    "                return False\n",
    "            else:\n",
    "                return True\n",
    "        days_of_month=[0,3,0,3,2,3,2,3,3,2,3,2,3]\n",
    "        curr=4\n",
    "        for y in range(1971,year):\n",
    "            if is_leap(y):\n",
    "                curr=(curr+2)%7\n",
    "            else:\n",
    "                curr=(curr+1)%7\n",
    "        curr=(curr+sum(days_of_month[:month]))%7 ## --> did not adjust for leap-year 29 days in Feb\n",
    "        curr=(curr+day)%7\n",
    "        days=[\"Sunday\", \"Monday\", \"Tuesday\", \"Wednesday\", \"Thursday\", \"Friday\", \"Saturday\"]\n",
    "        return days[curr]"
   ]
  },
  {
   "cell_type": "markdown",
   "metadata": {},
   "source": [
    "## Attempt 2 - Wrong Answer"
   ]
  },
  {
   "cell_type": "code",
   "execution_count": null,
   "metadata": {},
   "outputs": [],
   "source": [
    "class Solution:\n",
    "    def dayOfTheWeek(self, day: int, month: int, year: int) -> str:\n",
    "        def is_leap(year):\n",
    "            if year%4>0:\n",
    "                return False\n",
    "            elif year%100>0:\n",
    "                return True\n",
    "            elif year%400>0:\n",
    "                return False\n",
    "            else:\n",
    "                return True\n",
    "        days_of_month=[0,3,0,3,2,3,2,3,3,2,3,2,3]\n",
    "        curr=4\n",
    "        for y in range(1971,year):\n",
    "            if is_leap(y):\n",
    "                curr=(curr+2)%7\n",
    "            else:\n",
    "                curr=(curr+1)%7\n",
    "        curr=(curr+sum(days_of_month[:month]))%7\n",
    "        if is_leap(year) and month>=2: ## --> typo\n",
    "            curr=(curr+1)%7\n",
    "        curr=(curr+day)%7\n",
    "        days=[\"Sunday\", \"Monday\", \"Tuesday\", \"Wednesday\", \"Thursday\", \"Friday\", \"Saturday\"]\n",
    "        return days[curr]"
   ]
  },
  {
   "cell_type": "markdown",
   "metadata": {},
   "source": [
    "## Attempt 3 - Accepted"
   ]
  },
  {
   "cell_type": "code",
   "execution_count": null,
   "metadata": {},
   "outputs": [],
   "source": [
    "class Solution:\n",
    "    def dayOfTheWeek(self, day: int, month: int, year: int) -> str:\n",
    "        def is_leap(year):\n",
    "            if year%4>0:\n",
    "                return False\n",
    "            elif year%100>0:\n",
    "                return True\n",
    "            elif year%400>0:\n",
    "                return False\n",
    "            else:\n",
    "                return True\n",
    "        days_of_month=[0,3,0,3,2,3,2,3,3,2,3,2,3]\n",
    "        curr=4\n",
    "        for y in range(1971,year):\n",
    "            if is_leap(y):\n",
    "                curr=(curr+2)%7\n",
    "            else:\n",
    "                curr=(curr+1)%7\n",
    "        curr=(curr+sum(days_of_month[:month]))%7\n",
    "        if is_leap(year) and month>=3:\n",
    "            curr=(curr+1)%7\n",
    "        curr=(curr+day)%7\n",
    "        days=[\"Sunday\", \"Monday\", \"Tuesday\", \"Wednesday\", \"Thursday\", \"Friday\", \"Saturday\"]\n",
    "        return days[curr]"
   ]
  },
  {
   "cell_type": "markdown",
   "metadata": {},
   "source": [
    "## Lessons and Thoughts\n",
    "- Straightforward calender math - the dealing with leap year is a bit nuanced."
   ]
  }
 ],
 "metadata": {
  "kernelspec": {
   "display_name": "Python 3",
   "language": "python",
   "name": "python3"
  },
  "language_info": {
   "codemirror_mode": {
    "name": "ipython",
    "version": 3
   },
   "file_extension": ".py",
   "mimetype": "text/x-python",
   "name": "python",
   "nbconvert_exporter": "python",
   "pygments_lexer": "ipython3",
   "version": "3.7.3"
  }
 },
 "nbformat": 4,
 "nbformat_minor": 2
}
