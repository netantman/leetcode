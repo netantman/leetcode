{
 "cells": [
  {
   "cell_type": "markdown",
   "metadata": {},
   "source": [
    "## Attempt 1 - Wrong Answer"
   ]
  },
  {
   "cell_type": "code",
   "execution_count": null,
   "metadata": {},
   "outputs": [],
   "source": [
    "class Solution:\n",
    "    def removePalindromeSub(self, s: str) -> int:\n",
    "        L=len(s)\n",
    "        if L<1:\n",
    "            return 0\n",
    "        elif s==s[::-1]:\n",
    "            return 1\n",
    "        \n",
    "        res=0\n",
    "        left=0\n",
    "        record=[1 for _ in range(L)]\n",
    "        while left<L:\n",
    "            if record[left]<1:\n",
    "                left+=1\n",
    "            else:\n",
    "                right=L-1\n",
    "                while right>left: ## --> record[left] can also be 0 now, since we change left in the while loop\n",
    "                    if record[right]<1 or s[right]!=s[left]:\n",
    "                        right-=1\n",
    "                    else:\n",
    "                        record[right]=0\n",
    "                        record[left]=0\n",
    "                        left+=1\n",
    "                        right-=1\n",
    "                record[left]=0\n",
    "                left+=1\n",
    "                res+=1\n",
    "        return res"
   ]
  },
  {
   "cell_type": "markdown",
   "metadata": {},
   "source": [
    "## Attempt 2 - Accepted"
   ]
  },
  {
   "cell_type": "code",
   "execution_count": null,
   "metadata": {},
   "outputs": [],
   "source": [
    "class Solution:\n",
    "    def removePalindromeSub(self, s: str) -> int:\n",
    "        L=len(s)\n",
    "        if L<1:\n",
    "            return 0\n",
    "        elif s==s[::-1]:\n",
    "            return 1\n",
    "        else:\n",
    "            return 2"
   ]
  },
  {
   "cell_type": "markdown",
   "metadata": {},
   "source": [
    "## Lessons and Thoughts\n",
    "- The trick is to realize that at most 2 deletion are needed: one for `a` and another for `b`."
   ]
  }
 ],
 "metadata": {
  "kernelspec": {
   "display_name": "Python 3",
   "language": "python",
   "name": "python3"
  },
  "language_info": {
   "codemirror_mode": {
    "name": "ipython",
    "version": 3
   },
   "file_extension": ".py",
   "mimetype": "text/x-python",
   "name": "python",
   "nbconvert_exporter": "python",
   "pygments_lexer": "ipython3",
   "version": "3.7.3"
  }
 },
 "nbformat": 4,
 "nbformat_minor": 2
}
