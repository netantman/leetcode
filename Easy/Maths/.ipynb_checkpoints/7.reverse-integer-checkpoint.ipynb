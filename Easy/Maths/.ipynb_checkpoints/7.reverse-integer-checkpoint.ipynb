{
 "cells": [
  {
   "cell_type": "markdown",
   "metadata": {},
   "source": [
    "## Attempt 1"
   ]
  },
  {
   "cell_type": "code",
   "execution_count": null,
   "metadata": {},
   "outputs": [],
   "source": [
    "class Solution:\n",
    "    def reverse(self, x: int) -> int:\n",
    "        x_str = str(x)\n",
    "        if len(x_str)==1:\n",
    "            return x\n",
    "        x_str_reverse=x_str[::-1]\n",
    "        idx=0\n",
    "        x_str_len=len(x_str_reverse) \n",
    "        while (idx<x_str_len) and (x_str_reverse[idx]=='0'):\n",
    "            idx+=1\n",
    "        x_str_reverse = x_str_reverse[idx:]\n",
    "        res = int(x_str_reverse)\n",
    "        if (res<-2**31) or (res>2**31-1):\n",
    "            return 0\n",
    "        else:\n",
    "            return res\n",
    "\n",
    "## forgot to deal with the edge case of negative integer!"
   ]
  },
  {
   "cell_type": "markdown",
   "metadata": {},
   "source": [
    "## Attemp 2 - Accepted"
   ]
  },
  {
   "cell_type": "code",
   "execution_count": null,
   "metadata": {},
   "outputs": [],
   "source": [
    "class Solution:\n",
    "    def reverse(self, x: int) -> int:\n",
    "        x_str = str(abs(x))\n",
    "        sign = 1 if x>0 else -1\n",
    "        if len(x_str)==1:\n",
    "            return x\n",
    "        x_str_reverse=x_str[::-1]\n",
    "        idx=0\n",
    "        x_str_len=len(x_str_reverse) \n",
    "        while (idx<x_str_len) and (x_str_reverse[idx]=='0'):\n",
    "            idx+=1\n",
    "        x_str_reverse = x_str_reverse[idx:]\n",
    "        res=int(x_str_reverse)\n",
    "        res*=sign \n",
    "        if (res<-2**31) or (res>2**31-1):\n",
    "            return 0\n",
    "        else:\n",
    "            return res"
   ]
  },
  {
   "cell_type": "markdown",
   "metadata": {},
   "source": [
    "## Lessons and Thoughts\n",
    "\n",
    "- Negative integers are important edge case for integar inputs!"
   ]
  }
 ],
 "metadata": {
  "kernelspec": {
   "display_name": "Python 3",
   "language": "python",
   "name": "python3"
  },
  "language_info": {
   "codemirror_mode": {
    "name": "ipython",
    "version": 3
   },
   "file_extension": ".py",
   "mimetype": "text/x-python",
   "name": "python",
   "nbconvert_exporter": "python",
   "pygments_lexer": "ipython3",
   "version": "3.7.3"
  }
 },
 "nbformat": 4,
 "nbformat_minor": 2
}
