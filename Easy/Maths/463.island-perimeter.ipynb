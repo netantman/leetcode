{
 "cells": [
  {
   "cell_type": "markdown",
   "metadata": {},
   "source": [
    "## Attempt 1 - Accepted"
   ]
  },
  {
   "cell_type": "code",
   "execution_count": null,
   "metadata": {},
   "outputs": [],
   "source": [
    "class Solution:\n",
    "    def islandPerimeter(self, grid: List[List[int]]) -> int:\n",
    "        if len(grid)<1 or len(grid[0])<1:\n",
    "            return 0\n",
    "        \n",
    "        numRows=len(grid)\n",
    "        numCols=len(grid[0])\n",
    "        res=0\n",
    "        for r in range(numRows):\n",
    "            for c in range(numCols):\n",
    "                if grid[r][c]==1:\n",
    "                    if r-1<0 or grid[r-1][c]==0:\n",
    "                        res+=1\n",
    "                    if c-1<0 or grid[r][c-1]==0:\n",
    "                        res+=1\n",
    "                    if r+1>=numRows or grid[r+1][c]==0:\n",
    "                        res+=1\n",
    "                    if c+1>=numCols or grid[r][c+1]==0:\n",
    "                        res+=1\n",
    "        \n",
    "        return res"
   ]
  },
  {
   "cell_type": "markdown",
   "metadata": {},
   "source": [
    "## Lessons and Thoughts\n",
    "- Just count how many water surround the island."
   ]
  }
 ],
 "metadata": {
  "kernelspec": {
   "display_name": "Python 3",
   "language": "python",
   "name": "python3"
  },
  "language_info": {
   "codemirror_mode": {
    "name": "ipython",
    "version": 3
   },
   "file_extension": ".py",
   "mimetype": "text/x-python",
   "name": "python",
   "nbconvert_exporter": "python",
   "pygments_lexer": "ipython3",
   "version": "3.7.3"
  }
 },
 "nbformat": 4,
 "nbformat_minor": 2
}
