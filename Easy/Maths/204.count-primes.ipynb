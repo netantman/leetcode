{
 "cells": [
  {
   "cell_type": "markdown",
   "metadata": {},
   "source": [
    "## Attempt 1 - Time Limit Exceeded"
   ]
  },
  {
   "cell_type": "code",
   "execution_count": null,
   "metadata": {},
   "outputs": [],
   "source": [
    "class Solution:\n",
    "    def countPrimes(self, n: int) -> int:\n",
    "        \n",
    "        if n<=2:\n",
    "            return 0\n",
    "        \n",
    "        primes=set()\n",
    "        primes.add(2)\n",
    "        for m in range(3, n):\n",
    "            not_prime=False\n",
    "            for p in primes:\n",
    "                if (p*p<=m) and (m%p==0):\n",
    "                    not_prime=True\n",
    "                    break\n",
    "            if not_prime:\n",
    "                continue\n",
    "            else:\n",
    "                primes.add(m)\n",
    "        return len(primes)"
   ]
  },
  {
   "cell_type": "markdown",
   "metadata": {},
   "source": [
    "## Attempt 2 - Accepted"
   ]
  },
  {
   "cell_type": "code",
   "execution_count": null,
   "metadata": {},
   "outputs": [],
   "source": [
    "class Solution:\n",
    "    def countPrimes(self, n: int) -> int:\n",
    "        \n",
    "        if n<=2:\n",
    "            return 0\n",
    "        \n",
    "        record=[None for idx in range(n)]\n",
    "        record[0]=False\n",
    "        record[1]=False\n",
    "        for m in range(2, n):\n",
    "            if record[m] is None:\n",
    "                record[m]=True\n",
    "                idx=2\n",
    "                while m*idx<n:\n",
    "                    record[m*idx]=False\n",
    "                    idx+=1\n",
    "        return sum(record)"
   ]
  },
  {
   "cell_type": "markdown",
   "metadata": {},
   "source": [
    "## Lessons and Thoughts\n",
    "- When a prime is found, just mark all its multiples as not prime. "
   ]
  }
 ],
 "metadata": {
  "kernelspec": {
   "display_name": "Python 3",
   "language": "python",
   "name": "python3"
  },
  "language_info": {
   "codemirror_mode": {
    "name": "ipython",
    "version": 3
   },
   "file_extension": ".py",
   "mimetype": "text/x-python",
   "name": "python",
   "nbconvert_exporter": "python",
   "pygments_lexer": "ipython3",
   "version": "3.7.3"
  }
 },
 "nbformat": 4,
 "nbformat_minor": 2
}
