{
 "cells": [
  {
   "cell_type": "markdown",
   "metadata": {},
   "source": [
    "## Attempt 1 - Time Limit Exceeded"
   ]
  },
  {
   "cell_type": "code",
   "execution_count": null,
   "metadata": {},
   "outputs": [],
   "source": [
    "class Solution:\n",
    "    def checkPerfectNumber(self, num: int) -> bool:\n",
    "        if num<=1:\n",
    "            return False\n",
    "        \n",
    "        left, right=1, num\n",
    "        res=[]\n",
    "        while left<right:\n",
    "            if num%left==0:\n",
    "                res.append(left)\n",
    "                right=num//left\n",
    "                if right<num:\n",
    "                    res.append(right)\n",
    "            left+=1\n",
    "        return sum(res)==num"
   ]
  },
  {
   "cell_type": "markdown",
   "metadata": {},
   "source": [
    "## Attempt 2 - Accepted"
   ]
  },
  {
   "cell_type": "code",
   "execution_count": null,
   "metadata": {},
   "outputs": [],
   "source": [
    "class Solution:\n",
    "    def checkPerfectNumber(self, num: int) -> bool:\n",
    "        if num<=1:\n",
    "            return False\n",
    "        \n",
    "        left, right=1, num\n",
    "        s=0\n",
    "        while left*left<=num:\n",
    "            if num%left==0:\n",
    "                s+=left\n",
    "                right=num//left\n",
    "                if right<num:\n",
    "                    s+=right\n",
    "            left+=1\n",
    "        return s==num"
   ]
  },
  {
   "cell_type": "markdown",
   "metadata": {},
   "source": [
    "## Lessons and Thoughts\n",
    "- Essentially it is the same algo, but stopping at left<sqrt(num) is much faster, since left and right can be very far away."
   ]
  }
 ],
 "metadata": {
  "kernelspec": {
   "display_name": "Python 3",
   "language": "python",
   "name": "python3"
  },
  "language_info": {
   "codemirror_mode": {
    "name": "ipython",
    "version": 3
   },
   "file_extension": ".py",
   "mimetype": "text/x-python",
   "name": "python",
   "nbconvert_exporter": "python",
   "pygments_lexer": "ipython3",
   "version": "3.7.3"
  }
 },
 "nbformat": 4,
 "nbformat_minor": 2
}
