{
 "cells": [
  {
   "cell_type": "markdown",
   "metadata": {},
   "source": [
    "## Attempt 1 - Accepted"
   ]
  },
  {
   "cell_type": "code",
   "execution_count": null,
   "metadata": {},
   "outputs": [],
   "source": [
    "class Solution:\n",
    "    def isBoomerang(self, points: List[List[int]]) -> bool:\n",
    "        p1,p2,p3=tuple(points)\n",
    "        res12,res13=None,None\n",
    "        if p2==p3:\n",
    "            return False\n",
    "        if p1[0]==p2[0]:\n",
    "            if p1[1]==p2[1]:\n",
    "                return False\n",
    "            else:\n",
    "                res12=float('inf')\n",
    "        else:\n",
    "            res12=(p1[1]-p2[1])/(p1[0]-p2[0])\n",
    "        if p1[0]==p3[0]:\n",
    "            if p1[1]==p3[1]:\n",
    "                return False\n",
    "            else:\n",
    "                res13=float('inf')\n",
    "        else:\n",
    "            res13=(p1[1]-p3[1])/(p1[0]-p3[0])\n",
    "        return res12!=res13"
   ]
  },
  {
   "cell_type": "markdown",
   "metadata": {},
   "source": [
    "## Lessons and Thoughts\n",
    "Cases to be considered include:\n",
    "- Duplicate points\n",
    "- Infinity slope"
   ]
  }
 ],
 "metadata": {
  "kernelspec": {
   "display_name": "Python 3",
   "language": "python",
   "name": "python3"
  },
  "language_info": {
   "codemirror_mode": {
    "name": "ipython",
    "version": 3
   },
   "file_extension": ".py",
   "mimetype": "text/x-python",
   "name": "python",
   "nbconvert_exporter": "python",
   "pygments_lexer": "ipython3",
   "version": "3.7.3"
  }
 },
 "nbformat": 4,
 "nbformat_minor": 2
}
