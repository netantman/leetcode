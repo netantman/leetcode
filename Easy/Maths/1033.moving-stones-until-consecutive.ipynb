{
 "cells": [
  {
   "cell_type": "markdown",
   "metadata": {},
   "source": [
    "## Attempt 1 - Wrong Answer"
   ]
  },
  {
   "cell_type": "code",
   "execution_count": null,
   "metadata": {},
   "outputs": [],
   "source": [
    "class Solution:\n",
    "    def numMovesStones(self, a: int, b: int, c: int) -> List[int]:\n",
    "        x,y,z=tuple(sorted([a,b,c]))\n",
    "        minn=0\n",
    "        minn+=(y-x>2)\n",
    "        minn+=(z-y>2)\n",
    "        minn+=(y-x==2 and z-y==2)\n",
    "        maxx=max(y-x-1,0)+max(z-y-1,0)\n",
    "        return [minn, maxx]"
   ]
  },
  {
   "cell_type": "markdown",
   "metadata": {},
   "source": [
    "## Attempt 2 - Accepted"
   ]
  },
  {
   "cell_type": "code",
   "execution_count": null,
   "metadata": {},
   "outputs": [],
   "source": [
    "class Solution:\n",
    "    def numMovesStones(self, a: int, b: int, c: int) -> List[int]:\n",
    "        x,y,z=tuple(sorted([a,b,c]))\n",
    "        minn=0\n",
    "        if y-x==1 and z-y==1:\n",
    "            minn=0\n",
    "        elif y-x<=2 or z-y<=2:\n",
    "            minn=1\n",
    "        else:\n",
    "            minn=2\n",
    "        maxx=max(y-x-1,0)+max(z-y-1,0)\n",
    "        return [minn, maxx]"
   ]
  },
  {
   "cell_type": "markdown",
   "metadata": {},
   "source": [
    "## Lessons and Thoughts\n",
    "- The `min` is actually never more than 2, and needs to be discussed case by case.\n",
    "- For the `max`, just keep track to of the differences of `z-y` and `y-x`.\n",
    "- If it requires `if`-`else` loop, do that, instead of being clever"
   ]
  }
 ],
 "metadata": {
  "kernelspec": {
   "display_name": "Python 3",
   "language": "python",
   "name": "python3"
  },
  "language_info": {
   "codemirror_mode": {
    "name": "ipython",
    "version": 3
   },
   "file_extension": ".py",
   "mimetype": "text/x-python",
   "name": "python",
   "nbconvert_exporter": "python",
   "pygments_lexer": "ipython3",
   "version": "3.7.3"
  }
 },
 "nbformat": 4,
 "nbformat_minor": 2
}
