{
 "cells": [
  {
   "cell_type": "markdown",
   "metadata": {},
   "source": [
    "## Attempt 1 - Accepted"
   ]
  },
  {
   "cell_type": "code",
   "execution_count": null,
   "metadata": {},
   "outputs": [],
   "source": [
    "class Solution:\n",
    "    def maximum69Number (self, num: int) -> int:\n",
    "        s=str(num)\n",
    "        res=[c for c in str(num)]\n",
    "        for idx,c in enumerate(s):\n",
    "            if c==\"6\":\n",
    "                res[idx]=\"9\"\n",
    "                return int(\"\".join(res))\n",
    "        return int(\"\".join(res))"
   ]
  },
  {
   "cell_type": "markdown",
   "metadata": {},
   "source": [
    "## Attempt 1 - Accepted"
   ]
  },
  {
   "cell_type": "code",
   "execution_count": null,
   "metadata": {},
   "outputs": [],
   "source": [
    "class Solution {\n",
    "public:\n",
    "    int maximum69Number (int num) {\n",
    "        std::string s = std::to_string(num); ## --> std::to_string function\n",
    "        int L = s.size();\n",
    "        for (int idx = 0; idx < L ; idx++) {\n",
    "            if (s[idx] == '6') {\n",
    "                s[idx] = '9';\n",
    "                break;\n",
    "            }\n",
    "        }\n",
    "        return std::stoi(s); ## --> std::stoi function\n",
    "    }\n",
    "};"
   ]
  },
  {
   "cell_type": "markdown",
   "metadata": {},
   "source": [
    "## Lessons and Thoughts\n",
    "- Straightforward with `python`: just find the most significant-bit 6 and switch it to 9."
   ]
  }
 ],
 "metadata": {
  "kernelspec": {
   "display_name": "Python 3",
   "language": "python",
   "name": "python3"
  },
  "language_info": {
   "codemirror_mode": {
    "name": "ipython",
    "version": 3
   },
   "file_extension": ".py",
   "mimetype": "text/x-python",
   "name": "python",
   "nbconvert_exporter": "python",
   "pygments_lexer": "ipython3",
   "version": "3.7.3"
  }
 },
 "nbformat": 4,
 "nbformat_minor": 2
}
