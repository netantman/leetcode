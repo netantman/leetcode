{
 "cells": [
  {
   "cell_type": "markdown",
   "metadata": {},
   "source": [
    "## Attempt 1 - Accepted"
   ]
  },
  {
   "cell_type": "code",
   "execution_count": null,
   "metadata": {},
   "outputs": [],
   "source": [
    "class Solution:\n",
    "    def titleToNumber(self, s: str) -> int:\n",
    "        letters={\n",
    "            \"A\":1, \"B\":2, \"C\":3, \"D\":4, \"E\":5,\n",
    "            \"F\":6, \"G\":7, \"H\":8, \"I\":9, \"J\":10,\n",
    "            \"K\":11, \"L\":12, \"M\":13, \"N\":14, \"O\":15,\n",
    "            \"P\":16, \"Q\":17, \"R\":18, \"S\":19, \"T\":20,\n",
    "            \"U\":21, \"V\":22, \"W\":23, \"X\":24, \"Y\":25,\n",
    "            \"Z\":26\n",
    "        }\n",
    "        head=s[0]\n",
    "        s=s[1:]\n",
    "        res=letters[head]\n",
    "        while s!=\"\":\n",
    "            head=s[0]\n",
    "            s=s[1:]\n",
    "            res=res*26+letters[head]\n",
    "        return res"
   ]
  },
  {
   "cell_type": "markdown",
   "metadata": {},
   "source": [
    "## Lessons and Thoughts\n",
    "- Simple maths problem"
   ]
  }
 ],
 "metadata": {
  "kernelspec": {
   "display_name": "Python 3",
   "language": "python",
   "name": "python3"
  },
  "language_info": {
   "codemirror_mode": {
    "name": "ipython",
    "version": 3
   },
   "file_extension": ".py",
   "mimetype": "text/x-python",
   "name": "python",
   "nbconvert_exporter": "python",
   "pygments_lexer": "ipython3",
   "version": "3.7.3"
  }
 },
 "nbformat": 4,
 "nbformat_minor": 2
}
