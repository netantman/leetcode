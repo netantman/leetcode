{
 "cells": [
  {
   "cell_type": "markdown",
   "metadata": {},
   "source": [
    "## Attempt 1 - Wrong Answer"
   ]
  },
  {
   "cell_type": "code",
   "execution_count": null,
   "metadata": {},
   "outputs": [],
   "source": [
    "class Solution:\n",
    "    def isHappy(self, n: int) -> bool:\n",
    "        if n is 1:\n",
    "            return True\n",
    "        cache=set()\n",
    "        res=n\n",
    "        while res!=1:\n",
    "            if res in cache:\n",
    "                return False\n",
    "            digits=[int(c)*int(c) for c in str(res)]\n",
    "            res=sum(digits)\n",
    "            cache.add(res)  ## --> this will lead 1 into the cache, which we do not want.\n",
    "        return True"
   ]
  },
  {
   "cell_type": "markdown",
   "metadata": {},
   "source": [
    "## Attempt 2 - Accepted"
   ]
  },
  {
   "cell_type": "code",
   "execution_count": null,
   "metadata": {},
   "outputs": [],
   "source": [
    "class Solution:\n",
    "    def isHappy(self, n: int) -> bool:\n",
    "        if n is 1:\n",
    "            return True\n",
    "        cache=set()\n",
    "        res=n\n",
    "        while res!=1:\n",
    "            if res in cache:\n",
    "                return False\n",
    "            cache.add(res) ## --> cache when we are sure it is not 1\n",
    "            digits=[int(c)*int(c) for c in str(res)]\n",
    "            res=sum(digits)\n",
    "        return True"
   ]
  },
  {
   "cell_type": "markdown",
   "metadata": {},
   "source": [
    "## Lessons and Thoughts\n",
    "- Tripped by a minor mistake."
   ]
  }
 ],
 "metadata": {
  "kernelspec": {
   "display_name": "Python 3",
   "language": "python",
   "name": "python3"
  },
  "language_info": {
   "codemirror_mode": {
    "name": "ipython",
    "version": 3
   },
   "file_extension": ".py",
   "mimetype": "text/x-python",
   "name": "python",
   "nbconvert_exporter": "python",
   "pygments_lexer": "ipython3",
   "version": "3.7.3"
  }
 },
 "nbformat": 4,
 "nbformat_minor": 2
}
