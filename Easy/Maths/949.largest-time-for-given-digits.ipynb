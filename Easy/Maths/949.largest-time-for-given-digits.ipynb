{
 "cells": [
  {
   "cell_type": "markdown",
   "metadata": {},
   "source": [
    "## Attempt 1 - Accepted"
   ]
  },
  {
   "cell_type": "code",
   "execution_count": null,
   "metadata": {},
   "outputs": [],
   "source": [
    "class Solution:\n",
    "    def largestTimeFromDigits(self, A: List[int]) -> str:\n",
    "        maxx=-1\n",
    "        res=\"\"\n",
    "        for h1, h2, m1, m2 in itertools.permutations(A):\n",
    "            hours=10*h1+h2\n",
    "            minutes=10*m1+m2\n",
    "            time=60*hours+minutes\n",
    "            if 0<=hours<=23 and 0<=minutes<=59 and time>maxx:\n",
    "                maxx=time\n",
    "                res=\"{}{}:{}{}\".format(h1,h2,m1,m2)\n",
    "        return res"
   ]
  },
  {
   "cell_type": "markdown",
   "metadata": {},
   "source": [
    "## Lessons and Thoughts\n",
    "- The most brute force - did not expect this will pass. Otherwise, dealing with cases one by one is too fragmented."
   ]
  }
 ],
 "metadata": {
  "kernelspec": {
   "display_name": "Python 3",
   "language": "python",
   "name": "python3"
  },
  "language_info": {
   "codemirror_mode": {
    "name": "ipython",
    "version": 3
   },
   "file_extension": ".py",
   "mimetype": "text/x-python",
   "name": "python",
   "nbconvert_exporter": "python",
   "pygments_lexer": "ipython3",
   "version": "3.7.3"
  }
 },
 "nbformat": 4,
 "nbformat_minor": 2
}
