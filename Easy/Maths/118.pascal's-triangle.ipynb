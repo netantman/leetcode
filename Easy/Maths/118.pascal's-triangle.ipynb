{
 "cells": [
  {
   "cell_type": "markdown",
   "metadata": {},
   "source": [
    "## Attempt 1 - Accepted"
   ]
  },
  {
   "cell_type": "code",
   "execution_count": null,
   "metadata": {},
   "outputs": [],
   "source": [
    "class Solution:\n",
    "    def generate(self, numRows: int) -> List[List[int]]:\n",
    "        \n",
    "        def factorial(n):\n",
    "            if n<=1:\n",
    "                return 1\n",
    "            else:\n",
    "                return n*factorial(n-1)\n",
    "        \n",
    "        if numRows<=0:\n",
    "            return []\n",
    "        res=[]\n",
    "        n=numRows-1\n",
    "        for idx in range(numRows):\n",
    "            row=[int(factorial(idx)/(factorial(k)*factorial(idx-k))) for k in range(idx+1)]\n",
    "            res.append(row)\n",
    "        \n",
    "        return res"
   ]
  },
  {
   "cell_type": "markdown",
   "metadata": {},
   "source": [
    "## Lessons and Thoughts\n",
    "- If we do not use the maths formula, the code may be so much more complicated."
   ]
  }
 ],
 "metadata": {
  "kernelspec": {
   "display_name": "Python 3",
   "language": "python",
   "name": "python3"
  },
  "language_info": {
   "codemirror_mode": {
    "name": "ipython",
    "version": 3
   },
   "file_extension": ".py",
   "mimetype": "text/x-python",
   "name": "python",
   "nbconvert_exporter": "python",
   "pygments_lexer": "ipython3",
   "version": "3.7.3"
  }
 },
 "nbformat": 4,
 "nbformat_minor": 2
}
