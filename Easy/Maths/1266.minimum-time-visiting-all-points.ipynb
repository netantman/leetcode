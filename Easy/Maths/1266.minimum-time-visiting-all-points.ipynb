{
 "cells": [
  {
   "cell_type": "markdown",
   "metadata": {},
   "source": [
    "## Attempt 1 - Time Limit Exceeded"
   ]
  },
  {
   "cell_type": "code",
   "execution_count": null,
   "metadata": {},
   "outputs": [],
   "source": [
    "class Solution:\n",
    "    def minTimeToVisitAllPoints(self, points: List[List[int]]) -> int:\n",
    "        def nexxt(fro, to):\n",
    "            fx,fy=tuple(fro)\n",
    "            tx,ty=tuple(to)\n",
    "            if fx+fy==tx+ty or fx-fy==tx-ty:\n",
    "                return abs(fx-tx)\n",
    "            \n",
    "            dist=1\n",
    "            up={(fx,fy+1)}\n",
    "            down={(fx,fy-1)}\n",
    "            left={(fx-1,fy)}\n",
    "            right={(fx+1,fy)}\n",
    "            \n",
    "            while dist<=1000:\n",
    "                if (tuple(to) in up) or (tuple(to) in down) or (tuple(to) in left) or (tuple(to) in right):\n",
    "                    return dist\n",
    "                \n",
    "                tmp=set()\n",
    "                for u in up:\n",
    "                    ux, uy=u\n",
    "                    tmp.add((ux-1,uy+1))\n",
    "                    tmp.add((ux,uy+1))\n",
    "                    tmp.add((ux+1,uy+1))\n",
    "                up=tmp\n",
    "                if tuple(to) in up:\n",
    "                    return dist+1\n",
    "                \n",
    "                tmp=set()\n",
    "                for d in down:\n",
    "                    dx, dy=d\n",
    "                    tmp.add((dx-1,dy-1))\n",
    "                    tmp.add((dx,dy-1))\n",
    "                    tmp.add((dx+1,dy-1))\n",
    "                down=tmp\n",
    "                if tuple(to) in down:\n",
    "                    return dist+1\n",
    "\n",
    "                tmp=set()\n",
    "                for l in left:\n",
    "                    lx, ly=l\n",
    "                    tmp.add((lx-1,ly+1))\n",
    "                    tmp.add((lx-1,ly))\n",
    "                    tmp.add((lx-1,ly-1))\n",
    "                left=tmp\n",
    "                if tuple(to) in left:\n",
    "                    return dist+1\n",
    "\n",
    "                tmp=set()\n",
    "                for r in right:\n",
    "                    rx, ry=r\n",
    "                    tmp.add((rx+1,ry-1))\n",
    "                    tmp.add((rx+1,ry))\n",
    "                    tmp.add((rx+1,ry+1))\n",
    "                right=tmp\n",
    "                if tuple(to) in right:\n",
    "                    return dist+1\n",
    "                \n",
    "                dist+=1\n",
    "            \n",
    "            return dist\n",
    "\n",
    "            \n",
    "            \n",
    "        L=len(points)\n",
    "        if L<2:\n",
    "            return 0\n",
    "        res=0\n",
    "        for idx in range(L-1):\n",
    "            res+=nexxt(points[idx], points[idx+1])\n",
    "        return res"
   ]
  },
  {
   "cell_type": "markdown",
   "metadata": {},
   "source": [
    "## Attempt 2 - Accepted"
   ]
  },
  {
   "cell_type": "code",
   "execution_count": null,
   "metadata": {},
   "outputs": [],
   "source": [
    "class Solution:\n",
    "    def minTimeToVisitAllPoints(self, points: List[List[int]]) -> int:\n",
    "        def nexxt(fro, to):\n",
    "            fx,fy=tuple(fro)\n",
    "            tx,ty=tuple(to)\n",
    "            dx=abs(fx-tx)\n",
    "            dy=abs(fy-ty)\n",
    "            \n",
    "            return max(dx,dy)\n",
    "      \n",
    "        L=len(points)\n",
    "        if L<2:\n",
    "            return 0\n",
    "        res=0\n",
    "        for idx in range(L-1):\n",
    "            res+=nexxt(points[idx], points[idx+1])\n",
    "        return res"
   ]
  },
  {
   "cell_type": "markdown",
   "metadata": {},
   "source": [
    "## Lessons and Thoughts\n",
    "- The key is to recognize the right distance from a point.\n",
    "- You were overthinking this."
   ]
  }
 ],
 "metadata": {
  "kernelspec": {
   "display_name": "Python 3",
   "language": "python",
   "name": "python3"
  },
  "language_info": {
   "codemirror_mode": {
    "name": "ipython",
    "version": 3
   },
   "file_extension": ".py",
   "mimetype": "text/x-python",
   "name": "python",
   "nbconvert_exporter": "python",
   "pygments_lexer": "ipython3",
   "version": "3.7.3"
  }
 },
 "nbformat": 4,
 "nbformat_minor": 2
}
