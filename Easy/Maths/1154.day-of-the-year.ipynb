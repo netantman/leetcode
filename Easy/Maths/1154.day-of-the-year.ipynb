{
 "cells": [
  {
   "cell_type": "markdown",
   "metadata": {},
   "source": [
    "## Attempt 1 - Accepted"
   ]
  },
  {
   "cell_type": "code",
   "execution_count": null,
   "metadata": {},
   "outputs": [],
   "source": [
    "class Solution:\n",
    "    def dayOfYear(self, date: str) -> int:\n",
    "        year, month, day=tuple(date.split(\"-\"))\n",
    "        days=[31, 28, 31, 30, 31, 30, 31, 31, 30, 31, 30, 31]\n",
    "        year, month, day=int(year), int(month), int(day)\n",
    "        if year%4==0:\n",
    "            if year%25>0 or year%16==0:\n",
    "                days[1]=29\n",
    "        res=sum(days[:month-1])\n",
    "        res+=day\n",
    "        return res"
   ]
  },
  {
   "cell_type": "markdown",
   "metadata": {},
   "source": [
    "## Lessons and Thoughts\n",
    "- It is a bit annoying to account for leap years."
   ]
  }
 ],
 "metadata": {
  "kernelspec": {
   "display_name": "Python 3",
   "language": "python",
   "name": "python3"
  },
  "language_info": {
   "codemirror_mode": {
    "name": "ipython",
    "version": 3
   },
   "file_extension": ".py",
   "mimetype": "text/x-python",
   "name": "python",
   "nbconvert_exporter": "python",
   "pygments_lexer": "ipython3",
   "version": "3.7.3"
  }
 },
 "nbformat": 4,
 "nbformat_minor": 2
}
