{
 "cells": [
  {
   "cell_type": "markdown",
   "metadata": {},
   "source": [
    "## Attempt 1 - Accepted"
   ]
  },
  {
   "cell_type": "code",
   "execution_count": null,
   "metadata": {},
   "outputs": [],
   "source": [
    "class Solution:\n",
    "    def surfaceArea(self, grid: List[List[int]]) -> int:\n",
    "        res=0\n",
    "        R,C=len(grid),len(grid[0])\n",
    "        for r in range(R):\n",
    "            row=grid[r]\n",
    "            res+=2*sum([1 if elem>0 else 0 for elem in row])\n",
    "            res+=row[0]\n",
    "            res+=row[-1]\n",
    "            for c in range(C-1):\n",
    "                res+=abs(row[c]-row[c+1])\n",
    "        for c in range(C):\n",
    "            res+=grid[0][c]\n",
    "            res+=grid[-1][c]\n",
    "            for r in range(R-1):\n",
    "                res+=abs(grid[r][c]-grid[r+1][c])\n",
    "        return res"
   ]
  },
  {
   "cell_type": "markdown",
   "metadata": {},
   "source": [
    "## Lessons and Thoughts\n",
    "- The key is to recognize what will count towards the expose surface."
   ]
  }
 ],
 "metadata": {
  "kernelspec": {
   "display_name": "Python 3",
   "language": "python",
   "name": "python3"
  },
  "language_info": {
   "codemirror_mode": {
    "name": "ipython",
    "version": 3
   },
   "file_extension": ".py",
   "mimetype": "text/x-python",
   "name": "python",
   "nbconvert_exporter": "python",
   "pygments_lexer": "ipython3",
   "version": "3.7.3"
  }
 },
 "nbformat": 4,
 "nbformat_minor": 2
}
