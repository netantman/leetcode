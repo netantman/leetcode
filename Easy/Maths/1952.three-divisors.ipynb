{
 "cells": [
  {
   "cell_type": "markdown",
   "metadata": {},
   "source": [
    "## Attempt 1 - Accepted"
   ]
  },
  {
   "cell_type": "code",
   "execution_count": null,
   "metadata": {},
   "outputs": [],
   "source": [
    "class Solution:\n",
    "    def isThree(self, n: int) -> bool:\n",
    "        table = set([idx for idx in range(2, 101)])\n",
    "        primes = set()\n",
    "        while table:\n",
    "            p = min(table)\n",
    "            primes.add(p)\n",
    "            curr = p\n",
    "            while curr <= 100:\n",
    "                if curr in table:\n",
    "                    table.remove(curr)\n",
    "                curr += p\n",
    "        prime_sqr = {p * p for p in primes}\n",
    "        return n in prime_sqr"
   ]
  },
  {
   "cell_type": "markdown",
   "metadata": {},
   "source": [
    "## Lessons and Thoughts\n",
    "- The main part is to get all primes."
   ]
  }
 ],
 "metadata": {
  "kernelspec": {
   "display_name": "Python 3",
   "language": "python",
   "name": "python3"
  },
  "language_info": {
   "codemirror_mode": {
    "name": "ipython",
    "version": 3
   },
   "file_extension": ".py",
   "mimetype": "text/x-python",
   "name": "python",
   "nbconvert_exporter": "python",
   "pygments_lexer": "ipython3",
   "version": "3.7.3"
  }
 },
 "nbformat": 4,
 "nbformat_minor": 2
}
