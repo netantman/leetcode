{
 "cells": [
  {
   "cell_type": "markdown",
   "metadata": {},
   "source": [
    "## Attempt 1 - Runtime Error"
   ]
  },
  {
   "cell_type": "code",
   "execution_count": null,
   "metadata": {},
   "outputs": [],
   "source": [
    "class Solution:\n",
    "    def checkStraightLine(self, coordinates: List[List[int]]) -> bool:\n",
    "        p1,p2=coordinates[0],coordinates[1]\n",
    "        if p1[0]==p2[0]:\n",
    "            slope=float('inf')\n",
    "        else:\n",
    "            slope=(p2[1]-p1[1])/(p2[0]-p1[0])\n",
    "        \n",
    "        L=len(coordinates)\n",
    "        for idx in range(2,L):\n",
    "            p=coordinates[2] ##--> typo!\n",
    "            if slope==float('inf'):\n",
    "                if p[0]!=p1[0]:\n",
    "                    return False\n",
    "            else:\n",
    "                if (p[1]-p1[1])/(p[0]-p1[0])!=slope: ##--> here it is still possible that slope between p and p1 is infinity!\n",
    "                    return False\n",
    "        return True"
   ]
  },
  {
   "cell_type": "markdown",
   "metadata": {},
   "source": [
    "## Attempt 2 - Accepted"
   ]
  },
  {
   "cell_type": "code",
   "execution_count": null,
   "metadata": {},
   "outputs": [],
   "source": [
    "class Solution:\n",
    "    def checkStraightLine(self, coordinates: List[List[int]]) -> bool:\n",
    "        p1,p2=coordinates[0],coordinates[1]\n",
    "        if p1[0]==p2[0]:\n",
    "            slope=float('inf')\n",
    "        else:\n",
    "            slope=(p2[1]-p1[1])/(p2[0]-p1[0])\n",
    "        \n",
    "        L=len(coordinates)\n",
    "        for idx in range(2,L):\n",
    "            p=coordinates[idx]\n",
    "            if slope==float('inf'):\n",
    "                if p[0]!=p1[0]:\n",
    "                    return False\n",
    "            else:\n",
    "                if p[0]==p1[0] or ((p[1]-p1[1])/(p[0]-p1[0])!=slope):\n",
    "                    return False\n",
    "        return True"
   ]
  },
  {
   "cell_type": "markdown",
   "metadata": {},
   "source": [
    "## Lessons and Thoughts\n",
    "- Duplicate points would have been a good edge case - precluded in the problem."
   ]
  }
 ],
 "metadata": {
  "kernelspec": {
   "display_name": "Python 3",
   "language": "python",
   "name": "python3"
  },
  "language_info": {
   "codemirror_mode": {
    "name": "ipython",
    "version": 3
   },
   "file_extension": ".py",
   "mimetype": "text/x-python",
   "name": "python",
   "nbconvert_exporter": "python",
   "pygments_lexer": "ipython3",
   "version": "3.7.3"
  }
 },
 "nbformat": 4,
 "nbformat_minor": 2
}
