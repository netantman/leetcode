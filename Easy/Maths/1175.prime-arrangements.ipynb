{
 "cells": [
  {
   "cell_type": "markdown",
   "metadata": {},
   "source": [
    "## Attempt 1 - Accepted"
   ]
  },
  {
   "cell_type": "code",
   "execution_count": null,
   "metadata": {},
   "outputs": [],
   "source": [
    "class Solution:\n",
    "    def __init__(self):\n",
    "        table=set(list(range(2,101)))\n",
    "        self.primes=[]\n",
    "        this=2\n",
    "        while table:\n",
    "            mul=1\n",
    "            while this*mul<=100:\n",
    "                table.discard(this*mul)\n",
    "                mul+=1\n",
    "            self.primes.append(this)\n",
    "            if table:\n",
    "                this=min(table)\n",
    "        \n",
    "        self.factorial=[1]\n",
    "        for n in range(1,101):\n",
    "            self.factorial.append(self.factorial[-1]*n)\n",
    "                \n",
    "    def numPrimeArrangements(self, n: int) -> int:\n",
    "        if n==1:\n",
    "            return 1\n",
    "        \n",
    "        num_primes=len([p for p in self.primes if p<=n])\n",
    "        return (self.factorial[num_primes]*self.factorial[n-num_primes])%(10**9+7)"
   ]
  },
  {
   "cell_type": "markdown",
   "metadata": {},
   "source": [
    "## Lessons and Thoughts\n",
    "- The idea is to recognize that primes and non-primes are free to permutate in each category's slot.\n",
    "- `set.discard()` in `python`"
   ]
  }
 ],
 "metadata": {
  "kernelspec": {
   "display_name": "Python 3",
   "language": "python",
   "name": "python3"
  },
  "language_info": {
   "codemirror_mode": {
    "name": "ipython",
    "version": 3
   },
   "file_extension": ".py",
   "mimetype": "text/x-python",
   "name": "python",
   "nbconvert_exporter": "python",
   "pygments_lexer": "ipython3",
   "version": "3.7.3"
  }
 },
 "nbformat": 4,
 "nbformat_minor": 2
}
