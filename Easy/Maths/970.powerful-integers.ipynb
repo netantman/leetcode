{
 "cells": [
  {
   "cell_type": "markdown",
   "metadata": {},
   "source": [
    "## Attempt 1 - Time Limit Exceeded"
   ]
  },
  {
   "cell_type": "code",
   "execution_count": null,
   "metadata": {},
   "outputs": [],
   "source": [
    "class Solution:\n",
    "    def powerfulIntegers(self, x: int, y: int, bound: int) -> List[int]:\n",
    "        I=0\n",
    "        while x**I<=bound:\n",
    "            I+=1\n",
    "        J=0\n",
    "        while y**J<=bound: ## --> did not handle x or y is 1.\n",
    "            J+=1\n",
    "        \n",
    "        res=set([x**i+y**j for i in range(I) for j in range(J) if x**i+y**j<=bound])\n",
    "        return list(res)"
   ]
  },
  {
   "cell_type": "markdown",
   "metadata": {},
   "source": [
    "## Attempt 2 -"
   ]
  },
  {
   "cell_type": "code",
   "execution_count": null,
   "metadata": {},
   "outputs": [],
   "source": [
    "class Solution:\n",
    "    def powerfulIntegers(self, x: int, y: int, bound: int) -> List[int]:\n",
    "        if min(x,y)>1:\n",
    "            I=0\n",
    "            while x**I<=bound:\n",
    "                I+=1\n",
    "            J=0\n",
    "            while y**J<=bound:\n",
    "                J+=1\n",
    "            res=set([x**i+y**j for i in range(I) for j in range(J) if x**i+y**j<=bound])\n",
    "            return list(res)\n",
    "        elif max(x,y)<=1:\n",
    "            return [2] if 2<=bound else []\n",
    "        else:\n",
    "            x,y=min(x,y),max(x,y)\n",
    "            J=0\n",
    "            while y**J<=bound:\n",
    "                J+=1\n",
    "            res=set([1+y**j for j in range(J) if 1+y**j<=bound])\n",
    "            return list(res)"
   ]
  },
  {
   "cell_type": "markdown",
   "metadata": {},
   "source": [
    "## Lessons and Thoughts\n",
    "- Almost brute force - just be careful of the edge case of `x` and/or `y` is 1."
   ]
  }
 ],
 "metadata": {
  "kernelspec": {
   "display_name": "Python 3",
   "language": "python",
   "name": "python3"
  },
  "language_info": {
   "codemirror_mode": {
    "name": "ipython",
    "version": 3
   },
   "file_extension": ".py",
   "mimetype": "text/x-python",
   "name": "python",
   "nbconvert_exporter": "python",
   "pygments_lexer": "ipython3",
   "version": "3.7.3"
  }
 },
 "nbformat": 4,
 "nbformat_minor": 2
}
