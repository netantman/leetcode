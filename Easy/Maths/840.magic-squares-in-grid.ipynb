{
 "cells": [
  {
   "cell_type": "markdown",
   "metadata": {},
   "source": [
    "## Attempt 1 - Accepted"
   ]
  },
  {
   "cell_type": "code",
   "execution_count": null,
   "metadata": {},
   "outputs": [],
   "source": [
    "class Solution:\n",
    "    def numMagicSquaresInside(self, grid: List[List[int]]) -> int:\n",
    "        def is_magic(r,c,R,C,grid):\n",
    "            if grid[r][c]!=5:\n",
    "                return False\n",
    "            if set(grid[r-1][c-1:c+2]+grid[r][c-1:c+2]+grid[r+1][c-1:c+2])!=set(list(range(1,10))):\n",
    "                return False\n",
    "            if grid[r-1][c]+grid[r+1][c]!=10 or grid[r][c-1]+grid[r][c+1]!=10 or grid[r-1][c-1]+grid[r+1][c+1]!=10 or grid[r+1][c-1]+grid[r-1][c+1]!=10:\n",
    "                return False\n",
    "            if grid[r-1][c-1]+grid[r-1][c]+grid[r-1][c+1]!=15 or grid[r+1][c-1]+grid[r+1][c]+grid[r+1][c+1]!=15:\n",
    "                return False\n",
    "            if grid[r-1][c-1]+grid[r][c-1]+grid[r+1][c-1]!=15 or grid[r-1][c+1]+grid[r][c+1]+grid[r+1][c+1]!=15:\n",
    "                return False\n",
    "            return True\n",
    "        \n",
    "        res=0\n",
    "        R=len(grid)\n",
    "        C=len(grid[0])\n",
    "        for r in range(1,R-1):\n",
    "            for c in range(1,C-1):\n",
    "                if is_magic(r,c,R,C,grid):\n",
    "                    res+=1\n",
    "        \n",
    "        return res"
   ]
  },
  {
   "cell_type": "markdown",
   "metadata": {},
   "source": [
    "## Lessons and Thoughts\n",
    "- Brute force, using the maths properties of magic squares."
   ]
  }
 ],
 "metadata": {
  "kernelspec": {
   "display_name": "Python 3",
   "language": "python",
   "name": "python3"
  },
  "language_info": {
   "codemirror_mode": {
    "name": "ipython",
    "version": 3
   },
   "file_extension": ".py",
   "mimetype": "text/x-python",
   "name": "python",
   "nbconvert_exporter": "python",
   "pygments_lexer": "ipython3",
   "version": "3.7.3"
  }
 },
 "nbformat": 4,
 "nbformat_minor": 2
}
