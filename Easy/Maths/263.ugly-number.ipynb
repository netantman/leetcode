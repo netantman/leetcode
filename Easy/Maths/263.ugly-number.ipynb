{
 "cells": [
  {
   "cell_type": "markdown",
   "metadata": {},
   "source": [
    "## Attempt 1 - Wrong Answer: forgot to handle negative numbers - but the phrasing of the question may lead people to believe there is no negative inputs"
   ]
  },
  {
   "cell_type": "code",
   "execution_count": null,
   "metadata": {},
   "outputs": [],
   "source": [
    "class Solution:\n",
    "    def isUgly(self, num: int) -> bool:\n",
    "        if num==1:\n",
    "            return True\n",
    "        \n",
    "        while num>1:\n",
    "            if num%2 and num%3 and num%5:\n",
    "                return False\n",
    "            elif num%2==0:\n",
    "                num=num/2\n",
    "            elif num%3==0:\n",
    "                num=num/3\n",
    "            else:\n",
    "                num=num/5\n",
    "        return True"
   ]
  },
  {
   "cell_type": "markdown",
   "metadata": {},
   "source": [
    "## Attempt 2 - Accepted"
   ]
  },
  {
   "cell_type": "code",
   "execution_count": null,
   "metadata": {},
   "outputs": [],
   "source": [
    "class Solution:\n",
    "    def isUgly(self, num: int) -> bool:\n",
    "        if num==1:\n",
    "            return True\n",
    "        if num<=0:\n",
    "            return False\n",
    "        \n",
    "        while num>1:\n",
    "            if num%2 and num%3 and num%5:\n",
    "                return False\n",
    "            elif num%2==0:\n",
    "                num=num/2\n",
    "            elif num%3==0:\n",
    "                num=num/3\n",
    "            else:\n",
    "                num=num/5\n",
    "        return True"
   ]
  },
  {
   "cell_type": "markdown",
   "metadata": {},
   "source": [
    "## Lessons and Thoughts:\n",
    "- When an integer is 0, it is False."
   ]
  }
 ],
 "metadata": {
  "kernelspec": {
   "display_name": "Python 3",
   "language": "python",
   "name": "python3"
  },
  "language_info": {
   "codemirror_mode": {
    "name": "ipython",
    "version": 3
   },
   "file_extension": ".py",
   "mimetype": "text/x-python",
   "name": "python",
   "nbconvert_exporter": "python",
   "pygments_lexer": "ipython3",
   "version": "3.7.3"
  }
 },
 "nbformat": 4,
 "nbformat_minor": 2
}
