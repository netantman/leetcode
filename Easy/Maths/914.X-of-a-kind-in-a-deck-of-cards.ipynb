{
 "cells": [
  {
   "cell_type": "markdown",
   "metadata": {},
   "source": [
    "## Attempt 1 - Accepted"
   ]
  },
  {
   "cell_type": "code",
   "execution_count": null,
   "metadata": {},
   "outputs": [],
   "source": [
    "class Solution:\n",
    "    def hasGroupsSizeX(self, deck: List[int]) -> bool:\n",
    "        if len(deck)<=1:\n",
    "            return False\n",
    "        cache=dict()\n",
    "        for d in deck:\n",
    "            cache[d]=cache.get(d,0)+1\n",
    "        gcd=2\n",
    "        while gcd<=min(cache.values()):\n",
    "            for v in cache.values():\n",
    "                if v%gcd>0:\n",
    "                    break\n",
    "            else:\n",
    "                return True\n",
    "            gcd+=1\n",
    "        return False"
   ]
  },
  {
   "cell_type": "markdown",
   "metadata": {},
   "source": [
    "## Lessons and Thoughts\n",
    "- Recognize that actually this is asking whether all counts have gcd more than 2."
   ]
  }
 ],
 "metadata": {
  "kernelspec": {
   "display_name": "Python 3",
   "language": "python",
   "name": "python3"
  },
  "language_info": {
   "codemirror_mode": {
    "name": "ipython",
    "version": 3
   },
   "file_extension": ".py",
   "mimetype": "text/x-python",
   "name": "python",
   "nbconvert_exporter": "python",
   "pygments_lexer": "ipython3",
   "version": "3.7.3"
  }
 },
 "nbformat": 4,
 "nbformat_minor": 2
}
