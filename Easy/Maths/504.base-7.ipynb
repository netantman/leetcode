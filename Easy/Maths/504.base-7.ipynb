{
 "cells": [
  {
   "cell_type": "markdown",
   "metadata": {},
   "source": [
    "## Attempt 1 - Wrong Answer"
   ]
  },
  {
   "cell_type": "code",
   "execution_count": null,
   "metadata": {},
   "outputs": [],
   "source": [
    "class Solution:\n",
    "    def convertToBase7(self, num: int) -> str:\n",
    "        if num==0:\n",
    "            return \"0\"\n",
    "        \n",
    "        sign = \"\" if num>0 else \"-\"\n",
    "        num=abs(num)\n",
    "        m=0\n",
    "        while 7**m<num:\n",
    "            m+=1\n",
    "        if num==7**m:\n",
    "            return sign+\"1\"+\"0\"*m\n",
    "        else:\n",
    "            res=\"\"\n",
    "            idx=m-1\n",
    "            while num>0:\n",
    "                digit=num//(7**idx)\n",
    "                res+=str(digit)\n",
    "                num-=(7**idx)*digit  ## --> in the iteration if num happens to be multiples of 7**idx, it will end prematurely.\n",
    "                idx-=1\n",
    "            res=sign+res\n",
    "            return res"
   ]
  },
  {
   "cell_type": "markdown",
   "metadata": {},
   "source": [
    "## Attempt 2 - Accepted"
   ]
  },
  {
   "cell_type": "code",
   "execution_count": null,
   "metadata": {},
   "outputs": [],
   "source": [
    "class Solution:\n",
    "    def convertToBase7(self, num: int) -> str:\n",
    "        if num==0:\n",
    "            return \"0\"\n",
    "        \n",
    "        sign = \"\" if num>0 else \"-\"\n",
    "        num=abs(num)\n",
    "        m=0\n",
    "        while 7**m<num:\n",
    "            m+=1\n",
    "        if num==7**m:\n",
    "            return sign+\"1\"+\"0\"*m\n",
    "        else:\n",
    "            res=\"\"\n",
    "            idx=m-1\n",
    "            for idx in range(m-1,-1,-1):\n",
    "                digit=num//(7**idx)\n",
    "                res+=str(digit)\n",
    "                num-=(7**idx)*digit\n",
    "                idx-=1\n",
    "            res=sign+res\n",
    "            return res"
   ]
  },
  {
   "cell_type": "markdown",
   "metadata": {},
   "source": [
    "## Lessons and Thoughts\n",
    "- There is no other way to catch bugs like this, except perhaps run more cases."
   ]
  }
 ],
 "metadata": {
  "kernelspec": {
   "display_name": "Python 3",
   "language": "python",
   "name": "python3"
  },
  "language_info": {
   "codemirror_mode": {
    "name": "ipython",
    "version": 3
   },
   "file_extension": ".py",
   "mimetype": "text/x-python",
   "name": "python",
   "nbconvert_exporter": "python",
   "pygments_lexer": "ipython3",
   "version": "3.7.3"
  }
 },
 "nbformat": 4,
 "nbformat_minor": 2
}
