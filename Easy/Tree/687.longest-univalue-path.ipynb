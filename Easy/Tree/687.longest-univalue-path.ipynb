{
 "cells": [
  {
   "cell_type": "markdown",
   "metadata": {},
   "source": [
    "## Attempt 1 - Runtime Error"
   ]
  },
  {
   "cell_type": "code",
   "execution_count": null,
   "metadata": {},
   "outputs": [],
   "source": [
    "# Definition for a binary tree node.\n",
    "# class TreeNode:\n",
    "#     def __init__(self, val=0, left=None, right=None):\n",
    "#         self.val = val\n",
    "#         self.left = left\n",
    "#         self.right = right\n",
    "class Solution:\n",
    "    def longestUnivaluePath(self, root: TreeNode) -> int:\n",
    "        def inner(root):\n",
    "            if root is None:\n",
    "                up_growing=dict()\n",
    "                overall=dict()\n",
    "                return up_growing, overall\n",
    "            if root.left is None and root.right is None:\n",
    "                up_growing={root.val:1}\n",
    "                overall={root.val:1}\n",
    "                return up_growing, overall\n",
    "\n",
    "            left=inner(root.left)\n",
    "            right=inner(root.right)\n",
    "            up_growing=dict()\n",
    "            overall=dict()\n",
    "            for k in set(list(left[0].keys())+list(right[0].keys())):\n",
    "                if k==root.val:\n",
    "                    up_growing[k]=max(left[0].get(k,0), right[0].get(k,0))+1\n",
    "                    overall[k]=max(left[0].get(k,0)+right[0].get(k,0)+1, overall.get(k,0))\n",
    "                else:\n",
    "                    up_growing[k]=0\n",
    "                    overall[k]=max(left[1].get(k,0), right[1].get(k,0))\n",
    "            up_growing[root.val]=up_growing.get(root.val,1)\n",
    "            overall[root.val]=overall.get(root.val,1)\n",
    "            return up_growing, overall\n",
    "        \n",
    "        up_growing, overall=inner(root) ## --> did not handle null tree\n",
    "        return max(overall.values())-1"
   ]
  },
  {
   "cell_type": "markdown",
   "metadata": {},
   "source": [
    "## Attempt 2 - Accepted"
   ]
  },
  {
   "cell_type": "code",
   "execution_count": null,
   "metadata": {},
   "outputs": [],
   "source": [
    "# Definition for a binary tree node.\n",
    "# class TreeNode:\n",
    "#     def __init__(self, val=0, left=None, right=None):\n",
    "#         self.val = val\n",
    "#         self.left = left\n",
    "#         self.right = right\n",
    "class Solution:\n",
    "    def longestUnivaluePath(self, root: TreeNode) -> int:\n",
    "        def inner(root):\n",
    "            if root is None:\n",
    "                up_growing=dict()\n",
    "                overall=dict()\n",
    "                return up_growing, overall\n",
    "            if root.left is None and root.right is None:\n",
    "                up_growing={root.val:1}\n",
    "                overall={root.val:1}\n",
    "                return up_growing, overall\n",
    "\n",
    "            left=inner(root.left)\n",
    "            right=inner(root.right)\n",
    "            up_growing=dict()\n",
    "            overall=dict()\n",
    "            for k in set(list(left[0].keys())+list(right[0].keys())):\n",
    "                if k==root.val:\n",
    "                    up_growing[k]=max(left[0].get(k,0), right[0].get(k,0))+1\n",
    "                    overall[k]=max(left[0].get(k,0)+right[0].get(k,0)+1, overall.get(k,0), left[1].get(k,0), right[1].get(k,0))\n",
    "                else:\n",
    "                    up_growing[k]=0\n",
    "                    overall[k]=max(left[1].get(k,0), right[1].get(k,0))\n",
    "            up_growing[root.val]=up_growing.get(root.val,1)\n",
    "            overall[root.val]=overall.get(root.val,1)\n",
    "            return up_growing, overall\n",
    "        \n",
    "        if root is None:\n",
    "            return 0\n",
    "        \n",
    "        up_growing, overall=inner(root)\n",
    "        return max(overall.values())-1"
   ]
  },
  {
   "cell_type": "markdown",
   "metadata": {},
   "source": [
    "## Lessons and Thoughts\n",
    "- For using recursions on trees, always try to think if null tree can be handled."
   ]
  }
 ],
 "metadata": {
  "kernelspec": {
   "display_name": "Python 3",
   "language": "python",
   "name": "python3"
  },
  "language_info": {
   "codemirror_mode": {
    "name": "ipython",
    "version": 3
   },
   "file_extension": ".py",
   "mimetype": "text/x-python",
   "name": "python",
   "nbconvert_exporter": "python",
   "pygments_lexer": "ipython3",
   "version": "3.7.3"
  }
 },
 "nbformat": 4,
 "nbformat_minor": 2
}
