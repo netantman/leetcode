{
 "cells": [
  {
   "cell_type": "markdown",
   "metadata": {},
   "source": [
    "## Attempt 1 - Accepted"
   ]
  },
  {
   "cell_type": "code",
   "execution_count": null,
   "metadata": {},
   "outputs": [],
   "source": [
    "# Definition for a binary tree node.\n",
    "# class TreeNode:\n",
    "#     def __init__(self, val=0, left=None, right=None):\n",
    "#         self.val = val\n",
    "#         self.left = left\n",
    "#         self.right = right\n",
    "class Solution:\n",
    "    def tree2str(self, t: TreeNode) -> str:\n",
    "        if t is None:\n",
    "            return \"\"\n",
    "        if t.left is None and t.right is None:\n",
    "            return str(t.val)\n",
    "        \n",
    "        res=str(t.val)\n",
    "        left=self.tree2str(t.left)\n",
    "        if left!=\"\":\n",
    "            res+=\"(\"+left+\")\"\n",
    "        else:\n",
    "            res+=\"()\"\n",
    "        right=self.tree2str(t.right)\n",
    "        if right!=\"\":\n",
    "            res+=\"(\"+right+\")\"\n",
    "        return res"
   ]
  },
  {
   "cell_type": "markdown",
   "metadata": {},
   "source": [
    "## Lessons and Thoughts\n",
    "- A null tree is only represented by \"()\" when it is left and right is non null."
   ]
  }
 ],
 "metadata": {
  "kernelspec": {
   "display_name": "Python 3",
   "language": "python",
   "name": "python3"
  },
  "language_info": {
   "codemirror_mode": {
    "name": "ipython",
    "version": 3
   },
   "file_extension": ".py",
   "mimetype": "text/x-python",
   "name": "python",
   "nbconvert_exporter": "python",
   "pygments_lexer": "ipython3",
   "version": "3.7.3"
  }
 },
 "nbformat": 4,
 "nbformat_minor": 2
}
