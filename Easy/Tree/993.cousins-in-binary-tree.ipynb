{
 "cells": [
  {
   "cell_type": "markdown",
   "metadata": {},
   "source": [
    "## Attempt 1 - Accepted"
   ]
  },
  {
   "cell_type": "code",
   "execution_count": null,
   "metadata": {},
   "outputs": [],
   "source": [
    "# Definition for a binary tree node.\n",
    "# class TreeNode:\n",
    "#     def __init__(self, val=0, left=None, right=None):\n",
    "#         self.val = val\n",
    "#         self.left = left\n",
    "#         self.right = right\n",
    "class Solution:\n",
    "    def isCousins(self, root: TreeNode, x: int, y: int) -> bool:\n",
    "        q=[root]\n",
    "        while len(q)>0:\n",
    "            nexxt=[]\n",
    "            nexxt_vals=[]\n",
    "            for node in q:\n",
    "                if node.left is not None:\n",
    "                    nexxt.append(node.left)\n",
    "                    nexxt_vals.append(node.left.val)\n",
    "                if node.right is not None:\n",
    "                    nexxt.append(node.right)\n",
    "                    nexxt_vals.append(node.right.val)\n",
    "                if node.left is not None and node.right is not None:\n",
    "                    if set([node.left.val, node.right.val])==set([x,y]):\n",
    "                        return False\n",
    "            if x in nexxt_vals and y in nexxt_vals:\n",
    "                return True\n",
    "            q=nexxt\n",
    "        return False"
   ]
  },
  {
   "cell_type": "markdown",
   "metadata": {},
   "source": [
    "## Lessons and Thoughts\n",
    "- Level traversal of trees."
   ]
  }
 ],
 "metadata": {
  "kernelspec": {
   "display_name": "Python 3",
   "language": "python",
   "name": "python3"
  },
  "language_info": {
   "codemirror_mode": {
    "name": "ipython",
    "version": 3
   },
   "file_extension": ".py",
   "mimetype": "text/x-python",
   "name": "python",
   "nbconvert_exporter": "python",
   "pygments_lexer": "ipython3",
   "version": "3.7.3"
  }
 },
 "nbformat": 4,
 "nbformat_minor": 2
}
