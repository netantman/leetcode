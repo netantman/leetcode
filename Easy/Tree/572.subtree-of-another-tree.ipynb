{
 "cells": [
  {
   "cell_type": "markdown",
   "metadata": {},
   "source": [
    "## Attempt 1 - Wrong Answer"
   ]
  },
  {
   "cell_type": "markdown",
   "metadata": {},
   "source": [
    "Recursively checking if some tree is a sub tree is hard to get to work. The example that fails is [3,4,5,1,null,2] and\n",
    "[3,1,2]"
   ]
  },
  {
   "cell_type": "code",
   "execution_count": null,
   "metadata": {},
   "outputs": [],
   "source": [
    "# Definition for a binary tree node.\n",
    "# class TreeNode:\n",
    "#     def __init__(self, val=0, left=None, right=None):\n",
    "#         self.val = val\n",
    "#         self.left = left\n",
    "#         self.right = right\n",
    "class Solution:\n",
    "    def isSubtree(self, s: TreeNode, t: TreeNode) -> bool:\n",
    "        if s is None and t is None:\n",
    "            return True\n",
    "        if (s is None and t is not None) or (s is not None and t is None):\n",
    "            return False\n",
    "\n",
    "        if t.val==s.val:\n",
    "            if self.isSubtree(s.left, t.left) and self.isSubtree(s.right, t.right):\n",
    "                return True\n",
    "            else:\n",
    "                return self.isSubtree(s.left, t) or self.isSubtree(s.right, t)\n",
    "        else:\n",
    "            return self.isSubtree(s.left, t) or self.isSubtree(s.right, t)"
   ]
  },
  {
   "cell_type": "markdown",
   "metadata": {},
   "source": [
    "## Attempt 2 - Wrong Answer"
   ]
  },
  {
   "cell_type": "code",
   "execution_count": null,
   "metadata": {},
   "outputs": [],
   "source": [
    "# Definition for a binary tree node.\n",
    "# class TreeNode:\n",
    "#     def __init__(self, val=0, left=None, right=None):\n",
    "#         self.val = val\n",
    "#         self.left = left\n",
    "#         self.right = right\n",
    "class Solution:\n",
    "    def isSubtree(self, s: TreeNode, t: TreeNode) -> bool:\n",
    "        def isSametree(s,t):\n",
    "            if s is None and t is None:\n",
    "                return True\n",
    "            if (s is None and t is not None) or (s is not None and t is None):\n",
    "                return False\n",
    "            \n",
    "            if s.val != t.val:\n",
    "                return False\n",
    "            else:\n",
    "                return isSametree(s.left, t.left) and isSametree(s.right, t.right)\n",
    "    \n",
    "        return isSametree(s,t) or isSametree(s.left, t) or isSametree(s.right, t) ## --> this is not the right recursion!"
   ]
  },
  {
   "cell_type": "markdown",
   "metadata": {},
   "source": [
    "## Attempt 3 - Accepted"
   ]
  },
  {
   "cell_type": "code",
   "execution_count": null,
   "metadata": {},
   "outputs": [],
   "source": [
    "# Definition for a binary tree node.\n",
    "# class TreeNode:\n",
    "#     def __init__(self, val=0, left=None, right=None):\n",
    "#         self.val = val\n",
    "#         self.left = left\n",
    "#         self.right = right\n",
    "class Solution:\n",
    "    def isSubtree(self, s: TreeNode, t: TreeNode) -> bool:\n",
    "        def isSametree(s,t):\n",
    "            if s is None and t is None:\n",
    "                return True\n",
    "            if (s is None and t is not None) or (s is not None and t is None):\n",
    "                return False\n",
    "            \n",
    "            if s.val != t.val:\n",
    "                return False\n",
    "            else:\n",
    "                return isSametree(s.left, t.left) and isSametree(s.right, t.right)\n",
    "    \n",
    "        if isSametree(s,t):\n",
    "            return True\n",
    "        if s is None:\n",
    "            return False\n",
    "        else:\n",
    "            return self.isSubtree(s.left, t) or self.isSubtree(s.right, t)"
   ]
  },
  {
   "cell_type": "markdown",
   "metadata": {},
   "source": [
    "## Lessons and Thoughts\n",
    "- The key is to recognize that the sub-routine is to compare for the same tree!"
   ]
  }
 ],
 "metadata": {
  "kernelspec": {
   "display_name": "Python 3",
   "language": "python",
   "name": "python3"
  },
  "language_info": {
   "codemirror_mode": {
    "name": "ipython",
    "version": 3
   },
   "file_extension": ".py",
   "mimetype": "text/x-python",
   "name": "python",
   "nbconvert_exporter": "python",
   "pygments_lexer": "ipython3",
   "version": "3.7.3"
  }
 },
 "nbformat": 4,
 "nbformat_minor": 2
}
