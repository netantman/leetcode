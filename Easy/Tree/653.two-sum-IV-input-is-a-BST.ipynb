{
 "cells": [
  {
   "cell_type": "markdown",
   "metadata": {},
   "source": [
    "## Attempt 1 - Accepted"
   ]
  },
  {
   "cell_type": "code",
   "execution_count": null,
   "metadata": {},
   "outputs": [],
   "source": [
    "# Definition for a binary tree node.\n",
    "# class TreeNode:\n",
    "#     def __init__(self, x):\n",
    "#         self.val = x\n",
    "#         self.left = None\n",
    "#         self.right = None\n",
    "\n",
    "class Solution:\n",
    "    def findTarget(self, root: TreeNode, k: int) -> bool:\n",
    "        def searchTree(root):\n",
    "            if not root:return []\n",
    "            return searchTree(root.left)+[root.val]+searchTree(root.right)\n",
    "        \n",
    "        arr=searchTree(root)\n",
    "        l,r=0,len(arr)-1\n",
    "        while l<r:\n",
    "            s=arr[l]+arr[r]\n",
    "            if s==k:return True\n",
    "            elif s>k:r-=1\n",
    "            else:l+=1\n",
    "        return False"
   ]
  },
  {
   "cell_type": "markdown",
   "metadata": {},
   "source": [
    "## Lessons and Thoughts\n",
    "- Though the code is from leetcode app, the idea is straightforward: just inorder the BST to return the sorted sequence, and then converging two-pointer again."
   ]
  }
 ],
 "metadata": {
  "kernelspec": {
   "display_name": "Python 3",
   "language": "python",
   "name": "python3"
  },
  "language_info": {
   "codemirror_mode": {
    "name": "ipython",
    "version": 3
   },
   "file_extension": ".py",
   "mimetype": "text/x-python",
   "name": "python",
   "nbconvert_exporter": "python",
   "pygments_lexer": "ipython3",
   "version": "3.7.3"
  }
 },
 "nbformat": 4,
 "nbformat_minor": 2
}
