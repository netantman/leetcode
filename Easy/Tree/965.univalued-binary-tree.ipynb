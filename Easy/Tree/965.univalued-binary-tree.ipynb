{
 "cells": [
  {
   "cell_type": "markdown",
   "metadata": {},
   "source": [
    "## Attempt 1 - Accepted"
   ]
  },
  {
   "cell_type": "code",
   "execution_count": null,
   "metadata": {},
   "outputs": [],
   "source": [
    "# Definition for a binary tree node.\n",
    "# class TreeNode:\n",
    "#     def __init__(self, val=0, left=None, right=None):\n",
    "#         self.val = val\n",
    "#         self.left = left\n",
    "#         self.right = right\n",
    "class Solution:\n",
    "    def isUnivalTree(self, root: TreeNode) -> bool:\n",
    "        def inner(root):\n",
    "            if root is None:\n",
    "                return True, None\n",
    "            if root.left is None and root.right is None:\n",
    "                return True, root.val\n",
    "            \n",
    "            left=inner(root.left)\n",
    "            right=inner(root.right)\n",
    "            if not left[0] or not right[0]:\n",
    "                return False, None\n",
    "            if root.left is None:\n",
    "                if right[1]!=root.val:\n",
    "                    return False, None\n",
    "                else:\n",
    "                    return True, root.val\n",
    "            if root.right is None:\n",
    "                if left[1]!=root.val:\n",
    "                    return False, None\n",
    "                else:\n",
    "                    return True, root.val\n",
    "            \n",
    "            if left[1]!=root.val or right[1]!=root.val:\n",
    "                return False, None\n",
    "            else:\n",
    "                return True, root.val\n",
    "        \n",
    "        res=inner(root)\n",
    "        return res[0]"
   ]
  },
  {
   "cell_type": "markdown",
   "metadata": {},
   "source": [
    "## Lessons and Thoughts\n",
    "- Usual recursion for tree problems"
   ]
  }
 ],
 "metadata": {
  "kernelspec": {
   "display_name": "Python 3",
   "language": "python",
   "name": "python3"
  },
  "language_info": {
   "codemirror_mode": {
    "name": "ipython",
    "version": 3
   },
   "file_extension": ".py",
   "mimetype": "text/x-python",
   "name": "python",
   "nbconvert_exporter": "python",
   "pygments_lexer": "ipython3",
   "version": "3.7.3"
  }
 },
 "nbformat": 4,
 "nbformat_minor": 2
}
