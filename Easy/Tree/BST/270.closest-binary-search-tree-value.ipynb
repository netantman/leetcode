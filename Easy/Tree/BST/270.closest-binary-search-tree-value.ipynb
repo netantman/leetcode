{
 "cells": [
  {
   "cell_type": "markdown",
   "metadata": {},
   "source": [
    "## Attempt 1 - Accepted"
   ]
  },
  {
   "cell_type": "code",
   "execution_count": null,
   "metadata": {},
   "outputs": [],
   "source": [
    "# Definition for a binary tree node.\n",
    "# class TreeNode:\n",
    "#     def __init__(self, val=0, left=None, right=None):\n",
    "#         self.val = val\n",
    "#         self.left = left\n",
    "#         self.right = right\n",
    "class Solution:\n",
    "    def closestValue(self, root: Optional[TreeNode], target: float) -> int:\n",
    "        self.res = root.val\n",
    "        \n",
    "        def inner(root, target):\n",
    "            if abs(self.res - target) > abs(root.val - target):\n",
    "                self.res = root.val\n",
    "            \n",
    "            if target < root.val:\n",
    "                if root.left is None:\n",
    "                    return\n",
    "                else:\n",
    "                    inner(root.left, target)\n",
    "            \n",
    "            if target > root.val:\n",
    "                if root.right is None:\n",
    "                    return\n",
    "                else:\n",
    "                    inner(root.right, target)\n",
    "            \n",
    "            return\n",
    "        \n",
    "        inner(root, target)\n",
    "        return self.res"
   ]
  },
  {
   "cell_type": "markdown",
   "metadata": {},
   "source": [
    "## Lessons and Thoughts\n",
    "- Straightforward"
   ]
  }
 ],
 "metadata": {
  "kernelspec": {
   "display_name": "Python 3",
   "language": "python",
   "name": "python3"
  },
  "language_info": {
   "codemirror_mode": {
    "name": "ipython",
    "version": 3
   },
   "file_extension": ".py",
   "mimetype": "text/x-python",
   "name": "python",
   "nbconvert_exporter": "python",
   "pygments_lexer": "ipython3",
   "version": "3.7.3"
  }
 },
 "nbformat": 4,
 "nbformat_minor": 2
}
