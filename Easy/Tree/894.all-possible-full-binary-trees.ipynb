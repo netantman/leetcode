{
 "cells": [
  {
   "cell_type": "markdown",
   "metadata": {},
   "source": [
    "## Attempt 1 - Accepted"
   ]
  },
  {
   "cell_type": "code",
   "execution_count": null,
   "metadata": {},
   "outputs": [],
   "source": [
    "# Definition for a binary tree node.\n",
    "# class TreeNode:\n",
    "#     def __init__(self, val=0, left=None, right=None):\n",
    "#         self.val = val\n",
    "#         self.left = left\n",
    "#         self.right = right\n",
    "class Solution:\n",
    "    def allPossibleFBT(self, N: int) -> List[TreeNode]:\n",
    "        res=[[] for _ in range(N+1)]\n",
    "        res[0]=[]\n",
    "        res[1]=[TreeNode()]\n",
    "        for idx in range(2,N+1):\n",
    "            for i in range(idx):\n",
    "                j=idx-1-i\n",
    "                for l in res[i]:\n",
    "                    for r in res[j]:\n",
    "                        root=TreeNode()\n",
    "                        root.left=l\n",
    "                        root.right=r\n",
    "                        res[idx].append(root)\n",
    "        return res[N]"
   ]
  },
  {
   "cell_type": "markdown",
   "metadata": {},
   "source": [
    "## Lessons and Thoughts\n",
    "- The key is to recognize the sub trees themselves are also full."
   ]
  }
 ],
 "metadata": {
  "kernelspec": {
   "display_name": "Python 3",
   "language": "python",
   "name": "python3"
  },
  "language_info": {
   "codemirror_mode": {
    "name": "ipython",
    "version": 3
   },
   "file_extension": ".py",
   "mimetype": "text/x-python",
   "name": "python",
   "nbconvert_exporter": "python",
   "pygments_lexer": "ipython3",
   "version": "3.7.3"
  }
 },
 "nbformat": 4,
 "nbformat_minor": 2
}
