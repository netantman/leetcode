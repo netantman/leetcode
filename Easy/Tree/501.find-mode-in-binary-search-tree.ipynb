{
 "cells": [
  {
   "cell_type": "markdown",
   "metadata": {},
   "source": [
    "## Attempt 1 - Accepted"
   ]
  },
  {
   "cell_type": "code",
   "execution_count": null,
   "metadata": {},
   "outputs": [],
   "source": [
    "# Definition for a binary tree node.\n",
    "# class TreeNode:\n",
    "#     def __init__(self, val=0, left=None, right=None):\n",
    "#         self.val = val\n",
    "#         self.left = left\n",
    "#         self.right = right\n",
    "class Solution:\n",
    "    def __init__(self):\n",
    "        self.prev=None\n",
    "        self.curr=None\n",
    "        self.cnt=0\n",
    "        self.maxx=0\n",
    "        self.res=[]\n",
    "    \n",
    "    def findMode(self, root: TreeNode) -> List[int]:\n",
    "        def in_order(root):\n",
    "            if root is None:\n",
    "                return\n",
    "            \n",
    "            in_order(root.left)\n",
    "            self.prev, self.curr=self.curr, root.val\n",
    "            if self.prev==self.curr:\n",
    "                self.cnt+=1\n",
    "            else:\n",
    "                self.cnt=1\n",
    "            if self.cnt==self.maxx:\n",
    "                self.res.append(self.curr)\n",
    "            elif self.cnt>self.maxx:\n",
    "                self.res=[self.curr]\n",
    "                self.maxx=max(self.maxx, self.cnt)\n",
    "            in_order(root.right)\n",
    "            \n",
    "            return\n",
    "        \n",
    "        in_order(root)\n",
    "        \n",
    "        return self."
   ]
  },
  {
   "cell_type": "markdown",
   "metadata": {},
   "source": [
    "## Lessons and Thoughts\n",
    "- The accepted algo solves the follow-up. The key is to recognize that the in-order traversal of BST returns a sorted array."
   ]
  }
 ],
 "metadata": {
  "kernelspec": {
   "display_name": "Python 3",
   "language": "python",
   "name": "python3"
  },
  "language_info": {
   "codemirror_mode": {
    "name": "ipython",
    "version": 3
   },
   "file_extension": ".py",
   "mimetype": "text/x-python",
   "name": "python",
   "nbconvert_exporter": "python",
   "pygments_lexer": "ipython3",
   "version": "3.7.3"
  }
 },
 "nbformat": 4,
 "nbformat_minor": 2
}
