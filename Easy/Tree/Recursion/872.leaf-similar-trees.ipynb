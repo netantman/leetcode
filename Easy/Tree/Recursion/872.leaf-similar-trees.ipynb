{
 "cells": [
  {
   "cell_type": "markdown",
   "metadata": {},
   "source": [
    "## Attempt 1 - Accepted"
   ]
  },
  {
   "cell_type": "code",
   "execution_count": null,
   "metadata": {},
   "outputs": [],
   "source": [
    "# Definition for a binary tree node.\n",
    "# class TreeNode:\n",
    "#     def __init__(self, val=0, left=None, right=None):\n",
    "#         self.val = val\n",
    "#         self.left = left\n",
    "#         self.right = right\n",
    "class Solution:\n",
    "    def leafSimilar(self, root1: TreeNode, root2: TreeNode) -> bool:\n",
    "        def get_leaves(root):\n",
    "            if root is None:\n",
    "                return []\n",
    "            if root.left is None and root.right is None:\n",
    "                return [root.val]\n",
    "            \n",
    "            left=get_leaves(root.left)\n",
    "            right=get_leaves(root.right)\n",
    "            return left+right\n",
    "        \n",
    "        leaves1=get_leaves(root1)\n",
    "        leaves2=get_leaves(root2)\n",
    "        \n",
    "        return leaves1==leaves2"
   ]
  },
  {
   "cell_type": "markdown",
   "metadata": {},
   "source": [
    "## Lessons and Thoughts\n",
    "- Straightforward tree recursion."
   ]
  }
 ],
 "metadata": {
  "kernelspec": {
   "display_name": "Python 3",
   "language": "python",
   "name": "python3"
  },
  "language_info": {
   "codemirror_mode": {
    "name": "ipython",
    "version": 3
   },
   "file_extension": ".py",
   "mimetype": "text/x-python",
   "name": "python",
   "nbconvert_exporter": "python",
   "pygments_lexer": "ipython3",
   "version": "3.7.3"
  }
 },
 "nbformat": 4,
 "nbformat_minor": 2
}
