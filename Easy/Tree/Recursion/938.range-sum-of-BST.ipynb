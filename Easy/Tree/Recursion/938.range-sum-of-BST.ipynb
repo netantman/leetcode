{
 "cells": [
  {
   "cell_type": "markdown",
   "metadata": {},
   "source": [
    "## Attempt 1 - Accepted"
   ]
  },
  {
   "cell_type": "code",
   "execution_count": null,
   "metadata": {},
   "outputs": [],
   "source": [
    "# Definition for a binary tree node.\n",
    "# class TreeNode:\n",
    "#     def __init__(self, val=0, left=None, right=None):\n",
    "#         self.val = val\n",
    "#         self.left = left\n",
    "#         self.right = right\n",
    "class Solution:\n",
    "    def __init__(self):\n",
    "        self.L=None\n",
    "        self.R=None\n",
    "    def rangeSumBST(self, root: TreeNode, L: int, R: int) -> int:\n",
    "        self.L=L\n",
    "        self.R=R\n",
    "        \n",
    "        def inner(root):\n",
    "            if root is None:\n",
    "                return 0\n",
    "            if root.left is None and root.right is None:\n",
    "                return root.val if root.val>=self.L and root.val<=self.R else 0\n",
    "            \n",
    "            s=0\n",
    "            if root.val<self.L:\n",
    "                s+=inner(root.right)\n",
    "            elif root.val==self.L:\n",
    "                s+=self.L\n",
    "                s+=inner(root.right)\n",
    "            elif root.val>self.R:\n",
    "                s+=inner(root.left)\n",
    "            elif root.val==self.R:\n",
    "                s+=self.R\n",
    "                s+=inner(root.left)\n",
    "            else:\n",
    "                s+=root.val\n",
    "                s+=inner(root.left)\n",
    "                s+=inner(root.right)\n",
    "            return s\n",
    "        \n",
    "        return inner(root)"
   ]
  },
  {
   "cell_type": "markdown",
   "metadata": {},
   "source": [
    "## Lessons and Thoughts\n",
    "- Straightforward recursion of trees"
   ]
  }
 ],
 "metadata": {
  "kernelspec": {
   "display_name": "Python 3",
   "language": "python",
   "name": "python3"
  },
  "language_info": {
   "codemirror_mode": {
    "name": "ipython",
    "version": 3
   },
   "file_extension": ".py",
   "mimetype": "text/x-python",
   "name": "python",
   "nbconvert_exporter": "python",
   "pygments_lexer": "ipython3",
   "version": "3.7.3"
  }
 },
 "nbformat": 4,
 "nbformat_minor": 2
}
