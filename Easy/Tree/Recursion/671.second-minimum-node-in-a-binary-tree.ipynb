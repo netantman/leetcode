{
 "cells": [
  {
   "cell_type": "markdown",
   "metadata": {},
   "source": [
    "## Attempt 1 - Wrong Answer"
   ]
  },
  {
   "cell_type": "code",
   "execution_count": null,
   "metadata": {},
   "outputs": [],
   "source": [
    "# Definition for a binary tree node.\n",
    "# class TreeNode:\n",
    "#     def __init__(self, val=0, left=None, right=None):\n",
    "#         self.val = val\n",
    "#         self.left = left\n",
    "#         self.right = right\n",
    "class Solution:\n",
    "    def findSecondMinimumValue(self, root: TreeNode) -> int:\n",
    "        minn=root.val\n",
    "        second=float('inf')\n",
    "        q=[root]\n",
    "        while len(q)>0:\n",
    "            head=q.pop(0)\n",
    "            if head.left is None:\n",
    "                continue\n",
    "            left=head.left\n",
    "            if left.val==minn:\n",
    "                q.append(left)\n",
    "            else:\n",
    "                second=min(second, left.val)\n",
    "            right=head.right\n",
    "            if right.val==minn:\n",
    "                q.append(right)\n",
    "            else:\n",
    "                second=min(second, right.val)\n",
    "        return second ## --> did not handle the case where there is no second to smallest"
   ]
  },
  {
   "cell_type": "markdown",
   "metadata": {},
   "source": [
    "## Attempt 2 - Accepted"
   ]
  },
  {
   "cell_type": "code",
   "execution_count": null,
   "metadata": {},
   "outputs": [],
   "source": [
    "# Definition for a binary tree node.\n",
    "# class TreeNode:\n",
    "#     def __init__(self, val=0, left=None, right=None):\n",
    "#         self.val = val\n",
    "#         self.left = left\n",
    "#         self.right = right\n",
    "class Solution:\n",
    "    def findSecondMinimumValue(self, root: TreeNode) -> int:\n",
    "        minn=root.val\n",
    "        second=float('inf')\n",
    "        q=[root]\n",
    "        while len(q)>0:\n",
    "            head=q.pop(0)\n",
    "            if head.left is None:\n",
    "                continue\n",
    "            left=head.left\n",
    "            if left.val==minn:\n",
    "                q.append(left)\n",
    "            else:\n",
    "                second=min(second, left.val)\n",
    "            right=head.right\n",
    "            if right.val==minn:\n",
    "                q.append(right)\n",
    "            else:\n",
    "                second=min(second, right.val)\n",
    "        if second == float('inf'):\n",
    "            return -1\n",
    "        else:\n",
    "            return second"
   ]
  },
  {
   "cell_type": "markdown",
   "metadata": {},
   "source": [
    "## Lessons and Thoughts\n",
    "- Straightforward - just remember to deal with the edge case above"
   ]
  }
 ],
 "metadata": {
  "kernelspec": {
   "display_name": "Python 3",
   "language": "python",
   "name": "python3"
  },
  "language_info": {
   "codemirror_mode": {
    "name": "ipython",
    "version": 3
   },
   "file_extension": ".py",
   "mimetype": "text/x-python",
   "name": "python",
   "nbconvert_exporter": "python",
   "pygments_lexer": "ipython3",
   "version": "3.7.3"
  }
 },
 "nbformat": 4,
 "nbformat_minor": 2
}
