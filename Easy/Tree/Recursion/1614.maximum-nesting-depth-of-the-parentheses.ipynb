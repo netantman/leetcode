{
 "cells": [
  {
   "cell_type": "markdown",
   "metadata": {},
   "source": [
    "## Attempt 1 - "
   ]
  },
  {
   "cell_type": "code",
   "execution_count": null,
   "metadata": {},
   "outputs": [],
   "source": [
    "class TreeNode:\n",
    "    def __init__(self):\n",
    "        self.children = []\n",
    "\n",
    "class Solution:\n",
    "    def maxDepth(self, s: str) -> int:\n",
    "        def inner(root, seq):\n",
    "            while seq:\n",
    "                head = seq.pop(0)\n",
    "                if head == \"(\":\n",
    "                    new = TreeNode()\n",
    "                    root.children.append(new)\n",
    "                    inner(new, seq)\n",
    "                else: # \")\"\n",
    "                    break\n",
    "            return\n",
    "        \n",
    "        root = TreeNode()\n",
    "        seq = [c for c in s if c in {\"(\", \")\"}]\n",
    "        inner(root, seq)\n",
    "        \n",
    "        cnt = 0\n",
    "        lvl = [root]\n",
    "        while lvl:\n",
    "            cnt += 1\n",
    "            nexxt = []\n",
    "            for n in lvl:\n",
    "                if n.children:\n",
    "                    nexxt += n.children\n",
    "            lvl = nexxt\n",
    "        return cnt - 1"
   ]
  },
  {
   "cell_type": "markdown",
   "metadata": {},
   "source": [
    "## Lessons and Thoughts\n",
    "- Actually not trivial to build the recursion."
   ]
  }
 ],
 "metadata": {
  "kernelspec": {
   "display_name": "Python 3",
   "language": "python",
   "name": "python3"
  },
  "language_info": {
   "codemirror_mode": {
    "name": "ipython",
    "version": 3
   },
   "file_extension": ".py",
   "mimetype": "text/x-python",
   "name": "python",
   "nbconvert_exporter": "python",
   "pygments_lexer": "ipython3",
   "version": "3.7.3"
  }
 },
 "nbformat": 4,
 "nbformat_minor": 2
}
