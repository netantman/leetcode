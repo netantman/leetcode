{
 "cells": [
  {
   "cell_type": "markdown",
   "metadata": {},
   "source": [
    "## Attempt 1 - Accepted"
   ]
  },
  {
   "cell_type": "code",
   "execution_count": null,
   "metadata": {},
   "outputs": [],
   "source": [
    "# Definition for a binary tree node.\n",
    "# class TreeNode:\n",
    "#     def __init__(self, val=0, left=None, right=None):\n",
    "#         self.val = val\n",
    "#         self.left = left\n",
    "#         self.right = right\n",
    "class Solution:\n",
    "    def __init__(self):\n",
    "        self.seq=[]\n",
    "    def increasingBST(self, root: TreeNode) -> TreeNode:\n",
    "        def inner(root):\n",
    "            if root is None:\n",
    "                return\n",
    "            inner(root.left)\n",
    "            self.seq.append(root.val)\n",
    "            inner(root.right)\n",
    "            return\n",
    "        \n",
    "        inner(root)\n",
    "        curr=None\n",
    "        L=len(self.seq)\n",
    "        for idx in range(L-1,-1,-1):\n",
    "            new=TreeNode(val=self.seq[idx])\n",
    "            new.right=curr\n",
    "            curr=new\n",
    "        return curr"
   ]
  },
  {
   "cell_type": "markdown",
   "metadata": {},
   "source": [
    "## Lessons and Thoughts\n",
    "- In-order traversal of binary search tree returns a sorted array."
   ]
  }
 ],
 "metadata": {
  "kernelspec": {
   "display_name": "Python 3",
   "language": "python",
   "name": "python3"
  },
  "language_info": {
   "codemirror_mode": {
    "name": "ipython",
    "version": 3
   },
   "file_extension": ".py",
   "mimetype": "text/x-python",
   "name": "python",
   "nbconvert_exporter": "python",
   "pygments_lexer": "ipython3",
   "version": "3.7.3"
  }
 },
 "nbformat": 4,
 "nbformat_minor": 2
}
