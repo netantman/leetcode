{
 "cells": [
  {
   "cell_type": "markdown",
   "metadata": {},
   "source": [
    "## Attempt 1 - Wrong Answer: fail the case of [1,2,2,2,null,2]"
   ]
  },
  {
   "cell_type": "code",
   "execution_count": null,
   "metadata": {},
   "outputs": [],
   "source": [
    "# Definition for a binary tree node.\n",
    "# class TreeNode:\n",
    "#     def __init__(self, val=0, left=None, right=None):\n",
    "#         self.val = val\n",
    "#         self.left = left\n",
    "#         self.right = right\n",
    "class Solution:\n",
    "    def isSymmetric(self, root: TreeNode) -> bool:\n",
    "        \n",
    "        def left_first(root):\n",
    "            if root is None:\n",
    "                return [None]\n",
    "            left=left_first(root.left)\n",
    "            right=left_first(root.right)\n",
    "            return left+[root.val]+right\n",
    "        def right_first(root):\n",
    "            if root is None:\n",
    "                return [None]\n",
    "            left=right_first(root.left)\n",
    "            right=right_first(root.right)\n",
    "            return right+[root.val]+left\n",
    "        \n",
    "        lfirst=left_first(root)\n",
    "        rfirst=right_first(root)\n",
    "        return lfirst==rfirst"
   ]
  },
  {
   "cell_type": "markdown",
   "metadata": {},
   "source": [
    "## Attempt 2 - Runtime Error: realizing recording null tree is the issue, you then completely forget to deal with it at the beginning."
   ]
  },
  {
   "cell_type": "code",
   "execution_count": null,
   "metadata": {},
   "outputs": [],
   "source": [
    "# Definition for a binary tree node.\n",
    "# class TreeNode:\n",
    "#     def __init__(self, val=0, left=None, right=None):\n",
    "#         self.val = val\n",
    "#         self.left = left\n",
    "#         self.right = right\n",
    "class Solution:\n",
    "    def isSymmetric(self, root: TreeNode) -> bool:\n",
    "        \n",
    "        def left_first(root):\n",
    "            if root.left is None and root.right is None:\n",
    "                return [root.val]\n",
    "            if root.left is None:\n",
    "                left=[None]\n",
    "            else:\n",
    "                left=left_first(root.left)\n",
    "            if root.right is None:\n",
    "                right=[None]\n",
    "            else:\n",
    "                right=left_first(root.right)\n",
    "            return left+[root.val]+right\n",
    "        def right_first(root):\n",
    "            if root.left is None and root.right is None:\n",
    "                return [root.val]\n",
    "            if root.left is None:\n",
    "                left=[None]\n",
    "            else:\n",
    "                left=right_first(root.left)\n",
    "            if root.right is None:\n",
    "                right=[None]\n",
    "            else:\n",
    "                right=right_first(root.right)\n",
    "            return right+[root.val]+left\n",
    "        \n",
    "        lfirst=left_first(root)\n",
    "        rfirst=right_first(root)\n",
    "        return lfirst==rfirst"
   ]
  },
  {
   "cell_type": "markdown",
   "metadata": {},
   "source": [
    "## Attempt 3 - Wrong Answer. You start to realize that the serializer of the tree may not be 1-1 to the tree."
   ]
  },
  {
   "cell_type": "code",
   "execution_count": null,
   "metadata": {},
   "outputs": [],
   "source": [
    "# Definition for a binary tree node.\n",
    "# class TreeNode:\n",
    "#     def __init__(self, val=0, left=None, right=None):\n",
    "#         self.val = val\n",
    "#         self.left = left\n",
    "#         self.right = right\n",
    "class Solution:\n",
    "    def isSymmetric(self, root: TreeNode) -> bool:\n",
    "        \n",
    "        if root is None:\n",
    "            return True\n",
    "        \n",
    "        def left_first(root):\n",
    "            if root.left is None and root.right is None:\n",
    "                return [root.val]\n",
    "            if root.left is None:\n",
    "                left=[None]\n",
    "            else:\n",
    "                left=left_first(root.left)\n",
    "            if root.right is None:\n",
    "                right=[None]\n",
    "            else:\n",
    "                right=left_first(root.right)\n",
    "            return left+[root.val]+right\n",
    "        def right_first(root):\n",
    "            if root.left is None and root.right is None:\n",
    "                return [root.val]\n",
    "            if root.left is None:\n",
    "                left=[None]\n",
    "            else:\n",
    "                left=right_first(root.left)\n",
    "            if root.right is None:\n",
    "                right=[None]\n",
    "            else:\n",
    "                right=right_first(root.right)\n",
    "            return right+[root.val]+left\n",
    "        \n",
    "        lfirst=left_first(root)\n",
    "        rfirst=right_first(root)\n",
    "        return lfirst==rfirst"
   ]
  },
  {
   "cell_type": "markdown",
   "metadata": {},
   "source": [
    "## Attempt 4 - Accepted"
   ]
  },
  {
   "cell_type": "code",
   "execution_count": null,
   "metadata": {},
   "outputs": [],
   "source": [
    "# Definition for a binary tree node.\n",
    "# class TreeNode:\n",
    "#     def __init__(self, val=0, left=None, right=None):\n",
    "#         self.val = val\n",
    "#         self.left = left\n",
    "#         self.right = right\n",
    "\n",
    "class Solution:\n",
    "    def isSymmetric(self, root: TreeNode) -> bool:\n",
    "        \n",
    "        def isMirror(p, q):\n",
    "            if p is None and q is None:\n",
    "                return True\n",
    "            if p is None and q is not None:\n",
    "                return False\n",
    "            if p is not None and q is None:\n",
    "                return False\n",
    "            if p.val!=q.val:\n",
    "                return False\n",
    "            return isMirror(p.left, q.right) and isMirror(p.right, q.left)\n",
    "        \n",
    "        if root is None:\n",
    "            return True\n",
    "        \n",
    "        return isMirror(root.left, root.right)"
   ]
  },
  {
   "cell_type": "markdown",
   "metadata": {},
   "source": [
    "## Lessons and Thoughts\n",
    "- Travased/serialized list of the tree may not be 1-1 to the tree."
   ]
  }
 ],
 "metadata": {
  "kernelspec": {
   "display_name": "Python 3",
   "language": "python",
   "name": "python3"
  },
  "language_info": {
   "codemirror_mode": {
    "name": "ipython",
    "version": 3
   },
   "file_extension": ".py",
   "mimetype": "text/x-python",
   "name": "python",
   "nbconvert_exporter": "python",
   "pygments_lexer": "ipython3",
   "version": "3.7.3"
  }
 },
 "nbformat": 4,
 "nbformat_minor": 2
}
