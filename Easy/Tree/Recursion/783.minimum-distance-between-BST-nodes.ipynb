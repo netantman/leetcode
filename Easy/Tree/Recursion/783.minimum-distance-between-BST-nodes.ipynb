{
 "cells": [
  {
   "cell_type": "markdown",
   "metadata": {},
   "source": [
    "## Attempt 1 - Accepted"
   ]
  },
  {
   "cell_type": "code",
   "execution_count": null,
   "metadata": {},
   "outputs": [],
   "source": [
    "# Definition for a binary tree node.\n",
    "# class TreeNode:\n",
    "#     def __init__(self, val=0, left=None, right=None):\n",
    "#         self.val = val\n",
    "#         self.left = left\n",
    "#         self.right = right\n",
    "class Solution:\n",
    "    def __init__(self):\n",
    "        self.res=float('inf')\n",
    "    def minDiffInBST(self, root: TreeNode) -> int:\n",
    "        def inner(root):\n",
    "            if root is None:\n",
    "                return None, None\n",
    "            if root.left is None and root.right is None:\n",
    "                return root.val, root.val\n",
    "            \n",
    "            left=inner(root.left)\n",
    "            right=inner(root.right)\n",
    "            minn, maxx=root.val, root.val\n",
    "            if left[1] is not None:\n",
    "                self.res=min(self.res, root.val-left[1])\n",
    "                minn=min(minn, left[0])\n",
    "            if right[0] is not None:\n",
    "                self.res=min(self.res, right[0]-root.val)\n",
    "                maxx=max(maxx, right[1])\n",
    "            return minn, maxx\n",
    "        _=inner(root)\n",
    "        return self.res"
   ]
  },
  {
   "cell_type": "markdown",
   "metadata": {},
   "source": [
    "## Lessons and Thoughts\n",
    "- Same as Problem 530. But here instead of attaining the whole sorted sequence, we try to calc the diff when traversing the tree."
   ]
  }
 ],
 "metadata": {
  "kernelspec": {
   "display_name": "Python 3",
   "language": "python",
   "name": "python3"
  },
  "language_info": {
   "codemirror_mode": {
    "name": "ipython",
    "version": 3
   },
   "file_extension": ".py",
   "mimetype": "text/x-python",
   "name": "python",
   "nbconvert_exporter": "python",
   "pygments_lexer": "ipython3",
   "version": "3.7.3"
  }
 },
 "nbformat": 4,
 "nbformat_minor": 2
}
