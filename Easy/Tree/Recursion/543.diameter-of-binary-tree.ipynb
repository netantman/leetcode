{
 "cells": [
  {
   "cell_type": "markdown",
   "metadata": {},
   "source": [
    "## Attempt 1 - Wrong Answer"
   ]
  },
  {
   "cell_type": "code",
   "execution_count": null,
   "metadata": {},
   "outputs": [],
   "source": [
    "# Definition for a binary tree node.\n",
    "# class TreeNode:\n",
    "#     def __init__(self, val=0, left=None, right=None):\n",
    "#         self.val = val\n",
    "#         self.left = left\n",
    "#         self.right = right\n",
    "class Solution:\n",
    "    def diameterOfBinaryTree(self, root: TreeNode) -> int:\n",
    "        def inner(root):\n",
    "            if root is None:\n",
    "                return 0,0\n",
    "            if root.left is None and root.right is None:\n",
    "                return 1,1\n",
    "            \n",
    "            l1,l2=inner(root.left)\n",
    "            r1,r2=inner(root.right)\n",
    "            return max(l1, r1, l2+r2+1), max(l2,r2)+1\n",
    "        \n",
    "        res,_=inner(root)\n",
    "        return res-1  ## --> when root is None, it does not follow this pattern."
   ]
  },
  {
   "cell_type": "markdown",
   "metadata": {},
   "source": [
    "## Attempt 2 - Accepted"
   ]
  },
  {
   "cell_type": "code",
   "execution_count": null,
   "metadata": {},
   "outputs": [],
   "source": [
    "# Definition for a binary tree node.\n",
    "# class TreeNode:\n",
    "#     def __init__(self, val=0, left=None, right=None):\n",
    "#         self.val = val\n",
    "#         self.left = left\n",
    "#         self.right = right\n",
    "class Solution:\n",
    "    def diameterOfBinaryTree(self, root: TreeNode) -> int:\n",
    "        def inner(root):\n",
    "            if root is None:\n",
    "                return 0,0\n",
    "            if root.left is None and root.right is None:\n",
    "                return 1,1\n",
    "            \n",
    "            l1,l2=inner(root.left)\n",
    "            r1,r2=inner(root.right)\n",
    "            return max(l1, r1, l2+r2+1), max(l2,r2)+1\n",
    "        \n",
    "        if root is None:\n",
    "            return 0\n",
    "        \n",
    "        res,_=inner(root)\n",
    "        return res-1"
   ]
  },
  {
   "cell_type": "markdown",
   "metadata": {},
   "source": [
    "## Lessons and Thoughts\n",
    "- Even if you have put in code to handle edge cases, you still need to run those edge cases in your head to see."
   ]
  }
 ],
 "metadata": {
  "kernelspec": {
   "display_name": "Python 3",
   "language": "python",
   "name": "python3"
  },
  "language_info": {
   "codemirror_mode": {
    "name": "ipython",
    "version": 3
   },
   "file_extension": ".py",
   "mimetype": "text/x-python",
   "name": "python",
   "nbconvert_exporter": "python",
   "pygments_lexer": "ipython3",
   "version": "3.7.3"
  }
 },
 "nbformat": 4,
 "nbformat_minor": 2
}
