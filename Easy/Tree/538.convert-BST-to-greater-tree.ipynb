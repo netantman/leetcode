{
 "cells": [
  {
   "cell_type": "markdown",
   "metadata": {},
   "source": [
    "## Attempt 1 - Accepted"
   ]
  },
  {
   "cell_type": "code",
   "execution_count": null,
   "metadata": {},
   "outputs": [],
   "source": [
    "# Definition for a binary tree node.\n",
    "# class TreeNode:\n",
    "#     def __init__(self, val=0, left=None, right=None):\n",
    "#         self.val = val\n",
    "#         self.left = left\n",
    "#         self.right = right\n",
    "class Solution:\n",
    "    def __init__(self):\n",
    "        self.cumsum=0\n",
    "    def convertBST(self, root: TreeNode) -> TreeNode:\n",
    "        if root is None:\n",
    "            return root\n",
    "        \n",
    "        def reverse_inorder(root):\n",
    "            if root is None:\n",
    "                return\n",
    "            reverse_inorder(root.right)\n",
    "            self.cumsum+=root.val\n",
    "            root.val=self.cumsum\n",
    "            reverse_inorder(root.left)\n",
    "            return\n",
    "        \n",
    "        reverse_inorder(root)\n",
    "        return root"
   ]
  },
  {
   "cell_type": "markdown",
   "metadata": {},
   "source": [
    "## Lessons and Thoughts\n",
    "- The requirment of this problem is not very clear: 'the original key plus sum of all keys greater than the original key in BST' can lead people to believe this greater mean strictly greater. But in fact it means cumsum including and after the key in the sorted traversal.\n",
    "- Once the above is clear, we can make use of the reverse traversal to record such cumsum."
   ]
  }
 ],
 "metadata": {
  "kernelspec": {
   "display_name": "Python 3",
   "language": "python",
   "name": "python3"
  },
  "language_info": {
   "codemirror_mode": {
    "name": "ipython",
    "version": 3
   },
   "file_extension": ".py",
   "mimetype": "text/x-python",
   "name": "python",
   "nbconvert_exporter": "python",
   "pygments_lexer": "ipython3",
   "version": "3.7.3"
  }
 },
 "nbformat": 4,
 "nbformat_minor": 2
}
