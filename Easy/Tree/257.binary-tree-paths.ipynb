{
 "cells": [
  {
   "cell_type": "markdown",
   "metadata": {},
   "source": [
    "## Attempt 1 - Accepted"
   ]
  },
  {
   "cell_type": "code",
   "execution_count": null,
   "metadata": {},
   "outputs": [],
   "source": [
    "# Definition for a binary tree node.\n",
    "# class TreeNode:\n",
    "#     def __init__(self, val=0, left=None, right=None):\n",
    "#         self.val = val\n",
    "#         self.left = left\n",
    "#         self.right = right\n",
    "class Solution:\n",
    "    def binaryTreePaths(self, root: TreeNode) -> List[str]:\n",
    "        if root is None:\n",
    "            return []\n",
    "        if root.left is None and root.right is None:\n",
    "            return [str(root.val)]\n",
    "        \n",
    "        left=self.binaryTreePaths(root.left)\n",
    "        right=self.binaryTreePaths(root.right)\n",
    "        res=[]\n",
    "        for l in left:\n",
    "            res.append(str(root.val)+\"->\"+l)\n",
    "        for r in right:\n",
    "            res.append(str(root.val)+\"->\"+r)\n",
    "        return res"
   ]
  },
  {
   "cell_type": "markdown",
   "metadata": {},
   "source": [
    "## Lessons and Thoughts\n",
    "- When see trees, think recursion."
   ]
  }
 ],
 "metadata": {
  "kernelspec": {
   "display_name": "Python 3",
   "language": "python",
   "name": "python3"
  },
  "language_info": {
   "codemirror_mode": {
    "name": "ipython",
    "version": 3
   },
   "file_extension": ".py",
   "mimetype": "text/x-python",
   "name": "python",
   "nbconvert_exporter": "python",
   "pygments_lexer": "ipython3",
   "version": "3.7.3"
  }
 },
 "nbformat": 4,
 "nbformat_minor": 2
}
