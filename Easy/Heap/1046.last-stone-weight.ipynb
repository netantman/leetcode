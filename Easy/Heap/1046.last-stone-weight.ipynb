{
 "cells": [
  {
   "cell_type": "markdown",
   "metadata": {},
   "source": [
    "## Attempt 1 - Accepted"
   ]
  },
  {
   "cell_type": "code",
   "execution_count": null,
   "metadata": {},
   "outputs": [],
   "source": [
    "class Solution:\n",
    "    def lastStoneWeight(self, stones: List[int]) -> int:\n",
    "        negatives=[-s for s in stones]\n",
    "        heapq.heapify(negatives)\n",
    "        while len(negatives)>=2:\n",
    "            s1=heapq.heappop(negatives)\n",
    "            s2=heapq.heappop(negatives)\n",
    "            heapq.heappush(negatives, s1-s2)\n",
    "        return -negatives[0]"
   ]
  },
  {
   "cell_type": "markdown",
   "metadata": {},
   "source": [
    "## Lessons and Thoughts\n",
    "- Typical application of `heapq`, though the fact that `heapq` only returns the minimum makes it a bit involved since we will need to work with the negatives. But not too much of a trouble for this case."
   ]
  }
 ],
 "metadata": {
  "kernelspec": {
   "display_name": "Python 3",
   "language": "python",
   "name": "python3"
  },
  "language_info": {
   "codemirror_mode": {
    "name": "ipython",
    "version": 3
   },
   "file_extension": ".py",
   "mimetype": "text/x-python",
   "name": "python",
   "nbconvert_exporter": "python",
   "pygments_lexer": "ipython3",
   "version": "3.7.3"
  }
 },
 "nbformat": 4,
 "nbformat_minor": 2
}
