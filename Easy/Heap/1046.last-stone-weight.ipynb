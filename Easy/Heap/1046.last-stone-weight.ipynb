{
 "cells": [
  {
   "cell_type": "markdown",
   "metadata": {},
   "source": [
    "## Attempt 1 - Accepted"
   ]
  },
  {
   "cell_type": "code",
   "execution_count": null,
   "metadata": {},
   "outputs": [],
   "source": [
    "class Solution:\n",
    "    def lastStoneWeight(self, stones: List[int]) -> int:\n",
    "        negatives=[-s for s in stones]\n",
    "        heapq.heapify(negatives)\n",
    "        while len(negatives)>=2:\n",
    "            s1=heapq.heappop(negatives)\n",
    "            s2=heapq.heappop(negatives)\n",
    "            heapq.heappush(negatives, s1-s2)\n",
    "        return -negatives[0]"
   ]
  },
  {
   "cell_type": "markdown",
   "metadata": {},
   "source": [
    "## Attempt 1 - Accepted"
   ]
  },
  {
   "cell_type": "code",
   "execution_count": null,
   "metadata": {},
   "outputs": [],
   "source": [
    "class Solution {\n",
    "template<typename T>    \n",
    "void print_queue(T q) { ## NB: pass by value so the print uses a copy\n",
    "    while(!q.empty()) {\n",
    "        std::cout << q.top() << ' ';\n",
    "        q.pop();\n",
    "    }\n",
    "    std::cout << '\\n';\n",
    "}    \n",
    "    \n",
    "public:\n",
    "    int lastStoneWeight(vector<int>& stones) {\n",
    "        ## std::priority_queue<int, std::vector<int>> q(stones.begin(), stones.end()); // one way to initialize a priority queue\n",
    "        \n",
    "        ## another way: if you need to specify a custom function \n",
    "        ## the rule seems to be that if you top and pop the entire queue, the function will always return false for consecutive elements.\n",
    "        auto cmp = [](int left, int right) { return left < right; };\n",
    "        std::priority_queue<int, std::vector<int>, decltype(cmp)> q(cmp);\n",
    "        for(int s : stones)\n",
    "            q.push(s);       \n",
    "        print_queue(q);\n",
    "        while (q.size() > 1) {\n",
    "            int y = q.top();\n",
    "            q.pop();\n",
    "            int x = q.top();\n",
    "            q.pop();\n",
    "            int d = y - x;\n",
    "            if (d > 0) {\n",
    "                q.push(d);\n",
    "            }\n",
    "        }\n",
    "        \n",
    "        if (q.size() > 0) {\n",
    "            return q.top();\n",
    "        }\n",
    "        \n",
    "        return 0;\n",
    "    }\n",
    "};"
   ]
  },
  {
   "cell_type": "markdown",
   "metadata": {},
   "source": [
    "## Lessons and Thoughts\n",
    "- Typical application of `heapq`, though the fact that `heapq` only returns the minimum makes it a bit involved since we will need to work with the negatives. But not too much of a trouble for this case."
   ]
  }
 ],
 "metadata": {
  "kernelspec": {
   "display_name": "Python 3",
   "language": "python",
   "name": "python3"
  },
  "language_info": {
   "codemirror_mode": {
    "name": "ipython",
    "version": 3
   },
   "file_extension": ".py",
   "mimetype": "text/x-python",
   "name": "python",
   "nbconvert_exporter": "python",
   "pygments_lexer": "ipython3",
   "version": "3.7.3"
  }
 },
 "nbformat": 4,
 "nbformat_minor": 2
}
