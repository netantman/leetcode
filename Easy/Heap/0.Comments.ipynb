{
 "cells": [
  {
   "cell_type": "markdown",
   "metadata": {},
   "source": [
    "## Ideas"
   ]
  },
  {
   "cell_type": "markdown",
   "metadata": {},
   "source": [
    "Heap is the data structure that can handle largest/smallest element query efficiently, when the array needs to push/pop frequently between queries. `heapq` is the built-in package of python for heap implementations."
   ]
  },
  {
   "cell_type": "markdown",
   "metadata": {},
   "source": [
    "## Traps\n",
    "- `heapq` can only `pop` smallest elements, though it does also have a `nlargest` function.\n",
    "- `heapq.heapify` is in-place. And even after the `list` is heapified, `heappop` and `heappush` are not member methods of the `heap` objects.\n",
    "- `nlargest` and `nsmallest` allow you to specify `key` in the same way to customize which element to sort for list of arrays."
   ]
  }
 ],
 "metadata": {
  "kernelspec": {
   "display_name": "Python 3",
   "language": "python",
   "name": "python3"
  },
  "language_info": {
   "codemirror_mode": {
    "name": "ipython",
    "version": 3
   },
   "file_extension": ".py",
   "mimetype": "text/x-python",
   "name": "python",
   "nbconvert_exporter": "python",
   "pygments_lexer": "ipython3",
   "version": "3.7.3"
  }
 },
 "nbformat": 4,
 "nbformat_minor": 2
}
