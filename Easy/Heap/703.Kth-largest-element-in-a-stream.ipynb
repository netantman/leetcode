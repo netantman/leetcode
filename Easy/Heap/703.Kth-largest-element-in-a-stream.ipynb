{
 "cells": [
  {
   "cell_type": "markdown",
   "metadata": {},
   "source": [
    "## Attempt 1 - Time Limit Exceeded"
   ]
  },
  {
   "cell_type": "code",
   "execution_count": null,
   "metadata": {},
   "outputs": [],
   "source": [
    "class KthLargest:\n",
    "\n",
    "    def __init__(self, k: int, nums: List[int]):\n",
    "        self.K=k\n",
    "        self.data=nums\n",
    "\n",
    "    def add(self, val: int) -> int:\n",
    "        heapq.heappush(self.data, val)\n",
    "        res=heapq.nlargest(self.K, self.data)\n",
    "        return res[-1]\n",
    "\n",
    "\n",
    "# Your KthLargest object will be instantiated and called as such:\n",
    "# obj = KthLargest(k, nums)\n",
    "# param_1 = obj.add(val)"
   ]
  },
  {
   "cell_type": "markdown",
   "metadata": {},
   "source": [
    "## Attempt 2 - Accepted"
   ]
  },
  {
   "cell_type": "code",
   "execution_count": null,
   "metadata": {},
   "outputs": [],
   "source": [
    "class KthLargest:\n",
    "\n",
    "    def __init__(self, k: int, nums: List[int]):\n",
    "        self.K=k\n",
    "        self.largest=heapq.nlargest(self.K, nums)\n",
    "        heapq.heapify(self.largest)\n",
    "\n",
    "    def add(self, val: int) -> int:\n",
    "        heapq.heappush(self.largest, val)\n",
    "        while len(self.largest)>self.K:\n",
    "            heapq.heappop(self.largest)\n",
    "        # print(self.largest)\n",
    "        return heapq.nsmallest(1, self.largest)[0]\n",
    "\n",
    "\n",
    "# Your KthLargest object will be instantiated and called as such:\n",
    "# obj = KthLargest(k, nums)\n",
    "# param_1 = obj.add(val)"
   ]
  },
  {
   "cell_type": "markdown",
   "metadata": {},
   "source": [
    "## Lessons and Thoughts\n",
    "- Do not need to maintain all data, just the `K` largest.\n",
    "- `nlargest` and `nsmallest` does not automatically return a heap, though they are guaranteed to be sorted."
   ]
  }
 ],
 "metadata": {
  "kernelspec": {
   "display_name": "Python 3",
   "language": "python",
   "name": "python3"
  },
  "language_info": {
   "codemirror_mode": {
    "name": "ipython",
    "version": 3
   },
   "file_extension": ".py",
   "mimetype": "text/x-python",
   "name": "python",
   "nbconvert_exporter": "python",
   "pygments_lexer": "ipython3",
   "version": "3.7.3"
  }
 },
 "nbformat": 4,
 "nbformat_minor": 2
}
