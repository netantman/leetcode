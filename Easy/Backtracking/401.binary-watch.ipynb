{
 "cells": [
  {
   "cell_type": "markdown",
   "metadata": {},
   "source": [
    "## Attempt 1 - Accepted"
   ]
  },
  {
   "cell_type": "code",
   "execution_count": null,
   "metadata": {},
   "outputs": [],
   "source": [
    "class Solution:\n",
    "    def readBinaryWatch(self, num: int) -> List[str]:\n",
    "        if num>=10:\n",
    "            return []\n",
    "        \n",
    "        hours, minutes=[[]], [[]]\n",
    "        for idx in range(4):\n",
    "            hours=hours+[p+[idx] for p in hours]\n",
    "        for idx in range(6):\n",
    "            minutes=minutes+[p+[idx] for p in minutes]\n",
    "        \n",
    "        HH=[1,2,4,8]\n",
    "        MM=[1,2,4,8,16,32]\n",
    "        \n",
    "        res=[]\n",
    "        for idx in range(num+1):\n",
    "            this_hours=[h for h in hours if len(h)==idx]\n",
    "            this_minutes=[m for m in minutes if len(m)==num-idx]\n",
    "            for h in this_hours:\n",
    "                hh=sum([HH[sig] for sig in h])\n",
    "                if hh>11:\n",
    "                    continue\n",
    "                hh=str(hh)\n",
    "                for m in this_minutes:\n",
    "                    mm=sum([MM[sig] for sig in m])\n",
    "                    if mm>59:\n",
    "                        continue\n",
    "                    if mm<10:\n",
    "                        mm=\"0\"+str(mm)\n",
    "                    else:\n",
    "                        mm=str(mm)\n",
    "                    res.append(hh+\":\"+mm)\n",
    "        return res"
   ]
  },
  {
   "cell_type": "markdown",
   "metadata": {},
   "source": [
    "## Lessons and Thoughts\n",
    "- Edge cases: \n",
    "    - For some combination of the `hh` and `mm`, it may not represent bona fide time.\n",
    "    - The minute string should have leading zeros to make it two digits."
   ]
  }
 ],
 "metadata": {
  "kernelspec": {
   "display_name": "Python 3",
   "language": "python",
   "name": "python3"
  },
  "language_info": {
   "codemirror_mode": {
    "name": "ipython",
    "version": 3
   },
   "file_extension": ".py",
   "mimetype": "text/x-python",
   "name": "python",
   "nbconvert_exporter": "python",
   "pygments_lexer": "ipython3",
   "version": "3.7.3"
  }
 },
 "nbformat": 4,
 "nbformat_minor": 2
}
