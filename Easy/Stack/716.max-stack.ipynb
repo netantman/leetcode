{
 "cells": [
  {
   "cell_type": "markdown",
   "metadata": {},
   "source": [
    "## Attempt 1 - Accepted"
   ]
  },
  {
   "cell_type": "code",
   "execution_count": null,
   "metadata": {},
   "outputs": [],
   "source": [
    "class MaxStack:\n",
    "\n",
    "    def __init__(self):\n",
    "        self.st = []\n",
    "\n",
    "    def push(self, x: int) -> None:\n",
    "        self.st.append(x)\n",
    "        \n",
    "    def pop(self) -> int:\n",
    "        return self.st.pop()        \n",
    "        \n",
    "    def top(self) -> int:\n",
    "        return self.st[-1]\n",
    "\n",
    "    def peekMax(self) -> int:\n",
    "        return max(self.st)\n",
    "        \n",
    "\n",
    "    def popMax(self) -> int:\n",
    "        m = self.peekMax()\n",
    "        idx = len(self.st) - 1\n",
    "        while self.st[idx] != m:\n",
    "            idx -= 1\n",
    "        return self.st.pop(idx)\n",
    "        \n",
    "\n",
    "# Your MaxStack object will be instantiated and called as such:\n",
    "# obj = MaxStack()\n",
    "# obj.push(x)\n",
    "# param_2 = obj.pop()\n",
    "# param_3 = obj.top()\n",
    "# param_4 = obj.peekMax()\n",
    "# param_5 = obj.popMax()"
   ]
  },
  {
   "cell_type": "markdown",
   "metadata": {},
   "source": [
    "## Lessons and Thoughts\n",
    "- The follow-up question probably requires a special algo. This is really brute force."
   ]
  }
 ],
 "metadata": {
  "kernelspec": {
   "display_name": "Python 3",
   "language": "python",
   "name": "python3"
  },
  "language_info": {
   "codemirror_mode": {
    "name": "ipython",
    "version": 3
   },
   "file_extension": ".py",
   "mimetype": "text/x-python",
   "name": "python",
   "nbconvert_exporter": "python",
   "pygments_lexer": "ipython3",
   "version": "3.7.3"
  }
 },
 "nbformat": 4,
 "nbformat_minor": 2
}
