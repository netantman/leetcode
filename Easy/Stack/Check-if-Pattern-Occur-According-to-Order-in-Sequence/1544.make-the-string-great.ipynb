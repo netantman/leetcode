{
 "cells": [
  {
   "cell_type": "markdown",
   "metadata": {},
   "source": [
    "## Attempt 1 - Accepted"
   ]
  },
  {
   "cell_type": "code",
   "execution_count": null,
   "metadata": {},
   "outputs": [],
   "source": [
    "class Solution:\n",
    "    def makeGood(self, s: str) -> str:\n",
    "        res = [s[0]]\n",
    "        for c in s[1:]:\n",
    "            if not res:\n",
    "                res.append(c)\n",
    "                continue\n",
    "            if c.isupper() and res[-1].islower() and res[-1].upper() == c:\n",
    "                res.pop()\n",
    "                continue\n",
    "            if c.islower() and res[-1].isupper() and res[-1].lower() == c:\n",
    "                res.pop()\n",
    "                continue\n",
    "            res.append(c)\n",
    "        return \"\".join(res)"
   ]
  },
  {
   "cell_type": "markdown",
   "metadata": {},
   "source": [
    "## Lessons and Thoughts\n",
    "- Bear in mind: when you come to access an array, always check index!\n",
    "- `isupper()`, `islower()`, `upper()`, `lower()`."
   ]
  }
 ],
 "metadata": {
  "kernelspec": {
   "display_name": "Python 3",
   "language": "python",
   "name": "python3"
  },
  "language_info": {
   "codemirror_mode": {
    "name": "ipython",
    "version": 3
   },
   "file_extension": ".py",
   "mimetype": "text/x-python",
   "name": "python",
   "nbconvert_exporter": "python",
   "pygments_lexer": "ipython3",
   "version": "3.7.3"
  }
 },
 "nbformat": 4,
 "nbformat_minor": 2
}
