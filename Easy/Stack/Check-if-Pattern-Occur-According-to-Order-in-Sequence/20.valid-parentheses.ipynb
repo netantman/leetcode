{
 "cells": [
  {
   "cell_type": "markdown",
   "metadata": {},
   "source": [
    "## Attempt 1 - Accepted"
   ]
  },
  {
   "cell_type": "code",
   "execution_count": null,
   "metadata": {},
   "outputs": [],
   "source": [
    "class Solution:\n",
    "    def isValid(self, s: str) -> bool:\n",
    "        if len(s)<1:\n",
    "            return True\n",
    "        if len(s)%2==1:\n",
    "            return False\n",
    "        \n",
    "        stack=[]\n",
    "        for c in s:\n",
    "            if c in {'(', '[', '{'}:\n",
    "                stack.append(c)\n",
    "            elif c==')':\n",
    "                if len(stack)<1:\n",
    "                    return False\n",
    "                elif stack[-1]=='(':\n",
    "                    del stack[-1]\n",
    "                else:\n",
    "                    return False\n",
    "            elif c==']':\n",
    "                if len(stack)<1:\n",
    "                    return False\n",
    "                elif stack[-1]=='[':\n",
    "                    del stack[-1]\n",
    "                else:\n",
    "                    return False\n",
    "            else: # c=='}':\n",
    "                if len(stack)<1:\n",
    "                    return False\n",
    "                elif stack[-1]=='{':\n",
    "                    del stack[-1]\n",
    "                else:\n",
    "                    return False\n",
    "        \n",
    "        if len(stack)<1:\n",
    "            return True\n",
    "        else:\n",
    "            return False"
   ]
  },
  {
   "cell_type": "markdown",
   "metadata": {},
   "source": [
    "## Attempt 2 - Accepted"
   ]
  },
  {
   "cell_type": "code",
   "execution_count": null,
   "metadata": {},
   "outputs": [],
   "source": [
    "class Solution { ## --> note that it has to close in the right order, so it has to be a stack.\n",
    "public:\n",
    "    bool isValid(string s) {\n",
    "        vector<char> st = {};\n",
    "        for (char c: s) {\n",
    "            if ((c == '(') || (c == '[') || (c == '{')) {\n",
    "                st.push_back(c);\n",
    "                continue;\n",
    "            }\n",
    "            if (c == ')') {\n",
    "                if ((st.size() < 1) || (st.back() != '(') ) {\n",
    "                    return false;\n",
    "                }\n",
    "                st.pop_back();\n",
    "                continue;\n",
    "            }\n",
    "            if (c == ']') {\n",
    "                if ((st.size() < 1) || (st.back() != '[') ) {\n",
    "                    return false;\n",
    "                }\n",
    "                st.pop_back();\n",
    "                continue;\n",
    "            }\n",
    "            if (c == '}') {\n",
    "                if ((st.size() < 1) || (st.back() != '{') ) {\n",
    "                    return false;\n",
    "                }\n",
    "                st.pop_back();\n",
    "                continue;\n",
    "            }\n",
    "        }\n",
    "        return (st.size() == 0);\n",
    "    }\n",
    "};"
   ]
  },
  {
   "cell_type": "markdown",
   "metadata": {},
   "source": [
    "## Lessons and Thoughts\n",
    "- Remember to check if the stack is empty before taking things off."
   ]
  }
 ],
 "metadata": {
  "kernelspec": {
   "display_name": "Python 3",
   "language": "python",
   "name": "python3"
  },
  "language_info": {
   "codemirror_mode": {
    "name": "ipython",
    "version": 3
   },
   "file_extension": ".py",
   "mimetype": "text/x-python",
   "name": "python",
   "nbconvert_exporter": "python",
   "pygments_lexer": "ipython3",
   "version": "3.6.5"
  }
 },
 "nbformat": 4,
 "nbformat_minor": 2
}
