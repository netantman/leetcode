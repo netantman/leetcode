{
 "cells": [
  {
   "cell_type": "markdown",
   "metadata": {},
   "source": [
    "## Attempt 1 - Accepted"
   ]
  },
  {
   "cell_type": "code",
   "execution_count": null,
   "metadata": {},
   "outputs": [],
   "source": [
    "class Solution:\n",
    "    def canThreePartsEqualSum(self, A: List[int]) -> bool:\n",
    "        L=len(A)\n",
    "        if L<=2:\n",
    "            return False\n",
    "        cumsum=[0 for _ in range(L+1)]\n",
    "        for idx, a in enumerate(A):\n",
    "            cumsum[idx+1]=cumsum[idx]+a\n",
    "        left, right=None,None\n",
    "        l,r=1,L-1\n",
    "        s=sum(A)\n",
    "        while l<L+1:\n",
    "            if cumsum[l]==s//3:\n",
    "                left=l\n",
    "                break\n",
    "            else:\n",
    "                l+=1\n",
    "        if left is None:\n",
    "            return False\n",
    "        while r>l:\n",
    "            if cumsum[r]==2*s//3:\n",
    "                right=r\n",
    "                break\n",
    "            else:\n",
    "                r-=1\n",
    "        if right is None:\n",
    "            return False\n",
    "        print(left, right)\n",
    "        return True"
   ]
  },
  {
   "cell_type": "markdown",
   "metadata": {},
   "source": [
    "## Lessons and Thoughts\n",
    "Edge cases include:\n",
    "- When the sum is zero\n",
    "- When there are less than three elements in `A`."
   ]
  }
 ],
 "metadata": {
  "kernelspec": {
   "display_name": "Python 3",
   "language": "python",
   "name": "python3"
  },
  "language_info": {
   "codemirror_mode": {
    "name": "ipython",
    "version": 3
   },
   "file_extension": ".py",
   "mimetype": "text/x-python",
   "name": "python",
   "nbconvert_exporter": "python",
   "pygments_lexer": "ipython3",
   "version": "3.7.3"
  }
 },
 "nbformat": 4,
 "nbformat_minor": 2
}
