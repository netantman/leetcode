{
 "cells": [
  {
   "cell_type": "markdown",
   "metadata": {},
   "source": [
    "## Attempt 1 - Accepted"
   ]
  },
  {
   "cell_type": "code",
   "execution_count": null,
   "metadata": {},
   "outputs": [],
   "source": [
    "class Solution:\n",
    "    def pivotIndex(self, nums: List[int]) -> int:\n",
    "        L=len(nums)\n",
    "        if L==1:\n",
    "            return 0\n",
    "        S=sum(nums)\n",
    "        res=0\n",
    "        ss=0\n",
    "        while res<L:\n",
    "            if ss+ss+nums[res]==S:\n",
    "                return res\n",
    "            ss+=nums[res]\n",
    "            res+=1\n",
    "        return -1"
   ]
  },
  {
   "cell_type": "markdown",
   "metadata": {},
   "source": [
    "## Attempt 2 - Accepted"
   ]
  },
  {
   "cell_type": "code",
   "execution_count": null,
   "metadata": {},
   "outputs": [],
   "source": [
    "class Solution {\n",
    "public:\n",
    "    int pivotIndex(vector<int>& nums) {\n",
    "        vector<int> cumsum = {0};\n",
    "        for (int n : nums) {\n",
    "            cumsum.push_back(cumsum.back() + n);\n",
    "        }\n",
    "        int cs = cumsum.back();\n",
    "        int L = nums.size();\n",
    "        \n",
    "        int res = 0;\n",
    "        bool broken = false;\n",
    "        for(int idx=0; idx<L; idx++) {\n",
    "            if (cs - nums[idx] == cumsum[idx] * 2) {\n",
    "                res = idx;\n",
    "                broken = true;\n",
    "                break;\n",
    "            }\n",
    "        }\n",
    "        if (broken) {\n",
    "            return res;    \n",
    "        }\n",
    "        return -1;\n",
    "    }\n",
    "};"
   ]
  },
  {
   "cell_type": "markdown",
   "metadata": {},
   "source": [
    "## Lessons and Thoughts\n",
    "- Just need to be careful about the case where the rest of array sum to `0`, so that the result is `0`."
   ]
  }
 ],
 "metadata": {
  "kernelspec": {
   "display_name": "Python 3",
   "language": "python",
   "name": "python3"
  },
  "language_info": {
   "codemirror_mode": {
    "name": "ipython",
    "version": 3
   },
   "file_extension": ".py",
   "mimetype": "text/x-python",
   "name": "python",
   "nbconvert_exporter": "python",
   "pygments_lexer": "ipython3",
   "version": "3.6.5"
  }
 },
 "nbformat": 4,
 "nbformat_minor": 2
}
