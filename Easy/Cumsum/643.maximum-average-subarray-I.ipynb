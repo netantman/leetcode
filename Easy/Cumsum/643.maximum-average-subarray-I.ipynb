{
 "cells": [
  {
   "cell_type": "markdown",
   "metadata": {},
   "source": [
    "## Attempt 1 - Accepted"
   ]
  },
  {
   "cell_type": "code",
   "execution_count": null,
   "metadata": {},
   "outputs": [],
   "source": [
    "class Solution:\n",
    "    def findMaxAverage(self, nums: List[int], k: int) -> float:\n",
    "        cnt=0\n",
    "        running=0\n",
    "        while cnt<k:\n",
    "            running+=nums[cnt]\n",
    "            cnt+=1\n",
    "        maxx=running\n",
    "        L=len(nums)\n",
    "        while cnt<L:\n",
    "            running-=nums[cnt-k]\n",
    "            running+=nums[cnt]\n",
    "            maxx=max(maxx, running)\n",
    "            cnt+=1\n",
    "        return maxx/k"
   ]
  },
  {
   "cell_type": "markdown",
   "metadata": {},
   "source": [
    "## Lessons and Thoughts\n",
    "- Straightforward calc - not even needing cumsum."
   ]
  }
 ],
 "metadata": {
  "kernelspec": {
   "display_name": "Python 3",
   "language": "python",
   "name": "python3"
  },
  "language_info": {
   "codemirror_mode": {
    "name": "ipython",
    "version": 3
   },
   "file_extension": ".py",
   "mimetype": "text/x-python",
   "name": "python",
   "nbconvert_exporter": "python",
   "pygments_lexer": "ipython3",
   "version": "3.7.3"
  }
 },
 "nbformat": 4,
 "nbformat_minor": 2
}
