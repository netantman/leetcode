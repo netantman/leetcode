{
 "cells": [
  {
   "cell_type": "markdown",
   "metadata": {},
   "source": [
    "## Attempt 1 - Runtime Error"
   ]
  },
  {
   "cell_type": "code",
   "execution_count": null,
   "metadata": {},
   "outputs": [],
   "source": [
    "class Solution:\n",
    "    def isCovered(self, ranges: List[List[int]], left: int, right: int) -> bool:\n",
    "        record = [0] * 50\n",
    "        for r in ranges:\n",
    "            record[r[0]] = 1\n",
    "            if r[1] + 1 < 50:\n",
    "                record[r[1] + 1] = -1\n",
    "        \n",
    "        cumsum = [0]\n",
    "        for r in record:\n",
    "            cumsum.append(r + cumsum[-1])\n",
    "        cumsum.pop(0)\n",
    "        \n",
    "        for idx in range(left, right + 1):\n",
    "            if cumsum[idx] < 1:\n",
    "                return False\n",
    "        return True"
   ]
  },
  {
   "cell_type": "markdown",
   "metadata": {},
   "source": [
    "## Attempt 2 - Wrong Answer"
   ]
  },
  {
   "cell_type": "code",
   "execution_count": null,
   "metadata": {},
   "outputs": [],
   "source": [
    "class Solution:\n",
    "    def isCovered(self, ranges: List[List[int]], left: int, right: int) -> bool:\n",
    "        record = [0] * 51\n",
    "        for r in ranges:\n",
    "            record[r[0]] = 1 ## --> should be +=1\n",
    "            if r[1] + 1 < 51:\n",
    "                record[r[1] + 1] = -1 ## --> should be -=1\n",
    "        \n",
    "        cumsum = [0]\n",
    "        for r in record:\n",
    "            cumsum.append(r + cumsum[-1])\n",
    "        cumsum.pop(0)\n",
    "        \n",
    "        for idx in range(left, right + 1):\n",
    "            if cumsum[idx] < 1:\n",
    "                return False\n",
    "        return True"
   ]
  },
  {
   "cell_type": "markdown",
   "metadata": {},
   "source": [
    "## Attempt 3 - Accepted"
   ]
  },
  {
   "cell_type": "code",
   "execution_count": null,
   "metadata": {},
   "outputs": [],
   "source": [
    "class Solution:\n",
    "    def isCovered(self, ranges: List[List[int]], left: int, right: int) -> bool:\n",
    "        record = [0] * 51\n",
    "        for r in ranges:\n",
    "            record[r[0]] += 1\n",
    "            if r[1] + 1 < 51:\n",
    "                record[r[1] + 1] -= 1\n",
    "        \n",
    "        cumsum = [0]\n",
    "        for r in record:\n",
    "            cumsum.append(r + cumsum[-1])\n",
    "        cumsum.pop(0)\n",
    "        \n",
    "        for idx in range(left, right + 1):\n",
    "            if cumsum[idx] < 1:\n",
    "                return False\n",
    "        return True"
   ]
  },
  {
   "cell_type": "markdown",
   "metadata": {},
   "source": [
    "## Lessons and Thoughts\n",
    "- Be very careful about the index out of range!\n",
    "- First time implement this kind of cumsum for interval coverage."
   ]
  }
 ],
 "metadata": {
  "kernelspec": {
   "display_name": "Python 3",
   "language": "python",
   "name": "python3"
  },
  "language_info": {
   "codemirror_mode": {
    "name": "ipython",
    "version": 3
   },
   "file_extension": ".py",
   "mimetype": "text/x-python",
   "name": "python",
   "nbconvert_exporter": "python",
   "pygments_lexer": "ipython3",
   "version": "3.7.3"
  }
 },
 "nbformat": 4,
 "nbformat_minor": 2
}
