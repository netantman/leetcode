{
 "cells": [
  {
   "cell_type": "markdown",
   "metadata": {},
   "source": [
    "## Attempt 1 - Accepted"
   ]
  },
  {
   "cell_type": "code",
   "execution_count": null,
   "metadata": {},
   "outputs": [],
   "source": [
    "class Solution:\n",
    "    def distanceBetweenBusStops(self, distance: List[int], start: int, destination: int) -> int:\n",
    "        neighbors=dict()\n",
    "        n=len(distance)\n",
    "        for idx, d in enumerate(distance):\n",
    "            neighbors[idx]=neighbors.get(idx,[])+[((idx+1)%n, d)]\n",
    "            neighbors[(idx+1)%n]=neighbors.get((idx+1)%n,[])+[(idx, d)]\n",
    "        sp=[float('inf') for _ in range(n)]\n",
    "        sp[start]=0\n",
    "        q=[start]\n",
    "        while q:\n",
    "            head=q.pop(0)\n",
    "            nodes=neighbors[head]\n",
    "            for node, d in nodes:\n",
    "                if sp[head]+d<sp[node]:\n",
    "                    sp[node]=sp[head]+d\n",
    "                    q.append(node)\n",
    "        return sp[destination]"
   ]
  },
  {
   "cell_type": "markdown",
   "metadata": {},
   "source": [
    "## Attempt 1 - Accepted"
   ]
  },
  {
   "cell_type": "code",
   "execution_count": null,
   "metadata": {},
   "outputs": [],
   "source": [
    "class Solution {\n",
    "public:\n",
    "    int distanceBetweenBusStops(vector<int>& distance, int start, int destination) {\n",
    "        if (start == destination) {\n",
    "            return 0;\n",
    "        }\n",
    "        int n = distance.size();\n",
    "        // int s = std::accumulate(distance.begin(), distance.end(), 0); // the way to get sum of a vector\n",
    "        std::vector<double> sp(n, std::numeric_limits<double>::infinity()); // infinity of int does not seem to work\n",
    "        sp[start] = 0;\n",
    "        std::deque<int> q {start};\n",
    "        while (q.size() > 0) {\n",
    "            int curr = q[0];\n",
    "            q.pop_front();\n",
    "            int right = (curr + 1) % n;\n",
    "            if (sp[right] > sp[curr] + distance[curr]) {\n",
    "                sp[right] = sp[curr] + distance[curr];\n",
    "                q.push_back(right);\n",
    "            }\n",
    "            int left = curr - 1;\n",
    "            if (left < 0) {\n",
    "                left += n; // modulo does not seem to return positive result\n",
    "            }\n",
    "            if (sp[left] > sp[curr] + distance[left]) {\n",
    "                sp[left] = sp[curr] + distance[left];\n",
    "                q.push_back(left);\n",
    "            }\n",
    "        }\n",
    "        return int(sp[destination]);\n",
    "    }\n",
    "};"
   ]
  },
  {
   "cell_type": "markdown",
   "metadata": {},
   "source": [
    "## Lessons and Thoughts\n",
    "- Typical shortest path problem."
   ]
  }
 ],
 "metadata": {
  "kernelspec": {
   "display_name": "Python 3",
   "language": "python",
   "name": "python3"
  },
  "language_info": {
   "codemirror_mode": {
    "name": "ipython",
    "version": 3
   },
   "file_extension": ".py",
   "mimetype": "text/x-python",
   "name": "python",
   "nbconvert_exporter": "python",
   "pygments_lexer": "ipython3",
   "version": "3.7.3"
  }
 },
 "nbformat": 4,
 "nbformat_minor": 2
}
