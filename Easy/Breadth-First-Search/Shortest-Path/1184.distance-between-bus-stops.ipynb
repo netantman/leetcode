{
 "cells": [
  {
   "cell_type": "markdown",
   "metadata": {},
   "source": [
    "## Attempt 1 - Accepted"
   ]
  },
  {
   "cell_type": "code",
   "execution_count": null,
   "metadata": {},
   "outputs": [],
   "source": [
    "class Solution:\n",
    "    def distanceBetweenBusStops(self, distance: List[int], start: int, destination: int) -> int:\n",
    "        neighbors=dict()\n",
    "        n=len(distance)\n",
    "        for idx, d in enumerate(distance):\n",
    "            neighbors[idx]=neighbors.get(idx,[])+[((idx+1)%n, d)]\n",
    "            neighbors[(idx+1)%n]=neighbors.get((idx+1)%n,[])+[(idx, d)]\n",
    "        sp=[float('inf') for _ in range(n)]\n",
    "        sp[start]=0\n",
    "        q=[start]\n",
    "        while q:\n",
    "            head=q.pop(0)\n",
    "            nodes=neighbors[head]\n",
    "            for node, d in nodes:\n",
    "                if sp[head]+d<sp[node]:\n",
    "                    sp[node]=sp[head]+d\n",
    "                    q.append(node)\n",
    "        return sp[destination]"
   ]
  },
  {
   "cell_type": "markdown",
   "metadata": {},
   "source": [
    "## Lessons and Thoughts\n",
    "- Typical shortest path problem."
   ]
  }
 ],
 "metadata": {
  "kernelspec": {
   "display_name": "Python 3",
   "language": "python",
   "name": "python3"
  },
  "language_info": {
   "codemirror_mode": {
    "name": "ipython",
    "version": 3
   },
   "file_extension": ".py",
   "mimetype": "text/x-python",
   "name": "python",
   "nbconvert_exporter": "python",
   "pygments_lexer": "ipython3",
   "version": "3.7.3"
  }
 },
 "nbformat": 4,
 "nbformat_minor": 2
}
