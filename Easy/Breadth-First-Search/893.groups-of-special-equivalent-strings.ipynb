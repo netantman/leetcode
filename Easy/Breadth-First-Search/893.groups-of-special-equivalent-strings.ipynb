{
 "cells": [
  {
   "cell_type": "markdown",
   "metadata": {},
   "source": [
    "## Attempt 1 - Time Limit Exceeded"
   ]
  },
  {
   "cell_type": "code",
   "execution_count": null,
   "metadata": {},
   "outputs": [],
   "source": [
    "class Solution:\n",
    "    def numSpecialEquivGroups(self, A: List[str]) -> int:\n",
    "        def equivalents(word):\n",
    "            L=len(word)\n",
    "            q=[word]\n",
    "            res=set([word])\n",
    "            while len(q)>0:\n",
    "                head=q.pop(0)\n",
    "                for i in range(L):\n",
    "                    for j in range(i+1,L):\n",
    "                        if i%2==j%2:\n",
    "                            new=head[:i]+head[j]+head[i+1:j]+head[i]+head[j+1:]\n",
    "                            if new not in res:\n",
    "                                q.append(new)\n",
    "                                res.add(new) ## --> as with all BFS on graphs, marking visited is easy to go wrong\n",
    "            return res\n",
    "        groups=[]\n",
    "        for a in A:\n",
    "            for g in groups:\n",
    "                if a in g:\n",
    "                    break\n",
    "            else:\n",
    "                groups.append(equivalents(a))\n",
    "        return len(groups)"
   ]
  },
  {
   "cell_type": "markdown",
   "metadata": {},
   "source": [
    "## Attempt 2 - Accepted"
   ]
  },
  {
   "cell_type": "code",
   "execution_count": null,
   "metadata": {},
   "outputs": [],
   "source": [
    "class Solution:\n",
    "    def numSpecialEquivGroups(self, A: List[str]) -> int:\n",
    "        def get_group(word):\n",
    "            L=len(word)\n",
    "            return (tuple(sorted(word[::2])), tuple(sorted(word[1::2])))\n",
    "        \n",
    "        groups=set()\n",
    "        for a in A:\n",
    "            gr=get_group(a)\n",
    "            if gr not in groups:\n",
    "                groups.add(gr)\n",
    "\n",
    "        return len(groups)"
   ]
  },
  {
   "cell_type": "markdown",
   "metadata": {},
   "source": [
    "## Lessons and Thoughts\n",
    "- Hashing a `tuple` of mutable types is still not allowed.\n",
    "- If you do slicing on a `string`, it becomes an array of characters.\n",
    "- The key is to recognize that a word is mapped to a group only by its sets of odd and even characters."
   ]
  }
 ],
 "metadata": {
  "kernelspec": {
   "display_name": "Python 3",
   "language": "python",
   "name": "python3"
  },
  "language_info": {
   "codemirror_mode": {
    "name": "ipython",
    "version": 3
   },
   "file_extension": ".py",
   "mimetype": "text/x-python",
   "name": "python",
   "nbconvert_exporter": "python",
   "pygments_lexer": "ipython3",
   "version": "3.7.3"
  }
 },
 "nbformat": 4,
 "nbformat_minor": 2
}
