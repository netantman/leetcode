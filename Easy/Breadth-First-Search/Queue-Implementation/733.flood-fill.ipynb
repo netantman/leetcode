{
 "cells": [
  {
   "cell_type": "markdown",
   "metadata": {},
   "source": [
    "## Attempt 1 - Accepted"
   ]
  },
  {
   "cell_type": "code",
   "execution_count": null,
   "metadata": {},
   "outputs": [],
   "source": [
    "class Solution:\n",
    "    def floodFill(self, image: List[List[int]], sr: int, sc: int, newColor: int) -> List[List[int]]:\n",
    "        \n",
    "        R,C=len(image),len(image[0])\n",
    "        \n",
    "        def get_neighbors(r,c,R,C):\n",
    "            neighbors=[]\n",
    "            if r-1>=0:\n",
    "                neighbors.append((r-1,c))\n",
    "            if r+1<R:\n",
    "                neighbors.append((r+1,c))\n",
    "            if c-1>=0:\n",
    "                neighbors.append((r,c-1))\n",
    "            if c+1<C:\n",
    "                neighbors.append((r,c+1))\n",
    "            return neighbors\n",
    "        \n",
    "        q=[(sr,sc)]\n",
    "        orig=image[sr][sc]\n",
    "        while len(q)>0:\n",
    "            head=q.pop(0)\n",
    "            r,c=head\n",
    "            image[r][c]=\"X\"\n",
    "            neighbors=get_neighbors(r,c,R,C)\n",
    "            for n in neighbors:\n",
    "                if image[n[0]][n[1]]==orig:\n",
    "                    q.append(n)\n",
    "        \n",
    "        for r in range(R):\n",
    "            for c in range(C):\n",
    "                if image[r][c]==\"X\":\n",
    "                    image[r][c]=newColor\n",
    "        \n",
    "        return image"
   ]
  },
  {
   "cell_type": "markdown",
   "metadata": {},
   "source": [
    "## Lessons and Thoughts\n",
    "- Straightforward BFS"
   ]
  }
 ],
 "metadata": {
  "kernelspec": {
   "display_name": "Python 3",
   "language": "python",
   "name": "python3"
  },
  "language_info": {
   "codemirror_mode": {
    "name": "ipython",
    "version": 3
   },
   "file_extension": ".py",
   "mimetype": "text/x-python",
   "name": "python",
   "nbconvert_exporter": "python",
   "pygments_lexer": "ipython3",
   "version": "3.7.3"
  }
 },
 "nbformat": 4,
 "nbformat_minor": 2
}
