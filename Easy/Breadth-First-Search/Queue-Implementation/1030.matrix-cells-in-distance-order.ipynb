{
 "cells": [
  {
   "cell_type": "markdown",
   "metadata": {},
   "source": [
    "## Attempt 1 - Accepted"
   ]
  },
  {
   "cell_type": "code",
   "execution_count": null,
   "metadata": {},
   "outputs": [],
   "source": [
    "class Solution:\n",
    "    def allCellsDistOrder(self, R: int, C: int, r0: int, c0: int) -> List[List[int]]:\n",
    "        q=[(r0,c0)]\n",
    "        visited=set([(r0,c0)])\n",
    "        res=[]\n",
    "        while q:\n",
    "            head=q.pop(0)\n",
    "            res.append(head)\n",
    "            r,c=head\n",
    "            if r-1>=0 and (r-1,c) not in visited:\n",
    "                q.append((r-1,c))\n",
    "                visited.add((r-1,c))\n",
    "            if r+1<R and (r+1,c) not in visited:\n",
    "                q.append((r+1,c))\n",
    "                visited.add((r+1,c))\n",
    "            if c-1>=0 and (r,c-1) not in visited:\n",
    "                q.append((r,c-1))\n",
    "                visited.add((r,c-1))\n",
    "            if c+1<C and (r,c+1) not in visited:\n",
    "                q.append((r,c+1))\n",
    "                visited.add((r,c+1))\n",
    "        return res"
   ]
  },
  {
   "cell_type": "markdown",
   "metadata": {},
   "source": [
    "## Attempt 2 - Accepted"
   ]
  },
  {
   "cell_type": "code",
   "execution_count": null,
   "metadata": {},
   "outputs": [],
   "source": [
    "class Solution {\n",
    "public:\n",
    "    vector<vector<int>> allCellsDistOrder(int rows, int cols, int rCenter, int cCenter) {\n",
    "        vector<vector<int>> res {};\n",
    "        vector<int> curr {rCenter, cCenter};\n",
    "        std::deque<std::vector<int>> q {curr};\n",
    "        std::set<std::vector<int>> visited {curr}; ## does not seem that we need to worry about a set of non-hashable objects; or are vectors hashable?\n",
    "        while (q.size() > 0) {\n",
    "            curr = q[0]; ## pop_front does not always return the element, contrary to python\n",
    "            q.pop_front();\n",
    "            int r = curr[0];\n",
    "            int c = curr[1];\n",
    "            vector<int> tmp {r, c};\n",
    "            res.push_back(tmp);\n",
    "            if (r - 1 >= 0) {\n",
    "                vector<int> tmp {r - 1, c};\n",
    "                if (visited.find(tmp) == visited.end()) {\n",
    "                    q.push_back(tmp);\n",
    "                    visited.insert(tmp);\n",
    "                }\n",
    "            }\n",
    "            if (r + 1 < rows) {\n",
    "                vector<int> tmp {r + 1, c};\n",
    "                if (visited.find(tmp) == visited.end()) {\n",
    "                    q.push_back(tmp);\n",
    "                    visited.insert(tmp);\n",
    "                }\n",
    "            }\n",
    "             if (c - 1 >= 0) {\n",
    "                vector<int> tmp {r, c - 1};\n",
    "                if (visited.find(tmp) == visited.end()) {\n",
    "                    q.push_back(tmp);\n",
    "                    visited.insert(tmp);\n",
    "                }\n",
    "            }\n",
    "            if (c + 1 < cols) {\n",
    "                vector<int> tmp {r, c + 1};\n",
    "                if (visited.find(tmp) == visited.end()) {\n",
    "                    q.push_back(tmp);\n",
    "                    visited.insert(tmp);\n",
    "                }\n",
    "            }             \n",
    "        }\n",
    "        return res;\n",
    "    }\n",
    "};"
   ]
  },
  {
   "cell_type": "markdown",
   "metadata": {},
   "source": [
    "## Lessons and Thoughts\n",
    "- It is labeled 'sort' on leetcode, so it may expect to traverse all cells, calculate distance and sort the results. But BFS, which calculate shortest path as a by-product, might be more efficient here."
   ]
  }
 ],
 "metadata": {
  "kernelspec": {
   "display_name": "Python 3",
   "language": "python",
   "name": "python3"
  },
  "language_info": {
   "codemirror_mode": {
    "name": "ipython",
    "version": 3
   },
   "file_extension": ".py",
   "mimetype": "text/x-python",
   "name": "python",
   "nbconvert_exporter": "python",
   "pygments_lexer": "ipython3",
   "version": "3.7.3"
  }
 },
 "nbformat": 4,
 "nbformat_minor": 2
}
