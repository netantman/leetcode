{
 "cells": [
  {
   "cell_type": "markdown",
   "metadata": {},
   "source": [
    "## Attempt 1 - Accepted"
   ]
  },
  {
   "cell_type": "code",
   "execution_count": null,
   "metadata": {},
   "outputs": [],
   "source": [
    "class Solution:\n",
    "    def allCellsDistOrder(self, R: int, C: int, r0: int, c0: int) -> List[List[int]]:\n",
    "        q=[(r0,c0)]\n",
    "        visited=set([(r0,c0)])\n",
    "        res=[]\n",
    "        while q:\n",
    "            head=q.pop(0)\n",
    "            res.append(head)\n",
    "            r,c=head\n",
    "            if r-1>=0 and (r-1,c) not in visited:\n",
    "                q.append((r-1,c))\n",
    "                visited.add((r-1,c))\n",
    "            if r+1<R and (r+1,c) not in visited:\n",
    "                q.append((r+1,c))\n",
    "                visited.add((r+1,c))\n",
    "            if c-1>=0 and (r,c-1) not in visited:\n",
    "                q.append((r,c-1))\n",
    "                visited.add((r,c-1))\n",
    "            if c+1<C and (r,c+1) not in visited:\n",
    "                q.append((r,c+1))\n",
    "                visited.add((r,c+1))\n",
    "        return res"
   ]
  },
  {
   "cell_type": "markdown",
   "metadata": {},
   "source": [
    "## Lessons and Thoughts\n",
    "- It is labeled 'sort' on leetcode, so it may expect to traverse all cells, calculate distance and sort the results. But BFS, which calculate shortest path as a by-product, might be more efficient here."
   ]
  }
 ],
 "metadata": {
  "kernelspec": {
   "display_name": "Python 3",
   "language": "python",
   "name": "python3"
  },
  "language_info": {
   "codemirror_mode": {
    "name": "ipython",
    "version": 3
   },
   "file_extension": ".py",
   "mimetype": "text/x-python",
   "name": "python",
   "nbconvert_exporter": "python",
   "pygments_lexer": "ipython3",
   "version": "3.7.3"
  }
 },
 "nbformat": 4,
 "nbformat_minor": 2
}
