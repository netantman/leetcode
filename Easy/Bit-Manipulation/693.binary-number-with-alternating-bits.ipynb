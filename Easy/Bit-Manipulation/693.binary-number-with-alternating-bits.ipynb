{
 "cells": [
  {
   "cell_type": "markdown",
   "metadata": {},
   "source": [
    "## Attempt 1 - Wrong Answer"
   ]
  },
  {
   "cell_type": "code",
   "execution_count": null,
   "metadata": {},
   "outputs": [],
   "source": [
    "class Solution:\n",
    "    def hasAlternatingBits(self, n: int) -> bool:\n",
    "        idx=0\n",
    "        while (1<<(idx+1))<=n:\n",
    "            if (n&(1<<(idx+1))) ^ (n&(1<<idx)) == 0: ## --> this is not 1 and 0!\n",
    "                return False\n",
    "            idx+=1\n",
    "        return True"
   ]
  },
  {
   "cell_type": "markdown",
   "metadata": {},
   "source": [
    "## Attempt 2 - Accepted"
   ]
  },
  {
   "cell_type": "code",
   "execution_count": null,
   "metadata": {},
   "outputs": [],
   "source": [
    "class Solution:\n",
    "    def hasAlternatingBits(self, n: int) -> bool:\n",
    "        idx=0\n",
    "        while (1<<(idx+1))<=n:\n",
    "            if ((n&(1<<(idx+1)))==0 and (n&(1<<idx))==0) or ((n&(1<<(idx+1)))>0 and (n&(1<<idx))>0):\n",
    "                return False\n",
    "            idx+=1\n",
    "        return True"
   ]
  },
  {
   "cell_type": "markdown",
   "metadata": {},
   "source": [
    "## Lessons and Thoughts\n",
    "- Be careful when using `^`"
   ]
  }
 ],
 "metadata": {
  "kernelspec": {
   "display_name": "Python 3",
   "language": "python",
   "name": "python3"
  },
  "language_info": {
   "codemirror_mode": {
    "name": "ipython",
    "version": 3
   },
   "file_extension": ".py",
   "mimetype": "text/x-python",
   "name": "python",
   "nbconvert_exporter": "python",
   "pygments_lexer": "ipython3",
   "version": "3.7.3"
  }
 },
 "nbformat": 4,
 "nbformat_minor": 2
}
