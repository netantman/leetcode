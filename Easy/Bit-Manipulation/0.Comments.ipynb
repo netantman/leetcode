{
 "cells": [
  {
   "cell_type": "markdown",
   "metadata": {},
   "source": [
    "## Idea"
   ]
  },
  {
   "cell_type": "markdown",
   "metadata": {},
   "source": [
    "This is actually a collection of problems that relate to the binary representation of numbers.\n",
    "\n",
    "Usual tricks:\n",
    "- `x<<1`/`x>>1` is equivalent to `x*2`/`x//2`.\n",
    "- `(x^y)^y=x`: this is often used to find the missing or redundant number in an array. Sometimes it can get very tricky; see Problem 137 and 260.\n",
    "- Bit manipulation is a good alternatives when you are not allowed to use the usual maths operations."
   ]
  },
  {
   "cell_type": "markdown",
   "metadata": {},
   "source": [
    "## Traps"
   ]
  },
  {
   "cell_type": "markdown",
   "metadata": {},
   "source": [
    "- A mask to get the bit representation of a number: `1<<idx` for `idx<=32` maybe. But note that the masked input is not 1 or 0; see Problem 693.\n",
    "- The built-in way in `python` to get the binary representation of an integar is `bin`: it returns a `str` - remember to get rid of the `0b` prefix!\n",
    "- Sometimes you may want to find the most significant bit; see Problems 29 and 201."
   ]
  }
 ],
 "metadata": {
  "kernelspec": {
   "display_name": "Python 3",
   "language": "python",
   "name": "python3"
  },
  "language_info": {
   "codemirror_mode": {
    "name": "ipython",
    "version": 3
   },
   "file_extension": ".py",
   "mimetype": "text/x-python",
   "name": "python",
   "nbconvert_exporter": "python",
   "pygments_lexer": "ipython3",
   "version": "3.7.3"
  }
 },
 "nbformat": 4,
 "nbformat_minor": 2
}
