{
 "cells": [
  {
   "cell_type": "markdown",
   "metadata": {},
   "source": [
    "## Attempt 1 - Accepted"
   ]
  },
  {
   "cell_type": "code",
   "execution_count": null,
   "metadata": {},
   "outputs": [],
   "source": [
    "class Solution:\n",
    "    def __init__(self):\n",
    "        self.primes={2,3,5,7,11,13,17,19,23,29,31}\n",
    "    def countPrimeSetBits(self, L: int, R: int) -> int:\n",
    "        def set_is_prime(num):\n",
    "            idx=0\n",
    "            cnt=0\n",
    "            while num>=(1<<idx):\n",
    "                cnt+=(num&(1<<idx))>0 ## --> again simply the & is not 0 or 1!\n",
    "                idx+=1\n",
    "            return cnt in self.primes\n",
    "        return sum(map(set_is_prime, range(L,R+1)))"
   ]
  },
  {
   "cell_type": "markdown",
   "metadata": {},
   "source": [
    "## Lessons and Thoughts\n",
    "- Summing `bool`s to count how many in total are `True`\n",
    "- again simply the `&` is not 0 or 1!"
   ]
  }
 ],
 "metadata": {
  "kernelspec": {
   "display_name": "Python 3",
   "language": "python",
   "name": "python3"
  },
  "language_info": {
   "codemirror_mode": {
    "name": "ipython",
    "version": 3
   },
   "file_extension": ".py",
   "mimetype": "text/x-python",
   "name": "python",
   "nbconvert_exporter": "python",
   "pygments_lexer": "ipython3",
   "version": "3.7.3"
  }
 },
 "nbformat": 4,
 "nbformat_minor": 2
}
