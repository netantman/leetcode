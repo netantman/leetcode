{
 "cells": [
  {
   "cell_type": "markdown",
   "metadata": {},
   "source": [
    "## Attempt 1 - Accepted"
   ]
  },
  {
   "cell_type": "code",
   "execution_count": null,
   "metadata": {},
   "outputs": [],
   "source": [
    "class Solution:\n",
    "    def removeDuplicates(self, nums: List[int]) -> int:\n",
    "        if len(nums)<=1:\n",
    "            return len(nums)\n",
    "        \n",
    "        pos=0\n",
    "        idx=1\n",
    "        len_nums=len(nums)\n",
    "        to_compare=nums[pos]\n",
    "        while idx<len_nums:\n",
    "            if nums[idx]!=to_compare:\n",
    "                to_compare=nums[idx]\n",
    "                pos+=1\n",
    "                nums[pos]=to_compare\n",
    "            idx+=1\n",
    "        \n",
    "        return pos+1\n",
    "        "
   ]
  },
  {
   "cell_type": "markdown",
   "metadata": {},
   "source": [
    "## Lessons and Thoughts\n",
    "- As with all chasing two pointers solutions, make sure the the back one can never surpass the front one."
   ]
  }
 ],
 "metadata": {
  "kernelspec": {
   "display_name": "Python 3",
   "language": "python",
   "name": "python3"
  },
  "language_info": {
   "codemirror_mode": {
    "name": "ipython",
    "version": 3
   },
   "file_extension": ".py",
   "mimetype": "text/x-python",
   "name": "python",
   "nbconvert_exporter": "python",
   "pygments_lexer": "ipython3",
   "version": "3.7.3"
  }
 },
 "nbformat": 4,
 "nbformat_minor": 2
}
