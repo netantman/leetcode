{
 "cells": [
  {
   "cell_type": "markdown",
   "metadata": {},
   "source": [
    "## Attempt 1 - Wrong Answer"
   ]
  },
  {
   "cell_type": "code",
   "execution_count": null,
   "metadata": {},
   "outputs": [],
   "source": [
    "class Solution:\n",
    "    def removeElement(self, nums: List[int], val: int) -> int:\n",
    "        if len(nums)<1:\n",
    "            return 0\n",
    "        if len(nums)==1:\n",
    "            if nums[0]==val:\n",
    "                return 0\n",
    "            else:\n",
    "                return 1\n",
    "        \n",
    "        left,right=0,1\n",
    "        len_nums=len(nums)\n",
    "        while right<len_nums:\n",
    "            if nums[left]==val:\n",
    "                right=left+1\n",
    "                break\n",
    "            else:\n",
    "                left+=1\n",
    "                right+=1\n",
    "        if right==len_nums:\n",
    "            if nums[left]==val:\n",
    "                return len_nums-1\n",
    "            else:\n",
    "                return len_nums\n",
    "        else:    \n",
    "            while right<len_nums:\n",
    "                if nums[right]==val:\n",
    "                    right+=1\n",
    "                else:\n",
    "                    nums[left]=nums[right]\n",
    "                    nums[right]=val\n",
    "                    left+=1\n",
    "                    right+=1\n",
    "\n",
    "            if nums[left]==val:\n",
    "                return left+1\n",
    "            else:\n",
    "                return left    ## -> the two cases are reversed"
   ]
  },
  {
   "cell_type": "markdown",
   "metadata": {},
   "source": [
    "## Attempt 2 - Accepted"
   ]
  },
  {
   "cell_type": "code",
   "execution_count": null,
   "metadata": {},
   "outputs": [],
   "source": [
    "class Solution:\n",
    "    def removeElement(self, nums: List[int], val: int) -> int:\n",
    "        if len(nums)<1:\n",
    "            return 0\n",
    "        if len(nums)==1:\n",
    "            if nums[0]==val:\n",
    "                return 0\n",
    "            else:\n",
    "                return 1\n",
    "        \n",
    "        left,right=0,1\n",
    "        len_nums=len(nums)\n",
    "        while right<len_nums:\n",
    "            if nums[left]==val:\n",
    "                right=left+1\n",
    "                break\n",
    "            else:\n",
    "                left+=1\n",
    "                right+=1\n",
    "        if right==len_nums:\n",
    "            if nums[left]==val:\n",
    "                return len_nums-1\n",
    "            else:\n",
    "                return len_nums\n",
    "        else:    \n",
    "            while right<len_nums:\n",
    "                if nums[right]==val:\n",
    "                    right+=1\n",
    "                else:\n",
    "                    nums[left]=nums[right]\n",
    "                    nums[right]=val\n",
    "                    left+=1\n",
    "                    right+=1\n",
    "\n",
    "            if nums[left]==val:\n",
    "                return left\n",
    "            else:\n",
    "                return left+1"
   ]
  },
  {
   "cell_type": "markdown",
   "metadata": {},
   "source": [
    "## Lessons and Thoughts\n",
    "- Although this is easy level, it takes quite a while to come up with the right two-pointer algo."
   ]
  }
 ],
 "metadata": {
  "kernelspec": {
   "display_name": "Python 3",
   "language": "python",
   "name": "python3"
  },
  "language_info": {
   "codemirror_mode": {
    "name": "ipython",
    "version": 3
   },
   "file_extension": ".py",
   "mimetype": "text/x-python",
   "name": "python",
   "nbconvert_exporter": "python",
   "pygments_lexer": "ipython3",
   "version": "3.7.3"
  }
 },
 "nbformat": 4,
 "nbformat_minor": 2
}
