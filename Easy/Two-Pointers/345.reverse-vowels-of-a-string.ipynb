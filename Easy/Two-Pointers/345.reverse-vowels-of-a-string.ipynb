{
 "cells": [
  {
   "cell_type": "markdown",
   "metadata": {},
   "source": [
    "## Attempt 1 - Wrong Answer"
   ]
  },
  {
   "cell_type": "code",
   "execution_count": null,
   "metadata": {},
   "outputs": [],
   "source": [
    "class Solution:\n",
    "    def reverseVowels(self, s: str) -> str:\n",
    "        if len(s)<=1:\n",
    "            return s\n",
    "        \n",
    "        vowels={'a', 'e', 'i', 'o', 'u'} ## --> did not handle upper case\n",
    "        L=len(s)\n",
    "        s=[c for c in s]\n",
    "        left, right=0, L-1\n",
    "        while left<right:\n",
    "            if s[left] not in vowels:\n",
    "                left+=1\n",
    "            if s[right] not in vowels:\n",
    "                right-=1\n",
    "            if s[left] in vowels and s[right] in vowels:\n",
    "                s[left], s[right]=s[right], s[left]\n",
    "                left+=1\n",
    "                right-=1\n",
    "        return \"\".join(s)"
   ]
  },
  {
   "cell_type": "markdown",
   "metadata": {},
   "source": [
    "## Attempt 2 - Accepted"
   ]
  },
  {
   "cell_type": "code",
   "execution_count": null,
   "metadata": {},
   "outputs": [],
   "source": [
    "class Solution:\n",
    "    def reverseVowels(self, s: str) -> str:\n",
    "        if len(s)<=1:\n",
    "            return s\n",
    "        \n",
    "        vowels={'a', 'e', 'i', 'o', 'u', 'A', 'E', 'I', 'O', 'U'}\n",
    "        L=len(s)\n",
    "        s=[c for c in s]\n",
    "        left, right=0, L-1\n",
    "        while left<right:\n",
    "            if s[left] not in vowels:\n",
    "                left+=1\n",
    "            if s[right] not in vowels:\n",
    "                right-=1\n",
    "            if s[left] in vowels and s[right] in vowels:\n",
    "                s[left], s[right]=s[right], s[left]\n",
    "                left+=1\n",
    "                right-=1\n",
    "        return \"\".join(s)"
   ]
  },
  {
   "cell_type": "markdown",
   "metadata": {},
   "source": [
    "## Lessons and Thoughts\n",
    "- Upper cases and lower cases are things to consider for strings!"
   ]
  }
 ],
 "metadata": {
  "kernelspec": {
   "display_name": "Python 3",
   "language": "python",
   "name": "python3"
  },
  "language_info": {
   "codemirror_mode": {
    "name": "ipython",
    "version": 3
   },
   "file_extension": ".py",
   "mimetype": "text/x-python",
   "name": "python",
   "nbconvert_exporter": "python",
   "pygments_lexer": "ipython3",
   "version": "3.7.3"
  }
 },
 "nbformat": 4,
 "nbformat_minor": 2
}
