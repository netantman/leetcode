{
 "cells": [
  {
   "cell_type": "markdown",
   "metadata": {},
   "source": [
    "## Attempt 1 - Accepted"
   ]
  },
  {
   "cell_type": "code",
   "execution_count": null,
   "metadata": {},
   "outputs": [],
   "source": [
    "class Solution:\n",
    "    def findSpecialInteger(self, arr: List[int]) -> int:\n",
    "        L=len(arr)\n",
    "        left,right=0,1\n",
    "        while right<L:\n",
    "            if right-left>0.25*L:\n",
    "                return arr[left]\n",
    "            \n",
    "            if arr[right]==arr[left]:\n",
    "                right+=1\n",
    "            else:\n",
    "                left,right=right,right+1\n",
    "        \n",
    "        if right-left>0.25*L:\n",
    "            return arr[left]"
   ]
  },
  {
   "cell_type": "markdown",
   "metadata": {},
   "source": [
    "## Lessons and Thoughts\n",
    "- Straightforward making use of the sorted nature of input."
   ]
  }
 ],
 "metadata": {
  "kernelspec": {
   "display_name": "Python 3",
   "language": "python",
   "name": "python3"
  },
  "language_info": {
   "codemirror_mode": {
    "name": "ipython",
    "version": 3
   },
   "file_extension": ".py",
   "mimetype": "text/x-python",
   "name": "python",
   "nbconvert_exporter": "python",
   "pygments_lexer": "ipython3",
   "version": "3.7.3"
  }
 },
 "nbformat": 4,
 "nbformat_minor": 2
}
