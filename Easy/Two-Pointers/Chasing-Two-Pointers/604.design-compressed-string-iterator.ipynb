{
 "cells": [
  {
   "cell_type": "markdown",
   "metadata": {},
   "source": [
    "## Attempt 1 - Accepted"
   ]
  },
  {
   "cell_type": "code",
   "execution_count": null,
   "metadata": {},
   "outputs": [],
   "source": [
    "class StringIterator:\n",
    "\n",
    "    def __init__(self, compressedString: str):\n",
    "        L = len(compressedString)\n",
    "        self.str = \"\"\n",
    "        l, r = 0, 1\n",
    "        record = []\n",
    "        while r < L:\n",
    "            if compressedString[l].isalpha():\n",
    "                record.append(compressedString[l])\n",
    "                l += 1\n",
    "                r += 1\n",
    "                continue\n",
    "            while r < L and not compressedString[r].isalpha():\n",
    "                r += 1\n",
    "            record.append(int(compressedString[l : r]))\n",
    "            l, r = r, r + 1\n",
    "        \n",
    "        if l < L:\n",
    "            record.append(int(compressedString[l : r]))\n",
    "        \n",
    "        Lr = len(record)\n",
    "        for idx in range(0, Lr, 2):\n",
    "            self.str += record[idx] * record[idx + 1]\n",
    "        \n",
    "        self.L = len(self.str)\n",
    "        self.idx = 0   \n",
    "        \n",
    "\n",
    "    def next(self) -> str:\n",
    "        if self.hasNext():\n",
    "            res = self.str[self.idx]\n",
    "            self.idx += 1\n",
    "            return res\n",
    "        return \" \"\n",
    "\n",
    "    def hasNext(self) -> bool:\n",
    "        return self.idx < self.L\n",
    "\n",
    "\n",
    "# Your StringIterator object will be instantiated and called as such:\n",
    "# obj = StringIterator(compressedString)\n",
    "# param_1 = obj.next()\n",
    "# param_2 = obj.hasNext()"
   ]
  },
  {
   "cell_type": "markdown",
   "metadata": {},
   "source": [
    "## Lessons and Thoughts\n",
    "- Similar to Problem 408. With all chasing-two-pointers problem, you need to consider the ending condition carefully."
   ]
  }
 ],
 "metadata": {
  "kernelspec": {
   "display_name": "Python 3",
   "language": "python",
   "name": "python3"
  },
  "language_info": {
   "codemirror_mode": {
    "name": "ipython",
    "version": 3
   },
   "file_extension": ".py",
   "mimetype": "text/x-python",
   "name": "python",
   "nbconvert_exporter": "python",
   "pygments_lexer": "ipython3",
   "version": "3.7.3"
  }
 },
 "nbformat": 4,
 "nbformat_minor": 2
}
