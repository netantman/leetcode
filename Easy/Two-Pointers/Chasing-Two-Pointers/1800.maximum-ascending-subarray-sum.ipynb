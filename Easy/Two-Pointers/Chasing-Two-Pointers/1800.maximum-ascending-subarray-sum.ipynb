{
 "cells": [
  {
   "cell_type": "markdown",
   "metadata": {},
   "source": [
    "## Attempt 1 - Accepted"
   ]
  },
  {
   "cell_type": "code",
   "execution_count": null,
   "metadata": {},
   "outputs": [],
   "source": [
    "class Solution:\n",
    "    def maxAscendingSum(self, nums: List[int]) -> int:\n",
    "        res = 0\n",
    "        l, r = 0, 1\n",
    "        L = len(nums)\n",
    "        while r < L:\n",
    "            if nums[r] > nums[r - 1]:\n",
    "                r += 1\n",
    "            else:\n",
    "                res = max(res, sum(nums[l:r]))\n",
    "                l, r = r, r + 1\n",
    "        res = max(res, sum(nums[l:r]))\n",
    "        return res"
   ]
  },
  {
   "cell_type": "markdown",
   "metadata": {},
   "source": [
    "## Lessons and Thoughts\n",
    "- Straightforward chasing two pointers"
   ]
  }
 ],
 "metadata": {
  "kernelspec": {
   "display_name": "Python 3",
   "language": "python",
   "name": "python3"
  },
  "language_info": {
   "codemirror_mode": {
    "name": "ipython",
    "version": 3
   },
   "file_extension": ".py",
   "mimetype": "text/x-python",
   "name": "python",
   "nbconvert_exporter": "python",
   "pygments_lexer": "ipython3",
   "version": "3.7.3"
  }
 },
 "nbformat": 4,
 "nbformat_minor": 2
}
