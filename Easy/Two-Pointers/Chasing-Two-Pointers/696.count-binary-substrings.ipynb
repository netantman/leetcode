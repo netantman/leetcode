{
 "cells": [
  {
   "cell_type": "markdown",
   "metadata": {},
   "source": [
    "## Attempt 1 - Accepted"
   ]
  },
  {
   "cell_type": "code",
   "execution_count": null,
   "metadata": {},
   "outputs": [],
   "source": [
    "class Solution:\n",
    "    def countBinarySubstrings(self, s: str) -> int:\n",
    "        record=[]\n",
    "        L=len(s)\n",
    "        left, right=0,0\n",
    "        while right<L:\n",
    "            if s[right]==s[left]:\n",
    "                right+=1\n",
    "            else:\n",
    "                record.append(right-left)\n",
    "                left=right\n",
    "        record.append(right-left) ## --> almost missed this!\n",
    "        LL=len(record)\n",
    "        ss=0\n",
    "        for idx in range(LL-1):\n",
    "            ss+=min(record[idx], record[idx+1])\n",
    "        return ss"
   ]
  },
  {
   "cell_type": "markdown",
   "metadata": {},
   "source": [
    "## Lessons and Thoughts\n",
    "- The key is to recognize those substrings can only be found at the places where `0` and `1` switch.\n",
    "- A simple two-pointer application to find consecutive `0` and `1`: just remember to add back the last bulk!"
   ]
  }
 ],
 "metadata": {
  "kernelspec": {
   "display_name": "Python 3",
   "language": "python",
   "name": "python3"
  },
  "language_info": {
   "codemirror_mode": {
    "name": "ipython",
    "version": 3
   },
   "file_extension": ".py",
   "mimetype": "text/x-python",
   "name": "python",
   "nbconvert_exporter": "python",
   "pygments_lexer": "ipython3",
   "version": "3.7.3"
  }
 },
 "nbformat": 4,
 "nbformat_minor": 2
}
