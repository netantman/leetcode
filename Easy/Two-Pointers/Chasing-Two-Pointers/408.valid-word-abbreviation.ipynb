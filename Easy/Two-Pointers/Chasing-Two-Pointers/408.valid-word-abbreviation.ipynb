{
 "cells": [
  {
   "cell_type": "markdown",
   "metadata": {},
   "source": [
    "## Attempt 1 - Wrong Answer"
   ]
  },
  {
   "cell_type": "code",
   "execution_count": null,
   "metadata": {},
   "outputs": [],
   "source": [
    "class Solution:\n",
    "    def validWordAbbreviation(self, word: str, abbr: str) -> bool:\n",
    "        l, r = 0, 1\n",
    "        L = len(abbr)\n",
    "        record = []\n",
    "        while r < L:\n",
    "            if abbr[l].isalpha():\n",
    "                record.append(abbr[l])\n",
    "                l += 1\n",
    "                r += 1\n",
    "                continue\n",
    "            while r < L and not abbr[r].isalpha():\n",
    "                r += 1\n",
    "            record.append(int(abbr[l : r]))\n",
    "            l, r = r, r + 1\n",
    "        \n",
    "        if l == L - 1:\n",
    "            if abbr[l].isalpha():\n",
    "                record.append(abbr[l])\n",
    "            else:\n",
    "                record.append(int(abbr[l]))\n",
    "        \n",
    "        idx1, idx2 = 0, 0\n",
    "        L1, L2 = len(word), len(record)\n",
    "        while idx1 < L1 and idx2 < L2:\n",
    "            if type(record[idx2]) is not int:\n",
    "                if word[idx1] != record[idx2]:\n",
    "                    return False\n",
    "                idx1 += 1\n",
    "                idx2 += 1\n",
    "            else:\n",
    "                idx1 += record[idx2]\n",
    "                idx2 += 1\n",
    "        \n",
    "        return idx1 == L1 and idx2 == L2"
   ]
  },
  {
   "cell_type": "markdown",
   "metadata": {},
   "source": [
    "## Lessons and Thoughts\n",
    "- The failing test case is `a` and `01`, the expected answer is `False`. But in the question it is stipulated that there is no leading 0. The expected answer seems thus a test of whether the `abbr` is valid - not sure."
   ]
  }
 ],
 "metadata": {
  "kernelspec": {
   "display_name": "Python 3",
   "language": "python",
   "name": "python3"
  },
  "language_info": {
   "codemirror_mode": {
    "name": "ipython",
    "version": 3
   },
   "file_extension": ".py",
   "mimetype": "text/x-python",
   "name": "python",
   "nbconvert_exporter": "python",
   "pygments_lexer": "ipython3",
   "version": "3.7.3"
  }
 },
 "nbformat": 4,
 "nbformat_minor": 2
}
