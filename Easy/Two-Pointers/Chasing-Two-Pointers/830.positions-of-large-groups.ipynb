{
 "cells": [
  {
   "cell_type": "markdown",
   "metadata": {},
   "source": [
    "## Attempt 1 - Accepted"
   ]
  },
  {
   "cell_type": "code",
   "execution_count": null,
   "metadata": {},
   "outputs": [],
   "source": [
    "class Solution:\n",
    "    def largeGroupPositions(self, S: str) -> List[List[int]]:\n",
    "        L=len(S)\n",
    "        left, right=0,1\n",
    "        res=[]\n",
    "        while right<L:\n",
    "            if S[right]==S[left]:\n",
    "                right+=1\n",
    "            else:\n",
    "                if right-left>=3:\n",
    "                    res.append([left, right-1])\n",
    "                left, right=right, right+1\n",
    "        if right-left>=3:\n",
    "            res.append([left, right-1])\n",
    "        return res"
   ]
  },
  {
   "cell_type": "markdown",
   "metadata": {},
   "source": [
    "## Lessons and Thoughts\n",
    "- For chasing two pointers problems like this, make sure the pointers move in each iteration. Also remember to deal with the case when we exit the loops."
   ]
  }
 ],
 "metadata": {
  "kernelspec": {
   "display_name": "Python 3",
   "language": "python",
   "name": "python3"
  },
  "language_info": {
   "codemirror_mode": {
    "name": "ipython",
    "version": 3
   },
   "file_extension": ".py",
   "mimetype": "text/x-python",
   "name": "python",
   "nbconvert_exporter": "python",
   "pygments_lexer": "ipython3",
   "version": "3.7.3"
  }
 },
 "nbformat": 4,
 "nbformat_minor": 2
}
