{
 "cells": [
  {
   "cell_type": "markdown",
   "metadata": {},
   "source": [
    "## Attempt 1 - Accepted"
   ]
  },
  {
   "cell_type": "code",
   "execution_count": null,
   "metadata": {},
   "outputs": [],
   "source": [
    "class Solution:\n",
    "    def moveZeroes(self, nums: List[int]) -> None:\n",
    "        \"\"\"\n",
    "        Do not return anything, modify nums in-place instead.\n",
    "        \"\"\"\n",
    "        L=len(nums)\n",
    "        left, right=0,0\n",
    "        while right<L:\n",
    "            if nums[left]!=0:\n",
    "                left+=1\n",
    "                right+=1\n",
    "            else:\n",
    "                break\n",
    "        if left==L:\n",
    "            return\n",
    "        \n",
    "        while right<L:\n",
    "            if nums[right]==0:\n",
    "                right+=1\n",
    "            else:\n",
    "                break\n",
    "        if right==L:\n",
    "            return\n",
    "        \n",
    "        while right<L:\n",
    "            if nums[right]!=0:\n",
    "                nums[left], nums[right]=nums[right], nums[left]\n",
    "                left+=1\n",
    "                right+=1\n",
    "            else:\n",
    "                right+=1\n",
    "        return"
   ]
  },
  {
   "cell_type": "markdown",
   "metadata": {},
   "source": [
    "## Attempt 2 - Accepted"
   ]
  },
  {
   "cell_type": "code",
   "execution_count": null,
   "metadata": {},
   "outputs": [],
   "source": [
    "class Solution:\n",
    "    def moveZeroes(self, nums: List[int]) -> None:\n",
    "        \"\"\"\n",
    "        Do not return anything, modify nums in-place instead.\n",
    "        \"\"\"\n",
    "        \n",
    "        L = len(nums)\n",
    "        l = 0\n",
    "        while l < L and nums[l] != 0:\n",
    "            l += 1\n",
    "        if l == L:\n",
    "            return\n",
    "        \n",
    "        r = l + 1\n",
    "        while r < L and nums[r] == 0:\n",
    "            r += 1\n",
    "        if r == L:\n",
    "            return\n",
    "        \n",
    "        while r < L:\n",
    "            if nums[r] == 0:\n",
    "                r += 1\n",
    "                continue\n",
    "            \n",
    "            nums[l], nums[r] = nums[r], nums[l]\n",
    "            l += 1\n",
    "            r += 1\n",
    "        \n",
    "        return"
   ]
  },
  {
   "cell_type": "markdown",
   "metadata": {},
   "source": [
    "## Lessons and Thoughts\n",
    "- Just remember to handle the edge case where there is no zeros, and all the zeros are already at the end."
   ]
  }
 ],
 "metadata": {
  "kernelspec": {
   "display_name": "Python 3 (ipykernel)",
   "language": "python",
   "name": "python3"
  },
  "language_info": {
   "codemirror_mode": {
    "name": "ipython",
    "version": 3
   },
   "file_extension": ".py",
   "mimetype": "text/x-python",
   "name": "python",
   "nbconvert_exporter": "python",
   "pygments_lexer": "ipython3",
   "version": "3.9.7"
  }
 },
 "nbformat": 4,
 "nbformat_minor": 2
}
