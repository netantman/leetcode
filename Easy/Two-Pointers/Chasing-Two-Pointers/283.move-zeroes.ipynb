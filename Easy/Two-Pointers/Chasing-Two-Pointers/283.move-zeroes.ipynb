{
 "cells": [
  {
   "cell_type": "markdown",
   "metadata": {},
   "source": [
    "## Attempt 1 - Accepted"
   ]
  },
  {
   "cell_type": "code",
   "execution_count": null,
   "metadata": {},
   "outputs": [],
   "source": [
    "class Solution:\n",
    "    def moveZeroes(self, nums: List[int]) -> None:\n",
    "        \"\"\"\n",
    "        Do not return anything, modify nums in-place instead.\n",
    "        \"\"\"\n",
    "        L=len(nums)\n",
    "        left, right=0,0\n",
    "        while right<L:\n",
    "            if nums[left]!=0:\n",
    "                left+=1\n",
    "                right+=1\n",
    "            else:\n",
    "                break\n",
    "        if left==L:\n",
    "            return\n",
    "        \n",
    "        while right<L:\n",
    "            if nums[right]==0:\n",
    "                right+=1\n",
    "            else:\n",
    "                break\n",
    "        if right==L:\n",
    "            return\n",
    "        \n",
    "        while right<L:\n",
    "            if nums[right]!=0:\n",
    "                nums[left], nums[right]=nums[right], nums[left]\n",
    "                left+=1\n",
    "                right+=1\n",
    "            else:\n",
    "                right+=1\n",
    "        return"
   ]
  },
  {
   "cell_type": "markdown",
   "metadata": {},
   "source": [
    "## Lessons and Thoughts\n",
    "- Just remember to handle the edge case where there is no zeros, and all the zeros are already at the end."
   ]
  }
 ],
 "metadata": {
  "kernelspec": {
   "display_name": "Python 3",
   "language": "python",
   "name": "python3"
  },
  "language_info": {
   "codemirror_mode": {
    "name": "ipython",
    "version": 3
   },
   "file_extension": ".py",
   "mimetype": "text/x-python",
   "name": "python",
   "nbconvert_exporter": "python",
   "pygments_lexer": "ipython3",
   "version": "3.7.3"
  }
 },
 "nbformat": 4,
 "nbformat_minor": 2
}
