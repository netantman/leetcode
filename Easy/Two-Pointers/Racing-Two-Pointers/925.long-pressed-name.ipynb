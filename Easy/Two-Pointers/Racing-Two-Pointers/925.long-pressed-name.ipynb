{
 "cells": [
  {
   "cell_type": "markdown",
   "metadata": {},
   "source": [
    "## Attempt 1 - Wrong Answer"
   ]
  },
  {
   "cell_type": "code",
   "execution_count": null,
   "metadata": {},
   "outputs": [],
   "source": [
    "class Solution:\n",
    "    def isLongPressedName(self, name: str, typed: str) -> bool:\n",
    "        idx1,idx2=0,0\n",
    "        L1,L2=len(name),len(typed)\n",
    "        if L2<L1:\n",
    "            return False\n",
    "        while idx1<L1 and idx2<L2:\n",
    "            if name[idx1]==typed[idx2]:\n",
    "                idx1+=1\n",
    "                idx2+=1\n",
    "            else:\n",
    "                idx2+=1 ##--> if typed is not the same as name, it cannot be just any char\n",
    "        return idx1==L1 ## --> this is not enough to guarantee true"
   ]
  },
  {
   "cell_type": "markdown",
   "metadata": {},
   "source": [
    "## Attempt 2 - Accepted"
   ]
  },
  {
   "cell_type": "code",
   "execution_count": null,
   "metadata": {},
   "outputs": [],
   "source": [
    "class Solution:\n",
    "    def isLongPressedName(self, name: str, typed: str) -> bool:\n",
    "        idx1,idx2=0,0\n",
    "        L1,L2=len(name),len(typed)\n",
    "        if L2<L1:\n",
    "            return False\n",
    "        while idx1<L1 and idx2<L2:\n",
    "            if name[idx1]==typed[idx2]:\n",
    "                idx1+=1\n",
    "                idx2+=1\n",
    "            else:\n",
    "                if idx2==0 or typed[idx2]!=typed[idx2-1]:\n",
    "                    return False\n",
    "                idx2+=1\n",
    "        if idx1!=L1:\n",
    "            return False\n",
    "        else:\n",
    "            if idx2==L2:\n",
    "                return True\n",
    "            else:\n",
    "                inc=1\n",
    "                while idx2+inc<L2:\n",
    "                    if typed[idx2+inc]==typed[idx2]:\n",
    "                        inc+=1\n",
    "                    else:\n",
    "                        return False\n",
    "                return True"
   ]
  },
  {
   "cell_type": "markdown",
   "metadata": {},
   "source": [
    "## Lessons and Thoughts\n",
    "- You underestimated this Problem and were not very diligent in handling edge cases."
   ]
  }
 ],
 "metadata": {
  "kernelspec": {
   "display_name": "Python 3",
   "language": "python",
   "name": "python3"
  },
  "language_info": {
   "codemirror_mode": {
    "name": "ipython",
    "version": 3
   },
   "file_extension": ".py",
   "mimetype": "text/x-python",
   "name": "python",
   "nbconvert_exporter": "python",
   "pygments_lexer": "ipython3",
   "version": "3.7.3"
  }
 },
 "nbformat": 4,
 "nbformat_minor": 2
}
