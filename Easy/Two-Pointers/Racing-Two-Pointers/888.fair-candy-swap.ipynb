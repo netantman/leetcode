{
 "cells": [
  {
   "cell_type": "markdown",
   "metadata": {},
   "source": [
    "## Attempt 1 - Accepted"
   ]
  },
  {
   "cell_type": "code",
   "execution_count": null,
   "metadata": {},
   "outputs": [],
   "source": [
    "class Solution:\n",
    "    def fairCandySwap(self, A: List[int], B: List[int]) -> List[int]:\n",
    "        lenA,lenB=len(A),len(B)\n",
    "        A,B=sorted(A),sorted(B)\n",
    "        ia,ib=0,0\n",
    "        target=(sum(B)-sum(A))//2\n",
    "        while ia<lenA and ib<lenB:\n",
    "            if B[ib]-A[ia]==target:\n",
    "                return [A[ia], B[ib]]\n",
    "            elif B[ib]-A[ia]<target:\n",
    "                ib+=1\n",
    "            else:\n",
    "                ia+=1"
   ]
  },
  {
   "cell_type": "markdown",
   "metadata": {},
   "source": [
    "## Lessons and Thoughts\n",
    "- Can be viewed as a variant to Problem 167, though the two pointers move in different directions."
   ]
  }
 ],
 "metadata": {
  "kernelspec": {
   "display_name": "Python 3",
   "language": "python",
   "name": "python3"
  },
  "language_info": {
   "codemirror_mode": {
    "name": "ipython",
    "version": 3
   },
   "file_extension": ".py",
   "mimetype": "text/x-python",
   "name": "python",
   "nbconvert_exporter": "python",
   "pygments_lexer": "ipython3",
   "version": "3.7.3"
  }
 },
 "nbformat": 4,
 "nbformat_minor": 2
}
