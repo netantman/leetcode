{
 "cells": [
  {
   "cell_type": "markdown",
   "metadata": {},
   "source": [
    "## Attempt 1 - Accepted"
   ]
  },
  {
   "cell_type": "code",
   "execution_count": null,
   "metadata": {},
   "outputs": [],
   "source": [
    "class Solution:\n",
    "    def __init__(self):\n",
    "        self.cache=dict()\n",
    "    def isAlienSorted(self, words: List[str], order: str) -> bool:\n",
    "        for idx, c in enumerate(order):\n",
    "            self.cache[c]=idx\n",
    "        \n",
    "        def less_than_equal(words):\n",
    "            word1, word2=words\n",
    "            idx1,idx2=0,0\n",
    "            while idx1<len(word1) and idx2<len(word2):\n",
    "                l1,l2=word1[idx1],word2[idx2]\n",
    "                pos1=self.cache[l1]\n",
    "                pos2=self.cache[l2]\n",
    "                if pos1<pos2:\n",
    "                    return True\n",
    "                elif pos1==pos2:\n",
    "                    idx1+=1\n",
    "                    idx2+=1\n",
    "                else:\n",
    "                    return False\n",
    "            return idx1==len(word1)\n",
    "        \n",
    "        L=len(words)\n",
    "        to_map=[(words[idx], words[idx+1]) for idx in range(L-1)]\n",
    "        return all(map(less_than_equal, to_map))"
   ]
  },
  {
   "cell_type": "markdown",
   "metadata": {},
   "source": [
    "## Lessons and Thoughts\n",
    "- Functions to map only take one argument.\n",
    "- Two pointers approach to compare two words for lexigraphical order."
   ]
  }
 ],
 "metadata": {
  "kernelspec": {
   "display_name": "Python 3",
   "language": "python",
   "name": "python3"
  },
  "language_info": {
   "codemirror_mode": {
    "name": "ipython",
    "version": 3
   },
   "file_extension": ".py",
   "mimetype": "text/x-python",
   "name": "python",
   "nbconvert_exporter": "python",
   "pygments_lexer": "ipython3",
   "version": "3.7.3"
  }
 },
 "nbformat": 4,
 "nbformat_minor": 2
}
