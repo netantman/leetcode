{
 "cells": [
  {
   "cell_type": "markdown",
   "metadata": {},
   "source": [
    "## Attempt 1 - Accepted"
   ]
  },
  {
   "cell_type": "code",
   "execution_count": null,
   "metadata": {},
   "outputs": [],
   "source": [
    "class TrieNode():\n",
    "    def __init__(self):\n",
    "        self.word=None\n",
    "        self.children=[None for _ in range(26)]\n",
    "\n",
    "class Solution:\n",
    "    def longestWord(self, words: List[str]) -> str:\n",
    "        root=TrieNode()\n",
    "        def add_word(word, idx, node):\n",
    "            if idx>=len(word):\n",
    "                node.word=word\n",
    "            else:\n",
    "                if node.children[ord(word[idx])-ord(\"a\")] is None:\n",
    "                    node.children[ord(word[idx])-ord(\"a\")]=add_word(word, idx+1, TrieNode())\n",
    "                else:\n",
    "                    node.children[ord(word[idx])-ord(\"a\")]=add_word(word, idx+1, node.children[ord(word[idx])-ord(\"a\")])\n",
    "            return node\n",
    "            \n",
    "        for word in words:\n",
    "            root=add_word(word, 0, root)\n",
    "        \n",
    "        cnt=[]\n",
    "        q=[root]\n",
    "        while len(q)>0:\n",
    "            nexxt=[]\n",
    "            for node in q:\n",
    "                children=[c for c in node.children if c is not None and c.word is not None]\n",
    "                nexxt+=children\n",
    "            if len(nexxt)>0:\n",
    "                cnt=[n.word for n in nexxt]\n",
    "            q=nexxt\n",
    "        return sorted(cnt)[0]"
   ]
  },
  {
   "cell_type": "markdown",
   "metadata": {},
   "source": [
    "## Lessons and Thoughts\n",
    "- First time implementing a trie by yourself. Took you a while."
   ]
  }
 ],
 "metadata": {
  "kernelspec": {
   "display_name": "Python 3",
   "language": "python",
   "name": "python3"
  },
  "language_info": {
   "codemirror_mode": {
    "name": "ipython",
    "version": 3
   },
   "file_extension": ".py",
   "mimetype": "text/x-python",
   "name": "python",
   "nbconvert_exporter": "python",
   "pygments_lexer": "ipython3",
   "version": "3.7.3"
  }
 },
 "nbformat": 4,
 "nbformat_minor": 2
}
