{
 "cells": [
  {
   "cell_type": "markdown",
   "metadata": {},
   "source": [
    "## Attempt 1 - Accepted"
   ]
  },
  {
   "cell_type": "code",
   "execution_count": null,
   "metadata": {},
   "outputs": [],
   "source": [
    "# Definition for singly-linked list.\n",
    "# class ListNode:\n",
    "#     def __init__(self, x):\n",
    "#         self.val = x\n",
    "#         self.next = None\n",
    "\n",
    "class Solution:\n",
    "    def getIntersectionNode(self, headA: ListNode, headB: ListNode) -> ListNode:\n",
    "        if headA is None or headB is None:\n",
    "            return None\n",
    "        \n",
    "        currA, currB=headA, headB\n",
    "        while currA is not None and currB is not None:\n",
    "            currA=currA.next\n",
    "            currB=currB.next\n",
    "        \n",
    "        idxA, idxB=None, None\n",
    "        if currA is not None:\n",
    "            idxA=0\n",
    "            while currA is not None:\n",
    "                currA=currA.next\n",
    "                idxA+=1\n",
    "        if currB is not None:\n",
    "            idxB=0\n",
    "            while currB is not None:\n",
    "                currB=currB.next\n",
    "                idxB+=1\n",
    "        \n",
    "        currA, currB=headA, headB\n",
    "        if idxA is not None:\n",
    "            for i in range(idxA):\n",
    "                currA=currA.next\n",
    "        if idxB is not None:\n",
    "            for j in range(idxB):\n",
    "                currB=currB.next\n",
    "        \n",
    "        while (currA is not None) and (currB is not None) and (currA!=currB):\n",
    "            currA=currA.next\n",
    "            currB=currB.next\n",
    "        \n",
    "        return currA"
   ]
  },
  {
   "cell_type": "markdown",
   "metadata": {},
   "source": [
    "## Lessons and Thoughts\n",
    "- The above algo solves the follow-up question. `O(n)` runtime but you can still traverse the lists twice."
   ]
  }
 ],
 "metadata": {
  "kernelspec": {
   "display_name": "Python 3",
   "language": "python",
   "name": "python3"
  },
  "language_info": {
   "codemirror_mode": {
    "name": "ipython",
    "version": 3
   },
   "file_extension": ".py",
   "mimetype": "text/x-python",
   "name": "python",
   "nbconvert_exporter": "python",
   "pygments_lexer": "ipython3",
   "version": "3.7.3"
  }
 },
 "nbformat": 4,
 "nbformat_minor": 2
}
