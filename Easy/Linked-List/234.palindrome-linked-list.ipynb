{
 "cells": [
  {
   "cell_type": "markdown",
   "metadata": {},
   "source": [
    "## Attempt 1 - Accepted, online solution"
   ]
  },
  {
   "cell_type": "code",
   "execution_count": null,
   "metadata": {},
   "outputs": [],
   "source": [
    "# Definition for singly-linked list.\n",
    "# class ListNode:\n",
    "#     def __init__(self, val=0, next=None):\n",
    "#         self.val = val\n",
    "#         self.next = next\n",
    "class Solution:\n",
    "    def isPalindrome(self, head: ListNode) -> bool:\n",
    "        fast,slow = head,head\n",
    "        prev = None\n",
    "        flag = 1\n",
    "        if not head:\n",
    "            return True\n",
    "        while fast and fast.next:\n",
    "            if not fast.next.next:\n",
    "                flag = 0\n",
    "                break\n",
    "            fast = fast.next.next\n",
    "            temp = slow\n",
    "            slow = slow.next\n",
    "            temp.next = prev\n",
    "            prev = temp\n",
    "        \n",
    "        fast = slow.next\n",
    "        slow.next = prev\n",
    "        if flag:\n",
    "            slow = slow.next\n",
    "        while fast and slow:\n",
    "            if fast.val != slow.val:\n",
    "                return False\n",
    "            fast = fast.next\n",
    "            slow = slow.next\n",
    "        return True"
   ]
  },
  {
   "cell_type": "markdown",
   "metadata": {},
   "source": [
    "## Lessons and Thoughts\n",
    "- Algo is from [here](https://www.tutorialspoint.com/palindrome-linked-list-in-python)\n",
    "- So it is possible to traverse and revert a linked list in place (without saving them in a list). The algo above is just reverting to mid way, and then you can compare the two halves in opposite directions.\n",
    "- Note that the linked list can have even or odd numbers of nodes."
   ]
  }
 ],
 "metadata": {
  "kernelspec": {
   "display_name": "Python 3",
   "language": "python",
   "name": "python3"
  },
  "language_info": {
   "codemirror_mode": {
    "name": "ipython",
    "version": 3
   },
   "file_extension": ".py",
   "mimetype": "text/x-python",
   "name": "python",
   "nbconvert_exporter": "python",
   "pygments_lexer": "ipython3",
   "version": "3.7.3"
  }
 },
 "nbformat": 4,
 "nbformat_minor": 2
}
