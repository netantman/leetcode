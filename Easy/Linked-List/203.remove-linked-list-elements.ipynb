{
 "cells": [
  {
   "cell_type": "markdown",
   "metadata": {},
   "source": [
    "## Attempt 1 - Accepted"
   ]
  },
  {
   "cell_type": "code",
   "execution_count": null,
   "metadata": {},
   "outputs": [],
   "source": [
    "# Definition for singly-linked list.\n",
    "# class ListNode:\n",
    "#     def __init__(self, val=0, next=None):\n",
    "#         self.val = val\n",
    "#         self.next = next\n",
    "class Solution:\n",
    "    def removeElements(self, head: ListNode, val: int) -> ListNode:\n",
    "        if head is None:\n",
    "            return head\n",
    "        if head.next is None:\n",
    "            if head.val is val:\n",
    "                return None\n",
    "            else:\n",
    "                return head\n",
    "        \n",
    "        zero=ListNode()\n",
    "        zero.next=head\n",
    "        back, front=zero, head\n",
    "        while front is not None:\n",
    "            if front.val is val:\n",
    "                back.next=front.next\n",
    "                front=front.next\n",
    "            else:\n",
    "                front=front.next\n",
    "                back=back.next\n",
    "        return zero.next"
   ]
  },
  {
   "cell_type": "markdown",
   "metadata": {},
   "source": [
    "## Lessons and Thoughts\n",
    "- The edge case is when we need to delete the head, but that is handled by creating a zero-th node."
   ]
  }
 ],
 "metadata": {
  "kernelspec": {
   "display_name": "Python 3",
   "language": "python",
   "name": "python3"
  },
  "language_info": {
   "codemirror_mode": {
    "name": "ipython",
    "version": 3
   },
   "file_extension": ".py",
   "mimetype": "text/x-python",
   "name": "python",
   "nbconvert_exporter": "python",
   "pygments_lexer": "ipython3",
   "version": "3.7.3"
  }
 },
 "nbformat": 4,
 "nbformat_minor": 2
}
