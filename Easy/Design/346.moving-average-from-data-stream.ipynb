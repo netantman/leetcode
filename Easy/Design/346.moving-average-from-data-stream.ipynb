{
 "cells": [
  {
   "cell_type": "markdown",
   "metadata": {},
   "source": [
    "## Attempt 1 - Accepted"
   ]
  },
  {
   "cell_type": "code",
   "execution_count": null,
   "metadata": {},
   "outputs": [],
   "source": [
    "class MovingAverage:\n",
    "\n",
    "    def __init__(self, size: int):\n",
    "        self.sum = 0\n",
    "        self.nums = []\n",
    "        self.size = size\n",
    "\n",
    "    def next(self, val: int) -> float:\n",
    "        if len(self.nums) < self.size:\n",
    "            self.sum += val\n",
    "            self.nums.append(val)\n",
    "            return self.sum / len(self.nums)\n",
    "        c = self.nums.pop(0)\n",
    "        self.sum -= c\n",
    "        self.sum += val\n",
    "        self.nums.append(val)\n",
    "        return self.sum / len(self.nums)\n",
    "        \n",
    "            \n",
    "\n",
    "\n",
    "# Your MovingAverage object will be instantiated and called as such:\n",
    "# obj = MovingAverage(size)\n",
    "# param_1 = obj.next(val)"
   ]
  },
  {
   "cell_type": "markdown",
   "metadata": {},
   "source": [
    "## Lessons and Thoughts\n",
    "- The edge case is when the numbers length is less than or bigger than `size`."
   ]
  }
 ],
 "metadata": {
  "kernelspec": {
   "display_name": "Python 3",
   "language": "python",
   "name": "python3"
  },
  "language_info": {
   "codemirror_mode": {
    "name": "ipython",
    "version": 3
   },
   "file_extension": ".py",
   "mimetype": "text/x-python",
   "name": "python",
   "nbconvert_exporter": "python",
   "pygments_lexer": "ipython3",
   "version": "3.7.3"
  }
 },
 "nbformat": 4,
 "nbformat_minor": 2
}
