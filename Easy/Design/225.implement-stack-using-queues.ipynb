{
 "cells": [
  {
   "cell_type": "markdown",
   "metadata": {},
   "source": [
    "## Attempt 1"
   ]
  },
  {
   "cell_type": "code",
   "execution_count": null,
   "metadata": {},
   "outputs": [],
   "source": [
    "class MyStack:\n",
    "\n",
    "    def __init__(self):\n",
    "        \"\"\"\n",
    "        Initialize your data structure here.\n",
    "        \"\"\"\n",
    "        self.q1=[]\n",
    "        self.q2=[]\n",
    "\n",
    "    def push(self, x: int) -> None:\n",
    "        \"\"\"\n",
    "        Push element x onto stack.\n",
    "        \"\"\"\n",
    "        self.q1.append(x)\n",
    "        \n",
    "\n",
    "    def pop(self) -> int:\n",
    "        \"\"\"\n",
    "        Removes the element on top of the stack and returns that element.\n",
    "        \"\"\"\n",
    "        while len(self.q1)>1:\n",
    "            head=self.q1[0]\n",
    "            self.q1=self.q1[1:]\n",
    "            self.q2.append(head)\n",
    "        res=self.q1[0]\n",
    "        self.q1=self.q2\n",
    "        self.q2=[]\n",
    "        return res\n",
    "\n",
    "    def top(self) -> int:\n",
    "        \"\"\"\n",
    "        Get the top element.\n",
    "        \"\"\"\n",
    "        while len(self.q1)>1:\n",
    "            head=self.q1[0]\n",
    "            self.q1=self.q1[1:]\n",
    "            self.q2.append(head)\n",
    "        res=self.q1[0]\n",
    "        self.q2.append(res)\n",
    "        self.q1=self.q2\n",
    "        self.q2=[]\n",
    "        return res\n",
    "\n",
    "    def empty(self) -> bool:\n",
    "        \"\"\"\n",
    "        Returns whether the stack is empty.\n",
    "        \"\"\"\n",
    "        return len(self.q1)==0\n",
    "        \n",
    "\n",
    "\n",
    "# Your MyStack object will be instantiated and called as such:\n",
    "# obj = MyStack()\n",
    "# obj.push(x)\n",
    "# param_2 = obj.pop()\n",
    "# param_3 = obj.top()\n",
    "# param_4 = obj.empty()"
   ]
  },
  {
   "cell_type": "markdown",
   "metadata": {},
   "source": [
    "## Lessons and Thoughts\n",
    "- Just that it is very expensive for pop and top."
   ]
  }
 ],
 "metadata": {
  "kernelspec": {
   "display_name": "Python 3",
   "language": "python",
   "name": "python3"
  },
  "language_info": {
   "codemirror_mode": {
    "name": "ipython",
    "version": 3
   },
   "file_extension": ".py",
   "mimetype": "text/x-python",
   "name": "python",
   "nbconvert_exporter": "python",
   "pygments_lexer": "ipython3",
   "version": "3.7.3"
  }
 },
 "nbformat": 4,
 "nbformat_minor": 2
}
