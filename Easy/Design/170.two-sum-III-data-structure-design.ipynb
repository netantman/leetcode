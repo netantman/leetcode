{
 "cells": [
  {
   "cell_type": "markdown",
   "metadata": {},
   "source": [
    "## Attempt 1 - Accepted"
   ]
  },
  {
   "cell_type": "code",
   "execution_count": null,
   "metadata": {},
   "outputs": [],
   "source": [
    "class TwoSum:\n",
    "\n",
    "    def __init__(self):\n",
    "        self.nums = set()\n",
    "        self.sums = set()\n",
    "\n",
    "    def add(self, number: int) -> None:\n",
    "        for n in self.nums:\n",
    "            self.sums.add(n + number)\n",
    "        \n",
    "        self.nums.add(number)\n",
    "        \n",
    "\n",
    "    def find(self, value: int) -> bool:\n",
    "        return value in self.sums\n",
    "\n",
    "\n",
    "# Your TwoSum object will be instantiated and called as such:\n",
    "# obj = TwoSum()\n",
    "# obj.add(number)\n",
    "# param_2 = obj.find(value)"
   ]
  },
  {
   "cell_type": "markdown",
   "metadata": {},
   "source": [
    "## Lessons and Thoughts\n",
    "- The edge case is when `number` is already in `self.nums`. Using two `set`s is more efficient, and make sure to tally `self.sums` before adding `number` to `self.nums`."
   ]
  }
 ],
 "metadata": {
  "kernelspec": {
   "display_name": "Python 3",
   "language": "python",
   "name": "python3"
  },
  "language_info": {
   "codemirror_mode": {
    "name": "ipython",
    "version": 3
   },
   "file_extension": ".py",
   "mimetype": "text/x-python",
   "name": "python",
   "nbconvert_exporter": "python",
   "pygments_lexer": "ipython3",
   "version": "3.7.3"
  }
 },
 "nbformat": 4,
 "nbformat_minor": 2
}
