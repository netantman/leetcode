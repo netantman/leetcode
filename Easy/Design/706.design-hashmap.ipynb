{
 "cells": [
  {
   "cell_type": "markdown",
   "metadata": {},
   "source": [
    "## Attempt 1 - Accepted"
   ]
  },
  {
   "cell_type": "code",
   "execution_count": null,
   "metadata": {},
   "outputs": [],
   "source": [
    "class MyHashMap:\n",
    "\n",
    "    def __init__(self):\n",
    "        \"\"\"\n",
    "        Initialize your data structure here.\n",
    "        \"\"\"\n",
    "        self.cache=[None for _ in range(1000001)]\n",
    "        \n",
    "\n",
    "    def put(self, key: int, value: int) -> None:\n",
    "        \"\"\"\n",
    "        value will always be non-negative.\n",
    "        \"\"\"\n",
    "        self.cache[key]=value\n",
    "        \n",
    "\n",
    "    def get(self, key: int) -> int:\n",
    "        \"\"\"\n",
    "        Returns the value to which the specified key is mapped, or -1 if this map contains no mapping for the key\n",
    "        \"\"\"\n",
    "        if self.cache[key] is None:\n",
    "            return -1\n",
    "        else:\n",
    "            return self.cache[key]\n",
    "        \n",
    "\n",
    "    def remove(self, key: int) -> None:\n",
    "        \"\"\"\n",
    "        Removes the mapping of the specified value key if this map contains a mapping for the key\n",
    "        \"\"\"\n",
    "        self.cache[key]=None\n",
    "        \n",
    "\n",
    "\n",
    "# Your MyHashMap object will be instantiated and called as such:\n",
    "# obj = MyHashMap()\n",
    "# obj.put(key,value)\n",
    "# param_2 = obj.get(key)\n",
    "# obj.remove(key)"
   ]
  },
  {
   "cell_type": "markdown",
   "metadata": {},
   "source": [
    "## Lessons and Thoughts\n",
    "- Just another application of using array to implement a cache."
   ]
  }
 ],
 "metadata": {
  "kernelspec": {
   "display_name": "Python 3",
   "language": "python",
   "name": "python3"
  },
  "language_info": {
   "codemirror_mode": {
    "name": "ipython",
    "version": 3
   },
   "file_extension": ".py",
   "mimetype": "text/x-python",
   "name": "python",
   "nbconvert_exporter": "python",
   "pygments_lexer": "ipython3",
   "version": "3.7.3"
  }
 },
 "nbformat": 4,
 "nbformat_minor": 2
}
