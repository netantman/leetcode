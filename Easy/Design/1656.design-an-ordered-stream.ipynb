{
 "cells": [
  {
   "cell_type": "markdown",
   "metadata": {},
   "source": [
    "## Attempt 1 - Accepted"
   ]
  },
  {
   "cell_type": "code",
   "execution_count": null,
   "metadata": {},
   "outputs": [],
   "source": [
    "class OrderedStream:\n",
    "\n",
    "    def __init__(self, n: int):\n",
    "        self.record = [None for _ in range(n + 2)]\n",
    "        self.idx = 1\n",
    "        self.n = n\n",
    "\n",
    "    def insert(self, idKey: int, value: str) -> List[str]:\n",
    "        self.record[idKey] = value\n",
    "        if idKey == self.idx:\n",
    "            nexxt = self.idx\n",
    "            while self.record[nexxt] and nexxt < self.n + 1:\n",
    "                nexxt += 1\n",
    "            res = self.record[self.idx: nexxt]\n",
    "            self.idx = nexxt\n",
    "            return res\n",
    "        return []\n",
    "                \n",
    "        \n",
    "\n",
    "\n",
    "# Your OrderedStream object will be instantiated and called as such:\n",
    "# obj = OrderedStream(n)\n",
    "# param_1 = obj.insert(idKey,value)"
   ]
  },
  {
   "cell_type": "markdown",
   "metadata": {},
   "source": [
    "## Lessons and Thoughts\n",
    "- Brute force"
   ]
  }
 ],
 "metadata": {
  "kernelspec": {
   "display_name": "Python 3",
   "language": "python",
   "name": "python3"
  },
  "language_info": {
   "codemirror_mode": {
    "name": "ipython",
    "version": 3
   },
   "file_extension": ".py",
   "mimetype": "text/x-python",
   "name": "python",
   "nbconvert_exporter": "python",
   "pygments_lexer": "ipython3",
   "version": "3.7.3"
  }
 },
 "nbformat": 4,
 "nbformat_minor": 2
}
