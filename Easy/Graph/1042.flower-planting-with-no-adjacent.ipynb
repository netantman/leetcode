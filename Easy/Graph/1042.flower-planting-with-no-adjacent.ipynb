{
 "cells": [
  {
   "cell_type": "markdown",
   "metadata": {},
   "source": [
    "## Attempt 1 - Accepted"
   ]
  },
  {
   "cell_type": "code",
   "execution_count": null,
   "metadata": {},
   "outputs": [],
   "source": [
    "class Solution:\n",
    "    def gardenNoAdj(self, N: int, paths: List[List[int]]) -> List[int]:\n",
    "        res=[idx%4+1 for idx in range(N+1)]\n",
    "        record=dict()\n",
    "        for p in paths:\n",
    "            record[p[0]]=record.get(p[0],[])+[p[1]]\n",
    "            record[p[1]]=record.get(p[1],[])+[p[0]]\n",
    "        for idx in range(1,N+1):\n",
    "            if idx not in record:\n",
    "                continue\n",
    "            else:\n",
    "                neighbors=record[idx]\n",
    "                flowers={res[n] for n in neighbors}\n",
    "                this=res[idx]\n",
    "                if this not in flowers:\n",
    "                    continue\n",
    "                else:\n",
    "                    for f in range(1,5):\n",
    "                        if f not in flowers:\n",
    "                            res[idx]=f\n",
    "        return res[1:]"
   ]
  },
  {
   "cell_type": "markdown",
   "metadata": {},
   "source": [
    "## Lessons and Thoughts\n",
    "- The idea is to adjust locally. The reason we can do that is because of the condition that there are no more than three neighbors for each node, so that the adjustment locally will not affect other nodes at all."
   ]
  }
 ],
 "metadata": {
  "kernelspec": {
   "display_name": "Python 3",
   "language": "python",
   "name": "python3"
  },
  "language_info": {
   "codemirror_mode": {
    "name": "ipython",
    "version": 3
   },
   "file_extension": ".py",
   "mimetype": "text/x-python",
   "name": "python",
   "nbconvert_exporter": "python",
   "pygments_lexer": "ipython3",
   "version": "3.7.3"
  }
 },
 "nbformat": 4,
 "nbformat_minor": 2
}
