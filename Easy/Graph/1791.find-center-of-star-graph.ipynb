{
 "cells": [
  {
   "cell_type": "markdown",
   "metadata": {},
   "source": [
    "## Attempt 1 - Accepted"
   ]
  },
  {
   "cell_type": "code",
   "execution_count": null,
   "metadata": {},
   "outputs": [],
   "source": [
    "class Solution:\n",
    "    def findCenter(self, edges: List[List[int]]) -> int:\n",
    "        degrees = dict()\n",
    "        for e in edges:\n",
    "            degrees[e[0]] = degrees.get(e[0], 0) + 1\n",
    "            degrees[e[1]] = degrees.get(e[1], 0) + 1\n",
    "        \n",
    "        for k in degrees.keys():\n",
    "            if degrees[k] == max(degrees.values()):\n",
    "                return k"
   ]
  },
  {
   "cell_type": "markdown",
   "metadata": {},
   "source": [
    "## Lessons and Thoughts\n",
    "- The idea is to recognize that the degrees of the center has to be the max among all nodes."
   ]
  }
 ],
 "metadata": {
  "kernelspec": {
   "display_name": "Python 3",
   "language": "python",
   "name": "python3"
  },
  "language_info": {
   "codemirror_mode": {
    "name": "ipython",
    "version": 3
   },
   "file_extension": ".py",
   "mimetype": "text/x-python",
   "name": "python",
   "nbconvert_exporter": "python",
   "pygments_lexer": "ipython3",
   "version": "3.7.3"
  }
 },
 "nbformat": 4,
 "nbformat_minor": 2
}
