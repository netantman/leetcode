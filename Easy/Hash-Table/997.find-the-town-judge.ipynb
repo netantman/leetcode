{
 "cells": [
  {
   "cell_type": "markdown",
   "metadata": {},
   "source": [
    "## Attempt 1 - Wrong Answer"
   ]
  },
  {
   "cell_type": "code",
   "execution_count": null,
   "metadata": {},
   "outputs": [],
   "source": [
    "class Solution:\n",
    "    def findJudge(self, N: int, trust: List[List[int]]) -> int:\n",
    "        record=[0 for _ in range(N+1)] ## --> forgot to deal with the edge case of N==1\n",
    "        non=set([tr[0] for tr in trust])\n",
    "        for tr in trust:\n",
    "            record[tr[1]]+=1\n",
    "        \n",
    "        res=[idx for idx, r in enumerate(record) if r==N-1 and idx not in non ]\n",
    "        if len(res)==1:\n",
    "            return res[0]\n",
    "        else:\n",
    "            return -1"
   ]
  },
  {
   "cell_type": "markdown",
   "metadata": {},
   "source": [
    "## Attempt 2 - Accepted"
   ]
  },
  {
   "cell_type": "code",
   "execution_count": null,
   "metadata": {},
   "outputs": [],
   "source": [
    "class Solution:\n",
    "    def findJudge(self, N: int, trust: List[List[int]]) -> int:\n",
    "        if N==1:\n",
    "            return 1\n",
    "        record=[0 for _ in range(N+1)]\n",
    "        non=set([tr[0] for tr in trust])\n",
    "        for tr in trust:\n",
    "            record[tr[1]]+=1\n",
    "        \n",
    "        res=[idx for idx, r in enumerate(record) if r==N-1 and idx not in non ]\n",
    "        if len(res)==1:\n",
    "            return res[0]\n",
    "        else:\n",
    "            return -1"
   ]
  },
  {
   "cell_type": "markdown",
   "metadata": {},
   "source": [
    "## Lessons and Thoughts\n",
    "- For array-like problems, always try to think of empty or single input!"
   ]
  }
 ],
 "metadata": {
  "kernelspec": {
   "display_name": "Python 3",
   "language": "python",
   "name": "python3"
  },
  "language_info": {
   "codemirror_mode": {
    "name": "ipython",
    "version": 3
   },
   "file_extension": ".py",
   "mimetype": "text/x-python",
   "name": "python",
   "nbconvert_exporter": "python",
   "pygments_lexer": "ipython3",
   "version": "3.7.3"
  }
 },
 "nbformat": 4,
 "nbformat_minor": 2
}
