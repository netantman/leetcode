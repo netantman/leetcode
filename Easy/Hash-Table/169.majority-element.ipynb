{
 "cells": [
  {
   "cell_type": "markdown",
   "metadata": {},
   "source": [
    "## Attempt 1 - Accepted"
   ]
  },
  {
   "cell_type": "code",
   "execution_count": null,
   "metadata": {},
   "outputs": [],
   "source": [
    "class Solution:\n",
    "    def majorityElement(self, nums: List[int]) -> int:\n",
    "        L=len(nums)\n",
    "        threshold=L//2\n",
    "        cache=dict()\n",
    "        for n in nums:\n",
    "            if n in cache:\n",
    "                cache[n]+=1\n",
    "                if cache[n]>threshold:\n",
    "                    return n\n",
    "            else:\n",
    "                cache[n]=1\n",
    "                if cache[n]>threshold:\n",
    "                    return n"
   ]
  },
  {
   "cell_type": "markdown",
   "metadata": {},
   "source": [
    "## Lessons and Thoughts\n",
    "- The labels on leetcode also include bit-manipulation and divide-and-conquer, which I do not understand why..."
   ]
  }
 ],
 "metadata": {
  "kernelspec": {
   "display_name": "Python 3",
   "language": "python",
   "name": "python3"
  },
  "language_info": {
   "codemirror_mode": {
    "name": "ipython",
    "version": 3
   },
   "file_extension": ".py",
   "mimetype": "text/x-python",
   "name": "python",
   "nbconvert_exporter": "python",
   "pygments_lexer": "ipython3",
   "version": "3.7.3"
  }
 },
 "nbformat": 4,
 "nbformat_minor": 2
}
