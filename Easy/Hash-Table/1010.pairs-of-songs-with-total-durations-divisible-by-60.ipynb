{
 "cells": [
  {
   "cell_type": "markdown",
   "metadata": {},
   "source": [
    "## Attempt 1 - Accepted"
   ]
  },
  {
   "cell_type": "code",
   "execution_count": null,
   "metadata": {},
   "outputs": [],
   "source": [
    "class Solution:\n",
    "    def numPairsDivisibleBy60(self, time: List[int]) -> int:\n",
    "        record=dict()\n",
    "        for t in time:\n",
    "            record[t%60]=record.get(t%60,0)+1\n",
    "        cnt=0\n",
    "        for idx in range(1,30):\n",
    "            if idx in record and 60-idx in record:\n",
    "                a,b=record[idx],record[60-idx]\n",
    "                cnt+=a*b\n",
    "        if 30 in record and record[30]>1:\n",
    "            cnt+=(record[30])*(record[30]-1)//2\n",
    "        if 0 in record and record[0]>1:\n",
    "            cnt+=(record[0])*(record[0]-1)//2\n",
    "        return cnt"
   ]
  },
  {
   "cell_type": "markdown",
   "metadata": {},
   "source": [
    "## Attempt 2 - Accepted"
   ]
  },
  {
   "cell_type": "code",
   "execution_count": null,
   "metadata": {},
   "outputs": [],
   "source": [
    "class Solution:\n",
    "    def numPairsDivisibleBy60(self, time: List[int]) -> int:\n",
    "        record = dict()\n",
    "        for t in time:\n",
    "            s = t % 60\n",
    "            record[s] = record.get(s, 0) + 1\n",
    "        \n",
    "        res1, res2 = 0, 0\n",
    "        for k in record:\n",
    "            if k in {0, 30}:\n",
    "                if record[k] >= 2:\n",
    "                    res1 += (record[k] * (record[k] - 1) // 2)\n",
    "            else:\n",
    "                \n",
    "                res2 += record[k] * record.get(60 - k, 0)\n",
    "        \n",
    "        return res1 + res2 // 2"
   ]
  },
  {
   "cell_type": "markdown",
   "metadata": {},
   "source": [
    "## Lessons and Thoughts\n",
    "- Edge cases are 0 and 30.\n",
    "- Attempt 2 is kind of twisted..."
   ]
  }
 ],
 "metadata": {
  "kernelspec": {
   "display_name": "Python 3 (ipykernel)",
   "language": "python",
   "name": "python3"
  },
  "language_info": {
   "codemirror_mode": {
    "name": "ipython",
    "version": 3
   },
   "file_extension": ".py",
   "mimetype": "text/x-python",
   "name": "python",
   "nbconvert_exporter": "python",
   "pygments_lexer": "ipython3",
   "version": "3.9.7"
  }
 },
 "nbformat": 4,
 "nbformat_minor": 2
}
