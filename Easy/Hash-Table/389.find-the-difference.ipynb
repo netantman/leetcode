{
 "cells": [
  {
   "cell_type": "markdown",
   "metadata": {},
   "source": [
    "## Attempt 1 - Accepted"
   ]
  },
  {
   "cell_type": "code",
   "execution_count": null,
   "metadata": {},
   "outputs": [],
   "source": [
    "class Solution:\n",
    "    def findTheDifference(self, s: str, t: str) -> str:\n",
    "        cache_s, cache_t=dict(), dict()\n",
    "        for c in s:\n",
    "            if c in cache_s:\n",
    "                cache_s[c]+=1\n",
    "            else:\n",
    "                cache_s[c]=1\n",
    "        for c in t:\n",
    "            if c in cache_t:\n",
    "                cache_t[c]+=1\n",
    "            else:\n",
    "                cache_t[c]=1\n",
    "        \n",
    "        for c, cnt in cache_t.items():\n",
    "            if c not in cache_s or cnt==cache_s[c]+1:\n",
    "                return c"
   ]
  },
  {
   "cell_type": "markdown",
   "metadata": {},
   "source": [
    "## Lessons and Thoughts\n",
    "- Straightforward application of `dict`."
   ]
  }
 ],
 "metadata": {
  "kernelspec": {
   "display_name": "Python 3",
   "language": "python",
   "name": "python3"
  },
  "language_info": {
   "codemirror_mode": {
    "name": "ipython",
    "version": 3
   },
   "file_extension": ".py",
   "mimetype": "text/x-python",
   "name": "python",
   "nbconvert_exporter": "python",
   "pygments_lexer": "ipython3",
   "version": "3.7.3"
  }
 },
 "nbformat": 4,
 "nbformat_minor": 2
}
