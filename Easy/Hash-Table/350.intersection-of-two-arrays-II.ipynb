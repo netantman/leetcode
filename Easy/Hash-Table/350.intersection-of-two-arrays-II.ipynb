{
 "cells": [
  {
   "cell_type": "markdown",
   "metadata": {},
   "source": [
    "## Attempt 1 - Accepted"
   ]
  },
  {
   "cell_type": "code",
   "execution_count": null,
   "metadata": {},
   "outputs": [],
   "source": [
    "class Solution:\n",
    "    def intersect(self, nums1: List[int], nums2: List[int]) -> List[int]:\n",
    "        if len(nums1)<1 or len(nums2)<1:\n",
    "            return []\n",
    "        \n",
    "        d1, d2=dict(), dict()\n",
    "        for n in nums1:\n",
    "            if n in d1:\n",
    "                d1[n]+=1\n",
    "            else:\n",
    "                d1[n]=1\n",
    "        for n in nums2:\n",
    "            if n in d2:\n",
    "                d2[n]+=1\n",
    "            else:\n",
    "                d2[n]=1\n",
    "        res=[]\n",
    "        for n, cnt in d1.items():\n",
    "            if n in d2:\n",
    "                for _ in range(min(cnt, d2[n])):\n",
    "                    res.append(n)\n",
    "        \n",
    "        return res"
   ]
  },
  {
   "cell_type": "markdown",
   "metadata": {},
   "source": [
    "## Lessons and Thoughts\n",
    "- Very straightforward using `dict`. But this problem is also labeled Two-Pointers, Sort, and Binary Search on leetcode."
   ]
  }
 ],
 "metadata": {
  "kernelspec": {
   "display_name": "Python 3",
   "language": "python",
   "name": "python3"
  },
  "language_info": {
   "codemirror_mode": {
    "name": "ipython",
    "version": 3
   },
   "file_extension": ".py",
   "mimetype": "text/x-python",
   "name": "python",
   "nbconvert_exporter": "python",
   "pygments_lexer": "ipython3",
   "version": "3.7.3"
  }
 },
 "nbformat": 4,
 "nbformat_minor": 2
}
