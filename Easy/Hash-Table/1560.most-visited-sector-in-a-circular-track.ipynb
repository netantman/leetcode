{
 "cells": [
  {
   "cell_type": "markdown",
   "metadata": {},
   "source": [
    "## Attempt 1 - Accepted"
   ]
  },
  {
   "cell_type": "code",
   "execution_count": null,
   "metadata": {},
   "outputs": [],
   "source": [
    "class Solution:\n",
    "    def mostVisited(self, n: int, rounds: List[int]) -> List[int]:\n",
    "        def increment_pointer(n, pointer):\n",
    "            if pointer < n:\n",
    "                return pointer + 1\n",
    "            else:\n",
    "                return 1    \n",
    "        \n",
    "        res = {idx: 0 for idx in range(1, n + 1)}\n",
    "        pointer = rounds[0]\n",
    "        res[pointer] += 1\n",
    "        pointer = increment_pointer(n, pointer)\n",
    "        for r in rounds[1:]:\n",
    "            while pointer != r:\n",
    "                res[pointer] += 1\n",
    "                pointer = increment_pointer(n, pointer)\n",
    "            res[r] += 1\n",
    "            pointer = increment_pointer(n, pointer)\n",
    "        maxx = max(res.values())\n",
    "        res = sorted([k for k in res.keys() if res[k] == maxx])\n",
    "        return res"
   ]
  },
  {
   "cell_type": "markdown",
   "metadata": {},
   "source": [
    "## Lessons and Thoughts\n",
    "- The part that can easily trick you is to increment `pointer` - better it is set as a function."
   ]
  }
 ],
 "metadata": {
  "kernelspec": {
   "display_name": "Python 3",
   "language": "python",
   "name": "python3"
  },
  "language_info": {
   "codemirror_mode": {
    "name": "ipython",
    "version": 3
   },
   "file_extension": ".py",
   "mimetype": "text/x-python",
   "name": "python",
   "nbconvert_exporter": "python",
   "pygments_lexer": "ipython3",
   "version": "3.7.3"
  }
 },
 "nbformat": 4,
 "nbformat_minor": 2
}
