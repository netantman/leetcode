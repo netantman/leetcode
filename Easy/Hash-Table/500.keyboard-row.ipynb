{
 "cells": [
  {
   "cell_type": "markdown",
   "metadata": {},
   "source": [
    "## Attempt 1 - Accepted"
   ]
  },
  {
   "cell_type": "code",
   "execution_count": null,
   "metadata": {},
   "outputs": [],
   "source": [
    "class Solution:\n",
    "    def findWords(self, words: List[str]) -> List[str]:\n",
    "        top={\"Q\", \"W\", \"E\", \"R\", \"T\", \"Y\", \"U\", \"I\", \"O\", \"P\", \"q\", \"w\", \"e\", \"r\", \"t\", \"y\", \"u\", \"i\", \"o\", \"p\"}\n",
    "        mid={\"A\", \"S\", \"D\", \"F\", \"G\", \"H\", \"J\", \"K\", \"L\", \"a\", \"s\", \"d\", \"f\", \"g\", \"h\", \"j\", \"k\", \"l\"}\n",
    "        bottom={\"Z\", \"X\", \"C\", \"V\", \"B\", \"N\", \"M\", \"z\", \"x\", \"c\", \"v\", \"b\", \"n\", \"m\"}\n",
    "        \n",
    "        res=[]\n",
    "        for w in words:\n",
    "            if len(w)<1:\n",
    "                res.append(w)\n",
    "                continue\n",
    "            c=w[0]\n",
    "            if c in top:\n",
    "                curr=top\n",
    "            elif c in mid:\n",
    "                curr=mid\n",
    "            else:\n",
    "                curr=bottom\n",
    "            flag=True\n",
    "            for c in w:\n",
    "                if c not in curr:\n",
    "                    flag=False\n",
    "                    break\n",
    "            if flag:\n",
    "                res.append(w)\n",
    "        return res   "
   ]
  },
  {
   "cell_type": "markdown",
   "metadata": {},
   "source": [
    "## Lessons and Thoughts\n",
    "- Be careful about upper and lower case, as usual for strings."
   ]
  }
 ],
 "metadata": {
  "kernelspec": {
   "display_name": "Python 3",
   "language": "python",
   "name": "python3"
  },
  "language_info": {
   "codemirror_mode": {
    "name": "ipython",
    "version": 3
   },
   "file_extension": ".py",
   "mimetype": "text/x-python",
   "name": "python",
   "nbconvert_exporter": "python",
   "pygments_lexer": "ipython3",
   "version": "3.7.3"
  }
 },
 "nbformat": 4,
 "nbformat_minor": 2
}
