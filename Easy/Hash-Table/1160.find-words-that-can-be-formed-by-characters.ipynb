{
 "cells": [
  {
   "cell_type": "markdown",
   "metadata": {},
   "source": [
    "## Attempt 1 - Accepted"
   ]
  },
  {
   "cell_type": "code",
   "execution_count": null,
   "metadata": {},
   "outputs": [],
   "source": [
    "class Solution:\n",
    "    def countCharacters(self, words: List[str], chars: str) -> int:\n",
    "        benchmark=[0 for _ in range(26)]\n",
    "        for c in chars:\n",
    "            benchmark[ord(c)-ord(\"a\")]+=1\n",
    "        \n",
    "        res=0\n",
    "        for w in words:\n",
    "            this=[0 for _ in range(26)]\n",
    "            for c in w:\n",
    "                this[ord(c)-ord(\"a\")]+=1\n",
    "            for idx in range(26):\n",
    "                if this[idx]>benchmark[idx]:\n",
    "                    break\n",
    "            else:\n",
    "                res+=len(w)\n",
    "        return res"
   ]
  },
  {
   "cell_type": "markdown",
   "metadata": {},
   "source": [
    "## Lessons and Thoughts\n",
    "- Typical check if words can be formed using a dictionary of characters."
   ]
  }
 ],
 "metadata": {
  "kernelspec": {
   "display_name": "Python 3",
   "language": "python",
   "name": "python3"
  },
  "language_info": {
   "codemirror_mode": {
    "name": "ipython",
    "version": 3
   },
   "file_extension": ".py",
   "mimetype": "text/x-python",
   "name": "python",
   "nbconvert_exporter": "python",
   "pygments_lexer": "ipython3",
   "version": "3.7.3"
  }
 },
 "nbformat": 4,
 "nbformat_minor": 2
}
