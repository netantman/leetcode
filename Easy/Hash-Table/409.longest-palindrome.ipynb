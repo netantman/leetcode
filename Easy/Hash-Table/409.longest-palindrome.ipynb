{
 "cells": [
  {
   "cell_type": "markdown",
   "metadata": {},
   "source": [
    "## Attempt 1 - Accepted"
   ]
  },
  {
   "cell_type": "code",
   "execution_count": null,
   "metadata": {},
   "outputs": [],
   "source": [
    "class Solution:\n",
    "    def longestPalindrome(self, s: str) -> int:\n",
    "        cache=dict()\n",
    "        for c in s:\n",
    "            if c in cache:\n",
    "                cache[c]+=1\n",
    "            else:\n",
    "                cache[c]=1\n",
    "        res=0\n",
    "        flag=False\n",
    "        for cnt in cache.values():\n",
    "            flag|=(cnt%2==1)\n",
    "            res+=cnt//2\n",
    "        if flag:\n",
    "            return res*2+1\n",
    "        else:\n",
    "            return res*2"
   ]
  },
  {
   "cell_type": "markdown",
   "metadata": {},
   "source": [
    "## Lessons and Thoughts\n",
    "- Be mindful of the potential center character."
   ]
  }
 ],
 "metadata": {
  "kernelspec": {
   "display_name": "Python 3",
   "language": "python",
   "name": "python3"
  },
  "language_info": {
   "codemirror_mode": {
    "name": "ipython",
    "version": 3
   },
   "file_extension": ".py",
   "mimetype": "text/x-python",
   "name": "python",
   "nbconvert_exporter": "python",
   "pygments_lexer": "ipython3",
   "version": "3.7.3"
  }
 },
 "nbformat": 4,
 "nbformat_minor": 2
}
