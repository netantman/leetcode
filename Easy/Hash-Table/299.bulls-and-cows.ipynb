{
 "cells": [
  {
   "cell_type": "markdown",
   "metadata": {},
   "source": [
    "## Attempt 1 - Wrong Answer"
   ]
  },
  {
   "cell_type": "code",
   "execution_count": null,
   "metadata": {},
   "outputs": [],
   "source": [
    "class Solution:\n",
    "    def getHint(self, secret: str, guess: str) -> str:\n",
    "        cntA=0\n",
    "        secret=[c for c in secret]\n",
    "        guess=[c for c in guess]\n",
    "        for idx in range(len(secret)):\n",
    "            if secret[idx]==guess[idx]:\n",
    "                secret[idx], guess[idx]=\"X\", \"X\"\n",
    "                cntA+=1\n",
    "        s1, s2=set(secret), set(guess)\n",
    "        intersect=s1.intersection(s2)\n",
    "        cntB=len(intersect)-1  ## --> did not handle the case where cntA is 0\n",
    "        return \"{}A{}B\".format(cntA, cntB)"
   ]
  },
  {
   "cell_type": "markdown",
   "metadata": {},
   "source": [
    "## Attempt 2 - Accepted"
   ]
  },
  {
   "cell_type": "code",
   "execution_count": null,
   "metadata": {},
   "outputs": [],
   "source": [
    "class Solution:\n",
    "    def getHint(self, secret: str, guess: str) -> str:\n",
    "        cntA=0\n",
    "        cntB=0\n",
    "        secret=[c for c in secret]\n",
    "        guess=[c for c in guess]\n",
    "        digits=[0, 1, 2, 3, 4, 5, 6, 7, 8, 9]\n",
    "        c1={d:0 for d in digits}\n",
    "        c2={d:0 for d in digits}\n",
    "        for idx in range(len(secret)):\n",
    "            if secret[idx]==guess[idx]:\n",
    "                cntA+=1\n",
    "            else:\n",
    "                c1[int(secret[idx])]+=1\n",
    "                c2[int(guess[idx])]+=1\n",
    "        for d in digits:\n",
    "            cntB+=min(c1[d], c2[d])\n",
    "        return \"{}A{}B\".format(cntA, cntB)"
   ]
  },
  {
   "cell_type": "markdown",
   "metadata": {},
   "source": [
    "## Lessons and Thoughts\n",
    "- `string`s do not support by index assign value\n",
    "- `intersection` function for `set`.\n",
    "- Duplicated numbers counts as multiple, hence the need to create a `dict`."
   ]
  }
 ],
 "metadata": {
  "kernelspec": {
   "display_name": "Python 3",
   "language": "python",
   "name": "python3"
  },
  "language_info": {
   "codemirror_mode": {
    "name": "ipython",
    "version": 3
   },
   "file_extension": ".py",
   "mimetype": "text/x-python",
   "name": "python",
   "nbconvert_exporter": "python",
   "pygments_lexer": "ipython3",
   "version": "3.7.3"
  }
 },
 "nbformat": 4,
 "nbformat_minor": 2
}
