{
 "cells": [
  {
   "cell_type": "markdown",
   "metadata": {},
   "source": [
    "## Attempt 1 - Accepted"
   ]
  },
  {
   "cell_type": "code",
   "execution_count": null,
   "metadata": {},
   "outputs": [],
   "source": [
    "class Solution:\n",
    "    def canConstruct(self, ransomNote: str, magazine: str) -> bool:\n",
    "        if len(ransomNote)>len(magazine):\n",
    "            return False\n",
    "        \n",
    "        cache1, cache2=dict(), dict()\n",
    "        for c in ransomNote:\n",
    "            if c in cache1:\n",
    "                cache1[c]+=1\n",
    "            else:\n",
    "                cache1[c]=1\n",
    "        for c in magazine:\n",
    "            if c in cache2:\n",
    "                cache2[c]+=1\n",
    "            else:\n",
    "                cache2[c]=1\n",
    "        for c, cnt in cache1.items():\n",
    "            if (c not in cache2) or (cache2[c]<cnt):\n",
    "                return False\n",
    "        return True"
   ]
  },
  {
   "cell_type": "markdown",
   "metadata": {},
   "source": [
    "## Lessons and Thoughts\n",
    "- Straightforward application of `dict`."
   ]
  }
 ],
 "metadata": {
  "kernelspec": {
   "display_name": "Python 3",
   "language": "python",
   "name": "python3"
  },
  "language_info": {
   "codemirror_mode": {
    "name": "ipython",
    "version": 3
   },
   "file_extension": ".py",
   "mimetype": "text/x-python",
   "name": "python",
   "nbconvert_exporter": "python",
   "pygments_lexer": "ipython3",
   "version": "3.7.3"
  }
 },
 "nbformat": 4,
 "nbformat_minor": 2
}
