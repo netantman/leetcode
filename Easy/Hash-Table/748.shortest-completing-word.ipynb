{
 "cells": [
  {
   "cell_type": "markdown",
   "metadata": {},
   "source": [
    "## Attempt 1 - Accepted"
   ]
  },
  {
   "cell_type": "code",
   "execution_count": null,
   "metadata": {},
   "outputs": [],
   "source": [
    "class Solution:\n",
    "    def shortestCompletingWord(self, licensePlate: str, words: List[str]) -> str:\n",
    "        licensePlate=[c.lower() for c in licensePlate if c.isalpha()]\n",
    "        record=[0 for _ in range(26)]\n",
    "        for c in licensePlate:\n",
    "            record[ord(c)-ord(\"a\")]+=1\n",
    "        \n",
    "        cache=dict()\n",
    "        for w in words:\n",
    "            w_record=[0 for _ in range(26)]\n",
    "            for c in w:\n",
    "                w_record[ord(c)-ord(\"a\")]+=1\n",
    "            for idx in range(26):\n",
    "                if record[idx]>w_record[idx]:\n",
    "                    break\n",
    "            else:\n",
    "                cache[len(w)]=cache.get(len(w),[])+[w]\n",
    "\n",
    "        shortest=[k for k in cache.keys() if k<=min(cache.keys())][0]\n",
    "        return cache[shortest][0]\n",
    "        "
   ]
  },
  {
   "cell_type": "markdown",
   "metadata": {},
   "source": [
    "## Lessons and Thoughts\n",
    "- `else` at the end of `for` loop"
   ]
  }
 ],
 "metadata": {
  "kernelspec": {
   "display_name": "Python 3",
   "language": "python",
   "name": "python3"
  },
  "language_info": {
   "codemirror_mode": {
    "name": "ipython",
    "version": 3
   },
   "file_extension": ".py",
   "mimetype": "text/x-python",
   "name": "python",
   "nbconvert_exporter": "python",
   "pygments_lexer": "ipython3",
   "version": "3.7.3"
  }
 },
 "nbformat": 4,
 "nbformat_minor": 2
}
