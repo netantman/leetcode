{
 "cells": [
  {
   "cell_type": "markdown",
   "metadata": {},
   "source": [
    "## Attempt 1 - Runtime Error"
   ]
  },
  {
   "cell_type": "code",
   "execution_count": null,
   "metadata": {},
   "outputs": [],
   "source": [
    "class Solution:\n",
    "    def countGoodSubstrings(self, s: str) -> int:\n",
    "        L = len(s)\n",
    "        l, r = 0, 3 ## --> did not handle the edge case where L is less than 3\n",
    "        rec = dict()\n",
    "        for idx in range(3):\n",
    "            rec[s[idx]] = rec.get(s[idx], 0) + 1\n",
    "        cnt = 1 if max(rec.values()) <= 1 else 0\n",
    "        while r < L:\n",
    "            rec[s[l]] -= 1\n",
    "            rec[s[r]] = rec.get(s[r], 0) + 1\n",
    "            cnt += 1 if max(rec.values()) <= 1 else 0\n",
    "            l += 1\n",
    "            r += 1\n",
    "        return cnt"
   ]
  },
  {
   "cell_type": "markdown",
   "metadata": {},
   "source": [
    "## Attempt 2 - Accepted"
   ]
  },
  {
   "cell_type": "code",
   "execution_count": null,
   "metadata": {},
   "outputs": [],
   "source": [
    "class Solution:\n",
    "    def countGoodSubstrings(self, s: str) -> int:\n",
    "        L = len(s)\n",
    "        if L < 3:\n",
    "            return 0\n",
    "        l, r = 0, 3\n",
    "        rec = dict()\n",
    "        for idx in range(3):\n",
    "            rec[s[idx]] = rec.get(s[idx], 0) + 1\n",
    "        cnt = 1 if max(rec.values()) <= 1 else 0\n",
    "        while r < L:\n",
    "            rec[s[l]] -= 1\n",
    "            rec[s[r]] = rec.get(s[r], 0) + 1\n",
    "            cnt += 1 if max(rec.values()) <= 1 else 0\n",
    "            l += 1\n",
    "            r += 1\n",
    "        return cnt"
   ]
  },
  {
   "cell_type": "markdown",
   "metadata": {},
   "source": [
    "## Lessons and Thoughts\n",
    "- Straightforward except for the edge case above"
   ]
  }
 ],
 "metadata": {
  "kernelspec": {
   "display_name": "Python 3",
   "language": "python",
   "name": "python3"
  },
  "language_info": {
   "codemirror_mode": {
    "name": "ipython",
    "version": 3
   },
   "file_extension": ".py",
   "mimetype": "text/x-python",
   "name": "python",
   "nbconvert_exporter": "python",
   "pygments_lexer": "ipython3",
   "version": "3.7.3"
  }
 },
 "nbformat": 4,
 "nbformat_minor": 2
}
