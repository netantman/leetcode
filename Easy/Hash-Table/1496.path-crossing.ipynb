{
 "cells": [
  {
   "cell_type": "markdown",
   "metadata": {},
   "source": [
    "## Attempt 1 - Accepted"
   ]
  },
  {
   "cell_type": "code",
   "execution_count": null,
   "metadata": {},
   "outputs": [],
   "source": [
    "class Solution:\n",
    "    def isPathCrossing(self, path: str) -> bool:\n",
    "        curr = (0, 0)\n",
    "        visited = set([curr])\n",
    "        increments = {'N': (0, 1), 'S': (0, -1), 'W': (-1, 0), 'E': (1, 0)}\n",
    "        \n",
    "        for p in path:\n",
    "            x, y = increments[p]\n",
    "            curr = curr[0] + x, curr[1] + y\n",
    "            if curr in visited:\n",
    "                return True\n",
    "            visited.add(curr)\n",
    "        return False"
   ]
  },
  {
   "cell_type": "markdown",
   "metadata": {},
   "source": [
    "## Lessons and Thoughts\n",
    "- Brute force"
   ]
  }
 ],
 "metadata": {
  "kernelspec": {
   "display_name": "Python 3",
   "language": "python",
   "name": "python3"
  },
  "language_info": {
   "codemirror_mode": {
    "name": "ipython",
    "version": 3
   },
   "file_extension": ".py",
   "mimetype": "text/x-python",
   "name": "python",
   "nbconvert_exporter": "python",
   "pygments_lexer": "ipython3",
   "version": "3.7.3"
  }
 },
 "nbformat": 4,
 "nbformat_minor": 2
}
