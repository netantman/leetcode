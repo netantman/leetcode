{
 "cells": [
  {
   "cell_type": "markdown",
   "metadata": {},
   "source": [
    "## Attempt 1 - Accepted"
   ]
  },
  {
   "cell_type": "code",
   "execution_count": null,
   "metadata": {},
   "outputs": [],
   "source": [
    "class Solution:\n",
    "    def findRestaurant(self, list1: List[str], list2: List[str]) -> List[str]:\n",
    "        cache=dict()\n",
    "        for idx, elem in enumerate(list1):\n",
    "            if elem not in cache:\n",
    "                cache[elem]=[idx]\n",
    "        \n",
    "        minn=len(list1)+len(list2)\n",
    "        for idx, elem in enumerate(list2):\n",
    "            if elem in cache:\n",
    "                cache[elem].append(idx)\n",
    "                minn=min(minn, sum(cache[elem]))\n",
    "        \n",
    "        res=[elem for elem in cache.keys() if sum(cache[elem])==minn and len(cache[elem])==2]\n",
    "        return res"
   ]
  },
  {
   "cell_type": "markdown",
   "metadata": {},
   "source": [
    "## Lessons and Thoughts\n",
    "- Straightforward using python."
   ]
  }
 ],
 "metadata": {
  "kernelspec": {
   "display_name": "Python 3",
   "language": "python",
   "name": "python3"
  },
  "language_info": {
   "codemirror_mode": {
    "name": "ipython",
    "version": 3
   },
   "file_extension": ".py",
   "mimetype": "text/x-python",
   "name": "python",
   "nbconvert_exporter": "python",
   "pygments_lexer": "ipython3",
   "version": "3.7.3"
  }
 },
 "nbformat": 4,
 "nbformat_minor": 2
}
