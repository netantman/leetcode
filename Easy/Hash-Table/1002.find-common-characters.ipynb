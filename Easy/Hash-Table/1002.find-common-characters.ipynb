{
 "cells": [
  {
   "cell_type": "markdown",
   "metadata": {},
   "source": [
    "## Attempt 1 - Accepted"
   ]
  },
  {
   "cell_type": "code",
   "execution_count": null,
   "metadata": {},
   "outputs": [],
   "source": [
    "class Solution:\n",
    "    def commonChars(self, A: List[str]) -> List[str]:\n",
    "        def record(word):\n",
    "            res=[0 for _ in range(26)]\n",
    "            for c in word:\n",
    "                res[ord(c)-ord(\"a\")]+=1\n",
    "            return res\n",
    "        \n",
    "        records=map(record, A)\n",
    "        res=[]\n",
    "        for idx, r in enumerate(zip(*records)):\n",
    "            m=min(r)\n",
    "            if m>0:\n",
    "                res=res+[chr(ord(\"a\")+idx)]*m\n",
    "        return res"
   ]
  },
  {
   "cell_type": "markdown",
   "metadata": {},
   "source": [
    "## Lessons and Thoughts\n",
    "- Straightforward"
   ]
  }
 ],
 "metadata": {
  "kernelspec": {
   "display_name": "Python 3",
   "language": "python",
   "name": "python3"
  },
  "language_info": {
   "codemirror_mode": {
    "name": "ipython",
    "version": 3
   },
   "file_extension": ".py",
   "mimetype": "text/x-python",
   "name": "python",
   "nbconvert_exporter": "python",
   "pygments_lexer": "ipython3",
   "version": "3.7.3"
  }
 },
 "nbformat": 4,
 "nbformat_minor": 2
}
