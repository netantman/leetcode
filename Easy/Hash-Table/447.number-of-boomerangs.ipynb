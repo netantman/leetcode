{
 "cells": [
  {
   "cell_type": "markdown",
   "metadata": {},
   "source": [
    "## Attempt 1 - Time Limit Exceeded"
   ]
  },
  {
   "cell_type": "code",
   "execution_count": null,
   "metadata": {},
   "outputs": [],
   "source": [
    "class Solution:\n",
    "    def numberOfBoomerangs(self, points: List[List[int]]) -> int:\n",
    "        if len(points)<1:\n",
    "            return 0\n",
    "        \n",
    "        def sqre_distance(i,j):\n",
    "            return (i[0]-j[0])**2+(i[1]-j[1])**2\n",
    "        \n",
    "        cache=dict()\n",
    "        N=len(points)\n",
    "        for i in range(N):\n",
    "            for j in range(i+1,N):\n",
    "                cache[(i,j)]=sqre_distance(points[i], points[j])\n",
    "                cache[(j,i)]=cache[(i,j)]\n",
    "        \n",
    "        res=0\n",
    "        for i in range(N):\n",
    "            for j in range(N):\n",
    "                for k in range(N):\n",
    "                    if j==k or j==i or k==i:\n",
    "                        continue\n",
    "                    if cache[(i,j)]==cache[(i,k)]:\n",
    "                        res+=1\n",
    "        return res"
   ]
  },
  {
   "cell_type": "markdown",
   "metadata": {},
   "source": [
    "## Attempt 2 - Accepted"
   ]
  },
  {
   "cell_type": "code",
   "execution_count": null,
   "metadata": {},
   "outputs": [],
   "source": [
    "class Solution:\n",
    "    def numberOfBoomerangs(self, points: List[List[int]]) -> int:\n",
    "        if len(points)<1:\n",
    "            return 0\n",
    "        \n",
    "        def sqre_distance(i,j):\n",
    "            return (i[0]-j[0])**2+(i[1]-j[1])**2\n",
    "        \n",
    "        N=len(points)\n",
    "        cache={idx:dict() for idx in range(N)}\n",
    "        for i in range(N):\n",
    "            for j in range(i+1,N):\n",
    "                s_dist=sqre_distance(points[i], points[j])\n",
    "                if s_dist in cache[i]:\n",
    "                    cache[i][s_dist]+=1\n",
    "                else:\n",
    "                    cache[i][s_dist]=1\n",
    "                if s_dist in cache[j]:\n",
    "                    cache[j][s_dist]+=1\n",
    "                else:\n",
    "                    cache[j][s_dist]=1\n",
    "        \n",
    "        res=0\n",
    "        for i in range(N):\n",
    "            for dist, cnt in cache[i].items():\n",
    "                res+=cnt*(cnt-1)\n",
    "        return res"
   ]
  },
  {
   "cell_type": "markdown",
   "metadata": {},
   "source": [
    "## Lessons and Thoughts\n",
    "- It is indeed caching by distance - you felt uncomfortable due to floating as key."
   ]
  }
 ],
 "metadata": {
  "kernelspec": {
   "display_name": "Python 3",
   "language": "python",
   "name": "python3"
  },
  "language_info": {
   "codemirror_mode": {
    "name": "ipython",
    "version": 3
   },
   "file_extension": ".py",
   "mimetype": "text/x-python",
   "name": "python",
   "nbconvert_exporter": "python",
   "pygments_lexer": "ipython3",
   "version": "3.7.3"
  }
 },
 "nbformat": 4,
 "nbformat_minor": 2
}
