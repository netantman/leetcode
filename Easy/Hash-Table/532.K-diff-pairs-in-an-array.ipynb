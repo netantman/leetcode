{
 "cells": [
  {
   "cell_type": "markdown",
   "metadata": {},
   "source": [
    "## Attempt 1 - Wrong Answer"
   ]
  },
  {
   "cell_type": "code",
   "execution_count": null,
   "metadata": {},
   "outputs": [],
   "source": [
    "class Solution:\n",
    "    def findPairs(self, nums: List[int], k: int) -> int:\n",
    "        res=0  ## --> absolute difference cannot be negative, but input k can be!\n",
    "        if k>0: \n",
    "            cache=set()\n",
    "            for n in nums:\n",
    "                if n in cache:\n",
    "                    continue\n",
    "                else:\n",
    "                    cache.add(n)\n",
    "                if n-k in cache:\n",
    "                    res+=1\n",
    "                if n+k in cache:\n",
    "                    res+=1\n",
    "            return res\n",
    "        else:\n",
    "            cache=dict()\n",
    "            for n in nums:\n",
    "                if n in cache:\n",
    "                    cache[n]+=1\n",
    "                else:\n",
    "                    cache[n]=1\n",
    "            res=len([k for k in cache.keys() if cache[k]>=2])\n",
    "            return res\n"
   ]
  },
  {
   "cell_type": "markdown",
   "metadata": {},
   "source": [
    "## Attempt 2 - Accepted"
   ]
  },
  {
   "cell_type": "code",
   "execution_count": null,
   "metadata": {},
   "outputs": [],
   "source": [
    "class Solution:\n",
    "    def findPairs(self, nums: List[int], k: int) -> int:\n",
    "        res=0\n",
    "        if k<0:\n",
    "            return 0\n",
    "        if k>0:\n",
    "            cache=set()\n",
    "            for n in nums:\n",
    "                if n in cache:\n",
    "                    continue\n",
    "                else:\n",
    "                    cache.add(n)\n",
    "                if n-k in cache:\n",
    "                    res+=1\n",
    "                if n+k in cache:\n",
    "                    res+=1\n",
    "            return res\n",
    "        else:\n",
    "            cache=dict()\n",
    "            for n in nums:\n",
    "                if n in cache:\n",
    "                    cache[n]+=1\n",
    "                else:\n",
    "                    cache[n]=1\n",
    "            res=len([k for k in cache.keys() if cache[k]>=2])\n",
    "            return res"
   ]
  },
  {
   "cell_type": "markdown",
   "metadata": {},
   "source": [
    "## Lessons and Thoughts\n",
    "- `K=0` is an edge case you missed\n",
    "- It is also labeled two-pointers on leetcode - I wonder why."
   ]
  }
 ],
 "metadata": {
  "kernelspec": {
   "display_name": "Python 3",
   "language": "python",
   "name": "python3"
  },
  "language_info": {
   "codemirror_mode": {
    "name": "ipython",
    "version": 3
   },
   "file_extension": ".py",
   "mimetype": "text/x-python",
   "name": "python",
   "nbconvert_exporter": "python",
   "pygments_lexer": "ipython3",
   "version": "3.7.3"
  }
 },
 "nbformat": 4,
 "nbformat_minor": 2
}
