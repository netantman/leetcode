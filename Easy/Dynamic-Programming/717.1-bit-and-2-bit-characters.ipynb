{
 "cells": [
  {
   "cell_type": "markdown",
   "metadata": {},
   "source": [
    "## Attempt 1 - Wrong Answer"
   ]
  },
  {
   "cell_type": "code",
   "execution_count": null,
   "metadata": {},
   "outputs": [],
   "source": [
    "class Solution:\n",
    "    def isOneBitCharacter(self, bits: List[int]) -> bool:\n",
    "        L=len(bits)\n",
    "        if L==1:\n",
    "            return True\n",
    "        elif L==2:\n",
    "            return False ## --> this is wrong\n",
    "        res=[None for _ in range(L+1)]\n",
    "        for idx in range(1,L+1):\n",
    "            if idx==1:\n",
    "                res[idx]=True\n",
    "            elif idx==2:\n",
    "                res[idx]=(bits[-2]==0)\n",
    "            else:\n",
    "                res[idx]=(bits[-idx]==1 and res[idx-2]) or (bits[-idx]==0 and res[idx-1])\n",
    "        return res[L]"
   ]
  },
  {
   "cell_type": "markdown",
   "metadata": {},
   "source": [
    "## Attempt 2 - Accepted"
   ]
  },
  {
   "cell_type": "code",
   "execution_count": null,
   "metadata": {},
   "outputs": [],
   "source": [
    "class Solution:\n",
    "    def isOneBitCharacter(self, bits: List[int]) -> bool:\n",
    "        L=len(bits)\n",
    "        if L==1:\n",
    "            return True\n",
    "        res=[None for _ in range(L+1)]\n",
    "        for idx in range(1,L+1):\n",
    "            if idx==1:\n",
    "                res[idx]=True\n",
    "            elif idx==2:\n",
    "                res[idx]=(bits[-2]==0)\n",
    "            else:\n",
    "                res[idx]=(bits[-idx]==1 and res[idx-2]) or (bits[-idx]==0 and res[idx-1])\n",
    "        return res[L]"
   ]
  },
  {
   "cell_type": "markdown",
   "metadata": {},
   "source": [
    "## Lessons and Thoughts\n",
    "- Be careful about the initial condition in DP!"
   ]
  }
 ],
 "metadata": {
  "kernelspec": {
   "display_name": "Python 3",
   "language": "python",
   "name": "python3"
  },
  "language_info": {
   "codemirror_mode": {
    "name": "ipython",
    "version": 3
   },
   "file_extension": ".py",
   "mimetype": "text/x-python",
   "name": "python",
   "nbconvert_exporter": "python",
   "pygments_lexer": "ipython3",
   "version": "3.7.3"
  }
 },
 "nbformat": 4,
 "nbformat_minor": 2
}
