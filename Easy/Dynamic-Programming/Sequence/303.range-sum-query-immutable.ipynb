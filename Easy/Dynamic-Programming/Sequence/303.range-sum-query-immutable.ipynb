{
 "cells": [
  {
   "cell_type": "markdown",
   "metadata": {},
   "source": [
    "## Attempt 1 - Accepted"
   ]
  },
  {
   "cell_type": "code",
   "execution_count": null,
   "metadata": {},
   "outputs": [],
   "source": [
    "class NumArray:\n",
    "\n",
    "    def __init__(self, nums: List[int]):\n",
    "        self.L=len(nums)\n",
    "        self.sums=[sum(nums[:idx+1]) for idx in range(self.L)]\n",
    "\n",
    "    def sumRange(self, i: int, j: int) -> int:\n",
    "        if i==0:\n",
    "            return self.sums[max(min(j, self.L-1), 0)]\n",
    "        else:\n",
    "            return self.sums[max(min(j, self.L-1), 0)]-self.sums[max(min(i-1, self.L-1), 0)]\n",
    "\n",
    "\n",
    "# Your NumArray object will be instantiated and called as such:\n",
    "# obj = NumArray(nums)\n",
    "# param_1 = obj.sumRange(i,j)"
   ]
  },
  {
   "cell_type": "markdown",
   "metadata": {},
   "source": [
    "## Lessons and Thoughts\n",
    "- Cumulative sum idea - just need to set the indices right"
   ]
  }
 ],
 "metadata": {
  "kernelspec": {
   "display_name": "Python 3",
   "language": "python",
   "name": "python3"
  },
  "language_info": {
   "codemirror_mode": {
    "name": "ipython",
    "version": 3
   },
   "file_extension": ".py",
   "mimetype": "text/x-python",
   "name": "python",
   "nbconvert_exporter": "python",
   "pygments_lexer": "ipython3",
   "version": "3.7.3"
  }
 },
 "nbformat": 4,
 "nbformat_minor": 2
}
