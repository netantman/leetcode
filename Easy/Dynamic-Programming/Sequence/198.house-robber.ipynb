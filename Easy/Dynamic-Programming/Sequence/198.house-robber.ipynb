{
 "cells": [
  {
   "cell_type": "markdown",
   "metadata": {},
   "source": [
    "## Attempt 1 - Accepted"
   ]
  },
  {
   "cell_type": "code",
   "execution_count": null,
   "metadata": {},
   "outputs": [],
   "source": [
    "class Solution:\n",
    "    def rob(self, nums: List[int]) -> int:\n",
    "        if len(nums)<1:\n",
    "            return 0\n",
    "        if len(nums)==1:\n",
    "            return nums[0]\n",
    "        if len(nums)==2:\n",
    "            return max(nums)\n",
    "        \n",
    "        L=len(nums)\n",
    "        res=[None for l in range(L)]\n",
    "        res[0]=nums[0]\n",
    "        res[1]=max(nums[0], nums[1])\n",
    "        for idx in range(2, L):\n",
    "            res[idx]=max(res[idx-1], res[idx-2]+nums[idx])\n",
    "        return res[-1]"
   ]
  },
  {
   "cell_type": "markdown",
   "metadata": {},
   "source": [
    "## Attempt 2 - Accepted"
   ]
  },
  {
   "cell_type": "code",
   "execution_count": null,
   "metadata": {},
   "outputs": [],
   "source": [
    "class Solution:\n",
    "    def rob(self, nums: List[int]) -> int:\n",
    "        L = len(nums)\n",
    "        if L == 1:\n",
    "            return nums[0]\n",
    "        maxx = [0 for _ in range(L)]\n",
    "        rob_this = [0 for _ in range(L)]\n",
    "        maxx[0], rob_this[0] = nums[0], nums[0]\n",
    "        maxx[1], rob_this[1] = max(nums[0], nums[1]), nums[1]\n",
    "        for idx in range(2, L):\n",
    "            rob_this[idx] = nums[idx] + maxx[idx - 2]\n",
    "            maxx[idx] = max(rob_this[idx], maxx[idx - 1])\n",
    "        return maxx[-1]"
   ]
  },
  {
   "cell_type": "markdown",
   "metadata": {},
   "source": [
    "## Attempt 3 - Accepted"
   ]
  },
  {
   "cell_type": "code",
   "execution_count": null,
   "metadata": {},
   "outputs": [],
   "source": [
    "class Solution {\n",
    "public:\n",
    "    int rob(vector<int>& nums) {\n",
    "        int L = nums.size();\n",
    "        if (L == 1) {\n",
    "            return nums[0];\n",
    "        }\n",
    "        vector<int> dp(L); ## --> initialize a vector of size L\n",
    "        dp[0] = nums[0];\n",
    "        dp[1] = max(nums[0], nums[1]);\n",
    "        \n",
    "        for(int idx=2; idx<L; idx++) {\n",
    "            dp[idx] = max(dp[idx-1], dp[idx-2] + nums[idx]);    \n",
    "        }\n",
    "        \n",
    "        return dp.back();\n",
    "    }\n",
    "};"
   ]
  },
  {
   "cell_type": "markdown",
   "metadata": {},
   "source": [
    "## Lessons and Thoughts\n",
    "- Just be careful about the edge cases: `nums` has 0-2 elements.\n",
    "- Attempt 2 is actually an overkill."
   ]
  }
 ],
 "metadata": {
  "kernelspec": {
   "display_name": "Python 3",
   "language": "python",
   "name": "python3"
  },
  "language_info": {
   "codemirror_mode": {
    "name": "ipython",
    "version": 3
   },
   "file_extension": ".py",
   "mimetype": "text/x-python",
   "name": "python",
   "nbconvert_exporter": "python",
   "pygments_lexer": "ipython3",
   "version": "3.6.5"
  }
 },
 "nbformat": 4,
 "nbformat_minor": 2
}
