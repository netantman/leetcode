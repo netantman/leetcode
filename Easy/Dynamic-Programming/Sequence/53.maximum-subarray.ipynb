{
 "cells": [
  {
   "cell_type": "markdown",
   "metadata": {},
   "source": [
    "## Attempt 1 - Accepted"
   ]
  },
  {
   "cell_type": "code",
   "execution_count": null,
   "metadata": {},
   "outputs": [],
   "source": [
    "class Solution:\n",
    "    def maxSubArray(self, nums: List[int]) -> int:\n",
    "        if len(nums)<1:\n",
    "            return -2147483648\n",
    "        \n",
    "        attach, overall=None, None\n",
    "        len_nums=len(nums)\n",
    "        for idx in range(len_nums):\n",
    "            if attach is None:\n",
    "                attach=nums[0]\n",
    "                overall=nums[0]\n",
    "            else:\n",
    "                attach=max(attach+nums[idx], nums[idx])\n",
    "                overall=max(overall, attach)\n",
    "        \n",
    "        return overall"
   ]
  },
  {
   "cell_type": "markdown",
   "metadata": {},
   "source": [
    "## Attempt 2 - Accepted"
   ]
  },
  {
   "cell_type": "code",
   "execution_count": null,
   "metadata": {},
   "outputs": [],
   "source": [
    "class Solution:\n",
    "    def maxSubArray(self, nums: List[int]) -> int:\n",
    "        dp = [nums[0]]\n",
    "        for n in nums[1:]:\n",
    "            dp.append(max(n, dp[-1] + n))\n",
    "        return max(dp)"
   ]
  },
  {
   "cell_type": "markdown",
   "metadata": {},
   "source": [
    "## Lessons and Thoughts\n",
    "- This should be the so-called divide-and-conquer algo, of `O(n)`.\n",
    "- But actually this is just a simple sequence dp; see Attempt 2."
   ]
  }
 ],
 "metadata": {
  "kernelspec": {
   "display_name": "Python 3",
   "language": "python",
   "name": "python3"
  },
  "language_info": {
   "codemirror_mode": {
    "name": "ipython",
    "version": 3
   },
   "file_extension": ".py",
   "mimetype": "text/x-python",
   "name": "python",
   "nbconvert_exporter": "python",
   "pygments_lexer": "ipython3",
   "version": "3.7.3"
  }
 },
 "nbformat": 4,
 "nbformat_minor": 2
}
