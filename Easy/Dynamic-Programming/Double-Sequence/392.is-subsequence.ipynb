{
 "cells": [
  {
   "cell_type": "markdown",
   "metadata": {},
   "source": [
    "## Attempt 1 - Runtime Error"
   ]
  },
  {
   "cell_type": "code",
   "execution_count": null,
   "metadata": {},
   "outputs": [],
   "source": [
    "class Solution:\n",
    "    def isSubsequence(self, s: str, t: str) -> bool:\n",
    "        if len(s)<1:\n",
    "            return True\n",
    "        if len(t)<1:\n",
    "            return False\n",
    "        \n",
    "        res=dict()\n",
    "        for i in range(1,len(s)+1):\n",
    "            for j in range(1,len(t)+1):\n",
    "                s1=s[:i]\n",
    "                t1=t[:j]\n",
    "                if i==1:\n",
    "                    res[(i,j)]=(s1 in t1)\n",
    "                if j==1:  ## --> should be an elif here\n",
    "                    res[(i,j)]=(s1==t1)\n",
    "                else:\n",
    "                    res[(i,j)]=res[(i,j-1)]\n",
    "                    if s[i-1]==t[j-1]:\n",
    "                        res[(i,j)]|=res[(i-1,j-1)]\n",
    "        return res[(len(s), len(t))]"
   ]
  },
  {
   "cell_type": "markdown",
   "metadata": {},
   "source": [
    "## Attempt 2 - Accepted"
   ]
  },
  {
   "cell_type": "code",
   "execution_count": null,
   "metadata": {},
   "outputs": [],
   "source": [
    "class Solution:\n",
    "    def isSubsequence(self, s: str, t: str) -> bool:\n",
    "        if len(s)<1:\n",
    "            return True\n",
    "        if len(t)<1:\n",
    "            return False\n",
    "        \n",
    "        res=dict()\n",
    "        for i in range(1,len(s)+1):\n",
    "            for j in range(1,len(t)+1):\n",
    "                s1=s[:i]\n",
    "                t1=t[:j]\n",
    "                if i==1:\n",
    "                    res[(i,j)]=(s1 in t1)\n",
    "                elif j==1:\n",
    "                    res[(i,j)]=(s1==t1)\n",
    "                else:\n",
    "                    res[(i,j)]=res[(i,j-1)]\n",
    "                    if s[i-1]==t[j-1]:\n",
    "                        res[(i,j)]|=res[(i-1,j-1)]\n",
    "        return res[(len(s), len(t))]"
   ]
  },
  {
   "cell_type": "markdown",
   "metadata": {},
   "source": [
    "## Lessons and Thoughts\n",
    "- Small things can trip you up. Try to get into the habit of abusing `elif`."
   ]
  }
 ],
 "metadata": {
  "kernelspec": {
   "display_name": "Python 3",
   "language": "python",
   "name": "python3"
  },
  "language_info": {
   "codemirror_mode": {
    "name": "ipython",
    "version": 3
   },
   "file_extension": ".py",
   "mimetype": "text/x-python",
   "name": "python",
   "nbconvert_exporter": "python",
   "pygments_lexer": "ipython3",
   "version": "3.7.3"
  }
 },
 "nbformat": 4,
 "nbformat_minor": 2
}
